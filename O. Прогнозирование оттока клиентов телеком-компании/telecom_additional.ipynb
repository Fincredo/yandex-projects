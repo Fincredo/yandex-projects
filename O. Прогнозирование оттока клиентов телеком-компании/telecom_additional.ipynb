{
 "cells": [
  {
   "cell_type": "markdown",
   "metadata": {},
   "source": [
    "# Телеком: отток клиентов (дополнительное исследование)"
   ]
  },
  {
   "cell_type": "markdown",
   "metadata": {
    "toc": true
   },
   "source": [
    "<h1>Содержание<span class=\"tocSkip\"></span></h1>\n",
    "<div class=\"toc\"><ul class=\"toc-item\"><li><span><a href=\"#Описание\" data-toc-modified-id=\"Описание-1\"><span class=\"toc-item-num\">1&nbsp;&nbsp;</span>Описание</a></span></li><li><span><a href=\"#Изучение-данных\" data-toc-modified-id=\"Изучение-данных-2\"><span class=\"toc-item-num\">2&nbsp;&nbsp;</span>Изучение данных</a></span><ul class=\"toc-item\"><li><span><a href=\"#Таблица-&quot;contract&quot;\" data-toc-modified-id=\"Таблица-&quot;contract&quot;-2.1\"><span class=\"toc-item-num\">2.1&nbsp;&nbsp;</span>Таблица \"contract\"</a></span></li><li><span><a href=\"#Таблица-&quot;personal&quot;\" data-toc-modified-id=\"Таблица-&quot;personal&quot;-2.2\"><span class=\"toc-item-num\">2.2&nbsp;&nbsp;</span>Таблица \"personal\"</a></span></li><li><span><a href=\"#Таблица-&quot;internet&quot;\" data-toc-modified-id=\"Таблица-&quot;internet&quot;-2.3\"><span class=\"toc-item-num\">2.3&nbsp;&nbsp;</span>Таблица \"internet\"</a></span></li><li><span><a href=\"#Таблица-&quot;phone&quot;\" data-toc-modified-id=\"Таблица-&quot;phone&quot;-2.4\"><span class=\"toc-item-num\">2.4&nbsp;&nbsp;</span>Таблица \"phone\"</a></span></li><li><span><a href=\"#Выводы\" data-toc-modified-id=\"Выводы-2.5\"><span class=\"toc-item-num\">2.5&nbsp;&nbsp;</span>Выводы</a></span></li></ul></li><li><span><a href=\"#Предобработка-данных\" data-toc-modified-id=\"Предобработка-данных-3\"><span class=\"toc-item-num\">3&nbsp;&nbsp;</span>Предобработка данных</a></span><ul class=\"toc-item\"><li><span><a href=\"#Объединение-таблиц-и-переименование-столбцов\" data-toc-modified-id=\"Объединение-таблиц-и-переименование-столбцов-3.1\"><span class=\"toc-item-num\">3.1&nbsp;&nbsp;</span>Объединение таблиц и переименование столбцов</a></span></li><li><span><a href=\"#Добавление-столбцов-и-изменение-типов-данных\" data-toc-modified-id=\"Добавление-столбцов-и-изменение-типов-данных-3.2\"><span class=\"toc-item-num\">3.2&nbsp;&nbsp;</span>Добавление столбцов и изменение типов данных</a></span></li><li><span><a href=\"#Обработка-пропусков\" data-toc-modified-id=\"Обработка-пропусков-3.3\"><span class=\"toc-item-num\">3.3&nbsp;&nbsp;</span>Обработка пропусков</a></span></li><li><span><a href=\"#Итоги\" data-toc-modified-id=\"Итоги-3.4\"><span class=\"toc-item-num\">3.4&nbsp;&nbsp;</span>Итоги</a></span></li></ul></li><li><span><a href=\"#Дополнительное-исследование\" data-toc-modified-id=\"Дополнительное-исследование-4\"><span class=\"toc-item-num\">4&nbsp;&nbsp;</span>Дополнительное исследование</a></span><ul class=\"toc-item\"><li><span><a href=\"#Распределение-по-ежемесячным-платежам\" data-toc-modified-id=\"Распределение-по-ежемесячным-платежам-4.1\"><span class=\"toc-item-num\">4.1&nbsp;&nbsp;</span>Распределение по ежемесячным платежам</a></span></li><li><span><a href=\"#Распределение-по-видам-услуг\" data-toc-modified-id=\"Распределение-по-видам-услуг-4.2\"><span class=\"toc-item-num\">4.2&nbsp;&nbsp;</span>Распределение по видам услуг</a></span></li><li><span><a href=\"#Выводы-по-дополнительному-исследованию\" data-toc-modified-id=\"Выводы-по-дополнительному-исследованию-4.3\"><span class=\"toc-item-num\">4.3&nbsp;&nbsp;</span>Выводы по дополнительному исследованию</a></span></li></ul></li></ul></div>"
   ]
  },
  {
   "cell_type": "markdown",
   "metadata": {},
   "source": [
    "## Описание"
   ]
  },
  {
   "cell_type": "markdown",
   "metadata": {},
   "source": [
    "Оператор связи «Ниединогоразрыва.ком» хочет научиться прогнозировать отток клиентов. Если выяснится, что пользователь планирует уйти, ему будут предложены промокоды и специальные условия. Для исследования предоставлены персональные данные о некоторых клиентах, информация об их тарифах и договорах. Сведения актуальны на 1 февраля 2020.\n",
    "\n",
    "Оператор предоставляет два основных типа услуг: \n",
    "1. Стационарную телефонную связь. Возможно подключение телефонного аппарата к нескольким линиям одновременно.\n",
    "2. Интернет. Подключение может быть двух типов: через телефонную линию или оптоволоконный кабель.  \n",
    "\n",
    "Также доступны дополнительные услуги: Интернет-безопасность: антивирус и блокировка небезопасных сайтов; выделенная линия технической поддержки; облачное хранилище файлов для резервного копирования данных; стриминговое телевидение и каталог фильмов.\n",
    "\n",
    "Клиенты могут оплачивать услуги каждый месяц или заключить договор на 1–2 года. Доступны различные способы расчёта и возможность получения электронного чека.\n",
    "\n"
   ]
  },
  {
   "cell_type": "markdown",
   "metadata": {},
   "source": [
    "*Дополнительное исследование*\n",
    "\n",
    "Пока создаётся модель прогнозирования оттока клиентов, отдел маркетинга «Ниединогоразрыва.ком» приступает к проработке способов их удержания. Необходимо собрать нужную для этого информацию.\n",
    "\n",
    "1. Сравнить распределения величин ежемесячных платежей (MonthlyCharges) всех клиентов и тех, кто ушёл. \n",
    "\n",
    "    1.1. Для каждой группы посчитать статистики: средние, минимальные и максимальные значения, медиану и величины 25%- и 75%-квартилей. \n",
    "    1.2. Построить гистограммы распределения.\n",
    "\n",
    "\n",
    "2. Сравнить поведение клиентов этих двух групп. Для каждой построить два любых графика, изображающих:\n",
    "- долю пользователей телефонной связи;\n",
    "- долю интернет-пользователей."
   ]
  },
  {
   "cell_type": "markdown",
   "metadata": {},
   "source": [
    "## Изучение данных"
   ]
  },
  {
   "cell_type": "markdown",
   "metadata": {},
   "source": [
    "Для начала импортируем нужные библиотеки и откроем файлы с данными. Исследуем каждый отдельно."
   ]
  },
  {
   "cell_type": "code",
   "execution_count": 1,
   "metadata": {},
   "outputs": [],
   "source": [
    "# Импортируем необходимые для работы библиотеки.\n",
    "\n",
    "import pandas as pd\n",
    "import numpy as np\n",
    "import matplotlib.pyplot as plt\n",
    "import seaborn as sns\n",
    "import re"
   ]
  },
  {
   "cell_type": "code",
   "execution_count": 2,
   "metadata": {},
   "outputs": [],
   "source": [
    "# Открываем csv-файлы с таблицами и сохраняем в соответствующих переменных.\n",
    "\n",
    "try:\n",
    "    contract = pd.read_csv('/datasets/final_provider/contract.csv')\n",
    "    personal = pd.read_csv('/datasets/final_provider/personal.csv')\n",
    "    internet = pd.read_csv('/datasets/final_provider/internet.csv')\n",
    "    phone = pd.read_csv('/datasets/final_provider/phone.csv')\n",
    "except:\n",
    "    try:\n",
    "        contract = pd.read_csv('datasets/final_provider/contract.csv')\n",
    "        personal = pd.read_csv('datasets/final_provider/personal.csv')\n",
    "        internet = pd.read_csv('datasets/final_provider/internet.csv')\n",
    "        phone = pd.read_csv('datasets/final_provider/phone.csv')\n",
    "    except:\n",
    "        print('Проверьте путь к файлу.')"
   ]
  },
  {
   "cell_type": "markdown",
   "metadata": {},
   "source": [
    "### Таблица \"contract\""
   ]
  },
  {
   "cell_type": "code",
   "execution_count": 3,
   "metadata": {},
   "outputs": [
    {
     "data": {
      "text/html": [
       "<div>\n",
       "<style scoped>\n",
       "    .dataframe tbody tr th:only-of-type {\n",
       "        vertical-align: middle;\n",
       "    }\n",
       "\n",
       "    .dataframe tbody tr th {\n",
       "        vertical-align: top;\n",
       "    }\n",
       "\n",
       "    .dataframe thead th {\n",
       "        text-align: right;\n",
       "    }\n",
       "</style>\n",
       "<table border=\"1\" class=\"dataframe\">\n",
       "  <thead>\n",
       "    <tr style=\"text-align: right;\">\n",
       "      <th></th>\n",
       "      <th>customerID</th>\n",
       "      <th>BeginDate</th>\n",
       "      <th>EndDate</th>\n",
       "      <th>Type</th>\n",
       "      <th>PaperlessBilling</th>\n",
       "      <th>PaymentMethod</th>\n",
       "      <th>MonthlyCharges</th>\n",
       "      <th>TotalCharges</th>\n",
       "    </tr>\n",
       "  </thead>\n",
       "  <tbody>\n",
       "    <tr>\n",
       "      <th>0</th>\n",
       "      <td>7590-VHVEG</td>\n",
       "      <td>2020-01-01</td>\n",
       "      <td>No</td>\n",
       "      <td>Month-to-month</td>\n",
       "      <td>Yes</td>\n",
       "      <td>Electronic check</td>\n",
       "      <td>29.85</td>\n",
       "      <td>29.85</td>\n",
       "    </tr>\n",
       "    <tr>\n",
       "      <th>1</th>\n",
       "      <td>5575-GNVDE</td>\n",
       "      <td>2017-04-01</td>\n",
       "      <td>No</td>\n",
       "      <td>One year</td>\n",
       "      <td>No</td>\n",
       "      <td>Mailed check</td>\n",
       "      <td>56.95</td>\n",
       "      <td>1889.5</td>\n",
       "    </tr>\n",
       "    <tr>\n",
       "      <th>2</th>\n",
       "      <td>3668-QPYBK</td>\n",
       "      <td>2019-10-01</td>\n",
       "      <td>2019-12-01 00:00:00</td>\n",
       "      <td>Month-to-month</td>\n",
       "      <td>Yes</td>\n",
       "      <td>Mailed check</td>\n",
       "      <td>53.85</td>\n",
       "      <td>108.15</td>\n",
       "    </tr>\n",
       "    <tr>\n",
       "      <th>3</th>\n",
       "      <td>7795-CFOCW</td>\n",
       "      <td>2016-05-01</td>\n",
       "      <td>No</td>\n",
       "      <td>One year</td>\n",
       "      <td>No</td>\n",
       "      <td>Bank transfer (automatic)</td>\n",
       "      <td>42.30</td>\n",
       "      <td>1840.75</td>\n",
       "    </tr>\n",
       "    <tr>\n",
       "      <th>4</th>\n",
       "      <td>9237-HQITU</td>\n",
       "      <td>2019-09-01</td>\n",
       "      <td>2019-11-01 00:00:00</td>\n",
       "      <td>Month-to-month</td>\n",
       "      <td>Yes</td>\n",
       "      <td>Electronic check</td>\n",
       "      <td>70.70</td>\n",
       "      <td>151.65</td>\n",
       "    </tr>\n",
       "  </tbody>\n",
       "</table>\n",
       "</div>"
      ],
      "text/plain": [
       "   customerID   BeginDate              EndDate            Type  \\\n",
       "0  7590-VHVEG  2020-01-01                   No  Month-to-month   \n",
       "1  5575-GNVDE  2017-04-01                   No        One year   \n",
       "2  3668-QPYBK  2019-10-01  2019-12-01 00:00:00  Month-to-month   \n",
       "3  7795-CFOCW  2016-05-01                   No        One year   \n",
       "4  9237-HQITU  2019-09-01  2019-11-01 00:00:00  Month-to-month   \n",
       "\n",
       "  PaperlessBilling              PaymentMethod  MonthlyCharges TotalCharges  \n",
       "0              Yes           Electronic check           29.85        29.85  \n",
       "1               No               Mailed check           56.95       1889.5  \n",
       "2              Yes               Mailed check           53.85       108.15  \n",
       "3               No  Bank transfer (automatic)           42.30      1840.75  \n",
       "4              Yes           Electronic check           70.70       151.65  "
      ]
     },
     "execution_count": 3,
     "metadata": {},
     "output_type": "execute_result"
    }
   ],
   "source": [
    "# Просматриваем первые строки датафрейма.\n",
    "\n",
    "contract.head()"
   ]
  },
  {
   "cell_type": "code",
   "execution_count": 4,
   "metadata": {},
   "outputs": [
    {
     "name": "stdout",
     "output_type": "stream",
     "text": [
      "<class 'pandas.core.frame.DataFrame'>\n",
      "RangeIndex: 7043 entries, 0 to 7042\n",
      "Data columns (total 8 columns):\n",
      " #   Column            Non-Null Count  Dtype  \n",
      "---  ------            --------------  -----  \n",
      " 0   customerID        7043 non-null   object \n",
      " 1   BeginDate         7043 non-null   object \n",
      " 2   EndDate           7043 non-null   object \n",
      " 3   Type              7043 non-null   object \n",
      " 4   PaperlessBilling  7043 non-null   object \n",
      " 5   PaymentMethod     7043 non-null   object \n",
      " 6   MonthlyCharges    7043 non-null   float64\n",
      " 7   TotalCharges      7043 non-null   object \n",
      "dtypes: float64(1), object(7)\n",
      "memory usage: 440.3+ KB\n"
     ]
    }
   ],
   "source": [
    "# Просматриваем общую информацию о датафрейме.\n",
    "\n",
    "contract.info()"
   ]
  },
  {
   "cell_type": "code",
   "execution_count": 5,
   "metadata": {},
   "outputs": [
    {
     "data": {
      "text/plain": [
       "7043"
      ]
     },
     "execution_count": 5,
     "metadata": {},
     "output_type": "execute_result"
    }
   ],
   "source": [
    "# Проверяем количество уникальных значений в столбце 'customerID'.\n",
    "\n",
    "contract['customerID'].value_counts().sum()"
   ]
  },
  {
   "cell_type": "markdown",
   "metadata": {},
   "source": [
    "Полных дубликатов в датафрейме нет. Проверим, есть ли дубликаты среди остальных столбцов, кроме `customerID`."
   ]
  },
  {
   "cell_type": "code",
   "execution_count": 6,
   "metadata": {},
   "outputs": [
    {
     "name": "stdout",
     "output_type": "stream",
     "text": [
      "Количество дубликатов: 45\n",
      "Доля дубликатов: 0.006389322731790431\n"
     ]
    }
   ],
   "source": [
    "# Проверяем на наличие дубликатов без учета ID абонента.\n",
    "\n",
    "print('Количество дубликатов:', contract[contract.columns[1:]].duplicated().sum())\n",
    "print('Доля дубликатов:', contract[contract.columns[1:]].duplicated().mean())"
   ]
  },
  {
   "cell_type": "markdown",
   "metadata": {},
   "source": [
    "Доля совпадающих строк незначительна, похоже на простое совпадение."
   ]
  },
  {
   "cell_type": "code",
   "execution_count": 7,
   "metadata": {},
   "outputs": [
    {
     "name": "stdout",
     "output_type": "stream",
     "text": [
      "Type\n",
      "Month-to-month    0.550192\n",
      "Two year          0.240664\n",
      "One year          0.209144\n",
      "Name: Type, dtype: float64\n",
      "\n",
      "PaperlessBilling\n",
      "Yes    0.592219\n",
      "No     0.407781\n",
      "Name: PaperlessBilling, dtype: float64\n",
      "\n",
      "PaymentMethod\n",
      "Electronic check             0.335794\n",
      "Mailed check                 0.228880\n",
      "Bank transfer (automatic)    0.219225\n",
      "Credit card (automatic)      0.216101\n",
      "Name: PaymentMethod, dtype: float64\n",
      "\n"
     ]
    }
   ],
   "source": [
    "# Просматриваем уникальные значения в столбцах 'Type', 'PaperlessBilling', 'PaymentMethod'.\n",
    "\n",
    "for column in ['Type', 'PaperlessBilling', 'PaymentMethod']:\n",
    "    print(column)\n",
    "    print(contract[column].value_counts(normalize=True))\n",
    "    print()"
   ]
  },
  {
   "cell_type": "code",
   "execution_count": 8,
   "metadata": {},
   "outputs": [
    {
     "data": {
      "text/html": [
       "<div>\n",
       "<style scoped>\n",
       "    .dataframe tbody tr th:only-of-type {\n",
       "        vertical-align: middle;\n",
       "    }\n",
       "\n",
       "    .dataframe tbody tr th {\n",
       "        vertical-align: top;\n",
       "    }\n",
       "\n",
       "    .dataframe thead th {\n",
       "        text-align: right;\n",
       "    }\n",
       "</style>\n",
       "<table border=\"1\" class=\"dataframe\">\n",
       "  <thead>\n",
       "    <tr style=\"text-align: right;\">\n",
       "      <th></th>\n",
       "      <th>MonthlyCharges</th>\n",
       "    </tr>\n",
       "  </thead>\n",
       "  <tbody>\n",
       "    <tr>\n",
       "      <th>count</th>\n",
       "      <td>7043.000000</td>\n",
       "    </tr>\n",
       "    <tr>\n",
       "      <th>mean</th>\n",
       "      <td>64.761692</td>\n",
       "    </tr>\n",
       "    <tr>\n",
       "      <th>std</th>\n",
       "      <td>30.090047</td>\n",
       "    </tr>\n",
       "    <tr>\n",
       "      <th>min</th>\n",
       "      <td>18.250000</td>\n",
       "    </tr>\n",
       "    <tr>\n",
       "      <th>25%</th>\n",
       "      <td>35.500000</td>\n",
       "    </tr>\n",
       "    <tr>\n",
       "      <th>50%</th>\n",
       "      <td>70.350000</td>\n",
       "    </tr>\n",
       "    <tr>\n",
       "      <th>75%</th>\n",
       "      <td>89.850000</td>\n",
       "    </tr>\n",
       "    <tr>\n",
       "      <th>max</th>\n",
       "      <td>118.750000</td>\n",
       "    </tr>\n",
       "  </tbody>\n",
       "</table>\n",
       "</div>"
      ],
      "text/plain": [
       "       MonthlyCharges\n",
       "count     7043.000000\n",
       "mean        64.761692\n",
       "std         30.090047\n",
       "min         18.250000\n",
       "25%         35.500000\n",
       "50%         70.350000\n",
       "75%         89.850000\n",
       "max        118.750000"
      ]
     },
     "execution_count": 8,
     "metadata": {},
     "output_type": "execute_result"
    }
   ],
   "source": [
    "# Просматриваем статистические характеристики количественных данных.\n",
    "\n",
    "contract.describe()"
   ]
  },
  {
   "cell_type": "code",
   "execution_count": 9,
   "metadata": {},
   "outputs": [
    {
     "data": {
      "image/png": "[encoded data removed]",
      "text/plain": [
       "<Figure size 432x288 with 1 Axes>"
      ]
     },
     "metadata": {
      "needs_background": "light"
     },
     "output_type": "display_data"
    }
   ],
   "source": [
    "# Изучаем распределение среднемесячных платежей.\n",
    "\n",
    "contract['MonthlyCharges'].hist(bins=25)\n",
    "plt.title(\"Среднемесячные платежи\")\n",
    "plt.xlabel('Сумма')\n",
    "plt.ylabel('Частота')\n",
    "plt.show()"
   ]
  },
  {
   "cell_type": "markdown",
   "metadata": {},
   "source": [
    "### Таблица \"personal\""
   ]
  },
  {
   "cell_type": "code",
   "execution_count": 10,
   "metadata": {},
   "outputs": [
    {
     "data": {
      "text/html": [
       "<div>\n",
       "<style scoped>\n",
       "    .dataframe tbody tr th:only-of-type {\n",
       "        vertical-align: middle;\n",
       "    }\n",
       "\n",
       "    .dataframe tbody tr th {\n",
       "        vertical-align: top;\n",
       "    }\n",
       "\n",
       "    .dataframe thead th {\n",
       "        text-align: right;\n",
       "    }\n",
       "</style>\n",
       "<table border=\"1\" class=\"dataframe\">\n",
       "  <thead>\n",
       "    <tr style=\"text-align: right;\">\n",
       "      <th></th>\n",
       "      <th>customerID</th>\n",
       "      <th>gender</th>\n",
       "      <th>SeniorCitizen</th>\n",
       "      <th>Partner</th>\n",
       "      <th>Dependents</th>\n",
       "    </tr>\n",
       "  </thead>\n",
       "  <tbody>\n",
       "    <tr>\n",
       "      <th>0</th>\n",
       "      <td>7590-VHVEG</td>\n",
       "      <td>Female</td>\n",
       "      <td>0</td>\n",
       "      <td>Yes</td>\n",
       "      <td>No</td>\n",
       "    </tr>\n",
       "    <tr>\n",
       "      <th>1</th>\n",
       "      <td>5575-GNVDE</td>\n",
       "      <td>Male</td>\n",
       "      <td>0</td>\n",
       "      <td>No</td>\n",
       "      <td>No</td>\n",
       "    </tr>\n",
       "    <tr>\n",
       "      <th>2</th>\n",
       "      <td>3668-QPYBK</td>\n",
       "      <td>Male</td>\n",
       "      <td>0</td>\n",
       "      <td>No</td>\n",
       "      <td>No</td>\n",
       "    </tr>\n",
       "    <tr>\n",
       "      <th>3</th>\n",
       "      <td>7795-CFOCW</td>\n",
       "      <td>Male</td>\n",
       "      <td>0</td>\n",
       "      <td>No</td>\n",
       "      <td>No</td>\n",
       "    </tr>\n",
       "    <tr>\n",
       "      <th>4</th>\n",
       "      <td>9237-HQITU</td>\n",
       "      <td>Female</td>\n",
       "      <td>0</td>\n",
       "      <td>No</td>\n",
       "      <td>No</td>\n",
       "    </tr>\n",
       "  </tbody>\n",
       "</table>\n",
       "</div>"
      ],
      "text/plain": [
       "   customerID  gender  SeniorCitizen Partner Dependents\n",
       "0  7590-VHVEG  Female              0     Yes         No\n",
       "1  5575-GNVDE    Male              0      No         No\n",
       "2  3668-QPYBK    Male              0      No         No\n",
       "3  7795-CFOCW    Male              0      No         No\n",
       "4  9237-HQITU  Female              0      No         No"
      ]
     },
     "execution_count": 10,
     "metadata": {},
     "output_type": "execute_result"
    }
   ],
   "source": [
    "# Просматриваем первые строки датафрейма.\n",
    "\n",
    "personal.head()"
   ]
  },
  {
   "cell_type": "code",
   "execution_count": 11,
   "metadata": {},
   "outputs": [
    {
     "name": "stdout",
     "output_type": "stream",
     "text": [
      "<class 'pandas.core.frame.DataFrame'>\n",
      "RangeIndex: 7043 entries, 0 to 7042\n",
      "Data columns (total 5 columns):\n",
      " #   Column         Non-Null Count  Dtype \n",
      "---  ------         --------------  ----- \n",
      " 0   customerID     7043 non-null   object\n",
      " 1   gender         7043 non-null   object\n",
      " 2   SeniorCitizen  7043 non-null   int64 \n",
      " 3   Partner        7043 non-null   object\n",
      " 4   Dependents     7043 non-null   object\n",
      "dtypes: int64(1), object(4)\n",
      "memory usage: 275.2+ KB\n"
     ]
    }
   ],
   "source": [
    "# Просматриваем общую информацию о датафрейме.\n",
    "\n",
    "personal.info()"
   ]
  },
  {
   "cell_type": "code",
   "execution_count": 12,
   "metadata": {
    "scrolled": true
   },
   "outputs": [
    {
     "data": {
      "text/plain": [
       "7043"
      ]
     },
     "execution_count": 12,
     "metadata": {},
     "output_type": "execute_result"
    }
   ],
   "source": [
    "# Проверяем количество уникальных значений в столбце 'customerID'.\n",
    "\n",
    "personal['customerID'].value_counts().sum()"
   ]
  },
  {
   "cell_type": "code",
   "execution_count": 13,
   "metadata": {},
   "outputs": [
    {
     "data": {
      "text/plain": [
       "7043"
      ]
     },
     "execution_count": 13,
     "metadata": {},
     "output_type": "execute_result"
    }
   ],
   "source": [
    "# Проверяем на совпадение идентификаторов в таблицах \"contract\" и \"personal\".\n",
    "\n",
    "(contract['customerID'].value_counts() \n",
    " == personal['customerID'].value_counts()\n",
    ").sum()"
   ]
  },
  {
   "cell_type": "markdown",
   "metadata": {},
   "source": [
    "Как видим, идентификаторы полностью совпадают."
   ]
  },
  {
   "cell_type": "code",
   "execution_count": 14,
   "metadata": {},
   "outputs": [
    {
     "name": "stdout",
     "output_type": "stream",
     "text": [
      "gender\n",
      "Male      0.504756\n",
      "Female    0.495244\n",
      "Name: gender, dtype: float64\n",
      "\n",
      "SeniorCitizen\n",
      "0    0.837853\n",
      "1    0.162147\n",
      "Name: SeniorCitizen, dtype: float64\n",
      "\n",
      "Partner\n",
      "No     0.516967\n",
      "Yes    0.483033\n",
      "Name: Partner, dtype: float64\n",
      "\n",
      "Dependents\n",
      "No     0.700412\n",
      "Yes    0.299588\n",
      "Name: Dependents, dtype: float64\n",
      "\n"
     ]
    }
   ],
   "source": [
    "# Просматриваем уникальные значения во всех столбцах, кроме 'customerID'.\n",
    "\n",
    "for column in personal.columns[1:]:\n",
    "    print(column)\n",
    "    print(personal[column].value_counts(normalize=True))\n",
    "    print()"
   ]
  },
  {
   "cell_type": "markdown",
   "metadata": {},
   "source": [
    "### Таблица \"internet\""
   ]
  },
  {
   "cell_type": "code",
   "execution_count": 15,
   "metadata": {},
   "outputs": [
    {
     "data": {
      "text/html": [
       "<div>\n",
       "<style scoped>\n",
       "    .dataframe tbody tr th:only-of-type {\n",
       "        vertical-align: middle;\n",
       "    }\n",
       "\n",
       "    .dataframe tbody tr th {\n",
       "        vertical-align: top;\n",
       "    }\n",
       "\n",
       "    .dataframe thead th {\n",
       "        text-align: right;\n",
       "    }\n",
       "</style>\n",
       "<table border=\"1\" class=\"dataframe\">\n",
       "  <thead>\n",
       "    <tr style=\"text-align: right;\">\n",
       "      <th></th>\n",
       "      <th>customerID</th>\n",
       "      <th>InternetService</th>\n",
       "      <th>OnlineSecurity</th>\n",
       "      <th>OnlineBackup</th>\n",
       "      <th>DeviceProtection</th>\n",
       "      <th>TechSupport</th>\n",
       "      <th>StreamingTV</th>\n",
       "      <th>StreamingMovies</th>\n",
       "    </tr>\n",
       "  </thead>\n",
       "  <tbody>\n",
       "    <tr>\n",
       "      <th>0</th>\n",
       "      <td>7590-VHVEG</td>\n",
       "      <td>DSL</td>\n",
       "      <td>No</td>\n",
       "      <td>Yes</td>\n",
       "      <td>No</td>\n",
       "      <td>No</td>\n",
       "      <td>No</td>\n",
       "      <td>No</td>\n",
       "    </tr>\n",
       "    <tr>\n",
       "      <th>1</th>\n",
       "      <td>5575-GNVDE</td>\n",
       "      <td>DSL</td>\n",
       "      <td>Yes</td>\n",
       "      <td>No</td>\n",
       "      <td>Yes</td>\n",
       "      <td>No</td>\n",
       "      <td>No</td>\n",
       "      <td>No</td>\n",
       "    </tr>\n",
       "    <tr>\n",
       "      <th>2</th>\n",
       "      <td>3668-QPYBK</td>\n",
       "      <td>DSL</td>\n",
       "      <td>Yes</td>\n",
       "      <td>Yes</td>\n",
       "      <td>No</td>\n",
       "      <td>No</td>\n",
       "      <td>No</td>\n",
       "      <td>No</td>\n",
       "    </tr>\n",
       "    <tr>\n",
       "      <th>3</th>\n",
       "      <td>7795-CFOCW</td>\n",
       "      <td>DSL</td>\n",
       "      <td>Yes</td>\n",
       "      <td>No</td>\n",
       "      <td>Yes</td>\n",
       "      <td>Yes</td>\n",
       "      <td>No</td>\n",
       "      <td>No</td>\n",
       "    </tr>\n",
       "    <tr>\n",
       "      <th>4</th>\n",
       "      <td>9237-HQITU</td>\n",
       "      <td>Fiber optic</td>\n",
       "      <td>No</td>\n",
       "      <td>No</td>\n",
       "      <td>No</td>\n",
       "      <td>No</td>\n",
       "      <td>No</td>\n",
       "      <td>No</td>\n",
       "    </tr>\n",
       "  </tbody>\n",
       "</table>\n",
       "</div>"
      ],
      "text/plain": [
       "   customerID InternetService OnlineSecurity OnlineBackup DeviceProtection  \\\n",
       "0  7590-VHVEG             DSL             No          Yes               No   \n",
       "1  5575-GNVDE             DSL            Yes           No              Yes   \n",
       "2  3668-QPYBK             DSL            Yes          Yes               No   \n",
       "3  7795-CFOCW             DSL            Yes           No              Yes   \n",
       "4  9237-HQITU     Fiber optic             No           No               No   \n",
       "\n",
       "  TechSupport StreamingTV StreamingMovies  \n",
       "0          No          No              No  \n",
       "1          No          No              No  \n",
       "2          No          No              No  \n",
       "3         Yes          No              No  \n",
       "4          No          No              No  "
      ]
     },
     "execution_count": 15,
     "metadata": {},
     "output_type": "execute_result"
    }
   ],
   "source": [
    "# Просматриваем первые строки датафрейма.\n",
    "\n",
    "internet.head()"
   ]
  },
  {
   "cell_type": "code",
   "execution_count": 16,
   "metadata": {
    "scrolled": true
   },
   "outputs": [
    {
     "name": "stdout",
     "output_type": "stream",
     "text": [
      "<class 'pandas.core.frame.DataFrame'>\n",
      "RangeIndex: 5517 entries, 0 to 5516\n",
      "Data columns (total 8 columns):\n",
      " #   Column            Non-Null Count  Dtype \n",
      "---  ------            --------------  ----- \n",
      " 0   customerID        5517 non-null   object\n",
      " 1   InternetService   5517 non-null   object\n",
      " 2   OnlineSecurity    5517 non-null   object\n",
      " 3   OnlineBackup      5517 non-null   object\n",
      " 4   DeviceProtection  5517 non-null   object\n",
      " 5   TechSupport       5517 non-null   object\n",
      " 6   StreamingTV       5517 non-null   object\n",
      " 7   StreamingMovies   5517 non-null   object\n",
      "dtypes: object(8)\n",
      "memory usage: 344.9+ KB\n"
     ]
    }
   ],
   "source": [
    "# Просматриваем общую информацию о датафрейме.\n",
    "\n",
    "internet.info()"
   ]
  },
  {
   "cell_type": "code",
   "execution_count": 17,
   "metadata": {},
   "outputs": [
    {
     "data": {
      "text/plain": [
       "5517"
      ]
     },
     "execution_count": 17,
     "metadata": {},
     "output_type": "execute_result"
    }
   ],
   "source": [
    "# Проверяем количество уникальных значений в столбце 'customerID'.\n",
    "\n",
    "internet['customerID'].value_counts().sum()"
   ]
  },
  {
   "cell_type": "code",
   "execution_count": 18,
   "metadata": {},
   "outputs": [
    {
     "name": "stdout",
     "output_type": "stream",
     "text": [
      "InternetService\n",
      "Fiber optic    0.561175\n",
      "DSL            0.438825\n",
      "Name: InternetService, dtype: float64\n",
      "\n",
      "OnlineSecurity\n",
      "No     0.63404\n",
      "Yes    0.36596\n",
      "Name: OnlineSecurity, dtype: float64\n",
      "\n",
      "OnlineBackup\n",
      "No     0.559724\n",
      "Yes    0.440276\n",
      "Name: OnlineBackup, dtype: float64\n",
      "\n",
      "DeviceProtection\n",
      "No     0.560993\n",
      "Yes    0.439007\n",
      "Name: DeviceProtection, dtype: float64\n",
      "\n",
      "TechSupport\n",
      "No     0.629509\n",
      "Yes    0.370491\n",
      "Name: TechSupport, dtype: float64\n",
      "\n",
      "StreamingTV\n",
      "No     0.509335\n",
      "Yes    0.490665\n",
      "Name: StreamingTV, dtype: float64\n",
      "\n",
      "StreamingMovies\n",
      "No     0.504803\n",
      "Yes    0.495197\n",
      "Name: StreamingMovies, dtype: float64\n",
      "\n"
     ]
    }
   ],
   "source": [
    "# Просматриваем уникальные значения во всех столбцах, кроме 'customerID'.\n",
    "\n",
    "for column in internet.columns[1:]:\n",
    "    print(column)\n",
    "    print(internet[column].value_counts(normalize=True))\n",
    "    print()"
   ]
  },
  {
   "cell_type": "markdown",
   "metadata": {},
   "source": [
    "### Таблица \"phone\""
   ]
  },
  {
   "cell_type": "code",
   "execution_count": 19,
   "metadata": {},
   "outputs": [
    {
     "data": {
      "text/html": [
       "<div>\n",
       "<style scoped>\n",
       "    .dataframe tbody tr th:only-of-type {\n",
       "        vertical-align: middle;\n",
       "    }\n",
       "\n",
       "    .dataframe tbody tr th {\n",
       "        vertical-align: top;\n",
       "    }\n",
       "\n",
       "    .dataframe thead th {\n",
       "        text-align: right;\n",
       "    }\n",
       "</style>\n",
       "<table border=\"1\" class=\"dataframe\">\n",
       "  <thead>\n",
       "    <tr style=\"text-align: right;\">\n",
       "      <th></th>\n",
       "      <th>customerID</th>\n",
       "      <th>MultipleLines</th>\n",
       "    </tr>\n",
       "  </thead>\n",
       "  <tbody>\n",
       "    <tr>\n",
       "      <th>0</th>\n",
       "      <td>5575-GNVDE</td>\n",
       "      <td>No</td>\n",
       "    </tr>\n",
       "    <tr>\n",
       "      <th>1</th>\n",
       "      <td>3668-QPYBK</td>\n",
       "      <td>No</td>\n",
       "    </tr>\n",
       "    <tr>\n",
       "      <th>2</th>\n",
       "      <td>9237-HQITU</td>\n",
       "      <td>No</td>\n",
       "    </tr>\n",
       "    <tr>\n",
       "      <th>3</th>\n",
       "      <td>9305-CDSKC</td>\n",
       "      <td>Yes</td>\n",
       "    </tr>\n",
       "    <tr>\n",
       "      <th>4</th>\n",
       "      <td>1452-KIOVK</td>\n",
       "      <td>Yes</td>\n",
       "    </tr>\n",
       "  </tbody>\n",
       "</table>\n",
       "</div>"
      ],
      "text/plain": [
       "   customerID MultipleLines\n",
       "0  5575-GNVDE            No\n",
       "1  3668-QPYBK            No\n",
       "2  9237-HQITU            No\n",
       "3  9305-CDSKC           Yes\n",
       "4  1452-KIOVK           Yes"
      ]
     },
     "execution_count": 19,
     "metadata": {},
     "output_type": "execute_result"
    }
   ],
   "source": [
    "# Просматриваем первые строки датафрейма.\n",
    "\n",
    "phone.head()"
   ]
  },
  {
   "cell_type": "code",
   "execution_count": 20,
   "metadata": {},
   "outputs": [
    {
     "name": "stdout",
     "output_type": "stream",
     "text": [
      "<class 'pandas.core.frame.DataFrame'>\n",
      "RangeIndex: 6361 entries, 0 to 6360\n",
      "Data columns (total 2 columns):\n",
      " #   Column         Non-Null Count  Dtype \n",
      "---  ------         --------------  ----- \n",
      " 0   customerID     6361 non-null   object\n",
      " 1   MultipleLines  6361 non-null   object\n",
      "dtypes: object(2)\n",
      "memory usage: 99.5+ KB\n"
     ]
    }
   ],
   "source": [
    "# Просматриваем общую информацию о датафрейме.\n",
    "\n",
    "phone.info()"
   ]
  },
  {
   "cell_type": "code",
   "execution_count": 21,
   "metadata": {},
   "outputs": [
    {
     "data": {
      "text/plain": [
       "6361"
      ]
     },
     "execution_count": 21,
     "metadata": {},
     "output_type": "execute_result"
    }
   ],
   "source": [
    "# Проверяем количество уникальных значений в столбце 'customerID'.\n",
    "\n",
    "phone['customerID'].value_counts().sum()"
   ]
  },
  {
   "cell_type": "code",
   "execution_count": 22,
   "metadata": {},
   "outputs": [
    {
     "data": {
      "text/plain": [
       "No     0.532935\n",
       "Yes    0.467065\n",
       "Name: MultipleLines, dtype: float64"
      ]
     },
     "execution_count": 22,
     "metadata": {},
     "output_type": "execute_result"
    }
   ],
   "source": [
    "# Просматриваем уникальные значения в столбце 'MultipleLines'.\n",
    "\n",
    "phone['MultipleLines'].value_counts(normalize=True)"
   ]
  },
  {
   "cell_type": "markdown",
   "metadata": {},
   "source": [
    "### Выводы"
   ]
  },
  {
   "cell_type": "markdown",
   "metadata": {},
   "source": [
    "Для исследования предоставлено 4 таблицы: `contract`, `personal`, `internet` и `phone`. В ходе предварительного изучения данных выявлено следующее:\n",
    "\n",
    "1. Таблица `contract`.\n",
    "\n",
    "    1.1. Датафрейм состоит из 7043 строк и следующих 8 столбцов:\n",
    "        customerID - идентификатор абонента;\n",
    "        BeginDate - дата заключения договора обслуживания;\n",
    "        EndDate\t- дата расторжения договора обслуживания;\n",
    "        Type - тип договора (по периодичности платежей);\n",
    "        PaperlessBilling - способ получения счета на оплату;\n",
    "        PaymentMethod - способ платежа;\n",
    "        MonthlyCharges - среднемесячный платеж;\n",
    "        TotalCharges - суммарный платеж.\n",
    "        \n",
    "    1.2. Тип данных во всех столбцах, кроме 'MonthlyCharges', - *object*. У последнего - *float*.\n",
    "    \n",
    "    1.3. Столбец 'customerID' содержит коды из 4 цифр, дефиса и 5 заглавных букв, и присутствует во всех четырех таблицах. Данный столбец содержит 7043 уникальных идентификатора, что указывает на то, что каждому абоненту соответствует один договор.\n",
    "    \n",
    "    1.4. Столбцы 'BeginDate' и 'EndDate' содержат, соответственно, данные о дате и дате со временем (либо пометку \"No\", если договор не расторгнут). Их тип целесообразно сменить на *datetime*.\n",
    "    \n",
    "    1.5. Столбцы 'Type', 'PaperlessBilling' и 'PaymentMethod' содержат категориальные признаки. В столбце 'Type' имеется 3 уникальных значения: помесячная (55% случаев), годичная (24%) и двухгодичная (21%) оплата. Значения в 'PaperlessBilling' (получение счета в электронном виде) представлены в 2 вариантах: да (59.2%) и нет (40.8%). Способов оплаты ('PaymentMethod') всего 4: электронным чеком (33.6%), почтовым чеком (22.9%), списанием с банковского счета (21.9%), списанием с кредитной карты (21.6%).\n",
    "    \n",
    "    1.6. Столбцы 'MonthlyCharges' и 'TotalCharges' содержат количественные признаки.\n",
    "    \n",
    "    1.7. Без учета столбца с ID, в таблице имеется 45 дубликатов, или около 0.6%, что вполне можно списать на простое совпадение.\n",
    "    \n",
    "    1.8. В статистиках количественных признаков (а конкретно, данных столбца 'MonthlyCharges') аномалий нет, все характеристики находятся в пределах нормы. Для исследования статистик столбца 'TotalCharges' тип его данных необходимо сначала сменить на *float*.\n",
    "    \n",
    "    1.9. Распределение среднемесячных платежей имеет две вершины: высокую - в районе 20 у.е. (1200 случаев, или 17%) и умеренную - в районе 80 у.е. Распределение суммаржных платежей, очевидно, имеет похожий график, однако, скорее всего, оно более близко к нормальному. Если оба эти признака будут иметь высокую корреляцию, то от одного из них нужно будет избавляться. В этом случае лишним будет именно столбец суммарными платежами, поскольку он содержит признак, производный от других (среднемесячные платежи и длительность обслуживания), который сам по себе не является показателем, характеризующим абонента.\n",
    "\n",
    "\n",
    "2. Таблица `personal`.\n",
    "\n",
    "    2.1. Датафрейм состоит из 7043 строк и следующих 5 столбцов:\n",
    "        customerID - идентификатор абонента;\n",
    "        gender - пол абонента;\n",
    "        SeniorCitizen - наличие статуса пенсионера;\n",
    "        Partner - наличие супруги/супруга;\n",
    "        Dependents - наличие иждивенцев.\n",
    "        \n",
    "    2.2. Тип данных во всех столбцах, кроме 'SeniorCitizen', - *object*. У последнего - *int*.\n",
    "    \n",
    "    2.3. Столбец 'customerID' содержит 7043 уникальных идентификатора, как и в таблице \"contract\". При этом идентификаторы в двух таблицах полностью совпадают.\n",
    "    \n",
    "    2.4. Остальные столбцы содержат категориальные признаки. В столбце 'gender' имеется 2 уникальных значения: мужской (50.5% случаев) и женский (49.5%). Значения в 'SeniorCitizen' представлены в 2 вариантах: 0 (83.8%) и 1 (16.2%). Такие же бинарные признаки, только в виде \"No\" и \"Yes\", содержатся в столбцах 'Partner' (51.7% и 48.3%, соответственно) и 'Dependents' (70% и 30%).\n",
    "\n",
    "\n",
    "3. Таблица `internet`.\n",
    "\n",
    "    3.1. Датафрейм состоит из 5517 строк и следующих 8 столбцов:\n",
    "        customerID - идентификатор абонента;\n",
    "        InternetService - тип подключения к интернету;\n",
    "        OnlineSecurity - наличие блокировки небезопасных сайтов; \n",
    "        OnlineBackup - наличие облачного хранилища файлов;\n",
    "        DeviceProtection - наличие антивируса;\n",
    "        TechSupport - наличие выделенной линии техподдержки;\n",
    "        StreamingTV - наличие стримингового телевидения;\n",
    "        StreamingMovies - наличие каталога фильмов.\n",
    "        \n",
    "    3.2. Тип данных во всех столбцах - *object*.\n",
    "    \n",
    "    3.3. Столбец 'customerID' содержит 5517 уникальных идентификатора.\n",
    "    \n",
    "    3.4. Остальные столбцы содержат категориальные признаки. В столбце 'InternetService' имеется 2 уникальных значения: \"Fiber optic\" (56.1% случаев) и \"DSL\" (43.9%). Такие же бинарные признаки, только в виде \"No\" (от 50.5% до 63.4%) и \"Yes\" (от 36.6% до 49.5%), содержатся во всех остальных столбцах.\n",
    "\n",
    "\n",
    "4. Таблица `phone`.\n",
    "\n",
    "    4.1. Датафрейм состоит из 6361 строки и следующих 2 столбцов:\n",
    "        customerID - идентификатор абонента;\n",
    "        MultipleLines - наличие более одной телефонной линии.\n",
    "        \n",
    "    4.2. Тип данных в обоих столбцах - *object*.\n",
    "    \n",
    "    4.3. Столбец 'customerID' содержит 6361 уникальный идентификатор.\n",
    "    \n",
    "    4.4. Столбец 'MultipleLines' содержит категориальный (бинарный) признак со значениями \"No\" (53.3%) и \"Yes\" (46.7%).\n",
    "    \n",
    "    \n",
    "5. В целом по таблицам стоит отметить несколько моментов.\n",
    "\n",
    "    5.1. Названия столбцов указаны в \"верблюжьем\" регистре, их для удобства следует перевести в \"змеиный\".\n",
    "    \n",
    "    5.2. Пропущенных значений в датафреймах не обнаружено. Но это необходимо будет перепроверить при обработке.\n",
    "    \n",
    "    5.3. Из уникальности идентификаторов абонентов следует, что среди строк полных дубликатов нет.\n",
    "    \n",
    "    5.4. Таблицы необходимо объединить по столбцу 'customerID' и сделать его значения индексами. \n",
    "    \n",
    "    5.5. Для возможности обучения модели нужно выделить целевой признак, для чего целесообразно добавить новый столбец с бинарными значениями (1 - договор расторгнут, 0 - договор не расторгнут). \n",
    "    \n",
    "    5.6. Помимо имеющегося столбца с датой расторжения договора правильнее будет создать также столбец с продолжительностью обслуживания абонента в днях.\n",
    "    \n",
    "    5.7. Для эффективного обучения различных моделей к категориальным признакам целесообразно применить кодирование методом OHE."
   ]
  },
  {
   "cell_type": "markdown",
   "metadata": {},
   "source": [
    "## Предобработка данных"
   ]
  },
  {
   "cell_type": "markdown",
   "metadata": {},
   "source": [
    "### Объединение таблиц и переименование столбцов"
   ]
  },
  {
   "cell_type": "markdown",
   "metadata": {},
   "source": [
    "Объединим все четыре таблицы в одну по столбцу `customerID`, сменим регистр в названиях столбцов, а также удалим общий столбец с идентификатором абонента, сделав его значения индексами строк."
   ]
  },
  {
   "cell_type": "code",
   "execution_count": 23,
   "metadata": {},
   "outputs": [],
   "source": [
    "# Объединяем таблицы.\n",
    "\n",
    "df = (contract\n",
    "      .merge(personal, how='left', on='customerID')\n",
    "      .merge(internet, how='left', on='customerID')\n",
    "      .merge(phone, how='left', on='customerID'))"
   ]
  },
  {
   "cell_type": "code",
   "execution_count": 24,
   "metadata": {
    "scrolled": false
   },
   "outputs": [
    {
     "data": {
      "text/plain": [
       "Index(['customer_id', 'begin_date', 'end_date', 'type', 'paperless_billing',\n",
       "       'payment_method', 'monthly_charges', 'total_charges', 'gender',\n",
       "       'senior_citizen', 'partner', 'dependents', 'internet_service',\n",
       "       'online_security', 'online_backup', 'device_protection', 'tech_support',\n",
       "       'streaming_tv', 'streaming_movies', 'multiple_lines'],\n",
       "      dtype='object')"
      ]
     },
     "execution_count": 24,
     "metadata": {},
     "output_type": "execute_result"
    }
   ],
   "source": [
    "# Переводим названия столбцов из \"верблюжьего\" регистра в \"змеиный\".\n",
    "# Просматриваем обновленный список индексов.\n",
    "\n",
    "for col in df.columns:\n",
    "    c = list(col)\n",
    "    [c.insert(x+1,'_') for x in [y.start() for y in re.finditer('[a-z][A-Z]', col)]]\n",
    "    df = df.rename(columns={col: ''.join(c).lower()})\n",
    "\n",
    "df.columns"
   ]
  },
  {
   "cell_type": "code",
   "execution_count": 25,
   "metadata": {
    "scrolled": true
   },
   "outputs": [
    {
     "data": {
      "text/html": [
       "<div>\n",
       "<style scoped>\n",
       "    .dataframe tbody tr th:only-of-type {\n",
       "        vertical-align: middle;\n",
       "    }\n",
       "\n",
       "    .dataframe tbody tr th {\n",
       "        vertical-align: top;\n",
       "    }\n",
       "\n",
       "    .dataframe thead th {\n",
       "        text-align: right;\n",
       "    }\n",
       "</style>\n",
       "<table border=\"1\" class=\"dataframe\">\n",
       "  <thead>\n",
       "    <tr style=\"text-align: right;\">\n",
       "      <th></th>\n",
       "      <th>begin_date</th>\n",
       "      <th>end_date</th>\n",
       "      <th>type</th>\n",
       "      <th>paperless_billing</th>\n",
       "      <th>payment_method</th>\n",
       "      <th>monthly_charges</th>\n",
       "      <th>total_charges</th>\n",
       "      <th>gender</th>\n",
       "      <th>senior_citizen</th>\n",
       "      <th>partner</th>\n",
       "      <th>dependents</th>\n",
       "      <th>internet_service</th>\n",
       "      <th>online_security</th>\n",
       "      <th>online_backup</th>\n",
       "      <th>device_protection</th>\n",
       "      <th>tech_support</th>\n",
       "      <th>streaming_tv</th>\n",
       "      <th>streaming_movies</th>\n",
       "      <th>multiple_lines</th>\n",
       "    </tr>\n",
       "    <tr>\n",
       "      <th>customer_id</th>\n",
       "      <th></th>\n",
       "      <th></th>\n",
       "      <th></th>\n",
       "      <th></th>\n",
       "      <th></th>\n",
       "      <th></th>\n",
       "      <th></th>\n",
       "      <th></th>\n",
       "      <th></th>\n",
       "      <th></th>\n",
       "      <th></th>\n",
       "      <th></th>\n",
       "      <th></th>\n",
       "      <th></th>\n",
       "      <th></th>\n",
       "      <th></th>\n",
       "      <th></th>\n",
       "      <th></th>\n",
       "      <th></th>\n",
       "    </tr>\n",
       "  </thead>\n",
       "  <tbody>\n",
       "    <tr>\n",
       "      <th>7590-VHVEG</th>\n",
       "      <td>2020-01-01</td>\n",
       "      <td>No</td>\n",
       "      <td>Month-to-month</td>\n",
       "      <td>Yes</td>\n",
       "      <td>Electronic check</td>\n",
       "      <td>29.85</td>\n",
       "      <td>29.85</td>\n",
       "      <td>Female</td>\n",
       "      <td>0</td>\n",
       "      <td>Yes</td>\n",
       "      <td>No</td>\n",
       "      <td>DSL</td>\n",
       "      <td>No</td>\n",
       "      <td>Yes</td>\n",
       "      <td>No</td>\n",
       "      <td>No</td>\n",
       "      <td>No</td>\n",
       "      <td>No</td>\n",
       "      <td>NaN</td>\n",
       "    </tr>\n",
       "    <tr>\n",
       "      <th>5575-GNVDE</th>\n",
       "      <td>2017-04-01</td>\n",
       "      <td>No</td>\n",
       "      <td>One year</td>\n",
       "      <td>No</td>\n",
       "      <td>Mailed check</td>\n",
       "      <td>56.95</td>\n",
       "      <td>1889.5</td>\n",
       "      <td>Male</td>\n",
       "      <td>0</td>\n",
       "      <td>No</td>\n",
       "      <td>No</td>\n",
       "      <td>DSL</td>\n",
       "      <td>Yes</td>\n",
       "      <td>No</td>\n",
       "      <td>Yes</td>\n",
       "      <td>No</td>\n",
       "      <td>No</td>\n",
       "      <td>No</td>\n",
       "      <td>No</td>\n",
       "    </tr>\n",
       "    <tr>\n",
       "      <th>3668-QPYBK</th>\n",
       "      <td>2019-10-01</td>\n",
       "      <td>2019-12-01 00:00:00</td>\n",
       "      <td>Month-to-month</td>\n",
       "      <td>Yes</td>\n",
       "      <td>Mailed check</td>\n",
       "      <td>53.85</td>\n",
       "      <td>108.15</td>\n",
       "      <td>Male</td>\n",
       "      <td>0</td>\n",
       "      <td>No</td>\n",
       "      <td>No</td>\n",
       "      <td>DSL</td>\n",
       "      <td>Yes</td>\n",
       "      <td>Yes</td>\n",
       "      <td>No</td>\n",
       "      <td>No</td>\n",
       "      <td>No</td>\n",
       "      <td>No</td>\n",
       "      <td>No</td>\n",
       "    </tr>\n",
       "    <tr>\n",
       "      <th>7795-CFOCW</th>\n",
       "      <td>2016-05-01</td>\n",
       "      <td>No</td>\n",
       "      <td>One year</td>\n",
       "      <td>No</td>\n",
       "      <td>Bank transfer (automatic)</td>\n",
       "      <td>42.30</td>\n",
       "      <td>1840.75</td>\n",
       "      <td>Male</td>\n",
       "      <td>0</td>\n",
       "      <td>No</td>\n",
       "      <td>No</td>\n",
       "      <td>DSL</td>\n",
       "      <td>Yes</td>\n",
       "      <td>No</td>\n",
       "      <td>Yes</td>\n",
       "      <td>Yes</td>\n",
       "      <td>No</td>\n",
       "      <td>No</td>\n",
       "      <td>NaN</td>\n",
       "    </tr>\n",
       "    <tr>\n",
       "      <th>9237-HQITU</th>\n",
       "      <td>2019-09-01</td>\n",
       "      <td>2019-11-01 00:00:00</td>\n",
       "      <td>Month-to-month</td>\n",
       "      <td>Yes</td>\n",
       "      <td>Electronic check</td>\n",
       "      <td>70.70</td>\n",
       "      <td>151.65</td>\n",
       "      <td>Female</td>\n",
       "      <td>0</td>\n",
       "      <td>No</td>\n",
       "      <td>No</td>\n",
       "      <td>Fiber optic</td>\n",
       "      <td>No</td>\n",
       "      <td>No</td>\n",
       "      <td>No</td>\n",
       "      <td>No</td>\n",
       "      <td>No</td>\n",
       "      <td>No</td>\n",
       "      <td>No</td>\n",
       "    </tr>\n",
       "  </tbody>\n",
       "</table>\n",
       "</div>"
      ],
      "text/plain": [
       "             begin_date             end_date            type  \\\n",
       "customer_id                                                    \n",
       "7590-VHVEG   2020-01-01                   No  Month-to-month   \n",
       "5575-GNVDE   2017-04-01                   No        One year   \n",
       "3668-QPYBK   2019-10-01  2019-12-01 00:00:00  Month-to-month   \n",
       "7795-CFOCW   2016-05-01                   No        One year   \n",
       "9237-HQITU   2019-09-01  2019-11-01 00:00:00  Month-to-month   \n",
       "\n",
       "            paperless_billing             payment_method  monthly_charges  \\\n",
       "customer_id                                                                 \n",
       "7590-VHVEG                Yes           Electronic check            29.85   \n",
       "5575-GNVDE                 No               Mailed check            56.95   \n",
       "3668-QPYBK                Yes               Mailed check            53.85   \n",
       "7795-CFOCW                 No  Bank transfer (automatic)            42.30   \n",
       "9237-HQITU                Yes           Electronic check            70.70   \n",
       "\n",
       "            total_charges  gender  senior_citizen partner dependents  \\\n",
       "customer_id                                                            \n",
       "7590-VHVEG          29.85  Female               0     Yes         No   \n",
       "5575-GNVDE         1889.5    Male               0      No         No   \n",
       "3668-QPYBK         108.15    Male               0      No         No   \n",
       "7795-CFOCW        1840.75    Male               0      No         No   \n",
       "9237-HQITU         151.65  Female               0      No         No   \n",
       "\n",
       "            internet_service online_security online_backup device_protection  \\\n",
       "customer_id                                                                    \n",
       "7590-VHVEG               DSL              No           Yes                No   \n",
       "5575-GNVDE               DSL             Yes            No               Yes   \n",
       "3668-QPYBK               DSL             Yes           Yes                No   \n",
       "7795-CFOCW               DSL             Yes            No               Yes   \n",
       "9237-HQITU       Fiber optic              No            No                No   \n",
       "\n",
       "            tech_support streaming_tv streaming_movies multiple_lines  \n",
       "customer_id                                                            \n",
       "7590-VHVEG            No           No               No            NaN  \n",
       "5575-GNVDE            No           No               No             No  \n",
       "3668-QPYBK            No           No               No             No  \n",
       "7795-CFOCW           Yes           No               No            NaN  \n",
       "9237-HQITU            No           No               No             No  "
      ]
     },
     "execution_count": 25,
     "metadata": {},
     "output_type": "execute_result"
    }
   ],
   "source": [
    "# Устанавливаем в качестве индексов значения столбца 'customer_id'.\n",
    "# Просматриваем первые строки обновленного датафрейма.\n",
    "\n",
    "df = df.set_index('customer_id', drop=True)\n",
    "df.head()"
   ]
  },
  {
   "cell_type": "markdown",
   "metadata": {},
   "source": [
    "### Добавление столбцов и изменение типов данных"
   ]
  },
  {
   "cell_type": "markdown",
   "metadata": {},
   "source": [
    "Для целей исследования нам необходимо выделить целевой признак. Для этого создадим новый столбец, значения в котором будут составлять единицы и нули, соответствующие наличию или отсутствию факта ухода абонента. Данные для этого возьмем из столбца `end_date`."
   ]
  },
  {
   "cell_type": "code",
   "execution_count": 26,
   "metadata": {},
   "outputs": [],
   "source": [
    "# Добавляем столбец 'exited' с целевым признаком (факт ухода абонента).\n",
    "\n",
    "df['exited'] = (df['end_date'] != 'No').astype('int')"
   ]
  },
  {
   "cell_type": "markdown",
   "metadata": {},
   "source": [
    "Сменим тип данных в столбцах с датами заключения и расторжения договора на *datetime*. Значения \"No\" в столбце `end_date` заменим на последнюю дату - \"2020-02-01\". Добавим столбец с разницей между двумя датами - количеством дней обслуживания абонента."
   ]
  },
  {
   "cell_type": "code",
   "execution_count": 27,
   "metadata": {},
   "outputs": [],
   "source": [
    "# Меняем тип данных столбцов 'begin_date' и 'end_date' на datetime.\n",
    "# В столбце 'end_date' заменяем 'No' на дату '2020-02-01'.\n",
    "\n",
    "df['begin_date'] = pd.to_datetime(df['begin_date'], errors='coerce')\n",
    "df['end_date'] = pd.to_datetime(df['end_date'].replace({'No': '2020-02-01'}), errors='coerce')"
   ]
  },
  {
   "cell_type": "code",
   "execution_count": 28,
   "metadata": {},
   "outputs": [],
   "source": [
    "# Добавляем столбец 'days' с количеством дней обслуживания абонента.\n",
    "\n",
    "df.insert(2, 'days', (df['end_date'] - df['begin_date']))\n",
    "df['days'] = df['days'].dt.days"
   ]
  },
  {
   "cell_type": "markdown",
   "metadata": {},
   "source": [
    "Для отображения статистик по столбцу `total_charges` и возможности дальнейшей его обработки сменим тип данных в нем на числовой."
   ]
  },
  {
   "cell_type": "code",
   "execution_count": 29,
   "metadata": {},
   "outputs": [],
   "source": [
    "# Меняем тип данных столбца 'total_charges' на числовой.\n",
    "\n",
    "df['total_charges'] = pd.to_numeric(df['total_charges'], errors='coerce')"
   ]
  },
  {
   "cell_type": "code",
   "execution_count": 30,
   "metadata": {},
   "outputs": [
    {
     "data": {
      "text/html": [
       "<div>\n",
       "<style scoped>\n",
       "    .dataframe tbody tr th:only-of-type {\n",
       "        vertical-align: middle;\n",
       "    }\n",
       "\n",
       "    .dataframe tbody tr th {\n",
       "        vertical-align: top;\n",
       "    }\n",
       "\n",
       "    .dataframe thead th {\n",
       "        text-align: right;\n",
       "    }\n",
       "</style>\n",
       "<table border=\"1\" class=\"dataframe\">\n",
       "  <thead>\n",
       "    <tr style=\"text-align: right;\">\n",
       "      <th></th>\n",
       "      <th>begin_date</th>\n",
       "      <th>end_date</th>\n",
       "      <th>days</th>\n",
       "      <th>type</th>\n",
       "      <th>paperless_billing</th>\n",
       "      <th>payment_method</th>\n",
       "      <th>monthly_charges</th>\n",
       "      <th>total_charges</th>\n",
       "      <th>gender</th>\n",
       "      <th>senior_citizen</th>\n",
       "      <th>...</th>\n",
       "      <th>dependents</th>\n",
       "      <th>internet_service</th>\n",
       "      <th>online_security</th>\n",
       "      <th>online_backup</th>\n",
       "      <th>device_protection</th>\n",
       "      <th>tech_support</th>\n",
       "      <th>streaming_tv</th>\n",
       "      <th>streaming_movies</th>\n",
       "      <th>multiple_lines</th>\n",
       "      <th>exited</th>\n",
       "    </tr>\n",
       "    <tr>\n",
       "      <th>customer_id</th>\n",
       "      <th></th>\n",
       "      <th></th>\n",
       "      <th></th>\n",
       "      <th></th>\n",
       "      <th></th>\n",
       "      <th></th>\n",
       "      <th></th>\n",
       "      <th></th>\n",
       "      <th></th>\n",
       "      <th></th>\n",
       "      <th></th>\n",
       "      <th></th>\n",
       "      <th></th>\n",
       "      <th></th>\n",
       "      <th></th>\n",
       "      <th></th>\n",
       "      <th></th>\n",
       "      <th></th>\n",
       "      <th></th>\n",
       "      <th></th>\n",
       "      <th></th>\n",
       "    </tr>\n",
       "  </thead>\n",
       "  <tbody>\n",
       "    <tr>\n",
       "      <th>7590-VHVEG</th>\n",
       "      <td>2020-01-01</td>\n",
       "      <td>2020-02-01</td>\n",
       "      <td>31</td>\n",
       "      <td>Month-to-month</td>\n",
       "      <td>Yes</td>\n",
       "      <td>Electronic check</td>\n",
       "      <td>29.85</td>\n",
       "      <td>29.85</td>\n",
       "      <td>Female</td>\n",
       "      <td>0</td>\n",
       "      <td>...</td>\n",
       "      <td>No</td>\n",
       "      <td>DSL</td>\n",
       "      <td>No</td>\n",
       "      <td>Yes</td>\n",
       "      <td>No</td>\n",
       "      <td>No</td>\n",
       "      <td>No</td>\n",
       "      <td>No</td>\n",
       "      <td>NaN</td>\n",
       "      <td>0</td>\n",
       "    </tr>\n",
       "    <tr>\n",
       "      <th>5575-GNVDE</th>\n",
       "      <td>2017-04-01</td>\n",
       "      <td>2020-02-01</td>\n",
       "      <td>1036</td>\n",
       "      <td>One year</td>\n",
       "      <td>No</td>\n",
       "      <td>Mailed check</td>\n",
       "      <td>56.95</td>\n",
       "      <td>1889.50</td>\n",
       "      <td>Male</td>\n",
       "      <td>0</td>\n",
       "      <td>...</td>\n",
       "      <td>No</td>\n",
       "      <td>DSL</td>\n",
       "      <td>Yes</td>\n",
       "      <td>No</td>\n",
       "      <td>Yes</td>\n",
       "      <td>No</td>\n",
       "      <td>No</td>\n",
       "      <td>No</td>\n",
       "      <td>No</td>\n",
       "      <td>0</td>\n",
       "    </tr>\n",
       "    <tr>\n",
       "      <th>3668-QPYBK</th>\n",
       "      <td>2019-10-01</td>\n",
       "      <td>2019-12-01</td>\n",
       "      <td>61</td>\n",
       "      <td>Month-to-month</td>\n",
       "      <td>Yes</td>\n",
       "      <td>Mailed check</td>\n",
       "      <td>53.85</td>\n",
       "      <td>108.15</td>\n",
       "      <td>Male</td>\n",
       "      <td>0</td>\n",
       "      <td>...</td>\n",
       "      <td>No</td>\n",
       "      <td>DSL</td>\n",
       "      <td>Yes</td>\n",
       "      <td>Yes</td>\n",
       "      <td>No</td>\n",
       "      <td>No</td>\n",
       "      <td>No</td>\n",
       "      <td>No</td>\n",
       "      <td>No</td>\n",
       "      <td>1</td>\n",
       "    </tr>\n",
       "    <tr>\n",
       "      <th>7795-CFOCW</th>\n",
       "      <td>2016-05-01</td>\n",
       "      <td>2020-02-01</td>\n",
       "      <td>1371</td>\n",
       "      <td>One year</td>\n",
       "      <td>No</td>\n",
       "      <td>Bank transfer (automatic)</td>\n",
       "      <td>42.30</td>\n",
       "      <td>1840.75</td>\n",
       "      <td>Male</td>\n",
       "      <td>0</td>\n",
       "      <td>...</td>\n",
       "      <td>No</td>\n",
       "      <td>DSL</td>\n",
       "      <td>Yes</td>\n",
       "      <td>No</td>\n",
       "      <td>Yes</td>\n",
       "      <td>Yes</td>\n",
       "      <td>No</td>\n",
       "      <td>No</td>\n",
       "      <td>NaN</td>\n",
       "      <td>0</td>\n",
       "    </tr>\n",
       "    <tr>\n",
       "      <th>9237-HQITU</th>\n",
       "      <td>2019-09-01</td>\n",
       "      <td>2019-11-01</td>\n",
       "      <td>61</td>\n",
       "      <td>Month-to-month</td>\n",
       "      <td>Yes</td>\n",
       "      <td>Electronic check</td>\n",
       "      <td>70.70</td>\n",
       "      <td>151.65</td>\n",
       "      <td>Female</td>\n",
       "      <td>0</td>\n",
       "      <td>...</td>\n",
       "      <td>No</td>\n",
       "      <td>Fiber optic</td>\n",
       "      <td>No</td>\n",
       "      <td>No</td>\n",
       "      <td>No</td>\n",
       "      <td>No</td>\n",
       "      <td>No</td>\n",
       "      <td>No</td>\n",
       "      <td>No</td>\n",
       "      <td>1</td>\n",
       "    </tr>\n",
       "  </tbody>\n",
       "</table>\n",
       "<p>5 rows × 21 columns</p>\n",
       "</div>"
      ],
      "text/plain": [
       "            begin_date   end_date  days            type paperless_billing  \\\n",
       "customer_id                                                                 \n",
       "7590-VHVEG  2020-01-01 2020-02-01    31  Month-to-month               Yes   \n",
       "5575-GNVDE  2017-04-01 2020-02-01  1036        One year                No   \n",
       "3668-QPYBK  2019-10-01 2019-12-01    61  Month-to-month               Yes   \n",
       "7795-CFOCW  2016-05-01 2020-02-01  1371        One year                No   \n",
       "9237-HQITU  2019-09-01 2019-11-01    61  Month-to-month               Yes   \n",
       "\n",
       "                        payment_method  monthly_charges  total_charges  \\\n",
       "customer_id                                                              \n",
       "7590-VHVEG            Electronic check            29.85          29.85   \n",
       "5575-GNVDE                Mailed check            56.95        1889.50   \n",
       "3668-QPYBK                Mailed check            53.85         108.15   \n",
       "7795-CFOCW   Bank transfer (automatic)            42.30        1840.75   \n",
       "9237-HQITU            Electronic check            70.70         151.65   \n",
       "\n",
       "             gender  senior_citizen  ... dependents internet_service  \\\n",
       "customer_id                          ...                               \n",
       "7590-VHVEG   Female               0  ...         No              DSL   \n",
       "5575-GNVDE     Male               0  ...         No              DSL   \n",
       "3668-QPYBK     Male               0  ...         No              DSL   \n",
       "7795-CFOCW     Male               0  ...         No              DSL   \n",
       "9237-HQITU   Female               0  ...         No      Fiber optic   \n",
       "\n",
       "            online_security online_backup device_protection tech_support  \\\n",
       "customer_id                                                                \n",
       "7590-VHVEG               No           Yes                No           No   \n",
       "5575-GNVDE              Yes            No               Yes           No   \n",
       "3668-QPYBK              Yes           Yes                No           No   \n",
       "7795-CFOCW              Yes            No               Yes          Yes   \n",
       "9237-HQITU               No            No                No           No   \n",
       "\n",
       "            streaming_tv streaming_movies multiple_lines exited  \n",
       "customer_id                                                      \n",
       "7590-VHVEG            No               No            NaN      0  \n",
       "5575-GNVDE            No               No             No      0  \n",
       "3668-QPYBK            No               No             No      1  \n",
       "7795-CFOCW            No               No            NaN      0  \n",
       "9237-HQITU            No               No             No      1  \n",
       "\n",
       "[5 rows x 21 columns]"
      ]
     },
     "execution_count": 30,
     "metadata": {},
     "output_type": "execute_result"
    }
   ],
   "source": [
    "# Просматриваем первые строки обновленного датафрейма.\n",
    "\n",
    "df.head()"
   ]
  },
  {
   "cell_type": "code",
   "execution_count": 31,
   "metadata": {},
   "outputs": [
    {
     "name": "stdout",
     "output_type": "stream",
     "text": [
      "<class 'pandas.core.frame.DataFrame'>\n",
      "Index: 7043 entries, 7590-VHVEG to 3186-AJIEK\n",
      "Data columns (total 21 columns):\n",
      " #   Column             Non-Null Count  Dtype         \n",
      "---  ------             --------------  -----         \n",
      " 0   begin_date         7043 non-null   datetime64[ns]\n",
      " 1   end_date           7043 non-null   datetime64[ns]\n",
      " 2   days               7043 non-null   int64         \n",
      " 3   type               7043 non-null   object        \n",
      " 4   paperless_billing  7043 non-null   object        \n",
      " 5   payment_method     7043 non-null   object        \n",
      " 6   monthly_charges    7043 non-null   float64       \n",
      " 7   total_charges      7032 non-null   float64       \n",
      " 8   gender             7043 non-null   object        \n",
      " 9   senior_citizen     7043 non-null   int64         \n",
      " 10  partner            7043 non-null   object        \n",
      " 11  dependents         7043 non-null   object        \n",
      " 12  internet_service   5517 non-null   object        \n",
      " 13  online_security    5517 non-null   object        \n",
      " 14  online_backup      5517 non-null   object        \n",
      " 15  device_protection  5517 non-null   object        \n",
      " 16  tech_support       5517 non-null   object        \n",
      " 17  streaming_tv       5517 non-null   object        \n",
      " 18  streaming_movies   5517 non-null   object        \n",
      " 19  multiple_lines     6361 non-null   object        \n",
      " 20  exited             7043 non-null   int64         \n",
      "dtypes: datetime64[ns](2), float64(2), int64(3), object(14)\n",
      "memory usage: 1.2+ MB\n"
     ]
    }
   ],
   "source": [
    "# Просматриваем общую информацию об обновленном датафрейме.\n",
    "\n",
    "df.info()"
   ]
  },
  {
   "cell_type": "markdown",
   "metadata": {},
   "source": [
    "### Обработка пропусков"
   ]
  },
  {
   "cell_type": "markdown",
   "metadata": {},
   "source": [
    "В столбце с суммарными платежами появились пропуски. Просмотрим соответствующие строки."
   ]
  },
  {
   "cell_type": "code",
   "execution_count": 32,
   "metadata": {
    "scrolled": false
   },
   "outputs": [
    {
     "data": {
      "text/html": [
       "<div>\n",
       "<style scoped>\n",
       "    .dataframe tbody tr th:only-of-type {\n",
       "        vertical-align: middle;\n",
       "    }\n",
       "\n",
       "    .dataframe tbody tr th {\n",
       "        vertical-align: top;\n",
       "    }\n",
       "\n",
       "    .dataframe thead th {\n",
       "        text-align: right;\n",
       "    }\n",
       "</style>\n",
       "<table border=\"1\" class=\"dataframe\">\n",
       "  <thead>\n",
       "    <tr style=\"text-align: right;\">\n",
       "      <th></th>\n",
       "      <th>begin_date</th>\n",
       "      <th>end_date</th>\n",
       "      <th>days</th>\n",
       "      <th>type</th>\n",
       "      <th>paperless_billing</th>\n",
       "      <th>payment_method</th>\n",
       "      <th>monthly_charges</th>\n",
       "      <th>total_charges</th>\n",
       "      <th>gender</th>\n",
       "      <th>senior_citizen</th>\n",
       "      <th>...</th>\n",
       "      <th>dependents</th>\n",
       "      <th>internet_service</th>\n",
       "      <th>online_security</th>\n",
       "      <th>online_backup</th>\n",
       "      <th>device_protection</th>\n",
       "      <th>tech_support</th>\n",
       "      <th>streaming_tv</th>\n",
       "      <th>streaming_movies</th>\n",
       "      <th>multiple_lines</th>\n",
       "      <th>exited</th>\n",
       "    </tr>\n",
       "    <tr>\n",
       "      <th>customer_id</th>\n",
       "      <th></th>\n",
       "      <th></th>\n",
       "      <th></th>\n",
       "      <th></th>\n",
       "      <th></th>\n",
       "      <th></th>\n",
       "      <th></th>\n",
       "      <th></th>\n",
       "      <th></th>\n",
       "      <th></th>\n",
       "      <th></th>\n",
       "      <th></th>\n",
       "      <th></th>\n",
       "      <th></th>\n",
       "      <th></th>\n",
       "      <th></th>\n",
       "      <th></th>\n",
       "      <th></th>\n",
       "      <th></th>\n",
       "      <th></th>\n",
       "      <th></th>\n",
       "    </tr>\n",
       "  </thead>\n",
       "  <tbody>\n",
       "    <tr>\n",
       "      <th>4472-LVYGI</th>\n",
       "      <td>2020-02-01</td>\n",
       "      <td>2020-02-01</td>\n",
       "      <td>0</td>\n",
       "      <td>Two year</td>\n",
       "      <td>Yes</td>\n",
       "      <td>Bank transfer (automatic)</td>\n",
       "      <td>52.55</td>\n",
       "      <td>NaN</td>\n",
       "      <td>Female</td>\n",
       "      <td>0</td>\n",
       "      <td>...</td>\n",
       "      <td>Yes</td>\n",
       "      <td>DSL</td>\n",
       "      <td>Yes</td>\n",
       "      <td>No</td>\n",
       "      <td>Yes</td>\n",
       "      <td>Yes</td>\n",
       "      <td>Yes</td>\n",
       "      <td>No</td>\n",
       "      <td>NaN</td>\n",
       "      <td>0</td>\n",
       "    </tr>\n",
       "    <tr>\n",
       "      <th>3115-CZMZD</th>\n",
       "      <td>2020-02-01</td>\n",
       "      <td>2020-02-01</td>\n",
       "      <td>0</td>\n",
       "      <td>Two year</td>\n",
       "      <td>No</td>\n",
       "      <td>Mailed check</td>\n",
       "      <td>20.25</td>\n",
       "      <td>NaN</td>\n",
       "      <td>Male</td>\n",
       "      <td>0</td>\n",
       "      <td>...</td>\n",
       "      <td>Yes</td>\n",
       "      <td>NaN</td>\n",
       "      <td>NaN</td>\n",
       "      <td>NaN</td>\n",
       "      <td>NaN</td>\n",
       "      <td>NaN</td>\n",
       "      <td>NaN</td>\n",
       "      <td>NaN</td>\n",
       "      <td>No</td>\n",
       "      <td>0</td>\n",
       "    </tr>\n",
       "    <tr>\n",
       "      <th>5709-LVOEQ</th>\n",
       "      <td>2020-02-01</td>\n",
       "      <td>2020-02-01</td>\n",
       "      <td>0</td>\n",
       "      <td>Two year</td>\n",
       "      <td>No</td>\n",
       "      <td>Mailed check</td>\n",
       "      <td>80.85</td>\n",
       "      <td>NaN</td>\n",
       "      <td>Female</td>\n",
       "      <td>0</td>\n",
       "      <td>...</td>\n",
       "      <td>Yes</td>\n",
       "      <td>DSL</td>\n",
       "      <td>Yes</td>\n",
       "      <td>Yes</td>\n",
       "      <td>Yes</td>\n",
       "      <td>No</td>\n",
       "      <td>Yes</td>\n",
       "      <td>Yes</td>\n",
       "      <td>No</td>\n",
       "      <td>0</td>\n",
       "    </tr>\n",
       "    <tr>\n",
       "      <th>4367-NUYAO</th>\n",
       "      <td>2020-02-01</td>\n",
       "      <td>2020-02-01</td>\n",
       "      <td>0</td>\n",
       "      <td>Two year</td>\n",
       "      <td>No</td>\n",
       "      <td>Mailed check</td>\n",
       "      <td>25.75</td>\n",
       "      <td>NaN</td>\n",
       "      <td>Male</td>\n",
       "      <td>0</td>\n",
       "      <td>...</td>\n",
       "      <td>Yes</td>\n",
       "      <td>NaN</td>\n",
       "      <td>NaN</td>\n",
       "      <td>NaN</td>\n",
       "      <td>NaN</td>\n",
       "      <td>NaN</td>\n",
       "      <td>NaN</td>\n",
       "      <td>NaN</td>\n",
       "      <td>Yes</td>\n",
       "      <td>0</td>\n",
       "    </tr>\n",
       "    <tr>\n",
       "      <th>1371-DWPAZ</th>\n",
       "      <td>2020-02-01</td>\n",
       "      <td>2020-02-01</td>\n",
       "      <td>0</td>\n",
       "      <td>Two year</td>\n",
       "      <td>No</td>\n",
       "      <td>Credit card (automatic)</td>\n",
       "      <td>56.05</td>\n",
       "      <td>NaN</td>\n",
       "      <td>Female</td>\n",
       "      <td>0</td>\n",
       "      <td>...</td>\n",
       "      <td>Yes</td>\n",
       "      <td>DSL</td>\n",
       "      <td>Yes</td>\n",
       "      <td>Yes</td>\n",
       "      <td>Yes</td>\n",
       "      <td>Yes</td>\n",
       "      <td>Yes</td>\n",
       "      <td>No</td>\n",
       "      <td>NaN</td>\n",
       "      <td>0</td>\n",
       "    </tr>\n",
       "    <tr>\n",
       "      <th>7644-OMVMY</th>\n",
       "      <td>2020-02-01</td>\n",
       "      <td>2020-02-01</td>\n",
       "      <td>0</td>\n",
       "      <td>Two year</td>\n",
       "      <td>No</td>\n",
       "      <td>Mailed check</td>\n",
       "      <td>19.85</td>\n",
       "      <td>NaN</td>\n",
       "      <td>Male</td>\n",
       "      <td>0</td>\n",
       "      <td>...</td>\n",
       "      <td>Yes</td>\n",
       "      <td>NaN</td>\n",
       "      <td>NaN</td>\n",
       "      <td>NaN</td>\n",
       "      <td>NaN</td>\n",
       "      <td>NaN</td>\n",
       "      <td>NaN</td>\n",
       "      <td>NaN</td>\n",
       "      <td>No</td>\n",
       "      <td>0</td>\n",
       "    </tr>\n",
       "    <tr>\n",
       "      <th>3213-VVOLG</th>\n",
       "      <td>2020-02-01</td>\n",
       "      <td>2020-02-01</td>\n",
       "      <td>0</td>\n",
       "      <td>Two year</td>\n",
       "      <td>No</td>\n",
       "      <td>Mailed check</td>\n",
       "      <td>25.35</td>\n",
       "      <td>NaN</td>\n",
       "      <td>Male</td>\n",
       "      <td>0</td>\n",
       "      <td>...</td>\n",
       "      <td>Yes</td>\n",
       "      <td>NaN</td>\n",
       "      <td>NaN</td>\n",
       "      <td>NaN</td>\n",
       "      <td>NaN</td>\n",
       "      <td>NaN</td>\n",
       "      <td>NaN</td>\n",
       "      <td>NaN</td>\n",
       "      <td>Yes</td>\n",
       "      <td>0</td>\n",
       "    </tr>\n",
       "    <tr>\n",
       "      <th>2520-SGTTA</th>\n",
       "      <td>2020-02-01</td>\n",
       "      <td>2020-02-01</td>\n",
       "      <td>0</td>\n",
       "      <td>Two year</td>\n",
       "      <td>No</td>\n",
       "      <td>Mailed check</td>\n",
       "      <td>20.00</td>\n",
       "      <td>NaN</td>\n",
       "      <td>Female</td>\n",
       "      <td>0</td>\n",
       "      <td>...</td>\n",
       "      <td>Yes</td>\n",
       "      <td>NaN</td>\n",
       "      <td>NaN</td>\n",
       "      <td>NaN</td>\n",
       "      <td>NaN</td>\n",
       "      <td>NaN</td>\n",
       "      <td>NaN</td>\n",
       "      <td>NaN</td>\n",
       "      <td>No</td>\n",
       "      <td>0</td>\n",
       "    </tr>\n",
       "    <tr>\n",
       "      <th>2923-ARZLG</th>\n",
       "      <td>2020-02-01</td>\n",
       "      <td>2020-02-01</td>\n",
       "      <td>0</td>\n",
       "      <td>One year</td>\n",
       "      <td>Yes</td>\n",
       "      <td>Mailed check</td>\n",
       "      <td>19.70</td>\n",
       "      <td>NaN</td>\n",
       "      <td>Male</td>\n",
       "      <td>0</td>\n",
       "      <td>...</td>\n",
       "      <td>Yes</td>\n",
       "      <td>NaN</td>\n",
       "      <td>NaN</td>\n",
       "      <td>NaN</td>\n",
       "      <td>NaN</td>\n",
       "      <td>NaN</td>\n",
       "      <td>NaN</td>\n",
       "      <td>NaN</td>\n",
       "      <td>No</td>\n",
       "      <td>0</td>\n",
       "    </tr>\n",
       "    <tr>\n",
       "      <th>4075-WKNIU</th>\n",
       "      <td>2020-02-01</td>\n",
       "      <td>2020-02-01</td>\n",
       "      <td>0</td>\n",
       "      <td>Two year</td>\n",
       "      <td>No</td>\n",
       "      <td>Mailed check</td>\n",
       "      <td>73.35</td>\n",
       "      <td>NaN</td>\n",
       "      <td>Female</td>\n",
       "      <td>0</td>\n",
       "      <td>...</td>\n",
       "      <td>Yes</td>\n",
       "      <td>DSL</td>\n",
       "      <td>No</td>\n",
       "      <td>Yes</td>\n",
       "      <td>Yes</td>\n",
       "      <td>Yes</td>\n",
       "      <td>Yes</td>\n",
       "      <td>No</td>\n",
       "      <td>Yes</td>\n",
       "      <td>0</td>\n",
       "    </tr>\n",
       "    <tr>\n",
       "      <th>2775-SEFEE</th>\n",
       "      <td>2020-02-01</td>\n",
       "      <td>2020-02-01</td>\n",
       "      <td>0</td>\n",
       "      <td>Two year</td>\n",
       "      <td>Yes</td>\n",
       "      <td>Bank transfer (automatic)</td>\n",
       "      <td>61.90</td>\n",
       "      <td>NaN</td>\n",
       "      <td>Male</td>\n",
       "      <td>0</td>\n",
       "      <td>...</td>\n",
       "      <td>Yes</td>\n",
       "      <td>DSL</td>\n",
       "      <td>Yes</td>\n",
       "      <td>Yes</td>\n",
       "      <td>No</td>\n",
       "      <td>Yes</td>\n",
       "      <td>No</td>\n",
       "      <td>No</td>\n",
       "      <td>Yes</td>\n",
       "      <td>0</td>\n",
       "    </tr>\n",
       "  </tbody>\n",
       "</table>\n",
       "<p>11 rows × 21 columns</p>\n",
       "</div>"
      ],
      "text/plain": [
       "            begin_date   end_date  days      type paperless_billing  \\\n",
       "customer_id                                                           \n",
       "4472-LVYGI  2020-02-01 2020-02-01     0  Two year               Yes   \n",
       "3115-CZMZD  2020-02-01 2020-02-01     0  Two year                No   \n",
       "5709-LVOEQ  2020-02-01 2020-02-01     0  Two year                No   \n",
       "4367-NUYAO  2020-02-01 2020-02-01     0  Two year                No   \n",
       "1371-DWPAZ  2020-02-01 2020-02-01     0  Two year                No   \n",
       "7644-OMVMY  2020-02-01 2020-02-01     0  Two year                No   \n",
       "3213-VVOLG  2020-02-01 2020-02-01     0  Two year                No   \n",
       "2520-SGTTA  2020-02-01 2020-02-01     0  Two year                No   \n",
       "2923-ARZLG  2020-02-01 2020-02-01     0  One year               Yes   \n",
       "4075-WKNIU  2020-02-01 2020-02-01     0  Two year                No   \n",
       "2775-SEFEE  2020-02-01 2020-02-01     0  Two year               Yes   \n",
       "\n",
       "                        payment_method  monthly_charges  total_charges  \\\n",
       "customer_id                                                              \n",
       "4472-LVYGI   Bank transfer (automatic)            52.55            NaN   \n",
       "3115-CZMZD                Mailed check            20.25            NaN   \n",
       "5709-LVOEQ                Mailed check            80.85            NaN   \n",
       "4367-NUYAO                Mailed check            25.75            NaN   \n",
       "1371-DWPAZ     Credit card (automatic)            56.05            NaN   \n",
       "7644-OMVMY                Mailed check            19.85            NaN   \n",
       "3213-VVOLG                Mailed check            25.35            NaN   \n",
       "2520-SGTTA                Mailed check            20.00            NaN   \n",
       "2923-ARZLG                Mailed check            19.70            NaN   \n",
       "4075-WKNIU                Mailed check            73.35            NaN   \n",
       "2775-SEFEE   Bank transfer (automatic)            61.90            NaN   \n",
       "\n",
       "             gender  senior_citizen  ... dependents internet_service  \\\n",
       "customer_id                          ...                               \n",
       "4472-LVYGI   Female               0  ...        Yes              DSL   \n",
       "3115-CZMZD     Male               0  ...        Yes              NaN   \n",
       "5709-LVOEQ   Female               0  ...        Yes              DSL   \n",
       "4367-NUYAO     Male               0  ...        Yes              NaN   \n",
       "1371-DWPAZ   Female               0  ...        Yes              DSL   \n",
       "7644-OMVMY     Male               0  ...        Yes              NaN   \n",
       "3213-VVOLG     Male               0  ...        Yes              NaN   \n",
       "2520-SGTTA   Female               0  ...        Yes              NaN   \n",
       "2923-ARZLG     Male               0  ...        Yes              NaN   \n",
       "4075-WKNIU   Female               0  ...        Yes              DSL   \n",
       "2775-SEFEE     Male               0  ...        Yes              DSL   \n",
       "\n",
       "            online_security online_backup device_protection tech_support  \\\n",
       "customer_id                                                                \n",
       "4472-LVYGI              Yes            No               Yes          Yes   \n",
       "3115-CZMZD              NaN           NaN               NaN          NaN   \n",
       "5709-LVOEQ              Yes           Yes               Yes           No   \n",
       "4367-NUYAO              NaN           NaN               NaN          NaN   \n",
       "1371-DWPAZ              Yes           Yes               Yes          Yes   \n",
       "7644-OMVMY              NaN           NaN               NaN          NaN   \n",
       "3213-VVOLG              NaN           NaN               NaN          NaN   \n",
       "2520-SGTTA              NaN           NaN               NaN          NaN   \n",
       "2923-ARZLG              NaN           NaN               NaN          NaN   \n",
       "4075-WKNIU               No           Yes               Yes          Yes   \n",
       "2775-SEFEE              Yes           Yes                No          Yes   \n",
       "\n",
       "            streaming_tv streaming_movies multiple_lines exited  \n",
       "customer_id                                                      \n",
       "4472-LVYGI           Yes               No            NaN      0  \n",
       "3115-CZMZD           NaN              NaN             No      0  \n",
       "5709-LVOEQ           Yes              Yes             No      0  \n",
       "4367-NUYAO           NaN              NaN            Yes      0  \n",
       "1371-DWPAZ           Yes               No            NaN      0  \n",
       "7644-OMVMY           NaN              NaN             No      0  \n",
       "3213-VVOLG           NaN              NaN            Yes      0  \n",
       "2520-SGTTA           NaN              NaN             No      0  \n",
       "2923-ARZLG           NaN              NaN             No      0  \n",
       "4075-WKNIU           Yes               No            Yes      0  \n",
       "2775-SEFEE            No               No            Yes      0  \n",
       "\n",
       "[11 rows x 21 columns]"
      ]
     },
     "execution_count": 32,
     "metadata": {},
     "output_type": "execute_result"
    }
   ],
   "source": [
    "# Проверяем строки с образовавшимися пропусками в столбце 'total_charges'.\n",
    "\n",
    "df[df['total_charges'].isna()]"
   ]
  },
  {
   "cell_type": "markdown",
   "metadata": {},
   "source": [
    "Как видим, все эти 11 договоров были заключены 01.02.2020 г., т.е. в дату формирования базы. Соответственно, данные абоненты еще не успели воспользоваться услугами компании. Поэтому эти строки будет правильным удалить."
   ]
  },
  {
   "cell_type": "code",
   "execution_count": 33,
   "metadata": {
    "scrolled": false
   },
   "outputs": [
    {
     "data": {
      "text/plain": [
       "begin_date              0\n",
       "end_date                0\n",
       "days                    0\n",
       "type                    0\n",
       "paperless_billing       0\n",
       "payment_method          0\n",
       "monthly_charges         0\n",
       "total_charges           0\n",
       "gender                  0\n",
       "senior_citizen          0\n",
       "partner                 0\n",
       "dependents              0\n",
       "internet_service     1520\n",
       "online_security      1520\n",
       "online_backup        1520\n",
       "device_protection    1520\n",
       "tech_support         1520\n",
       "streaming_tv         1520\n",
       "streaming_movies     1520\n",
       "multiple_lines        680\n",
       "exited                  0\n",
       "dtype: int64"
      ]
     },
     "execution_count": 33,
     "metadata": {},
     "output_type": "execute_result"
    }
   ],
   "source": [
    "# Удаляем строки с пропусками в столбце 'total_charges'.\n",
    "# Обновляем данные о пропусках.\n",
    "\n",
    "df.dropna(subset=['total_charges'], inplace=True)\n",
    "df.isna().sum()"
   ]
  },
  {
   "cell_type": "markdown",
   "metadata": {},
   "source": [
    "Что касается пропусков в столбце с данными об услугах телефонии и 7 столбцах с данными об услугах, касающихся интернета, то необходимо сначала понять их природу.\n",
    "\n",
    "Сперва проверим, есть ли зависимость между наличием пропусков в столбце `multiple_lines` и датой заключения договоров обслуживания. Например, выясним, не связано ли наличие пропусков с тем, что соответствующие договоры были заключены давно, когда еще не стоял выбор между одной или несколькими телефонными линиями (и в этом случае можно было бы просто заменить пропуски на значение \"No\")."
   ]
  },
  {
   "cell_type": "code",
   "execution_count": 34,
   "metadata": {},
   "outputs": [
    {
     "data": {
      "image/png": "[encoded data removed]",
      "text/plain": [
       "<Figure size 432x288 with 1 Axes>"
      ]
     },
     "metadata": {
      "needs_background": "light"
     },
     "output_type": "display_data"
    }
   ],
   "source": [
    "# Гистограммы распределения дат начала обслуживания \n",
    "# для строк с пропусками в столбце 'multiple_lines' и без пропусков\n",
    "\n",
    "plt.hist(df[df['multiple_lines'].notna()]['begin_date']) # без пропусков (синий график)\n",
    "plt.hist(df[df['multiple_lines'].isna()]['begin_date']); # с пропусками (оранжевый график)"
   ]
  },
  {
   "cell_type": "markdown",
   "metadata": {},
   "source": [
    "Из графика явствует, что такие договоры заключались в разное время, следовательно значения этого параметра ('begin_date') не связаны с наличием пропусков в столбце `multiple_lines`."
   ]
  },
  {
   "cell_type": "markdown",
   "metadata": {},
   "source": [
    "Теперь аналогично проверим столбцы `internet_service`, `online_security`, `online_backup`, `device_protection`, `tech_support`, `streaming_tv`, `streaming_movies`."
   ]
  },
  {
   "cell_type": "code",
   "execution_count": 35,
   "metadata": {},
   "outputs": [
    {
     "data": {
      "image/png": "[encoded data removed]",
      "text/plain": [
       "<Figure size 432x288 with 1 Axes>"
      ]
     },
     "metadata": {
      "needs_background": "light"
     },
     "output_type": "display_data"
    }
   ],
   "source": [
    "# Наложенные друг на друга гистограммы распределения дат начала обслуживания \n",
    "# для строк с пропусками в 7 столбцах об интернет-услугах и без пропусков\n",
    "\n",
    "for col in df.columns[12:19]:\n",
    "    plt.hist(df[df[col].notna()]['begin_date']) # без пропусков (зеленый график)\n",
    "    plt.hist(df[df[col].isna()]['begin_date']) # с пропусками (красный график)"
   ]
  },
  {
   "cell_type": "markdown",
   "metadata": {},
   "source": [
    "Из графиков следует, что:\n",
    "- во-первых, значения параметра 'begin_date' для этих 7 столбцов также не связаны с наличием в них пропусков;\n",
    "- во-вторых, совпадение наложенных друг на друга 7 графиков означает совпадение строк с пропусками во всех 7 столбцах (проверим это)."
   ]
  },
  {
   "cell_type": "code",
   "execution_count": 36,
   "metadata": {},
   "outputs": [
    {
     "name": "stdout",
     "output_type": "stream",
     "text": [
      "Общее количество несовпадений: 0\n"
     ]
    }
   ],
   "source": [
    "# Проверяем количество случаев, когда в столбце 'internet_service' имеется пропуск\n",
    "# и при этом в каком-либо из остальных 6 столбцов бывшей таблицы \"internet\" пропуска нет.\n",
    "\n",
    "difference = 0\n",
    "for col in df.columns[13:19]:\n",
    "    difference += df[(df['internet_service'].isna())\n",
    "                     &((df[col].notna()))]['begin_date'].count()\n",
    "print(\"Общее количество несовпадений:\", difference)"
   ]
  },
  {
   "cell_type": "markdown",
   "metadata": {},
   "source": [
    "Исходя из того, что все интернет-услуги либо одновременно имеют пропуски, либо одновременно - не имеют, можно сделать вывод, что наличие пропусков свидетельствует о полном отсутствии интернет-услуг у соответствующего абонента. В этом случае, во всех 6 столбцах, кроме `internet_service`, можно заменить пропуски на \"No\"."
   ]
  },
  {
   "cell_type": "code",
   "execution_count": 37,
   "metadata": {},
   "outputs": [],
   "source": [
    "# Заполняем значением \"No\" пропуски в столбцах с допуслугами, связанными с интернетом.\n",
    "\n",
    "for col in df.columns[13:19]:\n",
    "    df[col] = df[col].fillna('No')"
   ]
  },
  {
   "cell_type": "markdown",
   "metadata": {},
   "source": [
    "Проверим, как соотносится наличие пропусков в таблицах `internet_service` и `multiple_lines`."
   ]
  },
  {
   "cell_type": "code",
   "execution_count": 38,
   "metadata": {},
   "outputs": [
    {
     "name": "stdout",
     "output_type": "stream",
     "text": [
      "Количество случаев, когда пропусков нет в обоих столбцах: 4832\n",
      "Количество случаев, когда пропуск только в столбце 'internet_service': 1520\n",
      "Количество случаев, когда пропуск только в столбце 'multiple_lines': 680\n",
      "Количество случаев, когда пропуски есть в обоих столбцах: 0\n",
      "Суммарное количество во всех четырех вариантах: 7032\n"
     ]
    }
   ],
   "source": [
    "both = df[df['internet_service'].notna() & df['multiple_lines'].notna()]['begin_date'].count()\n",
    "only_phone = df[df['internet_service'].isna() & df['multiple_lines'].notna()]['begin_date'].count()\n",
    "only_internet = df[df['internet_service'].notna() & df['multiple_lines'].isna()]['begin_date'].count()\n",
    "none = df[df['internet_service'].isna() & df['multiple_lines'].isna()]['begin_date'].count()\n",
    "\n",
    "print(\"Количество случаев, когда пропусков нет в обоих столбцах:\", both)\n",
    "print(\"Количество случаев, когда пропуск только в столбце 'internet_service':\", only_phone)\n",
    "print(\"Количество случаев, когда пропуск только в столбце 'multiple_lines':\", only_internet)\n",
    "print(\"Количество случаев, когда пропуски есть в обоих столбцах:\", none)\n",
    "print(\"Суммарное количество во всех четырех вариантах:\", both + only_phone + only_internet + none)"
   ]
  },
  {
   "cell_type": "markdown",
   "metadata": {},
   "source": [
    "Наиболее очевидный вывод: пропуски означают полное отсутствие подключения соответствующей услуги. У 680 абонентов нет телефонной линии, а у 1520 других абонентов нет интернет-услуг. При этом одновременно обеих услуг у абонента не может не быть, что вполне логично, и означает, что договор обслуживания предполагает наличие хотя бы одной из них.\n",
    "\n",
    "Таким образом, пропуски в этих двух столбцах необходимо заполнить нейтральными значениями. Например, для интернета - \"No internet\", а для телефонии - \"No phone\"."
   ]
  },
  {
   "cell_type": "code",
   "execution_count": 39,
   "metadata": {},
   "outputs": [],
   "source": [
    "# Заполняем пропуски в столбцах 'internet_service' и 'multiple_lines'.\n",
    "\n",
    "df['internet_service'] = df['internet_service'].fillna('No internet')\n",
    "df['multiple_lines'] = df['multiple_lines'].fillna('No phone')"
   ]
  },
  {
   "cell_type": "code",
   "execution_count": 40,
   "metadata": {},
   "outputs": [
    {
     "data": {
      "text/html": [
       "<div>\n",
       "<style scoped>\n",
       "    .dataframe tbody tr th:only-of-type {\n",
       "        vertical-align: middle;\n",
       "    }\n",
       "\n",
       "    .dataframe tbody tr th {\n",
       "        vertical-align: top;\n",
       "    }\n",
       "\n",
       "    .dataframe thead th {\n",
       "        text-align: right;\n",
       "    }\n",
       "</style>\n",
       "<table border=\"1\" class=\"dataframe\">\n",
       "  <thead>\n",
       "    <tr style=\"text-align: right;\">\n",
       "      <th></th>\n",
       "      <th>begin_date</th>\n",
       "      <th>end_date</th>\n",
       "      <th>days</th>\n",
       "      <th>type</th>\n",
       "      <th>paperless_billing</th>\n",
       "      <th>payment_method</th>\n",
       "      <th>monthly_charges</th>\n",
       "      <th>total_charges</th>\n",
       "      <th>gender</th>\n",
       "      <th>senior_citizen</th>\n",
       "      <th>...</th>\n",
       "      <th>dependents</th>\n",
       "      <th>internet_service</th>\n",
       "      <th>online_security</th>\n",
       "      <th>online_backup</th>\n",
       "      <th>device_protection</th>\n",
       "      <th>tech_support</th>\n",
       "      <th>streaming_tv</th>\n",
       "      <th>streaming_movies</th>\n",
       "      <th>multiple_lines</th>\n",
       "      <th>exited</th>\n",
       "    </tr>\n",
       "    <tr>\n",
       "      <th>customer_id</th>\n",
       "      <th></th>\n",
       "      <th></th>\n",
       "      <th></th>\n",
       "      <th></th>\n",
       "      <th></th>\n",
       "      <th></th>\n",
       "      <th></th>\n",
       "      <th></th>\n",
       "      <th></th>\n",
       "      <th></th>\n",
       "      <th></th>\n",
       "      <th></th>\n",
       "      <th></th>\n",
       "      <th></th>\n",
       "      <th></th>\n",
       "      <th></th>\n",
       "      <th></th>\n",
       "      <th></th>\n",
       "      <th></th>\n",
       "      <th></th>\n",
       "      <th></th>\n",
       "    </tr>\n",
       "  </thead>\n",
       "  <tbody>\n",
       "    <tr>\n",
       "      <th>8456-QDAVC</th>\n",
       "      <td>2018-07-01</td>\n",
       "      <td>2020-02-01</td>\n",
       "      <td>580</td>\n",
       "      <td>Month-to-month</td>\n",
       "      <td>Yes</td>\n",
       "      <td>Bank transfer (automatic)</td>\n",
       "      <td>78.70</td>\n",
       "      <td>1495.10</td>\n",
       "      <td>Male</td>\n",
       "      <td>0</td>\n",
       "      <td>...</td>\n",
       "      <td>No</td>\n",
       "      <td>Fiber optic</td>\n",
       "      <td>No</td>\n",
       "      <td>No</td>\n",
       "      <td>No</td>\n",
       "      <td>No</td>\n",
       "      <td>Yes</td>\n",
       "      <td>No</td>\n",
       "      <td>No</td>\n",
       "      <td>0</td>\n",
       "    </tr>\n",
       "    <tr>\n",
       "      <th>7750-EYXWZ</th>\n",
       "      <td>2019-02-01</td>\n",
       "      <td>2020-02-01</td>\n",
       "      <td>365</td>\n",
       "      <td>One year</td>\n",
       "      <td>No</td>\n",
       "      <td>Electronic check</td>\n",
       "      <td>60.65</td>\n",
       "      <td>743.30</td>\n",
       "      <td>Female</td>\n",
       "      <td>0</td>\n",
       "      <td>...</td>\n",
       "      <td>No</td>\n",
       "      <td>DSL</td>\n",
       "      <td>No</td>\n",
       "      <td>Yes</td>\n",
       "      <td>Yes</td>\n",
       "      <td>Yes</td>\n",
       "      <td>Yes</td>\n",
       "      <td>Yes</td>\n",
       "      <td>No phone</td>\n",
       "      <td>0</td>\n",
       "    </tr>\n",
       "    <tr>\n",
       "      <th>2569-WGERO</th>\n",
       "      <td>2014-02-01</td>\n",
       "      <td>2020-02-01</td>\n",
       "      <td>2191</td>\n",
       "      <td>Two year</td>\n",
       "      <td>Yes</td>\n",
       "      <td>Bank transfer (automatic)</td>\n",
       "      <td>21.15</td>\n",
       "      <td>1419.40</td>\n",
       "      <td>Female</td>\n",
       "      <td>0</td>\n",
       "      <td>...</td>\n",
       "      <td>No</td>\n",
       "      <td>No internet</td>\n",
       "      <td>No</td>\n",
       "      <td>No</td>\n",
       "      <td>No</td>\n",
       "      <td>No</td>\n",
       "      <td>No</td>\n",
       "      <td>No</td>\n",
       "      <td>No</td>\n",
       "      <td>0</td>\n",
       "    </tr>\n",
       "    <tr>\n",
       "      <th>6840-RESVB</th>\n",
       "      <td>2018-02-01</td>\n",
       "      <td>2020-02-01</td>\n",
       "      <td>730</td>\n",
       "      <td>One year</td>\n",
       "      <td>Yes</td>\n",
       "      <td>Mailed check</td>\n",
       "      <td>84.80</td>\n",
       "      <td>1990.50</td>\n",
       "      <td>Male</td>\n",
       "      <td>0</td>\n",
       "      <td>...</td>\n",
       "      <td>Yes</td>\n",
       "      <td>DSL</td>\n",
       "      <td>Yes</td>\n",
       "      <td>No</td>\n",
       "      <td>Yes</td>\n",
       "      <td>Yes</td>\n",
       "      <td>Yes</td>\n",
       "      <td>Yes</td>\n",
       "      <td>Yes</td>\n",
       "      <td>0</td>\n",
       "    </tr>\n",
       "    <tr>\n",
       "      <th>2234-XADUH</th>\n",
       "      <td>2014-02-01</td>\n",
       "      <td>2020-02-01</td>\n",
       "      <td>2191</td>\n",
       "      <td>One year</td>\n",
       "      <td>Yes</td>\n",
       "      <td>Credit card (automatic)</td>\n",
       "      <td>103.20</td>\n",
       "      <td>7362.90</td>\n",
       "      <td>Female</td>\n",
       "      <td>0</td>\n",
       "      <td>...</td>\n",
       "      <td>Yes</td>\n",
       "      <td>Fiber optic</td>\n",
       "      <td>No</td>\n",
       "      <td>Yes</td>\n",
       "      <td>Yes</td>\n",
       "      <td>No</td>\n",
       "      <td>Yes</td>\n",
       "      <td>Yes</td>\n",
       "      <td>Yes</td>\n",
       "      <td>0</td>\n",
       "    </tr>\n",
       "    <tr>\n",
       "      <th>4801-JZAZL</th>\n",
       "      <td>2019-03-01</td>\n",
       "      <td>2020-02-01</td>\n",
       "      <td>337</td>\n",
       "      <td>Month-to-month</td>\n",
       "      <td>Yes</td>\n",
       "      <td>Electronic check</td>\n",
       "      <td>29.60</td>\n",
       "      <td>346.45</td>\n",
       "      <td>Female</td>\n",
       "      <td>0</td>\n",
       "      <td>...</td>\n",
       "      <td>Yes</td>\n",
       "      <td>DSL</td>\n",
       "      <td>Yes</td>\n",
       "      <td>No</td>\n",
       "      <td>No</td>\n",
       "      <td>No</td>\n",
       "      <td>No</td>\n",
       "      <td>No</td>\n",
       "      <td>No phone</td>\n",
       "      <td>0</td>\n",
       "    </tr>\n",
       "    <tr>\n",
       "      <th>8361-LTMKD</th>\n",
       "      <td>2019-07-01</td>\n",
       "      <td>2019-11-01</td>\n",
       "      <td>123</td>\n",
       "      <td>Month-to-month</td>\n",
       "      <td>Yes</td>\n",
       "      <td>Mailed check</td>\n",
       "      <td>74.40</td>\n",
       "      <td>306.60</td>\n",
       "      <td>Male</td>\n",
       "      <td>1</td>\n",
       "      <td>...</td>\n",
       "      <td>No</td>\n",
       "      <td>Fiber optic</td>\n",
       "      <td>No</td>\n",
       "      <td>No</td>\n",
       "      <td>No</td>\n",
       "      <td>No</td>\n",
       "      <td>No</td>\n",
       "      <td>No</td>\n",
       "      <td>Yes</td>\n",
       "      <td>1</td>\n",
       "    </tr>\n",
       "    <tr>\n",
       "      <th>3186-AJIEK</th>\n",
       "      <td>2014-08-01</td>\n",
       "      <td>2020-02-01</td>\n",
       "      <td>2010</td>\n",
       "      <td>Two year</td>\n",
       "      <td>Yes</td>\n",
       "      <td>Bank transfer (automatic)</td>\n",
       "      <td>105.65</td>\n",
       "      <td>6844.50</td>\n",
       "      <td>Male</td>\n",
       "      <td>0</td>\n",
       "      <td>...</td>\n",
       "      <td>No</td>\n",
       "      <td>Fiber optic</td>\n",
       "      <td>Yes</td>\n",
       "      <td>No</td>\n",
       "      <td>Yes</td>\n",
       "      <td>Yes</td>\n",
       "      <td>Yes</td>\n",
       "      <td>Yes</td>\n",
       "      <td>No</td>\n",
       "      <td>0</td>\n",
       "    </tr>\n",
       "  </tbody>\n",
       "</table>\n",
       "<p>8 rows × 21 columns</p>\n",
       "</div>"
      ],
      "text/plain": [
       "            begin_date   end_date  days            type paperless_billing  \\\n",
       "customer_id                                                                 \n",
       "8456-QDAVC  2018-07-01 2020-02-01   580  Month-to-month               Yes   \n",
       "7750-EYXWZ  2019-02-01 2020-02-01   365        One year                No   \n",
       "2569-WGERO  2014-02-01 2020-02-01  2191        Two year               Yes   \n",
       "6840-RESVB  2018-02-01 2020-02-01   730        One year               Yes   \n",
       "2234-XADUH  2014-02-01 2020-02-01  2191        One year               Yes   \n",
       "4801-JZAZL  2019-03-01 2020-02-01   337  Month-to-month               Yes   \n",
       "8361-LTMKD  2019-07-01 2019-11-01   123  Month-to-month               Yes   \n",
       "3186-AJIEK  2014-08-01 2020-02-01  2010        Two year               Yes   \n",
       "\n",
       "                        payment_method  monthly_charges  total_charges  \\\n",
       "customer_id                                                              \n",
       "8456-QDAVC   Bank transfer (automatic)            78.70        1495.10   \n",
       "7750-EYXWZ            Electronic check            60.65         743.30   \n",
       "2569-WGERO   Bank transfer (automatic)            21.15        1419.40   \n",
       "6840-RESVB                Mailed check            84.80        1990.50   \n",
       "2234-XADUH     Credit card (automatic)           103.20        7362.90   \n",
       "4801-JZAZL            Electronic check            29.60         346.45   \n",
       "8361-LTMKD                Mailed check            74.40         306.60   \n",
       "3186-AJIEK   Bank transfer (automatic)           105.65        6844.50   \n",
       "\n",
       "             gender  senior_citizen  ... dependents internet_service  \\\n",
       "customer_id                          ...                               \n",
       "8456-QDAVC     Male               0  ...         No      Fiber optic   \n",
       "7750-EYXWZ   Female               0  ...         No              DSL   \n",
       "2569-WGERO   Female               0  ...         No      No internet   \n",
       "6840-RESVB     Male               0  ...        Yes              DSL   \n",
       "2234-XADUH   Female               0  ...        Yes      Fiber optic   \n",
       "4801-JZAZL   Female               0  ...        Yes              DSL   \n",
       "8361-LTMKD     Male               1  ...         No      Fiber optic   \n",
       "3186-AJIEK     Male               0  ...         No      Fiber optic   \n",
       "\n",
       "            online_security online_backup device_protection tech_support  \\\n",
       "customer_id                                                                \n",
       "8456-QDAVC               No            No                No           No   \n",
       "7750-EYXWZ               No           Yes               Yes          Yes   \n",
       "2569-WGERO               No            No                No           No   \n",
       "6840-RESVB              Yes            No               Yes          Yes   \n",
       "2234-XADUH               No           Yes               Yes           No   \n",
       "4801-JZAZL              Yes            No                No           No   \n",
       "8361-LTMKD               No            No                No           No   \n",
       "3186-AJIEK              Yes            No               Yes          Yes   \n",
       "\n",
       "            streaming_tv streaming_movies multiple_lines exited  \n",
       "customer_id                                                      \n",
       "8456-QDAVC           Yes               No             No      0  \n",
       "7750-EYXWZ           Yes              Yes       No phone      0  \n",
       "2569-WGERO            No               No             No      0  \n",
       "6840-RESVB           Yes              Yes            Yes      0  \n",
       "2234-XADUH           Yes              Yes            Yes      0  \n",
       "4801-JZAZL            No               No       No phone      0  \n",
       "8361-LTMKD            No               No            Yes      1  \n",
       "3186-AJIEK           Yes              Yes             No      0  \n",
       "\n",
       "[8 rows x 21 columns]"
      ]
     },
     "execution_count": 40,
     "metadata": {},
     "output_type": "execute_result"
    }
   ],
   "source": [
    "# Просматриваем некоторые строки обновленного датафрейма.\n",
    "\n",
    "df.tail(8)"
   ]
  },
  {
   "cell_type": "code",
   "execution_count": 41,
   "metadata": {},
   "outputs": [
    {
     "name": "stdout",
     "output_type": "stream",
     "text": [
      "<class 'pandas.core.frame.DataFrame'>\n",
      "Index: 7032 entries, 7590-VHVEG to 3186-AJIEK\n",
      "Data columns (total 21 columns):\n",
      " #   Column             Non-Null Count  Dtype         \n",
      "---  ------             --------------  -----         \n",
      " 0   begin_date         7032 non-null   datetime64[ns]\n",
      " 1   end_date           7032 non-null   datetime64[ns]\n",
      " 2   days               7032 non-null   int64         \n",
      " 3   type               7032 non-null   object        \n",
      " 4   paperless_billing  7032 non-null   object        \n",
      " 5   payment_method     7032 non-null   object        \n",
      " 6   monthly_charges    7032 non-null   float64       \n",
      " 7   total_charges      7032 non-null   float64       \n",
      " 8   gender             7032 non-null   object        \n",
      " 9   senior_citizen     7032 non-null   int64         \n",
      " 10  partner            7032 non-null   object        \n",
      " 11  dependents         7032 non-null   object        \n",
      " 12  internet_service   7032 non-null   object        \n",
      " 13  online_security    7032 non-null   object        \n",
      " 14  online_backup      7032 non-null   object        \n",
      " 15  device_protection  7032 non-null   object        \n",
      " 16  tech_support       7032 non-null   object        \n",
      " 17  streaming_tv       7032 non-null   object        \n",
      " 18  streaming_movies   7032 non-null   object        \n",
      " 19  multiple_lines     7032 non-null   object        \n",
      " 20  exited             7032 non-null   int64         \n",
      "dtypes: datetime64[ns](2), float64(2), int64(3), object(14)\n",
      "memory usage: 1.2+ MB\n"
     ]
    }
   ],
   "source": [
    "# Просматриваем общую информацию об обновленном датафреме.\n",
    "\n",
    "df.info()"
   ]
  },
  {
   "cell_type": "markdown",
   "metadata": {},
   "source": [
    "Все пропуски обработаны."
   ]
  },
  {
   "cell_type": "markdown",
   "metadata": {},
   "source": [
    "### Итоги"
   ]
  },
  {
   "cell_type": "markdown",
   "metadata": {},
   "source": [
    "1. Все четыре таблицы (`contract`, `personal`, `internet`, `phone`) объединены в одну, по столбцу с идентификатором абонента.\n",
    "\n",
    "\n",
    "2. Названия столбцов приведены к нижнему (\"змеиному\") регистру.\n",
    "\n",
    "\n",
    "3. Столбец `customer_id` удален, его значения установлены в качестве индексов датафрейма. \n",
    "\n",
    "\n",
    "4. Создан столбец `exited` с целевым признаком (факт ухода абонента).\n",
    "\n",
    "\n",
    "5. Изменен тип данных в столбцах `begin_date` и `end_date` на *datetime*. Значения \"No\" в столбце `end_date` заменены на \"2020-02-01\".\n",
    "\n",
    "\n",
    "6. Добавлен столбец `days` с количеством дней обслуживания абонента - разницей между двумя датами.\n",
    "\n",
    "\n",
    "7. Тип данных в столбце `total_charges` изменен на *float*.\n",
    "\n",
    "\n",
    "8. Строки с появившимися в столбце `total_charges` пропусками (11 строк) удалены, поскольку дата заключения договора в них стояла 01.02.2020 г. и данные абоненты еще не успели воспользоваться услугами компании.\n",
    "\n",
    "\n",
    "9. В результате сопоставления данных сделан вывод, что наиболее очевидная причина наличия пропусков в столбце `multiple_lines` - полное отсутствие подключения к телефонной линии. Поэтому пропуски заменены на нейтральное значение \"No phone\".\n",
    "\n",
    "\n",
    "10. Аналогичным образом, в столбце `internet_service` пропуски заменены на значение \"No internet\", ввиду очевидного отсутствия подключения к интернету.\n",
    "\n",
    "\n",
    "11. Все 6 дополнительных интернет-услуг совпадают по наличию пропусков с основной (по столбцу `internet_service`). Т.о. пропуски в них соответствуют отсутствию этих услуг, поэтому заменены на значение \"No\"."
   ]
  },
  {
   "cell_type": "markdown",
   "metadata": {},
   "source": [
    "## Дополнительное исследование"
   ]
  },
  {
   "cell_type": "markdown",
   "metadata": {},
   "source": [
    "### Распределение по ежемесячным платежам"
   ]
  },
  {
   "cell_type": "markdown",
   "metadata": {},
   "source": [
    "Вычислим долю положительного класса в целевом признаке и посмотрим на связь последнего со среднемесячными расходами."
   ]
  },
  {
   "cell_type": "code",
   "execution_count": 42,
   "metadata": {},
   "outputs": [
    {
     "name": "stdout",
     "output_type": "stream",
     "text": [
      "Доля ушедших абонентов: 26.6%\n"
     ]
    }
   ],
   "source": [
    "# Вычисляем долю абонентов, расторгших договор обслуживания.\n",
    "\n",
    "print(f\"Доля ушедших абонентов: {(df['exited'] == 1).mean():.1%}\")"
   ]
  },
  {
   "cell_type": "markdown",
   "metadata": {},
   "source": [
    "Рассчитаем статистики среднемесячных расходов для всех абонентов и отдельно - для ушедших."
   ]
  },
  {
   "cell_type": "code",
   "execution_count": 43,
   "metadata": {},
   "outputs": [
    {
     "data": {
      "text/html": [
       "<div>\n",
       "<style scoped>\n",
       "    .dataframe tbody tr th:only-of-type {\n",
       "        vertical-align: middle;\n",
       "    }\n",
       "\n",
       "    .dataframe tbody tr th {\n",
       "        vertical-align: top;\n",
       "    }\n",
       "\n",
       "    .dataframe thead th {\n",
       "        text-align: right;\n",
       "    }\n",
       "</style>\n",
       "<table border=\"1\" class=\"dataframe\">\n",
       "  <thead>\n",
       "    <tr style=\"text-align: right;\">\n",
       "      <th></th>\n",
       "      <th>all</th>\n",
       "      <th>exited</th>\n",
       "    </tr>\n",
       "  </thead>\n",
       "  <tbody>\n",
       "    <tr>\n",
       "      <th>count</th>\n",
       "      <td>7032.000000</td>\n",
       "      <td>1869.000000</td>\n",
       "    </tr>\n",
       "    <tr>\n",
       "      <th>mean</th>\n",
       "      <td>64.798208</td>\n",
       "      <td>74.441332</td>\n",
       "    </tr>\n",
       "    <tr>\n",
       "      <th>std</th>\n",
       "      <td>30.085974</td>\n",
       "      <td>24.666053</td>\n",
       "    </tr>\n",
       "    <tr>\n",
       "      <th>min</th>\n",
       "      <td>18.250000</td>\n",
       "      <td>18.850000</td>\n",
       "    </tr>\n",
       "    <tr>\n",
       "      <th>25%</th>\n",
       "      <td>35.587500</td>\n",
       "      <td>56.150000</td>\n",
       "    </tr>\n",
       "    <tr>\n",
       "      <th>50%</th>\n",
       "      <td>70.350000</td>\n",
       "      <td>79.650000</td>\n",
       "    </tr>\n",
       "    <tr>\n",
       "      <th>75%</th>\n",
       "      <td>89.862500</td>\n",
       "      <td>94.200000</td>\n",
       "    </tr>\n",
       "    <tr>\n",
       "      <th>max</th>\n",
       "      <td>118.750000</td>\n",
       "      <td>118.350000</td>\n",
       "    </tr>\n",
       "  </tbody>\n",
       "</table>\n",
       "</div>"
      ],
      "text/plain": [
       "               all       exited\n",
       "count  7032.000000  1869.000000\n",
       "mean     64.798208    74.441332\n",
       "std      30.085974    24.666053\n",
       "min      18.250000    18.850000\n",
       "25%      35.587500    56.150000\n",
       "50%      70.350000    79.650000\n",
       "75%      89.862500    94.200000\n",
       "max     118.750000   118.350000"
      ]
     },
     "execution_count": 43,
     "metadata": {},
     "output_type": "execute_result"
    }
   ],
   "source": [
    "'''\n",
    "Статистические характеристики по столбцу 'monthly_charges' \n",
    "для двух групп (все абоненты и ушедшие абоненты):\n",
    "количество абонентов, среднее значение расходов, их стандартное отклонение, \n",
    "минимум, 1-й квартиль, медиана, 3-й квартиль, максимум\n",
    "'''\n",
    "\n",
    "df_all = df['monthly_charges']\n",
    "df_exited = df.loc[df['exited'] == 1, 'monthly_charges']\n",
    "\n",
    "stats = pd.concat([df_all.describe(), \n",
    "                   df_exited.describe()],\n",
    "                  axis=1)\n",
    "stats.columns = ['all', 'exited']\n",
    "stats"
   ]
  },
  {
   "cell_type": "markdown",
   "metadata": {},
   "source": [
    "Построим соответствующие гистограммы распределения в сравнении."
   ]
  },
  {
   "cell_type": "code",
   "execution_count": 44,
   "metadata": {},
   "outputs": [
    {
     "data": {
      "image/png": "[encoded data removed]",
      "text/plain": [
       "<Figure size 720x360 with 1 Axes>"
      ]
     },
     "metadata": {
      "needs_background": "light"
     },
     "output_type": "display_data"
    }
   ],
   "source": [
    "# Гистограммы распределения количества всех и ушедших абонентов по их среднемесячным платежам.\n",
    "\n",
    "plt.figure(figsize=(10, 5))\n",
    "df_all.hist(color='dodgerblue', bins=15)\n",
    "df_exited.hist(color='orange', bins=15)\n",
    "plt.title('Среднемесячные платежи всех и ушедших абонентов')\n",
    "plt.xlabel('Среднемесячный платеж')\n",
    "plt.ylabel('Частота')\n",
    "plt.legend('ву')\n",
    "plt.show()"
   ]
  },
  {
   "cell_type": "markdown",
   "metadata": {},
   "source": [
    "Для большей наглядности соотношений частот просмотрим те же гистограммы, но с относительными частотами."
   ]
  },
  {
   "cell_type": "code",
   "execution_count": 45,
   "metadata": {
    "scrolled": false
   },
   "outputs": [
    {
     "data": {
      "image/png": "[encoded data removed]",
      "text/plain": [
       "<Figure size 720x360 with 1 Axes>"
      ]
     },
     "metadata": {
      "needs_background": "light"
     },
     "output_type": "display_data"
    }
   ],
   "source": [
    "# Гистограммы распределения долей всех и ушедших абонентов по их среднемесячным платежам.\n",
    "\n",
    "weights_all = np.ones_like(df_all) / len(df_all)\n",
    "weights_exited = (np.ones_like(df_exited) / len(df_exited))\n",
    "                              \n",
    "plt.figure(figsize=(10, 5))\n",
    "df_all.hist(color='dodgerblue', bins=15, weights=weights_all, alpha=0.9)\n",
    "df_exited.hist(color='orange', bins=15, weights=weights_exited, alpha=0.7)\n",
    "plt.title('Среднемесячные платежи всех и ушедших абонентов')\n",
    "plt.xlabel('Среднемесячный платеж')\n",
    "plt.ylabel('Относительная частота')\n",
    "plt.legend('ву')\n",
    "plt.show()"
   ]
  },
  {
   "cell_type": "markdown",
   "metadata": {},
   "source": [
    "Из графиков следует, что немалую часть отказавшихся от услуг компании составляют абоненты со среднемесячным расходом в 70-100 у.е. При этом, абонентов, которые тратили 20-30 у.е. в месяц, среди них очень мало. Зато таковых в 8 раз больше среди оставшихся. Более наглядно это можно продемонстрировать на диаграмме размаха."
   ]
  },
  {
   "cell_type": "code",
   "execution_count": 46,
   "metadata": {},
   "outputs": [
    {
     "data": {
      "image/png": "[encoded data removed]",
      "text/plain": [
       "<Figure size 288x432 with 1 Axes>"
      ]
     },
     "metadata": {
      "needs_background": "light"
     },
     "output_type": "display_data"
    }
   ],
   "source": [
    "# График \"Ящик с усами\", демонстрирующий две группы абонентов (все и ушедшие)\n",
    "# в сравнении разброса значений в их среднемесячных платежах\n",
    "\n",
    "plt.figure(figsize=(4, 6))\n",
    "plt.boxplot([df_all, df_exited], \n",
    "            patch_artist = True, \n",
    "            widths=0.6, \n",
    "            labels=['Все абоненты', 'Ушедшие абоненты'])\n",
    "plt.ylabel('Среднемесячные платежи')\n",
    "plt.yticks(np.arange(0, 130, 10))\n",
    "plt.show()"
   ]
  },
  {
   "cell_type": "markdown",
   "metadata": {},
   "source": [
    "Из диаграммы видно, что у распределения среднемесячных платежей ушедших абонентов межквартильный размах уже, а медиана - выше. Таким образом, компания теряет наиболее платежеспособных абонентов."
   ]
  },
  {
   "cell_type": "markdown",
   "metadata": {},
   "source": [
    "### Распределение по видам услуг"
   ]
  },
  {
   "cell_type": "markdown",
   "metadata": {},
   "source": [
    "Представим в виде круговых диаграмм соотношения долей пользователей услуг телефонии и интернета среди всех абонентов и среди тех, кто ушел."
   ]
  },
  {
   "cell_type": "code",
   "execution_count": 47,
   "metadata": {},
   "outputs": [
    {
     "data": {
      "image/png": "[encoded data removed]",
      "text/plain": [
       "<Figure size 720x720 with 4 Axes>"
      ]
     },
     "metadata": {},
     "output_type": "display_data"
    }
   ],
   "source": [
    "# Круговые диаграммы с распределением долей\n",
    "# пользователей телефонной связи и интернет-пользователей\n",
    "\n",
    "f, ax = plt.subplots(2, 2, figsize=(10, 10))\n",
    "f.suptitle('Доли пользователей телефонной связи и интернет-пользователей', \n",
    "           size=20)\n",
    "\n",
    "columns = ['multiple_lines', 'internet_service']\n",
    "colors = [[['deepskyblue', 'gold', 'grey'],\n",
    "           ['gold', 'deepskyblue', 'grey']],\n",
    "          [['c', 'm', 'grey'],\n",
    "           ['c', 'm', 'grey']]]\n",
    "\n",
    "for i in range(2):\n",
    "    df_lst = [df[columns[i]], df.loc[df['exited'] == 1, columns[i]]]\n",
    "    lbl_lst = [['Многоканальная линия (среди всех)', \n",
    "               'Многоканальная линия (среди ушедших)'],\n",
    "               ['Тип интернет-подключения (среди всех)', \n",
    "               'Тип интернет-подключения (среди ушедших)']]\n",
    "    for j in range(2):\n",
    "        feature = df_lst[j].value_counts()\n",
    "        ax[i][j].pie(feature, labels=feature.index, \n",
    "                     autopct='%.1f%%', colors=colors[i][j])\n",
    "        ax[i][j].set_title(lbl_lst[i][j])\n",
    "\n",
    "plt.show()"
   ]
  },
  {
   "cell_type": "markdown",
   "metadata": {},
   "source": [
    "### Выводы по дополнительному исследованию"
   ]
  },
  {
   "cell_type": "markdown",
   "metadata": {},
   "source": [
    "1. Из 7032 абонентов 1869 расторгли договор обслуживания с оператором связи. Доля ушедших абонентов составляет чуть больше четверти.\n",
    "\n",
    "\n",
    "2. Среднее значение ежемесячных платежей среди всех абонентов - 64.8 у.е., однако каждый ушедший абонент тратил в среднем по 74.4 у.е. в месяц.\n",
    "\n",
    "\n",
    "3. Минимумы и максимумы ежемесячных платежей практически одинаковы у двух групп: 18-19 у.е. и 118-119, соответственно.\n",
    "\n",
    "\n",
    "4. Распределения квартилей у групп заметно отличаются. Четверть всех абонентов платит менее 35.6 у.е. в месяц; для той же доли ушедших эта цифра составила 56.2 у.е. В центре списка абонентов, отсортированного по размеру ежемесячных платежей, стоит пользователь с расходом в 70.4 у.е.; аналогичный список ушедших абонентов делит пополам пользователь, приносивший компании 80 у.е. в месяц. Наконец, не более 89.9 у.е. и 94.2 у.е. тратили на телеком-услуги 75% абонентов, соответственно, из всего списка и из списка расторгших договор обслуживания.\n",
    "\n",
    "\n",
    "5. Разброс в значениях у двух групп также имеет различия: в случае с ушедшими абонентами он меньше (стандартное отклонение - 24.7 у.е. против 30.1 у.е. у всех пользователей).\n",
    "\n",
    "\n",
    "6. Гистограммы с абсолютной и относительной частотами наглядно демонстрируют, что значительную часть ушедших составляют абоненты со среднемесячным расходом в 70-100 у.е. При этом, абонентов, которые тратили 20-30 у.е. в месяц, среди них очень мало. У распределения ушедших абонентов межквартильный размах меньше, а медиана - больше. Таким образом, компания не просто теряет абонентов, она при этом теряет наиболее крупных.\n",
    "\n",
    "\n",
    "7. Соотношения между долями пользователей телефонной связи мало отличаются у двух групп: среди всех пользователей одну линию имеет 48.1% абонентов, среди ушедших - 45.4%; более одной линии - 42.2% и 45.5%, соответственно. 9.7% всех клиентов компании и 9.1% сменивших оператора - не пользовались услугами телефонии.\n",
    "\n",
    "\n",
    "8. Доли интернет-пользователей распределились следующим образом: 44.0% всех абонентов оператора были активными пользователями оптоволоконного интернета, но среди ушедших доля таковых составила 69.4%; 34.4% всех и 24.6% абонентов пользовались подключением по технологии DSL. Наконец, вообще без интернета обходилось 21.6% всего списка и лишь 6.0% покинувших компанию клиентов."
   ]
  }
 ],
 "metadata": {
  "ExecuteTimeLog": [
   {
    "duration": 1464,
    "start_time": "2022-10-17T14:43:28.880Z"
   },
   {
    "duration": 3,
    "start_time": "2022-10-17T14:43:50.131Z"
   },
   {
    "duration": 182,
    "start_time": "2022-10-17T14:43:52.362Z"
   },
   {
    "duration": 21,
    "start_time": "2022-10-17T14:44:05.414Z"
   },
   {
    "duration": 9,
    "start_time": "2022-10-17T14:48:03.991Z"
   },
   {
    "duration": 71,
    "start_time": "2022-10-17T14:48:13.943Z"
   },
   {
    "duration": 11,
    "start_time": "2022-10-17T14:48:16.358Z"
   },
   {
    "duration": 10,
    "start_time": "2022-10-17T14:48:17.347Z"
   },
   {
    "duration": 11,
    "start_time": "2022-10-17T14:48:18.492Z"
   },
   {
    "duration": 8,
    "start_time": "2022-10-17T14:48:19.178Z"
   },
   {
    "duration": 85,
    "start_time": "2022-10-17T16:00:35.291Z"
   },
   {
    "duration": 13,
    "start_time": "2022-10-17T16:00:37.218Z"
   },
   {
    "duration": 10,
    "start_time": "2022-10-17T16:00:37.875Z"
   },
   {
    "duration": 16,
    "start_time": "2022-10-17T16:00:38.087Z"
   },
   {
    "duration": 7,
    "start_time": "2022-10-17T16:00:38.484Z"
   },
   {
    "duration": 14,
    "start_time": "2022-10-17T16:15:34.546Z"
   },
   {
    "duration": 21,
    "start_time": "2022-10-17T16:16:17.480Z"
   },
   {
    "duration": 8,
    "start_time": "2022-10-17T16:17:11.378Z"
   },
   {
    "duration": 12,
    "start_time": "2022-10-17T16:17:46.473Z"
   },
   {
    "duration": 6,
    "start_time": "2022-10-17T16:18:12.191Z"
   },
   {
    "duration": 13,
    "start_time": "2022-10-17T16:18:30.954Z"
   },
   {
    "duration": 7,
    "start_time": "2022-10-17T16:19:58.950Z"
   },
   {
    "duration": 14,
    "start_time": "2022-10-17T16:20:19.791Z"
   },
   {
    "duration": 10,
    "start_time": "2022-10-17T16:20:21.498Z"
   },
   {
    "duration": 9,
    "start_time": "2022-10-17T16:20:52.161Z"
   },
   {
    "duration": 15,
    "start_time": "2022-10-17T16:21:00.350Z"
   },
   {
    "duration": 20,
    "start_time": "2022-10-17T16:21:10.168Z"
   },
   {
    "duration": 35,
    "start_time": "2022-10-17T16:21:47.408Z"
   },
   {
    "duration": 10,
    "start_time": "2022-10-17T16:23:11.657Z"
   },
   {
    "duration": 9,
    "start_time": "2022-10-17T16:23:43.801Z"
   },
   {
    "duration": 9,
    "start_time": "2022-10-17T16:23:55.472Z"
   },
   {
    "duration": 12,
    "start_time": "2022-10-17T16:25:47.533Z"
   },
   {
    "duration": 10,
    "start_time": "2022-10-17T16:26:37.042Z"
   },
   {
    "duration": 341,
    "start_time": "2022-10-17T16:27:47.140Z"
   },
   {
    "duration": 16,
    "start_time": "2022-10-17T16:29:06.693Z"
   },
   {
    "duration": 13,
    "start_time": "2022-10-17T16:29:25.028Z"
   },
   {
    "duration": 9,
    "start_time": "2022-10-17T16:38:57.660Z"
   },
   {
    "duration": 14,
    "start_time": "2022-10-17T16:39:22.966Z"
   },
   {
    "duration": 21,
    "start_time": "2022-10-17T16:39:35.322Z"
   },
   {
    "duration": 15,
    "start_time": "2022-10-17T16:39:58.306Z"
   },
   {
    "duration": 12,
    "start_time": "2022-10-17T16:40:08.614Z"
   },
   {
    "duration": 2,
    "start_time": "2022-10-17T16:40:13.075Z"
   },
   {
    "duration": 16,
    "start_time": "2022-10-17T16:40:23.457Z"
   },
   {
    "duration": 61,
    "start_time": "2022-10-17T16:40:53.430Z"
   },
   {
    "duration": 10,
    "start_time": "2022-10-17T16:40:57.186Z"
   },
   {
    "duration": 9,
    "start_time": "2022-10-17T16:41:16.638Z"
   },
   {
    "duration": 9,
    "start_time": "2022-10-17T16:41:22.734Z"
   },
   {
    "duration": 13,
    "start_time": "2022-10-17T16:41:25.468Z"
   },
   {
    "duration": 7,
    "start_time": "2022-10-17T16:41:40.242Z"
   },
   {
    "duration": 4,
    "start_time": "2022-10-17T16:42:16.356Z"
   },
   {
    "duration": 10,
    "start_time": "2022-10-17T16:44:03.134Z"
   },
   {
    "duration": 10,
    "start_time": "2022-10-17T16:44:08.534Z"
   },
   {
    "duration": 15,
    "start_time": "2022-10-17T16:44:54.739Z"
   },
   {
    "duration": 336,
    "start_time": "2022-10-17T16:50:16.240Z"
   },
   {
    "duration": 6,
    "start_time": "2022-10-17T16:50:25.193Z"
   },
   {
    "duration": 4,
    "start_time": "2022-10-17T16:50:39.444Z"
   },
   {
    "duration": 15,
    "start_time": "2022-10-17T16:50:50.353Z"
   },
   {
    "duration": 303,
    "start_time": "2022-10-17T17:06:42.199Z"
   },
   {
    "duration": 160,
    "start_time": "2022-10-17T17:09:44.267Z"
   },
   {
    "duration": 172,
    "start_time": "2022-10-17T17:09:45.677Z"
   },
   {
    "duration": 160,
    "start_time": "2022-10-17T17:14:01.348Z"
   },
   {
    "duration": 5,
    "start_time": "2022-10-17T17:14:05.450Z"
   },
   {
    "duration": 5,
    "start_time": "2022-10-17T17:14:51.178Z"
   },
   {
    "duration": 12,
    "start_time": "2022-10-17T17:22:07.163Z"
   },
   {
    "duration": 16,
    "start_time": "2022-10-17T17:22:40.455Z"
   },
   {
    "duration": 12,
    "start_time": "2022-10-17T17:23:26.205Z"
   },
   {
    "duration": 11,
    "start_time": "2022-10-17T17:23:26.872Z"
   },
   {
    "duration": 178,
    "start_time": "2022-10-17T17:25:47.010Z"
   },
   {
    "duration": 150,
    "start_time": "2022-10-17T17:25:51.530Z"
   },
   {
    "duration": 195,
    "start_time": "2022-10-17T17:26:00.713Z"
   },
   {
    "duration": 257,
    "start_time": "2022-10-17T17:26:08.590Z"
   },
   {
    "duration": 155,
    "start_time": "2022-10-17T17:26:15.354Z"
   },
   {
    "duration": 893,
    "start_time": "2022-10-17T17:27:12.470Z"
   },
   {
    "duration": 870,
    "start_time": "2022-10-17T17:28:26.906Z"
   },
   {
    "duration": 920,
    "start_time": "2022-10-17T17:28:37.254Z"
   },
   {
    "duration": 942,
    "start_time": "2022-10-17T17:28:42.936Z"
   },
   {
    "duration": 852,
    "start_time": "2022-10-17T17:28:52.098Z"
   },
   {
    "duration": 990,
    "start_time": "2022-10-17T17:29:07.059Z"
   },
   {
    "duration": 1050,
    "start_time": "2022-10-17T17:29:23.303Z"
   },
   {
    "duration": 840,
    "start_time": "2022-10-17T17:32:04.411Z"
   },
   {
    "duration": 12,
    "start_time": "2022-10-17T17:47:24.608Z"
   },
   {
    "duration": 11,
    "start_time": "2022-10-17T17:47:46.133Z"
   },
   {
    "duration": 17,
    "start_time": "2022-10-17T17:48:37.811Z"
   },
   {
    "duration": 13,
    "start_time": "2022-10-17T17:48:42.532Z"
   },
   {
    "duration": 4,
    "start_time": "2022-10-17T17:49:15.855Z"
   },
   {
    "duration": 867,
    "start_time": "2022-10-17T17:50:47.123Z"
   },
   {
    "duration": 14,
    "start_time": "2022-10-17T17:51:03.337Z"
   },
   {
    "duration": 7,
    "start_time": "2022-10-17T17:52:46.553Z"
   },
   {
    "duration": 12,
    "start_time": "2022-10-17T17:57:34.365Z"
   },
   {
    "duration": 11,
    "start_time": "2022-10-17T17:58:15.517Z"
   },
   {
    "duration": 23,
    "start_time": "2022-10-17T18:00:58.473Z"
   },
   {
    "duration": 21,
    "start_time": "2022-10-17T18:01:19.849Z"
   },
   {
    "duration": 733,
    "start_time": "2022-10-17T18:02:18.272Z"
   },
   {
    "duration": 13,
    "start_time": "2022-10-17T18:02:36.421Z"
   },
   {
    "duration": 11,
    "start_time": "2022-10-17T18:02:42.491Z"
   },
   {
    "duration": 12,
    "start_time": "2022-10-17T18:03:26.808Z"
   },
   {
    "duration": 10,
    "start_time": "2022-10-17T18:07:54.419Z"
   },
   {
    "duration": 7,
    "start_time": "2022-10-17T18:08:08.484Z"
   },
   {
    "duration": 7,
    "start_time": "2022-10-17T18:08:35.144Z"
   },
   {
    "duration": 12,
    "start_time": "2022-10-17T18:08:50.021Z"
   },
   {
    "duration": 8,
    "start_time": "2022-10-17T18:10:48.346Z"
   },
   {
    "duration": 10,
    "start_time": "2022-10-17T18:10:51.199Z"
   },
   {
    "duration": 727,
    "start_time": "2022-10-17T18:11:50.474Z"
   },
   {
    "duration": 4,
    "start_time": "2022-10-17T18:12:07.527Z"
   },
   {
    "duration": 7,
    "start_time": "2022-10-17T18:12:17.718Z"
   },
   {
    "duration": 10,
    "start_time": "2022-10-17T18:13:37.100Z"
   },
   {
    "duration": 7,
    "start_time": "2022-10-17T18:13:43.493Z"
   },
   {
    "duration": 18,
    "start_time": "2022-10-17T18:14:07.042Z"
   },
   {
    "duration": 18,
    "start_time": "2022-10-17T18:14:31.619Z"
   },
   {
    "duration": 7,
    "start_time": "2022-10-17T18:15:01.311Z"
   },
   {
    "duration": 8,
    "start_time": "2022-10-17T19:04:11.291Z"
   },
   {
    "duration": 9,
    "start_time": "2022-10-17T19:04:57.642Z"
   },
   {
    "duration": 8,
    "start_time": "2022-10-17T19:05:45.419Z"
   },
   {
    "duration": 6,
    "start_time": "2022-10-17T19:06:17.732Z"
   },
   {
    "duration": 10,
    "start_time": "2022-10-17T19:07:24.181Z"
   },
   {
    "duration": 8,
    "start_time": "2022-10-17T19:09:57.083Z"
   },
   {
    "duration": 6,
    "start_time": "2022-10-17T19:10:42.405Z"
   },
   {
    "duration": 9,
    "start_time": "2022-10-17T19:11:17.259Z"
   },
   {
    "duration": 11,
    "start_time": "2022-10-17T19:13:02.349Z"
   },
   {
    "duration": 9,
    "start_time": "2022-10-17T19:13:33.100Z"
   },
   {
    "duration": 11,
    "start_time": "2022-10-17T19:13:58.585Z"
   },
   {
    "duration": 18,
    "start_time": "2022-10-17T19:14:03.419Z"
   },
   {
    "duration": 4,
    "start_time": "2022-10-17T19:19:24.484Z"
   },
   {
    "duration": 69,
    "start_time": "2022-10-17T19:19:24.963Z"
   },
   {
    "duration": 12,
    "start_time": "2022-10-17T19:19:25.911Z"
   },
   {
    "duration": 13,
    "start_time": "2022-10-17T19:19:26.527Z"
   },
   {
    "duration": 7,
    "start_time": "2022-10-17T19:19:26.888Z"
   },
   {
    "duration": 14,
    "start_time": "2022-10-17T19:19:27.257Z"
   },
   {
    "duration": 3,
    "start_time": "2022-10-17T19:19:34.816Z"
   },
   {
    "duration": 67,
    "start_time": "2022-10-17T19:19:35.073Z"
   },
   {
    "duration": 11,
    "start_time": "2022-10-17T19:19:36.107Z"
   },
   {
    "duration": 12,
    "start_time": "2022-10-17T19:19:37.782Z"
   },
   {
    "duration": 3,
    "start_time": "2022-10-17T19:26:27.402Z"
   },
   {
    "duration": 78,
    "start_time": "2022-10-17T19:26:27.984Z"
   },
   {
    "duration": 15,
    "start_time": "2022-10-17T19:26:34.316Z"
   },
   {
    "duration": 19,
    "start_time": "2022-10-17T19:26:36.125Z"
   },
   {
    "duration": 15,
    "start_time": "2022-10-17T19:26:46.758Z"
   },
   {
    "duration": 16,
    "start_time": "2022-10-17T19:26:47.264Z"
   },
   {
    "duration": 9,
    "start_time": "2022-10-17T19:26:47.744Z"
   },
   {
    "duration": 19,
    "start_time": "2022-10-17T19:26:48.048Z"
   },
   {
    "duration": 330,
    "start_time": "2022-10-17T19:26:48.253Z"
   },
   {
    "duration": 10,
    "start_time": "2022-10-17T19:26:48.641Z"
   },
   {
    "duration": 12,
    "start_time": "2022-10-17T19:26:48.832Z"
   },
   {
    "duration": 13,
    "start_time": "2022-10-17T19:26:49.029Z"
   },
   {
    "duration": 9,
    "start_time": "2022-10-17T19:26:49.200Z"
   },
   {
    "duration": 11,
    "start_time": "2022-10-17T19:26:49.599Z"
   },
   {
    "duration": 13,
    "start_time": "2022-10-17T19:26:49.798Z"
   },
   {
    "duration": 23,
    "start_time": "2022-10-17T19:26:49.992Z"
   },
   {
    "duration": 8,
    "start_time": "2022-10-17T19:26:50.196Z"
   },
   {
    "duration": 11,
    "start_time": "2022-10-17T19:26:50.376Z"
   },
   {
    "duration": 7,
    "start_time": "2022-10-17T19:26:50.816Z"
   },
   {
    "duration": 10,
    "start_time": "2022-10-17T19:26:51.346Z"
   },
   {
    "duration": 7,
    "start_time": "2022-10-17T19:26:52.070Z"
   },
   {
    "duration": 8,
    "start_time": "2022-10-17T19:26:52.527Z"
   },
   {
    "duration": 167,
    "start_time": "2022-10-17T19:30:47.803Z"
   },
   {
    "duration": 164,
    "start_time": "2022-10-17T19:31:06.868Z"
   },
   {
    "duration": 159,
    "start_time": "2022-10-17T19:31:27.236Z"
   },
   {
    "duration": 42,
    "start_time": "2022-10-17T23:42:40.768Z"
   },
   {
    "duration": 1278,
    "start_time": "2022-10-17T23:42:53.644Z"
   },
   {
    "duration": 170,
    "start_time": "2022-10-17T23:42:54.924Z"
   },
   {
    "duration": 15,
    "start_time": "2022-10-17T23:42:55.096Z"
   },
   {
    "duration": 12,
    "start_time": "2022-10-17T23:42:55.113Z"
   },
   {
    "duration": 8,
    "start_time": "2022-10-17T23:42:55.127Z"
   },
   {
    "duration": 11,
    "start_time": "2022-10-17T23:42:55.137Z"
   },
   {
    "duration": 15,
    "start_time": "2022-10-17T23:42:55.149Z"
   },
   {
    "duration": 12,
    "start_time": "2022-10-17T23:42:55.292Z"
   },
   {
    "duration": 158,
    "start_time": "2022-10-17T23:42:55.415Z"
   },
   {
    "duration": 9,
    "start_time": "2022-10-17T23:42:55.788Z"
   },
   {
    "duration": 15,
    "start_time": "2022-10-17T23:42:56.149Z"
   },
   {
    "duration": 11,
    "start_time": "2022-10-17T23:42:56.498Z"
   },
   {
    "duration": 9,
    "start_time": "2022-10-17T23:42:57.039Z"
   },
   {
    "duration": 10,
    "start_time": "2022-10-17T23:43:08.471Z"
   },
   {
    "duration": 18,
    "start_time": "2022-10-17T23:43:22.608Z"
   },
   {
    "duration": 11,
    "start_time": "2022-10-17T23:43:33.473Z"
   },
   {
    "duration": 15,
    "start_time": "2022-10-17T23:47:17.542Z"
   },
   {
    "duration": 822,
    "start_time": "2022-10-18T00:29:10.512Z"
   },
   {
    "duration": 14,
    "start_time": "2022-10-18T00:29:24.744Z"
   },
   {
    "duration": 10,
    "start_time": "2022-10-18T00:29:37.216Z"
   },
   {
    "duration": 1333,
    "start_time": "2022-10-18T13:37:43.841Z"
   },
   {
    "duration": 97,
    "start_time": "2022-10-18T13:42:58.569Z"
   },
   {
    "duration": 441,
    "start_time": "2022-10-18T13:43:06.293Z"
   },
   {
    "duration": 15,
    "start_time": "2022-10-18T13:43:08.954Z"
   },
   {
    "duration": 12,
    "start_time": "2022-10-18T13:43:09.173Z"
   },
   {
    "duration": 8,
    "start_time": "2022-10-18T13:43:09.277Z"
   },
   {
    "duration": 25,
    "start_time": "2022-10-18T13:43:09.412Z"
   },
   {
    "duration": 17,
    "start_time": "2022-10-18T13:43:09.510Z"
   },
   {
    "duration": 13,
    "start_time": "2022-10-18T13:43:09.654Z"
   },
   {
    "duration": 152,
    "start_time": "2022-10-18T13:43:09.935Z"
   },
   {
    "duration": 8,
    "start_time": "2022-10-18T13:43:10.234Z"
   },
   {
    "duration": 11,
    "start_time": "2022-10-18T13:43:10.398Z"
   },
   {
    "duration": 7,
    "start_time": "2022-10-18T13:43:10.577Z"
   },
   {
    "duration": 10,
    "start_time": "2022-10-18T13:43:10.764Z"
   },
   {
    "duration": 11,
    "start_time": "2022-10-18T13:43:11.243Z"
   },
   {
    "duration": 11,
    "start_time": "2022-10-18T13:43:11.569Z"
   },
   {
    "duration": 12,
    "start_time": "2022-10-18T13:43:11.745Z"
   },
   {
    "duration": 8,
    "start_time": "2022-10-18T13:43:11.916Z"
   },
   {
    "duration": 15,
    "start_time": "2022-10-18T13:43:12.068Z"
   },
   {
    "duration": 7,
    "start_time": "2022-10-18T13:43:12.559Z"
   },
   {
    "duration": 10,
    "start_time": "2022-10-18T13:43:12.709Z"
   },
   {
    "duration": 8,
    "start_time": "2022-10-18T13:43:12.873Z"
   },
   {
    "duration": 6,
    "start_time": "2022-10-18T13:43:13.063Z"
   },
   {
    "duration": 9,
    "start_time": "2022-10-18T13:43:14.095Z"
   },
   {
    "duration": 1405,
    "start_time": "2022-10-18T13:43:28.485Z"
   },
   {
    "duration": 8,
    "start_time": "2022-10-18T13:43:49.649Z"
   },
   {
    "duration": 12,
    "start_time": "2022-10-18T14:13:51.074Z"
   },
   {
    "duration": 18,
    "start_time": "2022-10-18T14:13:57.256Z"
   },
   {
    "duration": 13,
    "start_time": "2022-10-18T14:14:18.286Z"
   },
   {
    "duration": 2,
    "start_time": "2022-10-18T14:20:30.508Z"
   },
   {
    "duration": 119,
    "start_time": "2022-10-18T14:20:30.840Z"
   },
   {
    "duration": 24,
    "start_time": "2022-10-18T14:20:38.745Z"
   },
   {
    "duration": 16,
    "start_time": "2022-10-18T14:20:41.197Z"
   },
   {
    "duration": 3,
    "start_time": "2022-10-18T14:22:59.145Z"
   },
   {
    "duration": 108,
    "start_time": "2022-10-18T14:22:59.347Z"
   },
   {
    "duration": 105,
    "start_time": "2022-10-18T14:23:06.801Z"
   },
   {
    "duration": 66,
    "start_time": "2022-10-18T14:23:34.438Z"
   },
   {
    "duration": 13,
    "start_time": "2022-10-18T14:23:46.653Z"
   },
   {
    "duration": 15,
    "start_time": "2022-10-18T14:30:52.492Z"
   },
   {
    "duration": 18,
    "start_time": "2022-10-18T14:30:59.610Z"
   },
   {
    "duration": 3,
    "start_time": "2022-10-18T14:31:13.804Z"
   },
   {
    "duration": 103,
    "start_time": "2022-10-18T14:31:14.159Z"
   },
   {
    "duration": 28,
    "start_time": "2022-10-18T14:31:26.720Z"
   },
   {
    "duration": 16,
    "start_time": "2022-10-18T14:31:33.491Z"
   },
   {
    "duration": 19,
    "start_time": "2022-10-18T14:31:37.687Z"
   },
   {
    "duration": 2,
    "start_time": "2022-10-18T14:33:52.272Z"
   },
   {
    "duration": 101,
    "start_time": "2022-10-18T14:33:52.506Z"
   },
   {
    "duration": 88,
    "start_time": "2022-10-18T14:33:59.033Z"
   },
   {
    "duration": 23,
    "start_time": "2022-10-18T14:34:04.410Z"
   },
   {
    "duration": 15,
    "start_time": "2022-10-18T14:34:08.613Z"
   },
   {
    "duration": 22,
    "start_time": "2022-10-18T14:34:34.985Z"
   },
   {
    "duration": 15,
    "start_time": "2022-10-18T14:34:36.812Z"
   },
   {
    "duration": 15,
    "start_time": "2022-10-18T14:39:42.505Z"
   },
   {
    "duration": 20,
    "start_time": "2022-10-18T14:40:16.566Z"
   },
   {
    "duration": 19,
    "start_time": "2022-10-18T14:41:07.981Z"
   },
   {
    "duration": 15,
    "start_time": "2022-10-18T14:41:28.581Z"
   },
   {
    "duration": 3,
    "start_time": "2022-10-18T14:41:54.709Z"
   },
   {
    "duration": 97,
    "start_time": "2022-10-18T14:41:55.094Z"
   },
   {
    "duration": 25,
    "start_time": "2022-10-18T14:42:00.378Z"
   },
   {
    "duration": 20,
    "start_time": "2022-10-18T14:42:05.742Z"
   },
   {
    "duration": 9,
    "start_time": "2022-10-18T14:42:07.541Z"
   },
   {
    "duration": 17,
    "start_time": "2022-10-18T14:42:08.886Z"
   },
   {
    "duration": 5,
    "start_time": "2022-10-18T14:42:21.248Z"
   },
   {
    "duration": 16,
    "start_time": "2022-10-18T14:42:24.457Z"
   },
   {
    "duration": 3,
    "start_time": "2022-10-18T14:45:39.884Z"
   },
   {
    "duration": 99,
    "start_time": "2022-10-18T14:45:40.093Z"
   },
   {
    "duration": 23,
    "start_time": "2022-10-18T14:45:46.362Z"
   },
   {
    "duration": 20,
    "start_time": "2022-10-18T14:45:47.569Z"
   },
   {
    "duration": 22,
    "start_time": "2022-10-18T15:05:34.569Z"
   },
   {
    "duration": 5,
    "start_time": "2022-10-18T15:05:36.209Z"
   },
   {
    "duration": 21,
    "start_time": "2022-10-18T15:07:07.117Z"
   },
   {
    "duration": 4,
    "start_time": "2022-10-18T15:09:01.876Z"
   },
   {
    "duration": 4,
    "start_time": "2022-10-18T15:09:18.227Z"
   },
   {
    "duration": 22,
    "start_time": "2022-10-18T15:32:39.065Z"
   },
   {
    "duration": 15,
    "start_time": "2022-10-18T15:32:43.672Z"
   },
   {
    "duration": 22,
    "start_time": "2022-10-18T15:32:48.269Z"
   },
   {
    "duration": 23,
    "start_time": "2022-10-18T15:33:45.782Z"
   },
   {
    "duration": 21,
    "start_time": "2022-10-18T15:33:46.413Z"
   },
   {
    "duration": 23,
    "start_time": "2022-10-18T15:34:09.354Z"
   },
   {
    "duration": 20,
    "start_time": "2022-10-18T15:34:10.056Z"
   },
   {
    "duration": 26,
    "start_time": "2022-10-18T15:34:49.837Z"
   },
   {
    "duration": 10,
    "start_time": "2022-10-18T15:35:07.016Z"
   },
   {
    "duration": 21,
    "start_time": "2022-10-18T15:35:14.310Z"
   },
   {
    "duration": 29,
    "start_time": "2022-10-18T15:35:18.447Z"
   },
   {
    "duration": 10,
    "start_time": "2022-10-18T15:35:19.291Z"
   },
   {
    "duration": 22,
    "start_time": "2022-10-18T15:35:20.738Z"
   },
   {
    "duration": 21,
    "start_time": "2022-10-18T15:35:32.921Z"
   },
   {
    "duration": 24,
    "start_time": "2022-10-18T15:35:37.769Z"
   },
   {
    "duration": 8,
    "start_time": "2022-10-18T15:35:38.150Z"
   },
   {
    "duration": 19,
    "start_time": "2022-10-18T15:35:38.419Z"
   },
   {
    "duration": 22,
    "start_time": "2022-10-18T15:39:42.644Z"
   },
   {
    "duration": 9,
    "start_time": "2022-10-18T15:39:43.171Z"
   },
   {
    "duration": 21,
    "start_time": "2022-10-18T15:39:44.610Z"
   },
   {
    "duration": 28,
    "start_time": "2022-10-18T15:39:56.180Z"
   },
   {
    "duration": 8,
    "start_time": "2022-10-18T15:39:56.951Z"
   },
   {
    "duration": 21,
    "start_time": "2022-10-18T15:39:58.228Z"
   },
   {
    "duration": 27,
    "start_time": "2022-10-18T15:40:30.804Z"
   },
   {
    "duration": 10,
    "start_time": "2022-10-18T15:40:31.650Z"
   },
   {
    "duration": 23,
    "start_time": "2022-10-18T15:40:32.758Z"
   },
   {
    "duration": 24,
    "start_time": "2022-10-18T15:42:27.494Z"
   },
   {
    "duration": 9,
    "start_time": "2022-10-18T15:42:28.060Z"
   },
   {
    "duration": 21,
    "start_time": "2022-10-18T15:42:29.573Z"
   },
   {
    "duration": 24,
    "start_time": "2022-10-18T15:42:53.634Z"
   },
   {
    "duration": 9,
    "start_time": "2022-10-18T15:42:54.106Z"
   },
   {
    "duration": 23,
    "start_time": "2022-10-18T15:42:55.051Z"
   },
   {
    "duration": 24,
    "start_time": "2022-10-18T15:43:08.183Z"
   },
   {
    "duration": 9,
    "start_time": "2022-10-18T15:43:08.643Z"
   },
   {
    "duration": 21,
    "start_time": "2022-10-18T15:43:09.473Z"
   },
   {
    "duration": 23,
    "start_time": "2022-10-18T15:43:50.013Z"
   },
   {
    "duration": 9,
    "start_time": "2022-10-18T15:43:50.305Z"
   },
   {
    "duration": 3,
    "start_time": "2022-10-18T15:44:14.809Z"
   },
   {
    "duration": 4,
    "start_time": "2022-10-18T15:44:45.435Z"
   },
   {
    "duration": 4,
    "start_time": "2022-10-18T15:45:10.701Z"
   },
   {
    "duration": 3,
    "start_time": "2022-10-18T15:47:21.058Z"
   },
   {
    "duration": 3,
    "start_time": "2022-10-18T15:47:36.430Z"
   },
   {
    "duration": 4,
    "start_time": "2022-10-18T15:49:51.667Z"
   },
   {
    "duration": 3,
    "start_time": "2022-10-18T15:51:03.233Z"
   },
   {
    "duration": 9,
    "start_time": "2022-10-18T15:53:14.887Z"
   },
   {
    "duration": 8,
    "start_time": "2022-10-18T15:54:23.042Z"
   },
   {
    "duration": 4,
    "start_time": "2022-10-18T15:55:49.556Z"
   },
   {
    "duration": 4,
    "start_time": "2022-10-18T15:56:15.568Z"
   },
   {
    "duration": 3,
    "start_time": "2022-10-18T15:57:06.939Z"
   },
   {
    "duration": 4,
    "start_time": "2022-10-18T15:57:13.077Z"
   },
   {
    "duration": 5,
    "start_time": "2022-10-18T15:58:09.080Z"
   },
   {
    "duration": 4,
    "start_time": "2022-10-18T15:58:13.283Z"
   },
   {
    "duration": 5,
    "start_time": "2022-10-18T15:58:17.294Z"
   },
   {
    "duration": 4,
    "start_time": "2022-10-18T15:58:22.967Z"
   },
   {
    "duration": 4,
    "start_time": "2022-10-18T16:00:51.304Z"
   },
   {
    "duration": 4,
    "start_time": "2022-10-18T16:04:52.958Z"
   },
   {
    "duration": 5,
    "start_time": "2022-10-18T16:06:13.019Z"
   },
   {
    "duration": 4,
    "start_time": "2022-10-18T16:07:39.812Z"
   },
   {
    "duration": 4,
    "start_time": "2022-10-18T16:08:02.264Z"
   },
   {
    "duration": 3,
    "start_time": "2022-10-18T16:08:25.705Z"
   },
   {
    "duration": 3,
    "start_time": "2022-10-18T16:08:47.943Z"
   },
   {
    "duration": 3,
    "start_time": "2022-10-18T16:09:07.090Z"
   },
   {
    "duration": 4,
    "start_time": "2022-10-18T16:09:16.428Z"
   },
   {
    "duration": 5,
    "start_time": "2022-10-18T16:09:31.311Z"
   },
   {
    "duration": 4,
    "start_time": "2022-10-18T16:09:36.634Z"
   },
   {
    "duration": 4,
    "start_time": "2022-10-18T16:09:55.595Z"
   },
   {
    "duration": 22,
    "start_time": "2022-10-18T16:10:36.516Z"
   },
   {
    "duration": 8,
    "start_time": "2022-10-18T16:10:37.525Z"
   },
   {
    "duration": 22,
    "start_time": "2022-10-18T16:10:39.314Z"
   },
   {
    "duration": 8,
    "start_time": "2022-10-18T16:13:10.766Z"
   },
   {
    "duration": 5,
    "start_time": "2022-10-18T16:13:46.520Z"
   },
   {
    "duration": 23,
    "start_time": "2022-10-18T16:13:49.375Z"
   },
   {
    "duration": 13,
    "start_time": "2022-10-18T16:14:28.960Z"
   },
   {
    "duration": 6,
    "start_time": "2022-10-18T16:57:31.863Z"
   },
   {
    "duration": 22,
    "start_time": "2022-10-18T16:57:34.828Z"
   },
   {
    "duration": 20,
    "start_time": "2022-10-18T16:57:41.388Z"
   },
   {
    "duration": 10,
    "start_time": "2022-10-18T16:58:45.991Z"
   },
   {
    "duration": 26,
    "start_time": "2022-10-18T17:02:28.768Z"
   },
   {
    "duration": 17,
    "start_time": "2022-10-18T17:02:38.894Z"
   },
   {
    "duration": 13,
    "start_time": "2022-10-18T17:02:51.902Z"
   },
   {
    "duration": 17,
    "start_time": "2022-10-18T17:05:44.071Z"
   },
   {
    "duration": 2,
    "start_time": "2022-10-18T17:09:58.393Z"
   },
   {
    "duration": 103,
    "start_time": "2022-10-18T17:09:58.537Z"
   },
   {
    "duration": 22,
    "start_time": "2022-10-18T17:10:05.258Z"
   },
   {
    "duration": 23,
    "start_time": "2022-10-18T17:10:07.341Z"
   },
   {
    "duration": 5,
    "start_time": "2022-10-18T17:10:08.704Z"
   },
   {
    "duration": 15,
    "start_time": "2022-10-18T17:10:10.596Z"
   },
   {
    "duration": 25,
    "start_time": "2022-10-18T17:10:16.248Z"
   },
   {
    "duration": 4,
    "start_time": "2022-10-18T17:10:49.653Z"
   },
   {
    "duration": 31,
    "start_time": "2022-10-18T17:10:53.282Z"
   },
   {
    "duration": 19,
    "start_time": "2022-10-18T17:10:54.413Z"
   },
   {
    "duration": 9,
    "start_time": "2022-10-18T17:11:58.931Z"
   },
   {
    "duration": 17,
    "start_time": "2022-10-18T17:12:00.676Z"
   },
   {
    "duration": 7,
    "start_time": "2022-10-18T17:13:02.713Z"
   },
   {
    "duration": 20,
    "start_time": "2022-10-18T17:13:16.972Z"
   },
   {
    "duration": 24,
    "start_time": "2022-10-18T17:13:54.854Z"
   },
   {
    "duration": 21,
    "start_time": "2022-10-18T17:14:12.072Z"
   },
   {
    "duration": 12,
    "start_time": "2022-10-18T17:14:21.539Z"
   },
   {
    "duration": 10,
    "start_time": "2022-10-18T17:23:28.732Z"
   },
   {
    "duration": 20,
    "start_time": "2022-10-18T17:23:56.007Z"
   },
   {
    "duration": 13,
    "start_time": "2022-10-18T17:23:56.030Z"
   },
   {
    "duration": 32,
    "start_time": "2022-10-18T17:24:00.213Z"
   },
   {
    "duration": 24,
    "start_time": "2022-10-18T17:27:24.238Z"
   },
   {
    "duration": 21,
    "start_time": "2022-10-18T17:27:24.691Z"
   },
   {
    "duration": 5,
    "start_time": "2022-10-18T17:27:25.121Z"
   },
   {
    "duration": 19,
    "start_time": "2022-10-18T17:27:25.727Z"
   },
   {
    "duration": 24,
    "start_time": "2022-10-18T17:27:32.109Z"
   },
   {
    "duration": 28,
    "start_time": "2022-10-18T17:29:15.152Z"
   },
   {
    "duration": 29,
    "start_time": "2022-10-18T17:29:27.879Z"
   },
   {
    "duration": 25,
    "start_time": "2022-10-18T17:31:57.431Z"
   },
   {
    "duration": 22,
    "start_time": "2022-10-18T17:31:58.049Z"
   },
   {
    "duration": 6,
    "start_time": "2022-10-18T17:31:59.523Z"
   },
   {
    "duration": 9,
    "start_time": "2022-10-18T17:32:12.109Z"
   },
   {
    "duration": 26,
    "start_time": "2022-10-18T17:32:18.582Z"
   },
   {
    "duration": 21,
    "start_time": "2022-10-18T17:32:18.923Z"
   },
   {
    "duration": 17,
    "start_time": "2022-10-18T17:32:19.658Z"
   },
   {
    "duration": 25,
    "start_time": "2022-10-18T17:32:28.692Z"
   },
   {
    "duration": 26,
    "start_time": "2022-10-18T17:32:33.897Z"
   },
   {
    "duration": 29,
    "start_time": "2022-10-18T17:32:59.347Z"
   },
   {
    "duration": 21,
    "start_time": "2022-10-18T17:33:00.003Z"
   },
   {
    "duration": 17,
    "start_time": "2022-10-18T17:33:00.739Z"
   },
   {
    "duration": 11,
    "start_time": "2022-10-18T17:33:04.199Z"
   },
   {
    "duration": 24,
    "start_time": "2022-10-18T17:33:10.487Z"
   },
   {
    "duration": 29,
    "start_time": "2022-10-18T17:33:18.812Z"
   },
   {
    "duration": 28,
    "start_time": "2022-10-18T17:33:20.809Z"
   },
   {
    "duration": 22,
    "start_time": "2022-10-18T17:34:50.680Z"
   },
   {
    "duration": 24,
    "start_time": "2022-10-18T17:34:51.065Z"
   },
   {
    "duration": 22,
    "start_time": "2022-10-18T17:34:52.142Z"
   },
   {
    "duration": 45,
    "start_time": "2022-10-18T17:34:54.134Z"
   },
   {
    "duration": 28,
    "start_time": "2022-10-18T17:34:58.173Z"
   },
   {
    "duration": 10,
    "start_time": "2022-10-18T17:35:06.635Z"
   },
   {
    "duration": 21,
    "start_time": "2022-10-18T17:39:28.519Z"
   },
   {
    "duration": 11,
    "start_time": "2022-10-18T17:40:54.367Z"
   },
   {
    "duration": 21,
    "start_time": "2022-10-18T17:41:09.363Z"
   },
   {
    "duration": 13,
    "start_time": "2022-10-18T17:41:44.505Z"
   },
   {
    "duration": 21,
    "start_time": "2022-10-18T17:41:52.680Z"
   },
   {
    "duration": 14,
    "start_time": "2022-10-18T17:42:23.188Z"
   },
   {
    "duration": 22,
    "start_time": "2022-10-18T17:44:00.160Z"
   },
   {
    "duration": 11,
    "start_time": "2022-10-18T17:44:09.303Z"
   },
   {
    "duration": 9,
    "start_time": "2022-10-18T17:44:46.510Z"
   },
   {
    "duration": 4,
    "start_time": "2022-10-18T17:58:17.842Z"
   },
   {
    "duration": 17,
    "start_time": "2022-10-18T17:58:36.360Z"
   },
   {
    "duration": 14,
    "start_time": "2022-10-18T17:59:06.117Z"
   },
   {
    "duration": 17,
    "start_time": "2022-10-18T18:00:18.943Z"
   },
   {
    "duration": 3,
    "start_time": "2022-10-18T19:47:22.287Z"
   },
   {
    "duration": 101,
    "start_time": "2022-10-18T19:47:23.023Z"
   },
   {
    "duration": 22,
    "start_time": "2022-10-18T19:47:39.389Z"
   },
   {
    "duration": 19,
    "start_time": "2022-10-18T19:47:40.256Z"
   },
   {
    "duration": 17,
    "start_time": "2022-10-18T19:47:40.463Z"
   },
   {
    "duration": 43,
    "start_time": "2022-10-18T19:47:42.246Z"
   },
   {
    "duration": 26,
    "start_time": "2022-10-18T19:47:44.774Z"
   },
   {
    "duration": 13,
    "start_time": "2022-10-18T19:47:45.721Z"
   },
   {
    "duration": 21,
    "start_time": "2022-10-18T19:47:47.686Z"
   },
   {
    "duration": 9,
    "start_time": "2022-10-18T19:47:48.290Z"
   },
   {
    "duration": 5,
    "start_time": "2022-10-18T19:47:49.544Z"
   },
   {
    "duration": 11,
    "start_time": "2022-10-18T19:47:51.746Z"
   },
   {
    "duration": 16,
    "start_time": "2022-10-18T19:48:19.685Z"
   },
   {
    "duration": 22,
    "start_time": "2022-10-18T20:03:15.695Z"
   },
   {
    "duration": 26,
    "start_time": "2022-10-18T20:03:16.111Z"
   },
   {
    "duration": 20,
    "start_time": "2022-10-18T20:03:17.450Z"
   },
   {
    "duration": 24,
    "start_time": "2022-10-18T20:03:22.709Z"
   },
   {
    "duration": 12,
    "start_time": "2022-10-18T20:07:56.749Z"
   },
   {
    "duration": 6,
    "start_time": "2022-10-18T20:10:03.022Z"
   },
   {
    "duration": 13,
    "start_time": "2022-10-18T20:10:53.582Z"
   },
   {
    "duration": 26,
    "start_time": "2022-10-18T20:11:21.800Z"
   },
   {
    "duration": 82,
    "start_time": "2022-10-18T20:12:52.126Z"
   },
   {
    "duration": 24,
    "start_time": "2022-10-18T20:12:57.450Z"
   },
   {
    "duration": 18,
    "start_time": "2022-10-18T20:13:04.915Z"
   },
   {
    "duration": 25,
    "start_time": "2022-10-18T20:13:14.836Z"
   },
   {
    "duration": 21,
    "start_time": "2022-10-18T20:13:15.547Z"
   },
   {
    "duration": 18,
    "start_time": "2022-10-18T20:13:16.399Z"
   },
   {
    "duration": 24,
    "start_time": "2022-10-18T20:13:17.256Z"
   },
   {
    "duration": 22,
    "start_time": "2022-10-18T20:13:18.285Z"
   },
   {
    "duration": 22,
    "start_time": "2022-10-18T20:13:56.363Z"
   },
   {
    "duration": 19,
    "start_time": "2022-10-18T20:13:57.047Z"
   },
   {
    "duration": 19,
    "start_time": "2022-10-18T20:13:57.939Z"
   },
   {
    "duration": 29,
    "start_time": "2022-10-18T20:13:58.820Z"
   },
   {
    "duration": 16,
    "start_time": "2022-10-18T20:14:31.469Z"
   },
   {
    "duration": 22,
    "start_time": "2022-10-18T20:17:38.970Z"
   },
   {
    "duration": 20,
    "start_time": "2022-10-18T20:17:39.304Z"
   },
   {
    "duration": 17,
    "start_time": "2022-10-18T20:17:39.571Z"
   },
   {
    "duration": 33,
    "start_time": "2022-10-18T20:17:39.809Z"
   },
   {
    "duration": 24,
    "start_time": "2022-10-18T20:17:40.858Z"
   },
   {
    "duration": 19,
    "start_time": "2022-10-18T20:17:58.747Z"
   },
   {
    "duration": 14,
    "start_time": "2022-10-18T20:18:42.788Z"
   },
   {
    "duration": 49,
    "start_time": "2022-10-18T20:20:37.296Z"
   },
   {
    "duration": 22,
    "start_time": "2022-10-18T20:20:52.874Z"
   },
   {
    "duration": 19,
    "start_time": "2022-10-18T20:20:53.247Z"
   },
   {
    "duration": 17,
    "start_time": "2022-10-18T20:20:54.746Z"
   },
   {
    "duration": 58,
    "start_time": "2022-10-18T20:20:56.089Z"
   },
   {
    "duration": 25,
    "start_time": "2022-10-18T20:31:55.089Z"
   },
   {
    "duration": 23,
    "start_time": "2022-10-18T20:31:55.940Z"
   },
   {
    "duration": 25,
    "start_time": "2022-10-18T20:31:57.027Z"
   },
   {
    "duration": 27,
    "start_time": "2022-10-18T20:32:03.080Z"
   },
   {
    "duration": 25,
    "start_time": "2022-10-18T20:33:24.748Z"
   },
   {
    "duration": 32,
    "start_time": "2022-10-18T20:33:25.040Z"
   },
   {
    "duration": 15,
    "start_time": "2022-10-18T20:33:25.673Z"
   },
   {
    "duration": 19,
    "start_time": "2022-10-18T20:33:26.743Z"
   },
   {
    "duration": 24,
    "start_time": "2022-10-18T20:33:56.160Z"
   },
   {
    "duration": 20,
    "start_time": "2022-10-18T20:33:56.448Z"
   },
   {
    "duration": 20,
    "start_time": "2022-10-18T20:33:56.855Z"
   },
   {
    "duration": 30,
    "start_time": "2022-10-18T20:33:57.550Z"
   },
   {
    "duration": 37,
    "start_time": "2022-10-18T20:35:20.353Z"
   },
   {
    "duration": 30,
    "start_time": "2022-10-18T20:35:20.669Z"
   },
   {
    "duration": 18,
    "start_time": "2022-10-18T20:35:20.971Z"
   },
   {
    "duration": 33,
    "start_time": "2022-10-18T20:35:21.244Z"
   },
   {
    "duration": 22,
    "start_time": "2022-10-18T20:43:21.960Z"
   },
   {
    "duration": 19,
    "start_time": "2022-10-18T20:43:22.465Z"
   },
   {
    "duration": 27,
    "start_time": "2022-10-18T20:43:24.362Z"
   },
   {
    "duration": 5,
    "start_time": "2022-10-18T20:43:34.081Z"
   },
   {
    "duration": 5,
    "start_time": "2022-10-18T20:43:39.358Z"
   },
   {
    "duration": 6,
    "start_time": "2022-10-18T20:43:40.740Z"
   },
   {
    "duration": 17,
    "start_time": "2022-10-18T20:43:49.103Z"
   },
   {
    "duration": 22,
    "start_time": "2022-10-18T20:45:05.458Z"
   },
   {
    "duration": 20,
    "start_time": "2022-10-18T20:45:06.369Z"
   },
   {
    "duration": 19,
    "start_time": "2022-10-18T20:45:07.884Z"
   },
   {
    "duration": 5,
    "start_time": "2022-10-18T20:45:18.021Z"
   },
   {
    "duration": 18,
    "start_time": "2022-10-18T20:45:18.932Z"
   },
   {
    "duration": 21,
    "start_time": "2022-10-18T20:47:14.789Z"
   },
   {
    "duration": 20,
    "start_time": "2022-10-18T20:47:15.226Z"
   },
   {
    "duration": 18,
    "start_time": "2022-10-18T20:47:15.788Z"
   },
   {
    "duration": 352,
    "start_time": "2022-10-18T20:47:17.039Z"
   },
   {
    "duration": 4,
    "start_time": "2022-10-18T20:48:22.019Z"
   },
   {
    "duration": 16,
    "start_time": "2022-10-18T20:48:23.953Z"
   },
   {
    "duration": 21,
    "start_time": "2022-10-18T20:48:45.273Z"
   },
   {
    "duration": 21,
    "start_time": "2022-10-18T20:48:45.760Z"
   },
   {
    "duration": 16,
    "start_time": "2022-10-18T20:48:46.422Z"
   },
   {
    "duration": 4,
    "start_time": "2022-10-18T20:48:47.031Z"
   },
   {
    "duration": 6,
    "start_time": "2022-10-18T20:48:49.618Z"
   },
   {
    "duration": 7,
    "start_time": "2022-10-18T20:48:51.128Z"
   },
   {
    "duration": 18,
    "start_time": "2022-10-18T20:48:52.658Z"
   },
   {
    "duration": 31,
    "start_time": "2022-10-18T20:53:15.491Z"
   },
   {
    "duration": 29,
    "start_time": "2022-10-18T20:53:15.756Z"
   },
   {
    "duration": 25,
    "start_time": "2022-10-18T20:53:16.114Z"
   },
   {
    "duration": 6,
    "start_time": "2022-10-18T20:53:16.509Z"
   },
   {
    "duration": 7,
    "start_time": "2022-10-18T20:53:17.742Z"
   },
   {
    "duration": 11,
    "start_time": "2022-10-18T20:53:19.260Z"
   },
   {
    "duration": 25,
    "start_time": "2022-10-18T20:53:20.395Z"
   },
   {
    "duration": 6,
    "start_time": "2022-10-18T20:56:30.946Z"
   },
   {
    "duration": 18,
    "start_time": "2022-10-18T20:56:31.761Z"
   },
   {
    "duration": 12,
    "start_time": "2022-10-18T20:59:42.793Z"
   },
   {
    "duration": 9,
    "start_time": "2022-10-18T20:59:48.782Z"
   },
   {
    "duration": 17,
    "start_time": "2022-10-18T20:59:51.124Z"
   },
   {
    "duration": 22,
    "start_time": "2022-10-18T21:00:32.532Z"
   },
   {
    "duration": 22,
    "start_time": "2022-10-18T21:00:32.762Z"
   },
   {
    "duration": 16,
    "start_time": "2022-10-18T21:00:32.955Z"
   },
   {
    "duration": 4,
    "start_time": "2022-10-18T21:00:33.514Z"
   },
   {
    "duration": 7,
    "start_time": "2022-10-18T21:00:34.777Z"
   },
   {
    "duration": 21,
    "start_time": "2022-10-18T21:00:42.946Z"
   },
   {
    "duration": 20,
    "start_time": "2022-10-18T21:00:43.137Z"
   },
   {
    "duration": 16,
    "start_time": "2022-10-18T21:00:43.285Z"
   },
   {
    "duration": 5,
    "start_time": "2022-10-18T21:00:43.458Z"
   },
   {
    "duration": 17,
    "start_time": "2022-10-18T21:00:43.614Z"
   },
   {
    "duration": 7,
    "start_time": "2022-10-18T21:00:44.290Z"
   },
   {
    "duration": 16,
    "start_time": "2022-10-18T21:00:44.992Z"
   },
   {
    "duration": 13,
    "start_time": "2022-10-18T21:02:06.044Z"
   },
   {
    "duration": 23,
    "start_time": "2022-10-18T21:02:20.425Z"
   },
   {
    "duration": 15,
    "start_time": "2022-10-18T21:02:24.130Z"
   },
   {
    "duration": 10,
    "start_time": "2022-10-18T21:16:13.666Z"
   },
   {
    "duration": 20,
    "start_time": "2022-10-18T21:16:15.910Z"
   },
   {
    "duration": 12,
    "start_time": "2022-10-18T21:16:31.846Z"
   },
   {
    "duration": 13,
    "start_time": "2022-10-18T21:24:31.080Z"
   },
   {
    "duration": 26,
    "start_time": "2022-10-18T21:26:34.183Z"
   },
   {
    "duration": 19,
    "start_time": "2022-10-18T21:26:34.387Z"
   },
   {
    "duration": 18,
    "start_time": "2022-10-18T21:26:34.584Z"
   },
   {
    "duration": 4,
    "start_time": "2022-10-18T21:26:34.755Z"
   },
   {
    "duration": 10,
    "start_time": "2022-10-18T21:26:34.946Z"
   },
   {
    "duration": 6,
    "start_time": "2022-10-18T21:26:35.142Z"
   },
   {
    "duration": 9,
    "start_time": "2022-10-18T21:26:35.319Z"
   },
   {
    "duration": 25,
    "start_time": "2022-10-18T21:26:35.475Z"
   },
   {
    "duration": 18,
    "start_time": "2022-10-18T21:26:35.654Z"
   },
   {
    "duration": 11,
    "start_time": "2022-10-18T21:26:35.839Z"
   },
   {
    "duration": 34,
    "start_time": "2022-10-18T21:26:36.004Z"
   },
   {
    "duration": 9,
    "start_time": "2022-10-18T21:26:36.205Z"
   },
   {
    "duration": 4,
    "start_time": "2022-10-18T21:27:27.385Z"
   },
   {
    "duration": 16,
    "start_time": "2022-10-18T21:27:36.043Z"
   },
   {
    "duration": 19,
    "start_time": "2022-10-18T21:30:14.247Z"
   },
   {
    "duration": 18,
    "start_time": "2022-10-18T21:30:54.220Z"
   },
   {
    "duration": 127474,
    "start_time": "2022-10-18T21:34:48.122Z"
   },
   {
    "duration": 4541,
    "start_time": "2022-10-18T21:37:13.198Z"
   },
   {
    "duration": 4312,
    "start_time": "2022-10-18T21:37:27.289Z"
   },
   {
    "duration": 4043,
    "start_time": "2022-10-18T21:37:36.485Z"
   },
   {
    "duration": 4632,
    "start_time": "2022-10-18T21:41:15.612Z"
   },
   {
    "duration": 1858,
    "start_time": "2022-10-18T21:41:58.391Z"
   },
   {
    "duration": 4472,
    "start_time": "2022-10-18T21:43:29.203Z"
   },
   {
    "duration": 4230,
    "start_time": "2022-10-18T21:44:00.370Z"
   },
   {
    "duration": 350,
    "start_time": "2022-10-18T21:54:49.140Z"
   },
   {
    "duration": 328,
    "start_time": "2022-10-18T21:58:26.734Z"
   },
   {
    "duration": 125,
    "start_time": "2022-10-18T21:59:07.681Z"
   },
   {
    "duration": 122,
    "start_time": "2022-10-18T21:59:53.929Z"
   },
   {
    "duration": 115,
    "start_time": "2022-10-18T22:00:12.311Z"
   },
   {
    "duration": 126,
    "start_time": "2022-10-18T22:00:22.875Z"
   },
   {
    "duration": 111,
    "start_time": "2022-10-18T22:00:29.087Z"
   },
   {
    "duration": 220,
    "start_time": "2022-10-18T22:03:06.581Z"
   },
   {
    "duration": 47,
    "start_time": "2022-10-19T14:09:29.285Z"
   },
   {
    "duration": 1330,
    "start_time": "2022-10-19T14:09:36.584Z"
   },
   {
    "duration": 394,
    "start_time": "2022-10-19T14:09:44.553Z"
   },
   {
    "duration": 16,
    "start_time": "2022-10-19T14:09:46.350Z"
   },
   {
    "duration": 15,
    "start_time": "2022-10-19T14:09:47.095Z"
   },
   {
    "duration": 8,
    "start_time": "2022-10-19T14:09:47.329Z"
   },
   {
    "duration": 11,
    "start_time": "2022-10-19T14:09:47.572Z"
   },
   {
    "duration": 18,
    "start_time": "2022-10-19T14:09:47.675Z"
   },
   {
    "duration": 16,
    "start_time": "2022-10-19T14:09:47.909Z"
   },
   {
    "duration": 178,
    "start_time": "2022-10-19T14:09:48.018Z"
   },
   {
    "duration": 10,
    "start_time": "2022-10-19T14:09:48.198Z"
   },
   {
    "duration": 174,
    "start_time": "2022-10-19T14:13:13.628Z"
   },
   {
    "duration": 61,
    "start_time": "2022-10-19T14:15:41.536Z"
   },
   {
    "duration": 6,
    "start_time": "2022-10-19T14:20:43.843Z"
   },
   {
    "duration": 5,
    "start_time": "2022-10-19T14:20:50.048Z"
   },
   {
    "duration": 206,
    "start_time": "2022-10-19T14:21:45.466Z"
   },
   {
    "duration": 279,
    "start_time": "2022-10-19T14:22:17.255Z"
   },
   {
    "duration": 235,
    "start_time": "2022-10-19T14:24:16.369Z"
   },
   {
    "duration": 5,
    "start_time": "2022-10-19T14:25:07.506Z"
   },
   {
    "duration": 242,
    "start_time": "2022-10-19T14:25:17.176Z"
   },
   {
    "duration": 224,
    "start_time": "2022-10-19T14:25:38.401Z"
   },
   {
    "duration": 300,
    "start_time": "2022-10-19T14:25:52.160Z"
   },
   {
    "duration": 334,
    "start_time": "2022-10-19T14:26:14.015Z"
   },
   {
    "duration": 250,
    "start_time": "2022-10-19T14:26:30.511Z"
   },
   {
    "duration": 234,
    "start_time": "2022-10-19T14:27:24.246Z"
   },
   {
    "duration": 242,
    "start_time": "2022-10-19T14:27:31.099Z"
   },
   {
    "duration": 258,
    "start_time": "2022-10-19T14:27:34.308Z"
   },
   {
    "duration": 251,
    "start_time": "2022-10-19T14:27:42.433Z"
   },
   {
    "duration": 255,
    "start_time": "2022-10-19T14:27:46.063Z"
   },
   {
    "duration": 261,
    "start_time": "2022-10-19T14:28:09.482Z"
   },
   {
    "duration": 253,
    "start_time": "2022-10-19T14:34:15.229Z"
   },
   {
    "duration": 370,
    "start_time": "2022-10-19T14:34:55.907Z"
   },
   {
    "duration": 262,
    "start_time": "2022-10-19T14:35:01.947Z"
   },
   {
    "duration": 349,
    "start_time": "2022-10-19T14:35:06.487Z"
   },
   {
    "duration": 249,
    "start_time": "2022-10-19T14:36:32.954Z"
   },
   {
    "duration": 256,
    "start_time": "2022-10-19T14:36:46.044Z"
   },
   {
    "duration": 243,
    "start_time": "2022-10-19T14:36:53.369Z"
   },
   {
    "duration": 257,
    "start_time": "2022-10-19T14:37:08.779Z"
   },
   {
    "duration": 241,
    "start_time": "2022-10-19T14:37:19.776Z"
   },
   {
    "duration": 222,
    "start_time": "2022-10-19T14:37:28.063Z"
   },
   {
    "duration": 252,
    "start_time": "2022-10-19T14:37:32.874Z"
   },
   {
    "duration": 246,
    "start_time": "2022-10-19T14:41:39.106Z"
   },
   {
    "duration": 1612,
    "start_time": "2022-10-19T14:45:28.134Z"
   },
   {
    "duration": 274,
    "start_time": "2022-10-19T14:46:07.084Z"
   },
   {
    "duration": 275,
    "start_time": "2022-10-19T14:46:22.052Z"
   },
   {
    "duration": 284,
    "start_time": "2022-10-19T14:46:26.795Z"
   },
   {
    "duration": 258,
    "start_time": "2022-10-19T14:47:06.080Z"
   },
   {
    "duration": 357,
    "start_time": "2022-10-19T14:47:31.116Z"
   },
   {
    "duration": 335,
    "start_time": "2022-10-19T14:47:36.515Z"
   },
   {
    "duration": 252,
    "start_time": "2022-10-19T14:47:49.128Z"
   },
   {
    "duration": 597,
    "start_time": "2022-10-19T14:52:35.411Z"
   },
   {
    "duration": 623,
    "start_time": "2022-10-19T14:52:49.823Z"
   },
   {
    "duration": 2421,
    "start_time": "2022-10-19T14:55:01.345Z"
   },
   {
    "duration": 1921,
    "start_time": "2022-10-19T14:55:25.323Z"
   },
   {
    "duration": 1830,
    "start_time": "2022-10-19T14:55:33.093Z"
   },
   {
    "duration": 776,
    "start_time": "2022-10-19T14:56:14.104Z"
   },
   {
    "duration": 662,
    "start_time": "2022-10-19T14:56:27.890Z"
   },
   {
    "duration": 663,
    "start_time": "2022-10-19T14:56:59.444Z"
   },
   {
    "duration": 728,
    "start_time": "2022-10-19T14:57:11.912Z"
   },
   {
    "duration": 5,
    "start_time": "2022-10-19T14:58:10.794Z"
   },
   {
    "duration": 4,
    "start_time": "2022-10-19T14:58:15.565Z"
   },
   {
    "duration": 4,
    "start_time": "2022-10-19T14:58:18.775Z"
   },
   {
    "duration": 4,
    "start_time": "2022-10-19T15:01:13.267Z"
   },
   {
    "duration": 222,
    "start_time": "2022-10-19T15:04:10.660Z"
   },
   {
    "duration": 316,
    "start_time": "2022-10-19T15:07:58.382Z"
   },
   {
    "duration": 284,
    "start_time": "2022-10-19T15:08:06.729Z"
   },
   {
    "duration": 217,
    "start_time": "2022-10-19T15:08:12.473Z"
   },
   {
    "duration": 1622,
    "start_time": "2022-10-19T15:08:37.496Z"
   },
   {
    "duration": 272,
    "start_time": "2022-10-19T15:08:50.893Z"
   },
   {
    "duration": 655,
    "start_time": "2022-10-19T15:16:33.445Z"
   },
   {
    "duration": 92,
    "start_time": "2022-10-19T15:21:10.758Z"
   },
   {
    "duration": 767,
    "start_time": "2022-10-19T15:21:20.762Z"
   },
   {
    "duration": 662,
    "start_time": "2022-10-19T15:21:42.585Z"
   },
   {
    "duration": 755,
    "start_time": "2022-10-19T15:22:22.249Z"
   },
   {
    "duration": 4,
    "start_time": "2022-10-19T15:23:06.317Z"
   },
   {
    "duration": 637,
    "start_time": "2022-10-19T15:23:42.811Z"
   },
   {
    "duration": 732,
    "start_time": "2022-10-19T15:24:01.493Z"
   },
   {
    "duration": 623,
    "start_time": "2022-10-19T15:24:15.527Z"
   },
   {
    "duration": 528,
    "start_time": "2022-10-19T15:26:09.992Z"
   },
   {
    "duration": 564,
    "start_time": "2022-10-19T15:29:23.734Z"
   },
   {
    "duration": 1182,
    "start_time": "2022-10-19T15:34:59.452Z"
   },
   {
    "duration": 6130,
    "start_time": "2022-10-19T15:35:10.015Z"
   },
   {
    "duration": 6,
    "start_time": "2022-10-19T15:35:44.435Z"
   },
   {
    "duration": 172,
    "start_time": "2022-10-19T15:36:32.807Z"
   },
   {
    "duration": 160,
    "start_time": "2022-10-19T15:36:51.687Z"
   },
   {
    "duration": 160,
    "start_time": "2022-10-19T15:36:56.320Z"
   },
   {
    "duration": 161,
    "start_time": "2022-10-19T15:37:09.692Z"
   },
   {
    "duration": 183,
    "start_time": "2022-10-19T15:37:16.201Z"
   },
   {
    "duration": 160,
    "start_time": "2022-10-19T15:37:25.909Z"
   },
   {
    "duration": 152,
    "start_time": "2022-10-19T15:37:29.731Z"
   },
   {
    "duration": 161,
    "start_time": "2022-10-19T15:37:38.149Z"
   },
   {
    "duration": 89,
    "start_time": "2022-10-19T15:38:05.508Z"
   },
   {
    "duration": 113,
    "start_time": "2022-10-19T15:38:38.382Z"
   },
   {
    "duration": 92,
    "start_time": "2022-10-19T15:38:43.783Z"
   },
   {
    "duration": 93,
    "start_time": "2022-10-19T15:38:59.973Z"
   },
   {
    "duration": 85,
    "start_time": "2022-10-19T15:39:17.183Z"
   },
   {
    "duration": 190,
    "start_time": "2022-10-19T15:39:24.053Z"
   },
   {
    "duration": 89,
    "start_time": "2022-10-19T15:39:40.697Z"
   },
   {
    "duration": 88,
    "start_time": "2022-10-19T15:39:45.900Z"
   },
   {
    "duration": 9,
    "start_time": "2022-10-19T16:15:02.679Z"
   },
   {
    "duration": 5,
    "start_time": "2022-10-19T16:15:13.888Z"
   },
   {
    "duration": 10,
    "start_time": "2022-10-19T16:15:38.567Z"
   },
   {
    "duration": 97,
    "start_time": "2022-10-19T16:16:19.529Z"
   },
   {
    "duration": 90,
    "start_time": "2022-10-19T16:16:24.741Z"
   },
   {
    "duration": 301,
    "start_time": "2022-10-19T16:17:02.749Z"
   },
   {
    "duration": 258,
    "start_time": "2022-10-19T16:17:13.473Z"
   },
   {
    "duration": 214,
    "start_time": "2022-10-19T16:17:43.639Z"
   },
   {
    "duration": 342,
    "start_time": "2022-10-19T16:17:51.785Z"
   },
   {
    "duration": 263,
    "start_time": "2022-10-19T16:18:32.450Z"
   },
   {
    "duration": 242,
    "start_time": "2022-10-19T16:18:50.161Z"
   },
   {
    "duration": 1392,
    "start_time": "2022-10-21T18:31:07.689Z"
   },
   {
    "duration": 77,
    "start_time": "2022-10-21T18:31:09.083Z"
   },
   {
    "duration": 111,
    "start_time": "2022-10-21T18:31:09.162Z"
   },
   {
    "duration": 0,
    "start_time": "2022-10-21T18:31:09.277Z"
   },
   {
    "duration": 0,
    "start_time": "2022-10-21T18:31:09.278Z"
   },
   {
    "duration": 0,
    "start_time": "2022-10-21T18:31:09.279Z"
   },
   {
    "duration": 0,
    "start_time": "2022-10-21T18:31:09.280Z"
   },
   {
    "duration": 0,
    "start_time": "2022-10-21T18:31:09.282Z"
   },
   {
    "duration": 0,
    "start_time": "2022-10-21T18:31:09.283Z"
   },
   {
    "duration": 0,
    "start_time": "2022-10-21T18:31:09.284Z"
   },
   {
    "duration": 0,
    "start_time": "2022-10-21T18:31:09.285Z"
   },
   {
    "duration": 0,
    "start_time": "2022-10-21T18:31:09.286Z"
   },
   {
    "duration": 0,
    "start_time": "2022-10-21T18:31:09.287Z"
   },
   {
    "duration": 0,
    "start_time": "2022-10-21T18:31:09.288Z"
   },
   {
    "duration": 0,
    "start_time": "2022-10-21T18:31:09.289Z"
   },
   {
    "duration": 0,
    "start_time": "2022-10-21T18:31:09.290Z"
   },
   {
    "duration": 0,
    "start_time": "2022-10-21T18:31:09.292Z"
   },
   {
    "duration": 0,
    "start_time": "2022-10-21T18:31:09.293Z"
   },
   {
    "duration": 0,
    "start_time": "2022-10-21T18:31:09.294Z"
   },
   {
    "duration": 0,
    "start_time": "2022-10-21T18:31:09.296Z"
   },
   {
    "duration": 0,
    "start_time": "2022-10-21T18:31:09.297Z"
   },
   {
    "duration": 0,
    "start_time": "2022-10-21T18:31:09.324Z"
   },
   {
    "duration": 0,
    "start_time": "2022-10-21T18:31:09.325Z"
   },
   {
    "duration": 0,
    "start_time": "2022-10-21T18:31:09.326Z"
   },
   {
    "duration": 0,
    "start_time": "2022-10-21T18:31:09.326Z"
   },
   {
    "duration": 0,
    "start_time": "2022-10-21T18:31:09.327Z"
   },
   {
    "duration": 0,
    "start_time": "2022-10-21T18:31:09.328Z"
   },
   {
    "duration": 0,
    "start_time": "2022-10-21T18:31:09.329Z"
   },
   {
    "duration": 0,
    "start_time": "2022-10-21T18:31:09.330Z"
   },
   {
    "duration": 0,
    "start_time": "2022-10-21T18:31:09.331Z"
   },
   {
    "duration": 0,
    "start_time": "2022-10-21T18:31:09.332Z"
   },
   {
    "duration": 0,
    "start_time": "2022-10-21T18:31:09.332Z"
   },
   {
    "duration": 0,
    "start_time": "2022-10-21T18:31:09.333Z"
   },
   {
    "duration": 0,
    "start_time": "2022-10-21T18:31:09.335Z"
   },
   {
    "duration": 0,
    "start_time": "2022-10-21T18:31:09.336Z"
   },
   {
    "duration": 0,
    "start_time": "2022-10-21T18:31:09.337Z"
   },
   {
    "duration": 0,
    "start_time": "2022-10-21T18:31:09.338Z"
   },
   {
    "duration": 0,
    "start_time": "2022-10-21T18:31:09.339Z"
   },
   {
    "duration": 0,
    "start_time": "2022-10-21T18:31:09.342Z"
   },
   {
    "duration": 0,
    "start_time": "2022-10-21T18:31:09.343Z"
   },
   {
    "duration": 0,
    "start_time": "2022-10-21T18:31:09.344Z"
   },
   {
    "duration": 0,
    "start_time": "2022-10-21T18:31:09.345Z"
   },
   {
    "duration": 0,
    "start_time": "2022-10-21T18:31:09.346Z"
   },
   {
    "duration": 0,
    "start_time": "2022-10-21T18:31:09.347Z"
   },
   {
    "duration": 1,
    "start_time": "2022-10-21T18:31:09.348Z"
   },
   {
    "duration": 0,
    "start_time": "2022-10-21T18:31:09.350Z"
   },
   {
    "duration": 0,
    "start_time": "2022-10-21T18:31:09.351Z"
   },
   {
    "duration": 0,
    "start_time": "2022-10-21T18:31:09.352Z"
   },
   {
    "duration": 0,
    "start_time": "2022-10-21T18:31:09.353Z"
   },
   {
    "duration": 0,
    "start_time": "2022-10-21T18:31:09.355Z"
   },
   {
    "duration": 0,
    "start_time": "2022-10-21T18:31:09.356Z"
   },
   {
    "duration": 0,
    "start_time": "2022-10-21T18:31:09.357Z"
   },
   {
    "duration": 0,
    "start_time": "2022-10-21T18:31:09.358Z"
   },
   {
    "duration": 0,
    "start_time": "2022-10-21T18:31:09.359Z"
   },
   {
    "duration": 0,
    "start_time": "2022-10-21T18:31:09.360Z"
   },
   {
    "duration": 0,
    "start_time": "2022-10-21T18:31:09.361Z"
   },
   {
    "duration": 0,
    "start_time": "2022-10-21T18:31:09.363Z"
   },
   {
    "duration": 0,
    "start_time": "2022-10-21T18:31:09.364Z"
   },
   {
    "duration": 0,
    "start_time": "2022-10-21T18:31:09.365Z"
   },
   {
    "duration": 0,
    "start_time": "2022-10-21T18:31:09.366Z"
   },
   {
    "duration": 0,
    "start_time": "2022-10-21T18:31:09.428Z"
   },
   {
    "duration": 4,
    "start_time": "2022-10-21T18:50:08.987Z"
   },
   {
    "duration": 382,
    "start_time": "2022-10-21T19:05:24.098Z"
   },
   {
    "duration": 658,
    "start_time": "2022-10-21T19:06:01.485Z"
   },
   {
    "duration": 15,
    "start_time": "2022-10-21T19:06:05.208Z"
   },
   {
    "duration": 14,
    "start_time": "2022-10-21T19:06:06.366Z"
   },
   {
    "duration": 8,
    "start_time": "2022-10-21T19:06:06.950Z"
   },
   {
    "duration": 17,
    "start_time": "2022-10-21T19:07:39.552Z"
   },
   {
    "duration": 12,
    "start_time": "2022-10-21T19:07:51.291Z"
   },
   {
    "duration": 258,
    "start_time": "2022-10-21T19:08:03.347Z"
   },
   {
    "duration": 245,
    "start_time": "2022-10-21T19:09:52.418Z"
   },
   {
    "duration": 24,
    "start_time": "2022-10-21T19:10:08.215Z"
   },
   {
    "duration": 297,
    "start_time": "2022-10-21T19:10:31.655Z"
   },
   {
    "duration": 9,
    "start_time": "2022-10-21T19:10:55.095Z"
   },
   {
    "duration": 11,
    "start_time": "2022-10-21T19:10:58.707Z"
   },
   {
    "duration": 10,
    "start_time": "2022-10-21T19:11:01.044Z"
   },
   {
    "duration": 21,
    "start_time": "2022-10-21T19:11:07.217Z"
   },
   {
    "duration": 12,
    "start_time": "2022-10-21T19:11:32.180Z"
   },
   {
    "duration": 249,
    "start_time": "2022-10-21T19:11:53.857Z"
   },
   {
    "duration": 263,
    "start_time": "2022-10-21T19:13:05.348Z"
   },
   {
    "duration": 11,
    "start_time": "2022-10-21T19:13:10.276Z"
   },
   {
    "duration": 18,
    "start_time": "2022-10-21T19:13:10.963Z"
   },
   {
    "duration": 16,
    "start_time": "2022-10-21T19:13:11.836Z"
   },
   {
    "duration": 17,
    "start_time": "2022-10-21T19:13:16.779Z"
   },
   {
    "duration": 273,
    "start_time": "2022-10-21T19:13:42.886Z"
   },
   {
    "duration": 194,
    "start_time": "2022-10-21T19:14:37.124Z"
   },
   {
    "duration": 258,
    "start_time": "2022-10-21T19:14:41.409Z"
   },
   {
    "duration": 283,
    "start_time": "2022-10-21T19:14:59.151Z"
   },
   {
    "duration": 348,
    "start_time": "2022-10-21T19:15:36.544Z"
   },
   {
    "duration": 6,
    "start_time": "2022-10-21T19:15:40.876Z"
   },
   {
    "duration": 27,
    "start_time": "2022-10-21T19:15:41.616Z"
   },
   {
    "duration": 10,
    "start_time": "2022-10-21T19:15:42.254Z"
   },
   {
    "duration": 8,
    "start_time": "2022-10-21T19:15:46.056Z"
   },
   {
    "duration": 76,
    "start_time": "2022-10-21T19:15:47.837Z"
   },
   {
    "duration": 23,
    "start_time": "2022-10-21T19:31:10.887Z"
   },
   {
    "duration": 28,
    "start_time": "2022-10-21T19:31:12.791Z"
   },
   {
    "duration": 23,
    "start_time": "2022-10-21T19:31:32.044Z"
   },
   {
    "duration": 4,
    "start_time": "2022-10-21T19:32:28.652Z"
   },
   {
    "duration": 9,
    "start_time": "2022-10-21T19:33:21.655Z"
   },
   {
    "duration": 6,
    "start_time": "2022-10-21T19:33:25.173Z"
   },
   {
    "duration": 6,
    "start_time": "2022-10-21T19:33:36.203Z"
   },
   {
    "duration": 18,
    "start_time": "2022-10-21T19:33:39.742Z"
   },
   {
    "duration": 25,
    "start_time": "2022-10-21T19:33:43.423Z"
   },
   {
    "duration": 22,
    "start_time": "2022-10-21T19:34:19.639Z"
   },
   {
    "duration": 21,
    "start_time": "2022-10-21T19:34:43.639Z"
   },
   {
    "duration": 23,
    "start_time": "2022-10-21T19:35:04.211Z"
   },
   {
    "duration": 219,
    "start_time": "2022-10-21T19:35:49.672Z"
   },
   {
    "duration": 329,
    "start_time": "2022-10-21T19:36:16.438Z"
   },
   {
    "duration": 14,
    "start_time": "2022-10-21T19:36:56.765Z"
   },
   {
    "duration": 14,
    "start_time": "2022-10-21T19:38:01.618Z"
   },
   {
    "duration": 19,
    "start_time": "2022-10-21T19:38:09.613Z"
   },
   {
    "duration": 5,
    "start_time": "2022-10-21T19:39:09.499Z"
   },
   {
    "duration": 19,
    "start_time": "2022-10-21T19:39:12.267Z"
   },
   {
    "duration": 16,
    "start_time": "2022-10-21T19:39:24.138Z"
   },
   {
    "duration": 8,
    "start_time": "2022-10-21T19:42:36.653Z"
   },
   {
    "duration": 4163,
    "start_time": "2022-10-21T19:42:52.804Z"
   },
   {
    "duration": 8,
    "start_time": "2022-10-21T19:43:36.010Z"
   },
   {
    "duration": 4,
    "start_time": "2022-10-21T19:44:01.210Z"
   },
   {
    "duration": 5,
    "start_time": "2022-10-21T19:46:28.214Z"
   },
   {
    "duration": 605,
    "start_time": "2022-10-21T19:46:39.154Z"
   },
   {
    "duration": 191,
    "start_time": "2022-10-21T19:47:22.407Z"
   },
   {
    "duration": 116,
    "start_time": "2022-10-21T19:47:56.849Z"
   },
   {
    "duration": 234,
    "start_time": "2022-10-21T19:48:37.338Z"
   },
   {
    "duration": 128,
    "start_time": "2022-10-21T19:49:18.022Z"
   },
   {
    "duration": 146,
    "start_time": "2022-10-21T19:49:31.466Z"
   },
   {
    "duration": 213,
    "start_time": "2022-10-21T19:50:33.491Z"
   },
   {
    "duration": 413,
    "start_time": "2022-10-21T19:51:29.478Z"
   },
   {
    "duration": 26,
    "start_time": "2022-10-21T19:53:16.318Z"
   },
   {
    "duration": 2201,
    "start_time": "2022-10-21T19:54:21.949Z"
   },
   {
    "duration": 247,
    "start_time": "2022-10-21T19:55:10.548Z"
   },
   {
    "duration": 261,
    "start_time": "2022-10-21T19:56:27.180Z"
   },
   {
    "duration": 53,
    "start_time": "2022-10-22T06:25:44.964Z"
   },
   {
    "duration": 6,
    "start_time": "2022-10-22T06:25:52.589Z"
   },
   {
    "duration": 1574,
    "start_time": "2022-10-22T06:25:57.273Z"
   },
   {
    "duration": 248,
    "start_time": "2022-10-22T06:25:58.848Z"
   },
   {
    "duration": 14,
    "start_time": "2022-10-22T06:25:59.099Z"
   },
   {
    "duration": 12,
    "start_time": "2022-10-22T06:25:59.116Z"
   },
   {
    "duration": 8,
    "start_time": "2022-10-22T06:25:59.130Z"
   },
   {
    "duration": 16,
    "start_time": "2022-10-22T06:25:59.139Z"
   },
   {
    "duration": 9,
    "start_time": "2022-10-22T06:25:59.156Z"
   },
   {
    "duration": 251,
    "start_time": "2022-10-22T06:25:59.166Z"
   },
   {
    "duration": 11,
    "start_time": "2022-10-22T06:25:59.418Z"
   },
   {
    "duration": 146,
    "start_time": "2022-10-22T06:25:59.431Z"
   },
   {
    "duration": 8,
    "start_time": "2022-10-22T06:25:59.578Z"
   },
   {
    "duration": 13,
    "start_time": "2022-10-22T06:25:59.587Z"
   },
   {
    "duration": 6,
    "start_time": "2022-10-22T06:25:59.611Z"
   },
   {
    "duration": 10,
    "start_time": "2022-10-22T06:25:59.619Z"
   },
   {
    "duration": 11,
    "start_time": "2022-10-22T06:25:59.630Z"
   },
   {
    "duration": 298,
    "start_time": "2022-10-22T06:25:59.643Z"
   },
   {
    "duration": 10,
    "start_time": "2022-10-22T06:25:59.943Z"
   },
   {
    "duration": 13,
    "start_time": "2022-10-22T06:25:59.954Z"
   },
   {
    "duration": 8,
    "start_time": "2022-10-22T06:25:59.969Z"
   },
   {
    "duration": 33,
    "start_time": "2022-10-22T06:25:59.979Z"
   },
   {
    "duration": 176,
    "start_time": "2022-10-22T06:26:00.014Z"
   },
   {
    "duration": 225,
    "start_time": "2022-10-22T06:26:00.192Z"
   },
   {
    "duration": 6,
    "start_time": "2022-10-22T06:26:00.419Z"
   },
   {
    "duration": 37,
    "start_time": "2022-10-22T06:26:00.426Z"
   },
   {
    "duration": 19,
    "start_time": "2022-10-22T06:26:00.464Z"
   },
   {
    "duration": 13,
    "start_time": "2022-10-22T06:26:00.485Z"
   },
   {
    "duration": 67,
    "start_time": "2022-10-22T06:26:00.499Z"
   },
   {
    "duration": 22,
    "start_time": "2022-10-22T06:26:00.568Z"
   },
   {
    "duration": 33,
    "start_time": "2022-10-22T06:26:00.592Z"
   },
   {
    "duration": 16,
    "start_time": "2022-10-22T06:26:00.627Z"
   },
   {
    "duration": 14,
    "start_time": "2022-10-22T06:26:00.644Z"
   },
   {
    "duration": 17,
    "start_time": "2022-10-22T06:26:00.659Z"
   },
   {
    "duration": 22,
    "start_time": "2022-10-22T06:26:00.678Z"
   },
   {
    "duration": 14,
    "start_time": "2022-10-22T06:26:00.701Z"
   },
   {
    "duration": 26,
    "start_time": "2022-10-22T06:26:00.716Z"
   },
   {
    "duration": 68,
    "start_time": "2022-10-22T06:26:00.743Z"
   },
   {
    "duration": 46,
    "start_time": "2022-10-22T06:26:00.813Z"
   },
   {
    "duration": 26,
    "start_time": "2022-10-22T06:26:00.860Z"
   },
   {
    "duration": 19,
    "start_time": "2022-10-22T06:26:00.887Z"
   },
   {
    "duration": 205,
    "start_time": "2022-10-22T06:26:00.910Z"
   },
   {
    "duration": 292,
    "start_time": "2022-10-22T06:26:01.117Z"
   },
   {
    "duration": 13,
    "start_time": "2022-10-22T06:26:01.410Z"
   },
   {
    "duration": 32,
    "start_time": "2022-10-22T06:26:01.425Z"
   },
   {
    "duration": 28,
    "start_time": "2022-10-22T06:26:01.459Z"
   },
   {
    "duration": 6,
    "start_time": "2022-10-22T06:26:01.489Z"
   },
   {
    "duration": 43,
    "start_time": "2022-10-22T06:26:01.496Z"
   },
   {
    "duration": 18,
    "start_time": "2022-10-22T06:26:01.541Z"
   },
   {
    "duration": 7,
    "start_time": "2022-10-22T06:26:01.561Z"
   },
   {
    "duration": 3691,
    "start_time": "2022-10-22T06:26:01.569Z"
   },
   {
    "duration": 8,
    "start_time": "2022-10-22T06:26:05.262Z"
   },
   {
    "duration": 24,
    "start_time": "2022-10-22T06:26:05.271Z"
   },
   {
    "duration": 563,
    "start_time": "2022-10-22T06:26:05.296Z"
   },
   {
    "duration": 163,
    "start_time": "2022-10-22T06:26:05.860Z"
   },
   {
    "duration": 116,
    "start_time": "2022-10-22T06:26:06.025Z"
   },
   {
    "duration": 233,
    "start_time": "2022-10-22T06:26:06.143Z"
   },
   {
    "duration": 121,
    "start_time": "2022-10-22T06:26:06.377Z"
   },
   {
    "duration": 215,
    "start_time": "2022-10-22T06:26:06.500Z"
   },
   {
    "duration": 186,
    "start_time": "2022-10-22T06:26:06.717Z"
   },
   {
    "duration": 295,
    "start_time": "2022-10-22T06:26:06.905Z"
   },
   {
    "duration": 22,
    "start_time": "2022-10-22T06:26:07.202Z"
   },
   {
    "duration": 1817,
    "start_time": "2022-10-22T06:26:07.226Z"
   },
   {
    "duration": 232,
    "start_time": "2022-10-22T06:26:09.044Z"
   },
   {
    "duration": 6,
    "start_time": "2022-10-22T07:06:13.934Z"
   },
   {
    "duration": 5,
    "start_time": "2022-10-22T07:06:28.225Z"
   },
   {
    "duration": 6,
    "start_time": "2022-10-22T07:08:45.176Z"
   },
   {
    "duration": 4,
    "start_time": "2022-10-22T14:01:27.477Z"
   },
   {
    "duration": 71,
    "start_time": "2022-10-22T15:22:18.138Z"
   },
   {
    "duration": 1836,
    "start_time": "2022-10-22T15:22:31.731Z"
   },
   {
    "duration": 187,
    "start_time": "2022-10-22T15:22:33.569Z"
   },
   {
    "duration": 19,
    "start_time": "2022-10-22T15:22:36.264Z"
   },
   {
    "duration": 16,
    "start_time": "2022-10-22T15:22:36.532Z"
   },
   {
    "duration": 9,
    "start_time": "2022-10-22T15:22:36.844Z"
   },
   {
    "duration": 27,
    "start_time": "2022-10-22T15:22:37.396Z"
   },
   {
    "duration": 17,
    "start_time": "2022-10-22T15:22:38.281Z"
   },
   {
    "duration": 278,
    "start_time": "2022-10-22T15:22:38.626Z"
   },
   {
    "duration": 18,
    "start_time": "2022-10-22T15:22:38.907Z"
   },
   {
    "duration": 287,
    "start_time": "2022-10-22T15:22:39.164Z"
   },
   {
    "duration": 11,
    "start_time": "2022-10-22T15:22:39.862Z"
   },
   {
    "duration": 13,
    "start_time": "2022-10-22T15:22:39.992Z"
   },
   {
    "duration": 12,
    "start_time": "2022-10-22T15:22:40.183Z"
   },
   {
    "duration": 14,
    "start_time": "2022-10-22T15:22:40.365Z"
   },
   {
    "duration": 15,
    "start_time": "2022-10-22T15:22:40.926Z"
   },
   {
    "duration": 297,
    "start_time": "2022-10-22T15:22:41.054Z"
   },
   {
    "duration": 15,
    "start_time": "2022-10-22T15:22:41.613Z"
   },
   {
    "duration": 18,
    "start_time": "2022-10-22T15:22:41.835Z"
   },
   {
    "duration": 9,
    "start_time": "2022-10-22T15:22:41.970Z"
   },
   {
    "duration": 18,
    "start_time": "2022-10-22T15:22:42.120Z"
   },
   {
    "duration": 268,
    "start_time": "2022-10-22T15:22:42.419Z"
   },
   {
    "duration": 334,
    "start_time": "2022-10-22T15:22:42.689Z"
   },
   {
    "duration": 10,
    "start_time": "2022-10-22T15:22:43.252Z"
   },
   {
    "duration": 12,
    "start_time": "2022-10-22T15:22:43.375Z"
   },
   {
    "duration": 10,
    "start_time": "2022-10-22T15:22:43.491Z"
   },
   {
    "duration": 8,
    "start_time": "2022-10-22T15:22:43.829Z"
   },
   {
    "duration": 77,
    "start_time": "2022-10-22T15:22:44.052Z"
   },
   {
    "duration": 37,
    "start_time": "2022-10-22T15:22:45.666Z"
   },
   {
    "duration": 24,
    "start_time": "2022-10-22T15:22:45.892Z"
   },
   {
    "duration": 37,
    "start_time": "2022-10-22T15:22:46.098Z"
   },
   {
    "duration": 6,
    "start_time": "2022-10-22T15:22:47.051Z"
   },
   {
    "duration": 13,
    "start_time": "2022-10-22T15:22:47.414Z"
   },
   {
    "duration": 7,
    "start_time": "2022-10-22T15:22:47.583Z"
   },
   {
    "duration": 6,
    "start_time": "2022-10-22T15:22:48.509Z"
   },
   {
    "duration": 35,
    "start_time": "2022-10-22T15:22:48.853Z"
   },
   {
    "duration": 19,
    "start_time": "2022-10-22T15:22:49.173Z"
   },
   {
    "duration": 27,
    "start_time": "2022-10-22T15:22:49.977Z"
   },
   {
    "duration": 26,
    "start_time": "2022-10-22T15:22:50.663Z"
   },
   {
    "duration": 336,
    "start_time": "2022-10-22T15:22:51.308Z"
   },
   {
    "duration": 372,
    "start_time": "2022-10-22T15:22:52.148Z"
   },
   {
    "duration": 20,
    "start_time": "2022-10-22T15:22:52.612Z"
   },
   {
    "duration": 9,
    "start_time": "2022-10-22T15:22:53.136Z"
   },
   {
    "duration": 18,
    "start_time": "2022-10-22T15:22:53.577Z"
   },
   {
    "duration": 7,
    "start_time": "2022-10-22T15:22:54.044Z"
   },
   {
    "duration": 28,
    "start_time": "2022-10-22T15:22:54.482Z"
   },
   {
    "duration": 18,
    "start_time": "2022-10-22T15:22:54.777Z"
   },
   {
    "duration": 12,
    "start_time": "2022-10-22T15:22:56.957Z"
   },
   {
    "duration": 4463,
    "start_time": "2022-10-22T15:22:57.450Z"
   },
   {
    "duration": 9,
    "start_time": "2022-10-22T15:23:01.915Z"
   },
   {
    "duration": 12,
    "start_time": "2022-10-22T15:23:01.926Z"
   },
   {
    "duration": 662,
    "start_time": "2022-10-22T15:23:01.940Z"
   },
   {
    "duration": 237,
    "start_time": "2022-10-22T15:23:02.604Z"
   },
   {
    "duration": 152,
    "start_time": "2022-10-22T15:23:02.844Z"
   },
   {
    "duration": 273,
    "start_time": "2022-10-22T15:23:02.998Z"
   },
   {
    "duration": 285,
    "start_time": "2022-10-22T15:23:03.273Z"
   },
   {
    "duration": 161,
    "start_time": "2022-10-22T15:23:03.560Z"
   },
   {
    "duration": 271,
    "start_time": "2022-10-22T15:23:03.724Z"
   },
   {
    "duration": 377,
    "start_time": "2022-10-22T15:23:03.998Z"
   },
   {
    "duration": 21,
    "start_time": "2022-10-22T15:23:04.377Z"
   },
   {
    "duration": 2246,
    "start_time": "2022-10-22T15:23:04.870Z"
   },
   {
    "duration": 345,
    "start_time": "2022-10-22T15:23:07.119Z"
   },
   {
    "duration": 2293,
    "start_time": "2022-10-22T15:23:59.650Z"
   },
   {
    "duration": 33,
    "start_time": "2022-10-22T15:28:04.107Z"
   },
   {
    "duration": 36,
    "start_time": "2022-10-22T15:28:30.907Z"
   },
   {
    "duration": 31,
    "start_time": "2022-10-22T15:28:40.720Z"
   },
   {
    "duration": 22,
    "start_time": "2022-10-22T15:28:43.667Z"
   },
   {
    "duration": 6,
    "start_time": "2022-10-22T15:32:20.079Z"
   },
   {
    "duration": 69,
    "start_time": "2022-10-22T15:32:20.262Z"
   },
   {
    "duration": 32,
    "start_time": "2022-10-22T15:32:37.852Z"
   },
   {
    "duration": 25,
    "start_time": "2022-10-22T15:32:38.035Z"
   },
   {
    "duration": 21,
    "start_time": "2022-10-22T15:32:38.192Z"
   },
   {
    "duration": 6,
    "start_time": "2022-10-22T15:32:38.930Z"
   },
   {
    "duration": 14,
    "start_time": "2022-10-22T15:32:39.267Z"
   },
   {
    "duration": 8,
    "start_time": "2022-10-22T15:32:39.453Z"
   },
   {
    "duration": 9,
    "start_time": "2022-10-22T15:32:39.961Z"
   },
   {
    "duration": 30,
    "start_time": "2022-10-22T15:32:40.096Z"
   },
   {
    "duration": 18,
    "start_time": "2022-10-22T15:32:40.294Z"
   },
   {
    "duration": 30,
    "start_time": "2022-10-22T15:32:41.038Z"
   },
   {
    "duration": 19,
    "start_time": "2022-10-22T15:32:41.586Z"
   },
   {
    "duration": 189,
    "start_time": "2022-10-22T15:32:41.973Z"
   },
   {
    "duration": 378,
    "start_time": "2022-10-22T15:32:42.518Z"
   },
   {
    "duration": 15,
    "start_time": "2022-10-22T15:32:42.898Z"
   },
   {
    "duration": 9,
    "start_time": "2022-10-22T15:32:43.349Z"
   },
   {
    "duration": 19,
    "start_time": "2022-10-22T15:32:43.786Z"
   },
   {
    "duration": 6,
    "start_time": "2022-10-22T15:32:44.117Z"
   },
   {
    "duration": 23,
    "start_time": "2022-10-22T15:32:44.534Z"
   },
   {
    "duration": 16,
    "start_time": "2022-10-22T15:32:44.705Z"
   },
   {
    "duration": 21,
    "start_time": "2022-10-22T15:33:01.146Z"
   },
   {
    "duration": 180,
    "start_time": "2022-10-22T15:35:30.691Z"
   },
   {
    "duration": 28,
    "start_time": "2022-10-22T15:35:47.577Z"
   },
   {
    "duration": 29,
    "start_time": "2022-10-22T15:35:57.178Z"
   },
   {
    "duration": 11,
    "start_time": "2022-10-22T15:36:28.192Z"
   },
   {
    "duration": 8,
    "start_time": "2022-10-22T15:38:44.026Z"
   },
   {
    "duration": 7,
    "start_time": "2022-10-22T15:38:55.659Z"
   },
   {
    "duration": 25,
    "start_time": "2022-10-22T15:39:34.871Z"
   },
   {
    "duration": 18,
    "start_time": "2022-10-22T15:40:53.340Z"
   },
   {
    "duration": 59,
    "start_time": "2022-10-22T15:41:19.014Z"
   },
   {
    "duration": 48,
    "start_time": "2022-10-22T15:42:15.346Z"
   },
   {
    "duration": 7,
    "start_time": "2022-10-22T15:42:39.994Z"
   },
   {
    "duration": 19,
    "start_time": "2022-10-22T15:42:41.696Z"
   },
   {
    "duration": 20,
    "start_time": "2022-10-22T15:42:51.078Z"
   },
   {
    "duration": 23,
    "start_time": "2022-10-22T15:48:16.929Z"
   },
   {
    "duration": 12,
    "start_time": "2022-10-22T15:54:09.561Z"
   },
   {
    "duration": 4,
    "start_time": "2022-10-22T15:55:18.942Z"
   },
   {
    "duration": 6,
    "start_time": "2022-10-22T15:55:21.604Z"
   },
   {
    "duration": 90,
    "start_time": "2022-10-22T15:55:31.843Z"
   },
   {
    "duration": 15,
    "start_time": "2022-10-22T15:55:54.820Z"
   },
   {
    "duration": 5,
    "start_time": "2022-10-22T16:20:36.692Z"
   },
   {
    "duration": 65,
    "start_time": "2022-10-22T16:20:40.339Z"
   },
   {
    "duration": 30,
    "start_time": "2022-10-22T16:20:46.032Z"
   },
   {
    "duration": 23,
    "start_time": "2022-10-22T16:20:46.123Z"
   },
   {
    "duration": 20,
    "start_time": "2022-10-22T16:20:46.261Z"
   },
   {
    "duration": 6,
    "start_time": "2022-10-22T16:20:46.834Z"
   },
   {
    "duration": 10,
    "start_time": "2022-10-22T16:20:47.135Z"
   },
   {
    "duration": 7,
    "start_time": "2022-10-22T16:20:47.302Z"
   },
   {
    "duration": 6,
    "start_time": "2022-10-22T16:20:47.822Z"
   },
   {
    "duration": 20,
    "start_time": "2022-10-22T16:20:47.962Z"
   },
   {
    "duration": 18,
    "start_time": "2022-10-22T16:20:48.125Z"
   },
   {
    "duration": 29,
    "start_time": "2022-10-22T16:20:48.771Z"
   },
   {
    "duration": 15,
    "start_time": "2022-10-22T16:20:49.285Z"
   },
   {
    "duration": 162,
    "start_time": "2022-10-22T16:20:49.635Z"
   },
   {
    "duration": 338,
    "start_time": "2022-10-22T16:20:50.151Z"
   },
   {
    "duration": 15,
    "start_time": "2022-10-22T16:20:50.524Z"
   },
   {
    "duration": 13,
    "start_time": "2022-10-22T16:20:51.026Z"
   },
   {
    "duration": 23,
    "start_time": "2022-10-22T16:20:51.405Z"
   },
   {
    "duration": 7,
    "start_time": "2022-10-22T16:20:51.795Z"
   },
   {
    "duration": 31,
    "start_time": "2022-10-22T16:20:52.252Z"
   },
   {
    "duration": 17,
    "start_time": "2022-10-22T16:20:52.436Z"
   },
   {
    "duration": 7,
    "start_time": "2022-10-22T16:21:02.336Z"
   },
   {
    "duration": 26,
    "start_time": "2022-10-22T16:21:18.140Z"
   },
   {
    "duration": 11,
    "start_time": "2022-10-22T16:21:19.968Z"
   },
   {
    "duration": 43,
    "start_time": "2022-10-22T16:21:23.485Z"
   },
   {
    "duration": 20,
    "start_time": "2022-10-22T16:21:24.198Z"
   },
   {
    "duration": 46,
    "start_time": "2022-10-22T16:27:22.479Z"
   },
   {
    "duration": 3,
    "start_time": "2022-10-22T16:27:29.990Z"
   },
   {
    "duration": 23,
    "start_time": "2022-10-22T16:28:01.096Z"
   },
   {
    "duration": 22,
    "start_time": "2022-10-22T16:28:49.981Z"
   },
   {
    "duration": 17,
    "start_time": "2022-10-22T16:42:12.866Z"
   },
   {
    "duration": 9,
    "start_time": "2022-10-22T16:42:25.112Z"
   },
   {
    "duration": 492,
    "start_time": "2022-10-22T16:43:04.863Z"
   },
   {
    "duration": 16,
    "start_time": "2022-10-22T16:43:15.487Z"
   },
   {
    "duration": 5,
    "start_time": "2022-10-22T16:44:41.322Z"
   },
   {
    "duration": 26,
    "start_time": "2022-10-22T16:44:51.557Z"
   },
   {
    "duration": 9,
    "start_time": "2022-10-22T16:45:25.457Z"
   },
   {
    "duration": 13,
    "start_time": "2022-10-22T16:45:33.085Z"
   },
   {
    "duration": 9,
    "start_time": "2022-10-22T16:46:38.140Z"
   },
   {
    "duration": 17,
    "start_time": "2022-10-22T16:46:39.137Z"
   },
   {
    "duration": 4,
    "start_time": "2022-10-22T16:46:43.426Z"
   },
   {
    "duration": 7,
    "start_time": "2022-10-22T16:46:56.527Z"
   },
   {
    "duration": 26,
    "start_time": "2022-10-22T16:46:57.616Z"
   },
   {
    "duration": 8,
    "start_time": "2022-10-22T16:47:39.387Z"
   },
   {
    "duration": 4,
    "start_time": "2022-10-22T16:47:41.333Z"
   },
   {
    "duration": 5,
    "start_time": "2022-10-22T16:47:53.068Z"
   },
   {
    "duration": 6,
    "start_time": "2022-10-22T16:47:59.576Z"
   },
   {
    "duration": 33,
    "start_time": "2022-10-22T16:48:26.640Z"
   },
   {
    "duration": 22,
    "start_time": "2022-10-22T16:48:57.630Z"
   },
   {
    "duration": 24,
    "start_time": "2022-10-22T16:49:08.513Z"
   },
   {
    "duration": 20,
    "start_time": "2022-10-22T16:54:59.172Z"
   },
   {
    "duration": 7,
    "start_time": "2022-10-22T16:54:59.631Z"
   },
   {
    "duration": 16,
    "start_time": "2022-10-22T16:55:00.064Z"
   },
   {
    "duration": 13,
    "start_time": "2022-10-22T16:55:00.476Z"
   },
   {
    "duration": 26,
    "start_time": "2022-10-22T16:55:01.087Z"
   },
   {
    "duration": 20,
    "start_time": "2022-10-22T16:55:02.891Z"
   },
   {
    "duration": 37,
    "start_time": "2022-10-22T16:55:05.251Z"
   },
   {
    "duration": 22,
    "start_time": "2022-10-22T17:00:20.611Z"
   },
   {
    "duration": 23,
    "start_time": "2022-10-22T17:00:42.990Z"
   },
   {
    "duration": 6,
    "start_time": "2022-10-22T17:00:43.227Z"
   },
   {
    "duration": 23,
    "start_time": "2022-10-22T17:00:43.437Z"
   },
   {
    "duration": 10,
    "start_time": "2022-10-22T17:00:43.589Z"
   },
   {
    "duration": 28,
    "start_time": "2022-10-22T17:00:43.793Z"
   },
   {
    "duration": 15,
    "start_time": "2022-10-22T17:00:43.983Z"
   },
   {
    "duration": 40,
    "start_time": "2022-10-22T17:00:44.228Z"
   },
   {
    "duration": 25,
    "start_time": "2022-10-22T17:10:35.005Z"
   },
   {
    "duration": 21,
    "start_time": "2022-10-22T17:10:40.390Z"
   },
   {
    "duration": 7,
    "start_time": "2022-10-22T17:10:40.590Z"
   },
   {
    "duration": 19,
    "start_time": "2022-10-22T17:10:40.762Z"
   },
   {
    "duration": 9,
    "start_time": "2022-10-22T17:10:40.916Z"
   },
   {
    "duration": 28,
    "start_time": "2022-10-22T17:10:41.107Z"
   },
   {
    "duration": 15,
    "start_time": "2022-10-22T17:10:41.351Z"
   },
   {
    "duration": 36,
    "start_time": "2022-10-22T17:10:42.734Z"
   },
   {
    "duration": 17,
    "start_time": "2022-10-22T17:12:02.848Z"
   },
   {
    "duration": 31,
    "start_time": "2022-10-22T17:12:34.605Z"
   },
   {
    "duration": 7,
    "start_time": "2022-10-22T17:12:36.222Z"
   },
   {
    "duration": 21,
    "start_time": "2022-10-22T17:12:41.636Z"
   },
   {
    "duration": 12,
    "start_time": "2022-10-22T17:12:42.783Z"
   },
   {
    "duration": 27,
    "start_time": "2022-10-22T17:12:43.861Z"
   },
   {
    "duration": 13,
    "start_time": "2022-10-22T17:12:44.732Z"
   },
   {
    "duration": 31,
    "start_time": "2022-10-22T17:12:49.014Z"
   },
   {
    "duration": 4,
    "start_time": "2022-10-22T17:14:14.952Z"
   },
   {
    "duration": 6,
    "start_time": "2022-10-22T17:18:21.455Z"
   },
   {
    "duration": 339,
    "start_time": "2022-10-22T17:45:57.038Z"
   },
   {
    "duration": 343,
    "start_time": "2022-10-22T17:46:07.364Z"
   },
   {
    "duration": 321,
    "start_time": "2022-10-22T17:46:33.670Z"
   },
   {
    "duration": 31,
    "start_time": "2022-10-22T17:47:06.598Z"
   },
   {
    "duration": 369,
    "start_time": "2022-10-22T17:48:14.987Z"
   },
   {
    "duration": 6,
    "start_time": "2022-10-22T18:00:37.140Z"
   },
   {
    "duration": 9,
    "start_time": "2022-10-22T18:02:27.619Z"
   },
   {
    "duration": 4,
    "start_time": "2022-10-22T18:02:31.385Z"
   },
   {
    "duration": 15,
    "start_time": "2022-10-22T18:02:46.688Z"
   },
   {
    "duration": 4,
    "start_time": "2022-10-22T18:04:14.251Z"
   },
   {
    "duration": 6,
    "start_time": "2022-10-22T18:05:10.675Z"
   },
   {
    "duration": 15,
    "start_time": "2022-10-22T18:13:02.602Z"
   },
   {
    "duration": 1680,
    "start_time": "2022-10-22T18:16:14.581Z"
   },
   {
    "duration": 73,
    "start_time": "2022-10-22T18:16:16.264Z"
   },
   {
    "duration": 18,
    "start_time": "2022-10-22T18:16:16.338Z"
   },
   {
    "duration": 15,
    "start_time": "2022-10-22T18:16:16.359Z"
   },
   {
    "duration": 14,
    "start_time": "2022-10-22T18:16:16.377Z"
   },
   {
    "duration": 22,
    "start_time": "2022-10-22T18:16:16.394Z"
   },
   {
    "duration": 47,
    "start_time": "2022-10-22T18:16:16.418Z"
   },
   {
    "duration": 289,
    "start_time": "2022-10-22T18:16:16.467Z"
   },
   {
    "duration": 13,
    "start_time": "2022-10-22T18:16:16.759Z"
   },
   {
    "duration": 202,
    "start_time": "2022-10-22T18:16:16.775Z"
   },
   {
    "duration": 14,
    "start_time": "2022-10-22T18:16:16.980Z"
   },
   {
    "duration": 20,
    "start_time": "2022-10-22T18:16:16.996Z"
   },
   {
    "duration": 35,
    "start_time": "2022-10-22T18:16:17.019Z"
   },
   {
    "duration": 14,
    "start_time": "2022-10-22T18:16:17.057Z"
   },
   {
    "duration": 14,
    "start_time": "2022-10-22T18:16:17.074Z"
   },
   {
    "duration": 407,
    "start_time": "2022-10-22T18:16:17.090Z"
   },
   {
    "duration": 13,
    "start_time": "2022-10-22T18:16:17.498Z"
   },
   {
    "duration": 15,
    "start_time": "2022-10-22T18:16:17.513Z"
   },
   {
    "duration": 32,
    "start_time": "2022-10-22T18:16:17.530Z"
   },
   {
    "duration": 27,
    "start_time": "2022-10-22T18:16:17.565Z"
   },
   {
    "duration": 269,
    "start_time": "2022-10-22T18:16:17.595Z"
   },
   {
    "duration": 278,
    "start_time": "2022-10-22T18:16:17.867Z"
   },
   {
    "duration": 11,
    "start_time": "2022-10-22T18:16:18.148Z"
   },
   {
    "duration": 14,
    "start_time": "2022-10-22T18:16:18.160Z"
   },
   {
    "duration": 11,
    "start_time": "2022-10-22T18:16:18.176Z"
   },
   {
    "duration": 11,
    "start_time": "2022-10-22T18:16:18.190Z"
   },
   {
    "duration": 102,
    "start_time": "2022-10-22T18:16:18.203Z"
   },
   {
    "duration": 27,
    "start_time": "2022-10-22T18:16:18.309Z"
   },
   {
    "duration": 41,
    "start_time": "2022-10-22T18:16:18.338Z"
   },
   {
    "duration": 24,
    "start_time": "2022-10-22T18:16:18.381Z"
   },
   {
    "duration": 6,
    "start_time": "2022-10-22T18:16:18.407Z"
   },
   {
    "duration": 40,
    "start_time": "2022-10-22T18:16:18.414Z"
   },
   {
    "duration": 8,
    "start_time": "2022-10-22T18:16:18.456Z"
   },
   {
    "duration": 7,
    "start_time": "2022-10-22T18:16:18.466Z"
   },
   {
    "duration": 31,
    "start_time": "2022-10-22T18:16:18.475Z"
   },
   {
    "duration": 21,
    "start_time": "2022-10-22T18:16:18.508Z"
   },
   {
    "duration": 51,
    "start_time": "2022-10-22T18:16:18.532Z"
   },
   {
    "duration": 15,
    "start_time": "2022-10-22T18:16:18.585Z"
   },
   {
    "duration": 299,
    "start_time": "2022-10-22T18:16:18.603Z"
   },
   {
    "duration": 363,
    "start_time": "2022-10-22T18:16:18.904Z"
   },
   {
    "duration": 18,
    "start_time": "2022-10-22T18:16:19.269Z"
   },
   {
    "duration": 15,
    "start_time": "2022-10-22T18:16:19.288Z"
   },
   {
    "duration": 17,
    "start_time": "2022-10-22T18:16:19.305Z"
   },
   {
    "duration": 33,
    "start_time": "2022-10-22T18:16:19.324Z"
   },
   {
    "duration": 28,
    "start_time": "2022-10-22T18:16:19.359Z"
   },
   {
    "duration": 18,
    "start_time": "2022-10-22T18:16:19.388Z"
   },
   {
    "duration": 9,
    "start_time": "2022-10-22T18:16:19.408Z"
   },
   {
    "duration": 4591,
    "start_time": "2022-10-22T18:16:19.418Z"
   },
   {
    "duration": 9,
    "start_time": "2022-10-22T18:16:24.011Z"
   },
   {
    "duration": 5,
    "start_time": "2022-10-22T18:16:24.021Z"
   },
   {
    "duration": 698,
    "start_time": "2022-10-22T18:16:24.028Z"
   },
   {
    "duration": 220,
    "start_time": "2022-10-22T18:16:24.728Z"
   },
   {
    "duration": 168,
    "start_time": "2022-10-22T18:16:24.954Z"
   },
   {
    "duration": 304,
    "start_time": "2022-10-22T18:16:25.124Z"
   },
   {
    "duration": 170,
    "start_time": "2022-10-22T18:16:25.430Z"
   },
   {
    "duration": 317,
    "start_time": "2022-10-22T18:16:25.603Z"
   },
   {
    "duration": 244,
    "start_time": "2022-10-22T18:16:25.922Z"
   },
   {
    "duration": 331,
    "start_time": "2022-10-22T18:16:26.169Z"
   },
   {
    "duration": 27,
    "start_time": "2022-10-22T18:16:26.502Z"
   },
   {
    "duration": 2268,
    "start_time": "2022-10-22T18:16:26.531Z"
   },
   {
    "duration": 317,
    "start_time": "2022-10-22T18:16:28.801Z"
   },
   {
    "duration": 45,
    "start_time": "2022-10-22T18:16:29.120Z"
   },
   {
    "duration": 11,
    "start_time": "2022-10-22T18:16:29.167Z"
   },
   {
    "duration": 25,
    "start_time": "2022-10-22T18:16:29.180Z"
   },
   {
    "duration": 16,
    "start_time": "2022-10-22T18:16:29.207Z"
   },
   {
    "duration": 43,
    "start_time": "2022-10-22T18:16:29.225Z"
   },
   {
    "duration": 15,
    "start_time": "2022-10-22T18:16:29.270Z"
   },
   {
    "duration": 31,
    "start_time": "2022-10-22T18:16:29.288Z"
   },
   {
    "duration": 39,
    "start_time": "2022-10-22T18:16:29.321Z"
   },
   {
    "duration": 5,
    "start_time": "2022-10-22T18:16:29.363Z"
   },
   {
    "duration": 14,
    "start_time": "2022-10-22T18:16:29.370Z"
   },
   {
    "duration": 177,
    "start_time": "2022-10-22T20:05:44.768Z"
   },
   {
    "duration": 47,
    "start_time": "2022-10-22T20:08:16.057Z"
   },
   {
    "duration": 27,
    "start_time": "2022-10-22T20:11:51.390Z"
   },
   {
    "duration": 7,
    "start_time": "2022-10-22T20:11:52.854Z"
   },
   {
    "duration": 20,
    "start_time": "2022-10-22T20:11:53.049Z"
   },
   {
    "duration": 12,
    "start_time": "2022-10-22T20:11:53.236Z"
   },
   {
    "duration": 40,
    "start_time": "2022-10-22T20:11:53.407Z"
   },
   {
    "duration": 21,
    "start_time": "2022-10-22T20:11:53.609Z"
   },
   {
    "duration": 40,
    "start_time": "2022-10-22T20:11:53.853Z"
   },
   {
    "duration": 10,
    "start_time": "2022-10-22T20:11:54.192Z"
   },
   {
    "duration": 6,
    "start_time": "2022-10-22T20:11:54.569Z"
   },
   {
    "duration": 4,
    "start_time": "2022-10-22T20:11:54.785Z"
   },
   {
    "duration": 36,
    "start_time": "2022-10-22T20:11:54.971Z"
   },
   {
    "duration": 5,
    "start_time": "2022-10-22T20:11:55.228Z"
   },
   {
    "duration": 8,
    "start_time": "2022-10-22T20:25:11.095Z"
   },
   {
    "duration": 20,
    "start_time": "2022-10-22T20:35:46.279Z"
   },
   {
    "duration": 8,
    "start_time": "2022-10-22T20:35:46.557Z"
   },
   {
    "duration": 22,
    "start_time": "2022-10-22T20:35:46.830Z"
   },
   {
    "duration": 8,
    "start_time": "2022-10-22T20:35:47.242Z"
   },
   {
    "duration": 27,
    "start_time": "2022-10-22T20:35:47.380Z"
   },
   {
    "duration": 15,
    "start_time": "2022-10-22T20:35:47.641Z"
   },
   {
    "duration": 28,
    "start_time": "2022-10-22T20:35:47.946Z"
   },
   {
    "duration": 9,
    "start_time": "2022-10-22T20:35:49.597Z"
   },
   {
    "duration": 4,
    "start_time": "2022-10-22T20:35:50.720Z"
   },
   {
    "duration": 5,
    "start_time": "2022-10-22T20:35:52.965Z"
   },
   {
    "duration": 11,
    "start_time": "2022-10-22T20:35:54.592Z"
   },
   {
    "duration": 72,
    "start_time": "2022-10-22T20:36:04.672Z"
   },
   {
    "duration": 36,
    "start_time": "2022-10-22T20:37:32.683Z"
   },
   {
    "duration": 35,
    "start_time": "2022-10-22T20:37:38.121Z"
   },
   {
    "duration": 42,
    "start_time": "2022-10-22T20:37:41.184Z"
   },
   {
    "duration": 33,
    "start_time": "2022-10-22T20:37:44.395Z"
   },
   {
    "duration": 20,
    "start_time": "2022-10-22T20:37:55.472Z"
   },
   {
    "duration": 7,
    "start_time": "2022-10-22T20:37:55.681Z"
   },
   {
    "duration": 16,
    "start_time": "2022-10-22T20:37:55.859Z"
   },
   {
    "duration": 10,
    "start_time": "2022-10-22T20:37:56.023Z"
   },
   {
    "duration": 26,
    "start_time": "2022-10-22T20:37:56.164Z"
   },
   {
    "duration": 14,
    "start_time": "2022-10-22T20:37:56.299Z"
   },
   {
    "duration": 30,
    "start_time": "2022-10-22T20:37:56.498Z"
   },
   {
    "duration": 9,
    "start_time": "2022-10-22T20:37:57.112Z"
   },
   {
    "duration": 3,
    "start_time": "2022-10-22T20:37:57.965Z"
   },
   {
    "duration": 4,
    "start_time": "2022-10-22T20:38:04.383Z"
   },
   {
    "duration": 9,
    "start_time": "2022-10-22T20:38:10.914Z"
   },
   {
    "duration": 12,
    "start_time": "2022-10-22T20:39:50.772Z"
   },
   {
    "duration": 35,
    "start_time": "2022-10-22T20:39:52.358Z"
   },
   {
    "duration": 8,
    "start_time": "2022-10-22T20:41:01.019Z"
   },
   {
    "duration": 7,
    "start_time": "2022-10-22T20:41:39.911Z"
   },
   {
    "duration": 46,
    "start_time": "2022-10-22T20:41:40.823Z"
   },
   {
    "duration": 1589,
    "start_time": "2022-10-23T08:16:30.021Z"
   },
   {
    "duration": 178,
    "start_time": "2022-10-23T08:16:31.612Z"
   },
   {
    "duration": 14,
    "start_time": "2022-10-23T08:16:35.210Z"
   },
   {
    "duration": 13,
    "start_time": "2022-10-23T08:16:35.595Z"
   },
   {
    "duration": 7,
    "start_time": "2022-10-23T08:16:35.730Z"
   },
   {
    "duration": 16,
    "start_time": "2022-10-23T08:16:36.071Z"
   },
   {
    "duration": 11,
    "start_time": "2022-10-23T08:16:36.619Z"
   },
   {
    "duration": 220,
    "start_time": "2022-10-23T08:16:36.804Z"
   },
   {
    "duration": 12,
    "start_time": "2022-10-23T08:16:37.026Z"
   },
   {
    "duration": 152,
    "start_time": "2022-10-23T08:16:37.121Z"
   },
   {
    "duration": 8,
    "start_time": "2022-10-23T08:16:37.649Z"
   },
   {
    "duration": 11,
    "start_time": "2022-10-23T08:16:37.825Z"
   },
   {
    "duration": 7,
    "start_time": "2022-10-23T08:16:38.005Z"
   },
   {
    "duration": 11,
    "start_time": "2022-10-23T08:16:38.188Z"
   },
   {
    "duration": 10,
    "start_time": "2022-10-23T08:16:38.572Z"
   },
   {
    "duration": 292,
    "start_time": "2022-10-23T08:16:38.740Z"
   },
   {
    "duration": 14,
    "start_time": "2022-10-23T08:16:39.644Z"
   },
   {
    "duration": 11,
    "start_time": "2022-10-23T08:16:39.829Z"
   },
   {
    "duration": 6,
    "start_time": "2022-10-23T08:16:40.219Z"
   },
   {
    "duration": 15,
    "start_time": "2022-10-23T08:16:40.620Z"
   },
   {
    "duration": 171,
    "start_time": "2022-10-23T08:16:40.781Z"
   },
   {
    "duration": 224,
    "start_time": "2022-10-23T08:16:40.972Z"
   },
   {
    "duration": 6,
    "start_time": "2022-10-23T08:16:42.111Z"
   },
   {
    "duration": 9,
    "start_time": "2022-10-23T08:16:42.279Z"
   },
   {
    "duration": 7,
    "start_time": "2022-10-23T08:16:42.480Z"
   },
   {
    "duration": 5,
    "start_time": "2022-10-23T08:16:42.860Z"
   },
   {
    "duration": 63,
    "start_time": "2022-10-23T08:16:43.041Z"
   },
   {
    "duration": 23,
    "start_time": "2022-10-23T08:16:45.491Z"
   },
   {
    "duration": 22,
    "start_time": "2022-10-23T08:16:45.676Z"
   },
   {
    "duration": 18,
    "start_time": "2022-10-23T08:16:45.879Z"
   },
   {
    "duration": 4,
    "start_time": "2022-10-23T08:16:46.987Z"
   },
   {
    "duration": 9,
    "start_time": "2022-10-23T08:16:47.793Z"
   },
   {
    "duration": 6,
    "start_time": "2022-10-23T08:16:48.141Z"
   },
   {
    "duration": 6,
    "start_time": "2022-10-23T08:16:48.831Z"
   },
   {
    "duration": 18,
    "start_time": "2022-10-23T08:16:49.023Z"
   },
   {
    "duration": 16,
    "start_time": "2022-10-23T08:16:49.178Z"
   },
   {
    "duration": 23,
    "start_time": "2022-10-23T08:16:49.932Z"
   },
   {
    "duration": 13,
    "start_time": "2022-10-23T08:16:51.112Z"
   },
   {
    "duration": 213,
    "start_time": "2022-10-23T08:16:51.641Z"
   },
   {
    "duration": 291,
    "start_time": "2022-10-23T08:16:52.520Z"
   },
   {
    "duration": 14,
    "start_time": "2022-10-23T08:16:52.947Z"
   },
   {
    "duration": 8,
    "start_time": "2022-10-23T08:16:54.035Z"
   },
   {
    "duration": 18,
    "start_time": "2022-10-23T08:16:54.504Z"
   },
   {
    "duration": 5,
    "start_time": "2022-10-23T08:16:55.556Z"
   },
   {
    "duration": 18,
    "start_time": "2022-10-23T08:16:55.934Z"
   },
   {
    "duration": 14,
    "start_time": "2022-10-23T08:16:56.263Z"
   },
   {
    "duration": 8,
    "start_time": "2022-10-23T08:16:58.301Z"
   },
   {
    "duration": 3800,
    "start_time": "2022-10-23T08:16:58.832Z"
   },
   {
    "duration": 6,
    "start_time": "2022-10-23T08:17:02.634Z"
   },
   {
    "duration": 5,
    "start_time": "2022-10-23T08:17:02.642Z"
   },
   {
    "duration": 583,
    "start_time": "2022-10-23T08:17:02.648Z"
   },
   {
    "duration": 175,
    "start_time": "2022-10-23T08:17:03.234Z"
   },
   {
    "duration": 124,
    "start_time": "2022-10-23T08:17:03.411Z"
   },
   {
    "duration": 238,
    "start_time": "2022-10-23T08:17:03.537Z"
   },
   {
    "duration": 127,
    "start_time": "2022-10-23T08:17:03.777Z"
   },
   {
    "duration": 218,
    "start_time": "2022-10-23T08:17:03.906Z"
   },
   {
    "duration": 211,
    "start_time": "2022-10-23T08:17:04.509Z"
   },
   {
    "duration": 285,
    "start_time": "2022-10-23T08:17:05.315Z"
   },
   {
    "duration": 17,
    "start_time": "2022-10-23T08:17:07.092Z"
   },
   {
    "duration": 1890,
    "start_time": "2022-10-23T08:17:07.797Z"
   },
   {
    "duration": 240,
    "start_time": "2022-10-23T08:17:09.689Z"
   },
   {
    "duration": 17,
    "start_time": "2022-10-23T08:17:11.200Z"
   },
   {
    "duration": 5,
    "start_time": "2022-10-23T08:17:11.444Z"
   },
   {
    "duration": 16,
    "start_time": "2022-10-23T08:17:11.640Z"
   },
   {
    "duration": 7,
    "start_time": "2022-10-23T08:17:11.884Z"
   },
   {
    "duration": 23,
    "start_time": "2022-10-23T08:17:12.626Z"
   },
   {
    "duration": 13,
    "start_time": "2022-10-23T08:17:13.126Z"
   },
   {
    "duration": 26,
    "start_time": "2022-10-23T08:17:13.454Z"
   },
   {
    "duration": 6,
    "start_time": "2022-10-23T08:17:14.237Z"
   },
   {
    "duration": 3,
    "start_time": "2022-10-23T08:17:16.880Z"
   },
   {
    "duration": 4,
    "start_time": "2022-10-23T08:17:18.590Z"
   },
   {
    "duration": 7,
    "start_time": "2022-10-23T08:17:20.159Z"
   },
   {
    "duration": 31,
    "start_time": "2022-10-23T08:17:22.366Z"
   },
   {
    "duration": 5,
    "start_time": "2022-10-23T10:12:40.371Z"
   },
   {
    "duration": 68,
    "start_time": "2022-10-23T10:12:40.378Z"
   },
   {
    "duration": 10,
    "start_time": "2022-10-23T10:12:40.814Z"
   },
   {
    "duration": 13,
    "start_time": "2022-10-23T10:12:41.384Z"
   },
   {
    "duration": 9,
    "start_time": "2022-10-23T10:12:41.426Z"
   },
   {
    "duration": 23,
    "start_time": "2022-10-23T10:12:41.699Z"
   },
   {
    "duration": 14,
    "start_time": "2022-10-23T10:12:42.315Z"
   },
   {
    "duration": 209,
    "start_time": "2022-10-23T10:12:42.369Z"
   },
   {
    "duration": 12,
    "start_time": "2022-10-23T10:12:42.580Z"
   },
   {
    "duration": 148,
    "start_time": "2022-10-23T10:12:42.689Z"
   },
   {
    "duration": 9,
    "start_time": "2022-10-23T10:12:43.204Z"
   },
   {
    "duration": 12,
    "start_time": "2022-10-23T10:12:43.550Z"
   },
   {
    "duration": 8,
    "start_time": "2022-10-23T10:12:43.730Z"
   },
   {
    "duration": 11,
    "start_time": "2022-10-23T10:12:43.901Z"
   },
   {
    "duration": 12,
    "start_time": "2022-10-23T10:12:44.222Z"
   },
   {
    "duration": 278,
    "start_time": "2022-10-23T10:12:44.468Z"
   },
   {
    "duration": 11,
    "start_time": "2022-10-23T10:12:45.011Z"
   },
   {
    "duration": 12,
    "start_time": "2022-10-23T10:12:45.183Z"
   },
   {
    "duration": 9,
    "start_time": "2022-10-23T10:12:45.304Z"
   },
   {
    "duration": 16,
    "start_time": "2022-10-23T10:12:45.500Z"
   },
   {
    "duration": 176,
    "start_time": "2022-10-23T10:12:45.761Z"
   },
   {
    "duration": 246,
    "start_time": "2022-10-23T10:12:46.137Z"
   },
   {
    "duration": 7,
    "start_time": "2022-10-23T10:12:46.630Z"
   },
   {
    "duration": 10,
    "start_time": "2022-10-23T10:12:47.013Z"
   },
   {
    "duration": 8,
    "start_time": "2022-10-23T10:12:47.937Z"
   },
   {
    "duration": 6,
    "start_time": "2022-10-23T10:12:48.273Z"
   },
   {
    "duration": 67,
    "start_time": "2022-10-23T10:12:48.284Z"
   },
   {
    "duration": 23,
    "start_time": "2022-10-23T10:12:50.735Z"
   },
   {
    "duration": 23,
    "start_time": "2022-10-23T10:12:50.861Z"
   },
   {
    "duration": 19,
    "start_time": "2022-10-23T10:12:51.076Z"
   },
   {
    "duration": 5,
    "start_time": "2022-10-23T10:12:51.952Z"
   },
   {
    "duration": 11,
    "start_time": "2022-10-23T10:12:52.613Z"
   },
   {
    "duration": 6,
    "start_time": "2022-10-23T10:12:52.936Z"
   },
   {
    "duration": 6,
    "start_time": "2022-10-23T10:12:53.649Z"
   },
   {
    "duration": 19,
    "start_time": "2022-10-23T10:12:53.825Z"
   },
   {
    "duration": 17,
    "start_time": "2022-10-23T10:12:54.151Z"
   },
   {
    "duration": 31,
    "start_time": "2022-10-23T10:12:54.979Z"
   },
   {
    "duration": 13,
    "start_time": "2022-10-23T10:12:55.659Z"
   },
   {
    "duration": 147,
    "start_time": "2022-10-23T10:12:56.034Z"
   },
   {
    "duration": 402,
    "start_time": "2022-10-23T10:12:56.697Z"
   },
   {
    "duration": 14,
    "start_time": "2022-10-23T10:12:57.118Z"
   },
   {
    "duration": 8,
    "start_time": "2022-10-23T10:12:57.686Z"
   },
   {
    "duration": 15,
    "start_time": "2022-10-23T10:12:58.083Z"
   },
   {
    "duration": 6,
    "start_time": "2022-10-23T10:12:59.734Z"
   },
   {
    "duration": 19,
    "start_time": "2022-10-23T10:13:00.116Z"
   },
   {
    "duration": 14,
    "start_time": "2022-10-23T10:13:00.413Z"
   },
   {
    "duration": 9,
    "start_time": "2022-10-23T10:13:02.820Z"
   },
   {
    "duration": 3779,
    "start_time": "2022-10-23T10:13:03.303Z"
   },
   {
    "duration": 7,
    "start_time": "2022-10-23T10:13:07.084Z"
   },
   {
    "duration": 4,
    "start_time": "2022-10-23T10:13:07.110Z"
   },
   {
    "duration": 629,
    "start_time": "2022-10-23T10:13:07.116Z"
   },
   {
    "duration": 172,
    "start_time": "2022-10-23T10:13:07.746Z"
   },
   {
    "duration": 139,
    "start_time": "2022-10-23T10:13:07.920Z"
   },
   {
    "duration": 333,
    "start_time": "2022-10-23T10:13:08.060Z"
   },
   {
    "duration": 131,
    "start_time": "2022-10-23T10:13:08.394Z"
   },
   {
    "duration": 138,
    "start_time": "2022-10-23T10:13:08.527Z"
   },
   {
    "duration": 208,
    "start_time": "2022-10-23T10:13:08.667Z"
   },
   {
    "duration": 318,
    "start_time": "2022-10-23T10:13:08.876Z"
   },
   {
    "duration": 20,
    "start_time": "2022-10-23T10:13:09.354Z"
   },
   {
    "duration": 2024,
    "start_time": "2022-10-23T10:13:10.140Z"
   },
   {
    "duration": 274,
    "start_time": "2022-10-23T10:13:12.166Z"
   },
   {
    "duration": 19,
    "start_time": "2022-10-23T10:13:13.731Z"
   },
   {
    "duration": 6,
    "start_time": "2022-10-23T10:13:13.943Z"
   },
   {
    "duration": 23,
    "start_time": "2022-10-23T10:13:14.637Z"
   },
   {
    "duration": 8,
    "start_time": "2022-10-23T10:13:14.940Z"
   },
   {
    "duration": 25,
    "start_time": "2022-10-23T10:13:15.414Z"
   },
   {
    "duration": 14,
    "start_time": "2022-10-23T10:13:17.773Z"
   },
   {
    "duration": 29,
    "start_time": "2022-10-23T10:13:18.757Z"
   },
   {
    "duration": 7,
    "start_time": "2022-10-23T10:14:55.285Z"
   },
   {
    "duration": 4,
    "start_time": "2022-10-23T10:14:56.607Z"
   },
   {
    "duration": 5,
    "start_time": "2022-10-23T10:14:58.746Z"
   },
   {
    "duration": 6,
    "start_time": "2022-10-23T10:15:14.080Z"
   },
   {
    "duration": 32,
    "start_time": "2022-10-23T10:16:14.737Z"
   },
   {
    "duration": 44,
    "start_time": "2022-10-23T10:16:53.313Z"
   },
   {
    "duration": 4,
    "start_time": "2022-10-23T15:32:17.462Z"
   },
   {
    "duration": 190,
    "start_time": "2022-10-23T15:32:38.266Z"
   },
   {
    "duration": 65,
    "start_time": "2022-10-23T15:33:49.336Z"
   },
   {
    "duration": 84,
    "start_time": "2022-10-23T15:34:10.079Z"
   },
   {
    "duration": 6630,
    "start_time": "2022-10-23T15:36:00.978Z"
   },
   {
    "duration": 6624,
    "start_time": "2022-10-23T15:37:07.926Z"
   },
   {
    "duration": 1126,
    "start_time": "2022-10-23T15:37:35.158Z"
   },
   {
    "duration": 75,
    "start_time": "2022-10-23T15:38:10.991Z"
   },
   {
    "duration": 6643,
    "start_time": "2022-10-23T15:38:18.538Z"
   },
   {
    "duration": 6847,
    "start_time": "2022-10-23T15:38:34.051Z"
   },
   {
    "duration": 1095,
    "start_time": "2022-10-23T15:38:41.910Z"
   },
   {
    "duration": 90752,
    "start_time": "2022-10-23T15:41:15.488Z"
   },
   {
    "duration": 58464,
    "start_time": "2022-10-23T15:45:59.342Z"
   },
   {
    "duration": 1592,
    "start_time": "2022-10-23T15:49:09.122Z"
   },
   {
    "duration": 44972,
    "start_time": "2022-10-23T15:49:44.355Z"
   },
   {
    "duration": 32085,
    "start_time": "2022-10-23T15:51:02.874Z"
   },
   {
    "duration": 1561,
    "start_time": "2022-10-23T15:55:29.209Z"
   },
   {
    "duration": 4,
    "start_time": "2022-10-23T16:05:49.162Z"
   },
   {
    "duration": 2119,
    "start_time": "2022-10-23T16:05:54.033Z"
   },
   {
    "duration": 3,
    "start_time": "2022-10-23T16:06:04.971Z"
   },
   {
    "duration": 1208,
    "start_time": "2022-10-23T16:06:09.179Z"
   },
   {
    "duration": 4,
    "start_time": "2022-10-23T16:06:28.636Z"
   },
   {
    "duration": 1596,
    "start_time": "2022-10-23T16:06:34.881Z"
   },
   {
    "duration": 664,
    "start_time": "2022-10-23T16:06:39.249Z"
   },
   {
    "duration": 1626,
    "start_time": "2022-10-23T16:11:31.514Z"
   },
   {
    "duration": 613,
    "start_time": "2022-10-23T16:12:41.501Z"
   },
   {
    "duration": 560,
    "start_time": "2022-10-23T16:13:24.358Z"
   },
   {
    "duration": 583,
    "start_time": "2022-10-23T16:37:58.030Z"
   },
   {
    "duration": 1628,
    "start_time": "2022-10-23T16:39:02.943Z"
   },
   {
    "duration": 71212,
    "start_time": "2022-10-23T16:44:04.362Z"
   },
   {
    "duration": 1622,
    "start_time": "2022-10-23T16:45:15.576Z"
   },
   {
    "duration": 1217238,
    "start_time": "2022-10-23T17:14:18.038Z"
   },
   {
    "duration": 577510,
    "start_time": "2022-10-23T17:36:10.899Z"
   },
   {
    "duration": 2326,
    "start_time": "2022-10-23T17:46:08.786Z"
   },
   {
    "duration": 65,
    "start_time": "2022-10-23T17:51:58.181Z"
   },
   {
    "duration": 6,
    "start_time": "2022-10-23T17:53:23.739Z"
   },
   {
    "duration": 1983405,
    "start_time": "2022-10-23T17:53:45.716Z"
   },
   {
    "duration": 70631,
    "start_time": "2022-10-23T18:39:52.150Z"
   },
   {
    "duration": 1575,
    "start_time": "2022-10-23T18:41:09.983Z"
   },
   {
    "duration": 72,
    "start_time": "2022-10-23T19:04:35.083Z"
   },
   {
    "duration": 9,
    "start_time": "2022-10-23T19:05:57.544Z"
   },
   {
    "duration": 9,
    "start_time": "2022-10-23T19:06:14.623Z"
   },
   {
    "duration": 9,
    "start_time": "2022-10-23T19:06:50.569Z"
   },
   {
    "duration": 4,
    "start_time": "2022-10-23T19:06:55.735Z"
   },
   {
    "duration": 5,
    "start_time": "2022-10-23T19:07:28.024Z"
   },
   {
    "duration": 3,
    "start_time": "2022-10-23T19:07:35.712Z"
   },
   {
    "duration": 4,
    "start_time": "2022-10-23T19:08:01.866Z"
   },
   {
    "duration": 26,
    "start_time": "2022-10-23T19:09:06.949Z"
   },
   {
    "duration": 4,
    "start_time": "2022-10-23T19:10:57.928Z"
   },
   {
    "duration": 4,
    "start_time": "2022-10-23T19:11:01.278Z"
   },
   {
    "duration": 70012,
    "start_time": "2022-10-23T19:11:06.296Z"
   },
   {
    "duration": 70265,
    "start_time": "2022-10-23T19:13:42.899Z"
   },
   {
    "duration": 9,
    "start_time": "2022-10-23T19:14:53.166Z"
   },
   {
    "duration": 71041,
    "start_time": "2022-10-23T19:22:23.899Z"
   },
   {
    "duration": 1569,
    "start_time": "2022-10-23T19:23:34.942Z"
   },
   {
    "duration": 62,
    "start_time": "2022-10-23T19:30:50.494Z"
   },
   {
    "duration": 10,
    "start_time": "2022-10-23T19:30:51.058Z"
   },
   {
    "duration": 1877,
    "start_time": "2022-10-23T19:32:46.629Z"
   },
   {
    "duration": 10,
    "start_time": "2022-10-23T19:32:48.508Z"
   },
   {
    "duration": 27996,
    "start_time": "2022-10-23T19:35:37.133Z"
   },
   {
    "duration": 9,
    "start_time": "2022-10-23T19:36:06.670Z"
   },
   {
    "duration": 3790,
    "start_time": "2022-10-23T19:36:25.708Z"
   },
   {
    "duration": 27232,
    "start_time": "2022-10-23T19:36:50.222Z"
   },
   {
    "duration": 3879,
    "start_time": "2022-10-23T19:37:26.594Z"
   },
   {
    "duration": 83179,
    "start_time": "2022-10-23T19:38:28.762Z"
   },
   {
    "duration": 5193,
    "start_time": "2022-10-23T19:39:51.943Z"
   },
   {
    "duration": 94275,
    "start_time": "2022-10-23T19:40:57.405Z"
   },
   {
    "duration": 5643,
    "start_time": "2022-10-23T19:42:31.682Z"
   },
   {
    "duration": 81918,
    "start_time": "2022-10-23T19:47:09.670Z"
   },
   {
    "duration": 5061,
    "start_time": "2022-10-23T19:48:31.590Z"
   },
   {
    "duration": 5116,
    "start_time": "2022-10-23T20:01:14.995Z"
   },
   {
    "duration": 12,
    "start_time": "2022-10-23T20:13:27.724Z"
   },
   {
    "duration": 5171,
    "start_time": "2022-10-23T20:13:42.358Z"
   },
   {
    "duration": 13,
    "start_time": "2022-10-23T20:13:50.488Z"
   },
   {
    "duration": 5203,
    "start_time": "2022-10-23T20:23:59.430Z"
   },
   {
    "duration": 1461,
    "start_time": "2022-10-23T20:24:08.013Z"
   },
   {
    "duration": 1499,
    "start_time": "2022-10-23T20:24:29.949Z"
   },
   {
    "duration": 224,
    "start_time": "2022-10-23T20:24:35.903Z"
   },
   {
    "duration": 1498,
    "start_time": "2022-10-23T20:26:36.253Z"
   },
   {
    "duration": 1487,
    "start_time": "2022-10-23T20:26:49.146Z"
   },
   {
    "duration": 1257,
    "start_time": "2022-10-23T20:27:32.236Z"
   },
   {
    "duration": 55,
    "start_time": "2022-10-23T20:27:38.416Z"
   },
   {
    "duration": 12,
    "start_time": "2022-10-23T20:27:39.739Z"
   },
   {
    "duration": 116,
    "start_time": "2022-10-23T20:28:32.458Z"
   },
   {
    "duration": 270,
    "start_time": "2022-10-23T20:29:11.382Z"
   },
   {
    "duration": 253,
    "start_time": "2022-10-23T20:31:24.570Z"
   },
   {
    "duration": 10,
    "start_time": "2022-10-23T20:37:34.192Z"
   },
   {
    "duration": 8,
    "start_time": "2022-10-23T20:38:07.333Z"
   },
   {
    "duration": 12,
    "start_time": "2022-10-23T20:38:12.512Z"
   },
   {
    "duration": 7,
    "start_time": "2022-10-23T20:38:18.356Z"
   },
   {
    "duration": 8,
    "start_time": "2022-10-23T20:38:48.637Z"
   },
   {
    "duration": 7,
    "start_time": "2022-10-23T20:40:03.760Z"
   },
   {
    "duration": 7,
    "start_time": "2022-10-23T20:40:34.898Z"
   },
   {
    "duration": 7,
    "start_time": "2022-10-23T20:40:51.530Z"
   },
   {
    "duration": 6,
    "start_time": "2022-10-23T20:41:31.222Z"
   },
   {
    "duration": 3,
    "start_time": "2022-10-23T20:42:21.592Z"
   },
   {
    "duration": 1328,
    "start_time": "2022-10-23T20:44:33.733Z"
   },
   {
    "duration": 57,
    "start_time": "2022-10-23T20:44:35.063Z"
   },
   {
    "duration": 248,
    "start_time": "2022-10-23T20:44:39.330Z"
   },
   {
    "duration": 41,
    "start_time": "2022-10-23T20:48:46.235Z"
   },
   {
    "duration": 233,
    "start_time": "2022-10-23T20:49:10.456Z"
   },
   {
    "duration": 249,
    "start_time": "2022-10-23T20:49:51.969Z"
   },
   {
    "duration": 233,
    "start_time": "2022-10-23T20:50:13.551Z"
   },
   {
    "duration": 234,
    "start_time": "2022-10-23T20:50:19.668Z"
   },
   {
    "duration": 237,
    "start_time": "2022-10-23T20:51:02.299Z"
   },
   {
    "duration": 53,
    "start_time": "2022-10-23T20:51:51.127Z"
   },
   {
    "duration": 335,
    "start_time": "2022-10-23T20:53:31.258Z"
   },
   {
    "duration": 242,
    "start_time": "2022-10-23T20:53:44.149Z"
   },
   {
    "duration": 229,
    "start_time": "2022-10-23T20:56:17.029Z"
   },
   {
    "duration": 239,
    "start_time": "2022-10-23T20:58:42.686Z"
   },
   {
    "duration": 1428,
    "start_time": "2022-10-23T21:05:28.492Z"
   },
   {
    "duration": 69,
    "start_time": "2022-10-23T21:05:29.922Z"
   },
   {
    "duration": 15,
    "start_time": "2022-10-23T21:05:29.992Z"
   },
   {
    "duration": 31,
    "start_time": "2022-10-23T21:05:30.010Z"
   },
   {
    "duration": 10,
    "start_time": "2022-10-23T21:05:30.043Z"
   },
   {
    "duration": 26,
    "start_time": "2022-10-23T21:05:30.054Z"
   },
   {
    "duration": 11,
    "start_time": "2022-10-23T21:05:30.082Z"
   },
   {
    "duration": 240,
    "start_time": "2022-10-23T21:05:30.094Z"
   },
   {
    "duration": 12,
    "start_time": "2022-10-23T21:05:30.337Z"
   },
   {
    "duration": 170,
    "start_time": "2022-10-23T21:05:30.353Z"
   },
   {
    "duration": 10,
    "start_time": "2022-10-23T21:05:30.525Z"
   },
   {
    "duration": 26,
    "start_time": "2022-10-23T21:05:30.537Z"
   },
   {
    "duration": 19,
    "start_time": "2022-10-23T21:05:30.565Z"
   },
   {
    "duration": 45,
    "start_time": "2022-10-23T21:05:30.586Z"
   },
   {
    "duration": 23,
    "start_time": "2022-10-23T21:05:30.633Z"
   },
   {
    "duration": 324,
    "start_time": "2022-10-23T21:05:30.658Z"
   },
   {
    "duration": 11,
    "start_time": "2022-10-23T21:05:30.984Z"
   },
   {
    "duration": 14,
    "start_time": "2022-10-23T21:05:31.015Z"
   },
   {
    "duration": 20,
    "start_time": "2022-10-23T21:05:31.031Z"
   },
   {
    "duration": 27,
    "start_time": "2022-10-23T21:05:31.053Z"
   },
   {
    "duration": 189,
    "start_time": "2022-10-23T21:05:31.081Z"
   },
   {
    "duration": 251,
    "start_time": "2022-10-23T21:05:31.272Z"
   },
   {
    "duration": 7,
    "start_time": "2022-10-23T21:05:31.525Z"
   },
   {
    "duration": 17,
    "start_time": "2022-10-23T21:05:31.533Z"
   },
   {
    "duration": 9,
    "start_time": "2022-10-23T21:05:31.552Z"
   },
   {
    "duration": 9,
    "start_time": "2022-10-23T21:05:31.562Z"
   },
   {
    "duration": 74,
    "start_time": "2022-10-23T21:05:31.573Z"
   },
   {
    "duration": 23,
    "start_time": "2022-10-23T21:05:31.652Z"
   },
   {
    "duration": 48,
    "start_time": "2022-10-23T21:05:31.676Z"
   },
   {
    "duration": 19,
    "start_time": "2022-10-23T21:05:31.726Z"
   },
   {
    "duration": 4,
    "start_time": "2022-10-23T21:05:31.746Z"
   },
   {
    "duration": 17,
    "start_time": "2022-10-23T21:05:31.752Z"
   },
   {
    "duration": 5,
    "start_time": "2022-10-23T21:05:31.771Z"
   },
   {
    "duration": 5,
    "start_time": "2022-10-23T21:05:31.778Z"
   },
   {
    "duration": 37,
    "start_time": "2022-10-23T21:05:31.785Z"
   },
   {
    "duration": 15,
    "start_time": "2022-10-23T21:05:31.824Z"
   },
   {
    "duration": 22,
    "start_time": "2022-10-23T21:05:31.840Z"
   },
   {
    "duration": 12,
    "start_time": "2022-10-23T21:05:31.864Z"
   },
   {
    "duration": 248,
    "start_time": "2022-10-23T21:05:31.878Z"
   },
   {
    "duration": 304,
    "start_time": "2022-10-23T21:05:32.128Z"
   },
   {
    "duration": 12,
    "start_time": "2022-10-23T21:05:32.433Z"
   },
   {
    "duration": 9,
    "start_time": "2022-10-23T21:05:32.447Z"
   },
   {
    "duration": 13,
    "start_time": "2022-10-23T21:05:32.457Z"
   },
   {
    "duration": 4,
    "start_time": "2022-10-23T21:05:32.471Z"
   },
   {
    "duration": 47,
    "start_time": "2022-10-23T21:05:32.476Z"
   },
   {
    "duration": 14,
    "start_time": "2022-10-23T21:05:32.525Z"
   },
   {
    "duration": 7,
    "start_time": "2022-10-23T21:05:32.540Z"
   },
   {
    "duration": 3951,
    "start_time": "2022-10-23T21:05:32.549Z"
   },
   {
    "duration": 17,
    "start_time": "2022-10-23T21:05:36.502Z"
   },
   {
    "duration": 6,
    "start_time": "2022-10-23T21:05:36.521Z"
   },
   {
    "duration": 616,
    "start_time": "2022-10-23T21:05:36.529Z"
   },
   {
    "duration": 180,
    "start_time": "2022-10-23T21:05:37.146Z"
   },
   {
    "duration": 128,
    "start_time": "2022-10-23T21:05:37.328Z"
   },
   {
    "duration": 241,
    "start_time": "2022-10-23T21:05:37.458Z"
   },
   {
    "duration": 128,
    "start_time": "2022-10-23T21:05:37.701Z"
   },
   {
    "duration": 227,
    "start_time": "2022-10-23T21:05:37.831Z"
   },
   {
    "duration": 202,
    "start_time": "2022-10-23T21:05:38.061Z"
   },
   {
    "duration": 356,
    "start_time": "2022-10-23T21:05:38.265Z"
   },
   {
    "duration": 19,
    "start_time": "2022-10-23T21:05:38.623Z"
   },
   {
    "duration": 1978,
    "start_time": "2022-10-23T21:05:38.644Z"
   },
   {
    "duration": 249,
    "start_time": "2022-10-23T21:05:40.623Z"
   },
   {
    "duration": 18,
    "start_time": "2022-10-23T21:05:40.873Z"
   },
   {
    "duration": 11,
    "start_time": "2022-10-23T21:05:40.919Z"
   },
   {
    "duration": 17,
    "start_time": "2022-10-23T21:05:40.931Z"
   },
   {
    "duration": 9,
    "start_time": "2022-10-23T21:05:40.949Z"
   },
   {
    "duration": 23,
    "start_time": "2022-10-23T21:05:40.959Z"
   },
   {
    "duration": 14,
    "start_time": "2022-10-23T21:05:40.983Z"
   },
   {
    "duration": 29,
    "start_time": "2022-10-23T21:05:41.009Z"
   },
   {
    "duration": 7,
    "start_time": "2022-10-23T21:05:41.039Z"
   },
   {
    "duration": 7,
    "start_time": "2022-10-23T21:05:41.048Z"
   },
   {
    "duration": 5,
    "start_time": "2022-10-23T21:05:41.057Z"
   },
   {
    "duration": 8,
    "start_time": "2022-10-23T21:05:41.064Z"
   },
   {
    "duration": 75,
    "start_time": "2022-10-23T21:05:41.073Z"
   },
   {
    "duration": 3,
    "start_time": "2022-10-23T21:05:41.150Z"
   },
   {
    "duration": 471,
    "start_time": "2022-10-23T21:05:41.156Z"
   },
   {
    "duration": 71443,
    "start_time": "2022-10-23T21:05:41.631Z"
   },
   {
    "duration": 1625,
    "start_time": "2022-10-23T21:06:53.076Z"
   },
   {
    "duration": 155622,
    "start_time": "2022-10-23T21:06:54.703Z"
   },
   {
    "duration": 85387,
    "start_time": "2022-10-23T21:09:30.328Z"
   },
   {
    "duration": 4791,
    "start_time": "2022-10-23T21:10:55.722Z"
   },
   {
    "duration": 2294,
    "start_time": "2022-10-23T21:11:00.516Z"
   },
   {
    "duration": 84747,
    "start_time": "2022-10-23T21:11:02.816Z"
   },
   {
    "duration": 5102,
    "start_time": "2022-10-23T21:12:27.565Z"
   },
   {
    "duration": 1392,
    "start_time": "2022-10-23T21:12:32.669Z"
   },
   {
    "duration": 58,
    "start_time": "2022-10-23T21:12:34.063Z"
   },
   {
    "duration": 250,
    "start_time": "2022-10-23T21:12:34.123Z"
   },
   {
    "duration": 6,
    "start_time": "2022-10-23T21:12:34.374Z"
   },
   {
    "duration": 1895,
    "start_time": "2022-10-25T03:23:19.494Z"
   },
   {
    "duration": 416,
    "start_time": "2022-10-25T03:23:21.391Z"
   },
   {
    "duration": 30,
    "start_time": "2022-10-25T03:23:21.811Z"
   },
   {
    "duration": 55,
    "start_time": "2022-10-25T03:23:21.844Z"
   },
   {
    "duration": 41,
    "start_time": "2022-10-25T03:23:21.903Z"
   },
   {
    "duration": 21,
    "start_time": "2022-10-25T03:23:21.947Z"
   },
   {
    "duration": 29,
    "start_time": "2022-10-25T03:23:21.970Z"
   },
   {
    "duration": 314,
    "start_time": "2022-10-25T03:23:22.001Z"
   },
   {
    "duration": 17,
    "start_time": "2022-10-25T03:23:22.317Z"
   },
   {
    "duration": 315,
    "start_time": "2022-10-25T03:23:22.336Z"
   },
   {
    "duration": 27,
    "start_time": "2022-10-25T03:23:22.655Z"
   },
   {
    "duration": 33,
    "start_time": "2022-10-25T03:23:22.686Z"
   },
   {
    "duration": 11,
    "start_time": "2022-10-25T03:23:22.721Z"
   },
   {
    "duration": 31,
    "start_time": "2022-10-25T03:23:22.738Z"
   },
   {
    "duration": 27,
    "start_time": "2022-10-25T03:23:22.772Z"
   },
   {
    "duration": 279,
    "start_time": "2022-10-25T03:23:22.801Z"
   },
   {
    "duration": 12,
    "start_time": "2022-10-25T03:23:23.082Z"
   },
   {
    "duration": 17,
    "start_time": "2022-10-25T03:23:23.095Z"
   },
   {
    "duration": 14,
    "start_time": "2022-10-25T03:23:23.114Z"
   },
   {
    "duration": 67,
    "start_time": "2022-10-25T03:23:23.130Z"
   },
   {
    "duration": 217,
    "start_time": "2022-10-25T03:23:23.198Z"
   },
   {
    "duration": 355,
    "start_time": "2022-10-25T03:23:23.418Z"
   },
   {
    "duration": 9,
    "start_time": "2022-10-25T03:23:23.774Z"
   },
   {
    "duration": 24,
    "start_time": "2022-10-25T03:23:23.786Z"
   },
   {
    "duration": 27,
    "start_time": "2022-10-25T03:23:23.812Z"
   },
   {
    "duration": 50,
    "start_time": "2022-10-25T03:23:23.841Z"
   },
   {
    "duration": 114,
    "start_time": "2022-10-25T03:23:23.893Z"
   },
   {
    "duration": 46,
    "start_time": "2022-10-25T03:23:24.009Z"
   },
   {
    "duration": 33,
    "start_time": "2022-10-25T03:23:24.057Z"
   },
   {
    "duration": 46,
    "start_time": "2022-10-25T03:23:24.092Z"
   },
   {
    "duration": 12,
    "start_time": "2022-10-25T03:23:24.141Z"
   },
   {
    "duration": 35,
    "start_time": "2022-10-25T03:23:24.161Z"
   },
   {
    "duration": 33,
    "start_time": "2022-10-25T03:23:24.198Z"
   },
   {
    "duration": 49,
    "start_time": "2022-10-25T03:23:24.233Z"
   },
   {
    "duration": 47,
    "start_time": "2022-10-25T03:23:24.284Z"
   },
   {
    "duration": 73,
    "start_time": "2022-10-25T03:23:24.333Z"
   },
   {
    "duration": 34,
    "start_time": "2022-10-25T03:23:24.408Z"
   },
   {
    "duration": 44,
    "start_time": "2022-10-25T03:23:24.444Z"
   },
   {
    "duration": 295,
    "start_time": "2022-10-25T03:23:24.491Z"
   },
   {
    "duration": 413,
    "start_time": "2022-10-25T03:23:24.789Z"
   },
   {
    "duration": 139,
    "start_time": "2022-10-25T03:23:25.207Z"
   },
   {
    "duration": 27,
    "start_time": "2022-10-25T03:23:25.359Z"
   },
   {
    "duration": 23,
    "start_time": "2022-10-25T03:23:25.388Z"
   },
   {
    "duration": 8,
    "start_time": "2022-10-25T03:23:25.413Z"
   },
   {
    "duration": 51,
    "start_time": "2022-10-25T03:23:25.423Z"
   },
   {
    "duration": 25,
    "start_time": "2022-10-25T03:23:25.477Z"
   },
   {
    "duration": 12,
    "start_time": "2022-10-25T03:23:25.505Z"
   },
   {
    "duration": 7601,
    "start_time": "2022-10-25T03:23:25.520Z"
   },
   {
    "duration": 38,
    "start_time": "2022-10-25T03:23:33.123Z"
   },
   {
    "duration": 7,
    "start_time": "2022-10-25T03:23:33.165Z"
   },
   {
    "duration": 738,
    "start_time": "2022-10-25T03:23:33.174Z"
   },
   {
    "duration": 219,
    "start_time": "2022-10-25T03:23:33.914Z"
   },
   {
    "duration": 177,
    "start_time": "2022-10-25T03:23:34.136Z"
   },
   {
    "duration": 274,
    "start_time": "2022-10-25T03:23:34.315Z"
   },
   {
    "duration": 340,
    "start_time": "2022-10-25T03:23:34.591Z"
   },
   {
    "duration": 188,
    "start_time": "2022-10-25T03:23:34.934Z"
   },
   {
    "duration": 290,
    "start_time": "2022-10-25T03:23:35.124Z"
   },
   {
    "duration": 379,
    "start_time": "2022-10-25T03:23:35.416Z"
   },
   {
    "duration": 22,
    "start_time": "2022-10-25T03:23:35.797Z"
   },
   {
    "duration": 2695,
    "start_time": "2022-10-25T03:23:35.822Z"
   },
   {
    "duration": 365,
    "start_time": "2022-10-25T03:23:38.520Z"
   },
   {
    "duration": 22,
    "start_time": "2022-10-25T03:23:38.887Z"
   },
   {
    "duration": 17,
    "start_time": "2022-10-25T03:23:38.912Z"
   },
   {
    "duration": 40,
    "start_time": "2022-10-25T03:23:38.931Z"
   },
   {
    "duration": 85,
    "start_time": "2022-10-25T03:23:38.976Z"
   },
   {
    "duration": 62,
    "start_time": "2022-10-25T03:23:39.064Z"
   },
   {
    "duration": 18,
    "start_time": "2022-10-25T03:23:39.128Z"
   },
   {
    "duration": 35,
    "start_time": "2022-10-25T03:23:39.148Z"
   },
   {
    "duration": 35,
    "start_time": "2022-10-25T03:23:39.185Z"
   },
   {
    "duration": 15,
    "start_time": "2022-10-25T03:23:39.223Z"
   },
   {
    "duration": 59,
    "start_time": "2022-10-25T03:23:39.245Z"
   },
   {
    "duration": 17,
    "start_time": "2022-10-25T03:23:39.306Z"
   },
   {
    "duration": 56,
    "start_time": "2022-10-25T03:23:39.328Z"
   },
   {
    "duration": 5,
    "start_time": "2022-10-25T03:23:39.387Z"
   },
   {
    "duration": 25,
    "start_time": "2022-10-25T03:23:39.396Z"
   },
   {
    "duration": 2861,
    "start_time": "2022-10-25T03:23:39.424Z"
   },
   {
    "duration": 77990,
    "start_time": "2022-10-25T03:23:42.288Z"
   },
   {
    "duration": 8680,
    "start_time": "2022-10-25T03:25:00.280Z"
   },
   {
    "duration": 44,
    "start_time": "2022-10-25T11:32:15.019Z"
   },
   {
    "duration": 1614,
    "start_time": "2022-10-25T11:33:04.514Z"
   },
   {
    "duration": 75,
    "start_time": "2022-10-25T11:33:12.165Z"
   },
   {
    "duration": 4,
    "start_time": "2022-10-25T11:33:18.260Z"
   },
   {
    "duration": 313,
    "start_time": "2022-10-25T11:33:18.437Z"
   },
   {
    "duration": 21,
    "start_time": "2022-10-25T11:33:18.995Z"
   },
   {
    "duration": 14,
    "start_time": "2022-10-25T11:33:19.137Z"
   },
   {
    "duration": 7,
    "start_time": "2022-10-25T11:33:19.319Z"
   },
   {
    "duration": 19,
    "start_time": "2022-10-25T11:33:19.687Z"
   },
   {
    "duration": 11,
    "start_time": "2022-10-25T11:33:20.231Z"
   },
   {
    "duration": 217,
    "start_time": "2022-10-25T11:33:20.423Z"
   },
   {
    "duration": 11,
    "start_time": "2022-10-25T11:33:20.642Z"
   },
   {
    "duration": 147,
    "start_time": "2022-10-25T11:33:20.781Z"
   },
   {
    "duration": 8,
    "start_time": "2022-10-25T11:33:21.334Z"
   },
   {
    "duration": 11,
    "start_time": "2022-10-25T11:33:21.511Z"
   },
   {
    "duration": 7,
    "start_time": "2022-10-25T11:33:21.704Z"
   },
   {
    "duration": 11,
    "start_time": "2022-10-25T11:33:21.908Z"
   },
   {
    "duration": 13,
    "start_time": "2022-10-25T11:33:23.039Z"
   },
   {
    "duration": 327,
    "start_time": "2022-10-25T11:33:23.551Z"
   },
   {
    "duration": 10,
    "start_time": "2022-10-25T11:33:25.083Z"
   },
   {
    "duration": 11,
    "start_time": "2022-10-25T11:33:25.321Z"
   },
   {
    "duration": 7,
    "start_time": "2022-10-25T11:33:25.446Z"
   },
   {
    "duration": 16,
    "start_time": "2022-10-25T11:33:25.607Z"
   },
   {
    "duration": 170,
    "start_time": "2022-10-25T11:33:25.968Z"
   },
   {
    "duration": 232,
    "start_time": "2022-10-25T11:33:26.140Z"
   },
   {
    "duration": 7,
    "start_time": "2022-10-25T11:33:26.524Z"
   },
   {
    "duration": 25,
    "start_time": "2022-10-25T11:33:26.533Z"
   },
   {
    "duration": 7,
    "start_time": "2022-10-25T11:33:26.734Z"
   },
   {
    "duration": 5,
    "start_time": "2022-10-25T11:33:26.818Z"
   },
   {
    "duration": 61,
    "start_time": "2022-10-25T11:33:27.118Z"
   },
   {
    "duration": 21,
    "start_time": "2022-10-25T11:33:28.267Z"
   },
   {
    "duration": 21,
    "start_time": "2022-10-25T11:33:28.442Z"
   },
   {
    "duration": 21,
    "start_time": "2022-10-25T11:33:32.216Z"
   },
   {
    "duration": 4,
    "start_time": "2022-10-25T11:33:33.251Z"
   },
   {
    "duration": 9,
    "start_time": "2022-10-25T11:33:33.676Z"
   },
   {
    "duration": 5,
    "start_time": "2022-10-25T11:33:33.757Z"
   },
   {
    "duration": 5,
    "start_time": "2022-10-25T11:33:34.228Z"
   },
   {
    "duration": 17,
    "start_time": "2022-10-25T11:33:34.414Z"
   },
   {
    "duration": 16,
    "start_time": "2022-10-25T11:33:34.567Z"
   },
   {
    "duration": 23,
    "start_time": "2022-10-25T11:33:35.384Z"
   },
   {
    "duration": 13,
    "start_time": "2022-10-25T11:33:36.020Z"
   },
   {
    "duration": 216,
    "start_time": "2022-10-25T11:33:37.418Z"
   },
   {
    "duration": 321,
    "start_time": "2022-10-25T11:33:37.959Z"
   },
   {
    "duration": 13,
    "start_time": "2022-10-25T11:33:38.337Z"
   },
   {
    "duration": 11,
    "start_time": "2022-10-25T11:33:38.979Z"
   },
   {
    "duration": 15,
    "start_time": "2022-10-25T11:33:39.284Z"
   },
   {
    "duration": 5,
    "start_time": "2022-10-25T11:33:39.689Z"
   },
   {
    "duration": 21,
    "start_time": "2022-10-25T11:33:40.060Z"
   },
   {
    "duration": 18,
    "start_time": "2022-10-25T11:33:40.246Z"
   },
   {
    "duration": 8,
    "start_time": "2022-10-25T11:33:41.871Z"
   },
   {
    "duration": 4006,
    "start_time": "2022-10-25T11:33:42.265Z"
   },
   {
    "duration": 8,
    "start_time": "2022-10-25T11:33:46.273Z"
   },
   {
    "duration": 30,
    "start_time": "2022-10-25T11:33:46.282Z"
   },
   {
    "duration": 647,
    "start_time": "2022-10-25T11:33:46.314Z"
   },
   {
    "duration": 178,
    "start_time": "2022-10-25T11:33:46.963Z"
   },
   {
    "duration": 130,
    "start_time": "2022-10-25T11:33:47.144Z"
   },
   {
    "duration": 249,
    "start_time": "2022-10-25T11:33:47.276Z"
   },
   {
    "duration": 152,
    "start_time": "2022-10-25T11:33:47.527Z"
   },
   {
    "duration": 254,
    "start_time": "2022-10-25T11:33:47.681Z"
   },
   {
    "duration": 215,
    "start_time": "2022-10-25T11:33:47.937Z"
   },
   {
    "duration": 308,
    "start_time": "2022-10-25T11:33:48.155Z"
   },
   {
    "duration": 24,
    "start_time": "2022-10-25T11:33:49.093Z"
   },
   {
    "duration": 2026,
    "start_time": "2022-10-25T11:33:49.939Z"
   },
   {
    "duration": 274,
    "start_time": "2022-10-25T11:33:51.967Z"
   },
   {
    "duration": 19,
    "start_time": "2022-10-25T11:33:53.660Z"
   },
   {
    "duration": 7,
    "start_time": "2022-10-25T11:33:54.072Z"
   },
   {
    "duration": 16,
    "start_time": "2022-10-25T11:33:54.546Z"
   },
   {
    "duration": 7,
    "start_time": "2022-10-25T11:33:56.994Z"
   },
   {
    "duration": 5,
    "start_time": "2022-10-25T11:34:05.049Z"
   },
   {
    "duration": 4,
    "start_time": "2022-10-25T11:34:06.232Z"
   },
   {
    "duration": 42,
    "start_time": "2022-10-25T11:34:08.149Z"
   },
   {
    "duration": 17,
    "start_time": "2022-10-25T11:34:44.375Z"
   },
   {
    "duration": 21,
    "start_time": "2022-10-25T11:35:16.516Z"
   },
   {
    "duration": 18,
    "start_time": "2022-10-25T11:35:35.086Z"
   },
   {
    "duration": 13,
    "start_time": "2022-10-25T11:44:52.803Z"
   },
   {
    "duration": 18,
    "start_time": "2022-10-25T11:54:43.506Z"
   },
   {
    "duration": 16,
    "start_time": "2022-10-25T11:54:56.662Z"
   },
   {
    "duration": 53,
    "start_time": "2022-10-25T11:55:43.839Z"
   },
   {
    "duration": 26,
    "start_time": "2022-10-25T11:55:49.585Z"
   },
   {
    "duration": 27,
    "start_time": "2022-10-25T11:56:10.308Z"
   },
   {
    "duration": 26,
    "start_time": "2022-10-25T11:56:30.006Z"
   },
   {
    "duration": 27,
    "start_time": "2022-10-25T11:56:54.956Z"
   },
   {
    "duration": 29,
    "start_time": "2022-10-25T11:58:46.241Z"
   },
   {
    "duration": 31,
    "start_time": "2022-10-25T11:58:57.976Z"
   },
   {
    "duration": 5,
    "start_time": "2022-10-25T11:59:09.070Z"
   },
   {
    "duration": 4,
    "start_time": "2022-10-25T11:59:25.068Z"
   },
   {
    "duration": 14,
    "start_time": "2022-10-25T11:59:28.137Z"
   },
   {
    "duration": 29,
    "start_time": "2022-10-25T11:59:48.810Z"
   },
   {
    "duration": 19,
    "start_time": "2022-10-25T12:00:01.274Z"
   },
   {
    "duration": 12,
    "start_time": "2022-10-25T12:00:12.593Z"
   },
   {
    "duration": 18,
    "start_time": "2022-10-25T12:00:22.571Z"
   },
   {
    "duration": 13,
    "start_time": "2022-10-25T12:00:44.831Z"
   },
   {
    "duration": 28,
    "start_time": "2022-10-25T12:10:10.728Z"
   },
   {
    "duration": 18,
    "start_time": "2022-10-25T12:10:28.429Z"
   },
   {
    "duration": 20,
    "start_time": "2022-10-25T12:18:51.470Z"
   },
   {
    "duration": 11,
    "start_time": "2022-10-25T12:18:58.828Z"
   },
   {
    "duration": 10,
    "start_time": "2022-10-25T12:19:05.479Z"
   },
   {
    "duration": 11,
    "start_time": "2022-10-25T12:19:12.859Z"
   },
   {
    "duration": 10,
    "start_time": "2022-10-25T12:19:33.012Z"
   },
   {
    "duration": 3,
    "start_time": "2022-10-25T12:19:46.451Z"
   },
   {
    "duration": 10,
    "start_time": "2022-10-25T12:19:50.474Z"
   },
   {
    "duration": 13,
    "start_time": "2022-10-25T12:20:01.966Z"
   },
   {
    "duration": 6,
    "start_time": "2022-10-25T12:20:22.157Z"
   },
   {
    "duration": 711,
    "start_time": "2022-10-25T12:21:56.054Z"
   },
   {
    "duration": 12,
    "start_time": "2022-10-25T12:22:06.642Z"
   },
   {
    "duration": 5,
    "start_time": "2022-10-25T12:22:38.897Z"
   },
   {
    "duration": 6,
    "start_time": "2022-10-25T12:23:12.313Z"
   },
   {
    "duration": 7,
    "start_time": "2022-10-25T12:23:24.559Z"
   },
   {
    "duration": 6,
    "start_time": "2022-10-25T12:23:35.432Z"
   },
   {
    "duration": 6,
    "start_time": "2022-10-25T12:43:35.766Z"
   },
   {
    "duration": 5,
    "start_time": "2022-10-25T12:48:45.069Z"
   },
   {
    "duration": 11,
    "start_time": "2022-10-25T12:57:58.266Z"
   },
   {
    "duration": 7,
    "start_time": "2022-10-25T13:01:15.228Z"
   },
   {
    "duration": 12,
    "start_time": "2022-10-25T13:01:44.570Z"
   },
   {
    "duration": 18,
    "start_time": "2022-10-25T13:02:59.442Z"
   },
   {
    "duration": 6,
    "start_time": "2022-10-25T13:03:11.819Z"
   },
   {
    "duration": 10,
    "start_time": "2022-10-25T13:33:19.360Z"
   },
   {
    "duration": 463,
    "start_time": "2022-10-25T13:34:09.176Z"
   },
   {
    "duration": 3989,
    "start_time": "2022-10-25T13:35:05.156Z"
   },
   {
    "duration": 3584,
    "start_time": "2022-10-25T13:35:49.191Z"
   },
   {
    "duration": 5,
    "start_time": "2022-10-25T13:42:36.659Z"
   },
   {
    "duration": 5,
    "start_time": "2022-10-25T13:51:58.694Z"
   },
   {
    "duration": 10,
    "start_time": "2022-10-25T13:52:17.471Z"
   },
   {
    "duration": 8,
    "start_time": "2022-10-25T13:53:40.241Z"
   },
   {
    "duration": 25,
    "start_time": "2022-10-25T13:53:45.751Z"
   },
   {
    "duration": 10,
    "start_time": "2022-10-25T13:54:13.195Z"
   },
   {
    "duration": 14,
    "start_time": "2022-10-25T13:54:53.333Z"
   },
   {
    "duration": 26,
    "start_time": "2022-10-25T13:56:54.834Z"
   },
   {
    "duration": 14,
    "start_time": "2022-10-25T13:57:01.433Z"
   },
   {
    "duration": 8,
    "start_time": "2022-10-25T13:59:31.936Z"
   },
   {
    "duration": 26,
    "start_time": "2022-10-25T13:59:33.274Z"
   },
   {
    "duration": 14,
    "start_time": "2022-10-25T13:59:34.288Z"
   },
   {
    "duration": 22,
    "start_time": "2022-10-25T14:00:12.698Z"
   },
   {
    "duration": 21,
    "start_time": "2022-10-25T14:00:19.358Z"
   },
   {
    "duration": 20,
    "start_time": "2022-10-25T14:00:29.558Z"
   },
   {
    "duration": 21,
    "start_time": "2022-10-25T14:01:13.964Z"
   },
   {
    "duration": 4,
    "start_time": "2022-10-25T14:01:41.051Z"
   },
   {
    "duration": 13,
    "start_time": "2022-10-25T14:02:18.809Z"
   },
   {
    "duration": 44,
    "start_time": "2022-10-25T14:02:34.357Z"
   },
   {
    "duration": 13,
    "start_time": "2022-10-25T14:04:08.104Z"
   },
   {
    "duration": 82,
    "start_time": "2022-10-25T14:08:26.302Z"
   },
   {
    "duration": 62,
    "start_time": "2022-10-25T14:08:52.849Z"
   },
   {
    "duration": 72,
    "start_time": "2022-10-25T14:09:16.366Z"
   },
   {
    "duration": 4,
    "start_time": "2022-10-25T14:09:51.566Z"
   },
   {
    "duration": 8,
    "start_time": "2022-10-25T14:10:26.085Z"
   },
   {
    "duration": 35,
    "start_time": "2022-10-25T14:10:43.606Z"
   },
   {
    "duration": 4,
    "start_time": "2022-10-25T14:11:40.826Z"
   },
   {
    "duration": 15,
    "start_time": "2022-10-25T14:12:14.965Z"
   },
   {
    "duration": 46,
    "start_time": "2022-10-25T14:13:41.534Z"
   },
   {
    "duration": 8,
    "start_time": "2022-10-25T14:16:07.593Z"
   },
   {
    "duration": 3,
    "start_time": "2022-10-25T14:16:09.171Z"
   },
   {
    "duration": 5,
    "start_time": "2022-10-25T14:16:10.045Z"
   },
   {
    "duration": 45,
    "start_time": "2022-10-25T14:16:15.855Z"
   },
   {
    "duration": 4,
    "start_time": "2022-10-25T14:16:25.989Z"
   },
   {
    "duration": 5,
    "start_time": "2022-10-25T14:16:32.592Z"
   },
   {
    "duration": 17,
    "start_time": "2022-10-25T14:16:56.532Z"
   },
   {
    "duration": 12,
    "start_time": "2022-10-25T14:23:08.575Z"
   },
   {
    "duration": 16,
    "start_time": "2022-10-25T14:23:29.050Z"
   },
   {
    "duration": 17,
    "start_time": "2022-10-25T14:23:50.834Z"
   },
   {
    "duration": 20,
    "start_time": "2022-10-25T14:23:58.715Z"
   },
   {
    "duration": 4,
    "start_time": "2022-10-25T14:24:51.334Z"
   },
   {
    "duration": 5,
    "start_time": "2022-10-25T14:24:58.891Z"
   },
   {
    "duration": 22,
    "start_time": "2022-10-25T14:25:33.649Z"
   },
   {
    "duration": 7,
    "start_time": "2022-10-25T14:25:34.211Z"
   },
   {
    "duration": 15,
    "start_time": "2022-10-25T14:25:34.637Z"
   },
   {
    "duration": 7,
    "start_time": "2022-10-25T14:25:36.109Z"
   },
   {
    "duration": 4,
    "start_time": "2022-10-25T14:25:37.045Z"
   },
   {
    "duration": 4,
    "start_time": "2022-10-25T14:25:37.486Z"
   },
   {
    "duration": 32,
    "start_time": "2022-10-25T14:25:39.106Z"
   },
   {
    "duration": 6,
    "start_time": "2022-10-25T14:25:40.288Z"
   },
   {
    "duration": 2,
    "start_time": "2022-10-25T14:25:41.134Z"
   },
   {
    "duration": 17,
    "start_time": "2022-10-25T14:25:42.077Z"
   },
   {
    "duration": 17,
    "start_time": "2022-10-25T14:26:56.201Z"
   },
   {
    "duration": 16,
    "start_time": "2022-10-25T14:26:59.286Z"
   },
   {
    "duration": 3,
    "start_time": "2022-10-25T14:27:03.194Z"
   },
   {
    "duration": 16,
    "start_time": "2022-10-25T14:27:08.306Z"
   },
   {
    "duration": 12,
    "start_time": "2022-10-25T14:27:25.759Z"
   },
   {
    "duration": 15,
    "start_time": "2022-10-25T14:29:17.854Z"
   },
   {
    "duration": 17,
    "start_time": "2022-10-25T14:29:43.581Z"
   },
   {
    "duration": 8,
    "start_time": "2022-10-25T14:32:10.771Z"
   },
   {
    "duration": 4,
    "start_time": "2022-10-25T14:32:11.159Z"
   },
   {
    "duration": 4,
    "start_time": "2022-10-25T14:32:11.315Z"
   },
   {
    "duration": 2,
    "start_time": "2022-10-25T14:32:30.462Z"
   },
   {
    "duration": 13,
    "start_time": "2022-10-25T14:32:36.392Z"
   },
   {
    "duration": 7,
    "start_time": "2022-10-25T14:32:46.310Z"
   },
   {
    "duration": 4,
    "start_time": "2022-10-25T14:33:46.504Z"
   },
   {
    "duration": 17,
    "start_time": "2022-10-25T14:34:00.517Z"
   },
   {
    "duration": 15,
    "start_time": "2022-10-25T14:34:01.110Z"
   },
   {
    "duration": 5,
    "start_time": "2022-10-25T14:34:02.746Z"
   },
   {
    "duration": 31,
    "start_time": "2022-10-25T14:34:18.352Z"
   },
   {
    "duration": 31,
    "start_time": "2022-10-25T14:35:35.975Z"
   },
   {
    "duration": 6,
    "start_time": "2022-10-25T14:36:08.115Z"
   },
   {
    "duration": 17,
    "start_time": "2022-10-25T14:36:14.670Z"
   },
   {
    "duration": 23,
    "start_time": "2022-10-25T14:37:30.764Z"
   },
   {
    "duration": 15,
    "start_time": "2022-10-25T14:37:33.238Z"
   },
   {
    "duration": 8,
    "start_time": "2022-10-25T14:37:58.738Z"
   },
   {
    "duration": 5,
    "start_time": "2022-10-25T14:37:59.187Z"
   },
   {
    "duration": 4,
    "start_time": "2022-10-25T14:37:59.397Z"
   },
   {
    "duration": 3,
    "start_time": "2022-10-25T14:38:02.308Z"
   },
   {
    "duration": 2,
    "start_time": "2022-10-25T14:38:02.568Z"
   },
   {
    "duration": 13,
    "start_time": "2022-10-25T14:38:02.814Z"
   },
   {
    "duration": 7,
    "start_time": "2022-10-25T14:38:04.646Z"
   },
   {
    "duration": 5,
    "start_time": "2022-10-25T14:38:13.689Z"
   },
   {
    "duration": 12,
    "start_time": "2022-10-25T14:38:17.070Z"
   },
   {
    "duration": 17,
    "start_time": "2022-10-25T14:38:19.158Z"
   },
   {
    "duration": 3,
    "start_time": "2022-10-25T14:39:10.655Z"
   },
   {
    "duration": 5,
    "start_time": "2022-10-25T14:39:25.335Z"
   },
   {
    "duration": 20,
    "start_time": "2022-10-25T14:39:30.318Z"
   },
   {
    "duration": 13,
    "start_time": "2022-10-25T14:39:42.208Z"
   },
   {
    "duration": 7,
    "start_time": "2022-10-25T14:40:12.204Z"
   },
   {
    "duration": 15,
    "start_time": "2022-10-25T14:40:13.186Z"
   },
   {
    "duration": 5,
    "start_time": "2022-10-25T14:41:07.282Z"
   },
   {
    "duration": 5,
    "start_time": "2022-10-25T14:41:22.013Z"
   },
   {
    "duration": 4,
    "start_time": "2022-10-25T14:41:41.317Z"
   },
   {
    "duration": 9,
    "start_time": "2022-10-25T14:42:13.471Z"
   },
   {
    "duration": 4,
    "start_time": "2022-10-25T14:42:14.959Z"
   },
   {
    "duration": 4,
    "start_time": "2022-10-25T14:42:15.494Z"
   },
   {
    "duration": 4,
    "start_time": "2022-10-25T14:42:16.159Z"
   },
   {
    "duration": 15,
    "start_time": "2022-10-25T14:42:16.706Z"
   },
   {
    "duration": 6,
    "start_time": "2022-10-25T14:42:17.402Z"
   },
   {
    "duration": 15,
    "start_time": "2022-10-25T14:42:42.656Z"
   },
   {
    "duration": 8,
    "start_time": "2022-10-25T14:42:59.412Z"
   },
   {
    "duration": 4,
    "start_time": "2022-10-25T14:43:00.245Z"
   },
   {
    "duration": 4,
    "start_time": "2022-10-25T14:43:00.650Z"
   },
   {
    "duration": 26,
    "start_time": "2022-10-25T14:43:01.173Z"
   },
   {
    "duration": 3,
    "start_time": "2022-10-25T14:43:01.408Z"
   },
   {
    "duration": 3,
    "start_time": "2022-10-25T14:43:01.566Z"
   },
   {
    "duration": 12,
    "start_time": "2022-10-25T14:43:01.753Z"
   },
   {
    "duration": 17,
    "start_time": "2022-10-25T14:43:01.933Z"
   },
   {
    "duration": 8,
    "start_time": "2022-10-25T14:43:08.652Z"
   },
   {
    "duration": 5,
    "start_time": "2022-10-25T14:43:09.080Z"
   },
   {
    "duration": 4,
    "start_time": "2022-10-25T14:43:09.309Z"
   },
   {
    "duration": 3,
    "start_time": "2022-10-25T14:43:12.283Z"
   },
   {
    "duration": 3,
    "start_time": "2022-10-25T14:43:12.513Z"
   },
   {
    "duration": 13,
    "start_time": "2022-10-25T14:43:12.688Z"
   },
   {
    "duration": 8,
    "start_time": "2022-10-25T14:43:12.878Z"
   },
   {
    "duration": 5,
    "start_time": "2022-10-25T14:43:13.018Z"
   },
   {
    "duration": 12,
    "start_time": "2022-10-25T14:43:13.200Z"
   },
   {
    "duration": 9,
    "start_time": "2022-10-25T14:43:14.339Z"
   },
   {
    "duration": 4,
    "start_time": "2022-10-25T14:43:15.720Z"
   },
   {
    "duration": 5,
    "start_time": "2022-10-25T14:43:16.859Z"
   },
   {
    "duration": 4,
    "start_time": "2022-10-25T14:43:18.094Z"
   },
   {
    "duration": 9,
    "start_time": "2022-10-25T14:43:19.175Z"
   },
   {
    "duration": 6,
    "start_time": "2022-10-25T14:43:20.208Z"
   },
   {
    "duration": 29,
    "start_time": "2022-10-25T14:43:31.007Z"
   },
   {
    "duration": 10,
    "start_time": "2022-10-25T14:47:42.099Z"
   },
   {
    "duration": 12,
    "start_time": "2022-10-25T14:48:10.230Z"
   },
   {
    "duration": 10,
    "start_time": "2022-10-25T14:48:10.887Z"
   },
   {
    "duration": 14,
    "start_time": "2022-10-25T14:54:15.735Z"
   },
   {
    "duration": 14,
    "start_time": "2022-10-25T14:57:00.483Z"
   },
   {
    "duration": 22,
    "start_time": "2022-10-25T14:57:20.348Z"
   },
   {
    "duration": 6,
    "start_time": "2022-10-25T14:57:21.218Z"
   },
   {
    "duration": 15,
    "start_time": "2022-10-25T14:57:21.751Z"
   },
   {
    "duration": 8,
    "start_time": "2022-10-25T14:57:22.844Z"
   },
   {
    "duration": 4,
    "start_time": "2022-10-25T14:57:23.253Z"
   },
   {
    "duration": 4,
    "start_time": "2022-10-25T14:57:23.405Z"
   },
   {
    "duration": 10,
    "start_time": "2022-10-25T14:57:24.056Z"
   },
   {
    "duration": 5,
    "start_time": "2022-10-25T14:57:24.222Z"
   },
   {
    "duration": 12,
    "start_time": "2022-10-25T14:57:35.099Z"
   },
   {
    "duration": 8,
    "start_time": "2022-10-25T14:57:35.733Z"
   },
   {
    "duration": 46,
    "start_time": "2022-10-25T14:57:36.822Z"
   },
   {
    "duration": 28,
    "start_time": "2022-10-25T14:57:37.617Z"
   },
   {
    "duration": 29,
    "start_time": "2022-10-25T14:57:41.276Z"
   },
   {
    "duration": 32,
    "start_time": "2022-10-25T14:57:44.435Z"
   },
   {
    "duration": 30,
    "start_time": "2022-10-25T14:57:46.949Z"
   },
   {
    "duration": 41,
    "start_time": "2022-10-25T15:02:57.052Z"
   },
   {
    "duration": 12,
    "start_time": "2022-10-25T15:03:05.321Z"
   },
   {
    "duration": 21,
    "start_time": "2022-10-25T15:05:12.629Z"
   },
   {
    "duration": 9,
    "start_time": "2022-10-25T15:05:32.187Z"
   },
   {
    "duration": 9,
    "start_time": "2022-10-25T15:05:49.858Z"
   },
   {
    "duration": 6,
    "start_time": "2022-10-25T15:05:56.576Z"
   },
   {
    "duration": 61,
    "start_time": "2022-10-25T15:22:57.026Z"
   },
   {
    "duration": 52,
    "start_time": "2022-10-25T15:23:32.108Z"
   },
   {
    "duration": 50,
    "start_time": "2022-10-25T15:24:49.940Z"
   },
   {
    "duration": 61,
    "start_time": "2022-10-25T15:25:02.086Z"
   },
   {
    "duration": 45,
    "start_time": "2022-10-25T15:25:31.735Z"
   },
   {
    "duration": 6,
    "start_time": "2022-10-25T15:27:03.261Z"
   },
   {
    "duration": 16,
    "start_time": "2022-10-25T15:27:13.940Z"
   },
   {
    "duration": 8,
    "start_time": "2022-10-25T15:27:20.894Z"
   },
   {
    "duration": 21,
    "start_time": "2022-10-25T15:27:24.153Z"
   },
   {
    "duration": 15,
    "start_time": "2022-10-25T15:27:36.108Z"
   },
   {
    "duration": 11,
    "start_time": "2022-10-25T15:27:52.042Z"
   },
   {
    "duration": 4,
    "start_time": "2022-10-25T15:28:05.165Z"
   },
   {
    "duration": 19,
    "start_time": "2022-10-25T15:28:28.197Z"
   },
   {
    "duration": 29,
    "start_time": "2022-10-25T15:28:42.089Z"
   },
   {
    "duration": 19,
    "start_time": "2022-10-25T15:29:09.083Z"
   },
   {
    "duration": 26,
    "start_time": "2022-10-25T15:33:44.859Z"
   },
   {
    "duration": 8,
    "start_time": "2022-10-25T15:34:43.294Z"
   },
   {
    "duration": 4,
    "start_time": "2022-10-25T15:34:43.582Z"
   },
   {
    "duration": 4,
    "start_time": "2022-10-25T15:34:43.778Z"
   },
   {
    "duration": 27,
    "start_time": "2022-10-25T15:34:45.146Z"
   },
   {
    "duration": 26,
    "start_time": "2022-10-25T15:36:07.113Z"
   },
   {
    "duration": 16,
    "start_time": "2022-10-25T15:36:46.467Z"
   },
   {
    "duration": 20,
    "start_time": "2022-10-25T15:37:03.325Z"
   },
   {
    "duration": 5,
    "start_time": "2022-10-25T15:40:12.341Z"
   },
   {
    "duration": 5,
    "start_time": "2022-10-25T15:40:20.038Z"
   },
   {
    "duration": 15,
    "start_time": "2022-10-25T15:40:39.606Z"
   },
   {
    "duration": 21,
    "start_time": "2022-10-25T15:40:47.780Z"
   },
   {
    "duration": 16,
    "start_time": "2022-10-25T15:41:01.765Z"
   },
   {
    "duration": 6,
    "start_time": "2022-10-25T15:41:15.423Z"
   },
   {
    "duration": 5,
    "start_time": "2022-10-25T15:41:17.095Z"
   },
   {
    "duration": 18,
    "start_time": "2022-10-25T15:41:18.013Z"
   },
   {
    "duration": 5,
    "start_time": "2022-10-25T15:43:04.967Z"
   },
   {
    "duration": 4,
    "start_time": "2022-10-25T15:43:06.071Z"
   },
   {
    "duration": 23,
    "start_time": "2022-10-25T15:43:06.943Z"
   },
   {
    "duration": 4,
    "start_time": "2022-10-25T15:45:26.785Z"
   },
   {
    "duration": 45,
    "start_time": "2022-10-25T15:45:27.838Z"
   },
   {
    "duration": 5,
    "start_time": "2022-10-25T15:46:27.095Z"
   },
   {
    "duration": 47,
    "start_time": "2022-10-25T15:46:27.835Z"
   },
   {
    "duration": 16,
    "start_time": "2022-10-25T15:46:51.636Z"
   },
   {
    "duration": 6,
    "start_time": "2022-10-25T15:48:21.556Z"
   },
   {
    "duration": 25,
    "start_time": "2022-10-25T15:48:22.784Z"
   },
   {
    "duration": 15,
    "start_time": "2022-10-25T15:48:24.151Z"
   },
   {
    "duration": 29,
    "start_time": "2022-10-25T15:49:13.831Z"
   },
   {
    "duration": 10,
    "start_time": "2022-10-25T15:49:14.849Z"
   },
   {
    "duration": 2,
    "start_time": "2022-10-25T15:49:24.760Z"
   },
   {
    "duration": 12,
    "start_time": "2022-10-25T15:49:34.432Z"
   },
   {
    "duration": 7,
    "start_time": "2022-10-25T15:49:59.549Z"
   },
   {
    "duration": 4,
    "start_time": "2022-10-25T15:50:00.255Z"
   },
   {
    "duration": 4,
    "start_time": "2022-10-25T15:50:01.021Z"
   },
   {
    "duration": 6,
    "start_time": "2022-10-25T15:50:03.057Z"
   },
   {
    "duration": 5,
    "start_time": "2022-10-25T15:50:04.581Z"
   },
   {
    "duration": 47,
    "start_time": "2022-10-25T15:50:23.766Z"
   },
   {
    "duration": 32,
    "start_time": "2022-10-25T15:51:13.177Z"
   },
   {
    "duration": 16,
    "start_time": "2022-10-25T15:51:29.576Z"
   },
   {
    "duration": 16,
    "start_time": "2022-10-25T15:51:46.999Z"
   },
   {
    "duration": 17,
    "start_time": "2022-10-25T15:52:13.175Z"
   },
   {
    "duration": 7,
    "start_time": "2022-10-25T15:52:25.092Z"
   },
   {
    "duration": 3,
    "start_time": "2022-10-25T15:52:25.507Z"
   },
   {
    "duration": 4,
    "start_time": "2022-10-25T15:52:25.700Z"
   },
   {
    "duration": 6,
    "start_time": "2022-10-25T15:52:26.213Z"
   },
   {
    "duration": 7,
    "start_time": "2022-10-25T15:52:26.418Z"
   },
   {
    "duration": 39,
    "start_time": "2022-10-25T15:52:26.576Z"
   },
   {
    "duration": 12,
    "start_time": "2022-10-25T15:52:26.772Z"
   },
   {
    "duration": 14,
    "start_time": "2022-10-25T15:52:27.184Z"
   },
   {
    "duration": 14,
    "start_time": "2022-10-25T15:52:27.831Z"
   },
   {
    "duration": 6,
    "start_time": "2022-10-25T15:54:38.038Z"
   },
   {
    "duration": 37,
    "start_time": "2022-10-25T15:54:39.505Z"
   },
   {
    "duration": 4,
    "start_time": "2022-10-25T15:54:46.130Z"
   },
   {
    "duration": 6,
    "start_time": "2022-10-25T15:54:47.772Z"
   },
   {
    "duration": 3401,
    "start_time": "2022-10-25T15:55:07.123Z"
   },
   {
    "duration": 65774,
    "start_time": "2022-10-25T15:55:30.561Z"
   },
   {
    "duration": 8627,
    "start_time": "2022-10-25T15:56:36.336Z"
   },
   {
    "duration": 77769,
    "start_time": "2022-10-25T15:57:44.555Z"
   },
   {
    "duration": 14798,
    "start_time": "2022-10-25T15:59:02.327Z"
   },
   {
    "duration": 94420,
    "start_time": "2022-10-25T16:00:17.870Z"
   },
   {
    "duration": 27123,
    "start_time": "2022-10-25T16:01:52.292Z"
   },
   {
    "duration": 1445,
    "start_time": "2022-10-25T16:04:49.904Z"
   },
   {
    "duration": 227,
    "start_time": "2022-10-25T16:04:53.199Z"
   },
   {
    "duration": 6,
    "start_time": "2022-10-25T16:05:05.762Z"
   },
   {
    "duration": 29,
    "start_time": "2022-10-25T16:05:07.363Z"
   },
   {
    "duration": 90,
    "start_time": "2022-10-25T16:05:08.008Z"
   },
   {
    "duration": 89,
    "start_time": "2022-10-25T16:05:08.422Z"
   },
   {
    "duration": 87,
    "start_time": "2022-10-25T16:05:08.586Z"
   },
   {
    "duration": 8,
    "start_time": "2022-10-25T16:05:10.783Z"
   },
   {
    "duration": 16,
    "start_time": "2022-10-25T16:05:11.642Z"
   },
   {
    "duration": 880,
    "start_time": "2022-10-25T16:05:29.840Z"
   },
   {
    "duration": 9,
    "start_time": "2022-10-25T16:05:36.990Z"
   },
   {
    "duration": 3,
    "start_time": "2022-10-25T16:05:53.099Z"
   },
   {
    "duration": 3,
    "start_time": "2022-10-25T16:06:36.668Z"
   },
   {
    "duration": 770,
    "start_time": "2022-10-25T16:06:46.416Z"
   },
   {
    "duration": 9,
    "start_time": "2022-10-25T16:06:56.089Z"
   },
   {
    "duration": 54,
    "start_time": "2022-10-25T16:08:17.868Z"
   },
   {
    "duration": 1411,
    "start_time": "2022-10-25T16:08:36.204Z"
   },
   {
    "duration": 104,
    "start_time": "2022-10-25T16:08:37.617Z"
   },
   {
    "duration": 15,
    "start_time": "2022-10-25T16:08:39.429Z"
   },
   {
    "duration": 13,
    "start_time": "2022-10-25T16:08:40.365Z"
   },
   {
    "duration": 7,
    "start_time": "2022-10-25T16:08:41.072Z"
   },
   {
    "duration": 16,
    "start_time": "2022-10-25T16:08:41.967Z"
   },
   {
    "duration": 11,
    "start_time": "2022-10-25T16:08:42.611Z"
   },
   {
    "duration": 228,
    "start_time": "2022-10-25T16:08:42.735Z"
   },
   {
    "duration": 14,
    "start_time": "2022-10-25T16:08:42.965Z"
   },
   {
    "duration": 164,
    "start_time": "2022-10-25T16:08:43.222Z"
   },
   {
    "duration": 12,
    "start_time": "2022-10-25T16:08:43.850Z"
   },
   {
    "duration": 11,
    "start_time": "2022-10-25T16:08:44.010Z"
   },
   {
    "duration": 7,
    "start_time": "2022-10-25T16:08:44.176Z"
   },
   {
    "duration": 11,
    "start_time": "2022-10-25T16:08:44.440Z"
   },
   {
    "duration": 11,
    "start_time": "2022-10-25T16:08:44.737Z"
   },
   {
    "duration": 308,
    "start_time": "2022-10-25T16:08:45.038Z"
   },
   {
    "duration": 10,
    "start_time": "2022-10-25T16:08:45.622Z"
   },
   {
    "duration": 11,
    "start_time": "2022-10-25T16:08:45.781Z"
   },
   {
    "duration": 8,
    "start_time": "2022-10-25T16:08:45.924Z"
   },
   {
    "duration": 18,
    "start_time": "2022-10-25T16:08:46.147Z"
   },
   {
    "duration": 217,
    "start_time": "2022-10-25T16:08:46.353Z"
   },
   {
    "duration": 261,
    "start_time": "2022-10-25T16:08:46.572Z"
   },
   {
    "duration": 7,
    "start_time": "2022-10-25T16:08:47.036Z"
   },
   {
    "duration": 12,
    "start_time": "2022-10-25T16:08:47.212Z"
   },
   {
    "duration": 8,
    "start_time": "2022-10-25T16:08:47.512Z"
   },
   {
    "duration": 6,
    "start_time": "2022-10-25T16:08:47.730Z"
   },
   {
    "duration": 78,
    "start_time": "2022-10-25T16:08:47.820Z"
   },
   {
    "duration": 25,
    "start_time": "2022-10-25T16:08:49.225Z"
   },
   {
    "duration": 22,
    "start_time": "2022-10-25T16:08:49.552Z"
   },
   {
    "duration": 19,
    "start_time": "2022-10-25T16:08:49.734Z"
   },
   {
    "duration": 4,
    "start_time": "2022-10-25T16:08:50.577Z"
   },
   {
    "duration": 10,
    "start_time": "2022-10-25T16:08:51.018Z"
   },
   {
    "duration": 6,
    "start_time": "2022-10-25T16:08:51.221Z"
   },
   {
    "duration": 6,
    "start_time": "2022-10-25T16:08:52.053Z"
   },
   {
    "duration": 18,
    "start_time": "2022-10-25T16:08:52.153Z"
   },
   {
    "duration": 15,
    "start_time": "2022-10-25T16:08:52.374Z"
   },
   {
    "duration": 32,
    "start_time": "2022-10-25T16:08:53.222Z"
   },
   {
    "duration": 16,
    "start_time": "2022-10-25T16:08:53.843Z"
   },
   {
    "duration": 217,
    "start_time": "2022-10-25T16:08:54.216Z"
   },
   {
    "duration": 336,
    "start_time": "2022-10-25T16:08:54.853Z"
   },
   {
    "duration": 14,
    "start_time": "2022-10-25T16:08:55.201Z"
   },
   {
    "duration": 9,
    "start_time": "2022-10-25T16:08:55.787Z"
   },
   {
    "duration": 15,
    "start_time": "2022-10-25T16:08:56.157Z"
   },
   {
    "duration": 5,
    "start_time": "2022-10-25T16:08:56.449Z"
   },
   {
    "duration": 22,
    "start_time": "2022-10-25T16:08:57.035Z"
   },
   {
    "duration": 16,
    "start_time": "2022-10-25T16:08:57.211Z"
   },
   {
    "duration": 9,
    "start_time": "2022-10-25T16:08:59.280Z"
   },
   {
    "duration": 4319,
    "start_time": "2022-10-25T16:08:59.612Z"
   },
   {
    "duration": 8,
    "start_time": "2022-10-25T16:09:03.933Z"
   },
   {
    "duration": 7,
    "start_time": "2022-10-25T16:09:03.942Z"
   },
   {
    "duration": 611,
    "start_time": "2022-10-25T16:09:03.951Z"
   },
   {
    "duration": 166,
    "start_time": "2022-10-25T16:09:04.564Z"
   },
   {
    "duration": 123,
    "start_time": "2022-10-25T16:09:04.732Z"
   },
   {
    "duration": 244,
    "start_time": "2022-10-25T16:09:04.857Z"
   },
   {
    "duration": 135,
    "start_time": "2022-10-25T16:09:05.103Z"
   },
   {
    "duration": 256,
    "start_time": "2022-10-25T16:09:05.240Z"
   },
   {
    "duration": 206,
    "start_time": "2022-10-25T16:09:05.500Z"
   },
   {
    "duration": 328,
    "start_time": "2022-10-25T16:09:05.707Z"
   },
   {
    "duration": 20,
    "start_time": "2022-10-25T16:09:06.037Z"
   },
   {
    "duration": 2159,
    "start_time": "2022-10-25T16:09:07.562Z"
   },
   {
    "duration": 304,
    "start_time": "2022-10-25T16:09:09.724Z"
   },
   {
    "duration": 20,
    "start_time": "2022-10-25T16:09:19.873Z"
   },
   {
    "duration": 7,
    "start_time": "2022-10-25T16:09:20.897Z"
   },
   {
    "duration": 17,
    "start_time": "2022-10-25T16:09:27.916Z"
   },
   {
    "duration": 7,
    "start_time": "2022-10-25T16:09:30.384Z"
   },
   {
    "duration": 3,
    "start_time": "2022-10-25T16:09:31.234Z"
   },
   {
    "duration": 4,
    "start_time": "2022-10-25T16:09:32.247Z"
   },
   {
    "duration": 68,
    "start_time": "2022-10-25T16:10:28.663Z"
   },
   {
    "duration": 6,
    "start_time": "2022-10-25T16:14:00.991Z"
   },
   {
    "duration": 5,
    "start_time": "2022-10-25T16:14:38.376Z"
   },
   {
    "duration": 91,
    "start_time": "2022-10-25T16:14:41.730Z"
   },
   {
    "duration": 4,
    "start_time": "2022-10-25T16:15:19.295Z"
   },
   {
    "duration": 21,
    "start_time": "2022-10-25T16:15:19.939Z"
   },
   {
    "duration": 5,
    "start_time": "2022-10-25T16:15:42.917Z"
   },
   {
    "duration": 37,
    "start_time": "2022-10-25T16:15:43.869Z"
   },
   {
    "duration": 12,
    "start_time": "2022-10-25T16:15:46.413Z"
   },
   {
    "duration": 13,
    "start_time": "2022-10-25T16:15:47.396Z"
   },
   {
    "duration": 20,
    "start_time": "2022-10-25T16:16:30.593Z"
   },
   {
    "duration": 18,
    "start_time": "2022-10-25T16:16:49.669Z"
   },
   {
    "duration": 1386,
    "start_time": "2022-10-25T16:24:22.319Z"
   },
   {
    "duration": 104,
    "start_time": "2022-10-25T16:24:23.707Z"
   },
   {
    "duration": 14,
    "start_time": "2022-10-25T16:24:23.813Z"
   },
   {
    "duration": 18,
    "start_time": "2022-10-25T16:24:23.830Z"
   },
   {
    "duration": 8,
    "start_time": "2022-10-25T16:24:23.849Z"
   },
   {
    "duration": 19,
    "start_time": "2022-10-25T16:24:23.858Z"
   },
   {
    "duration": 11,
    "start_time": "2022-10-25T16:24:24.152Z"
   },
   {
    "duration": 225,
    "start_time": "2022-10-25T16:24:24.337Z"
   },
   {
    "duration": 13,
    "start_time": "2022-10-25T16:24:24.564Z"
   },
   {
    "duration": 148,
    "start_time": "2022-10-25T16:24:24.606Z"
   },
   {
    "duration": 9,
    "start_time": "2022-10-25T16:24:25.019Z"
   },
   {
    "duration": 12,
    "start_time": "2022-10-25T16:24:25.246Z"
   },
   {
    "duration": 8,
    "start_time": "2022-10-25T16:24:25.340Z"
   },
   {
    "duration": 11,
    "start_time": "2022-10-25T16:24:25.497Z"
   },
   {
    "duration": 12,
    "start_time": "2022-10-25T16:24:25.764Z"
   },
   {
    "duration": 297,
    "start_time": "2022-10-25T16:24:26.074Z"
   },
   {
    "duration": 11,
    "start_time": "2022-10-25T16:24:26.561Z"
   },
   {
    "duration": 11,
    "start_time": "2022-10-25T16:24:26.755Z"
   },
   {
    "duration": 6,
    "start_time": "2022-10-25T16:24:26.937Z"
   },
   {
    "duration": 15,
    "start_time": "2022-10-25T16:24:27.104Z"
   },
   {
    "duration": 168,
    "start_time": "2022-10-25T16:24:27.194Z"
   },
   {
    "duration": 240,
    "start_time": "2022-10-25T16:24:27.364Z"
   },
   {
    "duration": 7,
    "start_time": "2022-10-25T16:24:27.808Z"
   },
   {
    "duration": 11,
    "start_time": "2022-10-25T16:24:27.923Z"
   },
   {
    "duration": 8,
    "start_time": "2022-10-25T16:24:28.120Z"
   },
   {
    "duration": 6,
    "start_time": "2022-10-25T16:24:28.254Z"
   },
   {
    "duration": 63,
    "start_time": "2022-10-25T16:24:28.404Z"
   },
   {
    "duration": 22,
    "start_time": "2022-10-25T16:24:29.653Z"
   },
   {
    "duration": 21,
    "start_time": "2022-10-25T16:24:29.828Z"
   },
   {
    "duration": 18,
    "start_time": "2022-10-25T16:24:29.936Z"
   },
   {
    "duration": 6,
    "start_time": "2022-10-25T16:24:30.573Z"
   },
   {
    "duration": 8,
    "start_time": "2022-10-25T16:24:30.913Z"
   },
   {
    "duration": 7,
    "start_time": "2022-10-25T16:24:31.105Z"
   },
   {
    "duration": 9,
    "start_time": "2022-10-25T16:24:31.567Z"
   },
   {
    "duration": 28,
    "start_time": "2022-10-25T16:24:31.754Z"
   },
   {
    "duration": 23,
    "start_time": "2022-10-25T16:24:31.907Z"
   },
   {
    "duration": 31,
    "start_time": "2022-10-25T16:24:32.698Z"
   },
   {
    "duration": 12,
    "start_time": "2022-10-25T16:24:33.329Z"
   },
   {
    "duration": 208,
    "start_time": "2022-10-25T16:24:33.690Z"
   },
   {
    "duration": 300,
    "start_time": "2022-10-25T16:24:34.240Z"
   },
   {
    "duration": 13,
    "start_time": "2022-10-25T16:24:34.566Z"
   },
   {
    "duration": 7,
    "start_time": "2022-10-25T16:24:35.226Z"
   },
   {
    "duration": 15,
    "start_time": "2022-10-25T16:24:35.584Z"
   },
   {
    "duration": 4,
    "start_time": "2022-10-25T16:24:35.943Z"
   },
   {
    "duration": 19,
    "start_time": "2022-10-25T16:24:36.271Z"
   },
   {
    "duration": 13,
    "start_time": "2022-10-25T16:24:36.439Z"
   },
   {
    "duration": 9,
    "start_time": "2022-10-25T16:24:37.900Z"
   },
   {
    "duration": 3927,
    "start_time": "2022-10-25T16:24:38.176Z"
   },
   {
    "duration": 8,
    "start_time": "2022-10-25T16:24:42.105Z"
   },
   {
    "duration": 6,
    "start_time": "2022-10-25T16:24:42.115Z"
   },
   {
    "duration": 612,
    "start_time": "2022-10-25T16:24:42.123Z"
   },
   {
    "duration": 164,
    "start_time": "2022-10-25T16:24:42.737Z"
   },
   {
    "duration": 134,
    "start_time": "2022-10-25T16:24:42.903Z"
   },
   {
    "duration": 222,
    "start_time": "2022-10-25T16:24:43.038Z"
   },
   {
    "duration": 130,
    "start_time": "2022-10-25T16:24:43.262Z"
   },
   {
    "duration": 238,
    "start_time": "2022-10-25T16:24:43.394Z"
   },
   {
    "duration": 192,
    "start_time": "2022-10-25T16:24:43.634Z"
   },
   {
    "duration": 298,
    "start_time": "2022-10-25T16:24:43.828Z"
   },
   {
    "duration": 19,
    "start_time": "2022-10-25T16:24:44.128Z"
   },
   {
    "duration": 1887,
    "start_time": "2022-10-25T16:24:44.150Z"
   },
   {
    "duration": 237,
    "start_time": "2022-10-25T16:24:46.040Z"
   },
   {
    "duration": 20,
    "start_time": "2022-10-25T16:24:57.811Z"
   },
   {
    "duration": 6,
    "start_time": "2022-10-25T17:17:27.365Z"
   },
   {
    "duration": 16,
    "start_time": "2022-10-25T17:17:41.950Z"
   },
   {
    "duration": 12,
    "start_time": "2022-10-25T17:17:59.849Z"
   },
   {
    "duration": 4,
    "start_time": "2022-10-25T17:18:00.354Z"
   },
   {
    "duration": 5,
    "start_time": "2022-10-25T17:18:01.796Z"
   },
   {
    "duration": 81,
    "start_time": "2022-10-25T17:20:31.306Z"
   },
   {
    "duration": 7,
    "start_time": "2022-10-25T17:21:06.048Z"
   },
   {
    "duration": 6,
    "start_time": "2022-10-25T17:21:09.052Z"
   },
   {
    "duration": 6,
    "start_time": "2022-10-25T17:22:41.153Z"
   },
   {
    "duration": 16,
    "start_time": "2022-10-25T17:22:42.250Z"
   },
   {
    "duration": 8,
    "start_time": "2022-10-25T17:22:43.169Z"
   },
   {
    "duration": 4,
    "start_time": "2022-10-25T17:22:48.862Z"
   },
   {
    "duration": 5,
    "start_time": "2022-10-25T17:22:51.497Z"
   },
   {
    "duration": 7,
    "start_time": "2022-10-25T17:22:54.086Z"
   },
   {
    "duration": 5,
    "start_time": "2022-10-25T17:23:01.947Z"
   },
   {
    "duration": 43,
    "start_time": "2022-10-25T17:23:05.270Z"
   },
   {
    "duration": 24,
    "start_time": "2022-10-25T17:23:06.606Z"
   },
   {
    "duration": 31,
    "start_time": "2022-10-25T17:28:42.442Z"
   },
   {
    "duration": 7,
    "start_time": "2022-10-25T17:59:55.348Z"
   },
   {
    "duration": 4,
    "start_time": "2022-10-25T17:59:56.001Z"
   },
   {
    "duration": 4,
    "start_time": "2022-10-25T17:59:56.436Z"
   },
   {
    "duration": 6,
    "start_time": "2022-10-25T17:59:57.968Z"
   },
   {
    "duration": 5,
    "start_time": "2022-10-25T17:59:58.343Z"
   },
   {
    "duration": 50,
    "start_time": "2022-10-25T17:59:59.436Z"
   },
   {
    "duration": 22,
    "start_time": "2022-10-25T18:00:00.427Z"
   },
   {
    "duration": 6,
    "start_time": "2022-10-25T18:03:58.869Z"
   },
   {
    "duration": 119,
    "start_time": "2022-10-25T18:04:00.338Z"
   },
   {
    "duration": 8,
    "start_time": "2022-10-25T18:04:45.419Z"
   },
   {
    "duration": 3,
    "start_time": "2022-10-25T18:04:45.846Z"
   },
   {
    "duration": 4,
    "start_time": "2022-10-25T18:04:46.025Z"
   },
   {
    "duration": 6,
    "start_time": "2022-10-25T18:04:47.407Z"
   },
   {
    "duration": 5,
    "start_time": "2022-10-25T18:04:47.868Z"
   },
   {
    "duration": 43,
    "start_time": "2022-10-25T18:04:48.776Z"
   },
   {
    "duration": 22,
    "start_time": "2022-10-25T18:05:36.659Z"
   },
   {
    "duration": 5,
    "start_time": "2022-10-25T18:05:58.325Z"
   },
   {
    "duration": 16,
    "start_time": "2022-10-25T18:06:32.401Z"
   },
   {
    "duration": 18,
    "start_time": "2022-10-25T18:06:41.753Z"
   },
   {
    "duration": 3,
    "start_time": "2022-10-25T18:09:54.188Z"
   },
   {
    "duration": 4,
    "start_time": "2022-10-25T18:10:20.672Z"
   },
   {
    "duration": 4,
    "start_time": "2022-10-25T18:10:26.829Z"
   },
   {
    "duration": 5,
    "start_time": "2022-10-25T18:11:28.001Z"
   },
   {
    "duration": 16,
    "start_time": "2022-10-25T18:11:33.367Z"
   },
   {
    "duration": 7,
    "start_time": "2022-10-25T18:11:37.753Z"
   },
   {
    "duration": 3,
    "start_time": "2022-10-25T18:11:38.135Z"
   },
   {
    "duration": 4,
    "start_time": "2022-10-25T18:11:38.322Z"
   },
   {
    "duration": 7,
    "start_time": "2022-10-25T18:11:38.977Z"
   },
   {
    "duration": 6,
    "start_time": "2022-10-25T18:11:39.151Z"
   },
   {
    "duration": 38,
    "start_time": "2022-10-25T18:11:39.339Z"
   },
   {
    "duration": 24,
    "start_time": "2022-10-25T18:11:39.551Z"
   },
   {
    "duration": 41,
    "start_time": "2022-10-25T18:11:43.316Z"
   },
   {
    "duration": 25,
    "start_time": "2022-10-25T18:11:44.617Z"
   },
   {
    "duration": 5,
    "start_time": "2022-10-25T18:11:47.483Z"
   },
   {
    "duration": 47,
    "start_time": "2022-10-25T18:11:48.416Z"
   },
   {
    "duration": 32,
    "start_time": "2022-10-25T18:11:49.019Z"
   },
   {
    "duration": 5,
    "start_time": "2022-10-25T18:12:20.672Z"
   },
   {
    "duration": 43,
    "start_time": "2022-10-25T18:12:21.387Z"
   },
   {
    "duration": 22,
    "start_time": "2022-10-25T18:12:22.000Z"
   },
   {
    "duration": 5,
    "start_time": "2022-10-25T18:12:26.126Z"
   },
   {
    "duration": 17,
    "start_time": "2022-10-25T18:12:26.665Z"
   },
   {
    "duration": 19,
    "start_time": "2022-10-25T18:12:27.410Z"
   },
   {
    "duration": 5,
    "start_time": "2022-10-25T18:12:32.579Z"
   },
   {
    "duration": 14,
    "start_time": "2022-10-25T18:12:33.283Z"
   },
   {
    "duration": 6,
    "start_time": "2022-10-25T18:12:53.979Z"
   },
   {
    "duration": 3,
    "start_time": "2022-10-25T18:12:54.424Z"
   },
   {
    "duration": 3,
    "start_time": "2022-10-25T18:12:54.631Z"
   },
   {
    "duration": 6,
    "start_time": "2022-10-25T18:12:55.362Z"
   },
   {
    "duration": 5,
    "start_time": "2022-10-25T18:12:55.598Z"
   },
   {
    "duration": 42,
    "start_time": "2022-10-25T18:12:57.279Z"
   },
   {
    "duration": 24,
    "start_time": "2022-10-25T18:12:57.773Z"
   },
   {
    "duration": 15,
    "start_time": "2022-10-25T18:13:03.084Z"
   },
   {
    "duration": 8,
    "start_time": "2022-10-25T18:15:14.651Z"
   },
   {
    "duration": 3,
    "start_time": "2022-10-25T18:15:15.066Z"
   },
   {
    "duration": 5,
    "start_time": "2022-10-25T18:15:15.261Z"
   },
   {
    "duration": 5,
    "start_time": "2022-10-25T18:15:16.153Z"
   },
   {
    "duration": 5,
    "start_time": "2022-10-25T18:15:16.615Z"
   },
   {
    "duration": 45,
    "start_time": "2022-10-25T18:15:17.485Z"
   },
   {
    "duration": 25,
    "start_time": "2022-10-25T18:15:18.580Z"
   },
   {
    "duration": 14,
    "start_time": "2022-10-25T18:15:23.405Z"
   },
   {
    "duration": 4,
    "start_time": "2022-10-25T18:16:18.328Z"
   },
   {
    "duration": 20,
    "start_time": "2022-10-25T18:16:35.499Z"
   },
   {
    "duration": 7,
    "start_time": "2022-10-25T18:16:47.794Z"
   },
   {
    "duration": 4,
    "start_time": "2022-10-25T18:16:48.184Z"
   },
   {
    "duration": 4,
    "start_time": "2022-10-25T18:16:48.347Z"
   },
   {
    "duration": 6,
    "start_time": "2022-10-25T18:16:49.603Z"
   },
   {
    "duration": 5,
    "start_time": "2022-10-25T18:16:50.487Z"
   },
   {
    "duration": 39,
    "start_time": "2022-10-25T18:16:51.944Z"
   },
   {
    "duration": 19,
    "start_time": "2022-10-25T18:16:56.087Z"
   },
   {
    "duration": 4,
    "start_time": "2022-10-25T18:16:59.791Z"
   },
   {
    "duration": 23,
    "start_time": "2022-10-25T18:17:01.639Z"
   },
   {
    "duration": 7,
    "start_time": "2022-10-25T18:17:05.120Z"
   },
   {
    "duration": 4,
    "start_time": "2022-10-25T18:17:06.046Z"
   },
   {
    "duration": 21,
    "start_time": "2022-10-25T18:17:07.136Z"
   },
   {
    "duration": 4,
    "start_time": "2022-10-25T18:17:26.216Z"
   },
   {
    "duration": 4,
    "start_time": "2022-10-25T18:17:26.871Z"
   },
   {
    "duration": 21,
    "start_time": "2022-10-25T18:17:27.547Z"
   },
   {
    "duration": 9,
    "start_time": "2022-10-25T18:17:31.950Z"
   },
   {
    "duration": 3,
    "start_time": "2022-10-25T18:17:32.372Z"
   },
   {
    "duration": 4,
    "start_time": "2022-10-25T18:17:32.593Z"
   },
   {
    "duration": 6,
    "start_time": "2022-10-25T18:17:33.963Z"
   },
   {
    "duration": 4,
    "start_time": "2022-10-25T18:17:35.341Z"
   },
   {
    "duration": 42,
    "start_time": "2022-10-25T18:17:36.715Z"
   },
   {
    "duration": 23,
    "start_time": "2022-10-25T18:17:40.485Z"
   },
   {
    "duration": 5,
    "start_time": "2022-10-25T18:17:56.412Z"
   },
   {
    "duration": 26,
    "start_time": "2022-10-25T18:18:19.019Z"
   },
   {
    "duration": 8,
    "start_time": "2022-10-25T18:18:26.995Z"
   },
   {
    "duration": 34,
    "start_time": "2022-10-25T18:18:28.874Z"
   },
   {
    "duration": 4,
    "start_time": "2022-10-25T18:18:40.153Z"
   },
   {
    "duration": 7,
    "start_time": "2022-10-25T18:19:13.902Z"
   },
   {
    "duration": 3497,
    "start_time": "2022-10-25T18:19:19.525Z"
   },
   {
    "duration": 128397,
    "start_time": "2022-10-25T18:20:16.054Z"
   },
   {
    "duration": 8283,
    "start_time": "2022-10-25T18:22:24.453Z"
   },
   {
    "duration": 7,
    "start_time": "2022-10-25T18:37:00.767Z"
   },
   {
    "duration": 3,
    "start_time": "2022-10-25T18:37:01.191Z"
   },
   {
    "duration": 4,
    "start_time": "2022-10-25T18:37:01.387Z"
   },
   {
    "duration": 5,
    "start_time": "2022-10-25T18:37:05.178Z"
   },
   {
    "duration": 5,
    "start_time": "2022-10-25T18:37:06.379Z"
   },
   {
    "duration": 9,
    "start_time": "2022-10-25T18:37:10.531Z"
   },
   {
    "duration": 5,
    "start_time": "2022-10-25T18:37:18.545Z"
   },
   {
    "duration": 28,
    "start_time": "2022-10-25T18:37:20.402Z"
   },
   {
    "duration": 28,
    "start_time": "2022-10-25T18:37:23.646Z"
   },
   {
    "duration": 8,
    "start_time": "2022-10-25T18:37:31.584Z"
   },
   {
    "duration": 4,
    "start_time": "2022-10-25T18:37:31.953Z"
   },
   {
    "duration": 4,
    "start_time": "2022-10-25T18:37:32.132Z"
   },
   {
    "duration": 6,
    "start_time": "2022-10-25T18:37:33.572Z"
   },
   {
    "duration": 6,
    "start_time": "2022-10-25T18:37:34.485Z"
   },
   {
    "duration": 27,
    "start_time": "2022-10-25T18:37:35.500Z"
   },
   {
    "duration": 5,
    "start_time": "2022-10-25T18:37:56.064Z"
   },
   {
    "duration": 39,
    "start_time": "2022-10-25T18:37:57.329Z"
   },
   {
    "duration": 29,
    "start_time": "2022-10-25T18:38:09.395Z"
   },
   {
    "duration": 9,
    "start_time": "2022-10-25T18:38:28.920Z"
   },
   {
    "duration": 46,
    "start_time": "2022-10-25T18:38:29.069Z"
   },
   {
    "duration": 4,
    "start_time": "2022-10-25T18:38:31.730Z"
   },
   {
    "duration": 9,
    "start_time": "2022-10-25T18:38:32.946Z"
   },
   {
    "duration": 3552,
    "start_time": "2022-10-25T18:38:37.569Z"
   },
   {
    "duration": 119,
    "start_time": "2022-10-25T18:38:41.123Z"
   },
   {
    "duration": 63515,
    "start_time": "2022-10-25T18:38:49.961Z"
   },
   {
    "duration": 6991,
    "start_time": "2022-10-25T18:39:53.478Z"
   },
   {
    "duration": 172,
    "start_time": "2022-10-25T18:40:00.471Z"
   },
   {
    "duration": 115038,
    "start_time": "2022-10-25T18:44:06.292Z"
   },
   {
    "duration": 42996,
    "start_time": "2022-10-25T18:46:01.332Z"
   },
   {
    "duration": 87614,
    "start_time": "2022-10-25T18:46:44.330Z"
   },
   {
    "duration": 25260,
    "start_time": "2022-10-25T18:48:11.946Z"
   },
   {
    "duration": 12,
    "start_time": "2022-10-25T18:56:47.459Z"
   },
   {
    "duration": 14,
    "start_time": "2022-10-25T18:56:52.051Z"
   },
   {
    "duration": 12,
    "start_time": "2022-10-25T18:57:10.040Z"
   },
   {
    "duration": 12,
    "start_time": "2022-10-25T18:58:50.860Z"
   },
   {
    "duration": 4,
    "start_time": "2022-10-25T18:59:30.906Z"
   },
   {
    "duration": 5,
    "start_time": "2022-10-25T18:59:47.409Z"
   },
   {
    "duration": 5,
    "start_time": "2022-10-25T18:59:59.010Z"
   },
   {
    "duration": 12,
    "start_time": "2022-10-25T19:00:15.911Z"
   },
   {
    "duration": 3,
    "start_time": "2022-10-25T19:00:42.809Z"
   },
   {
    "duration": 9,
    "start_time": "2022-10-25T19:01:02.435Z"
   },
   {
    "duration": 3,
    "start_time": "2022-10-25T19:01:11.737Z"
   },
   {
    "duration": 3,
    "start_time": "2022-10-25T19:01:22.961Z"
   },
   {
    "duration": 12,
    "start_time": "2022-10-25T19:01:59.084Z"
   },
   {
    "duration": 4,
    "start_time": "2022-10-25T19:02:11.472Z"
   },
   {
    "duration": 6,
    "start_time": "2022-10-25T19:02:19.185Z"
   },
   {
    "duration": 4,
    "start_time": "2022-10-25T19:02:22.978Z"
   },
   {
    "duration": 4,
    "start_time": "2022-10-25T19:03:39.432Z"
   },
   {
    "duration": 3,
    "start_time": "2022-10-25T19:04:07.235Z"
   },
   {
    "duration": 2,
    "start_time": "2022-10-25T19:04:17.251Z"
   },
   {
    "duration": 3,
    "start_time": "2022-10-25T19:04:35.160Z"
   },
   {
    "duration": 4,
    "start_time": "2022-10-25T19:04:45.342Z"
   },
   {
    "duration": 4,
    "start_time": "2022-10-25T19:04:56.508Z"
   },
   {
    "duration": 2,
    "start_time": "2022-10-25T19:05:24.009Z"
   },
   {
    "duration": 4,
    "start_time": "2022-10-25T19:05:28.755Z"
   },
   {
    "duration": 4,
    "start_time": "2022-10-25T19:05:33.094Z"
   },
   {
    "duration": 5,
    "start_time": "2022-10-25T19:05:51.309Z"
   },
   {
    "duration": 2,
    "start_time": "2022-10-25T19:05:54.287Z"
   },
   {
    "duration": 9,
    "start_time": "2022-10-25T19:06:26.044Z"
   },
   {
    "duration": 4,
    "start_time": "2022-10-25T19:06:30.240Z"
   },
   {
    "duration": 3,
    "start_time": "2022-10-25T19:06:32.602Z"
   },
   {
    "duration": 9,
    "start_time": "2022-10-25T19:06:42.097Z"
   },
   {
    "duration": 4,
    "start_time": "2022-10-25T19:06:48.945Z"
   },
   {
    "duration": 2,
    "start_time": "2022-10-25T19:06:50.216Z"
   },
   {
    "duration": 4,
    "start_time": "2022-10-25T19:06:51.695Z"
   },
   {
    "duration": 3,
    "start_time": "2022-10-25T19:07:09.879Z"
   },
   {
    "duration": 4,
    "start_time": "2022-10-25T19:07:11.994Z"
   },
   {
    "duration": 9,
    "start_time": "2022-10-25T19:07:16.574Z"
   },
   {
    "duration": 6,
    "start_time": "2022-10-25T19:07:20.306Z"
   },
   {
    "duration": 3,
    "start_time": "2022-10-25T19:07:34.073Z"
   },
   {
    "duration": 3,
    "start_time": "2022-10-25T19:07:36.839Z"
   },
   {
    "duration": 3,
    "start_time": "2022-10-25T19:07:43.891Z"
   },
   {
    "duration": 2,
    "start_time": "2022-10-25T19:07:49.639Z"
   },
   {
    "duration": 2,
    "start_time": "2022-10-25T19:07:54.837Z"
   },
   {
    "duration": 2,
    "start_time": "2022-10-25T19:07:55.704Z"
   },
   {
    "duration": 3,
    "start_time": "2022-10-25T19:08:01.190Z"
   },
   {
    "duration": 4,
    "start_time": "2022-10-25T19:08:06.108Z"
   },
   {
    "duration": 10,
    "start_time": "2022-10-25T19:08:08.637Z"
   },
   {
    "duration": 10,
    "start_time": "2022-10-25T19:08:13.270Z"
   },
   {
    "duration": 4,
    "start_time": "2022-10-25T19:08:15.391Z"
   },
   {
    "duration": 11,
    "start_time": "2022-10-25T19:09:56.115Z"
   },
   {
    "duration": 3,
    "start_time": "2022-10-25T19:10:10.193Z"
   },
   {
    "duration": 5,
    "start_time": "2022-10-25T19:10:11.548Z"
   },
   {
    "duration": 9,
    "start_time": "2022-10-25T19:10:12.604Z"
   },
   {
    "duration": 2,
    "start_time": "2022-10-25T19:11:58.633Z"
   },
   {
    "duration": 2,
    "start_time": "2022-10-25T19:11:59.893Z"
   },
   {
    "duration": 3,
    "start_time": "2022-10-25T19:12:04.091Z"
   },
   {
    "duration": 3,
    "start_time": "2022-10-25T19:12:04.912Z"
   },
   {
    "duration": 3,
    "start_time": "2022-10-25T19:12:05.633Z"
   },
   {
    "duration": 3,
    "start_time": "2022-10-25T19:12:06.250Z"
   },
   {
    "duration": 4,
    "start_time": "2022-10-25T19:12:14.648Z"
   },
   {
    "duration": 3,
    "start_time": "2022-10-25T19:13:14.743Z"
   },
   {
    "duration": 4,
    "start_time": "2022-10-25T19:13:15.287Z"
   },
   {
    "duration": 3,
    "start_time": "2022-10-25T19:13:16.098Z"
   },
   {
    "duration": 4,
    "start_time": "2022-10-25T19:13:17.003Z"
   },
   {
    "duration": 9,
    "start_time": "2022-10-25T19:13:32.170Z"
   },
   {
    "duration": 4,
    "start_time": "2022-10-25T19:13:46.534Z"
   },
   {
    "duration": 16,
    "start_time": "2022-10-25T19:14:52.017Z"
   },
   {
    "duration": 10,
    "start_time": "2022-10-25T19:16:11.207Z"
   },
   {
    "duration": 5,
    "start_time": "2022-10-25T19:16:22.636Z"
   },
   {
    "duration": 5,
    "start_time": "2022-10-25T19:16:42.434Z"
   },
   {
    "duration": 4,
    "start_time": "2022-10-25T19:17:03.798Z"
   },
   {
    "duration": 3,
    "start_time": "2022-10-25T19:17:35.393Z"
   },
   {
    "duration": 157,
    "start_time": "2022-10-25T19:18:11.147Z"
   },
   {
    "duration": 5,
    "start_time": "2022-10-25T19:19:42.751Z"
   },
   {
    "duration": 27280,
    "start_time": "2022-10-25T19:20:01.136Z"
   },
   {
    "duration": 1414,
    "start_time": "2022-10-25T19:20:52.697Z"
   },
   {
    "duration": 229,
    "start_time": "2022-10-25T19:20:55.758Z"
   },
   {
    "duration": 9,
    "start_time": "2022-10-25T19:20:58.998Z"
   },
   {
    "duration": 31,
    "start_time": "2022-10-25T19:21:02.014Z"
   },
   {
    "duration": 82,
    "start_time": "2022-10-25T19:21:04.633Z"
   },
   {
    "duration": 86,
    "start_time": "2022-10-25T19:21:06.064Z"
   },
   {
    "duration": 92,
    "start_time": "2022-10-25T19:21:07.549Z"
   },
   {
    "duration": 7,
    "start_time": "2022-10-25T19:21:11.236Z"
   },
   {
    "duration": 14,
    "start_time": "2022-10-25T19:21:12.162Z"
   },
   {
    "duration": 851,
    "start_time": "2022-10-25T19:21:15.475Z"
   },
   {
    "duration": 4,
    "start_time": "2022-10-25T19:21:16.329Z"
   },
   {
    "duration": 753,
    "start_time": "2022-10-25T19:21:16.709Z"
   },
   {
    "duration": 9,
    "start_time": "2022-10-25T19:21:17.464Z"
   },
   {
    "duration": 45,
    "start_time": "2022-10-25T19:22:41.767Z"
   },
   {
    "duration": 43,
    "start_time": "2022-10-25T19:24:47.671Z"
   },
   {
    "duration": 4,
    "start_time": "2022-10-25T19:31:18.592Z"
   },
   {
    "duration": 3,
    "start_time": "2022-10-25T19:32:43.692Z"
   },
   {
    "duration": 92482,
    "start_time": "2022-10-25T19:33:13.817Z"
   },
   {
    "duration": 165,
    "start_time": "2022-10-25T19:34:46.301Z"
   },
   {
    "duration": 14,
    "start_time": "2022-10-25T19:36:04.494Z"
   },
   {
    "duration": 22,
    "start_time": "2022-10-25T19:36:48.604Z"
   },
   {
    "duration": 8,
    "start_time": "2022-10-25T19:36:48.879Z"
   },
   {
    "duration": 16,
    "start_time": "2022-10-25T19:36:50.547Z"
   },
   {
    "duration": 8,
    "start_time": "2022-10-25T19:36:52.983Z"
   },
   {
    "duration": 3,
    "start_time": "2022-10-25T19:36:53.967Z"
   },
   {
    "duration": 4,
    "start_time": "2022-10-25T19:36:57.789Z"
   },
   {
    "duration": 4,
    "start_time": "2022-10-25T19:37:03.949Z"
   },
   {
    "duration": 6,
    "start_time": "2022-10-25T19:37:07.192Z"
   },
   {
    "duration": 6,
    "start_time": "2022-10-25T19:37:08.233Z"
   },
   {
    "duration": 42,
    "start_time": "2022-10-25T19:37:09.951Z"
   },
   {
    "duration": 22,
    "start_time": "2022-10-25T19:37:11.257Z"
   },
   {
    "duration": 6,
    "start_time": "2022-10-25T19:37:16.439Z"
   },
   {
    "duration": 33,
    "start_time": "2022-10-25T19:37:17.043Z"
   },
   {
    "duration": 3,
    "start_time": "2022-10-25T19:37:21.133Z"
   },
   {
    "duration": 6,
    "start_time": "2022-10-25T19:37:26.033Z"
   },
   {
    "duration": 111,
    "start_time": "2022-10-25T19:37:32.133Z"
   },
   {
    "duration": 93977,
    "start_time": "2022-10-25T19:37:54.094Z"
   },
   {
    "duration": 18,
    "start_time": "2022-10-25T19:39:28.073Z"
   },
   {
    "duration": 100,
    "start_time": "2022-10-25T19:39:28.092Z"
   },
   {
    "duration": 220,
    "start_time": "2022-10-25T19:41:50.742Z"
   },
   {
    "duration": 5,
    "start_time": "2022-10-25T19:45:39.945Z"
   },
   {
    "duration": 5,
    "start_time": "2022-10-25T19:46:06.033Z"
   },
   {
    "duration": 18,
    "start_time": "2022-10-25T19:46:29.333Z"
   },
   {
    "duration": 6,
    "start_time": "2022-10-25T19:46:38.963Z"
   },
   {
    "duration": 10,
    "start_time": "2022-10-25T19:46:46.479Z"
   },
   {
    "duration": 4,
    "start_time": "2022-10-25T19:47:17.941Z"
   },
   {
    "duration": 212956,
    "start_time": "2022-10-25T19:47:41.717Z"
   },
   {
    "duration": 106,
    "start_time": "2022-10-25T19:51:14.675Z"
   },
   {
    "duration": 2540,
    "start_time": "2022-10-25T19:53:33.653Z"
   },
   {
    "duration": 5,
    "start_time": "2022-10-25T19:57:34.451Z"
   },
   {
    "duration": 2523,
    "start_time": "2022-10-25T19:58:13.163Z"
   },
   {
    "duration": 10251,
    "start_time": "2022-10-25T19:58:52.736Z"
   },
   {
    "duration": 5,
    "start_time": "2022-10-25T19:59:12.914Z"
   },
   {
    "duration": 4,
    "start_time": "2022-10-25T19:59:41.242Z"
   },
   {
    "duration": 5,
    "start_time": "2022-10-25T20:53:46.099Z"
   },
   {
    "duration": 120,
    "start_time": "2022-10-25T20:53:46.246Z"
   },
   {
    "duration": 11,
    "start_time": "2022-10-25T20:53:46.671Z"
   },
   {
    "duration": 13,
    "start_time": "2022-10-25T20:53:46.814Z"
   },
   {
    "duration": 9,
    "start_time": "2022-10-25T20:53:46.995Z"
   },
   {
    "duration": 17,
    "start_time": "2022-10-25T20:53:47.345Z"
   },
   {
    "duration": 12,
    "start_time": "2022-10-25T20:53:47.943Z"
   },
   {
    "duration": 221,
    "start_time": "2022-10-25T20:53:48.150Z"
   },
   {
    "duration": 11,
    "start_time": "2022-10-25T20:53:48.374Z"
   },
   {
    "duration": 167,
    "start_time": "2022-10-25T20:53:48.492Z"
   },
   {
    "duration": 11,
    "start_time": "2022-10-25T20:53:48.947Z"
   },
   {
    "duration": 14,
    "start_time": "2022-10-25T20:53:49.050Z"
   },
   {
    "duration": 8,
    "start_time": "2022-10-25T20:53:49.409Z"
   },
   {
    "duration": 12,
    "start_time": "2022-10-25T20:53:49.543Z"
   },
   {
    "duration": 11,
    "start_time": "2022-10-25T20:53:49.868Z"
   },
   {
    "duration": 379,
    "start_time": "2022-10-25T20:53:50.018Z"
   },
   {
    "duration": 10,
    "start_time": "2022-10-25T20:53:50.691Z"
   },
   {
    "duration": 12,
    "start_time": "2022-10-25T20:53:50.849Z"
   },
   {
    "duration": 7,
    "start_time": "2022-10-25T20:53:51.008Z"
   },
   {
    "duration": 16,
    "start_time": "2022-10-25T20:53:51.158Z"
   },
   {
    "duration": 186,
    "start_time": "2022-10-25T20:53:51.297Z"
   },
   {
    "duration": 260,
    "start_time": "2022-10-25T20:53:51.485Z"
   },
   {
    "duration": 11,
    "start_time": "2022-10-25T20:53:51.918Z"
   },
   {
    "duration": 14,
    "start_time": "2022-10-25T20:53:52.020Z"
   },
   {
    "duration": 8,
    "start_time": "2022-10-25T20:53:52.198Z"
   },
   {
    "duration": 6,
    "start_time": "2022-10-25T20:53:52.344Z"
   },
   {
    "duration": 68,
    "start_time": "2022-10-25T20:53:52.461Z"
   },
   {
    "duration": 24,
    "start_time": "2022-10-25T20:53:53.780Z"
   },
   {
    "duration": 28,
    "start_time": "2022-10-25T20:53:53.946Z"
   },
   {
    "duration": 19,
    "start_time": "2022-10-25T20:53:54.091Z"
   },
   {
    "duration": 5,
    "start_time": "2022-10-25T20:53:54.814Z"
   },
   {
    "duration": 13,
    "start_time": "2022-10-25T20:53:55.116Z"
   },
   {
    "duration": 6,
    "start_time": "2022-10-25T20:53:55.247Z"
   },
   {
    "duration": 5,
    "start_time": "2022-10-25T20:53:55.672Z"
   },
   {
    "duration": 18,
    "start_time": "2022-10-25T20:53:55.943Z"
   },
   {
    "duration": 18,
    "start_time": "2022-10-25T20:53:56.134Z"
   },
   {
    "duration": 20,
    "start_time": "2022-10-25T20:53:56.751Z"
   },
   {
    "duration": 15,
    "start_time": "2022-10-25T20:53:57.212Z"
   },
   {
    "duration": 146,
    "start_time": "2022-10-25T20:53:57.547Z"
   },
   {
    "duration": 318,
    "start_time": "2022-10-25T20:53:58.046Z"
   },
   {
    "duration": 13,
    "start_time": "2022-10-25T20:53:58.366Z"
   },
   {
    "duration": 10,
    "start_time": "2022-10-25T20:53:58.973Z"
   },
   {
    "duration": 14,
    "start_time": "2022-10-25T20:53:59.312Z"
   },
   {
    "duration": 5,
    "start_time": "2022-10-25T20:53:59.608Z"
   },
   {
    "duration": 19,
    "start_time": "2022-10-25T20:54:00.148Z"
   },
   {
    "duration": 17,
    "start_time": "2022-10-25T20:54:00.317Z"
   },
   {
    "duration": 9,
    "start_time": "2022-10-25T20:54:01.859Z"
   },
   {
    "duration": 4175,
    "start_time": "2022-10-25T20:54:02.182Z"
   },
   {
    "duration": 7,
    "start_time": "2022-10-25T20:54:06.359Z"
   },
   {
    "duration": 5,
    "start_time": "2022-10-25T20:54:06.367Z"
   },
   {
    "duration": 688,
    "start_time": "2022-10-25T20:54:08.347Z"
   },
   {
    "duration": 205,
    "start_time": "2022-10-25T20:54:09.038Z"
   },
   {
    "duration": 139,
    "start_time": "2022-10-25T20:54:09.246Z"
   },
   {
    "duration": 238,
    "start_time": "2022-10-25T20:54:09.444Z"
   },
   {
    "duration": 135,
    "start_time": "2022-10-25T20:54:09.888Z"
   },
   {
    "duration": 151,
    "start_time": "2022-10-25T20:54:10.068Z"
   },
   {
    "duration": 201,
    "start_time": "2022-10-25T20:54:10.645Z"
   },
   {
    "duration": 413,
    "start_time": "2022-10-25T20:54:11.147Z"
   },
   {
    "duration": 17,
    "start_time": "2022-10-25T20:54:12.047Z"
   },
   {
    "duration": 2012,
    "start_time": "2022-10-25T20:54:14.012Z"
   },
   {
    "duration": 251,
    "start_time": "2022-10-25T20:54:16.032Z"
   },
   {
    "duration": 17,
    "start_time": "2022-10-25T20:54:19.460Z"
   },
   {
    "duration": 6,
    "start_time": "2022-10-25T20:54:19.674Z"
   },
   {
    "duration": 16,
    "start_time": "2022-10-25T20:54:19.875Z"
   },
   {
    "duration": 10,
    "start_time": "2022-10-25T20:54:29.919Z"
   },
   {
    "duration": 3,
    "start_time": "2022-10-25T20:54:32.075Z"
   },
   {
    "duration": 4,
    "start_time": "2022-10-25T20:54:33.994Z"
   },
   {
    "duration": 13,
    "start_time": "2022-10-25T21:02:12.664Z"
   },
   {
    "duration": 6,
    "start_time": "2022-10-25T21:02:15.368Z"
   },
   {
    "duration": 42,
    "start_time": "2022-10-25T21:02:16.552Z"
   },
   {
    "duration": 20,
    "start_time": "2022-10-25T21:02:20.300Z"
   },
   {
    "duration": 7,
    "start_time": "2022-10-25T21:02:41.236Z"
   },
   {
    "duration": 34,
    "start_time": "2022-10-25T21:02:44.512Z"
   },
   {
    "duration": 3,
    "start_time": "2022-10-25T21:02:48.281Z"
   },
   {
    "duration": 6,
    "start_time": "2022-10-25T21:04:20.618Z"
   },
   {
    "duration": 3170,
    "start_time": "2022-10-25T21:04:24.451Z"
   },
   {
    "duration": 63,
    "start_time": "2022-10-25T21:04:27.886Z"
   },
   {
    "duration": 65760,
    "start_time": "2022-10-25T21:04:36.391Z"
   },
   {
    "duration": 7395,
    "start_time": "2022-10-25T21:05:42.153Z"
   },
   {
    "duration": 1267097,
    "start_time": "2022-10-25T21:05:49.550Z"
   },
   {
    "duration": 0,
    "start_time": "2022-10-25T21:26:56.648Z"
   },
   {
    "duration": 0,
    "start_time": "2022-10-25T21:26:56.649Z"
   },
   {
    "duration": 0,
    "start_time": "2022-10-25T21:26:56.723Z"
   },
   {
    "duration": 56,
    "start_time": "2022-10-25T22:11:40.680Z"
   },
   {
    "duration": 51,
    "start_time": "2022-10-26T05:21:34.903Z"
   },
   {
    "duration": 1675,
    "start_time": "2022-10-26T19:19:45.080Z"
   },
   {
    "duration": 406,
    "start_time": "2022-10-26T19:19:46.757Z"
   },
   {
    "duration": 17,
    "start_time": "2022-10-26T19:19:47.164Z"
   },
   {
    "duration": 14,
    "start_time": "2022-10-26T19:19:47.182Z"
   },
   {
    "duration": 9,
    "start_time": "2022-10-26T19:19:47.198Z"
   },
   {
    "duration": 18,
    "start_time": "2022-10-26T19:19:47.209Z"
   },
   {
    "duration": 11,
    "start_time": "2022-10-26T19:19:47.228Z"
   },
   {
    "duration": 252,
    "start_time": "2022-10-26T19:19:47.241Z"
   },
   {
    "duration": 18,
    "start_time": "2022-10-26T19:19:47.495Z"
   },
   {
    "duration": 142,
    "start_time": "2022-10-26T19:19:47.717Z"
   },
   {
    "duration": 9,
    "start_time": "2022-10-26T19:19:48.163Z"
   },
   {
    "duration": 10,
    "start_time": "2022-10-26T19:19:48.273Z"
   },
   {
    "duration": 8,
    "start_time": "2022-10-26T19:19:48.448Z"
   },
   {
    "duration": 10,
    "start_time": "2022-10-26T19:19:48.642Z"
   },
   {
    "duration": 11,
    "start_time": "2022-10-26T19:19:49.089Z"
   },
   {
    "duration": 10,
    "start_time": "2022-10-26T19:22:00.485Z"
   },
   {
    "duration": 1442,
    "start_time": "2022-10-26T19:22:09.083Z"
   },
   {
    "duration": 103,
    "start_time": "2022-10-26T19:22:11.888Z"
   },
   {
    "duration": 14,
    "start_time": "2022-10-26T19:22:13.076Z"
   },
   {
    "duration": 15,
    "start_time": "2022-10-26T19:22:13.265Z"
   },
   {
    "duration": 8,
    "start_time": "2022-10-26T19:22:13.442Z"
   },
   {
    "duration": 17,
    "start_time": "2022-10-26T19:22:14.000Z"
   },
   {
    "duration": 14,
    "start_time": "2022-10-26T19:22:14.513Z"
   },
   {
    "duration": 217,
    "start_time": "2022-10-26T19:22:14.692Z"
   },
   {
    "duration": 12,
    "start_time": "2022-10-26T19:22:14.911Z"
   },
   {
    "duration": 150,
    "start_time": "2022-10-26T19:22:15.009Z"
   },
   {
    "duration": 8,
    "start_time": "2022-10-26T19:22:15.536Z"
   },
   {
    "duration": 13,
    "start_time": "2022-10-26T19:22:15.674Z"
   },
   {
    "duration": 7,
    "start_time": "2022-10-26T19:22:15.814Z"
   },
   {
    "duration": 15,
    "start_time": "2022-10-26T19:22:16.026Z"
   },
   {
    "duration": 15,
    "start_time": "2022-10-26T19:22:16.386Z"
   },
   {
    "duration": 315,
    "start_time": "2022-10-26T19:22:16.548Z"
   },
   {
    "duration": 10,
    "start_time": "2022-10-26T19:22:17.012Z"
   },
   {
    "duration": 12,
    "start_time": "2022-10-26T19:22:17.177Z"
   },
   {
    "duration": 9,
    "start_time": "2022-10-26T19:22:17.388Z"
   },
   {
    "duration": 16,
    "start_time": "2022-10-26T19:22:17.609Z"
   },
   {
    "duration": 193,
    "start_time": "2022-10-26T19:22:17.791Z"
   },
   {
    "duration": 256,
    "start_time": "2022-10-26T19:22:17.986Z"
   },
   {
    "duration": 9,
    "start_time": "2022-10-26T19:22:18.693Z"
   },
   {
    "duration": 10,
    "start_time": "2022-10-26T19:22:19.056Z"
   },
   {
    "duration": 8,
    "start_time": "2022-10-26T19:22:19.310Z"
   },
   {
    "duration": 7,
    "start_time": "2022-10-26T19:22:19.495Z"
   },
   {
    "duration": 73,
    "start_time": "2022-10-26T19:22:19.669Z"
   },
   {
    "duration": 32,
    "start_time": "2022-10-26T19:22:21.407Z"
   },
   {
    "duration": 23,
    "start_time": "2022-10-26T19:22:21.736Z"
   },
   {
    "duration": 18,
    "start_time": "2022-10-26T19:22:21.978Z"
   },
   {
    "duration": 4,
    "start_time": "2022-10-26T19:22:22.743Z"
   },
   {
    "duration": 10,
    "start_time": "2022-10-26T19:22:23.076Z"
   },
   {
    "duration": 6,
    "start_time": "2022-10-26T19:22:23.270Z"
   },
   {
    "duration": 6,
    "start_time": "2022-10-26T19:22:23.882Z"
   },
   {
    "duration": 16,
    "start_time": "2022-10-26T19:22:24.153Z"
   },
   {
    "duration": 15,
    "start_time": "2022-10-26T19:22:24.286Z"
   },
   {
    "duration": 22,
    "start_time": "2022-10-26T19:22:24.985Z"
   },
   {
    "duration": 13,
    "start_time": "2022-10-26T19:22:25.501Z"
   },
   {
    "duration": 208,
    "start_time": "2022-10-26T19:22:25.872Z"
   },
   {
    "duration": 294,
    "start_time": "2022-10-26T19:22:26.416Z"
   },
   {
    "duration": 22,
    "start_time": "2022-10-26T19:22:26.745Z"
   },
   {
    "duration": 8,
    "start_time": "2022-10-26T19:22:27.240Z"
   },
   {
    "duration": 14,
    "start_time": "2022-10-26T19:22:27.588Z"
   },
   {
    "duration": 4,
    "start_time": "2022-10-26T19:22:27.946Z"
   },
   {
    "duration": 19,
    "start_time": "2022-10-26T19:22:28.310Z"
   },
   {
    "duration": 15,
    "start_time": "2022-10-26T19:22:28.490Z"
   },
   {
    "duration": 7,
    "start_time": "2022-10-26T19:22:29.912Z"
   },
   {
    "duration": 3816,
    "start_time": "2022-10-26T19:22:30.264Z"
   },
   {
    "duration": 6,
    "start_time": "2022-10-26T19:22:34.082Z"
   },
   {
    "duration": 10,
    "start_time": "2022-10-26T19:22:34.089Z"
   },
   {
    "duration": 629,
    "start_time": "2022-10-26T19:22:34.100Z"
   },
   {
    "duration": 166,
    "start_time": "2022-10-26T19:22:34.731Z"
   },
   {
    "duration": 128,
    "start_time": "2022-10-26T19:22:34.899Z"
   },
   {
    "duration": 229,
    "start_time": "2022-10-26T19:22:35.029Z"
   },
   {
    "duration": 139,
    "start_time": "2022-10-26T19:22:35.260Z"
   },
   {
    "duration": 213,
    "start_time": "2022-10-26T19:22:35.400Z"
   },
   {
    "duration": 200,
    "start_time": "2022-10-26T19:22:35.615Z"
   },
   {
    "duration": 284,
    "start_time": "2022-10-26T19:22:35.817Z"
   },
   {
    "duration": 20,
    "start_time": "2022-10-26T19:22:36.173Z"
   },
   {
    "duration": 1880,
    "start_time": "2022-10-26T19:22:49.316Z"
   },
   {
    "duration": 239,
    "start_time": "2022-10-26T19:22:51.198Z"
   },
   {
    "duration": 17,
    "start_time": "2022-10-26T19:22:52.616Z"
   },
   {
    "duration": 8,
    "start_time": "2022-10-26T19:22:52.801Z"
   },
   {
    "duration": 18,
    "start_time": "2022-10-26T19:22:52.997Z"
   },
   {
    "duration": 6,
    "start_time": "2022-10-26T19:22:53.569Z"
   },
   {
    "duration": 3,
    "start_time": "2022-10-26T19:22:53.914Z"
   },
   {
    "duration": 4,
    "start_time": "2022-10-26T19:22:54.140Z"
   },
   {
    "duration": 6,
    "start_time": "2022-10-26T19:22:55.192Z"
   },
   {
    "duration": 15,
    "start_time": "2022-10-26T19:22:55.550Z"
   },
   {
    "duration": 42,
    "start_time": "2022-10-26T19:22:55.736Z"
   },
   {
    "duration": 22,
    "start_time": "2022-10-26T19:22:55.920Z"
   },
   {
    "duration": 6,
    "start_time": "2022-10-26T19:22:56.769Z"
   },
   {
    "duration": 29,
    "start_time": "2022-10-26T19:22:56.972Z"
   },
   {
    "duration": 4,
    "start_time": "2022-10-26T19:22:58.578Z"
   },
   {
    "duration": 6,
    "start_time": "2022-10-26T19:22:59.571Z"
   },
   {
    "duration": 3456,
    "start_time": "2022-10-26T19:23:00.859Z"
   },
   {
    "duration": 70512,
    "start_time": "2022-10-26T19:23:04.317Z"
   },
   {
    "duration": 8302,
    "start_time": "2022-10-26T19:24:14.831Z"
   },
   {
    "duration": 242275,
    "start_time": "2022-10-26T19:24:23.135Z"
   },
   {
    "duration": 17204,
    "start_time": "2022-10-26T19:28:25.412Z"
   },
   {
    "duration": 86385,
    "start_time": "2022-10-26T19:28:42.618Z"
   },
   {
    "duration": 24995,
    "start_time": "2022-10-26T19:30:09.005Z"
   },
   {
    "duration": 1325,
    "start_time": "2022-10-26T19:30:34.001Z"
   },
   {
    "duration": 217,
    "start_time": "2022-10-26T19:30:35.327Z"
   },
   {
    "duration": 6,
    "start_time": "2022-10-26T19:30:35.547Z"
   },
   {
    "duration": 40,
    "start_time": "2022-10-26T19:30:35.554Z"
   },
   {
    "duration": 87,
    "start_time": "2022-10-26T19:30:35.596Z"
   },
   {
    "duration": 98,
    "start_time": "2022-10-26T19:30:35.685Z"
   },
   {
    "duration": 96,
    "start_time": "2022-10-26T19:30:35.785Z"
   },
   {
    "duration": 7,
    "start_time": "2022-10-26T19:30:35.883Z"
   },
   {
    "duration": 34,
    "start_time": "2022-10-26T19:30:35.891Z"
   },
   {
    "duration": 1014,
    "start_time": "2022-10-26T19:30:35.927Z"
   },
   {
    "duration": 4,
    "start_time": "2022-10-26T19:30:36.943Z"
   },
   {
    "duration": 778,
    "start_time": "2022-10-26T19:30:36.948Z"
   },
   {
    "duration": 9,
    "start_time": "2022-10-26T19:30:37.728Z"
   },
   {
    "duration": 1491,
    "start_time": "2023-02-03T14:26:29.801Z"
   },
   {
    "duration": 493,
    "start_time": "2023-02-03T14:26:31.294Z"
   },
   {
    "duration": 15,
    "start_time": "2023-02-03T14:26:31.789Z"
   },
   {
    "duration": 20,
    "start_time": "2023-02-03T14:26:31.806Z"
   },
   {
    "duration": 18,
    "start_time": "2023-02-03T14:26:31.829Z"
   },
   {
    "duration": 22,
    "start_time": "2023-02-03T14:26:31.848Z"
   },
   {
    "duration": 11,
    "start_time": "2023-02-03T14:26:31.872Z"
   },
   {
    "duration": 14,
    "start_time": "2023-02-03T14:26:31.885Z"
   },
   {
    "duration": 211,
    "start_time": "2023-02-03T14:26:31.901Z"
   },
   {
    "duration": 25,
    "start_time": "2023-02-03T14:26:32.114Z"
   },
   {
    "duration": 18,
    "start_time": "2023-02-03T14:26:32.141Z"
   },
   {
    "duration": 12,
    "start_time": "2023-02-03T14:26:32.160Z"
   },
   {
    "duration": 14,
    "start_time": "2023-02-03T14:26:32.174Z"
   },
   {
    "duration": 11,
    "start_time": "2023-02-03T14:26:32.192Z"
   },
   {
    "duration": 15,
    "start_time": "2023-02-03T14:26:32.221Z"
   },
   {
    "duration": 12,
    "start_time": "2023-02-03T14:26:32.238Z"
   },
   {
    "duration": 16,
    "start_time": "2023-02-03T14:26:32.252Z"
   },
   {
    "duration": 23,
    "start_time": "2023-02-03T14:26:32.269Z"
   },
   {
    "duration": 7,
    "start_time": "2023-02-03T14:26:32.294Z"
   },
   {
    "duration": 19,
    "start_time": "2023-02-03T14:26:32.320Z"
   },
   {
    "duration": 22,
    "start_time": "2023-02-03T14:26:32.340Z"
   },
   {
    "duration": 41,
    "start_time": "2023-02-03T14:26:32.364Z"
   },
   {
    "duration": 41,
    "start_time": "2023-02-03T14:26:32.406Z"
   },
   {
    "duration": 22,
    "start_time": "2023-02-03T14:26:32.449Z"
   },
   {
    "duration": 22,
    "start_time": "2023-02-03T14:26:32.473Z"
   },
   {
    "duration": 11,
    "start_time": "2023-02-03T14:26:32.497Z"
   },
   {
    "duration": 37,
    "start_time": "2023-02-03T14:26:32.510Z"
   },
   {
    "duration": 12,
    "start_time": "2023-02-03T14:26:32.550Z"
   },
   {
    "duration": 24,
    "start_time": "2023-02-03T14:26:32.564Z"
   },
   {
    "duration": 49,
    "start_time": "2023-02-03T14:26:32.590Z"
   },
   {
    "duration": 26,
    "start_time": "2023-02-03T14:26:32.641Z"
   },
   {
    "duration": 28,
    "start_time": "2023-02-03T14:26:32.669Z"
   },
   {
    "duration": 36,
    "start_time": "2023-02-03T14:26:32.699Z"
   },
   {
    "duration": 263,
    "start_time": "2023-02-03T14:26:32.737Z"
   },
   {
    "duration": 364,
    "start_time": "2023-02-03T14:26:33.002Z"
   },
   {
    "duration": 17,
    "start_time": "2023-02-03T14:26:33.369Z"
   },
   {
    "duration": 12,
    "start_time": "2023-02-03T14:26:33.388Z"
   },
   {
    "duration": 36,
    "start_time": "2023-02-03T14:26:33.402Z"
   },
   {
    "duration": 9,
    "start_time": "2023-02-03T14:26:33.440Z"
   },
   {
    "duration": 31,
    "start_time": "2023-02-03T14:26:33.450Z"
   },
   {
    "duration": 15,
    "start_time": "2023-02-03T14:26:33.485Z"
   },
   {
    "duration": 33,
    "start_time": "2023-02-03T14:26:33.502Z"
   },
   {
    "duration": 18,
    "start_time": "2023-02-03T14:26:33.536Z"
   },
   {
    "duration": 251,
    "start_time": "2023-02-03T14:26:33.556Z"
   },
   {
    "duration": 257,
    "start_time": "2023-02-03T14:26:33.808Z"
   },
   {
    "duration": 167,
    "start_time": "2023-02-03T14:26:34.067Z"
   },
   {
    "duration": 503,
    "start_time": "2023-02-03T14:26:34.236Z"
   }
  ],
  "kernelspec": {
   "display_name": "Python 3 (ipykernel)",
   "language": "python",
   "name": "python3"
  },
  "language_info": {
   "codemirror_mode": {
    "name": "ipython",
    "version": 3
   },
   "file_extension": ".py",
   "mimetype": "text/x-python",
   "name": "python",
   "nbconvert_exporter": "python",
   "pygments_lexer": "ipython3",
   "version": "3.9.5"
  },
  "toc": {
   "base_numbering": 1,
   "nav_menu": {},
   "number_sections": true,
   "sideBar": true,
   "skip_h1_title": true,
   "title_cell": "Содержание",
   "title_sidebar": "Содержание",
   "toc_cell": true,
   "toc_position": {
    "height": "calc(100% - 180px)",
    "left": "10px",
    "top": "150px",
    "width": "318.25px"
   },
   "toc_section_display": true,
   "toc_window_display": true
  }
 },
 "nbformat": 4,
 "nbformat_minor": 2
}
