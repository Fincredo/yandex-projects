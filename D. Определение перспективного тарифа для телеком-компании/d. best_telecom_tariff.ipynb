{
 "cells": [
  {
   "cell_type": "markdown",
   "metadata": {},
   "source": [
    "# Определение перспективного тарифа для телеком-компании"
   ]
  },
  {
   "cell_type": "markdown",
   "metadata": {
    "toc": true
   },
   "source": [
    "<h1>Содержание<span class=\"tocSkip\"></span></h1>\n",
    "<div class=\"toc\"><ul class=\"toc-item\"><li><span><a href=\"#Описание-проекта\" data-toc-modified-id=\"Описание-проекта-1\"><span class=\"toc-item-num\">1&nbsp;&nbsp;</span>Описание проекта</a></span></li><li><span><a href=\"#Изучение-общей-информации\" data-toc-modified-id=\"Изучение-общей-информации-2\"><span class=\"toc-item-num\">2&nbsp;&nbsp;</span>Изучение общей информации</a></span></li><li><span><a href=\"#Подготовка-данных\" data-toc-modified-id=\"Подготовка-данных-3\"><span class=\"toc-item-num\">3&nbsp;&nbsp;</span>Подготовка данных</a></span><ul class=\"toc-item\"><li><span><a href=\"#Приведение-данных-к-нужным-типам\" data-toc-modified-id=\"Приведение-данных-к-нужным-типам-3.1\"><span class=\"toc-item-num\">3.1&nbsp;&nbsp;</span>Приведение данных к нужным типам</a></span><ul class=\"toc-item\"><li><span><a href=\"#Таблица-&quot;users&quot;\" data-toc-modified-id=\"Таблица-&quot;users&quot;-3.1.1\"><span class=\"toc-item-num\">3.1.1&nbsp;&nbsp;</span>Таблица \"users\"</a></span></li><li><span><a href=\"#Таблица-&quot;calls&quot;\" data-toc-modified-id=\"Таблица-&quot;calls&quot;-3.1.2\"><span class=\"toc-item-num\">3.1.2&nbsp;&nbsp;</span>Таблица \"calls\"</a></span></li><li><span><a href=\"#Таблица-&quot;messages&quot;\" data-toc-modified-id=\"Таблица-&quot;messages&quot;-3.1.3\"><span class=\"toc-item-num\">3.1.3&nbsp;&nbsp;</span>Таблица \"messages\"</a></span></li><li><span><a href=\"#Таблица-&quot;internet&quot;\" data-toc-modified-id=\"Таблица-&quot;internet&quot;-3.1.4\"><span class=\"toc-item-num\">3.1.4&nbsp;&nbsp;</span>Таблица \"internet\"</a></span></li><li><span><a href=\"#Таблица-&quot;tariffs&quot;\" data-toc-modified-id=\"Таблица-&quot;tariffs&quot;-3.1.5\"><span class=\"toc-item-num\">3.1.5&nbsp;&nbsp;</span>Таблица \"tariffs\"</a></span></li></ul></li><li><span><a href=\"#Поиск-и-исправление-ошибок-в-данных\" data-toc-modified-id=\"Поиск-и-исправление-ошибок-в-данных-3.2\"><span class=\"toc-item-num\">3.2&nbsp;&nbsp;</span>Поиск и исправление ошибок в данных</a></span><ul class=\"toc-item\"><li><span><a href=\"#Таблица-&quot;users&quot;\" data-toc-modified-id=\"Таблица-&quot;users&quot;-3.2.1\"><span class=\"toc-item-num\">3.2.1&nbsp;&nbsp;</span>Таблица \"users\"</a></span></li><li><span><a href=\"#Таблица-&quot;calls&quot;\" data-toc-modified-id=\"Таблица-&quot;calls&quot;-3.2.2\"><span class=\"toc-item-num\">3.2.2&nbsp;&nbsp;</span>Таблица \"calls\"</a></span></li><li><span><a href=\"#Таблица-&quot;messages&quot;\" data-toc-modified-id=\"Таблица-&quot;messages&quot;-3.2.3\"><span class=\"toc-item-num\">3.2.3&nbsp;&nbsp;</span>Таблица \"messages\"</a></span></li><li><span><a href=\"#Таблица-&quot;internet&quot;\" data-toc-modified-id=\"Таблица-&quot;internet&quot;-3.2.4\"><span class=\"toc-item-num\">3.2.4&nbsp;&nbsp;</span>Таблица \"internet\"</a></span></li></ul></li><li><span><a href=\"#Создание-дополнительных-столбцов\" data-toc-modified-id=\"Создание-дополнительных-столбцов-3.3\"><span class=\"toc-item-num\">3.3&nbsp;&nbsp;</span>Создание дополнительных столбцов</a></span><ul class=\"toc-item\"><li><span><a href=\"#Количество-сделанных-звонков-и-израсходованных-минут-разговора-по-месяцам\" data-toc-modified-id=\"Количество-сделанных-звонков-и-израсходованных-минут-разговора-по-месяцам-3.3.1\"><span class=\"toc-item-num\">3.3.1&nbsp;&nbsp;</span>Количество сделанных звонков и израсходованных минут разговора по месяцам</a></span></li><li><span><a href=\"#Количество-отправленных-сообщений-по-месяцам\" data-toc-modified-id=\"Количество-отправленных-сообщений-по-месяцам-3.3.2\"><span class=\"toc-item-num\">3.3.2&nbsp;&nbsp;</span>Количество отправленных сообщений по месяцам</a></span></li><li><span><a href=\"#Объем-израсходованного-интернет-трафика-по-месяцам\" data-toc-modified-id=\"Объем-израсходованного-интернет-трафика-по-месяцам-3.3.3\"><span class=\"toc-item-num\">3.3.3&nbsp;&nbsp;</span>Объем израсходованного интернет-трафика по месяцам</a></span></li><li><span><a href=\"#Помесячная-выручка-с-каждого-пользователя\" data-toc-modified-id=\"Помесячная-выручка-с-каждого-пользователя-3.3.4\"><span class=\"toc-item-num\">3.3.4&nbsp;&nbsp;</span>Помесячная выручка с каждого пользователя</a></span></li></ul></li></ul></li><li><span><a href=\"#Анализ-данных\" data-toc-modified-id=\"Анализ-данных-4\"><span class=\"toc-item-num\">4&nbsp;&nbsp;</span>Анализ данных</a></span><ul class=\"toc-item\"><li><span><a href=\"#Средний-объем-услуг-на-абонента-каждого-тарифа\" data-toc-modified-id=\"Средний-объем-услуг-на-абонента-каждого-тарифа-4.1\"><span class=\"toc-item-num\">4.1&nbsp;&nbsp;</span>Средний объем услуг на абонента каждого тарифа</a></span></li><li><span><a href=\"#Корреляция-между-услугами-и-зависимость-выручки-от-каждой-из-услуг\" data-toc-modified-id=\"Корреляция-между-услугами-и-зависимость-выручки-от-каждой-из-услуг-4.2\"><span class=\"toc-item-num\">4.2&nbsp;&nbsp;</span>Корреляция между услугами и зависимость выручки от каждой из услуг</a></span></li><li><span><a href=\"#Разбросы-значений\" data-toc-modified-id=\"Разбросы-значений-4.3\"><span class=\"toc-item-num\">4.3&nbsp;&nbsp;</span>Разбросы значений</a></span></li><li><span><a href=\"#Графики-распределений-и-показатели-статистики\" data-toc-modified-id=\"Графики-распределений-и-показатели-статистики-4.4\"><span class=\"toc-item-num\">4.4&nbsp;&nbsp;</span>Графики распределений и показатели статистики</a></span></li><li><span><a href=\"#Превышение-лимитов\" data-toc-modified-id=\"Превышение-лимитов-4.5\"><span class=\"toc-item-num\">4.5&nbsp;&nbsp;</span>Превышение лимитов</a></span></li><li><span><a href=\"#Динамика-ежемесячных-объемов-услуг\" data-toc-modified-id=\"Динамика-ежемесячных-объемов-услуг-4.6\"><span class=\"toc-item-num\">4.6&nbsp;&nbsp;</span>Динамика ежемесячных объемов услуг</a></span></li><li><span><a href=\"#Проверка-гипотез\" data-toc-modified-id=\"Проверка-гипотез-4.7\"><span class=\"toc-item-num\">4.7&nbsp;&nbsp;</span>Проверка гипотез</a></span><ul class=\"toc-item\"><li><span><a href=\"#Гипотеза-1:-Средняя-выручка-пользователей-тарифов-«Ультра»-и-«Смарт»-различаются.\" data-toc-modified-id=\"Гипотеза-1:-Средняя-выручка-пользователей-тарифов-«Ультра»-и-«Смарт»-различаются.-4.7.1\"><span class=\"toc-item-num\">4.7.1&nbsp;&nbsp;</span>Гипотеза 1: Средняя выручка пользователей тарифов «Ультра» и «Смарт» различаются.</a></span></li><li><span><a href=\"#Гипотеза-2:-Средняя-выручка-пользователей-из-Москвы-отличается-от-выручки-пользователей-из-других-регионов.\" data-toc-modified-id=\"Гипотеза-2:-Средняя-выручка-пользователей-из-Москвы-отличается-от-выручки-пользователей-из-других-регионов.-4.7.2\"><span class=\"toc-item-num\">4.7.2&nbsp;&nbsp;</span>Гипотеза 2: Средняя выручка пользователей из Москвы отличается от выручки пользователей из других регионов.</a></span></li></ul></li><li><span><a href=\"#Итоги-исследования-и-рекомендации\" data-toc-modified-id=\"Итоги-исследования-и-рекомендации-4.8\"><span class=\"toc-item-num\">4.8&nbsp;&nbsp;</span>Итоги исследования и рекомендации</a></span><ul class=\"toc-item\"><li><span><a href=\"#Итоги-исследования\" data-toc-modified-id=\"Итоги-исследования-4.8.1\"><span class=\"toc-item-num\">4.8.1&nbsp;&nbsp;</span>Итоги исследования</a></span></li><li><span><a href=\"#Рекомендации\" data-toc-modified-id=\"Рекомендации-4.8.2\"><span class=\"toc-item-num\">4.8.2&nbsp;&nbsp;</span>Рекомендации</a></span><ul class=\"toc-item\"><li><span><a href=\"#Потери-в-случае-рекламы-тарифа-&quot;ultra&quot;\" data-toc-modified-id=\"Потери-в-случае-рекламы-тарифа-&quot;ultra&quot;-4.8.2.1\"><span class=\"toc-item-num\">4.8.2.1&nbsp;&nbsp;</span>Потери в случае рекламы тарифа \"ultra\"</a></span></li><li><span><a href=\"#Потери-в-случае-рекламы-тарифа-&quot;smart&quot;.\" data-toc-modified-id=\"Потери-в-случае-рекламы-тарифа-&quot;smart&quot;.-4.8.2.2\"><span class=\"toc-item-num\">4.8.2.2&nbsp;&nbsp;</span>Потери в случае рекламы тарифа \"smart\".</a></span></li></ul></li></ul></li><li><span><a href=\"#Общий-вывод\" data-toc-modified-id=\"Общий-вывод-4.9\"><span class=\"toc-item-num\">4.9&nbsp;&nbsp;</span>Общий вывод</a></span></li></ul></li></ul></div>"
   ]
  },
  {
   "cell_type": "markdown",
   "metadata": {},
   "source": [
    "## Описание проекта\n",
    "\n",
    "Клиентам компании «Мегалайн», федерального оператора сотовой связи, предлагают два тарифных плана: «Смарт» и «Ультра». Чтобы скорректировать рекламный бюджет, коммерческий департамент хочет понять, какой тариф приносит больше денег. Предстоит сделать предварительный анализ тарифов на небольшой выборке клиентов. Предоставлены данные 500 пользователей «Мегалайна»: кто они, откуда, каким тарифом пользуются, сколько звонков и сообщений каждый отправил за 2018 год. Нужно проанализировать поведение клиентов и сделать вывод — какой тариф лучше."
   ]
  },
  {
   "cell_type": "markdown",
   "metadata": {},
   "source": [
    "## Изучение общей информации"
   ]
  },
  {
   "cell_type": "code",
   "execution_count": 1,
   "metadata": {
    "scrolled": true
   },
   "outputs": [],
   "source": [
    "# Импортируем необходимые для работы библиотеки.\n",
    "\n",
    "import pandas as pd\n",
    "import numpy as np\n",
    "import matplotlib.pyplot as plt\n",
    "import seaborn as sns\n",
    "import scipy.stats as st\n",
    "import sympy as sp\n",
    "import os"
   ]
  },
  {
   "cell_type": "code",
   "execution_count": 2,
   "metadata": {},
   "outputs": [],
   "source": [
    "# Открываем csv-файлы с таблицами и сохраняем в соответствующих переменных.\n",
    "\n",
    "try:\n",
    "    users = pd.read_csv('/datasets/users.csv')\n",
    "    calls = pd.read_csv('/datasets/calls.csv')\n",
    "    messages = pd.read_csv('/datasets/messages.csv')\n",
    "    internet = pd.read_csv('/datasets/internet.csv')\n",
    "    tariffs = pd.read_csv('/datasets/tariffs.csv')\n",
    "\n",
    "except:\n",
    "    users = pd.read_csv('datasets/users.csv')\n",
    "    calls = pd.read_csv('datasets/calls.csv')\n",
    "    messages = pd.read_csv('datasets/messages.csv')\n",
    "    internet = pd.read_csv('datasets/internet.csv')\n",
    "    tariffs = pd.read_csv('datasets/tariffs.csv')"
   ]
  },
  {
   "cell_type": "code",
   "execution_count": 3,
   "metadata": {},
   "outputs": [
    {
     "data": {
      "text/html": [
       "<div>\n",
       "<style scoped>\n",
       "    .dataframe tbody tr th:only-of-type {\n",
       "        vertical-align: middle;\n",
       "    }\n",
       "\n",
       "    .dataframe tbody tr th {\n",
       "        vertical-align: top;\n",
       "    }\n",
       "\n",
       "    .dataframe thead th {\n",
       "        text-align: right;\n",
       "    }\n",
       "</style>\n",
       "<table border=\"1\" class=\"dataframe\">\n",
       "  <thead>\n",
       "    <tr style=\"text-align: right;\">\n",
       "      <th></th>\n",
       "      <th>user_id</th>\n",
       "      <th>age</th>\n",
       "      <th>churn_date</th>\n",
       "      <th>city</th>\n",
       "      <th>first_name</th>\n",
       "      <th>last_name</th>\n",
       "      <th>reg_date</th>\n",
       "      <th>tariff</th>\n",
       "    </tr>\n",
       "  </thead>\n",
       "  <tbody>\n",
       "    <tr>\n",
       "      <th>0</th>\n",
       "      <td>1000</td>\n",
       "      <td>52</td>\n",
       "      <td>NaN</td>\n",
       "      <td>Краснодар</td>\n",
       "      <td>Рафаил</td>\n",
       "      <td>Верещагин</td>\n",
       "      <td>2018-05-25</td>\n",
       "      <td>ultra</td>\n",
       "    </tr>\n",
       "    <tr>\n",
       "      <th>1</th>\n",
       "      <td>1001</td>\n",
       "      <td>41</td>\n",
       "      <td>NaN</td>\n",
       "      <td>Москва</td>\n",
       "      <td>Иван</td>\n",
       "      <td>Ежов</td>\n",
       "      <td>2018-11-01</td>\n",
       "      <td>smart</td>\n",
       "    </tr>\n",
       "    <tr>\n",
       "      <th>2</th>\n",
       "      <td>1002</td>\n",
       "      <td>59</td>\n",
       "      <td>NaN</td>\n",
       "      <td>Стерлитамак</td>\n",
       "      <td>Евгений</td>\n",
       "      <td>Абрамович</td>\n",
       "      <td>2018-06-17</td>\n",
       "      <td>smart</td>\n",
       "    </tr>\n",
       "    <tr>\n",
       "      <th>3</th>\n",
       "      <td>1003</td>\n",
       "      <td>23</td>\n",
       "      <td>NaN</td>\n",
       "      <td>Москва</td>\n",
       "      <td>Белла</td>\n",
       "      <td>Белякова</td>\n",
       "      <td>2018-08-17</td>\n",
       "      <td>ultra</td>\n",
       "    </tr>\n",
       "    <tr>\n",
       "      <th>4</th>\n",
       "      <td>1004</td>\n",
       "      <td>68</td>\n",
       "      <td>NaN</td>\n",
       "      <td>Новокузнецк</td>\n",
       "      <td>Татьяна</td>\n",
       "      <td>Авдеенко</td>\n",
       "      <td>2018-05-14</td>\n",
       "      <td>ultra</td>\n",
       "    </tr>\n",
       "  </tbody>\n",
       "</table>\n",
       "</div>"
      ],
      "text/plain": [
       "   user_id  age churn_date         city first_name  last_name    reg_date  \\\n",
       "0     1000   52        NaN    Краснодар     Рафаил  Верещагин  2018-05-25   \n",
       "1     1001   41        NaN       Москва       Иван       Ежов  2018-11-01   \n",
       "2     1002   59        NaN  Стерлитамак    Евгений  Абрамович  2018-06-17   \n",
       "3     1003   23        NaN       Москва      Белла   Белякова  2018-08-17   \n",
       "4     1004   68        NaN  Новокузнецк    Татьяна   Авдеенко  2018-05-14   \n",
       "\n",
       "  tariff  \n",
       "0  ultra  \n",
       "1  smart  \n",
       "2  smart  \n",
       "3  ultra  \n",
       "4  ultra  "
      ]
     },
     "execution_count": 3,
     "metadata": {},
     "output_type": "execute_result"
    }
   ],
   "source": [
    "# Открываем таблицу с данными об абонентах. \n",
    "\n",
    "users.head()"
   ]
  },
  {
   "cell_type": "code",
   "execution_count": 4,
   "metadata": {},
   "outputs": [
    {
     "data": {
      "text/html": [
       "<div>\n",
       "<style scoped>\n",
       "    .dataframe tbody tr th:only-of-type {\n",
       "        vertical-align: middle;\n",
       "    }\n",
       "\n",
       "    .dataframe tbody tr th {\n",
       "        vertical-align: top;\n",
       "    }\n",
       "\n",
       "    .dataframe thead th {\n",
       "        text-align: right;\n",
       "    }\n",
       "</style>\n",
       "<table border=\"1\" class=\"dataframe\">\n",
       "  <thead>\n",
       "    <tr style=\"text-align: right;\">\n",
       "      <th></th>\n",
       "      <th>id</th>\n",
       "      <th>call_date</th>\n",
       "      <th>duration</th>\n",
       "      <th>user_id</th>\n",
       "    </tr>\n",
       "  </thead>\n",
       "  <tbody>\n",
       "    <tr>\n",
       "      <th>0</th>\n",
       "      <td>1000_0</td>\n",
       "      <td>2018-07-25</td>\n",
       "      <td>0.00</td>\n",
       "      <td>1000</td>\n",
       "    </tr>\n",
       "    <tr>\n",
       "      <th>1</th>\n",
       "      <td>1000_1</td>\n",
       "      <td>2018-08-17</td>\n",
       "      <td>0.00</td>\n",
       "      <td>1000</td>\n",
       "    </tr>\n",
       "    <tr>\n",
       "      <th>2</th>\n",
       "      <td>1000_2</td>\n",
       "      <td>2018-06-11</td>\n",
       "      <td>2.85</td>\n",
       "      <td>1000</td>\n",
       "    </tr>\n",
       "    <tr>\n",
       "      <th>3</th>\n",
       "      <td>1000_3</td>\n",
       "      <td>2018-09-21</td>\n",
       "      <td>13.80</td>\n",
       "      <td>1000</td>\n",
       "    </tr>\n",
       "    <tr>\n",
       "      <th>4</th>\n",
       "      <td>1000_4</td>\n",
       "      <td>2018-12-15</td>\n",
       "      <td>5.18</td>\n",
       "      <td>1000</td>\n",
       "    </tr>\n",
       "  </tbody>\n",
       "</table>\n",
       "</div>"
      ],
      "text/plain": [
       "       id   call_date  duration  user_id\n",
       "0  1000_0  2018-07-25      0.00     1000\n",
       "1  1000_1  2018-08-17      0.00     1000\n",
       "2  1000_2  2018-06-11      2.85     1000\n",
       "3  1000_3  2018-09-21     13.80     1000\n",
       "4  1000_4  2018-12-15      5.18     1000"
      ]
     },
     "execution_count": 4,
     "metadata": {},
     "output_type": "execute_result"
    }
   ],
   "source": [
    "# Открываем таблицу с данными о звонках. \n",
    "\n",
    "calls.head()"
   ]
  },
  {
   "cell_type": "code",
   "execution_count": 5,
   "metadata": {},
   "outputs": [
    {
     "data": {
      "text/html": [
       "<div>\n",
       "<style scoped>\n",
       "    .dataframe tbody tr th:only-of-type {\n",
       "        vertical-align: middle;\n",
       "    }\n",
       "\n",
       "    .dataframe tbody tr th {\n",
       "        vertical-align: top;\n",
       "    }\n",
       "\n",
       "    .dataframe thead th {\n",
       "        text-align: right;\n",
       "    }\n",
       "</style>\n",
       "<table border=\"1\" class=\"dataframe\">\n",
       "  <thead>\n",
       "    <tr style=\"text-align: right;\">\n",
       "      <th></th>\n",
       "      <th>id</th>\n",
       "      <th>message_date</th>\n",
       "      <th>user_id</th>\n",
       "    </tr>\n",
       "  </thead>\n",
       "  <tbody>\n",
       "    <tr>\n",
       "      <th>0</th>\n",
       "      <td>1000_0</td>\n",
       "      <td>2018-06-27</td>\n",
       "      <td>1000</td>\n",
       "    </tr>\n",
       "    <tr>\n",
       "      <th>1</th>\n",
       "      <td>1000_1</td>\n",
       "      <td>2018-10-08</td>\n",
       "      <td>1000</td>\n",
       "    </tr>\n",
       "    <tr>\n",
       "      <th>2</th>\n",
       "      <td>1000_2</td>\n",
       "      <td>2018-08-04</td>\n",
       "      <td>1000</td>\n",
       "    </tr>\n",
       "    <tr>\n",
       "      <th>3</th>\n",
       "      <td>1000_3</td>\n",
       "      <td>2018-06-16</td>\n",
       "      <td>1000</td>\n",
       "    </tr>\n",
       "    <tr>\n",
       "      <th>4</th>\n",
       "      <td>1000_4</td>\n",
       "      <td>2018-12-05</td>\n",
       "      <td>1000</td>\n",
       "    </tr>\n",
       "  </tbody>\n",
       "</table>\n",
       "</div>"
      ],
      "text/plain": [
       "       id message_date  user_id\n",
       "0  1000_0   2018-06-27     1000\n",
       "1  1000_1   2018-10-08     1000\n",
       "2  1000_2   2018-08-04     1000\n",
       "3  1000_3   2018-06-16     1000\n",
       "4  1000_4   2018-12-05     1000"
      ]
     },
     "execution_count": 5,
     "metadata": {},
     "output_type": "execute_result"
    }
   ],
   "source": [
    "# Открываем таблицу с данными о сообщениях. \n",
    "\n",
    "messages.head()"
   ]
  },
  {
   "cell_type": "code",
   "execution_count": 6,
   "metadata": {},
   "outputs": [
    {
     "data": {
      "text/html": [
       "<div>\n",
       "<style scoped>\n",
       "    .dataframe tbody tr th:only-of-type {\n",
       "        vertical-align: middle;\n",
       "    }\n",
       "\n",
       "    .dataframe tbody tr th {\n",
       "        vertical-align: top;\n",
       "    }\n",
       "\n",
       "    .dataframe thead th {\n",
       "        text-align: right;\n",
       "    }\n",
       "</style>\n",
       "<table border=\"1\" class=\"dataframe\">\n",
       "  <thead>\n",
       "    <tr style=\"text-align: right;\">\n",
       "      <th></th>\n",
       "      <th>Unnamed: 0</th>\n",
       "      <th>id</th>\n",
       "      <th>mb_used</th>\n",
       "      <th>session_date</th>\n",
       "      <th>user_id</th>\n",
       "    </tr>\n",
       "  </thead>\n",
       "  <tbody>\n",
       "    <tr>\n",
       "      <th>0</th>\n",
       "      <td>0</td>\n",
       "      <td>1000_0</td>\n",
       "      <td>112.95</td>\n",
       "      <td>2018-11-25</td>\n",
       "      <td>1000</td>\n",
       "    </tr>\n",
       "    <tr>\n",
       "      <th>1</th>\n",
       "      <td>1</td>\n",
       "      <td>1000_1</td>\n",
       "      <td>1052.81</td>\n",
       "      <td>2018-09-07</td>\n",
       "      <td>1000</td>\n",
       "    </tr>\n",
       "    <tr>\n",
       "      <th>2</th>\n",
       "      <td>2</td>\n",
       "      <td>1000_2</td>\n",
       "      <td>1197.26</td>\n",
       "      <td>2018-06-25</td>\n",
       "      <td>1000</td>\n",
       "    </tr>\n",
       "    <tr>\n",
       "      <th>3</th>\n",
       "      <td>3</td>\n",
       "      <td>1000_3</td>\n",
       "      <td>550.27</td>\n",
       "      <td>2018-08-22</td>\n",
       "      <td>1000</td>\n",
       "    </tr>\n",
       "    <tr>\n",
       "      <th>4</th>\n",
       "      <td>4</td>\n",
       "      <td>1000_4</td>\n",
       "      <td>302.56</td>\n",
       "      <td>2018-09-24</td>\n",
       "      <td>1000</td>\n",
       "    </tr>\n",
       "  </tbody>\n",
       "</table>\n",
       "</div>"
      ],
      "text/plain": [
       "   Unnamed: 0      id  mb_used session_date  user_id\n",
       "0           0  1000_0   112.95   2018-11-25     1000\n",
       "1           1  1000_1  1052.81   2018-09-07     1000\n",
       "2           2  1000_2  1197.26   2018-06-25     1000\n",
       "3           3  1000_3   550.27   2018-08-22     1000\n",
       "4           4  1000_4   302.56   2018-09-24     1000"
      ]
     },
     "execution_count": 6,
     "metadata": {},
     "output_type": "execute_result"
    }
   ],
   "source": [
    "# Открываем таблицу с данными об Интернет-трафике. \n",
    "\n",
    "internet.head()"
   ]
  },
  {
   "cell_type": "code",
   "execution_count": 7,
   "metadata": {},
   "outputs": [
    {
     "data": {
      "text/html": [
       "<div>\n",
       "<style scoped>\n",
       "    .dataframe tbody tr th:only-of-type {\n",
       "        vertical-align: middle;\n",
       "    }\n",
       "\n",
       "    .dataframe tbody tr th {\n",
       "        vertical-align: top;\n",
       "    }\n",
       "\n",
       "    .dataframe thead th {\n",
       "        text-align: right;\n",
       "    }\n",
       "</style>\n",
       "<table border=\"1\" class=\"dataframe\">\n",
       "  <thead>\n",
       "    <tr style=\"text-align: right;\">\n",
       "      <th></th>\n",
       "      <th>messages_included</th>\n",
       "      <th>mb_per_month_included</th>\n",
       "      <th>minutes_included</th>\n",
       "      <th>rub_monthly_fee</th>\n",
       "      <th>rub_per_gb</th>\n",
       "      <th>rub_per_message</th>\n",
       "      <th>rub_per_minute</th>\n",
       "      <th>tariff_name</th>\n",
       "    </tr>\n",
       "  </thead>\n",
       "  <tbody>\n",
       "    <tr>\n",
       "      <th>0</th>\n",
       "      <td>50</td>\n",
       "      <td>15360</td>\n",
       "      <td>500</td>\n",
       "      <td>550</td>\n",
       "      <td>200</td>\n",
       "      <td>3</td>\n",
       "      <td>3</td>\n",
       "      <td>smart</td>\n",
       "    </tr>\n",
       "    <tr>\n",
       "      <th>1</th>\n",
       "      <td>1000</td>\n",
       "      <td>30720</td>\n",
       "      <td>3000</td>\n",
       "      <td>1950</td>\n",
       "      <td>150</td>\n",
       "      <td>1</td>\n",
       "      <td>1</td>\n",
       "      <td>ultra</td>\n",
       "    </tr>\n",
       "  </tbody>\n",
       "</table>\n",
       "</div>"
      ],
      "text/plain": [
       "   messages_included  mb_per_month_included  minutes_included  \\\n",
       "0                 50                  15360               500   \n",
       "1               1000                  30720              3000   \n",
       "\n",
       "   rub_monthly_fee  rub_per_gb  rub_per_message  rub_per_minute tariff_name  \n",
       "0              550         200                3               3       smart  \n",
       "1             1950         150                1               1       ultra  "
      ]
     },
     "execution_count": 7,
     "metadata": {},
     "output_type": "execute_result"
    }
   ],
   "source": [
    "# Открываем таблицу с информацией о тарифах. \n",
    "\n",
    "tariffs"
   ]
  },
  {
   "cell_type": "markdown",
   "metadata": {},
   "source": [
    "_Выводы_\n",
    "\n",
    "1. Все 5 таблиц отображаются без проблем.\n",
    "2. В названиях столбцов и их стиле ошибок нет, кроме столбца \"Unnamed: 0\" в файле \"internet\".\n",
    "3. Возможно, весь столбец \"Unnamed: 0\" дублирует индексы строк, необходимо это проверить.\n",
    "4. Все файлы, кроме \"tariffs\", содержат столбец \"user_id\", что даст возможность соединить их в один датафрейм.\n",
    "5. Столбец \"churn_date\" в файле \"users\" содержит пустые ячейки, что допустимо для данного параметра.\n",
    "6. В файлах содержатся столбцы с датами, необходимо проверить их тип."
   ]
  },
  {
   "cell_type": "markdown",
   "metadata": {},
   "source": [
    "## Подготовка данных"
   ]
  },
  {
   "cell_type": "markdown",
   "metadata": {},
   "source": [
    "### Приведение данных к нужным типам"
   ]
  },
  {
   "cell_type": "markdown",
   "metadata": {},
   "source": [
    "#### Таблица \"users\""
   ]
  },
  {
   "cell_type": "code",
   "execution_count": 8,
   "metadata": {},
   "outputs": [
    {
     "name": "stdout",
     "output_type": "stream",
     "text": [
      "<class 'pandas.core.frame.DataFrame'>\n",
      "RangeIndex: 500 entries, 0 to 499\n",
      "Data columns (total 8 columns):\n",
      " #   Column      Non-Null Count  Dtype \n",
      "---  ------      --------------  ----- \n",
      " 0   user_id     500 non-null    int64 \n",
      " 1   age         500 non-null    int64 \n",
      " 2   churn_date  38 non-null     object\n",
      " 3   city        500 non-null    object\n",
      " 4   first_name  500 non-null    object\n",
      " 5   last_name   500 non-null    object\n",
      " 6   reg_date    500 non-null    object\n",
      " 7   tariff      500 non-null    object\n",
      "dtypes: int64(2), object(6)\n",
      "memory usage: 31.4+ KB\n"
     ]
    }
   ],
   "source": [
    "# Просматриваем типы данных в столбцах.\n",
    "\n",
    "users.info()"
   ]
  },
  {
   "cell_type": "code",
   "execution_count": 9,
   "metadata": {},
   "outputs": [
    {
     "data": {
      "text/html": [
       "<div>\n",
       "<style scoped>\n",
       "    .dataframe tbody tr th:only-of-type {\n",
       "        vertical-align: middle;\n",
       "    }\n",
       "\n",
       "    .dataframe tbody tr th {\n",
       "        vertical-align: top;\n",
       "    }\n",
       "\n",
       "    .dataframe thead th {\n",
       "        text-align: right;\n",
       "    }\n",
       "</style>\n",
       "<table border=\"1\" class=\"dataframe\">\n",
       "  <thead>\n",
       "    <tr style=\"text-align: right;\">\n",
       "      <th></th>\n",
       "      <th>user_id</th>\n",
       "      <th>age</th>\n",
       "      <th>churn_date</th>\n",
       "      <th>city</th>\n",
       "      <th>first_name</th>\n",
       "      <th>last_name</th>\n",
       "      <th>reg_date</th>\n",
       "      <th>tariff</th>\n",
       "    </tr>\n",
       "  </thead>\n",
       "  <tbody>\n",
       "    <tr>\n",
       "      <th>0</th>\n",
       "      <td>1000</td>\n",
       "      <td>52</td>\n",
       "      <td>NaT</td>\n",
       "      <td>Краснодар</td>\n",
       "      <td>Рафаил</td>\n",
       "      <td>Верещагин</td>\n",
       "      <td>2018-05-25</td>\n",
       "      <td>ultra</td>\n",
       "    </tr>\n",
       "    <tr>\n",
       "      <th>1</th>\n",
       "      <td>1001</td>\n",
       "      <td>41</td>\n",
       "      <td>NaT</td>\n",
       "      <td>Москва</td>\n",
       "      <td>Иван</td>\n",
       "      <td>Ежов</td>\n",
       "      <td>2018-11-01</td>\n",
       "      <td>smart</td>\n",
       "    </tr>\n",
       "    <tr>\n",
       "      <th>2</th>\n",
       "      <td>1002</td>\n",
       "      <td>59</td>\n",
       "      <td>NaT</td>\n",
       "      <td>Стерлитамак</td>\n",
       "      <td>Евгений</td>\n",
       "      <td>Абрамович</td>\n",
       "      <td>2018-06-17</td>\n",
       "      <td>smart</td>\n",
       "    </tr>\n",
       "    <tr>\n",
       "      <th>3</th>\n",
       "      <td>1003</td>\n",
       "      <td>23</td>\n",
       "      <td>NaT</td>\n",
       "      <td>Москва</td>\n",
       "      <td>Белла</td>\n",
       "      <td>Белякова</td>\n",
       "      <td>2018-08-17</td>\n",
       "      <td>ultra</td>\n",
       "    </tr>\n",
       "    <tr>\n",
       "      <th>4</th>\n",
       "      <td>1004</td>\n",
       "      <td>68</td>\n",
       "      <td>NaT</td>\n",
       "      <td>Новокузнецк</td>\n",
       "      <td>Татьяна</td>\n",
       "      <td>Авдеенко</td>\n",
       "      <td>2018-05-14</td>\n",
       "      <td>ultra</td>\n",
       "    </tr>\n",
       "  </tbody>\n",
       "</table>\n",
       "</div>"
      ],
      "text/plain": [
       "   user_id  age churn_date         city first_name  last_name   reg_date  \\\n",
       "0     1000   52        NaT    Краснодар     Рафаил  Верещагин 2018-05-25   \n",
       "1     1001   41        NaT       Москва       Иван       Ежов 2018-11-01   \n",
       "2     1002   59        NaT  Стерлитамак    Евгений  Абрамович 2018-06-17   \n",
       "3     1003   23        NaT       Москва      Белла   Белякова 2018-08-17   \n",
       "4     1004   68        NaT  Новокузнецк    Татьяна   Авдеенко 2018-05-14   \n",
       "\n",
       "  tariff  \n",
       "0  ultra  \n",
       "1  smart  \n",
       "2  smart  \n",
       "3  ultra  \n",
       "4  ultra  "
      ]
     },
     "execution_count": 9,
     "metadata": {},
     "output_type": "execute_result"
    }
   ],
   "source": [
    "# Приводим даты подключения тарифа и прекращения пользования тарифом к типу datetime.\n",
    "# Просматриваем первые строки датафрейма.\n",
    "\n",
    "users['reg_date'] = pd.to_datetime(users['reg_date'], format='%Y-%m-%d')\n",
    "users['churn_date'] = pd.to_datetime(users['churn_date'], format='%Y-%m-%d')\n",
    "users.head()"
   ]
  },
  {
   "cell_type": "code",
   "execution_count": 10,
   "metadata": {
    "scrolled": true
   },
   "outputs": [
    {
     "name": "stdout",
     "output_type": "stream",
     "text": [
      "<class 'pandas.core.frame.DataFrame'>\n",
      "RangeIndex: 500 entries, 0 to 499\n",
      "Data columns (total 8 columns):\n",
      " #   Column      Non-Null Count  Dtype         \n",
      "---  ------      --------------  -----         \n",
      " 0   user_id     500 non-null    int64         \n",
      " 1   age         500 non-null    int64         \n",
      " 2   churn_date  38 non-null     datetime64[ns]\n",
      " 3   city        500 non-null    object        \n",
      " 4   first_name  500 non-null    object        \n",
      " 5   last_name   500 non-null    object        \n",
      " 6   reg_date    500 non-null    datetime64[ns]\n",
      " 7   tariff      500 non-null    object        \n",
      "dtypes: datetime64[ns](2), int64(2), object(4)\n",
      "memory usage: 31.4+ KB\n"
     ]
    }
   ],
   "source": [
    "# Снова проверяем типы данных в столбцах.\n",
    "\n",
    "users.info()"
   ]
  },
  {
   "cell_type": "markdown",
   "metadata": {},
   "source": [
    "#### Таблица \"calls\""
   ]
  },
  {
   "cell_type": "code",
   "execution_count": 11,
   "metadata": {},
   "outputs": [
    {
     "name": "stdout",
     "output_type": "stream",
     "text": [
      "<class 'pandas.core.frame.DataFrame'>\n",
      "RangeIndex: 202607 entries, 0 to 202606\n",
      "Data columns (total 4 columns):\n",
      " #   Column     Non-Null Count   Dtype  \n",
      "---  ------     --------------   -----  \n",
      " 0   id         202607 non-null  object \n",
      " 1   call_date  202607 non-null  object \n",
      " 2   duration   202607 non-null  float64\n",
      " 3   user_id    202607 non-null  int64  \n",
      "dtypes: float64(1), int64(1), object(2)\n",
      "memory usage: 6.2+ MB\n"
     ]
    }
   ],
   "source": [
    "# Просматриваем типы данных в столбцах.\n",
    "\n",
    "calls.info()"
   ]
  },
  {
   "cell_type": "code",
   "execution_count": 12,
   "metadata": {},
   "outputs": [
    {
     "data": {
      "text/html": [
       "<div>\n",
       "<style scoped>\n",
       "    .dataframe tbody tr th:only-of-type {\n",
       "        vertical-align: middle;\n",
       "    }\n",
       "\n",
       "    .dataframe tbody tr th {\n",
       "        vertical-align: top;\n",
       "    }\n",
       "\n",
       "    .dataframe thead th {\n",
       "        text-align: right;\n",
       "    }\n",
       "</style>\n",
       "<table border=\"1\" class=\"dataframe\">\n",
       "  <thead>\n",
       "    <tr style=\"text-align: right;\">\n",
       "      <th></th>\n",
       "      <th>id</th>\n",
       "      <th>call_date</th>\n",
       "      <th>duration</th>\n",
       "      <th>user_id</th>\n",
       "    </tr>\n",
       "  </thead>\n",
       "  <tbody>\n",
       "    <tr>\n",
       "      <th>0</th>\n",
       "      <td>1000_0</td>\n",
       "      <td>2018-07-25</td>\n",
       "      <td>0.00</td>\n",
       "      <td>1000</td>\n",
       "    </tr>\n",
       "    <tr>\n",
       "      <th>1</th>\n",
       "      <td>1000_1</td>\n",
       "      <td>2018-08-17</td>\n",
       "      <td>0.00</td>\n",
       "      <td>1000</td>\n",
       "    </tr>\n",
       "    <tr>\n",
       "      <th>2</th>\n",
       "      <td>1000_2</td>\n",
       "      <td>2018-06-11</td>\n",
       "      <td>2.85</td>\n",
       "      <td>1000</td>\n",
       "    </tr>\n",
       "    <tr>\n",
       "      <th>3</th>\n",
       "      <td>1000_3</td>\n",
       "      <td>2018-09-21</td>\n",
       "      <td>13.80</td>\n",
       "      <td>1000</td>\n",
       "    </tr>\n",
       "    <tr>\n",
       "      <th>4</th>\n",
       "      <td>1000_4</td>\n",
       "      <td>2018-12-15</td>\n",
       "      <td>5.18</td>\n",
       "      <td>1000</td>\n",
       "    </tr>\n",
       "  </tbody>\n",
       "</table>\n",
       "</div>"
      ],
      "text/plain": [
       "       id  call_date  duration  user_id\n",
       "0  1000_0 2018-07-25      0.00     1000\n",
       "1  1000_1 2018-08-17      0.00     1000\n",
       "2  1000_2 2018-06-11      2.85     1000\n",
       "3  1000_3 2018-09-21     13.80     1000\n",
       "4  1000_4 2018-12-15      5.18     1000"
      ]
     },
     "execution_count": 12,
     "metadata": {},
     "output_type": "execute_result"
    }
   ],
   "source": [
    "# Приводим даты звонков к типу datetime.\n",
    "# Просматриваем первые строки датафрейма.\n",
    "\n",
    "calls['call_date'] = pd.to_datetime(calls['call_date'], format='%Y-%m-%d')\n",
    "calls.head()"
   ]
  },
  {
   "cell_type": "code",
   "execution_count": 13,
   "metadata": {},
   "outputs": [
    {
     "name": "stdout",
     "output_type": "stream",
     "text": [
      "<class 'pandas.core.frame.DataFrame'>\n",
      "RangeIndex: 202607 entries, 0 to 202606\n",
      "Data columns (total 4 columns):\n",
      " #   Column     Non-Null Count   Dtype         \n",
      "---  ------     --------------   -----         \n",
      " 0   id         202607 non-null  object        \n",
      " 1   call_date  202607 non-null  datetime64[ns]\n",
      " 2   duration   202607 non-null  float64       \n",
      " 3   user_id    202607 non-null  int64         \n",
      "dtypes: datetime64[ns](1), float64(1), int64(1), object(1)\n",
      "memory usage: 6.2+ MB\n"
     ]
    }
   ],
   "source": [
    "# Снова проверяем типы данных в столбцах.\n",
    "\n",
    "calls.info()"
   ]
  },
  {
   "cell_type": "markdown",
   "metadata": {},
   "source": [
    "#### Таблица \"messages\""
   ]
  },
  {
   "cell_type": "code",
   "execution_count": 14,
   "metadata": {},
   "outputs": [
    {
     "name": "stdout",
     "output_type": "stream",
     "text": [
      "<class 'pandas.core.frame.DataFrame'>\n",
      "RangeIndex: 123036 entries, 0 to 123035\n",
      "Data columns (total 3 columns):\n",
      " #   Column        Non-Null Count   Dtype \n",
      "---  ------        --------------   ----- \n",
      " 0   id            123036 non-null  object\n",
      " 1   message_date  123036 non-null  object\n",
      " 2   user_id       123036 non-null  int64 \n",
      "dtypes: int64(1), object(2)\n",
      "memory usage: 2.8+ MB\n"
     ]
    }
   ],
   "source": [
    "# Просматриваем типы данных в столбцах.\n",
    "\n",
    "messages.info()"
   ]
  },
  {
   "cell_type": "code",
   "execution_count": 15,
   "metadata": {},
   "outputs": [
    {
     "data": {
      "text/html": [
       "<div>\n",
       "<style scoped>\n",
       "    .dataframe tbody tr th:only-of-type {\n",
       "        vertical-align: middle;\n",
       "    }\n",
       "\n",
       "    .dataframe tbody tr th {\n",
       "        vertical-align: top;\n",
       "    }\n",
       "\n",
       "    .dataframe thead th {\n",
       "        text-align: right;\n",
       "    }\n",
       "</style>\n",
       "<table border=\"1\" class=\"dataframe\">\n",
       "  <thead>\n",
       "    <tr style=\"text-align: right;\">\n",
       "      <th></th>\n",
       "      <th>id</th>\n",
       "      <th>message_date</th>\n",
       "      <th>user_id</th>\n",
       "    </tr>\n",
       "  </thead>\n",
       "  <tbody>\n",
       "    <tr>\n",
       "      <th>0</th>\n",
       "      <td>1000_0</td>\n",
       "      <td>2018-06-27</td>\n",
       "      <td>1000</td>\n",
       "    </tr>\n",
       "    <tr>\n",
       "      <th>1</th>\n",
       "      <td>1000_1</td>\n",
       "      <td>2018-10-08</td>\n",
       "      <td>1000</td>\n",
       "    </tr>\n",
       "    <tr>\n",
       "      <th>2</th>\n",
       "      <td>1000_2</td>\n",
       "      <td>2018-08-04</td>\n",
       "      <td>1000</td>\n",
       "    </tr>\n",
       "    <tr>\n",
       "      <th>3</th>\n",
       "      <td>1000_3</td>\n",
       "      <td>2018-06-16</td>\n",
       "      <td>1000</td>\n",
       "    </tr>\n",
       "    <tr>\n",
       "      <th>4</th>\n",
       "      <td>1000_4</td>\n",
       "      <td>2018-12-05</td>\n",
       "      <td>1000</td>\n",
       "    </tr>\n",
       "  </tbody>\n",
       "</table>\n",
       "</div>"
      ],
      "text/plain": [
       "       id message_date  user_id\n",
       "0  1000_0   2018-06-27     1000\n",
       "1  1000_1   2018-10-08     1000\n",
       "2  1000_2   2018-08-04     1000\n",
       "3  1000_3   2018-06-16     1000\n",
       "4  1000_4   2018-12-05     1000"
      ]
     },
     "execution_count": 15,
     "metadata": {},
     "output_type": "execute_result"
    }
   ],
   "source": [
    "# Приводим даты отправки сообщений к типу datetime.\n",
    "# Просматриваем первые строки датафрейма.\n",
    "\n",
    "messages['message_date'] = pd.to_datetime(messages['message_date'], format='%Y-%m-%d')\n",
    "messages.head()"
   ]
  },
  {
   "cell_type": "code",
   "execution_count": 16,
   "metadata": {},
   "outputs": [
    {
     "name": "stdout",
     "output_type": "stream",
     "text": [
      "<class 'pandas.core.frame.DataFrame'>\n",
      "RangeIndex: 123036 entries, 0 to 123035\n",
      "Data columns (total 3 columns):\n",
      " #   Column        Non-Null Count   Dtype         \n",
      "---  ------        --------------   -----         \n",
      " 0   id            123036 non-null  object        \n",
      " 1   message_date  123036 non-null  datetime64[ns]\n",
      " 2   user_id       123036 non-null  int64         \n",
      "dtypes: datetime64[ns](1), int64(1), object(1)\n",
      "memory usage: 2.8+ MB\n"
     ]
    }
   ],
   "source": [
    "# Снова проверяем типы данных в столбцах.\n",
    "\n",
    "messages.info()"
   ]
  },
  {
   "cell_type": "markdown",
   "metadata": {},
   "source": [
    "#### Таблица \"internet\""
   ]
  },
  {
   "cell_type": "code",
   "execution_count": 17,
   "metadata": {},
   "outputs": [
    {
     "name": "stdout",
     "output_type": "stream",
     "text": [
      "<class 'pandas.core.frame.DataFrame'>\n",
      "RangeIndex: 149396 entries, 0 to 149395\n",
      "Data columns (total 5 columns):\n",
      " #   Column        Non-Null Count   Dtype  \n",
      "---  ------        --------------   -----  \n",
      " 0   Unnamed: 0    149396 non-null  int64  \n",
      " 1   id            149396 non-null  object \n",
      " 2   mb_used       149396 non-null  float64\n",
      " 3   session_date  149396 non-null  object \n",
      " 4   user_id       149396 non-null  int64  \n",
      "dtypes: float64(1), int64(2), object(2)\n",
      "memory usage: 5.7+ MB\n"
     ]
    }
   ],
   "source": [
    "# Просматриваем типы данных в столбцах.\n",
    "\n",
    "internet.info()"
   ]
  },
  {
   "cell_type": "code",
   "execution_count": 18,
   "metadata": {},
   "outputs": [
    {
     "data": {
      "text/html": [
       "<div>\n",
       "<style scoped>\n",
       "    .dataframe tbody tr th:only-of-type {\n",
       "        vertical-align: middle;\n",
       "    }\n",
       "\n",
       "    .dataframe tbody tr th {\n",
       "        vertical-align: top;\n",
       "    }\n",
       "\n",
       "    .dataframe thead th {\n",
       "        text-align: right;\n",
       "    }\n",
       "</style>\n",
       "<table border=\"1\" class=\"dataframe\">\n",
       "  <thead>\n",
       "    <tr style=\"text-align: right;\">\n",
       "      <th></th>\n",
       "      <th>Unnamed: 0</th>\n",
       "      <th>id</th>\n",
       "      <th>mb_used</th>\n",
       "      <th>session_date</th>\n",
       "      <th>user_id</th>\n",
       "    </tr>\n",
       "  </thead>\n",
       "  <tbody>\n",
       "    <tr>\n",
       "      <th>0</th>\n",
       "      <td>0</td>\n",
       "      <td>1000_0</td>\n",
       "      <td>112.95</td>\n",
       "      <td>2018-11-25</td>\n",
       "      <td>1000</td>\n",
       "    </tr>\n",
       "    <tr>\n",
       "      <th>1</th>\n",
       "      <td>1</td>\n",
       "      <td>1000_1</td>\n",
       "      <td>1052.81</td>\n",
       "      <td>2018-09-07</td>\n",
       "      <td>1000</td>\n",
       "    </tr>\n",
       "    <tr>\n",
       "      <th>2</th>\n",
       "      <td>2</td>\n",
       "      <td>1000_2</td>\n",
       "      <td>1197.26</td>\n",
       "      <td>2018-06-25</td>\n",
       "      <td>1000</td>\n",
       "    </tr>\n",
       "    <tr>\n",
       "      <th>3</th>\n",
       "      <td>3</td>\n",
       "      <td>1000_3</td>\n",
       "      <td>550.27</td>\n",
       "      <td>2018-08-22</td>\n",
       "      <td>1000</td>\n",
       "    </tr>\n",
       "    <tr>\n",
       "      <th>4</th>\n",
       "      <td>4</td>\n",
       "      <td>1000_4</td>\n",
       "      <td>302.56</td>\n",
       "      <td>2018-09-24</td>\n",
       "      <td>1000</td>\n",
       "    </tr>\n",
       "  </tbody>\n",
       "</table>\n",
       "</div>"
      ],
      "text/plain": [
       "   Unnamed: 0      id  mb_used session_date  user_id\n",
       "0           0  1000_0   112.95   2018-11-25     1000\n",
       "1           1  1000_1  1052.81   2018-09-07     1000\n",
       "2           2  1000_2  1197.26   2018-06-25     1000\n",
       "3           3  1000_3   550.27   2018-08-22     1000\n",
       "4           4  1000_4   302.56   2018-09-24     1000"
      ]
     },
     "execution_count": 18,
     "metadata": {},
     "output_type": "execute_result"
    }
   ],
   "source": [
    "# Приводим даты выхода в Интернет к типу datetime.\n",
    "# Просматриваем первые строки датафрейма.\n",
    "\n",
    "internet['session_date'] = pd.to_datetime(internet['session_date'], format='%Y-%m-%d')\n",
    "internet.head()"
   ]
  },
  {
   "cell_type": "code",
   "execution_count": 19,
   "metadata": {},
   "outputs": [
    {
     "name": "stdout",
     "output_type": "stream",
     "text": [
      "<class 'pandas.core.frame.DataFrame'>\n",
      "RangeIndex: 149396 entries, 0 to 149395\n",
      "Data columns (total 5 columns):\n",
      " #   Column        Non-Null Count   Dtype         \n",
      "---  ------        --------------   -----         \n",
      " 0   Unnamed: 0    149396 non-null  int64         \n",
      " 1   id            149396 non-null  object        \n",
      " 2   mb_used       149396 non-null  float64       \n",
      " 3   session_date  149396 non-null  datetime64[ns]\n",
      " 4   user_id       149396 non-null  int64         \n",
      "dtypes: datetime64[ns](1), float64(1), int64(2), object(1)\n",
      "memory usage: 5.7+ MB\n"
     ]
    }
   ],
   "source": [
    "# Снова проверяем типы данных в столбцах.\n",
    "\n",
    "internet.info()"
   ]
  },
  {
   "cell_type": "markdown",
   "metadata": {},
   "source": [
    "#### Таблица \"tariffs\""
   ]
  },
  {
   "cell_type": "code",
   "execution_count": 20,
   "metadata": {},
   "outputs": [
    {
     "name": "stdout",
     "output_type": "stream",
     "text": [
      "<class 'pandas.core.frame.DataFrame'>\n",
      "RangeIndex: 2 entries, 0 to 1\n",
      "Data columns (total 8 columns):\n",
      " #   Column                 Non-Null Count  Dtype \n",
      "---  ------                 --------------  ----- \n",
      " 0   messages_included      2 non-null      int64 \n",
      " 1   mb_per_month_included  2 non-null      int64 \n",
      " 2   minutes_included       2 non-null      int64 \n",
      " 3   rub_monthly_fee        2 non-null      int64 \n",
      " 4   rub_per_gb             2 non-null      int64 \n",
      " 5   rub_per_message        2 non-null      int64 \n",
      " 6   rub_per_minute         2 non-null      int64 \n",
      " 7   tariff_name            2 non-null      object\n",
      "dtypes: int64(7), object(1)\n",
      "memory usage: 256.0+ bytes\n"
     ]
    }
   ],
   "source": [
    "# Просматриваем типы данных в столбцах.\n",
    "\n",
    "tariffs.info()"
   ]
  },
  {
   "cell_type": "markdown",
   "metadata": {},
   "source": [
    "_Выводы_\n",
    "\n",
    "1. Во всех таблицах, содержащих столбцы с датами, тип данных был не соответствующим.\n",
    "2. Других критических проблем не выявлено. Все имеющиеся несоответствия устранены."
   ]
  },
  {
   "cell_type": "markdown",
   "metadata": {},
   "source": [
    "### Поиск и исправление ошибок в данных"
   ]
  },
  {
   "cell_type": "markdown",
   "metadata": {},
   "source": [
    "#### Таблица \"users\""
   ]
  },
  {
   "cell_type": "code",
   "execution_count": 21,
   "metadata": {
    "scrolled": true
   },
   "outputs": [
    {
     "data": {
      "text/html": [
       "<div>\n",
       "<style scoped>\n",
       "    .dataframe tbody tr th:only-of-type {\n",
       "        vertical-align: middle;\n",
       "    }\n",
       "\n",
       "    .dataframe tbody tr th {\n",
       "        vertical-align: top;\n",
       "    }\n",
       "\n",
       "    .dataframe thead th {\n",
       "        text-align: right;\n",
       "    }\n",
       "</style>\n",
       "<table border=\"1\" class=\"dataframe\">\n",
       "  <thead>\n",
       "    <tr style=\"text-align: right;\">\n",
       "      <th></th>\n",
       "      <th>user_id</th>\n",
       "      <th>age</th>\n",
       "    </tr>\n",
       "  </thead>\n",
       "  <tbody>\n",
       "    <tr>\n",
       "      <th>count</th>\n",
       "      <td>500.000000</td>\n",
       "      <td>500.00000</td>\n",
       "    </tr>\n",
       "    <tr>\n",
       "      <th>mean</th>\n",
       "      <td>1249.500000</td>\n",
       "      <td>46.58800</td>\n",
       "    </tr>\n",
       "    <tr>\n",
       "      <th>std</th>\n",
       "      <td>144.481833</td>\n",
       "      <td>16.66763</td>\n",
       "    </tr>\n",
       "    <tr>\n",
       "      <th>min</th>\n",
       "      <td>1000.000000</td>\n",
       "      <td>18.00000</td>\n",
       "    </tr>\n",
       "    <tr>\n",
       "      <th>25%</th>\n",
       "      <td>1124.750000</td>\n",
       "      <td>32.00000</td>\n",
       "    </tr>\n",
       "    <tr>\n",
       "      <th>50%</th>\n",
       "      <td>1249.500000</td>\n",
       "      <td>46.00000</td>\n",
       "    </tr>\n",
       "    <tr>\n",
       "      <th>75%</th>\n",
       "      <td>1374.250000</td>\n",
       "      <td>62.00000</td>\n",
       "    </tr>\n",
       "    <tr>\n",
       "      <th>max</th>\n",
       "      <td>1499.000000</td>\n",
       "      <td>75.00000</td>\n",
       "    </tr>\n",
       "  </tbody>\n",
       "</table>\n",
       "</div>"
      ],
      "text/plain": [
       "           user_id        age\n",
       "count   500.000000  500.00000\n",
       "mean   1249.500000   46.58800\n",
       "std     144.481833   16.66763\n",
       "min    1000.000000   18.00000\n",
       "25%    1124.750000   32.00000\n",
       "50%    1249.500000   46.00000\n",
       "75%    1374.250000   62.00000\n",
       "max    1499.000000   75.00000"
      ]
     },
     "execution_count": 21,
     "metadata": {},
     "output_type": "execute_result"
    }
   ],
   "source": [
    "# Проверяем основные статистические характеристики.\n",
    "\n",
    "users.describe()"
   ]
  },
  {
   "cell_type": "markdown",
   "metadata": {},
   "source": [
    "Аномальных значений нет. Возраст абонентов - от 18 до 75 лет."
   ]
  },
  {
   "cell_type": "code",
   "execution_count": 22,
   "metadata": {},
   "outputs": [
    {
     "name": "stdout",
     "output_type": "stream",
     "text": [
      "Количество дубликатов в таблице \"users\": 0\n"
     ]
    }
   ],
   "source": [
    "# Проверяем на наличие дубликатов.\n",
    "\n",
    "print('Количество дубликатов в таблице \"users\":', users.duplicated().sum())"
   ]
  },
  {
   "cell_type": "code",
   "execution_count": 23,
   "metadata": {
    "scrolled": true
   },
   "outputs": [
    {
     "data": {
      "text/plain": [
       "user_id        0.0\n",
       "age            0.0\n",
       "churn_date    92.4\n",
       "city           0.0\n",
       "first_name     0.0\n",
       "last_name      0.0\n",
       "reg_date       0.0\n",
       "tariff         0.0\n",
       "dtype: float64"
      ]
     },
     "execution_count": 23,
     "metadata": {},
     "output_type": "execute_result"
    }
   ],
   "source": [
    "# Проверяем процент пропусков в столбцах.\n",
    "\n",
    "users.isna().mean()*100"
   ]
  },
  {
   "cell_type": "markdown",
   "metadata": {},
   "source": [
    "Отсутствие дат в столбце \"churn_date\" говорит о том, что 92,4% (462 абонента из 500) все еще продолжают пользоваться связью. Поэтому данные пропуски заполнению не подлежат."
   ]
  },
  {
   "cell_type": "code",
   "execution_count": 24,
   "metadata": {},
   "outputs": [
    {
     "data": {
      "text/plain": [
       "last_name  first_name\n",
       "Ёлчина     Валерия       1\n",
       "Лобанова   Эльвира       1\n",
       "Мальцев    Степан        1\n",
       "Малышев    Авксентий     1\n",
       "Малинина   Юлия          1\n",
       "                        ..\n",
       "Блинова    Василиса      1\n",
       "Березина   Юна           1\n",
       "           Луиза         1\n",
       "           Дайна         1\n",
       "Яшина      Эльмира       1\n",
       "Length: 500, dtype: int64"
      ]
     },
     "execution_count": 24,
     "metadata": {},
     "output_type": "execute_result"
    }
   ],
   "source": [
    "# Проверяем наличие возможных дубликатов в сочетаниях фамилии и имени.\n",
    "\n",
    "users[['last_name', 'first_name']].value_counts()"
   ]
  },
  {
   "cell_type": "markdown",
   "metadata": {},
   "source": [
    "Уникальных сочетаний столько же, сколько и абонентов - 500. Неявных дубликатов не обнаружено."
   ]
  },
  {
   "cell_type": "markdown",
   "metadata": {},
   "source": [
    "#### Таблица \"calls\""
   ]
  },
  {
   "cell_type": "code",
   "execution_count": 25,
   "metadata": {},
   "outputs": [
    {
     "data": {
      "text/html": [
       "<div>\n",
       "<style scoped>\n",
       "    .dataframe tbody tr th:only-of-type {\n",
       "        vertical-align: middle;\n",
       "    }\n",
       "\n",
       "    .dataframe tbody tr th {\n",
       "        vertical-align: top;\n",
       "    }\n",
       "\n",
       "    .dataframe thead th {\n",
       "        text-align: right;\n",
       "    }\n",
       "</style>\n",
       "<table border=\"1\" class=\"dataframe\">\n",
       "  <thead>\n",
       "    <tr style=\"text-align: right;\">\n",
       "      <th></th>\n",
       "      <th>duration</th>\n",
       "      <th>user_id</th>\n",
       "    </tr>\n",
       "  </thead>\n",
       "  <tbody>\n",
       "    <tr>\n",
       "      <th>count</th>\n",
       "      <td>202607.000000</td>\n",
       "      <td>202607.000000</td>\n",
       "    </tr>\n",
       "    <tr>\n",
       "      <th>mean</th>\n",
       "      <td>6.755887</td>\n",
       "      <td>1253.940619</td>\n",
       "    </tr>\n",
       "    <tr>\n",
       "      <th>std</th>\n",
       "      <td>5.843365</td>\n",
       "      <td>144.722751</td>\n",
       "    </tr>\n",
       "    <tr>\n",
       "      <th>min</th>\n",
       "      <td>0.000000</td>\n",
       "      <td>1000.000000</td>\n",
       "    </tr>\n",
       "    <tr>\n",
       "      <th>25%</th>\n",
       "      <td>1.300000</td>\n",
       "      <td>1126.000000</td>\n",
       "    </tr>\n",
       "    <tr>\n",
       "      <th>50%</th>\n",
       "      <td>6.000000</td>\n",
       "      <td>1260.000000</td>\n",
       "    </tr>\n",
       "    <tr>\n",
       "      <th>75%</th>\n",
       "      <td>10.700000</td>\n",
       "      <td>1379.000000</td>\n",
       "    </tr>\n",
       "    <tr>\n",
       "      <th>max</th>\n",
       "      <td>38.000000</td>\n",
       "      <td>1499.000000</td>\n",
       "    </tr>\n",
       "  </tbody>\n",
       "</table>\n",
       "</div>"
      ],
      "text/plain": [
       "            duration        user_id\n",
       "count  202607.000000  202607.000000\n",
       "mean        6.755887    1253.940619\n",
       "std         5.843365     144.722751\n",
       "min         0.000000    1000.000000\n",
       "25%         1.300000    1126.000000\n",
       "50%         6.000000    1260.000000\n",
       "75%        10.700000    1379.000000\n",
       "max        38.000000    1499.000000"
      ]
     },
     "execution_count": 25,
     "metadata": {},
     "output_type": "execute_result"
    }
   ],
   "source": [
    "# Проверяем основные статистические характеристики.\n",
    "\n",
    "calls.describe()"
   ]
  },
  {
   "cell_type": "markdown",
   "metadata": {},
   "source": [
    "Аномальных значений нет. Длительность звонков - от 0 до 38 минут."
   ]
  },
  {
   "cell_type": "code",
   "execution_count": 26,
   "metadata": {},
   "outputs": [
    {
     "name": "stdout",
     "output_type": "stream",
     "text": [
      "Количество дубликатов в таблице \"calls\": 0\n"
     ]
    }
   ],
   "source": [
    "# Проверяем на наличие дубликатов.\n",
    "\n",
    "print('Количество дубликатов в таблице \"calls\":', calls.duplicated().sum())"
   ]
  },
  {
   "cell_type": "code",
   "execution_count": 27,
   "metadata": {},
   "outputs": [
    {
     "data": {
      "text/plain": [
       "id           0.0\n",
       "call_date    0.0\n",
       "duration     0.0\n",
       "user_id      0.0\n",
       "dtype: float64"
      ]
     },
     "execution_count": 27,
     "metadata": {},
     "output_type": "execute_result"
    }
   ],
   "source": [
    "# Проверяем процент пропусков в столбцах.\n",
    "\n",
    "calls.isna().mean()*100"
   ]
  },
  {
   "cell_type": "markdown",
   "metadata": {},
   "source": [
    "Пропущенных значений нет."
   ]
  },
  {
   "cell_type": "code",
   "execution_count": 28,
   "metadata": {},
   "outputs": [
    {
     "name": "stdout",
     "output_type": "stream",
     "text": [
      "Количество неудачных звонков: 39613\n",
      "Доля неудачных звонков: 0.2\n"
     ]
    }
   ],
   "source": [
    "# Проверяем количество и долю нулей в продолжительности звонков.\n",
    "\n",
    "print(\"Количество неудачных звонков:\", \n",
    "      calls.query('duration == 0')['duration'].count())\n",
    "print(\"Доля неудачных звонков:\", \n",
    "      round(calls.query('duration == 0')['duration'].count() / calls.shape[0], 2))"
   ]
  },
  {
   "cell_type": "code",
   "execution_count": 29,
   "metadata": {},
   "outputs": [
    {
     "data": {
      "image/png": "[encoded data removed]",
      "text/plain": [
       "<Figure size 432x288 with 1 Axes>"
      ]
     },
     "metadata": {
      "needs_background": "light"
     },
     "output_type": "display_data"
    }
   ],
   "source": [
    "# Смотрим распределение длительности звонков.\n",
    "\n",
    "calls['duration'].hist(bins=30)\n",
    "plt.title(\"Длительность звонков\")\n",
    "plt.xlabel('Минуты')\n",
    "plt.ylabel('Частота');"
   ]
  },
  {
   "cell_type": "markdown",
   "metadata": {},
   "source": [
    "Большое количество неудачных звонков (длительностью 0 c).\n",
    "Из осуществленных основная часть звонков длилась до 10 минут, наиболее часто - около 5 минут."
   ]
  },
  {
   "cell_type": "markdown",
   "metadata": {},
   "source": [
    "#### Таблица \"messages\""
   ]
  },
  {
   "cell_type": "markdown",
   "metadata": {},
   "source": [
    "Статистически обрабатываемых данных в таблице нет."
   ]
  },
  {
   "cell_type": "code",
   "execution_count": 30,
   "metadata": {},
   "outputs": [
    {
     "name": "stdout",
     "output_type": "stream",
     "text": [
      "Количество дубликатов в таблице \"messages\": 0\n"
     ]
    }
   ],
   "source": [
    "# Проверяем на наличие дубликатов.\n",
    "\n",
    "print('Количество дубликатов в таблице \"messages\":', messages.duplicated().sum())"
   ]
  },
  {
   "cell_type": "code",
   "execution_count": 31,
   "metadata": {},
   "outputs": [
    {
     "data": {
      "text/plain": [
       "id              0.0\n",
       "message_date    0.0\n",
       "user_id         0.0\n",
       "dtype: float64"
      ]
     },
     "execution_count": 31,
     "metadata": {},
     "output_type": "execute_result"
    }
   ],
   "source": [
    "# Проверяем процент пропусков в столбцах.\n",
    "\n",
    "messages.isna().mean()*100"
   ]
  },
  {
   "cell_type": "markdown",
   "metadata": {},
   "source": [
    "Пропущенных значений нет."
   ]
  },
  {
   "cell_type": "markdown",
   "metadata": {},
   "source": [
    "#### Таблица \"internet\""
   ]
  },
  {
   "cell_type": "code",
   "execution_count": 32,
   "metadata": {
    "scrolled": true
   },
   "outputs": [
    {
     "data": {
      "text/html": [
       "<div>\n",
       "<style scoped>\n",
       "    .dataframe tbody tr th:only-of-type {\n",
       "        vertical-align: middle;\n",
       "    }\n",
       "\n",
       "    .dataframe tbody tr th {\n",
       "        vertical-align: top;\n",
       "    }\n",
       "\n",
       "    .dataframe thead th {\n",
       "        text-align: right;\n",
       "    }\n",
       "</style>\n",
       "<table border=\"1\" class=\"dataframe\">\n",
       "  <thead>\n",
       "    <tr style=\"text-align: right;\">\n",
       "      <th></th>\n",
       "      <th>Unnamed: 0</th>\n",
       "      <th>mb_used</th>\n",
       "      <th>user_id</th>\n",
       "    </tr>\n",
       "  </thead>\n",
       "  <tbody>\n",
       "    <tr>\n",
       "      <th>count</th>\n",
       "      <td>149396.000000</td>\n",
       "      <td>149396.000000</td>\n",
       "      <td>149396.000000</td>\n",
       "    </tr>\n",
       "    <tr>\n",
       "      <th>mean</th>\n",
       "      <td>74697.500000</td>\n",
       "      <td>370.192426</td>\n",
       "      <td>1252.099842</td>\n",
       "    </tr>\n",
       "    <tr>\n",
       "      <th>std</th>\n",
       "      <td>43127.054745</td>\n",
       "      <td>278.300951</td>\n",
       "      <td>144.050823</td>\n",
       "    </tr>\n",
       "    <tr>\n",
       "      <th>min</th>\n",
       "      <td>0.000000</td>\n",
       "      <td>0.000000</td>\n",
       "      <td>1000.000000</td>\n",
       "    </tr>\n",
       "    <tr>\n",
       "      <th>25%</th>\n",
       "      <td>37348.750000</td>\n",
       "      <td>138.187500</td>\n",
       "      <td>1130.000000</td>\n",
       "    </tr>\n",
       "    <tr>\n",
       "      <th>50%</th>\n",
       "      <td>74697.500000</td>\n",
       "      <td>348.015000</td>\n",
       "      <td>1251.000000</td>\n",
       "    </tr>\n",
       "    <tr>\n",
       "      <th>75%</th>\n",
       "      <td>112046.250000</td>\n",
       "      <td>559.552500</td>\n",
       "      <td>1380.000000</td>\n",
       "    </tr>\n",
       "    <tr>\n",
       "      <th>max</th>\n",
       "      <td>149395.000000</td>\n",
       "      <td>1724.830000</td>\n",
       "      <td>1499.000000</td>\n",
       "    </tr>\n",
       "  </tbody>\n",
       "</table>\n",
       "</div>"
      ],
      "text/plain": [
       "          Unnamed: 0        mb_used        user_id\n",
       "count  149396.000000  149396.000000  149396.000000\n",
       "mean    74697.500000     370.192426    1252.099842\n",
       "std     43127.054745     278.300951     144.050823\n",
       "min         0.000000       0.000000    1000.000000\n",
       "25%     37348.750000     138.187500    1130.000000\n",
       "50%     74697.500000     348.015000    1251.000000\n",
       "75%    112046.250000     559.552500    1380.000000\n",
       "max    149395.000000    1724.830000    1499.000000"
      ]
     },
     "execution_count": 32,
     "metadata": {},
     "output_type": "execute_result"
    }
   ],
   "source": [
    "# Проверяем основные статистические характеристики.\n",
    "\n",
    "internet.describe()"
   ]
  },
  {
   "cell_type": "markdown",
   "metadata": {},
   "source": [
    "Аномальных значений нет. Объем использованного трафика - от 0 до 1724,83 Мб."
   ]
  },
  {
   "cell_type": "code",
   "execution_count": 33,
   "metadata": {},
   "outputs": [
    {
     "name": "stdout",
     "output_type": "stream",
     "text": [
      "Количество дубликатов в таблице \"internet\": 0\n"
     ]
    }
   ],
   "source": [
    "# Проверяем на наличие дубликатов. \n",
    "\n",
    "print('Количество дубликатов в таблице \"internet\":', internet.duplicated().sum())"
   ]
  },
  {
   "cell_type": "code",
   "execution_count": 34,
   "metadata": {},
   "outputs": [
    {
     "data": {
      "text/plain": [
       "Unnamed: 0      0.0\n",
       "id              0.0\n",
       "mb_used         0.0\n",
       "session_date    0.0\n",
       "user_id         0.0\n",
       "dtype: float64"
      ]
     },
     "execution_count": 34,
     "metadata": {},
     "output_type": "execute_result"
    }
   ],
   "source": [
    "# Проверяем процент пропусков в столбцах.\n",
    "\n",
    "internet.isna().mean()*100"
   ]
  },
  {
   "cell_type": "markdown",
   "metadata": {},
   "source": [
    "Пропущенных значений нет."
   ]
  },
  {
   "cell_type": "code",
   "execution_count": 35,
   "metadata": {},
   "outputs": [
    {
     "name": "stdout",
     "output_type": "stream",
     "text": [
      "Количество отличий столбца \"Unnamed: 0\" от индексов: 0\n"
     ]
    }
   ],
   "source": [
    "# Сравниваем содержимое столбца \"Unnamed: 0\" с индексами соответствующих строк.\n",
    "\n",
    "print('Количество отличий столбца \"Unnamed: 0\" от индексов:', \n",
    "  internet[internet['Unnamed: 0'] != internet.index]['Unnamed: 0'].count())"
   ]
  },
  {
   "cell_type": "markdown",
   "metadata": {},
   "source": [
    "Столбец \"Unnamed: 0\" дублирует индекс. Причина в том, что таблица уже содержала в себе столбец с индексами, а Pandas при чтении добавил еще один. Удалим лишний столбец."
   ]
  },
  {
   "cell_type": "code",
   "execution_count": 36,
   "metadata": {},
   "outputs": [
    {
     "data": {
      "text/html": [
       "<div>\n",
       "<style scoped>\n",
       "    .dataframe tbody tr th:only-of-type {\n",
       "        vertical-align: middle;\n",
       "    }\n",
       "\n",
       "    .dataframe tbody tr th {\n",
       "        vertical-align: top;\n",
       "    }\n",
       "\n",
       "    .dataframe thead th {\n",
       "        text-align: right;\n",
       "    }\n",
       "</style>\n",
       "<table border=\"1\" class=\"dataframe\">\n",
       "  <thead>\n",
       "    <tr style=\"text-align: right;\">\n",
       "      <th></th>\n",
       "      <th>id</th>\n",
       "      <th>mb_used</th>\n",
       "      <th>session_date</th>\n",
       "      <th>user_id</th>\n",
       "    </tr>\n",
       "  </thead>\n",
       "  <tbody>\n",
       "    <tr>\n",
       "      <th>0</th>\n",
       "      <td>1000_0</td>\n",
       "      <td>112.95</td>\n",
       "      <td>2018-11-25</td>\n",
       "      <td>1000</td>\n",
       "    </tr>\n",
       "    <tr>\n",
       "      <th>1</th>\n",
       "      <td>1000_1</td>\n",
       "      <td>1052.81</td>\n",
       "      <td>2018-09-07</td>\n",
       "      <td>1000</td>\n",
       "    </tr>\n",
       "    <tr>\n",
       "      <th>2</th>\n",
       "      <td>1000_2</td>\n",
       "      <td>1197.26</td>\n",
       "      <td>2018-06-25</td>\n",
       "      <td>1000</td>\n",
       "    </tr>\n",
       "    <tr>\n",
       "      <th>3</th>\n",
       "      <td>1000_3</td>\n",
       "      <td>550.27</td>\n",
       "      <td>2018-08-22</td>\n",
       "      <td>1000</td>\n",
       "    </tr>\n",
       "    <tr>\n",
       "      <th>4</th>\n",
       "      <td>1000_4</td>\n",
       "      <td>302.56</td>\n",
       "      <td>2018-09-24</td>\n",
       "      <td>1000</td>\n",
       "    </tr>\n",
       "  </tbody>\n",
       "</table>\n",
       "</div>"
      ],
      "text/plain": [
       "       id  mb_used session_date  user_id\n",
       "0  1000_0   112.95   2018-11-25     1000\n",
       "1  1000_1  1052.81   2018-09-07     1000\n",
       "2  1000_2  1197.26   2018-06-25     1000\n",
       "3  1000_3   550.27   2018-08-22     1000\n",
       "4  1000_4   302.56   2018-09-24     1000"
      ]
     },
     "execution_count": 36,
     "metadata": {},
     "output_type": "execute_result"
    }
   ],
   "source": [
    "# Удаляем столбец \"Unnamed: 0\" за ненадобностью.\n",
    "# Просматриваем первые строки датафрейма.\n",
    "\n",
    "internet.drop('Unnamed: 0', axis=1, inplace=True)\n",
    "internet.head()"
   ]
  },
  {
   "cell_type": "markdown",
   "metadata": {},
   "source": [
    "### Создание дополнительных столбцов"
   ]
  },
  {
   "cell_type": "markdown",
   "metadata": {},
   "source": [
    "#### Количество сделанных звонков и израсходованных минут разговора по месяцам"
   ]
  },
  {
   "cell_type": "code",
   "execution_count": 37,
   "metadata": {},
   "outputs": [
    {
     "data": {
      "text/html": [
       "<div>\n",
       "<style scoped>\n",
       "    .dataframe tbody tr th:only-of-type {\n",
       "        vertical-align: middle;\n",
       "    }\n",
       "\n",
       "    .dataframe tbody tr th {\n",
       "        vertical-align: top;\n",
       "    }\n",
       "\n",
       "    .dataframe thead th {\n",
       "        text-align: right;\n",
       "    }\n",
       "</style>\n",
       "<table border=\"1\" class=\"dataframe\">\n",
       "  <thead>\n",
       "    <tr style=\"text-align: right;\">\n",
       "      <th></th>\n",
       "      <th></th>\n",
       "      <th>calls_made</th>\n",
       "      <th>minutes_used</th>\n",
       "    </tr>\n",
       "    <tr>\n",
       "      <th>user_id</th>\n",
       "      <th>month</th>\n",
       "      <th></th>\n",
       "      <th></th>\n",
       "    </tr>\n",
       "  </thead>\n",
       "  <tbody>\n",
       "    <tr>\n",
       "      <th rowspan=\"5\" valign=\"top\">1000</th>\n",
       "      <th>5</th>\n",
       "      <td>22</td>\n",
       "      <td>159.0</td>\n",
       "    </tr>\n",
       "    <tr>\n",
       "      <th>6</th>\n",
       "      <td>43</td>\n",
       "      <td>172.0</td>\n",
       "    </tr>\n",
       "    <tr>\n",
       "      <th>7</th>\n",
       "      <td>47</td>\n",
       "      <td>340.0</td>\n",
       "    </tr>\n",
       "    <tr>\n",
       "      <th>8</th>\n",
       "      <td>52</td>\n",
       "      <td>408.0</td>\n",
       "    </tr>\n",
       "    <tr>\n",
       "      <th>9</th>\n",
       "      <td>58</td>\n",
       "      <td>466.0</td>\n",
       "    </tr>\n",
       "    <tr>\n",
       "      <th>...</th>\n",
       "      <th>...</th>\n",
       "      <td>...</td>\n",
       "      <td>...</td>\n",
       "    </tr>\n",
       "    <tr>\n",
       "      <th>1498</th>\n",
       "      <th>10</th>\n",
       "      <td>41</td>\n",
       "      <td>247.0</td>\n",
       "    </tr>\n",
       "    <tr>\n",
       "      <th rowspan=\"4\" valign=\"top\">1499</th>\n",
       "      <th>9</th>\n",
       "      <td>9</td>\n",
       "      <td>70.0</td>\n",
       "    </tr>\n",
       "    <tr>\n",
       "      <th>10</th>\n",
       "      <td>68</td>\n",
       "      <td>449.0</td>\n",
       "    </tr>\n",
       "    <tr>\n",
       "      <th>11</th>\n",
       "      <td>74</td>\n",
       "      <td>612.0</td>\n",
       "    </tr>\n",
       "    <tr>\n",
       "      <th>12</th>\n",
       "      <td>69</td>\n",
       "      <td>492.0</td>\n",
       "    </tr>\n",
       "  </tbody>\n",
       "</table>\n",
       "<p>3174 rows × 2 columns</p>\n",
       "</div>"
      ],
      "text/plain": [
       "               calls_made  minutes_used\n",
       "user_id month                          \n",
       "1000    5              22         159.0\n",
       "        6              43         172.0\n",
       "        7              47         340.0\n",
       "        8              52         408.0\n",
       "        9              58         466.0\n",
       "...                   ...           ...\n",
       "1498    10             41         247.0\n",
       "1499    9               9          70.0\n",
       "        10             68         449.0\n",
       "        11             74         612.0\n",
       "        12             69         492.0\n",
       "\n",
       "[3174 rows x 2 columns]"
      ]
     },
     "execution_count": 37,
     "metadata": {},
     "output_type": "execute_result"
    }
   ],
   "source": [
    "# Создаем в таблице \"calls\" долполнительный столбец \"month\" с номерами месяцев, в которых производились звонки.\n",
    "# Округляем длительность звонков в большую сторону до целых минут.\n",
    "# Группируем данные по столбцам \"user_id\" и \"month\", с расчетом ежемесячного количества и продолжительности звонков.\n",
    "# Просматриваем полученную таблицу.\n",
    "\n",
    "calls['month'] = calls['call_date'].dt.month\n",
    "calls['minutes_used'] = np.ceil(calls['duration'])\n",
    "calls_monthly = calls.groupby(['user_id', 'month']).agg({'id':'count', 'minutes_used':'sum'}).rename(columns={'id':'calls_made'})\n",
    "calls_monthly"
   ]
  },
  {
   "cell_type": "markdown",
   "metadata": {},
   "source": [
    "#### Количество отправленных сообщений по месяцам"
   ]
  },
  {
   "cell_type": "code",
   "execution_count": 38,
   "metadata": {
    "scrolled": false
   },
   "outputs": [
    {
     "data": {
      "text/html": [
       "<div>\n",
       "<style scoped>\n",
       "    .dataframe tbody tr th:only-of-type {\n",
       "        vertical-align: middle;\n",
       "    }\n",
       "\n",
       "    .dataframe tbody tr th {\n",
       "        vertical-align: top;\n",
       "    }\n",
       "\n",
       "    .dataframe thead th {\n",
       "        text-align: right;\n",
       "    }\n",
       "</style>\n",
       "<table border=\"1\" class=\"dataframe\">\n",
       "  <thead>\n",
       "    <tr style=\"text-align: right;\">\n",
       "      <th></th>\n",
       "      <th></th>\n",
       "      <th>messages_sent</th>\n",
       "    </tr>\n",
       "    <tr>\n",
       "      <th>user_id</th>\n",
       "      <th>month</th>\n",
       "      <th></th>\n",
       "    </tr>\n",
       "  </thead>\n",
       "  <tbody>\n",
       "    <tr>\n",
       "      <th rowspan=\"5\" valign=\"top\">1000</th>\n",
       "      <th>5</th>\n",
       "      <td>22</td>\n",
       "    </tr>\n",
       "    <tr>\n",
       "      <th>6</th>\n",
       "      <td>60</td>\n",
       "    </tr>\n",
       "    <tr>\n",
       "      <th>7</th>\n",
       "      <td>75</td>\n",
       "    </tr>\n",
       "    <tr>\n",
       "      <th>8</th>\n",
       "      <td>81</td>\n",
       "    </tr>\n",
       "    <tr>\n",
       "      <th>9</th>\n",
       "      <td>57</td>\n",
       "    </tr>\n",
       "    <tr>\n",
       "      <th>...</th>\n",
       "      <th>...</th>\n",
       "      <td>...</td>\n",
       "    </tr>\n",
       "    <tr>\n",
       "      <th>1498</th>\n",
       "      <th>10</th>\n",
       "      <td>42</td>\n",
       "    </tr>\n",
       "    <tr>\n",
       "      <th rowspan=\"4\" valign=\"top\">1499</th>\n",
       "      <th>9</th>\n",
       "      <td>11</td>\n",
       "    </tr>\n",
       "    <tr>\n",
       "      <th>10</th>\n",
       "      <td>48</td>\n",
       "    </tr>\n",
       "    <tr>\n",
       "      <th>11</th>\n",
       "      <td>59</td>\n",
       "    </tr>\n",
       "    <tr>\n",
       "      <th>12</th>\n",
       "      <td>66</td>\n",
       "    </tr>\n",
       "  </tbody>\n",
       "</table>\n",
       "<p>2717 rows × 1 columns</p>\n",
       "</div>"
      ],
      "text/plain": [
       "               messages_sent\n",
       "user_id month               \n",
       "1000    5                 22\n",
       "        6                 60\n",
       "        7                 75\n",
       "        8                 81\n",
       "        9                 57\n",
       "...                      ...\n",
       "1498    10                42\n",
       "1499    9                 11\n",
       "        10                48\n",
       "        11                59\n",
       "        12                66\n",
       "\n",
       "[2717 rows x 1 columns]"
      ]
     },
     "execution_count": 38,
     "metadata": {},
     "output_type": "execute_result"
    }
   ],
   "source": [
    "# Создаем в таблице \"messages\" долполнительный столбец \"month\" с номерами месяцев, в которых отправлялись сообщения.\n",
    "# Группируем данные по столбцам \"user_id\" и \"month\", с расчетом ежемесячного количества сообщений.\n",
    "# Просматриваем полученную таблицу.\n",
    "\n",
    "messages['month'] = messages['message_date'].dt.month\n",
    "messages_monthly = (messages.groupby(['user_id', 'month']).agg({'id':'count'})\n",
    "                    .rename(columns={'id':'messages_sent'})\n",
    "                   )\n",
    "messages_monthly"
   ]
  },
  {
   "cell_type": "markdown",
   "metadata": {},
   "source": [
    "#### Объем израсходованного интернет-трафика по месяцам"
   ]
  },
  {
   "cell_type": "code",
   "execution_count": 39,
   "metadata": {},
   "outputs": [
    {
     "data": {
      "text/html": [
       "<div>\n",
       "<style scoped>\n",
       "    .dataframe tbody tr th:only-of-type {\n",
       "        vertical-align: middle;\n",
       "    }\n",
       "\n",
       "    .dataframe tbody tr th {\n",
       "        vertical-align: top;\n",
       "    }\n",
       "\n",
       "    .dataframe thead th {\n",
       "        text-align: right;\n",
       "    }\n",
       "</style>\n",
       "<table border=\"1\" class=\"dataframe\">\n",
       "  <thead>\n",
       "    <tr style=\"text-align: right;\">\n",
       "      <th></th>\n",
       "      <th></th>\n",
       "      <th>gb_used</th>\n",
       "    </tr>\n",
       "    <tr>\n",
       "      <th>user_id</th>\n",
       "      <th>month</th>\n",
       "      <th></th>\n",
       "    </tr>\n",
       "  </thead>\n",
       "  <tbody>\n",
       "    <tr>\n",
       "      <th rowspan=\"5\" valign=\"top\">1000</th>\n",
       "      <th>5</th>\n",
       "      <td>3.0</td>\n",
       "    </tr>\n",
       "    <tr>\n",
       "      <th>6</th>\n",
       "      <td>23.0</td>\n",
       "    </tr>\n",
       "    <tr>\n",
       "      <th>7</th>\n",
       "      <td>14.0</td>\n",
       "    </tr>\n",
       "    <tr>\n",
       "      <th>8</th>\n",
       "      <td>14.0</td>\n",
       "    </tr>\n",
       "    <tr>\n",
       "      <th>9</th>\n",
       "      <td>15.0</td>\n",
       "    </tr>\n",
       "    <tr>\n",
       "      <th>...</th>\n",
       "      <th>...</th>\n",
       "      <td>...</td>\n",
       "    </tr>\n",
       "    <tr>\n",
       "      <th>1498</th>\n",
       "      <th>10</th>\n",
       "      <td>21.0</td>\n",
       "    </tr>\n",
       "    <tr>\n",
       "      <th rowspan=\"4\" valign=\"top\">1499</th>\n",
       "      <th>9</th>\n",
       "      <td>2.0</td>\n",
       "    </tr>\n",
       "    <tr>\n",
       "      <th>10</th>\n",
       "      <td>18.0</td>\n",
       "    </tr>\n",
       "    <tr>\n",
       "      <th>11</th>\n",
       "      <td>18.0</td>\n",
       "    </tr>\n",
       "    <tr>\n",
       "      <th>12</th>\n",
       "      <td>13.0</td>\n",
       "    </tr>\n",
       "  </tbody>\n",
       "</table>\n",
       "<p>3203 rows × 1 columns</p>\n",
       "</div>"
      ],
      "text/plain": [
       "               gb_used\n",
       "user_id month         \n",
       "1000    5          3.0\n",
       "        6         23.0\n",
       "        7         14.0\n",
       "        8         14.0\n",
       "        9         15.0\n",
       "...                ...\n",
       "1498    10        21.0\n",
       "1499    9          2.0\n",
       "        10        18.0\n",
       "        11        18.0\n",
       "        12        13.0\n",
       "\n",
       "[3203 rows x 1 columns]"
      ]
     },
     "execution_count": 39,
     "metadata": {},
     "output_type": "execute_result"
    }
   ],
   "source": [
    "# Создаем в таблице \"internet\" долполнительный столбец \"month\" с номерами месяцев, в которых были Интернет-соединения.\n",
    "# Группируем данные по столбцам \"user_id\" и \"month\", с расчетом ежемесячного Интернет-трафика;\n",
    "# переводим объем трафика в гигабайты, округляем суммы в большую сторону.\n",
    "# Просматриваем полученную таблицу.\n",
    "\n",
    "internet['month'] = internet['session_date'].dt.month\n",
    "internet_monthly = (np.ceil(internet.groupby(['user_id', 'month']).sum() / 1024)\n",
    "                    .rename(columns={'mb_used':'gb_used'})\n",
    "                   )\n",
    "internet_monthly"
   ]
  },
  {
   "cell_type": "markdown",
   "metadata": {},
   "source": [
    "#### Помесячная выручка с каждого пользователя"
   ]
  },
  {
   "cell_type": "markdown",
   "metadata": {},
   "source": [
    "Для расчета помесячной выручки нам необходимо объединить таблицы с данными об абонентах, звонках, сообщениях и Интернет-трафике."
   ]
  },
  {
   "cell_type": "code",
   "execution_count": 40,
   "metadata": {
    "scrolled": true
   },
   "outputs": [
    {
     "data": {
      "text/html": [
       "<div>\n",
       "<style scoped>\n",
       "    .dataframe tbody tr th:only-of-type {\n",
       "        vertical-align: middle;\n",
       "    }\n",
       "\n",
       "    .dataframe tbody tr th {\n",
       "        vertical-align: top;\n",
       "    }\n",
       "\n",
       "    .dataframe thead th {\n",
       "        text-align: right;\n",
       "    }\n",
       "</style>\n",
       "<table border=\"1\" class=\"dataframe\">\n",
       "  <thead>\n",
       "    <tr style=\"text-align: right;\">\n",
       "      <th></th>\n",
       "      <th>user_id</th>\n",
       "      <th>age</th>\n",
       "      <th>churn_date</th>\n",
       "      <th>city</th>\n",
       "      <th>first_name</th>\n",
       "      <th>last_name</th>\n",
       "      <th>reg_date</th>\n",
       "      <th>tariff</th>\n",
       "      <th>month</th>\n",
       "      <th>calls_made</th>\n",
       "      <th>minutes_used</th>\n",
       "      <th>messages_sent</th>\n",
       "      <th>gb_used</th>\n",
       "    </tr>\n",
       "  </thead>\n",
       "  <tbody>\n",
       "    <tr>\n",
       "      <th>0</th>\n",
       "      <td>1000</td>\n",
       "      <td>52</td>\n",
       "      <td>NaT</td>\n",
       "      <td>Краснодар</td>\n",
       "      <td>Рафаил</td>\n",
       "      <td>Верещагин</td>\n",
       "      <td>2018-05-25</td>\n",
       "      <td>ultra</td>\n",
       "      <td>5.0</td>\n",
       "      <td>22.0</td>\n",
       "      <td>159.0</td>\n",
       "      <td>22.0</td>\n",
       "      <td>3.0</td>\n",
       "    </tr>\n",
       "    <tr>\n",
       "      <th>1</th>\n",
       "      <td>1000</td>\n",
       "      <td>52</td>\n",
       "      <td>NaT</td>\n",
       "      <td>Краснодар</td>\n",
       "      <td>Рафаил</td>\n",
       "      <td>Верещагин</td>\n",
       "      <td>2018-05-25</td>\n",
       "      <td>ultra</td>\n",
       "      <td>6.0</td>\n",
       "      <td>43.0</td>\n",
       "      <td>172.0</td>\n",
       "      <td>60.0</td>\n",
       "      <td>23.0</td>\n",
       "    </tr>\n",
       "    <tr>\n",
       "      <th>2</th>\n",
       "      <td>1000</td>\n",
       "      <td>52</td>\n",
       "      <td>NaT</td>\n",
       "      <td>Краснодар</td>\n",
       "      <td>Рафаил</td>\n",
       "      <td>Верещагин</td>\n",
       "      <td>2018-05-25</td>\n",
       "      <td>ultra</td>\n",
       "      <td>7.0</td>\n",
       "      <td>47.0</td>\n",
       "      <td>340.0</td>\n",
       "      <td>75.0</td>\n",
       "      <td>14.0</td>\n",
       "    </tr>\n",
       "    <tr>\n",
       "      <th>3</th>\n",
       "      <td>1000</td>\n",
       "      <td>52</td>\n",
       "      <td>NaT</td>\n",
       "      <td>Краснодар</td>\n",
       "      <td>Рафаил</td>\n",
       "      <td>Верещагин</td>\n",
       "      <td>2018-05-25</td>\n",
       "      <td>ultra</td>\n",
       "      <td>8.0</td>\n",
       "      <td>52.0</td>\n",
       "      <td>408.0</td>\n",
       "      <td>81.0</td>\n",
       "      <td>14.0</td>\n",
       "    </tr>\n",
       "    <tr>\n",
       "      <th>4</th>\n",
       "      <td>1000</td>\n",
       "      <td>52</td>\n",
       "      <td>NaT</td>\n",
       "      <td>Краснодар</td>\n",
       "      <td>Рафаил</td>\n",
       "      <td>Верещагин</td>\n",
       "      <td>2018-05-25</td>\n",
       "      <td>ultra</td>\n",
       "      <td>9.0</td>\n",
       "      <td>58.0</td>\n",
       "      <td>466.0</td>\n",
       "      <td>57.0</td>\n",
       "      <td>15.0</td>\n",
       "    </tr>\n",
       "    <tr>\n",
       "      <th>...</th>\n",
       "      <td>...</td>\n",
       "      <td>...</td>\n",
       "      <td>...</td>\n",
       "      <td>...</td>\n",
       "      <td>...</td>\n",
       "      <td>...</td>\n",
       "      <td>...</td>\n",
       "      <td>...</td>\n",
       "      <td>...</td>\n",
       "      <td>...</td>\n",
       "      <td>...</td>\n",
       "      <td>...</td>\n",
       "      <td>...</td>\n",
       "    </tr>\n",
       "    <tr>\n",
       "      <th>3211</th>\n",
       "      <td>1498</td>\n",
       "      <td>68</td>\n",
       "      <td>2018-10-25</td>\n",
       "      <td>Владикавказ</td>\n",
       "      <td>Всеволод</td>\n",
       "      <td>Акимчин</td>\n",
       "      <td>2018-07-19</td>\n",
       "      <td>smart</td>\n",
       "      <td>10.0</td>\n",
       "      <td>41.0</td>\n",
       "      <td>247.0</td>\n",
       "      <td>42.0</td>\n",
       "      <td>21.0</td>\n",
       "    </tr>\n",
       "    <tr>\n",
       "      <th>3212</th>\n",
       "      <td>1499</td>\n",
       "      <td>35</td>\n",
       "      <td>NaT</td>\n",
       "      <td>Пермь</td>\n",
       "      <td>Гектор</td>\n",
       "      <td>Корнилов</td>\n",
       "      <td>2018-09-27</td>\n",
       "      <td>smart</td>\n",
       "      <td>9.0</td>\n",
       "      <td>9.0</td>\n",
       "      <td>70.0</td>\n",
       "      <td>11.0</td>\n",
       "      <td>2.0</td>\n",
       "    </tr>\n",
       "    <tr>\n",
       "      <th>3213</th>\n",
       "      <td>1499</td>\n",
       "      <td>35</td>\n",
       "      <td>NaT</td>\n",
       "      <td>Пермь</td>\n",
       "      <td>Гектор</td>\n",
       "      <td>Корнилов</td>\n",
       "      <td>2018-09-27</td>\n",
       "      <td>smart</td>\n",
       "      <td>10.0</td>\n",
       "      <td>68.0</td>\n",
       "      <td>449.0</td>\n",
       "      <td>48.0</td>\n",
       "      <td>18.0</td>\n",
       "    </tr>\n",
       "    <tr>\n",
       "      <th>3214</th>\n",
       "      <td>1499</td>\n",
       "      <td>35</td>\n",
       "      <td>NaT</td>\n",
       "      <td>Пермь</td>\n",
       "      <td>Гектор</td>\n",
       "      <td>Корнилов</td>\n",
       "      <td>2018-09-27</td>\n",
       "      <td>smart</td>\n",
       "      <td>11.0</td>\n",
       "      <td>74.0</td>\n",
       "      <td>612.0</td>\n",
       "      <td>59.0</td>\n",
       "      <td>18.0</td>\n",
       "    </tr>\n",
       "    <tr>\n",
       "      <th>3215</th>\n",
       "      <td>1499</td>\n",
       "      <td>35</td>\n",
       "      <td>NaT</td>\n",
       "      <td>Пермь</td>\n",
       "      <td>Гектор</td>\n",
       "      <td>Корнилов</td>\n",
       "      <td>2018-09-27</td>\n",
       "      <td>smart</td>\n",
       "      <td>12.0</td>\n",
       "      <td>69.0</td>\n",
       "      <td>492.0</td>\n",
       "      <td>66.0</td>\n",
       "      <td>13.0</td>\n",
       "    </tr>\n",
       "  </tbody>\n",
       "</table>\n",
       "<p>3216 rows × 13 columns</p>\n",
       "</div>"
      ],
      "text/plain": [
       "      user_id  age churn_date         city first_name  last_name   reg_date  \\\n",
       "0        1000   52        NaT    Краснодар     Рафаил  Верещагин 2018-05-25   \n",
       "1        1000   52        NaT    Краснодар     Рафаил  Верещагин 2018-05-25   \n",
       "2        1000   52        NaT    Краснодар     Рафаил  Верещагин 2018-05-25   \n",
       "3        1000   52        NaT    Краснодар     Рафаил  Верещагин 2018-05-25   \n",
       "4        1000   52        NaT    Краснодар     Рафаил  Верещагин 2018-05-25   \n",
       "...       ...  ...        ...          ...        ...        ...        ...   \n",
       "3211     1498   68 2018-10-25  Владикавказ   Всеволод    Акимчин 2018-07-19   \n",
       "3212     1499   35        NaT        Пермь     Гектор   Корнилов 2018-09-27   \n",
       "3213     1499   35        NaT        Пермь     Гектор   Корнилов 2018-09-27   \n",
       "3214     1499   35        NaT        Пермь     Гектор   Корнилов 2018-09-27   \n",
       "3215     1499   35        NaT        Пермь     Гектор   Корнилов 2018-09-27   \n",
       "\n",
       "     tariff  month  calls_made  minutes_used  messages_sent  gb_used  \n",
       "0     ultra    5.0        22.0         159.0           22.0      3.0  \n",
       "1     ultra    6.0        43.0         172.0           60.0     23.0  \n",
       "2     ultra    7.0        47.0         340.0           75.0     14.0  \n",
       "3     ultra    8.0        52.0         408.0           81.0     14.0  \n",
       "4     ultra    9.0        58.0         466.0           57.0     15.0  \n",
       "...     ...    ...         ...           ...            ...      ...  \n",
       "3211  smart   10.0        41.0         247.0           42.0     21.0  \n",
       "3212  smart    9.0         9.0          70.0           11.0      2.0  \n",
       "3213  smart   10.0        68.0         449.0           48.0     18.0  \n",
       "3214  smart   11.0        74.0         612.0           59.0     18.0  \n",
       "3215  smart   12.0        69.0         492.0           66.0     13.0  \n",
       "\n",
       "[3216 rows x 13 columns]"
      ]
     },
     "execution_count": 40,
     "metadata": {},
     "output_type": "execute_result"
    }
   ],
   "source": [
    "# Объединяем таблицы \"users\", \"calls_monthly\", \"messages_monthly\" и \"internet_monthly\"; обновляем индексы.\n",
    "# Просматриваем полученный датафрейм.\n",
    "\n",
    "data = users.merge(\n",
    "    (calls_monthly\n",
    "     .merge(messages_monthly, on=('user_id', 'month'), how='outer')\n",
    "     .merge(internet_monthly, on = ('user_id', 'month'), how='outer')\n",
    "     .reset_index()\n",
    "    )\n",
    "    , on='user_id', how='outer'\n",
    ")\n",
    "data"
   ]
  },
  {
   "cell_type": "markdown",
   "metadata": {},
   "source": [
    "Проверим количество уникальных пользователей в полученной таблице."
   ]
  },
  {
   "cell_type": "code",
   "execution_count": 41,
   "metadata": {},
   "outputs": [
    {
     "data": {
      "text/plain": [
       "500"
      ]
     },
     "execution_count": 41,
     "metadata": {},
     "output_type": "execute_result"
    }
   ],
   "source": [
    "data['user_id'].value_counts().count()"
   ]
  },
  {
   "cell_type": "markdown",
   "metadata": {},
   "source": [
    "Все в порядке, таблица составлена без ошибок."
   ]
  },
  {
   "cell_type": "markdown",
   "metadata": {},
   "source": [
    "Как видим, оба абонента подключили свои тарифы в декабре и в том же месяце отказались от услуг оператора, не воспользовавшись ни одной из услуг компании. Чтобы не удалять эти строки, впишем номер месяца - 12."
   ]
  },
  {
   "cell_type": "code",
   "execution_count": 42,
   "metadata": {},
   "outputs": [
    {
     "data": {
      "text/html": [
       "<div>\n",
       "<style scoped>\n",
       "    .dataframe tbody tr th:only-of-type {\n",
       "        vertical-align: middle;\n",
       "    }\n",
       "\n",
       "    .dataframe tbody tr th {\n",
       "        vertical-align: top;\n",
       "    }\n",
       "\n",
       "    .dataframe thead th {\n",
       "        text-align: right;\n",
       "    }\n",
       "</style>\n",
       "<table border=\"1\" class=\"dataframe\">\n",
       "  <thead>\n",
       "    <tr style=\"text-align: right;\">\n",
       "      <th></th>\n",
       "      <th>user_id</th>\n",
       "      <th>age</th>\n",
       "      <th>churn_date</th>\n",
       "      <th>city</th>\n",
       "      <th>first_name</th>\n",
       "      <th>last_name</th>\n",
       "      <th>reg_date</th>\n",
       "      <th>tariff</th>\n",
       "      <th>month</th>\n",
       "      <th>calls_made</th>\n",
       "      <th>minutes_used</th>\n",
       "      <th>messages_sent</th>\n",
       "      <th>gb_used</th>\n",
       "    </tr>\n",
       "  </thead>\n",
       "  <tbody>\n",
       "  </tbody>\n",
       "</table>\n",
       "</div>"
      ],
      "text/plain": [
       "Empty DataFrame\n",
       "Columns: [user_id, age, churn_date, city, first_name, last_name, reg_date, tariff, month, calls_made, minutes_used, messages_sent, gb_used]\n",
       "Index: []"
      ]
     },
     "execution_count": 42,
     "metadata": {},
     "output_type": "execute_result"
    }
   ],
   "source": [
    "# Заполняем пропуски в столбце \"month\".\n",
    "# Снова проверяем наличие строк с пропущенными данными в столбце \"month\".\n",
    "\n",
    "data['month'] = data['month'].fillna(12)\n",
    "data[data['month'].isna()]"
   ]
  },
  {
   "cell_type": "markdown",
   "metadata": {},
   "source": [
    "Пропуски в остальных столбцах заменим нулями, иначе они могут исказить результаты анализа."
   ]
  },
  {
   "cell_type": "code",
   "execution_count": 43,
   "metadata": {},
   "outputs": [
    {
     "name": "stdout",
     "output_type": "stream",
     "text": [
      "Осталось пропущенных значений: 0\n"
     ]
    }
   ],
   "source": [
    "# Заменяем пропущенные значения на нули.\n",
    "# Проверяем количество пропусков.\n",
    "\n",
    "data = data.fillna(0)\n",
    "print('Осталось пропущенных значений:', data.isna().sum().sum())"
   ]
  },
  {
   "cell_type": "markdown",
   "metadata": {},
   "source": [
    "Просмотрим еще раз таблицу с тарифами и составим функцию для создания и заполнения столбца с данными о помесячной выручке от каждого абонента."
   ]
  },
  {
   "cell_type": "code",
   "execution_count": 44,
   "metadata": {},
   "outputs": [
    {
     "data": {
      "text/html": [
       "<div>\n",
       "<style scoped>\n",
       "    .dataframe tbody tr th:only-of-type {\n",
       "        vertical-align: middle;\n",
       "    }\n",
       "\n",
       "    .dataframe tbody tr th {\n",
       "        vertical-align: top;\n",
       "    }\n",
       "\n",
       "    .dataframe thead th {\n",
       "        text-align: right;\n",
       "    }\n",
       "</style>\n",
       "<table border=\"1\" class=\"dataframe\">\n",
       "  <thead>\n",
       "    <tr style=\"text-align: right;\">\n",
       "      <th></th>\n",
       "      <th>messages_included</th>\n",
       "      <th>mb_per_month_included</th>\n",
       "      <th>minutes_included</th>\n",
       "      <th>rub_monthly_fee</th>\n",
       "      <th>rub_per_gb</th>\n",
       "      <th>rub_per_message</th>\n",
       "      <th>rub_per_minute</th>\n",
       "      <th>tariff_name</th>\n",
       "    </tr>\n",
       "  </thead>\n",
       "  <tbody>\n",
       "    <tr>\n",
       "      <th>0</th>\n",
       "      <td>50</td>\n",
       "      <td>15360</td>\n",
       "      <td>500</td>\n",
       "      <td>550</td>\n",
       "      <td>200</td>\n",
       "      <td>3</td>\n",
       "      <td>3</td>\n",
       "      <td>smart</td>\n",
       "    </tr>\n",
       "    <tr>\n",
       "      <th>1</th>\n",
       "      <td>1000</td>\n",
       "      <td>30720</td>\n",
       "      <td>3000</td>\n",
       "      <td>1950</td>\n",
       "      <td>150</td>\n",
       "      <td>1</td>\n",
       "      <td>1</td>\n",
       "      <td>ultra</td>\n",
       "    </tr>\n",
       "  </tbody>\n",
       "</table>\n",
       "</div>"
      ],
      "text/plain": [
       "   messages_included  mb_per_month_included  minutes_included  \\\n",
       "0                 50                  15360               500   \n",
       "1               1000                  30720              3000   \n",
       "\n",
       "   rub_monthly_fee  rub_per_gb  rub_per_message  rub_per_minute tariff_name  \n",
       "0              550         200                3               3       smart  \n",
       "1             1950         150                1               1       ultra  "
      ]
     },
     "execution_count": 44,
     "metadata": {},
     "output_type": "execute_result"
    }
   ],
   "source": [
    "# Тарифные планы оператора мобильной связи\n",
    "\n",
    "tariffs"
   ]
  },
  {
   "cell_type": "code",
   "execution_count": 45,
   "metadata": {},
   "outputs": [],
   "source": [
    "# Функция рассчитывает суммарную выручку абонента за конкретный месяц.\n",
    "# В зависимости от тарифного плана из суммарной продолжительности звонков, количества сообщений и объема Интернет-трафика \n",
    "# вычитаются соответствующие бесплатные лимиты.\n",
    "# Остатки умножаются на соответствующую стоимость, согласно тарифному плану, и (в случае положительности) складываются.\n",
    "# Полученная сумма добавляется к ежемесячной абонентской плате.\n",
    "\n",
    "def revenue(row):\n",
    "    \n",
    "    total = 0\n",
    "    \n",
    "    if row['tariff'] == 'smart':\n",
    "        minutes = (row['minutes_used'] - 500) * 3\n",
    "        messages = (row['messages_sent'] - 50) * 3\n",
    "        gb = (row['gb_used'] - 15360 / 1024) * 200\n",
    "        fee = 550\n",
    "    else:\n",
    "        minutes = (row['minutes_used'] - 3000) * 1\n",
    "        messages = (row['messages_sent'] - 1000) * 1\n",
    "        gb = (row['gb_used'] - 30720 / 1024) * 150\n",
    "        fee = 1950\n",
    "    \n",
    "    total += fee\n",
    "    \n",
    "    for i in [minutes, messages, gb]:\n",
    "        if i > 0:\n",
    "            total += i\n",
    "    \n",
    "    return total"
   ]
  },
  {
   "cell_type": "code",
   "execution_count": 46,
   "metadata": {
    "scrolled": false
   },
   "outputs": [
    {
     "data": {
      "text/html": [
       "<div>\n",
       "<style scoped>\n",
       "    .dataframe tbody tr th:only-of-type {\n",
       "        vertical-align: middle;\n",
       "    }\n",
       "\n",
       "    .dataframe tbody tr th {\n",
       "        vertical-align: top;\n",
       "    }\n",
       "\n",
       "    .dataframe thead th {\n",
       "        text-align: right;\n",
       "    }\n",
       "</style>\n",
       "<table border=\"1\" class=\"dataframe\">\n",
       "  <thead>\n",
       "    <tr style=\"text-align: right;\">\n",
       "      <th></th>\n",
       "      <th>user_id</th>\n",
       "      <th>age</th>\n",
       "      <th>churn_date</th>\n",
       "      <th>city</th>\n",
       "      <th>first_name</th>\n",
       "      <th>last_name</th>\n",
       "      <th>reg_date</th>\n",
       "      <th>tariff</th>\n",
       "      <th>month</th>\n",
       "      <th>calls_made</th>\n",
       "      <th>minutes_used</th>\n",
       "      <th>messages_sent</th>\n",
       "      <th>gb_used</th>\n",
       "      <th>revenue</th>\n",
       "    </tr>\n",
       "  </thead>\n",
       "  <tbody>\n",
       "    <tr>\n",
       "      <th>0</th>\n",
       "      <td>1000</td>\n",
       "      <td>52</td>\n",
       "      <td>0</td>\n",
       "      <td>Краснодар</td>\n",
       "      <td>Рафаил</td>\n",
       "      <td>Верещагин</td>\n",
       "      <td>2018-05-25</td>\n",
       "      <td>ultra</td>\n",
       "      <td>5.0</td>\n",
       "      <td>22.0</td>\n",
       "      <td>159.0</td>\n",
       "      <td>22.0</td>\n",
       "      <td>3.0</td>\n",
       "      <td>1950.0</td>\n",
       "    </tr>\n",
       "    <tr>\n",
       "      <th>1</th>\n",
       "      <td>1000</td>\n",
       "      <td>52</td>\n",
       "      <td>0</td>\n",
       "      <td>Краснодар</td>\n",
       "      <td>Рафаил</td>\n",
       "      <td>Верещагин</td>\n",
       "      <td>2018-05-25</td>\n",
       "      <td>ultra</td>\n",
       "      <td>6.0</td>\n",
       "      <td>43.0</td>\n",
       "      <td>172.0</td>\n",
       "      <td>60.0</td>\n",
       "      <td>23.0</td>\n",
       "      <td>1950.0</td>\n",
       "    </tr>\n",
       "    <tr>\n",
       "      <th>2</th>\n",
       "      <td>1000</td>\n",
       "      <td>52</td>\n",
       "      <td>0</td>\n",
       "      <td>Краснодар</td>\n",
       "      <td>Рафаил</td>\n",
       "      <td>Верещагин</td>\n",
       "      <td>2018-05-25</td>\n",
       "      <td>ultra</td>\n",
       "      <td>7.0</td>\n",
       "      <td>47.0</td>\n",
       "      <td>340.0</td>\n",
       "      <td>75.0</td>\n",
       "      <td>14.0</td>\n",
       "      <td>1950.0</td>\n",
       "    </tr>\n",
       "    <tr>\n",
       "      <th>3</th>\n",
       "      <td>1000</td>\n",
       "      <td>52</td>\n",
       "      <td>0</td>\n",
       "      <td>Краснодар</td>\n",
       "      <td>Рафаил</td>\n",
       "      <td>Верещагин</td>\n",
       "      <td>2018-05-25</td>\n",
       "      <td>ultra</td>\n",
       "      <td>8.0</td>\n",
       "      <td>52.0</td>\n",
       "      <td>408.0</td>\n",
       "      <td>81.0</td>\n",
       "      <td>14.0</td>\n",
       "      <td>1950.0</td>\n",
       "    </tr>\n",
       "    <tr>\n",
       "      <th>4</th>\n",
       "      <td>1000</td>\n",
       "      <td>52</td>\n",
       "      <td>0</td>\n",
       "      <td>Краснодар</td>\n",
       "      <td>Рафаил</td>\n",
       "      <td>Верещагин</td>\n",
       "      <td>2018-05-25</td>\n",
       "      <td>ultra</td>\n",
       "      <td>9.0</td>\n",
       "      <td>58.0</td>\n",
       "      <td>466.0</td>\n",
       "      <td>57.0</td>\n",
       "      <td>15.0</td>\n",
       "      <td>1950.0</td>\n",
       "    </tr>\n",
       "    <tr>\n",
       "      <th>...</th>\n",
       "      <td>...</td>\n",
       "      <td>...</td>\n",
       "      <td>...</td>\n",
       "      <td>...</td>\n",
       "      <td>...</td>\n",
       "      <td>...</td>\n",
       "      <td>...</td>\n",
       "      <td>...</td>\n",
       "      <td>...</td>\n",
       "      <td>...</td>\n",
       "      <td>...</td>\n",
       "      <td>...</td>\n",
       "      <td>...</td>\n",
       "      <td>...</td>\n",
       "    </tr>\n",
       "    <tr>\n",
       "      <th>3211</th>\n",
       "      <td>1498</td>\n",
       "      <td>68</td>\n",
       "      <td>2018-10-25 00:00:00</td>\n",
       "      <td>Владикавказ</td>\n",
       "      <td>Всеволод</td>\n",
       "      <td>Акимчин</td>\n",
       "      <td>2018-07-19</td>\n",
       "      <td>smart</td>\n",
       "      <td>10.0</td>\n",
       "      <td>41.0</td>\n",
       "      <td>247.0</td>\n",
       "      <td>42.0</td>\n",
       "      <td>21.0</td>\n",
       "      <td>1750.0</td>\n",
       "    </tr>\n",
       "    <tr>\n",
       "      <th>3212</th>\n",
       "      <td>1499</td>\n",
       "      <td>35</td>\n",
       "      <td>0</td>\n",
       "      <td>Пермь</td>\n",
       "      <td>Гектор</td>\n",
       "      <td>Корнилов</td>\n",
       "      <td>2018-09-27</td>\n",
       "      <td>smart</td>\n",
       "      <td>9.0</td>\n",
       "      <td>9.0</td>\n",
       "      <td>70.0</td>\n",
       "      <td>11.0</td>\n",
       "      <td>2.0</td>\n",
       "      <td>550.0</td>\n",
       "    </tr>\n",
       "    <tr>\n",
       "      <th>3213</th>\n",
       "      <td>1499</td>\n",
       "      <td>35</td>\n",
       "      <td>0</td>\n",
       "      <td>Пермь</td>\n",
       "      <td>Гектор</td>\n",
       "      <td>Корнилов</td>\n",
       "      <td>2018-09-27</td>\n",
       "      <td>smart</td>\n",
       "      <td>10.0</td>\n",
       "      <td>68.0</td>\n",
       "      <td>449.0</td>\n",
       "      <td>48.0</td>\n",
       "      <td>18.0</td>\n",
       "      <td>1150.0</td>\n",
       "    </tr>\n",
       "    <tr>\n",
       "      <th>3214</th>\n",
       "      <td>1499</td>\n",
       "      <td>35</td>\n",
       "      <td>0</td>\n",
       "      <td>Пермь</td>\n",
       "      <td>Гектор</td>\n",
       "      <td>Корнилов</td>\n",
       "      <td>2018-09-27</td>\n",
       "      <td>smart</td>\n",
       "      <td>11.0</td>\n",
       "      <td>74.0</td>\n",
       "      <td>612.0</td>\n",
       "      <td>59.0</td>\n",
       "      <td>18.0</td>\n",
       "      <td>1513.0</td>\n",
       "    </tr>\n",
       "    <tr>\n",
       "      <th>3215</th>\n",
       "      <td>1499</td>\n",
       "      <td>35</td>\n",
       "      <td>0</td>\n",
       "      <td>Пермь</td>\n",
       "      <td>Гектор</td>\n",
       "      <td>Корнилов</td>\n",
       "      <td>2018-09-27</td>\n",
       "      <td>smart</td>\n",
       "      <td>12.0</td>\n",
       "      <td>69.0</td>\n",
       "      <td>492.0</td>\n",
       "      <td>66.0</td>\n",
       "      <td>13.0</td>\n",
       "      <td>598.0</td>\n",
       "    </tr>\n",
       "  </tbody>\n",
       "</table>\n",
       "<p>3216 rows × 14 columns</p>\n",
       "</div>"
      ],
      "text/plain": [
       "      user_id  age           churn_date         city first_name  last_name  \\\n",
       "0        1000   52                    0    Краснодар     Рафаил  Верещагин   \n",
       "1        1000   52                    0    Краснодар     Рафаил  Верещагин   \n",
       "2        1000   52                    0    Краснодар     Рафаил  Верещагин   \n",
       "3        1000   52                    0    Краснодар     Рафаил  Верещагин   \n",
       "4        1000   52                    0    Краснодар     Рафаил  Верещагин   \n",
       "...       ...  ...                  ...          ...        ...        ...   \n",
       "3211     1498   68  2018-10-25 00:00:00  Владикавказ   Всеволод    Акимчин   \n",
       "3212     1499   35                    0        Пермь     Гектор   Корнилов   \n",
       "3213     1499   35                    0        Пермь     Гектор   Корнилов   \n",
       "3214     1499   35                    0        Пермь     Гектор   Корнилов   \n",
       "3215     1499   35                    0        Пермь     Гектор   Корнилов   \n",
       "\n",
       "       reg_date tariff  month  calls_made  minutes_used  messages_sent  \\\n",
       "0    2018-05-25  ultra    5.0        22.0         159.0           22.0   \n",
       "1    2018-05-25  ultra    6.0        43.0         172.0           60.0   \n",
       "2    2018-05-25  ultra    7.0        47.0         340.0           75.0   \n",
       "3    2018-05-25  ultra    8.0        52.0         408.0           81.0   \n",
       "4    2018-05-25  ultra    9.0        58.0         466.0           57.0   \n",
       "...         ...    ...    ...         ...           ...            ...   \n",
       "3211 2018-07-19  smart   10.0        41.0         247.0           42.0   \n",
       "3212 2018-09-27  smart    9.0         9.0          70.0           11.0   \n",
       "3213 2018-09-27  smart   10.0        68.0         449.0           48.0   \n",
       "3214 2018-09-27  smart   11.0        74.0         612.0           59.0   \n",
       "3215 2018-09-27  smart   12.0        69.0         492.0           66.0   \n",
       "\n",
       "      gb_used  revenue  \n",
       "0         3.0   1950.0  \n",
       "1        23.0   1950.0  \n",
       "2        14.0   1950.0  \n",
       "3        14.0   1950.0  \n",
       "4        15.0   1950.0  \n",
       "...       ...      ...  \n",
       "3211     21.0   1750.0  \n",
       "3212      2.0    550.0  \n",
       "3213     18.0   1150.0  \n",
       "3214     18.0   1513.0  \n",
       "3215     13.0    598.0  \n",
       "\n",
       "[3216 rows x 14 columns]"
      ]
     },
     "execution_count": 46,
     "metadata": {},
     "output_type": "execute_result"
    }
   ],
   "source": [
    "# Создаем столбец с выручкой \"revenue\", к которому применяется функция revenue().\n",
    "# Просматриваем полученную таблицу.\n",
    "\n",
    "data['revenue'] = data.apply(revenue, axis=1)\n",
    "data"
   ]
  },
  {
   "cell_type": "markdown",
   "metadata": {},
   "source": [
    "Таблица полностью готова к анализу."
   ]
  },
  {
   "cell_type": "markdown",
   "metadata": {},
   "source": [
    "## Анализ данных"
   ]
  },
  {
   "cell_type": "markdown",
   "metadata": {},
   "source": [
    "Посчитаем, сколько каждому абоненту требуется минут, сообщений и гигабайтов в среднем в месяц, а также среднемесячную выручку компании от каждого абонента."
   ]
  },
  {
   "cell_type": "code",
   "execution_count": 47,
   "metadata": {},
   "outputs": [
    {
     "data": {
      "text/html": [
       "<div>\n",
       "<style scoped>\n",
       "    .dataframe tbody tr th:only-of-type {\n",
       "        vertical-align: middle;\n",
       "    }\n",
       "\n",
       "    .dataframe tbody tr th {\n",
       "        vertical-align: top;\n",
       "    }\n",
       "\n",
       "    .dataframe thead th {\n",
       "        text-align: right;\n",
       "    }\n",
       "</style>\n",
       "<table border=\"1\" class=\"dataframe\">\n",
       "  <thead>\n",
       "    <tr style=\"text-align: right;\">\n",
       "      <th></th>\n",
       "      <th>tariff</th>\n",
       "      <th>minutes_used</th>\n",
       "      <th>messages_sent</th>\n",
       "      <th>gb_used</th>\n",
       "      <th>revenue</th>\n",
       "    </tr>\n",
       "    <tr>\n",
       "      <th>user_id</th>\n",
       "      <th></th>\n",
       "      <th></th>\n",
       "      <th></th>\n",
       "      <th></th>\n",
       "      <th></th>\n",
       "    </tr>\n",
       "  </thead>\n",
       "  <tbody>\n",
       "    <tr>\n",
       "      <th>1000</th>\n",
       "      <td>ultra</td>\n",
       "      <td>320.75</td>\n",
       "      <td>62.0</td>\n",
       "      <td>13.62</td>\n",
       "      <td>1950.00</td>\n",
       "    </tr>\n",
       "    <tr>\n",
       "      <th>1001</th>\n",
       "      <td>smart</td>\n",
       "      <td>422.00</td>\n",
       "      <td>0.0</td>\n",
       "      <td>16.00</td>\n",
       "      <td>850.00</td>\n",
       "    </tr>\n",
       "    <tr>\n",
       "      <th>1002</th>\n",
       "      <td>smart</td>\n",
       "      <td>216.71</td>\n",
       "      <td>10.0</td>\n",
       "      <td>16.71</td>\n",
       "      <td>1035.71</td>\n",
       "    </tr>\n",
       "    <tr>\n",
       "      <th>1003</th>\n",
       "      <td>ultra</td>\n",
       "      <td>764.40</td>\n",
       "      <td>76.0</td>\n",
       "      <td>11.80</td>\n",
       "      <td>1950.00</td>\n",
       "    </tr>\n",
       "    <tr>\n",
       "      <th>1004</th>\n",
       "      <td>ultra</td>\n",
       "      <td>123.38</td>\n",
       "      <td>149.0</td>\n",
       "      <td>18.75</td>\n",
       "      <td>1950.00</td>\n",
       "    </tr>\n",
       "    <tr>\n",
       "      <th>...</th>\n",
       "      <td>...</td>\n",
       "      <td>...</td>\n",
       "      <td>...</td>\n",
       "      <td>...</td>\n",
       "      <td>...</td>\n",
       "    </tr>\n",
       "    <tr>\n",
       "      <th>1495</th>\n",
       "      <td>ultra</td>\n",
       "      <td>784.00</td>\n",
       "      <td>68.0</td>\n",
       "      <td>25.40</td>\n",
       "      <td>2310.00</td>\n",
       "    </tr>\n",
       "    <tr>\n",
       "      <th>1496</th>\n",
       "      <td>smart</td>\n",
       "      <td>498.67</td>\n",
       "      <td>39.0</td>\n",
       "      <td>22.50</td>\n",
       "      <td>2362.58</td>\n",
       "    </tr>\n",
       "    <tr>\n",
       "      <th>1497</th>\n",
       "      <td>smart</td>\n",
       "      <td>468.67</td>\n",
       "      <td>17.0</td>\n",
       "      <td>15.33</td>\n",
       "      <td>928.33</td>\n",
       "    </tr>\n",
       "    <tr>\n",
       "      <th>1498</th>\n",
       "      <td>smart</td>\n",
       "      <td>323.25</td>\n",
       "      <td>42.0</td>\n",
       "      <td>18.75</td>\n",
       "      <td>1659.00</td>\n",
       "    </tr>\n",
       "    <tr>\n",
       "      <th>1499</th>\n",
       "      <td>smart</td>\n",
       "      <td>405.75</td>\n",
       "      <td>46.0</td>\n",
       "      <td>12.75</td>\n",
       "      <td>952.75</td>\n",
       "    </tr>\n",
       "  </tbody>\n",
       "</table>\n",
       "<p>500 rows × 5 columns</p>\n",
       "</div>"
      ],
      "text/plain": [
       "        tariff  minutes_used  messages_sent  gb_used  revenue\n",
       "user_id                                                      \n",
       "1000     ultra        320.75           62.0    13.62  1950.00\n",
       "1001     smart        422.00            0.0    16.00   850.00\n",
       "1002     smart        216.71           10.0    16.71  1035.71\n",
       "1003     ultra        764.40           76.0    11.80  1950.00\n",
       "1004     ultra        123.38          149.0    18.75  1950.00\n",
       "...        ...           ...            ...      ...      ...\n",
       "1495     ultra        784.00           68.0    25.40  2310.00\n",
       "1496     smart        498.67           39.0    22.50  2362.58\n",
       "1497     smart        468.67           17.0    15.33   928.33\n",
       "1498     smart        323.25           42.0    18.75  1659.00\n",
       "1499     smart        405.75           46.0    12.75   952.75\n",
       "\n",
       "[500 rows x 5 columns]"
      ]
     },
     "execution_count": 47,
     "metadata": {},
     "output_type": "execute_result"
    }
   ],
   "source": [
    "# Формируем две сводные таблицы:\n",
    "# одну с данными по услугам и выручке, другую - с данными о тарифных планах, по каждому пользователю (абоненту).\n",
    "# Соединяем сводные таблицы в одну по столбцу \"user_id\", обновляем индексы.\n",
    "# Просматриваем полученный датафрейм.\n",
    "\n",
    "data_pt_services = data.pivot_table(index='user_id', \n",
    "                                    values=['minutes_used', 'messages_sent', 'gb_used', 'revenue'])\n",
    "data_pt_tariff = data.pivot_table(index='user_id', values='tariff', aggfunc='first')\n",
    "data_pt = data_pt_services.merge(data_pt_tariff, on='user_id')\n",
    "data_pt = data_pt.reindex(columns=['tariff', 'minutes_used', 'messages_sent', 'gb_used', 'revenue'])\n",
    "data_pt.round(2)"
   ]
  },
  {
   "cell_type": "markdown",
   "metadata": {},
   "source": [
    "### Средний объем услуг на абонента каждого тарифа"
   ]
  },
  {
   "cell_type": "markdown",
   "metadata": {},
   "source": [
    "Посчитаем количество и долю абонентов каждого тарифа."
   ]
  },
  {
   "cell_type": "code",
   "execution_count": 48,
   "metadata": {},
   "outputs": [
    {
     "name": "stdout",
     "output_type": "stream",
     "text": [
      "Абонентов тарифа \"smart\": 351 (70%)\n",
      "Абонентов тарифа \"ultra\": 149 (30%)\n"
     ]
    }
   ],
   "source": [
    "# Количество абонентов каждого из тарифов (\"smart\" и \"ultra\")\n",
    "\n",
    "print(f'Абонентов тарифа \"smart\": {(data_pt[\"tariff\"] == \"smart\").sum()} '\n",
    "      f'({(data_pt[\"tariff\"] == \"smart\").mean():.0%})')\n",
    "print(f'Абонентов тарифа \"ultra\": {(data_pt[\"tariff\"] == \"ultra\").sum()} '\n",
    "      f'({(data_pt[\"tariff\"] == \"ultra\").mean():.0%})')"
   ]
  },
  {
   "cell_type": "markdown",
   "metadata": {},
   "source": [
    "Теперь вычислим объем и долю оказанных услуг в каждом из тарифов."
   ]
  },
  {
   "cell_type": "code",
   "execution_count": 49,
   "metadata": {},
   "outputs": [
    {
     "name": "stdout",
     "output_type": "stream",
     "text": [
      "Пользование услугами связи в тарифе \"smart\", тыс. звонков: 130.3 (64%)\n",
      "Пользование услугами связи в тарифе \"ultra\", тыс. звонков: 72.3 (36%)\n",
      "\n",
      "Пользование услугами связи в тарифе \"smart\", тыс. часов: 14.7 (64%)\n",
      "Пользование услугами связи в тарифе \"ultra\", тыс. часов: 8.2 (36%)\n",
      "\n",
      "Средняя продолжительность звонка в тарифе \"smart\", минут: 6.7\n",
      "Средняя продолжительность звонка в тарифе \"ultra\", минут: 6.8\n",
      "\n",
      "Пользование услугами СМС в тарифе \"smart\", тыс. сообщений: 74.4 (60%)\n",
      "Пользование услугами СМС в тарифе \"ultra\", тыс. сообщений: 48.6 (40%)\n",
      "\n",
      "Пользование услугами Интернета в тарифе \"smart\", тыс. соединений: 111.5 (75%)\n",
      "Пользование услугами Интернета в тарифе \"ultra\", тыс. соединений: 37.9 (25%)\n",
      "\n",
      "Пользование услугами Интернета в тарифе \"smart\", Тб: 34.5 (65%)\n",
      "Пользование услугами Интернета в тарифе \"ultra\", Тб: 18.3 (35%)\n",
      "\n",
      "Средняя продолжительность Интернет-соединения в тарифе \"smart\", Мб: 323.9\n",
      "Средняя продолжительность Интернет-соединения в тарифе \"ultra\", Мб: 506.6\n"
     ]
    }
   ],
   "source": [
    "# Объем оказанных услуг в каждом из тарифов:\n",
    "# количество и продолжительность звонков, количество сообщений, количество Интернет-соединений и объем трафика\n",
    "\n",
    "calls_pt = calls.merge(users, on='user_id', how='outer')\n",
    "messages_pt = messages.merge(users, on='user_id', how='outer')\n",
    "internet_pt = internet.merge(users, on='user_id', how='outer')\n",
    "\n",
    "calls_s = calls_pt.query('tariff == \"smart\"')[\"duration\"].count()\n",
    "calls_u = calls_pt.query('tariff == \"ultra\"')[\"duration\"].count()\n",
    "\n",
    "mins_s = calls_pt.query('tariff == \"smart\"')[\"duration\"].sum()\n",
    "mins_u = calls_pt.query('tariff == \"ultra\"')[\"duration\"].sum()\n",
    "\n",
    "sms_s = messages_pt.query('tariff == \"smart\"')[\"id\"].count()\n",
    "sms_u = messages_pt.query('tariff == \"ultra\"')[\"id\"].count()\n",
    "\n",
    "int_s = internet_pt.query('tariff == \"smart\"')[\"mb_used\"].count()\n",
    "int_u = internet_pt.query('tariff == \"ultra\"')[\"mb_used\"].count()\n",
    "\n",
    "mb_s = internet_pt.query('tariff == \"smart\"')[\"mb_used\"].sum()\n",
    "mb_u = internet_pt.query('tariff == \"ultra\"')[\"mb_used\"].sum()\n",
    "\n",
    "print(f'Пользование услугами связи в тарифе \"smart\", тыс. звонков: '\n",
    "      f'{(calls_s / 1000):.1f} ({(calls_s/(calls_s + calls_u)):.0%})')\n",
    "print(f'Пользование услугами связи в тарифе \"ultra\", тыс. звонков: '\n",
    "      f'{(calls_u / 1000):.1f} ({(calls_u/(calls_s + calls_u)):.0%})')\n",
    "\n",
    "print(f'\\nПользование услугами связи в тарифе \"smart\", тыс. часов: '\n",
    "      f'{(mins_s / 60000):.1f} ({(mins_s/(mins_s + mins_u)):.0%})')\n",
    "print(f'Пользование услугами связи в тарифе \"ultra\", тыс. часов: '\n",
    "      f'{(mins_u / 60000):.1f} ({(mins_u/(mins_s + mins_u)):.0%})')\n",
    "\n",
    "print(f'\\nСредняя продолжительность звонка в тарифе \"smart\", минут: {(mins_s / calls_s):.1f}')\n",
    "print(f'Средняя продолжительность звонка в тарифе \"ultra\", минут: {(mins_u / calls_u):.1f}')\n",
    "\n",
    "print(f'\\nПользование услугами СМС в тарифе \"smart\", тыс. сообщений: '\n",
    "      f'{(sms_s / 1000):.1f} ({(sms_s/(sms_s + sms_u)):.0%})')\n",
    "print(f'Пользование услугами СМС в тарифе \"ultra\", тыс. сообщений: '\n",
    "      f'{(sms_u / 1000):.1f} ({(sms_u/(sms_s + sms_u)):.0%})')\n",
    "\n",
    "print(f'\\nПользование услугами Интернета в тарифе \"smart\", тыс. соединений: '\n",
    "      f'{(int_s / 1000):.1f} ({(int_s/(int_s + int_u)):.0%})')\n",
    "print(f'Пользование услугами Интернета в тарифе \"ultra\", тыс. соединений: '\n",
    "      f'{(int_u / 1000):.1f} ({(int_u/(int_s + int_u)):.0%})')\n",
    "\n",
    "print(f'\\nПользование услугами Интернета в тарифе \"smart\", Тб: '\n",
    "      f'{(mb_s / (1024 ** 2)):.1f} ({(mb_s/(mb_s + mb_u)):.0%})')\n",
    "print(f'Пользование услугами Интернета в тарифе \"ultra\", Тб: '\n",
    "      f'{(mb_u / (1024 ** 2)):.1f} ({(mb_u/(mb_s + mb_u)):.0%})')\n",
    "\n",
    "print(f'\\nСредняя продолжительность Интернет-соединения в тарифе \"smart\", Мб: {(mb_s / int_s):.1f}')\n",
    "print(f'Средняя продолжительность Интернет-соединения в тарифе \"ultra\", Мб: {(mb_u / int_u):.1f}')"
   ]
  },
  {
   "cell_type": "markdown",
   "metadata": {},
   "source": [
    "Полученные данные говорят о том, что:\n",
    "- звонков, приходящихся на одного абонента тарифа \"ultra\" в среднем на 31% больше, чем на абонента тарифа \"smart\" ((36/30) / (64/70));\n",
    "- примерно во столько же раз больше средняя пролжительность всех звонков, приходящаяся на одного абонента тарифа \"ultra\";\n",
    "- поэтому средняя продолжительность одного звонка на обоих тарифах примерно одинакова - около 6 минут 45 секунд;\n",
    "- сообщений, приходящихся на одного абонента тарифа \"ultra\" в среднем на 56% больше, чем на абонента тарифа \"smart\" ((40/30) / (60/70));\n",
    "- выходов в Интернет, приходящихся на одного абонента тарифа \"ultra\" в среднем на 22% меньше, чем на абонента тарифа \"smart\" ((25/30) / (75/70));\n",
    "- при этом средний объем Интернет-трафика, приходящийся на одного абонента тарифа \"ultra\", наоборот - больше на 26% ((35/30) / (65/70));\n",
    "- в итоге средний объем Интернет-трафика, приходящийся на одно соединение на тарифе \"ultra\" (полгигабайта), более чем в 1,5 раза больше, чем на тарифе \"smart\" (треть гигабайта)."
   ]
  },
  {
   "cell_type": "markdown",
   "metadata": {},
   "source": [
    "_Выводы_\n",
    "\n",
    "1. Абонент тарифа \"ultra\" совершает в среднем на треть больше звонков, чем абонент \"smart\", при этом средний разговор у них длится примерно одинаково.\n",
    "2. Абонент тарифа \"ultra\" отправляет в среднем в полтора раза больше сообщений, чем абонент \"smart\".\n",
    "3. Абонент тарифа \"ultra\" на четверть реже осуществляет Интернет-соединения, чем абонент \"smart\", однако дольше остается онлайн, и на каждое такое соединение уходит в полтора раза больше трафика."
   ]
  },
  {
   "cell_type": "markdown",
   "metadata": {},
   "source": [
    "### Корреляция между услугами и зависимость выручки от каждой из услуг"
   ]
  },
  {
   "cell_type": "markdown",
   "metadata": {},
   "source": [
    "Выясним, есть ли корреляция между объемами потребления разных типов услуг, а также зависимость выручки от них, при каждом из тарифов."
   ]
  },
  {
   "cell_type": "code",
   "execution_count": 50,
   "metadata": {},
   "outputs": [
    {
     "data": {
      "text/html": [
       "<div>\n",
       "<style scoped>\n",
       "    .dataframe tbody tr th:only-of-type {\n",
       "        vertical-align: middle;\n",
       "    }\n",
       "\n",
       "    .dataframe tbody tr th {\n",
       "        vertical-align: top;\n",
       "    }\n",
       "\n",
       "    .dataframe thead th {\n",
       "        text-align: right;\n",
       "    }\n",
       "</style>\n",
       "<table border=\"1\" class=\"dataframe\">\n",
       "  <thead>\n",
       "    <tr style=\"text-align: right;\">\n",
       "      <th></th>\n",
       "      <th>minutes_used</th>\n",
       "      <th>messages_sent</th>\n",
       "      <th>gb_used</th>\n",
       "      <th>revenue</th>\n",
       "    </tr>\n",
       "  </thead>\n",
       "  <tbody>\n",
       "    <tr>\n",
       "      <th>minutes_used</th>\n",
       "      <td>1.000000</td>\n",
       "      <td>0.101647</td>\n",
       "      <td>0.066976</td>\n",
       "      <td>0.303256</td>\n",
       "    </tr>\n",
       "    <tr>\n",
       "      <th>messages_sent</th>\n",
       "      <td>0.101647</td>\n",
       "      <td>1.000000</td>\n",
       "      <td>0.041864</td>\n",
       "      <td>0.054658</td>\n",
       "    </tr>\n",
       "    <tr>\n",
       "      <th>gb_used</th>\n",
       "      <td>0.066976</td>\n",
       "      <td>0.041864</td>\n",
       "      <td>1.000000</td>\n",
       "      <td>0.785199</td>\n",
       "    </tr>\n",
       "    <tr>\n",
       "      <th>revenue</th>\n",
       "      <td>0.303256</td>\n",
       "      <td>0.054658</td>\n",
       "      <td>0.785199</td>\n",
       "      <td>1.000000</td>\n",
       "    </tr>\n",
       "  </tbody>\n",
       "</table>\n",
       "</div>"
      ],
      "text/plain": [
       "               minutes_used  messages_sent   gb_used   revenue\n",
       "minutes_used       1.000000       0.101647  0.066976  0.303256\n",
       "messages_sent      0.101647       1.000000  0.041864  0.054658\n",
       "gb_used            0.066976       0.041864  1.000000  0.785199\n",
       "revenue            0.303256       0.054658  0.785199  1.000000"
      ]
     },
     "execution_count": 50,
     "metadata": {},
     "output_type": "execute_result"
    },
    {
     "data": {
      "image/png": "[encoded data removed]",
      "text/plain": [
       "<Figure size 720x720 with 16 Axes>"
      ]
     },
     "metadata": {
      "needs_background": "light"
     },
     "output_type": "display_data"
    }
   ],
   "source": [
    "# Данные о корреляции по тарифу \"smart\"\n",
    "\n",
    "pd.plotting.scatter_matrix(data_pt.query('tariff == \"smart\"'), alpha = 0.3, figsize = (10,10))\n",
    "data_pt.query('tariff == \"smart\"').corr()"
   ]
  },
  {
   "cell_type": "code",
   "execution_count": 51,
   "metadata": {},
   "outputs": [
    {
     "data": {
      "text/html": [
       "<div>\n",
       "<style scoped>\n",
       "    .dataframe tbody tr th:only-of-type {\n",
       "        vertical-align: middle;\n",
       "    }\n",
       "\n",
       "    .dataframe tbody tr th {\n",
       "        vertical-align: top;\n",
       "    }\n",
       "\n",
       "    .dataframe thead th {\n",
       "        text-align: right;\n",
       "    }\n",
       "</style>\n",
       "<table border=\"1\" class=\"dataframe\">\n",
       "  <thead>\n",
       "    <tr style=\"text-align: right;\">\n",
       "      <th></th>\n",
       "      <th>minutes_used</th>\n",
       "      <th>messages_sent</th>\n",
       "      <th>gb_used</th>\n",
       "      <th>revenue</th>\n",
       "    </tr>\n",
       "  </thead>\n",
       "  <tbody>\n",
       "    <tr>\n",
       "      <th>minutes_used</th>\n",
       "      <td>1.000000</td>\n",
       "      <td>0.078581</td>\n",
       "      <td>0.032883</td>\n",
       "      <td>0.043511</td>\n",
       "    </tr>\n",
       "    <tr>\n",
       "      <th>messages_sent</th>\n",
       "      <td>0.078581</td>\n",
       "      <td>1.000000</td>\n",
       "      <td>0.100399</td>\n",
       "      <td>-0.018493</td>\n",
       "    </tr>\n",
       "    <tr>\n",
       "      <th>gb_used</th>\n",
       "      <td>0.032883</td>\n",
       "      <td>0.100399</td>\n",
       "      <td>1.000000</td>\n",
       "      <td>0.662276</td>\n",
       "    </tr>\n",
       "    <tr>\n",
       "      <th>revenue</th>\n",
       "      <td>0.043511</td>\n",
       "      <td>-0.018493</td>\n",
       "      <td>0.662276</td>\n",
       "      <td>1.000000</td>\n",
       "    </tr>\n",
       "  </tbody>\n",
       "</table>\n",
       "</div>"
      ],
      "text/plain": [
       "               minutes_used  messages_sent   gb_used   revenue\n",
       "minutes_used       1.000000       0.078581  0.032883  0.043511\n",
       "messages_sent      0.078581       1.000000  0.100399 -0.018493\n",
       "gb_used            0.032883       0.100399  1.000000  0.662276\n",
       "revenue            0.043511      -0.018493  0.662276  1.000000"
      ]
     },
     "execution_count": 51,
     "metadata": {},
     "output_type": "execute_result"
    },
    {
     "data": {
      "image/png": "[encoded data removed]",
      "text/plain": [
       "<Figure size 720x720 with 16 Axes>"
      ]
     },
     "metadata": {
      "needs_background": "light"
     },
     "output_type": "display_data"
    }
   ],
   "source": [
    "# Данные о корреляции по тарифу \"ultra\"\n",
    "\n",
    "pd.plotting.scatter_matrix(data_pt.query('tariff == \"ultra\"'), alpha = 0.3, figsize = (10,10))\n",
    "data_pt.query('tariff == \"ultra\"').corr()"
   ]
  },
  {
   "cell_type": "markdown",
   "metadata": {},
   "source": [
    "Из матриц видно, что:\n",
    "- корреляция между потреблением разных услуг у абонентов тарифа \"smart\" выражена слабо, у абонентов тарифа \"ultra\" - еще слабее.\n",
    "- выручка от абонентов тарифа \"smart\" частично зависит от продолжительности разговоров (коэффициент корреляции 0,3) и больше - от объема Интернет-трафика (0,79);\n",
    "- выручка от абонентов тарифа \"ultra\" в основном зависит от пользования Интернетом (коэффициент корреляции 0,67);\n",
    "- выручка от большинства абонентов тарифа \"ultra\" не превышает 2000 рублей в месяц и в целом мало зависит от объема услуг."
   ]
  },
  {
   "cell_type": "markdown",
   "metadata": {},
   "source": [
    "### Разбросы значений"
   ]
  },
  {
   "cell_type": "markdown",
   "metadata": {},
   "source": [
    "Сравним диаграммы размаха для абонентов обоих тарифов по всем трем услугам."
   ]
  },
  {
   "cell_type": "code",
   "execution_count": 52,
   "metadata": {},
   "outputs": [
    {
     "data": {
      "image/png": "[encoded data removed]",
      "text/plain": [
       "<Figure size 360x360 with 1 Axes>"
      ]
     },
     "metadata": {
      "needs_background": "light"
     },
     "output_type": "display_data"
    },
    {
     "data": {
      "image/png": "[encoded data removed]",
      "text/plain": [
       "<Figure size 360x360 with 1 Axes>"
      ]
     },
     "metadata": {
      "needs_background": "light"
     },
     "output_type": "display_data"
    },
    {
     "data": {
      "image/png": "[encoded data removed]",
      "text/plain": [
       "<Figure size 360x360 with 1 Axes>"
      ]
     },
     "metadata": {
      "needs_background": "light"
     },
     "output_type": "display_data"
    }
   ],
   "source": [
    "# Диаграммы размаха (графики \"ящик с усами\") для тарифов \"smart\" и \"ultra\" по услугам связи, СМС и Интернет\n",
    "\n",
    "for column in ['minutes_used', 'messages_sent', 'gb_used']:    \n",
    "    sns.catplot(data=data_pt, x=\"tariff\", order=['smart', 'ultra'], y=column, kind=\"box\", orient='v')"
   ]
  },
  {
   "cell_type": "markdown",
   "metadata": {},
   "source": [
    "Из диаграмм размаха следует, что:\n",
    "\n",
    "- минуты разговора, количество сообщений и объем Интернет-трафика по тарифу \"ultra\" имеет больший межквартильный размах по сравнению с тарифом \"smart\";\n",
    "- медианы по тарифу \"ultra\" по вышеперечисленным признакам также находятся дальше;\n",
    "- в случае тарифа \"smart\" выбросов существенно больше."
   ]
  },
  {
   "cell_type": "markdown",
   "metadata": {},
   "source": [
    "Проверим, насколько силен разброс экстремальных значений от среднего (в единицах стандартных отклонений) по каждой из услуг при разных тарифах. "
   ]
  },
  {
   "cell_type": "code",
   "execution_count": 53,
   "metadata": {},
   "outputs": [
    {
     "name": "stdout",
     "output_type": "stream",
     "text": [
      "По услуге \"minutes_used\" в тарифе \"smart\" разброс значений от -2.9 до 3.2 сигм от среднего.\n",
      "По услуге \"minutes_used\" в тарифе \"ultra\" разброс значений от -1.8 до 2.3 сигм от среднего.\n",
      "\n",
      "По услуге \"messages_sent\" в тарифе \"smart\" разброс значений от -1.2 до 3.2 сигм от среднего.\n",
      "По услуге \"messages_sent\" в тарифе \"ultra\" разброс значений от -1.2 до 3.0 сигм от среднего.\n",
      "\n",
      "По услуге \"gb_used\" в тарифе \"smart\" разброс значений от -4.5 до 3.0 сигм от среднего.\n",
      "По услуге \"gb_used\" в тарифе \"ultra\" разброс значений от -2.4 до 2.3 сигм от среднего.\n",
      "\n"
     ]
    }
   ],
   "source": [
    "for column in ['minutes_used', 'messages_sent', 'gb_used']:\n",
    "    for tariff in ['smart', 'ultra']:\n",
    "        x_min = data_pt[data_pt['tariff'] == tariff][column].min()\n",
    "        x_max = data_pt[data_pt['tariff'] == tariff][column].max()\n",
    "        x_mean = data_pt[data_pt['tariff'] == tariff][column].mean()\n",
    "        x_std = data_pt[data_pt['tariff'] == tariff][column].std()\n",
    "        delta_from = round((x_min - x_mean) / x_std, 1)\n",
    "        delta_to = round((x_max - x_mean) / x_std, 1)\n",
    "        print(f'По услуге \"{column}\" в тарифе \"{tariff}\" '\n",
    "              f'разброс значений от {delta_from} до {delta_to} сигм от среднего.')\n",
    "    print()"
   ]
  },
  {
   "cell_type": "markdown",
   "metadata": {},
   "source": [
    "Как видим, ближе всего к нормальному находятся распределения значений в тарифе \"smart\" по среднемесячным значениям длительности звонков и объема Интернет-трафика."
   ]
  },
  {
   "cell_type": "markdown",
   "metadata": {},
   "source": [
    "### Графики распределений и показатели статистики"
   ]
  },
  {
   "cell_type": "markdown",
   "metadata": {},
   "source": [
    "Вычислим объемы и доли выручки по каждому тарифу, а также среднюю выручку на одного пользователя."
   ]
  },
  {
   "cell_type": "code",
   "execution_count": 54,
   "metadata": {},
   "outputs": [
    {
     "name": "stdout",
     "output_type": "stream",
     "text": [
      "Общая годовая выручка оператора от абонентов тарифа \"smart\" (тыс. р.): 2875.9 (58.49%)\n",
      "Общая годовая выручка оператора от абонентов тарифа \"ultra\" (тыс. р.): 2041.05 (41.51%)\n",
      "\n",
      "Средняя выручка оператора от каждого абонента тарифа \"smart\" (тыс. р.): 8.19\n",
      "Средняя выручка оператора от каждого абонента тарифа \"ultra\" (тыс. р.): 13.7\n"
     ]
    }
   ],
   "source": [
    "rev_total_s = round(data.query('tariff == \"smart\"')['revenue'].sum() / 1000, 2)\n",
    "rev_total_u = round(data.query('tariff == \"ultra\"')['revenue'].sum() / 1000, 2)\n",
    "rev_ratio_s = rev_total_s / (rev_total_s + rev_total_u)\n",
    "rev_ratio_u = rev_total_u / (rev_total_s + rev_total_u)\n",
    "\n",
    "print(f'Общая годовая выручка оператора от абонентов тарифа \"smart\" (тыс. р.): '\n",
    "      f'{rev_total_s} ({rev_ratio_s:.2%})')\n",
    "print(f'Общая годовая выручка оператора от абонентов тарифа \"ultra\" (тыс. р.): '\n",
    "      f'{rev_total_u} ({rev_ratio_u:.2%})')\n",
    "print()\n",
    "print('Средняя выручка оператора от каждого абонента тарифа \"smart\" (тыс. р.):', \n",
    "      round(rev_total_s / 351, 2))\n",
    "print('Средняя выручка оператора от каждого абонента тарифа \"ultra\" (тыс. р.):', \n",
    "      round(rev_total_u / 149, 2))"
   ]
  },
  {
   "cell_type": "markdown",
   "metadata": {},
   "source": [
    "Просмотрим графики распределений по всем трем услугам, а также по среднемесячной выручке. Кроме того, выведем соответствующие статистические характеристики (минимум, максимум, среднее, дисперсию и стандартное отклонение)."
   ]
  },
  {
   "cell_type": "code",
   "execution_count": 55,
   "metadata": {},
   "outputs": [
    {
     "data": {
      "image/png": "[encoded data removed]",
      "text/plain": [
       "<Figure size 432x288 with 1 Axes>"
      ]
     },
     "metadata": {
      "needs_background": "light"
     },
     "output_type": "display_data"
    },
    {
     "data": {
      "text/html": [
       "<div>\n",
       "<style scoped>\n",
       "    .dataframe tbody tr th:only-of-type {\n",
       "        vertical-align: middle;\n",
       "    }\n",
       "\n",
       "    .dataframe tbody tr th {\n",
       "        vertical-align: top;\n",
       "    }\n",
       "\n",
       "    .dataframe thead tr th {\n",
       "        text-align: left;\n",
       "    }\n",
       "\n",
       "    .dataframe thead tr:last-of-type th {\n",
       "        text-align: right;\n",
       "    }\n",
       "</style>\n",
       "<table border=\"1\" class=\"dataframe\">\n",
       "  <thead>\n",
       "    <tr>\n",
       "      <th></th>\n",
       "      <th>min</th>\n",
       "      <th>max</th>\n",
       "      <th>mean</th>\n",
       "      <th>var</th>\n",
       "      <th>std</th>\n",
       "    </tr>\n",
       "    <tr>\n",
       "      <th></th>\n",
       "      <th>minutes_used</th>\n",
       "      <th>minutes_used</th>\n",
       "      <th>minutes_used</th>\n",
       "      <th>minutes_used</th>\n",
       "      <th>minutes_used</th>\n",
       "    </tr>\n",
       "    <tr>\n",
       "      <th>tariff</th>\n",
       "      <th></th>\n",
       "      <th></th>\n",
       "      <th></th>\n",
       "      <th></th>\n",
       "      <th></th>\n",
       "    </tr>\n",
       "  </thead>\n",
       "  <tbody>\n",
       "    <tr>\n",
       "      <th>smart</th>\n",
       "      <td>0.0</td>\n",
       "      <td>891.50</td>\n",
       "      <td>418.44</td>\n",
       "      <td>21475.74</td>\n",
       "      <td>146.55</td>\n",
       "    </tr>\n",
       "    <tr>\n",
       "      <th>ultra</th>\n",
       "      <td>0.0</td>\n",
       "      <td>1179.36</td>\n",
       "      <td>524.28</td>\n",
       "      <td>80736.81</td>\n",
       "      <td>284.14</td>\n",
       "    </tr>\n",
       "  </tbody>\n",
       "</table>\n",
       "</div>"
      ],
      "text/plain": [
       "                min          max         mean          var          std\n",
       "       minutes_used minutes_used minutes_used minutes_used minutes_used\n",
       "tariff                                                                 \n",
       "smart           0.0       891.50       418.44     21475.74       146.55\n",
       "ultra           0.0      1179.36       524.28     80736.81       284.14"
      ]
     },
     "metadata": {},
     "output_type": "display_data"
    },
    {
     "name": "stdout",
     "output_type": "stream",
     "text": [
      "Максимум в тарифе \"ultra\" больше на 287.9, или на 32%\n",
      "Среднее в тарифе \"ultra\" больше на 105.8, или на 25%\n",
      "Стандартное отклонение в тарифе \"ultra\" больше на 137.6, или на 94%\n"
     ]
    },
    {
     "data": {
      "image/png": "[encoded data removed]",
      "text/plain": [
       "<Figure size 432x288 with 1 Axes>"
      ]
     },
     "metadata": {
      "needs_background": "light"
     },
     "output_type": "display_data"
    },
    {
     "data": {
      "text/html": [
       "<div>\n",
       "<style scoped>\n",
       "    .dataframe tbody tr th:only-of-type {\n",
       "        vertical-align: middle;\n",
       "    }\n",
       "\n",
       "    .dataframe tbody tr th {\n",
       "        vertical-align: top;\n",
       "    }\n",
       "\n",
       "    .dataframe thead tr th {\n",
       "        text-align: left;\n",
       "    }\n",
       "\n",
       "    .dataframe thead tr:last-of-type th {\n",
       "        text-align: right;\n",
       "    }\n",
       "</style>\n",
       "<table border=\"1\" class=\"dataframe\">\n",
       "  <thead>\n",
       "    <tr>\n",
       "      <th></th>\n",
       "      <th>min</th>\n",
       "      <th>max</th>\n",
       "      <th>mean</th>\n",
       "      <th>var</th>\n",
       "      <th>std</th>\n",
       "    </tr>\n",
       "    <tr>\n",
       "      <th></th>\n",
       "      <th>messages_sent</th>\n",
       "      <th>messages_sent</th>\n",
       "      <th>messages_sent</th>\n",
       "      <th>messages_sent</th>\n",
       "      <th>messages_sent</th>\n",
       "    </tr>\n",
       "    <tr>\n",
       "      <th>tariff</th>\n",
       "      <th></th>\n",
       "      <th></th>\n",
       "      <th></th>\n",
       "      <th></th>\n",
       "      <th></th>\n",
       "    </tr>\n",
       "  </thead>\n",
       "  <tbody>\n",
       "    <tr>\n",
       "      <th>smart</th>\n",
       "      <td>0.0</td>\n",
       "      <td>118.0</td>\n",
       "      <td>32.26</td>\n",
       "      <td>703.88</td>\n",
       "      <td>26.53</td>\n",
       "    </tr>\n",
       "    <tr>\n",
       "      <th>ultra</th>\n",
       "      <td>0.0</td>\n",
       "      <td>192.0</td>\n",
       "      <td>53.67</td>\n",
       "      <td>2154.90</td>\n",
       "      <td>46.42</td>\n",
       "    </tr>\n",
       "  </tbody>\n",
       "</table>\n",
       "</div>"
      ],
      "text/plain": [
       "                 min           max          mean           var           std\n",
       "       messages_sent messages_sent messages_sent messages_sent messages_sent\n",
       "tariff                                                                      \n",
       "smart            0.0         118.0         32.26        703.88         26.53\n",
       "ultra            0.0         192.0         53.67       2154.90         46.42"
      ]
     },
     "metadata": {},
     "output_type": "display_data"
    },
    {
     "name": "stdout",
     "output_type": "stream",
     "text": [
      "Максимум в тарифе \"ultra\" больше на 74.0, или на 63%\n",
      "Среднее в тарифе \"ultra\" больше на 21.4, или на 66%\n",
      "Стандартное отклонение в тарифе \"ultra\" больше на 19.9, или на 75%\n"
     ]
    },
    {
     "data": {
      "image/png": "[encoded data removed]",
      "text/plain": [
       "<Figure size 432x288 with 1 Axes>"
      ]
     },
     "metadata": {
      "needs_background": "light"
     },
     "output_type": "display_data"
    },
    {
     "data": {
      "text/html": [
       "<div>\n",
       "<style scoped>\n",
       "    .dataframe tbody tr th:only-of-type {\n",
       "        vertical-align: middle;\n",
       "    }\n",
       "\n",
       "    .dataframe tbody tr th {\n",
       "        vertical-align: top;\n",
       "    }\n",
       "\n",
       "    .dataframe thead tr th {\n",
       "        text-align: left;\n",
       "    }\n",
       "\n",
       "    .dataframe thead tr:last-of-type th {\n",
       "        text-align: right;\n",
       "    }\n",
       "</style>\n",
       "<table border=\"1\" class=\"dataframe\">\n",
       "  <thead>\n",
       "    <tr>\n",
       "      <th></th>\n",
       "      <th>min</th>\n",
       "      <th>max</th>\n",
       "      <th>mean</th>\n",
       "      <th>var</th>\n",
       "      <th>std</th>\n",
       "    </tr>\n",
       "    <tr>\n",
       "      <th></th>\n",
       "      <th>gb_used</th>\n",
       "      <th>gb_used</th>\n",
       "      <th>gb_used</th>\n",
       "      <th>gb_used</th>\n",
       "      <th>gb_used</th>\n",
       "    </tr>\n",
       "    <tr>\n",
       "      <th>tariff</th>\n",
       "      <th></th>\n",
       "      <th></th>\n",
       "      <th></th>\n",
       "      <th></th>\n",
       "      <th></th>\n",
       "    </tr>\n",
       "  </thead>\n",
       "  <tbody>\n",
       "    <tr>\n",
       "      <th>smart</th>\n",
       "      <td>0.0</td>\n",
       "      <td>27.25</td>\n",
       "      <td>16.26</td>\n",
       "      <td>12.98</td>\n",
       "      <td>3.60</td>\n",
       "    </tr>\n",
       "    <tr>\n",
       "      <th>ultra</th>\n",
       "      <td>0.0</td>\n",
       "      <td>38.50</td>\n",
       "      <td>19.46</td>\n",
       "      <td>68.00</td>\n",
       "      <td>8.25</td>\n",
       "    </tr>\n",
       "  </tbody>\n",
       "</table>\n",
       "</div>"
      ],
      "text/plain": [
       "           min     max    mean     var     std\n",
       "       gb_used gb_used gb_used gb_used gb_used\n",
       "tariff                                        \n",
       "smart      0.0   27.25   16.26   12.98    3.60\n",
       "ultra      0.0   38.50   19.46   68.00    8.25"
      ]
     },
     "metadata": {},
     "output_type": "display_data"
    },
    {
     "name": "stdout",
     "output_type": "stream",
     "text": [
      "Максимум в тарифе \"ultra\" больше на 11.2, или на 41%\n",
      "Среднее в тарифе \"ultra\" больше на 3.2, или на 20%\n",
      "Стандартное отклонение в тарифе \"ultra\" больше на 4.7, или на 129%\n"
     ]
    },
    {
     "data": {
      "image/png": "[encoded data removed]",
      "text/plain": [
       "<Figure size 432x288 with 1 Axes>"
      ]
     },
     "metadata": {
      "needs_background": "light"
     },
     "output_type": "display_data"
    },
    {
     "data": {
      "text/html": [
       "<div>\n",
       "<style scoped>\n",
       "    .dataframe tbody tr th:only-of-type {\n",
       "        vertical-align: middle;\n",
       "    }\n",
       "\n",
       "    .dataframe tbody tr th {\n",
       "        vertical-align: top;\n",
       "    }\n",
       "\n",
       "    .dataframe thead tr th {\n",
       "        text-align: left;\n",
       "    }\n",
       "\n",
       "    .dataframe thead tr:last-of-type th {\n",
       "        text-align: right;\n",
       "    }\n",
       "</style>\n",
       "<table border=\"1\" class=\"dataframe\">\n",
       "  <thead>\n",
       "    <tr>\n",
       "      <th></th>\n",
       "      <th>min</th>\n",
       "      <th>max</th>\n",
       "      <th>mean</th>\n",
       "      <th>var</th>\n",
       "      <th>std</th>\n",
       "    </tr>\n",
       "    <tr>\n",
       "      <th></th>\n",
       "      <th>revenue</th>\n",
       "      <th>revenue</th>\n",
       "      <th>revenue</th>\n",
       "      <th>revenue</th>\n",
       "      <th>revenue</th>\n",
       "    </tr>\n",
       "    <tr>\n",
       "      <th>tariff</th>\n",
       "      <th></th>\n",
       "      <th></th>\n",
       "      <th></th>\n",
       "      <th></th>\n",
       "      <th></th>\n",
       "    </tr>\n",
       "  </thead>\n",
       "  <tbody>\n",
       "    <tr>\n",
       "      <th>smart</th>\n",
       "      <td>550.0</td>\n",
       "      <td>4333.33</td>\n",
       "      <td>1322.19</td>\n",
       "      <td>367944.30</td>\n",
       "      <td>606.58</td>\n",
       "    </tr>\n",
       "    <tr>\n",
       "      <th>ultra</th>\n",
       "      <td>1950.0</td>\n",
       "      <td>3225.00</td>\n",
       "      <td>2085.55</td>\n",
       "      <td>88644.59</td>\n",
       "      <td>297.73</td>\n",
       "    </tr>\n",
       "  </tbody>\n",
       "</table>\n",
       "</div>"
      ],
      "text/plain": [
       "           min      max     mean        var     std\n",
       "       revenue  revenue  revenue    revenue revenue\n",
       "tariff                                             \n",
       "smart    550.0  4333.33  1322.19  367944.30  606.58\n",
       "ultra   1950.0  3225.00  2085.55   88644.59  297.73"
      ]
     },
     "metadata": {},
     "output_type": "display_data"
    },
    {
     "name": "stdout",
     "output_type": "stream",
     "text": [
      "Максимум в тарифе \"smart\" больше на 1108.3, или на 34%\n",
      "Среднее в тарифе \"ultra\" больше на 763.4, или на 58%\n",
      "Стандартное отклонение в тарифе \"smart\" больше на 308.9, или на 104%\n"
     ]
    }
   ],
   "source": [
    "# Гистограммы и статистические данные по таблице \"data_pt\"\n",
    "\n",
    "data_pt_mins = data_pt.pivot_table(index = 'tariff', \n",
    "                                   values='minutes_used', \n",
    "                                   aggfunc=['min', 'max', 'mean', 'var', 'std']).round(2)\n",
    "data_pt_sms = data_pt.pivot_table(index = 'tariff', \n",
    "                                  values='messages_sent', \n",
    "                                  aggfunc=['min', 'max', 'mean', 'var', 'std']).round(2)\n",
    "data_pt_gbs = data_pt.pivot_table(index = 'tariff', \n",
    "                                  values='gb_used', \n",
    "                                  aggfunc=['min', 'max', 'mean', 'var', 'std']).round(2)\n",
    "data_pt_rev = data_pt.pivot_table(index = 'tariff', \n",
    "                                  values='revenue', \n",
    "                                  aggfunc=['min', 'max', 'mean', 'var', 'std']).round(2)\n",
    "\n",
    "for column, pt in [('minutes_used', data_pt_mins), \n",
    "                   ('messages_sent', data_pt_sms), \n",
    "                   ('gb_used', data_pt_gbs), \n",
    "                   ('revenue', data_pt_rev)]:\n",
    "    plt.hist(data_pt.query('tariff == \"smart\"')[column], bins=20, label='smart')\n",
    "    plt.hist(data_pt.query('tariff == \"ultra\"')[column], bins=20, label='ultra', alpha=0.7)\n",
    "    plt.legend(loc='upper right')\n",
    "    plt.suptitle(column)\n",
    "    plt.xlabel('Объем услуг')\n",
    "    plt.ylabel('Частота')\n",
    "    plt.show()\n",
    "    display(data_pt.pivot_table(index = 'tariff', \n",
    "                                values=column, \n",
    "                                aggfunc=['min', 'max', 'mean', 'var', 'std']).round(2))\n",
    "    for col, name in [('max', \"Максимум\"), \n",
    "                      ('mean', \"Среднее\"), \n",
    "                      ('std', \"Стандартное отклонение\")]:\n",
    "        maximum = pt[pt[col][column] == max(pt[col][column][\"ultra\"], \n",
    "                                            pt[col][column][\"smart\"])].index[0]\n",
    "        delta = abs(pt[col][column][\"ultra\"] - pt[col][column][\"smart\"])\n",
    "        percent = abs(max(pt[col][column][\"ultra\"], pt[col][column][\"smart\"]) / \n",
    "                      min(pt[col][column][\"ultra\"], pt[col][column][\"smart\"]) - 1)\n",
    "        print(f'{name} в тарифе \"{maximum}\" больше на {delta:.1f}, или на {percent:.0%}')"
   ]
  },
  {
   "cell_type": "markdown",
   "metadata": {},
   "source": [
    "Из данных гистограмм и соответствующих таблиц явствует, что, если взять среднемесячные данные по каждому пользователю, то: \n",
    "\n",
    "- продолжительность звонков и с определенными оговорками объем Интернет-трафика имеют близкое к нормальному распределение;\n",
    "- число сообщений, отправляемых абонентами в месяц, имеет рапределение Пуассона, стремящееся к нормальному;\n",
    "- средняя продолжительность звонков у абонентов тарифа \"ultra\" на 25% (на 1,75 часа в месяц) больше, чем у \"smart\";\n",
    "- среднее число сообщений, отправляемых абонентами тарифа \"ultra\" на 66% больше (на 21 шт. в месяц) больше, чем у \"smart\";\n",
    "- средний объем Интернет-трафика у абонентов тарифа \"ultra\" на 20% (на 3,2 Гб в месяц) больше, чем у \"smart\";\n",
    "- стандартное отклонение по тарифу \"ultra\" значительно (от 1,75 до 2,3 раз) больше, чем по тарифу \"smart\" по всем трем услугам;\n",
    "- пиковые значения у тарифа \"smart\" более явно выражены.\n",
    "- выручка компании от абонентов тарифа \"ultra\" состоит в среднем на 94% из абонентской платы, т.е. мало кто успевает за месяц использовать весь лимит;\n",
    "- выручка компании от абонентов тарифа \"smart\" лишь на 42% складывается из абонентской платы, остальное - из превышения лимитов, которое имеет место по всем трем услугам."
   ]
  },
  {
   "cell_type": "markdown",
   "metadata": {},
   "source": [
    "Посмотрим, как эти данные изменятся при учете всех среднемесячных услуг без группировки по пользователям."
   ]
  },
  {
   "cell_type": "code",
   "execution_count": 56,
   "metadata": {},
   "outputs": [
    {
     "data": {
      "image/png": "[encoded data removed]",
      "text/plain": [
       "<Figure size 432x288 with 1 Axes>"
      ]
     },
     "metadata": {
      "needs_background": "light"
     },
     "output_type": "display_data"
    },
    {
     "data": {
      "text/html": [
       "<div>\n",
       "<style scoped>\n",
       "    .dataframe tbody tr th:only-of-type {\n",
       "        vertical-align: middle;\n",
       "    }\n",
       "\n",
       "    .dataframe tbody tr th {\n",
       "        vertical-align: top;\n",
       "    }\n",
       "\n",
       "    .dataframe thead tr th {\n",
       "        text-align: left;\n",
       "    }\n",
       "\n",
       "    .dataframe thead tr:last-of-type th {\n",
       "        text-align: right;\n",
       "    }\n",
       "</style>\n",
       "<table border=\"1\" class=\"dataframe\">\n",
       "  <thead>\n",
       "    <tr>\n",
       "      <th></th>\n",
       "      <th>min</th>\n",
       "      <th>max</th>\n",
       "      <th>mean</th>\n",
       "      <th>var</th>\n",
       "      <th>std</th>\n",
       "    </tr>\n",
       "    <tr>\n",
       "      <th></th>\n",
       "      <th>minutes_used</th>\n",
       "      <th>minutes_used</th>\n",
       "      <th>minutes_used</th>\n",
       "      <th>minutes_used</th>\n",
       "      <th>minutes_used</th>\n",
       "    </tr>\n",
       "    <tr>\n",
       "      <th>tariff</th>\n",
       "      <th></th>\n",
       "      <th></th>\n",
       "      <th></th>\n",
       "      <th></th>\n",
       "      <th></th>\n",
       "    </tr>\n",
       "  </thead>\n",
       "  <tbody>\n",
       "    <tr>\n",
       "      <th>smart</th>\n",
       "      <td>0.0</td>\n",
       "      <td>1435.0</td>\n",
       "      <td>417.75</td>\n",
       "      <td>36281.39</td>\n",
       "      <td>190.48</td>\n",
       "    </tr>\n",
       "    <tr>\n",
       "      <th>ultra</th>\n",
       "      <td>0.0</td>\n",
       "      <td>1673.0</td>\n",
       "      <td>526.09</td>\n",
       "      <td>101052.49</td>\n",
       "      <td>317.89</td>\n",
       "    </tr>\n",
       "  </tbody>\n",
       "</table>\n",
       "</div>"
      ],
      "text/plain": [
       "                min          max         mean          var          std\n",
       "       minutes_used minutes_used minutes_used minutes_used minutes_used\n",
       "tariff                                                                 \n",
       "smart           0.0       1435.0       417.75     36281.39       190.48\n",
       "ultra           0.0       1673.0       526.09    101052.49       317.89"
      ]
     },
     "metadata": {},
     "output_type": "display_data"
    },
    {
     "name": "stdout",
     "output_type": "stream",
     "text": [
      "Максимум в тарифе \"ultra\" больше на 238.0, или на 17%\n",
      "Среднее в тарифе \"ultra\" больше на 108.3, или на 26%\n",
      "Стандартное отклонение в тарифе \"ultra\" больше на 127.4, или на 67%\n"
     ]
    },
    {
     "data": {
      "image/png": "[encoded data removed]",
      "text/plain": [
       "<Figure size 432x288 with 1 Axes>"
      ]
     },
     "metadata": {
      "needs_background": "light"
     },
     "output_type": "display_data"
    },
    {
     "data": {
      "text/html": [
       "<div>\n",
       "<style scoped>\n",
       "    .dataframe tbody tr th:only-of-type {\n",
       "        vertical-align: middle;\n",
       "    }\n",
       "\n",
       "    .dataframe tbody tr th {\n",
       "        vertical-align: top;\n",
       "    }\n",
       "\n",
       "    .dataframe thead tr th {\n",
       "        text-align: left;\n",
       "    }\n",
       "\n",
       "    .dataframe thead tr:last-of-type th {\n",
       "        text-align: right;\n",
       "    }\n",
       "</style>\n",
       "<table border=\"1\" class=\"dataframe\">\n",
       "  <thead>\n",
       "    <tr>\n",
       "      <th></th>\n",
       "      <th>min</th>\n",
       "      <th>max</th>\n",
       "      <th>mean</th>\n",
       "      <th>var</th>\n",
       "      <th>std</th>\n",
       "    </tr>\n",
       "    <tr>\n",
       "      <th></th>\n",
       "      <th>messages_sent</th>\n",
       "      <th>messages_sent</th>\n",
       "      <th>messages_sent</th>\n",
       "      <th>messages_sent</th>\n",
       "      <th>messages_sent</th>\n",
       "    </tr>\n",
       "    <tr>\n",
       "      <th>tariff</th>\n",
       "      <th></th>\n",
       "      <th></th>\n",
       "      <th></th>\n",
       "      <th></th>\n",
       "      <th></th>\n",
       "    </tr>\n",
       "  </thead>\n",
       "  <tbody>\n",
       "    <tr>\n",
       "      <th>smart</th>\n",
       "      <td>0.0</td>\n",
       "      <td>143.0</td>\n",
       "      <td>33.37</td>\n",
       "      <td>796.96</td>\n",
       "      <td>28.23</td>\n",
       "    </tr>\n",
       "    <tr>\n",
       "      <th>ultra</th>\n",
       "      <td>0.0</td>\n",
       "      <td>224.0</td>\n",
       "      <td>49.31</td>\n",
       "      <td>2285.42</td>\n",
       "      <td>47.81</td>\n",
       "    </tr>\n",
       "  </tbody>\n",
       "</table>\n",
       "</div>"
      ],
      "text/plain": [
       "                 min           max          mean           var           std\n",
       "       messages_sent messages_sent messages_sent messages_sent messages_sent\n",
       "tariff                                                                      \n",
       "smart            0.0         143.0         33.37        796.96         28.23\n",
       "ultra            0.0         224.0         49.31       2285.42         47.81"
      ]
     },
     "metadata": {},
     "output_type": "display_data"
    },
    {
     "name": "stdout",
     "output_type": "stream",
     "text": [
      "Максимум в тарифе \"ultra\" больше на 81.0, или на 57%\n",
      "Среднее в тарифе \"ultra\" больше на 15.9, или на 48%\n",
      "Стандартное отклонение в тарифе \"ultra\" больше на 19.6, или на 69%\n"
     ]
    },
    {
     "data": {
      "image/png": "[encoded data removed]",
      "text/plain": [
       "<Figure size 432x288 with 1 Axes>"
      ]
     },
     "metadata": {
      "needs_background": "light"
     },
     "output_type": "display_data"
    },
    {
     "data": {
      "text/html": [
       "<div>\n",
       "<style scoped>\n",
       "    .dataframe tbody tr th:only-of-type {\n",
       "        vertical-align: middle;\n",
       "    }\n",
       "\n",
       "    .dataframe tbody tr th {\n",
       "        vertical-align: top;\n",
       "    }\n",
       "\n",
       "    .dataframe thead tr th {\n",
       "        text-align: left;\n",
       "    }\n",
       "\n",
       "    .dataframe thead tr:last-of-type th {\n",
       "        text-align: right;\n",
       "    }\n",
       "</style>\n",
       "<table border=\"1\" class=\"dataframe\">\n",
       "  <thead>\n",
       "    <tr>\n",
       "      <th></th>\n",
       "      <th>min</th>\n",
       "      <th>max</th>\n",
       "      <th>mean</th>\n",
       "      <th>var</th>\n",
       "      <th>std</th>\n",
       "    </tr>\n",
       "    <tr>\n",
       "      <th></th>\n",
       "      <th>gb_used</th>\n",
       "      <th>gb_used</th>\n",
       "      <th>gb_used</th>\n",
       "      <th>gb_used</th>\n",
       "      <th>gb_used</th>\n",
       "    </tr>\n",
       "    <tr>\n",
       "      <th>tariff</th>\n",
       "      <th></th>\n",
       "      <th></th>\n",
       "      <th></th>\n",
       "      <th></th>\n",
       "      <th></th>\n",
       "    </tr>\n",
       "  </thead>\n",
       "  <tbody>\n",
       "    <tr>\n",
       "      <th>smart</th>\n",
       "      <td>0.0</td>\n",
       "      <td>38.0</td>\n",
       "      <td>16.32</td>\n",
       "      <td>33.13</td>\n",
       "      <td>5.76</td>\n",
       "    </tr>\n",
       "    <tr>\n",
       "      <th>ultra</th>\n",
       "      <td>0.0</td>\n",
       "      <td>49.0</td>\n",
       "      <td>19.47</td>\n",
       "      <td>97.38</td>\n",
       "      <td>9.87</td>\n",
       "    </tr>\n",
       "  </tbody>\n",
       "</table>\n",
       "</div>"
      ],
      "text/plain": [
       "           min     max    mean     var     std\n",
       "       gb_used gb_used gb_used gb_used gb_used\n",
       "tariff                                        \n",
       "smart      0.0    38.0   16.32   33.13    5.76\n",
       "ultra      0.0    49.0   19.47   97.38    9.87"
      ]
     },
     "metadata": {},
     "output_type": "display_data"
    },
    {
     "name": "stdout",
     "output_type": "stream",
     "text": [
      "Максимум в тарифе \"ultra\" больше на 11.0, или на 29%\n",
      "Среднее в тарифе \"ultra\" больше на 3.1, или на 19%\n",
      "Стандартное отклонение в тарифе \"ultra\" больше на 4.1, или на 71%\n"
     ]
    },
    {
     "data": {
      "image/png": "[encoded data removed]",
      "text/plain": [
       "<Figure size 432x288 with 1 Axes>"
      ]
     },
     "metadata": {
      "needs_background": "light"
     },
     "output_type": "display_data"
    },
    {
     "data": {
      "text/html": [
       "<div>\n",
       "<style scoped>\n",
       "    .dataframe tbody tr th:only-of-type {\n",
       "        vertical-align: middle;\n",
       "    }\n",
       "\n",
       "    .dataframe tbody tr th {\n",
       "        vertical-align: top;\n",
       "    }\n",
       "\n",
       "    .dataframe thead tr th {\n",
       "        text-align: left;\n",
       "    }\n",
       "\n",
       "    .dataframe thead tr:last-of-type th {\n",
       "        text-align: right;\n",
       "    }\n",
       "</style>\n",
       "<table border=\"1\" class=\"dataframe\">\n",
       "  <thead>\n",
       "    <tr>\n",
       "      <th></th>\n",
       "      <th>min</th>\n",
       "      <th>max</th>\n",
       "      <th>mean</th>\n",
       "      <th>var</th>\n",
       "      <th>std</th>\n",
       "    </tr>\n",
       "    <tr>\n",
       "      <th></th>\n",
       "      <th>revenue</th>\n",
       "      <th>revenue</th>\n",
       "      <th>revenue</th>\n",
       "      <th>revenue</th>\n",
       "      <th>revenue</th>\n",
       "    </tr>\n",
       "    <tr>\n",
       "      <th>tariff</th>\n",
       "      <th></th>\n",
       "      <th></th>\n",
       "      <th></th>\n",
       "      <th></th>\n",
       "      <th></th>\n",
       "    </tr>\n",
       "  </thead>\n",
       "  <tbody>\n",
       "    <tr>\n",
       "      <th>smart</th>\n",
       "      <td>550.0</td>\n",
       "      <td>6770.0</td>\n",
       "      <td>1289.64</td>\n",
       "      <td>669730.76</td>\n",
       "      <td>818.37</td>\n",
       "    </tr>\n",
       "    <tr>\n",
       "      <th>ultra</th>\n",
       "      <td>1950.0</td>\n",
       "      <td>4800.0</td>\n",
       "      <td>2070.03</td>\n",
       "      <td>141387.71</td>\n",
       "      <td>376.02</td>\n",
       "    </tr>\n",
       "  </tbody>\n",
       "</table>\n",
       "</div>"
      ],
      "text/plain": [
       "           min     max     mean        var     std\n",
       "       revenue revenue  revenue    revenue revenue\n",
       "tariff                                            \n",
       "smart    550.0  6770.0  1289.64  669730.76  818.37\n",
       "ultra   1950.0  4800.0  2070.03  141387.71  376.02"
      ]
     },
     "metadata": {},
     "output_type": "display_data"
    },
    {
     "name": "stdout",
     "output_type": "stream",
     "text": [
      "Максимум в тарифе \"smart\" больше на 1970.0, или на 41%\n",
      "Среднее в тарифе \"ultra\" больше на 780.4, или на 61%\n",
      "Стандартное отклонение в тарифе \"smart\" больше на 442.4, или на 118%\n"
     ]
    }
   ],
   "source": [
    "# Гистограммы и статистические данные по таблице \"data\"\n",
    "\n",
    "data_mins = data.pivot_table(index = 'tariff', \n",
    "                             values='minutes_used', \n",
    "                             aggfunc=['min', 'max', 'mean', 'var', 'std']).round(2)\n",
    "data_sms = data.pivot_table(index = 'tariff', \n",
    "                            values='messages_sent', \n",
    "                            aggfunc=['min', 'max', 'mean', 'var', 'std']).round(2)\n",
    "data_gbs = data.pivot_table(index = 'tariff', \n",
    "                            values='gb_used', \n",
    "                            aggfunc=['min', 'max', 'mean', 'var', 'std']).round(2)\n",
    "data_rev = data.pivot_table(index = 'tariff', \n",
    "                            values='revenue', \n",
    "                            aggfunc=['min', 'max', 'mean', 'var', 'std']).round(2)\n",
    "\n",
    "for column, pt in [('minutes_used', data_mins), \n",
    "                   ('messages_sent', data_sms), \n",
    "                   ('gb_used', data_gbs), ('revenue', data_rev)]:\n",
    "    plt.hist(data.query('tariff == \"smart\"')[column], bins=20, label='smart')\n",
    "    plt.hist(data.query('tariff == \"ultra\"')[column], bins=20, label='ultra', alpha=0.7)\n",
    "    plt.legend(loc='upper right')\n",
    "    plt.suptitle(column)\n",
    "    plt.xlabel('Объем услуг')\n",
    "    plt.ylabel('Частота')\n",
    "    plt.show()\n",
    "    display(data.pivot_table(index = 'tariff', \n",
    "                             values=column, \n",
    "                             aggfunc=['min', 'max', 'mean', 'var', 'std']).round(2))\n",
    "    for col, name in [('max', \"Максимум\"), \n",
    "                      ('mean', \"Среднее\"), \n",
    "                      ('std', \"Стандартное отклонение\")]:\n",
    "        maximum = pt[pt[col][column] == max(pt[col][column][\"ultra\"], \n",
    "                                            pt[col][column][\"smart\"])].index[0]\n",
    "        delta = abs(pt[col][column][\"ultra\"] - pt[col][column][\"smart\"])\n",
    "        percent = abs(max(pt[col][column][\"ultra\"], pt[col][column][\"smart\"]) / \n",
    "                      min(pt[col][column][\"ultra\"], pt[col][column][\"smart\"]) - 1)\n",
    "        print(f'{name} в тарифе \"{maximum}\" больше на {delta:.1f}, или на {percent:.0%}')"
   ]
  },
  {
   "cell_type": "markdown",
   "metadata": {},
   "source": [
    "При сравнении этих данных с предыдущими можно заключить, что: \n",
    "\n",
    "- средние значения по всем показателям в обоих тарифах примерно одинаковые как с группировкой по пользователям, так и без;\n",
    "- максимальная продолжительность звонков у тарифа \"smart\" до группировки была на 61% больше, у тарифа \"ultra\" - на 42% больше;\n",
    "- максимальное количество сообщений у тарифа \"smart\" до группировки было на 21% больше, у тарифа \"ultra\" - на 17% больше;\n",
    "- максимальный объем Интернет-трафика у тарифа \"smart\" до группировки был на 40% больше, у тарифа \"ultra\" - на 29% больше;\n",
    "- стандартное отклонение по продолжительности звонков у тарифа \"smart\" до группировки было на 30% больше, у тарифа \"ultra\" - на 12% больше;\n",
    "- стандартные отклонения по количеству сообщений у обоих тарифов до и после группировки практически не отличаются;\n",
    "- стандартное отклонение по объему Интернет-трафика у тарифа \"smart\" до группировки было на 60% больше, у тарифа \"ultra\" - на 20% больше.\n",
    "\n",
    "_Выводы_\n",
    "1. От месяца к месяцу абонент тарифа \"smart\" склонен звонить и в особенности пользоваться Интернетом в очень разных объемах.\n",
    "2. Данный разброс у абонента тарифа \"ultra\" более скромен, т.е. сами по себе абоненты этого тарифа очень разные, но у каждого свой примерно постоянный расход.\n",
    "3. Количество отправленных сообщений у абонентов обоих тарифов стабильное и не зависит от месяца.\n",
    "    "
   ]
  },
  {
   "cell_type": "markdown",
   "metadata": {},
   "source": [
    "### Превышение лимитов"
   ]
  },
  {
   "cell_type": "markdown",
   "metadata": {},
   "source": [
    "Рассмотрим более подробно, как часто происходит превышение лимитов."
   ]
  },
  {
   "cell_type": "code",
   "execution_count": 57,
   "metadata": {},
   "outputs": [],
   "source": [
    "# Вводим для удобства некоторые обозначения\n",
    "\n",
    "sm = data_pt[\"tariff\"] == \"smart\"\n",
    "ul = data_pt[\"tariff\"] == \"ultra\"\n",
    "\n",
    "mi500 = data_pt[\"minutes_used\"] > 500\n",
    "mi3000 = data_pt[\"minutes_used\"] > 3000\n",
    "\n",
    "me50 = data_pt[\"messages_sent\"] > 50\n",
    "me1000 = data_pt[\"messages_sent\"] > 1000\n",
    "\n",
    "gb15 = data_pt[\"gb_used\"] > 15\n",
    "gb30 = data_pt[\"gb_used\"] > 30"
   ]
  },
  {
   "cell_type": "code",
   "execution_count": 58,
   "metadata": {},
   "outputs": [
    {
     "name": "stdout",
     "output_type": "stream",
     "text": [
      "Доля абонентов тарифа \"smart\", превышающих лимит по продолжительности звонков: 29%\n",
      "Доля абонентов тарифа \"ultra\", превышающих лимит по продолжительности звонков: 0%\n",
      "\n",
      "Доля абонентов тарифа \"smart\", превышающих лимит по количеству сообщений: 23%\n",
      "Доля абонентов тарифа \"ultra\", превышающих лимит по количеству сообщений: 0%\n",
      "\n",
      "Доля абонентов тарифа \"smart\", превышающих лимит по объему Интернет-трафика: 66%\n",
      "Доля абонентов тарифа \"ultra\", превышающих лимит по объему Интернет-трафика: 13%\n"
     ]
    }
   ],
   "source": [
    "# Доли абонентов каждого из тарифов, превышающих лимит по разным услугам (по данным датафрейма с группировкой по абонентам)\n",
    "\n",
    "print(f'Доля абонентов тарифа \"smart\", превышающих лимит по продолжительности звонков: '\n",
    "      f'{((sm & mi500).sum() / sm.sum()):.0%}')\n",
    "print(f'Доля абонентов тарифа \"ultra\", превышающих лимит по продолжительности звонков: '\n",
    "      f'{((ul & mi3000).sum() / ul.sum()):.0%}')\n",
    "\n",
    "print(f'\\nДоля абонентов тарифа \"smart\", превышающих лимит по количеству сообщений: '\n",
    "      f'{((sm & me50).sum() / sm.sum()):.0%}')\n",
    "print(f'Доля абонентов тарифа \"ultra\", превышающих лимит по количеству сообщений: '\n",
    "      f'{((ul & me1000).sum() / ul.sum()):.0%}')\n",
    "\n",
    "print(f'\\nДоля абонентов тарифа \"smart\", превышающих лимит по объему Интернет-трафика: '\n",
    "      f'{((sm & gb15).sum() / sm.sum()):.0%}')\n",
    "print(f'Доля абонентов тарифа \"ultra\", превышающих лимит по объему Интернет-трафика: '\n",
    "      f'{((ul & gb30).sum() / ul.sum()):.0%}')"
   ]
  },
  {
   "cell_type": "code",
   "execution_count": 59,
   "metadata": {},
   "outputs": [
    {
     "name": "stdout",
     "output_type": "stream",
     "text": [
      "Доля звонков в тарифе \"smart\", с превышением лимита по продолжительности: 29%\n",
      "Доля звонков в тарифе \"ultra\", с превышением лимита по продолжительности: 0%\n",
      "\n",
      "Доля сообщений в тарифе \"smart\", с превышением лимита по количеству: 23%\n",
      "Доля сообщений в тарифе \"ultra\", с превышением лимита по количеству: 0%\n",
      "\n",
      "Доля Интернет-соединений в тарифе \"smart\", с превышением лимита по объему трафика: 66%\n",
      "Доля Интернет-соединений в тарифе \"ultra\", с превышением лимита по объему трафика: 13%\n"
     ]
    }
   ],
   "source": [
    "# Доли звонков, сообщений и Интернет-соединений с превышением лимита, по каждому из тарифов\n",
    "# (по данным датафрейма без группировки по абонентам)\n",
    "\n",
    "print(f'Доля звонков в тарифе \"smart\", с превышением лимита по продолжительности: '\n",
    "      f'{((sm & mi500).sum() / sm.sum()):.0%}')\n",
    "print(f'Доля звонков в тарифе \"ultra\", с превышением лимита по продолжительности: '\n",
    "      f'{((ul & mi3000).sum() / ul.sum()):.0%}')\n",
    "\n",
    "print(f'\\nДоля сообщений в тарифе \"smart\", с превышением лимита по количеству: '\n",
    "      f'{((sm & me50).sum() / sm.sum()):.0%}')\n",
    "print(f'Доля сообщений в тарифе \"ultra\", с превышением лимита по количеству: '\n",
    "      f'{((ul & me1000).sum() / ul.sum()):.0%}')\n",
    "\n",
    "print(f'\\nДоля Интернет-соединений в тарифе \"smart\", с превышением лимита по объему трафика: '\n",
    "      f'{((sm & gb15).sum() / sm.sum()):.0%}')\n",
    "print(f'Доля Интернет-соединений в тарифе \"ultra\", с превышением лимита по объему трафика: '\n",
    "      f'{((ul & gb30).sum() / ul.sum()):.0%}')"
   ]
  },
  {
   "cell_type": "markdown",
   "metadata": {},
   "source": [
    "Как видно из расчетов:\n",
    "- в 34% совершенных за месяц звонков по тарифу \"smart\" происходит превышение лимита по продолжительности, их совершают 29% абонентов этого тарифа;\n",
    "- в 25% отправленных за месяц сообщений по тарифу \"smart\" происходит превышение лимита по количеству, их отправляют 23% абонентов этого тарифа;\n",
    "- в 58% совершенных за месяц Интернет-соединений по тарифу \"smart\" происходит превышение лимита по объему трафика, их совершают 66% абонентов этого тарифа;\n",
    "- ни в одном из случаев по звонкам и сообщениям по тарифу \"ultra\" и никем из абонетов этого тарифа лимит не превышается;\n",
    "- лишь в 14% совершенных за месяц Интернет-соединений по тарифу \"ultra\" происходит превышение лимита по объему трафика, их совершают 13% абонентов этого тарифа."
   ]
  },
  {
   "cell_type": "markdown",
   "metadata": {},
   "source": [
    "Найдем средние выручки оператора связи от превышения лимита абонентами каждого из тарифов по каждой услуге."
   ]
  },
  {
   "cell_type": "code",
   "execution_count": 60,
   "metadata": {},
   "outputs": [
    {
     "name": "stdout",
     "output_type": "stream",
     "text": [
      "Средняя выручка от превышения лимита по звонкам от абонента тарифа \"smart\" в месяц: 275.3\n",
      "Средняя выручка от превышения лимита по сообщениям от абонента тарифа \"smart\" в месяц: 64.4\n",
      "Средняя выручка от превышения лимита по Интернет-трафику от абонента тарифа \"smart\" в месяц: 645.2\n",
      "\n",
      "Средняя выручка от превышения лимита по звонкам от абонента тарифа \"ultra\" в месяц: 0.0\n",
      "Средняя выручка от превышения лимита по сообщениям от абонента тарифа \"ultra\" в месяц: 0.0\n",
      "Средняя выручка от превышения лимита по Интернет-трафику от абонента тарифа \"ultra\" в месяц: 420.2\n"
     ]
    }
   ],
   "source": [
    "# Средние выручки от превышения лимита по звонкам, сообщениям и Интернет-трафику \n",
    "# от абонента тарифа \"smart\"\n",
    "\n",
    "excess_mins_s = round(((\n",
    "    data_pt.query('tariff == \"smart\" and minutes_used > 500')\n",
    "    [\"minutes_used\"] - 500).mean() * 3), 1\n",
    ")\n",
    "excess_sms_s = round(((\n",
    "    data_pt.query('tariff == \"smart\" and messages_sent > 50')\n",
    "    [\"messages_sent\"] - 50).mean() * 3), 1\n",
    ")\n",
    "excess_gbs_s = round(((\n",
    "    data_pt.query('tariff == \"smart\" and gb_used > 15')\n",
    "    [\"gb_used\"] - 15).mean() * 200), 1\n",
    ")\n",
    "\n",
    "# Средние выручки от превышения лимита по звонкам, сообщениям и Интернет-трафику \n",
    "# от абонента тарифа \"ultra\"\n",
    "\n",
    "excess_mins_u = 0.0 # Заранее известно из предыдущих расчетов.\n",
    "excess_sms_u = 0.0 # Заранее известно из предыдущих расчетов.\n",
    "excess_gbs_u = round(((\n",
    "    data_pt.query('tariff == \"ultra\" and gb_used > 30')\n",
    "    [\"gb_used\"] - 30).mean() * 150), 1\n",
    ")\n",
    "        \n",
    "for service, excess_s in [('звонкам', excess_mins_s), \n",
    "                        ('сообщениям', excess_sms_s), \n",
    "                        ('Интернет-трафику', excess_gbs_s)]:\n",
    "    print(f'Средняя выручка от превышения лимита по {service}'\n",
    "          f' от абонента тарифа \"smart\" в месяц: {excess_s}')\n",
    "print()      \n",
    "for service, excess_u in [('звонкам', excess_mins_u), \n",
    "                        ('сообщениям', excess_sms_u), \n",
    "                        ('Интернет-трафику', excess_gbs_u)]:\n",
    "    print(f'Средняя выручка от превышения лимита по {service} '\n",
    "          f'от абонента тарифа \"ultra\" в месяц: {excess_u}')"
   ]
  },
  {
   "cell_type": "markdown",
   "metadata": {},
   "source": [
    "_Выводы_\n",
    "\n",
    "1. Абоненты тарифа \"smart\" почти в трети случаев превышают ежемесячные лимиты по звонкам (переплачивая в среднем 275 р.), почти в четверти случаев - по сообщениям (переплачивая в среднем 64 р.), и в двух третях случаев - по Интернет-трафику (переплачивая в среднем 645 р.).\n",
    "2. Абоненты тарифа \"ultra\" никогда не превышают ежемесячные лимиты по звонкам и сообщениям, и лишь в одном из 7-8 случаев происходит превышение по Интернет-трафику (переплата в среднем 420 р.).\n",
    "3. По усредненным данным, на одного абонента тарифа \"smart\" приходится выручка 1322 рубля, из которых 772 р. (58,4%) - переплата за превышение лимита.\n",
    "4. На одного абонента тарифа \"ultra\" приходится выручка 2086 рубля, из которых только 136 р. (6,5%) - переплата за превышение лимита."
   ]
  },
  {
   "cell_type": "markdown",
   "metadata": {},
   "source": [
    "### Динамика ежемесячных объемов услуг"
   ]
  },
  {
   "cell_type": "markdown",
   "metadata": {},
   "source": [
    "Посмотрим, насколько отличается пользование услугами у абонентов каждого тарифа от месяца к месяцу. "
   ]
  },
  {
   "cell_type": "code",
   "execution_count": 61,
   "metadata": {
    "scrolled": true
   },
   "outputs": [
    {
     "data": {
      "image/png": "[encoded data removed]",
      "text/plain": [
       "<Figure size 432x288 with 1 Axes>"
      ]
     },
     "metadata": {
      "needs_background": "light"
     },
     "output_type": "display_data"
    }
   ],
   "source": [
    "# Данные по продолжительности разговоров\n",
    "\n",
    "sns.barplot(x='month', y='minutes_used', hue='tariff', hue_order= ['smart', 'ultra'], data=data, errwidth=0)\n",
    "plt.title('Ежемесячная продолжительность разговоров (мин.)');"
   ]
  },
  {
   "cell_type": "code",
   "execution_count": 62,
   "metadata": {},
   "outputs": [
    {
     "data": {
      "image/png": "[encoded data removed]",
      "text/plain": [
       "<Figure size 432x288 with 1 Axes>"
      ]
     },
     "metadata": {
      "needs_background": "light"
     },
     "output_type": "display_data"
    }
   ],
   "source": [
    "# Данные по количеству сообщений\n",
    "\n",
    "sns.barplot(x='month', y='messages_sent', hue='tariff', hue_order= ['smart', 'ultra'], data=data, errwidth=0)\n",
    "plt.title('Ежемесячное количество сообщениий');"
   ]
  },
  {
   "cell_type": "code",
   "execution_count": 63,
   "metadata": {},
   "outputs": [
    {
     "data": {
      "image/png": "[encoded data removed]",
      "text/plain": [
       "<Figure size 432x288 with 1 Axes>"
      ]
     },
     "metadata": {
      "needs_background": "light"
     },
     "output_type": "display_data"
    }
   ],
   "source": [
    "# Данные по объему Интернет-трафика\n",
    "\n",
    "sns.barplot(x='month', y='gb_used', hue='tariff', hue_order= ['smart', 'ultra'], data=data, errwidth=0)\n",
    "plt.title('Ежемесячный объем Интернет-трафика (Гб)');"
   ]
  },
  {
   "cell_type": "code",
   "execution_count": 64,
   "metadata": {},
   "outputs": [
    {
     "data": {
      "image/png": "[encoded data removed]",
      "text/plain": [
       "<Figure size 432x288 with 1 Axes>"
      ]
     },
     "metadata": {
      "needs_background": "light"
     },
     "output_type": "display_data"
    }
   ],
   "source": [
    "# Данные по выручке\n",
    "\n",
    "sns.barplot(x='month', y='revenue', hue='tariff', hue_order= ['smart', 'ultra'], data=data, errwidth=0)\n",
    "plt.title('Ежемесячная выручка (руб.)');"
   ]
  },
  {
   "cell_type": "markdown",
   "metadata": {},
   "source": [
    "Из графиков видно, что:\n",
    "- у абонентов тарифа \"smart\" в январе самый низкий уровень пользования услугами, затем он резко растет в феврале и марте, и после небольшой коррекции в апреле держится примерно на одном уровне или очень медленно растет, сделав очередной скачок в декабре;\n",
    "- у абонентов тарифа \"ultra\" немного иная картина и в целом нет стабильных трендов: в январе уровень не так сильно падает, но в фервале (особенно в случае со звонками и сообщениями) он самый низкий в году, затем следует резкий подъем в марте, и до конца года постепенно повышается, местами с перепадами;\n",
    "- уровень выручки от абонентов тарифа \"smart\" примерно повторяет графики по пользованию услугами, а выручка от абонентов тарифа \"ultra\" практически не меняется в течение года.\n",
    "\n",
    "_Выводы_\n",
    "\n",
    "1. Абоненты дешевого тарифа пользуются услугами неодинаково в течение года, экономя средства после новогодних праздников и от месяца к месяцу увеличивая расходы вплоть до декабря.\n",
    "2. Абоненты дорогого тарифа в целом меньше беспокоятся о расходах, продолжая после праздников \"по инерции\" пользоваться услугами; затем, после небольшого спада в феврале, они также постепенно увеличивают расходы до конца года, но с меньшей стабильностью, ввиду разношерстности самих абонентов.\n",
    "3. Выручка от от абонентов тарифа \"ultra\" примерно одинаковая в течение года, ввиду того, что они редко выходят за пределы лимитов, включенных в абонентскую плату."
   ]
  },
  {
   "cell_type": "markdown",
   "metadata": {},
   "source": [
    "### Проверка гипотез"
   ]
  },
  {
   "cell_type": "markdown",
   "metadata": {},
   "source": [
    "#### Гипотеза 1: Средняя выручка пользователей тарифов «Ультра» и «Смарт» различаются."
   ]
  },
  {
   "cell_type": "markdown",
   "metadata": {},
   "source": [
    "Сформулируем нулевую и альтернативную гипотезы:\n",
    "\n",
    "H0: Среднемесячные выручки от пользователей тарифов «Ультра» и «Смарт» не различаются.\n",
    "\n",
    "H1: Среднемесячные выручки от пользователей тарифов «Ультра» и «Смарт» различаются."
   ]
  },
  {
   "cell_type": "markdown",
   "metadata": {},
   "source": [
    "Для проверки гипотез применим t-тест. Сравним две генеральные совокупности (значения ежемесячной выручки по двум разным тарифам) через имеющиеся выборки. Напомним, размер одной выборки (данные абонентов тарифа \"smart\") - 351, второй (\"ultra\") - 149."
   ]
  },
  {
   "cell_type": "markdown",
   "metadata": {},
   "source": [
    "Возьмем критический уровень статистической значимости равный 0,01. Т.е. допустимая для нас минимальная вероятность получить такие же или более экстремальные различия в значениях статистик по двум тарифам при верности нулевой гипотезы - 1%."
   ]
  },
  {
   "cell_type": "markdown",
   "metadata": {},
   "source": [
    "Для выбора параметра equal_var необходимо проверить три критерия:\n",
    "- генеральные совокупности независимы (+);\n",
    "- размер каждой выборки (по условию Центральной предельной теоремы) составляет не менее нескольких десятков значений (+);\n",
    "- дисперсии рассматриваемых генеральных совокупностей должны быть равны (?).\n",
    "\n",
    "Насчет последнего пункта есть большие сомнения, так как дисперсии в выборках сильно отличались. К тому же, выборки разного размера. Поэтому для параметра equal_var установим значение False."
   ]
  },
  {
   "cell_type": "code",
   "execution_count": 65,
   "metadata": {},
   "outputs": [
    {
     "name": "stdout",
     "output_type": "stream",
     "text": [
      "Уровень значимости (p-value): 7.2487241982126e-60\n",
      "Отвергаем нулевую гипотезу.\n"
     ]
    }
   ],
   "source": [
    "alpha = 0.01\n",
    "\n",
    "results = st.ttest_ind(data_pt.query('tariff == \"smart\"')['revenue'], \n",
    "                       data_pt.query('tariff == \"ultra\"')['revenue'], \n",
    "                       equal_var = False\n",
    "                      )\n",
    "\n",
    "print('Уровень значимости (p-value):', results.pvalue)\n",
    "\n",
    "if results.pvalue < alpha:\n",
    "    print('Отвергаем нулевую гипотезу.')\n",
    "else:\n",
    "    print('Не получилось отвергнуть нулевую гипотезу.')"
   ]
  },
  {
   "cell_type": "markdown",
   "metadata": {},
   "source": [
    "Еще раз вычислим средние значения среднемесячных выручек от абонентов двух тарифов:"
   ]
  },
  {
   "cell_type": "code",
   "execution_count": 66,
   "metadata": {},
   "outputs": [
    {
     "data": {
      "text/plain": [
       "1322.19"
      ]
     },
     "execution_count": 66,
     "metadata": {},
     "output_type": "execute_result"
    }
   ],
   "source": [
    "# Абонент тарифа \"smart\"\n",
    "\n",
    "round(data_pt.query('tariff == \"smart\"')['revenue'].mean(), 2)"
   ]
  },
  {
   "cell_type": "code",
   "execution_count": 67,
   "metadata": {},
   "outputs": [
    {
     "data": {
      "text/plain": [
       "2085.55"
      ]
     },
     "execution_count": 67,
     "metadata": {},
     "output_type": "execute_result"
    }
   ],
   "source": [
    "# Абонент тарифа \"ultra\"\n",
    "\n",
    "round(data_pt.query('tariff == \"ultra\"')['revenue'].mean(), 2)"
   ]
  },
  {
   "cell_type": "markdown",
   "metadata": {},
   "source": [
    "Как видим, значения отличаются более чем в полтора раза."
   ]
  },
  {
   "cell_type": "markdown",
   "metadata": {},
   "source": [
    "Это при том, что мы взяли сгруппированные по пользователям данные. Без группировки p-value еще меньше:"
   ]
  },
  {
   "cell_type": "code",
   "execution_count": 68,
   "metadata": {},
   "outputs": [
    {
     "data": {
      "text/plain": [
       "1.927011394420941e-250"
      ]
     },
     "execution_count": 68,
     "metadata": {},
     "output_type": "execute_result"
    }
   ],
   "source": [
    "st.ttest_ind(data.query('tariff == \"smart\"')['revenue'], \n",
    "             data.query('tariff == \"ultra\"')['revenue'], \n",
    "             equal_var = False).pvalue"
   ]
  },
  {
   "cell_type": "markdown",
   "metadata": {},
   "source": [
    "Это естественно, т.к. группировка (т.е. получение усредненных месячных данных по каждому абоненту) немного нивелирует общий разброс."
   ]
  },
  {
   "cell_type": "markdown",
   "metadata": {},
   "source": [
    "_Вывод_\n",
    "\n",
    "Гипотеза 1 верна: среднемесячные выручки от абонентов двух тарифов действительно различаются, выручка от тарифа \"ultra\" значительно больше."
   ]
  },
  {
   "cell_type": "markdown",
   "metadata": {},
   "source": [
    "\n",
    "#### Гипотеза 2: Средняя выручка пользователей из Москвы отличается от выручки пользователей из других регионов."
   ]
  },
  {
   "cell_type": "markdown",
   "metadata": {},
   "source": [
    "Сформулируем нулевую и альтернативную гипотезы:\n",
    "\n",
    "H0: Среднемесячные выручки от пользователей из Москвы и других регионов не отличаются.\n",
    "\n",
    "H1: Среднемесячные выручки от пользователей из Москвы и других регионов отличаются."
   ]
  },
  {
   "cell_type": "markdown",
   "metadata": {},
   "source": [
    "Также применим t-тест для проверки гипотез. При этом уже будем учитывать данные по всему набору данных, без группировки по пользователям, для максимального отражения разброса."
   ]
  },
  {
   "cell_type": "code",
   "execution_count": 69,
   "metadata": {},
   "outputs": [
    {
     "name": "stdout",
     "output_type": "stream",
     "text": [
      "Размер выборки по Москве - 611\n",
      "Размер выборки по остальным городам - 2605\n"
     ]
    }
   ],
   "source": [
    "# Определим размеры двух выборок.\n",
    "\n",
    "print('Размер выборки по Москве -', \n",
    "      round(data.query('city == \"Москва\"')['revenue'].count(), 2))\n",
    "print('Размер выборки по остальным городам -', \n",
    "      round(data.query('city != \"Москва\"')['revenue'].count(), 2))"
   ]
  },
  {
   "cell_type": "markdown",
   "metadata": {},
   "source": [
    "Ввиду отсутствия информации о дисперсиях выборок, а также того, что их размеры разные, снова для equal_var установим значение False."
   ]
  },
  {
   "cell_type": "markdown",
   "metadata": {},
   "source": [
    "Возьмем более строгий критический уровень статистической значимости - 0,05. Т.е. допустимая для нас минимальная вероятность получить такие же или более экстремальные различия в значениях статистик по Москве и другим городам при верности нулевой гипотезы - 5%."
   ]
  },
  {
   "cell_type": "code",
   "execution_count": 70,
   "metadata": {},
   "outputs": [
    {
     "name": "stdout",
     "output_type": "stream",
     "text": [
      "Уровень значимости (p-value): 0.5216952110000278\n",
      "Не получилось отвергнуть нулевую гипотезу.\n"
     ]
    }
   ],
   "source": [
    "alpha = 0.05\n",
    "\n",
    "results = st.ttest_ind(data.query('city == \"Москва\"')['revenue'], \n",
    "                       data.query('city != \"Москва\"')['revenue'], \n",
    "                       equal_var = False\n",
    "                      )\n",
    "\n",
    "print('Уровень значимости (p-value):', results.pvalue)\n",
    "\n",
    "if results.pvalue < alpha:\n",
    "    print('Отвергаем нулевую гипотезу.')\n",
    "else:\n",
    "    print('Не получилось отвергнуть нулевую гипотезу.')"
   ]
  },
  {
   "cell_type": "markdown",
   "metadata": {},
   "source": [
    "Найдем средние значения среднемесячных выручек по услугам, оказанным в Москве и других городах:"
   ]
  },
  {
   "cell_type": "code",
   "execution_count": 71,
   "metadata": {},
   "outputs": [
    {
     "name": "stdout",
     "output_type": "stream",
     "text": [
      "Среднее значение по Москве: 1546.71\n",
      "Среднее значение по остальным городам: 1524.73\n"
     ]
    }
   ],
   "source": [
    "print(\"Среднее значение по Москве:\", \n",
    "      round(data.query('city == \"Москва\"')['revenue'].mean(), 2))\n",
    "print(\"Среднее значение по остальным городам:\", \n",
    "      round(data.query('city != \"Москва\"')['revenue'].mean(), 2))"
   ]
  },
  {
   "cell_type": "markdown",
   "metadata": {},
   "source": [
    "Как видим, значения очень близки."
   ]
  },
  {
   "cell_type": "markdown",
   "metadata": {},
   "source": [
    "_Вывод_\n",
    "\n",
    "Гипотеза 2 ошибочна: среднемесячные выручки от абонентов из Москвы и не из Москвы примерно одинаковы."
   ]
  },
  {
   "cell_type": "markdown",
   "metadata": {},
   "source": [
    "### Итоги исследования и рекомендации"
   ]
  },
  {
   "cell_type": "markdown",
   "metadata": {},
   "source": [
    "#### Итоги исследования\n",
    "\n",
    "1. Если выборка репрезентативна, то за 2018 год около 10% абонентов прекратили пользоваться услугами оператора.\n",
    "2. Неудавшиеся звонки - каждый пятый. Неудавшиеся Интернет-соединения - каждый десятый.  Если не учитывать нули, то чаще всего звонки длятся 5 минут, Интернет-трафик за одно соединение - около 300 Мб.\n",
    "3. Абонент тарифа \"Ультра\" совершает в среднем на треть больше звонков и отправляет в полтора раза больше сообщений, чем абонент \"Смарт\", при этом средняя продолжительность звонков у них примерно одинаковая. Также абонент дорогого тарифа дольше остается онлайн и потребляет в среднем в полтора раза больше трафика.\n",
    "4. Из всех услуг на выручку от абонентов обоих тарифов больше влияет объем Интернет-трафика; при этом в большинстве случаев выручка от абонентов тарифа \"Ультра\" не превышает 2000 рублей в месяц и в целом мало зависит от объема услуг. Среднемесячный объем выручки от одного абонента на двух тарифах отличается на 58% (в пользу тарифа \"Ультра\"). \n",
    "5. Среди абонентов дорогого тарифа в объеме звонков и Интернета гораздо больший разброс, при этом у каждого из таких абонентов более-менее постоянный уровень. У абонентов дешевого тарифа разброс не такой большой, но каждый из них может пользоваться услугами в разном объеме в разные месяцы. Количество отправленных сообщений у абонентов обоих тарифов относительно стабильное.\n",
    "6. Выбросы (экстремальные значения) в потреблении услуг у абонентов тарифа \"Смарт\" встречаются гораздо чаще, причем некоторые из этих абонентов тратят порой больше в абсолютных значениях, чем пользователи дорогого тарифа.\n",
    "7. Абоненты тарифа \"Смарт\" почти в трети случаев превышают ежемесячные лимиты по звонкам (переплачивая в среднем 275 р.), почти в четверти случаев - по сообщениям (переплачивая в среднем 64 р.), и в двух третях случаев - по Интернет-трафику (переплачивая в среднем 645 р.). Абоненты тарифа \"Ультра\" никогда не превышают ежемесячные лимиты по звонкам и сообщениям, и лишь в одном из 7-8 случаев происходит превышение по Интернет-трафику (переплата в среднем 420 р.).\n",
    "8. В среднем у одного абонента тарифа \"Смарт\" переплата за превышение лимитов (которое происходит по всем трем услугам) составляет 58,4% всей месячной стоимости услуг; тогда как на одного абонента тарифа \"Ультра\" приходится всего 6,5% переплаты (и только за Интернет).\n",
    "9. Пик потребления у абонентов обоих тарифов приходится на декабрь; самый низкий уровень у тарифа \"Смарт\" в январе, у тарифа \"Ультра\" - в феврале. Рост расходов в течение года в случае дорогого тарифа менее стабильный из-за большой разницы в предпочтениях различных пользователей этого тарифа.\n",
    "10. Среднемесячные выручки от абонентов из Москвы и из других городов почти не отличаются, составляя примерно по 1500 р."
   ]
  },
  {
   "cell_type": "markdown",
   "metadata": {},
   "source": [
    "#### Рекомендации"
   ]
  },
  {
   "cell_type": "markdown",
   "metadata": {},
   "source": [
    "Для того, чтобы понять, какой из тарифов рекомендовать оператору мобильной связи, необходимо определить источники пополнения клиентской базы по рекламируемому тарифу.\n",
    "\n",
    "Таких источников обычно три:\n",
    "- новые абоненты, выбирающие оператора связи;\n",
    "- абоненты, переходящие от другого оператора к данному;\n",
    "- собственные абоненты, переходящие с другого тарифа на данный.\n",
    "\n",
    "1. Обычно большая часть новых абонентов берет сначала не самый дорогой тариф. Для этой категории реклама тарифа \"smart\" будет более эффективной.\n",
    "\n",
    "2. Учитывая, что качество связи у операторов более-менее одинакова, пользователи, меняющие оператора - это в основном те, кто ищут экономии. В их случае \"smart\" также более привлекательный тариф, чем вчертверо более дорогой \"ultra\".\n",
    "\n",
    "3. На переходе собственных абонентов остановимся поподробнее. Это тот источник, который может либо перевесить два предыдущих пункта, либо, наоборот, добавить аргументов в их пользу."
   ]
  },
  {
   "cell_type": "markdown",
   "metadata": {},
   "source": [
    "Задача мобильного оператора в том, чтобы абоненты потребляли как можно больше услуг. При этом он должен понимать, что они будут делать это в двух случаях (или их комбинациях): \n",
    "- если новый тариф позволит им меньше платить;\n",
    "- или если каждая дополнительная минута разговора (отправленное сообщение, гигабайт Интернета) будуть стоить им все дешевле.\n",
    "\n",
    "Первое для оператора - убытки. Это игра с нулевой суммой, т.е. то, что хорошо для абонента - плохо для оператора. Второе - как раз то, ради чего организовывается рекламная кампания. Поэтому задача аналитика - выбрать вариант тарифа, при котором, дополнительная прибыль после изменения оказывается больше, чем неизбежные убытки.\n",
    "\n",
    "Для понимания последствий рекламной кампании для собственных абонентов проведем симуляции переходов части пользователей со своего тарифа на рекламируемый, для каждого тарифа - отдельную симуляцию. И посмотрим, какой из этих вариантов будет более выгодным для оператора."
   ]
  },
  {
   "cell_type": "markdown",
   "metadata": {},
   "source": [
    "##### Потери в случае рекламы тарифа \"ultra\""
   ]
  },
  {
   "cell_type": "markdown",
   "metadata": {},
   "source": [
    "Выясним, кто из абонентов тарифа \"smart\" может перейти  на \"ultra\"."
   ]
  },
  {
   "cell_type": "markdown",
   "metadata": {},
   "source": [
    "Во-первых, это те, кто и так расходует больше, чем абонплата на \"ultra\", т.е. более 1950р. в месяц. Это как раз абоненты, чей переход уменьшит выручку компании.\n",
    "\n",
    "Во-вторых, это те, кто тратит меньше, но обычно превышает лимит на тарифе \"smart\", а после перехода стоимость каждых следующих минуты/сообщения/гигабайта будет для него дешевле."
   ]
  },
  {
   "cell_type": "markdown",
   "metadata": {},
   "source": [
    "Прежде всего необходимо выяснить, во всех ли случаях превышения лимитов выгодно переходить с тарифа \"smart\" на \"ultra\".\n",
    "\n",
    "Найдем удельную стоимость каждой минуты разговора, сообщения и гигабайта Интернет-трафика, включенных в абонентскую плату, до перехода и после. Для этого вычислим соответствующие коэффициенты пропорциональности (k) для каждого тарифа."
   ]
  },
  {
   "cell_type": "code",
   "execution_count": 72,
   "metadata": {},
   "outputs": [
    {
     "data": {
      "text/latex": [
       "$\\displaystyle k_{s} = 0.1183$"
      ],
      "text/plain": [
       "Eq(k_s, 0.1183)"
      ]
     },
     "execution_count": 72,
     "metadata": {},
     "output_type": "execute_result"
    }
   ],
   "source": [
    "# Решаем уравнение:\n",
    "# 500 * (3 * k_s) + 50 * (3 * k_s) + 15 * (200 * k_s) = 550.\n",
    "\n",
    "k_s = sp.symbols('k_s')\n",
    "ratio_s = sp.solve(500 * 3 * k_s + 50 * 3 * k_s + 15 * 200 * k_s - 550, k_s)[0]\n",
    "sp.Eq(k_s, round(ratio_s, 4))"
   ]
  },
  {
   "cell_type": "code",
   "execution_count": 73,
   "metadata": {},
   "outputs": [
    {
     "data": {
      "text/latex": [
       "$\\displaystyle k_{u} = 0.2294$"
      ],
      "text/plain": [
       "Eq(k_u, 0.2294)"
      ]
     },
     "execution_count": 73,
     "metadata": {},
     "output_type": "execute_result"
    }
   ],
   "source": [
    "# Решаем уравнение:\n",
    "# 3000 * (1 * k_u) + 1000 * (1 * k_u) + 30 * (150 * k_u) = 1950.\n",
    "\n",
    "k_u = sp.symbols('k_u')\n",
    "ratio_u = sp.solve(3000 * k_u + 1000 * k_u + 30 * 150 * k_u - 1950, k_u)[0]\n",
    "sp.Eq(k_u, round(ratio_u, 4))"
   ]
  },
  {
   "cell_type": "code",
   "execution_count": 74,
   "metadata": {},
   "outputs": [
    {
     "name": "stdout",
     "output_type": "stream",
     "text": [
      "Стоимость минуты разговора в рамках лимита в тарифе \"smart\", рублей:\n"
     ]
    },
    {
     "data": {
      "text/latex": [
       "$\\displaystyle s_{m} = 0.3548$"
      ],
      "text/plain": [
       "Eq(s_m, 0.3548)"
      ]
     },
     "metadata": {},
     "output_type": "display_data"
    },
    {
     "name": "stdout",
     "output_type": "stream",
     "text": [
      "Стоимость отправки сообщения в рамках лимита в тарифе \"smart\", рублей:\n"
     ]
    },
    {
     "data": {
      "text/latex": [
       "$\\displaystyle s_{s} = 0.3548$"
      ],
      "text/plain": [
       "Eq(s_s, 0.3548)"
      ]
     },
     "metadata": {},
     "output_type": "display_data"
    },
    {
     "name": "stdout",
     "output_type": "stream",
     "text": [
      "Стоимость гигабайта трафика в рамках лимита в тарифе \"smart\", рублей:\n"
     ]
    },
    {
     "data": {
      "text/latex": [
       "$\\displaystyle s_{g} = 23.6559$"
      ],
      "text/plain": [
       "Eq(s_g, 23.6559)"
      ]
     },
     "metadata": {},
     "output_type": "display_data"
    },
    {
     "name": "stdout",
     "output_type": "stream",
     "text": [
      "\n",
      "Стоимость минуты разговора в рамках лимита в тарифе \"ultra\", рублей:\n"
     ]
    },
    {
     "data": {
      "text/latex": [
       "$\\displaystyle u_{m} = 0.2294$"
      ],
      "text/plain": [
       "Eq(u_m, 0.2294)"
      ]
     },
     "metadata": {},
     "output_type": "display_data"
    },
    {
     "name": "stdout",
     "output_type": "stream",
     "text": [
      "Стоимость отправки сообщения в рамках лимита в тарифе \"ultra\", рублей:\n"
     ]
    },
    {
     "data": {
      "text/latex": [
       "$\\displaystyle u_{s} = 0.2294$"
      ],
      "text/plain": [
       "Eq(u_s, 0.2294)"
      ]
     },
     "metadata": {},
     "output_type": "display_data"
    },
    {
     "name": "stdout",
     "output_type": "stream",
     "text": [
      "Стоимость гигабайта трафика в рамках лимита в тарифе \"ultra\", рублей:\n"
     ]
    },
    {
     "data": {
      "text/latex": [
       "$\\displaystyle u_{g} = 34.4118$"
      ],
      "text/plain": [
       "Eq(u_g, 34.4118)"
      ]
     },
     "metadata": {},
     "output_type": "display_data"
    }
   ],
   "source": [
    "# Вводим условные обозначения и расчитываем удельные стоимости \n",
    "# каждой минуты разговора, сообщения и гигабайта Интернет-трафика.\n",
    "\n",
    "s_m, s_s, s_g = sp.symbols('s_m, s_s, s_g')\n",
    "u_m, u_s, u_g = sp.symbols('u_m, u_s, u_g')\n",
    "\n",
    "x_s = 3 * ratio_s    # s_m\n",
    "y_s = 3 * ratio_s    # s_s\n",
    "z_s = 200 * ratio_s  # s_g\n",
    "\n",
    "x_u = ratio_u        # u_m\n",
    "y_u = ratio_u        # u_s\n",
    "z_u = 150 * ratio_u  # u_g\n",
    "\n",
    "print('Стоимость минуты разговора в рамках лимита в тарифе \"smart\", рублей:')\n",
    "display(sp.Eq(s_m, round(x_s, 4)))\n",
    "print('Стоимость отправки сообщения в рамках лимита в тарифе \"smart\", рублей:')\n",
    "display(sp.Eq(s_s, round(y_s, 4)))\n",
    "print('Стоимость гигабайта трафика в рамках лимита в тарифе \"smart\", рублей:')\n",
    "display(sp.Eq(s_g, round(z_s, 4)))\n",
    "print()\n",
    "print('Стоимость минуты разговора в рамках лимита в тарифе \"ultra\", рублей:')\n",
    "display(sp.Eq(u_m, round(x_u, 4)))\n",
    "print('Стоимость отправки сообщения в рамках лимита в тарифе \"ultra\", рублей:')\n",
    "display(sp.Eq(u_s, round(y_u, 4)))\n",
    "print('Стоимость гигабайта трафика в рамках лимита в тарифе \"ultra\", рублей:')\n",
    "display(sp.Eq(u_g, round(z_u, 4)))"
   ]
  },
  {
   "cell_type": "markdown",
   "metadata": {},
   "source": [
    "Становится очевидно, что в случае со звонками и сообщениями абонентам тарифа \"smart\" при любом превышении лимита выгодно перейти на \"ultra\".\n",
    "\n",
    "А вот пользователям Интернета изначально невыгодно менять тариф. Необходимо найти переходную точку, после которой при дальнейшем превышении лимита выгоднее уже перейти на более дорогой тариф. "
   ]
  },
  {
   "cell_type": "markdown",
   "metadata": {},
   "source": [
    "Выясним, при каких значениях превышения лимита удельные цены сравняются с минимальными."
   ]
  },
  {
   "cell_type": "code",
   "execution_count": 75,
   "metadata": {},
   "outputs": [
    {
     "data": {
      "text/latex": [
       "$\\displaystyle k = \\frac{200 g + 3 m + 3 s + 550}{200 g + 3 m + 3 s + 4650}$"
      ],
      "text/plain": [
       "Eq(k, (200*g + 3*m + 3*s + 550)/(200*g + 3*m + 3*s + 4650))"
      ]
     },
     "execution_count": 75,
     "metadata": {},
     "output_type": "execute_result"
    }
   ],
   "source": [
    "# Формула для расчета коэффициента k при превышении лимита абонентами тарифа \"smart\":\n",
    "# m - количество дополнительных минут разговора\n",
    "# s - количество дополнительных сообщений\n",
    "# g - количество дополнительных гигабайтов трафика\n",
    "\n",
    "k, m, s, g = sp.symbols('k, m, s, g')\n",
    "sp.Eq(k, (550 + 3 * m + 3 * s + 200 * g) / ((500 + m) * 3 + (50 + s) * 3 + (15 + g) * 200))"
   ]
  },
  {
   "cell_type": "code",
   "execution_count": 76,
   "metadata": {},
   "outputs": [
    {
     "data": {
      "text/latex": [
       "$\\displaystyle \\frac{9 m + 1650}{3 m + 4650} = 0.2294$"
      ],
      "text/plain": [
       "Eq((9*m + 1650)/(3*m + 4650), 0.2294)"
      ]
     },
     "metadata": {},
     "output_type": "display_data"
    },
    {
     "data": {
      "text/latex": [
       "$\\displaystyle \\frac{9 s + 1650}{3 s + 4650} = 0.2294$"
      ],
      "text/plain": [
       "Eq((9*s + 1650)/(3*s + 4650), 0.2294)"
      ]
     },
     "metadata": {},
     "output_type": "display_data"
    },
    {
     "data": {
      "text/latex": [
       "$\\displaystyle \\frac{40000 g + 110000}{200 g + 4650} = 34.4118$"
      ],
      "text/plain": [
       "Eq((40000*g + 110000)/(200*g + 4650), 34.4118)"
      ]
     },
     "metadata": {},
     "output_type": "display_data"
    }
   ],
   "source": [
    "# Приравниваем k к значению k_u отдельно для каждой из услуг.\n",
    "\n",
    "ratio_mins_0 = sp.Eq(3 * (550 + 3 * m) / ((500 + m) * 3 + 50 * 3 + 15 * 200), round(x_u, 4))\n",
    "ratio_sms_0 = sp.Eq(3 * (550 + 3 * s) / ((50 + s) * 3 + 500 * 3 + 15 * 200), round(y_u, 4))\n",
    "ratio_gbs_0 = sp.Eq(200 * (550 + 200 * g) / ((15 + g) * 200 + 500 * 3 + 50 * 3), round(z_u, 4))\n",
    "\n",
    "display(ratio_mins_0)\n",
    "display(ratio_sms_0)\n",
    "display(ratio_gbs_0)"
   ]
  },
  {
   "cell_type": "code",
   "execution_count": 77,
   "metadata": {},
   "outputs": [
    {
     "data": {
      "text/latex": [
       "$\\displaystyle m = -70.1761$"
      ],
      "text/plain": [
       "Eq(m, -70.1761)"
      ]
     },
     "metadata": {},
     "output_type": "display_data"
    },
    {
     "data": {
      "text/latex": [
       "$\\displaystyle s = -70.1761$"
      ],
      "text/plain": [
       "Eq(s, -70.1761)"
      ]
     },
     "metadata": {},
     "output_type": "display_data"
    },
    {
     "data": {
      "text/latex": [
       "$\\displaystyle g = 1.5102$"
      ],
      "text/plain": [
       "Eq(g, 1.5102)"
      ]
     },
     "metadata": {},
     "output_type": "display_data"
    }
   ],
   "source": [
    "# Находим значения дополнительных минут, сообщений и гигабайтов, при которых выгоден переход.\n",
    "\n",
    "display(sp.Eq(m, round(sp.solve(ratio_mins_0)[0], 4)))\n",
    "display(sp.Eq(s, round(sp.solve(ratio_sms_0)[0], 4)))\n",
    "display(sp.Eq(g, round(sp.solve(ratio_gbs_0)[0], 4)))"
   ]
  },
  {
   "cell_type": "markdown",
   "metadata": {},
   "source": [
    "Как и предполагалось, в случае звонков и сообщений такой переходной точки действительно нет (среди положительных значений).\n",
    "\n",
    "- Сообщения в нашей симуляции можно в принципе игнорировать, т.к. затраты на них пренебрежимо малы для влияния на решение абонента. \n",
    "\n",
    "- Для продолжительности разговора возьмем хотя бы психологически значимую отметку превышения в 1,5 раза, т.е. итого вместе с лимитом - 750. \n",
    "\n",
    "- Что касается Интернета, мы видим, что пользователям выгодно переходить на тариф \"ultra\" только после превышения лимита более чем на 1,5 Гб, т.е. если объем трафика составляет больше 16,5 Гб.\n",
    "\n",
    "С помощью симуляции мы выясним потенциальные потери в выручке при негативном сценарии."
   ]
  },
  {
   "cell_type": "code",
   "execution_count": 78,
   "metadata": {},
   "outputs": [
    {
     "name": "stdout",
     "output_type": "stream",
     "text": [
      "Выручка компании до изменения: 4916951\n",
      "Абонетов тарифа \"smart\": 351\n",
      "Абонетов тарифа \"ultra\": 149\n",
      "\n",
      "Выручка компании после изменения: 4819109\n",
      "Абонетов тарифа \"smart\": 302\n",
      "Абонетов тарифа \"ultra\": 198\n"
     ]
    }
   ],
   "source": [
    "# Создаем копию датафрейма data_pt.\n",
    "# Изменям значения тарифа по фильтру.\n",
    "# Формируем обновленный файл пользователей.\n",
    "# Собираем новый датафрейм data1 и применяем к нему функцию revenue()\n",
    "# Формируем обновленную сводную таблицу data_pt1.\n",
    "\n",
    "print('Выручка компании до изменения:', int(data['revenue'].sum()))\n",
    "print('Абонетов тарифа \"smart\":', data_pt.query('tariff == \"smart\"')['tariff'].count())\n",
    "print('Абонетов тарифа \"ultra\":', data_pt.query('tariff == \"ultra\"')['tariff'].count())\n",
    "print()\n",
    "\n",
    "data_pt1 = data_pt.copy()\n",
    "data_pt1.loc[\n",
    "    (data_pt1['tariff'] == 'smart') \n",
    "    & (\n",
    "        (data_pt1['revenue'] > 1950) |\n",
    "        ((data_pt1['minutes_used'] > 750) & (data_pt1['gb_used'] > 16.5))\n",
    "      ), 'tariff']  = 'ultra'\n",
    "\n",
    "users1 = data_pt1[['tariff']].reset_index(level=0)\n",
    "\n",
    "data1 = users1.merge((calls_monthly\n",
    "     .merge(messages_monthly, on=('user_id', 'month'), how='outer')\n",
    "     .merge(internet_monthly, on=('user_id', 'month'), how='outer')\n",
    "     .reset_index()), on='user_id', how='outer')\n",
    "\n",
    "data1['revenue'] = data1.apply(revenue, axis=1)\n",
    "\n",
    "data_pt_services1 = data1.pivot_table(index='user_id', \n",
    "                                      values=['minutes_used', \n",
    "                                              'messages_sent', \n",
    "                                              'gb_used', \n",
    "                                              'revenue']\n",
    "                                     )\n",
    "data_pt_tariff1 = data1.pivot_table(index='user_id', \n",
    "                                    values='tariff', \n",
    "                                    aggfunc='first'\n",
    "                                   )\n",
    "data_pt1 = data_pt_services1.merge(data_pt_tariff1, on='user_id')\n",
    "data_pt1 = data_pt1.reindex(columns=['tariff', \n",
    "                                     'minutes_used', \n",
    "                                     'messages_sent', \n",
    "                                     'gb_used', \n",
    "                                     'revenue']\n",
    "                           )\n",
    "\n",
    "print('Выручка компании после изменения:', int(data1['revenue'].sum()))\n",
    "print('Абонетов тарифа \"smart\":', data_pt1.query('tariff == \"smart\"')['tariff'].count())\n",
    "print('Абонетов тарифа \"ultra\":', data_pt1.query('tariff == \"ultra\"')['tariff'].count())\n",
    "\n",
    "del data_pt1"
   ]
  },
  {
   "cell_type": "markdown",
   "metadata": {},
   "source": [
    "Как видим выручка оператора уменьшится почти на 100 тыс. рублей с каждых 500 абонентов. Это немалая сумма, учитывая многомиллионную абонентскую базу."
   ]
  },
  {
   "cell_type": "markdown",
   "metadata": {},
   "source": [
    "##### Потери в случае рекламы тарифа \"smart\"."
   ]
  },
  {
   "cell_type": "markdown",
   "metadata": {},
   "source": [
    "Теперь выясним, кто может перейти с тарифа \"ultra\" на \"smart\"."
   ]
  },
  {
   "cell_type": "markdown",
   "metadata": {},
   "source": [
    "Во-первых, это те, кто использует меньше минут, сообщений и гигабайтов, чем включены в абонплату на тарифе \"smart\". Это абоненты, чей переход уменьшит выручку компании.\n",
    "\n",
    "Во-вторых, это те из оставшихся, кто, используя тот же объем услуг на тарифе \"smart\", платил бы меньше 1950 р."
   ]
  },
  {
   "cell_type": "code",
   "execution_count": 79,
   "metadata": {},
   "outputs": [
    {
     "name": "stdout",
     "output_type": "stream",
     "text": [
      "Выручка компании до изменения: 4916951\n",
      "Абонетов тарифа \"smart\": 351\n",
      "Абонетов тарифа \"ultra\": 149\n",
      "\n",
      "Выручка компании после изменения: 4840726\n",
      "Абонетов тарифа \"smart\": 363\n",
      "Абонетов тарифа \"ultra\": 137\n"
     ]
    }
   ],
   "source": [
    "# Создаем копию датафрейма data_pt.\n",
    "# Изменям значения тарифа по фильтру.\n",
    "# Формируем обновленный файл пользователей.\n",
    "# Собираем новый датафрейм data1 и применяем к нему функцию revenue()\n",
    "# Формируем обновленную сводную таблицу data_pt1.\n",
    "\n",
    "print('Выручка компании до изменения:', int(data['revenue'].sum()))\n",
    "print('Абонетов тарифа \"smart\":', data_pt.query('tariff == \"smart\"')['tariff'].count())\n",
    "print('Абонетов тарифа \"ultra\":', data_pt.query('tariff == \"ultra\"')['tariff'].count())\n",
    "print()\n",
    "\n",
    "data_pt1 = data_pt.copy()\n",
    "data_pt1.loc[(data_pt1['tariff'] == 'ultra') & \n",
    "             (\n",
    "                 ((data_pt1['minutes_used'] < 500) &\n",
    "                  (data_pt1['gb_used'] < 15) & \n",
    "                  (data_pt['messages_sent'] < 50))\n",
    "                 | \n",
    "                 ((data_pt1.loc[data_pt1['minutes_used'] > 500]['minutes_used'] - 500) * 3 + \n",
    "                  (data_pt1.loc[data_pt1['messages_sent'] > 50]['messages_sent'] - 50) * 3 +\n",
    "                  (data_pt1.loc[data_pt1['gb_used'] > 15]['gb_used'] - 15) * 200 + 550 < 1950)\n",
    "             ), 'tariff'\n",
    "            ] = 'smart'\n",
    "\n",
    "users1 = data_pt1[['tariff']].reset_index(level=0)\n",
    "\n",
    "data1 = users1.merge((calls_monthly\n",
    "     .merge(messages_monthly, on=('user_id', 'month'), how='outer')\n",
    "     .merge(internet_monthly, on=('user_id', 'month'), how='outer')\n",
    "     .reset_index()), on='user_id', how='outer')\n",
    "\n",
    "data1['revenue'] = data1.apply(revenue, axis=1)\n",
    "\n",
    "data_pt_services1 = data1.pivot_table(index='user_id', \n",
    "                                      values=['minutes_used', \n",
    "                                              'messages_sent', \n",
    "                                              'gb_used', \n",
    "                                              'revenue'])\n",
    "data_pt_tariff1 = data1.pivot_table(index='user_id', \n",
    "                                    values='tariff', \n",
    "                                    aggfunc='first')\n",
    "data_pt1 = data_pt_services1.merge(data_pt_tariff1, on='user_id')\n",
    "data_pt1 = data_pt1.reindex(columns=['tariff', \n",
    "                                     'minutes_used', \n",
    "                                     'messages_sent', \n",
    "                                     'gb_used', \n",
    "                                     'revenue'])\n",
    "\n",
    "print('Выручка компании после изменения:', int(data1['revenue'].sum()))\n",
    "print('Абонетов тарифа \"smart\":', data_pt1.query('tariff == \"smart\"')['tariff'].count())\n",
    "print('Абонетов тарифа \"ultra\":', data_pt1.query('tariff == \"ultra\"')['tariff'].count())\n",
    "\n",
    "del data_pt1"
   ]
  },
  {
   "cell_type": "markdown",
   "metadata": {},
   "source": [
    "Как видно из симуляции, в случае перехода с \"ultra\" на \"smart\" потери в выручке при негативном сценарии могут составить около 76 тыс. рублей, что на четверть меньше предыдущего варианта.\n",
    "\n",
    "Таким образом, в данном источнике привлечения абонентов также предпочтение отдается рекламе тарифа \"smart\"."
   ]
  },
  {
   "cell_type": "markdown",
   "metadata": {},
   "source": [
    "_Вывод_\n",
    "\n",
    "По всем параметрам рекламировать рекомендуется тариф \"smart\":\n",
    "\n",
    "- Новые абоненты обычно начинают не с самого дорогого тарифа. Для этой категории реклама тарифа \"smart\" будет более эффективной.\n",
    "\n",
    "- Для абонентов, приходящих от другого оператора, ищущих экономии, обычно более привлекателен дешевый \"smart\".\n",
    "\n",
    "- Потенциальное уменьшение выручки от перехода абонентов с тарифа \"ultra\" на \"smart\" меньше, чем с тарифа \"smart\" на \"ultra\"."
   ]
  },
  {
   "cell_type": "markdown",
   "metadata": {},
   "source": [
    "### Общий вывод"
   ]
  },
  {
   "cell_type": "markdown",
   "metadata": {},
   "source": [
    "1. В целом, поведение абонентов тарифа \"Ультра\" более разнообразное с точки зрения потребления телекоммуникационных услуг. Они более свободны в использовании тарифных пакетов и ведут себя соответственно своим индивидуальным предпочтениям. При этом, каждый из них более постоянен в объемах потребления, чем средний абонент тарифа \"Смарт\", следовательно, потенциально менее склонен к переходам с тарифа на тариф.\n",
    "\n",
    "\n",
    "2. Платя абонентскую плату почти в 4 раза большую, абонент тарифа \"Ультра\" тем не менее отправляет только в 1,5 раза больше сообщений, потребляет в 1,5 раза больше Интернет-трафика и звонит лишь в 1,3 раза чаще, чем абонент тарифа \"Смарт\".\n",
    "\n",
    "\n",
    "3. Среднемесячная выручка от абонента тарифа \"Ультра\" превышает соответствующую выручку от абонента тарифа \"Смарт\" менее, чем на 60%. При этом выручка от первого чаще всего примерно равна размеру его абонентской платы, а у второго - практически всегда больше.\n",
    "\n",
    "\n",
    "4. Превышение лимитов у абонентов тарифа \"Ультра\" почти не происходит, за редким исключением (только по Интернету). У абонентов тарифа \"Смарт\" превышение по звонкам и сообщениям происходит в каждом третьем-четвертом случае, а по Интернету - в подавляющем большинстве случаев. В среднем переплата у одного абонента дешевого тарифа достигает почти 60% от общей суммы платежа (в 9 раз больше, чем у абонентов более дорогого тарифа).\n",
    "\n",
    "\n",
    "5. Среди абонентов \"Мегалайна\" средний москвич платит за его услуги столько же в месяц, сколько и средний житель из остальных городов, представленных в выборке. Поэтому рекламную кампанию стоит проводить одну общую по стране.\n",
    "\n",
    "\n",
    "6. Для компании потенциальный переход существующих абонентов на \"Ультра\" может снизить выручку гораздо сильнее, чем переход на \"Смарт\". Поэтому рекламировать рекомендуется именно тариф \"Смарт\". Новых для оператора абонентов также больше привлек бы тариф \"Смарт\": на \"Ультра\" слишком нереальные лимиты по звонкам и сообщениям, которые никто не использует в полном объеме, а пакет Интернета на \"Ультра\" больше всего вдвое при вчетверо дорогом тарифе.\n",
    "\n",
    "\n",
    "7. Если перепады в использовании услуг в разные месяцы примерно одинаковые каждый год, целесообразнее проводить рекламную кампанию тарифа \"Смарт\" в марте (после самого \"недорогого\" для абонента \"Ультра\" месяца - февраля). Это чуть повысит соблазн перейти на более дешевый тариф. Для рекламы тарифа \"Ультра\" лучший месяц проведения рекламной кампании - январь (после \"дорогого\" для абонента \"Смарт\" декабря)."
   ]
  }
 ],
 "metadata": {
  "ExecuteTimeLog": [
   {
    "duration": 4,
    "start_time": "2022-05-27T04:57:15.248Z"
   },
   {
    "duration": 34,
    "start_time": "2022-05-27T04:58:36.255Z"
   },
   {
    "duration": 1968,
    "start_time": "2022-05-27T04:59:23.345Z"
   },
   {
    "duration": 432,
    "start_time": "2022-05-27T05:00:07.807Z"
   },
   {
    "duration": 12,
    "start_time": "2022-05-27T06:32:40.514Z"
   },
   {
    "duration": 23,
    "start_time": "2022-05-27T06:34:07.806Z"
   },
   {
    "duration": 2,
    "start_time": "2022-05-27T07:07:55.866Z"
   },
   {
    "duration": 2,
    "start_time": "2022-05-27T07:10:38.851Z"
   },
   {
    "duration": 1132,
    "start_time": "2022-06-07T17:59:39.550Z"
   },
   {
    "duration": 0,
    "start_time": "2022-06-07T17:59:40.684Z"
   },
   {
    "duration": 0,
    "start_time": "2022-06-07T17:59:40.685Z"
   },
   {
    "duration": 0,
    "start_time": "2022-06-07T17:59:40.687Z"
   },
   {
    "duration": 0,
    "start_time": "2022-06-07T17:59:40.694Z"
   },
   {
    "duration": 0,
    "start_time": "2022-06-07T17:59:40.696Z"
   },
   {
    "duration": 0,
    "start_time": "2022-06-07T17:59:40.696Z"
   },
   {
    "duration": 0,
    "start_time": "2022-06-07T17:59:40.697Z"
   },
   {
    "duration": 0,
    "start_time": "2022-06-07T17:59:40.698Z"
   },
   {
    "duration": 0,
    "start_time": "2022-06-07T17:59:40.699Z"
   },
   {
    "duration": 0,
    "start_time": "2022-06-07T17:59:40.700Z"
   },
   {
    "duration": 0,
    "start_time": "2022-06-07T17:59:40.701Z"
   },
   {
    "duration": 0,
    "start_time": "2022-06-07T17:59:40.702Z"
   },
   {
    "duration": 0,
    "start_time": "2022-06-07T17:59:40.703Z"
   },
   {
    "duration": 0,
    "start_time": "2022-06-07T17:59:40.703Z"
   },
   {
    "duration": 0,
    "start_time": "2022-06-07T17:59:40.704Z"
   },
   {
    "duration": 0,
    "start_time": "2022-06-07T17:59:40.705Z"
   },
   {
    "duration": 0,
    "start_time": "2022-06-07T17:59:40.707Z"
   },
   {
    "duration": 0,
    "start_time": "2022-06-07T17:59:40.708Z"
   },
   {
    "duration": 0,
    "start_time": "2022-06-07T17:59:40.709Z"
   },
   {
    "duration": 0,
    "start_time": "2022-06-07T17:59:40.710Z"
   },
   {
    "duration": 0,
    "start_time": "2022-06-07T17:59:40.711Z"
   },
   {
    "duration": 0,
    "start_time": "2022-06-07T17:59:40.712Z"
   },
   {
    "duration": 0,
    "start_time": "2022-06-07T17:59:40.713Z"
   },
   {
    "duration": 0,
    "start_time": "2022-06-07T17:59:40.714Z"
   },
   {
    "duration": 0,
    "start_time": "2022-06-07T17:59:40.715Z"
   },
   {
    "duration": 0,
    "start_time": "2022-06-07T17:59:40.715Z"
   },
   {
    "duration": 0,
    "start_time": "2022-06-07T17:59:40.716Z"
   },
   {
    "duration": 0,
    "start_time": "2022-06-07T17:59:40.717Z"
   },
   {
    "duration": 0,
    "start_time": "2022-06-07T17:59:40.718Z"
   },
   {
    "duration": 0,
    "start_time": "2022-06-07T17:59:40.719Z"
   },
   {
    "duration": 0,
    "start_time": "2022-06-07T17:59:40.720Z"
   },
   {
    "duration": 0,
    "start_time": "2022-06-07T17:59:40.721Z"
   },
   {
    "duration": 0,
    "start_time": "2022-06-07T17:59:40.722Z"
   },
   {
    "duration": 0,
    "start_time": "2022-06-07T17:59:40.723Z"
   },
   {
    "duration": 0,
    "start_time": "2022-06-07T17:59:40.724Z"
   },
   {
    "duration": 0,
    "start_time": "2022-06-07T17:59:40.725Z"
   },
   {
    "duration": 0,
    "start_time": "2022-06-07T17:59:40.726Z"
   },
   {
    "duration": 0,
    "start_time": "2022-06-07T17:59:40.726Z"
   },
   {
    "duration": 0,
    "start_time": "2022-06-07T17:59:40.727Z"
   },
   {
    "duration": 0,
    "start_time": "2022-06-07T17:59:40.728Z"
   },
   {
    "duration": 0,
    "start_time": "2022-06-07T17:59:40.729Z"
   },
   {
    "duration": 3,
    "start_time": "2022-06-07T18:00:11.103Z"
   },
   {
    "duration": 1069,
    "start_time": "2022-06-07T18:00:27.946Z"
   },
   {
    "duration": 1013,
    "start_time": "2022-06-07T18:00:32.283Z"
   },
   {
    "duration": 11,
    "start_time": "2022-06-07T18:00:39.677Z"
   },
   {
    "duration": 8,
    "start_time": "2022-06-07T18:00:39.690Z"
   },
   {
    "duration": 9,
    "start_time": "2022-06-07T18:00:39.700Z"
   },
   {
    "duration": 25,
    "start_time": "2022-06-07T18:00:39.711Z"
   },
   {
    "duration": 16,
    "start_time": "2022-06-07T18:00:39.737Z"
   },
   {
    "duration": 16,
    "start_time": "2022-06-07T18:00:39.755Z"
   },
   {
    "duration": 13,
    "start_time": "2022-06-07T18:00:39.772Z"
   },
   {
    "duration": 10,
    "start_time": "2022-06-07T18:00:39.794Z"
   },
   {
    "duration": 21,
    "start_time": "2022-06-07T18:00:39.805Z"
   },
   {
    "duration": 31,
    "start_time": "2022-06-07T18:00:39.827Z"
   },
   {
    "duration": 41,
    "start_time": "2022-06-07T18:00:39.861Z"
   },
   {
    "duration": 15,
    "start_time": "2022-06-07T18:00:39.903Z"
   },
   {
    "duration": 21,
    "start_time": "2022-06-07T18:00:39.920Z"
   },
   {
    "duration": 17,
    "start_time": "2022-06-07T18:00:39.944Z"
   },
   {
    "duration": 55,
    "start_time": "2022-06-07T18:00:39.963Z"
   },
   {
    "duration": 33,
    "start_time": "2022-06-07T18:00:40.020Z"
   },
   {
    "duration": 15,
    "start_time": "2022-06-07T18:00:40.055Z"
   },
   {
    "duration": 26,
    "start_time": "2022-06-07T18:00:40.071Z"
   },
   {
    "duration": 15,
    "start_time": "2022-06-07T18:00:40.098Z"
   },
   {
    "duration": 6,
    "start_time": "2022-06-07T18:01:05.449Z"
   },
   {
    "duration": 6,
    "start_time": "2022-06-07T18:01:31.141Z"
   },
   {
    "duration": 11,
    "start_time": "2022-06-07T18:01:36.927Z"
   },
   {
    "duration": 30,
    "start_time": "2022-06-07T18:01:36.940Z"
   },
   {
    "duration": 85,
    "start_time": "2022-06-07T18:01:36.972Z"
   },
   {
    "duration": 11,
    "start_time": "2022-06-07T18:01:37.059Z"
   },
   {
    "duration": 33,
    "start_time": "2022-06-07T18:01:37.073Z"
   },
   {
    "duration": 186,
    "start_time": "2022-06-07T18:01:37.108Z"
   },
   {
    "duration": 52,
    "start_time": "2022-06-07T18:01:37.298Z"
   },
   {
    "duration": 9,
    "start_time": "2022-06-07T18:01:49.261Z"
   },
   {
    "duration": 32,
    "start_time": "2022-06-07T18:01:49.273Z"
   },
   {
    "duration": 50,
    "start_time": "2022-06-07T18:01:49.306Z"
   },
   {
    "duration": 10,
    "start_time": "2022-06-07T18:01:49.358Z"
   },
   {
    "duration": 4,
    "start_time": "2022-06-07T18:01:49.370Z"
   },
   {
    "duration": 29,
    "start_time": "2022-06-07T18:01:49.375Z"
   },
   {
    "duration": 17,
    "start_time": "2022-06-07T18:01:49.405Z"
   },
   {
    "duration": 215,
    "start_time": "2022-06-07T18:01:49.423Z"
   },
   {
    "duration": 63,
    "start_time": "2022-06-07T18:01:49.639Z"
   },
   {
    "duration": 31,
    "start_time": "2022-06-07T18:01:49.704Z"
   },
   {
    "duration": 38,
    "start_time": "2022-06-07T18:01:49.737Z"
   },
   {
    "duration": 46,
    "start_time": "2022-06-07T18:01:49.776Z"
   },
   {
    "duration": 11,
    "start_time": "2022-06-07T18:08:13.434Z"
   },
   {
    "duration": 13,
    "start_time": "2022-06-07T18:08:13.447Z"
   },
   {
    "duration": 8,
    "start_time": "2022-06-07T18:08:13.461Z"
   },
   {
    "duration": 7,
    "start_time": "2022-06-07T18:08:13.513Z"
   },
   {
    "duration": 8,
    "start_time": "2022-06-07T18:08:13.522Z"
   },
   {
    "duration": 72,
    "start_time": "2022-06-07T18:08:13.531Z"
   },
   {
    "duration": 17,
    "start_time": "2022-06-07T18:08:34.212Z"
   },
   {
    "duration": 13,
    "start_time": "2022-06-07T18:09:02.523Z"
   },
   {
    "duration": 1744,
    "start_time": "2022-06-07T18:19:15.371Z"
   },
   {
    "duration": 1028,
    "start_time": "2022-06-07T18:19:23.154Z"
   },
   {
    "duration": 11,
    "start_time": "2022-06-07T18:19:24.184Z"
   },
   {
    "duration": 7,
    "start_time": "2022-06-07T18:19:24.197Z"
   },
   {
    "duration": 10,
    "start_time": "2022-06-07T18:19:24.206Z"
   },
   {
    "duration": 11,
    "start_time": "2022-06-07T18:19:24.218Z"
   },
   {
    "duration": 8,
    "start_time": "2022-06-07T18:19:24.231Z"
   },
   {
    "duration": 15,
    "start_time": "2022-06-07T18:19:24.240Z"
   },
   {
    "duration": 13,
    "start_time": "2022-06-07T18:19:24.257Z"
   },
   {
    "duration": 25,
    "start_time": "2022-06-07T18:19:24.271Z"
   },
   {
    "duration": 20,
    "start_time": "2022-06-07T18:19:24.298Z"
   },
   {
    "duration": 31,
    "start_time": "2022-06-07T18:19:24.319Z"
   },
   {
    "duration": 21,
    "start_time": "2022-06-07T18:19:24.352Z"
   },
   {
    "duration": 31,
    "start_time": "2022-06-07T18:19:24.375Z"
   },
   {
    "duration": 22,
    "start_time": "2022-06-07T18:19:24.407Z"
   },
   {
    "duration": 13,
    "start_time": "2022-06-07T18:19:24.430Z"
   },
   {
    "duration": 17,
    "start_time": "2022-06-07T18:19:24.444Z"
   },
   {
    "duration": 57,
    "start_time": "2022-06-07T18:19:24.462Z"
   },
   {
    "duration": 13,
    "start_time": "2022-06-07T18:19:24.520Z"
   },
   {
    "duration": 8,
    "start_time": "2022-06-07T18:19:24.535Z"
   },
   {
    "duration": 16,
    "start_time": "2022-06-07T18:19:24.545Z"
   },
   {
    "duration": 6,
    "start_time": "2022-06-07T18:19:24.562Z"
   },
   {
    "duration": 28,
    "start_time": "2022-06-07T18:19:24.570Z"
   },
   {
    "duration": 12,
    "start_time": "2022-06-07T18:19:24.599Z"
   },
   {
    "duration": 30,
    "start_time": "2022-06-07T18:19:24.612Z"
   },
   {
    "duration": 103,
    "start_time": "2022-06-07T18:19:24.643Z"
   },
   {
    "duration": 11,
    "start_time": "2022-06-07T18:19:24.748Z"
   },
   {
    "duration": 34,
    "start_time": "2022-06-07T18:19:24.760Z"
   },
   {
    "duration": 222,
    "start_time": "2022-06-07T18:19:24.798Z"
   },
   {
    "duration": 35,
    "start_time": "2022-06-07T18:19:25.022Z"
   },
   {
    "duration": 8,
    "start_time": "2022-06-07T18:19:25.059Z"
   },
   {
    "duration": 47,
    "start_time": "2022-06-07T18:19:25.068Z"
   },
   {
    "duration": 45,
    "start_time": "2022-06-07T18:19:25.116Z"
   },
   {
    "duration": 10,
    "start_time": "2022-06-07T18:19:25.162Z"
   },
   {
    "duration": 21,
    "start_time": "2022-06-07T18:19:25.174Z"
   },
   {
    "duration": 12,
    "start_time": "2022-06-07T18:19:25.196Z"
   },
   {
    "duration": 16,
    "start_time": "2022-06-07T18:19:25.210Z"
   },
   {
    "duration": 147,
    "start_time": "2022-06-07T18:19:25.227Z"
   },
   {
    "duration": 59,
    "start_time": "2022-06-07T18:19:25.375Z"
   },
   {
    "duration": 32,
    "start_time": "2022-06-07T18:19:25.435Z"
   },
   {
    "duration": 56,
    "start_time": "2022-06-07T18:19:25.468Z"
   },
   {
    "duration": 31,
    "start_time": "2022-06-07T18:19:25.525Z"
   },
   {
    "duration": 12,
    "start_time": "2022-06-07T18:19:25.557Z"
   },
   {
    "duration": 31,
    "start_time": "2022-06-07T18:19:25.570Z"
   },
   {
    "duration": 8,
    "start_time": "2022-06-07T18:19:25.602Z"
   },
   {
    "duration": 9,
    "start_time": "2022-06-07T18:19:25.612Z"
   },
   {
    "duration": 5,
    "start_time": "2022-06-07T18:19:25.622Z"
   },
   {
    "duration": 87,
    "start_time": "2022-06-07T18:19:25.628Z"
   },
   {
    "duration": 24,
    "start_time": "2022-06-07T18:19:25.716Z"
   },
   {
    "duration": 4,
    "start_time": "2022-06-07T18:19:25.742Z"
   },
   {
    "duration": 311,
    "start_time": "2022-06-07T18:19:25.747Z"
   },
   {
    "duration": 744,
    "start_time": "2022-06-07T18:19:26.060Z"
   },
   {
    "duration": 837,
    "start_time": "2022-06-07T18:19:26.806Z"
   },
   {
    "duration": 826,
    "start_time": "2022-06-07T18:19:27.645Z"
   },
   {
    "duration": 33,
    "start_time": "2022-06-07T18:19:28.473Z"
   },
   {
    "duration": 11,
    "start_time": "2022-06-07T18:19:28.507Z"
   },
   {
    "duration": 889,
    "start_time": "2022-06-07T18:19:28.519Z"
   },
   {
    "duration": 996,
    "start_time": "2022-06-07T18:19:29.409Z"
   },
   {
    "duration": 10,
    "start_time": "2022-06-07T18:19:30.406Z"
   },
   {
    "duration": 16,
    "start_time": "2022-06-07T18:19:30.417Z"
   },
   {
    "duration": 18,
    "start_time": "2022-06-07T18:19:30.434Z"
   },
   {
    "duration": 667,
    "start_time": "2022-06-07T18:19:30.453Z"
   },
   {
    "duration": 591,
    "start_time": "2022-06-07T18:19:31.121Z"
   },
   {
    "duration": 619,
    "start_time": "2022-06-07T18:19:31.713Z"
   },
   {
    "duration": 610,
    "start_time": "2022-06-07T18:19:32.334Z"
   },
   {
    "duration": 8,
    "start_time": "2022-06-07T18:19:32.945Z"
   },
   {
    "duration": 23,
    "start_time": "2022-06-07T18:19:32.954Z"
   },
   {
    "duration": 8,
    "start_time": "2022-06-07T18:19:32.978Z"
   },
   {
    "duration": 15,
    "start_time": "2022-06-07T18:19:32.987Z"
   },
   {
    "duration": 7,
    "start_time": "2022-06-07T18:19:33.003Z"
   },
   {
    "duration": 10,
    "start_time": "2022-06-07T18:19:33.012Z"
   },
   {
    "duration": 13,
    "start_time": "2022-06-07T18:19:33.024Z"
   },
   {
    "duration": 100,
    "start_time": "2022-06-07T18:19:33.038Z"
   },
   {
    "duration": 0,
    "start_time": "2022-06-07T18:19:33.140Z"
   },
   {
    "duration": 0,
    "start_time": "2022-06-07T18:19:33.141Z"
   },
   {
    "duration": 0,
    "start_time": "2022-06-07T18:19:33.141Z"
   },
   {
    "duration": 0,
    "start_time": "2022-06-07T18:19:33.142Z"
   },
   {
    "duration": 0,
    "start_time": "2022-06-07T18:19:33.143Z"
   },
   {
    "duration": 0,
    "start_time": "2022-06-07T18:19:33.144Z"
   },
   {
    "duration": 0,
    "start_time": "2022-06-07T18:19:33.145Z"
   },
   {
    "duration": 37,
    "start_time": "2022-06-07T18:58:47.746Z"
   },
   {
    "duration": 51,
    "start_time": "2022-06-07T19:17:47.846Z"
   },
   {
    "duration": 1263,
    "start_time": "2022-06-07T19:22:07.559Z"
   },
   {
    "duration": 1081,
    "start_time": "2022-06-07T19:22:18.805Z"
   },
   {
    "duration": 8,
    "start_time": "2022-06-07T19:22:29.719Z"
   },
   {
    "duration": 419,
    "start_time": "2022-06-07T19:22:30.685Z"
   },
   {
    "duration": 363,
    "start_time": "2022-06-07T19:33:23.028Z"
   },
   {
    "duration": 9,
    "start_time": "2022-06-07T19:48:26.511Z"
   },
   {
    "duration": 27,
    "start_time": "2022-06-07T19:48:37.104Z"
   },
   {
    "duration": 370,
    "start_time": "2022-06-07T19:48:41.313Z"
   },
   {
    "duration": 8,
    "start_time": "2022-06-07T19:48:42.757Z"
   },
   {
    "duration": 3,
    "start_time": "2022-06-07T19:48:53.665Z"
   },
   {
    "duration": 360,
    "start_time": "2022-06-07T19:48:55.876Z"
   },
   {
    "duration": 388,
    "start_time": "2022-06-07T19:49:16.349Z"
   },
   {
    "duration": 11,
    "start_time": "2022-06-07T19:49:17.751Z"
   },
   {
    "duration": 37,
    "start_time": "2022-06-07T19:51:57.984Z"
   },
   {
    "duration": 33,
    "start_time": "2022-06-07T19:52:08.564Z"
   },
   {
    "duration": 16,
    "start_time": "2022-06-07T19:52:17.003Z"
   },
   {
    "duration": 33,
    "start_time": "2022-06-07T19:54:17.987Z"
   },
   {
    "duration": 37,
    "start_time": "2022-06-07T19:54:21.640Z"
   },
   {
    "duration": 7,
    "start_time": "2022-06-07T20:00:02.434Z"
   },
   {
    "duration": 34,
    "start_time": "2022-06-07T20:00:08.302Z"
   },
   {
    "duration": 6,
    "start_time": "2022-06-07T20:01:08.497Z"
   },
   {
    "duration": 38,
    "start_time": "2022-06-07T20:01:28.262Z"
   },
   {
    "duration": 7,
    "start_time": "2022-06-07T20:01:37.499Z"
   },
   {
    "duration": 10,
    "start_time": "2022-06-07T20:01:39.994Z"
   },
   {
    "duration": 30,
    "start_time": "2022-06-07T20:01:41.936Z"
   },
   {
    "duration": 93,
    "start_time": "2022-06-07T20:01:43.582Z"
   },
   {
    "duration": 19,
    "start_time": "2022-06-07T20:01:44.328Z"
   },
   {
    "duration": 19,
    "start_time": "2022-06-07T20:01:45.436Z"
   },
   {
    "duration": 177,
    "start_time": "2022-06-07T20:01:46.779Z"
   },
   {
    "duration": 39,
    "start_time": "2022-06-07T20:01:50.798Z"
   },
   {
    "duration": 15,
    "start_time": "2022-06-07T20:02:09.835Z"
   },
   {
    "duration": 16,
    "start_time": "2022-06-07T20:02:30.173Z"
   },
   {
    "duration": 415,
    "start_time": "2022-06-07T20:06:52.157Z"
   },
   {
    "duration": 8,
    "start_time": "2022-06-07T20:08:13.792Z"
   },
   {
    "duration": 213,
    "start_time": "2022-06-07T20:15:15.526Z"
   },
   {
    "duration": 14,
    "start_time": "2022-06-07T20:16:12.680Z"
   },
   {
    "duration": 8,
    "start_time": "2022-06-07T20:16:26.309Z"
   },
   {
    "duration": 10,
    "start_time": "2022-06-07T20:16:29.546Z"
   },
   {
    "duration": 13,
    "start_time": "2022-06-07T20:16:50.223Z"
   },
   {
    "duration": 147,
    "start_time": "2022-06-07T20:19:53.784Z"
   },
   {
    "duration": 193,
    "start_time": "2022-06-07T20:19:58.059Z"
   },
   {
    "duration": 156,
    "start_time": "2022-06-07T20:20:02.453Z"
   },
   {
    "duration": 166,
    "start_time": "2022-06-07T20:22:04.952Z"
   },
   {
    "duration": 167,
    "start_time": "2022-06-07T20:22:17.349Z"
   },
   {
    "duration": 160,
    "start_time": "2022-06-07T20:23:07.485Z"
   },
   {
    "duration": 187,
    "start_time": "2022-06-07T20:23:18.384Z"
   },
   {
    "duration": 54,
    "start_time": "2022-06-08T05:26:41.183Z"
   },
   {
    "duration": 7,
    "start_time": "2022-06-08T05:27:41.139Z"
   },
   {
    "duration": 1275,
    "start_time": "2022-06-08T05:28:12.672Z"
   },
   {
    "duration": 914,
    "start_time": "2022-06-08T05:28:13.949Z"
   },
   {
    "duration": 2,
    "start_time": "2022-06-08T05:28:14.865Z"
   },
   {
    "duration": 15,
    "start_time": "2022-06-08T05:28:14.868Z"
   },
   {
    "duration": 8,
    "start_time": "2022-06-08T05:28:14.884Z"
   },
   {
    "duration": 8,
    "start_time": "2022-06-08T05:28:14.893Z"
   },
   {
    "duration": 9,
    "start_time": "2022-06-08T05:28:14.903Z"
   },
   {
    "duration": 9,
    "start_time": "2022-06-08T05:28:14.914Z"
   },
   {
    "duration": 12,
    "start_time": "2022-06-08T05:28:16.303Z"
   },
   {
    "duration": 17,
    "start_time": "2022-06-08T05:28:16.344Z"
   },
   {
    "duration": 3,
    "start_time": "2022-06-08T05:28:26.678Z"
   },
   {
    "duration": 454,
    "start_time": "2022-06-08T05:28:26.907Z"
   },
   {
    "duration": 2,
    "start_time": "2022-06-08T05:28:27.535Z"
   },
   {
    "duration": 10,
    "start_time": "2022-06-08T05:28:27.762Z"
   },
   {
    "duration": 9,
    "start_time": "2022-06-08T05:28:27.984Z"
   },
   {
    "duration": 7,
    "start_time": "2022-06-08T05:28:28.213Z"
   },
   {
    "duration": 8,
    "start_time": "2022-06-08T05:28:28.443Z"
   },
   {
    "duration": 8,
    "start_time": "2022-06-08T05:28:28.677Z"
   },
   {
    "duration": 12,
    "start_time": "2022-06-08T05:28:30.011Z"
   },
   {
    "duration": 14,
    "start_time": "2022-06-08T05:28:30.233Z"
   },
   {
    "duration": 12,
    "start_time": "2022-06-08T05:28:30.456Z"
   },
   {
    "duration": 30,
    "start_time": "2022-06-08T05:28:31.219Z"
   },
   {
    "duration": 35,
    "start_time": "2022-06-08T05:28:31.487Z"
   },
   {
    "duration": 18,
    "start_time": "2022-06-08T05:28:31.749Z"
   },
   {
    "duration": 18,
    "start_time": "2022-06-08T05:28:32.496Z"
   },
   {
    "duration": 23,
    "start_time": "2022-06-08T05:28:32.971Z"
   },
   {
    "duration": 14,
    "start_time": "2022-06-08T05:28:33.493Z"
   },
   {
    "duration": 22,
    "start_time": "2022-06-08T05:28:34.139Z"
   },
   {
    "duration": 33,
    "start_time": "2022-06-08T05:28:34.410Z"
   },
   {
    "duration": 15,
    "start_time": "2022-06-08T05:28:34.655Z"
   },
   {
    "duration": 11,
    "start_time": "2022-06-08T05:28:35.147Z"
   },
   {
    "duration": 16,
    "start_time": "2022-06-08T05:28:37.077Z"
   },
   {
    "duration": 7,
    "start_time": "2022-06-08T05:28:37.640Z"
   },
   {
    "duration": 9,
    "start_time": "2022-06-08T05:28:38.175Z"
   },
   {
    "duration": 9,
    "start_time": "2022-06-08T05:28:39.480Z"
   },
   {
    "duration": 32,
    "start_time": "2022-06-08T05:28:40.796Z"
   },
   {
    "duration": 95,
    "start_time": "2022-06-08T05:28:41.502Z"
   },
   {
    "duration": 15,
    "start_time": "2022-06-08T05:28:41.829Z"
   },
   {
    "duration": 19,
    "start_time": "2022-06-08T05:28:42.500Z"
   },
   {
    "duration": 170,
    "start_time": "2022-06-08T05:28:42.858Z"
   },
   {
    "duration": 43,
    "start_time": "2022-06-08T05:28:45.926Z"
   },
   {
    "duration": 11,
    "start_time": "2022-06-08T05:28:46.248Z"
   },
   {
    "duration": 22,
    "start_time": "2022-06-08T05:28:47.315Z"
   },
   {
    "duration": 36,
    "start_time": "2022-06-08T05:28:47.972Z"
   },
   {
    "duration": 12,
    "start_time": "2022-06-08T05:28:48.304Z"
   },
   {
    "duration": 81,
    "start_time": "2022-06-08T05:28:49.062Z"
   },
   {
    "duration": 11,
    "start_time": "2022-06-08T05:28:49.506Z"
   },
   {
    "duration": 14,
    "start_time": "2022-06-08T05:28:52.838Z"
   },
   {
    "duration": 241,
    "start_time": "2022-06-08T05:28:53.088Z"
   },
   {
    "duration": 169,
    "start_time": "2022-06-08T05:29:56.390Z"
   },
   {
    "duration": 162,
    "start_time": "2022-06-08T05:30:14.502Z"
   },
   {
    "duration": 152,
    "start_time": "2022-06-08T05:30:29.467Z"
   },
   {
    "duration": 29,
    "start_time": "2022-06-08T05:45:12.142Z"
   },
   {
    "duration": 10,
    "start_time": "2022-06-08T05:45:32.013Z"
   },
   {
    "duration": 4,
    "start_time": "2022-06-08T05:45:41.020Z"
   },
   {
    "duration": 9,
    "start_time": "2022-06-08T05:45:46.607Z"
   },
   {
    "duration": 9,
    "start_time": "2022-06-08T05:49:52.954Z"
   },
   {
    "duration": 1367,
    "start_time": "2022-06-08T16:59:28.378Z"
   },
   {
    "duration": 47,
    "start_time": "2022-06-08T17:29:08.227Z"
   },
   {
    "duration": 46,
    "start_time": "2022-06-09T07:43:23.942Z"
   },
   {
    "duration": 12,
    "start_time": "2022-06-09T07:48:48.891Z"
   },
   {
    "duration": 599,
    "start_time": "2022-06-09T07:48:49.630Z"
   },
   {
    "duration": 499,
    "start_time": "2022-06-09T07:48:59.646Z"
   },
   {
    "duration": 3,
    "start_time": "2022-06-09T07:49:01.393Z"
   },
   {
    "duration": 12,
    "start_time": "2022-06-09T07:49:01.843Z"
   },
   {
    "duration": 9,
    "start_time": "2022-06-09T07:49:02.238Z"
   },
   {
    "duration": 9,
    "start_time": "2022-06-09T07:49:02.712Z"
   },
   {
    "duration": 14,
    "start_time": "2022-06-09T07:49:03.020Z"
   },
   {
    "duration": 9,
    "start_time": "2022-06-09T07:49:03.296Z"
   },
   {
    "duration": 12,
    "start_time": "2022-06-09T07:49:04.877Z"
   },
   {
    "duration": 450,
    "start_time": "2022-06-09T07:49:20.296Z"
   },
   {
    "duration": 2,
    "start_time": "2022-06-09T07:49:21.890Z"
   },
   {
    "duration": 11,
    "start_time": "2022-06-09T07:49:22.183Z"
   },
   {
    "duration": 11,
    "start_time": "2022-06-09T07:49:22.985Z"
   },
   {
    "duration": 9,
    "start_time": "2022-06-09T07:49:23.402Z"
   },
   {
    "duration": 9,
    "start_time": "2022-06-09T07:49:24.291Z"
   },
   {
    "duration": 10,
    "start_time": "2022-06-09T07:49:25.293Z"
   },
   {
    "duration": 10,
    "start_time": "2022-06-09T07:49:38.706Z"
   },
   {
    "duration": 13,
    "start_time": "2022-06-09T07:49:39.239Z"
   },
   {
    "duration": 12,
    "start_time": "2022-06-09T07:49:39.704Z"
   },
   {
    "duration": 28,
    "start_time": "2022-06-09T07:49:40.941Z"
   },
   {
    "duration": 41,
    "start_time": "2022-06-09T07:49:41.498Z"
   },
   {
    "duration": 26,
    "start_time": "2022-06-09T07:49:41.906Z"
   },
   {
    "duration": 39,
    "start_time": "2022-06-09T07:49:42.558Z"
   },
   {
    "duration": 47,
    "start_time": "2022-06-09T07:49:43.085Z"
   },
   {
    "duration": 26,
    "start_time": "2022-06-09T07:49:43.379Z"
   },
   {
    "duration": 37,
    "start_time": "2022-06-09T07:49:58.944Z"
   },
   {
    "duration": 52,
    "start_time": "2022-06-09T07:49:59.338Z"
   },
   {
    "duration": 29,
    "start_time": "2022-06-09T07:50:01.898Z"
   },
   {
    "duration": 11,
    "start_time": "2022-06-09T07:50:03.224Z"
   },
   {
    "duration": 14,
    "start_time": "2022-06-09T07:50:05.797Z"
   },
   {
    "duration": 9,
    "start_time": "2022-06-09T07:50:06.880Z"
   },
   {
    "duration": 11,
    "start_time": "2022-06-09T07:50:07.676Z"
   },
   {
    "duration": 11,
    "start_time": "2022-06-09T07:50:09.319Z"
   },
   {
    "duration": 27,
    "start_time": "2022-06-09T07:50:10.786Z"
   },
   {
    "duration": 125,
    "start_time": "2022-06-09T07:50:11.749Z"
   },
   {
    "duration": 17,
    "start_time": "2022-06-09T07:50:12.145Z"
   },
   {
    "duration": 29,
    "start_time": "2022-06-09T07:50:13.141Z"
   },
   {
    "duration": 213,
    "start_time": "2022-06-09T07:50:15.131Z"
   },
   {
    "duration": 58,
    "start_time": "2022-06-09T07:50:18.043Z"
   },
   {
    "duration": 17,
    "start_time": "2022-06-09T07:50:18.589Z"
   },
   {
    "duration": 35,
    "start_time": "2022-06-09T07:50:22.416Z"
   },
   {
    "duration": 89,
    "start_time": "2022-06-09T07:50:28.417Z"
   },
   {
    "duration": 14,
    "start_time": "2022-06-09T07:50:29.313Z"
   },
   {
    "duration": 11,
    "start_time": "2022-06-09T07:50:31.482Z"
   },
   {
    "duration": 5,
    "start_time": "2022-06-09T07:51:18.921Z"
   },
   {
    "duration": 13,
    "start_time": "2022-06-09T07:51:20.616Z"
   },
   {
    "duration": 20,
    "start_time": "2022-06-09T07:51:22.929Z"
   },
   {
    "duration": 173,
    "start_time": "2022-06-09T07:51:24.890Z"
   },
   {
    "duration": 25,
    "start_time": "2022-06-09T08:04:57.005Z"
   },
   {
    "duration": 651,
    "start_time": "2022-06-09T08:05:02.511Z"
   },
   {
    "duration": 251,
    "start_time": "2022-06-09T08:36:02.781Z"
   },
   {
    "duration": 230,
    "start_time": "2022-06-09T08:37:45.444Z"
   },
   {
    "duration": 208,
    "start_time": "2022-06-09T08:38:30.012Z"
   },
   {
    "duration": 248,
    "start_time": "2022-06-09T08:38:43.991Z"
   },
   {
    "duration": 243,
    "start_time": "2022-06-09T08:39:10.932Z"
   },
   {
    "duration": 161,
    "start_time": "2022-06-09T08:42:26.441Z"
   },
   {
    "duration": 181,
    "start_time": "2022-06-09T08:42:54.727Z"
   },
   {
    "duration": 716,
    "start_time": "2022-06-09T08:42:55.020Z"
   },
   {
    "duration": 3,
    "start_time": "2022-06-09T08:43:03.682Z"
   },
   {
    "duration": 18,
    "start_time": "2022-06-09T08:43:04.224Z"
   },
   {
    "duration": 13,
    "start_time": "2022-06-09T08:43:04.714Z"
   },
   {
    "duration": 11,
    "start_time": "2022-06-09T08:43:05.309Z"
   },
   {
    "duration": 14,
    "start_time": "2022-06-09T08:43:05.702Z"
   },
   {
    "duration": 11,
    "start_time": "2022-06-09T08:43:06.037Z"
   },
   {
    "duration": 21,
    "start_time": "2022-06-09T08:43:08.021Z"
   },
   {
    "duration": 21,
    "start_time": "2022-06-09T08:43:08.334Z"
   },
   {
    "duration": 32,
    "start_time": "2022-06-09T08:43:08.673Z"
   },
   {
    "duration": 51,
    "start_time": "2022-06-09T08:43:09.595Z"
   },
   {
    "duration": 73,
    "start_time": "2022-06-09T08:43:09.847Z"
   },
   {
    "duration": 30,
    "start_time": "2022-06-09T08:43:10.088Z"
   },
   {
    "duration": 40,
    "start_time": "2022-06-09T08:43:10.532Z"
   },
   {
    "duration": 55,
    "start_time": "2022-06-09T08:43:10.953Z"
   },
   {
    "duration": 21,
    "start_time": "2022-06-09T08:43:11.281Z"
   },
   {
    "duration": 35,
    "start_time": "2022-06-09T08:43:11.917Z"
   },
   {
    "duration": 61,
    "start_time": "2022-06-09T08:43:12.241Z"
   },
   {
    "duration": 23,
    "start_time": "2022-06-09T08:43:12.517Z"
   },
   {
    "duration": 23,
    "start_time": "2022-06-09T08:43:13.083Z"
   },
   {
    "duration": 41,
    "start_time": "2022-06-09T08:43:14.449Z"
   },
   {
    "duration": 10,
    "start_time": "2022-06-09T08:43:14.913Z"
   },
   {
    "duration": 10,
    "start_time": "2022-06-09T08:43:15.341Z"
   },
   {
    "duration": 14,
    "start_time": "2022-06-09T08:43:16.284Z"
   },
   {
    "duration": 41,
    "start_time": "2022-06-09T08:43:16.977Z"
   },
   {
    "duration": 165,
    "start_time": "2022-06-09T08:43:17.527Z"
   },
   {
    "duration": 39,
    "start_time": "2022-06-09T08:43:17.813Z"
   },
   {
    "duration": 40,
    "start_time": "2022-06-09T08:43:18.485Z"
   },
   {
    "duration": 230,
    "start_time": "2022-06-09T08:43:18.790Z"
   },
   {
    "duration": 75,
    "start_time": "2022-06-09T08:43:20.317Z"
   },
   {
    "duration": 18,
    "start_time": "2022-06-09T08:43:20.540Z"
   },
   {
    "duration": 55,
    "start_time": "2022-06-09T08:43:21.142Z"
   },
   {
    "duration": 110,
    "start_time": "2022-06-09T08:43:21.520Z"
   },
   {
    "duration": 21,
    "start_time": "2022-06-09T08:43:21.910Z"
   },
   {
    "duration": 6,
    "start_time": "2022-06-09T08:43:22.337Z"
   },
   {
    "duration": 19,
    "start_time": "2022-06-09T08:43:22.499Z"
   },
   {
    "duration": 27,
    "start_time": "2022-06-09T08:43:23.169Z"
   },
   {
    "duration": 340,
    "start_time": "2022-06-09T08:43:23.359Z"
   },
   {
    "duration": 81,
    "start_time": "2022-06-09T08:43:24.815Z"
   },
   {
    "duration": 84,
    "start_time": "2022-06-09T08:43:25.240Z"
   },
   {
    "duration": 87,
    "start_time": "2022-06-09T08:43:25.849Z"
   },
   {
    "duration": 74,
    "start_time": "2022-06-09T08:43:26.640Z"
   },
   {
    "duration": 39,
    "start_time": "2022-06-09T08:43:27.471Z"
   },
   {
    "duration": 37,
    "start_time": "2022-06-09T08:43:27.943Z"
   },
   {
    "duration": 25,
    "start_time": "2022-06-09T08:43:28.717Z"
   },
   {
    "duration": 41,
    "start_time": "2022-06-09T08:43:29.484Z"
   },
   {
    "duration": 7,
    "start_time": "2022-06-09T08:43:29.716Z"
   },
   {
    "duration": 169,
    "start_time": "2022-06-09T08:43:29.901Z"
   },
   {
    "duration": 63,
    "start_time": "2022-06-09T08:43:31.138Z"
   },
   {
    "duration": 16,
    "start_time": "2022-06-09T08:43:31.585Z"
   },
   {
    "duration": 598,
    "start_time": "2022-06-09T08:43:32.013Z"
   },
   {
    "duration": 1373,
    "start_time": "2022-06-09T08:43:33.051Z"
   },
   {
    "duration": 1566,
    "start_time": "2022-06-09T08:43:34.428Z"
   },
   {
    "duration": 1374,
    "start_time": "2022-06-09T08:43:36.000Z"
   },
   {
    "duration": 40,
    "start_time": "2022-06-09T08:43:37.381Z"
   },
   {
    "duration": 79,
    "start_time": "2022-06-09T08:43:37.423Z"
   },
   {
    "duration": 220,
    "start_time": "2022-06-09T08:43:37.505Z"
   },
   {
    "duration": 0,
    "start_time": "2022-06-09T08:43:37.727Z"
   },
   {
    "duration": 1587,
    "start_time": "2022-06-09T08:43:58.791Z"
   },
   {
    "duration": 2260,
    "start_time": "2022-06-09T08:46:40.319Z"
   },
   {
    "duration": 1627,
    "start_time": "2022-06-09T08:47:15.248Z"
   },
   {
    "duration": 1350,
    "start_time": "2022-06-09T08:47:33.852Z"
   },
   {
    "duration": 797,
    "start_time": "2022-06-09T08:48:32.318Z"
   },
   {
    "duration": 706,
    "start_time": "2022-06-09T08:48:33.909Z"
   },
   {
    "duration": 824,
    "start_time": "2022-06-09T08:48:53.483Z"
   },
   {
    "duration": 824,
    "start_time": "2022-06-09T08:49:00.455Z"
   },
   {
    "duration": 17,
    "start_time": "2022-06-09T08:49:19.279Z"
   },
   {
    "duration": 707,
    "start_time": "2022-06-09T08:49:23.775Z"
   },
   {
    "duration": 373,
    "start_time": "2022-06-09T08:57:14.618Z"
   },
   {
    "duration": 202,
    "start_time": "2022-06-09T08:57:26.571Z"
   },
   {
    "duration": 42,
    "start_time": "2022-06-09T08:57:36.816Z"
   },
   {
    "duration": 20,
    "start_time": "2022-06-09T08:57:37.068Z"
   },
   {
    "duration": 58,
    "start_time": "2022-06-09T08:57:37.653Z"
   },
   {
    "duration": 44,
    "start_time": "2022-06-09T08:57:38.009Z"
   },
   {
    "duration": 25,
    "start_time": "2022-06-09T08:57:38.168Z"
   },
   {
    "duration": 431,
    "start_time": "2022-06-09T08:57:38.480Z"
   },
   {
    "duration": 0,
    "start_time": "2022-06-09T08:57:38.913Z"
   },
   {
    "duration": 12,
    "start_time": "2022-06-09T08:57:58.919Z"
   },
   {
    "duration": 519,
    "start_time": "2022-06-09T08:57:59.117Z"
   },
   {
    "duration": 3,
    "start_time": "2022-06-09T08:58:00.218Z"
   },
   {
    "duration": 14,
    "start_time": "2022-06-09T08:58:00.429Z"
   },
   {
    "duration": 21,
    "start_time": "2022-06-09T08:58:00.671Z"
   },
   {
    "duration": 12,
    "start_time": "2022-06-09T08:58:00.848Z"
   },
   {
    "duration": 13,
    "start_time": "2022-06-09T08:58:01.040Z"
   },
   {
    "duration": 9,
    "start_time": "2022-06-09T08:58:01.214Z"
   },
   {
    "duration": 11,
    "start_time": "2022-06-09T08:58:02.200Z"
   },
   {
    "duration": 21,
    "start_time": "2022-06-09T08:58:02.369Z"
   },
   {
    "duration": 22,
    "start_time": "2022-06-09T08:58:02.552Z"
   },
   {
    "duration": 46,
    "start_time": "2022-06-09T08:58:03.085Z"
   },
   {
    "duration": 50,
    "start_time": "2022-06-09T08:58:03.344Z"
   },
   {
    "duration": 32,
    "start_time": "2022-06-09T08:58:03.520Z"
   },
   {
    "duration": 30,
    "start_time": "2022-06-09T08:58:03.984Z"
   },
   {
    "duration": 46,
    "start_time": "2022-06-09T08:58:04.123Z"
   },
   {
    "duration": 17,
    "start_time": "2022-06-09T08:58:04.316Z"
   },
   {
    "duration": 41,
    "start_time": "2022-06-09T08:58:04.715Z"
   },
   {
    "duration": 43,
    "start_time": "2022-06-09T08:58:04.859Z"
   },
   {
    "duration": 26,
    "start_time": "2022-06-09T08:58:05.044Z"
   },
   {
    "duration": 12,
    "start_time": "2022-06-09T08:58:05.428Z"
   },
   {
    "duration": 15,
    "start_time": "2022-06-09T08:58:06.419Z"
   },
   {
    "duration": 12,
    "start_time": "2022-06-09T08:58:06.786Z"
   },
   {
    "duration": 18,
    "start_time": "2022-06-09T08:58:07.170Z"
   },
   {
    "duration": 14,
    "start_time": "2022-06-09T08:58:08.316Z"
   },
   {
    "duration": 28,
    "start_time": "2022-06-09T08:58:09.025Z"
   },
   {
    "duration": 125,
    "start_time": "2022-06-09T08:58:09.405Z"
   },
   {
    "duration": 25,
    "start_time": "2022-06-09T08:58:09.576Z"
   },
   {
    "duration": 20,
    "start_time": "2022-06-09T08:58:09.986Z"
   },
   {
    "duration": 210,
    "start_time": "2022-06-09T08:58:10.181Z"
   },
   {
    "duration": 57,
    "start_time": "2022-06-09T08:58:12.313Z"
   },
   {
    "duration": 13,
    "start_time": "2022-06-09T08:58:12.524Z"
   },
   {
    "duration": 38,
    "start_time": "2022-06-09T08:58:13.116Z"
   },
   {
    "duration": 67,
    "start_time": "2022-06-09T08:58:14.916Z"
   },
   {
    "duration": 15,
    "start_time": "2022-06-09T08:58:16.026Z"
   },
   {
    "duration": 8,
    "start_time": "2022-06-09T08:58:17.484Z"
   },
   {
    "duration": 8,
    "start_time": "2022-06-09T08:59:01.244Z"
   },
   {
    "duration": 15,
    "start_time": "2022-06-09T08:59:02.203Z"
   },
   {
    "duration": 6,
    "start_time": "2022-06-09T08:59:07.061Z"
   },
   {
    "duration": 12,
    "start_time": "2022-06-09T08:59:10.565Z"
   },
   {
    "duration": 15,
    "start_time": "2022-06-09T08:59:20.114Z"
   },
   {
    "duration": 214,
    "start_time": "2022-06-09T08:59:20.288Z"
   },
   {
    "duration": 79,
    "start_time": "2022-06-09T08:59:35.014Z"
   },
   {
    "duration": 52,
    "start_time": "2022-06-09T08:59:35.349Z"
   },
   {
    "duration": 61,
    "start_time": "2022-06-09T08:59:35.946Z"
   },
   {
    "duration": 61,
    "start_time": "2022-06-09T08:59:36.647Z"
   },
   {
    "duration": 15,
    "start_time": "2022-06-09T08:59:37.310Z"
   },
   {
    "duration": 26,
    "start_time": "2022-06-09T08:59:37.656Z"
   },
   {
    "duration": 15,
    "start_time": "2022-06-09T08:59:38.011Z"
   },
   {
    "duration": 11,
    "start_time": "2022-06-09T08:59:38.723Z"
   },
   {
    "duration": 6,
    "start_time": "2022-06-09T08:59:38.897Z"
   },
   {
    "duration": 87,
    "start_time": "2022-06-09T08:59:39.057Z"
   },
   {
    "duration": 48,
    "start_time": "2022-06-09T08:59:39.942Z"
   },
   {
    "duration": 7,
    "start_time": "2022-06-09T08:59:40.274Z"
   },
   {
    "duration": 354,
    "start_time": "2022-06-09T08:59:40.621Z"
   },
   {
    "duration": 890,
    "start_time": "2022-06-09T08:59:41.524Z"
   },
   {
    "duration": 1127,
    "start_time": "2022-06-09T08:59:42.417Z"
   },
   {
    "duration": 905,
    "start_time": "2022-06-09T08:59:43.547Z"
   },
   {
    "duration": 38,
    "start_time": "2022-06-09T08:59:44.454Z"
   },
   {
    "duration": 24,
    "start_time": "2022-06-09T08:59:44.494Z"
   },
   {
    "duration": 1353,
    "start_time": "2022-06-09T08:59:44.520Z"
   },
   {
    "duration": 1167,
    "start_time": "2022-06-09T08:59:45.876Z"
   },
   {
    "duration": 27,
    "start_time": "2022-06-09T08:59:47.060Z"
   },
   {
    "duration": 26,
    "start_time": "2022-06-09T08:59:47.089Z"
   },
   {
    "duration": 37,
    "start_time": "2022-06-09T08:59:47.117Z"
   },
   {
    "duration": 895,
    "start_time": "2022-06-09T08:59:47.156Z"
   },
   {
    "duration": 747,
    "start_time": "2022-06-09T08:59:48.059Z"
   },
   {
    "duration": 695,
    "start_time": "2022-06-09T08:59:48.808Z"
   },
   {
    "duration": 843,
    "start_time": "2022-06-09T08:59:49.506Z"
   },
   {
    "duration": 856,
    "start_time": "2022-06-09T09:00:11.619Z"
   },
   {
    "duration": 801,
    "start_time": "2022-06-09T09:01:13.548Z"
   },
   {
    "duration": 901,
    "start_time": "2022-06-09T09:01:19.920Z"
   },
   {
    "duration": 786,
    "start_time": "2022-06-09T09:01:28.292Z"
   },
   {
    "duration": 761,
    "start_time": "2022-06-09T09:01:38.643Z"
   },
   {
    "duration": 906,
    "start_time": "2022-06-09T09:02:29.591Z"
   },
   {
    "duration": 930,
    "start_time": "2022-06-09T09:02:39.523Z"
   },
   {
    "duration": 823,
    "start_time": "2022-06-09T09:02:40.820Z"
   },
   {
    "duration": 860,
    "start_time": "2022-06-09T09:02:41.646Z"
   },
   {
    "duration": 792,
    "start_time": "2022-06-09T09:03:09.823Z"
   },
   {
    "duration": 852,
    "start_time": "2022-06-09T09:03:26.277Z"
   },
   {
    "duration": 908,
    "start_time": "2022-06-09T09:03:49.406Z"
   },
   {
    "duration": 758,
    "start_time": "2022-06-09T09:03:50.386Z"
   },
   {
    "duration": 744,
    "start_time": "2022-06-09T09:03:51.146Z"
   },
   {
    "duration": 903,
    "start_time": "2022-06-09T09:04:13.216Z"
   },
   {
    "duration": 11,
    "start_time": "2022-06-09T09:04:33.038Z"
   },
   {
    "duration": 13,
    "start_time": "2022-06-09T09:04:33.757Z"
   },
   {
    "duration": 12,
    "start_time": "2022-06-09T09:04:34.054Z"
   },
   {
    "duration": 10,
    "start_time": "2022-06-09T09:04:34.739Z"
   },
   {
    "duration": 11,
    "start_time": "2022-06-09T09:04:36.012Z"
   },
   {
    "duration": 11,
    "start_time": "2022-06-09T09:04:36.586Z"
   },
   {
    "duration": 14,
    "start_time": "2022-06-09T09:04:36.986Z"
   },
   {
    "duration": 11,
    "start_time": "2022-06-09T09:04:39.999Z"
   },
   {
    "duration": 11,
    "start_time": "2022-06-09T09:04:40.179Z"
   },
   {
    "duration": 13,
    "start_time": "2022-06-09T09:04:40.440Z"
   },
   {
    "duration": 12,
    "start_time": "2022-06-09T09:04:49.937Z"
   },
   {
    "duration": 21,
    "start_time": "2022-06-09T09:04:50.167Z"
   },
   {
    "duration": 12,
    "start_time": "2022-06-09T09:04:50.382Z"
   },
   {
    "duration": 151,
    "start_time": "2022-06-09T09:04:50.789Z"
   },
   {
    "duration": 127,
    "start_time": "2022-06-09T09:04:51.789Z"
   },
   {
    "duration": 22,
    "start_time": "2022-06-09T09:08:11.329Z"
   },
   {
    "duration": 6,
    "start_time": "2022-06-09T09:08:28.434Z"
   },
   {
    "duration": 7,
    "start_time": "2022-06-09T09:08:44.825Z"
   },
   {
    "duration": 10,
    "start_time": "2022-06-09T09:20:30.016Z"
   },
   {
    "duration": 19,
    "start_time": "2022-06-09T09:20:34.770Z"
   },
   {
    "duration": 59,
    "start_time": "2022-06-09T09:21:02.691Z"
   },
   {
    "duration": 33,
    "start_time": "2022-06-09T09:21:18.490Z"
   },
   {
    "duration": 26,
    "start_time": "2022-06-09T09:21:32.810Z"
   },
   {
    "duration": 11,
    "start_time": "2022-06-09T09:21:40.141Z"
   },
   {
    "duration": 8,
    "start_time": "2022-06-09T09:21:47.046Z"
   },
   {
    "duration": 11,
    "start_time": "2022-06-09T09:21:55.921Z"
   },
   {
    "duration": 82,
    "start_time": "2022-06-09T09:22:20.044Z"
   },
   {
    "duration": 8,
    "start_time": "2022-06-09T09:22:22.345Z"
   },
   {
    "duration": 18,
    "start_time": "2022-06-09T09:22:28.576Z"
   },
   {
    "duration": 7,
    "start_time": "2022-06-09T09:22:29.450Z"
   },
   {
    "duration": 110,
    "start_time": "2022-06-09T09:22:30.831Z"
   },
   {
    "duration": 63,
    "start_time": "2022-06-09T09:22:35.837Z"
   },
   {
    "duration": 9,
    "start_time": "2022-06-09T09:22:37.996Z"
   },
   {
    "duration": 379,
    "start_time": "2022-06-09T09:22:40.000Z"
   },
   {
    "duration": 1431,
    "start_time": "2022-06-09T09:24:22.299Z"
   },
   {
    "duration": 1519,
    "start_time": "2022-06-09T09:24:25.647Z"
   },
   {
    "duration": 1406,
    "start_time": "2022-06-09T09:25:22.620Z"
   },
   {
    "duration": 57,
    "start_time": "2022-06-09T09:25:44.257Z"
   },
   {
    "duration": 14,
    "start_time": "2022-06-09T09:27:23.740Z"
   },
   {
    "duration": 1542,
    "start_time": "2022-06-09T09:27:33.067Z"
   },
   {
    "duration": 8,
    "start_time": "2022-06-09T09:31:01.647Z"
   },
   {
    "duration": 26,
    "start_time": "2022-06-09T09:31:21.191Z"
   },
   {
    "duration": 48,
    "start_time": "2022-06-09T09:32:08.997Z"
   },
   {
    "duration": 565,
    "start_time": "2022-06-09T09:32:09.141Z"
   },
   {
    "duration": 5,
    "start_time": "2022-06-09T09:32:09.711Z"
   },
   {
    "duration": 10,
    "start_time": "2022-06-09T09:32:09.810Z"
   },
   {
    "duration": 29,
    "start_time": "2022-06-09T09:32:09.981Z"
   },
   {
    "duration": 10,
    "start_time": "2022-06-09T09:32:10.128Z"
   },
   {
    "duration": 17,
    "start_time": "2022-06-09T09:32:10.306Z"
   },
   {
    "duration": 17,
    "start_time": "2022-06-09T09:32:10.491Z"
   },
   {
    "duration": 13,
    "start_time": "2022-06-09T09:32:17.430Z"
   },
   {
    "duration": 22,
    "start_time": "2022-06-09T09:32:17.619Z"
   },
   {
    "duration": 15,
    "start_time": "2022-06-09T09:32:17.767Z"
   },
   {
    "duration": 70,
    "start_time": "2022-06-09T09:32:18.248Z"
   },
   {
    "duration": 85,
    "start_time": "2022-06-09T09:32:18.444Z"
   },
   {
    "duration": 20,
    "start_time": "2022-06-09T09:32:18.636Z"
   },
   {
    "duration": 40,
    "start_time": "2022-06-09T09:32:18.990Z"
   },
   {
    "duration": 46,
    "start_time": "2022-06-09T09:32:19.160Z"
   },
   {
    "duration": 14,
    "start_time": "2022-06-09T09:32:19.342Z"
   },
   {
    "duration": 22,
    "start_time": "2022-06-09T09:32:19.723Z"
   },
   {
    "duration": 28,
    "start_time": "2022-06-09T09:32:19.916Z"
   },
   {
    "duration": 26,
    "start_time": "2022-06-09T09:32:20.119Z"
   },
   {
    "duration": 15,
    "start_time": "2022-06-09T09:32:20.483Z"
   },
   {
    "duration": 15,
    "start_time": "2022-06-09T09:32:27.423Z"
   },
   {
    "duration": 7,
    "start_time": "2022-06-09T09:32:27.835Z"
   },
   {
    "duration": 7,
    "start_time": "2022-06-09T09:32:28.219Z"
   },
   {
    "duration": 10,
    "start_time": "2022-06-09T09:32:29.019Z"
   },
   {
    "duration": 69,
    "start_time": "2022-06-09T09:32:29.555Z"
   },
   {
    "duration": 105,
    "start_time": "2022-06-09T09:32:29.911Z"
   },
   {
    "duration": 28,
    "start_time": "2022-06-09T09:32:30.085Z"
   },
   {
    "duration": 18,
    "start_time": "2022-06-09T09:32:30.426Z"
   },
   {
    "duration": 249,
    "start_time": "2022-06-09T09:32:30.597Z"
   },
   {
    "duration": 36,
    "start_time": "2022-06-09T09:32:31.502Z"
   },
   {
    "duration": 13,
    "start_time": "2022-06-09T09:32:31.696Z"
   },
   {
    "duration": 25,
    "start_time": "2022-06-09T09:32:32.227Z"
   },
   {
    "duration": 57,
    "start_time": "2022-06-09T09:32:32.613Z"
   },
   {
    "duration": 17,
    "start_time": "2022-06-09T09:32:32.812Z"
   },
   {
    "duration": 6,
    "start_time": "2022-06-09T09:32:33.205Z"
   },
   {
    "duration": 18,
    "start_time": "2022-06-09T09:32:33.399Z"
   },
   {
    "duration": 14,
    "start_time": "2022-06-09T09:32:34.517Z"
   },
   {
    "duration": 228,
    "start_time": "2022-06-09T09:32:34.706Z"
   },
   {
    "duration": 52,
    "start_time": "2022-06-09T09:32:36.694Z"
   },
   {
    "duration": 66,
    "start_time": "2022-06-09T09:32:37.224Z"
   },
   {
    "duration": 67,
    "start_time": "2022-06-09T09:32:38.245Z"
   },
   {
    "duration": 61,
    "start_time": "2022-06-09T09:32:39.725Z"
   },
   {
    "duration": 6,
    "start_time": "2022-06-09T09:32:43.725Z"
   },
   {
    "duration": 25,
    "start_time": "2022-06-09T09:32:46.165Z"
   },
   {
    "duration": 28,
    "start_time": "2022-06-09T09:32:48.580Z"
   },
   {
    "duration": 16,
    "start_time": "2022-06-09T09:32:53.387Z"
   },
   {
    "duration": 35,
    "start_time": "2022-06-09T09:34:49.025Z"
   },
   {
    "duration": 7,
    "start_time": "2022-06-09T09:35:20.317Z"
   },
   {
    "duration": 6,
    "start_time": "2022-06-09T09:35:20.756Z"
   },
   {
    "duration": 97,
    "start_time": "2022-06-09T09:35:21.224Z"
   },
   {
    "duration": 36,
    "start_time": "2022-06-09T09:35:22.716Z"
   },
   {
    "duration": 6,
    "start_time": "2022-06-09T09:35:23.122Z"
   },
   {
    "duration": 377,
    "start_time": "2022-06-09T09:35:23.787Z"
   },
   {
    "duration": 1186,
    "start_time": "2022-06-09T09:35:25.077Z"
   },
   {
    "duration": 962,
    "start_time": "2022-06-09T09:35:26.274Z"
   },
   {
    "duration": 1139,
    "start_time": "2022-06-09T09:35:27.239Z"
   },
   {
    "duration": 32,
    "start_time": "2022-06-09T09:35:28.380Z"
   },
   {
    "duration": 54,
    "start_time": "2022-06-09T09:37:22.488Z"
   },
   {
    "duration": 24,
    "start_time": "2022-06-09T09:37:26.933Z"
   },
   {
    "duration": 1505,
    "start_time": "2022-06-09T09:37:29.742Z"
   },
   {
    "duration": 20,
    "start_time": "2022-06-09T09:51:46.887Z"
   },
   {
    "duration": 1232,
    "start_time": "2022-06-09T09:51:49.391Z"
   },
   {
    "duration": 1528,
    "start_time": "2022-06-09T10:04:05.095Z"
   },
   {
    "duration": 16,
    "start_time": "2022-06-09T10:30:15.550Z"
   },
   {
    "duration": 22,
    "start_time": "2022-06-09T10:30:29.379Z"
   },
   {
    "duration": 20,
    "start_time": "2022-06-09T10:31:07.615Z"
   },
   {
    "duration": 861,
    "start_time": "2022-06-09T10:34:17.755Z"
   },
   {
    "duration": 781,
    "start_time": "2022-06-09T10:34:21.917Z"
   },
   {
    "duration": 822,
    "start_time": "2022-06-09T10:34:29.887Z"
   },
   {
    "duration": 810,
    "start_time": "2022-06-09T10:34:35.488Z"
   },
   {
    "duration": 9,
    "start_time": "2022-06-09T10:34:49.548Z"
   },
   {
    "duration": 7,
    "start_time": "2022-06-09T10:34:51.919Z"
   },
   {
    "duration": 8,
    "start_time": "2022-06-09T10:34:52.585Z"
   },
   {
    "duration": 12,
    "start_time": "2022-06-09T10:34:54.518Z"
   },
   {
    "duration": 25,
    "start_time": "2022-06-09T10:34:58.851Z"
   },
   {
    "duration": 15,
    "start_time": "2022-06-09T10:35:01.656Z"
   },
   {
    "duration": 16,
    "start_time": "2022-06-09T10:35:03.952Z"
   },
   {
    "duration": 9,
    "start_time": "2022-06-09T10:35:12.930Z"
   },
   {
    "duration": 12,
    "start_time": "2022-06-09T10:35:14.686Z"
   },
   {
    "duration": 138,
    "start_time": "2022-06-09T10:35:24.826Z"
   },
   {
    "duration": 12,
    "start_time": "2022-06-09T10:35:30.300Z"
   },
   {
    "duration": 11,
    "start_time": "2022-06-09T10:35:31.800Z"
   },
   {
    "duration": 11,
    "start_time": "2022-06-09T10:35:34.315Z"
   },
   {
    "duration": 133,
    "start_time": "2022-06-09T10:35:36.241Z"
   },
   {
    "duration": 132,
    "start_time": "2022-06-09T10:36:39.454Z"
   },
   {
    "duration": 8,
    "start_time": "2022-06-09T10:47:52.039Z"
   },
   {
    "duration": 3,
    "start_time": "2022-06-09T10:53:17.946Z"
   },
   {
    "duration": 3,
    "start_time": "2022-06-09T11:02:39.761Z"
   },
   {
    "duration": 3,
    "start_time": "2022-06-09T11:07:54.692Z"
   },
   {
    "duration": 2,
    "start_time": "2022-06-09T11:08:34.178Z"
   },
   {
    "duration": 3,
    "start_time": "2022-06-09T11:10:16.361Z"
   },
   {
    "duration": 1497,
    "start_time": "2022-06-09T11:44:16.436Z"
   },
   {
    "duration": 0,
    "start_time": "2022-06-09T11:44:17.937Z"
   },
   {
    "duration": 0,
    "start_time": "2022-06-09T11:44:17.939Z"
   },
   {
    "duration": 0,
    "start_time": "2022-06-09T11:44:17.940Z"
   },
   {
    "duration": 0,
    "start_time": "2022-06-09T11:44:17.941Z"
   },
   {
    "duration": 0,
    "start_time": "2022-06-09T11:44:17.942Z"
   },
   {
    "duration": 0,
    "start_time": "2022-06-09T11:44:17.963Z"
   },
   {
    "duration": 0,
    "start_time": "2022-06-09T11:44:17.965Z"
   },
   {
    "duration": 0,
    "start_time": "2022-06-09T11:44:17.967Z"
   },
   {
    "duration": 0,
    "start_time": "2022-06-09T11:44:17.968Z"
   },
   {
    "duration": 0,
    "start_time": "2022-06-09T11:44:17.969Z"
   },
   {
    "duration": 0,
    "start_time": "2022-06-09T11:44:17.970Z"
   },
   {
    "duration": 0,
    "start_time": "2022-06-09T11:44:17.972Z"
   },
   {
    "duration": 0,
    "start_time": "2022-06-09T11:44:17.973Z"
   },
   {
    "duration": 0,
    "start_time": "2022-06-09T11:44:17.974Z"
   },
   {
    "duration": 0,
    "start_time": "2022-06-09T11:44:17.976Z"
   },
   {
    "duration": 0,
    "start_time": "2022-06-09T11:44:17.978Z"
   },
   {
    "duration": 0,
    "start_time": "2022-06-09T11:44:17.979Z"
   },
   {
    "duration": 0,
    "start_time": "2022-06-09T11:44:17.980Z"
   },
   {
    "duration": 0,
    "start_time": "2022-06-09T11:44:17.986Z"
   },
   {
    "duration": 0,
    "start_time": "2022-06-09T11:44:17.988Z"
   },
   {
    "duration": 0,
    "start_time": "2022-06-09T11:44:17.993Z"
   },
   {
    "duration": 0,
    "start_time": "2022-06-09T11:44:17.995Z"
   },
   {
    "duration": 0,
    "start_time": "2022-06-09T11:44:17.996Z"
   },
   {
    "duration": 0,
    "start_time": "2022-06-09T11:44:17.998Z"
   },
   {
    "duration": 0,
    "start_time": "2022-06-09T11:44:18.000Z"
   },
   {
    "duration": 0,
    "start_time": "2022-06-09T11:44:18.001Z"
   },
   {
    "duration": 0,
    "start_time": "2022-06-09T11:44:18.003Z"
   },
   {
    "duration": 0,
    "start_time": "2022-06-09T11:44:18.004Z"
   },
   {
    "duration": 0,
    "start_time": "2022-06-09T11:44:18.006Z"
   },
   {
    "duration": 0,
    "start_time": "2022-06-09T11:44:18.007Z"
   },
   {
    "duration": 0,
    "start_time": "2022-06-09T11:44:18.008Z"
   },
   {
    "duration": 0,
    "start_time": "2022-06-09T11:44:18.010Z"
   },
   {
    "duration": 0,
    "start_time": "2022-06-09T11:44:18.012Z"
   },
   {
    "duration": 0,
    "start_time": "2022-06-09T11:44:18.013Z"
   },
   {
    "duration": 0,
    "start_time": "2022-06-09T11:44:18.014Z"
   },
   {
    "duration": 0,
    "start_time": "2022-06-09T11:44:18.016Z"
   },
   {
    "duration": 0,
    "start_time": "2022-06-09T11:44:18.017Z"
   },
   {
    "duration": 0,
    "start_time": "2022-06-09T11:44:18.059Z"
   },
   {
    "duration": 0,
    "start_time": "2022-06-09T11:44:18.060Z"
   },
   {
    "duration": 0,
    "start_time": "2022-06-09T11:44:18.062Z"
   },
   {
    "duration": 0,
    "start_time": "2022-06-09T11:44:18.063Z"
   },
   {
    "duration": 0,
    "start_time": "2022-06-09T11:44:18.064Z"
   },
   {
    "duration": 0,
    "start_time": "2022-06-09T11:44:18.065Z"
   },
   {
    "duration": 0,
    "start_time": "2022-06-09T11:44:18.066Z"
   },
   {
    "duration": 0,
    "start_time": "2022-06-09T11:44:18.068Z"
   },
   {
    "duration": 0,
    "start_time": "2022-06-09T11:44:18.069Z"
   },
   {
    "duration": 0,
    "start_time": "2022-06-09T11:44:18.071Z"
   },
   {
    "duration": 0,
    "start_time": "2022-06-09T11:44:18.072Z"
   },
   {
    "duration": 0,
    "start_time": "2022-06-09T11:44:18.073Z"
   },
   {
    "duration": 0,
    "start_time": "2022-06-09T11:44:18.075Z"
   },
   {
    "duration": 0,
    "start_time": "2022-06-09T11:44:18.076Z"
   },
   {
    "duration": 0,
    "start_time": "2022-06-09T11:44:18.077Z"
   },
   {
    "duration": 0,
    "start_time": "2022-06-09T11:44:18.079Z"
   },
   {
    "duration": 0,
    "start_time": "2022-06-09T11:44:18.080Z"
   },
   {
    "duration": 0,
    "start_time": "2022-06-09T11:44:18.081Z"
   },
   {
    "duration": 0,
    "start_time": "2022-06-09T11:44:18.083Z"
   },
   {
    "duration": 0,
    "start_time": "2022-06-09T11:44:18.085Z"
   },
   {
    "duration": 0,
    "start_time": "2022-06-09T11:44:18.086Z"
   },
   {
    "duration": 0,
    "start_time": "2022-06-09T11:44:18.088Z"
   },
   {
    "duration": 0,
    "start_time": "2022-06-09T11:44:18.089Z"
   },
   {
    "duration": 0,
    "start_time": "2022-06-09T11:44:18.091Z"
   },
   {
    "duration": 0,
    "start_time": "2022-06-09T11:44:18.093Z"
   },
   {
    "duration": 0,
    "start_time": "2022-06-09T11:44:18.095Z"
   },
   {
    "duration": 0,
    "start_time": "2022-06-09T11:44:18.096Z"
   },
   {
    "duration": 0,
    "start_time": "2022-06-09T11:44:18.098Z"
   },
   {
    "duration": 0,
    "start_time": "2022-06-09T11:44:18.099Z"
   },
   {
    "duration": 0,
    "start_time": "2022-06-09T11:44:18.100Z"
   },
   {
    "duration": 0,
    "start_time": "2022-06-09T11:44:18.102Z"
   },
   {
    "duration": 0,
    "start_time": "2022-06-09T11:44:18.103Z"
   },
   {
    "duration": 0,
    "start_time": "2022-06-09T11:44:18.104Z"
   },
   {
    "duration": 0,
    "start_time": "2022-06-09T11:44:18.105Z"
   },
   {
    "duration": 0,
    "start_time": "2022-06-09T11:44:18.106Z"
   },
   {
    "duration": 0,
    "start_time": "2022-06-09T11:44:18.107Z"
   },
   {
    "duration": 0,
    "start_time": "2022-06-09T11:44:18.159Z"
   },
   {
    "duration": 0,
    "start_time": "2022-06-09T11:44:18.160Z"
   },
   {
    "duration": 0,
    "start_time": "2022-06-09T11:44:18.162Z"
   },
   {
    "duration": 0,
    "start_time": "2022-06-09T11:44:18.163Z"
   },
   {
    "duration": 0,
    "start_time": "2022-06-09T11:44:18.170Z"
   },
   {
    "duration": 0,
    "start_time": "2022-06-09T11:44:18.172Z"
   },
   {
    "duration": 0,
    "start_time": "2022-06-09T11:44:18.174Z"
   },
   {
    "duration": 0,
    "start_time": "2022-06-09T11:44:18.177Z"
   },
   {
    "duration": 0,
    "start_time": "2022-06-09T11:44:18.178Z"
   },
   {
    "duration": 93,
    "start_time": "2022-06-09T18:15:45.916Z"
   },
   {
    "duration": 564,
    "start_time": "2022-06-09T18:16:03.162Z"
   },
   {
    "duration": 19,
    "start_time": "2022-06-09T18:16:15.939Z"
   },
   {
    "duration": 1375,
    "start_time": "2022-12-12T11:51:53.366Z"
   },
   {
    "duration": 0,
    "start_time": "2022-12-12T11:51:54.743Z"
   },
   {
    "duration": 0,
    "start_time": "2022-12-12T11:51:54.744Z"
   },
   {
    "duration": 9,
    "start_time": "2022-12-12T11:51:58.762Z"
   },
   {
    "duration": 9,
    "start_time": "2022-12-12T11:52:21.261Z"
   },
   {
    "duration": 3,
    "start_time": "2022-12-12T11:52:27.669Z"
   },
   {
    "duration": 838,
    "start_time": "2022-12-12T11:52:29.162Z"
   },
   {
    "duration": 14,
    "start_time": "2022-12-12T11:52:30.869Z"
   },
   {
    "duration": 9,
    "start_time": "2022-12-12T11:52:31.977Z"
   },
   {
    "duration": 9,
    "start_time": "2022-12-12T11:52:36.425Z"
   },
   {
    "duration": 9,
    "start_time": "2022-12-12T11:52:37.404Z"
   },
   {
    "duration": 9,
    "start_time": "2022-12-12T11:52:39.383Z"
   },
   {
    "duration": 12,
    "start_time": "2022-12-12T11:53:05.328Z"
   },
   {
    "duration": 13,
    "start_time": "2022-12-12T11:53:06.014Z"
   },
   {
    "duration": 12,
    "start_time": "2022-12-12T11:53:25.890Z"
   },
   {
    "duration": 22,
    "start_time": "2022-12-12T11:53:33.333Z"
   },
   {
    "duration": 35,
    "start_time": "2022-12-12T11:53:34.314Z"
   },
   {
    "duration": 18,
    "start_time": "2022-12-12T11:53:35.006Z"
   },
   {
    "duration": 22,
    "start_time": "2022-12-12T11:53:37.265Z"
   },
   {
    "duration": 23,
    "start_time": "2022-12-12T11:53:37.813Z"
   },
   {
    "duration": 13,
    "start_time": "2022-12-12T11:53:38.590Z"
   },
   {
    "duration": 20,
    "start_time": "2022-12-12T11:53:43.536Z"
   },
   {
    "duration": 30,
    "start_time": "2022-12-12T11:53:44.003Z"
   },
   {
    "duration": 16,
    "start_time": "2022-12-12T11:53:45.561Z"
   },
   {
    "duration": 10,
    "start_time": "2022-12-12T11:53:47.681Z"
   },
   {
    "duration": 15,
    "start_time": "2022-12-12T11:54:01.631Z"
   },
   {
    "duration": 6,
    "start_time": "2022-12-12T11:54:11.189Z"
   },
   {
    "duration": 9,
    "start_time": "2022-12-12T11:54:19.965Z"
   },
   {
    "duration": 9,
    "start_time": "2022-12-12T11:55:17.665Z"
   },
   {
    "duration": 30,
    "start_time": "2022-12-12T11:55:28.583Z"
   },
   {
    "duration": 96,
    "start_time": "2022-12-12T11:55:33.077Z"
   },
   {
    "duration": 14,
    "start_time": "2022-12-12T11:55:35.032Z"
   },
   {
    "duration": 18,
    "start_time": "2022-12-12T11:55:37.080Z"
   },
   {
    "duration": 176,
    "start_time": "2022-12-12T11:55:52.593Z"
   },
   {
    "duration": 42,
    "start_time": "2022-12-12T11:56:11.461Z"
   },
   {
    "duration": 10,
    "start_time": "2022-12-12T11:56:12.020Z"
   },
   {
    "duration": 29,
    "start_time": "2022-12-12T11:56:42.973Z"
   },
   {
    "duration": 60,
    "start_time": "2022-12-12T11:56:51.823Z"
   },
   {
    "duration": 11,
    "start_time": "2022-12-12T11:56:52.191Z"
   },
   {
    "duration": 6,
    "start_time": "2022-12-12T11:57:24.965Z"
   },
   {
    "duration": 13,
    "start_time": "2022-12-12T12:00:43.131Z"
   },
   {
    "duration": 15,
    "start_time": "2022-12-12T12:00:58.503Z"
   },
   {
    "duration": 1447,
    "start_time": "2022-12-19T13:45:11.533Z"
   },
   {
    "duration": 1428,
    "start_time": "2022-12-19T13:48:20.941Z"
   },
   {
    "duration": 17,
    "start_time": "2022-12-19T13:48:26.496Z"
   },
   {
    "duration": 10,
    "start_time": "2022-12-19T13:48:26.516Z"
   },
   {
    "duration": 10,
    "start_time": "2022-12-19T13:48:28.405Z"
   },
   {
    "duration": 11,
    "start_time": "2022-12-19T13:48:28.911Z"
   },
   {
    "duration": 10,
    "start_time": "2022-12-19T13:48:29.272Z"
   },
   {
    "duration": 14,
    "start_time": "2022-12-19T13:48:32.964Z"
   },
   {
    "duration": 17,
    "start_time": "2022-12-19T13:48:33.259Z"
   },
   {
    "duration": 11,
    "start_time": "2022-12-19T13:48:33.541Z"
   },
   {
    "duration": 31,
    "start_time": "2022-12-19T13:48:34.131Z"
   },
   {
    "duration": 50,
    "start_time": "2022-12-19T13:48:34.456Z"
   },
   {
    "duration": 19,
    "start_time": "2022-12-19T13:48:34.882Z"
   },
   {
    "duration": 22,
    "start_time": "2022-12-19T13:48:35.257Z"
   },
   {
    "duration": 36,
    "start_time": "2022-12-19T13:48:35.414Z"
   },
   {
    "duration": 16,
    "start_time": "2022-12-19T13:48:36.664Z"
   },
   {
    "duration": 23,
    "start_time": "2022-12-19T13:48:37.183Z"
   },
   {
    "duration": 40,
    "start_time": "2022-12-19T13:48:37.349Z"
   },
   {
    "duration": 18,
    "start_time": "2022-12-19T13:48:37.649Z"
   },
   {
    "duration": 10,
    "start_time": "2022-12-19T13:48:38.472Z"
   },
   {
    "duration": 19,
    "start_time": "2022-12-19T13:48:39.607Z"
   },
   {
    "duration": 8,
    "start_time": "2022-12-19T13:48:40.152Z"
   },
   {
    "duration": 27,
    "start_time": "2022-12-19T13:48:40.233Z"
   },
   {
    "duration": 12,
    "start_time": "2022-12-19T13:48:40.644Z"
   },
   {
    "duration": 40,
    "start_time": "2022-12-19T13:48:42.520Z"
   },
   {
    "duration": 115,
    "start_time": "2022-12-19T13:48:43.629Z"
   },
   {
    "duration": 18,
    "start_time": "2022-12-19T13:48:44.182Z"
   },
   {
    "duration": 23,
    "start_time": "2022-12-19T13:48:44.557Z"
   },
   {
    "duration": 227,
    "start_time": "2022-12-19T13:48:45.109Z"
   },
   {
    "duration": 67,
    "start_time": "2022-12-19T13:48:47.032Z"
   },
   {
    "duration": 17,
    "start_time": "2022-12-19T13:48:48.427Z"
   },
   {
    "duration": 39,
    "start_time": "2022-12-19T13:48:48.784Z"
   },
   {
    "duration": 97,
    "start_time": "2022-12-19T13:48:49.268Z"
   },
   {
    "duration": 19,
    "start_time": "2022-12-19T13:48:49.819Z"
   },
   {
    "duration": 5,
    "start_time": "2022-12-19T13:48:51.082Z"
   },
   {
    "duration": 15,
    "start_time": "2022-12-19T13:48:51.572Z"
   },
   {
    "duration": 118,
    "start_time": "2022-12-19T13:49:04.992Z"
   },
   {
    "duration": 69,
    "start_time": "2022-12-19T13:49:14.198Z"
   },
   {
    "duration": 61,
    "start_time": "2022-12-19T14:10:16.786Z"
   },
   {
    "duration": 41,
    "start_time": "2022-12-19T14:10:18.535Z"
   },
   {
    "duration": 52,
    "start_time": "2022-12-19T14:10:25.869Z"
   },
   {
    "duration": 41,
    "start_time": "2022-12-19T14:10:31.423Z"
   },
   {
    "duration": 7,
    "start_time": "2022-12-19T14:10:32.384Z"
   },
   {
    "duration": 103,
    "start_time": "2022-12-19T14:11:25.557Z"
   },
   {
    "duration": 6,
    "start_time": "2022-12-19T14:11:26.586Z"
   },
   {
    "duration": 14,
    "start_time": "2022-12-19T14:11:37.814Z"
   },
   {
    "duration": 44,
    "start_time": "2022-12-19T14:11:45.024Z"
   },
   {
    "duration": 5,
    "start_time": "2022-12-19T14:11:52.092Z"
   },
   {
    "duration": 11,
    "start_time": "2022-12-19T14:11:54.158Z"
   },
   {
    "duration": 36,
    "start_time": "2022-12-19T14:12:02.863Z"
   },
   {
    "duration": 8,
    "start_time": "2022-12-19T14:12:32.729Z"
   },
   {
    "duration": 5,
    "start_time": "2022-12-19T14:12:45.307Z"
   },
   {
    "duration": 80,
    "start_time": "2022-12-19T14:12:48.813Z"
   },
   {
    "duration": 32,
    "start_time": "2022-12-19T14:12:55.336Z"
   },
   {
    "duration": 6,
    "start_time": "2022-12-19T14:12:56.475Z"
   },
   {
    "duration": 353,
    "start_time": "2022-12-19T14:13:02.423Z"
   },
   {
    "duration": 976,
    "start_time": "2022-12-19T14:13:10.901Z"
   },
   {
    "duration": 933,
    "start_time": "2022-12-19T14:13:11.879Z"
   },
   {
    "duration": 900,
    "start_time": "2022-12-19T14:13:15.863Z"
   },
   {
    "duration": 27,
    "start_time": "2022-12-19T14:13:58.738Z"
   },
   {
    "duration": 13,
    "start_time": "2022-12-19T14:14:10.450Z"
   },
   {
    "duration": 1249,
    "start_time": "2022-12-19T14:14:13.657Z"
   },
   {
    "duration": 1184,
    "start_time": "2022-12-19T14:14:18.214Z"
   },
   {
    "duration": 11,
    "start_time": "2022-12-19T14:14:27.212Z"
   },
   {
    "duration": 15,
    "start_time": "2022-12-19T14:14:30.180Z"
   },
   {
    "duration": 25,
    "start_time": "2022-12-19T14:14:36.408Z"
   },
   {
    "duration": 774,
    "start_time": "2022-12-19T14:14:40.656Z"
   },
   {
    "duration": 748,
    "start_time": "2022-12-19T14:14:50.145Z"
   },
   {
    "duration": 829,
    "start_time": "2022-12-19T14:14:52.084Z"
   },
   {
    "duration": 728,
    "start_time": "2022-12-19T14:14:55.698Z"
   },
   {
    "duration": 9,
    "start_time": "2022-12-19T14:15:07.903Z"
   },
   {
    "duration": 7,
    "start_time": "2022-12-19T14:15:15.908Z"
   },
   {
    "duration": 7,
    "start_time": "2022-12-19T14:15:18.462Z"
   },
   {
    "duration": 11,
    "start_time": "2022-12-19T14:15:24.581Z"
   },
   {
    "duration": 10,
    "start_time": "2022-12-19T14:15:30.738Z"
   },
   {
    "duration": 11,
    "start_time": "2022-12-19T14:15:35.502Z"
   },
   {
    "duration": 11,
    "start_time": "2022-12-19T14:15:38.154Z"
   },
   {
    "duration": 10,
    "start_time": "2022-12-19T14:16:53.505Z"
   },
   {
    "duration": 11,
    "start_time": "2022-12-19T14:18:06.825Z"
   },
   {
    "duration": 10,
    "start_time": "2022-12-19T14:23:12.107Z"
   },
   {
    "duration": 10,
    "start_time": "2022-12-19T14:44:02.650Z"
   }
  ],
  "kernelspec": {
   "display_name": "Python 3 (ipykernel)",
   "language": "python",
   "name": "python3"
  },
  "language_info": {
   "codemirror_mode": {
    "name": "ipython",
    "version": 3
   },
   "file_extension": ".py",
   "mimetype": "text/x-python",
   "name": "python",
   "nbconvert_exporter": "python",
   "pygments_lexer": "ipython3",
   "version": "3.9.12"
  },
  "toc": {
   "base_numbering": 1,
   "nav_menu": {},
   "number_sections": true,
   "sideBar": true,
   "skip_h1_title": true,
   "title_cell": "Содержание",
   "title_sidebar": "Содержание",
   "toc_cell": true,
   "toc_position": {
    "height": "calc(100% - 180px)",
    "left": "10px",
    "top": "150px",
    "width": "360.8px"
   },
   "toc_section_display": true,
   "toc_window_display": true
  }
 },
 "nbformat": 4,
 "nbformat_minor": 2
}
