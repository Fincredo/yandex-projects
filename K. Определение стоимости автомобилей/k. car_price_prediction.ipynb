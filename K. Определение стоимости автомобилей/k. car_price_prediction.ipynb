{
 "cells": [
  {
   "cell_type": "markdown",
   "metadata": {},
   "source": [
    "# Определение стоимости автомобилей"
   ]
  },
  {
   "cell_type": "markdown",
   "metadata": {
    "toc": true
   },
   "source": [
    "<h1>Содержание<span class=\"tocSkip\"></span></h1>\n",
    "<div class=\"toc\"><ul class=\"toc-item\"><li><span><a href=\"#Описание-проекта\" data-toc-modified-id=\"Описание-проекта-1\"><span class=\"toc-item-num\">1&nbsp;&nbsp;</span>Описание проекта</a></span></li><li><span><a href=\"#Подготовка-данных\" data-toc-modified-id=\"Подготовка-данных-2\"><span class=\"toc-item-num\">2&nbsp;&nbsp;</span>Подготовка данных</a></span><ul class=\"toc-item\"><li><span><a href=\"#Изучение-данных\" data-toc-modified-id=\"Изучение-данных-2.1\"><span class=\"toc-item-num\">2.1&nbsp;&nbsp;</span>Изучение данных</a></span><ul class=\"toc-item\"><li><span><a href=\"#Импорт-библиотек-и-открытие-файла\" data-toc-modified-id=\"Импорт-библиотек-и-открытие-файла-2.1.1\"><span class=\"toc-item-num\">2.1.1&nbsp;&nbsp;</span>Импорт библиотек и открытие файла</a></span></li><li><span><a href=\"#Просмотр-общей-информации\" data-toc-modified-id=\"Просмотр-общей-информации-2.1.2\"><span class=\"toc-item-num\">2.1.2&nbsp;&nbsp;</span>Просмотр общей информации</a></span></li><li><span><a href=\"#Изучение-категориальных-признаков\" data-toc-modified-id=\"Изучение-категориальных-признаков-2.1.3\"><span class=\"toc-item-num\">2.1.3&nbsp;&nbsp;</span>Изучение категориальных признаков</a></span></li><li><span><a href=\"#Исследование-статистик\" data-toc-modified-id=\"Исследование-статистик-2.1.4\"><span class=\"toc-item-num\">2.1.4&nbsp;&nbsp;</span>Исследование статистик</a></span></li><li><span><a href=\"#Поиск-дубликатов\" data-toc-modified-id=\"Поиск-дубликатов-2.1.5\"><span class=\"toc-item-num\">2.1.5&nbsp;&nbsp;</span>Поиск дубликатов</a></span></li><li><span><a href=\"#Оценка-корреляций\" data-toc-modified-id=\"Оценка-корреляций-2.1.6\"><span class=\"toc-item-num\">2.1.6&nbsp;&nbsp;</span>Оценка корреляций</a></span></li><li><span><a href=\"#Выводы\" data-toc-modified-id=\"Выводы-2.1.7\"><span class=\"toc-item-num\">2.1.7&nbsp;&nbsp;</span>Выводы</a></span></li></ul></li><li><span><a href=\"#Предобработка-данных\" data-toc-modified-id=\"Предобработка-данных-2.2\"><span class=\"toc-item-num\">2.2&nbsp;&nbsp;</span>Предобработка данных</a></span><ul class=\"toc-item\"><li><span><a href=\"#Переименование-столбцов\" data-toc-modified-id=\"Переименование-столбцов-2.2.1\"><span class=\"toc-item-num\">2.2.1&nbsp;&nbsp;</span>Переименование столбцов</a></span></li><li><span><a href=\"#Изменение-форматов\" data-toc-modified-id=\"Изменение-форматов-2.2.2\"><span class=\"toc-item-num\">2.2.2&nbsp;&nbsp;</span>Изменение форматов</a></span></li><li><span><a href=\"#Удаление-лишних-столбцов\" data-toc-modified-id=\"Удаление-лишних-столбцов-2.2.3\"><span class=\"toc-item-num\">2.2.3&nbsp;&nbsp;</span>Удаление лишних столбцов</a></span></li><li><span><a href=\"#Удаление-дубликатов\" data-toc-modified-id=\"Удаление-дубликатов-2.2.4\"><span class=\"toc-item-num\">2.2.4&nbsp;&nbsp;</span>Удаление дубликатов</a></span></li><li><span><a href=\"#Обработка-аномальных-значений\" data-toc-modified-id=\"Обработка-аномальных-значений-2.2.5\"><span class=\"toc-item-num\">2.2.5&nbsp;&nbsp;</span>Обработка аномальных значений</a></span></li><li><span><a href=\"#Обработка-пропусков\" data-toc-modified-id=\"Обработка-пропусков-2.2.6\"><span class=\"toc-item-num\">2.2.6&nbsp;&nbsp;</span>Обработка пропусков</a></span></li><li><span><a href=\"#Подготовка-к-обучению\" data-toc-modified-id=\"Подготовка-к-обучению-2.2.7\"><span class=\"toc-item-num\">2.2.7&nbsp;&nbsp;</span>Подготовка к обучению</a></span></li><li><span><a href=\"#Итоги\" data-toc-modified-id=\"Итоги-2.2.8\"><span class=\"toc-item-num\">2.2.8&nbsp;&nbsp;</span>Итоги</a></span></li></ul></li></ul></li><li><span><a href=\"#Обучение-моделей\" data-toc-modified-id=\"Обучение-моделей-3\"><span class=\"toc-item-num\">3&nbsp;&nbsp;</span>Обучение моделей</a></span><ul class=\"toc-item\"><li><span><a href=\"#DecisionTreeRegressor\" data-toc-modified-id=\"DecisionTreeRegressor-3.1\"><span class=\"toc-item-num\">3.1&nbsp;&nbsp;</span>DecisionTreeRegressor</a></span></li><li><span><a href=\"#Ridge\" data-toc-modified-id=\"Ridge-3.2\"><span class=\"toc-item-num\">3.2&nbsp;&nbsp;</span>Ridge</a></span></li><li><span><a href=\"#LGBMRegressor\" data-toc-modified-id=\"LGBMRegressor-3.3\"><span class=\"toc-item-num\">3.3&nbsp;&nbsp;</span>LGBMRegressor</a></span></li><li><span><a href=\"#CatBoostRegressor\" data-toc-modified-id=\"CatBoostRegressor-3.4\"><span class=\"toc-item-num\">3.4&nbsp;&nbsp;</span>CatBoostRegressor</a></span></li></ul></li><li><span><a href=\"#Анализ-моделей\" data-toc-modified-id=\"Анализ-моделей-4\"><span class=\"toc-item-num\">4&nbsp;&nbsp;</span>Анализ моделей</a></span></li><li><span><a href=\"#Итоги-исследования\" data-toc-modified-id=\"Итоги-исследования-5\"><span class=\"toc-item-num\">5&nbsp;&nbsp;</span>Итоги исследования</a></span></li></ul></div>"
   ]
  },
  {
   "cell_type": "markdown",
   "metadata": {},
   "source": [
    "## Описание проекта"
   ]
  },
  {
   "cell_type": "markdown",
   "metadata": {},
   "source": [
    "Сервис по продаже автомобилей с пробегом «Не бит, не крашен» разрабатывает приложение для привлечения новых клиентов. В нём можно быстро узнать рыночную стоимость своего автомобиля. Для исследования предоставлены исторические данные: технические характеристики, комплектации и цены автомобилей. Необходимо построить модель для определения стоимости. Значение метрики RMSE должно быть меньше 2500.\n",
    "\n",
    "Заказчику важны:\n",
    "\n",
    "- качество предсказания;\n",
    "- скорость предсказания;\n",
    "- время обучения."
   ]
  },
  {
   "cell_type": "markdown",
   "metadata": {},
   "source": [
    "## Подготовка данных"
   ]
  },
  {
   "cell_type": "markdown",
   "metadata": {},
   "source": [
    "### Изучение данных"
   ]
  },
  {
   "cell_type": "markdown",
   "metadata": {},
   "source": [
    "#### Импорт библиотек и открытие файла"
   ]
  },
  {
   "cell_type": "code",
   "execution_count": 1,
   "metadata": {},
   "outputs": [],
   "source": [
    "# Импортируем необходимые для работы библиотеки.\n",
    "\n",
    "import matplotlib.pyplot as plt\n",
    "import numpy as np\n",
    "import pandas as pd\n",
    "import re\n",
    "import seaborn as sns\n",
    "import warnings\n",
    "\n",
    "from catboost import Pool, CatBoostRegressor, cv\n",
    "from lightgbm import LGBMRegressor\n",
    "from sklearn.dummy import DummyRegressor\n",
    "from sklearn.linear_model import Ridge\n",
    "from sklearn.metrics import mean_squared_error\n",
    "from sklearn.model_selection import GridSearchCV\n",
    "from sklearn.model_selection import train_test_split\n",
    "from sklearn.preprocessing import OrdinalEncoder\n",
    "from sklearn.preprocessing import StandardScaler\n",
    "from sklearn.tree import DecisionTreeRegressor\n",
    "\n",
    "warnings.filterwarnings('ignore')"
   ]
  },
  {
   "cell_type": "markdown",
   "metadata": {},
   "source": [
    "Откроем csv-файл с таблицей и сохраним в переменную \"df\"."
   ]
  },
  {
   "cell_type": "code",
   "execution_count": 2,
   "metadata": {},
   "outputs": [],
   "source": [
    "# При открытии файла используем конструкцию try-except. \n",
    "\n",
    "try:\n",
    "    df = pd.read_csv('/datasets/autos.csv')\n",
    "\n",
    "except:\n",
    "    try:\n",
    "        df = pd.read_csv('datasets/autos.csv')\n",
    "\n",
    "    except:\n",
    "        print('Проверьте путь к файлу.')"
   ]
  },
  {
   "cell_type": "markdown",
   "metadata": {},
   "source": [
    "#### Просмотр общей информации"
   ]
  },
  {
   "cell_type": "code",
   "execution_count": 3,
   "metadata": {},
   "outputs": [
    {
     "data": {
      "text/html": [
       "<div>\n",
       "<style scoped>\n",
       "    .dataframe tbody tr th:only-of-type {\n",
       "        vertical-align: middle;\n",
       "    }\n",
       "\n",
       "    .dataframe tbody tr th {\n",
       "        vertical-align: top;\n",
       "    }\n",
       "\n",
       "    .dataframe thead th {\n",
       "        text-align: right;\n",
       "    }\n",
       "</style>\n",
       "<table border=\"1\" class=\"dataframe\">\n",
       "  <thead>\n",
       "    <tr style=\"text-align: right;\">\n",
       "      <th></th>\n",
       "      <th>DateCrawled</th>\n",
       "      <th>Price</th>\n",
       "      <th>VehicleType</th>\n",
       "      <th>RegistrationYear</th>\n",
       "      <th>Gearbox</th>\n",
       "      <th>Power</th>\n",
       "      <th>Model</th>\n",
       "      <th>Kilometer</th>\n",
       "      <th>RegistrationMonth</th>\n",
       "      <th>FuelType</th>\n",
       "      <th>Brand</th>\n",
       "      <th>NotRepaired</th>\n",
       "      <th>DateCreated</th>\n",
       "      <th>NumberOfPictures</th>\n",
       "      <th>PostalCode</th>\n",
       "      <th>LastSeen</th>\n",
       "    </tr>\n",
       "  </thead>\n",
       "  <tbody>\n",
       "    <tr>\n",
       "      <th>0</th>\n",
       "      <td>2016-03-24 11:52:17</td>\n",
       "      <td>480</td>\n",
       "      <td>NaN</td>\n",
       "      <td>1993</td>\n",
       "      <td>manual</td>\n",
       "      <td>0</td>\n",
       "      <td>golf</td>\n",
       "      <td>150000</td>\n",
       "      <td>0</td>\n",
       "      <td>petrol</td>\n",
       "      <td>volkswagen</td>\n",
       "      <td>NaN</td>\n",
       "      <td>2016-03-24 00:00:00</td>\n",
       "      <td>0</td>\n",
       "      <td>70435</td>\n",
       "      <td>2016-04-07 03:16:57</td>\n",
       "    </tr>\n",
       "    <tr>\n",
       "      <th>1</th>\n",
       "      <td>2016-03-24 10:58:45</td>\n",
       "      <td>18300</td>\n",
       "      <td>coupe</td>\n",
       "      <td>2011</td>\n",
       "      <td>manual</td>\n",
       "      <td>190</td>\n",
       "      <td>NaN</td>\n",
       "      <td>125000</td>\n",
       "      <td>5</td>\n",
       "      <td>gasoline</td>\n",
       "      <td>audi</td>\n",
       "      <td>yes</td>\n",
       "      <td>2016-03-24 00:00:00</td>\n",
       "      <td>0</td>\n",
       "      <td>66954</td>\n",
       "      <td>2016-04-07 01:46:50</td>\n",
       "    </tr>\n",
       "    <tr>\n",
       "      <th>2</th>\n",
       "      <td>2016-03-14 12:52:21</td>\n",
       "      <td>9800</td>\n",
       "      <td>suv</td>\n",
       "      <td>2004</td>\n",
       "      <td>auto</td>\n",
       "      <td>163</td>\n",
       "      <td>grand</td>\n",
       "      <td>125000</td>\n",
       "      <td>8</td>\n",
       "      <td>gasoline</td>\n",
       "      <td>jeep</td>\n",
       "      <td>NaN</td>\n",
       "      <td>2016-03-14 00:00:00</td>\n",
       "      <td>0</td>\n",
       "      <td>90480</td>\n",
       "      <td>2016-04-05 12:47:46</td>\n",
       "    </tr>\n",
       "    <tr>\n",
       "      <th>3</th>\n",
       "      <td>2016-03-17 16:54:04</td>\n",
       "      <td>1500</td>\n",
       "      <td>small</td>\n",
       "      <td>2001</td>\n",
       "      <td>manual</td>\n",
       "      <td>75</td>\n",
       "      <td>golf</td>\n",
       "      <td>150000</td>\n",
       "      <td>6</td>\n",
       "      <td>petrol</td>\n",
       "      <td>volkswagen</td>\n",
       "      <td>no</td>\n",
       "      <td>2016-03-17 00:00:00</td>\n",
       "      <td>0</td>\n",
       "      <td>91074</td>\n",
       "      <td>2016-03-17 17:40:17</td>\n",
       "    </tr>\n",
       "    <tr>\n",
       "      <th>4</th>\n",
       "      <td>2016-03-31 17:25:20</td>\n",
       "      <td>3600</td>\n",
       "      <td>small</td>\n",
       "      <td>2008</td>\n",
       "      <td>manual</td>\n",
       "      <td>69</td>\n",
       "      <td>fabia</td>\n",
       "      <td>90000</td>\n",
       "      <td>7</td>\n",
       "      <td>gasoline</td>\n",
       "      <td>skoda</td>\n",
       "      <td>no</td>\n",
       "      <td>2016-03-31 00:00:00</td>\n",
       "      <td>0</td>\n",
       "      <td>60437</td>\n",
       "      <td>2016-04-06 10:17:21</td>\n",
       "    </tr>\n",
       "  </tbody>\n",
       "</table>\n",
       "</div>"
      ],
      "text/plain": [
       "           DateCrawled  Price VehicleType  RegistrationYear Gearbox  Power  \\\n",
       "0  2016-03-24 11:52:17    480         NaN              1993  manual      0   \n",
       "1  2016-03-24 10:58:45  18300       coupe              2011  manual    190   \n",
       "2  2016-03-14 12:52:21   9800         suv              2004    auto    163   \n",
       "3  2016-03-17 16:54:04   1500       small              2001  manual     75   \n",
       "4  2016-03-31 17:25:20   3600       small              2008  manual     69   \n",
       "\n",
       "   Model  Kilometer  RegistrationMonth  FuelType       Brand NotRepaired  \\\n",
       "0   golf     150000                  0    petrol  volkswagen         NaN   \n",
       "1    NaN     125000                  5  gasoline        audi         yes   \n",
       "2  grand     125000                  8  gasoline        jeep         NaN   \n",
       "3   golf     150000                  6    petrol  volkswagen          no   \n",
       "4  fabia      90000                  7  gasoline       skoda          no   \n",
       "\n",
       "           DateCreated  NumberOfPictures  PostalCode             LastSeen  \n",
       "0  2016-03-24 00:00:00                 0       70435  2016-04-07 03:16:57  \n",
       "1  2016-03-24 00:00:00                 0       66954  2016-04-07 01:46:50  \n",
       "2  2016-03-14 00:00:00                 0       90480  2016-04-05 12:47:46  \n",
       "3  2016-03-17 00:00:00                 0       91074  2016-03-17 17:40:17  \n",
       "4  2016-03-31 00:00:00                 0       60437  2016-04-06 10:17:21  "
      ]
     },
     "execution_count": 3,
     "metadata": {},
     "output_type": "execute_result"
    }
   ],
   "source": [
    "# Просматриваем первые строки датафрейма.\n",
    "\n",
    "df.head()"
   ]
  },
  {
   "cell_type": "code",
   "execution_count": 4,
   "metadata": {},
   "outputs": [
    {
     "name": "stdout",
     "output_type": "stream",
     "text": [
      "<class 'pandas.core.frame.DataFrame'>\n",
      "RangeIndex: 354369 entries, 0 to 354368\n",
      "Data columns (total 16 columns):\n",
      " #   Column             Non-Null Count   Dtype \n",
      "---  ------             --------------   ----- \n",
      " 0   DateCrawled        354369 non-null  object\n",
      " 1   Price              354369 non-null  int64 \n",
      " 2   VehicleType        316879 non-null  object\n",
      " 3   RegistrationYear   354369 non-null  int64 \n",
      " 4   Gearbox            334536 non-null  object\n",
      " 5   Power              354369 non-null  int64 \n",
      " 6   Model              334664 non-null  object\n",
      " 7   Kilometer          354369 non-null  int64 \n",
      " 8   RegistrationMonth  354369 non-null  int64 \n",
      " 9   FuelType           321474 non-null  object\n",
      " 10  Brand              354369 non-null  object\n",
      " 11  NotRepaired        283215 non-null  object\n",
      " 12  DateCreated        354369 non-null  object\n",
      " 13  NumberOfPictures   354369 non-null  int64 \n",
      " 14  PostalCode         354369 non-null  int64 \n",
      " 15  LastSeen           354369 non-null  object\n",
      "dtypes: int64(7), object(9)\n",
      "memory usage: 43.3+ MB\n"
     ]
    }
   ],
   "source": [
    "# Общая информация о датафрейме\n",
    "\n",
    "df.info()"
   ]
  },
  {
   "cell_type": "code",
   "execution_count": 5,
   "metadata": {},
   "outputs": [
    {
     "data": {
      "text/plain": [
       "DateCrawled              0\n",
       "Price                    0\n",
       "VehicleType          37490\n",
       "RegistrationYear         0\n",
       "Gearbox              19833\n",
       "Power                    0\n",
       "Model                19705\n",
       "Kilometer                0\n",
       "RegistrationMonth        0\n",
       "FuelType             32895\n",
       "Brand                    0\n",
       "NotRepaired          71154\n",
       "DateCreated              0\n",
       "NumberOfPictures         0\n",
       "PostalCode               0\n",
       "LastSeen                 0\n",
       "dtype: int64"
      ]
     },
     "execution_count": 5,
     "metadata": {},
     "output_type": "execute_result"
    }
   ],
   "source": [
    "# Количество пропусков в столбцах таблицы\n",
    "\n",
    "df.isna().sum()"
   ]
  },
  {
   "cell_type": "code",
   "execution_count": 6,
   "metadata": {},
   "outputs": [
    {
     "name": "stdout",
     "output_type": "stream",
     "text": [
      "Доля пропусков в столбце \"VehicleType\": 10.6%\n",
      "Доля пропусков в столбце \"Gearbox\": 5.6%\n",
      "Доля пропусков в столбце \"Model\": 5.6%\n",
      "Доля пропусков в столбце \"FuelType\": 9.3%\n",
      "Доля пропусков в столбце \"NotRepaired\": 20.1%\n"
     ]
    }
   ],
   "source": [
    "# Доли пропусков в каждом столбце\n",
    "\n",
    "for column in list(df.columns):\n",
    "    if df[column].isna().mean() != 0:\n",
    "        print(f'Доля пропусков в столбце \"{column}\": '\n",
    "              f'{df[column].isna().mean():.1%}')"
   ]
  },
  {
   "cell_type": "markdown",
   "metadata": {},
   "source": [
    "#### Изучение категориальных признаков"
   ]
  },
  {
   "cell_type": "code",
   "execution_count": 7,
   "metadata": {},
   "outputs": [
    {
     "data": {
      "text/plain": [
       "sedan          91457\n",
       "small          79831\n",
       "wagon          65166\n",
       "bus            28775\n",
       "convertible    20203\n",
       "coupe          16163\n",
       "suv            11996\n",
       "other           3288\n",
       "Name: VehicleType, dtype: int64"
      ]
     },
     "execution_count": 7,
     "metadata": {},
     "output_type": "execute_result"
    }
   ],
   "source": [
    "# Уникальные значения в столбце \"VehicleType\"\n",
    "\n",
    "df['VehicleType'].value_counts()"
   ]
  },
  {
   "cell_type": "code",
   "execution_count": 8,
   "metadata": {},
   "outputs": [
    {
     "data": {
      "text/plain": [
       "manual    268251\n",
       "auto       66285\n",
       "Name: Gearbox, dtype: int64"
      ]
     },
     "execution_count": 8,
     "metadata": {},
     "output_type": "execute_result"
    }
   ],
   "source": [
    "# Уникальные значения в столбце \"Gearbox\"\n",
    "\n",
    "df['Gearbox'].value_counts()"
   ]
  },
  {
   "cell_type": "code",
   "execution_count": 9,
   "metadata": {
    "scrolled": false
   },
   "outputs": [
    {
     "data": {
      "text/plain": [
       "golf                  29232\n",
       "other                 24421\n",
       "3er                   19761\n",
       "polo                  13066\n",
       "corsa                 12570\n",
       "                      ...  \n",
       "i3                        8\n",
       "serie_3                   4\n",
       "rangerover                4\n",
       "range_rover_evoque        2\n",
       "serie_1                   2\n",
       "Name: Model, Length: 250, dtype: int64"
      ]
     },
     "execution_count": 9,
     "metadata": {},
     "output_type": "execute_result"
    }
   ],
   "source": [
    "# Уникальные значения в столбце \"Model\"\n",
    "\n",
    "df['Model'].value_counts()"
   ]
  },
  {
   "cell_type": "code",
   "execution_count": 10,
   "metadata": {},
   "outputs": [
    {
     "data": {
      "text/plain": [
       "petrol      216352\n",
       "gasoline     98720\n",
       "lpg           5310\n",
       "cng            565\n",
       "hybrid         233\n",
       "other          204\n",
       "electric        90\n",
       "Name: FuelType, dtype: int64"
      ]
     },
     "execution_count": 10,
     "metadata": {},
     "output_type": "execute_result"
    }
   ],
   "source": [
    "# Уникальные значения в столбце \"FuelType\"\n",
    "\n",
    "df['FuelType'].value_counts()"
   ]
  },
  {
   "cell_type": "code",
   "execution_count": 11,
   "metadata": {},
   "outputs": [
    {
     "data": {
      "text/plain": [
       "volkswagen        77013\n",
       "opel              39931\n",
       "bmw               36914\n",
       "mercedes_benz     32046\n",
       "audi              29456\n",
       "ford              25179\n",
       "renault           17927\n",
       "peugeot           10998\n",
       "fiat               9643\n",
       "seat               6907\n",
       "mazda              5615\n",
       "skoda              5500\n",
       "smart              5246\n",
       "citroen            5148\n",
       "nissan             4941\n",
       "toyota             4606\n",
       "hyundai            3587\n",
       "sonstige_autos     3374\n",
       "volvo              3210\n",
       "mini               3202\n",
       "mitsubishi         3022\n",
       "honda              2817\n",
       "kia                2465\n",
       "suzuki             2323\n",
       "alfa_romeo         2314\n",
       "chevrolet          1754\n",
       "chrysler           1439\n",
       "dacia               900\n",
       "daihatsu            806\n",
       "subaru              762\n",
       "porsche             758\n",
       "jeep                677\n",
       "trabant             589\n",
       "land_rover          545\n",
       "daewoo              542\n",
       "saab                526\n",
       "jaguar              505\n",
       "rover               486\n",
       "lancia              471\n",
       "lada                225\n",
       "Name: Brand, dtype: int64"
      ]
     },
     "execution_count": 11,
     "metadata": {},
     "output_type": "execute_result"
    }
   ],
   "source": [
    "# Уникальные значения в столбце \"Brand\"\n",
    "\n",
    "df['Brand'].value_counts()"
   ]
  },
  {
   "cell_type": "code",
   "execution_count": 12,
   "metadata": {},
   "outputs": [
    {
     "data": {
      "text/plain": [
       "no     247161\n",
       "yes     36054\n",
       "Name: NotRepaired, dtype: int64"
      ]
     },
     "execution_count": 12,
     "metadata": {},
     "output_type": "execute_result"
    }
   ],
   "source": [
    "# Уникальные значения в столбце \"NotRepaired\"\n",
    "\n",
    "df['NotRepaired'].value_counts()"
   ]
  },
  {
   "cell_type": "markdown",
   "metadata": {},
   "source": [
    "#### Исследование статистик"
   ]
  },
  {
   "cell_type": "code",
   "execution_count": 13,
   "metadata": {},
   "outputs": [
    {
     "data": {
      "text/html": [
       "<div>\n",
       "<style scoped>\n",
       "    .dataframe tbody tr th:only-of-type {\n",
       "        vertical-align: middle;\n",
       "    }\n",
       "\n",
       "    .dataframe tbody tr th {\n",
       "        vertical-align: top;\n",
       "    }\n",
       "\n",
       "    .dataframe thead th {\n",
       "        text-align: right;\n",
       "    }\n",
       "</style>\n",
       "<table border=\"1\" class=\"dataframe\">\n",
       "  <thead>\n",
       "    <tr style=\"text-align: right;\">\n",
       "      <th></th>\n",
       "      <th>Price</th>\n",
       "      <th>RegistrationYear</th>\n",
       "      <th>Power</th>\n",
       "      <th>Kilometer</th>\n",
       "      <th>RegistrationMonth</th>\n",
       "      <th>NumberOfPictures</th>\n",
       "      <th>PostalCode</th>\n",
       "    </tr>\n",
       "  </thead>\n",
       "  <tbody>\n",
       "    <tr>\n",
       "      <th>count</th>\n",
       "      <td>354369.000000</td>\n",
       "      <td>354369.000000</td>\n",
       "      <td>354369.000000</td>\n",
       "      <td>354369.000000</td>\n",
       "      <td>354369.000000</td>\n",
       "      <td>354369.0</td>\n",
       "      <td>354369.000000</td>\n",
       "    </tr>\n",
       "    <tr>\n",
       "      <th>mean</th>\n",
       "      <td>4416.656776</td>\n",
       "      <td>2004.234448</td>\n",
       "      <td>110.094337</td>\n",
       "      <td>128211.172535</td>\n",
       "      <td>5.714645</td>\n",
       "      <td>0.0</td>\n",
       "      <td>50508.689087</td>\n",
       "    </tr>\n",
       "    <tr>\n",
       "      <th>std</th>\n",
       "      <td>4514.158514</td>\n",
       "      <td>90.227958</td>\n",
       "      <td>189.850405</td>\n",
       "      <td>37905.341530</td>\n",
       "      <td>3.726421</td>\n",
       "      <td>0.0</td>\n",
       "      <td>25783.096248</td>\n",
       "    </tr>\n",
       "    <tr>\n",
       "      <th>min</th>\n",
       "      <td>0.000000</td>\n",
       "      <td>1000.000000</td>\n",
       "      <td>0.000000</td>\n",
       "      <td>5000.000000</td>\n",
       "      <td>0.000000</td>\n",
       "      <td>0.0</td>\n",
       "      <td>1067.000000</td>\n",
       "    </tr>\n",
       "    <tr>\n",
       "      <th>25%</th>\n",
       "      <td>1050.000000</td>\n",
       "      <td>1999.000000</td>\n",
       "      <td>69.000000</td>\n",
       "      <td>125000.000000</td>\n",
       "      <td>3.000000</td>\n",
       "      <td>0.0</td>\n",
       "      <td>30165.000000</td>\n",
       "    </tr>\n",
       "    <tr>\n",
       "      <th>50%</th>\n",
       "      <td>2700.000000</td>\n",
       "      <td>2003.000000</td>\n",
       "      <td>105.000000</td>\n",
       "      <td>150000.000000</td>\n",
       "      <td>6.000000</td>\n",
       "      <td>0.0</td>\n",
       "      <td>49413.000000</td>\n",
       "    </tr>\n",
       "    <tr>\n",
       "      <th>75%</th>\n",
       "      <td>6400.000000</td>\n",
       "      <td>2008.000000</td>\n",
       "      <td>143.000000</td>\n",
       "      <td>150000.000000</td>\n",
       "      <td>9.000000</td>\n",
       "      <td>0.0</td>\n",
       "      <td>71083.000000</td>\n",
       "    </tr>\n",
       "    <tr>\n",
       "      <th>max</th>\n",
       "      <td>20000.000000</td>\n",
       "      <td>9999.000000</td>\n",
       "      <td>20000.000000</td>\n",
       "      <td>150000.000000</td>\n",
       "      <td>12.000000</td>\n",
       "      <td>0.0</td>\n",
       "      <td>99998.000000</td>\n",
       "    </tr>\n",
       "  </tbody>\n",
       "</table>\n",
       "</div>"
      ],
      "text/plain": [
       "               Price  RegistrationYear          Power      Kilometer  \\\n",
       "count  354369.000000     354369.000000  354369.000000  354369.000000   \n",
       "mean     4416.656776       2004.234448     110.094337  128211.172535   \n",
       "std      4514.158514         90.227958     189.850405   37905.341530   \n",
       "min         0.000000       1000.000000       0.000000    5000.000000   \n",
       "25%      1050.000000       1999.000000      69.000000  125000.000000   \n",
       "50%      2700.000000       2003.000000     105.000000  150000.000000   \n",
       "75%      6400.000000       2008.000000     143.000000  150000.000000   \n",
       "max     20000.000000       9999.000000   20000.000000  150000.000000   \n",
       "\n",
       "       RegistrationMonth  NumberOfPictures     PostalCode  \n",
       "count      354369.000000          354369.0  354369.000000  \n",
       "mean            5.714645               0.0   50508.689087  \n",
       "std             3.726421               0.0   25783.096248  \n",
       "min             0.000000               0.0    1067.000000  \n",
       "25%             3.000000               0.0   30165.000000  \n",
       "50%             6.000000               0.0   49413.000000  \n",
       "75%             9.000000               0.0   71083.000000  \n",
       "max            12.000000               0.0   99998.000000  "
      ]
     },
     "execution_count": 13,
     "metadata": {},
     "output_type": "execute_result"
    }
   ],
   "source": [
    "# Статистические характеристики датафрейма\n",
    "\n",
    "df.describe()"
   ]
  },
  {
   "cell_type": "code",
   "execution_count": 14,
   "metadata": {},
   "outputs": [
    {
     "name": "stdout",
     "output_type": "stream",
     "text": [
      "Доля нулей в столбце \"Price\": 3.0%\n",
      "Доля нулей в столбце \"RegistrationYear\": 0.0%\n",
      "Доля нулей в столбце \"Power\": 11.4%\n",
      "Доля нулей в столбце \"Kilometer\": 0.0%\n",
      "Доля нулей в столбце \"RegistrationMonth\": 10.5%\n",
      "Доля нулей в столбце \"NumberOfPictures\": 100.0%\n",
      "Доля нулей в столбце \"PostalCode\": 0.0%\n"
     ]
    }
   ],
   "source": [
    "# Доля нулей в каждом столбце с количественными признаками\n",
    "\n",
    "for column in list(df.describe().columns):\n",
    "    print(f'Доля нулей в столбце \"{column}\": '\n",
    "          f'{df.loc[df[column] == 0, column].count() / df.shape[0]:.1%}')"
   ]
  },
  {
   "cell_type": "markdown",
   "metadata": {},
   "source": [
    "_Столбец \"Price\"_"
   ]
  },
  {
   "cell_type": "code",
   "execution_count": 15,
   "metadata": {},
   "outputs": [
    {
     "data": {
      "image/png": "[encoded data removed]",
      "text/plain": [
       "<Figure size 1080x360 with 1 Axes>"
      ]
     },
     "metadata": {
      "needs_background": "light"
     },
     "output_type": "display_data"
    }
   ],
   "source": [
    "# Распределение цен\n",
    "\n",
    "plt.figure(figsize=(15, 5))\n",
    "plt.hist(df['Price'], bins=30)\n",
    "plt.title(\"Распределение цен\")\n",
    "plt.xlabel(\"Цена автомобиля\")\n",
    "plt.show()"
   ]
  },
  {
   "cell_type": "code",
   "execution_count": 16,
   "metadata": {},
   "outputs": [
    {
     "data": {
      "text/plain": [
       "0.018878626516427792"
      ]
     },
     "execution_count": 16,
     "metadata": {},
     "output_type": "execute_result"
    }
   ],
   "source": [
    "# Аномально низкие ненулевые значения (до 200) в столбце \"Price\"\n",
    "\n",
    "((df['Price'] > 0) & (df['Price'] < 200)).mean()"
   ]
  },
  {
   "cell_type": "markdown",
   "metadata": {},
   "source": [
    "_Столбец \"RegistrationYear\"_"
   ]
  },
  {
   "cell_type": "code",
   "execution_count": 17,
   "metadata": {
    "scrolled": false
   },
   "outputs": [
    {
     "data": {
      "image/png": "[encoded data removed]",
      "text/plain": [
       "<Figure size 864x360 with 1 Axes>"
      ]
     },
     "metadata": {
      "needs_background": "light"
     },
     "output_type": "display_data"
    }
   ],
   "source": [
    "# Распределение года регистрации\n",
    "\n",
    "plt.figure(figsize=(12, 5))\n",
    "plt.hist(df.loc[(df['RegistrationYear'] >= 1950) \n",
    "                & (df['RegistrationYear'] <= 2022), \n",
    "                'RegistrationYear'\n",
    "               ], bins=30\n",
    "        )\n",
    "plt.title(\"Распределение года регистрации\")\n",
    "plt.xlabel(\"Год регистрации автомобиля\")\n",
    "plt.show()"
   ]
  },
  {
   "cell_type": "code",
   "execution_count": 18,
   "metadata": {
    "scrolled": true
   },
   "outputs": [
    {
     "data": {
      "text/plain": [
       "0.0037757253032855583"
      ]
     },
     "execution_count": 18,
     "metadata": {},
     "output_type": "execute_result"
    }
   ],
   "source": [
    "# Доля аномально низких значений (до 1970г.) в столбце \"RegistrationYear\"\n",
    "\n",
    "((df['RegistrationYear'] > 0) & (df['RegistrationYear'] < 1970)).mean()"
   ]
  },
  {
   "cell_type": "code",
   "execution_count": 19,
   "metadata": {},
   "outputs": [
    {
     "data": {
      "text/plain": [
       "'2016-04-07 00:00:00'"
      ]
     },
     "execution_count": 19,
     "metadata": {},
     "output_type": "execute_result"
    }
   ],
   "source": [
    "# Самая поздняя дата создания анкеты\n",
    "\n",
    "df['DateCreated'].max()"
   ]
  },
  {
   "cell_type": "code",
   "execution_count": 20,
   "metadata": {},
   "outputs": [
    {
     "data": {
      "text/plain": [
       "0.04100245788993958"
      ]
     },
     "execution_count": 20,
     "metadata": {},
     "output_type": "execute_result"
    }
   ],
   "source": [
    "# Доля аномально высоких значений (после 2016г.) в столбце \"RegistrationYear\"\n",
    "\n",
    "(df['RegistrationYear'] > 2016).mean()"
   ]
  },
  {
   "cell_type": "markdown",
   "metadata": {},
   "source": [
    "_Столбец \"VehicleType\"_"
   ]
  },
  {
   "cell_type": "code",
   "execution_count": 21,
   "metadata": {},
   "outputs": [
    {
     "data": {
      "text/plain": [
       "0     37352\n",
       "1     23219\n",
       "2     21267\n",
       "3     34373\n",
       "4     29270\n",
       "5     29153\n",
       "6     31508\n",
       "7     27213\n",
       "8     22627\n",
       "9     23813\n",
       "10    26099\n",
       "11    24186\n",
       "12    24289\n",
       "Name: RegistrationMonth, dtype: int64"
      ]
     },
     "execution_count": 21,
     "metadata": {},
     "output_type": "execute_result"
    }
   ],
   "source": [
    "# Уникальные значения в столбце \"RegistrationMonth\"\n",
    "\n",
    "df['RegistrationMonth'].value_counts().sort_index()"
   ]
  },
  {
   "cell_type": "markdown",
   "metadata": {},
   "source": [
    "_Столбец \"Power\"_"
   ]
  },
  {
   "cell_type": "code",
   "execution_count": 22,
   "metadata": {},
   "outputs": [
    {
     "data": {
      "image/png": "[encoded data removed]",
      "text/plain": [
       "<Figure size 864x360 with 1 Axes>"
      ]
     },
     "metadata": {
      "needs_background": "light"
     },
     "output_type": "display_data"
    }
   ],
   "source": [
    "# Распределение мощности\n",
    "\n",
    "plt.figure(figsize=(12, 5))\n",
    "plt.hist(df.loc[(df['Power'] > 0) & (df['Power'] <= 500), 'Power'], bins=30)\n",
    "plt.title(\"Распределение мощности\")\n",
    "plt.xlabel(\"Мощности автомобиля\")\n",
    "plt.show()"
   ]
  },
  {
   "cell_type": "code",
   "execution_count": 23,
   "metadata": {},
   "outputs": [
    {
     "data": {
      "text/plain": [
       "0.004941177134568769"
      ]
     },
     "execution_count": 23,
     "metadata": {},
     "output_type": "execute_result"
    }
   ],
   "source": [
    "# Доля аномально низких значений (до 40 л.с.) в столбце \"Power\"\n",
    "\n",
    "((df['Power'] > 0) & (df['Power'] <= 40)).mean()"
   ]
  },
  {
   "cell_type": "code",
   "execution_count": 24,
   "metadata": {},
   "outputs": [
    {
     "data": {
      "text/plain": [
       "0.002232136558220386"
      ]
     },
     "execution_count": 24,
     "metadata": {},
     "output_type": "execute_result"
    }
   ],
   "source": [
    "# Доля аномально высоких значений (от 400 л.с.) в столбце \"Power\"\n",
    "\n",
    "(df['Power'] >= 400).mean()"
   ]
  },
  {
   "cell_type": "markdown",
   "metadata": {},
   "source": [
    "_Столбец \"Kilometer\"_"
   ]
  },
  {
   "cell_type": "code",
   "execution_count": 25,
   "metadata": {
    "scrolled": true
   },
   "outputs": [
    {
     "data": {
      "image/png": "[encoded data removed]",
      "text/plain": [
       "<Figure size 720x360 with 1 Axes>"
      ]
     },
     "metadata": {
      "needs_background": "light"
     },
     "output_type": "display_data"
    }
   ],
   "source": [
    "# Распределение пробега\n",
    "\n",
    "plt.figure(figsize=(10, 5))\n",
    "plt.hist(df['Kilometer'], bins=8)\n",
    "plt.title(\"Распределение пробега\")\n",
    "plt.xlabel(\"Пробег автомобиля\")\n",
    "plt.show()"
   ]
  },
  {
   "cell_type": "code",
   "execution_count": 26,
   "metadata": {},
   "outputs": [
    {
     "data": {
      "text/plain": [
       "150000    0.672206\n",
       "125000    0.102870\n",
       "100000    0.041996\n",
       "90000     0.032641\n",
       "80000     0.028352\n",
       "70000     0.024249\n",
       "60000     0.021006\n",
       "5000      0.018052\n",
       "50000     0.017586\n",
       "40000     0.013858\n",
       "30000     0.012518\n",
       "20000     0.011217\n",
       "10000     0.003448\n",
       "Name: Kilometer, dtype: float64"
      ]
     },
     "execution_count": 26,
     "metadata": {},
     "output_type": "execute_result"
    }
   ],
   "source": [
    "# Доли автомобилей с разным пробегом\n",
    "\n",
    "df['Kilometer'].value_counts(normalize=True)"
   ]
  },
  {
   "cell_type": "markdown",
   "metadata": {},
   "source": [
    "#### Поиск дубликатов"
   ]
  },
  {
   "cell_type": "code",
   "execution_count": 27,
   "metadata": {},
   "outputs": [
    {
     "name": "stdout",
     "output_type": "stream",
     "text": [
      "Количество дубликатов в таблице: 4\n"
     ]
    }
   ],
   "source": [
    "# Проверяем датафрейм на наличие дубликатов.\n",
    "\n",
    "print('Количество дубликатов в таблице:', df.duplicated().sum())"
   ]
  },
  {
   "cell_type": "code",
   "execution_count": 28,
   "metadata": {},
   "outputs": [
    {
     "data": {
      "text/html": [
       "<div>\n",
       "<style scoped>\n",
       "    .dataframe tbody tr th:only-of-type {\n",
       "        vertical-align: middle;\n",
       "    }\n",
       "\n",
       "    .dataframe tbody tr th {\n",
       "        vertical-align: top;\n",
       "    }\n",
       "\n",
       "    .dataframe thead th {\n",
       "        text-align: right;\n",
       "    }\n",
       "</style>\n",
       "<table border=\"1\" class=\"dataframe\">\n",
       "  <thead>\n",
       "    <tr style=\"text-align: right;\">\n",
       "      <th></th>\n",
       "      <th>DateCrawled</th>\n",
       "      <th>Price</th>\n",
       "      <th>VehicleType</th>\n",
       "      <th>RegistrationYear</th>\n",
       "      <th>Gearbox</th>\n",
       "      <th>Power</th>\n",
       "      <th>Model</th>\n",
       "      <th>Kilometer</th>\n",
       "      <th>RegistrationMonth</th>\n",
       "      <th>FuelType</th>\n",
       "      <th>Brand</th>\n",
       "      <th>NotRepaired</th>\n",
       "      <th>DateCreated</th>\n",
       "      <th>NumberOfPictures</th>\n",
       "      <th>PostalCode</th>\n",
       "      <th>LastSeen</th>\n",
       "    </tr>\n",
       "  </thead>\n",
       "  <tbody>\n",
       "    <tr>\n",
       "      <th>171088</th>\n",
       "      <td>2016-03-08 18:42:48</td>\n",
       "      <td>1799</td>\n",
       "      <td>coupe</td>\n",
       "      <td>1999</td>\n",
       "      <td>auto</td>\n",
       "      <td>193</td>\n",
       "      <td>clk</td>\n",
       "      <td>20000</td>\n",
       "      <td>7</td>\n",
       "      <td>petrol</td>\n",
       "      <td>mercedes_benz</td>\n",
       "      <td>no</td>\n",
       "      <td>2016-03-08 00:00:00</td>\n",
       "      <td>0</td>\n",
       "      <td>89518</td>\n",
       "      <td>2016-03-09 09:46:57</td>\n",
       "    </tr>\n",
       "    <tr>\n",
       "      <th>231258</th>\n",
       "      <td>2016-03-28 00:56:10</td>\n",
       "      <td>1000</td>\n",
       "      <td>small</td>\n",
       "      <td>2002</td>\n",
       "      <td>manual</td>\n",
       "      <td>83</td>\n",
       "      <td>other</td>\n",
       "      <td>150000</td>\n",
       "      <td>1</td>\n",
       "      <td>petrol</td>\n",
       "      <td>suzuki</td>\n",
       "      <td>no</td>\n",
       "      <td>2016-03-28 00:00:00</td>\n",
       "      <td>0</td>\n",
       "      <td>66589</td>\n",
       "      <td>2016-03-28 08:46:21</td>\n",
       "    </tr>\n",
       "    <tr>\n",
       "      <th>258109</th>\n",
       "      <td>2016-04-03 09:01:15</td>\n",
       "      <td>4699</td>\n",
       "      <td>coupe</td>\n",
       "      <td>2003</td>\n",
       "      <td>auto</td>\n",
       "      <td>218</td>\n",
       "      <td>clk</td>\n",
       "      <td>125000</td>\n",
       "      <td>6</td>\n",
       "      <td>petrol</td>\n",
       "      <td>mercedes_benz</td>\n",
       "      <td>yes</td>\n",
       "      <td>2016-04-03 00:00:00</td>\n",
       "      <td>0</td>\n",
       "      <td>75196</td>\n",
       "      <td>2016-04-07 09:44:54</td>\n",
       "    </tr>\n",
       "    <tr>\n",
       "      <th>325651</th>\n",
       "      <td>2016-03-18 18:46:15</td>\n",
       "      <td>1999</td>\n",
       "      <td>wagon</td>\n",
       "      <td>2001</td>\n",
       "      <td>manual</td>\n",
       "      <td>131</td>\n",
       "      <td>passat</td>\n",
       "      <td>150000</td>\n",
       "      <td>7</td>\n",
       "      <td>gasoline</td>\n",
       "      <td>volkswagen</td>\n",
       "      <td>no</td>\n",
       "      <td>2016-03-18 00:00:00</td>\n",
       "      <td>0</td>\n",
       "      <td>36391</td>\n",
       "      <td>2016-03-18 18:46:15</td>\n",
       "    </tr>\n",
       "  </tbody>\n",
       "</table>\n",
       "</div>"
      ],
      "text/plain": [
       "                DateCrawled  Price VehicleType  RegistrationYear Gearbox  \\\n",
       "171088  2016-03-08 18:42:48   1799       coupe              1999    auto   \n",
       "231258  2016-03-28 00:56:10   1000       small              2002  manual   \n",
       "258109  2016-04-03 09:01:15   4699       coupe              2003    auto   \n",
       "325651  2016-03-18 18:46:15   1999       wagon              2001  manual   \n",
       "\n",
       "        Power   Model  Kilometer  RegistrationMonth  FuelType          Brand  \\\n",
       "171088    193     clk      20000                  7    petrol  mercedes_benz   \n",
       "231258     83   other     150000                  1    petrol         suzuki   \n",
       "258109    218     clk     125000                  6    petrol  mercedes_benz   \n",
       "325651    131  passat     150000                  7  gasoline     volkswagen   \n",
       "\n",
       "       NotRepaired          DateCreated  NumberOfPictures  PostalCode  \\\n",
       "171088          no  2016-03-08 00:00:00                 0       89518   \n",
       "231258          no  2016-03-28 00:00:00                 0       66589   \n",
       "258109         yes  2016-04-03 00:00:00                 0       75196   \n",
       "325651          no  2016-03-18 00:00:00                 0       36391   \n",
       "\n",
       "                   LastSeen  \n",
       "171088  2016-03-09 09:46:57  \n",
       "231258  2016-03-28 08:46:21  \n",
       "258109  2016-04-07 09:44:54  \n",
       "325651  2016-03-18 18:46:15  "
      ]
     },
     "execution_count": 28,
     "metadata": {},
     "output_type": "execute_result"
    }
   ],
   "source": [
    "# Просматриваем строки, у которых есть дубликаты.\n",
    "\n",
    "df[df.duplicated()]"
   ]
  },
  {
   "cell_type": "code",
   "execution_count": 29,
   "metadata": {
    "scrolled": true
   },
   "outputs": [
    {
     "data": {
      "text/html": [
       "<div>\n",
       "<style scoped>\n",
       "    .dataframe tbody tr th:only-of-type {\n",
       "        vertical-align: middle;\n",
       "    }\n",
       "\n",
       "    .dataframe tbody tr th {\n",
       "        vertical-align: top;\n",
       "    }\n",
       "\n",
       "    .dataframe thead th {\n",
       "        text-align: right;\n",
       "    }\n",
       "</style>\n",
       "<table border=\"1\" class=\"dataframe\">\n",
       "  <thead>\n",
       "    <tr style=\"text-align: right;\">\n",
       "      <th></th>\n",
       "      <th>DateCrawled</th>\n",
       "      <th>Price</th>\n",
       "      <th>VehicleType</th>\n",
       "      <th>RegistrationYear</th>\n",
       "      <th>Gearbox</th>\n",
       "      <th>Power</th>\n",
       "      <th>Model</th>\n",
       "      <th>Kilometer</th>\n",
       "      <th>RegistrationMonth</th>\n",
       "      <th>FuelType</th>\n",
       "      <th>Brand</th>\n",
       "      <th>NotRepaired</th>\n",
       "      <th>DateCreated</th>\n",
       "      <th>NumberOfPictures</th>\n",
       "      <th>PostalCode</th>\n",
       "      <th>LastSeen</th>\n",
       "    </tr>\n",
       "  </thead>\n",
       "  <tbody>\n",
       "    <tr>\n",
       "      <th>88087</th>\n",
       "      <td>2016-03-08 18:42:48</td>\n",
       "      <td>1799</td>\n",
       "      <td>coupe</td>\n",
       "      <td>1999</td>\n",
       "      <td>auto</td>\n",
       "      <td>193</td>\n",
       "      <td>clk</td>\n",
       "      <td>20000</td>\n",
       "      <td>7</td>\n",
       "      <td>petrol</td>\n",
       "      <td>mercedes_benz</td>\n",
       "      <td>no</td>\n",
       "      <td>2016-03-08 00:00:00</td>\n",
       "      <td>0</td>\n",
       "      <td>89518</td>\n",
       "      <td>2016-03-09 09:46:57</td>\n",
       "    </tr>\n",
       "    <tr>\n",
       "      <th>171088</th>\n",
       "      <td>2016-03-08 18:42:48</td>\n",
       "      <td>1799</td>\n",
       "      <td>coupe</td>\n",
       "      <td>1999</td>\n",
       "      <td>auto</td>\n",
       "      <td>193</td>\n",
       "      <td>clk</td>\n",
       "      <td>20000</td>\n",
       "      <td>7</td>\n",
       "      <td>petrol</td>\n",
       "      <td>mercedes_benz</td>\n",
       "      <td>no</td>\n",
       "      <td>2016-03-08 00:00:00</td>\n",
       "      <td>0</td>\n",
       "      <td>89518</td>\n",
       "      <td>2016-03-09 09:46:57</td>\n",
       "    </tr>\n",
       "  </tbody>\n",
       "</table>\n",
       "</div>"
      ],
      "text/plain": [
       "                DateCrawled  Price VehicleType  RegistrationYear Gearbox  \\\n",
       "88087   2016-03-08 18:42:48   1799       coupe              1999    auto   \n",
       "171088  2016-03-08 18:42:48   1799       coupe              1999    auto   \n",
       "\n",
       "        Power Model  Kilometer  RegistrationMonth FuelType          Brand  \\\n",
       "88087     193   clk      20000                  7   petrol  mercedes_benz   \n",
       "171088    193   clk      20000                  7   petrol  mercedes_benz   \n",
       "\n",
       "       NotRepaired          DateCreated  NumberOfPictures  PostalCode  \\\n",
       "88087           no  2016-03-08 00:00:00                 0       89518   \n",
       "171088          no  2016-03-08 00:00:00                 0       89518   \n",
       "\n",
       "                   LastSeen  \n",
       "88087   2016-03-09 09:46:57  \n",
       "171088  2016-03-09 09:46:57  "
      ]
     },
     "metadata": {},
     "output_type": "display_data"
    },
    {
     "data": {
      "text/html": [
       "<div>\n",
       "<style scoped>\n",
       "    .dataframe tbody tr th:only-of-type {\n",
       "        vertical-align: middle;\n",
       "    }\n",
       "\n",
       "    .dataframe tbody tr th {\n",
       "        vertical-align: top;\n",
       "    }\n",
       "\n",
       "    .dataframe thead th {\n",
       "        text-align: right;\n",
       "    }\n",
       "</style>\n",
       "<table border=\"1\" class=\"dataframe\">\n",
       "  <thead>\n",
       "    <tr style=\"text-align: right;\">\n",
       "      <th></th>\n",
       "      <th>DateCrawled</th>\n",
       "      <th>Price</th>\n",
       "      <th>VehicleType</th>\n",
       "      <th>RegistrationYear</th>\n",
       "      <th>Gearbox</th>\n",
       "      <th>Power</th>\n",
       "      <th>Model</th>\n",
       "      <th>Kilometer</th>\n",
       "      <th>RegistrationMonth</th>\n",
       "      <th>FuelType</th>\n",
       "      <th>Brand</th>\n",
       "      <th>NotRepaired</th>\n",
       "      <th>DateCreated</th>\n",
       "      <th>NumberOfPictures</th>\n",
       "      <th>PostalCode</th>\n",
       "      <th>LastSeen</th>\n",
       "    </tr>\n",
       "  </thead>\n",
       "  <tbody>\n",
       "    <tr>\n",
       "      <th>90964</th>\n",
       "      <td>2016-03-28 00:56:10</td>\n",
       "      <td>1000</td>\n",
       "      <td>small</td>\n",
       "      <td>2002</td>\n",
       "      <td>manual</td>\n",
       "      <td>83</td>\n",
       "      <td>other</td>\n",
       "      <td>150000</td>\n",
       "      <td>1</td>\n",
       "      <td>petrol</td>\n",
       "      <td>suzuki</td>\n",
       "      <td>no</td>\n",
       "      <td>2016-03-28 00:00:00</td>\n",
       "      <td>0</td>\n",
       "      <td>66589</td>\n",
       "      <td>2016-03-28 08:46:21</td>\n",
       "    </tr>\n",
       "    <tr>\n",
       "      <th>231258</th>\n",
       "      <td>2016-03-28 00:56:10</td>\n",
       "      <td>1000</td>\n",
       "      <td>small</td>\n",
       "      <td>2002</td>\n",
       "      <td>manual</td>\n",
       "      <td>83</td>\n",
       "      <td>other</td>\n",
       "      <td>150000</td>\n",
       "      <td>1</td>\n",
       "      <td>petrol</td>\n",
       "      <td>suzuki</td>\n",
       "      <td>no</td>\n",
       "      <td>2016-03-28 00:00:00</td>\n",
       "      <td>0</td>\n",
       "      <td>66589</td>\n",
       "      <td>2016-03-28 08:46:21</td>\n",
       "    </tr>\n",
       "  </tbody>\n",
       "</table>\n",
       "</div>"
      ],
      "text/plain": [
       "                DateCrawled  Price VehicleType  RegistrationYear Gearbox  \\\n",
       "90964   2016-03-28 00:56:10   1000       small              2002  manual   \n",
       "231258  2016-03-28 00:56:10   1000       small              2002  manual   \n",
       "\n",
       "        Power  Model  Kilometer  RegistrationMonth FuelType   Brand  \\\n",
       "90964      83  other     150000                  1   petrol  suzuki   \n",
       "231258     83  other     150000                  1   petrol  suzuki   \n",
       "\n",
       "       NotRepaired          DateCreated  NumberOfPictures  PostalCode  \\\n",
       "90964           no  2016-03-28 00:00:00                 0       66589   \n",
       "231258          no  2016-03-28 00:00:00                 0       66589   \n",
       "\n",
       "                   LastSeen  \n",
       "90964   2016-03-28 08:46:21  \n",
       "231258  2016-03-28 08:46:21  "
      ]
     },
     "metadata": {},
     "output_type": "display_data"
    },
    {
     "data": {
      "text/html": [
       "<div>\n",
       "<style scoped>\n",
       "    .dataframe tbody tr th:only-of-type {\n",
       "        vertical-align: middle;\n",
       "    }\n",
       "\n",
       "    .dataframe tbody tr th {\n",
       "        vertical-align: top;\n",
       "    }\n",
       "\n",
       "    .dataframe thead th {\n",
       "        text-align: right;\n",
       "    }\n",
       "</style>\n",
       "<table border=\"1\" class=\"dataframe\">\n",
       "  <thead>\n",
       "    <tr style=\"text-align: right;\">\n",
       "      <th></th>\n",
       "      <th>DateCrawled</th>\n",
       "      <th>Price</th>\n",
       "      <th>VehicleType</th>\n",
       "      <th>RegistrationYear</th>\n",
       "      <th>Gearbox</th>\n",
       "      <th>Power</th>\n",
       "      <th>Model</th>\n",
       "      <th>Kilometer</th>\n",
       "      <th>RegistrationMonth</th>\n",
       "      <th>FuelType</th>\n",
       "      <th>Brand</th>\n",
       "      <th>NotRepaired</th>\n",
       "      <th>DateCreated</th>\n",
       "      <th>NumberOfPictures</th>\n",
       "      <th>PostalCode</th>\n",
       "      <th>LastSeen</th>\n",
       "    </tr>\n",
       "  </thead>\n",
       "  <tbody>\n",
       "    <tr>\n",
       "      <th>187735</th>\n",
       "      <td>2016-04-03 09:01:15</td>\n",
       "      <td>4699</td>\n",
       "      <td>coupe</td>\n",
       "      <td>2003</td>\n",
       "      <td>auto</td>\n",
       "      <td>218</td>\n",
       "      <td>clk</td>\n",
       "      <td>125000</td>\n",
       "      <td>6</td>\n",
       "      <td>petrol</td>\n",
       "      <td>mercedes_benz</td>\n",
       "      <td>yes</td>\n",
       "      <td>2016-04-03 00:00:00</td>\n",
       "      <td>0</td>\n",
       "      <td>75196</td>\n",
       "      <td>2016-04-07 09:44:54</td>\n",
       "    </tr>\n",
       "    <tr>\n",
       "      <th>258109</th>\n",
       "      <td>2016-04-03 09:01:15</td>\n",
       "      <td>4699</td>\n",
       "      <td>coupe</td>\n",
       "      <td>2003</td>\n",
       "      <td>auto</td>\n",
       "      <td>218</td>\n",
       "      <td>clk</td>\n",
       "      <td>125000</td>\n",
       "      <td>6</td>\n",
       "      <td>petrol</td>\n",
       "      <td>mercedes_benz</td>\n",
       "      <td>yes</td>\n",
       "      <td>2016-04-03 00:00:00</td>\n",
       "      <td>0</td>\n",
       "      <td>75196</td>\n",
       "      <td>2016-04-07 09:44:54</td>\n",
       "    </tr>\n",
       "  </tbody>\n",
       "</table>\n",
       "</div>"
      ],
      "text/plain": [
       "                DateCrawled  Price VehicleType  RegistrationYear Gearbox  \\\n",
       "187735  2016-04-03 09:01:15   4699       coupe              2003    auto   \n",
       "258109  2016-04-03 09:01:15   4699       coupe              2003    auto   \n",
       "\n",
       "        Power Model  Kilometer  RegistrationMonth FuelType          Brand  \\\n",
       "187735    218   clk     125000                  6   petrol  mercedes_benz   \n",
       "258109    218   clk     125000                  6   petrol  mercedes_benz   \n",
       "\n",
       "       NotRepaired          DateCreated  NumberOfPictures  PostalCode  \\\n",
       "187735         yes  2016-04-03 00:00:00                 0       75196   \n",
       "258109         yes  2016-04-03 00:00:00                 0       75196   \n",
       "\n",
       "                   LastSeen  \n",
       "187735  2016-04-07 09:44:54  \n",
       "258109  2016-04-07 09:44:54  "
      ]
     },
     "metadata": {},
     "output_type": "display_data"
    },
    {
     "data": {
      "text/html": [
       "<div>\n",
       "<style scoped>\n",
       "    .dataframe tbody tr th:only-of-type {\n",
       "        vertical-align: middle;\n",
       "    }\n",
       "\n",
       "    .dataframe tbody tr th {\n",
       "        vertical-align: top;\n",
       "    }\n",
       "\n",
       "    .dataframe thead th {\n",
       "        text-align: right;\n",
       "    }\n",
       "</style>\n",
       "<table border=\"1\" class=\"dataframe\">\n",
       "  <thead>\n",
       "    <tr style=\"text-align: right;\">\n",
       "      <th></th>\n",
       "      <th>DateCrawled</th>\n",
       "      <th>Price</th>\n",
       "      <th>VehicleType</th>\n",
       "      <th>RegistrationYear</th>\n",
       "      <th>Gearbox</th>\n",
       "      <th>Power</th>\n",
       "      <th>Model</th>\n",
       "      <th>Kilometer</th>\n",
       "      <th>RegistrationMonth</th>\n",
       "      <th>FuelType</th>\n",
       "      <th>Brand</th>\n",
       "      <th>NotRepaired</th>\n",
       "      <th>DateCreated</th>\n",
       "      <th>NumberOfPictures</th>\n",
       "      <th>PostalCode</th>\n",
       "      <th>LastSeen</th>\n",
       "    </tr>\n",
       "  </thead>\n",
       "  <tbody>\n",
       "    <tr>\n",
       "      <th>41529</th>\n",
       "      <td>2016-03-18 18:46:15</td>\n",
       "      <td>1999</td>\n",
       "      <td>wagon</td>\n",
       "      <td>2001</td>\n",
       "      <td>manual</td>\n",
       "      <td>131</td>\n",
       "      <td>passat</td>\n",
       "      <td>150000</td>\n",
       "      <td>7</td>\n",
       "      <td>gasoline</td>\n",
       "      <td>volkswagen</td>\n",
       "      <td>no</td>\n",
       "      <td>2016-03-18 00:00:00</td>\n",
       "      <td>0</td>\n",
       "      <td>36391</td>\n",
       "      <td>2016-03-18 18:46:15</td>\n",
       "    </tr>\n",
       "    <tr>\n",
       "      <th>325651</th>\n",
       "      <td>2016-03-18 18:46:15</td>\n",
       "      <td>1999</td>\n",
       "      <td>wagon</td>\n",
       "      <td>2001</td>\n",
       "      <td>manual</td>\n",
       "      <td>131</td>\n",
       "      <td>passat</td>\n",
       "      <td>150000</td>\n",
       "      <td>7</td>\n",
       "      <td>gasoline</td>\n",
       "      <td>volkswagen</td>\n",
       "      <td>no</td>\n",
       "      <td>2016-03-18 00:00:00</td>\n",
       "      <td>0</td>\n",
       "      <td>36391</td>\n",
       "      <td>2016-03-18 18:46:15</td>\n",
       "    </tr>\n",
       "  </tbody>\n",
       "</table>\n",
       "</div>"
      ],
      "text/plain": [
       "                DateCrawled  Price VehicleType  RegistrationYear Gearbox  \\\n",
       "41529   2016-03-18 18:46:15   1999       wagon              2001  manual   \n",
       "325651  2016-03-18 18:46:15   1999       wagon              2001  manual   \n",
       "\n",
       "        Power   Model  Kilometer  RegistrationMonth  FuelType       Brand  \\\n",
       "41529     131  passat     150000                  7  gasoline  volkswagen   \n",
       "325651    131  passat     150000                  7  gasoline  volkswagen   \n",
       "\n",
       "       NotRepaired          DateCreated  NumberOfPictures  PostalCode  \\\n",
       "41529           no  2016-03-18 00:00:00                 0       36391   \n",
       "325651          no  2016-03-18 00:00:00                 0       36391   \n",
       "\n",
       "                   LastSeen  \n",
       "41529   2016-03-18 18:46:15  \n",
       "325651  2016-03-18 18:46:15  "
      ]
     },
     "metadata": {},
     "output_type": "display_data"
    }
   ],
   "source": [
    "# Просматриваем все группы строк-дубликатов.\n",
    "\n",
    "df_d = df[df.duplicated()]\n",
    "for i in df_d.index:\n",
    "    dups = df.loc[(df['DateCrawled'] == df_d.loc[i, 'DateCrawled'])]\n",
    "    display(dups)"
   ]
  },
  {
   "cell_type": "markdown",
   "metadata": {},
   "source": [
    "#### Оценка корреляций"
   ]
  },
  {
   "cell_type": "code",
   "execution_count": 30,
   "metadata": {},
   "outputs": [
    {
     "data": {
      "text/html": [
       "<div>\n",
       "<style scoped>\n",
       "    .dataframe tbody tr th:only-of-type {\n",
       "        vertical-align: middle;\n",
       "    }\n",
       "\n",
       "    .dataframe tbody tr th {\n",
       "        vertical-align: top;\n",
       "    }\n",
       "\n",
       "    .dataframe thead th {\n",
       "        text-align: right;\n",
       "    }\n",
       "</style>\n",
       "<table border=\"1\" class=\"dataframe\">\n",
       "  <thead>\n",
       "    <tr style=\"text-align: right;\">\n",
       "      <th></th>\n",
       "      <th>Price</th>\n",
       "      <th>RegistrationYear</th>\n",
       "      <th>Power</th>\n",
       "      <th>Kilometer</th>\n",
       "      <th>RegistrationMonth</th>\n",
       "      <th>NumberOfPictures</th>\n",
       "      <th>PostalCode</th>\n",
       "    </tr>\n",
       "  </thead>\n",
       "  <tbody>\n",
       "    <tr>\n",
       "      <th>Price</th>\n",
       "      <td>1.000000</td>\n",
       "      <td>0.026916</td>\n",
       "      <td>0.158872</td>\n",
       "      <td>-0.333199</td>\n",
       "      <td>0.110581</td>\n",
       "      <td>NaN</td>\n",
       "      <td>0.076055</td>\n",
       "    </tr>\n",
       "    <tr>\n",
       "      <th>RegistrationYear</th>\n",
       "      <td>0.026916</td>\n",
       "      <td>1.000000</td>\n",
       "      <td>-0.000828</td>\n",
       "      <td>-0.053447</td>\n",
       "      <td>-0.011619</td>\n",
       "      <td>NaN</td>\n",
       "      <td>-0.003459</td>\n",
       "    </tr>\n",
       "    <tr>\n",
       "      <th>Power</th>\n",
       "      <td>0.158872</td>\n",
       "      <td>-0.000828</td>\n",
       "      <td>1.000000</td>\n",
       "      <td>0.024002</td>\n",
       "      <td>0.043380</td>\n",
       "      <td>NaN</td>\n",
       "      <td>0.021665</td>\n",
       "    </tr>\n",
       "    <tr>\n",
       "      <th>Kilometer</th>\n",
       "      <td>-0.333199</td>\n",
       "      <td>-0.053447</td>\n",
       "      <td>0.024002</td>\n",
       "      <td>1.000000</td>\n",
       "      <td>0.009571</td>\n",
       "      <td>NaN</td>\n",
       "      <td>-0.007698</td>\n",
       "    </tr>\n",
       "    <tr>\n",
       "      <th>RegistrationMonth</th>\n",
       "      <td>0.110581</td>\n",
       "      <td>-0.011619</td>\n",
       "      <td>0.043380</td>\n",
       "      <td>0.009571</td>\n",
       "      <td>1.000000</td>\n",
       "      <td>NaN</td>\n",
       "      <td>0.013995</td>\n",
       "    </tr>\n",
       "    <tr>\n",
       "      <th>NumberOfPictures</th>\n",
       "      <td>NaN</td>\n",
       "      <td>NaN</td>\n",
       "      <td>NaN</td>\n",
       "      <td>NaN</td>\n",
       "      <td>NaN</td>\n",
       "      <td>NaN</td>\n",
       "      <td>NaN</td>\n",
       "    </tr>\n",
       "    <tr>\n",
       "      <th>PostalCode</th>\n",
       "      <td>0.076055</td>\n",
       "      <td>-0.003459</td>\n",
       "      <td>0.021665</td>\n",
       "      <td>-0.007698</td>\n",
       "      <td>0.013995</td>\n",
       "      <td>NaN</td>\n",
       "      <td>1.000000</td>\n",
       "    </tr>\n",
       "  </tbody>\n",
       "</table>\n",
       "</div>"
      ],
      "text/plain": [
       "                      Price  RegistrationYear     Power  Kilometer  \\\n",
       "Price              1.000000          0.026916  0.158872  -0.333199   \n",
       "RegistrationYear   0.026916          1.000000 -0.000828  -0.053447   \n",
       "Power              0.158872         -0.000828  1.000000   0.024002   \n",
       "Kilometer         -0.333199         -0.053447  0.024002   1.000000   \n",
       "RegistrationMonth  0.110581         -0.011619  0.043380   0.009571   \n",
       "NumberOfPictures        NaN               NaN       NaN        NaN   \n",
       "PostalCode         0.076055         -0.003459  0.021665  -0.007698   \n",
       "\n",
       "                   RegistrationMonth  NumberOfPictures  PostalCode  \n",
       "Price                       0.110581               NaN    0.076055  \n",
       "RegistrationYear           -0.011619               NaN   -0.003459  \n",
       "Power                       0.043380               NaN    0.021665  \n",
       "Kilometer                   0.009571               NaN   -0.007698  \n",
       "RegistrationMonth           1.000000               NaN    0.013995  \n",
       "NumberOfPictures                 NaN               NaN         NaN  \n",
       "PostalCode                  0.013995               NaN    1.000000  "
      ]
     },
     "execution_count": 30,
     "metadata": {},
     "output_type": "execute_result"
    }
   ],
   "source": [
    "# Находим корреляции между признаками.\n",
    "\n",
    "df.corr()"
   ]
  },
  {
   "cell_type": "code",
   "execution_count": 31,
   "metadata": {
    "scrolled": false
   },
   "outputs": [
    {
     "data": {
      "image/png": "[encoded data removed]",
      "text/plain": [
       "<Figure size 432x288 with 2 Axes>"
      ]
     },
     "metadata": {
      "needs_background": "light"
     },
     "output_type": "display_data"
    }
   ],
   "source": [
    "# Проверяем на мультиколлинеарность с помощью heatmap.\n",
    "\n",
    "sns.heatmap(df.corr(), annot=True)\n",
    "plt.show()"
   ]
  },
  {
   "cell_type": "markdown",
   "metadata": {},
   "source": [
    "#### Выводы"
   ]
  },
  {
   "cell_type": "markdown",
   "metadata": {},
   "source": [
    "1. В таблице 354369 строк и 16 столбцов.\n",
    "\n",
    "\n",
    "2. Названия столбцов представлены в \"верблюжьем\" регистре, предпочтителен перевод в \"змеиный\".\n",
    " \n",
    " \n",
    "3. В столбцах \"Price\", \"RegistrationYear\", \"Power\", \"Kilometer\", \"RegistrationMonth\", \"NumberOfPictures\", \"PostalCode\", содержатся данные типа int. В остальных столбцах - тип object.\n",
    "\n",
    "\n",
    "4. Из столбцов с целочисленными данными все, кроме \"PostalCode\", имеют количественные признаки. Столбцы \"DateCrawled\", \"DateCreated\" и \"LastSeen\" содержат даты. Во всех прочих (\"VehicleType\", \"Gearbox\", \"Model\", \"FuelType\", \"Brand\", \"NotRepaired\") - категориальные признаки, причем в \"Gearbox\" и \"NotRepaired\" - бинарные.\n",
    "\n",
    "\n",
    "5. В таблице есть пропущенные значения в следующих столбцах: \"VehicleType\": 10,6%, \"Gearbox\": 5,6%, \"Model\": 5,6%, \"FuelType\": 9,3%, \"NotRepaired\": 20,1%. Каждый указанный столбец требует отдельного изучения для принятия решения о заполнении пропусков.\n",
    "\n",
    "\n",
    "6. Среди категориальных признаков аномальных значений и скрытых дубликатов не обнаружено.\n",
    "\n",
    "\n",
    "7. В статистиках имеются нулевые значения. Нули есть в следующих столбцах: \"Price\": 3%, \"Power\": 11,4%, \"RegistrationMonth\": 10,5%, \"NumberOfPictures\": 100%. Столбцы с ценой и мощностью следует обрабатывать осторожно, чтобы не исказить прогноз. Нули в столбце с месяцем регистрации, по всей видимости, указаны в связи с отсутствием информации о месяце. Данный столбец мало влияет на целевой признак, поэтому его можно не трогать. Столбец с количеством фотограграфий абсолютно не важен в данном исследовании, т.к. он полностью состоит из нулей и никак не влияет на целевой признак.\n",
    "\n",
    "\n",
    "8. Столбец \"Price\" содержит 1,9% аномально низких ненулевых значений (до 200 евро), значения имеют распределение Пуассона. Столбец \"RegistrationYear\" содержит около 0,4% аномально низких ненулевых значений (до 1970 года) и 4,1% аномально высоких значений (после 2016 года), распределение близко к нормальному. Столбец \"Power\" содержит около 0,5% аномально низких ненулевых значений (до 40 л.с.) и 0,2% аномально высоких значений (400 и более л.с.), распределение также близко к нормальному. Столбец \"Kilometer\" не содержит явно аномальных значений, однако 67,2% автомобилей имеют пробег 150 тыс. км, что является подозрительным и, вероятнее всего, указывает на то, что показания счетчиков искажены.\n",
    "\n",
    "\n",
    "9. Некоторые строки полностью дублируются. Всего таких строк 4, у каждой по одному дубликату. Дубликаты подлежат удалению.\n",
    "\n",
    "\n",
    "10. Корреляций между признаками нет, за исключением небольшой отрицательной корреляции между пробегом и целевым признаком. У последней коэффициент составляет -0,33.\n",
    "\n",
    "\n",
    "11. Столбцы \"DateCrawled\", \"NumberOfPictures\", \"PostalCode\" и \"LastSeen\" не влияют на целевой признак, поэтому их можно удалить. Столбец \"DateCreated\" целесообразно перевести в вид даты (на данный момент он содержит данные и о дате, и о времени, где время представлено одними нулями)."
   ]
  },
  {
   "cell_type": "markdown",
   "metadata": {},
   "source": [
    "### Предобработка данных"
   ]
  },
  {
   "cell_type": "markdown",
   "metadata": {},
   "source": [
    "#### Переименование столбцов"
   ]
  },
  {
   "cell_type": "code",
   "execution_count": 32,
   "metadata": {},
   "outputs": [
    {
     "data": {
      "text/plain": [
       "Index(['date_crawled', 'price', 'vehicle_type', 'registration_year', 'gearbox',\n",
       "       'power', 'model', 'kilometer', 'registration_month', 'fuel_type',\n",
       "       'brand', 'not_repaired', 'date_created', 'number_of_pictures',\n",
       "       'postal_code', 'last_seen'],\n",
       "      dtype='object')"
      ]
     },
     "execution_count": 32,
     "metadata": {},
     "output_type": "execute_result"
    }
   ],
   "source": [
    "# Переводим названия столбцов в \"змеиный\" регистр\n",
    "\n",
    "for col in df.columns:\n",
    "    c = list(col)\n",
    "    [c.insert(x,'_') for x in [m.start() for m in re.finditer(\"[A-Z]\", col)][:0:-1]]\n",
    "    df = df.rename(columns={col:''.join(c).lower()})\n",
    "\n",
    "df.columns"
   ]
  },
  {
   "cell_type": "markdown",
   "metadata": {},
   "source": [
    "#### Изменение форматов"
   ]
  },
  {
   "cell_type": "code",
   "execution_count": 33,
   "metadata": {
    "scrolled": false
   },
   "outputs": [
    {
     "data": {
      "text/plain": [
       "date_crawled                  object\n",
       "price                          int64\n",
       "vehicle_type                  object\n",
       "registration_year              int64\n",
       "gearbox                       object\n",
       "power                          int64\n",
       "model                         object\n",
       "kilometer                      int64\n",
       "registration_month             int64\n",
       "fuel_type                     object\n",
       "brand                         object\n",
       "not_repaired                  object\n",
       "date_created          datetime64[ns]\n",
       "number_of_pictures             int64\n",
       "postal_code                    int64\n",
       "last_seen                     object\n",
       "dtype: object"
      ]
     },
     "execution_count": 33,
     "metadata": {},
     "output_type": "execute_result"
    }
   ],
   "source": [
    "# Меняем формат данных в столбце \"date_created\" на date.\n",
    "# Просматриваем обновленную информацию о форматах датафрейма\n",
    "\n",
    "df['date_created'] = pd.to_datetime(df['date_created'], format='%Y-%m-%d %H:%M:%S')\n",
    "df.dtypes"
   ]
  },
  {
   "cell_type": "markdown",
   "metadata": {},
   "source": [
    "#### Удаление лишних столбцов"
   ]
  },
  {
   "cell_type": "code",
   "execution_count": 34,
   "metadata": {
    "scrolled": true
   },
   "outputs": [
    {
     "data": {
      "text/html": [
       "<div>\n",
       "<style scoped>\n",
       "    .dataframe tbody tr th:only-of-type {\n",
       "        vertical-align: middle;\n",
       "    }\n",
       "\n",
       "    .dataframe tbody tr th {\n",
       "        vertical-align: top;\n",
       "    }\n",
       "\n",
       "    .dataframe thead th {\n",
       "        text-align: right;\n",
       "    }\n",
       "</style>\n",
       "<table border=\"1\" class=\"dataframe\">\n",
       "  <thead>\n",
       "    <tr style=\"text-align: right;\">\n",
       "      <th></th>\n",
       "      <th>price</th>\n",
       "      <th>vehicle_type</th>\n",
       "      <th>registration_year</th>\n",
       "      <th>gearbox</th>\n",
       "      <th>power</th>\n",
       "      <th>model</th>\n",
       "      <th>kilometer</th>\n",
       "      <th>registration_month</th>\n",
       "      <th>fuel_type</th>\n",
       "      <th>brand</th>\n",
       "      <th>not_repaired</th>\n",
       "      <th>date_created</th>\n",
       "    </tr>\n",
       "  </thead>\n",
       "  <tbody>\n",
       "    <tr>\n",
       "      <th>0</th>\n",
       "      <td>480</td>\n",
       "      <td>NaN</td>\n",
       "      <td>1993</td>\n",
       "      <td>manual</td>\n",
       "      <td>0</td>\n",
       "      <td>golf</td>\n",
       "      <td>150000</td>\n",
       "      <td>0</td>\n",
       "      <td>petrol</td>\n",
       "      <td>volkswagen</td>\n",
       "      <td>NaN</td>\n",
       "      <td>2016-03-24</td>\n",
       "    </tr>\n",
       "    <tr>\n",
       "      <th>1</th>\n",
       "      <td>18300</td>\n",
       "      <td>coupe</td>\n",
       "      <td>2011</td>\n",
       "      <td>manual</td>\n",
       "      <td>190</td>\n",
       "      <td>NaN</td>\n",
       "      <td>125000</td>\n",
       "      <td>5</td>\n",
       "      <td>gasoline</td>\n",
       "      <td>audi</td>\n",
       "      <td>yes</td>\n",
       "      <td>2016-03-24</td>\n",
       "    </tr>\n",
       "    <tr>\n",
       "      <th>2</th>\n",
       "      <td>9800</td>\n",
       "      <td>suv</td>\n",
       "      <td>2004</td>\n",
       "      <td>auto</td>\n",
       "      <td>163</td>\n",
       "      <td>grand</td>\n",
       "      <td>125000</td>\n",
       "      <td>8</td>\n",
       "      <td>gasoline</td>\n",
       "      <td>jeep</td>\n",
       "      <td>NaN</td>\n",
       "      <td>2016-03-14</td>\n",
       "    </tr>\n",
       "    <tr>\n",
       "      <th>3</th>\n",
       "      <td>1500</td>\n",
       "      <td>small</td>\n",
       "      <td>2001</td>\n",
       "      <td>manual</td>\n",
       "      <td>75</td>\n",
       "      <td>golf</td>\n",
       "      <td>150000</td>\n",
       "      <td>6</td>\n",
       "      <td>petrol</td>\n",
       "      <td>volkswagen</td>\n",
       "      <td>no</td>\n",
       "      <td>2016-03-17</td>\n",
       "    </tr>\n",
       "    <tr>\n",
       "      <th>4</th>\n",
       "      <td>3600</td>\n",
       "      <td>small</td>\n",
       "      <td>2008</td>\n",
       "      <td>manual</td>\n",
       "      <td>69</td>\n",
       "      <td>fabia</td>\n",
       "      <td>90000</td>\n",
       "      <td>7</td>\n",
       "      <td>gasoline</td>\n",
       "      <td>skoda</td>\n",
       "      <td>no</td>\n",
       "      <td>2016-03-31</td>\n",
       "    </tr>\n",
       "  </tbody>\n",
       "</table>\n",
       "</div>"
      ],
      "text/plain": [
       "   price vehicle_type  registration_year gearbox  power  model  kilometer  \\\n",
       "0    480          NaN               1993  manual      0   golf     150000   \n",
       "1  18300        coupe               2011  manual    190    NaN     125000   \n",
       "2   9800          suv               2004    auto    163  grand     125000   \n",
       "3   1500        small               2001  manual     75   golf     150000   \n",
       "4   3600        small               2008  manual     69  fabia      90000   \n",
       "\n",
       "   registration_month fuel_type       brand not_repaired date_created  \n",
       "0                   0    petrol  volkswagen          NaN   2016-03-24  \n",
       "1                   5  gasoline        audi          yes   2016-03-24  \n",
       "2                   8  gasoline        jeep          NaN   2016-03-14  \n",
       "3                   6    petrol  volkswagen           no   2016-03-17  \n",
       "4                   7  gasoline       skoda           no   2016-03-31  "
      ]
     },
     "execution_count": 34,
     "metadata": {},
     "output_type": "execute_result"
    }
   ],
   "source": [
    "# Удаляем лишние столбцы \"date_crawled\", \"number_of_pictures\", \"postal_code\" и \"last_seen\".\n",
    "\n",
    "df = df.drop([\"date_crawled\", \"number_of_pictures\", \"postal_code\", \"last_seen\"], axis=1)\n",
    "df.head()"
   ]
  },
  {
   "cell_type": "markdown",
   "metadata": {},
   "source": [
    "#### Удаление дубликатов"
   ]
  },
  {
   "cell_type": "code",
   "execution_count": 35,
   "metadata": {},
   "outputs": [
    {
     "data": {
      "text/html": [
       "<div>\n",
       "<style scoped>\n",
       "    .dataframe tbody tr th:only-of-type {\n",
       "        vertical-align: middle;\n",
       "    }\n",
       "\n",
       "    .dataframe tbody tr th {\n",
       "        vertical-align: top;\n",
       "    }\n",
       "\n",
       "    .dataframe thead th {\n",
       "        text-align: right;\n",
       "    }\n",
       "</style>\n",
       "<table border=\"1\" class=\"dataframe\">\n",
       "  <thead>\n",
       "    <tr style=\"text-align: right;\">\n",
       "      <th></th>\n",
       "      <th>price</th>\n",
       "      <th>vehicle_type</th>\n",
       "      <th>registration_year</th>\n",
       "      <th>gearbox</th>\n",
       "      <th>power</th>\n",
       "      <th>model</th>\n",
       "      <th>kilometer</th>\n",
       "      <th>registration_month</th>\n",
       "      <th>fuel_type</th>\n",
       "      <th>brand</th>\n",
       "      <th>not_repaired</th>\n",
       "      <th>date_created</th>\n",
       "    </tr>\n",
       "  </thead>\n",
       "  <tbody>\n",
       "  </tbody>\n",
       "</table>\n",
       "</div>"
      ],
      "text/plain": [
       "Empty DataFrame\n",
       "Columns: [price, vehicle_type, registration_year, gearbox, power, model, kilometer, registration_month, fuel_type, brand, not_repaired, date_created]\n",
       "Index: []"
      ]
     },
     "execution_count": 35,
     "metadata": {},
     "output_type": "execute_result"
    }
   ],
   "source": [
    "# Удаляем строки-дубликаты.\n",
    "# Снова проверяем датафрейм на наличие дубликатов.\n",
    "\n",
    "df = df.drop_duplicates()\n",
    "df[df.duplicated()]"
   ]
  },
  {
   "cell_type": "markdown",
   "metadata": {},
   "source": [
    "#### Обработка аномальных значений"
   ]
  },
  {
   "cell_type": "markdown",
   "metadata": {},
   "source": [
    "_Столбец \"price\"_"
   ]
  },
  {
   "cell_type": "markdown",
   "metadata": {},
   "source": [
    "Поскольку наличие нулей в целевом признаке может ухудшить качество прогноза, можно избавиться от этих строк (их около 3%)."
   ]
  },
  {
   "cell_type": "code",
   "execution_count": 36,
   "metadata": {},
   "outputs": [],
   "source": [
    "# Удаляем строки с нулевыми значениями в столбце \"price\".\n",
    "\n",
    "df = df.loc[df['price'] > 0]"
   ]
  },
  {
   "cell_type": "markdown",
   "metadata": {},
   "source": [
    "_Столбец \"registration_year\"_"
   ]
  },
  {
   "cell_type": "code",
   "execution_count": 37,
   "metadata": {},
   "outputs": [],
   "source": [
    "# Приравниваем все значения больше 2016 в столбце \"registration_year\" к 2016.\n",
    "# Приравниваем все значения меньше 1970 к 1970.\n",
    "\n",
    "df.loc[df['registration_year'] > 2016, 'registration_year'] = 2016\n",
    "df.loc[df['registration_year'] < 1970, 'registration_year'] = 1970"
   ]
  },
  {
   "cell_type": "markdown",
   "metadata": {},
   "source": [
    "_Столбец \"power\"_"
   ]
  },
  {
   "cell_type": "code",
   "execution_count": 38,
   "metadata": {
    "scrolled": true
   },
   "outputs": [],
   "source": [
    "# Удаляем строки с аномальными положительными значениями в столбце \"power\".\n",
    "# Заменяем все нули в столбце на пропуски.\n",
    "\n",
    "df = df.loc[(df['power'] == 0) | (df['power'] >= 40) & (df['power'] <= 400)]\n",
    "df['power'] = df['power'].replace({0: np.nan})"
   ]
  },
  {
   "cell_type": "code",
   "execution_count": 39,
   "metadata": {},
   "outputs": [
    {
     "data": {
      "text/html": [
       "<div>\n",
       "<style scoped>\n",
       "    .dataframe tbody tr th:only-of-type {\n",
       "        vertical-align: middle;\n",
       "    }\n",
       "\n",
       "    .dataframe tbody tr th {\n",
       "        vertical-align: top;\n",
       "    }\n",
       "\n",
       "    .dataframe thead th {\n",
       "        text-align: right;\n",
       "    }\n",
       "</style>\n",
       "<table border=\"1\" class=\"dataframe\">\n",
       "  <thead>\n",
       "    <tr style=\"text-align: right;\">\n",
       "      <th></th>\n",
       "      <th>price</th>\n",
       "      <th>registration_year</th>\n",
       "      <th>power</th>\n",
       "      <th>kilometer</th>\n",
       "      <th>registration_month</th>\n",
       "    </tr>\n",
       "  </thead>\n",
       "  <tbody>\n",
       "    <tr>\n",
       "      <th>count</th>\n",
       "      <td>330072.000000</td>\n",
       "      <td>330072.000000</td>\n",
       "      <td>294699.000000</td>\n",
       "      <td>330072.000000</td>\n",
       "      <td>330072.000000</td>\n",
       "    </tr>\n",
       "    <tr>\n",
       "      <th>mean</th>\n",
       "      <td>4532.298586</td>\n",
       "      <td>2003.197015</td>\n",
       "      <td>120.101955</td>\n",
       "      <td>128572.144865</td>\n",
       "      <td>5.763936</td>\n",
       "    </tr>\n",
       "    <tr>\n",
       "      <th>std</th>\n",
       "      <td>4505.959634</td>\n",
       "      <td>6.985351</td>\n",
       "      <td>52.260468</td>\n",
       "      <td>37314.160827</td>\n",
       "      <td>3.700605</td>\n",
       "    </tr>\n",
       "    <tr>\n",
       "      <th>min</th>\n",
       "      <td>1.000000</td>\n",
       "      <td>1970.000000</td>\n",
       "      <td>40.000000</td>\n",
       "      <td>5000.000000</td>\n",
       "      <td>0.000000</td>\n",
       "    </tr>\n",
       "    <tr>\n",
       "      <th>25%</th>\n",
       "      <td>1200.000000</td>\n",
       "      <td>1999.000000</td>\n",
       "      <td>75.000000</td>\n",
       "      <td>125000.000000</td>\n",
       "      <td>3.000000</td>\n",
       "    </tr>\n",
       "    <tr>\n",
       "      <th>50%</th>\n",
       "      <td>2850.000000</td>\n",
       "      <td>2003.000000</td>\n",
       "      <td>110.000000</td>\n",
       "      <td>150000.000000</td>\n",
       "      <td>6.000000</td>\n",
       "    </tr>\n",
       "    <tr>\n",
       "      <th>75%</th>\n",
       "      <td>6500.000000</td>\n",
       "      <td>2008.000000</td>\n",
       "      <td>150.000000</td>\n",
       "      <td>150000.000000</td>\n",
       "      <td>9.000000</td>\n",
       "    </tr>\n",
       "    <tr>\n",
       "      <th>max</th>\n",
       "      <td>20000.000000</td>\n",
       "      <td>2016.000000</td>\n",
       "      <td>400.000000</td>\n",
       "      <td>150000.000000</td>\n",
       "      <td>12.000000</td>\n",
       "    </tr>\n",
       "  </tbody>\n",
       "</table>\n",
       "</div>"
      ],
      "text/plain": [
       "               price  registration_year          power      kilometer  \\\n",
       "count  330072.000000      330072.000000  294699.000000  330072.000000   \n",
       "mean     4532.298586        2003.197015     120.101955  128572.144865   \n",
       "std      4505.959634           6.985351      52.260468   37314.160827   \n",
       "min         1.000000        1970.000000      40.000000    5000.000000   \n",
       "25%      1200.000000        1999.000000      75.000000  125000.000000   \n",
       "50%      2850.000000        2003.000000     110.000000  150000.000000   \n",
       "75%      6500.000000        2008.000000     150.000000  150000.000000   \n",
       "max     20000.000000        2016.000000     400.000000  150000.000000   \n",
       "\n",
       "       registration_month  \n",
       "count       330072.000000  \n",
       "mean             5.763936  \n",
       "std              3.700605  \n",
       "min              0.000000  \n",
       "25%              3.000000  \n",
       "50%              6.000000  \n",
       "75%              9.000000  \n",
       "max             12.000000  "
      ]
     },
     "execution_count": 39,
     "metadata": {},
     "output_type": "execute_result"
    }
   ],
   "source": [
    "# Просматриваем статистики после внесенных изменений\n",
    "\n",
    "df.describe()"
   ]
  },
  {
   "cell_type": "markdown",
   "metadata": {},
   "source": [
    "#### Обработка пропусков"
   ]
  },
  {
   "cell_type": "code",
   "execution_count": 40,
   "metadata": {},
   "outputs": [
    {
     "name": "stdout",
     "output_type": "stream",
     "text": [
      "Готово!\n"
     ]
    }
   ],
   "source": [
    "\"\"\" Заменяем пропуски в столбцах \n",
    "'vehicle_type', 'fuel_type', 'gearbox', 'model', 'brand', 'power'\n",
    "путем группировки по остальным столбцам в этом списке, \n",
    "с помощью метода transform('first').\"\"\"\n",
    "\n",
    "vehicle_features = ['vehicle_type', 'fuel_type', 'gearbox', 'model', 'brand', 'power']\n",
    "nans = df[vehicle_features].isna().sum().sum()\n",
    "nans_0 = nans+1\n",
    "while nans < nans_0:\n",
    "    nans_0 = nans\n",
    "    for v_f in vehicle_features:\n",
    "        vehicle_features.remove(v_f)\n",
    "        df_grouped = df.groupby(vehicle_features)[v_f].transform('first')\n",
    "        df[v_f] = df[v_f].fillna(df_grouped)\n",
    "        vehicle_features.append(v_f)\n",
    "        nans = df[vehicle_features].isna().sum().sum()    \n",
    "del df_grouped\n",
    "print('Готово!')"
   ]
  },
  {
   "cell_type": "code",
   "execution_count": 41,
   "metadata": {},
   "outputs": [
    {
     "name": "stdout",
     "output_type": "stream",
     "text": [
      "Доля пропусков в столбце \"vehicle_type\": 7.1%\n",
      "Доля пропусков в столбце \"gearbox\": 4.1%\n",
      "Доля пропусков в столбце \"power\": 6.2%\n",
      "Доля пропусков в столбце \"model\": 3.5%\n",
      "Доля пропусков в столбце \"fuel_type\": 6.3%\n",
      "Доля пропусков в столбце \"not_repaired\": 19.4%\n"
     ]
    }
   ],
   "source": [
    "# Доли пропусков в каждом столбце\n",
    "\n",
    "for column in list(df.columns):\n",
    "    if df[column].isna().mean() != 0:\n",
    "        print(f'Доля пропусков в столбце \"{column}\": '\n",
    "              f'{df[column].isna().mean():.1%}')"
   ]
  },
  {
   "cell_type": "markdown",
   "metadata": {},
   "source": [
    "Остальные пропуски будем заполнять индивидуально."
   ]
  },
  {
   "cell_type": "code",
   "execution_count": 42,
   "metadata": {},
   "outputs": [],
   "source": [
    "''' Заполняем оставшиеся пропуски в столбцах 'model', 'gearbox' и 'fuel_type'\n",
    "значениями \"other\". '''\n",
    "\n",
    "df['model'] = df['model'].fillna('other')\n",
    "df['gearbox'] = df['gearbox'].fillna('other')\n",
    "df['fuel_type'] = df['fuel_type'].fillna('other')"
   ]
  },
  {
   "cell_type": "code",
   "execution_count": 43,
   "metadata": {},
   "outputs": [],
   "source": [
    "''' Заполняем оставшиеся пропуски в столбце 'vehicle_type'\n",
    "путем группировки по модели,\n",
    "с помощью метода transform(lambda x: x.value_counts().idxmax()).'''\n",
    "\n",
    "df['vehicle_type'] = (df['vehicle_type']\n",
    "                      .fillna(df.groupby('model', dropna=False)['vehicle_type']\n",
    "                              .transform(lambda x: x.value_counts().idxmax())))"
   ]
  },
  {
   "cell_type": "code",
   "execution_count": 44,
   "metadata": {},
   "outputs": [],
   "source": [
    "''' Заполняем оставшиеся пропуски в столбце 'power' путем группировки\n",
    "по столбцам 'vehicle_type', 'fuel_type', 'gearbox', 'model', 'brand',\n",
    "а также отдельно по 'model' и 'brand', с помощью метода transform('median'). '''\n",
    "\n",
    "df['power'] = (df['power'].fillna(df.groupby(['vehicle_type',\n",
    "                                              'fuel_type',\n",
    "                                              'gearbox',\n",
    "                                              'model',\n",
    "                                              'brand']\n",
    "                                            )['power']\n",
    "                                  .transform('median')))\n",
    "\n",
    "df['power'] = (df['power'].fillna(df.groupby('model')['power'].transform('median')))\n",
    "df['power'] = (df['power'].fillna(df.groupby('brand')['power'].transform('median')))"
   ]
  },
  {
   "cell_type": "markdown",
   "metadata": {},
   "source": [
    "Во избежание неверной трактовки выясним, что означают значения \"yes\" и \"no\" в столбце 'not_repaired'."
   ]
  },
  {
   "cell_type": "code",
   "execution_count": 45,
   "metadata": {},
   "outputs": [
    {
     "data": {
      "text/plain": [
       "not_repaired\n",
       "no     5356.469224\n",
       "yes    2016.509421\n",
       "Name: price, dtype: float64"
      ]
     },
     "execution_count": 45,
     "metadata": {},
     "output_type": "execute_result"
    }
   ],
   "source": [
    "''' Группируем автомобили по столбцу 'not_repaired' \n",
    "и сравниваем среднюю стоимость автомобиля в каждой категории. '''\n",
    "\n",
    "df.groupby('not_repaired')['price'].mean()"
   ]
  },
  {
   "cell_type": "markdown",
   "metadata": {},
   "source": [
    "Как видим, \"yes\" означает, что автомобиль был в ремонте, т.к. автомобили в этой категории в среднем дешевле."
   ]
  },
  {
   "cell_type": "code",
   "execution_count": 46,
   "metadata": {},
   "outputs": [],
   "source": [
    "''' Заполняем оставшиеся пропуски в столбце 'not_repaired'\n",
    "значениями \"yes\" (для автомобилей стоимостью до 200 евро)\n",
    "и \"no\" (для всех остальных). '''\n",
    "\n",
    "df['not_repaired'] = df.loc[df['price'] < 200, 'not_repaired'].fillna('yes')\n",
    "\n",
    "df['not_repaired'] = df['not_repaired'].fillna('no')"
   ]
  },
  {
   "cell_type": "code",
   "execution_count": 47,
   "metadata": {},
   "outputs": [
    {
     "name": "stdout",
     "output_type": "stream",
     "text": [
      "<class 'pandas.core.frame.DataFrame'>\n",
      "RangeIndex: 330072 entries, 0 to 330071\n",
      "Data columns (total 12 columns):\n",
      " #   Column              Non-Null Count   Dtype         \n",
      "---  ------              --------------   -----         \n",
      " 0   price               330072 non-null  int64         \n",
      " 1   vehicle_type        330072 non-null  object        \n",
      " 2   registration_year   330072 non-null  int64         \n",
      " 3   gearbox             330072 non-null  object        \n",
      " 4   power               330072 non-null  float64       \n",
      " 5   model               330072 non-null  object        \n",
      " 6   kilometer           330072 non-null  int64         \n",
      " 7   registration_month  330072 non-null  int64         \n",
      " 8   fuel_type           330072 non-null  object        \n",
      " 9   brand               330072 non-null  object        \n",
      " 10  not_repaired        330072 non-null  object        \n",
      " 11  date_created        330072 non-null  datetime64[ns]\n",
      "dtypes: datetime64[ns](1), float64(1), int64(4), object(6)\n",
      "memory usage: 30.2+ MB\n"
     ]
    }
   ],
   "source": [
    "# Сбрасываем индексы. \n",
    "# Просматриваем обновленную информацию о датафрейме.\n",
    "\n",
    "df = df.reset_index(drop=True)\n",
    "df.info()"
   ]
  },
  {
   "cell_type": "markdown",
   "metadata": {},
   "source": [
    "#### Подготовка к обучению"
   ]
  },
  {
   "cell_type": "code",
   "execution_count": 48,
   "metadata": {},
   "outputs": [
    {
     "data": {
      "text/html": [
       "<div>\n",
       "<style scoped>\n",
       "    .dataframe tbody tr th:only-of-type {\n",
       "        vertical-align: middle;\n",
       "    }\n",
       "\n",
       "    .dataframe tbody tr th {\n",
       "        vertical-align: top;\n",
       "    }\n",
       "\n",
       "    .dataframe thead th {\n",
       "        text-align: right;\n",
       "    }\n",
       "</style>\n",
       "<table border=\"1\" class=\"dataframe\">\n",
       "  <thead>\n",
       "    <tr style=\"text-align: right;\">\n",
       "      <th></th>\n",
       "      <th>price</th>\n",
       "      <th>vehicle_type</th>\n",
       "      <th>registration_year</th>\n",
       "      <th>gearbox</th>\n",
       "      <th>power</th>\n",
       "      <th>model</th>\n",
       "      <th>kilometer</th>\n",
       "      <th>registration_month</th>\n",
       "      <th>fuel_type</th>\n",
       "      <th>brand</th>\n",
       "      <th>not_repaired</th>\n",
       "      <th>date_created</th>\n",
       "    </tr>\n",
       "  </thead>\n",
       "  <tbody>\n",
       "    <tr>\n",
       "      <th>0</th>\n",
       "      <td>480</td>\n",
       "      <td>4.0</td>\n",
       "      <td>1993</td>\n",
       "      <td>1.0</td>\n",
       "      <td>86.0</td>\n",
       "      <td>116.0</td>\n",
       "      <td>150000</td>\n",
       "      <td>0</td>\n",
       "      <td>6.0</td>\n",
       "      <td>38.0</td>\n",
       "      <td>0.0</td>\n",
       "      <td>94.0</td>\n",
       "    </tr>\n",
       "    <tr>\n",
       "      <th>1</th>\n",
       "      <td>18300</td>\n",
       "      <td>2.0</td>\n",
       "      <td>2011</td>\n",
       "      <td>1.0</td>\n",
       "      <td>190.0</td>\n",
       "      <td>30.0</td>\n",
       "      <td>125000</td>\n",
       "      <td>5</td>\n",
       "      <td>2.0</td>\n",
       "      <td>1.0</td>\n",
       "      <td>0.0</td>\n",
       "      <td>94.0</td>\n",
       "    </tr>\n",
       "    <tr>\n",
       "      <th>2</th>\n",
       "      <td>9800</td>\n",
       "      <td>6.0</td>\n",
       "      <td>2004</td>\n",
       "      <td>0.0</td>\n",
       "      <td>163.0</td>\n",
       "      <td>117.0</td>\n",
       "      <td>125000</td>\n",
       "      <td>8</td>\n",
       "      <td>2.0</td>\n",
       "      <td>14.0</td>\n",
       "      <td>0.0</td>\n",
       "      <td>84.0</td>\n",
       "    </tr>\n",
       "    <tr>\n",
       "      <th>3</th>\n",
       "      <td>1500</td>\n",
       "      <td>5.0</td>\n",
       "      <td>2001</td>\n",
       "      <td>1.0</td>\n",
       "      <td>75.0</td>\n",
       "      <td>116.0</td>\n",
       "      <td>150000</td>\n",
       "      <td>6</td>\n",
       "      <td>6.0</td>\n",
       "      <td>38.0</td>\n",
       "      <td>0.0</td>\n",
       "      <td>87.0</td>\n",
       "    </tr>\n",
       "    <tr>\n",
       "      <th>4</th>\n",
       "      <td>3600</td>\n",
       "      <td>5.0</td>\n",
       "      <td>2008</td>\n",
       "      <td>1.0</td>\n",
       "      <td>69.0</td>\n",
       "      <td>101.0</td>\n",
       "      <td>90000</td>\n",
       "      <td>7</td>\n",
       "      <td>2.0</td>\n",
       "      <td>31.0</td>\n",
       "      <td>0.0</td>\n",
       "      <td>101.0</td>\n",
       "    </tr>\n",
       "  </tbody>\n",
       "</table>\n",
       "</div>"
      ],
      "text/plain": [
       "   price  vehicle_type  registration_year  gearbox  power  model  kilometer  \\\n",
       "0    480           4.0               1993      1.0   86.0  116.0     150000   \n",
       "1  18300           2.0               2011      1.0  190.0   30.0     125000   \n",
       "2   9800           6.0               2004      0.0  163.0  117.0     125000   \n",
       "3   1500           5.0               2001      1.0   75.0  116.0     150000   \n",
       "4   3600           5.0               2008      1.0   69.0  101.0      90000   \n",
       "\n",
       "   registration_month  fuel_type  brand  not_repaired  date_created  \n",
       "0                   0        6.0   38.0           0.0          94.0  \n",
       "1                   5        2.0    1.0           0.0          94.0  \n",
       "2                   8        2.0   14.0           0.0          84.0  \n",
       "3                   6        6.0   38.0           0.0          87.0  \n",
       "4                   7        2.0   31.0           0.0         101.0  "
      ]
     },
     "execution_count": 48,
     "metadata": {},
     "output_type": "execute_result"
    }
   ],
   "source": [
    "# Кодируем данные с помощью OrdinalEncoder.\n",
    "# Просматриваем первые строки датафрейма.\n",
    "\n",
    "cat_columns = ['vehicle_type', 'gearbox', 'model', 'fuel_type', 'brand', 'not_repaired', 'date_created']\n",
    "encoder = OrdinalEncoder()\n",
    "df[cat_columns] = encoder.fit_transform(df[cat_columns])\n",
    "df.head()"
   ]
  },
  {
   "cell_type": "code",
   "execution_count": 49,
   "metadata": {},
   "outputs": [],
   "source": [
    "# Выделяем признаки и целевой признак в отдельные наборы данных.\n",
    "# Разбиваем датасеты на тренировочную, валидационную и тестовую выборки в пропорции 3:1:1.\n",
    "\n",
    "features = df.drop('price', axis=1)\n",
    "target = df['price']\n",
    "\n",
    "features_train, features_test, target_train, target_test = train_test_split(\n",
    "    features, target, test_size=0.2, random_state=12345)\n",
    "\n",
    "features_train, features_valid, target_train, target_valid = train_test_split(\n",
    "    features_train, target_train, test_size=0.25, random_state=12345)"
   ]
  },
  {
   "cell_type": "code",
   "execution_count": 50,
   "metadata": {},
   "outputs": [
    {
     "name": "stdout",
     "output_type": "stream",
     "text": [
      "(198042, 11)\n",
      "(66015, 11)\n",
      "(66015, 11)\n",
      "(198042,)\n",
      "(66015,)\n",
      "(66015,)\n"
     ]
    }
   ],
   "source": [
    "# Проверяем размеры полученных датасетов.\n",
    "\n",
    "for i in [features_train, features_valid, features_test, target_train, target_valid, target_test]:\n",
    "    print(i.shape)"
   ]
  },
  {
   "cell_type": "code",
   "execution_count": 51,
   "metadata": {},
   "outputs": [
    {
     "data": {
      "text/html": [
       "<div>\n",
       "<style scoped>\n",
       "    .dataframe tbody tr th:only-of-type {\n",
       "        vertical-align: middle;\n",
       "    }\n",
       "\n",
       "    .dataframe tbody tr th {\n",
       "        vertical-align: top;\n",
       "    }\n",
       "\n",
       "    .dataframe thead th {\n",
       "        text-align: right;\n",
       "    }\n",
       "</style>\n",
       "<table border=\"1\" class=\"dataframe\">\n",
       "  <thead>\n",
       "    <tr style=\"text-align: right;\">\n",
       "      <th></th>\n",
       "      <th>vehicle_type</th>\n",
       "      <th>registration_year</th>\n",
       "      <th>gearbox</th>\n",
       "      <th>power</th>\n",
       "      <th>model</th>\n",
       "      <th>kilometer</th>\n",
       "      <th>registration_month</th>\n",
       "      <th>fuel_type</th>\n",
       "      <th>brand</th>\n",
       "      <th>not_repaired</th>\n",
       "      <th>date_created</th>\n",
       "    </tr>\n",
       "  </thead>\n",
       "  <tbody>\n",
       "    <tr>\n",
       "      <th>287654</th>\n",
       "      <td>4.0</td>\n",
       "      <td>-0.313760</td>\n",
       "      <td>0.0</td>\n",
       "      <td>0.235987</td>\n",
       "      <td>29.0</td>\n",
       "      <td>0.573552</td>\n",
       "      <td>-0.208038</td>\n",
       "      <td>6.0</td>\n",
       "      <td>1.0</td>\n",
       "      <td>0.0</td>\n",
       "      <td>100.0</td>\n",
       "    </tr>\n",
       "    <tr>\n",
       "      <th>21590</th>\n",
       "      <td>0.0</td>\n",
       "      <td>-0.456824</td>\n",
       "      <td>1.0</td>\n",
       "      <td>0.062718</td>\n",
       "      <td>237.0</td>\n",
       "      <td>0.573552</td>\n",
       "      <td>1.682852</td>\n",
       "      <td>2.0</td>\n",
       "      <td>20.0</td>\n",
       "      <td>0.0</td>\n",
       "      <td>82.0</td>\n",
       "    </tr>\n",
       "    <tr>\n",
       "      <th>282076</th>\n",
       "      <td>5.0</td>\n",
       "      <td>1.832211</td>\n",
       "      <td>1.0</td>\n",
       "      <td>-1.246426</td>\n",
       "      <td>173.0</td>\n",
       "      <td>-0.097695</td>\n",
       "      <td>-1.288547</td>\n",
       "      <td>6.0</td>\n",
       "      <td>38.0</td>\n",
       "      <td>0.0</td>\n",
       "      <td>93.0</td>\n",
       "    </tr>\n",
       "    <tr>\n",
       "      <th>62611</th>\n",
       "      <td>4.0</td>\n",
       "      <td>-0.599889</td>\n",
       "      <td>1.0</td>\n",
       "      <td>-0.457089</td>\n",
       "      <td>121.0</td>\n",
       "      <td>0.573552</td>\n",
       "      <td>0.602343</td>\n",
       "      <td>6.0</td>\n",
       "      <td>34.0</td>\n",
       "      <td>0.0</td>\n",
       "      <td>102.0</td>\n",
       "    </tr>\n",
       "    <tr>\n",
       "      <th>204523</th>\n",
       "      <td>5.0</td>\n",
       "      <td>0.544629</td>\n",
       "      <td>1.0</td>\n",
       "      <td>-0.457089</td>\n",
       "      <td>176.0</td>\n",
       "      <td>0.573552</td>\n",
       "      <td>0.602343</td>\n",
       "      <td>6.0</td>\n",
       "      <td>9.0</td>\n",
       "      <td>0.0</td>\n",
       "      <td>102.0</td>\n",
       "    </tr>\n",
       "  </tbody>\n",
       "</table>\n",
       "</div>"
      ],
      "text/plain": [
       "        vehicle_type  registration_year  gearbox     power  model  kilometer  \\\n",
       "287654           4.0          -0.313760      0.0  0.235987   29.0   0.573552   \n",
       "21590            0.0          -0.456824      1.0  0.062718  237.0   0.573552   \n",
       "282076           5.0           1.832211      1.0 -1.246426  173.0  -0.097695   \n",
       "62611            4.0          -0.599889      1.0 -0.457089  121.0   0.573552   \n",
       "204523           5.0           0.544629      1.0 -0.457089  176.0   0.573552   \n",
       "\n",
       "        registration_month  fuel_type  brand  not_repaired  date_created  \n",
       "287654           -0.208038        6.0    1.0           0.0         100.0  \n",
       "21590             1.682852        2.0   20.0           0.0          82.0  \n",
       "282076           -1.288547        6.0   38.0           0.0          93.0  \n",
       "62611             0.602343        6.0   34.0           0.0         102.0  \n",
       "204523            0.602343        6.0    9.0           0.0         102.0  "
      ]
     },
     "execution_count": 51,
     "metadata": {},
     "output_type": "execute_result"
    }
   ],
   "source": [
    "# Масштабируем признаки с помощью StandardScaler.\n",
    "# Просматриваем первые строки тренировочной выборки с признаками.\n",
    "\n",
    "numeric = ['registration_year', 'power', 'kilometer', 'registration_month']\n",
    "\n",
    "scaler = StandardScaler()\n",
    "scaler.fit(features_train[numeric])\n",
    "\n",
    "features_train[numeric] = scaler.transform(features_train[numeric])\n",
    "features_valid[numeric] = scaler.transform(features_valid[numeric]) \n",
    "features_test[numeric] = scaler.transform(features_test[numeric])\n",
    "\n",
    "features_train.head()"
   ]
  },
  {
   "cell_type": "markdown",
   "metadata": {},
   "source": [
    "#### Итоги"
   ]
  },
  {
   "cell_type": "markdown",
   "metadata": {},
   "source": [
    "1. Названия столбцов переведены в \"змеиный\" регистр.\n",
    "\n",
    "\n",
    "2. Формат данных в столбце 'date_created' изменен на date.\n",
    "\n",
    "\n",
    "3. Удалены лишние столбцы 'date_crawled', 'number_of_pictures', 'postal_code' и 'last_seen'.\n",
    "\n",
    "\n",
    "4. Удалены строки-дубликаты.\n",
    "\n",
    "\n",
    "5. Удалены строки с нулевыми значениями в столбце 'price'.\n",
    "\n",
    "\n",
    "6. В столбце \"registration_year\" все значения больше 2016 приравнены к 2016. Все значения меньше 1970 - к 1970.\n",
    "\n",
    "\n",
    "7. В столбце 'power' удалены строки с аномальными положительными значениями (меньше 40 и больше 400 л.с.). Все нули в столбце заменены на пропуски.\n",
    "\n",
    "\n",
    "8. Пропуски в столбцах 'vehicle_type', 'fuel_type', 'gearbox', 'model', 'brand', 'power' заполнены путем группировки по остальным столбцам из этого списка, с помощью метода .transform().\n",
    "\n",
    "\n",
    "9. Оставшиеся пропуски в столбцах 'model', 'gearbox' и 'fuel_type' заполнены значением \"others\".\n",
    "\n",
    "\n",
    "10. Оставшиеся пропуски в столбце 'not_repaired' заполнены значениями \"yes\" (для автомобилей стоимостью до 200 евро) и \"no\" (для всех остальных).\n",
    "\n",
    "\n",
    "11. Данные закодированы с помощью OrdinalEncoder.\n",
    "\n",
    "\n",
    "12. Выделены датасеты с признаками и целевым признаком, каждый из них разбит на тренировочную, валидационную и тестовую выборки.\n",
    "\n",
    "\n",
    "13. Произведено масштабирование признаков с помощью StandardScaler."
   ]
  },
  {
   "cell_type": "markdown",
   "metadata": {},
   "source": [
    "## Обучение моделей"
   ]
  },
  {
   "cell_type": "markdown",
   "metadata": {},
   "source": [
    "Ввиду больших временных затрат подбор гиперпараметров производился отдельно и не был полностью включен в текст исследовния."
   ]
  },
  {
   "cell_type": "markdown",
   "metadata": {},
   "source": [
    "### DecisionTreeRegressor"
   ]
  },
  {
   "cell_type": "code",
   "execution_count": 54,
   "metadata": {
    "scrolled": true
   },
   "outputs": [
    {
     "data": {
      "text/plain": [
       "DecisionTreeRegressor(criterion='mse', max_depth=8, random_state=12345)"
      ]
     },
     "execution_count": 54,
     "metadata": {},
     "output_type": "execute_result"
    }
   ],
   "source": [
    "# Обучение модели\n",
    "\n",
    "model_dtr = DecisionTreeRegressor(criterion='mse', max_depth=8, random_state=12345) \n",
    "model_dtr.fit(features_train, target_train)"
   ]
  },
  {
   "cell_type": "code",
   "execution_count": 55,
   "metadata": {
    "scrolled": true
   },
   "outputs": [],
   "source": [
    "# Предсказание модели\n",
    "\n",
    "predictions = model_dtr.predict(features_valid)"
   ]
  },
  {
   "cell_type": "code",
   "execution_count": 56,
   "metadata": {},
   "outputs": [
    {
     "name": "stdout",
     "output_type": "stream",
     "text": [
      "RMSE для модели DecisionTreeRegressor на валидационной выборке: 2146.5\n"
     ]
    }
   ],
   "source": [
    "# Вычисление метрики RMSE\n",
    "\n",
    "rmse = mean_squared_error(target_valid, predictions, squared=False)\n",
    "print(\"RMSE для модели DecisionTreeRegressor на валидационной выборке:\", round(rmse, 2))"
   ]
  },
  {
   "cell_type": "markdown",
   "metadata": {},
   "source": [
    "### Ridge"
   ]
  },
  {
   "cell_type": "code",
   "execution_count": 60,
   "metadata": {},
   "outputs": [
    {
     "data": {
      "text/plain": [
       "{'solver': 'sparse_cg'}"
      ]
     },
     "execution_count": 60,
     "metadata": {},
     "output_type": "execute_result"
    }
   ],
   "source": [
    "# Обучение модели\n",
    "\n",
    "model_r = Ridge()\n",
    "hyperparams = [{'solver':['auto', 'svd', 'cholesky', 'lsqr', 'sparse_cg']}]\n",
    "model_r = GridSearchCV(model_r, hyperparams, scoring='neg_mean_squared_error')\n",
    "model_r.fit(features_train, target_train)\n",
    "model_r.best_params_"
   ]
  },
  {
   "cell_type": "code",
   "execution_count": 62,
   "metadata": {},
   "outputs": [],
   "source": [
    "# Предсказание модели\n",
    "\n",
    "predictions = model_r.predict(features_valid)"
   ]
  },
  {
   "cell_type": "code",
   "execution_count": 63,
   "metadata": {},
   "outputs": [
    {
     "name": "stdout",
     "output_type": "stream",
     "text": [
      "RMSE для модели Ridge на валидационной выборке: 3075.58\n"
     ]
    }
   ],
   "source": [
    "# Вычисление метрики RMSE\n",
    "\n",
    "rmse = mean_squared_error(target_valid, predictions, squared=False)\n",
    "print(\"RMSE для модели Ridge на валидационной выборке:\", round(rmse, 2))"
   ]
  },
  {
   "cell_type": "markdown",
   "metadata": {},
   "source": [
    "### LGBMRegressor"
   ]
  },
  {
   "cell_type": "code",
   "execution_count": 66,
   "metadata": {},
   "outputs": [
    {
     "data": {
      "text/plain": [
       "LGBMRegressor(max_depth=14, n_estimators=39, random_state=12345)"
      ]
     },
     "execution_count": 66,
     "metadata": {},
     "output_type": "execute_result"
    }
   ],
   "source": [
    "# Обучение модели (предварительно - перевод категориальных признаков в тип 'category')\n",
    "\n",
    "features_train[cat_columns] = features_train[cat_columns].astype('category')\n",
    "features_valid[cat_columns] = features_valid[cat_columns].astype('category')\n",
    "\n",
    "model_lgbmr = LGBMRegressor(max_depth=14, n_estimators=39, random_state=12345)\n",
    "model_lgbmr.fit(features_train, target_train)"
   ]
  },
  {
   "cell_type": "code",
   "execution_count": 67,
   "metadata": {},
   "outputs": [],
   "source": [
    "# Предсказание модели\n",
    "\n",
    "predictions = model_lgbmr.predict(features_valid)"
   ]
  },
  {
   "cell_type": "code",
   "execution_count": 68,
   "metadata": {},
   "outputs": [
    {
     "name": "stdout",
     "output_type": "stream",
     "text": [
      "RMSE для модели LGBMRegressor на валидационной выборке: 1805.63\n"
     ]
    }
   ],
   "source": [
    "# Вычисление метрики RMSE\n",
    "\n",
    "rmse = mean_squared_error(target_valid, predictions, squared=False)\n",
    "print(\"RMSE для модели LGBMRegressor на валидационной выборке:\", round(rmse, 2))"
   ]
  },
  {
   "cell_type": "markdown",
   "metadata": {},
   "source": [
    "### CatBoostRegressor"
   ]
  },
  {
   "cell_type": "code",
   "execution_count": 71,
   "metadata": {},
   "outputs": [
    {
     "data": {
      "text/plain": [
       "<catboost.core.CatBoostRegressor at 0x1f9e38cc760>"
      ]
     },
     "execution_count": 71,
     "metadata": {},
     "output_type": "execute_result"
    }
   ],
   "source": [
    "# Обучение модели (предварительно - перевод признаков из типа 'category' в 'int')\n",
    "# Время на обработку - около 30 сек\n",
    "\n",
    "features_train[cat_columns] = features_train[cat_columns].astype('int')\n",
    "features_valid[cat_columns] = features_valid[cat_columns].astype('int')\n",
    "\n",
    "model_cbr = CatBoostRegressor(learning_rate=0.5, random_state=12345, verbose=False) \n",
    "model_cbr.fit(features_train, target_train)"
   ]
  },
  {
   "cell_type": "code",
   "execution_count": 72,
   "metadata": {},
   "outputs": [],
   "source": [
    "# Предсказание модели\n",
    "\n",
    "predictions = model_cbr.predict(features_valid)"
   ]
  },
  {
   "cell_type": "code",
   "execution_count": 73,
   "metadata": {},
   "outputs": [
    {
     "name": "stdout",
     "output_type": "stream",
     "text": [
      "RMSE для модели CatBoostRegressor на валидационной выборке: 1700.3\n"
     ]
    }
   ],
   "source": [
    "# Вычисление метрики RMSE\n",
    "\n",
    "rmse = mean_squared_error(target_valid, predictions, squared=False)\n",
    "print(\"RMSE для модели CatBoostRegressor на валидационной выборке:\", round(rmse, 2))"
   ]
  },
  {
   "cell_type": "markdown",
   "metadata": {},
   "source": [
    "## Анализ моделей"
   ]
  },
  {
   "cell_type": "markdown",
   "metadata": {},
   "source": [
    "По итогам сравнения времени на обучение и предсказание, а также качества моделей, получены следующие результаты (значения могут разниться в зависимости от характеристик и загруженности машины):\n",
    "    \n",
    "1. Модель Decision Tree Regressor: обучение - 0.463 с, предсказание - 0.016 с, RMSE - 2146.5.\n",
    "2. Модель Ridge Regression: обучение - 6.14 с, предсказание - 0.003 с, RMSE - 3075.58.\n",
    "3. Модель Light GBM Regressor: обучение - 7 м 7 с, предсказание - 0.31 с, RMSE - 1805.63.\n",
    "4. Модель CatBoost Regressor: обучение - 28.6 с, предсказание - 0.084 с, RMSE - 1700.3.\n",
    "\n",
    "В результате лучшей по времени, затрачиваемому на обучение и предсказание, оказалась модель Decision Tree Regressor, но по качеству прогноза лучший показатель продемонстрировала модель CatBoost Regressor. Учитывая, что время на обучение у последней всего около полуминуты, наиболее оптимальным вариантом для выбора можно считать именно ее."
   ]
  },
  {
   "cell_type": "code",
   "execution_count": 74,
   "metadata": {},
   "outputs": [
    {
     "name": "stdout",
     "output_type": "stream",
     "text": [
      "RMSE для модели CatBoostRegressor на тестовой выборке: 1700.28\n"
     ]
    }
   ],
   "source": [
    "# Проверяем модель CatBoostRegressor на тестовой выборке.\n",
    "\n",
    "predictions = model_cbr.predict(features_test)\n",
    "rmse = mean_squared_error(target_test, predictions, squared=False)\n",
    "print(\"RMSE для модели CatBoostRegressor на тестовой выборке:\", round(rmse, 2))"
   ]
  },
  {
   "cell_type": "code",
   "execution_count": 75,
   "metadata": {},
   "outputs": [
    {
     "name": "stdout",
     "output_type": "stream",
     "text": [
      "RMSE для модели DummyRegressor на тестовой выборке: 4531.71\n"
     ]
    }
   ],
   "source": [
    "# Проверяем модель на вменяемость, сравнив ее результат с качеством, полученным на фиктивной модели.\n",
    "\n",
    "model_dr = DummyRegressor() \n",
    "model_dr.fit(features_train, target_train)\n",
    "predictions = model_dr.predict(features_test)\n",
    "rmse = mean_squared_error(target_test, predictions, squared=False)\n",
    "print(\"RMSE для модели DummyRegressor на тестовой выборке:\", round(rmse, 2))"
   ]
  },
  {
   "cell_type": "markdown",
   "metadata": {},
   "source": [
    "Как видим, на тестовой выборке качество модели model_cbr оказалось не хуже, чем на валидационной. Проверку на вменяемость модель также прошла успешно."
   ]
  },
  {
   "cell_type": "markdown",
   "metadata": {},
   "source": [
    "## Итоги исследования"
   ]
  },
  {
   "cell_type": "markdown",
   "metadata": {},
   "source": [
    "1. __Задача исследования.__ Для сервиса по продаже автомобилей с пробегом, разрабатывающего приложение для привлечения новых клиентов, необходимо построить модель машинного обучения, которая будет определять рыночную стоимость автомобиля клиента. Для исследования предоставлен файл с историческими данными: техническими характеристиками, комплектацией и ценами автомобилей. Заказчику важны как качество прогноза, так и скорость обучения и предсказания. Значение метрики качества RMSE при этом должно быть меньше 2500, т.е. модель при оценке автомобиля должна в среднем ошибаться менее, чем на 2500 евро.\n",
    "\n",
    "\n",
    "2. __Общая информация о датасете__. В предоставленной таблице 354369 строк и 16 столбцов. В столбцах \"Price\", \"RegistrationYear\", \"Power\", \"Kilometer\", \"RegistrationMonth\", \"NumberOfPictures\", \"PostalCode\" содержатся данные типа int. Все они имеют количественные признаки, кроме \"PostalCode\" (в последнем - де-факто категориальные). В остальных столбцах - тип object. \"DateCrawled\", \"DateCreated\" и \"LastSeen\" содержат даты. Собственно категориальные признаки имеют столбцы \"VehicleType\", \"Gearbox\", \"Model\", \"FuelType\", \"Brand\", \"NotRepaired\". В следующих столбцах есть пропуски: \"VehicleType\": 10,6%, \"Gearbox\": 5,6%, \"Model\": 5,6%, \"FuelType\": 9,3%, \"NotRepaired\": 20,1%. Среди строк есть 4, имеющих полные дубликаты, которые подлежат удалению. Столбцы \"DateCrawled\", \"NumberOfPictures\", \"PostalCode\" и \"LastSeen\" не влияют на целевой признак, поэтому их можно удалить.\n",
    "\n",
    "\n",
    "3. __Статистики и корреляции.__ В следующих столбцах имеются нулевые значения: \"Price\": 3%, \"Power\": 11,4%, \"RegistrationMonth\": 10,5%, \"NumberOfPictures\": 100%. Столбец \"Price\" содержит 1,9% аномально низких ненулевых значений (до 200 евро), значения имеют распределение Пуассона. Столбец \"RegistrationYear\" содержит около 0,4% аномально низких ненулевых значений (до 1970 года) и 4,1% аномально высоких значений (после 2016 года), распределение близко к нормальному. Столбец \"Power\" содержит около 0,5% аномально низких ненулевых значений (до 40 л.с.) и 0,2% аномально высоких значений (400 и более л.с.), распределение также близко к нормальному. Столбец \"Kilometer\" не содержит явно аномальных значений, однако 2/3 автомобилей имеют пробег 150 тыс. км, что указывает на искажение показаний счетчиков. Корреляций между признаками нет, за исключением небольшой отрицательной корреляции между пробегом и целевым признаком, с коэффициентом -0,33.\n",
    "\n",
    "\n",
    "4. __Предобработка данных__. Названия столбцов переведены в \"змеиный\" регистр. Формат данных в столбце 'date_created' изменен на date. Удалены лишние столбцы 'date_crawled', 'number_of_pictures', 'postal_code' и 'last_seen'. Удалены строки-дубликаты. Удалены строки с нулевыми значениями в столбце 'price'. В столбце \"registration_year\" значения ограничены сверху 2016-ым годом, снизу - 1970-ым (выступающие значения приравнены к крайним). В столбце 'power' удалены строки с аномальными положительными значениями (меньше 40 и больше 400 л.с.), а все нули заменены на пропуски. Пропуски в столбцах 'vehicle_type', 'fuel_type', 'gearbox', 'model', 'brand', 'power' заполнены путем группировки по остальным столбцам из этого списка, с помощью метода .transform(). Оставшиеся пропуски в столбцах 'model', 'gearbox' и 'fuel_type' заполнены значением \"others\". Пропуски в столбце 'not_repaired' заполнены значениями \"yes\" (для автомобилей стоимостью до 200 евро) и \"no\" (для всех остальных). Данные закодированы с помощью OrdinalEncoder. Выделены датасеты с признаками и целевым признаком, каждый из них разбит на тренировочную, валидационную и тестовую выборки. Произведено масштабирование признаков с помощью StandardScaler.\n",
    "\n",
    "\n",
    "5. __Обучение и проверка моделей__. Проверены четыре структуры машинного обучения: дерево решений, Ridge, Light GBM, а также CatBoost. В результате лучшей по времени, затрачиваемому на обучение и предсказание, оказалась модель Decision Tree Regressor (примерно 0,5 с), но по качеству прогноза лучший показатель продемонстрировала модель CatBoost Regressor (RMSE - 1700). Учитывая, что обучение у последней длилось менее 0.5 мин, наиболее оптимальным вариантом для выбора можно считать именно ее. На тестовой выборке эта модель показала такое же высокое качество. Также успешно была пройдена проверка на вменяемость. Результат: лучшая модель - model_cbr (CatBoostRegressor), время на обучение и прогноз - 30 секунд, RMSE - 1700 евро."
   ]
  }
 ],
 "metadata": {
  "ExecuteTimeLog": [
   {
    "duration": 1423,
    "start_time": "2022-08-08T20:58:01.486Z"
   },
   {
    "duration": 1017,
    "start_time": "2022-08-08T20:58:31.874Z"
   },
   {
    "duration": 15,
    "start_time": "2022-08-08T21:00:20.936Z"
   },
   {
    "duration": 130,
    "start_time": "2022-08-08T21:03:07.505Z"
   },
   {
    "duration": 85,
    "start_time": "2022-08-08T21:03:53.890Z"
   },
   {
    "duration": 12,
    "start_time": "2022-08-08T21:07:19.672Z"
   },
   {
    "duration": 8,
    "start_time": "2022-08-08T21:08:31.239Z"
   },
   {
    "duration": 7,
    "start_time": "2022-08-08T21:09:09.592Z"
   },
   {
    "duration": 7,
    "start_time": "2022-08-08T21:09:20.541Z"
   },
   {
    "duration": 407,
    "start_time": "2022-08-08T21:10:16.210Z"
   },
   {
    "duration": 397,
    "start_time": "2022-08-08T21:10:32.589Z"
   },
   {
    "duration": 550,
    "start_time": "2022-08-08T21:12:47.501Z"
   },
   {
    "duration": 497,
    "start_time": "2022-08-08T21:13:36.910Z"
   },
   {
    "duration": 3,
    "start_time": "2022-08-08T21:14:32.520Z"
   },
   {
    "duration": 480,
    "start_time": "2022-08-08T21:15:11.865Z"
   },
   {
    "duration": 488,
    "start_time": "2022-08-08T21:15:17.395Z"
   },
   {
    "duration": 74,
    "start_time": "2022-08-08T21:15:43.017Z"
   },
   {
    "duration": 91447,
    "start_time": "2022-08-08T21:17:18.427Z"
   },
   {
    "duration": 43,
    "start_time": "2022-08-08T21:51:00.917Z"
   },
   {
    "duration": 1325,
    "start_time": "2022-08-08T21:51:07.864Z"
   },
   {
    "duration": 745,
    "start_time": "2022-08-08T21:51:09.191Z"
   },
   {
    "duration": 15,
    "start_time": "2022-08-08T21:51:10.002Z"
   },
   {
    "duration": 148,
    "start_time": "2022-08-08T21:51:10.744Z"
   },
   {
    "duration": 81,
    "start_time": "2022-08-08T21:51:12.964Z"
   },
   {
    "duration": 7,
    "start_time": "2022-08-08T21:51:13.658Z"
   },
   {
    "duration": 91,
    "start_time": "2022-08-08T21:51:16.065Z"
   },
   {
    "duration": 35,
    "start_time": "2022-08-08T21:52:33.293Z"
   },
   {
    "duration": 45,
    "start_time": "2022-08-09T05:57:21.043Z"
   },
   {
    "duration": 1462,
    "start_time": "2022-08-09T05:57:29.072Z"
   },
   {
    "duration": 1088,
    "start_time": "2022-08-09T05:57:30.536Z"
   },
   {
    "duration": 19,
    "start_time": "2022-08-09T05:57:31.626Z"
   },
   {
    "duration": 107,
    "start_time": "2022-08-09T05:57:31.647Z"
   },
   {
    "duration": 176,
    "start_time": "2022-08-09T05:57:31.756Z"
   },
   {
    "duration": 14,
    "start_time": "2022-08-09T05:58:36.617Z"
   },
   {
    "duration": 69,
    "start_time": "2022-08-09T05:58:46.791Z"
   },
   {
    "duration": 11,
    "start_time": "2022-08-09T05:58:58.647Z"
   },
   {
    "duration": 11,
    "start_time": "2022-08-09T05:59:02.813Z"
   },
   {
    "duration": 15,
    "start_time": "2022-08-09T05:59:04.991Z"
   },
   {
    "duration": 101,
    "start_time": "2022-08-09T06:00:31.213Z"
   },
   {
    "duration": 125,
    "start_time": "2022-08-09T06:00:41.788Z"
   },
   {
    "duration": 236,
    "start_time": "2022-08-09T06:08:01.571Z"
   },
   {
    "duration": 175,
    "start_time": "2022-08-09T06:08:12.706Z"
   },
   {
    "duration": 105,
    "start_time": "2022-08-09T06:48:22.324Z"
   },
   {
    "duration": 98,
    "start_time": "2022-08-09T06:48:34.695Z"
   },
   {
    "duration": 104,
    "start_time": "2022-08-09T06:48:51.792Z"
   },
   {
    "duration": 99,
    "start_time": "2022-08-09T06:49:11.991Z"
   },
   {
    "duration": 101,
    "start_time": "2022-08-09T06:50:08.659Z"
   },
   {
    "duration": 106,
    "start_time": "2022-08-09T06:50:35.773Z"
   },
   {
    "duration": 123,
    "start_time": "2022-08-09T06:50:43.468Z"
   },
   {
    "duration": 144,
    "start_time": "2022-08-09T06:54:03.057Z"
   },
   {
    "duration": 151,
    "start_time": "2022-08-09T06:54:57.889Z"
   },
   {
    "duration": 174,
    "start_time": "2022-08-09T06:56:00.919Z"
   },
   {
    "duration": 187,
    "start_time": "2022-08-09T06:56:20.992Z"
   },
   {
    "duration": 403,
    "start_time": "2022-08-09T06:56:25.451Z"
   },
   {
    "duration": 172,
    "start_time": "2022-08-09T06:56:35.122Z"
   },
   {
    "duration": 227,
    "start_time": "2022-08-09T06:56:45.268Z"
   },
   {
    "duration": 162,
    "start_time": "2022-08-09T06:57:03.323Z"
   },
   {
    "duration": 100,
    "start_time": "2022-08-09T06:59:01.727Z"
   },
   {
    "duration": 92,
    "start_time": "2022-08-09T07:01:15.718Z"
   },
   {
    "duration": 89,
    "start_time": "2022-08-09T07:01:49.601Z"
   },
   {
    "duration": 8,
    "start_time": "2022-08-09T07:03:08.148Z"
   },
   {
    "duration": 47,
    "start_time": "2022-08-09T07:05:45.091Z"
   },
   {
    "duration": 23,
    "start_time": "2022-08-09T07:06:10.154Z"
   },
   {
    "duration": 22,
    "start_time": "2022-08-09T07:06:15.237Z"
   },
   {
    "duration": 26,
    "start_time": "2022-08-09T07:06:20.085Z"
   },
   {
    "duration": 22,
    "start_time": "2022-08-09T07:06:23.519Z"
   },
   {
    "duration": 11,
    "start_time": "2022-08-09T07:14:35.284Z"
   },
   {
    "duration": 10,
    "start_time": "2022-08-09T07:14:45.377Z"
   },
   {
    "duration": 89,
    "start_time": "2022-08-09T07:14:51.300Z"
   },
   {
    "duration": 28,
    "start_time": "2022-08-09T07:14:58.095Z"
   },
   {
    "duration": 111,
    "start_time": "2022-08-09T07:15:04.929Z"
   },
   {
    "duration": 18,
    "start_time": "2022-08-09T07:22:10.382Z"
   },
   {
    "duration": 4,
    "start_time": "2022-08-09T07:22:57.971Z"
   },
   {
    "duration": 773,
    "start_time": "2022-08-09T07:22:58.305Z"
   },
   {
    "duration": 13,
    "start_time": "2022-08-09T07:22:59.393Z"
   },
   {
    "duration": 131,
    "start_time": "2022-08-09T07:23:00.902Z"
   },
   {
    "duration": 54,
    "start_time": "2022-08-09T07:23:17.707Z"
   },
   {
    "duration": 51,
    "start_time": "2022-08-09T07:23:24.618Z"
   },
   {
    "duration": 58,
    "start_time": "2022-08-09T07:23:28.835Z"
   },
   {
    "duration": 138,
    "start_time": "2022-08-09T07:23:37.824Z"
   },
   {
    "duration": 60,
    "start_time": "2022-08-09T07:24:38.839Z"
   },
   {
    "duration": 147,
    "start_time": "2022-08-09T07:26:27.294Z"
   },
   {
    "duration": 14,
    "start_time": "2022-08-09T07:26:39.334Z"
   },
   {
    "duration": 12,
    "start_time": "2022-08-09T07:26:58.063Z"
   },
   {
    "duration": 15,
    "start_time": "2022-08-09T07:27:00.683Z"
   },
   {
    "duration": 95,
    "start_time": "2022-08-09T07:27:48.922Z"
   },
   {
    "duration": 4,
    "start_time": "2022-08-09T07:27:57.954Z"
   },
   {
    "duration": 706,
    "start_time": "2022-08-09T07:27:58.196Z"
   },
   {
    "duration": 13,
    "start_time": "2022-08-09T07:27:59.721Z"
   },
   {
    "duration": 67,
    "start_time": "2022-08-09T07:28:09.322Z"
   },
   {
    "duration": 156,
    "start_time": "2022-08-09T07:28:10.379Z"
   },
   {
    "duration": 14,
    "start_time": "2022-08-09T07:28:13.479Z"
   },
   {
    "duration": 3,
    "start_time": "2022-08-09T07:29:33.401Z"
   },
   {
    "duration": 721,
    "start_time": "2022-08-09T07:29:33.774Z"
   },
   {
    "duration": 11,
    "start_time": "2022-08-09T07:29:34.499Z"
   },
   {
    "duration": 10,
    "start_time": "2022-08-09T07:29:40.108Z"
   },
   {
    "duration": 64,
    "start_time": "2022-08-09T07:30:21.121Z"
   },
   {
    "duration": 179,
    "start_time": "2022-08-09T07:30:21.438Z"
   },
   {
    "duration": 93,
    "start_time": "2022-08-09T07:35:13.879Z"
   },
   {
    "duration": 11,
    "start_time": "2022-08-09T07:35:24.025Z"
   },
   {
    "duration": 93,
    "start_time": "2022-08-09T07:36:13.750Z"
   },
   {
    "duration": 200,
    "start_time": "2022-08-09T07:36:15.135Z"
   },
   {
    "duration": 12,
    "start_time": "2022-08-09T07:36:26.858Z"
   },
   {
    "duration": 3,
    "start_time": "2022-08-09T07:36:48.970Z"
   },
   {
    "duration": 703,
    "start_time": "2022-08-09T07:36:49.251Z"
   },
   {
    "duration": 12,
    "start_time": "2022-08-09T07:36:50.375Z"
   },
   {
    "duration": 11,
    "start_time": "2022-08-09T07:40:29.222Z"
   },
   {
    "duration": 148,
    "start_time": "2022-08-09T07:41:22.267Z"
   },
   {
    "duration": 153,
    "start_time": "2022-08-09T07:41:28.853Z"
   },
   {
    "duration": 12,
    "start_time": "2022-08-09T07:41:34.354Z"
   },
   {
    "duration": 134,
    "start_time": "2022-08-09T07:42:11.819Z"
   },
   {
    "duration": 193,
    "start_time": "2022-08-09T07:42:12.977Z"
   },
   {
    "duration": 351,
    "start_time": "2022-08-09T07:52:16.096Z"
   },
   {
    "duration": 12,
    "start_time": "2022-08-09T07:52:21.717Z"
   },
   {
    "duration": 37,
    "start_time": "2022-08-09T07:52:46.543Z"
   },
   {
    "duration": 21,
    "start_time": "2022-08-09T07:52:57.603Z"
   },
   {
    "duration": 22,
    "start_time": "2022-08-09T07:53:02.644Z"
   },
   {
    "duration": 133,
    "start_time": "2022-08-09T07:53:37.657Z"
   },
   {
    "duration": 461,
    "start_time": "2022-08-09T07:54:31.696Z"
   },
   {
    "duration": 73,
    "start_time": "2022-08-09T07:55:08.130Z"
   },
   {
    "duration": 4605,
    "start_time": "2022-08-09T07:55:19.817Z"
   },
   {
    "duration": 101,
    "start_time": "2022-08-09T07:56:14.035Z"
   },
   {
    "duration": 34,
    "start_time": "2022-08-09T07:56:47.600Z"
   },
   {
    "duration": 33,
    "start_time": "2022-08-09T07:57:19.121Z"
   },
   {
    "duration": 28,
    "start_time": "2022-08-09T07:57:28.372Z"
   },
   {
    "duration": 4395,
    "start_time": "2022-08-09T07:57:47.551Z"
   },
   {
    "duration": 61,
    "start_time": "2022-08-09T07:58:32.618Z"
   },
   {
    "duration": 48,
    "start_time": "2022-08-09T07:59:17.587Z"
   },
   {
    "duration": 60,
    "start_time": "2022-08-09T07:59:23.960Z"
   },
   {
    "duration": 60,
    "start_time": "2022-08-09T08:00:38.741Z"
   },
   {
    "duration": 6,
    "start_time": "2022-08-09T08:01:03.484Z"
   },
   {
    "duration": 54,
    "start_time": "2022-08-09T08:03:35.419Z"
   },
   {
    "duration": 546,
    "start_time": "2022-08-09T08:04:25.624Z"
   },
   {
    "duration": 12,
    "start_time": "2022-08-09T08:05:05.974Z"
   },
   {
    "duration": 3,
    "start_time": "2022-08-09T08:05:11.732Z"
   },
   {
    "duration": 743,
    "start_time": "2022-08-09T08:05:11.993Z"
   },
   {
    "duration": 13,
    "start_time": "2022-08-09T08:05:13.192Z"
   },
   {
    "duration": 547,
    "start_time": "2022-08-09T08:05:17.941Z"
   },
   {
    "duration": 127,
    "start_time": "2022-08-09T08:06:15.646Z"
   },
   {
    "duration": 136,
    "start_time": "2022-08-09T08:06:25.395Z"
   },
   {
    "duration": 1761,
    "start_time": "2022-08-16T15:02:16.767Z"
   },
   {
    "duration": 3169,
    "start_time": "2022-08-16T15:02:21.494Z"
   },
   {
    "duration": 4,
    "start_time": "2022-08-16T15:41:24.404Z"
   },
   {
    "duration": 953,
    "start_time": "2022-08-16T15:41:28.426Z"
   },
   {
    "duration": 33,
    "start_time": "2022-08-16T15:41:31.981Z"
   },
   {
    "duration": 171,
    "start_time": "2022-08-16T15:41:33.192Z"
   },
   {
    "duration": 172,
    "start_time": "2022-08-16T15:41:33.786Z"
   },
   {
    "duration": 240,
    "start_time": "2022-08-16T15:41:34.919Z"
   },
   {
    "duration": 29,
    "start_time": "2022-08-16T15:41:35.724Z"
   },
   {
    "duration": 117,
    "start_time": "2022-08-16T15:41:36.960Z"
   },
   {
    "duration": 104,
    "start_time": "2022-08-16T15:41:37.329Z"
   },
   {
    "duration": 9,
    "start_time": "2022-08-16T15:41:37.747Z"
   },
   {
    "duration": 157,
    "start_time": "2022-08-16T15:41:38.265Z"
   },
   {
    "duration": 36,
    "start_time": "2022-08-16T15:42:55.037Z"
   },
   {
    "duration": 140,
    "start_time": "2022-08-16T15:43:48.726Z"
   },
   {
    "duration": 112,
    "start_time": "2022-08-16T15:44:26.926Z"
   },
   {
    "duration": 106,
    "start_time": "2022-08-16T15:44:42.303Z"
   },
   {
    "duration": 552,
    "start_time": "2022-08-16T15:47:09.867Z"
   },
   {
    "duration": 520,
    "start_time": "2022-08-16T15:47:11.112Z"
   },
   {
    "duration": 621,
    "start_time": "2022-08-16T15:47:12.830Z"
   },
   {
    "duration": 76,
    "start_time": "2022-08-16T15:47:17.603Z"
   },
   {
    "duration": 503,
    "start_time": "2022-08-16T15:48:20.578Z"
   },
   {
    "duration": 15,
    "start_time": "2022-08-16T15:48:22.430Z"
   },
   {
    "duration": 827,
    "start_time": "2022-08-16T15:48:31.709Z"
   },
   {
    "duration": 184,
    "start_time": "2022-08-16T15:50:12.615Z"
   },
   {
    "duration": 10,
    "start_time": "2022-08-16T15:50:20.326Z"
   },
   {
    "duration": 4158,
    "start_time": "2022-08-17T06:35:27.801Z"
   },
   {
    "duration": 2912,
    "start_time": "2022-08-17T06:35:31.962Z"
   },
   {
    "duration": 17,
    "start_time": "2022-08-17T06:35:34.875Z"
   },
   {
    "duration": 117,
    "start_time": "2022-08-17T06:35:34.895Z"
   },
   {
    "duration": 135,
    "start_time": "2022-08-17T06:35:35.014Z"
   },
   {
    "duration": 221,
    "start_time": "2022-08-17T06:35:36.409Z"
   },
   {
    "duration": 38,
    "start_time": "2022-08-17T06:35:37.403Z"
   },
   {
    "duration": 102,
    "start_time": "2022-08-17T06:35:38.470Z"
   },
   {
    "duration": 108,
    "start_time": "2022-08-17T06:35:38.762Z"
   },
   {
    "duration": 8,
    "start_time": "2022-08-17T06:35:39.537Z"
   },
   {
    "duration": 435,
    "start_time": "2022-08-17T06:35:40.724Z"
   },
   {
    "duration": 464,
    "start_time": "2022-08-17T06:35:42.635Z"
   },
   {
    "duration": 551,
    "start_time": "2022-08-17T06:35:44.757Z"
   },
   {
    "duration": 497,
    "start_time": "2022-08-17T06:37:19.960Z"
   },
   {
    "duration": 79,
    "start_time": "2022-08-17T06:56:29.059Z"
   },
   {
    "duration": 423,
    "start_time": "2022-08-17T06:56:30.191Z"
   },
   {
    "duration": 12,
    "start_time": "2022-08-17T06:56:31.176Z"
   },
   {
    "duration": 721,
    "start_time": "2022-08-17T06:56:31.482Z"
   },
   {
    "duration": 98,
    "start_time": "2022-08-17T06:56:46.481Z"
   },
   {
    "duration": 74,
    "start_time": "2022-08-17T06:57:16.708Z"
   },
   {
    "duration": 593,
    "start_time": "2022-08-17T07:03:07.010Z"
   },
   {
    "duration": 6,
    "start_time": "2022-08-17T07:03:32.333Z"
   },
   {
    "duration": 100,
    "start_time": "2022-08-17T07:07:28.454Z"
   },
   {
    "duration": 3,
    "start_time": "2022-08-17T07:08:10.481Z"
   },
   {
    "duration": 639,
    "start_time": "2022-08-17T07:08:15.942Z"
   },
   {
    "duration": 571,
    "start_time": "2022-08-17T07:08:59.469Z"
   },
   {
    "duration": 594,
    "start_time": "2022-08-17T07:09:14.357Z"
   },
   {
    "duration": 707,
    "start_time": "2022-08-17T07:09:29.658Z"
   },
   {
    "duration": 536,
    "start_time": "2022-08-17T07:09:38.181Z"
   },
   {
    "duration": 616,
    "start_time": "2022-08-17T07:09:45.403Z"
   },
   {
    "duration": 570,
    "start_time": "2022-08-17T07:09:50.641Z"
   },
   {
    "duration": 587,
    "start_time": "2022-08-17T07:09:59.764Z"
   },
   {
    "duration": 584,
    "start_time": "2022-08-17T07:10:07.950Z"
   },
   {
    "duration": 403,
    "start_time": "2022-08-17T07:10:41.298Z"
   },
   {
    "duration": 643,
    "start_time": "2022-08-17T07:10:49.308Z"
   },
   {
    "duration": 495,
    "start_time": "2022-08-17T07:11:02.966Z"
   },
   {
    "duration": 596,
    "start_time": "2022-08-17T07:11:08.231Z"
   },
   {
    "duration": 2,
    "start_time": "2022-08-17T07:17:05.697Z"
   },
   {
    "duration": 4,
    "start_time": "2022-08-17T07:43:43.316Z"
   },
   {
    "duration": 556,
    "start_time": "2022-08-17T07:44:07.005Z"
   },
   {
    "duration": 1294,
    "start_time": "2022-08-17T07:44:40.102Z"
   },
   {
    "duration": 244,
    "start_time": "2022-08-17T07:44:56.552Z"
   },
   {
    "duration": 1292,
    "start_time": "2022-08-17T08:01:23.399Z"
   },
   {
    "duration": 766,
    "start_time": "2022-08-17T08:01:43.781Z"
   },
   {
    "duration": 13,
    "start_time": "2022-08-17T08:01:44.549Z"
   },
   {
    "duration": 125,
    "start_time": "2022-08-17T08:01:44.563Z"
   },
   {
    "duration": 110,
    "start_time": "2022-08-17T08:01:44.690Z"
   },
   {
    "duration": 166,
    "start_time": "2022-08-17T08:01:44.806Z"
   },
   {
    "duration": 98,
    "start_time": "2022-08-17T08:01:44.974Z"
   },
   {
    "duration": 81,
    "start_time": "2022-08-17T08:01:45.631Z"
   },
   {
    "duration": 8,
    "start_time": "2022-08-17T08:01:45.714Z"
   },
   {
    "duration": 10,
    "start_time": "2022-08-17T08:01:45.724Z"
   },
   {
    "duration": 413,
    "start_time": "2022-08-17T08:01:45.833Z"
   },
   {
    "duration": 434,
    "start_time": "2022-08-17T08:01:46.248Z"
   },
   {
    "duration": 494,
    "start_time": "2022-08-17T08:01:46.683Z"
   },
   {
    "duration": 163,
    "start_time": "2022-08-17T08:02:52.233Z"
   },
   {
    "duration": 171,
    "start_time": "2022-08-17T08:03:09.817Z"
   },
   {
    "duration": 495,
    "start_time": "2022-08-17T08:03:30.752Z"
   },
   {
    "duration": 262,
    "start_time": "2022-08-17T08:03:42.847Z"
   },
   {
    "duration": 296,
    "start_time": "2022-08-17T08:05:14.257Z"
   },
   {
    "duration": 190,
    "start_time": "2022-08-17T08:05:21.839Z"
   },
   {
    "duration": 206,
    "start_time": "2022-08-17T08:05:28.660Z"
   },
   {
    "duration": 189,
    "start_time": "2022-08-17T08:05:59.981Z"
   },
   {
    "duration": 214,
    "start_time": "2022-08-17T08:06:55.941Z"
   },
   {
    "duration": 6,
    "start_time": "2022-08-17T08:07:14.457Z"
   },
   {
    "duration": 6,
    "start_time": "2022-08-17T08:07:24.506Z"
   },
   {
    "duration": 6,
    "start_time": "2022-08-17T08:07:30.087Z"
   },
   {
    "duration": 5,
    "start_time": "2022-08-17T08:07:36.496Z"
   },
   {
    "duration": 5,
    "start_time": "2022-08-17T08:07:42.665Z"
   },
   {
    "duration": 5,
    "start_time": "2022-08-17T08:07:48.164Z"
   },
   {
    "duration": 5,
    "start_time": "2022-08-17T08:08:37.095Z"
   },
   {
    "duration": 5,
    "start_time": "2022-08-17T08:08:42.940Z"
   },
   {
    "duration": 12,
    "start_time": "2022-08-17T08:08:59.684Z"
   },
   {
    "duration": 12,
    "start_time": "2022-08-17T08:09:26.362Z"
   },
   {
    "duration": 7,
    "start_time": "2022-08-17T08:09:38.805Z"
   },
   {
    "duration": 6,
    "start_time": "2022-08-17T08:09:47.566Z"
   },
   {
    "duration": 6,
    "start_time": "2022-08-17T08:09:54.646Z"
   },
   {
    "duration": 7,
    "start_time": "2022-08-17T08:10:02.503Z"
   },
   {
    "duration": 5,
    "start_time": "2022-08-17T08:10:08.863Z"
   },
   {
    "duration": 9,
    "start_time": "2022-08-17T08:10:17.513Z"
   },
   {
    "duration": 6,
    "start_time": "2022-08-17T08:10:23.777Z"
   },
   {
    "duration": 5,
    "start_time": "2022-08-17T08:10:29.072Z"
   },
   {
    "duration": 8,
    "start_time": "2022-08-17T08:10:34.111Z"
   },
   {
    "duration": 6,
    "start_time": "2022-08-17T08:10:38.281Z"
   },
   {
    "duration": 6,
    "start_time": "2022-08-17T08:10:45.657Z"
   },
   {
    "duration": 6,
    "start_time": "2022-08-17T08:10:50.061Z"
   },
   {
    "duration": 6,
    "start_time": "2022-08-17T08:10:54.092Z"
   },
   {
    "duration": 9,
    "start_time": "2022-08-17T08:11:00.914Z"
   },
   {
    "duration": 6,
    "start_time": "2022-08-17T08:11:04.996Z"
   },
   {
    "duration": 7,
    "start_time": "2022-08-17T08:11:13.113Z"
   },
   {
    "duration": 6,
    "start_time": "2022-08-17T08:11:25.147Z"
   },
   {
    "duration": 7,
    "start_time": "2022-08-17T08:11:31.037Z"
   },
   {
    "duration": 6,
    "start_time": "2022-08-17T08:11:35.541Z"
   },
   {
    "duration": 6,
    "start_time": "2022-08-17T08:11:39.694Z"
   },
   {
    "duration": 9,
    "start_time": "2022-08-17T08:11:43.921Z"
   },
   {
    "duration": 10,
    "start_time": "2022-08-17T08:11:47.516Z"
   },
   {
    "duration": 5,
    "start_time": "2022-08-17T08:11:59.436Z"
   },
   {
    "duration": 5,
    "start_time": "2022-08-17T08:12:23.564Z"
   },
   {
    "duration": 6,
    "start_time": "2022-08-17T08:14:19.803Z"
   },
   {
    "duration": 6,
    "start_time": "2022-08-17T08:16:00.982Z"
   },
   {
    "duration": 10,
    "start_time": "2022-08-17T08:16:08.405Z"
   },
   {
    "duration": 6,
    "start_time": "2022-08-17T08:16:12.754Z"
   },
   {
    "duration": 6,
    "start_time": "2022-08-17T08:16:20.147Z"
   },
   {
    "duration": 8,
    "start_time": "2022-08-17T08:16:25.220Z"
   },
   {
    "duration": 7,
    "start_time": "2022-08-17T08:16:35.329Z"
   },
   {
    "duration": 6,
    "start_time": "2022-08-17T08:16:38.944Z"
   },
   {
    "duration": 5,
    "start_time": "2022-08-17T08:17:04.861Z"
   },
   {
    "duration": 6,
    "start_time": "2022-08-17T08:17:15.846Z"
   },
   {
    "duration": 7,
    "start_time": "2022-08-17T08:17:39.393Z"
   },
   {
    "duration": 200,
    "start_time": "2022-08-17T08:18:20.013Z"
   },
   {
    "duration": 6,
    "start_time": "2022-08-17T08:18:21.043Z"
   },
   {
    "duration": 193,
    "start_time": "2022-08-17T08:18:21.747Z"
   },
   {
    "duration": 182,
    "start_time": "2022-08-17T08:18:43.539Z"
   },
   {
    "duration": 95,
    "start_time": "2022-08-17T08:19:57.511Z"
   },
   {
    "duration": 179,
    "start_time": "2022-08-17T08:20:02.315Z"
   },
   {
    "duration": 192,
    "start_time": "2022-08-17T08:20:11.673Z"
   },
   {
    "duration": 190,
    "start_time": "2022-08-17T08:20:24.003Z"
   },
   {
    "duration": 308,
    "start_time": "2022-08-17T08:20:41.213Z"
   },
   {
    "duration": 202,
    "start_time": "2022-08-17T08:20:49.738Z"
   },
   {
    "duration": 203,
    "start_time": "2022-08-17T08:21:05.178Z"
   },
   {
    "duration": 272,
    "start_time": "2022-08-17T08:21:17.271Z"
   },
   {
    "duration": 171,
    "start_time": "2022-08-17T08:21:22.360Z"
   },
   {
    "duration": 0,
    "start_time": "2022-08-17T08:23:36.906Z"
   },
   {
    "duration": 7,
    "start_time": "2022-08-17T08:23:43.205Z"
   },
   {
    "duration": 200,
    "start_time": "2022-08-17T08:23:45.550Z"
   },
   {
    "duration": 8,
    "start_time": "2022-08-17T08:23:50.114Z"
   },
   {
    "duration": 0,
    "start_time": "2022-08-17T08:24:03.290Z"
   },
   {
    "duration": 8,
    "start_time": "2022-08-17T08:24:04.546Z"
   },
   {
    "duration": 0,
    "start_time": "2022-08-17T08:25:49.043Z"
   },
   {
    "duration": 8,
    "start_time": "2022-08-17T08:25:50.889Z"
   },
   {
    "duration": 267,
    "start_time": "2022-08-17T08:26:00.991Z"
   },
   {
    "duration": 0,
    "start_time": "2022-08-17T08:27:24.217Z"
   },
   {
    "duration": 9,
    "start_time": "2022-08-17T08:27:24.766Z"
   },
   {
    "duration": 268,
    "start_time": "2022-08-17T08:27:27.722Z"
   },
   {
    "duration": 1257,
    "start_time": "2022-08-17T08:28:11.141Z"
   },
   {
    "duration": 9,
    "start_time": "2022-08-17T08:29:28.572Z"
   },
   {
    "duration": 26,
    "start_time": "2022-08-17T08:29:34.230Z"
   },
   {
    "duration": 570,
    "start_time": "2022-08-17T08:29:59.503Z"
   },
   {
    "duration": 268,
    "start_time": "2022-08-17T08:30:26.972Z"
   },
   {
    "duration": 25,
    "start_time": "2022-08-17T08:31:08.200Z"
   },
   {
    "duration": 34,
    "start_time": "2022-08-17T08:31:50.119Z"
   },
   {
    "duration": 23,
    "start_time": "2022-08-17T08:32:09.107Z"
   },
   {
    "duration": 258,
    "start_time": "2022-08-17T08:32:34.354Z"
   },
   {
    "duration": 956,
    "start_time": "2022-08-17T08:32:47.611Z"
   },
   {
    "duration": 192,
    "start_time": "2022-08-17T08:32:54.593Z"
   },
   {
    "duration": 177,
    "start_time": "2022-08-17T08:33:05.555Z"
   },
   {
    "duration": 147,
    "start_time": "2022-08-17T08:33:17.866Z"
   },
   {
    "duration": 173,
    "start_time": "2022-08-17T08:33:20.650Z"
   },
   {
    "duration": 175,
    "start_time": "2022-08-17T08:33:35.473Z"
   },
   {
    "duration": 263,
    "start_time": "2022-08-17T08:33:42.912Z"
   },
   {
    "duration": 234,
    "start_time": "2022-08-17T08:34:04.145Z"
   },
   {
    "duration": 364,
    "start_time": "2022-08-17T08:34:17.238Z"
   },
   {
    "duration": 260,
    "start_time": "2022-08-17T08:35:54.312Z"
   },
   {
    "duration": 191,
    "start_time": "2022-08-17T08:35:59.956Z"
   },
   {
    "duration": 198,
    "start_time": "2022-08-17T08:36:16.736Z"
   },
   {
    "duration": 221,
    "start_time": "2022-08-17T08:36:48.402Z"
   },
   {
    "duration": 202,
    "start_time": "2022-08-17T08:36:54.220Z"
   },
   {
    "duration": 227,
    "start_time": "2022-08-17T08:37:06.992Z"
   },
   {
    "duration": 229,
    "start_time": "2022-08-17T08:37:12.402Z"
   },
   {
    "duration": 6,
    "start_time": "2022-08-17T08:38:03.394Z"
   },
   {
    "duration": 5,
    "start_time": "2022-08-17T08:39:47.552Z"
   },
   {
    "duration": 5,
    "start_time": "2022-08-17T08:39:57.384Z"
   },
   {
    "duration": 5,
    "start_time": "2022-08-17T08:40:20.010Z"
   },
   {
    "duration": 6,
    "start_time": "2022-08-17T08:40:25.778Z"
   },
   {
    "duration": 5,
    "start_time": "2022-08-17T08:41:11.815Z"
   },
   {
    "duration": 22,
    "start_time": "2022-08-17T08:41:51.133Z"
   },
   {
    "duration": 224,
    "start_time": "2022-08-17T08:46:08.395Z"
   },
   {
    "duration": 211,
    "start_time": "2022-08-17T08:46:13.265Z"
   },
   {
    "duration": 356,
    "start_time": "2022-08-17T08:46:43.162Z"
   },
   {
    "duration": 207,
    "start_time": "2022-08-17T08:47:08.310Z"
   },
   {
    "duration": 13,
    "start_time": "2022-08-17T08:47:52.299Z"
   },
   {
    "duration": 7,
    "start_time": "2022-08-17T08:48:13.249Z"
   },
   {
    "duration": 7,
    "start_time": "2022-08-17T08:51:30.298Z"
   },
   {
    "duration": 6,
    "start_time": "2022-08-17T08:56:55.487Z"
   },
   {
    "duration": 6,
    "start_time": "2022-08-17T08:56:59.156Z"
   },
   {
    "duration": 6,
    "start_time": "2022-08-17T08:57:12.761Z"
   },
   {
    "duration": 7,
    "start_time": "2022-08-17T08:57:24.657Z"
   },
   {
    "duration": 6,
    "start_time": "2022-08-17T08:57:51.956Z"
   },
   {
    "duration": 202,
    "start_time": "2022-08-17T08:58:27.701Z"
   },
   {
    "duration": 175,
    "start_time": "2022-08-17T08:59:35.388Z"
   },
   {
    "duration": 218,
    "start_time": "2022-08-17T09:03:31.608Z"
   },
   {
    "duration": 6,
    "start_time": "2022-08-17T09:03:43.795Z"
   },
   {
    "duration": 6,
    "start_time": "2022-08-17T09:03:59.298Z"
   },
   {
    "duration": 162,
    "start_time": "2022-08-17T09:04:06.865Z"
   },
   {
    "duration": 182,
    "start_time": "2022-08-17T09:04:19.686Z"
   },
   {
    "duration": 204,
    "start_time": "2022-08-17T09:04:31.693Z"
   },
   {
    "duration": 6,
    "start_time": "2022-08-17T09:05:49.047Z"
   },
   {
    "duration": 6,
    "start_time": "2022-08-17T09:05:51.778Z"
   },
   {
    "duration": 6,
    "start_time": "2022-08-17T09:07:01.640Z"
   },
   {
    "duration": 4,
    "start_time": "2022-08-17T09:07:43.087Z"
   },
   {
    "duration": 6,
    "start_time": "2022-08-17T09:07:54.605Z"
   },
   {
    "duration": 194,
    "start_time": "2022-08-17T09:08:10.260Z"
   },
   {
    "duration": 5,
    "start_time": "2022-08-17T09:08:28.966Z"
   },
   {
    "duration": 179,
    "start_time": "2022-08-17T09:08:33.364Z"
   },
   {
    "duration": 5,
    "start_time": "2022-08-17T09:08:57.864Z"
   },
   {
    "duration": 5,
    "start_time": "2022-08-17T09:09:06.139Z"
   },
   {
    "duration": 5,
    "start_time": "2022-08-17T09:09:41.668Z"
   },
   {
    "duration": 6,
    "start_time": "2022-08-17T09:09:49.850Z"
   },
   {
    "duration": 6,
    "start_time": "2022-08-17T09:09:58.092Z"
   },
   {
    "duration": 6,
    "start_time": "2022-08-17T09:10:05.436Z"
   },
   {
    "duration": 6,
    "start_time": "2022-08-17T09:10:10.632Z"
   },
   {
    "duration": 5,
    "start_time": "2022-08-17T09:10:25.376Z"
   },
   {
    "duration": 205,
    "start_time": "2022-08-17T09:10:39.305Z"
   },
   {
    "duration": 5,
    "start_time": "2022-08-17T09:10:49.442Z"
   },
   {
    "duration": 6,
    "start_time": "2022-08-17T09:10:52.464Z"
   },
   {
    "duration": 269,
    "start_time": "2022-08-17T09:11:02.467Z"
   },
   {
    "duration": 161,
    "start_time": "2022-08-17T09:15:04.967Z"
   },
   {
    "duration": 176,
    "start_time": "2022-08-17T09:15:14.791Z"
   },
   {
    "duration": 182,
    "start_time": "2022-08-17T09:15:38.305Z"
   },
   {
    "duration": 201,
    "start_time": "2022-08-17T09:16:10.808Z"
   },
   {
    "duration": 186,
    "start_time": "2022-08-17T09:19:21.613Z"
   },
   {
    "duration": 27,
    "start_time": "2022-08-17T10:34:42.229Z"
   },
   {
    "duration": 28,
    "start_time": "2022-08-17T10:35:36.810Z"
   },
   {
    "duration": 28,
    "start_time": "2022-08-17T10:36:04.097Z"
   },
   {
    "duration": 29,
    "start_time": "2022-08-17T10:37:16.437Z"
   },
   {
    "duration": 28,
    "start_time": "2022-08-17T10:38:28.669Z"
   },
   {
    "duration": 29,
    "start_time": "2022-08-17T10:38:55.143Z"
   },
   {
    "duration": 32,
    "start_time": "2022-08-17T10:39:07.368Z"
   },
   {
    "duration": 15,
    "start_time": "2022-08-17T10:39:48.267Z"
   },
   {
    "duration": 14,
    "start_time": "2022-08-17T10:40:03.167Z"
   },
   {
    "duration": 105,
    "start_time": "2022-08-17T10:40:46.705Z"
   },
   {
    "duration": 57,
    "start_time": "2022-08-17T10:41:05.520Z"
   },
   {
    "duration": 50,
    "start_time": "2022-08-17T10:41:17.332Z"
   },
   {
    "duration": 29,
    "start_time": "2022-08-17T10:41:51.031Z"
   },
   {
    "duration": 32,
    "start_time": "2022-08-17T10:43:12.960Z"
   },
   {
    "duration": 35,
    "start_time": "2022-08-17T10:43:16.233Z"
   },
   {
    "duration": 33,
    "start_time": "2022-08-17T10:43:35.187Z"
   },
   {
    "duration": 34,
    "start_time": "2022-08-17T10:43:43.158Z"
   },
   {
    "duration": 33,
    "start_time": "2022-08-17T10:44:25.457Z"
   },
   {
    "duration": 1453,
    "start_time": "2022-08-17T10:44:29.417Z"
   },
   {
    "duration": 1272,
    "start_time": "2022-08-17T10:44:38.302Z"
   },
   {
    "duration": 33,
    "start_time": "2022-08-17T10:44:49.381Z"
   },
   {
    "duration": 29,
    "start_time": "2022-08-17T10:44:58.587Z"
   },
   {
    "duration": 28,
    "start_time": "2022-08-17T10:47:07.600Z"
   },
   {
    "duration": 26,
    "start_time": "2022-08-17T10:48:15.837Z"
   },
   {
    "duration": 89,
    "start_time": "2022-08-17T10:49:04.859Z"
   },
   {
    "duration": 172,
    "start_time": "2022-08-17T10:50:45.305Z"
   },
   {
    "duration": 151,
    "start_time": "2022-08-17T10:51:33.528Z"
   },
   {
    "duration": 148,
    "start_time": "2022-08-17T10:51:40.845Z"
   },
   {
    "duration": 166,
    "start_time": "2022-08-17T10:51:49.732Z"
   },
   {
    "duration": 142,
    "start_time": "2022-08-17T10:51:56.229Z"
   },
   {
    "duration": 249,
    "start_time": "2022-08-17T10:52:07.428Z"
   },
   {
    "duration": 189,
    "start_time": "2022-08-17T10:52:11.865Z"
   },
   {
    "duration": 5,
    "start_time": "2022-08-17T11:55:37.035Z"
   },
   {
    "duration": 206,
    "start_time": "2022-08-17T11:56:42.028Z"
   },
   {
    "duration": 460,
    "start_time": "2022-08-17T11:58:50.361Z"
   },
   {
    "duration": 202,
    "start_time": "2022-08-17T11:59:09.657Z"
   },
   {
    "duration": 6,
    "start_time": "2022-08-17T11:59:20.593Z"
   },
   {
    "duration": 7,
    "start_time": "2022-08-17T11:59:29.225Z"
   },
   {
    "duration": 7,
    "start_time": "2022-08-17T11:59:45.317Z"
   },
   {
    "duration": 6,
    "start_time": "2022-08-17T12:01:22.918Z"
   },
   {
    "duration": 4,
    "start_time": "2022-08-17T12:01:28.758Z"
   },
   {
    "duration": 5,
    "start_time": "2022-08-17T12:01:33.547Z"
   },
   {
    "duration": 5,
    "start_time": "2022-08-17T12:01:38.413Z"
   },
   {
    "duration": 4,
    "start_time": "2022-08-17T12:01:54.688Z"
   },
   {
    "duration": 4,
    "start_time": "2022-08-17T12:02:02.321Z"
   },
   {
    "duration": 6,
    "start_time": "2022-08-17T12:02:10.417Z"
   },
   {
    "duration": 4,
    "start_time": "2022-08-17T12:02:20.298Z"
   },
   {
    "duration": 7,
    "start_time": "2022-08-17T12:02:36.813Z"
   },
   {
    "duration": 6,
    "start_time": "2022-08-17T12:02:50.265Z"
   },
   {
    "duration": 6,
    "start_time": "2022-08-17T12:02:55.483Z"
   },
   {
    "duration": 6,
    "start_time": "2022-08-17T12:02:59.814Z"
   },
   {
    "duration": 6,
    "start_time": "2022-08-17T12:03:05.937Z"
   },
   {
    "duration": 7,
    "start_time": "2022-08-17T12:04:12.259Z"
   },
   {
    "duration": 5,
    "start_time": "2022-08-17T12:12:22.448Z"
   },
   {
    "duration": 6,
    "start_time": "2022-08-17T12:12:30.623Z"
   },
   {
    "duration": 4,
    "start_time": "2022-08-17T12:12:54.284Z"
   },
   {
    "duration": 5,
    "start_time": "2022-08-17T12:13:10.499Z"
   },
   {
    "duration": 5,
    "start_time": "2022-08-17T12:13:15.014Z"
   },
   {
    "duration": 5,
    "start_time": "2022-08-17T12:13:17.969Z"
   },
   {
    "duration": 5,
    "start_time": "2022-08-17T12:13:22.067Z"
   },
   {
    "duration": 5,
    "start_time": "2022-08-17T12:13:26.516Z"
   },
   {
    "duration": 6,
    "start_time": "2022-08-17T12:13:30.733Z"
   },
   {
    "duration": 5,
    "start_time": "2022-08-17T12:13:39.929Z"
   },
   {
    "duration": 5,
    "start_time": "2022-08-17T12:13:42.636Z"
   },
   {
    "duration": 7,
    "start_time": "2022-08-17T12:14:15.350Z"
   },
   {
    "duration": 9,
    "start_time": "2022-08-17T12:14:32.186Z"
   },
   {
    "duration": 170,
    "start_time": "2022-08-17T12:16:43.461Z"
   },
   {
    "duration": 167,
    "start_time": "2022-08-17T12:16:58.586Z"
   },
   {
    "duration": 153,
    "start_time": "2022-08-17T12:17:08.622Z"
   },
   {
    "duration": 3,
    "start_time": "2022-08-17T12:52:58.920Z"
   },
   {
    "duration": 729,
    "start_time": "2022-08-17T12:53:00.006Z"
   },
   {
    "duration": 13,
    "start_time": "2022-08-17T12:53:02.970Z"
   },
   {
    "duration": 107,
    "start_time": "2022-08-17T12:53:04.379Z"
   },
   {
    "duration": 97,
    "start_time": "2022-08-17T12:53:05.131Z"
   },
   {
    "duration": 185,
    "start_time": "2022-08-17T12:53:05.764Z"
   },
   {
    "duration": 34,
    "start_time": "2022-08-17T12:53:08.243Z"
   },
   {
    "duration": 55,
    "start_time": "2022-08-17T12:53:10.288Z"
   },
   {
    "duration": 29,
    "start_time": "2022-08-17T12:53:11.244Z"
   },
   {
    "duration": 33,
    "start_time": "2022-08-17T12:53:12.220Z"
   },
   {
    "duration": 40,
    "start_time": "2022-08-17T12:53:13.097Z"
   },
   {
    "duration": 33,
    "start_time": "2022-08-17T12:53:14.075Z"
   },
   {
    "duration": 181,
    "start_time": "2022-08-17T12:53:15.487Z"
   },
   {
    "duration": 98,
    "start_time": "2022-08-17T12:53:16.225Z"
   },
   {
    "duration": 164,
    "start_time": "2022-08-17T12:53:17.519Z"
   },
   {
    "duration": 16,
    "start_time": "2022-08-17T12:53:18.619Z"
   },
   {
    "duration": 170,
    "start_time": "2022-08-17T12:53:20.046Z"
   },
   {
    "duration": 6,
    "start_time": "2022-08-17T12:53:20.767Z"
   },
   {
    "duration": 19,
    "start_time": "2022-08-17T12:53:21.348Z"
   },
   {
    "duration": 5,
    "start_time": "2022-08-17T12:53:21.974Z"
   },
   {
    "duration": 158,
    "start_time": "2022-08-17T12:53:22.720Z"
   },
   {
    "duration": 7,
    "start_time": "2022-08-17T12:53:23.087Z"
   },
   {
    "duration": 6,
    "start_time": "2022-08-17T12:53:23.328Z"
   },
   {
    "duration": 135,
    "start_time": "2022-08-17T12:53:23.719Z"
   },
   {
    "duration": 10,
    "start_time": "2022-08-17T12:53:24.075Z"
   },
   {
    "duration": 355,
    "start_time": "2022-08-17T12:53:24.545Z"
   },
   {
    "duration": 386,
    "start_time": "2022-08-17T12:53:24.905Z"
   },
   {
    "duration": 453,
    "start_time": "2022-08-17T12:53:25.293Z"
   },
   {
    "duration": 77,
    "start_time": "2022-08-17T12:53:25.748Z"
   },
   {
    "duration": 619,
    "start_time": "2022-08-17T12:53:26.160Z"
   },
   {
    "duration": 421,
    "start_time": "2022-08-17T12:54:08.053Z"
   },
   {
    "duration": 252,
    "start_time": "2022-08-17T12:55:33.524Z"
   },
   {
    "duration": 238,
    "start_time": "2022-08-17T12:56:23.097Z"
   },
   {
    "duration": 12,
    "start_time": "2022-08-17T12:56:33.544Z"
   },
   {
    "duration": 3,
    "start_time": "2022-08-17T12:58:17.830Z"
   },
   {
    "duration": 638,
    "start_time": "2022-08-17T12:58:18.086Z"
   },
   {
    "duration": 12,
    "start_time": "2022-08-17T12:58:20.245Z"
   },
   {
    "duration": 1472,
    "start_time": "2022-08-17T12:58:30.983Z"
   },
   {
    "duration": 414,
    "start_time": "2022-08-17T12:58:42.295Z"
   },
   {
    "duration": 603,
    "start_time": "2022-08-17T12:58:43.265Z"
   },
   {
    "duration": 144,
    "start_time": "2022-08-17T12:59:03.036Z"
   },
   {
    "duration": 204,
    "start_time": "2022-08-17T12:59:11.417Z"
   },
   {
    "duration": 136,
    "start_time": "2022-08-17T12:59:29.793Z"
   },
   {
    "duration": 13,
    "start_time": "2022-08-17T12:59:35.427Z"
   },
   {
    "duration": 3,
    "start_time": "2022-08-17T13:00:03.125Z"
   },
   {
    "duration": 648,
    "start_time": "2022-08-17T13:00:03.335Z"
   },
   {
    "duration": 12,
    "start_time": "2022-08-17T13:00:03.985Z"
   },
   {
    "duration": 110,
    "start_time": "2022-08-17T13:00:03.998Z"
   },
   {
    "duration": 105,
    "start_time": "2022-08-17T13:00:04.110Z"
   },
   {
    "duration": 159,
    "start_time": "2022-08-17T13:00:04.216Z"
   },
   {
    "duration": 28,
    "start_time": "2022-08-17T13:00:04.663Z"
   },
   {
    "duration": 35,
    "start_time": "2022-08-17T13:00:04.693Z"
   },
   {
    "duration": 31,
    "start_time": "2022-08-17T13:00:04.833Z"
   },
   {
    "duration": 27,
    "start_time": "2022-08-17T13:00:05.015Z"
   },
   {
    "duration": 29,
    "start_time": "2022-08-17T13:00:05.176Z"
   },
   {
    "duration": 27,
    "start_time": "2022-08-17T13:00:05.336Z"
   },
   {
    "duration": 77,
    "start_time": "2022-08-17T13:00:05.688Z"
   },
   {
    "duration": 86,
    "start_time": "2022-08-17T13:00:05.856Z"
   },
   {
    "duration": 186,
    "start_time": "2022-08-17T13:00:06.217Z"
   },
   {
    "duration": 6,
    "start_time": "2022-08-17T13:00:06.406Z"
   },
   {
    "duration": 180,
    "start_time": "2022-08-17T13:00:06.771Z"
   },
   {
    "duration": 6,
    "start_time": "2022-08-17T13:00:06.953Z"
   },
   {
    "duration": 19,
    "start_time": "2022-08-17T13:00:07.122Z"
   },
   {
    "duration": 5,
    "start_time": "2022-08-17T13:00:07.290Z"
   },
   {
    "duration": 150,
    "start_time": "2022-08-17T13:00:07.675Z"
   },
   {
    "duration": 6,
    "start_time": "2022-08-17T13:00:08.001Z"
   },
   {
    "duration": 13,
    "start_time": "2022-08-17T13:00:08.046Z"
   },
   {
    "duration": 225,
    "start_time": "2022-08-17T13:00:08.382Z"
   },
   {
    "duration": 7,
    "start_time": "2022-08-17T13:00:08.826Z"
   },
   {
    "duration": 384,
    "start_time": "2022-08-17T13:00:09.466Z"
   },
   {
    "duration": 414,
    "start_time": "2022-08-17T13:00:09.918Z"
   },
   {
    "duration": 540,
    "start_time": "2022-08-17T13:00:10.335Z"
   },
   {
    "duration": 70,
    "start_time": "2022-08-17T13:00:11.083Z"
   },
   {
    "duration": 574,
    "start_time": "2022-08-17T13:00:11.328Z"
   },
   {
    "duration": 420,
    "start_time": "2022-08-17T13:00:13.877Z"
   },
   {
    "duration": 153,
    "start_time": "2022-08-17T13:00:16.957Z"
   },
   {
    "duration": 2,
    "start_time": "2022-08-17T13:00:20.121Z"
   },
   {
    "duration": 12,
    "start_time": "2022-08-17T13:00:22.188Z"
   },
   {
    "duration": 101,
    "start_time": "2022-08-17T13:02:02.454Z"
   },
   {
    "duration": 29,
    "start_time": "2022-08-17T13:05:17.482Z"
   },
   {
    "duration": 34,
    "start_time": "2022-08-17T13:05:35.147Z"
   },
   {
    "duration": 25,
    "start_time": "2022-08-17T13:05:57.798Z"
   },
   {
    "duration": 3,
    "start_time": "2022-08-17T13:56:32.046Z"
   },
   {
    "duration": 87,
    "start_time": "2022-08-17T13:59:27.881Z"
   },
   {
    "duration": 16,
    "start_time": "2022-08-17T14:19:04.319Z"
   },
   {
    "duration": 11,
    "start_time": "2022-08-17T14:19:16.347Z"
   },
   {
    "duration": 13,
    "start_time": "2022-08-17T14:19:21.275Z"
   },
   {
    "duration": 5,
    "start_time": "2022-08-17T14:20:43.352Z"
   },
   {
    "duration": 6,
    "start_time": "2022-08-17T14:22:55.179Z"
   },
   {
    "duration": 81,
    "start_time": "2022-08-17T14:23:01.788Z"
   },
   {
    "duration": 170,
    "start_time": "2022-08-17T14:23:42.588Z"
   },
   {
    "duration": 2914,
    "start_time": "2022-08-17T14:26:09.191Z"
   },
   {
    "duration": 151,
    "start_time": "2022-08-17T14:26:28.335Z"
   },
   {
    "duration": 102,
    "start_time": "2022-08-17T14:27:05.996Z"
   },
   {
    "duration": 69,
    "start_time": "2022-08-17T14:27:22.192Z"
   },
   {
    "duration": 327,
    "start_time": "2022-08-17T14:27:26.279Z"
   },
   {
    "duration": 12,
    "start_time": "2022-08-17T14:27:37.729Z"
   },
   {
    "duration": 10,
    "start_time": "2022-08-17T14:44:10.195Z"
   },
   {
    "duration": 12,
    "start_time": "2022-08-17T14:44:16.164Z"
   },
   {
    "duration": 11,
    "start_time": "2022-08-17T14:44:27.987Z"
   },
   {
    "duration": 10,
    "start_time": "2022-08-17T14:44:35.295Z"
   },
   {
    "duration": 11,
    "start_time": "2022-08-17T14:45:16.649Z"
   },
   {
    "duration": 11,
    "start_time": "2022-08-17T14:45:47.883Z"
   },
   {
    "duration": 4,
    "start_time": "2022-08-17T14:46:23.161Z"
   },
   {
    "duration": 13,
    "start_time": "2022-08-17T14:46:35.075Z"
   },
   {
    "duration": 67,
    "start_time": "2022-08-17T14:46:44.270Z"
   },
   {
    "duration": 10,
    "start_time": "2022-08-17T14:47:40.587Z"
   },
   {
    "duration": 10,
    "start_time": "2022-08-17T14:47:45.560Z"
   },
   {
    "duration": 10,
    "start_time": "2022-08-17T14:47:49.004Z"
   },
   {
    "duration": 9,
    "start_time": "2022-08-17T14:48:02.193Z"
   },
   {
    "duration": 33,
    "start_time": "2022-08-17T15:23:28.568Z"
   },
   {
    "duration": 107,
    "start_time": "2022-08-17T15:23:46.069Z"
   },
   {
    "duration": 11,
    "start_time": "2022-08-17T15:23:52.873Z"
   },
   {
    "duration": 25,
    "start_time": "2022-08-17T15:25:31.217Z"
   },
   {
    "duration": 23,
    "start_time": "2022-08-17T15:25:40.264Z"
   },
   {
    "duration": 142,
    "start_time": "2022-08-17T15:27:50.342Z"
   },
   {
    "duration": 13,
    "start_time": "2022-08-17T15:27:54.473Z"
   },
   {
    "duration": 79,
    "start_time": "2022-08-17T15:28:29.869Z"
   },
   {
    "duration": 3,
    "start_time": "2022-08-17T15:28:41.749Z"
   },
   {
    "duration": 11,
    "start_time": "2022-08-17T15:28:43.223Z"
   },
   {
    "duration": 81,
    "start_time": "2022-08-17T15:28:50.161Z"
   },
   {
    "duration": 13,
    "start_time": "2022-08-17T15:28:52.775Z"
   },
   {
    "duration": 38,
    "start_time": "2022-08-17T15:29:03.514Z"
   },
   {
    "duration": 13,
    "start_time": "2022-08-17T15:29:05.477Z"
   },
   {
    "duration": 80,
    "start_time": "2022-08-17T15:29:59.797Z"
   },
   {
    "duration": 13,
    "start_time": "2022-08-17T15:30:03.086Z"
   },
   {
    "duration": 65,
    "start_time": "2022-08-17T15:30:53.545Z"
   },
   {
    "duration": 61,
    "start_time": "2022-08-17T15:31:38.258Z"
   },
   {
    "duration": 9,
    "start_time": "2022-08-17T15:31:49.328Z"
   },
   {
    "duration": 63,
    "start_time": "2022-08-17T15:31:57.351Z"
   },
   {
    "duration": 71,
    "start_time": "2022-08-17T15:33:05.296Z"
   },
   {
    "duration": 61,
    "start_time": "2022-08-17T15:36:54.078Z"
   },
   {
    "duration": 57,
    "start_time": "2022-08-17T15:37:22.239Z"
   },
   {
    "duration": 62,
    "start_time": "2022-08-17T15:37:59.788Z"
   },
   {
    "duration": 57,
    "start_time": "2022-08-17T15:38:36.795Z"
   },
   {
    "duration": 55,
    "start_time": "2022-08-17T15:51:58.107Z"
   },
   {
    "duration": 60,
    "start_time": "2022-08-17T15:52:08.455Z"
   },
   {
    "duration": 29,
    "start_time": "2022-08-17T15:55:15.274Z"
   },
   {
    "duration": 37,
    "start_time": "2022-08-17T15:55:26.379Z"
   },
   {
    "duration": 37,
    "start_time": "2022-08-17T15:55:43.829Z"
   },
   {
    "duration": 9,
    "start_time": "2022-08-17T15:56:24.651Z"
   },
   {
    "duration": 348,
    "start_time": "2022-08-17T15:56:39.540Z"
   },
   {
    "duration": 302,
    "start_time": "2022-08-17T15:56:43.890Z"
   },
   {
    "duration": 541,
    "start_time": "2022-08-17T15:57:17.332Z"
   },
   {
    "duration": 12,
    "start_time": "2022-08-17T15:57:36.457Z"
   },
   {
    "duration": 52,
    "start_time": "2022-08-17T16:00:39.510Z"
   },
   {
    "duration": 26,
    "start_time": "2022-08-17T16:03:52.602Z"
   },
   {
    "duration": 1349,
    "start_time": "2022-08-17T16:04:08.156Z"
   },
   {
    "duration": 27,
    "start_time": "2022-08-17T16:05:16.774Z"
   },
   {
    "duration": 24,
    "start_time": "2022-08-17T16:05:23.687Z"
   },
   {
    "duration": 103,
    "start_time": "2022-08-17T16:05:28.590Z"
   },
   {
    "duration": 26,
    "start_time": "2022-08-17T16:05:45.133Z"
   },
   {
    "duration": 4,
    "start_time": "2022-08-17T16:06:39.755Z"
   },
   {
    "duration": 658,
    "start_time": "2022-08-17T16:06:39.937Z"
   },
   {
    "duration": 12,
    "start_time": "2022-08-17T16:06:41.272Z"
   },
   {
    "duration": 98,
    "start_time": "2022-08-17T16:06:41.437Z"
   },
   {
    "duration": 106,
    "start_time": "2022-08-17T16:06:41.578Z"
   },
   {
    "duration": 141,
    "start_time": "2022-08-17T16:06:41.736Z"
   },
   {
    "duration": 27,
    "start_time": "2022-08-17T16:06:42.060Z"
   },
   {
    "duration": 25,
    "start_time": "2022-08-17T16:06:42.229Z"
   },
   {
    "duration": 28,
    "start_time": "2022-08-17T16:06:42.388Z"
   },
   {
    "duration": 27,
    "start_time": "2022-08-17T16:06:42.543Z"
   },
   {
    "duration": 27,
    "start_time": "2022-08-17T16:06:42.706Z"
   },
   {
    "duration": 26,
    "start_time": "2022-08-17T16:06:42.908Z"
   },
   {
    "duration": 76,
    "start_time": "2022-08-17T16:06:43.220Z"
   },
   {
    "duration": 85,
    "start_time": "2022-08-17T16:06:43.391Z"
   },
   {
    "duration": 169,
    "start_time": "2022-08-17T16:06:43.733Z"
   },
   {
    "duration": 6,
    "start_time": "2022-08-17T16:06:43.908Z"
   },
   {
    "duration": 167,
    "start_time": "2022-08-17T16:06:44.269Z"
   },
   {
    "duration": 6,
    "start_time": "2022-08-17T16:06:44.438Z"
   },
   {
    "duration": 20,
    "start_time": "2022-08-17T16:06:44.612Z"
   },
   {
    "duration": 5,
    "start_time": "2022-08-17T16:06:44.772Z"
   },
   {
    "duration": 154,
    "start_time": "2022-08-17T16:06:45.099Z"
   },
   {
    "duration": 6,
    "start_time": "2022-08-17T16:06:45.284Z"
   },
   {
    "duration": 5,
    "start_time": "2022-08-17T16:06:45.464Z"
   },
   {
    "duration": 133,
    "start_time": "2022-08-17T16:06:45.824Z"
   },
   {
    "duration": 8,
    "start_time": "2022-08-17T16:06:45.958Z"
   },
   {
    "duration": 362,
    "start_time": "2022-08-17T16:06:46.334Z"
   },
   {
    "duration": 360,
    "start_time": "2022-08-17T16:06:46.699Z"
   },
   {
    "duration": 430,
    "start_time": "2022-08-17T16:06:47.061Z"
   },
   {
    "duration": 73,
    "start_time": "2022-08-17T16:06:47.493Z"
   },
   {
    "duration": 520,
    "start_time": "2022-08-17T16:06:47.568Z"
   },
   {
    "duration": 428,
    "start_time": "2022-08-17T16:06:48.696Z"
   },
   {
    "duration": 163,
    "start_time": "2022-08-17T16:06:49.125Z"
   },
   {
    "duration": 32,
    "start_time": "2022-08-17T16:06:49.402Z"
   },
   {
    "duration": 336,
    "start_time": "2022-08-17T16:06:49.564Z"
   },
   {
    "duration": 12,
    "start_time": "2022-08-17T16:06:49.906Z"
   },
   {
    "duration": 102,
    "start_time": "2022-08-17T16:06:49.920Z"
   },
   {
    "duration": 3,
    "start_time": "2022-08-17T16:06:50.079Z"
   },
   {
    "duration": 13,
    "start_time": "2022-08-17T16:06:53.577Z"
   },
   {
    "duration": 60,
    "start_time": "2022-08-17T16:06:54.853Z"
   },
   {
    "duration": 59,
    "start_time": "2022-08-17T16:06:55.674Z"
   },
   {
    "duration": 16,
    "start_time": "2022-08-17T16:06:58.121Z"
   },
   {
    "duration": 27,
    "start_time": "2022-08-17T16:07:54.993Z"
   },
   {
    "duration": 37,
    "start_time": "2022-08-17T16:08:03.085Z"
   },
   {
    "duration": 68,
    "start_time": "2022-08-17T16:08:46.149Z"
   },
   {
    "duration": 26,
    "start_time": "2022-08-17T16:09:21.898Z"
   },
   {
    "duration": 12,
    "start_time": "2022-08-17T16:12:39.387Z"
   },
   {
    "duration": 13,
    "start_time": "2022-08-17T16:12:46.045Z"
   },
   {
    "duration": 127,
    "start_time": "2022-08-17T16:13:05.906Z"
   },
   {
    "duration": 64,
    "start_time": "2022-08-17T16:13:09.957Z"
   },
   {
    "duration": 160,
    "start_time": "2022-08-17T16:13:15.224Z"
   },
   {
    "duration": 4,
    "start_time": "2022-08-17T16:13:32.182Z"
   },
   {
    "duration": 40,
    "start_time": "2022-08-17T16:16:04.576Z"
   },
   {
    "duration": 40,
    "start_time": "2022-08-17T16:16:16.838Z"
   },
   {
    "duration": 37,
    "start_time": "2022-08-17T16:16:22.767Z"
   },
   {
    "duration": 154,
    "start_time": "2022-08-17T16:16:32.837Z"
   },
   {
    "duration": 119,
    "start_time": "2022-08-17T16:16:37.452Z"
   },
   {
    "duration": 58,
    "start_time": "2022-08-17T16:17:07.712Z"
   },
   {
    "duration": 12,
    "start_time": "2022-08-17T16:18:04.368Z"
   },
   {
    "duration": 58,
    "start_time": "2022-08-17T16:18:36.358Z"
   },
   {
    "duration": 57,
    "start_time": "2022-08-17T16:18:55.168Z"
   },
   {
    "duration": 56,
    "start_time": "2022-08-17T16:19:18.654Z"
   },
   {
    "duration": 68,
    "start_time": "2022-08-17T16:19:33.120Z"
   },
   {
    "duration": 67,
    "start_time": "2022-08-17T16:21:12.781Z"
   },
   {
    "duration": 51,
    "start_time": "2022-08-17T16:21:37.953Z"
   },
   {
    "duration": 16,
    "start_time": "2022-08-17T16:22:35.355Z"
   },
   {
    "duration": 51,
    "start_time": "2022-08-17T16:22:53.371Z"
   },
   {
    "duration": 43,
    "start_time": "2022-08-17T16:24:11.526Z"
   },
   {
    "duration": 85,
    "start_time": "2022-08-17T16:24:25.597Z"
   },
   {
    "duration": 45,
    "start_time": "2022-08-17T16:24:52.053Z"
   },
   {
    "duration": 43,
    "start_time": "2022-08-17T16:29:51.717Z"
   },
   {
    "duration": 43,
    "start_time": "2022-08-17T16:31:53.537Z"
   },
   {
    "duration": 9,
    "start_time": "2022-08-17T16:32:29.983Z"
   },
   {
    "duration": 9,
    "start_time": "2022-08-17T16:32:36.967Z"
   },
   {
    "duration": 4,
    "start_time": "2022-08-17T16:32:46.995Z"
   },
   {
    "duration": 87,
    "start_time": "2022-08-17T16:32:53.000Z"
   },
   {
    "duration": 58,
    "start_time": "2022-08-17T16:33:03.821Z"
   },
   {
    "duration": 26,
    "start_time": "2022-08-17T16:33:21.119Z"
   },
   {
    "duration": 3,
    "start_time": "2022-08-17T16:34:45.017Z"
   },
   {
    "duration": 633,
    "start_time": "2022-08-17T16:34:45.132Z"
   },
   {
    "duration": 11,
    "start_time": "2022-08-17T16:34:45.767Z"
   },
   {
    "duration": 109,
    "start_time": "2022-08-17T16:34:45.780Z"
   },
   {
    "duration": 97,
    "start_time": "2022-08-17T16:34:45.891Z"
   },
   {
    "duration": 207,
    "start_time": "2022-08-17T16:34:45.990Z"
   },
   {
    "duration": 26,
    "start_time": "2022-08-17T16:34:46.283Z"
   },
   {
    "duration": 29,
    "start_time": "2022-08-17T16:34:46.505Z"
   },
   {
    "duration": 28,
    "start_time": "2022-08-17T16:34:46.625Z"
   },
   {
    "duration": 29,
    "start_time": "2022-08-17T16:34:46.698Z"
   },
   {
    "duration": 27,
    "start_time": "2022-08-17T16:34:46.868Z"
   },
   {
    "duration": 25,
    "start_time": "2022-08-17T16:34:46.989Z"
   },
   {
    "duration": 75,
    "start_time": "2022-08-17T16:34:47.317Z"
   },
   {
    "duration": 80,
    "start_time": "2022-08-17T16:34:47.460Z"
   },
   {
    "duration": 174,
    "start_time": "2022-08-17T16:34:48.033Z"
   },
   {
    "duration": 6,
    "start_time": "2022-08-17T16:34:48.291Z"
   },
   {
    "duration": 157,
    "start_time": "2022-08-17T16:34:48.617Z"
   },
   {
    "duration": 6,
    "start_time": "2022-08-17T16:34:48.790Z"
   },
   {
    "duration": 19,
    "start_time": "2022-08-17T16:34:49.074Z"
   },
   {
    "duration": 4,
    "start_time": "2022-08-17T16:34:49.095Z"
   },
   {
    "duration": 171,
    "start_time": "2022-08-17T16:34:50.129Z"
   },
   {
    "duration": 6,
    "start_time": "2022-08-17T16:34:50.321Z"
   },
   {
    "duration": 6,
    "start_time": "2022-08-17T16:34:50.433Z"
   },
   {
    "duration": 143,
    "start_time": "2022-08-17T16:34:51.231Z"
   },
   {
    "duration": 8,
    "start_time": "2022-08-17T16:34:51.403Z"
   },
   {
    "duration": 335,
    "start_time": "2022-08-17T16:34:51.718Z"
   },
   {
    "duration": 360,
    "start_time": "2022-08-17T16:34:53.217Z"
   },
   {
    "duration": 444,
    "start_time": "2022-08-17T16:34:53.578Z"
   },
   {
    "duration": 61,
    "start_time": "2022-08-17T16:34:54.524Z"
   },
   {
    "duration": 497,
    "start_time": "2022-08-17T16:34:54.587Z"
   },
   {
    "duration": 437,
    "start_time": "2022-08-17T16:34:56.301Z"
   },
   {
    "duration": 151,
    "start_time": "2022-08-17T16:34:56.740Z"
   },
   {
    "duration": 33,
    "start_time": "2022-08-17T16:34:58.798Z"
   },
   {
    "duration": 324,
    "start_time": "2022-08-17T16:34:59.864Z"
   },
   {
    "duration": 12,
    "start_time": "2022-08-17T16:35:14.536Z"
   },
   {
    "duration": 79,
    "start_time": "2022-08-17T16:35:23.156Z"
   },
   {
    "duration": 4,
    "start_time": "2022-08-17T16:35:24.529Z"
   },
   {
    "duration": 12,
    "start_time": "2022-08-17T16:35:25.637Z"
   },
   {
    "duration": 56,
    "start_time": "2022-08-17T16:35:28.070Z"
   },
   {
    "duration": 59,
    "start_time": "2022-08-17T16:35:32.818Z"
   },
   {
    "duration": 56,
    "start_time": "2022-08-17T16:35:34.224Z"
   },
   {
    "duration": 75,
    "start_time": "2022-08-17T16:35:36.917Z"
   },
   {
    "duration": 17,
    "start_time": "2022-08-17T16:35:44.305Z"
   },
   {
    "duration": 56,
    "start_time": "2022-08-17T16:35:46.476Z"
   },
   {
    "duration": 419,
    "start_time": "2022-08-17T16:36:24.480Z"
   },
   {
    "duration": 483,
    "start_time": "2022-08-17T16:37:19.785Z"
   },
   {
    "duration": 54,
    "start_time": "2022-08-17T16:37:32.984Z"
   },
   {
    "duration": 87,
    "start_time": "2022-08-17T16:37:46.722Z"
   },
   {
    "duration": 78,
    "start_time": "2022-08-17T16:37:58.044Z"
   },
   {
    "duration": 26,
    "start_time": "2022-08-17T16:38:09.656Z"
   },
   {
    "duration": 4,
    "start_time": "2022-08-17T16:38:43.049Z"
   },
   {
    "duration": 678,
    "start_time": "2022-08-17T16:38:44.628Z"
   },
   {
    "duration": 13,
    "start_time": "2022-08-17T16:38:45.308Z"
   },
   {
    "duration": 119,
    "start_time": "2022-08-17T16:38:45.322Z"
   },
   {
    "duration": 102,
    "start_time": "2022-08-17T16:38:45.443Z"
   },
   {
    "duration": 161,
    "start_time": "2022-08-17T16:38:45.548Z"
   },
   {
    "duration": 27,
    "start_time": "2022-08-17T16:38:45.711Z"
   },
   {
    "duration": 27,
    "start_time": "2022-08-17T16:38:45.739Z"
   },
   {
    "duration": 53,
    "start_time": "2022-08-17T16:38:45.767Z"
   },
   {
    "duration": 32,
    "start_time": "2022-08-17T16:38:45.821Z"
   },
   {
    "duration": 31,
    "start_time": "2022-08-17T16:38:45.855Z"
   },
   {
    "duration": 42,
    "start_time": "2022-08-17T16:38:45.887Z"
   },
   {
    "duration": 90,
    "start_time": "2022-08-17T16:38:46.082Z"
   },
   {
    "duration": 78,
    "start_time": "2022-08-17T16:38:46.324Z"
   },
   {
    "duration": 162,
    "start_time": "2022-08-17T16:38:46.586Z"
   },
   {
    "duration": 6,
    "start_time": "2022-08-17T16:38:46.820Z"
   },
   {
    "duration": 157,
    "start_time": "2022-08-17T16:38:47.134Z"
   },
   {
    "duration": 6,
    "start_time": "2022-08-17T16:38:47.437Z"
   },
   {
    "duration": 19,
    "start_time": "2022-08-17T16:38:47.561Z"
   },
   {
    "duration": 5,
    "start_time": "2022-08-17T16:38:47.821Z"
   },
   {
    "duration": 152,
    "start_time": "2022-08-17T16:38:48.825Z"
   },
   {
    "duration": 6,
    "start_time": "2022-08-17T16:38:48.979Z"
   },
   {
    "duration": 19,
    "start_time": "2022-08-17T16:38:48.986Z"
   },
   {
    "duration": 131,
    "start_time": "2022-08-17T16:38:49.083Z"
   },
   {
    "duration": 7,
    "start_time": "2022-08-17T16:38:49.216Z"
   },
   {
    "duration": 346,
    "start_time": "2022-08-17T16:38:49.640Z"
   },
   {
    "duration": 389,
    "start_time": "2022-08-17T16:38:49.988Z"
   },
   {
    "duration": 441,
    "start_time": "2022-08-17T16:38:50.566Z"
   },
   {
    "duration": 63,
    "start_time": "2022-08-17T16:38:51.008Z"
   },
   {
    "duration": 515,
    "start_time": "2022-08-17T16:38:51.398Z"
   },
   {
    "duration": 469,
    "start_time": "2022-08-17T16:38:52.605Z"
   },
   {
    "duration": 158,
    "start_time": "2022-08-17T16:38:53.480Z"
   },
   {
    "duration": 33,
    "start_time": "2022-08-17T16:38:54.175Z"
   },
   {
    "duration": 317,
    "start_time": "2022-08-17T16:38:54.210Z"
   },
   {
    "duration": 12,
    "start_time": "2022-08-17T16:38:54.529Z"
   },
   {
    "duration": 76,
    "start_time": "2022-08-17T16:38:54.818Z"
   },
   {
    "duration": 3,
    "start_time": "2022-08-17T16:38:54.981Z"
   },
   {
    "duration": 13,
    "start_time": "2022-08-17T16:38:55.078Z"
   },
   {
    "duration": 56,
    "start_time": "2022-08-17T16:38:55.396Z"
   },
   {
    "duration": 62,
    "start_time": "2022-08-17T16:38:55.455Z"
   },
   {
    "duration": 57,
    "start_time": "2022-08-17T16:38:55.644Z"
   },
   {
    "duration": 90,
    "start_time": "2022-08-17T16:38:55.968Z"
   },
   {
    "duration": 20,
    "start_time": "2022-08-17T16:38:56.087Z"
   },
   {
    "duration": 60,
    "start_time": "2022-08-17T16:38:56.457Z"
   },
   {
    "duration": 43,
    "start_time": "2022-08-17T16:38:56.639Z"
   },
   {
    "duration": 83,
    "start_time": "2022-08-17T16:38:56.861Z"
   },
   {
    "duration": 40,
    "start_time": "2022-08-17T16:38:56.986Z"
   },
   {
    "duration": 3,
    "start_time": "2022-08-17T16:41:22.123Z"
   },
   {
    "duration": 675,
    "start_time": "2022-08-17T16:41:22.222Z"
   },
   {
    "duration": 20,
    "start_time": "2022-08-17T16:41:22.899Z"
   },
   {
    "duration": 216,
    "start_time": "2022-08-17T16:41:22.921Z"
   },
   {
    "duration": 103,
    "start_time": "2022-08-17T16:41:23.140Z"
   },
   {
    "duration": 149,
    "start_time": "2022-08-17T16:41:23.261Z"
   },
   {
    "duration": 26,
    "start_time": "2022-08-17T16:41:23.431Z"
   },
   {
    "duration": 26,
    "start_time": "2022-08-17T16:41:24.770Z"
   },
   {
    "duration": 34,
    "start_time": "2022-08-17T16:41:24.799Z"
   },
   {
    "duration": 28,
    "start_time": "2022-08-17T16:41:24.835Z"
   },
   {
    "duration": 30,
    "start_time": "2022-08-17T16:41:24.864Z"
   },
   {
    "duration": 25,
    "start_time": "2022-08-17T16:41:24.907Z"
   },
   {
    "duration": 95,
    "start_time": "2022-08-17T16:41:24.934Z"
   },
   {
    "duration": 86,
    "start_time": "2022-08-17T16:41:25.032Z"
   },
   {
    "duration": 162,
    "start_time": "2022-08-17T16:41:25.281Z"
   },
   {
    "duration": 6,
    "start_time": "2022-08-17T16:41:25.445Z"
   },
   {
    "duration": 208,
    "start_time": "2022-08-17T16:41:26.041Z"
   },
   {
    "duration": 5,
    "start_time": "2022-08-17T16:41:26.251Z"
   },
   {
    "duration": 18,
    "start_time": "2022-08-17T16:41:27.305Z"
   },
   {
    "duration": 18,
    "start_time": "2022-08-17T16:41:27.324Z"
   },
   {
    "duration": 153,
    "start_time": "2022-08-17T16:41:27.524Z"
   },
   {
    "duration": 5,
    "start_time": "2022-08-17T16:41:27.679Z"
   },
   {
    "duration": 13,
    "start_time": "2022-08-17T16:41:27.685Z"
   },
   {
    "duration": 152,
    "start_time": "2022-08-17T16:41:27.700Z"
   },
   {
    "duration": 8,
    "start_time": "2022-08-17T16:41:28.127Z"
   },
   {
    "duration": 337,
    "start_time": "2022-08-17T16:41:28.965Z"
   },
   {
    "duration": 356,
    "start_time": "2022-08-17T16:41:29.634Z"
   },
   {
    "duration": 476,
    "start_time": "2022-08-17T16:41:29.992Z"
   },
   {
    "duration": 71,
    "start_time": "2022-08-17T16:41:30.469Z"
   },
   {
    "duration": 573,
    "start_time": "2022-08-17T16:41:30.542Z"
   },
   {
    "duration": 452,
    "start_time": "2022-08-17T16:41:31.117Z"
   },
   {
    "duration": 184,
    "start_time": "2022-08-17T16:41:31.910Z"
   },
   {
    "duration": 34,
    "start_time": "2022-08-17T16:41:34.831Z"
   },
   {
    "duration": 308,
    "start_time": "2022-08-17T16:41:36.893Z"
   },
   {
    "duration": 12,
    "start_time": "2022-08-17T16:41:38.619Z"
   },
   {
    "duration": 78,
    "start_time": "2022-08-17T16:41:39.322Z"
   },
   {
    "duration": 4,
    "start_time": "2022-08-17T16:41:40.356Z"
   },
   {
    "duration": 13,
    "start_time": "2022-08-17T16:41:41.223Z"
   },
   {
    "duration": 57,
    "start_time": "2022-08-17T16:41:42.598Z"
   },
   {
    "duration": 55,
    "start_time": "2022-08-17T16:41:54.409Z"
   },
   {
    "duration": 55,
    "start_time": "2022-08-17T16:41:56.376Z"
   },
   {
    "duration": 77,
    "start_time": "2022-08-17T16:41:58.886Z"
   },
   {
    "duration": 50,
    "start_time": "2022-08-17T16:42:19.519Z"
   },
   {
    "duration": 10,
    "start_time": "2022-08-17T16:43:37.397Z"
   },
   {
    "duration": 5,
    "start_time": "2022-08-17T16:45:31.472Z"
   },
   {
    "duration": 5,
    "start_time": "2022-08-17T16:46:14.922Z"
   },
   {
    "duration": 5,
    "start_time": "2022-08-17T16:46:19.556Z"
   },
   {
    "duration": 5,
    "start_time": "2022-08-17T16:46:22.612Z"
   },
   {
    "duration": 55,
    "start_time": "2022-08-17T16:49:49.633Z"
   },
   {
    "duration": 42,
    "start_time": "2022-08-17T16:50:48.475Z"
   },
   {
    "duration": 122,
    "start_time": "2022-08-17T16:50:51.979Z"
   },
   {
    "duration": 43,
    "start_time": "2022-08-17T16:51:00.081Z"
   },
   {
    "duration": 3,
    "start_time": "2022-08-17T16:53:06.551Z"
   },
   {
    "duration": 676,
    "start_time": "2022-08-17T16:53:06.953Z"
   },
   {
    "duration": 14,
    "start_time": "2022-08-17T16:53:07.631Z"
   },
   {
    "duration": 111,
    "start_time": "2022-08-17T16:53:07.646Z"
   },
   {
    "duration": 98,
    "start_time": "2022-08-17T16:53:07.759Z"
   },
   {
    "duration": 160,
    "start_time": "2022-08-17T16:53:07.858Z"
   },
   {
    "duration": 26,
    "start_time": "2022-08-17T16:53:08.553Z"
   },
   {
    "duration": 27,
    "start_time": "2022-08-17T16:53:08.581Z"
   },
   {
    "duration": 27,
    "start_time": "2022-08-17T16:53:08.738Z"
   },
   {
    "duration": 26,
    "start_time": "2022-08-17T16:53:09.294Z"
   },
   {
    "duration": 30,
    "start_time": "2022-08-17T16:53:09.902Z"
   },
   {
    "duration": 27,
    "start_time": "2022-08-17T16:53:11.234Z"
   },
   {
    "duration": 91,
    "start_time": "2022-08-17T16:53:11.971Z"
   },
   {
    "duration": 89,
    "start_time": "2022-08-17T16:53:12.864Z"
   },
   {
    "duration": 210,
    "start_time": "2022-08-17T16:53:12.955Z"
   },
   {
    "duration": 7,
    "start_time": "2022-08-17T16:53:13.167Z"
   },
   {
    "duration": 199,
    "start_time": "2022-08-17T16:53:13.175Z"
   },
   {
    "duration": 6,
    "start_time": "2022-08-17T16:53:13.481Z"
   },
   {
    "duration": 21,
    "start_time": "2022-08-17T16:53:13.622Z"
   },
   {
    "duration": 4,
    "start_time": "2022-08-17T16:53:22.272Z"
   },
   {
    "duration": 147,
    "start_time": "2022-08-17T16:53:23.431Z"
   },
   {
    "duration": 6,
    "start_time": "2022-08-17T16:53:23.579Z"
   },
   {
    "duration": 5,
    "start_time": "2022-08-17T16:53:23.865Z"
   },
   {
    "duration": 137,
    "start_time": "2022-08-17T16:53:24.093Z"
   },
   {
    "duration": 7,
    "start_time": "2022-08-17T16:53:24.485Z"
   },
   {
    "duration": 355,
    "start_time": "2022-08-17T16:53:24.897Z"
   },
   {
    "duration": 375,
    "start_time": "2022-08-17T16:53:25.254Z"
   },
   {
    "duration": 500,
    "start_time": "2022-08-17T16:53:25.631Z"
   },
   {
    "duration": 74,
    "start_time": "2022-08-17T16:53:26.133Z"
   },
   {
    "duration": 534,
    "start_time": "2022-08-17T16:53:26.209Z"
   },
   {
    "duration": 473,
    "start_time": "2022-08-17T16:53:26.958Z"
   },
   {
    "duration": 164,
    "start_time": "2022-08-17T16:53:27.432Z"
   },
   {
    "duration": 33,
    "start_time": "2022-08-17T16:53:28.866Z"
   },
   {
    "duration": 309,
    "start_time": "2022-08-17T16:53:29.135Z"
   },
   {
    "duration": 11,
    "start_time": "2022-08-17T16:53:29.556Z"
   },
   {
    "duration": 78,
    "start_time": "2022-08-17T16:53:29.848Z"
   },
   {
    "duration": 4,
    "start_time": "2022-08-17T16:53:30.088Z"
   },
   {
    "duration": 12,
    "start_time": "2022-08-17T16:53:30.302Z"
   },
   {
    "duration": 58,
    "start_time": "2022-08-17T16:53:35.633Z"
   },
   {
    "duration": 59,
    "start_time": "2022-08-17T16:53:36.432Z"
   },
   {
    "duration": 59,
    "start_time": "2022-08-17T16:53:37.337Z"
   },
   {
    "duration": 4,
    "start_time": "2022-08-17T16:53:38.066Z"
   },
   {
    "duration": 78,
    "start_time": "2022-08-17T16:53:38.688Z"
   },
   {
    "duration": 55,
    "start_time": "2022-08-17T16:53:39.725Z"
   },
   {
    "duration": 5,
    "start_time": "2022-08-17T16:53:42.284Z"
   },
   {
    "duration": 12,
    "start_time": "2022-08-17T16:54:01.789Z"
   },
   {
    "duration": 48,
    "start_time": "2022-08-17T16:54:35.121Z"
   },
   {
    "duration": 47,
    "start_time": "2022-08-17T16:55:15.164Z"
   },
   {
    "duration": 208,
    "start_time": "2022-08-17T16:55:23.368Z"
   },
   {
    "duration": 45,
    "start_time": "2022-08-17T16:55:37.331Z"
   },
   {
    "duration": 20,
    "start_time": "2022-08-17T16:57:12.763Z"
   },
   {
    "duration": 49,
    "start_time": "2022-08-17T16:57:24.695Z"
   },
   {
    "duration": 73,
    "start_time": "2022-08-17T16:57:49.270Z"
   },
   {
    "duration": 31,
    "start_time": "2022-08-17T16:57:55.849Z"
   },
   {
    "duration": 16,
    "start_time": "2022-08-17T16:58:16.469Z"
   },
   {
    "duration": 31,
    "start_time": "2022-08-17T16:58:22.360Z"
   },
   {
    "duration": 87,
    "start_time": "2022-08-17T16:59:20.745Z"
   },
   {
    "duration": 142,
    "start_time": "2022-08-17T17:01:14.964Z"
   },
   {
    "duration": 3,
    "start_time": "2022-08-17T17:06:17.400Z"
   },
   {
    "duration": 662,
    "start_time": "2022-08-17T17:06:17.919Z"
   },
   {
    "duration": 12,
    "start_time": "2022-08-17T17:06:18.934Z"
   },
   {
    "duration": 102,
    "start_time": "2022-08-17T17:06:18.948Z"
   },
   {
    "duration": 104,
    "start_time": "2022-08-17T17:06:19.967Z"
   },
   {
    "duration": 146,
    "start_time": "2022-08-17T17:06:20.073Z"
   },
   {
    "duration": 25,
    "start_time": "2022-08-17T17:06:20.221Z"
   },
   {
    "duration": 25,
    "start_time": "2022-08-17T17:06:20.292Z"
   },
   {
    "duration": 28,
    "start_time": "2022-08-17T17:06:20.521Z"
   },
   {
    "duration": 27,
    "start_time": "2022-08-17T17:06:20.801Z"
   },
   {
    "duration": 27,
    "start_time": "2022-08-17T17:06:20.830Z"
   },
   {
    "duration": 26,
    "start_time": "2022-08-17T17:06:21.855Z"
   },
   {
    "duration": 73,
    "start_time": "2022-08-17T17:06:22.180Z"
   },
   {
    "duration": 83,
    "start_time": "2022-08-17T17:06:22.254Z"
   },
   {
    "duration": 165,
    "start_time": "2022-08-17T17:06:22.513Z"
   },
   {
    "duration": 6,
    "start_time": "2022-08-17T17:06:22.703Z"
   },
   {
    "duration": 161,
    "start_time": "2022-08-17T17:06:23.079Z"
   },
   {
    "duration": 5,
    "start_time": "2022-08-17T17:06:23.242Z"
   },
   {
    "duration": 18,
    "start_time": "2022-08-17T17:06:23.417Z"
   },
   {
    "duration": 5,
    "start_time": "2022-08-17T17:06:23.639Z"
   },
   {
    "duration": 165,
    "start_time": "2022-08-17T17:06:24.043Z"
   },
   {
    "duration": 7,
    "start_time": "2022-08-17T17:06:24.434Z"
   },
   {
    "duration": 5,
    "start_time": "2022-08-17T17:06:24.766Z"
   },
   {
    "duration": 135,
    "start_time": "2022-08-17T17:06:25.065Z"
   },
   {
    "duration": 7,
    "start_time": "2022-08-17T17:06:25.381Z"
   },
   {
    "duration": 345,
    "start_time": "2022-08-17T17:06:25.615Z"
   },
   {
    "duration": 394,
    "start_time": "2022-08-17T17:06:25.962Z"
   },
   {
    "duration": 437,
    "start_time": "2022-08-17T17:06:26.946Z"
   },
   {
    "duration": 65,
    "start_time": "2022-08-17T17:06:27.964Z"
   },
   {
    "duration": 531,
    "start_time": "2022-08-17T17:06:28.114Z"
   },
   {
    "duration": 501,
    "start_time": "2022-08-17T17:06:31.314Z"
   },
   {
    "duration": 181,
    "start_time": "2022-08-17T17:06:34.682Z"
   },
   {
    "duration": 35,
    "start_time": "2022-08-17T17:06:38.322Z"
   },
   {
    "duration": 228,
    "start_time": "2022-08-17T17:06:41.687Z"
   },
   {
    "duration": 42,
    "start_time": "2022-08-17T17:06:53.766Z"
   },
   {
    "duration": 61,
    "start_time": "2022-08-17T17:07:06.004Z"
   },
   {
    "duration": 278,
    "start_time": "2022-08-17T17:07:44.364Z"
   },
   {
    "duration": 77,
    "start_time": "2022-08-17T17:07:50.131Z"
   },
   {
    "duration": 112,
    "start_time": "2022-08-17T17:08:51.705Z"
   },
   {
    "duration": 16,
    "start_time": "2022-08-17T19:27:11.754Z"
   },
   {
    "duration": 29,
    "start_time": "2022-08-17T19:27:20.110Z"
   },
   {
    "duration": 23,
    "start_time": "2022-08-17T19:27:30.127Z"
   },
   {
    "duration": 24,
    "start_time": "2022-08-17T19:28:03.815Z"
   },
   {
    "duration": 26,
    "start_time": "2022-08-17T19:28:12.065Z"
   },
   {
    "duration": 197,
    "start_time": "2022-08-17T19:28:14.167Z"
   },
   {
    "duration": 25,
    "start_time": "2022-08-17T19:28:18.784Z"
   },
   {
    "duration": 24,
    "start_time": "2022-08-17T19:28:22.732Z"
   },
   {
    "duration": 23,
    "start_time": "2022-08-17T19:28:25.020Z"
   },
   {
    "duration": 24,
    "start_time": "2022-08-17T19:28:26.935Z"
   },
   {
    "duration": 33,
    "start_time": "2022-08-17T19:28:35.916Z"
   },
   {
    "duration": 3,
    "start_time": "2022-08-17T19:28:59.404Z"
   },
   {
    "duration": 665,
    "start_time": "2022-08-17T19:28:59.582Z"
   },
   {
    "duration": 12,
    "start_time": "2022-08-17T19:29:00.249Z"
   },
   {
    "duration": 103,
    "start_time": "2022-08-17T19:29:00.263Z"
   },
   {
    "duration": 100,
    "start_time": "2022-08-17T19:29:00.369Z"
   },
   {
    "duration": 160,
    "start_time": "2022-08-17T19:29:00.471Z"
   },
   {
    "duration": 27,
    "start_time": "2022-08-17T19:29:00.762Z"
   },
   {
    "duration": 28,
    "start_time": "2022-08-17T19:29:00.935Z"
   },
   {
    "duration": 28,
    "start_time": "2022-08-17T19:29:01.124Z"
   },
   {
    "duration": 27,
    "start_time": "2022-08-17T19:29:01.285Z"
   },
   {
    "duration": 27,
    "start_time": "2022-08-17T19:29:01.472Z"
   },
   {
    "duration": 25,
    "start_time": "2022-08-17T19:29:01.667Z"
   },
   {
    "duration": 81,
    "start_time": "2022-08-17T19:29:02.024Z"
   },
   {
    "duration": 80,
    "start_time": "2022-08-17T19:29:02.205Z"
   },
   {
    "duration": 158,
    "start_time": "2022-08-17T19:29:02.644Z"
   },
   {
    "duration": 5,
    "start_time": "2022-08-17T19:29:02.804Z"
   },
   {
    "duration": 162,
    "start_time": "2022-08-17T19:29:03.121Z"
   },
   {
    "duration": 6,
    "start_time": "2022-08-17T19:29:03.312Z"
   },
   {
    "duration": 18,
    "start_time": "2022-08-17T19:29:03.504Z"
   },
   {
    "duration": 5,
    "start_time": "2022-08-17T19:29:03.706Z"
   },
   {
    "duration": 158,
    "start_time": "2022-08-17T19:29:04.061Z"
   },
   {
    "duration": 6,
    "start_time": "2022-08-17T19:29:04.221Z"
   },
   {
    "duration": 4,
    "start_time": "2022-08-17T19:29:04.398Z"
   },
   {
    "duration": 128,
    "start_time": "2022-08-17T19:29:04.746Z"
   },
   {
    "duration": 7,
    "start_time": "2022-08-17T19:29:04.929Z"
   },
   {
    "duration": 337,
    "start_time": "2022-08-17T19:29:05.317Z"
   },
   {
    "duration": 399,
    "start_time": "2022-08-17T19:29:05.656Z"
   },
   {
    "duration": 548,
    "start_time": "2022-08-17T19:29:06.058Z"
   },
   {
    "duration": 67,
    "start_time": "2022-08-17T19:29:06.608Z"
   },
   {
    "duration": 571,
    "start_time": "2022-08-17T19:29:06.677Z"
   },
   {
    "duration": 458,
    "start_time": "2022-08-17T19:29:08.980Z"
   },
   {
    "duration": 150,
    "start_time": "2022-08-17T19:29:14.625Z"
   },
   {
    "duration": 32,
    "start_time": "2022-08-17T19:29:20.753Z"
   },
   {
    "duration": 71,
    "start_time": "2022-08-17T19:29:22.623Z"
   },
   {
    "duration": 29,
    "start_time": "2022-08-17T19:29:56.203Z"
   },
   {
    "duration": 31,
    "start_time": "2022-08-17T19:30:26.326Z"
   },
   {
    "duration": 19,
    "start_time": "2022-08-17T19:30:45.566Z"
   },
   {
    "duration": 180,
    "start_time": "2022-08-17T19:30:53.533Z"
   },
   {
    "duration": 18,
    "start_time": "2022-08-17T19:30:58.460Z"
   },
   {
    "duration": 14,
    "start_time": "2022-08-17T19:31:51.883Z"
   },
   {
    "duration": 16,
    "start_time": "2022-08-17T19:32:02.621Z"
   },
   {
    "duration": 15,
    "start_time": "2022-08-17T19:32:11.260Z"
   },
   {
    "duration": 4,
    "start_time": "2022-08-17T19:47:51.172Z"
   },
   {
    "duration": 664,
    "start_time": "2022-08-17T19:47:51.352Z"
   },
   {
    "duration": 13,
    "start_time": "2022-08-17T19:47:52.018Z"
   },
   {
    "duration": 116,
    "start_time": "2022-08-17T19:47:52.032Z"
   },
   {
    "duration": 101,
    "start_time": "2022-08-17T19:47:52.150Z"
   },
   {
    "duration": 165,
    "start_time": "2022-08-17T19:47:52.253Z"
   },
   {
    "duration": 26,
    "start_time": "2022-08-17T19:47:52.728Z"
   },
   {
    "duration": 32,
    "start_time": "2022-08-17T19:47:52.903Z"
   },
   {
    "duration": 28,
    "start_time": "2022-08-17T19:47:53.129Z"
   },
   {
    "duration": 26,
    "start_time": "2022-08-17T19:47:53.287Z"
   },
   {
    "duration": 50,
    "start_time": "2022-08-17T19:47:53.482Z"
   },
   {
    "duration": 38,
    "start_time": "2022-08-17T19:47:53.657Z"
   },
   {
    "duration": 190,
    "start_time": "2022-08-17T19:47:54.035Z"
   },
   {
    "duration": 87,
    "start_time": "2022-08-17T19:47:54.230Z"
   },
   {
    "duration": 169,
    "start_time": "2022-08-17T19:47:54.634Z"
   },
   {
    "duration": 6,
    "start_time": "2022-08-17T19:47:54.805Z"
   },
   {
    "duration": 162,
    "start_time": "2022-08-17T19:47:55.197Z"
   },
   {
    "duration": 5,
    "start_time": "2022-08-17T19:47:55.379Z"
   },
   {
    "duration": 19,
    "start_time": "2022-08-17T19:47:55.582Z"
   },
   {
    "duration": 5,
    "start_time": "2022-08-17T19:47:55.778Z"
   },
   {
    "duration": 189,
    "start_time": "2022-08-17T19:47:56.170Z"
   },
   {
    "duration": 6,
    "start_time": "2022-08-17T19:47:56.361Z"
   },
   {
    "duration": 5,
    "start_time": "2022-08-17T19:47:56.555Z"
   },
   {
    "duration": 134,
    "start_time": "2022-08-17T19:47:56.942Z"
   },
   {
    "duration": 7,
    "start_time": "2022-08-17T19:47:57.230Z"
   },
   {
    "duration": 340,
    "start_time": "2022-08-17T19:47:57.549Z"
   },
   {
    "duration": 366,
    "start_time": "2022-08-17T19:47:57.891Z"
   },
   {
    "duration": 435,
    "start_time": "2022-08-17T19:47:58.259Z"
   },
   {
    "duration": 67,
    "start_time": "2022-08-17T19:47:58.696Z"
   },
   {
    "duration": 523,
    "start_time": "2022-08-17T19:47:58.974Z"
   },
   {
    "duration": 429,
    "start_time": "2022-08-17T19:48:00.773Z"
   },
   {
    "duration": 148,
    "start_time": "2022-08-17T19:48:01.489Z"
   },
   {
    "duration": 32,
    "start_time": "2022-08-17T19:48:02.647Z"
   },
   {
    "duration": 14,
    "start_time": "2022-08-17T19:48:08.284Z"
   },
   {
    "duration": 180,
    "start_time": "2022-08-17T19:48:15.655Z"
   },
   {
    "duration": 14,
    "start_time": "2022-08-17T19:48:17.062Z"
   },
   {
    "duration": 66,
    "start_time": "2022-08-17T19:48:21.381Z"
   },
   {
    "duration": 112,
    "start_time": "2022-08-17T19:48:27.100Z"
   },
   {
    "duration": 4,
    "start_time": "2022-08-17T19:57:23.844Z"
   },
   {
    "duration": 635,
    "start_time": "2022-08-17T19:57:24.260Z"
   },
   {
    "duration": 501,
    "start_time": "2022-08-17T19:57:32.332Z"
   },
   {
    "duration": 160,
    "start_time": "2022-08-17T19:57:33.483Z"
   },
   {
    "duration": 45,
    "start_time": "2022-08-17T19:57:34.974Z"
   },
   {
    "duration": 14,
    "start_time": "2022-08-17T19:57:36.740Z"
   },
   {
    "duration": 223,
    "start_time": "2022-08-17T19:57:38.376Z"
   },
   {
    "duration": 16,
    "start_time": "2022-08-17T19:57:39.462Z"
   },
   {
    "duration": 124,
    "start_time": "2022-08-17T19:59:47.123Z"
   },
   {
    "duration": 30,
    "start_time": "2022-08-17T20:12:39.114Z"
   },
   {
    "duration": 29,
    "start_time": "2022-08-17T20:12:45.350Z"
   },
   {
    "duration": 29,
    "start_time": "2022-08-17T20:12:56.333Z"
   },
   {
    "duration": 29,
    "start_time": "2022-08-17T20:13:00.800Z"
   },
   {
    "duration": 32,
    "start_time": "2022-08-17T20:13:08.476Z"
   },
   {
    "duration": 33,
    "start_time": "2022-08-17T20:13:13.343Z"
   },
   {
    "duration": 36,
    "start_time": "2022-08-17T20:13:26.705Z"
   },
   {
    "duration": 34,
    "start_time": "2022-08-17T20:14:10.285Z"
   },
   {
    "duration": 9,
    "start_time": "2022-08-17T20:14:31.520Z"
   },
   {
    "duration": 37,
    "start_time": "2022-08-17T20:14:52.126Z"
   },
   {
    "duration": 35,
    "start_time": "2022-08-17T20:14:55.682Z"
   },
   {
    "duration": 10,
    "start_time": "2022-08-17T20:15:07.782Z"
   },
   {
    "duration": 30,
    "start_time": "2022-08-17T20:15:18.180Z"
   },
   {
    "duration": 37,
    "start_time": "2022-08-17T20:18:51.972Z"
   },
   {
    "duration": 28,
    "start_time": "2022-08-17T20:20:44.336Z"
   },
   {
    "duration": 30,
    "start_time": "2022-08-17T20:20:54.229Z"
   },
   {
    "duration": 48,
    "start_time": "2022-08-17T20:21:26.235Z"
   },
   {
    "duration": 4,
    "start_time": "2022-08-17T20:25:12.071Z"
   },
   {
    "duration": 724,
    "start_time": "2022-08-17T20:25:12.498Z"
   },
   {
    "duration": 457,
    "start_time": "2022-08-17T20:25:18.280Z"
   },
   {
    "duration": 172,
    "start_time": "2022-08-17T20:25:27.970Z"
   },
   {
    "duration": 44,
    "start_time": "2022-08-17T20:26:15.931Z"
   },
   {
    "duration": 13,
    "start_time": "2022-08-17T20:26:17.027Z"
   },
   {
    "duration": 235,
    "start_time": "2022-08-17T20:26:22.422Z"
   },
   {
    "duration": 21,
    "start_time": "2022-08-17T20:26:25.503Z"
   },
   {
    "duration": 30,
    "start_time": "2022-08-17T20:26:33.954Z"
   },
   {
    "duration": 36,
    "start_time": "2022-08-17T20:26:34.303Z"
   },
   {
    "duration": 3,
    "start_time": "2022-08-17T20:27:25.962Z"
   },
   {
    "duration": 11,
    "start_time": "2022-08-17T20:27:49.767Z"
   },
   {
    "duration": 9,
    "start_time": "2022-08-17T20:30:00.587Z"
   },
   {
    "duration": 2,
    "start_time": "2022-08-17T20:30:09.129Z"
   },
   {
    "duration": 5,
    "start_time": "2022-08-17T20:30:17.980Z"
   },
   {
    "duration": 4,
    "start_time": "2022-08-17T20:30:23.476Z"
   },
   {
    "duration": 375,
    "start_time": "2022-08-17T20:41:31.793Z"
   },
   {
    "duration": 82,
    "start_time": "2022-08-17T20:41:42.456Z"
   },
   {
    "duration": 59,
    "start_time": "2022-08-17T20:41:52.380Z"
   },
   {
    "duration": 71,
    "start_time": "2022-08-17T20:43:03.381Z"
   },
   {
    "duration": 73,
    "start_time": "2022-08-17T20:43:30.439Z"
   },
   {
    "duration": 74,
    "start_time": "2022-08-17T20:43:49.343Z"
   },
   {
    "duration": 72,
    "start_time": "2022-08-17T20:43:55.159Z"
   },
   {
    "duration": 5,
    "start_time": "2022-08-17T20:56:44.146Z"
   },
   {
    "duration": 280,
    "start_time": "2022-08-17T20:56:55.875Z"
   },
   {
    "duration": 298,
    "start_time": "2022-08-17T20:59:41.658Z"
   },
   {
    "duration": 4,
    "start_time": "2022-08-17T21:03:19.520Z"
   },
   {
    "duration": 3,
    "start_time": "2022-08-17T21:04:05.942Z"
   },
   {
    "duration": 12,
    "start_time": "2022-08-17T21:04:16.047Z"
   },
   {
    "duration": 4,
    "start_time": "2022-08-17T21:04:34.649Z"
   },
   {
    "duration": 89,
    "start_time": "2022-08-17T21:09:47.497Z"
   },
   {
    "duration": 9,
    "start_time": "2022-08-17T21:09:57.821Z"
   },
   {
    "duration": 236,
    "start_time": "2022-08-17T21:11:54.028Z"
   },
   {
    "duration": 231,
    "start_time": "2022-08-17T21:15:28.221Z"
   },
   {
    "duration": 25914,
    "start_time": "2022-08-17T21:16:29.527Z"
   },
   {
    "duration": 140,
    "start_time": "2022-08-17T21:17:00.848Z"
   },
   {
    "duration": 3,
    "start_time": "2022-08-17T21:17:10.189Z"
   },
   {
    "duration": 788,
    "start_time": "2022-08-17T21:17:10.301Z"
   },
   {
    "duration": 21,
    "start_time": "2022-08-17T21:17:11.091Z"
   },
   {
    "duration": 131,
    "start_time": "2022-08-17T21:17:11.114Z"
   },
   {
    "duration": 106,
    "start_time": "2022-08-17T21:17:11.247Z"
   },
   {
    "duration": 189,
    "start_time": "2022-08-17T21:17:11.355Z"
   },
   {
    "duration": 35,
    "start_time": "2022-08-17T21:17:11.600Z"
   },
   {
    "duration": 36,
    "start_time": "2022-08-17T21:17:11.789Z"
   },
   {
    "duration": 29,
    "start_time": "2022-08-17T21:17:11.960Z"
   },
   {
    "duration": 28,
    "start_time": "2022-08-17T21:17:12.142Z"
   },
   {
    "duration": 29,
    "start_time": "2022-08-17T21:17:12.369Z"
   },
   {
    "duration": 29,
    "start_time": "2022-08-17T21:17:12.562Z"
   },
   {
    "duration": 97,
    "start_time": "2022-08-17T21:17:13.258Z"
   },
   {
    "duration": 97,
    "start_time": "2022-08-17T21:17:13.569Z"
   },
   {
    "duration": 184,
    "start_time": "2022-08-17T21:17:14.170Z"
   },
   {
    "duration": 6,
    "start_time": "2022-08-17T21:17:14.369Z"
   },
   {
    "duration": 192,
    "start_time": "2022-08-17T21:17:15.428Z"
   },
   {
    "duration": 8,
    "start_time": "2022-08-17T21:17:16.206Z"
   },
   {
    "duration": 19,
    "start_time": "2022-08-17T21:17:16.532Z"
   },
   {
    "duration": 5,
    "start_time": "2022-08-17T21:17:16.778Z"
   },
   {
    "duration": 164,
    "start_time": "2022-08-17T21:17:17.228Z"
   },
   {
    "duration": 6,
    "start_time": "2022-08-17T21:17:17.724Z"
   },
   {
    "duration": 5,
    "start_time": "2022-08-17T21:17:17.732Z"
   },
   {
    "duration": 138,
    "start_time": "2022-08-17T21:17:18.134Z"
   },
   {
    "duration": 8,
    "start_time": "2022-08-17T21:17:18.358Z"
   },
   {
    "duration": 360,
    "start_time": "2022-08-17T21:17:18.921Z"
   },
   {
    "duration": 366,
    "start_time": "2022-08-17T21:17:20.611Z"
   },
   {
    "duration": 452,
    "start_time": "2022-08-17T21:17:21.038Z"
   },
   {
    "duration": 65,
    "start_time": "2022-08-17T21:17:21.576Z"
   },
   {
    "duration": 645,
    "start_time": "2022-08-17T21:17:21.839Z"
   },
   {
    "duration": 473,
    "start_time": "2022-08-17T21:17:23.263Z"
   },
   {
    "duration": 157,
    "start_time": "2022-08-17T21:17:24.946Z"
   },
   {
    "duration": 44,
    "start_time": "2022-08-17T21:17:26.676Z"
   },
   {
    "duration": 22,
    "start_time": "2022-08-17T21:17:28.603Z"
   },
   {
    "duration": 24578,
    "start_time": "2022-08-17T21:17:56.383Z"
   },
   {
    "duration": 128,
    "start_time": "2022-08-17T21:18:26.778Z"
   },
   {
    "duration": 16,
    "start_time": "2022-08-17T21:22:48.525Z"
   },
   {
    "duration": 5,
    "start_time": "2022-08-17T21:30:03.956Z"
   },
   {
    "duration": 2054,
    "start_time": "2022-08-17T21:30:16.542Z"
   },
   {
    "duration": 10,
    "start_time": "2022-08-17T21:30:25.413Z"
   },
   {
    "duration": 92,
    "start_time": "2022-08-17T21:31:13.886Z"
   },
   {
    "duration": 88,
    "start_time": "2022-08-17T21:31:22.045Z"
   },
   {
    "duration": 240,
    "start_time": "2022-08-17T21:31:40.109Z"
   },
   {
    "duration": 225,
    "start_time": "2022-08-17T21:32:10.834Z"
   },
   {
    "duration": 189,
    "start_time": "2022-08-17T21:32:22.673Z"
   },
   {
    "duration": 77,
    "start_time": "2022-08-17T21:36:37.726Z"
   },
   {
    "duration": 9,
    "start_time": "2022-08-17T21:36:56.974Z"
   },
   {
    "duration": 11,
    "start_time": "2022-08-17T21:37:15.259Z"
   },
   {
    "duration": 12,
    "start_time": "2022-08-17T21:37:32.252Z"
   },
   {
    "duration": 75,
    "start_time": "2022-08-17T21:39:30.450Z"
   },
   {
    "duration": 3,
    "start_time": "2022-08-17T21:40:38.166Z"
   },
   {
    "duration": 705,
    "start_time": "2022-08-17T21:40:38.422Z"
   },
   {
    "duration": 439,
    "start_time": "2022-08-17T21:40:43.084Z"
   },
   {
    "duration": 153,
    "start_time": "2022-08-17T21:40:43.524Z"
   },
   {
    "duration": 42,
    "start_time": "2022-08-17T21:40:43.899Z"
   },
   {
    "duration": 13,
    "start_time": "2022-08-17T21:40:44.299Z"
   },
   {
    "duration": 228,
    "start_time": "2022-08-17T21:40:44.569Z"
   },
   {
    "duration": 2,
    "start_time": "2022-08-17T21:40:51.269Z"
   },
   {
    "duration": 631,
    "start_time": "2022-08-17T21:40:51.540Z"
   },
   {
    "duration": 486,
    "start_time": "2022-08-17T21:40:55.948Z"
   },
   {
    "duration": 154,
    "start_time": "2022-08-17T21:40:56.555Z"
   },
   {
    "duration": 50,
    "start_time": "2022-08-17T21:40:58.995Z"
   },
   {
    "duration": 13,
    "start_time": "2022-08-17T21:41:17.800Z"
   },
   {
    "duration": 24724,
    "start_time": "2022-08-17T21:41:28.209Z"
   },
   {
    "duration": 129,
    "start_time": "2022-08-17T21:42:06.577Z"
   },
   {
    "duration": 22,
    "start_time": "2022-08-17T21:42:36.083Z"
   },
   {
    "duration": 3391,
    "start_time": "2022-08-17T21:42:43.556Z"
   },
   {
    "duration": 3307,
    "start_time": "2022-08-17T21:43:06.672Z"
   },
   {
    "duration": 142,
    "start_time": "2022-08-17T21:43:13.474Z"
   },
   {
    "duration": 106,
    "start_time": "2022-08-17T21:44:36.008Z"
   },
   {
    "duration": 72,
    "start_time": "2022-08-17T21:44:42.899Z"
   },
   {
    "duration": 127,
    "start_time": "2022-08-17T21:44:47.200Z"
   },
   {
    "duration": 1211,
    "start_time": "2022-08-17T21:44:52.085Z"
   },
   {
    "duration": 1921,
    "start_time": "2022-08-18T06:16:29.049Z"
   },
   {
    "duration": 3484,
    "start_time": "2022-08-18T06:16:30.981Z"
   },
   {
    "duration": 566,
    "start_time": "2022-08-18T06:16:40.754Z"
   },
   {
    "duration": 214,
    "start_time": "2022-08-18T06:16:43.331Z"
   },
   {
    "duration": 60,
    "start_time": "2022-08-18T06:16:48.386Z"
   },
   {
    "duration": 4,
    "start_time": "2022-08-18T06:53:41.778Z"
   },
   {
    "duration": 712,
    "start_time": "2022-08-18T06:53:41.905Z"
   },
   {
    "duration": 14,
    "start_time": "2022-08-18T06:53:42.619Z"
   },
   {
    "duration": 137,
    "start_time": "2022-08-18T06:53:42.634Z"
   },
   {
    "duration": 112,
    "start_time": "2022-08-18T06:53:42.772Z"
   },
   {
    "duration": 172,
    "start_time": "2022-08-18T06:53:42.885Z"
   },
   {
    "duration": 41,
    "start_time": "2022-08-18T06:53:43.059Z"
   },
   {
    "duration": 29,
    "start_time": "2022-08-18T06:53:43.118Z"
   },
   {
    "duration": 29,
    "start_time": "2022-08-18T06:53:43.314Z"
   },
   {
    "duration": 31,
    "start_time": "2022-08-18T06:53:43.482Z"
   },
   {
    "duration": 34,
    "start_time": "2022-08-18T06:53:44.291Z"
   },
   {
    "duration": 29,
    "start_time": "2022-08-18T06:53:44.488Z"
   },
   {
    "duration": 89,
    "start_time": "2022-08-18T06:53:44.886Z"
   },
   {
    "duration": 102,
    "start_time": "2022-08-18T06:53:44.989Z"
   },
   {
    "duration": 222,
    "start_time": "2022-08-18T06:53:45.360Z"
   },
   {
    "duration": 5,
    "start_time": "2022-08-18T06:53:45.585Z"
   },
   {
    "duration": 185,
    "start_time": "2022-08-18T06:53:45.817Z"
   },
   {
    "duration": 6,
    "start_time": "2022-08-18T06:53:46.013Z"
   },
   {
    "duration": 29,
    "start_time": "2022-08-18T06:53:46.162Z"
   },
   {
    "duration": 6,
    "start_time": "2022-08-18T06:53:46.339Z"
   },
   {
    "duration": 208,
    "start_time": "2022-08-18T06:53:46.719Z"
   },
   {
    "duration": 6,
    "start_time": "2022-08-18T06:53:46.929Z"
   },
   {
    "duration": 4,
    "start_time": "2022-08-18T06:53:47.087Z"
   },
   {
    "duration": 154,
    "start_time": "2022-08-18T06:53:47.399Z"
   },
   {
    "duration": 16,
    "start_time": "2022-08-18T06:53:47.559Z"
   },
   {
    "duration": 384,
    "start_time": "2022-08-18T06:53:47.913Z"
   },
   {
    "duration": 375,
    "start_time": "2022-08-18T06:53:48.299Z"
   },
   {
    "duration": 481,
    "start_time": "2022-08-18T06:53:48.675Z"
   },
   {
    "duration": 74,
    "start_time": "2022-08-18T06:53:49.158Z"
   },
   {
    "duration": 674,
    "start_time": "2022-08-18T06:53:49.234Z"
   },
   {
    "duration": 471,
    "start_time": "2022-08-18T06:53:49.910Z"
   },
   {
    "duration": 165,
    "start_time": "2022-08-18T06:53:52.735Z"
   },
   {
    "duration": 49,
    "start_time": "2022-08-18T06:53:54.434Z"
   },
   {
    "duration": 288,
    "start_time": "2022-08-18T06:56:15.969Z"
   },
   {
    "duration": 4729,
    "start_time": "2022-08-18T06:57:22.502Z"
   },
   {
    "duration": 76,
    "start_time": "2022-08-18T07:01:15.219Z"
   },
   {
    "duration": 185,
    "start_time": "2022-08-18T07:07:48.293Z"
   },
   {
    "duration": 400,
    "start_time": "2022-08-18T07:08:27.205Z"
   },
   {
    "duration": 229,
    "start_time": "2022-08-18T07:09:06.613Z"
   },
   {
    "duration": 1675,
    "start_time": "2022-08-18T07:09:31.026Z"
   },
   {
    "duration": 1869,
    "start_time": "2022-08-18T09:00:52.265Z"
   },
   {
    "duration": 1343,
    "start_time": "2022-08-18T09:00:54.137Z"
   },
   {
    "duration": 30,
    "start_time": "2022-08-18T09:00:56.781Z"
   },
   {
    "duration": 126,
    "start_time": "2022-08-18T09:00:57.225Z"
   },
   {
    "duration": 154,
    "start_time": "2022-08-18T09:00:57.428Z"
   },
   {
    "duration": 193,
    "start_time": "2022-08-18T09:00:57.594Z"
   },
   {
    "duration": 31,
    "start_time": "2022-08-18T09:00:58.029Z"
   },
   {
    "duration": 28,
    "start_time": "2022-08-18T09:00:58.230Z"
   },
   {
    "duration": 44,
    "start_time": "2022-08-18T09:00:58.410Z"
   },
   {
    "duration": 28,
    "start_time": "2022-08-18T09:00:58.651Z"
   },
   {
    "duration": 30,
    "start_time": "2022-08-18T09:00:58.731Z"
   },
   {
    "duration": 681,
    "start_time": "2022-08-18T09:01:05.517Z"
   },
   {
    "duration": 245,
    "start_time": "2022-08-18T09:01:06.206Z"
   },
   {
    "duration": 61,
    "start_time": "2022-08-18T09:01:06.453Z"
   },
   {
    "duration": 6477,
    "start_time": "2022-08-18T09:01:06.519Z"
   },
   {
    "duration": 176,
    "start_time": "2022-08-18T09:01:12.999Z"
   },
   {
    "duration": 74,
    "start_time": "2022-08-18T09:06:42.243Z"
   },
   {
    "duration": 7,
    "start_time": "2022-08-18T09:06:46.474Z"
   },
   {
    "duration": 1518,
    "start_time": "2022-08-18T09:06:57.232Z"
   },
   {
    "duration": 937,
    "start_time": "2022-08-18T09:06:58.752Z"
   },
   {
    "duration": 651,
    "start_time": "2022-08-18T09:07:02.433Z"
   },
   {
    "duration": 227,
    "start_time": "2022-08-18T09:07:03.086Z"
   },
   {
    "duration": 43,
    "start_time": "2022-08-18T09:07:03.322Z"
   },
   {
    "duration": 559,
    "start_time": "2022-08-18T09:08:14.485Z"
   },
   {
    "duration": 128,
    "start_time": "2022-08-18T09:08:32.649Z"
   },
   {
    "duration": 10,
    "start_time": "2022-08-18T09:08:42.335Z"
   },
   {
    "duration": 500,
    "start_time": "2022-08-18T09:08:48.167Z"
   },
   {
    "duration": 561,
    "start_time": "2022-08-18T09:29:14.928Z"
   },
   {
    "duration": 6461,
    "start_time": "2022-08-18T09:29:23.856Z"
   },
   {
    "duration": 269,
    "start_time": "2022-08-18T09:29:42.547Z"
   },
   {
    "duration": 555,
    "start_time": "2022-08-18T09:29:47.235Z"
   },
   {
    "duration": 1320,
    "start_time": "2022-08-18T09:30:15.448Z"
   },
   {
    "duration": 1363,
    "start_time": "2022-08-18T09:30:30.955Z"
   },
   {
    "duration": 1169,
    "start_time": "2022-08-18T09:31:24.090Z"
   },
   {
    "duration": 1809,
    "start_time": "2022-08-18T09:34:24.081Z"
   },
   {
    "duration": 1516,
    "start_time": "2022-08-18T09:34:50.083Z"
   },
   {
    "duration": 892,
    "start_time": "2022-08-18T09:34:51.602Z"
   },
   {
    "duration": 215,
    "start_time": "2022-08-18T09:35:07.263Z"
   },
   {
    "duration": 9,
    "start_time": "2022-08-18T09:35:11.437Z"
   },
   {
    "duration": 215,
    "start_time": "2022-08-18T09:35:27.726Z"
   },
   {
    "duration": 3,
    "start_time": "2022-08-18T09:36:01.131Z"
   },
   {
    "duration": 90,
    "start_time": "2022-08-18T09:36:32.739Z"
   },
   {
    "duration": 1369,
    "start_time": "2022-08-18T09:43:13.594Z"
   },
   {
    "duration": 1031,
    "start_time": "2022-08-18T09:43:28.386Z"
   },
   {
    "duration": 1024,
    "start_time": "2022-08-18T09:43:33.425Z"
   },
   {
    "duration": 4,
    "start_time": "2022-08-18T09:43:48.928Z"
   },
   {
    "duration": 942,
    "start_time": "2022-08-18T09:43:49.087Z"
   },
   {
    "duration": 22,
    "start_time": "2022-08-18T09:43:50.033Z"
   },
   {
    "duration": 662,
    "start_time": "2022-08-18T09:43:53.772Z"
   },
   {
    "duration": 195,
    "start_time": "2022-08-18T09:43:54.436Z"
   },
   {
    "duration": 62,
    "start_time": "2022-08-18T09:43:55.596Z"
   },
   {
    "duration": 442,
    "start_time": "2022-08-18T09:43:57.443Z"
   },
   {
    "duration": 7,
    "start_time": "2022-08-18T09:44:00.245Z"
   },
   {
    "duration": 5,
    "start_time": "2022-08-18T09:44:17.649Z"
   },
   {
    "duration": 7,
    "start_time": "2022-08-18T09:44:23.025Z"
   },
   {
    "duration": 128,
    "start_time": "2022-08-18T09:45:07.497Z"
   },
   {
    "duration": 426,
    "start_time": "2022-08-18T09:49:40.854Z"
   },
   {
    "duration": 5201,
    "start_time": "2022-08-18T09:50:15.936Z"
   },
   {
    "duration": 899,
    "start_time": "2022-08-18T09:51:08.652Z"
   },
   {
    "duration": 23,
    "start_time": "2022-08-18T09:51:16.658Z"
   },
   {
    "duration": 48,
    "start_time": "2022-08-18T09:52:01.755Z"
   },
   {
    "duration": 35,
    "start_time": "2022-08-18T09:52:16.070Z"
   },
   {
    "duration": 35,
    "start_time": "2022-08-18T09:52:34.875Z"
   },
   {
    "duration": 29,
    "start_time": "2022-08-18T09:53:10.845Z"
   },
   {
    "duration": 34,
    "start_time": "2022-08-18T09:58:13.619Z"
   },
   {
    "duration": 39,
    "start_time": "2022-08-18T10:02:06.268Z"
   },
   {
    "duration": 69,
    "start_time": "2022-08-18T10:02:23.931Z"
   },
   {
    "duration": 30,
    "start_time": "2022-08-18T10:07:19.132Z"
   },
   {
    "duration": 28,
    "start_time": "2022-08-18T10:13:07.231Z"
   },
   {
    "duration": 31,
    "start_time": "2022-08-18T10:13:09.778Z"
   },
   {
    "duration": 1221,
    "start_time": "2022-08-18T10:13:30.632Z"
   },
   {
    "duration": 7,
    "start_time": "2022-08-18T10:13:41.188Z"
   },
   {
    "duration": 7,
    "start_time": "2022-08-18T10:13:52.627Z"
   },
   {
    "duration": 6,
    "start_time": "2022-08-18T10:14:15.150Z"
   },
   {
    "duration": 7,
    "start_time": "2022-08-18T10:14:27.062Z"
   },
   {
    "duration": 6,
    "start_time": "2022-08-18T10:14:30.286Z"
   },
   {
    "duration": 6,
    "start_time": "2022-08-18T10:14:34.536Z"
   },
   {
    "duration": 7,
    "start_time": "2022-08-18T10:14:47.656Z"
   },
   {
    "duration": 1571,
    "start_time": "2022-08-18T10:15:21.773Z"
   },
   {
    "duration": 885,
    "start_time": "2022-08-18T10:15:23.347Z"
   },
   {
    "duration": 105,
    "start_time": "2022-08-18T10:15:29.926Z"
   },
   {
    "duration": 7,
    "start_time": "2022-08-18T10:15:33.139Z"
   },
   {
    "duration": 6,
    "start_time": "2022-08-18T10:16:12.155Z"
   },
   {
    "duration": 610,
    "start_time": "2022-08-18T10:16:22.855Z"
   },
   {
    "duration": 180,
    "start_time": "2022-08-18T10:16:23.535Z"
   },
   {
    "duration": 58,
    "start_time": "2022-08-18T10:16:25.585Z"
   },
   {
    "duration": 433,
    "start_time": "2022-08-18T10:16:28.535Z"
   },
   {
    "duration": 51,
    "start_time": "2022-08-18T10:16:31.485Z"
   },
   {
    "duration": 51,
    "start_time": "2022-08-18T10:16:33.987Z"
   },
   {
    "duration": 25,
    "start_time": "2022-08-18T10:17:00.734Z"
   },
   {
    "duration": 37,
    "start_time": "2022-08-18T10:17:03.494Z"
   },
   {
    "duration": 35,
    "start_time": "2022-08-18T10:17:04.910Z"
   },
   {
    "duration": 19,
    "start_time": "2022-08-18T10:18:56.977Z"
   },
   {
    "duration": 36,
    "start_time": "2022-08-18T10:19:07.424Z"
   },
   {
    "duration": 45,
    "start_time": "2022-08-18T10:20:34.024Z"
   },
   {
    "duration": 46,
    "start_time": "2022-08-18T10:20:39.394Z"
   },
   {
    "duration": 1506,
    "start_time": "2022-08-18T10:21:25.823Z"
   },
   {
    "duration": 39,
    "start_time": "2022-08-18T10:21:41.847Z"
   },
   {
    "duration": 12,
    "start_time": "2022-08-18T10:24:35.846Z"
   },
   {
    "duration": 37,
    "start_time": "2022-08-18T10:24:36.219Z"
   },
   {
    "duration": 8,
    "start_time": "2022-08-18T10:28:58.386Z"
   },
   {
    "duration": 1469,
    "start_time": "2022-08-18T10:29:07.698Z"
   },
   {
    "duration": 859,
    "start_time": "2022-08-18T10:29:09.169Z"
   },
   {
    "duration": 661,
    "start_time": "2022-08-18T10:29:13.881Z"
   },
   {
    "duration": 185,
    "start_time": "2022-08-18T10:29:15.581Z"
   },
   {
    "duration": 73,
    "start_time": "2022-08-18T10:29:43.719Z"
   },
   {
    "duration": 124,
    "start_time": "2022-08-18T10:29:47.506Z"
   },
   {
    "duration": 34,
    "start_time": "2022-08-18T10:29:55.238Z"
   },
   {
    "duration": 33,
    "start_time": "2022-08-18T10:30:07.700Z"
   },
   {
    "duration": 17,
    "start_time": "2022-08-18T10:30:22.170Z"
   },
   {
    "duration": 26,
    "start_time": "2022-08-18T10:31:08.667Z"
   },
   {
    "duration": 90,
    "start_time": "2022-08-18T10:31:27.136Z"
   },
   {
    "duration": 23,
    "start_time": "2022-08-18T10:31:42.035Z"
   },
   {
    "duration": 24,
    "start_time": "2022-08-18T10:31:48.230Z"
   },
   {
    "duration": 114,
    "start_time": "2022-08-18T10:31:53.515Z"
   },
   {
    "duration": 18,
    "start_time": "2022-08-18T10:32:09.943Z"
   },
   {
    "duration": 20,
    "start_time": "2022-08-18T10:32:31.945Z"
   },
   {
    "duration": 20,
    "start_time": "2022-08-18T10:32:58.345Z"
   },
   {
    "duration": 54,
    "start_time": "2022-08-18T10:33:05.532Z"
   },
   {
    "duration": 456,
    "start_time": "2022-08-18T10:33:06.916Z"
   },
   {
    "duration": 88,
    "start_time": "2022-08-18T10:33:09.464Z"
   },
   {
    "duration": 29,
    "start_time": "2022-08-18T10:33:11.326Z"
   },
   {
    "duration": 10,
    "start_time": "2022-08-18T10:33:14.080Z"
   },
   {
    "duration": 4,
    "start_time": "2022-08-18T10:33:18.480Z"
   },
   {
    "duration": 28,
    "start_time": "2022-08-18T10:33:21.088Z"
   },
   {
    "duration": 5,
    "start_time": "2022-08-18T10:35:26.252Z"
   },
   {
    "duration": 3,
    "start_time": "2022-08-18T10:35:28.658Z"
   },
   {
    "duration": 20,
    "start_time": "2022-08-18T10:35:29.026Z"
   },
   {
    "duration": 4,
    "start_time": "2022-08-18T10:35:33.715Z"
   },
   {
    "duration": 711,
    "start_time": "2022-08-18T10:35:33.885Z"
   },
   {
    "duration": 529,
    "start_time": "2022-08-18T10:35:38.336Z"
   },
   {
    "duration": 84,
    "start_time": "2022-08-18T10:35:38.866Z"
   },
   {
    "duration": 53,
    "start_time": "2022-08-18T10:35:39.013Z"
   },
   {
    "duration": 395,
    "start_time": "2022-08-18T10:35:39.358Z"
   },
   {
    "duration": 44,
    "start_time": "2022-08-18T10:35:40.091Z"
   },
   {
    "duration": 29,
    "start_time": "2022-08-18T10:35:41.112Z"
   },
   {
    "duration": 13,
    "start_time": "2022-08-18T10:35:41.595Z"
   },
   {
    "duration": 4,
    "start_time": "2022-08-18T10:35:42.283Z"
   },
   {
    "duration": 19,
    "start_time": "2022-08-18T10:35:42.779Z"
   },
   {
    "duration": 4,
    "start_time": "2022-08-18T10:35:59.982Z"
   },
   {
    "duration": 754,
    "start_time": "2022-08-18T10:36:00.277Z"
   },
   {
    "duration": 574,
    "start_time": "2022-08-18T10:36:04.086Z"
   },
   {
    "duration": 83,
    "start_time": "2022-08-18T10:36:04.662Z"
   },
   {
    "duration": 60,
    "start_time": "2022-08-18T10:36:05.450Z"
   },
   {
    "duration": 424,
    "start_time": "2022-08-18T10:36:06.430Z"
   },
   {
    "duration": 34,
    "start_time": "2022-08-18T10:36:15.422Z"
   },
   {
    "duration": 29,
    "start_time": "2022-08-18T10:36:15.879Z"
   },
   {
    "duration": 10,
    "start_time": "2022-08-18T10:36:17.520Z"
   },
   {
    "duration": 4,
    "start_time": "2022-08-18T10:36:18.759Z"
   },
   {
    "duration": 19,
    "start_time": "2022-08-18T10:36:20.915Z"
   },
   {
    "duration": 4,
    "start_time": "2022-08-18T10:36:36.747Z"
   },
   {
    "duration": 748,
    "start_time": "2022-08-18T10:36:36.988Z"
   },
   {
    "duration": 13,
    "start_time": "2022-08-18T10:36:37.738Z"
   },
   {
    "duration": 145,
    "start_time": "2022-08-18T10:36:41.382Z"
   },
   {
    "duration": 110,
    "start_time": "2022-08-18T10:36:42.608Z"
   },
   {
    "duration": 160,
    "start_time": "2022-08-18T10:36:44.610Z"
   },
   {
    "duration": 558,
    "start_time": "2022-08-18T10:36:51.742Z"
   },
   {
    "duration": 78,
    "start_time": "2022-08-18T10:36:55.051Z"
   },
   {
    "duration": 39,
    "start_time": "2022-08-18T10:36:57.093Z"
   },
   {
    "duration": 422,
    "start_time": "2022-08-18T10:37:00.929Z"
   },
   {
    "duration": 34,
    "start_time": "2022-08-18T10:37:05.324Z"
   },
   {
    "duration": 28,
    "start_time": "2022-08-18T10:37:07.469Z"
   },
   {
    "duration": 63,
    "start_time": "2022-08-18T10:37:15.363Z"
   },
   {
    "duration": 15,
    "start_time": "2022-08-18T10:37:20.353Z"
   },
   {
    "duration": 44,
    "start_time": "2022-08-18T10:37:21.717Z"
   },
   {
    "duration": 7,
    "start_time": "2022-08-18T10:37:41.288Z"
   },
   {
    "duration": 21,
    "start_time": "2022-08-18T10:37:44.214Z"
   },
   {
    "duration": 7,
    "start_time": "2022-08-18T10:37:53.455Z"
   },
   {
    "duration": 4,
    "start_time": "2022-08-18T10:38:26.925Z"
   },
   {
    "duration": 4,
    "start_time": "2022-08-18T10:38:27.748Z"
   },
   {
    "duration": 25,
    "start_time": "2022-08-18T10:38:27.970Z"
   },
   {
    "duration": 3,
    "start_time": "2022-08-18T10:38:32.243Z"
   },
   {
    "duration": 726,
    "start_time": "2022-08-18T10:38:32.443Z"
   },
   {
    "duration": 12,
    "start_time": "2022-08-18T10:38:33.172Z"
   },
   {
    "duration": 140,
    "start_time": "2022-08-18T10:38:33.186Z"
   },
   {
    "duration": 144,
    "start_time": "2022-08-18T10:38:33.328Z"
   },
   {
    "duration": 165,
    "start_time": "2022-08-18T10:38:33.516Z"
   },
   {
    "duration": 31,
    "start_time": "2022-08-18T10:38:33.866Z"
   },
   {
    "duration": 596,
    "start_time": "2022-08-18T10:38:38.042Z"
   },
   {
    "duration": 83,
    "start_time": "2022-08-18T10:38:38.640Z"
   },
   {
    "duration": 47,
    "start_time": "2022-08-18T10:38:38.810Z"
   },
   {
    "duration": 387,
    "start_time": "2022-08-18T10:38:39.100Z"
   },
   {
    "duration": 34,
    "start_time": "2022-08-18T10:38:39.842Z"
   },
   {
    "duration": 33,
    "start_time": "2022-08-18T10:38:40.778Z"
   },
   {
    "duration": 26,
    "start_time": "2022-08-18T10:38:42.569Z"
   },
   {
    "duration": 15,
    "start_time": "2022-08-18T10:38:43.337Z"
   },
   {
    "duration": 36,
    "start_time": "2022-08-18T10:38:43.814Z"
   },
   {
    "duration": 15,
    "start_time": "2022-08-18T10:38:49.790Z"
   },
   {
    "duration": 38,
    "start_time": "2022-08-18T10:38:51.912Z"
   },
   {
    "duration": 33,
    "start_time": "2022-08-18T10:39:57.682Z"
   },
   {
    "duration": 11,
    "start_time": "2022-08-18T11:43:13.282Z"
   },
   {
    "duration": 1636,
    "start_time": "2022-08-18T12:27:08.913Z"
   },
   {
    "duration": 895,
    "start_time": "2022-08-18T12:27:10.552Z"
   },
   {
    "duration": 27,
    "start_time": "2022-08-18T12:27:11.450Z"
   },
   {
    "duration": 200,
    "start_time": "2022-08-18T12:27:11.479Z"
   },
   {
    "duration": 152,
    "start_time": "2022-08-18T12:27:11.680Z"
   },
   {
    "duration": 223,
    "start_time": "2022-08-18T12:27:11.834Z"
   },
   {
    "duration": 27,
    "start_time": "2022-08-18T12:27:12.059Z"
   },
   {
    "duration": 35,
    "start_time": "2022-08-18T12:27:12.100Z"
   },
   {
    "duration": 31,
    "start_time": "2022-08-18T12:27:12.137Z"
   },
   {
    "duration": 50,
    "start_time": "2022-08-18T12:27:12.170Z"
   },
   {
    "duration": 42,
    "start_time": "2022-08-18T12:27:12.223Z"
   },
   {
    "duration": 38,
    "start_time": "2022-08-18T12:27:12.267Z"
   },
   {
    "duration": 146,
    "start_time": "2022-08-18T12:27:12.306Z"
   },
   {
    "duration": 161,
    "start_time": "2022-08-18T12:27:12.455Z"
   },
   {
    "duration": 209,
    "start_time": "2022-08-18T12:27:12.617Z"
   },
   {
    "duration": 8,
    "start_time": "2022-08-18T12:27:12.829Z"
   },
   {
    "duration": 187,
    "start_time": "2022-08-18T12:27:14.138Z"
   },
   {
    "duration": 8,
    "start_time": "2022-08-18T12:27:14.499Z"
   },
   {
    "duration": 37,
    "start_time": "2022-08-18T12:27:14.512Z"
   },
   {
    "duration": 6,
    "start_time": "2022-08-18T12:27:14.747Z"
   },
   {
    "duration": 187,
    "start_time": "2022-08-18T12:27:15.068Z"
   },
   {
    "duration": 6,
    "start_time": "2022-08-18T12:27:15.387Z"
   },
   {
    "duration": 6,
    "start_time": "2022-08-18T12:27:15.449Z"
   },
   {
    "duration": 156,
    "start_time": "2022-08-18T12:27:15.792Z"
   },
   {
    "duration": 8,
    "start_time": "2022-08-18T12:27:16.021Z"
   },
   {
    "duration": 537,
    "start_time": "2022-08-18T12:27:16.299Z"
   },
   {
    "duration": 534,
    "start_time": "2022-08-18T12:27:16.838Z"
   },
   {
    "duration": 639,
    "start_time": "2022-08-18T12:27:17.373Z"
   },
   {
    "duration": 106,
    "start_time": "2022-08-18T12:27:18.014Z"
   },
   {
    "duration": 669,
    "start_time": "2022-08-18T12:27:18.123Z"
   },
   {
    "duration": 663,
    "start_time": "2022-08-18T12:27:19.147Z"
   },
   {
    "duration": 95,
    "start_time": "2022-08-18T12:27:20.995Z"
   },
   {
    "duration": 41,
    "start_time": "2022-08-18T12:27:26.321Z"
   },
   {
    "duration": 420,
    "start_time": "2022-08-18T12:27:28.948Z"
   },
   {
    "duration": 38,
    "start_time": "2022-08-18T12:27:50.282Z"
   },
   {
    "duration": 9,
    "start_time": "2022-08-18T12:46:44.061Z"
   },
   {
    "duration": 1672,
    "start_time": "2022-08-18T12:47:25.376Z"
   },
   {
    "duration": 1496,
    "start_time": "2022-08-18T12:47:36.016Z"
   },
   {
    "duration": 840,
    "start_time": "2022-08-18T12:47:37.514Z"
   },
   {
    "duration": 21,
    "start_time": "2022-08-18T12:47:38.356Z"
   },
   {
    "duration": 120,
    "start_time": "2022-08-18T12:48:36.324Z"
   },
   {
    "duration": 111,
    "start_time": "2022-08-18T12:48:36.451Z"
   },
   {
    "duration": 149,
    "start_time": "2022-08-18T12:48:36.617Z"
   },
   {
    "duration": 29,
    "start_time": "2022-08-18T12:48:37.101Z"
   },
   {
    "duration": 34,
    "start_time": "2022-08-18T12:48:37.261Z"
   },
   {
    "duration": 40,
    "start_time": "2022-08-18T12:48:37.439Z"
   },
   {
    "duration": 34,
    "start_time": "2022-08-18T12:48:37.590Z"
   },
   {
    "duration": 33,
    "start_time": "2022-08-18T12:48:46.545Z"
   },
   {
    "duration": 36,
    "start_time": "2022-08-18T12:48:46.764Z"
   },
   {
    "duration": 118,
    "start_time": "2022-08-18T12:48:47.535Z"
   },
   {
    "duration": 98,
    "start_time": "2022-08-18T12:48:51.220Z"
   },
   {
    "duration": 216,
    "start_time": "2022-08-18T12:48:59.961Z"
   },
   {
    "duration": 6,
    "start_time": "2022-08-18T12:49:00.618Z"
   },
   {
    "duration": 177,
    "start_time": "2022-08-18T12:49:08.839Z"
   },
   {
    "duration": 7,
    "start_time": "2022-08-18T12:49:09.550Z"
   },
   {
    "duration": 637,
    "start_time": "2022-08-18T12:54:19.874Z"
   },
   {
    "duration": 92,
    "start_time": "2022-08-18T12:54:20.513Z"
   },
   {
    "duration": 37,
    "start_time": "2022-08-18T12:54:20.741Z"
   },
   {
    "duration": 444,
    "start_time": "2022-08-18T12:54:21.558Z"
   },
   {
    "duration": 42,
    "start_time": "2022-08-18T12:54:25.016Z"
   },
   {
    "duration": 9,
    "start_time": "2022-08-18T12:54:29.619Z"
   },
   {
    "duration": 87,
    "start_time": "2022-08-18T12:56:44.148Z"
   },
   {
    "duration": 6654,
    "start_time": "2022-08-18T12:57:05.875Z"
   },
   {
    "duration": 195,
    "start_time": "2022-08-18T12:57:12.531Z"
   },
   {
    "duration": 158,
    "start_time": "2022-08-18T12:59:56.201Z"
   },
   {
    "duration": 1067,
    "start_time": "2022-08-18T13:00:09.407Z"
   },
   {
    "duration": 27,
    "start_time": "2022-08-18T13:04:12.521Z"
   },
   {
    "duration": 18,
    "start_time": "2022-08-18T13:05:47.118Z"
   },
   {
    "duration": 102,
    "start_time": "2022-08-18T13:05:54.891Z"
   },
   {
    "duration": 31,
    "start_time": "2022-08-18T13:07:16.415Z"
   },
   {
    "duration": 145,
    "start_time": "2022-08-18T13:07:21.814Z"
   },
   {
    "duration": 114,
    "start_time": "2022-08-18T13:07:36.083Z"
   },
   {
    "duration": 124,
    "start_time": "2022-08-18T13:08:58.373Z"
   },
   {
    "duration": 136,
    "start_time": "2022-08-18T13:09:24.985Z"
   },
   {
    "duration": 111,
    "start_time": "2022-08-18T13:10:49.998Z"
   },
   {
    "duration": 715,
    "start_time": "2022-08-18T13:11:00.685Z"
   },
   {
    "duration": 2333,
    "start_time": "2022-08-18T13:11:38.721Z"
   },
   {
    "duration": 1252,
    "start_time": "2022-08-18T13:11:41.057Z"
   },
   {
    "duration": 726,
    "start_time": "2022-08-18T13:11:46.604Z"
   },
   {
    "duration": 123,
    "start_time": "2022-08-18T13:11:47.332Z"
   },
   {
    "duration": 71,
    "start_time": "2022-08-18T13:11:47.457Z"
   },
   {
    "duration": 557,
    "start_time": "2022-08-18T13:11:47.539Z"
   },
   {
    "duration": 51,
    "start_time": "2022-08-18T13:11:50.502Z"
   },
   {
    "duration": 12,
    "start_time": "2022-08-18T13:11:51.064Z"
   },
   {
    "duration": 46,
    "start_time": "2022-08-18T13:11:51.846Z"
   },
   {
    "duration": 104,
    "start_time": "2022-08-18T13:11:53.052Z"
   },
   {
    "duration": 165,
    "start_time": "2022-08-18T13:12:00.590Z"
   },
   {
    "duration": 43,
    "start_time": "2022-08-18T13:12:14.998Z"
   },
   {
    "duration": 82,
    "start_time": "2022-08-18T13:12:16.338Z"
   },
   {
    "duration": 690,
    "start_time": "2022-08-18T13:12:20.648Z"
   },
   {
    "duration": 544,
    "start_time": "2022-08-18T13:13:15.188Z"
   },
   {
    "duration": 544,
    "start_time": "2022-08-18T13:13:19.749Z"
   },
   {
    "duration": 509,
    "start_time": "2022-08-18T13:14:19.616Z"
   },
   {
    "duration": 679,
    "start_time": "2022-08-18T13:15:18.497Z"
   },
   {
    "duration": 579,
    "start_time": "2022-08-18T13:16:05.436Z"
   },
   {
    "duration": 1459,
    "start_time": "2022-08-18T13:17:07.826Z"
   },
   {
    "duration": 958,
    "start_time": "2022-08-18T13:17:09.291Z"
   },
   {
    "duration": 686,
    "start_time": "2022-08-18T13:17:17.072Z"
   },
   {
    "duration": 92,
    "start_time": "2022-08-18T13:17:18.284Z"
   },
   {
    "duration": 63,
    "start_time": "2022-08-18T13:17:22.680Z"
   },
   {
    "duration": 728,
    "start_time": "2022-08-18T13:17:39.800Z"
   },
   {
    "duration": 399,
    "start_time": "2022-08-18T13:20:10.055Z"
   },
   {
    "duration": 294,
    "start_time": "2022-08-18T13:20:31.773Z"
   },
   {
    "duration": 1483,
    "start_time": "2022-08-18T13:21:47.087Z"
   },
   {
    "duration": 2169,
    "start_time": "2022-08-18T13:21:48.573Z"
   },
   {
    "duration": 695,
    "start_time": "2022-08-18T13:21:50.848Z"
   },
   {
    "duration": 115,
    "start_time": "2022-08-18T13:21:51.546Z"
   },
   {
    "duration": 75,
    "start_time": "2022-08-18T13:21:51.663Z"
   },
   {
    "duration": 464,
    "start_time": "2022-08-18T13:21:52.828Z"
   },
   {
    "duration": 30,
    "start_time": "2022-08-18T13:21:53.776Z"
   },
   {
    "duration": 16,
    "start_time": "2022-08-18T13:21:54.796Z"
   },
   {
    "duration": 43,
    "start_time": "2022-08-18T13:21:56.340Z"
   },
   {
    "duration": 91,
    "start_time": "2022-08-18T13:21:56.675Z"
   },
   {
    "duration": 600,
    "start_time": "2022-08-18T13:21:59.662Z"
   },
   {
    "duration": 379,
    "start_time": "2022-08-18T13:23:21.831Z"
   },
   {
    "duration": 1513,
    "start_time": "2022-08-18T13:23:55.476Z"
   },
   {
    "duration": 887,
    "start_time": "2022-08-18T13:23:56.991Z"
   },
   {
    "duration": 654,
    "start_time": "2022-08-18T13:24:08.617Z"
   },
   {
    "duration": 550,
    "start_time": "2022-08-18T13:24:24.893Z"
   },
   {
    "duration": 343,
    "start_time": "2022-08-18T13:24:56.876Z"
   },
   {
    "duration": 464,
    "start_time": "2022-08-18T13:25:02.123Z"
   },
   {
    "duration": 324,
    "start_time": "2022-08-18T13:28:42.510Z"
   },
   {
    "duration": 123,
    "start_time": "2022-08-18T13:29:08.359Z"
   },
   {
    "duration": 195,
    "start_time": "2022-08-18T13:29:31.443Z"
   },
   {
    "duration": 139,
    "start_time": "2022-08-18T13:30:03.856Z"
   },
   {
    "duration": 144,
    "start_time": "2022-08-18T13:30:23.536Z"
   },
   {
    "duration": 315,
    "start_time": "2022-08-18T13:34:10.470Z"
   },
   {
    "duration": 246,
    "start_time": "2022-08-18T13:35:08.620Z"
   },
   {
    "duration": 302,
    "start_time": "2022-08-18T13:35:23.695Z"
   },
   {
    "duration": 548,
    "start_time": "2022-08-18T13:35:28.998Z"
   },
   {
    "duration": 286,
    "start_time": "2022-08-18T13:35:38.443Z"
   },
   {
    "duration": 389,
    "start_time": "2022-08-18T13:36:33.840Z"
   },
   {
    "duration": 629,
    "start_time": "2022-08-18T13:36:45.769Z"
   },
   {
    "duration": 5560,
    "start_time": "2022-08-18T13:36:52.183Z"
   },
   {
    "duration": 191,
    "start_time": "2022-08-18T13:37:03.970Z"
   },
   {
    "duration": 1897,
    "start_time": "2022-08-18T13:37:28.392Z"
   },
   {
    "duration": 1134,
    "start_time": "2022-08-18T13:37:30.291Z"
   },
   {
    "duration": 24,
    "start_time": "2022-08-18T13:37:31.427Z"
   },
   {
    "duration": 721,
    "start_time": "2022-08-18T13:37:34.116Z"
   },
   {
    "duration": 111,
    "start_time": "2022-08-18T13:37:34.840Z"
   },
   {
    "duration": 66,
    "start_time": "2022-08-18T13:37:34.953Z"
   },
   {
    "duration": 471,
    "start_time": "2022-08-18T13:37:35.197Z"
   },
   {
    "duration": 38,
    "start_time": "2022-08-18T13:37:35.898Z"
   },
   {
    "duration": 11,
    "start_time": "2022-08-18T13:37:36.298Z"
   },
   {
    "duration": 40,
    "start_time": "2022-08-18T13:37:37.022Z"
   },
   {
    "duration": 86,
    "start_time": "2022-08-18T13:37:37.283Z"
   },
   {
    "duration": 5520,
    "start_time": "2022-08-18T13:37:39.756Z"
   },
   {
    "duration": 159,
    "start_time": "2022-08-18T13:37:45.278Z"
   },
   {
    "duration": 1715,
    "start_time": "2022-08-18T13:40:45.252Z"
   },
   {
    "duration": 946,
    "start_time": "2022-08-18T13:40:46.969Z"
   },
   {
    "duration": 23,
    "start_time": "2022-08-18T13:40:47.917Z"
   },
   {
    "duration": 134,
    "start_time": "2022-08-18T13:40:47.942Z"
   },
   {
    "duration": 138,
    "start_time": "2022-08-18T13:40:48.077Z"
   },
   {
    "duration": 216,
    "start_time": "2022-08-18T13:40:48.217Z"
   },
   {
    "duration": 709,
    "start_time": "2022-08-18T13:40:53.496Z"
   },
   {
    "duration": 104,
    "start_time": "2022-08-18T13:40:54.210Z"
   },
   {
    "duration": 46,
    "start_time": "2022-08-18T13:40:54.325Z"
   },
   {
    "duration": 463,
    "start_time": "2022-08-18T13:40:54.480Z"
   },
   {
    "duration": 34,
    "start_time": "2022-08-18T13:40:55.274Z"
   },
   {
    "duration": 12,
    "start_time": "2022-08-18T13:40:56.201Z"
   },
   {
    "duration": 37,
    "start_time": "2022-08-18T13:40:57.449Z"
   },
   {
    "duration": 82,
    "start_time": "2022-08-18T13:40:58.071Z"
   },
   {
    "duration": 5113,
    "start_time": "2022-08-18T13:40:59.328Z"
   },
   {
    "duration": 149,
    "start_time": "2022-08-18T13:41:04.444Z"
   },
   {
    "duration": 1346,
    "start_time": "2022-08-18T13:47:07.232Z"
   },
   {
    "duration": 115,
    "start_time": "2022-08-18T13:47:11.886Z"
   },
   {
    "duration": 3505,
    "start_time": "2022-08-18T13:48:04.177Z"
   },
   {
    "duration": 135,
    "start_time": "2022-08-18T13:48:15.756Z"
   },
   {
    "duration": 997,
    "start_time": "2022-08-18T13:48:38.398Z"
   },
   {
    "duration": 171,
    "start_time": "2022-08-18T13:48:58.485Z"
   },
   {
    "duration": 3197,
    "start_time": "2022-08-18T13:50:01.343Z"
   },
   {
    "duration": 129,
    "start_time": "2022-08-18T13:50:05.966Z"
   },
   {
    "duration": 2783,
    "start_time": "2022-08-18T13:51:04.026Z"
   },
   {
    "duration": 140,
    "start_time": "2022-08-18T13:51:08.397Z"
   },
   {
    "duration": 2298,
    "start_time": "2022-08-18T13:51:41.985Z"
   },
   {
    "duration": 113,
    "start_time": "2022-08-18T13:51:46.748Z"
   },
   {
    "duration": 2937,
    "start_time": "2022-08-18T13:52:19.956Z"
   },
   {
    "duration": 137,
    "start_time": "2022-08-18T13:52:33.807Z"
   },
   {
    "duration": 2248,
    "start_time": "2022-08-18T13:53:47.791Z"
   },
   {
    "duration": 160,
    "start_time": "2022-08-18T13:53:51.582Z"
   },
   {
    "duration": 1993,
    "start_time": "2022-08-18T13:54:29.815Z"
   },
   {
    "duration": 138,
    "start_time": "2022-08-18T13:54:33.700Z"
   },
   {
    "duration": 1748,
    "start_time": "2022-08-18T13:55:56.173Z"
   },
   {
    "duration": 116,
    "start_time": "2022-08-18T13:55:59.562Z"
   },
   {
    "duration": 1683,
    "start_time": "2022-08-18T13:56:24.979Z"
   },
   {
    "duration": 131,
    "start_time": "2022-08-18T13:56:27.823Z"
   },
   {
    "duration": 986,
    "start_time": "2022-08-18T13:57:27.048Z"
   },
   {
    "duration": 154,
    "start_time": "2022-08-18T13:57:30.851Z"
   },
   {
    "duration": 1064,
    "start_time": "2022-08-18T13:58:00.475Z"
   },
   {
    "duration": 128,
    "start_time": "2022-08-18T13:58:02.825Z"
   },
   {
    "duration": 981,
    "start_time": "2022-08-18T13:58:19.741Z"
   },
   {
    "duration": 133,
    "start_time": "2022-08-18T13:58:21.707Z"
   },
   {
    "duration": 2086,
    "start_time": "2022-08-18T13:58:52.915Z"
   },
   {
    "duration": 135,
    "start_time": "2022-08-18T13:58:57.115Z"
   },
   {
    "duration": 2348,
    "start_time": "2022-08-18T13:59:30.110Z"
   },
   {
    "duration": 124,
    "start_time": "2022-08-18T13:59:34.030Z"
   },
   {
    "duration": 2246,
    "start_time": "2022-08-18T14:00:08.489Z"
   },
   {
    "duration": 179,
    "start_time": "2022-08-18T14:00:12.267Z"
   },
   {
    "duration": 2376,
    "start_time": "2022-08-18T14:01:00.576Z"
   },
   {
    "duration": 123,
    "start_time": "2022-08-18T14:01:04.057Z"
   },
   {
    "duration": 1226,
    "start_time": "2022-08-18T14:02:12.839Z"
   },
   {
    "duration": 192,
    "start_time": "2022-08-18T14:02:15.758Z"
   },
   {
    "duration": 986,
    "start_time": "2022-08-18T14:04:07.022Z"
   },
   {
    "duration": 176,
    "start_time": "2022-08-18T14:04:11.069Z"
   },
   {
    "duration": 699,
    "start_time": "2022-08-18T14:04:38.982Z"
   },
   {
    "duration": 155,
    "start_time": "2022-08-18T14:04:43.465Z"
   },
   {
    "duration": 987,
    "start_time": "2022-08-18T14:05:24.946Z"
   },
   {
    "duration": 113,
    "start_time": "2022-08-18T14:05:26.664Z"
   },
   {
    "duration": 507,
    "start_time": "2022-08-18T14:07:12.294Z"
   },
   {
    "duration": 187,
    "start_time": "2022-08-18T14:07:14.317Z"
   },
   {
    "duration": 987,
    "start_time": "2022-08-18T14:07:38.456Z"
   },
   {
    "duration": 151,
    "start_time": "2022-08-18T14:07:40.667Z"
   },
   {
    "duration": 970,
    "start_time": "2022-08-18T14:08:22.249Z"
   },
   {
    "duration": 116,
    "start_time": "2022-08-18T14:08:24.142Z"
   },
   {
    "duration": 706,
    "start_time": "2022-08-18T14:09:00.090Z"
   },
   {
    "duration": 154,
    "start_time": "2022-08-18T14:09:02.461Z"
   },
   {
    "duration": 330,
    "start_time": "2022-08-18T14:09:32.012Z"
   },
   {
    "duration": 119,
    "start_time": "2022-08-18T14:09:33.552Z"
   },
   {
    "duration": 552,
    "start_time": "2022-08-18T14:10:05.486Z"
   },
   {
    "duration": 116,
    "start_time": "2022-08-18T14:10:07.330Z"
   },
   {
    "duration": 167,
    "start_time": "2022-08-18T14:16:34.264Z"
   },
   {
    "duration": 155,
    "start_time": "2022-08-18T14:16:34.857Z"
   },
   {
    "duration": 192,
    "start_time": "2022-08-18T14:18:34.517Z"
   },
   {
    "duration": 84,
    "start_time": "2022-08-18T14:18:38.670Z"
   },
   {
    "duration": 10552,
    "start_time": "2022-08-18T14:18:41.560Z"
   },
   {
    "duration": 10347,
    "start_time": "2022-08-18T14:18:58.264Z"
   },
   {
    "duration": 147,
    "start_time": "2022-08-18T14:19:10.467Z"
   },
   {
    "duration": 10183,
    "start_time": "2022-08-18T14:19:17.391Z"
   },
   {
    "duration": 190,
    "start_time": "2022-08-18T14:19:29.647Z"
   },
   {
    "duration": 5,
    "start_time": "2022-08-18T14:21:10.894Z"
   },
   {
    "duration": 5,
    "start_time": "2022-08-18T14:21:18.084Z"
   },
   {
    "duration": 1128,
    "start_time": "2022-08-18T14:21:28.020Z"
   },
   {
    "duration": 9,
    "start_time": "2022-08-18T14:23:29.277Z"
   },
   {
    "duration": 5,
    "start_time": "2022-08-18T14:23:32.292Z"
   },
   {
    "duration": 1138,
    "start_time": "2022-08-18T14:23:33.153Z"
   },
   {
    "duration": 1295,
    "start_time": "2022-08-18T14:42:50.819Z"
   },
   {
    "duration": 1510,
    "start_time": "2022-08-18T14:42:59.378Z"
   },
   {
    "duration": 124,
    "start_time": "2022-08-18T14:43:05.144Z"
   },
   {
    "duration": 1478,
    "start_time": "2022-08-18T14:43:52.297Z"
   },
   {
    "duration": 1477,
    "start_time": "2022-08-18T14:43:53.777Z"
   },
   {
    "duration": 18,
    "start_time": "2022-08-18T14:43:55.300Z"
   },
   {
    "duration": 634,
    "start_time": "2022-08-18T14:43:55.654Z"
   },
   {
    "duration": 80,
    "start_time": "2022-08-18T14:43:56.290Z"
   },
   {
    "duration": 51,
    "start_time": "2022-08-18T14:43:56.373Z"
   },
   {
    "duration": 384,
    "start_time": "2022-08-18T14:43:56.426Z"
   },
   {
    "duration": 33,
    "start_time": "2022-08-18T14:43:57.130Z"
   },
   {
    "duration": 9,
    "start_time": "2022-08-18T14:43:57.672Z"
   },
   {
    "duration": 32,
    "start_time": "2022-08-18T14:43:58.045Z"
   },
   {
    "duration": 71,
    "start_time": "2022-08-18T14:43:58.213Z"
   },
   {
    "duration": 4498,
    "start_time": "2022-08-18T14:44:00.777Z"
   },
   {
    "duration": 1154,
    "start_time": "2022-08-18T14:44:06.398Z"
   },
   {
    "duration": 109,
    "start_time": "2022-08-18T14:44:09.460Z"
   },
   {
    "duration": 1126,
    "start_time": "2022-08-18T14:44:27.624Z"
   },
   {
    "duration": 121,
    "start_time": "2022-08-18T14:44:28.751Z"
   },
   {
    "duration": 3524,
    "start_time": "2022-08-18T14:59:59.935Z"
   },
   {
    "duration": 36,
    "start_time": "2022-08-18T15:00:10.264Z"
   },
   {
    "duration": 28,
    "start_time": "2022-08-18T15:17:17.473Z"
   },
   {
    "duration": 1482,
    "start_time": "2022-08-18T15:17:27.693Z"
   },
   {
    "duration": 31,
    "start_time": "2022-08-18T15:17:34.129Z"
   },
   {
    "duration": 467,
    "start_time": "2022-08-18T15:21:17.443Z"
   },
   {
    "duration": 256,
    "start_time": "2022-08-18T15:21:35.390Z"
   },
   {
    "duration": 18,
    "start_time": "2022-08-18T15:21:45.231Z"
   },
   {
    "duration": 53,
    "start_time": "2022-08-18T15:22:11.825Z"
   },
   {
    "duration": 17,
    "start_time": "2022-08-18T15:22:40.169Z"
   },
   {
    "duration": 15,
    "start_time": "2022-08-18T15:22:46.205Z"
   },
   {
    "duration": 118,
    "start_time": "2022-08-18T15:26:49.096Z"
   },
   {
    "duration": 105,
    "start_time": "2022-08-18T15:29:08.592Z"
   },
   {
    "duration": 265,
    "start_time": "2022-08-18T15:29:26.462Z"
   },
   {
    "duration": 258,
    "start_time": "2022-08-18T15:29:27.524Z"
   },
   {
    "duration": 669,
    "start_time": "2022-08-18T15:34:21.370Z"
   },
   {
    "duration": 265,
    "start_time": "2022-08-18T15:34:49.926Z"
   },
   {
    "duration": 127,
    "start_time": "2022-08-18T15:35:31.621Z"
   },
   {
    "duration": 262,
    "start_time": "2022-08-18T15:36:33.195Z"
   },
   {
    "duration": 20,
    "start_time": "2022-08-18T15:36:42.203Z"
   },
   {
    "duration": 30,
    "start_time": "2022-08-18T15:36:45.971Z"
   },
   {
    "duration": 43,
    "start_time": "2022-08-18T15:40:11.310Z"
   },
   {
    "duration": 103,
    "start_time": "2022-08-18T15:41:51.060Z"
   },
   {
    "duration": 100,
    "start_time": "2022-08-18T15:42:13.277Z"
   },
   {
    "duration": 83,
    "start_time": "2022-08-18T15:43:13.958Z"
   },
   {
    "duration": 17,
    "start_time": "2022-08-18T15:43:39.680Z"
   },
   {
    "duration": 17,
    "start_time": "2022-08-18T15:43:39.997Z"
   },
   {
    "duration": 116,
    "start_time": "2022-08-18T15:43:47.115Z"
   },
   {
    "duration": 19,
    "start_time": "2022-08-18T15:45:28.795Z"
   },
   {
    "duration": 72,
    "start_time": "2022-08-18T15:45:36.603Z"
   },
   {
    "duration": 16,
    "start_time": "2022-08-18T15:46:29.611Z"
   },
   {
    "duration": 75,
    "start_time": "2022-08-18T15:46:51.194Z"
   },
   {
    "duration": 173,
    "start_time": "2022-08-18T15:51:11.230Z"
   },
   {
    "duration": 66,
    "start_time": "2022-08-18T15:52:04.931Z"
   },
   {
    "duration": 121,
    "start_time": "2022-08-18T15:52:39.022Z"
   },
   {
    "duration": 61,
    "start_time": "2022-08-18T15:52:42.231Z"
   },
   {
    "duration": 127,
    "start_time": "2022-08-18T15:54:04.029Z"
   },
   {
    "duration": 61,
    "start_time": "2022-08-18T15:54:07.681Z"
   },
   {
    "duration": 1288,
    "start_time": "2022-08-18T15:54:45.727Z"
   },
   {
    "duration": 786,
    "start_time": "2022-08-18T15:54:47.017Z"
   },
   {
    "duration": 16,
    "start_time": "2022-08-18T15:54:47.804Z"
   },
   {
    "duration": 639,
    "start_time": "2022-08-18T15:54:52.605Z"
   },
   {
    "duration": 78,
    "start_time": "2022-08-18T15:54:53.245Z"
   },
   {
    "duration": 37,
    "start_time": "2022-08-18T15:54:53.325Z"
   },
   {
    "duration": 388,
    "start_time": "2022-08-18T15:54:53.613Z"
   },
   {
    "duration": 28,
    "start_time": "2022-08-18T15:54:54.316Z"
   },
   {
    "duration": 8,
    "start_time": "2022-08-18T15:54:54.651Z"
   },
   {
    "duration": 32,
    "start_time": "2022-08-18T15:54:55.145Z"
   },
   {
    "duration": 69,
    "start_time": "2022-08-18T15:54:55.835Z"
   },
   {
    "duration": 4209,
    "start_time": "2022-08-18T15:54:56.724Z"
   },
   {
    "duration": 118,
    "start_time": "2022-08-18T15:55:00.935Z"
   },
   {
    "duration": 16,
    "start_time": "2022-08-18T15:55:01.054Z"
   },
   {
    "duration": 280,
    "start_time": "2022-08-18T15:55:06.211Z"
   },
   {
    "duration": 18,
    "start_time": "2022-08-18T15:55:07.211Z"
   },
   {
    "duration": 18,
    "start_time": "2022-08-18T15:55:07.912Z"
   },
   {
    "duration": 18,
    "start_time": "2022-08-18T15:55:12.428Z"
   },
   {
    "duration": 120,
    "start_time": "2022-08-18T15:55:13.567Z"
   },
   {
    "duration": 62,
    "start_time": "2022-08-18T15:55:18.590Z"
   },
   {
    "duration": 114,
    "start_time": "2022-08-18T15:56:19.672Z"
   },
   {
    "duration": 62,
    "start_time": "2022-08-18T15:56:22.498Z"
   },
   {
    "duration": 1390,
    "start_time": "2022-08-18T15:58:44.388Z"
   },
   {
    "duration": 773,
    "start_time": "2022-08-18T15:58:45.780Z"
   },
   {
    "duration": 639,
    "start_time": "2022-08-18T15:58:49.413Z"
   },
   {
    "duration": 93,
    "start_time": "2022-08-18T15:58:50.054Z"
   },
   {
    "duration": 62,
    "start_time": "2022-08-18T15:58:50.149Z"
   },
   {
    "duration": 407,
    "start_time": "2022-08-18T15:58:50.401Z"
   },
   {
    "duration": 29,
    "start_time": "2022-08-18T15:58:51.002Z"
   },
   {
    "duration": 11,
    "start_time": "2022-08-18T15:58:51.480Z"
   },
   {
    "duration": 36,
    "start_time": "2022-08-18T15:58:52.142Z"
   },
   {
    "duration": 77,
    "start_time": "2022-08-18T15:58:52.341Z"
   },
   {
    "duration": 4340,
    "start_time": "2022-08-18T15:58:55.069Z"
   },
   {
    "duration": 115,
    "start_time": "2022-08-18T15:59:00.265Z"
   },
   {
    "duration": 17,
    "start_time": "2022-08-18T15:59:04.169Z"
   },
   {
    "duration": 236,
    "start_time": "2022-08-18T15:59:08.349Z"
   },
   {
    "duration": 18,
    "start_time": "2022-08-18T15:59:08.873Z"
   },
   {
    "duration": 25,
    "start_time": "2022-08-18T15:59:09.303Z"
   },
   {
    "duration": 18,
    "start_time": "2022-08-18T15:59:09.693Z"
   },
   {
    "duration": 109,
    "start_time": "2022-08-18T15:59:12.099Z"
   },
   {
    "duration": 66,
    "start_time": "2022-08-18T15:59:16.126Z"
   },
   {
    "duration": 134,
    "start_time": "2022-08-18T16:05:32.940Z"
   },
   {
    "duration": 65,
    "start_time": "2022-08-18T16:05:36.749Z"
   },
   {
    "duration": 71,
    "start_time": "2022-08-18T16:05:54.125Z"
   },
   {
    "duration": 98,
    "start_time": "2022-08-18T16:08:07.482Z"
   },
   {
    "duration": 11,
    "start_time": "2022-08-18T16:08:10.845Z"
   },
   {
    "duration": 87,
    "start_time": "2022-08-18T16:08:29.127Z"
   },
   {
    "duration": 1543,
    "start_time": "2022-08-18T16:10:12.221Z"
   },
   {
    "duration": 801,
    "start_time": "2022-08-18T16:10:13.766Z"
   },
   {
    "duration": 631,
    "start_time": "2022-08-18T16:10:16.394Z"
   },
   {
    "duration": 83,
    "start_time": "2022-08-18T16:10:17.027Z"
   },
   {
    "duration": 52,
    "start_time": "2022-08-18T16:10:17.149Z"
   },
   {
    "duration": 363,
    "start_time": "2022-08-18T16:10:17.634Z"
   },
   {
    "duration": 27,
    "start_time": "2022-08-18T16:10:18.322Z"
   },
   {
    "duration": 8,
    "start_time": "2022-08-18T16:10:18.664Z"
   },
   {
    "duration": 35,
    "start_time": "2022-08-18T16:10:19.012Z"
   },
   {
    "duration": 73,
    "start_time": "2022-08-18T16:10:19.218Z"
   },
   {
    "duration": 4239,
    "start_time": "2022-08-18T16:10:19.521Z"
   },
   {
    "duration": 114,
    "start_time": "2022-08-18T16:10:23.762Z"
   },
   {
    "duration": 26,
    "start_time": "2022-08-18T16:10:23.878Z"
   },
   {
    "duration": 19,
    "start_time": "2022-08-18T16:10:23.907Z"
   },
   {
    "duration": 134,
    "start_time": "2022-08-18T16:11:09.331Z"
   },
   {
    "duration": 18,
    "start_time": "2022-08-18T16:11:11.822Z"
   },
   {
    "duration": 83,
    "start_time": "2022-08-18T16:11:14.897Z"
   },
   {
    "duration": 16,
    "start_time": "2022-08-18T16:11:26.860Z"
   },
   {
    "duration": 17,
    "start_time": "2022-08-18T16:11:30.958Z"
   },
   {
    "duration": 25,
    "start_time": "2022-08-18T16:11:34.042Z"
   },
   {
    "duration": 241,
    "start_time": "2022-08-18T16:11:36.450Z"
   },
   {
    "duration": 109,
    "start_time": "2022-08-18T16:11:38.868Z"
   },
   {
    "duration": 16,
    "start_time": "2022-08-18T16:11:39.734Z"
   },
   {
    "duration": 68,
    "start_time": "2022-08-18T16:11:40.986Z"
   },
   {
    "duration": 69,
    "start_time": "2022-08-18T16:11:44.121Z"
   },
   {
    "duration": 83,
    "start_time": "2022-08-18T16:12:10.415Z"
   },
   {
    "duration": 37,
    "start_time": "2022-08-18T16:12:39.622Z"
   },
   {
    "duration": 72,
    "start_time": "2022-08-18T16:12:44.722Z"
   },
   {
    "duration": 66,
    "start_time": "2022-08-18T16:12:48.538Z"
   },
   {
    "duration": 34,
    "start_time": "2022-08-18T16:12:56.535Z"
   },
   {
    "duration": 63,
    "start_time": "2022-08-18T16:13:00.430Z"
   },
   {
    "duration": 111,
    "start_time": "2022-08-18T16:13:25.122Z"
   },
   {
    "duration": 35,
    "start_time": "2022-08-18T16:13:25.618Z"
   },
   {
    "duration": 17,
    "start_time": "2022-08-18T16:13:26.616Z"
   },
   {
    "duration": 74,
    "start_time": "2022-08-18T16:13:26.966Z"
   },
   {
    "duration": 15,
    "start_time": "2022-08-18T16:14:06.054Z"
   },
   {
    "duration": 69,
    "start_time": "2022-08-18T16:14:49.147Z"
   },
   {
    "duration": 17,
    "start_time": "2022-08-18T16:14:49.862Z"
   },
   {
    "duration": 10,
    "start_time": "2022-08-18T16:14:50.418Z"
   },
   {
    "duration": 63,
    "start_time": "2022-08-18T16:14:53.218Z"
   },
   {
    "duration": 68,
    "start_time": "2022-08-18T16:15:38.955Z"
   },
   {
    "duration": 64,
    "start_time": "2022-08-18T16:15:41.799Z"
   },
   {
    "duration": 1510,
    "start_time": "2022-08-18T16:19:26.776Z"
   },
   {
    "duration": 775,
    "start_time": "2022-08-18T16:19:28.288Z"
   },
   {
    "duration": 651,
    "start_time": "2022-08-18T16:19:31.332Z"
   },
   {
    "duration": 77,
    "start_time": "2022-08-18T16:19:31.985Z"
   },
   {
    "duration": 69,
    "start_time": "2022-08-18T16:19:32.063Z"
   },
   {
    "duration": 384,
    "start_time": "2022-08-18T16:19:32.309Z"
   },
   {
    "duration": 42,
    "start_time": "2022-08-18T16:19:32.982Z"
   },
   {
    "duration": 9,
    "start_time": "2022-08-18T16:19:33.498Z"
   },
   {
    "duration": 36,
    "start_time": "2022-08-18T16:19:33.899Z"
   },
   {
    "duration": 72,
    "start_time": "2022-08-18T16:19:34.067Z"
   },
   {
    "duration": 4258,
    "start_time": "2022-08-18T16:19:34.403Z"
   },
   {
    "duration": 128,
    "start_time": "2022-08-18T16:19:38.663Z"
   },
   {
    "duration": 19,
    "start_time": "2022-08-18T16:19:38.793Z"
   },
   {
    "duration": 16,
    "start_time": "2022-08-18T16:19:38.814Z"
   },
   {
    "duration": 17,
    "start_time": "2022-08-18T16:19:39.617Z"
   },
   {
    "duration": 256,
    "start_time": "2022-08-18T16:19:41.631Z"
   },
   {
    "duration": 171,
    "start_time": "2022-08-18T16:19:45.931Z"
   },
   {
    "duration": 32,
    "start_time": "2022-08-18T16:19:47.887Z"
   },
   {
    "duration": 72,
    "start_time": "2022-08-18T16:19:49.951Z"
   },
   {
    "duration": 59,
    "start_time": "2022-08-18T16:20:11.666Z"
   },
   {
    "duration": 3,
    "start_time": "2022-08-18T16:26:11.631Z"
   },
   {
    "duration": 102,
    "start_time": "2022-08-18T16:30:00.695Z"
   },
   {
    "duration": 98,
    "start_time": "2022-08-18T16:35:10.326Z"
   },
   {
    "duration": 21,
    "start_time": "2022-08-18T16:35:20.459Z"
   },
   {
    "duration": 3,
    "start_time": "2022-08-18T16:35:54.314Z"
   },
   {
    "duration": 4,
    "start_time": "2022-08-18T16:36:03.820Z"
   },
   {
    "duration": 723,
    "start_time": "2022-08-18T16:36:12.795Z"
   },
   {
    "duration": 88,
    "start_time": "2022-08-18T17:01:02.967Z"
   },
   {
    "duration": 76,
    "start_time": "2022-08-18T17:02:38.345Z"
   },
   {
    "duration": 1120,
    "start_time": "2022-08-18T17:02:53.696Z"
   },
   {
    "duration": 6,
    "start_time": "2022-08-18T17:40:31.931Z"
   },
   {
    "duration": 626,
    "start_time": "2022-08-18T17:41:21.835Z"
   },
   {
    "duration": 50,
    "start_time": "2022-08-18T17:41:30.398Z"
   },
   {
    "duration": 12,
    "start_time": "2022-08-18T17:46:23.592Z"
   },
   {
    "duration": 582,
    "start_time": "2022-08-18T17:53:09.147Z"
   },
   {
    "duration": 555,
    "start_time": "2022-08-18T17:54:57.677Z"
   },
   {
    "duration": 3,
    "start_time": "2022-08-18T17:55:07.341Z"
   },
   {
    "duration": 9,
    "start_time": "2022-08-18T17:56:53.452Z"
   },
   {
    "duration": 9,
    "start_time": "2022-08-18T17:57:08.668Z"
   },
   {
    "duration": 805,
    "start_time": "2022-08-18T17:57:15.295Z"
   },
   {
    "duration": 60,
    "start_time": "2022-08-18T17:57:36.156Z"
   },
   {
    "duration": 4,
    "start_time": "2022-08-18T17:57:39.765Z"
   },
   {
    "duration": 14,
    "start_time": "2022-08-18T18:06:44.584Z"
   },
   {
    "duration": 4,
    "start_time": "2022-08-18T18:07:11.040Z"
   },
   {
    "duration": 198,
    "start_time": "2022-08-18T18:07:16.652Z"
   },
   {
    "duration": 10,
    "start_time": "2022-08-18T18:09:03.354Z"
   },
   {
    "duration": 3,
    "start_time": "2022-08-18T18:09:17.954Z"
   },
   {
    "duration": 169,
    "start_time": "2022-08-18T18:09:24.840Z"
   },
   {
    "duration": 77,
    "start_time": "2022-08-18T18:17:48.990Z"
   },
   {
    "duration": 59,
    "start_time": "2022-08-18T18:19:16.386Z"
   },
   {
    "duration": 67,
    "start_time": "2022-08-18T18:19:27.542Z"
   },
   {
    "duration": 491,
    "start_time": "2022-08-18T18:19:37.082Z"
   },
   {
    "duration": 64,
    "start_time": "2022-08-18T18:19:42.996Z"
   },
   {
    "duration": 4,
    "start_time": "2022-08-18T18:20:22.936Z"
   },
   {
    "duration": 60,
    "start_time": "2022-08-18T18:20:29.055Z"
   },
   {
    "duration": 16,
    "start_time": "2022-08-18T18:21:49.567Z"
   },
   {
    "duration": 2,
    "start_time": "2022-08-18T18:22:54.081Z"
   },
   {
    "duration": 2,
    "start_time": "2022-08-18T18:24:33.149Z"
   },
   {
    "duration": 82,
    "start_time": "2022-08-18T18:25:13.974Z"
   },
   {
    "duration": 4,
    "start_time": "2022-08-18T18:25:46.132Z"
   },
   {
    "duration": 66,
    "start_time": "2022-08-18T18:26:03.035Z"
   },
   {
    "duration": 7031,
    "start_time": "2022-08-18T18:26:09.677Z"
   },
   {
    "duration": 9,
    "start_time": "2022-08-18T18:28:16.652Z"
   },
   {
    "duration": 118,
    "start_time": "2022-08-19T06:47:36.230Z"
   },
   {
    "duration": 1734,
    "start_time": "2022-08-19T06:49:45.018Z"
   },
   {
    "duration": 177,
    "start_time": "2022-08-19T06:49:55.883Z"
   },
   {
    "duration": 162,
    "start_time": "2022-08-19T06:50:10.092Z"
   },
   {
    "duration": 4,
    "start_time": "2022-08-19T06:50:18.550Z"
   },
   {
    "duration": 1346,
    "start_time": "2022-08-19T06:50:18.694Z"
   },
   {
    "duration": 14,
    "start_time": "2022-08-19T06:50:20.042Z"
   },
   {
    "duration": 131,
    "start_time": "2022-08-19T06:50:20.058Z"
   },
   {
    "duration": 140,
    "start_time": "2022-08-19T06:50:20.190Z"
   },
   {
    "duration": 218,
    "start_time": "2022-08-19T06:50:20.332Z"
   },
   {
    "duration": 29,
    "start_time": "2022-08-19T06:50:20.551Z"
   },
   {
    "duration": 58,
    "start_time": "2022-08-19T06:50:20.581Z"
   },
   {
    "duration": 624,
    "start_time": "2022-08-19T06:50:24.430Z"
   },
   {
    "duration": 83,
    "start_time": "2022-08-19T06:50:25.056Z"
   },
   {
    "duration": 37,
    "start_time": "2022-08-19T06:50:25.141Z"
   },
   {
    "duration": 448,
    "start_time": "2022-08-19T06:50:25.528Z"
   },
   {
    "duration": 24,
    "start_time": "2022-08-19T06:50:26.450Z"
   },
   {
    "duration": 7,
    "start_time": "2022-08-19T06:50:27.258Z"
   },
   {
    "duration": 34,
    "start_time": "2022-08-19T06:50:27.661Z"
   },
   {
    "duration": 80,
    "start_time": "2022-08-19T06:50:27.851Z"
   },
   {
    "duration": 5252,
    "start_time": "2022-08-19T06:50:28.226Z"
   },
   {
    "duration": 156,
    "start_time": "2022-08-19T06:50:33.480Z"
   },
   {
    "duration": 15,
    "start_time": "2022-08-19T06:50:33.637Z"
   },
   {
    "duration": 17,
    "start_time": "2022-08-19T06:50:33.654Z"
   },
   {
    "duration": 16,
    "start_time": "2022-08-19T06:50:33.672Z"
   },
   {
    "duration": 275,
    "start_time": "2022-08-19T06:50:33.690Z"
   },
   {
    "duration": 213,
    "start_time": "2022-08-19T06:50:33.967Z"
   },
   {
    "duration": 50,
    "start_time": "2022-08-19T06:50:39.270Z"
   },
   {
    "duration": 138,
    "start_time": "2022-08-19T06:50:40.278Z"
   },
   {
    "duration": 78,
    "start_time": "2022-08-19T06:50:41.168Z"
   },
   {
    "duration": 104,
    "start_time": "2022-08-19T06:50:42.168Z"
   },
   {
    "duration": 814,
    "start_time": "2022-08-19T06:50:42.569Z"
   },
   {
    "duration": 57,
    "start_time": "2022-08-19T06:50:43.385Z"
   },
   {
    "duration": 3,
    "start_time": "2022-08-19T06:50:43.758Z"
   },
   {
    "duration": 187,
    "start_time": "2022-08-19T06:50:44.850Z"
   },
   {
    "duration": 599,
    "start_time": "2022-08-19T06:50:53.379Z"
   },
   {
    "duration": 14,
    "start_time": "2022-08-19T06:50:54.552Z"
   },
   {
    "duration": 8522,
    "start_time": "2022-08-19T06:50:59.888Z"
   },
   {
    "duration": 91,
    "start_time": "2022-08-19T06:51:08.414Z"
   },
   {
    "duration": 287776,
    "start_time": "2022-08-19T06:51:12.048Z"
   },
   {
    "duration": 854,
    "start_time": "2022-08-19T06:57:05.832Z"
   },
   {
    "duration": 78,
    "start_time": "2022-08-19T06:58:34.328Z"
   },
   {
    "duration": 2814793,
    "start_time": "2022-08-19T07:00:59.892Z"
   },
   {
    "duration": 3,
    "start_time": "2022-08-19T07:48:08.238Z"
   },
   {
    "duration": 114,
    "start_time": "2022-08-19T07:48:18.819Z"
   },
   {
    "duration": 713,
    "start_time": "2022-08-19T07:49:17.991Z"
   },
   {
    "duration": 35,
    "start_time": "2022-08-19T07:49:45.857Z"
   },
   {
    "duration": 660,
    "start_time": "2022-08-19T07:49:49.816Z"
   },
   {
    "duration": 1479,
    "start_time": "2022-08-19T07:50:40.281Z"
   },
   {
    "duration": 880,
    "start_time": "2022-08-19T07:50:41.762Z"
   },
   {
    "duration": 16,
    "start_time": "2022-08-19T07:50:42.643Z"
   },
   {
    "duration": 534,
    "start_time": "2022-08-19T07:50:45.354Z"
   },
   {
    "duration": 82,
    "start_time": "2022-08-19T07:50:45.890Z"
   },
   {
    "duration": 35,
    "start_time": "2022-08-19T07:50:46.021Z"
   },
   {
    "duration": 397,
    "start_time": "2022-08-19T07:50:46.321Z"
   },
   {
    "duration": 35,
    "start_time": "2022-08-19T07:50:47.013Z"
   },
   {
    "duration": 7,
    "start_time": "2022-08-19T07:50:47.362Z"
   },
   {
    "duration": 30,
    "start_time": "2022-08-19T07:50:47.726Z"
   },
   {
    "duration": 77,
    "start_time": "2022-08-19T07:50:47.916Z"
   },
   {
    "duration": 4830,
    "start_time": "2022-08-19T07:50:48.327Z"
   },
   {
    "duration": 162,
    "start_time": "2022-08-19T07:50:53.159Z"
   },
   {
    "duration": 17,
    "start_time": "2022-08-19T07:50:53.322Z"
   },
   {
    "duration": 23,
    "start_time": "2022-08-19T07:50:53.341Z"
   },
   {
    "duration": 42,
    "start_time": "2022-08-19T07:50:53.366Z"
   },
   {
    "duration": 237,
    "start_time": "2022-08-19T07:50:53.411Z"
   },
   {
    "duration": 198,
    "start_time": "2022-08-19T07:50:53.650Z"
   },
   {
    "duration": 33,
    "start_time": "2022-08-19T07:50:53.850Z"
   },
   {
    "duration": 90,
    "start_time": "2022-08-19T07:50:53.884Z"
   },
   {
    "duration": 84,
    "start_time": "2022-08-19T07:50:53.976Z"
   },
   {
    "duration": 102,
    "start_time": "2022-08-19T07:50:54.061Z"
   },
   {
    "duration": 862,
    "start_time": "2022-08-19T07:50:54.164Z"
   },
   {
    "duration": 43,
    "start_time": "2022-08-19T07:50:55.028Z"
   },
   {
    "duration": 4,
    "start_time": "2022-08-19T07:50:55.073Z"
   },
   {
    "duration": 182,
    "start_time": "2022-08-19T07:50:55.078Z"
   },
   {
    "duration": 596,
    "start_time": "2022-08-19T07:50:56.417Z"
   },
   {
    "duration": 13,
    "start_time": "2022-08-19T07:51:00.219Z"
   },
   {
    "duration": 8830,
    "start_time": "2022-08-19T07:51:02.874Z"
   },
   {
    "duration": 11,
    "start_time": "2022-08-19T07:51:13.609Z"
   },
   {
    "duration": 3,
    "start_time": "2022-08-19T07:51:18.983Z"
   },
   {
    "duration": 60795,
    "start_time": "2022-08-19T08:11:45.574Z"
   },
   {
    "duration": 84,
    "start_time": "2022-08-19T08:12:46.374Z"
   },
   {
    "duration": 80,
    "start_time": "2022-08-19T08:17:29.092Z"
   },
   {
    "duration": 1405,
    "start_time": "2022-08-19T08:17:41.711Z"
   },
   {
    "duration": 811,
    "start_time": "2022-08-19T08:17:43.118Z"
   },
   {
    "duration": 514,
    "start_time": "2022-08-19T08:17:43.932Z"
   },
   {
    "duration": 114,
    "start_time": "2022-08-19T08:17:44.449Z"
   },
   {
    "duration": 72,
    "start_time": "2022-08-19T08:17:44.565Z"
   },
   {
    "duration": 446,
    "start_time": "2022-08-19T08:17:44.639Z"
   },
   {
    "duration": 31,
    "start_time": "2022-08-19T08:17:45.442Z"
   },
   {
    "duration": 8,
    "start_time": "2022-08-19T08:17:46.118Z"
   },
   {
    "duration": 35,
    "start_time": "2022-08-19T08:17:46.782Z"
   },
   {
    "duration": 77,
    "start_time": "2022-08-19T08:17:46.969Z"
   },
   {
    "duration": 4716,
    "start_time": "2022-08-19T08:17:47.413Z"
   },
   {
    "duration": 130,
    "start_time": "2022-08-19T08:17:52.131Z"
   },
   {
    "duration": 15,
    "start_time": "2022-08-19T08:17:52.263Z"
   },
   {
    "duration": 18,
    "start_time": "2022-08-19T08:17:53.054Z"
   },
   {
    "duration": 18,
    "start_time": "2022-08-19T08:17:53.773Z"
   },
   {
    "duration": 266,
    "start_time": "2022-08-19T08:17:54.591Z"
   },
   {
    "duration": 214,
    "start_time": "2022-08-19T08:17:55.866Z"
   },
   {
    "duration": 35,
    "start_time": "2022-08-19T08:18:10.997Z"
   },
   {
    "duration": 76,
    "start_time": "2022-08-19T08:18:11.277Z"
   },
   {
    "duration": 73,
    "start_time": "2022-08-19T08:18:11.565Z"
   },
   {
    "duration": 84,
    "start_time": "2022-08-19T08:18:12.472Z"
   },
   {
    "duration": 817,
    "start_time": "2022-08-19T08:18:12.718Z"
   },
   {
    "duration": 48,
    "start_time": "2022-08-19T08:18:13.537Z"
   },
   {
    "duration": 4,
    "start_time": "2022-08-19T08:18:18.467Z"
   },
   {
    "duration": 146,
    "start_time": "2022-08-19T08:18:20.218Z"
   },
   {
    "duration": 582,
    "start_time": "2022-08-19T08:18:22.885Z"
   },
   {
    "duration": 16,
    "start_time": "2022-08-19T08:18:25.119Z"
   },
   {
    "duration": 9477,
    "start_time": "2022-08-19T08:18:28.230Z"
   },
   {
    "duration": 9,
    "start_time": "2022-08-19T08:18:39.616Z"
   },
   {
    "duration": 168,
    "start_time": "2022-08-19T08:18:44.194Z"
   },
   {
    "duration": 59,
    "start_time": "2022-08-19T08:18:57.112Z"
   },
   {
    "duration": 223,
    "start_time": "2022-08-19T08:19:05.062Z"
   },
   {
    "duration": 1397,
    "start_time": "2022-08-19T08:25:41.076Z"
   },
   {
    "duration": 739,
    "start_time": "2022-08-19T08:25:42.475Z"
   },
   {
    "duration": 15,
    "start_time": "2022-08-19T08:25:43.215Z"
   },
   {
    "duration": 114,
    "start_time": "2022-08-19T08:25:43.232Z"
   },
   {
    "duration": 104,
    "start_time": "2022-08-19T08:25:43.347Z"
   },
   {
    "duration": 172,
    "start_time": "2022-08-19T08:25:43.453Z"
   },
   {
    "duration": 29,
    "start_time": "2022-08-19T08:25:43.627Z"
   },
   {
    "duration": 47,
    "start_time": "2022-08-19T08:25:43.658Z"
   },
   {
    "duration": 474,
    "start_time": "2022-08-19T08:25:55.480Z"
   },
   {
    "duration": 79,
    "start_time": "2022-08-19T08:25:55.956Z"
   },
   {
    "duration": 35,
    "start_time": "2022-08-19T08:25:56.179Z"
   },
   {
    "duration": 360,
    "start_time": "2022-08-19T08:25:56.442Z"
   },
   {
    "duration": 40,
    "start_time": "2022-08-19T08:25:57.189Z"
   },
   {
    "duration": 8,
    "start_time": "2022-08-19T08:25:57.468Z"
   },
   {
    "duration": 28,
    "start_time": "2022-08-19T08:25:57.888Z"
   },
   {
    "duration": 94,
    "start_time": "2022-08-19T08:25:58.031Z"
   },
   {
    "duration": 4407,
    "start_time": "2022-08-19T08:25:58.631Z"
   },
   {
    "duration": 134,
    "start_time": "2022-08-19T08:26:03.040Z"
   },
   {
    "duration": 15,
    "start_time": "2022-08-19T08:26:03.175Z"
   },
   {
    "duration": 17,
    "start_time": "2022-08-19T08:26:03.199Z"
   },
   {
    "duration": 19,
    "start_time": "2022-08-19T08:26:03.218Z"
   },
   {
    "duration": 234,
    "start_time": "2022-08-19T08:26:03.239Z"
   },
   {
    "duration": 180,
    "start_time": "2022-08-19T08:26:03.474Z"
   },
   {
    "duration": 29,
    "start_time": "2022-08-19T08:26:03.655Z"
   },
   {
    "duration": 75,
    "start_time": "2022-08-19T08:26:11.138Z"
   },
   {
    "duration": 76,
    "start_time": "2022-08-19T08:26:14.986Z"
   },
   {
    "duration": 77,
    "start_time": "2022-08-19T08:26:15.662Z"
   },
   {
    "duration": 678,
    "start_time": "2022-08-19T08:26:16.161Z"
   },
   {
    "duration": 44,
    "start_time": "2022-08-19T08:26:17.923Z"
   },
   {
    "duration": 3,
    "start_time": "2022-08-19T08:26:22.058Z"
   },
   {
    "duration": 144,
    "start_time": "2022-08-19T08:26:22.712Z"
   },
   {
    "duration": 587,
    "start_time": "2022-08-19T08:26:25.069Z"
   },
   {
    "duration": 17,
    "start_time": "2022-08-19T08:26:26.032Z"
   },
   {
    "duration": 7584,
    "start_time": "2022-08-19T08:26:30.123Z"
   },
   {
    "duration": 7,
    "start_time": "2022-08-19T08:26:38.812Z"
   },
   {
    "duration": 2,
    "start_time": "2022-08-19T08:26:42.568Z"
   },
   {
    "duration": 2,
    "start_time": "2022-08-19T08:26:42.952Z"
   },
   {
    "duration": 59323,
    "start_time": "2022-08-19T08:26:45.380Z"
   },
   {
    "duration": 383,
    "start_time": "2022-08-19T08:29:22.917Z"
   },
   {
    "duration": 213,
    "start_time": "2022-08-19T08:31:05.236Z"
   },
   {
    "duration": 36699,
    "start_time": "2022-08-19T08:31:14.491Z"
   },
   {
    "duration": 394,
    "start_time": "2022-08-19T08:34:00.406Z"
   },
   {
    "duration": 93,
    "start_time": "2022-08-19T08:34:34.879Z"
   },
   {
    "duration": 96,
    "start_time": "2022-08-19T08:35:19.010Z"
   },
   {
    "duration": 16,
    "start_time": "2022-08-19T08:36:57.544Z"
   },
   {
    "duration": 17,
    "start_time": "2022-08-19T08:37:02.712Z"
   },
   {
    "duration": 280,
    "start_time": "2022-08-19T08:38:58.195Z"
   },
   {
    "duration": 267,
    "start_time": "2022-08-19T08:39:20.951Z"
   },
   {
    "duration": 1833,
    "start_time": "2022-08-19T08:47:38.029Z"
   },
   {
    "duration": 773,
    "start_time": "2022-08-19T08:47:39.864Z"
   },
   {
    "duration": 16,
    "start_time": "2022-08-19T08:47:40.639Z"
   },
   {
    "duration": 121,
    "start_time": "2022-08-19T08:47:40.658Z"
   },
   {
    "duration": 484,
    "start_time": "2022-08-19T08:47:42.834Z"
   },
   {
    "duration": 82,
    "start_time": "2022-08-19T08:47:43.320Z"
   },
   {
    "duration": 34,
    "start_time": "2022-08-19T08:47:43.497Z"
   },
   {
    "duration": 377,
    "start_time": "2022-08-19T08:47:43.838Z"
   },
   {
    "duration": 29,
    "start_time": "2022-08-19T08:47:44.454Z"
   },
   {
    "duration": 9,
    "start_time": "2022-08-19T08:47:44.785Z"
   },
   {
    "duration": 35,
    "start_time": "2022-08-19T08:47:45.147Z"
   },
   {
    "duration": 74,
    "start_time": "2022-08-19T08:47:45.341Z"
   },
   {
    "duration": 4410,
    "start_time": "2022-08-19T08:47:45.678Z"
   },
   {
    "duration": 128,
    "start_time": "2022-08-19T08:47:50.090Z"
   },
   {
    "duration": 16,
    "start_time": "2022-08-19T08:47:50.220Z"
   },
   {
    "duration": 18,
    "start_time": "2022-08-19T08:47:50.238Z"
   },
   {
    "duration": 46,
    "start_time": "2022-08-19T08:47:50.257Z"
   },
   {
    "duration": 255,
    "start_time": "2022-08-19T08:47:50.305Z"
   },
   {
    "duration": 189,
    "start_time": "2022-08-19T08:47:50.561Z"
   },
   {
    "duration": 35,
    "start_time": "2022-08-19T08:47:50.752Z"
   },
   {
    "duration": 76,
    "start_time": "2022-08-19T08:47:50.788Z"
   },
   {
    "duration": 88,
    "start_time": "2022-08-19T08:47:50.866Z"
   },
   {
    "duration": 99,
    "start_time": "2022-08-19T08:47:50.955Z"
   },
   {
    "duration": 724,
    "start_time": "2022-08-19T08:47:51.056Z"
   },
   {
    "duration": 62,
    "start_time": "2022-08-19T08:47:51.782Z"
   },
   {
    "duration": 4,
    "start_time": "2022-08-19T08:47:52.049Z"
   },
   {
    "duration": 5,
    "start_time": "2022-08-19T08:48:39.911Z"
   },
   {
    "duration": 128,
    "start_time": "2022-08-19T08:50:03.936Z"
   },
   {
    "duration": 453,
    "start_time": "2022-08-19T08:51:07.248Z"
   },
   {
    "duration": 11,
    "start_time": "2022-08-19T08:51:07.703Z"
   },
   {
    "duration": 6376,
    "start_time": "2022-08-19T08:51:08.932Z"
   },
   {
    "duration": 94,
    "start_time": "2022-08-19T08:51:15.309Z"
   },
   {
    "duration": 50497,
    "start_time": "2022-08-19T08:51:15.405Z"
   },
   {
    "duration": 403,
    "start_time": "2022-08-19T08:52:05.904Z"
   },
   {
    "duration": 28602,
    "start_time": "2022-08-19T08:52:06.309Z"
   },
   {
    "duration": 88,
    "start_time": "2022-08-19T08:52:34.912Z"
   },
   {
    "duration": 72,
    "start_time": "2022-08-19T08:55:22.266Z"
   },
   {
    "duration": 4,
    "start_time": "2022-08-19T09:05:52.598Z"
   },
   {
    "duration": 80,
    "start_time": "2022-08-19T09:06:03.865Z"
   },
   {
    "duration": 4,
    "start_time": "2022-08-19T09:06:34.794Z"
   },
   {
    "duration": 273,
    "start_time": "2022-08-19T09:06:42.444Z"
   },
   {
    "duration": 275,
    "start_time": "2022-08-19T09:06:47.831Z"
   },
   {
    "duration": 295,
    "start_time": "2022-08-19T09:06:49.823Z"
   },
   {
    "duration": 251,
    "start_time": "2022-08-19T09:06:52.370Z"
   },
   {
    "duration": 4,
    "start_time": "2022-08-19T09:07:13.060Z"
   },
   {
    "duration": 4,
    "start_time": "2022-08-19T09:07:28.410Z"
   },
   {
    "duration": 4,
    "start_time": "2022-08-19T09:07:39.312Z"
   },
   {
    "duration": 1471,
    "start_time": "2022-08-19T09:10:03.924Z"
   },
   {
    "duration": 758,
    "start_time": "2022-08-19T09:10:05.396Z"
   },
   {
    "duration": 19,
    "start_time": "2022-08-19T09:10:06.155Z"
   },
   {
    "duration": 115,
    "start_time": "2022-08-19T09:10:06.176Z"
   },
   {
    "duration": 112,
    "start_time": "2022-08-19T09:10:06.293Z"
   },
   {
    "duration": 164,
    "start_time": "2022-08-19T09:10:06.406Z"
   },
   {
    "duration": 39,
    "start_time": "2022-08-19T09:10:06.571Z"
   },
   {
    "duration": 28,
    "start_time": "2022-08-19T09:10:06.611Z"
   },
   {
    "duration": 31,
    "start_time": "2022-08-19T09:10:06.641Z"
   },
   {
    "duration": 49,
    "start_time": "2022-08-19T09:10:06.674Z"
   },
   {
    "duration": 29,
    "start_time": "2022-08-19T09:10:06.724Z"
   },
   {
    "duration": 72,
    "start_time": "2022-08-19T09:10:06.755Z"
   },
   {
    "duration": 133,
    "start_time": "2022-08-19T09:10:06.829Z"
   },
   {
    "duration": 125,
    "start_time": "2022-08-19T09:10:07.035Z"
   },
   {
    "duration": 170,
    "start_time": "2022-08-19T09:10:07.413Z"
   },
   {
    "duration": 6,
    "start_time": "2022-08-19T09:10:07.790Z"
   },
   {
    "duration": 163,
    "start_time": "2022-08-19T09:10:08.159Z"
   },
   {
    "duration": 6,
    "start_time": "2022-08-19T09:10:08.411Z"
   },
   {
    "duration": 20,
    "start_time": "2022-08-19T09:10:08.577Z"
   },
   {
    "duration": 5,
    "start_time": "2022-08-19T09:10:08.775Z"
   },
   {
    "duration": 152,
    "start_time": "2022-08-19T09:10:09.066Z"
   },
   {
    "duration": 7,
    "start_time": "2022-08-19T09:10:09.285Z"
   },
   {
    "duration": 5,
    "start_time": "2022-08-19T09:10:09.426Z"
   },
   {
    "duration": 141,
    "start_time": "2022-08-19T09:10:09.808Z"
   },
   {
    "duration": 8,
    "start_time": "2022-08-19T09:10:09.958Z"
   },
   {
    "duration": 401,
    "start_time": "2022-08-19T09:10:10.306Z"
   },
   {
    "duration": 407,
    "start_time": "2022-08-19T09:10:10.709Z"
   },
   {
    "duration": 510,
    "start_time": "2022-08-19T09:10:11.117Z"
   },
   {
    "duration": 84,
    "start_time": "2022-08-19T09:10:11.629Z"
   },
   {
    "duration": 633,
    "start_time": "2022-08-19T09:10:11.715Z"
   },
   {
    "duration": 497,
    "start_time": "2022-08-19T09:10:12.350Z"
   },
   {
    "duration": 78,
    "start_time": "2022-08-19T09:10:12.849Z"
   },
   {
    "duration": 33,
    "start_time": "2022-08-19T09:10:12.950Z"
   },
   {
    "duration": 356,
    "start_time": "2022-08-19T09:10:13.313Z"
   },
   {
    "duration": 22,
    "start_time": "2022-08-19T09:10:14.142Z"
   },
   {
    "duration": 9,
    "start_time": "2022-08-19T09:10:14.462Z"
   },
   {
    "duration": 34,
    "start_time": "2022-08-19T09:10:14.883Z"
   },
   {
    "duration": 73,
    "start_time": "2022-08-19T09:10:15.062Z"
   },
   {
    "duration": 4339,
    "start_time": "2022-08-19T09:10:15.499Z"
   },
   {
    "duration": 146,
    "start_time": "2022-08-19T09:10:19.840Z"
   },
   {
    "duration": 21,
    "start_time": "2022-08-19T09:10:19.987Z"
   },
   {
    "duration": 27,
    "start_time": "2022-08-19T09:10:20.010Z"
   },
   {
    "duration": 22,
    "start_time": "2022-08-19T09:10:20.039Z"
   },
   {
    "duration": 233,
    "start_time": "2022-08-19T09:10:20.063Z"
   },
   {
    "duration": 189,
    "start_time": "2022-08-19T09:10:20.297Z"
   },
   {
    "duration": 33,
    "start_time": "2022-08-19T09:10:20.488Z"
   },
   {
    "duration": 85,
    "start_time": "2022-08-19T09:10:20.522Z"
   },
   {
    "duration": 67,
    "start_time": "2022-08-19T09:10:20.610Z"
   },
   {
    "duration": 91,
    "start_time": "2022-08-19T09:10:20.679Z"
   },
   {
    "duration": 711,
    "start_time": "2022-08-19T09:10:20.772Z"
   },
   {
    "duration": 69,
    "start_time": "2022-08-19T09:10:21.485Z"
   },
   {
    "duration": 5,
    "start_time": "2022-08-19T09:10:21.556Z"
   },
   {
    "duration": 150,
    "start_time": "2022-08-19T09:10:21.563Z"
   },
   {
    "duration": 444,
    "start_time": "2022-08-19T09:10:21.715Z"
   },
   {
    "duration": 10,
    "start_time": "2022-08-19T09:10:22.161Z"
   },
   {
    "duration": 4,
    "start_time": "2022-08-19T09:10:22.173Z"
   },
   {
    "duration": 7118,
    "start_time": "2022-08-19T09:10:22.199Z"
   },
   {
    "duration": 83,
    "start_time": "2022-08-19T09:10:29.320Z"
   },
   {
    "duration": 102,
    "start_time": "2022-08-19T09:10:29.405Z"
   },
   {
    "duration": 28003,
    "start_time": "2022-08-19T09:10:29.509Z"
   },
   {
    "duration": 73,
    "start_time": "2022-08-19T09:10:57.513Z"
   },
   {
    "duration": 4,
    "start_time": "2022-08-19T09:10:57.588Z"
   },
   {
    "duration": 40308,
    "start_time": "2022-08-19T09:10:57.599Z"
   },
   {
    "duration": 390,
    "start_time": "2022-08-19T09:11:37.909Z"
   },
   {
    "duration": 5,
    "start_time": "2022-08-19T09:11:38.301Z"
   },
   {
    "duration": 130,
    "start_time": "2022-08-19T09:11:38.307Z"
   },
   {
    "duration": 69,
    "start_time": "2022-08-19T09:13:17.392Z"
   },
   {
    "duration": 6,
    "start_time": "2022-08-19T09:13:20.900Z"
   },
   {
    "duration": 115,
    "start_time": "2022-08-19T09:15:25.869Z"
   },
   {
    "duration": 6,
    "start_time": "2022-08-19T09:16:35.495Z"
   },
   {
    "duration": 7,
    "start_time": "2022-08-19T09:16:43.572Z"
   },
   {
    "duration": 81,
    "start_time": "2022-08-19T09:18:02.701Z"
   },
   {
    "duration": 5,
    "start_time": "2022-08-19T13:02:50.938Z"
   },
   {
    "duration": 804,
    "start_time": "2022-08-19T13:02:50.945Z"
   },
   {
    "duration": 12,
    "start_time": "2022-08-19T13:02:51.751Z"
   },
   {
    "duration": 148,
    "start_time": "2022-08-19T13:02:51.765Z"
   },
   {
    "duration": 130,
    "start_time": "2022-08-19T13:02:51.914Z"
   },
   {
    "duration": 199,
    "start_time": "2022-08-19T13:02:52.046Z"
   },
   {
    "duration": 27,
    "start_time": "2022-08-19T13:02:52.247Z"
   },
   {
    "duration": 63,
    "start_time": "2022-08-19T13:02:52.276Z"
   },
   {
    "duration": 38,
    "start_time": "2022-08-19T13:02:52.341Z"
   },
   {
    "duration": 48,
    "start_time": "2022-08-19T13:02:52.382Z"
   },
   {
    "duration": 33,
    "start_time": "2022-08-19T13:02:52.432Z"
   },
   {
    "duration": 57,
    "start_time": "2022-08-19T13:02:52.467Z"
   },
   {
    "duration": 104,
    "start_time": "2022-08-19T13:02:52.526Z"
   },
   {
    "duration": 102,
    "start_time": "2022-08-19T13:02:52.633Z"
   },
   {
    "duration": 180,
    "start_time": "2022-08-19T13:02:52.736Z"
   },
   {
    "duration": 14,
    "start_time": "2022-08-19T13:02:52.918Z"
   },
   {
    "duration": 201,
    "start_time": "2022-08-19T13:02:52.934Z"
   },
   {
    "duration": 6,
    "start_time": "2022-08-19T13:02:53.137Z"
   },
   {
    "duration": 22,
    "start_time": "2022-08-19T13:02:53.145Z"
   },
   {
    "duration": 5,
    "start_time": "2022-08-19T13:02:53.169Z"
   },
   {
    "duration": 215,
    "start_time": "2022-08-19T13:02:53.175Z"
   },
   {
    "duration": 34,
    "start_time": "2022-08-19T13:02:53.391Z"
   },
   {
    "duration": 13,
    "start_time": "2022-08-19T13:02:53.426Z"
   },
   {
    "duration": 151,
    "start_time": "2022-08-19T13:02:53.440Z"
   },
   {
    "duration": 16,
    "start_time": "2022-08-19T13:02:53.598Z"
   },
   {
    "duration": 458,
    "start_time": "2022-08-19T13:02:53.615Z"
   },
   {
    "duration": 473,
    "start_time": "2022-08-19T13:02:54.075Z"
   },
   {
    "duration": 552,
    "start_time": "2022-08-19T13:02:54.550Z"
   },
   {
    "duration": 73,
    "start_time": "2022-08-19T13:02:55.104Z"
   },
   {
    "duration": 599,
    "start_time": "2022-08-19T13:02:55.179Z"
   },
   {
    "duration": 447,
    "start_time": "2022-08-19T13:02:55.781Z"
   },
   {
    "duration": 102,
    "start_time": "2022-08-19T13:02:56.230Z"
   },
   {
    "duration": 34,
    "start_time": "2022-08-19T13:02:57.834Z"
   },
   {
    "duration": 428,
    "start_time": "2022-08-19T13:02:58.761Z"
   },
   {
    "duration": 24,
    "start_time": "2022-08-19T13:02:59.557Z"
   },
   {
    "duration": 10,
    "start_time": "2022-08-19T13:02:59.938Z"
   },
   {
    "duration": 31,
    "start_time": "2022-08-19T13:03:00.367Z"
   },
   {
    "duration": 81,
    "start_time": "2022-08-19T13:03:00.558Z"
   },
   {
    "duration": 4876,
    "start_time": "2022-08-19T13:03:01.195Z"
   },
   {
    "duration": 156,
    "start_time": "2022-08-19T13:03:06.073Z"
   },
   {
    "duration": 17,
    "start_time": "2022-08-19T13:03:08.513Z"
   },
   {
    "duration": 19,
    "start_time": "2022-08-19T13:03:33.048Z"
   },
   {
    "duration": 28,
    "start_time": "2022-08-19T13:03:33.454Z"
   },
   {
    "duration": 283,
    "start_time": "2022-08-19T13:03:33.833Z"
   },
   {
    "duration": 222,
    "start_time": "2022-08-19T13:03:34.118Z"
   },
   {
    "duration": 29,
    "start_time": "2022-08-19T13:03:34.342Z"
   },
   {
    "duration": 97,
    "start_time": "2022-08-19T13:03:34.582Z"
   },
   {
    "duration": 90,
    "start_time": "2022-08-19T13:03:35.166Z"
   },
   {
    "duration": 95,
    "start_time": "2022-08-19T13:03:36.792Z"
   },
   {
    "duration": 742,
    "start_time": "2022-08-19T13:03:38.790Z"
   },
   {
    "duration": 56,
    "start_time": "2022-08-19T13:03:40.512Z"
   },
   {
    "duration": 5,
    "start_time": "2022-08-19T13:03:40.826Z"
   },
   {
    "duration": 151,
    "start_time": "2022-08-19T13:03:41.409Z"
   },
   {
    "duration": 2111,
    "start_time": "2022-08-20T17:59:23.686Z"
   },
   {
    "duration": 5,
    "start_time": "2022-08-20T18:00:03.916Z"
   },
   {
    "duration": 4301,
    "start_time": "2022-08-20T18:00:05.849Z"
   },
   {
    "duration": 32,
    "start_time": "2022-08-20T18:00:10.152Z"
   },
   {
    "duration": 177,
    "start_time": "2022-08-20T18:00:10.186Z"
   },
   {
    "duration": 151,
    "start_time": "2022-08-20T18:00:10.369Z"
   },
   {
    "duration": 225,
    "start_time": "2022-08-20T18:00:10.523Z"
   },
   {
    "duration": 43,
    "start_time": "2022-08-20T18:00:10.750Z"
   },
   {
    "duration": 39,
    "start_time": "2022-08-20T18:00:11.205Z"
   },
   {
    "duration": 49,
    "start_time": "2022-08-20T18:00:11.586Z"
   },
   {
    "duration": 34,
    "start_time": "2022-08-20T18:00:11.996Z"
   },
   {
    "duration": 34,
    "start_time": "2022-08-20T18:00:12.218Z"
   },
   {
    "duration": 32,
    "start_time": "2022-08-20T18:00:12.399Z"
   },
   {
    "duration": 126,
    "start_time": "2022-08-20T18:00:13.592Z"
   },
   {
    "duration": 109,
    "start_time": "2022-08-20T18:00:14.004Z"
   },
   {
    "duration": 230,
    "start_time": "2022-08-20T18:00:14.616Z"
   },
   {
    "duration": 9,
    "start_time": "2022-08-20T18:00:15.498Z"
   },
   {
    "duration": 294,
    "start_time": "2022-08-20T18:00:16.663Z"
   },
   {
    "duration": 6,
    "start_time": "2022-08-20T18:00:17.260Z"
   },
   {
    "duration": 27,
    "start_time": "2022-08-20T18:00:18.189Z"
   },
   {
    "duration": 8,
    "start_time": "2022-08-20T18:00:18.218Z"
   },
   {
    "duration": 208,
    "start_time": "2022-08-20T18:00:20.533Z"
   },
   {
    "duration": 8,
    "start_time": "2022-08-20T18:00:20.744Z"
   },
   {
    "duration": 43,
    "start_time": "2022-08-20T18:00:20.755Z"
   },
   {
    "duration": 211,
    "start_time": "2022-08-20T18:00:21.037Z"
   },
   {
    "duration": 17,
    "start_time": "2022-08-20T18:00:21.250Z"
   },
   {
    "duration": 621,
    "start_time": "2022-08-20T18:00:21.269Z"
   },
   {
    "duration": 551,
    "start_time": "2022-08-20T18:00:21.892Z"
   },
   {
    "duration": 748,
    "start_time": "2022-08-20T18:00:22.445Z"
   },
   {
    "duration": 104,
    "start_time": "2022-08-20T18:00:23.198Z"
   },
   {
    "duration": 806,
    "start_time": "2022-08-20T18:00:23.305Z"
   },
   {
    "duration": 750,
    "start_time": "2022-08-20T18:01:09.998Z"
   },
   {
    "duration": 95,
    "start_time": "2022-08-20T18:01:11.313Z"
   },
   {
    "duration": 41,
    "start_time": "2022-08-20T18:01:12.887Z"
   },
   {
    "duration": 528,
    "start_time": "2022-08-20T18:01:14.214Z"
   },
   {
    "duration": 35,
    "start_time": "2022-08-20T18:01:14.894Z"
   },
   {
    "duration": 10,
    "start_time": "2022-08-20T18:01:16.415Z"
   },
   {
    "duration": 45,
    "start_time": "2022-08-20T18:01:17.261Z"
   },
   {
    "duration": 90,
    "start_time": "2022-08-20T18:01:17.644Z"
   },
   {
    "duration": 5608,
    "start_time": "2022-08-20T18:01:27.392Z"
   },
   {
    "duration": 217,
    "start_time": "2022-08-20T18:01:33.005Z"
   },
   {
    "duration": 66,
    "start_time": "2022-08-20T18:12:49.265Z"
   },
   {
    "duration": 390,
    "start_time": "2022-08-20T18:12:51.458Z"
   },
   {
    "duration": 220,
    "start_time": "2022-08-20T18:12:51.851Z"
   },
   {
    "duration": 53,
    "start_time": "2022-08-20T18:12:52.073Z"
   },
   {
    "duration": 83,
    "start_time": "2022-08-20T18:12:53.411Z"
   },
   {
    "duration": 107,
    "start_time": "2022-08-20T18:14:11.010Z"
   },
   {
    "duration": 880,
    "start_time": "2022-08-20T18:15:04.736Z"
   },
   {
    "duration": 133,
    "start_time": "2022-08-20T18:18:58.610Z"
   },
   {
    "duration": 12,
    "start_time": "2022-08-20T18:19:43.087Z"
   },
   {
    "duration": 180,
    "start_time": "2022-08-20T18:21:27.945Z"
   },
   {
    "duration": 1618,
    "start_time": "2022-08-20T18:59:51.466Z"
   },
   {
    "duration": 1017,
    "start_time": "2022-08-20T18:59:53.087Z"
   },
   {
    "duration": 20,
    "start_time": "2022-08-20T18:59:54.105Z"
   },
   {
    "duration": 718,
    "start_time": "2022-08-20T18:59:56.281Z"
   },
   {
    "duration": 84,
    "start_time": "2022-08-20T18:59:57.014Z"
   },
   {
    "duration": 41,
    "start_time": "2022-08-20T18:59:57.286Z"
   },
   {
    "duration": 494,
    "start_time": "2022-08-20T18:59:57.606Z"
   },
   {
    "duration": 39,
    "start_time": "2022-08-20T18:59:58.270Z"
   },
   {
    "duration": 11,
    "start_time": "2022-08-20T18:59:58.630Z"
   },
   {
    "duration": 34,
    "start_time": "2022-08-20T18:59:59.086Z"
   },
   {
    "duration": 90,
    "start_time": "2022-08-20T18:59:59.157Z"
   },
   {
    "duration": 5307,
    "start_time": "2022-08-20T19:00:03.251Z"
   },
   {
    "duration": 158,
    "start_time": "2022-08-20T19:00:08.560Z"
   },
   {
    "duration": 75,
    "start_time": "2022-08-20T19:00:08.723Z"
   },
   {
    "duration": 296,
    "start_time": "2022-08-20T19:00:15.390Z"
   },
   {
    "duration": 134,
    "start_time": "2022-08-20T19:00:23.715Z"
   },
   {
    "duration": 39,
    "start_time": "2022-08-20T19:00:25.297Z"
   },
   {
    "duration": 148,
    "start_time": "2022-08-20T19:00:26.608Z"
   },
   {
    "duration": 81,
    "start_time": "2022-08-20T19:00:32.148Z"
   },
   {
    "duration": 219,
    "start_time": "2022-08-20T19:01:02.517Z"
   },
   {
    "duration": 82,
    "start_time": "2022-08-20T19:01:05.206Z"
   },
   {
    "duration": 103,
    "start_time": "2022-08-20T19:01:09.213Z"
   },
   {
    "duration": 835,
    "start_time": "2022-08-20T19:01:13.304Z"
   },
   {
    "duration": 103,
    "start_time": "2022-08-20T19:01:14.142Z"
   },
   {
    "duration": 4,
    "start_time": "2022-08-20T19:01:14.246Z"
   },
   {
    "duration": 156,
    "start_time": "2022-08-20T19:01:14.252Z"
   },
   {
    "duration": 573,
    "start_time": "2022-08-20T19:10:22.365Z"
   },
   {
    "duration": 37,
    "start_time": "2022-08-20T19:10:22.941Z"
   },
   {
    "duration": 6,
    "start_time": "2022-08-20T19:10:23.452Z"
   },
   {
    "duration": 8400,
    "start_time": "2022-08-20T19:10:24.694Z"
   },
   {
    "duration": 95,
    "start_time": "2022-08-20T19:10:33.178Z"
   },
   {
    "duration": 104,
    "start_time": "2022-08-20T19:10:33.284Z"
   },
   {
    "duration": 216092,
    "start_time": "2022-08-20T19:10:33.391Z"
   },
   {
    "duration": 297,
    "start_time": "2022-08-20T19:14:09.488Z"
   },
   {
    "duration": 6,
    "start_time": "2022-08-20T19:14:09.790Z"
   },
   {
    "duration": 35158,
    "start_time": "2022-08-20T19:14:09.798Z"
   },
   {
    "duration": 251,
    "start_time": "2022-08-20T19:14:44.958Z"
   },
   {
    "duration": 7,
    "start_time": "2022-08-20T19:14:45.212Z"
   },
   {
    "duration": 1586,
    "start_time": "2022-08-20T19:36:53.137Z"
   },
   {
    "duration": 1057,
    "start_time": "2022-08-20T19:36:54.726Z"
   },
   {
    "duration": 24,
    "start_time": "2022-08-20T19:36:55.785Z"
   },
   {
    "duration": 146,
    "start_time": "2022-08-20T19:36:55.812Z"
   },
   {
    "duration": 128,
    "start_time": "2022-08-20T19:36:55.968Z"
   },
   {
    "duration": 212,
    "start_time": "2022-08-20T19:36:56.097Z"
   },
   {
    "duration": 32,
    "start_time": "2022-08-20T19:36:56.311Z"
   },
   {
    "duration": 51,
    "start_time": "2022-08-20T19:36:56.345Z"
   },
   {
    "duration": 54,
    "start_time": "2022-08-20T19:36:56.399Z"
   },
   {
    "duration": 40,
    "start_time": "2022-08-20T19:36:56.473Z"
   },
   {
    "duration": 34,
    "start_time": "2022-08-20T19:36:56.515Z"
   },
   {
    "duration": 85,
    "start_time": "2022-08-20T19:36:56.551Z"
   },
   {
    "duration": 143,
    "start_time": "2022-08-20T19:36:56.638Z"
   },
   {
    "duration": 147,
    "start_time": "2022-08-20T19:36:56.789Z"
   },
   {
    "duration": 271,
    "start_time": "2022-08-20T19:36:56.938Z"
   },
   {
    "duration": 8,
    "start_time": "2022-08-20T19:36:57.211Z"
   },
   {
    "duration": 313,
    "start_time": "2022-08-20T19:36:57.221Z"
   },
   {
    "duration": 8,
    "start_time": "2022-08-20T19:36:57.536Z"
   },
   {
    "duration": 76,
    "start_time": "2022-08-20T19:36:57.546Z"
   },
   {
    "duration": 80,
    "start_time": "2022-08-20T19:36:57.625Z"
   },
   {
    "duration": 268,
    "start_time": "2022-08-20T19:36:57.707Z"
   },
   {
    "duration": 11,
    "start_time": "2022-08-20T19:36:57.977Z"
   },
   {
    "duration": 12,
    "start_time": "2022-08-20T19:36:57.991Z"
   },
   {
    "duration": 305,
    "start_time": "2022-08-20T19:36:58.005Z"
   },
   {
    "duration": 11,
    "start_time": "2022-08-20T19:36:58.312Z"
   },
   {
    "duration": 595,
    "start_time": "2022-08-20T19:36:58.325Z"
   },
   {
    "duration": 601,
    "start_time": "2022-08-20T19:36:58.922Z"
   },
   {
    "duration": 689,
    "start_time": "2022-08-20T19:36:59.525Z"
   },
   {
    "duration": 101,
    "start_time": "2022-08-20T19:37:00.216Z"
   },
   {
    "duration": 624,
    "start_time": "2022-08-20T19:37:00.319Z"
   },
   {
    "duration": 654,
    "start_time": "2022-08-20T19:37:00.945Z"
   },
   {
    "duration": 91,
    "start_time": "2022-08-20T19:37:01.601Z"
   },
   {
    "duration": 39,
    "start_time": "2022-08-20T19:37:01.694Z"
   },
   {
    "duration": 508,
    "start_time": "2022-08-20T19:37:01.734Z"
   },
   {
    "duration": 46,
    "start_time": "2022-08-20T19:37:02.244Z"
   },
   {
    "duration": 10,
    "start_time": "2022-08-20T19:37:02.291Z"
   },
   {
    "duration": 40,
    "start_time": "2022-08-20T19:37:02.304Z"
   },
   {
    "duration": 118,
    "start_time": "2022-08-20T19:37:02.346Z"
   },
   {
    "duration": 5581,
    "start_time": "2022-08-20T19:37:02.466Z"
   },
   {
    "duration": 160,
    "start_time": "2022-08-20T19:37:08.049Z"
   },
   {
    "duration": 72,
    "start_time": "2022-08-20T19:37:08.214Z"
   },
   {
    "duration": 276,
    "start_time": "2022-08-20T19:37:08.288Z"
   },
   {
    "duration": 206,
    "start_time": "2022-08-20T19:37:08.572Z"
   },
   {
    "duration": 33,
    "start_time": "2022-08-20T19:37:08.780Z"
   },
   {
    "duration": 106,
    "start_time": "2022-08-20T19:37:08.816Z"
   },
   {
    "duration": 814,
    "start_time": "2022-08-20T19:37:08.925Z"
   },
   {
    "duration": 102,
    "start_time": "2022-08-20T19:37:09.741Z"
   },
   {
    "duration": 4,
    "start_time": "2022-08-20T19:37:09.845Z"
   },
   {
    "duration": 169,
    "start_time": "2022-08-20T19:37:09.851Z"
   },
   {
    "duration": 539,
    "start_time": "2022-08-20T19:37:10.022Z"
   },
   {
    "duration": 19,
    "start_time": "2022-08-20T19:37:10.562Z"
   },
   {
    "duration": 10,
    "start_time": "2022-08-20T19:37:10.583Z"
   },
   {
    "duration": 7795,
    "start_time": "2022-08-20T19:37:10.594Z"
   },
   {
    "duration": 91,
    "start_time": "2022-08-20T19:37:18.392Z"
   },
   {
    "duration": 199,
    "start_time": "2022-08-20T19:37:18.485Z"
   },
   {
    "duration": 211894,
    "start_time": "2022-08-20T19:37:18.686Z"
   },
   {
    "duration": 301,
    "start_time": "2022-08-20T19:40:50.582Z"
   },
   {
    "duration": 7,
    "start_time": "2022-08-20T19:40:50.886Z"
   },
   {
    "duration": 36421,
    "start_time": "2022-08-20T19:40:50.896Z"
   },
   {
    "duration": 235,
    "start_time": "2022-08-20T19:41:27.318Z"
   },
   {
    "duration": 17,
    "start_time": "2022-08-20T19:41:27.555Z"
   },
   {
    "duration": 31990,
    "start_time": "2022-08-20T21:01:50.982Z"
   },
   {
    "duration": 1548,
    "start_time": "2022-08-20T21:04:47.344Z"
   },
   {
    "duration": 917,
    "start_time": "2022-08-20T21:04:48.894Z"
   },
   {
    "duration": 20,
    "start_time": "2022-08-20T21:04:49.813Z"
   },
   {
    "duration": 145,
    "start_time": "2022-08-20T21:04:49.835Z"
   },
   {
    "duration": 127,
    "start_time": "2022-08-20T21:04:49.983Z"
   },
   {
    "duration": 199,
    "start_time": "2022-08-20T21:04:50.112Z"
   },
   {
    "duration": 33,
    "start_time": "2022-08-20T21:04:50.313Z"
   },
   {
    "duration": 44,
    "start_time": "2022-08-20T21:04:50.348Z"
   },
   {
    "duration": 34,
    "start_time": "2022-08-20T21:04:50.393Z"
   },
   {
    "duration": 46,
    "start_time": "2022-08-20T21:04:50.429Z"
   },
   {
    "duration": 37,
    "start_time": "2022-08-20T21:04:50.477Z"
   },
   {
    "duration": 55,
    "start_time": "2022-08-20T21:04:50.517Z"
   },
   {
    "duration": 117,
    "start_time": "2022-08-20T21:04:50.574Z"
   },
   {
    "duration": 123,
    "start_time": "2022-08-20T21:04:50.694Z"
   },
   {
    "duration": 224,
    "start_time": "2022-08-20T21:04:50.819Z"
   },
   {
    "duration": 6,
    "start_time": "2022-08-20T21:04:51.045Z"
   },
   {
    "duration": 210,
    "start_time": "2022-08-20T21:04:51.067Z"
   },
   {
    "duration": 7,
    "start_time": "2022-08-20T21:04:51.280Z"
   },
   {
    "duration": 39,
    "start_time": "2022-08-20T21:04:51.289Z"
   },
   {
    "duration": 11,
    "start_time": "2022-08-20T21:04:51.330Z"
   },
   {
    "duration": 225,
    "start_time": "2022-08-20T21:04:51.343Z"
   },
   {
    "duration": 8,
    "start_time": "2022-08-20T21:04:51.570Z"
   },
   {
    "duration": 11,
    "start_time": "2022-08-20T21:04:51.580Z"
   },
   {
    "duration": 266,
    "start_time": "2022-08-20T21:04:51.592Z"
   },
   {
    "duration": 13,
    "start_time": "2022-08-20T21:04:51.861Z"
   },
   {
    "duration": 567,
    "start_time": "2022-08-20T21:04:51.876Z"
   },
   {
    "duration": 585,
    "start_time": "2022-08-20T21:04:52.445Z"
   },
   {
    "duration": 660,
    "start_time": "2022-08-20T21:04:53.035Z"
   },
   {
    "duration": 102,
    "start_time": "2022-08-20T21:04:53.697Z"
   },
   {
    "duration": 601,
    "start_time": "2022-08-20T21:04:53.801Z"
   },
   {
    "duration": 629,
    "start_time": "2022-08-20T21:04:54.404Z"
   },
   {
    "duration": 93,
    "start_time": "2022-08-20T21:04:55.035Z"
   },
   {
    "duration": 54,
    "start_time": "2022-08-20T21:04:55.130Z"
   },
   {
    "duration": 445,
    "start_time": "2022-08-20T21:04:55.186Z"
   },
   {
    "duration": 47,
    "start_time": "2022-08-20T21:04:55.634Z"
   },
   {
    "duration": 10,
    "start_time": "2022-08-20T21:04:55.683Z"
   },
   {
    "duration": 77,
    "start_time": "2022-08-20T21:04:55.695Z"
   },
   {
    "duration": 81,
    "start_time": "2022-08-20T21:04:55.774Z"
   },
   {
    "duration": 5216,
    "start_time": "2022-08-20T21:04:55.868Z"
   },
   {
    "duration": 154,
    "start_time": "2022-08-20T21:05:01.087Z"
   },
   {
    "duration": 91,
    "start_time": "2022-08-20T21:05:01.246Z"
   },
   {
    "duration": 357,
    "start_time": "2022-08-20T21:05:01.339Z"
   },
   {
    "duration": 221,
    "start_time": "2022-08-20T21:05:01.698Z"
   },
   {
    "duration": 61,
    "start_time": "2022-08-20T21:05:01.922Z"
   },
   {
    "duration": 104,
    "start_time": "2022-08-20T21:05:01.986Z"
   },
   {
    "duration": 826,
    "start_time": "2022-08-20T21:05:02.093Z"
   },
   {
    "duration": 137,
    "start_time": "2022-08-20T21:05:02.921Z"
   },
   {
    "duration": 11,
    "start_time": "2022-08-20T21:05:03.060Z"
   },
   {
    "duration": 177,
    "start_time": "2022-08-20T21:05:03.073Z"
   },
   {
    "duration": 558,
    "start_time": "2022-08-20T21:05:03.252Z"
   },
   {
    "duration": 13,
    "start_time": "2022-08-20T21:05:03.811Z"
   },
   {
    "duration": 9,
    "start_time": "2022-08-20T21:05:03.825Z"
   },
   {
    "duration": 8239,
    "start_time": "2022-08-20T21:05:03.836Z"
   },
   {
    "duration": 93,
    "start_time": "2022-08-20T21:05:12.084Z"
   },
   {
    "duration": 192,
    "start_time": "2022-08-20T21:05:12.184Z"
   },
   {
    "duration": 151392,
    "start_time": "2022-08-20T21:05:12.379Z"
   },
   {
    "duration": 295,
    "start_time": "2022-08-20T21:07:43.773Z"
   },
   {
    "duration": 6,
    "start_time": "2022-08-20T21:07:44.070Z"
   },
   {
    "duration": 33301,
    "start_time": "2022-08-20T21:07:44.078Z"
   },
   {
    "duration": 240,
    "start_time": "2022-08-20T21:08:17.381Z"
   },
   {
    "duration": 6,
    "start_time": "2022-08-20T21:08:17.624Z"
   },
   {
    "duration": 1587,
    "start_time": "2022-08-20T21:09:20.226Z"
   },
   {
    "duration": 1016,
    "start_time": "2022-08-20T21:09:21.815Z"
   },
   {
    "duration": 22,
    "start_time": "2022-08-20T21:09:22.833Z"
   },
   {
    "duration": 132,
    "start_time": "2022-08-20T21:09:22.869Z"
   },
   {
    "duration": 131,
    "start_time": "2022-08-20T21:09:23.004Z"
   },
   {
    "duration": 201,
    "start_time": "2022-08-20T21:09:23.137Z"
   },
   {
    "duration": 29,
    "start_time": "2022-08-20T21:09:24.158Z"
   },
   {
    "duration": 29,
    "start_time": "2022-08-20T21:09:24.400Z"
   },
   {
    "duration": 35,
    "start_time": "2022-08-20T21:09:24.924Z"
   },
   {
    "duration": 31,
    "start_time": "2022-08-20T21:09:25.220Z"
   },
   {
    "duration": 49,
    "start_time": "2022-08-20T21:09:25.460Z"
   },
   {
    "duration": 36,
    "start_time": "2022-08-20T21:09:25.678Z"
   },
   {
    "duration": 126,
    "start_time": "2022-08-20T21:09:26.196Z"
   },
   {
    "duration": 122,
    "start_time": "2022-08-20T21:09:26.381Z"
   },
   {
    "duration": 233,
    "start_time": "2022-08-20T21:09:26.817Z"
   },
   {
    "duration": 16,
    "start_time": "2022-08-20T21:09:27.053Z"
   },
   {
    "duration": 246,
    "start_time": "2022-08-20T21:09:27.901Z"
   },
   {
    "duration": 8,
    "start_time": "2022-08-20T21:09:28.330Z"
   },
   {
    "duration": 24,
    "start_time": "2022-08-20T21:09:28.606Z"
   },
   {
    "duration": 8,
    "start_time": "2022-08-20T21:09:28.874Z"
   },
   {
    "duration": 204,
    "start_time": "2022-08-20T21:09:29.445Z"
   },
   {
    "duration": 7,
    "start_time": "2022-08-20T21:09:29.717Z"
   },
   {
    "duration": 7,
    "start_time": "2022-08-20T21:09:29.917Z"
   },
   {
    "duration": 273,
    "start_time": "2022-08-20T21:09:30.406Z"
   },
   {
    "duration": 10,
    "start_time": "2022-08-20T21:09:30.681Z"
   },
   {
    "duration": 545,
    "start_time": "2022-08-20T21:09:31.381Z"
   },
   {
    "duration": 614,
    "start_time": "2022-08-20T21:09:33.672Z"
   },
   {
    "duration": 717,
    "start_time": "2022-08-20T21:09:34.289Z"
   },
   {
    "duration": 101,
    "start_time": "2022-08-20T21:09:35.008Z"
   },
   {
    "duration": 641,
    "start_time": "2022-08-20T21:09:35.111Z"
   },
   {
    "duration": 648,
    "start_time": "2022-08-20T21:09:36.292Z"
   },
   {
    "duration": 89,
    "start_time": "2022-08-20T21:09:37.262Z"
   },
   {
    "duration": 39,
    "start_time": "2022-08-20T21:09:37.944Z"
   },
   {
    "duration": 434,
    "start_time": "2022-08-20T21:09:38.499Z"
   },
   {
    "duration": 28,
    "start_time": "2022-08-20T21:09:39.611Z"
   },
   {
    "duration": 10,
    "start_time": "2022-08-20T21:09:40.129Z"
   },
   {
    "duration": 34,
    "start_time": "2022-08-20T21:09:40.637Z"
   },
   {
    "duration": 85,
    "start_time": "2022-08-20T21:09:40.889Z"
   },
   {
    "duration": 5129,
    "start_time": "2022-08-20T21:09:41.417Z"
   },
   {
    "duration": 188,
    "start_time": "2022-08-20T21:09:46.549Z"
   },
   {
    "duration": 73,
    "start_time": "2022-08-20T21:09:46.739Z"
   },
   {
    "duration": 328,
    "start_time": "2022-08-20T21:09:46.816Z"
   },
   {
    "duration": 207,
    "start_time": "2022-08-20T21:09:47.146Z"
   },
   {
    "duration": 36,
    "start_time": "2022-08-20T21:09:47.354Z"
   },
   {
    "duration": 112,
    "start_time": "2022-08-20T21:09:47.393Z"
   },
   {
    "duration": 788,
    "start_time": "2022-08-20T21:09:47.507Z"
   },
   {
    "duration": 101,
    "start_time": "2022-08-20T21:09:48.297Z"
   },
   {
    "duration": 5,
    "start_time": "2022-08-20T21:09:48.401Z"
   },
   {
    "duration": 189,
    "start_time": "2022-08-20T21:09:48.408Z"
   },
   {
    "duration": 687,
    "start_time": "2022-08-20T21:09:51.141Z"
   },
   {
    "duration": 15,
    "start_time": "2022-08-20T21:09:53.056Z"
   },
   {
    "duration": 6,
    "start_time": "2022-08-20T21:09:55.349Z"
   },
   {
    "duration": 8853,
    "start_time": "2022-08-20T21:10:00.127Z"
   },
   {
    "duration": 21,
    "start_time": "2022-08-20T21:10:09.068Z"
   },
   {
    "duration": 5,
    "start_time": "2022-08-20T21:10:10.926Z"
   },
   {
    "duration": 148041,
    "start_time": "2022-08-20T21:10:28.460Z"
   },
   {
    "duration": 6,
    "start_time": "2022-08-20T21:16:40.474Z"
   },
   {
    "duration": 805,
    "start_time": "2022-08-20T21:16:40.637Z"
   },
   {
    "duration": 15,
    "start_time": "2022-08-20T21:16:41.444Z"
   },
   {
    "duration": 156,
    "start_time": "2022-08-20T21:16:41.461Z"
   },
   {
    "duration": 115,
    "start_time": "2022-08-20T21:16:41.619Z"
   },
   {
    "duration": 187,
    "start_time": "2022-08-20T21:16:41.736Z"
   },
   {
    "duration": 29,
    "start_time": "2022-08-20T21:16:41.925Z"
   },
   {
    "duration": 30,
    "start_time": "2022-08-20T21:16:41.977Z"
   },
   {
    "duration": 39,
    "start_time": "2022-08-20T21:16:42.159Z"
   },
   {
    "duration": 32,
    "start_time": "2022-08-20T21:16:42.307Z"
   },
   {
    "duration": 33,
    "start_time": "2022-08-20T21:16:42.428Z"
   },
   {
    "duration": 32,
    "start_time": "2022-08-20T21:16:42.578Z"
   },
   {
    "duration": 99,
    "start_time": "2022-08-20T21:16:42.825Z"
   },
   {
    "duration": 100,
    "start_time": "2022-08-20T21:16:42.978Z"
   },
   {
    "duration": 203,
    "start_time": "2022-08-20T21:16:43.294Z"
   },
   {
    "duration": 6,
    "start_time": "2022-08-20T21:16:43.499Z"
   },
   {
    "duration": 217,
    "start_time": "2022-08-20T21:16:43.819Z"
   },
   {
    "duration": 7,
    "start_time": "2022-08-20T21:16:44.038Z"
   },
   {
    "duration": 24,
    "start_time": "2022-08-20T21:16:44.178Z"
   },
   {
    "duration": 10,
    "start_time": "2022-08-20T21:16:44.365Z"
   },
   {
    "duration": 191,
    "start_time": "2022-08-20T21:16:44.718Z"
   },
   {
    "duration": 5,
    "start_time": "2022-08-20T21:16:44.911Z"
   },
   {
    "duration": 5,
    "start_time": "2022-08-20T21:16:45.060Z"
   },
   {
    "duration": 180,
    "start_time": "2022-08-20T21:16:45.400Z"
   },
   {
    "duration": 8,
    "start_time": "2022-08-20T21:16:45.582Z"
   },
   {
    "duration": 405,
    "start_time": "2022-08-20T21:16:45.948Z"
   },
   {
    "duration": 500,
    "start_time": "2022-08-20T21:16:46.355Z"
   },
   {
    "duration": 569,
    "start_time": "2022-08-20T21:16:46.857Z"
   },
   {
    "duration": 88,
    "start_time": "2022-08-20T21:16:47.428Z"
   },
   {
    "duration": 605,
    "start_time": "2022-08-20T21:16:47.518Z"
   },
   {
    "duration": 476,
    "start_time": "2022-08-20T21:16:48.125Z"
   },
   {
    "duration": 85,
    "start_time": "2022-08-20T21:16:48.603Z"
   },
   {
    "duration": 36,
    "start_time": "2022-08-20T21:16:48.689Z"
   },
   {
    "duration": 398,
    "start_time": "2022-08-20T21:16:48.856Z"
   },
   {
    "duration": 24,
    "start_time": "2022-08-20T21:16:49.591Z"
   },
   {
    "duration": 9,
    "start_time": "2022-08-20T21:16:49.933Z"
   },
   {
    "duration": 30,
    "start_time": "2022-08-20T21:16:50.333Z"
   },
   {
    "duration": 74,
    "start_time": "2022-08-20T21:16:50.518Z"
   },
   {
    "duration": 4897,
    "start_time": "2022-08-20T21:16:50.878Z"
   },
   {
    "duration": 131,
    "start_time": "2022-08-20T21:16:55.782Z"
   },
   {
    "duration": 74,
    "start_time": "2022-08-20T21:16:55.914Z"
   },
   {
    "duration": 268,
    "start_time": "2022-08-20T21:16:55.990Z"
   },
   {
    "duration": 219,
    "start_time": "2022-08-20T21:16:56.260Z"
   },
   {
    "duration": 36,
    "start_time": "2022-08-20T21:16:56.484Z"
   },
   {
    "duration": 121,
    "start_time": "2022-08-20T21:16:56.523Z"
   },
   {
    "duration": 749,
    "start_time": "2022-08-20T21:16:56.647Z"
   },
   {
    "duration": 87,
    "start_time": "2022-08-20T21:16:57.397Z"
   },
   {
    "duration": 5,
    "start_time": "2022-08-20T21:16:57.486Z"
   },
   {
    "duration": 153,
    "start_time": "2022-08-20T21:16:57.493Z"
   },
   {
    "duration": 493,
    "start_time": "2022-08-20T21:16:59.626Z"
   },
   {
    "duration": 11,
    "start_time": "2022-08-20T21:17:00.740Z"
   },
   {
    "duration": 5,
    "start_time": "2022-08-20T21:17:01.847Z"
   },
   {
    "duration": 7229,
    "start_time": "2022-08-20T21:17:04.051Z"
   },
   {
    "duration": 90,
    "start_time": "2022-08-20T21:17:11.282Z"
   },
   {
    "duration": 112,
    "start_time": "2022-08-20T21:17:11.374Z"
   },
   {
    "duration": 28169,
    "start_time": "2022-08-20T21:17:13.819Z"
   },
   {
    "duration": 293,
    "start_time": "2022-08-20T21:17:41.991Z"
   },
   {
    "duration": 6,
    "start_time": "2022-08-20T21:17:42.288Z"
   },
   {
    "duration": 32822,
    "start_time": "2022-08-20T21:17:52.762Z"
   },
   {
    "duration": 238,
    "start_time": "2022-08-20T21:18:25.586Z"
   },
   {
    "duration": 5,
    "start_time": "2022-08-20T21:18:25.826Z"
   },
   {
    "duration": 1555,
    "start_time": "2022-08-20T21:26:55.639Z"
   },
   {
    "duration": 907,
    "start_time": "2022-08-20T21:26:57.196Z"
   },
   {
    "duration": 19,
    "start_time": "2022-08-20T21:26:58.105Z"
   },
   {
    "duration": 150,
    "start_time": "2022-08-20T21:26:58.125Z"
   },
   {
    "duration": 123,
    "start_time": "2022-08-20T21:26:58.278Z"
   },
   {
    "duration": 203,
    "start_time": "2022-08-20T21:26:58.403Z"
   },
   {
    "duration": 32,
    "start_time": "2022-08-20T21:26:58.609Z"
   },
   {
    "duration": 58,
    "start_time": "2022-08-20T21:26:58.643Z"
   },
   {
    "duration": 46,
    "start_time": "2022-08-20T21:26:58.703Z"
   },
   {
    "duration": 102,
    "start_time": "2022-08-20T21:26:58.751Z"
   },
   {
    "duration": 60,
    "start_time": "2022-08-20T21:26:58.854Z"
   },
   {
    "duration": 59,
    "start_time": "2022-08-20T21:26:58.916Z"
   },
   {
    "duration": 133,
    "start_time": "2022-08-20T21:26:58.979Z"
   },
   {
    "duration": 120,
    "start_time": "2022-08-20T21:26:59.115Z"
   },
   {
    "duration": 220,
    "start_time": "2022-08-20T21:26:59.236Z"
   },
   {
    "duration": 19,
    "start_time": "2022-08-20T21:26:59.459Z"
   },
   {
    "duration": 234,
    "start_time": "2022-08-20T21:26:59.481Z"
   },
   {
    "duration": 6,
    "start_time": "2022-08-20T21:26:59.717Z"
   },
   {
    "duration": 26,
    "start_time": "2022-08-20T21:26:59.725Z"
   },
   {
    "duration": 26,
    "start_time": "2022-08-20T21:26:59.753Z"
   },
   {
    "duration": 198,
    "start_time": "2022-08-20T21:26:59.781Z"
   },
   {
    "duration": 7,
    "start_time": "2022-08-20T21:26:59.981Z"
   },
   {
    "duration": 6,
    "start_time": "2022-08-20T21:26:59.990Z"
   },
   {
    "duration": 262,
    "start_time": "2022-08-20T21:26:59.997Z"
   },
   {
    "duration": 23,
    "start_time": "2022-08-20T21:27:00.261Z"
   },
   {
    "duration": 508,
    "start_time": "2022-08-20T21:27:00.286Z"
   },
   {
    "duration": 547,
    "start_time": "2022-08-20T21:27:00.796Z"
   },
   {
    "duration": 663,
    "start_time": "2022-08-20T21:27:01.345Z"
   },
   {
    "duration": 92,
    "start_time": "2022-08-20T21:27:02.009Z"
   },
   {
    "duration": 604,
    "start_time": "2022-08-20T21:27:02.103Z"
   },
   {
    "duration": 634,
    "start_time": "2022-08-20T21:27:02.709Z"
   },
   {
    "duration": 90,
    "start_time": "2022-08-20T21:27:03.345Z"
   },
   {
    "duration": 66,
    "start_time": "2022-08-20T21:27:03.438Z"
   },
   {
    "duration": 455,
    "start_time": "2022-08-20T21:27:03.507Z"
   },
   {
    "duration": 39,
    "start_time": "2022-08-20T21:27:03.964Z"
   },
   {
    "duration": 10,
    "start_time": "2022-08-20T21:27:04.006Z"
   },
   {
    "duration": 63,
    "start_time": "2022-08-20T21:27:04.018Z"
   },
   {
    "duration": 101,
    "start_time": "2022-08-20T21:27:04.083Z"
   },
   {
    "duration": 4969,
    "start_time": "2022-08-20T21:27:04.186Z"
   },
   {
    "duration": 149,
    "start_time": "2022-08-20T21:27:09.156Z"
   },
   {
    "duration": 44,
    "start_time": "2022-08-20T21:27:09.309Z"
   },
   {
    "duration": 284,
    "start_time": "2022-08-20T21:27:09.355Z"
   },
   {
    "duration": 219,
    "start_time": "2022-08-20T21:27:09.641Z"
   },
   {
    "duration": 39,
    "start_time": "2022-08-20T21:27:09.861Z"
   },
   {
    "duration": 98,
    "start_time": "2022-08-20T21:27:09.902Z"
   },
   {
    "duration": 821,
    "start_time": "2022-08-20T21:27:10.002Z"
   },
   {
    "duration": 98,
    "start_time": "2022-08-20T21:27:10.824Z"
   },
   {
    "duration": 4,
    "start_time": "2022-08-20T21:27:10.924Z"
   },
   {
    "duration": 162,
    "start_time": "2022-08-20T21:27:10.930Z"
   },
   {
    "duration": 484,
    "start_time": "2022-08-20T21:27:11.094Z"
   },
   {
    "duration": 11,
    "start_time": "2022-08-20T21:27:11.580Z"
   },
   {
    "duration": 5,
    "start_time": "2022-08-20T21:27:11.593Z"
   },
   {
    "duration": 7189,
    "start_time": "2022-08-20T21:27:11.600Z"
   },
   {
    "duration": 14,
    "start_time": "2022-08-20T21:27:18.868Z"
   },
   {
    "duration": 191,
    "start_time": "2022-08-20T21:27:18.884Z"
   },
   {
    "duration": 19009,
    "start_time": "2022-08-20T21:27:19.077Z"
   },
   {
    "duration": 291,
    "start_time": "2022-08-20T21:27:38.088Z"
   },
   {
    "duration": 5,
    "start_time": "2022-08-20T21:27:38.382Z"
   },
   {
    "duration": 32632,
    "start_time": "2022-08-20T21:27:38.389Z"
   },
   {
    "duration": 233,
    "start_time": "2022-08-20T21:28:11.022Z"
   },
   {
    "duration": 10,
    "start_time": "2022-08-20T21:28:11.257Z"
   },
   {
    "duration": 1595,
    "start_time": "2022-08-20T21:34:40.519Z"
   },
   {
    "duration": 989,
    "start_time": "2022-08-20T21:34:42.116Z"
   },
   {
    "duration": 21,
    "start_time": "2022-08-20T21:34:43.107Z"
   },
   {
    "duration": 142,
    "start_time": "2022-08-20T21:34:43.130Z"
   },
   {
    "duration": 124,
    "start_time": "2022-08-20T21:34:43.273Z"
   },
   {
    "duration": 193,
    "start_time": "2022-08-20T21:34:43.400Z"
   },
   {
    "duration": 31,
    "start_time": "2022-08-20T21:34:43.595Z"
   },
   {
    "duration": 43,
    "start_time": "2022-08-20T21:34:43.628Z"
   },
   {
    "duration": 34,
    "start_time": "2022-08-20T21:34:43.673Z"
   },
   {
    "duration": 32,
    "start_time": "2022-08-20T21:34:43.709Z"
   },
   {
    "duration": 53,
    "start_time": "2022-08-20T21:34:43.743Z"
   },
   {
    "duration": 34,
    "start_time": "2022-08-20T21:34:43.798Z"
   },
   {
    "duration": 120,
    "start_time": "2022-08-20T21:34:43.833Z"
   },
   {
    "duration": 119,
    "start_time": "2022-08-20T21:34:43.955Z"
   },
   {
    "duration": 219,
    "start_time": "2022-08-20T21:34:44.075Z"
   },
   {
    "duration": 6,
    "start_time": "2022-08-20T21:34:44.296Z"
   },
   {
    "duration": 215,
    "start_time": "2022-08-20T21:34:44.304Z"
   },
   {
    "duration": 7,
    "start_time": "2022-08-20T21:34:44.520Z"
   },
   {
    "duration": 21,
    "start_time": "2022-08-20T21:34:44.529Z"
   },
   {
    "duration": 6,
    "start_time": "2022-08-20T21:34:44.568Z"
   },
   {
    "duration": 195,
    "start_time": "2022-08-20T21:34:44.575Z"
   },
   {
    "duration": 7,
    "start_time": "2022-08-20T21:34:44.772Z"
   },
   {
    "duration": 8,
    "start_time": "2022-08-20T21:34:44.780Z"
   },
   {
    "duration": 259,
    "start_time": "2022-08-20T21:34:44.790Z"
   },
   {
    "duration": 21,
    "start_time": "2022-08-20T21:34:45.051Z"
   },
   {
    "duration": 506,
    "start_time": "2022-08-20T21:34:45.075Z"
   },
   {
    "duration": 559,
    "start_time": "2022-08-20T21:34:45.584Z"
   },
   {
    "duration": 686,
    "start_time": "2022-08-20T21:34:46.147Z"
   },
   {
    "duration": 96,
    "start_time": "2022-08-20T21:34:46.835Z"
   },
   {
    "duration": 620,
    "start_time": "2022-08-20T21:34:46.933Z"
   },
   {
    "duration": 617,
    "start_time": "2022-08-20T21:34:47.555Z"
   },
   {
    "duration": 77,
    "start_time": "2022-08-20T21:34:48.174Z"
   },
   {
    "duration": 48,
    "start_time": "2022-08-20T21:34:48.253Z"
   },
   {
    "duration": 441,
    "start_time": "2022-08-20T21:34:48.303Z"
   },
   {
    "duration": 43,
    "start_time": "2022-08-20T21:34:48.746Z"
   },
   {
    "duration": 9,
    "start_time": "2022-08-20T21:34:48.790Z"
   },
   {
    "duration": 32,
    "start_time": "2022-08-20T21:34:48.801Z"
   },
   {
    "duration": 104,
    "start_time": "2022-08-20T21:34:48.834Z"
   },
   {
    "duration": 4828,
    "start_time": "2022-08-20T21:34:48.940Z"
   },
   {
    "duration": 145,
    "start_time": "2022-08-20T21:34:53.770Z"
   },
   {
    "duration": 57,
    "start_time": "2022-08-20T21:34:53.917Z"
   },
   {
    "duration": 282,
    "start_time": "2022-08-20T21:34:53.976Z"
   },
   {
    "duration": 210,
    "start_time": "2022-08-20T21:34:54.260Z"
   },
   {
    "duration": 33,
    "start_time": "2022-08-20T21:34:54.471Z"
   },
   {
    "duration": 103,
    "start_time": "2022-08-20T21:34:54.505Z"
   },
   {
    "duration": 768,
    "start_time": "2022-08-20T21:34:54.610Z"
   },
   {
    "duration": 109,
    "start_time": "2022-08-20T21:34:55.380Z"
   },
   {
    "duration": 5,
    "start_time": "2022-08-20T21:34:55.492Z"
   },
   {
    "duration": 176,
    "start_time": "2022-08-20T21:34:55.499Z"
   },
   {
    "duration": 464,
    "start_time": "2022-08-20T21:34:55.677Z"
   },
   {
    "duration": 10,
    "start_time": "2022-08-20T21:34:56.143Z"
   },
   {
    "duration": 17,
    "start_time": "2022-08-20T21:34:56.155Z"
   },
   {
    "duration": 7207,
    "start_time": "2022-08-20T21:34:56.174Z"
   },
   {
    "duration": 88,
    "start_time": "2022-08-20T21:35:03.383Z"
   },
   {
    "duration": 106,
    "start_time": "2022-08-20T21:35:03.474Z"
   },
   {
    "duration": 166495,
    "start_time": "2022-08-20T21:35:03.582Z"
   },
   {
    "duration": 389,
    "start_time": "2022-08-20T21:37:50.079Z"
   },
   {
    "duration": 5,
    "start_time": "2022-08-20T21:37:50.470Z"
   },
   {
    "duration": 32642,
    "start_time": "2022-08-20T21:37:50.477Z"
   },
   {
    "duration": 247,
    "start_time": "2022-08-20T21:38:23.121Z"
   },
   {
    "duration": 5,
    "start_time": "2022-08-20T21:38:23.370Z"
   },
   {
    "duration": 1570,
    "start_time": "2022-08-20T21:52:02.259Z"
   },
   {
    "duration": 929,
    "start_time": "2022-08-20T21:52:03.832Z"
   },
   {
    "duration": 21,
    "start_time": "2022-08-20T21:52:04.763Z"
   },
   {
    "duration": 160,
    "start_time": "2022-08-20T21:52:04.786Z"
   },
   {
    "duration": 149,
    "start_time": "2022-08-20T21:52:04.950Z"
   },
   {
    "duration": 210,
    "start_time": "2022-08-20T21:52:05.101Z"
   },
   {
    "duration": 32,
    "start_time": "2022-08-20T21:52:05.313Z"
   },
   {
    "duration": 51,
    "start_time": "2022-08-20T21:52:05.347Z"
   },
   {
    "duration": 39,
    "start_time": "2022-08-20T21:52:05.400Z"
   },
   {
    "duration": 38,
    "start_time": "2022-08-20T21:52:05.441Z"
   },
   {
    "duration": 40,
    "start_time": "2022-08-20T21:52:05.481Z"
   },
   {
    "duration": 86,
    "start_time": "2022-08-20T21:52:05.524Z"
   },
   {
    "duration": 127,
    "start_time": "2022-08-20T21:52:05.613Z"
   },
   {
    "duration": 136,
    "start_time": "2022-08-20T21:52:05.745Z"
   },
   {
    "duration": 230,
    "start_time": "2022-08-20T21:52:05.883Z"
   },
   {
    "duration": 7,
    "start_time": "2022-08-20T21:52:06.115Z"
   },
   {
    "duration": 226,
    "start_time": "2022-08-20T21:52:06.124Z"
   },
   {
    "duration": 20,
    "start_time": "2022-08-20T21:52:06.353Z"
   },
   {
    "duration": 25,
    "start_time": "2022-08-20T21:52:06.376Z"
   },
   {
    "duration": 6,
    "start_time": "2022-08-20T21:52:06.404Z"
   },
   {
    "duration": 263,
    "start_time": "2022-08-20T21:52:06.412Z"
   },
   {
    "duration": 12,
    "start_time": "2022-08-20T21:52:06.678Z"
   },
   {
    "duration": 15,
    "start_time": "2022-08-20T21:52:06.692Z"
   },
   {
    "duration": 294,
    "start_time": "2022-08-20T21:52:06.709Z"
   },
   {
    "duration": 11,
    "start_time": "2022-08-20T21:52:07.006Z"
   },
   {
    "duration": 560,
    "start_time": "2022-08-20T21:52:07.019Z"
   },
   {
    "duration": 580,
    "start_time": "2022-08-20T21:52:07.581Z"
   },
   {
    "duration": 644,
    "start_time": "2022-08-20T21:52:08.167Z"
   },
   {
    "duration": 91,
    "start_time": "2022-08-20T21:52:08.813Z"
   },
   {
    "duration": 578,
    "start_time": "2022-08-20T21:52:08.906Z"
   },
   {
    "duration": 612,
    "start_time": "2022-08-20T21:52:09.486Z"
   },
   {
    "duration": 92,
    "start_time": "2022-08-20T21:52:10.100Z"
   },
   {
    "duration": 40,
    "start_time": "2022-08-20T21:52:10.194Z"
   },
   {
    "duration": 443,
    "start_time": "2022-08-20T21:52:10.236Z"
   },
   {
    "duration": 36,
    "start_time": "2022-08-20T21:52:10.681Z"
   },
   {
    "duration": 11,
    "start_time": "2022-08-20T21:52:10.721Z"
   },
   {
    "duration": 67,
    "start_time": "2022-08-20T21:52:10.734Z"
   },
   {
    "duration": 85,
    "start_time": "2022-08-20T21:52:10.803Z"
   },
   {
    "duration": 4740,
    "start_time": "2022-08-20T21:52:10.889Z"
   },
   {
    "duration": 143,
    "start_time": "2022-08-20T21:52:15.632Z"
   },
   {
    "duration": 50,
    "start_time": "2022-08-20T21:52:15.780Z"
   },
   {
    "duration": 302,
    "start_time": "2022-08-20T21:52:15.832Z"
   },
   {
    "duration": 206,
    "start_time": "2022-08-20T21:52:16.137Z"
   },
   {
    "duration": 44,
    "start_time": "2022-08-20T21:52:16.345Z"
   },
   {
    "duration": 95,
    "start_time": "2022-08-20T21:52:16.391Z"
   },
   {
    "duration": 791,
    "start_time": "2022-08-20T21:52:16.487Z"
   },
   {
    "duration": 100,
    "start_time": "2022-08-20T21:52:17.280Z"
   },
   {
    "duration": 4,
    "start_time": "2022-08-20T21:52:17.382Z"
   },
   {
    "duration": 165,
    "start_time": "2022-08-20T21:52:17.388Z"
   },
   {
    "duration": 490,
    "start_time": "2022-08-20T21:52:17.554Z"
   },
   {
    "duration": 24,
    "start_time": "2022-08-20T21:52:18.045Z"
   },
   {
    "duration": 6,
    "start_time": "2022-08-20T21:52:18.071Z"
   },
   {
    "duration": 6800,
    "start_time": "2022-08-20T21:52:18.079Z"
   },
   {
    "duration": 92,
    "start_time": "2022-08-20T21:52:24.881Z"
   },
   {
    "duration": 97,
    "start_time": "2022-08-20T21:52:24.975Z"
   },
   {
    "duration": 165606,
    "start_time": "2022-08-20T21:52:25.074Z"
   },
   {
    "duration": 200,
    "start_time": "2022-08-20T21:55:10.682Z"
   },
   {
    "duration": 5,
    "start_time": "2022-08-20T21:55:10.884Z"
   },
   {
    "duration": 31617,
    "start_time": "2022-08-20T21:55:10.890Z"
   },
   {
    "duration": 79,
    "start_time": "2022-08-20T21:55:42.509Z"
   },
   {
    "duration": 7,
    "start_time": "2022-08-20T21:55:42.590Z"
   },
   {
    "duration": 118,
    "start_time": "2022-08-20T21:55:42.600Z"
   },
   {
    "duration": 158,
    "start_time": "2022-08-20T21:57:23.523Z"
   },
   {
    "duration": 1491,
    "start_time": "2022-08-20T21:58:52.498Z"
   },
   {
    "duration": 973,
    "start_time": "2022-08-20T21:58:53.992Z"
   },
   {
    "duration": 23,
    "start_time": "2022-08-20T21:58:54.966Z"
   },
   {
    "duration": 143,
    "start_time": "2022-08-20T21:58:54.992Z"
   },
   {
    "duration": 125,
    "start_time": "2022-08-20T21:58:55.137Z"
   },
   {
    "duration": 187,
    "start_time": "2022-08-20T21:58:55.264Z"
   },
   {
    "duration": 39,
    "start_time": "2022-08-20T21:58:55.453Z"
   },
   {
    "duration": 33,
    "start_time": "2022-08-20T21:58:55.494Z"
   },
   {
    "duration": 53,
    "start_time": "2022-08-20T21:58:55.533Z"
   },
   {
    "duration": 38,
    "start_time": "2022-08-20T21:58:55.589Z"
   },
   {
    "duration": 50,
    "start_time": "2022-08-20T21:58:55.629Z"
   },
   {
    "duration": 43,
    "start_time": "2022-08-20T21:58:55.681Z"
   },
   {
    "duration": 122,
    "start_time": "2022-08-20T21:58:55.726Z"
   },
   {
    "duration": 117,
    "start_time": "2022-08-20T21:58:55.850Z"
   },
   {
    "duration": 214,
    "start_time": "2022-08-20T21:58:55.969Z"
   },
   {
    "duration": 7,
    "start_time": "2022-08-20T21:58:56.185Z"
   },
   {
    "duration": 216,
    "start_time": "2022-08-20T21:58:56.193Z"
   },
   {
    "duration": 6,
    "start_time": "2022-08-20T21:58:56.411Z"
   },
   {
    "duration": 22,
    "start_time": "2022-08-20T21:58:56.419Z"
   },
   {
    "duration": 31,
    "start_time": "2022-08-20T21:58:56.443Z"
   },
   {
    "duration": 241,
    "start_time": "2022-08-20T21:58:56.486Z"
   },
   {
    "duration": 8,
    "start_time": "2022-08-20T21:58:56.730Z"
   },
   {
    "duration": 28,
    "start_time": "2022-08-20T21:58:56.740Z"
   },
   {
    "duration": 271,
    "start_time": "2022-08-20T21:58:56.771Z"
   },
   {
    "duration": 9,
    "start_time": "2022-08-20T21:58:57.043Z"
   },
   {
    "duration": 519,
    "start_time": "2022-08-20T21:58:57.054Z"
   },
   {
    "duration": 547,
    "start_time": "2022-08-20T21:58:57.575Z"
   },
   {
    "duration": 646,
    "start_time": "2022-08-20T21:58:58.126Z"
   },
   {
    "duration": 94,
    "start_time": "2022-08-20T21:58:58.774Z"
   },
   {
    "duration": 657,
    "start_time": "2022-08-20T21:58:58.870Z"
   },
   {
    "duration": 657,
    "start_time": "2022-08-20T21:58:59.529Z"
   },
   {
    "duration": 93,
    "start_time": "2022-08-20T21:59:00.188Z"
   },
   {
    "duration": 42,
    "start_time": "2022-08-20T21:59:00.283Z"
   },
   {
    "duration": 478,
    "start_time": "2022-08-20T21:59:00.327Z"
   },
   {
    "duration": 36,
    "start_time": "2022-08-20T21:59:00.807Z"
   },
   {
    "duration": 27,
    "start_time": "2022-08-20T21:59:00.845Z"
   },
   {
    "duration": 35,
    "start_time": "2022-08-20T21:59:00.874Z"
   },
   {
    "duration": 112,
    "start_time": "2022-08-20T21:59:00.911Z"
   },
   {
    "duration": 4708,
    "start_time": "2022-08-20T21:59:01.025Z"
   },
   {
    "duration": 136,
    "start_time": "2022-08-20T21:59:05.736Z"
   },
   {
    "duration": 47,
    "start_time": "2022-08-20T21:59:05.874Z"
   },
   {
    "duration": 308,
    "start_time": "2022-08-20T21:59:05.922Z"
   },
   {
    "duration": 189,
    "start_time": "2022-08-20T21:59:06.232Z"
   },
   {
    "duration": 33,
    "start_time": "2022-08-20T21:59:06.423Z"
   },
   {
    "duration": 92,
    "start_time": "2022-08-20T21:59:06.458Z"
   },
   {
    "duration": 766,
    "start_time": "2022-08-20T21:59:06.567Z"
   },
   {
    "duration": 93,
    "start_time": "2022-08-20T21:59:07.335Z"
   },
   {
    "duration": 4,
    "start_time": "2022-08-20T21:59:07.430Z"
   },
   {
    "duration": 170,
    "start_time": "2022-08-20T21:59:07.435Z"
   },
   {
    "duration": 446,
    "start_time": "2022-08-20T21:59:07.607Z"
   },
   {
    "duration": 19,
    "start_time": "2022-08-20T21:59:08.055Z"
   },
   {
    "duration": 5,
    "start_time": "2022-08-20T21:59:08.076Z"
   },
   {
    "duration": 7001,
    "start_time": "2022-08-20T21:59:08.083Z"
   },
   {
    "duration": 86,
    "start_time": "2022-08-20T21:59:15.087Z"
   },
   {
    "duration": 107,
    "start_time": "2022-08-20T21:59:15.175Z"
   },
   {
    "duration": 168615,
    "start_time": "2022-08-20T21:59:15.368Z"
   },
   {
    "duration": 296,
    "start_time": "2022-08-20T22:02:03.985Z"
   },
   {
    "duration": 10,
    "start_time": "2022-08-20T22:02:04.283Z"
   },
   {
    "duration": 32761,
    "start_time": "2022-08-20T22:02:04.296Z"
   },
   {
    "duration": 103,
    "start_time": "2022-08-20T22:02:37.060Z"
   },
   {
    "duration": 6,
    "start_time": "2022-08-20T22:02:37.167Z"
   },
   {
    "duration": 94,
    "start_time": "2022-08-20T22:02:37.174Z"
   },
   {
    "duration": 81,
    "start_time": "2022-08-20T22:11:06.014Z"
   },
   {
    "duration": 115,
    "start_time": "2022-08-20T22:13:17.561Z"
   },
   {
    "duration": 6,
    "start_time": "2022-08-20T22:14:05.134Z"
   },
   {
    "duration": 4,
    "start_time": "2022-08-20T22:14:19.184Z"
   },
   {
    "duration": 7,
    "start_time": "2022-08-20T22:14:27.630Z"
   },
   {
    "duration": 1558,
    "start_time": "2022-08-20T22:16:55.068Z"
   },
   {
    "duration": 943,
    "start_time": "2022-08-20T22:16:56.628Z"
   },
   {
    "duration": 19,
    "start_time": "2022-08-20T22:16:57.573Z"
   },
   {
    "duration": 140,
    "start_time": "2022-08-20T22:16:57.594Z"
   },
   {
    "duration": 123,
    "start_time": "2022-08-20T22:16:57.736Z"
   },
   {
    "duration": 187,
    "start_time": "2022-08-20T22:16:57.868Z"
   },
   {
    "duration": 35,
    "start_time": "2022-08-20T22:16:58.058Z"
   },
   {
    "duration": 34,
    "start_time": "2022-08-20T22:16:58.094Z"
   },
   {
    "duration": 55,
    "start_time": "2022-08-20T22:16:58.131Z"
   },
   {
    "duration": 32,
    "start_time": "2022-08-20T22:16:58.190Z"
   },
   {
    "duration": 51,
    "start_time": "2022-08-20T22:16:58.224Z"
   },
   {
    "duration": 32,
    "start_time": "2022-08-20T22:16:58.277Z"
   },
   {
    "duration": 134,
    "start_time": "2022-08-20T22:16:58.311Z"
   },
   {
    "duration": 139,
    "start_time": "2022-08-20T22:16:58.447Z"
   },
   {
    "duration": 236,
    "start_time": "2022-08-20T22:16:58.587Z"
   },
   {
    "duration": 7,
    "start_time": "2022-08-20T22:16:58.825Z"
   },
   {
    "duration": 225,
    "start_time": "2022-08-20T22:16:58.834Z"
   },
   {
    "duration": 11,
    "start_time": "2022-08-20T22:16:59.061Z"
   },
   {
    "duration": 23,
    "start_time": "2022-08-20T22:16:59.074Z"
   },
   {
    "duration": 7,
    "start_time": "2022-08-20T22:16:59.099Z"
   },
   {
    "duration": 234,
    "start_time": "2022-08-20T22:16:59.107Z"
   },
   {
    "duration": 7,
    "start_time": "2022-08-20T22:16:59.343Z"
   },
   {
    "duration": 21,
    "start_time": "2022-08-20T22:16:59.351Z"
   },
   {
    "duration": 272,
    "start_time": "2022-08-20T22:16:59.374Z"
   },
   {
    "duration": 21,
    "start_time": "2022-08-20T22:16:59.647Z"
   },
   {
    "duration": 507,
    "start_time": "2022-08-20T22:16:59.670Z"
   },
   {
    "duration": 550,
    "start_time": "2022-08-20T22:17:00.178Z"
   },
   {
    "duration": 651,
    "start_time": "2022-08-20T22:17:00.734Z"
   },
   {
    "duration": 100,
    "start_time": "2022-08-20T22:17:01.386Z"
   },
   {
    "duration": 655,
    "start_time": "2022-08-20T22:17:01.489Z"
   },
   {
    "duration": 618,
    "start_time": "2022-08-20T22:17:02.146Z"
   },
   {
    "duration": 77,
    "start_time": "2022-08-20T22:17:02.766Z"
   },
   {
    "duration": 49,
    "start_time": "2022-08-20T22:17:02.844Z"
   },
   {
    "duration": 433,
    "start_time": "2022-08-20T22:17:02.895Z"
   },
   {
    "duration": 42,
    "start_time": "2022-08-20T22:17:03.330Z"
   },
   {
    "duration": 9,
    "start_time": "2022-08-20T22:17:03.373Z"
   },
   {
    "duration": 33,
    "start_time": "2022-08-20T22:17:03.383Z"
   },
   {
    "duration": 104,
    "start_time": "2022-08-20T22:17:03.417Z"
   },
   {
    "duration": 4720,
    "start_time": "2022-08-20T22:17:03.523Z"
   },
   {
    "duration": 135,
    "start_time": "2022-08-20T22:17:08.245Z"
   },
   {
    "duration": 47,
    "start_time": "2022-08-20T22:17:08.382Z"
   },
   {
    "duration": 281,
    "start_time": "2022-08-20T22:17:08.431Z"
   },
   {
    "duration": 194,
    "start_time": "2022-08-20T22:17:08.714Z"
   },
   {
    "duration": 29,
    "start_time": "2022-08-20T22:17:08.910Z"
   },
   {
    "duration": 94,
    "start_time": "2022-08-20T22:17:08.941Z"
   },
   {
    "duration": 725,
    "start_time": "2022-08-20T22:17:09.036Z"
   },
   {
    "duration": 85,
    "start_time": "2022-08-20T22:17:09.767Z"
   },
   {
    "duration": 14,
    "start_time": "2022-08-20T22:17:09.854Z"
   },
   {
    "duration": 181,
    "start_time": "2022-08-20T22:17:09.870Z"
   },
   {
    "duration": 479,
    "start_time": "2022-08-20T22:17:10.053Z"
   },
   {
    "duration": 12,
    "start_time": "2022-08-20T22:17:10.534Z"
   },
   {
    "duration": 21,
    "start_time": "2022-08-20T22:17:10.548Z"
   },
   {
    "duration": 7216,
    "start_time": "2022-08-20T22:17:10.571Z"
   },
   {
    "duration": 7,
    "start_time": "2022-08-20T22:17:17.869Z"
   },
   {
    "duration": 196,
    "start_time": "2022-08-20T22:17:17.878Z"
   },
   {
    "duration": 222204,
    "start_time": "2022-08-20T22:17:18.076Z"
   },
   {
    "duration": 304,
    "start_time": "2022-08-20T22:21:00.282Z"
   },
   {
    "duration": 6,
    "start_time": "2022-08-20T22:21:00.589Z"
   },
   {
    "duration": 31520,
    "start_time": "2022-08-20T22:21:00.597Z"
   },
   {
    "duration": 74,
    "start_time": "2022-08-20T22:21:32.119Z"
   },
   {
    "duration": 6,
    "start_time": "2022-08-20T22:21:32.194Z"
   },
   {
    "duration": 90,
    "start_time": "2022-08-20T22:21:32.201Z"
   },
   {
    "duration": 6,
    "start_time": "2022-08-20T22:21:32.293Z"
   },
   {
    "duration": 83,
    "start_time": "2022-08-20T23:17:02.532Z"
   },
   {
    "duration": 7,
    "start_time": "2022-08-20T23:17:39.050Z"
   },
   {
    "duration": 7,
    "start_time": "2022-08-20T23:17:44.588Z"
   },
   {
    "duration": 74,
    "start_time": "2022-08-20T23:18:06.365Z"
   },
   {
    "duration": 1530,
    "start_time": "2022-08-20T23:21:05.382Z"
   },
   {
    "duration": 885,
    "start_time": "2022-08-20T23:21:06.914Z"
   },
   {
    "duration": 20,
    "start_time": "2022-08-20T23:21:07.801Z"
   },
   {
    "duration": 129,
    "start_time": "2022-08-20T23:21:07.825Z"
   },
   {
    "duration": 122,
    "start_time": "2022-08-20T23:21:07.956Z"
   },
   {
    "duration": 202,
    "start_time": "2022-08-20T23:21:08.081Z"
   },
   {
    "duration": 29,
    "start_time": "2022-08-20T23:21:08.285Z"
   },
   {
    "duration": 32,
    "start_time": "2022-08-20T23:21:08.316Z"
   },
   {
    "duration": 46,
    "start_time": "2022-08-20T23:21:08.350Z"
   },
   {
    "duration": 32,
    "start_time": "2022-08-20T23:21:08.399Z"
   },
   {
    "duration": 45,
    "start_time": "2022-08-20T23:21:08.433Z"
   },
   {
    "duration": 35,
    "start_time": "2022-08-20T23:21:08.480Z"
   },
   {
    "duration": 106,
    "start_time": "2022-08-20T23:21:08.517Z"
   },
   {
    "duration": 117,
    "start_time": "2022-08-20T23:21:08.625Z"
   },
   {
    "duration": 214,
    "start_time": "2022-08-20T23:21:08.744Z"
   },
   {
    "duration": 12,
    "start_time": "2022-08-20T23:21:08.960Z"
   },
   {
    "duration": 208,
    "start_time": "2022-08-20T23:21:08.973Z"
   },
   {
    "duration": 8,
    "start_time": "2022-08-20T23:21:09.182Z"
   },
   {
    "duration": 23,
    "start_time": "2022-08-20T23:21:09.191Z"
   },
   {
    "duration": 7,
    "start_time": "2022-08-20T23:21:09.216Z"
   },
   {
    "duration": 207,
    "start_time": "2022-08-20T23:21:09.224Z"
   },
   {
    "duration": 7,
    "start_time": "2022-08-20T23:21:09.433Z"
   },
   {
    "duration": 7,
    "start_time": "2022-08-20T23:21:09.441Z"
   },
   {
    "duration": 266,
    "start_time": "2022-08-20T23:21:09.468Z"
   },
   {
    "duration": 8,
    "start_time": "2022-08-20T23:21:09.736Z"
   },
   {
    "duration": 510,
    "start_time": "2022-08-20T23:21:09.746Z"
   },
   {
    "duration": 486,
    "start_time": "2022-08-20T23:21:10.258Z"
   },
   {
    "duration": 635,
    "start_time": "2022-08-20T23:21:10.748Z"
   },
   {
    "duration": 90,
    "start_time": "2022-08-20T23:21:11.384Z"
   },
   {
    "duration": 699,
    "start_time": "2022-08-20T23:21:11.475Z"
   },
   {
    "duration": 629,
    "start_time": "2022-08-20T23:21:12.176Z"
   },
   {
    "duration": 86,
    "start_time": "2022-08-20T23:21:12.807Z"
   },
   {
    "duration": 38,
    "start_time": "2022-08-20T23:21:12.895Z"
   },
   {
    "duration": 467,
    "start_time": "2022-08-20T23:21:12.935Z"
   },
   {
    "duration": 35,
    "start_time": "2022-08-20T23:21:13.404Z"
   },
   {
    "duration": 31,
    "start_time": "2022-08-20T23:21:13.441Z"
   },
   {
    "duration": 36,
    "start_time": "2022-08-20T23:21:13.474Z"
   },
   {
    "duration": 106,
    "start_time": "2022-08-20T23:21:13.511Z"
   },
   {
    "duration": 4905,
    "start_time": "2022-08-20T23:21:13.619Z"
   },
   {
    "duration": 142,
    "start_time": "2022-08-20T23:21:18.526Z"
   },
   {
    "duration": 48,
    "start_time": "2022-08-20T23:21:18.670Z"
   },
   {
    "duration": 286,
    "start_time": "2022-08-20T23:21:18.719Z"
   },
   {
    "duration": 213,
    "start_time": "2022-08-20T23:21:19.007Z"
   },
   {
    "duration": 33,
    "start_time": "2022-08-20T23:21:19.221Z"
   },
   {
    "duration": 93,
    "start_time": "2022-08-20T23:21:19.255Z"
   },
   {
    "duration": 750,
    "start_time": "2022-08-20T23:21:19.351Z"
   },
   {
    "duration": 94,
    "start_time": "2022-08-20T23:21:20.103Z"
   },
   {
    "duration": 4,
    "start_time": "2022-08-20T23:21:20.199Z"
   },
   {
    "duration": 180,
    "start_time": "2022-08-20T23:21:20.205Z"
   },
   {
    "duration": 510,
    "start_time": "2022-08-20T23:21:20.386Z"
   },
   {
    "duration": 12,
    "start_time": "2022-08-20T23:21:20.898Z"
   },
   {
    "duration": 46,
    "start_time": "2022-08-20T23:21:20.912Z"
   },
   {
    "duration": 7227,
    "start_time": "2022-08-20T23:21:20.960Z"
   },
   {
    "duration": 82,
    "start_time": "2022-08-20T23:21:28.190Z"
   },
   {
    "duration": 102,
    "start_time": "2022-08-20T23:21:28.275Z"
   },
   {
    "duration": 169491,
    "start_time": "2022-08-20T23:21:28.382Z"
   },
   {
    "duration": 294,
    "start_time": "2022-08-20T23:24:17.875Z"
   },
   {
    "duration": 6,
    "start_time": "2022-08-20T23:24:18.172Z"
   },
   {
    "duration": 32538,
    "start_time": "2022-08-20T23:24:18.180Z"
   },
   {
    "duration": 78,
    "start_time": "2022-08-20T23:24:50.720Z"
   },
   {
    "duration": 5,
    "start_time": "2022-08-20T23:24:50.800Z"
   },
   {
    "duration": 95,
    "start_time": "2022-08-20T23:24:50.806Z"
   },
   {
    "duration": 6,
    "start_time": "2022-08-20T23:24:50.903Z"
   },
   {
    "duration": 9,
    "start_time": "2022-08-21T19:21:39.724Z"
   },
   {
    "duration": 1590,
    "start_time": "2022-08-21T19:21:41.971Z"
   },
   {
    "duration": 1105,
    "start_time": "2022-08-21T19:21:46.850Z"
   },
   {
    "duration": 55,
    "start_time": "2022-08-21T19:22:15.500Z"
   },
   {
    "duration": 58,
    "start_time": "2022-08-21T19:25:38.601Z"
   },
   {
    "duration": 22,
    "start_time": "2022-08-21T19:36:19.814Z"
   },
   {
    "duration": 55,
    "start_time": "2022-08-21T19:47:06.105Z"
   },
   {
    "duration": 7,
    "start_time": "2022-08-21T19:50:05.835Z"
   },
   {
    "duration": 8,
    "start_time": "2022-08-21T19:50:17.849Z"
   },
   {
    "duration": 75,
    "start_time": "2022-08-21T19:57:43.919Z"
   },
   {
    "duration": 126,
    "start_time": "2022-08-21T19:58:37.098Z"
   },
   {
    "duration": 15,
    "start_time": "2022-08-21T19:59:46.205Z"
   },
   {
    "duration": 13,
    "start_time": "2022-08-21T20:01:07.474Z"
   },
   {
    "duration": 14,
    "start_time": "2022-08-21T20:01:49.473Z"
   },
   {
    "duration": 69,
    "start_time": "2022-08-21T20:02:04.220Z"
   },
   {
    "duration": 3,
    "start_time": "2022-08-21T20:03:15.055Z"
   },
   {
    "duration": 4,
    "start_time": "2022-08-21T20:03:39.531Z"
   },
   {
    "duration": 3,
    "start_time": "2022-08-21T20:04:01.599Z"
   },
   {
    "duration": 15,
    "start_time": "2022-08-21T20:04:38.347Z"
   },
   {
    "duration": 3,
    "start_time": "2022-08-21T20:07:23.252Z"
   },
   {
    "duration": 18,
    "start_time": "2022-08-21T20:07:31.672Z"
   },
   {
    "duration": 931,
    "start_time": "2022-08-21T20:07:46.944Z"
   },
   {
    "duration": 694,
    "start_time": "2022-08-21T20:10:05.150Z"
   },
   {
    "duration": 4,
    "start_time": "2022-08-21T20:10:55.056Z"
   },
   {
    "duration": 744,
    "start_time": "2022-08-21T20:10:56.429Z"
   },
   {
    "duration": 14,
    "start_time": "2022-08-21T20:10:58.846Z"
   },
   {
    "duration": 112,
    "start_time": "2022-08-21T20:10:59.112Z"
   },
   {
    "duration": 107,
    "start_time": "2022-08-21T20:10:59.226Z"
   },
   {
    "duration": 195,
    "start_time": "2022-08-21T20:10:59.456Z"
   },
   {
    "duration": 29,
    "start_time": "2022-08-21T20:10:59.990Z"
   },
   {
    "duration": 28,
    "start_time": "2022-08-21T20:11:00.210Z"
   },
   {
    "duration": 38,
    "start_time": "2022-08-21T20:11:00.472Z"
   },
   {
    "duration": 30,
    "start_time": "2022-08-21T20:11:00.611Z"
   },
   {
    "duration": 31,
    "start_time": "2022-08-21T20:11:00.793Z"
   },
   {
    "duration": 28,
    "start_time": "2022-08-21T20:11:00.940Z"
   },
   {
    "duration": 105,
    "start_time": "2022-08-21T20:11:01.443Z"
   },
   {
    "duration": 94,
    "start_time": "2022-08-21T20:11:01.647Z"
   },
   {
    "duration": 169,
    "start_time": "2022-08-21T20:11:02.096Z"
   },
   {
    "duration": 6,
    "start_time": "2022-08-21T20:11:02.310Z"
   },
   {
    "duration": 178,
    "start_time": "2022-08-21T20:11:03.213Z"
   },
   {
    "duration": 6,
    "start_time": "2022-08-21T20:11:03.758Z"
   },
   {
    "duration": 38,
    "start_time": "2022-08-21T20:11:03.978Z"
   },
   {
    "duration": 5,
    "start_time": "2022-08-21T20:11:04.115Z"
   },
   {
    "duration": 11,
    "start_time": "2022-08-21T20:11:04.612Z"
   },
   {
    "duration": 165,
    "start_time": "2022-08-21T20:11:05.141Z"
   },
   {
    "duration": 5,
    "start_time": "2022-08-21T20:11:05.319Z"
   },
   {
    "duration": 5,
    "start_time": "2022-08-21T20:11:05.491Z"
   },
   {
    "duration": 191,
    "start_time": "2022-08-21T20:11:05.846Z"
   },
   {
    "duration": 8,
    "start_time": "2022-08-21T20:11:06.038Z"
   },
   {
    "duration": 384,
    "start_time": "2022-08-21T20:11:06.423Z"
   },
   {
    "duration": 407,
    "start_time": "2022-08-21T20:11:06.811Z"
   },
   {
    "duration": 500,
    "start_time": "2022-08-21T20:11:07.219Z"
   },
   {
    "duration": 79,
    "start_time": "2022-08-21T20:11:07.721Z"
   },
   {
    "duration": 594,
    "start_time": "2022-08-21T20:11:07.810Z"
   },
   {
    "duration": 496,
    "start_time": "2022-08-21T20:11:10.693Z"
   },
   {
    "duration": 86,
    "start_time": "2022-08-21T20:11:12.741Z"
   },
   {
    "duration": 36,
    "start_time": "2022-08-21T20:11:13.857Z"
   },
   {
    "duration": 379,
    "start_time": "2022-08-21T20:11:14.189Z"
   },
   {
    "duration": 31,
    "start_time": "2022-08-21T20:11:15.940Z"
   },
   {
    "duration": 9,
    "start_time": "2022-08-21T20:11:17.435Z"
   },
   {
    "duration": 32,
    "start_time": "2022-08-21T20:11:19.428Z"
   },
   {
    "duration": 27,
    "start_time": "2022-08-21T20:11:29.926Z"
   },
   {
    "duration": 62,
    "start_time": "2022-08-21T20:11:30.820Z"
   },
   {
    "duration": 4018,
    "start_time": "2022-08-21T20:11:32.435Z"
   },
   {
    "duration": 102,
    "start_time": "2022-08-21T20:11:41.004Z"
   },
   {
    "duration": 42,
    "start_time": "2022-08-21T20:12:01.893Z"
   },
   {
    "duration": 15,
    "start_time": "2022-08-21T20:16:21.773Z"
   },
   {
    "duration": 11,
    "start_time": "2022-08-21T20:16:35.337Z"
   },
   {
    "duration": 11,
    "start_time": "2022-08-21T20:16:44.314Z"
   },
   {
    "duration": 25,
    "start_time": "2022-08-21T20:17:04.639Z"
   },
   {
    "duration": 62,
    "start_time": "2022-08-21T20:24:36.559Z"
   },
   {
    "duration": 75,
    "start_time": "2022-08-21T20:37:18.026Z"
   },
   {
    "duration": 95,
    "start_time": "2022-08-21T20:37:54.229Z"
   },
   {
    "duration": 76,
    "start_time": "2022-08-21T20:38:13.864Z"
   },
   {
    "duration": 47,
    "start_time": "2022-08-21T20:40:47.378Z"
   },
   {
    "duration": 12,
    "start_time": "2022-08-21T20:44:05.295Z"
   },
   {
    "duration": 27,
    "start_time": "2022-08-21T20:56:52.808Z"
   },
   {
    "duration": 1312,
    "start_time": "2022-08-21T20:57:14.119Z"
   },
   {
    "duration": 751,
    "start_time": "2022-08-21T20:57:15.433Z"
   },
   {
    "duration": 25,
    "start_time": "2022-08-21T20:57:16.186Z"
   },
   {
    "duration": 115,
    "start_time": "2022-08-21T20:57:16.213Z"
   },
   {
    "duration": 104,
    "start_time": "2022-08-21T20:57:16.330Z"
   },
   {
    "duration": 176,
    "start_time": "2022-08-21T20:57:16.436Z"
   },
   {
    "duration": 29,
    "start_time": "2022-08-21T20:57:16.686Z"
   },
   {
    "duration": 29,
    "start_time": "2022-08-21T20:57:16.895Z"
   },
   {
    "duration": 31,
    "start_time": "2022-08-21T20:57:17.116Z"
   },
   {
    "duration": 29,
    "start_time": "2022-08-21T20:57:17.298Z"
   },
   {
    "duration": 32,
    "start_time": "2022-08-21T20:57:17.508Z"
   },
   {
    "duration": 50,
    "start_time": "2022-08-21T20:57:17.688Z"
   },
   {
    "duration": 96,
    "start_time": "2022-08-21T20:57:18.296Z"
   },
   {
    "duration": 92,
    "start_time": "2022-08-21T20:57:18.541Z"
   },
   {
    "duration": 173,
    "start_time": "2022-08-21T20:57:18.913Z"
   },
   {
    "duration": 8,
    "start_time": "2022-08-21T20:57:19.087Z"
   },
   {
    "duration": 179,
    "start_time": "2022-08-21T20:57:19.876Z"
   },
   {
    "duration": 6,
    "start_time": "2022-08-21T20:57:20.453Z"
   },
   {
    "duration": 21,
    "start_time": "2022-08-21T20:57:20.620Z"
   },
   {
    "duration": 5,
    "start_time": "2022-08-21T20:57:20.799Z"
   },
   {
    "duration": 8,
    "start_time": "2022-08-21T20:57:21.195Z"
   },
   {
    "duration": 149,
    "start_time": "2022-08-21T20:57:21.586Z"
   },
   {
    "duration": 6,
    "start_time": "2022-08-21T20:57:21.784Z"
   },
   {
    "duration": 5,
    "start_time": "2022-08-21T20:57:21.988Z"
   },
   {
    "duration": 239,
    "start_time": "2022-08-21T20:57:22.392Z"
   },
   {
    "duration": 10,
    "start_time": "2022-08-21T20:57:22.633Z"
   },
   {
    "duration": 396,
    "start_time": "2022-08-21T20:57:23.007Z"
   },
   {
    "duration": 389,
    "start_time": "2022-08-21T20:57:23.405Z"
   },
   {
    "duration": 467,
    "start_time": "2022-08-21T20:57:23.796Z"
   },
   {
    "duration": 86,
    "start_time": "2022-08-21T20:57:24.265Z"
   },
   {
    "duration": 531,
    "start_time": "2022-08-21T20:57:24.352Z"
   },
   {
    "duration": 500,
    "start_time": "2022-08-21T20:57:25.598Z"
   },
   {
    "duration": 79,
    "start_time": "2022-08-21T20:57:26.100Z"
   },
   {
    "duration": 36,
    "start_time": "2022-08-21T20:57:26.364Z"
   },
   {
    "duration": 362,
    "start_time": "2022-08-21T20:57:26.745Z"
   },
   {
    "duration": 24,
    "start_time": "2022-08-21T20:57:27.687Z"
   },
   {
    "duration": 8,
    "start_time": "2022-08-21T20:57:28.322Z"
   },
   {
    "duration": 30,
    "start_time": "2022-08-21T20:57:28.963Z"
   },
   {
    "duration": 72,
    "start_time": "2022-08-21T20:57:29.163Z"
   },
   {
    "duration": 4457,
    "start_time": "2022-08-21T20:57:29.556Z"
   },
   {
    "duration": 124,
    "start_time": "2022-08-21T20:57:34.015Z"
   },
   {
    "duration": 57,
    "start_time": "2022-08-21T20:57:34.140Z"
   },
   {
    "duration": 249,
    "start_time": "2022-08-21T20:57:34.211Z"
   },
   {
    "duration": 177,
    "start_time": "2022-08-21T20:57:39.131Z"
   },
   {
    "duration": 27,
    "start_time": "2022-08-21T20:57:40.181Z"
   },
   {
    "duration": 30,
    "start_time": "2022-08-21T20:57:41.350Z"
   },
   {
    "duration": 84,
    "start_time": "2022-08-21T20:57:42.641Z"
   },
   {
    "duration": 16,
    "start_time": "2022-08-21T20:57:43.419Z"
   },
   {
    "duration": 847,
    "start_time": "2022-08-21T20:57:46.832Z"
   },
   {
    "duration": 52,
    "start_time": "2022-08-21T20:58:41.816Z"
   },
   {
    "duration": 92,
    "start_time": "2022-08-21T20:59:06.210Z"
   },
   {
    "duration": 5,
    "start_time": "2022-08-21T20:59:42.661Z"
   },
   {
    "duration": 14,
    "start_time": "2022-08-21T21:00:14.271Z"
   },
   {
    "duration": 18,
    "start_time": "2022-08-21T21:02:04.169Z"
   },
   {
    "duration": 179,
    "start_time": "2022-08-21T21:03:27.485Z"
   },
   {
    "duration": 202,
    "start_time": "2022-08-21T21:04:37.330Z"
   },
   {
    "duration": 106,
    "start_time": "2022-08-21T21:05:00.818Z"
   },
   {
    "duration": 1283,
    "start_time": "2022-08-21T21:05:37.350Z"
   },
   {
    "duration": 733,
    "start_time": "2022-08-21T21:05:38.636Z"
   },
   {
    "duration": 480,
    "start_time": "2022-08-21T21:05:43.196Z"
   },
   {
    "duration": 77,
    "start_time": "2022-08-21T21:05:43.678Z"
   },
   {
    "duration": 44,
    "start_time": "2022-08-21T21:05:43.907Z"
   },
   {
    "duration": 384,
    "start_time": "2022-08-21T21:05:44.255Z"
   },
   {
    "duration": 32,
    "start_time": "2022-08-21T21:05:45.089Z"
   },
   {
    "duration": 7,
    "start_time": "2022-08-21T21:05:45.584Z"
   },
   {
    "duration": 28,
    "start_time": "2022-08-21T21:05:46.174Z"
   },
   {
    "duration": 70,
    "start_time": "2022-08-21T21:05:46.332Z"
   },
   {
    "duration": 4306,
    "start_time": "2022-08-21T21:05:46.716Z"
   },
   {
    "duration": 121,
    "start_time": "2022-08-21T21:05:51.024Z"
   },
   {
    "duration": 44,
    "start_time": "2022-08-21T21:05:51.146Z"
   },
   {
    "duration": 241,
    "start_time": "2022-08-21T21:05:51.192Z"
   },
   {
    "duration": 213,
    "start_time": "2022-08-21T21:05:52.430Z"
   },
   {
    "duration": 27,
    "start_time": "2022-08-21T21:05:54.476Z"
   },
   {
    "duration": 30,
    "start_time": "2022-08-21T21:05:55.784Z"
   },
   {
    "duration": 78,
    "start_time": "2022-08-21T21:05:56.977Z"
   },
   {
    "duration": 12,
    "start_time": "2022-08-21T21:06:04.560Z"
   },
   {
    "duration": 1012,
    "start_time": "2022-08-21T21:06:05.451Z"
   },
   {
    "duration": 84,
    "start_time": "2022-08-21T21:06:23.437Z"
   },
   {
    "duration": 4,
    "start_time": "2022-08-21T21:06:26.763Z"
   },
   {
    "duration": 12,
    "start_time": "2022-08-21T21:06:27.380Z"
   },
   {
    "duration": 180,
    "start_time": "2022-08-21T21:06:34.000Z"
   },
   {
    "duration": 414,
    "start_time": "2022-08-21T21:06:46.076Z"
   },
   {
    "duration": 12,
    "start_time": "2022-08-21T21:06:49.483Z"
   },
   {
    "duration": 4,
    "start_time": "2022-08-21T21:06:54.398Z"
   },
   {
    "duration": 6116,
    "start_time": "2022-08-21T21:07:33.903Z"
   },
   {
    "duration": 93,
    "start_time": "2022-08-21T21:07:40.021Z"
   },
   {
    "duration": 112,
    "start_time": "2022-08-21T21:07:40.115Z"
   },
   {
    "duration": 2145,
    "start_time": "2022-08-21T21:08:37.072Z"
   },
   {
    "duration": 300,
    "start_time": "2022-08-21T21:08:39.310Z"
   },
   {
    "duration": 4,
    "start_time": "2022-08-21T21:08:39.612Z"
   },
   {
    "duration": 28353,
    "start_time": "2022-08-21T21:08:48.196Z"
   },
   {
    "duration": 70,
    "start_time": "2022-08-21T21:09:16.551Z"
   },
   {
    "duration": 4,
    "start_time": "2022-08-21T21:09:16.623Z"
   },
   {
    "duration": 67,
    "start_time": "2022-08-21T21:09:34.329Z"
   },
   {
    "duration": 5,
    "start_time": "2022-08-21T21:09:36.366Z"
   },
   {
    "duration": 403,
    "start_time": "2022-08-21T21:15:27.405Z"
   },
   {
    "duration": 10,
    "start_time": "2022-08-21T21:15:28.515Z"
   },
   {
    "duration": 4,
    "start_time": "2022-08-21T21:15:30.640Z"
   },
   {
    "duration": 5,
    "start_time": "2022-08-21T21:16:22.837Z"
   },
   {
    "duration": 6291,
    "start_time": "2022-08-21T21:16:32.228Z"
   },
   {
    "duration": 100,
    "start_time": "2022-08-21T21:16:38.614Z"
   },
   {
    "duration": 94,
    "start_time": "2022-08-21T21:16:38.719Z"
   },
   {
    "duration": 2133,
    "start_time": "2022-08-21T21:16:54.686Z"
   },
   {
    "duration": 295,
    "start_time": "2022-08-21T21:16:56.821Z"
   },
   {
    "duration": 4,
    "start_time": "2022-08-21T21:16:57.118Z"
   },
   {
    "duration": 4,
    "start_time": "2022-08-21T21:17:14.897Z"
   },
   {
    "duration": 27866,
    "start_time": "2022-08-21T21:17:19.716Z"
   },
   {
    "duration": 67,
    "start_time": "2022-08-21T21:17:47.583Z"
   },
   {
    "duration": 7,
    "start_time": "2022-08-21T21:17:47.657Z"
   },
   {
    "duration": 41449,
    "start_time": "2022-08-21T21:25:45.062Z"
   },
   {
    "duration": 224,
    "start_time": "2022-08-21T21:26:36.893Z"
   },
   {
    "duration": 146,
    "start_time": "2022-08-21T21:26:53.374Z"
   },
   {
    "duration": 4,
    "start_time": "2022-08-21T21:26:56.278Z"
   },
   {
    "duration": 2259,
    "start_time": "2022-08-21T21:29:07.190Z"
   },
   {
    "duration": 16,
    "start_time": "2022-08-21T21:30:08.247Z"
   },
   {
    "duration": 23,
    "start_time": "2022-08-21T21:30:23.419Z"
   },
   {
    "duration": 1399,
    "start_time": "2022-08-21T21:31:06.920Z"
   },
   {
    "duration": 213397,
    "start_time": "2022-08-21T21:32:03.675Z"
   },
   {
    "duration": 855,
    "start_time": "2022-08-21T21:35:57.755Z"
   },
   {
    "duration": 4,
    "start_time": "2022-08-21T21:36:00.061Z"
   },
   {
    "duration": 1474,
    "start_time": "2022-08-21T21:36:35.960Z"
   },
   {
    "duration": 1285,
    "start_time": "2022-08-21T21:36:57.144Z"
   },
   {
    "duration": 759,
    "start_time": "2022-08-21T21:36:58.431Z"
   },
   {
    "duration": 21,
    "start_time": "2022-08-21T21:36:59.191Z"
   },
   {
    "duration": 113,
    "start_time": "2022-08-21T21:36:59.214Z"
   },
   {
    "duration": 107,
    "start_time": "2022-08-21T21:36:59.330Z"
   },
   {
    "duration": 177,
    "start_time": "2022-08-21T21:36:59.438Z"
   },
   {
    "duration": 30,
    "start_time": "2022-08-21T21:36:59.617Z"
   },
   {
    "duration": 32,
    "start_time": "2022-08-21T21:36:59.648Z"
   },
   {
    "duration": 45,
    "start_time": "2022-08-21T21:36:59.681Z"
   },
   {
    "duration": 32,
    "start_time": "2022-08-21T21:36:59.728Z"
   },
   {
    "duration": 36,
    "start_time": "2022-08-21T21:36:59.761Z"
   },
   {
    "duration": 34,
    "start_time": "2022-08-21T21:36:59.799Z"
   },
   {
    "duration": 99,
    "start_time": "2022-08-21T21:36:59.834Z"
   },
   {
    "duration": 93,
    "start_time": "2022-08-21T21:36:59.936Z"
   },
   {
    "duration": 181,
    "start_time": "2022-08-21T21:37:00.031Z"
   },
   {
    "duration": 5,
    "start_time": "2022-08-21T21:37:00.213Z"
   },
   {
    "duration": 169,
    "start_time": "2022-08-21T21:37:00.220Z"
   },
   {
    "duration": 6,
    "start_time": "2022-08-21T21:37:00.390Z"
   },
   {
    "duration": 39,
    "start_time": "2022-08-21T21:37:00.397Z"
   },
   {
    "duration": 5,
    "start_time": "2022-08-21T21:37:00.437Z"
   },
   {
    "duration": 23,
    "start_time": "2022-08-21T21:37:00.443Z"
   },
   {
    "duration": 152,
    "start_time": "2022-08-21T21:37:00.468Z"
   },
   {
    "duration": 6,
    "start_time": "2022-08-21T21:37:00.622Z"
   },
   {
    "duration": 23,
    "start_time": "2022-08-21T21:37:00.630Z"
   },
   {
    "duration": 195,
    "start_time": "2022-08-21T21:37:00.654Z"
   },
   {
    "duration": 7,
    "start_time": "2022-08-21T21:37:00.851Z"
   },
   {
    "duration": 391,
    "start_time": "2022-08-21T21:37:00.859Z"
   },
   {
    "duration": 424,
    "start_time": "2022-08-21T21:37:01.252Z"
   },
   {
    "duration": 508,
    "start_time": "2022-08-21T21:37:01.677Z"
   },
   {
    "duration": 90,
    "start_time": "2022-08-21T21:37:02.187Z"
   },
   {
    "duration": 576,
    "start_time": "2022-08-21T21:37:02.278Z"
   },
   {
    "duration": 509,
    "start_time": "2022-08-21T21:37:02.855Z"
   },
   {
    "duration": 76,
    "start_time": "2022-08-21T21:37:03.365Z"
   },
   {
    "duration": 34,
    "start_time": "2022-08-21T21:37:03.443Z"
   },
   {
    "duration": 380,
    "start_time": "2022-08-21T21:37:03.478Z"
   },
   {
    "duration": 30,
    "start_time": "2022-08-21T21:37:03.860Z"
   },
   {
    "duration": 19,
    "start_time": "2022-08-21T21:37:03.892Z"
   },
   {
    "duration": 31,
    "start_time": "2022-08-21T21:37:03.912Z"
   },
   {
    "duration": 83,
    "start_time": "2022-08-21T21:37:03.945Z"
   },
   {
    "duration": 4386,
    "start_time": "2022-08-21T21:37:04.029Z"
   },
   {
    "duration": 120,
    "start_time": "2022-08-21T21:37:08.419Z"
   },
   {
    "duration": 47,
    "start_time": "2022-08-21T21:37:08.541Z"
   },
   {
    "duration": 234,
    "start_time": "2022-08-21T21:37:08.590Z"
   },
   {
    "duration": 179,
    "start_time": "2022-08-21T21:37:08.826Z"
   },
   {
    "duration": 27,
    "start_time": "2022-08-21T21:37:09.006Z"
   },
   {
    "duration": 28,
    "start_time": "2022-08-21T21:37:09.035Z"
   },
   {
    "duration": 95,
    "start_time": "2022-08-21T21:37:09.065Z"
   },
   {
    "duration": 1002,
    "start_time": "2022-08-21T21:37:09.161Z"
   },
   {
    "duration": 96,
    "start_time": "2022-08-21T21:37:10.165Z"
   },
   {
    "duration": 5,
    "start_time": "2022-08-21T21:37:10.262Z"
   },
   {
    "duration": 198,
    "start_time": "2022-08-21T21:37:10.268Z"
   },
   {
    "duration": 429,
    "start_time": "2022-08-21T21:37:10.467Z"
   },
   {
    "duration": 17,
    "start_time": "2022-08-21T21:37:10.897Z"
   },
   {
    "duration": 4,
    "start_time": "2022-08-21T21:37:10.916Z"
   },
   {
    "duration": 6992,
    "start_time": "2022-08-21T21:37:10.922Z"
   },
   {
    "duration": 8,
    "start_time": "2022-08-21T21:37:17.916Z"
   },
   {
    "duration": 102,
    "start_time": "2022-08-21T21:37:18.014Z"
   },
   {
    "duration": 410801,
    "start_time": "2022-08-21T21:37:18.118Z"
   },
   {
    "duration": 491,
    "start_time": "2022-08-21T21:44:08.921Z"
   },
   {
    "duration": 5,
    "start_time": "2022-08-21T21:44:09.414Z"
   },
   {
    "duration": 218512,
    "start_time": "2022-08-21T21:44:09.420Z"
   },
   {
    "duration": 872,
    "start_time": "2022-08-21T21:47:47.934Z"
   },
   {
    "duration": 4,
    "start_time": "2022-08-21T21:47:48.809Z"
   },
   {
    "duration": 1479,
    "start_time": "2022-08-21T21:47:48.815Z"
   },
   {
    "duration": 0,
    "start_time": "2022-08-21T21:47:50.296Z"
   },
   {
    "duration": 1334,
    "start_time": "2022-08-21T22:23:57.648Z"
   },
   {
    "duration": 751,
    "start_time": "2022-08-21T22:23:58.984Z"
   },
   {
    "duration": 526,
    "start_time": "2022-08-21T22:24:02.334Z"
   },
   {
    "duration": 85,
    "start_time": "2022-08-21T22:24:02.862Z"
   },
   {
    "duration": 45,
    "start_time": "2022-08-21T22:24:02.948Z"
   },
   {
    "duration": 382,
    "start_time": "2022-08-21T22:24:03.247Z"
   },
   {
    "duration": 32,
    "start_time": "2022-08-21T22:24:03.984Z"
   },
   {
    "duration": 8,
    "start_time": "2022-08-21T22:24:04.421Z"
   },
   {
    "duration": 41,
    "start_time": "2022-08-21T22:24:04.934Z"
   },
   {
    "duration": 75,
    "start_time": "2022-08-21T22:24:05.098Z"
   },
   {
    "duration": 4442,
    "start_time": "2022-08-21T22:24:05.442Z"
   },
   {
    "duration": 133,
    "start_time": "2022-08-21T22:24:09.886Z"
   },
   {
    "duration": 47,
    "start_time": "2022-08-21T22:24:10.021Z"
   },
   {
    "duration": 262,
    "start_time": "2022-08-21T22:24:10.070Z"
   },
   {
    "duration": 207,
    "start_time": "2022-08-21T22:24:10.333Z"
   },
   {
    "duration": 26,
    "start_time": "2022-08-21T22:24:10.541Z"
   },
   {
    "duration": 62,
    "start_time": "2022-08-21T22:24:10.569Z"
   },
   {
    "duration": 140,
    "start_time": "2022-08-21T22:24:10.633Z"
   },
   {
    "duration": 1020,
    "start_time": "2022-08-21T22:24:10.775Z"
   },
   {
    "duration": 114,
    "start_time": "2022-08-21T22:24:11.797Z"
   },
   {
    "duration": 5,
    "start_time": "2022-08-21T22:24:11.912Z"
   },
   {
    "duration": 202,
    "start_time": "2022-08-21T22:24:11.919Z"
   },
   {
    "duration": 433,
    "start_time": "2022-08-21T22:24:27.287Z"
   },
   {
    "duration": 14,
    "start_time": "2022-08-21T22:24:27.816Z"
   },
   {
    "duration": 5,
    "start_time": "2022-08-21T22:24:32.171Z"
   },
   {
    "duration": 5925,
    "start_time": "2022-08-21T22:24:42.517Z"
   },
   {
    "duration": 74,
    "start_time": "2022-08-21T22:24:48.444Z"
   },
   {
    "duration": 95,
    "start_time": "2022-08-21T22:24:48.520Z"
   },
   {
    "duration": 417784,
    "start_time": "2022-08-21T22:25:11.034Z"
   },
   {
    "duration": 402,
    "start_time": "2022-08-21T22:32:08.820Z"
   },
   {
    "duration": 4,
    "start_time": "2022-08-21T22:32:09.224Z"
   },
   {
    "duration": 1647,
    "start_time": "2022-08-21T22:35:07.617Z"
   },
   {
    "duration": 846,
    "start_time": "2022-08-21T22:35:33.844Z"
   },
   {
    "duration": 849,
    "start_time": "2022-08-21T22:36:10.702Z"
   },
   {
    "duration": 217550,
    "start_time": "2022-08-21T22:36:24.246Z"
   },
   {
    "duration": 910,
    "start_time": "2022-08-21T22:40:01.798Z"
   },
   {
    "duration": 5,
    "start_time": "2022-08-21T22:40:02.710Z"
   },
   {
    "duration": 28878,
    "start_time": "2022-08-21T22:41:03.061Z"
   },
   {
    "duration": 67,
    "start_time": "2022-08-21T22:41:31.941Z"
   },
   {
    "duration": 5,
    "start_time": "2022-08-21T22:41:32.009Z"
   },
   {
    "duration": 1513,
    "start_time": "2022-08-21T22:43:11.707Z"
   },
   {
    "duration": 783,
    "start_time": "2022-08-21T22:43:13.222Z"
   },
   {
    "duration": 486,
    "start_time": "2022-08-21T22:43:19.895Z"
   },
   {
    "duration": 74,
    "start_time": "2022-08-21T22:43:21.599Z"
   },
   {
    "duration": 45,
    "start_time": "2022-08-21T22:43:22.772Z"
   },
   {
    "duration": 379,
    "start_time": "2022-08-21T22:43:23.180Z"
   },
   {
    "duration": 34,
    "start_time": "2022-08-21T22:43:24.143Z"
   },
   {
    "duration": 7,
    "start_time": "2022-08-21T22:43:24.693Z"
   },
   {
    "duration": 30,
    "start_time": "2022-08-21T22:43:25.295Z"
   },
   {
    "duration": 73,
    "start_time": "2022-08-21T22:43:25.480Z"
   },
   {
    "duration": 4452,
    "start_time": "2022-08-21T22:43:25.880Z"
   },
   {
    "duration": 138,
    "start_time": "2022-08-21T22:43:30.335Z"
   },
   {
    "duration": 55,
    "start_time": "2022-08-21T22:43:30.474Z"
   },
   {
    "duration": 240,
    "start_time": "2022-08-21T22:43:30.531Z"
   },
   {
    "duration": 189,
    "start_time": "2022-08-21T22:43:30.773Z"
   },
   {
    "duration": 26,
    "start_time": "2022-08-21T22:43:30.963Z"
   },
   {
    "duration": 44,
    "start_time": "2022-08-21T22:43:30.991Z"
   },
   {
    "duration": 92,
    "start_time": "2022-08-21T22:43:31.625Z"
   },
   {
    "duration": 1056,
    "start_time": "2022-08-21T22:43:32.692Z"
   },
   {
    "duration": 103,
    "start_time": "2022-08-21T22:43:33.750Z"
   },
   {
    "duration": 4,
    "start_time": "2022-08-21T22:43:35.586Z"
   },
   {
    "duration": 215,
    "start_time": "2022-08-21T22:43:35.847Z"
   },
   {
    "duration": 496,
    "start_time": "2022-08-21T22:43:39.217Z"
   },
   {
    "duration": 12,
    "start_time": "2022-08-21T22:43:40.943Z"
   },
   {
    "duration": 5,
    "start_time": "2022-08-21T22:43:44.416Z"
   },
   {
    "duration": 6234,
    "start_time": "2022-08-21T22:43:52.591Z"
   },
   {
    "duration": 6,
    "start_time": "2022-08-21T22:43:58.914Z"
   },
   {
    "duration": 103,
    "start_time": "2022-08-21T22:43:58.922Z"
   },
   {
    "duration": 423428,
    "start_time": "2022-08-21T22:44:00.394Z"
   },
   {
    "duration": 386,
    "start_time": "2022-08-21T22:51:03.824Z"
   },
   {
    "duration": 5,
    "start_time": "2022-08-21T22:51:04.212Z"
   },
   {
    "duration": 1360,
    "start_time": "2022-08-21T22:55:57.595Z"
   },
   {
    "duration": 748,
    "start_time": "2022-08-21T22:55:58.956Z"
   },
   {
    "duration": 515,
    "start_time": "2022-08-21T22:56:02.165Z"
   },
   {
    "duration": 89,
    "start_time": "2022-08-21T22:56:02.681Z"
   },
   {
    "duration": 46,
    "start_time": "2022-08-21T22:56:02.809Z"
   },
   {
    "duration": 389,
    "start_time": "2022-08-21T22:56:03.232Z"
   },
   {
    "duration": 32,
    "start_time": "2022-08-21T22:56:04.132Z"
   },
   {
    "duration": 8,
    "start_time": "2022-08-21T22:56:04.676Z"
   },
   {
    "duration": 29,
    "start_time": "2022-08-21T22:56:05.245Z"
   },
   {
    "duration": 72,
    "start_time": "2022-08-21T22:56:05.410Z"
   },
   {
    "duration": 4445,
    "start_time": "2022-08-21T22:56:05.788Z"
   },
   {
    "duration": 167,
    "start_time": "2022-08-21T22:56:10.235Z"
   },
   {
    "duration": 46,
    "start_time": "2022-08-21T22:56:10.410Z"
   },
   {
    "duration": 232,
    "start_time": "2022-08-21T22:56:10.458Z"
   },
   {
    "duration": 185,
    "start_time": "2022-08-21T22:56:10.691Z"
   },
   {
    "duration": 34,
    "start_time": "2022-08-21T22:56:10.878Z"
   },
   {
    "duration": 31,
    "start_time": "2022-08-21T22:56:10.913Z"
   },
   {
    "duration": 91,
    "start_time": "2022-08-21T22:56:10.945Z"
   },
   {
    "duration": 1008,
    "start_time": "2022-08-21T22:56:11.037Z"
   },
   {
    "duration": 100,
    "start_time": "2022-08-21T22:56:12.047Z"
   },
   {
    "duration": 4,
    "start_time": "2022-08-21T22:56:12.148Z"
   },
   {
    "duration": 199,
    "start_time": "2022-08-21T22:56:12.154Z"
   },
   {
    "duration": 425,
    "start_time": "2022-08-21T22:56:13.117Z"
   },
   {
    "duration": 12,
    "start_time": "2022-08-21T22:56:13.808Z"
   },
   {
    "duration": 6,
    "start_time": "2022-08-21T22:56:15.225Z"
   },
   {
    "duration": 7411,
    "start_time": "2022-08-21T22:56:17.509Z"
   },
   {
    "duration": 9,
    "start_time": "2022-08-21T22:56:25.010Z"
   },
   {
    "duration": 190,
    "start_time": "2022-08-21T22:56:25.021Z"
   },
   {
    "duration": 423601,
    "start_time": "2022-08-21T22:56:25.214Z"
   },
   {
    "duration": 397,
    "start_time": "2022-08-21T23:03:28.817Z"
   },
   {
    "duration": 5,
    "start_time": "2022-08-21T23:03:29.215Z"
   },
   {
    "duration": 1675,
    "start_time": "2022-08-21T23:07:38.159Z"
   },
   {
    "duration": 29151,
    "start_time": "2022-08-21T23:07:54.169Z"
   },
   {
    "duration": 69,
    "start_time": "2022-08-21T23:08:23.322Z"
   },
   {
    "duration": 5,
    "start_time": "2022-08-21T23:08:23.392Z"
   },
   {
    "duration": 69,
    "start_time": "2022-08-21T23:09:56.194Z"
   },
   {
    "duration": 5,
    "start_time": "2022-08-21T23:10:16.929Z"
   },
   {
    "duration": 1442,
    "start_time": "2022-08-21T23:10:48.273Z"
   },
   {
    "duration": 762,
    "start_time": "2022-08-21T23:10:49.717Z"
   },
   {
    "duration": 17,
    "start_time": "2022-08-21T23:10:50.481Z"
   },
   {
    "duration": 118,
    "start_time": "2022-08-21T23:10:50.499Z"
   },
   {
    "duration": 109,
    "start_time": "2022-08-21T23:10:50.619Z"
   },
   {
    "duration": 185,
    "start_time": "2022-08-21T23:10:50.729Z"
   },
   {
    "duration": 31,
    "start_time": "2022-08-21T23:10:50.915Z"
   },
   {
    "duration": 38,
    "start_time": "2022-08-21T23:10:50.948Z"
   },
   {
    "duration": 61,
    "start_time": "2022-08-21T23:10:50.988Z"
   },
   {
    "duration": 52,
    "start_time": "2022-08-21T23:10:51.051Z"
   },
   {
    "duration": 34,
    "start_time": "2022-08-21T23:10:51.104Z"
   },
   {
    "duration": 42,
    "start_time": "2022-08-21T23:10:51.140Z"
   },
   {
    "duration": 104,
    "start_time": "2022-08-21T23:10:51.184Z"
   },
   {
    "duration": 126,
    "start_time": "2022-08-21T23:10:51.291Z"
   },
   {
    "duration": 189,
    "start_time": "2022-08-21T23:10:51.420Z"
   },
   {
    "duration": 6,
    "start_time": "2022-08-21T23:10:51.611Z"
   },
   {
    "duration": 183,
    "start_time": "2022-08-21T23:10:51.618Z"
   },
   {
    "duration": 10,
    "start_time": "2022-08-21T23:10:51.803Z"
   },
   {
    "duration": 34,
    "start_time": "2022-08-21T23:10:51.814Z"
   },
   {
    "duration": 17,
    "start_time": "2022-08-21T23:10:51.850Z"
   },
   {
    "duration": 23,
    "start_time": "2022-08-21T23:10:51.869Z"
   },
   {
    "duration": 199,
    "start_time": "2022-08-21T23:10:51.894Z"
   },
   {
    "duration": 6,
    "start_time": "2022-08-21T23:10:52.094Z"
   },
   {
    "duration": 13,
    "start_time": "2022-08-21T23:10:52.102Z"
   },
   {
    "duration": 247,
    "start_time": "2022-08-21T23:10:52.117Z"
   },
   {
    "duration": 9,
    "start_time": "2022-08-21T23:10:52.366Z"
   },
   {
    "duration": 461,
    "start_time": "2022-08-21T23:10:52.377Z"
   },
   {
    "duration": 398,
    "start_time": "2022-08-21T23:10:52.839Z"
   },
   {
    "duration": 499,
    "start_time": "2022-08-21T23:10:53.239Z"
   },
   {
    "duration": 83,
    "start_time": "2022-08-21T23:10:53.739Z"
   },
   {
    "duration": 549,
    "start_time": "2022-08-21T23:10:53.823Z"
   },
   {
    "duration": 516,
    "start_time": "2022-08-21T23:10:54.374Z"
   },
   {
    "duration": 78,
    "start_time": "2022-08-21T23:10:54.891Z"
   },
   {
    "duration": 43,
    "start_time": "2022-08-21T23:10:54.970Z"
   },
   {
    "duration": 371,
    "start_time": "2022-08-21T23:10:55.015Z"
   },
   {
    "duration": 33,
    "start_time": "2022-08-21T23:10:55.387Z"
   },
   {
    "duration": 11,
    "start_time": "2022-08-21T23:10:55.422Z"
   },
   {
    "duration": 34,
    "start_time": "2022-08-21T23:10:55.435Z"
   },
   {
    "duration": 89,
    "start_time": "2022-08-21T23:10:55.471Z"
   },
   {
    "duration": 4444,
    "start_time": "2022-08-21T23:10:55.562Z"
   },
   {
    "duration": 143,
    "start_time": "2022-08-21T23:11:00.012Z"
   },
   {
    "duration": 57,
    "start_time": "2022-08-21T23:11:00.157Z"
   },
   {
    "duration": 233,
    "start_time": "2022-08-21T23:11:00.215Z"
   },
   {
    "duration": 189,
    "start_time": "2022-08-21T23:11:00.450Z"
   },
   {
    "duration": 25,
    "start_time": "2022-08-21T23:11:00.641Z"
   },
   {
    "duration": 43,
    "start_time": "2022-08-21T23:11:00.668Z"
   },
   {
    "duration": 81,
    "start_time": "2022-08-21T23:11:00.713Z"
   },
   {
    "duration": 1022,
    "start_time": "2022-08-21T23:11:00.796Z"
   },
   {
    "duration": 98,
    "start_time": "2022-08-21T23:11:01.819Z"
   },
   {
    "duration": 4,
    "start_time": "2022-08-21T23:11:01.919Z"
   },
   {
    "duration": 200,
    "start_time": "2022-08-21T23:11:01.925Z"
   },
   {
    "duration": 469,
    "start_time": "2022-08-21T23:11:02.127Z"
   },
   {
    "duration": 21,
    "start_time": "2022-08-21T23:11:02.598Z"
   },
   {
    "duration": 41,
    "start_time": "2022-08-21T23:11:02.621Z"
   },
   {
    "duration": 6155,
    "start_time": "2022-08-21T23:11:02.663Z"
   },
   {
    "duration": 91,
    "start_time": "2022-08-21T23:11:08.819Z"
   },
   {
    "duration": 100,
    "start_time": "2022-08-21T23:11:08.914Z"
   },
   {
    "duration": 427599,
    "start_time": "2022-08-21T23:11:09.016Z"
   },
   {
    "duration": 394,
    "start_time": "2022-08-21T23:18:16.617Z"
   },
   {
    "duration": 5,
    "start_time": "2022-08-21T23:18:17.013Z"
   },
   {
    "duration": 28567,
    "start_time": "2022-08-21T23:18:17.020Z"
   },
   {
    "duration": 88,
    "start_time": "2022-08-21T23:18:45.589Z"
   },
   {
    "duration": 5,
    "start_time": "2022-08-21T23:18:45.678Z"
   },
   {
    "duration": 81,
    "start_time": "2022-08-21T23:18:45.684Z"
   },
   {
    "duration": 6,
    "start_time": "2022-08-21T23:18:45.766Z"
   },
   {
    "duration": 69,
    "start_time": "2022-08-21T23:39:37.016Z"
   },
   {
    "duration": 6,
    "start_time": "2022-08-21T23:39:39.163Z"
   },
   {
    "duration": 1282,
    "start_time": "2022-08-21T23:50:58.253Z"
   },
   {
    "duration": 757,
    "start_time": "2022-08-21T23:50:59.536Z"
   },
   {
    "duration": 17,
    "start_time": "2022-08-21T23:51:00.296Z"
   },
   {
    "duration": 119,
    "start_time": "2022-08-21T23:51:00.316Z"
   },
   {
    "duration": 113,
    "start_time": "2022-08-21T23:51:00.437Z"
   },
   {
    "duration": 186,
    "start_time": "2022-08-21T23:51:00.552Z"
   },
   {
    "duration": 30,
    "start_time": "2022-08-21T23:51:00.739Z"
   },
   {
    "duration": 49,
    "start_time": "2022-08-21T23:51:00.770Z"
   },
   {
    "duration": 39,
    "start_time": "2022-08-21T23:51:00.820Z"
   },
   {
    "duration": 43,
    "start_time": "2022-08-21T23:51:00.861Z"
   },
   {
    "duration": 34,
    "start_time": "2022-08-21T23:51:00.906Z"
   },
   {
    "duration": 30,
    "start_time": "2022-08-21T23:51:00.942Z"
   },
   {
    "duration": 98,
    "start_time": "2022-08-21T23:51:00.973Z"
   },
   {
    "duration": 104,
    "start_time": "2022-08-21T23:51:01.073Z"
   },
   {
    "duration": 183,
    "start_time": "2022-08-21T23:51:01.179Z"
   },
   {
    "duration": 7,
    "start_time": "2022-08-21T23:51:01.364Z"
   },
   {
    "duration": 183,
    "start_time": "2022-08-21T23:51:01.374Z"
   },
   {
    "duration": 6,
    "start_time": "2022-08-21T23:51:01.558Z"
   },
   {
    "duration": 46,
    "start_time": "2022-08-21T23:51:01.565Z"
   },
   {
    "duration": 28,
    "start_time": "2022-08-21T23:51:01.612Z"
   },
   {
    "duration": 28,
    "start_time": "2022-08-21T23:51:01.641Z"
   },
   {
    "duration": 169,
    "start_time": "2022-08-21T23:51:01.670Z"
   },
   {
    "duration": 6,
    "start_time": "2022-08-21T23:51:01.840Z"
   },
   {
    "duration": 24,
    "start_time": "2022-08-21T23:51:01.848Z"
   },
   {
    "duration": 217,
    "start_time": "2022-08-21T23:51:01.873Z"
   },
   {
    "duration": 7,
    "start_time": "2022-08-21T23:51:02.092Z"
   },
   {
    "duration": 403,
    "start_time": "2022-08-21T23:51:02.100Z"
   },
   {
    "duration": 453,
    "start_time": "2022-08-21T23:51:02.507Z"
   },
   {
    "duration": 507,
    "start_time": "2022-08-21T23:51:02.962Z"
   },
   {
    "duration": 89,
    "start_time": "2022-08-21T23:51:03.471Z"
   },
   {
    "duration": 515,
    "start_time": "2022-08-21T23:51:03.561Z"
   },
   {
    "duration": 524,
    "start_time": "2022-08-21T23:51:04.078Z"
   },
   {
    "duration": 79,
    "start_time": "2022-08-21T23:51:04.603Z"
   },
   {
    "duration": 48,
    "start_time": "2022-08-21T23:51:04.684Z"
   },
   {
    "duration": 403,
    "start_time": "2022-08-21T23:51:04.733Z"
   },
   {
    "duration": 33,
    "start_time": "2022-08-21T23:51:05.137Z"
   },
   {
    "duration": 8,
    "start_time": "2022-08-21T23:51:05.171Z"
   },
   {
    "duration": 56,
    "start_time": "2022-08-21T23:51:05.181Z"
   },
   {
    "duration": 86,
    "start_time": "2022-08-21T23:51:05.239Z"
   },
   {
    "duration": 4609,
    "start_time": "2022-08-21T23:51:05.327Z"
   },
   {
    "duration": 126,
    "start_time": "2022-08-21T23:51:09.938Z"
   },
   {
    "duration": 55,
    "start_time": "2022-08-21T23:51:10.066Z"
   },
   {
    "duration": 234,
    "start_time": "2022-08-21T23:51:10.123Z"
   },
   {
    "duration": 221,
    "start_time": "2022-08-21T23:51:10.359Z"
   },
   {
    "duration": 33,
    "start_time": "2022-08-21T23:51:10.581Z"
   },
   {
    "duration": 41,
    "start_time": "2022-08-21T23:51:10.615Z"
   },
   {
    "duration": 91,
    "start_time": "2022-08-21T23:51:10.658Z"
   },
   {
    "duration": 1004,
    "start_time": "2022-08-21T23:51:10.751Z"
   },
   {
    "duration": 88,
    "start_time": "2022-08-21T23:51:11.756Z"
   },
   {
    "duration": 4,
    "start_time": "2022-08-21T23:51:11.846Z"
   },
   {
    "duration": 198,
    "start_time": "2022-08-21T23:51:11.852Z"
   },
   {
    "duration": 448,
    "start_time": "2022-08-21T23:51:12.051Z"
   },
   {
    "duration": 18,
    "start_time": "2022-08-21T23:51:12.500Z"
   },
   {
    "duration": 10,
    "start_time": "2022-08-21T23:51:12.521Z"
   },
   {
    "duration": 6479,
    "start_time": "2022-08-21T23:51:12.533Z"
   },
   {
    "duration": 97,
    "start_time": "2022-08-21T23:51:19.015Z"
   },
   {
    "duration": 105,
    "start_time": "2022-08-21T23:51:19.113Z"
   },
   {
    "duration": 424898,
    "start_time": "2022-08-21T23:51:19.219Z"
   },
   {
    "duration": 403,
    "start_time": "2022-08-21T23:58:24.118Z"
   },
   {
    "duration": 87,
    "start_time": "2022-08-21T23:58:24.523Z"
   },
   {
    "duration": 27721,
    "start_time": "2022-08-21T23:58:24.613Z"
   },
   {
    "duration": 67,
    "start_time": "2022-08-21T23:58:52.336Z"
   },
   {
    "duration": 7,
    "start_time": "2022-08-21T23:58:52.404Z"
   },
   {
    "duration": 74,
    "start_time": "2022-08-21T23:58:52.413Z"
   },
   {
    "duration": 7,
    "start_time": "2022-08-21T23:58:52.489Z"
   },
   {
    "duration": 2001,
    "start_time": "2022-08-22T19:43:21.439Z"
   },
   {
    "duration": 1038,
    "start_time": "2022-08-22T19:43:23.442Z"
   },
   {
    "duration": 22,
    "start_time": "2022-08-22T19:43:24.485Z"
   },
   {
    "duration": 156,
    "start_time": "2022-08-22T19:43:24.509Z"
   },
   {
    "duration": 122,
    "start_time": "2022-08-22T19:43:24.668Z"
   },
   {
    "duration": 179,
    "start_time": "2022-08-22T19:43:24.791Z"
   },
   {
    "duration": 34,
    "start_time": "2022-08-22T19:43:24.972Z"
   },
   {
    "duration": 35,
    "start_time": "2022-08-22T19:43:25.007Z"
   },
   {
    "duration": 31,
    "start_time": "2022-08-22T19:43:25.043Z"
   },
   {
    "duration": 44,
    "start_time": "2022-08-22T19:43:25.076Z"
   },
   {
    "duration": 50,
    "start_time": "2022-08-22T19:43:25.121Z"
   },
   {
    "duration": 30,
    "start_time": "2022-08-22T19:43:25.172Z"
   },
   {
    "duration": 96,
    "start_time": "2022-08-22T19:43:25.203Z"
   },
   {
    "duration": 105,
    "start_time": "2022-08-22T19:43:25.302Z"
   },
   {
    "duration": 183,
    "start_time": "2022-08-22T19:43:25.408Z"
   },
   {
    "duration": 8,
    "start_time": "2022-08-22T19:43:25.593Z"
   },
   {
    "duration": 178,
    "start_time": "2022-08-22T19:43:25.603Z"
   },
   {
    "duration": 15,
    "start_time": "2022-08-22T19:43:25.783Z"
   },
   {
    "duration": 21,
    "start_time": "2022-08-22T19:43:25.799Z"
   },
   {
    "duration": 26,
    "start_time": "2022-08-22T19:43:25.822Z"
   },
   {
    "duration": 16,
    "start_time": "2022-08-22T19:43:25.849Z"
   },
   {
    "duration": 167,
    "start_time": "2022-08-22T19:43:25.866Z"
   },
   {
    "duration": 6,
    "start_time": "2022-08-22T19:43:26.035Z"
   },
   {
    "duration": 5,
    "start_time": "2022-08-22T19:43:26.042Z"
   },
   {
    "duration": 218,
    "start_time": "2022-08-22T19:43:26.049Z"
   },
   {
    "duration": 9,
    "start_time": "2022-08-22T19:43:26.269Z"
   },
   {
    "duration": 396,
    "start_time": "2022-08-22T19:43:26.279Z"
   },
   {
    "duration": 421,
    "start_time": "2022-08-22T19:43:26.677Z"
   },
   {
    "duration": 509,
    "start_time": "2022-08-22T19:43:27.100Z"
   },
   {
    "duration": 90,
    "start_time": "2022-08-22T19:43:27.611Z"
   },
   {
    "duration": 603,
    "start_time": "2022-08-22T19:43:27.702Z"
   },
   {
    "duration": 507,
    "start_time": "2022-08-22T19:43:28.307Z"
   },
   {
    "duration": 72,
    "start_time": "2022-08-22T19:43:28.815Z"
   },
   {
    "duration": 34,
    "start_time": "2022-08-22T19:43:28.898Z"
   },
   {
    "duration": 387,
    "start_time": "2022-08-22T19:43:28.934Z"
   },
   {
    "duration": 31,
    "start_time": "2022-08-22T19:43:29.322Z"
   },
   {
    "duration": 7,
    "start_time": "2022-08-22T19:43:29.355Z"
   },
   {
    "duration": 43,
    "start_time": "2022-08-22T19:43:29.364Z"
   },
   {
    "duration": 70,
    "start_time": "2022-08-22T19:43:29.408Z"
   },
   {
    "duration": 4470,
    "start_time": "2022-08-22T19:43:29.480Z"
   },
   {
    "duration": 123,
    "start_time": "2022-08-22T19:43:33.955Z"
   },
   {
    "duration": 51,
    "start_time": "2022-08-22T19:43:34.080Z"
   },
   {
    "duration": 241,
    "start_time": "2022-08-22T19:43:34.133Z"
   },
   {
    "duration": 211,
    "start_time": "2022-08-22T19:43:34.376Z"
   },
   {
    "duration": 30,
    "start_time": "2022-08-22T19:43:34.589Z"
   },
   {
    "duration": 28,
    "start_time": "2022-08-22T19:43:34.621Z"
   },
   {
    "duration": 1836,
    "start_time": "2022-08-22T19:43:34.651Z"
   },
   {
    "duration": 21,
    "start_time": "2022-08-22T19:44:30.247Z"
   },
   {
    "duration": 28,
    "start_time": "2022-08-22T19:45:35.692Z"
   },
   {
    "duration": 18,
    "start_time": "2022-08-22T19:47:08.968Z"
   },
   {
    "duration": 18,
    "start_time": "2022-08-22T19:47:40.744Z"
   },
   {
    "duration": 33,
    "start_time": "2022-08-22T19:47:59.500Z"
   },
   {
    "duration": 20,
    "start_time": "2022-08-22T19:48:11.719Z"
   }
  ],
  "kernelspec": {
   "display_name": "Python 3 (ipykernel)",
   "language": "python",
   "name": "python3"
  },
  "language_info": {
   "codemirror_mode": {
    "name": "ipython",
    "version": 3
   },
   "file_extension": ".py",
   "mimetype": "text/x-python",
   "name": "python",
   "nbconvert_exporter": "python",
   "pygments_lexer": "ipython3",
   "version": "3.9.5"
  },
  "toc": {
   "base_numbering": 1,
   "nav_menu": {},
   "number_sections": true,
   "sideBar": true,
   "skip_h1_title": true,
   "title_cell": "Содержание",
   "title_sidebar": "Содержание",
   "toc_cell": true,
   "toc_position": {
    "height": "435.2px",
    "left": "352px",
    "top": "110.325px",
    "width": "245.225px"
   },
   "toc_section_display": true,
   "toc_window_display": true
  }
 },
 "nbformat": 4,
 "nbformat_minor": 2
}
