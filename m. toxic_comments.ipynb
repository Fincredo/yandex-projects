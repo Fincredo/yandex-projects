{
 "cells": [
  {
   "cell_type": "markdown",
   "metadata": {},
   "source": [
    "# Модерация токсичных комментариев"
   ]
  },
  {
   "cell_type": "markdown",
   "metadata": {
    "toc": true
   },
   "source": [
    "<h1>Содержание<span class=\"tocSkip\"></span></h1>\n",
    "<div class=\"toc\"><ul class=\"toc-item\"><li><span><a href=\"#Описание-проекта\" data-toc-modified-id=\"Описание-проекта-1\"><span class=\"toc-item-num\">1&nbsp;&nbsp;</span>Описание проекта</a></span></li><li><span><a href=\"#Подготовка-данных\" data-toc-modified-id=\"Подготовка-данных-2\"><span class=\"toc-item-num\">2&nbsp;&nbsp;</span>Подготовка данных</a></span><ul class=\"toc-item\"><li><span><a href=\"#Изучение-данных\" data-toc-modified-id=\"Изучение-данных-2.1\"><span class=\"toc-item-num\">2.1&nbsp;&nbsp;</span>Изучение данных</a></span></li><li><span><a href=\"#Обработка-данных\" data-toc-modified-id=\"Обработка-данных-2.2\"><span class=\"toc-item-num\">2.2&nbsp;&nbsp;</span>Обработка данных</a></span></li><li><span><a href=\"#Подготовка-к-обучению\" data-toc-modified-id=\"Подготовка-к-обучению-2.3\"><span class=\"toc-item-num\">2.3&nbsp;&nbsp;</span>Подготовка к обучению</a></span></li></ul></li><li><span><a href=\"#Обучение-моделей\" data-toc-modified-id=\"Обучение-моделей-3\"><span class=\"toc-item-num\">3&nbsp;&nbsp;</span>Обучение моделей</a></span><ul class=\"toc-item\"><li><span><a href=\"#Подбор-параметров\" data-toc-modified-id=\"Подбор-параметров-3.1\"><span class=\"toc-item-num\">3.1&nbsp;&nbsp;</span>Подбор параметров</a></span></li><li><span><a href=\"#Тестирование-моделей\" data-toc-modified-id=\"Тестирование-моделей-3.2\"><span class=\"toc-item-num\">3.2&nbsp;&nbsp;</span>Тестирование моделей</a></span></li></ul></li><li><span><a href=\"#Общие-выводы\" data-toc-modified-id=\"Общие-выводы-4\"><span class=\"toc-item-num\">4&nbsp;&nbsp;</span>Общие выводы</a></span></li></ul></div>"
   ]
  },
  {
   "cell_type": "markdown",
   "metadata": {},
   "source": [
    "## Описание проекта"
   ]
  },
  {
   "cell_type": "markdown",
   "metadata": {},
   "source": [
    "Интернет-магазин «Викишоп» запускает новый сервис. Теперь пользователи могут редактировать и дополнять описания товаров, как в вики-сообществах. То есть клиенты предлагают свои правки и комментируют изменения других. Магазину нужен инструмент, который будет искать токсичные комментарии и отправлять их на модерацию. \n",
    "\n",
    "Нужно обучить модель классифицировать комментарии на позитивные и негативные. Для исследования предоставлен набор данных с разметкой о токсичности правок. Необходимо построить модель со значением метрики качества F1 не меньше 0.75. "
   ]
  },
  {
   "cell_type": "markdown",
   "metadata": {},
   "source": [
    "## Подготовка данных"
   ]
  },
  {
   "cell_type": "markdown",
   "metadata": {},
   "source": [
    "### Изучение данных"
   ]
  },
  {
   "cell_type": "code",
   "execution_count": 1,
   "metadata": {
    "scrolled": true
   },
   "outputs": [],
   "source": [
    "# Импортируем необходимые для работы библиотеки.\n",
    "\n",
    "import matplotlib.pyplot as plt\n",
    "import nltk\n",
    "import numpy as np\n",
    "import pandas as pd\n",
    "import re\n",
    "import warnings\n",
    "\n",
    "from catboost import CatBoostClassifier\n",
    "from lightgbm import LGBMClassifier\n",
    "from nltk.corpus import stopwords as nltk_stopwords\n",
    "from nltk.stem import WordNetLemmatizer\n",
    "from nltk.tokenize import word_tokenize\n",
    "from sklearn.dummy import DummyClassifier\n",
    "from sklearn.ensemble import RandomForestClassifier\n",
    "from sklearn.feature_extraction.text import TfidfVectorizer\n",
    "from sklearn.linear_model import LogisticRegression, RidgeClassifier\n",
    "from sklearn.metrics import accuracy_score, confusion_matrix, f1_score, precision_score, recall_score\n",
    "from sklearn.model_selection import train_test_split, GridSearchCV\n",
    "from sklearn.pipeline import Pipeline\n",
    "from sklearn.utils import shuffle\n",
    "\n",
    "warnings.filterwarnings('ignore')"
   ]
  },
  {
   "cell_type": "code",
   "execution_count": 2,
   "metadata": {},
   "outputs": [],
   "source": [
    "# Открываем csv-файл с таблицей и сохраняем в переменную \"df_comments\".\n",
    "\n",
    "try:\n",
    "    df_comments = pd.read_csv('/datasets/toxic_comments.csv', index_col=[0])\n",
    "except:\n",
    "    try:\n",
    "        df_comments = pd.read_csv('datasets/toxic_comments.csv', index_col=[0])\n",
    "    except:\n",
    "        print('Проверьте пути к файлам.')"
   ]
  },
  {
   "cell_type": "code",
   "execution_count": 3,
   "metadata": {},
   "outputs": [
    {
     "data": {
      "text/html": [
       "<div>\n",
       "<style scoped>\n",
       "    .dataframe tbody tr th:only-of-type {\n",
       "        vertical-align: middle;\n",
       "    }\n",
       "\n",
       "    .dataframe tbody tr th {\n",
       "        vertical-align: top;\n",
       "    }\n",
       "\n",
       "    .dataframe thead th {\n",
       "        text-align: right;\n",
       "    }\n",
       "</style>\n",
       "<table border=\"1\" class=\"dataframe\">\n",
       "  <thead>\n",
       "    <tr style=\"text-align: right;\">\n",
       "      <th></th>\n",
       "      <th>text</th>\n",
       "      <th>toxic</th>\n",
       "    </tr>\n",
       "  </thead>\n",
       "  <tbody>\n",
       "    <tr>\n",
       "      <th>0</th>\n",
       "      <td>Explanation\\nWhy the edits made under my usern...</td>\n",
       "      <td>0</td>\n",
       "    </tr>\n",
       "    <tr>\n",
       "      <th>1</th>\n",
       "      <td>D'aww! He matches this background colour I'm s...</td>\n",
       "      <td>0</td>\n",
       "    </tr>\n",
       "    <tr>\n",
       "      <th>2</th>\n",
       "      <td>Hey man, I'm really not trying to edit war. It...</td>\n",
       "      <td>0</td>\n",
       "    </tr>\n",
       "    <tr>\n",
       "      <th>3</th>\n",
       "      <td>\"\\nMore\\nI can't make any real suggestions on ...</td>\n",
       "      <td>0</td>\n",
       "    </tr>\n",
       "    <tr>\n",
       "      <th>4</th>\n",
       "      <td>You, sir, are my hero. Any chance you remember...</td>\n",
       "      <td>0</td>\n",
       "    </tr>\n",
       "  </tbody>\n",
       "</table>\n",
       "</div>"
      ],
      "text/plain": [
       "                                                text  toxic\n",
       "0  Explanation\\nWhy the edits made under my usern...      0\n",
       "1  D'aww! He matches this background colour I'm s...      0\n",
       "2  Hey man, I'm really not trying to edit war. It...      0\n",
       "3  \"\\nMore\\nI can't make any real suggestions on ...      0\n",
       "4  You, sir, are my hero. Any chance you remember...      0"
      ]
     },
     "execution_count": 3,
     "metadata": {},
     "output_type": "execute_result"
    }
   ],
   "source": [
    "# Просматриваем первые строки датафрейма.\n",
    "\n",
    "df_comments.head()"
   ]
  },
  {
   "cell_type": "code",
   "execution_count": 4,
   "metadata": {},
   "outputs": [
    {
     "data": {
      "text/html": [
       "<div>\n",
       "<style scoped>\n",
       "    .dataframe tbody tr th:only-of-type {\n",
       "        vertical-align: middle;\n",
       "    }\n",
       "\n",
       "    .dataframe tbody tr th {\n",
       "        vertical-align: top;\n",
       "    }\n",
       "\n",
       "    .dataframe thead th {\n",
       "        text-align: right;\n",
       "    }\n",
       "</style>\n",
       "<table border=\"1\" class=\"dataframe\">\n",
       "  <thead>\n",
       "    <tr style=\"text-align: right;\">\n",
       "      <th></th>\n",
       "      <th>text</th>\n",
       "      <th>toxic</th>\n",
       "    </tr>\n",
       "  </thead>\n",
       "  <tbody>\n",
       "    <tr>\n",
       "      <th>0</th>\n",
       "      <td>Explanation\\nWhy the edits made under my username Hardcore Metallica Fan were reverted? They weren't vandalisms, just closure on some GAs after I ...</td>\n",
       "      <td>0</td>\n",
       "    </tr>\n",
       "    <tr>\n",
       "      <th>1</th>\n",
       "      <td>D'aww! He matches this background colour I'm seemingly stuck with. Thanks.  (talk) 21:51, January 11, 2016 (UTC)</td>\n",
       "      <td>0</td>\n",
       "    </tr>\n",
       "    <tr>\n",
       "      <th>2</th>\n",
       "      <td>Hey man, I'm really not trying to edit war. It's just that this guy is constantly removing relevant information and talking to me through edits in...</td>\n",
       "      <td>0</td>\n",
       "    </tr>\n",
       "    <tr>\n",
       "      <th>3</th>\n",
       "      <td>\"\\nMore\\nI can't make any real suggestions on improvement - I wondered if the section statistics should be later on, or a subsection of \"\"types of...</td>\n",
       "      <td>0</td>\n",
       "    </tr>\n",
       "    <tr>\n",
       "      <th>4</th>\n",
       "      <td>You, sir, are my hero. Any chance you remember what page that's on?</td>\n",
       "      <td>0</td>\n",
       "    </tr>\n",
       "  </tbody>\n",
       "</table>\n",
       "</div>"
      ],
      "text/plain": [
       "                                                                                                                                                    text  \\\n",
       "0  Explanation\\nWhy the edits made under my username Hardcore Metallica Fan were reverted? They weren't vandalisms, just closure on some GAs after I ...   \n",
       "1                                       D'aww! He matches this background colour I'm seemingly stuck with. Thanks.  (talk) 21:51, January 11, 2016 (UTC)   \n",
       "2  Hey man, I'm really not trying to edit war. It's just that this guy is constantly removing relevant information and talking to me through edits in...   \n",
       "3  \"\\nMore\\nI can't make any real suggestions on improvement - I wondered if the section statistics should be later on, or a subsection of \"\"types of...   \n",
       "4                                                                                    You, sir, are my hero. Any chance you remember what page that's on?   \n",
       "\n",
       "   toxic  \n",
       "0      0  \n",
       "1      0  \n",
       "2      0  \n",
       "3      0  \n",
       "4      0  "
      ]
     },
     "execution_count": 4,
     "metadata": {},
     "output_type": "execute_result"
    }
   ],
   "source": [
    "# Увеличиваем видимость символов в ячейках до 150.\n",
    "# Снова просматриваем первые строки датафрейма.\n",
    "\n",
    "pd.options.display.max_colwidth = 150\n",
    "df_comments.head()"
   ]
  },
  {
   "cell_type": "code",
   "execution_count": 5,
   "metadata": {
    "scrolled": true
   },
   "outputs": [
    {
     "name": "stdout",
     "output_type": "stream",
     "text": [
      "<class 'pandas.core.frame.DataFrame'>\n",
      "Int64Index: 159292 entries, 0 to 159450\n",
      "Data columns (total 2 columns):\n",
      " #   Column  Non-Null Count   Dtype \n",
      "---  ------  --------------   ----- \n",
      " 0   text    159292 non-null  object\n",
      " 1   toxic   159292 non-null  int64 \n",
      "dtypes: int64(1), object(1)\n",
      "memory usage: 3.6+ MB\n"
     ]
    }
   ],
   "source": [
    "# Общая информация о датафрейме\n",
    "\n",
    "df_comments.info()"
   ]
  },
  {
   "cell_type": "code",
   "execution_count": 6,
   "metadata": {
    "scrolled": true
   },
   "outputs": [
    {
     "data": {
      "text/plain": [
       "0    0.898388\n",
       "1    0.101612\n",
       "Name: toxic, dtype: float64"
      ]
     },
     "execution_count": 6,
     "metadata": {},
     "output_type": "execute_result"
    }
   ],
   "source": [
    "# Доли уникальных значений в целевом признаке (столбец \"toxic\")\n",
    "\n",
    "df_comments['toxic'].value_counts(normalize=True)"
   ]
  },
  {
   "cell_type": "code",
   "execution_count": 7,
   "metadata": {},
   "outputs": [
    {
     "name": "stdout",
     "output_type": "stream",
     "text": [
      "Соотношение отрицательного класса к положительному: 8.841344371679229\n"
     ]
    }
   ],
   "source": [
    "# Находим количественное соотношение классов в целевом признаке.\n",
    "\n",
    "ratio = (df_comments['toxic'].value_counts(normalize=True)[0] \n",
    "         / df_comments['toxic'].value_counts(normalize=True)[1])\n",
    "print('Соотношение отрицательного класса к положительному:', ratio)"
   ]
  },
  {
   "cell_type": "code",
   "execution_count": 8,
   "metadata": {},
   "outputs": [
    {
     "name": "stdout",
     "output_type": "stream",
     "text": [
      "Количество строк, имеющих дубликаты: 0\n"
     ]
    }
   ],
   "source": [
    "print('Количество строк, имеющих дубликаты:', df_comments.duplicated().sum())"
   ]
  },
  {
   "cell_type": "markdown",
   "metadata": {},
   "source": [
    "__Выводы:__\n",
    "\n",
    "1. Таблица представляет собой датасет с 159292 строками и 2 столбцами. Для сокращения времени на обработку желательно уменьшить выборку (без значимого ущерба для качества предсказаний).\n",
    " \n",
    " \n",
    "2. В столбце 'text' содержатся тексты сообщений, тип данных - object. В столбце 'toxic' - целевой признак в виде 1 и 0 (соответственно, наличие или отсутствие токсичного комментария), тип данных - int64.\n",
    "\n",
    "\n",
    "3. Пропущенных значений в таблице нет.\n",
    "\n",
    "\n",
    "4. Доля нулей в целевом признаке - 89.8%, доля единиц - 10.2%. Строк с нулями примерно в 8.84 раза больше, чем с единицами. Данный дисбаланс классов может повлиять на качество предсказаний, поэтому его необходимо устранить.\n",
    "\n",
    "\n",
    "5. Полных дубликатов стреди строк не обнаружено. Однако следует перепроверить данный факт после очищения текстов.\n",
    "\n",
    "\n",
    "6. Перед обучением моделей данные также подлежат очистке, токенизации, лемматизации, выделению признаков и разбивке их на обучающую и тестовую выборки."
   ]
  },
  {
   "cell_type": "markdown",
   "metadata": {},
   "source": [
    "### Обработка данных"
   ]
  },
  {
   "cell_type": "code",
   "execution_count": 9,
   "metadata": {},
   "outputs": [],
   "source": [
    "# Перевод текстов в нижний регистр\n",
    "\n",
    "df_comments['text'] = df_comments['text'].str.lower()"
   ]
  },
  {
   "cell_type": "code",
   "execution_count": 10,
   "metadata": {},
   "outputs": [],
   "source": [
    "# Примерное время на обработку - 1 минута\n",
    "\n",
    "# Очистка\n",
    "df_comments['text'] = df_comments['text'].apply(\n",
    "    lambda x: \" \".join(re.sub(r\"[^a-zA-Z']\", \" \", x).split()))\n",
    "\n",
    "# Токенизация\n",
    "df_comments['text'] = df_comments['text'].apply(lambda x: word_tokenize(x))\n",
    "\n",
    "# Лемматизация\n",
    "df_comments['text'] = df_comments['text'].apply(\n",
    "    lambda x: ' '.join([WordNetLemmatizer().lemmatize(w) for w in x]))"
   ]
  },
  {
   "cell_type": "code",
   "execution_count": 11,
   "metadata": {
    "scrolled": true
   },
   "outputs": [
    {
     "name": "stdout",
     "output_type": "stream",
     "text": [
      "Количество строк, имеющих дубликаты: 1256\n"
     ]
    }
   ],
   "source": [
    "# Проверка на наличие дубликатов\n",
    "\n",
    "print('Количество строк, имеющих дубликаты:', df_comments.duplicated().sum())"
   ]
  },
  {
   "cell_type": "code",
   "execution_count": 12,
   "metadata": {},
   "outputs": [
    {
     "name": "stdout",
     "output_type": "stream",
     "text": [
      "Количество строк, имеющих дубликаты: 0\n"
     ]
    }
   ],
   "source": [
    "# Удаление дубликатов, обновление индексов\n",
    "# Повторная проверка на наличие дубликатов\n",
    "\n",
    "df_comments = df_comments.drop_duplicates().reset_index(drop=True)\n",
    "print('Количество строк, имеющих дубликаты:', df_comments.duplicated().sum())"
   ]
  },
  {
   "cell_type": "code",
   "execution_count": 13,
   "metadata": {},
   "outputs": [
    {
     "data": {
      "text/html": [
       "<div>\n",
       "<style scoped>\n",
       "    .dataframe tbody tr th:only-of-type {\n",
       "        vertical-align: middle;\n",
       "    }\n",
       "\n",
       "    .dataframe tbody tr th {\n",
       "        vertical-align: top;\n",
       "    }\n",
       "\n",
       "    .dataframe thead th {\n",
       "        text-align: right;\n",
       "    }\n",
       "</style>\n",
       "<table border=\"1\" class=\"dataframe\">\n",
       "  <thead>\n",
       "    <tr style=\"text-align: right;\">\n",
       "      <th></th>\n",
       "      <th>text</th>\n",
       "      <th>toxic</th>\n",
       "    </tr>\n",
       "  </thead>\n",
       "  <tbody>\n",
       "    <tr>\n",
       "      <th>0</th>\n",
       "      <td>explanation why the edits made under my username hardcore metallica fan were reverted they were n't vandalism just closure on some gas after i vot...</td>\n",
       "      <td>0</td>\n",
       "    </tr>\n",
       "    <tr>\n",
       "      <th>1</th>\n",
       "      <td>d'aww he match this background colour i 'm seemingly stuck with thanks talk january utc</td>\n",
       "      <td>0</td>\n",
       "    </tr>\n",
       "    <tr>\n",
       "      <th>2</th>\n",
       "      <td>hey man i 'm really not trying to edit war it 's just that this guy is constantly removing relevant information and talking to me through edits in...</td>\n",
       "      <td>0</td>\n",
       "    </tr>\n",
       "    <tr>\n",
       "      <th>3</th>\n",
       "      <td>more i ca n't make any real suggestion on improvement i wondered if the section statistic should be later on or a subsection of type of accident i...</td>\n",
       "      <td>0</td>\n",
       "    </tr>\n",
       "    <tr>\n",
       "      <th>4</th>\n",
       "      <td>you sir are my hero any chance you remember what page that 's on</td>\n",
       "      <td>0</td>\n",
       "    </tr>\n",
       "  </tbody>\n",
       "</table>\n",
       "</div>"
      ],
      "text/plain": [
       "                                                                                                                                                    text  \\\n",
       "0  explanation why the edits made under my username hardcore metallica fan were reverted they were n't vandalism just closure on some gas after i vot...   \n",
       "1                                                                d'aww he match this background colour i 'm seemingly stuck with thanks talk january utc   \n",
       "2  hey man i 'm really not trying to edit war it 's just that this guy is constantly removing relevant information and talking to me through edits in...   \n",
       "3  more i ca n't make any real suggestion on improvement i wondered if the section statistic should be later on or a subsection of type of accident i...   \n",
       "4                                                                                       you sir are my hero any chance you remember what page that 's on   \n",
       "\n",
       "   toxic  \n",
       "0      0  \n",
       "1      0  \n",
       "2      0  \n",
       "3      0  \n",
       "4      0  "
      ]
     },
     "execution_count": 13,
     "metadata": {},
     "output_type": "execute_result"
    }
   ],
   "source": [
    "# Просматриваем первые строки датафрейма после обработки.\n",
    "\n",
    "df_comments.head()"
   ]
  },
  {
   "cell_type": "markdown",
   "metadata": {},
   "source": [
    "### Подготовка к обучению"
   ]
  },
  {
   "cell_type": "code",
   "execution_count": 14,
   "metadata": {},
   "outputs": [
    {
     "name": "stdout",
     "output_type": "stream",
     "text": [
      "(142232, 2)\n",
      "(15804, 2)\n"
     ]
    }
   ],
   "source": [
    "# Разбиваем датасет на обучающую и тестовую выборки.\n",
    "# Проверяем размеры полученных наборов данных.\n",
    "\n",
    "train, test = train_test_split(df_comments, test_size=0.1, random_state=12345)\n",
    "\n",
    "print(train.shape)\n",
    "print(test.shape)"
   ]
  },
  {
   "cell_type": "markdown",
   "metadata": {},
   "source": [
    "Для частичного устранения дисбаланса классов и сокращения времени на обработку данных уменьшим количество строк с отрицательным классом в целевом признаке обучающей выборки в `ratio/2` раз."
   ]
  },
  {
   "cell_type": "code",
   "execution_count": 15,
   "metadata": {},
   "outputs": [
    {
     "name": "stdout",
     "output_type": "stream",
     "text": [
      "Новые размеры обучающей выборки: (43353, 2)\n",
      "Новое соотношение классов в целевом признаке:\n"
     ]
    },
    {
     "data": {
      "text/plain": [
       "0    0.666759\n",
       "1    0.333241\n",
       "Name: toxic, dtype: float64"
      ]
     },
     "execution_count": 15,
     "metadata": {},
     "output_type": "execute_result"
    }
   ],
   "source": [
    "# Даунсемплинг обучающей выборки\n",
    "\n",
    "zeros = train[train['toxic'] == 0]\n",
    "ones = train[train['toxic'] == 1]\n",
    "train = pd.concat([zeros.sample(frac=2/ratio, random_state=12345), ones])\n",
    "train = shuffle(train, random_state=12345)\n",
    "\n",
    "print('Новые размеры обучающей выборки:', train.shape)\n",
    "print('Новое соотношение классов в целевом признаке:')\n",
    "train['toxic'].value_counts(normalize=True)"
   ]
  },
  {
   "cell_type": "code",
   "execution_count": 16,
   "metadata": {},
   "outputs": [],
   "source": [
    "# В каждой выборке dыделяем признаки, переводим их в векторный вид.\n",
    "\n",
    "features_train = train['text'].values\n",
    "target_train = train['toxic'].values\n",
    "\n",
    "features_test = test['text'].values\n",
    "target_test = test['toxic'].values"
   ]
  },
  {
   "cell_type": "code",
   "execution_count": 17,
   "metadata": {},
   "outputs": [
    {
     "name": "stderr",
     "output_type": "stream",
     "text": [
      "[nltk_data] Downloading package stopwords to\n",
      "[nltk_data]     C:\\Users\\fincr\\AppData\\Roaming\\nltk_data...\n",
      "[nltk_data]   Package stopwords is already up-to-date!\n"
     ]
    },
    {
     "data": {
      "text/plain": [
       "TfidfVectorizer(stop_words={'a', 'about', 'above', 'after', 'again', 'against',\n",
       "                            'ain', 'all', 'am', 'an', 'and', 'any', 'are',\n",
       "                            'aren', \"aren't\", 'as', 'at', 'be', 'because',\n",
       "                            'been', 'before', 'being', 'below', 'between',\n",
       "                            'both', 'but', 'by', 'can', 'couldn', \"couldn't\", ...})"
      ]
     },
     "execution_count": 17,
     "metadata": {},
     "output_type": "execute_result"
    }
   ],
   "source": [
    "# Формируем набор стоп-слов.\n",
    "# Cоздаем счетчик величин TF-IDF.\n",
    "\n",
    "nltk.download('stopwords')\n",
    "stopwords = set(nltk_stopwords.words('english'))\n",
    "count_tf_idf = TfidfVectorizer(stop_words=stopwords)\n",
    "count_tf_idf"
   ]
  },
  {
   "cell_type": "code",
   "execution_count": 18,
   "metadata": {},
   "outputs": [
    {
     "name": "stdout",
     "output_type": "stream",
     "text": [
      "(43353, 69589)\n",
      "(15804, 69589)\n"
     ]
    }
   ],
   "source": [
    "# Создаем корпус текстов в трейне и признаки из величин TF-IDF.\n",
    "# Проверяем размеры полученных наборов данных.\n",
    "\n",
    "features_train_tfidf = count_tf_idf.fit_transform(features_train)\n",
    "features_test_tfidf = count_tf_idf.transform(features_test)\n",
    "\n",
    "print(features_train_tfidf.shape)\n",
    "print(features_test_tfidf.shape)"
   ]
  },
  {
   "cell_type": "markdown",
   "metadata": {},
   "source": [
    "__Итоги:__\n",
    "\n",
    "\n",
    "1. Для экономии времени количество строк датасета уменьшено втрое.\n",
    "\n",
    "\n",
    "2. Тексты комментариев переведены в нижний регистр.\n",
    "\n",
    "\n",
    "3. Проведено очищение текстов от лишних символов, кроме латинских букв и апострофа.\n",
    "\n",
    "\n",
    "4. Проведена токенизация (разбивка текста на отдельные слова).\n",
    "\n",
    "\n",
    "5. Проведена лемматизация каждого слова в текстах (приведение слова к начальной словарной форме).\n",
    "\n",
    "\n",
    "6. Удалены полные дубликаты строк.\n",
    "\n",
    "\n",
    "7. Датасет разбит на обучающую и тестовую выборки.\n",
    "\n",
    "\n",
    "8. Выполнен даунсемплинг обучающей выборки до размеров, при которых установился баланс между классами в целевом признаке.\n",
    "\n",
    "\n",
    "9. В каждой выборке выделены признаки и переведены в векторный вид: признак для обучения ('text') и целевой признак ('toxic').\n",
    "\n",
    "\n",
    "10. Сформирован набор стоп-слов и создан счетчик величин TF-IDF.\n",
    "\n",
    "\n",
    "11. Создан корпус текстов в обучающей выборке, а также созданы признаки (в обучающей и тестовой выборках) из величин TF-IDF."
   ]
  },
  {
   "cell_type": "markdown",
   "metadata": {},
   "source": [
    "## Обучение моделей"
   ]
  },
  {
   "cell_type": "markdown",
   "metadata": {},
   "source": [
    "### Подбор параметров"
   ]
  },
  {
   "cell_type": "markdown",
   "metadata": {},
   "source": [
    "Для выбора наиболее оптимальной структуры машинного обучения, подобрав лучшие гиперпараметры, сравним 5 из них (Логистрическую регрессию, Классификатор Ridge, Классификатор случайного леса, Классификатор LGBM и Классификатор CatBoost), а также фиктивный Классификатор Dummy."
   ]
  },
  {
   "cell_type": "code",
   "execution_count": 19,
   "metadata": {},
   "outputs": [],
   "source": [
    "def grid_search(model):\n",
    "    pipe = Pipeline([('tfidf', TfidfVectorizer(stop_words=stopwords)), ('', model)])\n",
    "    grid = GridSearchCV(pipe, params, scoring='f1', cv=3)\n",
    "    grid.fit(features_train, target_train)\n",
    "    print('Лучшие параметры модели:', grid.best_params_)\n",
    "    print('Метрика F1 на обучающей выборке:', grid.best_score_, '\\n')"
   ]
  },
  {
   "cell_type": "code",
   "execution_count": 20,
   "metadata": {},
   "outputs": [
    {
     "name": "stdout",
     "output_type": "stream",
     "text": [
      "Лучшие параметры модели: {'__C': 10, '__random_state': 12345, '__solver': 'sag'}\n",
      "Метрика F1 на обучающей выборке: 0.8545009767428594 \n",
      "\n"
     ]
    }
   ],
   "source": [
    "# LogisticRegression\n",
    "# Примерное время на обработку - 2 мин\n",
    "\n",
    "model_lr = LogisticRegression(random_state=12345)\n",
    "params = [{'__solver':['lbfgs', 'liblinear', 'sag', 'saga'],\n",
    "           '__C':[0.1, 1, 10],\n",
    "           '__random_state':[12345]}]\n",
    "grid_search(model_lr)"
   ]
  },
  {
   "cell_type": "code",
   "execution_count": 21,
   "metadata": {
    "scrolled": true
   },
   "outputs": [
    {
     "name": "stdout",
     "output_type": "stream",
     "text": [
      "Лучшие параметры модели: {'__random_state': 12345, '__solver': 'sag'}\n",
      "Метрика F1 на обучающей выборке: 0.8175946643850694 \n",
      "\n"
     ]
    }
   ],
   "source": [
    "# RidgeClassifier\n",
    "# Примерное время на обработку - 1 мин\n",
    "\n",
    "model_rc = RidgeClassifier(random_state=12345)\n",
    "params = [{'__solver':['auto', 'svd', 'cholesky', 'lsqr',\n",
    "                     'sparse_cg', 'sag', 'saga', 'lbfgs'],\n",
    "           '__random_state':[12345]}]\n",
    "grid_search(model_rc)"
   ]
  },
  {
   "cell_type": "code",
   "execution_count": 22,
   "metadata": {},
   "outputs": [
    {
     "name": "stdout",
     "output_type": "stream",
     "text": [
      "Лучшие параметры модели: {'__class_weight': 'balanced', '__max_depth': 11, '__n_estimators': 200, '__random_state': 12345}\n",
      "Метрика F1 на обучающей выборке: 0.7096354654984434 \n",
      "\n"
     ]
    }
   ],
   "source": [
    "# RandomForestClassifier\n",
    "# Примерное время на обработку - 3 мин\n",
    "\n",
    "model_rfc = RandomForestClassifier(random_state=12345)\n",
    "params = [{'__n_estimators': [100, 150, 200],\n",
    "          '__max_depth': range(7, 12),\n",
    "          '__random_state':[12345],\n",
    "          '__class_weight':['balanced']}]\n",
    "grid_search(model_rfc)"
   ]
  },
  {
   "cell_type": "code",
   "execution_count": 23,
   "metadata": {},
   "outputs": [
    {
     "name": "stdout",
     "output_type": "stream",
     "text": [
      "Лучшие параметры модели: {'__learning_rate': 0.03, '__max_depth': -1, '__n_estimators': 500, '__random_state': 12345}\n",
      "Метрика F1 на обучающей выборке: 0.8457151942402582 \n",
      "\n"
     ]
    }
   ],
   "source": [
    "# LGBMClassifier\n",
    "# Примерное время на обработку - 3,5 мин\n",
    "\n",
    "model_lgbmc = LGBMClassifier(random_state=12345)\n",
    "params = [{'__max_depth' : [-1], #1\n",
    "           '__n_estimators' : [500], #100, 300\n",
    "           '__learning_rate':[0.03], #0.01, 0.1\n",
    "           '__random_state':[12345]}]\n",
    "grid_search(model_lgbmc)"
   ]
  },
  {
   "cell_type": "code",
   "execution_count": 24,
   "metadata": {},
   "outputs": [
    {
     "name": "stdout",
     "output_type": "stream",
     "text": [
      "Лучшие параметры модели: {'__iterations': 100, '__learning_rate': 0.9, '__max_depth': 6, '__random_state': 12345, '__verbose': False}\n",
      "Метрика F1 на обучающей выборке: 0.8387432399564085 \n",
      "\n"
     ]
    }
   ],
   "source": [
    "# CatBoostClassifier\n",
    "# Примерное время на обработку - 6 минут\n",
    "\n",
    "model_cbc = CatBoostClassifier(random_state=12345)\n",
    "params = [{'__max_depth':[6], #5 \n",
    "           '__learning_rate':[0.9], #0.3\n",
    "           '__iterations':[100], #50\n",
    "           '__verbose':[False],\n",
    "           '__random_state':[12345]}]\n",
    "grid_search(model_cbc)"
   ]
  },
  {
   "cell_type": "code",
   "execution_count": 25,
   "metadata": {
    "scrolled": true
   },
   "outputs": [
    {
     "name": "stdout",
     "output_type": "stream",
     "text": [
      "Лучшие параметры модели: {'__random_state': 12345, '__strategy': 'uniform'}\n",
      "Метрика F1 на обучающей выборке: 0.4017033878674128 \n",
      "\n"
     ]
    }
   ],
   "source": [
    "# DummyClassifier\n",
    "\n",
    "model_dc = DummyClassifier()\n",
    "params = [{'__strategy':['most_frequent', 'prior', 'stratified', 'uniform', 'constant'], \n",
    "           '__random_state':[12345]}]\n",
    "grid_search(model_dc)"
   ]
  },
  {
   "cell_type": "markdown",
   "metadata": {},
   "source": [
    "__Выводы:__\n",
    "\n",
    "1. Меньше всего времени на обработку ушло у модели RidgeClassifier (1 минута), больше всего - у LGBMClassifier (около 30 минут).\n",
    "\n",
    "\n",
    "2. Наиболее высокий показатель F1-меры на обучающей выборке продемонстрировала модель LogisticRegression (0.8545), наиболее низкий - RandomForestClassifier (0.7012).\n",
    "\n",
    "\n",
    "3. Поскольку почти у всех моделей успешные результаты, для окончательного выбора необходимо проверить их на тестовой выборке."
   ]
  },
  {
   "cell_type": "markdown",
   "metadata": {},
   "source": [
    "### Тестирование моделей"
   ]
  },
  {
   "cell_type": "markdown",
   "metadata": {},
   "source": [
    "Проверим все 5 моделей с подобранными гиперпараметрами на тестовой выборке. Кроме того вычислим не только F1-меру, но также другие метрики (правильность, точность, полноту), а также выведем данные матрицы ошибок ."
   ]
  },
  {
   "cell_type": "code",
   "execution_count": 26,
   "metadata": {},
   "outputs": [],
   "source": [
    "''' Функция для проверки моделей на тестовой выборке, \n",
    "а также вывода метрик (в т.ч. F1) и данных матрицы ошибок.'''\n",
    "\n",
    "def model_test(model):\n",
    "    model.fit(features_train_tfidf, target_train)\n",
    "    predictions = model.predict(features_test_tfidf)\n",
    "\n",
    "    accuracy = accuracy_score(target_test, predictions)\n",
    "    precision = precision_score(target_test, predictions)\n",
    "    recall = recall_score(target_test, predictions)\n",
    "    f1 = f1_score(target_test, predictions)\n",
    "    matrix = confusion_matrix(target_test, predictions)  \n",
    "    \n",
    "    print('МЕТРИКИ')\n",
    "    print('Accuracy:', accuracy)\n",
    "    print('Precision:', precision)\n",
    "    print('Recall:', recall)\n",
    "    print('F1-мера:', f1)\n",
    "    print('\\nМАТРИЦА ОШИБОК')\n",
    "    print('Истинно-отрицательные ответы:', matrix[0, 0])\n",
    "    print('Ложно-отрицательные ответы:', matrix[1, 0])\n",
    "    print('Истинно-положительные ответы:', matrix[1, 1])\n",
    "    print('Ложно-положительные ответы:', matrix[0, 1])\n",
    "    print()"
   ]
  },
  {
   "cell_type": "code",
   "execution_count": 27,
   "metadata": {},
   "outputs": [
    {
     "name": "stdout",
     "output_type": "stream",
     "text": [
      "МЕТРИКИ\n",
      "Accuracy: 0.9455201214882308\n",
      "Precision: 0.6974439227960355\n",
      "Recall: 0.8263288009888752\n",
      "F1-мера: 0.7564356435643564\n",
      "\n",
      "МАТРИЦА ОШИБОК\n",
      "Истинно-отрицательные ответы: 13606\n",
      "Ложно-отрицательные ответы: 281\n",
      "Истинно-положительные ответы: 1337\n",
      "Ложно-положительные ответы: 580\n",
      "\n"
     ]
    }
   ],
   "source": [
    "# LogisticRegression\n",
    "\n",
    "model_lr = LogisticRegression(C=10, \n",
    "                              solver='lbfgs', \n",
    "                              random_state=12345)\n",
    "model_test(model_lr)"
   ]
  },
  {
   "cell_type": "code",
   "execution_count": 28,
   "metadata": {},
   "outputs": [
    {
     "name": "stdout",
     "output_type": "stream",
     "text": [
      "МЕТРИКИ\n",
      "Accuracy: 0.9417236142748672\n",
      "Precision: 0.6972269383135258\n",
      "Recall: 0.761433868974042\n",
      "F1-мера: 0.727917282127031\n",
      "\n",
      "МАТРИЦА ОШИБОК\n",
      "Истинно-отрицательные ответы: 13651\n",
      "Ложно-отрицательные ответы: 386\n",
      "Истинно-положительные ответы: 1232\n",
      "Ложно-положительные ответы: 535\n",
      "\n"
     ]
    }
   ],
   "source": [
    "# RidgeClassifier\n",
    "\n",
    "model_rc = RidgeClassifier(solver='auto', \n",
    "                           random_state=12345)\n",
    "model_test(model_rc)"
   ]
  },
  {
   "cell_type": "code",
   "execution_count": 29,
   "metadata": {},
   "outputs": [
    {
     "name": "stdout",
     "output_type": "stream",
     "text": [
      "МЕТРИКИ\n",
      "Accuracy: 0.728802834725386\n",
      "Precision: 0.25648046732384083\n",
      "Recall: 0.8683559950556242\n",
      "F1-мера: 0.3959977452085682\n",
      "\n",
      "МАТРИЦА ОШИБОК\n",
      "Истинно-отрицательные ответы: 10113\n",
      "Ложно-отрицательные ответы: 213\n",
      "Истинно-положительные ответы: 1405\n",
      "Ложно-положительные ответы: 4073\n",
      "\n"
     ]
    }
   ],
   "source": [
    "# RandomForestClassifier\n",
    "\n",
    "model_rfc = RandomForestClassifier(max_depth=11, \n",
    "                                   n_estimators=100, \n",
    "                                   random_state=12345,\n",
    "                                   class_weight='balanced')\n",
    "model_test(model_rfc)"
   ]
  },
  {
   "cell_type": "code",
   "execution_count": 30,
   "metadata": {},
   "outputs": [
    {
     "name": "stdout",
     "output_type": "stream",
     "text": [
      "МЕТРИКИ\n",
      "Accuracy: 0.9513414325487218\n",
      "Precision: 0.748390871854886\n",
      "Recall: 0.7904820766378244\n",
      "F1-мера: 0.7688608355876165\n",
      "\n",
      "МАТРИЦА ОШИБОК\n",
      "Истинно-отрицательные ответы: 13756\n",
      "Ложно-отрицательные ответы: 339\n",
      "Истинно-положительные ответы: 1279\n",
      "Ложно-положительные ответы: 430\n",
      "\n"
     ]
    }
   ],
   "source": [
    "# LGBMClassifier\n",
    "# Время на обработку - около 1 минут\n",
    "\n",
    "model_lgbmc = LGBMClassifier(learning_rate=0.03, \n",
    "                             max_depth=-1, \n",
    "                             n_estimators=500, \n",
    "                             random_state=12345)\n",
    "model_test(model_lgbmc)"
   ]
  },
  {
   "cell_type": "code",
   "execution_count": 31,
   "metadata": {},
   "outputs": [
    {
     "name": "stdout",
     "output_type": "stream",
     "text": [
      "МЕТРИКИ\n",
      "Accuracy: 0.939888635788408\n",
      "Precision: 0.673777315296566\n",
      "Recall: 0.8003708281829419\n",
      "F1-мера: 0.731638418079096\n",
      "\n",
      "МАТРИЦА ОШИБОК\n",
      "Истинно-отрицательные ответы: 13559\n",
      "Ложно-отрицательные ответы: 323\n",
      "Истинно-положительные ответы: 1295\n",
      "Ложно-положительные ответы: 627\n",
      "\n"
     ]
    }
   ],
   "source": [
    "# CatBoostClassifier\n",
    "# Время на обработку - около 1,5 минут\n",
    "\n",
    "model_cbc = CatBoostClassifier(iterations=100, \n",
    "                               learning_rate=0.9, \n",
    "                               max_depth=6, \n",
    "                               verbose=False, \n",
    "                               random_state=12345)\n",
    "model_test(model_cbc)"
   ]
  },
  {
   "cell_type": "code",
   "execution_count": 32,
   "metadata": {},
   "outputs": [
    {
     "name": "stdout",
     "output_type": "stream",
     "text": [
      "МЕТРИКИ\n",
      "Accuracy: 0.5062642369020501\n",
      "Precision: 0.10720182903594563\n",
      "Recall: 0.5216316440049443\n",
      "F1-мера: 0.1778527025603203\n",
      "\n",
      "МАТРИЦА ОШИБОК\n",
      "Истинно-отрицательные ответы: 7157\n",
      "Ложно-отрицательные ответы: 774\n",
      "Истинно-положительные ответы: 844\n",
      "Ложно-положительные ответы: 7029\n",
      "\n"
     ]
    }
   ],
   "source": [
    "# DummyClassifier\n",
    "\n",
    "model_dc = DummyClassifier(strategy='uniform')\n",
    "model_test(model_dc)"
   ]
  },
  {
   "cell_type": "markdown",
   "metadata": {},
   "source": [
    "__Выводы:__\n",
    "\n",
    "1. Результаты предсказании на тестовой выборке (значения F1-меры):\n",
    "    - LogisticRegression - 0.7559;\n",
    "    - RidgeClassifier - 0.7279;\n",
    "    - RandomForestClassifier - 0.3694;\n",
    "    - LGBMClassifier - 0.7691;\n",
    "    - CatBoostClassifier - 0.7284;\n",
    "    - DummyClassifier - 0.1755.\n",
    " \n",
    "\n",
    "2. Значение F1-меры обратно коррелирует со средним между ложно-положительными и ложно-отрицательными ответами, что, собственно, следует из определения данной метрики. Т.е. чем меньше суммарно ложных ответов, тем выше значение F1. Однако минимизация прежде всего ложно-отрицательных ответов должна быть критерием выбора оптимальной модели, поскольку этот элемент матрицы ошибок показывает количество пропущенных токсичных комментариев. В отличие от него, ложно-положительные ответы - это всего лишь не прошедшие модерацию нормальные комментарии, которые пользователь всегда может переслать/переписать. Иными словами, полнота (Recall), которая как раз обратно коррелирует с ложно-отрицательными ответами, имеет также важное значение.\n",
    "\n",
    "\n",
    "3. По F1-мере наиболее высокое качество у модели model_lgbmc(LGBMClassifier) - 0.7691 (значение полноты (recall) - 0.7904). По полноте же лучшие показатели у моделей model_rfc (RandomForestClassifier) - 0.8795 и model_lr (LogisticRegression) - 0.8251. Проверку на вменяемость через DummyClassifier модель model_lr также прошла успешо. Цель исследования достигнута, требование \"F1 >= 0.75\" выполнено."
   ]
  },
  {
   "cell_type": "markdown",
   "metadata": {},
   "source": [
    "## Общие выводы"
   ]
  },
  {
   "cell_type": "markdown",
   "metadata": {},
   "source": [
    "1. __Задача исследования.__ Для нового сервиса Интернет-магазина, дающего пользователям возможность редактировать и дополнять описания товаров, предлагая свои правки и комментируя изменения других, необходимо разработать модель машинного обучения, способную искать токсичные комментарии и отправлять их на модерацию. Модель должна быть обучена классифицировать комментарии на токсичные и нетоксичные, со значением метрики качества F1 не меньше 0.75.  Для исследования предоставлен набор данных с разметкой о токсичности правок.\n",
    "\n",
    "\n",
    "2. __Изучение данных__. Таблица представляет собой датасет с 159292 строками и 2 столбцами. В столбце 'text' содержатся тексты сообщений, тип данных - object. В столбце 'toxic' - целевой признак в виде 1 и 0, тип данных - int64. Пропущенных значений в таблице нет. В целевом признаке наблюдается дисбаланс - почти 9:1 в пользу отрицательного класса (доля нулей - 89.8%, доля единиц - 10.2%). Полных дубликатов стреди строк не обнаружено. Однако следует перепроверить данный факт после очищения текстов. \n",
    "\n",
    "\n",
    "3. __Обработка данных__. Для сокращения времени на обработку, а также восстановления баланса классов в целевом признаке выполнен даунсемплинг до соответствующих размеров: количество строк с нулями в целевом признаке уменьшен в кратное количество раз, до уровня положительного класса. Общее количество строк уменьшилось до 32372, т.е. примерно в 5 раз. Тексты комментариев переведены в нижний регистр. Проведено очищение текстов от лишних символов, кроме латинских букв и апострофа. Также проведена токенизация текстов и лемматизация слов в них. Обнаружены и удалены дублирующиеся строки. Из датафрейма выделен признак для обучения ('text') и целевой признак ('toxic'), с переводом в векторный вид. Каждый датасет разбит на обучающую и тестовую выборки. Сформирован набор стоп-слов и создан счетчик величин TF-IDF. Создан корпус текстов в обучающей выборке, а также созданы признаки (в обучающей и тестовой выборках) из величин TF-IDF.\n",
    "\n",
    "\n",
    "4. __Подбор параметров__. На обучающей выборке проверено пять структур машинного обучения: Логистрическая регрессия, Классификатор Ridge, Классификатор случайного леса, Классификатор LGBM и Классификатор CatBoost, а также фиктивный Классификатор Dummy. Для каждой структуры подобраны лучшие гиперпараметры. По итогам подбора, меньше всего времени на обработку ушло у модели RidgeClassifier (1 минута), больше всего - у LGBMClassifier (около 30 минут). Наиболее высокий показатель F1-меры на обучающей выборке продемонстрировала модель LogisticRegression (0.8545), наиболее низкий - RandomForestClassifier (0.7012).\n",
    "\n",
    "\n",
    "5. __Тестирование моделей__. Обученные на подобранных гиперпараметрах модели показали на тестовой выборке следующие значения метрики F1 : LogisticRegression - 0.7559; RidgeClassifier - 0.7279; RandomForestClassifier - 0.3694; LGBMClassifier - 0.7691; CatBoostClassifier - 0.7284; DummyClassifier - 0.1755. Не только по значению F1-меры, но также еще по двум метрикам: правильности (accuracy) - 0.9514 и точности (precision) - 0.7488, - лучшие показатели у модели model_lgbmc (LGBMClassifier). Значение полноты (recall) также на довольно высоком уровне у этой модели - 0.7904. Однако лучшие показатели по метрике Recall у моделей model_rfc (RandomForestClassifier) - 0.8795 и model_lr (LogisticRegression) - 0.8251. Но, учитывая, что у классификатора случайного леса довольно низкий уровень метрики F1, ее в качестве модели машинного обучения мы не можем рассматривать. В итоге лучшими оказались моделями классификатора LGBM и логистической регрессии, но у первой значение F1-меры на 0.013 выше. Проверку на вменяемость через DummyClassifier модель model_lgbmc также прошла успешо. Цель исследования достигнута, требование \"F1 >= 0.75\" выполнено: значение метрики F1 - 0.7691.\n",
    "\n",
    "\n",
    "6. __Дополнительные выводы__. Поиск модели, дающей максимальное значение F1-меры, имеет важный смысл. Сама данная метрика складывается из сочетания точности и полноты, а именно является их средней гармонической. Точность равна отношению истинно-положительных ответов к их сумме с ложно-положительными (TP/(TP+FP)). Полнота же равна отношению истинно-положительных ответов к их сумме с ложно-отрицательными (TP/(TP+FN)). Т.е. их отличие только в одном из слагаемых в знаменателе (FP или FN). Если на место этих двух разных слагаемых вписать их среднее арифметическое ((FP+FN)/2, или просто F/2), то мы как раз получим F1-меру. Таким образом, эта метрика придает одинаковую важность точности и полноте, обратно коррелируя со средним между ложно-положительными и ложно-отрицательными ответами. Однако считаю необходимым добавить, что именно количество ложно-отрицательных ответов показывает, сколько было пропущено токсичных комментариев. В отличие от него, ложно-положительные ответы - это всего лишь не прошедшие модерацию нормальные комментарии, которые пользователь всегда может переписать. Т.е. полнота (Recall), которая как раз обратно коррелирует с ложно-отрицательными ответами, имеет не менее важное значение для целей настоящего исследования."
   ]
  }
 ],
 "metadata": {
  "ExecuteTimeLog": [
   {
    "duration": 78,
    "start_time": "2022-08-28T14:05:38.830Z"
   },
   {
    "duration": 76839,
    "start_time": "2022-08-28T14:05:42.656Z"
   },
   {
    "duration": 557,
    "start_time": "2022-08-28T14:06:59.496Z"
   },
   {
    "duration": 0,
    "start_time": "2022-08-28T14:07:00.055Z"
   },
   {
    "duration": 0,
    "start_time": "2022-08-28T14:07:00.057Z"
   },
   {
    "duration": 54,
    "start_time": "2022-08-28T14:07:52.291Z"
   },
   {
    "duration": 189,
    "start_time": "2022-08-28T14:09:05.444Z"
   },
   {
    "duration": 3549,
    "start_time": "2022-08-28T14:12:23.777Z"
   },
   {
    "duration": 16,
    "start_time": "2022-08-28T14:13:29.313Z"
   },
   {
    "duration": 4,
    "start_time": "2022-08-28T14:48:24.600Z"
   },
   {
    "duration": 4,
    "start_time": "2022-08-28T14:48:44.625Z"
   },
   {
    "duration": 4,
    "start_time": "2022-08-28T14:48:47.209Z"
   },
   {
    "duration": 853,
    "start_time": "2022-08-28T14:49:07.300Z"
   },
   {
    "duration": 4,
    "start_time": "2022-08-28T14:49:23.745Z"
   },
   {
    "duration": 855,
    "start_time": "2022-08-28T14:49:36.110Z"
   },
   {
    "duration": 9,
    "start_time": "2022-08-28T14:49:39.336Z"
   },
   {
    "duration": 4,
    "start_time": "2022-08-28T14:49:49.699Z"
   },
   {
    "duration": 5,
    "start_time": "2022-08-28T14:49:53.953Z"
   },
   {
    "duration": 17,
    "start_time": "2022-08-28T14:50:06.732Z"
   },
   {
    "duration": 16,
    "start_time": "2022-08-28T14:50:13.943Z"
   },
   {
    "duration": 844,
    "start_time": "2022-08-28T14:51:29.420Z"
   },
   {
    "duration": 803,
    "start_time": "2022-08-28T14:51:43.145Z"
   },
   {
    "duration": 10,
    "start_time": "2022-08-28T14:51:45.599Z"
   },
   {
    "duration": 26,
    "start_time": "2022-08-28T14:51:58.099Z"
   },
   {
    "duration": 831,
    "start_time": "2022-08-28T14:52:18.472Z"
   },
   {
    "duration": 10,
    "start_time": "2022-08-28T14:52:22.544Z"
   },
   {
    "duration": 802,
    "start_time": "2022-08-28T14:52:32.603Z"
   },
   {
    "duration": 0,
    "start_time": "2022-08-28T14:52:33.407Z"
   },
   {
    "duration": 9,
    "start_time": "2022-08-28T14:52:35.031Z"
   },
   {
    "duration": 813,
    "start_time": "2022-08-28T14:52:54.309Z"
   },
   {
    "duration": 11,
    "start_time": "2022-08-28T14:52:57.772Z"
   },
   {
    "duration": 817,
    "start_time": "2022-08-28T14:53:57.403Z"
   },
   {
    "duration": 8,
    "start_time": "2022-08-28T14:54:00.203Z"
   },
   {
    "duration": 4,
    "start_time": "2022-08-28T14:54:16.470Z"
   },
   {
    "duration": 802,
    "start_time": "2022-08-28T14:54:17.918Z"
   },
   {
    "duration": 7,
    "start_time": "2022-08-28T14:54:19.909Z"
   },
   {
    "duration": 230527,
    "start_time": "2022-08-28T14:55:22.203Z"
   },
   {
    "duration": 50,
    "start_time": "2022-09-02T13:34:19.853Z"
   },
   {
    "duration": 1850,
    "start_time": "2022-09-02T13:37:11.138Z"
   },
   {
    "duration": 5,
    "start_time": "2022-09-02T13:37:12.990Z"
   },
   {
    "duration": 143,
    "start_time": "2022-09-02T13:37:12.996Z"
   },
   {
    "duration": 0,
    "start_time": "2022-09-02T13:37:13.142Z"
   },
   {
    "duration": 0,
    "start_time": "2022-09-02T13:37:13.143Z"
   },
   {
    "duration": 0,
    "start_time": "2022-09-02T13:37:13.144Z"
   },
   {
    "duration": 0,
    "start_time": "2022-09-02T13:37:13.145Z"
   },
   {
    "duration": 0,
    "start_time": "2022-09-02T13:37:13.146Z"
   },
   {
    "duration": 0,
    "start_time": "2022-09-02T13:37:13.147Z"
   },
   {
    "duration": 0,
    "start_time": "2022-09-02T13:37:13.148Z"
   },
   {
    "duration": 0,
    "start_time": "2022-09-02T13:37:13.150Z"
   },
   {
    "duration": 0,
    "start_time": "2022-09-02T13:37:13.151Z"
   },
   {
    "duration": 0,
    "start_time": "2022-09-02T13:37:13.152Z"
   },
   {
    "duration": 0,
    "start_time": "2022-09-02T13:37:13.153Z"
   },
   {
    "duration": 0,
    "start_time": "2022-09-02T13:37:13.154Z"
   },
   {
    "duration": 0,
    "start_time": "2022-09-02T13:37:13.154Z"
   },
   {
    "duration": 0,
    "start_time": "2022-09-02T13:37:13.155Z"
   },
   {
    "duration": 0,
    "start_time": "2022-09-02T13:37:13.156Z"
   },
   {
    "duration": 0,
    "start_time": "2022-09-02T13:37:13.157Z"
   },
   {
    "duration": 0,
    "start_time": "2022-09-02T13:37:13.158Z"
   },
   {
    "duration": 0,
    "start_time": "2022-09-02T13:37:13.159Z"
   },
   {
    "duration": 0,
    "start_time": "2022-09-02T13:37:13.160Z"
   },
   {
    "duration": 0,
    "start_time": "2022-09-02T13:37:13.161Z"
   },
   {
    "duration": 0,
    "start_time": "2022-09-02T13:37:13.191Z"
   },
   {
    "duration": 0,
    "start_time": "2022-09-02T13:37:13.192Z"
   },
   {
    "duration": 0,
    "start_time": "2022-09-02T13:37:13.193Z"
   },
   {
    "duration": 0,
    "start_time": "2022-09-02T13:37:13.194Z"
   },
   {
    "duration": 0,
    "start_time": "2022-09-02T13:37:13.195Z"
   },
   {
    "duration": 0,
    "start_time": "2022-09-02T13:37:13.196Z"
   },
   {
    "duration": 0,
    "start_time": "2022-09-02T13:37:13.197Z"
   },
   {
    "duration": 0,
    "start_time": "2022-09-02T13:37:13.198Z"
   },
   {
    "duration": 0,
    "start_time": "2022-09-02T13:37:13.199Z"
   },
   {
    "duration": 1755,
    "start_time": "2022-09-02T13:39:24.482Z"
   },
   {
    "duration": 4,
    "start_time": "2022-09-02T13:39:26.239Z"
   },
   {
    "duration": 129,
    "start_time": "2022-09-02T13:39:26.245Z"
   },
   {
    "duration": 0,
    "start_time": "2022-09-02T13:39:26.377Z"
   },
   {
    "duration": 0,
    "start_time": "2022-09-02T13:39:26.379Z"
   },
   {
    "duration": 1,
    "start_time": "2022-09-02T13:39:26.391Z"
   },
   {
    "duration": 0,
    "start_time": "2022-09-02T13:39:26.392Z"
   },
   {
    "duration": 0,
    "start_time": "2022-09-02T13:39:26.394Z"
   },
   {
    "duration": 0,
    "start_time": "2022-09-02T13:39:26.395Z"
   },
   {
    "duration": 0,
    "start_time": "2022-09-02T13:39:26.396Z"
   },
   {
    "duration": 0,
    "start_time": "2022-09-02T13:39:26.397Z"
   },
   {
    "duration": 0,
    "start_time": "2022-09-02T13:39:26.398Z"
   },
   {
    "duration": 0,
    "start_time": "2022-09-02T13:39:26.399Z"
   },
   {
    "duration": 0,
    "start_time": "2022-09-02T13:39:26.400Z"
   },
   {
    "duration": 0,
    "start_time": "2022-09-02T13:39:26.401Z"
   },
   {
    "duration": 0,
    "start_time": "2022-09-02T13:39:26.402Z"
   },
   {
    "duration": 0,
    "start_time": "2022-09-02T13:39:26.403Z"
   },
   {
    "duration": 0,
    "start_time": "2022-09-02T13:39:26.404Z"
   },
   {
    "duration": 0,
    "start_time": "2022-09-02T13:39:26.405Z"
   },
   {
    "duration": 1,
    "start_time": "2022-09-02T13:39:26.406Z"
   },
   {
    "duration": 0,
    "start_time": "2022-09-02T13:39:26.407Z"
   },
   {
    "duration": 0,
    "start_time": "2022-09-02T13:39:26.409Z"
   },
   {
    "duration": 0,
    "start_time": "2022-09-02T13:39:26.410Z"
   },
   {
    "duration": 0,
    "start_time": "2022-09-02T13:39:26.411Z"
   },
   {
    "duration": 0,
    "start_time": "2022-09-02T13:39:26.412Z"
   },
   {
    "duration": 0,
    "start_time": "2022-09-02T13:39:26.413Z"
   },
   {
    "duration": 0,
    "start_time": "2022-09-02T13:39:26.414Z"
   },
   {
    "duration": 0,
    "start_time": "2022-09-02T13:39:26.415Z"
   },
   {
    "duration": 0,
    "start_time": "2022-09-02T13:39:26.416Z"
   },
   {
    "duration": 0,
    "start_time": "2022-09-02T13:39:26.417Z"
   },
   {
    "duration": 0,
    "start_time": "2022-09-02T13:39:26.418Z"
   },
   {
    "duration": 0,
    "start_time": "2022-09-02T13:39:26.418Z"
   },
   {
    "duration": 1712,
    "start_time": "2022-09-02T13:59:50.399Z"
   },
   {
    "duration": 5,
    "start_time": "2022-09-02T13:59:52.113Z"
   },
   {
    "duration": 136,
    "start_time": "2022-09-02T13:59:52.119Z"
   },
   {
    "duration": 0,
    "start_time": "2022-09-02T13:59:52.257Z"
   },
   {
    "duration": 0,
    "start_time": "2022-09-02T13:59:52.259Z"
   },
   {
    "duration": 0,
    "start_time": "2022-09-02T13:59:52.261Z"
   },
   {
    "duration": 0,
    "start_time": "2022-09-02T13:59:52.262Z"
   },
   {
    "duration": 0,
    "start_time": "2022-09-02T13:59:52.263Z"
   },
   {
    "duration": 0,
    "start_time": "2022-09-02T13:59:52.267Z"
   },
   {
    "duration": 0,
    "start_time": "2022-09-02T13:59:52.268Z"
   },
   {
    "duration": 0,
    "start_time": "2022-09-02T13:59:52.270Z"
   },
   {
    "duration": 0,
    "start_time": "2022-09-02T13:59:52.271Z"
   },
   {
    "duration": 0,
    "start_time": "2022-09-02T13:59:52.272Z"
   },
   {
    "duration": 0,
    "start_time": "2022-09-02T13:59:52.273Z"
   },
   {
    "duration": 0,
    "start_time": "2022-09-02T13:59:52.292Z"
   },
   {
    "duration": 0,
    "start_time": "2022-09-02T13:59:52.293Z"
   },
   {
    "duration": 0,
    "start_time": "2022-09-02T13:59:52.294Z"
   },
   {
    "duration": 0,
    "start_time": "2022-09-02T13:59:52.295Z"
   },
   {
    "duration": 0,
    "start_time": "2022-09-02T13:59:52.296Z"
   },
   {
    "duration": 0,
    "start_time": "2022-09-02T13:59:52.297Z"
   },
   {
    "duration": 0,
    "start_time": "2022-09-02T13:59:52.298Z"
   },
   {
    "duration": 0,
    "start_time": "2022-09-02T13:59:52.299Z"
   },
   {
    "duration": 0,
    "start_time": "2022-09-02T13:59:52.300Z"
   },
   {
    "duration": 0,
    "start_time": "2022-09-02T13:59:52.301Z"
   },
   {
    "duration": 0,
    "start_time": "2022-09-02T13:59:52.302Z"
   },
   {
    "duration": 0,
    "start_time": "2022-09-02T13:59:52.304Z"
   },
   {
    "duration": 0,
    "start_time": "2022-09-02T13:59:52.305Z"
   },
   {
    "duration": 0,
    "start_time": "2022-09-02T13:59:52.306Z"
   },
   {
    "duration": 0,
    "start_time": "2022-09-02T13:59:52.307Z"
   },
   {
    "duration": 0,
    "start_time": "2022-09-02T13:59:52.308Z"
   },
   {
    "duration": 0,
    "start_time": "2022-09-02T13:59:52.309Z"
   },
   {
    "duration": 0,
    "start_time": "2022-09-02T13:59:52.310Z"
   },
   {
    "duration": 1941,
    "start_time": "2022-09-03T13:14:38.920Z"
   },
   {
    "duration": 4,
    "start_time": "2022-09-03T13:14:40.888Z"
   },
   {
    "duration": 129,
    "start_time": "2022-09-03T13:14:45.835Z"
   },
   {
    "duration": 10,
    "start_time": "2022-09-03T13:14:46.700Z"
   },
   {
    "duration": 4,
    "start_time": "2022-09-03T13:15:13.741Z"
   },
   {
    "duration": 5,
    "start_time": "2022-09-03T13:16:26.821Z"
   },
   {
    "duration": 1690,
    "start_time": "2022-09-03T13:17:14.522Z"
   },
   {
    "duration": 4,
    "start_time": "2022-09-03T13:17:20.083Z"
   },
   {
    "duration": 3425,
    "start_time": "2022-09-03T13:18:14.813Z"
   },
   {
    "duration": 5,
    "start_time": "2022-09-03T13:18:37.360Z"
   },
   {
    "duration": 130,
    "start_time": "2022-09-03T13:19:05.075Z"
   },
   {
    "duration": 852,
    "start_time": "2022-09-03T13:19:13.112Z"
   },
   {
    "duration": 876,
    "start_time": "2022-09-03T13:20:23.338Z"
   },
   {
    "duration": 7,
    "start_time": "2022-09-03T13:20:27.631Z"
   },
   {
    "duration": 916,
    "start_time": "2022-09-03T13:20:59.769Z"
   },
   {
    "duration": 7,
    "start_time": "2022-09-03T13:21:01.587Z"
   },
   {
    "duration": 8,
    "start_time": "2022-09-03T13:21:04.899Z"
   },
   {
    "duration": 32,
    "start_time": "2022-09-03T13:21:07.050Z"
   },
   {
    "duration": 11,
    "start_time": "2022-09-03T13:21:08.588Z"
   },
   {
    "duration": 8,
    "start_time": "2022-09-03T13:21:09.081Z"
   },
   {
    "duration": 240,
    "start_time": "2022-09-03T13:21:10.301Z"
   },
   {
    "duration": 34,
    "start_time": "2022-09-03T13:21:14.087Z"
   },
   {
    "duration": 63,
    "start_time": "2022-09-03T13:21:15.267Z"
   },
   {
    "duration": 18620,
    "start_time": "2022-09-03T13:21:15.564Z"
   },
   {
    "duration": 51,
    "start_time": "2022-09-03T13:21:34.186Z"
   },
   {
    "duration": 107,
    "start_time": "2022-09-03T13:21:36.037Z"
   },
   {
    "duration": 111,
    "start_time": "2022-09-03T13:22:30.143Z"
   },
   {
    "duration": 55,
    "start_time": "2022-09-03T13:22:33.599Z"
   },
   {
    "duration": 93,
    "start_time": "2022-09-03T13:22:48.183Z"
   },
   {
    "duration": 7,
    "start_time": "2022-09-03T13:22:57.845Z"
   },
   {
    "duration": 3,
    "start_time": "2022-09-03T13:22:59.286Z"
   },
   {
    "duration": 8,
    "start_time": "2022-09-03T13:23:00.999Z"
   },
   {
    "duration": 352,
    "start_time": "2022-09-03T13:23:02.284Z"
   },
   {
    "duration": 1403,
    "start_time": "2022-09-03T13:23:03.565Z"
   },
   {
    "duration": 4,
    "start_time": "2022-09-03T13:23:07.331Z"
   },
   {
    "duration": 2,
    "start_time": "2022-09-03T13:23:08.632Z"
   },
   {
    "duration": 3,
    "start_time": "2022-09-03T13:23:09.319Z"
   },
   {
    "duration": 151,
    "start_time": "2022-09-03T13:23:11.080Z"
   },
   {
    "duration": 4,
    "start_time": "2022-09-03T13:23:52.503Z"
   },
   {
    "duration": 3,
    "start_time": "2022-09-03T13:23:53.277Z"
   },
   {
    "duration": 2,
    "start_time": "2022-09-03T13:23:53.806Z"
   },
   {
    "duration": 124,
    "start_time": "2022-09-03T13:23:54.333Z"
   },
   {
    "duration": 13,
    "start_time": "2022-09-03T13:24:58.601Z"
   },
   {
    "duration": 4,
    "start_time": "2022-09-03T13:26:59.623Z"
   },
   {
    "duration": 3,
    "start_time": "2022-09-03T13:27:00.276Z"
   },
   {
    "duration": 3,
    "start_time": "2022-09-03T13:27:00.665Z"
   },
   {
    "duration": 10,
    "start_time": "2022-09-03T13:27:03.223Z"
   },
   {
    "duration": 88,
    "start_time": "2022-09-03T13:27:05.551Z"
   },
   {
    "duration": 5,
    "start_time": "2022-09-03T13:27:18.121Z"
   },
   {
    "duration": 2,
    "start_time": "2022-09-03T13:27:18.670Z"
   },
   {
    "duration": 3,
    "start_time": "2022-09-03T13:27:18.938Z"
   },
   {
    "duration": 13,
    "start_time": "2022-09-03T13:27:19.956Z"
   },
   {
    "duration": 583,
    "start_time": "2022-09-03T13:27:20.700Z"
   },
   {
    "duration": 3,
    "start_time": "2022-09-03T13:28:25.351Z"
   },
   {
    "duration": 3,
    "start_time": "2022-09-03T13:28:25.939Z"
   },
   {
    "duration": 2,
    "start_time": "2022-09-03T13:28:26.280Z"
   },
   {
    "duration": 10,
    "start_time": "2022-09-03T13:29:03.934Z"
   },
   {
    "duration": 151802,
    "start_time": "2022-09-03T13:29:04.999Z"
   },
   {
    "duration": 4,
    "start_time": "2022-09-03T13:33:38.224Z"
   },
   {
    "duration": 3,
    "start_time": "2022-09-03T13:33:38.760Z"
   },
   {
    "duration": 2,
    "start_time": "2022-09-03T13:33:39.180Z"
   },
   {
    "duration": 11,
    "start_time": "2022-09-03T13:33:39.608Z"
   },
   {
    "duration": 159502,
    "start_time": "2022-09-03T13:33:40.186Z"
   },
   {
    "duration": 4,
    "start_time": "2022-09-03T13:36:41.283Z"
   },
   {
    "duration": 3,
    "start_time": "2022-09-03T13:36:41.888Z"
   },
   {
    "duration": 2,
    "start_time": "2022-09-03T13:36:42.260Z"
   },
   {
    "duration": 10,
    "start_time": "2022-09-03T13:36:42.745Z"
   },
   {
    "duration": 120,
    "start_time": "2022-09-03T13:36:44.427Z"
   },
   {
    "duration": 4,
    "start_time": "2022-09-03T13:37:20.479Z"
   },
   {
    "duration": 103,
    "start_time": "2022-09-03T13:39:00.832Z"
   },
   {
    "duration": 131,
    "start_time": "2022-09-03T13:39:14.147Z"
   },
   {
    "duration": 126,
    "start_time": "2022-09-03T13:42:10.988Z"
   },
   {
    "duration": 13,
    "start_time": "2022-09-03T13:42:37.490Z"
   },
   {
    "duration": 6,
    "start_time": "2022-09-03T13:42:53.585Z"
   },
   {
    "duration": 108,
    "start_time": "2022-09-03T13:43:27.931Z"
   },
   {
    "duration": 4,
    "start_time": "2022-09-03T13:48:02.768Z"
   },
   {
    "duration": 52,
    "start_time": "2022-09-03T13:48:49.524Z"
   },
   {
    "duration": 4,
    "start_time": "2022-09-03T13:48:53.583Z"
   },
   {
    "duration": 104,
    "start_time": "2022-09-03T13:49:24.971Z"
   },
   {
    "duration": 4,
    "start_time": "2022-09-03T13:49:38.328Z"
   },
   {
    "duration": 339,
    "start_time": "2022-09-03T13:52:31.712Z"
   },
   {
    "duration": 292,
    "start_time": "2022-09-03T13:56:41.205Z"
   },
   {
    "duration": 283,
    "start_time": "2022-09-03T13:56:51.121Z"
   },
   {
    "duration": 289,
    "start_time": "2022-09-03T13:57:42.901Z"
   },
   {
    "duration": 264,
    "start_time": "2022-09-03T13:57:47.313Z"
   },
   {
    "duration": 113,
    "start_time": "2022-09-03T14:00:30.657Z"
   },
   {
    "duration": 1829,
    "start_time": "2022-09-03T14:01:27.006Z"
   },
   {
    "duration": 886,
    "start_time": "2022-09-03T14:01:28.837Z"
   },
   {
    "duration": 12,
    "start_time": "2022-09-03T14:01:32.684Z"
   },
   {
    "duration": 8,
    "start_time": "2022-09-03T14:01:34.942Z"
   },
   {
    "duration": 35,
    "start_time": "2022-09-03T14:01:35.513Z"
   },
   {
    "duration": 11,
    "start_time": "2022-09-03T14:01:35.954Z"
   },
   {
    "duration": 8,
    "start_time": "2022-09-03T14:01:36.202Z"
   },
   {
    "duration": 231,
    "start_time": "2022-09-03T14:01:36.403Z"
   },
   {
    "duration": 44,
    "start_time": "2022-09-03T14:01:37.446Z"
   },
   {
    "duration": 3,
    "start_time": "2022-09-03T14:01:37.873Z"
   },
   {
    "duration": 19779,
    "start_time": "2022-09-03T14:01:38.180Z"
   },
   {
    "duration": 71,
    "start_time": "2022-09-03T14:01:57.962Z"
   },
   {
    "duration": 147,
    "start_time": "2022-09-03T14:01:58.035Z"
   },
   {
    "duration": 10,
    "start_time": "2022-09-03T14:01:58.185Z"
   },
   {
    "duration": 42,
    "start_time": "2022-09-03T14:01:58.197Z"
   },
   {
    "duration": 11,
    "start_time": "2022-09-03T14:01:58.241Z"
   },
   {
    "duration": 286,
    "start_time": "2022-09-03T14:01:58.255Z"
   },
   {
    "duration": 1541,
    "start_time": "2022-09-03T14:01:58.543Z"
   },
   {
    "duration": 422,
    "start_time": "2022-09-03T14:02:04.701Z"
   },
   {
    "duration": 6,
    "start_time": "2022-09-03T14:11:10.322Z"
   },
   {
    "duration": 5,
    "start_time": "2022-09-03T14:11:16.155Z"
   },
   {
    "duration": 91,
    "start_time": "2022-09-03T14:13:03.792Z"
   },
   {
    "duration": 5,
    "start_time": "2022-09-03T14:17:16.985Z"
   },
   {
    "duration": 322,
    "start_time": "2022-09-03T14:17:33.778Z"
   },
   {
    "duration": 2079,
    "start_time": "2022-09-03T14:17:57.381Z"
   },
   {
    "duration": 964,
    "start_time": "2022-09-03T14:17:59.463Z"
   },
   {
    "duration": 14,
    "start_time": "2022-09-03T14:18:02.012Z"
   },
   {
    "duration": 13,
    "start_time": "2022-09-03T14:18:02.185Z"
   },
   {
    "duration": 34,
    "start_time": "2022-09-03T14:18:02.373Z"
   },
   {
    "duration": 13,
    "start_time": "2022-09-03T14:18:02.550Z"
   },
   {
    "duration": 14,
    "start_time": "2022-09-03T14:18:02.715Z"
   },
   {
    "duration": 258,
    "start_time": "2022-09-03T14:18:02.880Z"
   },
   {
    "duration": 36,
    "start_time": "2022-09-03T14:18:03.645Z"
   },
   {
    "duration": 61,
    "start_time": "2022-09-03T14:18:14.245Z"
   },
   {
    "duration": 19757,
    "start_time": "2022-09-03T14:18:15.058Z"
   },
   {
    "duration": 52,
    "start_time": "2022-09-03T14:18:34.818Z"
   },
   {
    "duration": 142,
    "start_time": "2022-09-03T14:18:34.873Z"
   },
   {
    "duration": 9,
    "start_time": "2022-09-03T14:18:35.018Z"
   },
   {
    "duration": 16,
    "start_time": "2022-09-03T14:18:35.029Z"
   },
   {
    "duration": 39,
    "start_time": "2022-09-03T14:18:35.047Z"
   },
   {
    "duration": 170,
    "start_time": "2022-09-03T14:18:35.089Z"
   },
   {
    "duration": 1448,
    "start_time": "2022-09-03T14:18:35.261Z"
   },
   {
    "duration": 5,
    "start_time": "2022-09-03T14:18:36.711Z"
   },
   {
    "duration": 464,
    "start_time": "2022-09-03T14:18:36.719Z"
   },
   {
    "duration": 4,
    "start_time": "2022-09-03T14:18:52.020Z"
   },
   {
    "duration": 1752,
    "start_time": "2022-09-03T14:37:43.233Z"
   },
   {
    "duration": 889,
    "start_time": "2022-09-03T14:37:44.988Z"
   },
   {
    "duration": 11,
    "start_time": "2022-09-03T14:37:47.549Z"
   },
   {
    "duration": 8,
    "start_time": "2022-09-03T14:37:48.368Z"
   },
   {
    "duration": 33,
    "start_time": "2022-09-03T14:37:48.563Z"
   },
   {
    "duration": 9,
    "start_time": "2022-09-03T14:37:48.737Z"
   },
   {
    "duration": 9,
    "start_time": "2022-09-03T14:37:49.016Z"
   },
   {
    "duration": 242,
    "start_time": "2022-09-03T14:37:49.222Z"
   },
   {
    "duration": 32,
    "start_time": "2022-09-03T14:37:50.200Z"
   },
   {
    "duration": 62,
    "start_time": "2022-09-03T14:37:50.539Z"
   },
   {
    "duration": 19015,
    "start_time": "2022-09-03T14:37:51.650Z"
   },
   {
    "duration": 54,
    "start_time": "2022-09-03T14:38:10.667Z"
   },
   {
    "duration": 105,
    "start_time": "2022-09-03T14:38:10.723Z"
   },
   {
    "duration": 7,
    "start_time": "2022-09-03T14:38:10.831Z"
   },
   {
    "duration": 8,
    "start_time": "2022-09-03T14:38:10.840Z"
   },
   {
    "duration": 10,
    "start_time": "2022-09-03T14:38:10.850Z"
   },
   {
    "duration": 254,
    "start_time": "2022-09-03T14:38:10.862Z"
   },
   {
    "duration": 1347,
    "start_time": "2022-09-03T14:38:11.118Z"
   },
   {
    "duration": 225682,
    "start_time": "2022-09-03T14:38:22.018Z"
   },
   {
    "duration": 252,
    "start_time": "2022-09-03T14:46:29.642Z"
   },
   {
    "duration": 5,
    "start_time": "2022-09-03T14:47:16.810Z"
   },
   {
    "duration": 4,
    "start_time": "2022-09-03T14:48:19.719Z"
   },
   {
    "duration": 3,
    "start_time": "2022-09-03T14:48:20.866Z"
   },
   {
    "duration": 5,
    "start_time": "2022-09-03T14:48:21.592Z"
   },
   {
    "duration": 232047,
    "start_time": "2022-09-03T14:48:52.053Z"
   },
   {
    "duration": 1800,
    "start_time": "2022-09-03T15:22:39.468Z"
   },
   {
    "duration": 925,
    "start_time": "2022-09-03T15:22:41.271Z"
   },
   {
    "duration": 10,
    "start_time": "2022-09-03T15:22:42.197Z"
   },
   {
    "duration": 8,
    "start_time": "2022-09-03T15:22:42.209Z"
   },
   {
    "duration": 39,
    "start_time": "2022-09-03T15:22:42.219Z"
   },
   {
    "duration": 8,
    "start_time": "2022-09-03T15:22:42.260Z"
   },
   {
    "duration": 28,
    "start_time": "2022-09-03T15:22:42.269Z"
   },
   {
    "duration": 245,
    "start_time": "2022-09-03T15:22:42.299Z"
   },
   {
    "duration": 46,
    "start_time": "2022-09-03T15:22:42.546Z"
   },
   {
    "duration": 61,
    "start_time": "2022-09-03T15:22:42.594Z"
   },
   {
    "duration": 19260,
    "start_time": "2022-09-03T15:22:44.324Z"
   },
   {
    "duration": 65,
    "start_time": "2022-09-03T15:23:03.587Z"
   },
   {
    "duration": 117,
    "start_time": "2022-09-03T15:23:03.653Z"
   },
   {
    "duration": 9,
    "start_time": "2022-09-03T15:23:03.773Z"
   },
   {
    "duration": 3,
    "start_time": "2022-09-03T15:23:03.792Z"
   },
   {
    "duration": 14,
    "start_time": "2022-09-03T15:23:03.797Z"
   },
   {
    "duration": 239,
    "start_time": "2022-09-03T15:23:03.813Z"
   },
   {
    "duration": 1346,
    "start_time": "2022-09-03T15:23:04.053Z"
   },
   {
    "duration": 4,
    "start_time": "2022-09-03T15:23:05.401Z"
   },
   {
    "duration": 12,
    "start_time": "2022-09-03T15:23:05.408Z"
   },
   {
    "duration": 241782,
    "start_time": "2022-09-03T15:23:05.422Z"
   },
   {
    "duration": 32650,
    "start_time": "2022-09-03T15:27:07.207Z"
   },
   {
    "duration": 6,
    "start_time": "2022-09-03T15:27:39.860Z"
   },
   {
    "duration": 515,
    "start_time": "2022-09-03T15:27:39.867Z"
   },
   {
    "duration": 472,
    "start_time": "2022-09-03T15:27:40.384Z"
   },
   {
    "duration": 1865,
    "start_time": "2022-09-03T16:12:45.025Z"
   },
   {
    "duration": 926,
    "start_time": "2022-09-03T16:12:46.893Z"
   },
   {
    "duration": 11,
    "start_time": "2022-09-03T16:12:47.821Z"
   },
   {
    "duration": 8,
    "start_time": "2022-09-03T16:12:47.834Z"
   },
   {
    "duration": 55,
    "start_time": "2022-09-03T16:12:47.845Z"
   },
   {
    "duration": 11,
    "start_time": "2022-09-03T16:12:47.903Z"
   },
   {
    "duration": 7,
    "start_time": "2022-09-03T16:12:47.917Z"
   },
   {
    "duration": 287,
    "start_time": "2022-09-03T16:12:47.926Z"
   },
   {
    "duration": 31,
    "start_time": "2022-09-03T16:12:48.215Z"
   },
   {
    "duration": 78,
    "start_time": "2022-09-03T16:12:48.248Z"
   },
   {
    "duration": 20127,
    "start_time": "2022-09-03T16:12:48.328Z"
   },
   {
    "duration": 80,
    "start_time": "2022-09-03T16:13:08.457Z"
   },
   {
    "duration": 125,
    "start_time": "2022-09-03T16:13:08.540Z"
   },
   {
    "duration": 9,
    "start_time": "2022-09-03T16:13:08.670Z"
   },
   {
    "duration": 4,
    "start_time": "2022-09-03T16:13:08.692Z"
   },
   {
    "duration": 25,
    "start_time": "2022-09-03T16:13:08.699Z"
   },
   {
    "duration": 255,
    "start_time": "2022-09-03T16:13:08.726Z"
   },
   {
    "duration": 1627,
    "start_time": "2022-09-03T16:13:08.983Z"
   },
   {
    "duration": 3,
    "start_time": "2022-09-03T16:13:10.613Z"
   },
   {
    "duration": 6,
    "start_time": "2022-09-03T16:13:10.618Z"
   },
   {
    "duration": 246766,
    "start_time": "2022-09-03T16:13:10.626Z"
   },
   {
    "duration": 49780,
    "start_time": "2022-09-03T16:17:17.401Z"
   },
   {
    "duration": 124195,
    "start_time": "2022-09-03T16:18:07.183Z"
   },
   {
    "duration": 4434834,
    "start_time": "2022-09-03T16:20:11.380Z"
   },
   {
    "duration": 948661,
    "start_time": "2022-09-03T17:34:06.219Z"
   },
   {
    "duration": 19407,
    "start_time": "2022-09-03T17:49:54.882Z"
   },
   {
    "duration": 9,
    "start_time": "2022-09-03T17:50:14.294Z"
   },
   {
    "duration": 554,
    "start_time": "2022-09-03T17:50:14.305Z"
   },
   {
    "duration": 488,
    "start_time": "2022-09-03T17:50:14.861Z"
   },
   {
    "duration": 2475,
    "start_time": "2022-09-03T17:50:15.351Z"
   },
   {
    "duration": 457712,
    "start_time": "2022-09-03T17:50:17.833Z"
   },
   {
    "duration": 75924,
    "start_time": "2022-09-03T17:57:55.549Z"
   },
   {
    "duration": 39,
    "start_time": "2022-09-03T17:59:11.475Z"
   },
   {
    "duration": 2005,
    "start_time": "2022-09-03T18:05:51.383Z"
   },
   {
    "duration": 995,
    "start_time": "2022-09-03T18:05:53.393Z"
   },
   {
    "duration": 15,
    "start_time": "2022-09-03T18:05:54.390Z"
   },
   {
    "duration": 41,
    "start_time": "2022-09-03T18:05:54.407Z"
   },
   {
    "duration": 36,
    "start_time": "2022-09-03T18:05:54.450Z"
   },
   {
    "duration": 10,
    "start_time": "2022-09-03T18:05:55.185Z"
   },
   {
    "duration": 13,
    "start_time": "2022-09-03T18:05:55.917Z"
   },
   {
    "duration": 278,
    "start_time": "2022-09-03T18:05:58.263Z"
   },
   {
    "duration": 340,
    "start_time": "2022-09-03T18:06:02.418Z"
   },
   {
    "duration": 108669,
    "start_time": "2022-09-03T18:06:03.568Z"
   },
   {
    "duration": 233,
    "start_time": "2022-09-03T18:07:52.241Z"
   },
   {
    "duration": 454,
    "start_time": "2022-09-03T18:07:52.476Z"
   },
   {
    "duration": 157,
    "start_time": "2022-09-03T18:08:59.663Z"
   },
   {
    "duration": 404,
    "start_time": "2022-09-03T18:09:19.532Z"
   },
   {
    "duration": 7,
    "start_time": "2022-09-03T18:09:28.318Z"
   },
   {
    "duration": 6,
    "start_time": "2022-09-03T18:09:29.687Z"
   },
   {
    "duration": 22,
    "start_time": "2022-09-03T18:09:31.424Z"
   },
   {
    "duration": 23,
    "start_time": "2022-09-03T18:09:34.352Z"
   },
   {
    "duration": 30,
    "start_time": "2022-09-03T18:22:40.721Z"
   },
   {
    "duration": 104,
    "start_time": "2022-09-03T18:24:22.885Z"
   },
   {
    "duration": 12,
    "start_time": "2022-09-03T18:24:30.165Z"
   },
   {
    "duration": 21,
    "start_time": "2022-09-03T19:00:26.585Z"
   },
   {
    "duration": 31,
    "start_time": "2022-09-03T19:05:27.443Z"
   },
   {
    "duration": 28,
    "start_time": "2022-09-03T19:05:51.451Z"
   },
   {
    "duration": 23,
    "start_time": "2022-09-03T19:05:55.333Z"
   },
   {
    "duration": 26,
    "start_time": "2022-09-03T19:05:57.647Z"
   },
   {
    "duration": 28,
    "start_time": "2022-09-03T19:06:01.480Z"
   },
   {
    "duration": 29,
    "start_time": "2022-09-03T19:06:04.311Z"
   },
   {
    "duration": 25,
    "start_time": "2022-09-03T19:06:54.486Z"
   },
   {
    "duration": 2002,
    "start_time": "2022-09-03T19:13:53.930Z"
   },
   {
    "duration": 1110,
    "start_time": "2022-09-03T19:13:55.942Z"
   },
   {
    "duration": 13,
    "start_time": "2022-09-03T19:13:57.845Z"
   },
   {
    "duration": 17,
    "start_time": "2022-09-03T19:13:58.011Z"
   },
   {
    "duration": 54,
    "start_time": "2022-09-03T19:13:58.184Z"
   },
   {
    "duration": 10,
    "start_time": "2022-09-03T19:13:58.372Z"
   },
   {
    "duration": 12,
    "start_time": "2022-09-03T19:13:58.621Z"
   },
   {
    "duration": 290,
    "start_time": "2022-09-03T19:14:00.842Z"
   },
   {
    "duration": 411,
    "start_time": "2022-09-03T19:14:11.315Z"
   },
   {
    "duration": 109731,
    "start_time": "2022-09-03T19:14:12.645Z"
   },
   {
    "duration": 206,
    "start_time": "2022-09-03T19:16:02.380Z"
   },
   {
    "duration": 422,
    "start_time": "2022-09-03T19:16:02.591Z"
   },
   {
    "duration": 14,
    "start_time": "2022-09-03T19:16:03.016Z"
   },
   {
    "duration": 38,
    "start_time": "2022-09-03T19:16:20.015Z"
   },
   {
    "duration": 45,
    "start_time": "2022-09-03T19:16:32.104Z"
   },
   {
    "duration": 3,
    "start_time": "2022-09-03T19:17:13.049Z"
   },
   {
    "duration": 206,
    "start_time": "2022-09-03T19:17:14.551Z"
   },
   {
    "duration": 2839,
    "start_time": "2022-09-03T19:17:15.857Z"
   },
   {
    "duration": 7,
    "start_time": "2022-09-03T19:17:51.821Z"
   },
   {
    "duration": 3,
    "start_time": "2022-09-03T19:17:52.584Z"
   },
   {
    "duration": 303646,
    "start_time": "2022-09-03T19:17:53.762Z"
   },
   {
    "duration": 55204,
    "start_time": "2022-09-03T19:22:57.414Z"
   },
   {
    "duration": 114703,
    "start_time": "2022-09-03T19:23:52.626Z"
   },
   {
    "duration": 106,
    "start_time": "2022-09-03T22:04:16.164Z"
   },
   {
    "duration": 2786,
    "start_time": "2022-09-03T22:05:04.732Z"
   },
   {
    "duration": 2172,
    "start_time": "2022-09-03T22:05:07.520Z"
   },
   {
    "duration": 10,
    "start_time": "2022-09-03T22:05:09.693Z"
   },
   {
    "duration": 9,
    "start_time": "2022-09-03T22:05:09.705Z"
   },
   {
    "duration": 36,
    "start_time": "2022-09-03T22:05:09.715Z"
   },
   {
    "duration": 7,
    "start_time": "2022-09-03T22:05:09.752Z"
   },
   {
    "duration": 6,
    "start_time": "2022-09-03T22:05:09.760Z"
   },
   {
    "duration": 215,
    "start_time": "2022-09-03T22:05:09.768Z"
   },
   {
    "duration": 283,
    "start_time": "2022-09-03T22:05:09.985Z"
   },
   {
    "duration": 78063,
    "start_time": "2022-09-03T22:05:10.270Z"
   },
   {
    "duration": 172,
    "start_time": "2022-09-03T22:06:28.335Z"
   },
   {
    "duration": 342,
    "start_time": "2022-09-03T22:06:28.509Z"
   },
   {
    "duration": 19,
    "start_time": "2022-09-03T22:06:28.854Z"
   },
   {
    "duration": 29,
    "start_time": "2022-09-03T22:06:28.876Z"
   },
   {
    "duration": 43,
    "start_time": "2022-09-03T22:06:28.908Z"
   },
   {
    "duration": 4,
    "start_time": "2022-09-03T22:06:28.953Z"
   },
   {
    "duration": 205,
    "start_time": "2022-09-03T22:06:28.959Z"
   },
   {
    "duration": 2049,
    "start_time": "2022-09-03T22:06:29.166Z"
   },
   {
    "duration": 4,
    "start_time": "2022-09-03T22:06:31.216Z"
   },
   {
    "duration": 11,
    "start_time": "2022-09-03T22:06:31.221Z"
   },
   {
    "duration": 182013,
    "start_time": "2022-09-03T22:06:31.233Z"
   },
   {
    "duration": 31692,
    "start_time": "2022-09-03T22:09:33.248Z"
   },
   {
    "duration": 84839,
    "start_time": "2022-09-03T22:10:04.943Z"
   },
   {
    "duration": 28069,
    "start_time": "2022-09-03T22:11:29.784Z"
   },
   {
    "duration": 1508,
    "start_time": "2022-09-03T22:13:34.779Z"
   },
   {
    "duration": 782,
    "start_time": "2022-09-03T22:13:36.288Z"
   },
   {
    "duration": 10,
    "start_time": "2022-09-03T22:13:42.437Z"
   },
   {
    "duration": 7,
    "start_time": "2022-09-03T22:13:43.439Z"
   },
   {
    "duration": 31,
    "start_time": "2022-09-03T22:13:43.714Z"
   },
   {
    "duration": 10,
    "start_time": "2022-09-03T22:13:43.890Z"
   },
   {
    "duration": 10,
    "start_time": "2022-09-03T22:13:44.079Z"
   },
   {
    "duration": 220,
    "start_time": "2022-09-03T22:13:44.253Z"
   },
   {
    "duration": 124,
    "start_time": "2022-09-03T22:14:02.704Z"
   },
   {
    "duration": 10,
    "start_time": "2022-09-03T22:15:30.208Z"
   },
   {
    "duration": 30,
    "start_time": "2022-09-03T22:15:37.961Z"
   },
   {
    "duration": 8601,
    "start_time": "2022-09-03T22:15:38.217Z"
   },
   {
    "duration": 29,
    "start_time": "2022-09-03T22:15:46.820Z"
   },
   {
    "duration": 45,
    "start_time": "2022-09-03T22:15:46.851Z"
   },
   {
    "duration": 6,
    "start_time": "2022-09-03T22:15:46.898Z"
   },
   {
    "duration": 7,
    "start_time": "2022-09-03T22:15:50.009Z"
   },
   {
    "duration": 12,
    "start_time": "2022-09-03T22:15:55.515Z"
   },
   {
    "duration": 3,
    "start_time": "2022-09-03T22:15:58.320Z"
   },
   {
    "duration": 190,
    "start_time": "2022-09-03T22:15:59.015Z"
   },
   {
    "duration": 205,
    "start_time": "2022-09-03T22:15:59.509Z"
   },
   {
    "duration": 3,
    "start_time": "2022-09-03T22:16:01.930Z"
   },
   {
    "duration": 2,
    "start_time": "2022-09-03T22:16:02.578Z"
   },
   {
    "duration": 15448,
    "start_time": "2022-09-03T22:16:03.029Z"
   },
   {
    "duration": 2566,
    "start_time": "2022-09-03T22:16:21.178Z"
   },
   {
    "duration": 16342,
    "start_time": "2022-09-03T22:16:24.816Z"
   },
   {
    "duration": 1560,
    "start_time": "2022-09-03T22:33:39.039Z"
   },
   {
    "duration": 763,
    "start_time": "2022-09-03T22:33:40.687Z"
   },
   {
    "duration": 9,
    "start_time": "2022-09-03T22:33:41.452Z"
   },
   {
    "duration": 7,
    "start_time": "2022-09-03T22:33:43.045Z"
   },
   {
    "duration": 32,
    "start_time": "2022-09-03T22:33:43.226Z"
   },
   {
    "duration": 8,
    "start_time": "2022-09-03T22:33:43.418Z"
   },
   {
    "duration": 7,
    "start_time": "2022-09-03T22:33:43.606Z"
   },
   {
    "duration": 205,
    "start_time": "2022-09-03T22:33:43.759Z"
   },
   {
    "duration": 12,
    "start_time": "2022-09-03T22:35:50.861Z"
   },
   {
    "duration": 6,
    "start_time": "2022-09-03T22:35:54.714Z"
   },
   {
    "duration": 1895,
    "start_time": "2022-09-03T22:35:54.920Z"
   },
   {
    "duration": 7,
    "start_time": "2022-09-03T22:35:56.817Z"
   },
   {
    "duration": 9,
    "start_time": "2022-09-03T22:35:56.838Z"
   },
   {
    "duration": 19,
    "start_time": "2022-09-03T22:35:56.849Z"
   },
   {
    "duration": 5,
    "start_time": "2022-09-03T22:35:57.176Z"
   },
   {
    "duration": 11,
    "start_time": "2022-09-03T22:35:58.354Z"
   },
   {
    "duration": 5,
    "start_time": "2022-09-03T22:35:59.018Z"
   },
   {
    "duration": 121,
    "start_time": "2022-09-03T22:35:59.420Z"
   },
   {
    "duration": 32,
    "start_time": "2022-09-03T22:35:59.619Z"
   },
   {
    "duration": 5,
    "start_time": "2022-09-03T22:36:01.123Z"
   },
   {
    "duration": 3,
    "start_time": "2022-09-03T22:36:01.319Z"
   },
   {
    "duration": 916,
    "start_time": "2022-09-03T22:36:03.034Z"
   },
   {
    "duration": 326,
    "start_time": "2022-09-03T22:36:06.361Z"
   },
   {
    "duration": 8177,
    "start_time": "2022-09-03T22:36:08.095Z"
   },
   {
    "duration": 280454,
    "start_time": "2022-09-03T22:36:17.419Z"
   },
   {
    "duration": 1520,
    "start_time": "2022-09-03T22:41:15.973Z"
   },
   {
    "duration": 765,
    "start_time": "2022-09-03T22:41:17.495Z"
   },
   {
    "duration": 11,
    "start_time": "2022-09-03T22:41:18.261Z"
   },
   {
    "duration": 6,
    "start_time": "2022-09-03T22:41:18.274Z"
   },
   {
    "duration": 36,
    "start_time": "2022-09-03T22:41:18.282Z"
   },
   {
    "duration": 22,
    "start_time": "2022-09-03T22:41:18.319Z"
   },
   {
    "duration": 7,
    "start_time": "2022-09-03T22:41:18.378Z"
   },
   {
    "duration": 206,
    "start_time": "2022-09-03T22:41:18.563Z"
   },
   {
    "duration": 12,
    "start_time": "2022-09-03T22:41:46.920Z"
   },
   {
    "duration": 4,
    "start_time": "2022-09-03T22:41:49.374Z"
   },
   {
    "duration": 1254,
    "start_time": "2022-09-03T22:41:49.628Z"
   },
   {
    "duration": 5,
    "start_time": "2022-09-03T22:41:50.884Z"
   },
   {
    "duration": 13,
    "start_time": "2022-09-03T22:41:50.891Z"
   },
   {
    "duration": 22,
    "start_time": "2022-09-03T22:41:50.906Z"
   },
   {
    "duration": 5,
    "start_time": "2022-09-03T22:41:51.357Z"
   },
   {
    "duration": 11,
    "start_time": "2022-09-03T22:41:51.769Z"
   },
   {
    "duration": 4,
    "start_time": "2022-09-03T22:41:52.375Z"
   },
   {
    "duration": 146,
    "start_time": "2022-09-03T22:41:52.964Z"
   },
   {
    "duration": 13,
    "start_time": "2022-09-03T22:41:54.112Z"
   },
   {
    "duration": 4,
    "start_time": "2022-09-03T22:41:55.748Z"
   },
   {
    "duration": 4,
    "start_time": "2022-09-03T22:41:56.186Z"
   },
   {
    "duration": 370,
    "start_time": "2022-09-03T22:41:56.393Z"
   },
   {
    "duration": 159,
    "start_time": "2022-09-03T22:41:58.290Z"
   },
   {
    "duration": 7384,
    "start_time": "2022-09-03T22:41:59.450Z"
   },
   {
    "duration": 206588,
    "start_time": "2022-09-03T22:42:06.838Z"
   },
   {
    "duration": 1612,
    "start_time": "2022-09-03T22:46:02.877Z"
   },
   {
    "duration": 759,
    "start_time": "2022-09-03T22:46:04.491Z"
   },
   {
    "duration": 10,
    "start_time": "2022-09-03T22:46:05.252Z"
   },
   {
    "duration": 29,
    "start_time": "2022-09-03T22:46:05.264Z"
   },
   {
    "duration": 36,
    "start_time": "2022-09-03T22:46:05.295Z"
   },
   {
    "duration": 9,
    "start_time": "2022-09-03T22:46:05.413Z"
   },
   {
    "duration": 7,
    "start_time": "2022-09-03T22:46:06.110Z"
   },
   {
    "duration": 223,
    "start_time": "2022-09-03T22:46:06.497Z"
   },
   {
    "duration": 10,
    "start_time": "2022-09-03T22:46:17.571Z"
   },
   {
    "duration": 4,
    "start_time": "2022-09-03T22:46:18.558Z"
   },
   {
    "duration": 1125,
    "start_time": "2022-09-03T22:46:19.479Z"
   },
   {
    "duration": 5,
    "start_time": "2022-09-03T22:46:20.606Z"
   },
   {
    "duration": 17,
    "start_time": "2022-09-03T22:46:20.612Z"
   },
   {
    "duration": 21,
    "start_time": "2022-09-03T22:46:20.631Z"
   },
   {
    "duration": 5,
    "start_time": "2022-09-03T22:46:22.008Z"
   },
   {
    "duration": 11,
    "start_time": "2022-09-03T22:46:22.804Z"
   },
   {
    "duration": 3,
    "start_time": "2022-09-03T22:46:23.245Z"
   },
   {
    "duration": 197,
    "start_time": "2022-09-03T22:46:23.461Z"
   },
   {
    "duration": 6,
    "start_time": "2022-09-03T22:46:23.660Z"
   },
   {
    "duration": 3,
    "start_time": "2022-09-03T22:46:25.930Z"
   },
   {
    "duration": 2,
    "start_time": "2022-09-03T22:46:26.211Z"
   },
   {
    "duration": 200,
    "start_time": "2022-09-03T22:46:26.388Z"
   },
   {
    "duration": 68,
    "start_time": "2022-09-03T22:46:28.992Z"
   },
   {
    "duration": 4,
    "start_time": "2022-09-03T22:46:59.579Z"
   },
   {
    "duration": 747,
    "start_time": "2022-09-03T22:47:00.168Z"
   },
   {
    "duration": 7,
    "start_time": "2022-09-03T22:47:00.917Z"
   },
   {
    "duration": 7,
    "start_time": "2022-09-03T22:47:01.608Z"
   },
   {
    "duration": 31,
    "start_time": "2022-09-03T22:47:02.108Z"
   },
   {
    "duration": 7,
    "start_time": "2022-09-03T22:47:02.539Z"
   },
   {
    "duration": 11,
    "start_time": "2022-09-03T22:47:03.675Z"
   },
   {
    "duration": 216,
    "start_time": "2022-09-03T22:47:03.940Z"
   },
   {
    "duration": 9,
    "start_time": "2022-09-03T22:47:07.100Z"
   },
   {
    "duration": 4,
    "start_time": "2022-09-03T22:47:07.342Z"
   },
   {
    "duration": 4,
    "start_time": "2022-09-03T22:47:14.002Z"
   },
   {
    "duration": 762,
    "start_time": "2022-09-03T22:47:14.592Z"
   },
   {
    "duration": 6,
    "start_time": "2022-09-03T22:47:15.356Z"
   },
   {
    "duration": 21,
    "start_time": "2022-09-03T22:47:15.364Z"
   },
   {
    "duration": 46,
    "start_time": "2022-09-03T22:47:15.387Z"
   },
   {
    "duration": 8,
    "start_time": "2022-09-03T22:47:15.435Z"
   },
   {
    "duration": 7,
    "start_time": "2022-09-03T22:47:15.592Z"
   },
   {
    "duration": 210,
    "start_time": "2022-09-03T22:47:16.077Z"
   },
   {
    "duration": 8,
    "start_time": "2022-09-03T22:47:22.489Z"
   },
   {
    "duration": 4,
    "start_time": "2022-09-03T22:47:23.237Z"
   },
   {
    "duration": 78,
    "start_time": "2022-09-03T22:47:23.514Z"
   },
   {
    "duration": 4,
    "start_time": "2022-09-03T22:47:23.862Z"
   },
   {
    "duration": 8,
    "start_time": "2022-09-03T22:47:24.130Z"
   },
   {
    "duration": 6,
    "start_time": "2022-09-03T22:47:24.401Z"
   },
   {
    "duration": 5,
    "start_time": "2022-09-03T22:47:24.951Z"
   },
   {
    "duration": 11,
    "start_time": "2022-09-03T22:47:26.108Z"
   },
   {
    "duration": 3,
    "start_time": "2022-09-03T22:47:27.060Z"
   },
   {
    "duration": 7,
    "start_time": "2022-09-03T22:47:27.293Z"
   },
   {
    "duration": 9,
    "start_time": "2022-09-03T22:47:27.957Z"
   },
   {
    "duration": 3,
    "start_time": "2022-09-03T22:47:29.414Z"
   },
   {
    "duration": 2,
    "start_time": "2022-09-03T22:47:29.916Z"
   },
   {
    "duration": 345,
    "start_time": "2022-09-03T22:47:34.753Z"
   },
   {
    "duration": 131,
    "start_time": "2022-09-03T22:47:36.413Z"
   },
   {
    "duration": 7068,
    "start_time": "2022-09-03T22:47:38.925Z"
   },
   {
    "duration": 11610,
    "start_time": "2022-09-03T22:47:55.227Z"
   },
   {
    "duration": 101474,
    "start_time": "2022-09-03T22:48:21.768Z"
   },
   {
    "duration": 18176,
    "start_time": "2022-09-03T22:50:36.662Z"
   },
   {
    "duration": 237,
    "start_time": "2022-09-03T23:05:18.509Z"
   },
   {
    "duration": 1468,
    "start_time": "2022-09-03T23:05:39.336Z"
   },
   {
    "duration": 744,
    "start_time": "2022-09-03T23:05:40.805Z"
   },
   {
    "duration": 9,
    "start_time": "2022-09-03T23:05:41.551Z"
   },
   {
    "duration": 9,
    "start_time": "2022-09-03T23:05:41.561Z"
   },
   {
    "duration": 30,
    "start_time": "2022-09-03T23:05:41.572Z"
   },
   {
    "duration": 8,
    "start_time": "2022-09-03T23:05:42.133Z"
   },
   {
    "duration": 7,
    "start_time": "2022-09-03T23:05:42.328Z"
   },
   {
    "duration": 204,
    "start_time": "2022-09-03T23:05:42.501Z"
   },
   {
    "duration": 8,
    "start_time": "2022-09-03T23:05:43.080Z"
   },
   {
    "duration": 4,
    "start_time": "2022-09-03T23:05:43.205Z"
   },
   {
    "duration": 802,
    "start_time": "2022-09-03T23:05:49.005Z"
   },
   {
    "duration": 7,
    "start_time": "2022-09-03T23:05:49.809Z"
   },
   {
    "duration": 66,
    "start_time": "2022-09-03T23:05:49.818Z"
   },
   {
    "duration": 30,
    "start_time": "2022-09-03T23:05:50.553Z"
   },
   {
    "duration": 6,
    "start_time": "2022-09-03T23:05:50.727Z"
   },
   {
    "duration": 7,
    "start_time": "2022-09-03T23:05:50.910Z"
   },
   {
    "duration": 207,
    "start_time": "2022-09-03T23:05:51.804Z"
   },
   {
    "duration": 14,
    "start_time": "2022-09-03T23:05:58.510Z"
   },
   {
    "duration": 29,
    "start_time": "2022-09-03T23:06:03.868Z"
   },
   {
    "duration": 8459,
    "start_time": "2022-09-03T23:06:04.125Z"
   },
   {
    "duration": 23,
    "start_time": "2022-09-03T23:06:12.586Z"
   },
   {
    "duration": 62,
    "start_time": "2022-09-03T23:06:12.611Z"
   },
   {
    "duration": 7,
    "start_time": "2022-09-03T23:06:12.675Z"
   },
   {
    "duration": 6,
    "start_time": "2022-09-03T23:06:12.684Z"
   },
   {
    "duration": 17,
    "start_time": "2022-09-03T23:06:12.692Z"
   },
   {
    "duration": 4,
    "start_time": "2022-09-03T23:06:12.971Z"
   },
   {
    "duration": 123,
    "start_time": "2022-09-03T23:06:14.680Z"
   },
   {
    "duration": 205,
    "start_time": "2022-09-03T23:06:15.415Z"
   },
   {
    "duration": 3,
    "start_time": "2022-09-03T23:06:17.166Z"
   },
   {
    "duration": 2,
    "start_time": "2022-09-03T23:06:17.389Z"
   },
   {
    "duration": 12908,
    "start_time": "2022-09-03T23:06:17.837Z"
   },
   {
    "duration": 2471,
    "start_time": "2022-09-03T23:06:34.376Z"
   },
   {
    "duration": 16174,
    "start_time": "2022-09-03T23:06:38.352Z"
   },
   {
    "duration": 38514,
    "start_time": "2022-09-03T23:06:57.139Z"
   },
   {
    "duration": 103403,
    "start_time": "2022-09-03T23:08:03.033Z"
   },
   {
    "duration": 6,
    "start_time": "2022-09-03T23:11:52.097Z"
   },
   {
    "duration": 11,
    "start_time": "2022-09-03T23:11:52.935Z"
   },
   {
    "duration": 1612,
    "start_time": "2022-09-03T23:12:03.079Z"
   },
   {
    "duration": 769,
    "start_time": "2022-09-03T23:12:04.693Z"
   },
   {
    "duration": 9,
    "start_time": "2022-09-03T23:12:05.464Z"
   },
   {
    "duration": 12,
    "start_time": "2022-09-03T23:12:05.475Z"
   },
   {
    "duration": 33,
    "start_time": "2022-09-03T23:12:05.489Z"
   },
   {
    "duration": 18,
    "start_time": "2022-09-03T23:12:05.523Z"
   },
   {
    "duration": 7,
    "start_time": "2022-09-03T23:12:06.253Z"
   },
   {
    "duration": 204,
    "start_time": "2022-09-03T23:12:06.484Z"
   },
   {
    "duration": 17,
    "start_time": "2022-09-03T23:12:08.604Z"
   },
   {
    "duration": 238,
    "start_time": "2022-09-03T23:12:08.836Z"
   },
   {
    "duration": 38487,
    "start_time": "2022-09-03T23:12:09.077Z"
   },
   {
    "duration": 90,
    "start_time": "2022-09-03T23:12:47.566Z"
   },
   {
    "duration": 165,
    "start_time": "2022-09-03T23:12:47.658Z"
   },
   {
    "duration": 6,
    "start_time": "2022-09-03T23:12:47.825Z"
   },
   {
    "duration": 11,
    "start_time": "2022-09-03T23:12:47.839Z"
   },
   {
    "duration": 18,
    "start_time": "2022-09-03T23:12:47.852Z"
   },
   {
    "duration": 3,
    "start_time": "2022-09-03T23:12:47.872Z"
   },
   {
    "duration": 428,
    "start_time": "2022-09-03T23:12:47.877Z"
   },
   {
    "duration": 1045,
    "start_time": "2022-09-03T23:12:48.307Z"
   },
   {
    "duration": 3,
    "start_time": "2022-09-03T23:12:49.355Z"
   },
   {
    "duration": 8,
    "start_time": "2022-09-03T23:12:49.359Z"
   },
   {
    "duration": 86871,
    "start_time": "2022-09-03T23:12:49.368Z"
   },
   {
    "duration": 12889,
    "start_time": "2022-09-03T23:14:16.241Z"
   },
   {
    "duration": 47090,
    "start_time": "2022-09-03T23:14:29.132Z"
   },
   {
    "duration": 283340,
    "start_time": "2022-09-03T23:15:16.223Z"
   },
   {
    "duration": 392432,
    "start_time": "2022-09-03T23:19:59.565Z"
   },
   {
    "duration": 6441,
    "start_time": "2022-09-03T23:26:31.998Z"
   },
   {
    "duration": 5,
    "start_time": "2022-09-03T23:29:52.671Z"
   },
   {
    "duration": 183,
    "start_time": "2022-09-03T23:29:53.058Z"
   },
   {
    "duration": 178,
    "start_time": "2022-09-03T23:29:53.927Z"
   },
   {
    "duration": 1337,
    "start_time": "2022-09-03T23:29:54.129Z"
   },
   {
    "duration": 6973,
    "start_time": "2022-09-03T23:29:55.468Z"
   },
   {
    "duration": 31783,
    "start_time": "2022-09-03T23:30:02.442Z"
   },
   {
    "duration": 34,
    "start_time": "2022-09-03T23:30:34.226Z"
   },
   {
    "duration": 1472,
    "start_time": "2022-09-03T23:33:47.560Z"
   },
   {
    "duration": 743,
    "start_time": "2022-09-03T23:33:49.034Z"
   },
   {
    "duration": 11,
    "start_time": "2022-09-03T23:33:49.779Z"
   },
   {
    "duration": 8,
    "start_time": "2022-09-03T23:33:49.791Z"
   },
   {
    "duration": 46,
    "start_time": "2022-09-03T23:33:49.801Z"
   },
   {
    "duration": 8,
    "start_time": "2022-09-03T23:33:49.848Z"
   },
   {
    "duration": 7,
    "start_time": "2022-09-03T23:33:49.858Z"
   },
   {
    "duration": 239,
    "start_time": "2022-09-03T23:33:49.867Z"
   },
   {
    "duration": 12,
    "start_time": "2022-09-03T23:33:50.109Z"
   },
   {
    "duration": 95,
    "start_time": "2022-09-03T23:33:50.122Z"
   },
   {
    "duration": 23476,
    "start_time": "2022-09-03T23:33:50.218Z"
   },
   {
    "duration": 61,
    "start_time": "2022-09-03T23:34:13.696Z"
   },
   {
    "duration": 111,
    "start_time": "2022-09-03T23:34:13.759Z"
   },
   {
    "duration": 6,
    "start_time": "2022-09-03T23:34:13.873Z"
   },
   {
    "duration": 13,
    "start_time": "2022-09-03T23:34:13.880Z"
   },
   {
    "duration": 14,
    "start_time": "2022-09-03T23:34:13.894Z"
   },
   {
    "duration": 3,
    "start_time": "2022-09-03T23:34:13.910Z"
   },
   {
    "duration": 140,
    "start_time": "2022-09-03T23:34:13.914Z"
   },
   {
    "duration": 629,
    "start_time": "2022-09-03T23:34:14.056Z"
   },
   {
    "duration": 4,
    "start_time": "2022-09-03T23:34:14.686Z"
   },
   {
    "duration": 48248,
    "start_time": "2022-09-03T23:34:14.692Z"
   },
   {
    "duration": 8797,
    "start_time": "2022-09-03T23:35:02.942Z"
   },
   {
    "duration": 31878,
    "start_time": "2022-09-03T23:35:11.741Z"
   },
   {
    "duration": 152635,
    "start_time": "2022-09-03T23:35:43.621Z"
   },
   {
    "duration": 357738,
    "start_time": "2022-09-03T23:38:16.258Z"
   },
   {
    "duration": 4020,
    "start_time": "2022-09-03T23:44:13.998Z"
   },
   {
    "duration": 6,
    "start_time": "2022-09-03T23:44:18.020Z"
   },
   {
    "duration": 119,
    "start_time": "2022-09-03T23:44:18.037Z"
   },
   {
    "duration": 102,
    "start_time": "2022-09-03T23:44:18.157Z"
   },
   {
    "duration": 960,
    "start_time": "2022-09-03T23:44:18.260Z"
   },
   {
    "duration": 191742,
    "start_time": "2022-09-03T23:44:19.221Z"
   },
   {
    "duration": 20877,
    "start_time": "2022-09-03T23:47:30.965Z"
   },
   {
    "duration": 19,
    "start_time": "2022-09-03T23:47:51.844Z"
   },
   {
    "duration": 1466,
    "start_time": "2022-09-03T23:48:37.225Z"
   },
   {
    "duration": 781,
    "start_time": "2022-09-03T23:48:38.692Z"
   },
   {
    "duration": 9,
    "start_time": "2022-09-03T23:48:39.474Z"
   },
   {
    "duration": 6,
    "start_time": "2022-09-03T23:48:39.484Z"
   },
   {
    "duration": 32,
    "start_time": "2022-09-03T23:48:39.492Z"
   },
   {
    "duration": 7,
    "start_time": "2022-09-03T23:48:39.538Z"
   },
   {
    "duration": 7,
    "start_time": "2022-09-03T23:48:39.546Z"
   },
   {
    "duration": 226,
    "start_time": "2022-09-03T23:48:39.554Z"
   },
   {
    "duration": 14,
    "start_time": "2022-09-03T23:48:39.782Z"
   },
   {
    "duration": 95,
    "start_time": "2022-09-03T23:48:39.797Z"
   },
   {
    "duration": 23122,
    "start_time": "2022-09-03T23:48:39.894Z"
   },
   {
    "duration": 58,
    "start_time": "2022-09-03T23:49:03.017Z"
   },
   {
    "duration": 114,
    "start_time": "2022-09-03T23:49:03.076Z"
   },
   {
    "duration": 7,
    "start_time": "2022-09-03T23:49:03.194Z"
   },
   {
    "duration": 12,
    "start_time": "2022-09-03T23:49:03.203Z"
   },
   {
    "duration": 34,
    "start_time": "2022-09-03T23:49:03.217Z"
   },
   {
    "duration": 4,
    "start_time": "2022-09-03T23:49:03.253Z"
   },
   {
    "duration": 123,
    "start_time": "2022-09-03T23:49:03.258Z"
   },
   {
    "duration": 636,
    "start_time": "2022-09-03T23:49:03.383Z"
   },
   {
    "duration": 4,
    "start_time": "2022-09-03T23:49:04.021Z"
   },
   {
    "duration": 51815,
    "start_time": "2022-09-03T23:49:04.027Z"
   },
   {
    "duration": 8502,
    "start_time": "2022-09-03T23:49:55.844Z"
   },
   {
    "duration": 31537,
    "start_time": "2022-09-03T23:50:04.348Z"
   },
   {
    "duration": 189359,
    "start_time": "2022-09-03T23:50:35.886Z"
   },
   {
    "duration": 353191,
    "start_time": "2022-09-03T23:53:45.247Z"
   },
   {
    "duration": 4181,
    "start_time": "2022-09-03T23:59:38.440Z"
   },
   {
    "duration": 5,
    "start_time": "2022-09-03T23:59:42.622Z"
   },
   {
    "duration": 124,
    "start_time": "2022-09-03T23:59:42.629Z"
   },
   {
    "duration": 100,
    "start_time": "2022-09-03T23:59:42.754Z"
   },
   {
    "duration": 913,
    "start_time": "2022-09-03T23:59:42.856Z"
   },
   {
    "duration": 4197,
    "start_time": "2022-09-03T23:59:43.771Z"
   },
   {
    "duration": 21079,
    "start_time": "2022-09-03T23:59:47.970Z"
   },
   {
    "duration": 20,
    "start_time": "2022-09-04T00:00:09.050Z"
   },
   {
    "duration": 208716,
    "start_time": "2022-09-04T00:06:17.158Z"
   },
   {
    "duration": 32,
    "start_time": "2022-09-04T00:24:43.038Z"
   },
   {
    "duration": 742673,
    "start_time": "2022-09-04T00:24:51.181Z"
   },
   {
    "duration": 381917,
    "start_time": "2022-09-04T00:43:56.241Z"
   },
   {
    "duration": 1529,
    "start_time": "2022-09-04T00:55:52.703Z"
   },
   {
    "duration": 774,
    "start_time": "2022-09-04T00:55:54.234Z"
   },
   {
    "duration": 9,
    "start_time": "2022-09-04T00:55:55.010Z"
   },
   {
    "duration": 11,
    "start_time": "2022-09-04T00:55:55.021Z"
   },
   {
    "duration": 31,
    "start_time": "2022-09-04T00:55:55.038Z"
   },
   {
    "duration": 7,
    "start_time": "2022-09-04T00:55:55.071Z"
   },
   {
    "duration": 7,
    "start_time": "2022-09-04T00:55:55.079Z"
   },
   {
    "duration": 231,
    "start_time": "2022-09-04T00:55:55.087Z"
   },
   {
    "duration": 20,
    "start_time": "2022-09-04T00:55:55.319Z"
   },
   {
    "duration": 83,
    "start_time": "2022-09-04T00:55:55.341Z"
   },
   {
    "duration": 23035,
    "start_time": "2022-09-04T00:55:55.426Z"
   },
   {
    "duration": 47,
    "start_time": "2022-09-04T00:56:18.463Z"
   },
   {
    "duration": 100,
    "start_time": "2022-09-04T00:56:18.512Z"
   },
   {
    "duration": 7,
    "start_time": "2022-09-04T00:56:18.613Z"
   },
   {
    "duration": 21,
    "start_time": "2022-09-04T00:56:18.621Z"
   },
   {
    "duration": 15,
    "start_time": "2022-09-04T00:56:18.644Z"
   },
   {
    "duration": 3,
    "start_time": "2022-09-04T00:56:18.661Z"
   },
   {
    "duration": 207,
    "start_time": "2022-09-04T00:56:18.666Z"
   },
   {
    "duration": 613,
    "start_time": "2022-09-04T00:56:18.874Z"
   },
   {
    "duration": 3,
    "start_time": "2022-09-04T00:56:19.489Z"
   },
   {
    "duration": 50149,
    "start_time": "2022-09-04T00:56:19.494Z"
   },
   {
    "duration": 8591,
    "start_time": "2022-09-04T00:57:09.648Z"
   },
   {
    "duration": 31472,
    "start_time": "2022-09-04T00:57:18.243Z"
   },
   {
    "duration": 378940,
    "start_time": "2022-09-04T00:57:49.716Z"
   },
   {
    "duration": 358083,
    "start_time": "2022-09-04T01:04:08.659Z"
   },
   {
    "duration": 3964,
    "start_time": "2022-09-04T01:10:06.744Z"
   },
   {
    "duration": 5,
    "start_time": "2022-09-04T01:10:10.710Z"
   },
   {
    "duration": 123,
    "start_time": "2022-09-04T01:10:10.718Z"
   },
   {
    "duration": 97,
    "start_time": "2022-09-04T01:10:10.843Z"
   },
   {
    "duration": 905,
    "start_time": "2022-09-04T01:10:10.941Z"
   },
   {
    "duration": 3908,
    "start_time": "2022-09-04T01:10:11.848Z"
   },
   {
    "duration": 20595,
    "start_time": "2022-09-04T01:10:15.757Z"
   },
   {
    "duration": 21,
    "start_time": "2022-09-04T01:10:36.353Z"
   },
   {
    "duration": 1696,
    "start_time": "2022-09-04T05:26:02.770Z"
   },
   {
    "duration": 2244,
    "start_time": "2022-09-04T05:26:04.468Z"
   },
   {
    "duration": 9,
    "start_time": "2022-09-04T05:26:06.714Z"
   },
   {
    "duration": 6,
    "start_time": "2022-09-04T05:26:06.725Z"
   },
   {
    "duration": 33,
    "start_time": "2022-09-04T05:26:06.733Z"
   },
   {
    "duration": 7,
    "start_time": "2022-09-04T05:26:06.768Z"
   },
   {
    "duration": 6,
    "start_time": "2022-09-04T05:26:06.777Z"
   },
   {
    "duration": 234,
    "start_time": "2022-09-04T05:26:06.785Z"
   },
   {
    "duration": 14,
    "start_time": "2022-09-04T05:26:07.020Z"
   },
   {
    "duration": 94,
    "start_time": "2022-09-04T05:26:07.035Z"
   },
   {
    "duration": 23790,
    "start_time": "2022-09-04T05:26:07.130Z"
   },
   {
    "duration": 60,
    "start_time": "2022-09-04T05:26:30.922Z"
   },
   {
    "duration": 112,
    "start_time": "2022-09-04T05:26:30.983Z"
   },
   {
    "duration": 7,
    "start_time": "2022-09-04T05:26:31.098Z"
   },
   {
    "duration": 15,
    "start_time": "2022-09-04T05:26:31.106Z"
   },
   {
    "duration": 21,
    "start_time": "2022-09-04T05:26:31.123Z"
   },
   {
    "duration": 3,
    "start_time": "2022-09-04T05:26:31.157Z"
   },
   {
    "duration": 211,
    "start_time": "2022-09-04T05:26:31.162Z"
   },
   {
    "duration": 629,
    "start_time": "2022-09-04T05:26:31.375Z"
   },
   {
    "duration": 3,
    "start_time": "2022-09-04T05:26:32.006Z"
   },
   {
    "duration": 46358,
    "start_time": "2022-09-04T05:26:32.011Z"
   },
   {
    "duration": 10108,
    "start_time": "2022-09-04T05:27:18.458Z"
   },
   {
    "duration": 34587,
    "start_time": "2022-09-04T05:27:28.568Z"
   },
   {
    "duration": 543804,
    "start_time": "2022-09-04T05:28:03.157Z"
   },
   {
    "duration": 1573,
    "start_time": "2022-09-04T05:37:27.155Z"
   },
   {
    "duration": 760,
    "start_time": "2022-09-04T05:37:28.730Z"
   },
   {
    "duration": 13,
    "start_time": "2022-09-04T05:37:29.492Z"
   },
   {
    "duration": 9,
    "start_time": "2022-09-04T05:37:29.507Z"
   },
   {
    "duration": 47,
    "start_time": "2022-09-04T05:37:29.518Z"
   },
   {
    "duration": 9,
    "start_time": "2022-09-04T05:37:29.567Z"
   },
   {
    "duration": 9,
    "start_time": "2022-09-04T05:37:29.577Z"
   },
   {
    "duration": 247,
    "start_time": "2022-09-04T05:37:29.588Z"
   },
   {
    "duration": 25,
    "start_time": "2022-09-04T05:37:29.837Z"
   },
   {
    "duration": 114,
    "start_time": "2022-09-04T05:37:29.864Z"
   },
   {
    "duration": 25950,
    "start_time": "2022-09-04T05:37:29.979Z"
   },
   {
    "duration": 89,
    "start_time": "2022-09-04T05:37:55.930Z"
   },
   {
    "duration": 174,
    "start_time": "2022-09-04T05:37:56.021Z"
   },
   {
    "duration": 7,
    "start_time": "2022-09-04T05:37:56.197Z"
   },
   {
    "duration": 23,
    "start_time": "2022-09-04T05:37:56.205Z"
   },
   {
    "duration": 21,
    "start_time": "2022-09-04T05:37:56.230Z"
   },
   {
    "duration": 3,
    "start_time": "2022-09-04T05:37:56.258Z"
   },
   {
    "duration": 145,
    "start_time": "2022-09-04T05:37:56.263Z"
   },
   {
    "duration": 683,
    "start_time": "2022-09-04T05:37:56.410Z"
   },
   {
    "duration": 3,
    "start_time": "2022-09-04T05:37:57.095Z"
   },
   {
    "duration": 70565,
    "start_time": "2022-09-04T05:37:57.100Z"
   },
   {
    "duration": 10091,
    "start_time": "2022-09-04T05:39:07.667Z"
   },
   {
    "duration": 36133,
    "start_time": "2022-09-04T05:39:17.760Z"
   },
   {
    "duration": 1958884,
    "start_time": "2022-09-04T05:39:53.895Z"
   },
   {
    "duration": 1597,
    "start_time": "2022-09-04T06:13:57.196Z"
   },
   {
    "duration": 767,
    "start_time": "2022-09-04T06:13:58.796Z"
   },
   {
    "duration": 11,
    "start_time": "2022-09-04T06:13:59.565Z"
   },
   {
    "duration": 7,
    "start_time": "2022-09-04T06:13:59.578Z"
   },
   {
    "duration": 33,
    "start_time": "2022-09-04T06:13:59.588Z"
   },
   {
    "duration": 8,
    "start_time": "2022-09-04T06:13:59.622Z"
   },
   {
    "duration": 29,
    "start_time": "2022-09-04T06:13:59.631Z"
   },
   {
    "duration": 243,
    "start_time": "2022-09-04T06:13:59.662Z"
   },
   {
    "duration": 15,
    "start_time": "2022-09-04T06:13:59.906Z"
   },
   {
    "duration": 123,
    "start_time": "2022-09-04T06:13:59.923Z"
   },
   {
    "duration": 29534,
    "start_time": "2022-09-04T06:14:00.048Z"
   },
   {
    "duration": 128,
    "start_time": "2022-09-04T06:14:29.584Z"
   },
   {
    "duration": 204,
    "start_time": "2022-09-04T06:14:29.714Z"
   },
   {
    "duration": 7,
    "start_time": "2022-09-04T06:14:29.921Z"
   },
   {
    "duration": 27,
    "start_time": "2022-09-04T06:14:29.931Z"
   },
   {
    "duration": 20,
    "start_time": "2022-09-04T06:14:29.960Z"
   },
   {
    "duration": 4,
    "start_time": "2022-09-04T06:14:29.982Z"
   },
   {
    "duration": 187,
    "start_time": "2022-09-04T06:14:29.988Z"
   },
   {
    "duration": 813,
    "start_time": "2022-09-04T06:14:30.177Z"
   },
   {
    "duration": 4,
    "start_time": "2022-09-04T06:14:30.991Z"
   },
   {
    "duration": 74765,
    "start_time": "2022-09-04T06:14:30.996Z"
   },
   {
    "duration": 9203,
    "start_time": "2022-09-04T06:15:45.763Z"
   },
   {
    "duration": 37371,
    "start_time": "2022-09-04T06:15:55.057Z"
   },
   {
    "duration": 1809003,
    "start_time": "2022-09-04T06:16:32.430Z"
   },
   {
    "duration": 1451,
    "start_time": "2022-09-04T06:48:52.554Z"
   },
   {
    "duration": 710,
    "start_time": "2022-09-04T06:48:54.007Z"
   },
   {
    "duration": 9,
    "start_time": "2022-09-04T06:48:54.719Z"
   },
   {
    "duration": 8,
    "start_time": "2022-09-04T06:48:54.729Z"
   },
   {
    "duration": 42,
    "start_time": "2022-09-04T06:48:54.739Z"
   },
   {
    "duration": 7,
    "start_time": "2022-09-04T06:48:54.783Z"
   },
   {
    "duration": 6,
    "start_time": "2022-09-04T06:48:54.791Z"
   },
   {
    "duration": 218,
    "start_time": "2022-09-04T06:48:54.799Z"
   },
   {
    "duration": 14,
    "start_time": "2022-09-04T06:48:55.019Z"
   },
   {
    "duration": 107,
    "start_time": "2022-09-04T06:48:55.034Z"
   },
   {
    "duration": 26150,
    "start_time": "2022-09-04T06:48:55.142Z"
   },
   {
    "duration": 98,
    "start_time": "2022-09-04T06:49:21.294Z"
   },
   {
    "duration": 173,
    "start_time": "2022-09-04T06:49:21.393Z"
   },
   {
    "duration": 7,
    "start_time": "2022-09-04T06:49:21.569Z"
   },
   {
    "duration": 15,
    "start_time": "2022-09-04T06:49:21.577Z"
   },
   {
    "duration": 21,
    "start_time": "2022-09-04T06:49:21.593Z"
   },
   {
    "duration": 4,
    "start_time": "2022-09-04T06:49:21.616Z"
   },
   {
    "duration": 154,
    "start_time": "2022-09-04T06:49:21.621Z"
   },
   {
    "duration": 742,
    "start_time": "2022-09-04T06:49:21.777Z"
   },
   {
    "duration": 3,
    "start_time": "2022-09-04T06:49:22.521Z"
   },
   {
    "duration": 64833,
    "start_time": "2022-09-04T06:49:22.526Z"
   },
   {
    "duration": 9803,
    "start_time": "2022-09-04T06:50:27.361Z"
   },
   {
    "duration": 36422,
    "start_time": "2022-09-04T06:50:37.167Z"
   },
   {
    "duration": 526390,
    "start_time": "2022-09-04T06:51:13.591Z"
   },
   {
    "duration": 286321,
    "start_time": "2022-09-04T06:59:59.983Z"
   },
   {
    "duration": 4607,
    "start_time": "2022-09-04T07:04:46.306Z"
   },
   {
    "duration": 6,
    "start_time": "2022-09-04T07:04:50.915Z"
   },
   {
    "duration": 2549,
    "start_time": "2022-09-04T07:04:50.923Z"
   },
   {
    "duration": 493,
    "start_time": "2022-09-04T07:04:53.473Z"
   },
   {
    "duration": 1047,
    "start_time": "2022-09-04T07:04:53.968Z"
   },
   {
    "duration": 4374,
    "start_time": "2022-09-04T07:04:55.017Z"
   },
   {
    "duration": 23559,
    "start_time": "2022-09-04T07:04:59.392Z"
   },
   {
    "duration": 21,
    "start_time": "2022-09-04T07:05:22.957Z"
   },
   {
    "duration": 45,
    "start_time": "2022-09-04T07:10:57.740Z"
   },
   {
    "duration": 1206,
    "start_time": "2022-09-04T07:35:18.021Z"
   },
   {
    "duration": 0,
    "start_time": "2022-09-04T07:35:19.229Z"
   },
   {
    "duration": 7,
    "start_time": "2022-09-04T07:35:20.939Z"
   },
   {
    "duration": 1548,
    "start_time": "2022-09-04T07:35:44.155Z"
   },
   {
    "duration": 710,
    "start_time": "2022-09-04T07:35:47.762Z"
   },
   {
    "duration": 10,
    "start_time": "2022-09-04T07:35:48.764Z"
   },
   {
    "duration": 7,
    "start_time": "2022-09-04T07:35:49.676Z"
   },
   {
    "duration": 31,
    "start_time": "2022-09-04T07:35:49.871Z"
   },
   {
    "duration": 9,
    "start_time": "2022-09-04T07:35:50.019Z"
   },
   {
    "duration": 8,
    "start_time": "2022-09-04T07:35:50.217Z"
   },
   {
    "duration": 205,
    "start_time": "2022-09-04T07:35:50.385Z"
   },
   {
    "duration": 15,
    "start_time": "2022-09-04T07:35:51.907Z"
   },
   {
    "duration": 114,
    "start_time": "2022-09-04T07:35:52.065Z"
   },
   {
    "duration": 27349,
    "start_time": "2022-09-04T07:35:52.250Z"
   },
   {
    "duration": 89,
    "start_time": "2022-09-04T07:36:19.601Z"
   },
   {
    "duration": 177,
    "start_time": "2022-09-04T07:36:19.692Z"
   },
   {
    "duration": 7,
    "start_time": "2022-09-04T07:36:19.871Z"
   },
   {
    "duration": 16,
    "start_time": "2022-09-04T07:36:30.811Z"
   },
   {
    "duration": 20,
    "start_time": "2022-09-04T07:36:31.895Z"
   },
   {
    "duration": 4,
    "start_time": "2022-09-04T07:36:36.249Z"
   },
   {
    "duration": 207,
    "start_time": "2022-09-04T07:36:38.373Z"
   },
   {
    "duration": 780,
    "start_time": "2022-09-04T07:36:38.745Z"
   },
   {
    "duration": 4,
    "start_time": "2022-09-04T07:36:40.803Z"
   },
   {
    "duration": 56771,
    "start_time": "2022-09-04T07:36:41.701Z"
   },
   {
    "duration": 9500,
    "start_time": "2022-09-04T07:37:38.558Z"
   },
   {
    "duration": 37238,
    "start_time": "2022-09-04T07:37:48.060Z"
   },
   {
    "duration": 4812,
    "start_time": "2022-09-04T07:38:45.975Z"
   },
   {
    "duration": 5,
    "start_time": "2022-09-04T07:39:04.966Z"
   },
   {
    "duration": 2695,
    "start_time": "2022-09-04T07:39:06.386Z"
   },
   {
    "duration": 594,
    "start_time": "2022-09-04T07:39:09.083Z"
   },
   {
    "duration": 804,
    "start_time": "2022-09-04T07:39:13.103Z"
   },
   {
    "duration": 1634,
    "start_time": "2022-09-04T07:42:05.047Z"
   },
   {
    "duration": 725,
    "start_time": "2022-09-04T07:42:06.683Z"
   },
   {
    "duration": 12,
    "start_time": "2022-09-04T07:42:08.762Z"
   },
   {
    "duration": 7,
    "start_time": "2022-09-04T07:42:09.098Z"
   },
   {
    "duration": 35,
    "start_time": "2022-09-04T07:42:09.495Z"
   },
   {
    "duration": 8,
    "start_time": "2022-09-04T07:42:09.703Z"
   },
   {
    "duration": 8,
    "start_time": "2022-09-04T07:42:09.892Z"
   },
   {
    "duration": 217,
    "start_time": "2022-09-04T07:42:10.614Z"
   },
   {
    "duration": 17,
    "start_time": "2022-09-04T07:42:20.960Z"
   },
   {
    "duration": 146,
    "start_time": "2022-09-04T07:42:21.907Z"
   },
   {
    "duration": 38582,
    "start_time": "2022-09-04T07:42:22.118Z"
   },
   {
    "duration": 95,
    "start_time": "2022-09-04T07:43:00.702Z"
   },
   {
    "duration": 180,
    "start_time": "2022-09-04T07:43:00.799Z"
   },
   {
    "duration": 7,
    "start_time": "2022-09-04T07:43:00.982Z"
   },
   {
    "duration": 18,
    "start_time": "2022-09-04T07:43:00.991Z"
   },
   {
    "duration": 21,
    "start_time": "2022-09-04T07:43:01.011Z"
   },
   {
    "duration": 3,
    "start_time": "2022-09-04T07:43:01.058Z"
   },
   {
    "duration": 265,
    "start_time": "2022-09-04T07:43:01.063Z"
   },
   {
    "duration": 1023,
    "start_time": "2022-09-04T07:43:01.330Z"
   },
   {
    "duration": 4,
    "start_time": "2022-09-04T07:43:02.356Z"
   },
   {
    "duration": 80496,
    "start_time": "2022-09-04T07:43:02.361Z"
   },
   {
    "duration": 13522,
    "start_time": "2022-09-04T07:44:22.860Z"
   },
   {
    "duration": 51602,
    "start_time": "2022-09-04T07:44:36.384Z"
   },
   {
    "duration": 164,
    "start_time": "2022-09-04T07:47:05.176Z"
   },
   {
    "duration": 5,
    "start_time": "2022-09-04T07:47:32.674Z"
   },
   {
    "duration": 3299,
    "start_time": "2022-09-04T07:47:35.980Z"
   },
   {
    "duration": 2922,
    "start_time": "2022-09-04T07:47:42.641Z"
   },
   {
    "duration": 1388,
    "start_time": "2022-09-04T07:47:46.678Z"
   },
   {
    "duration": 1582,
    "start_time": "2022-09-04T07:49:02.184Z"
   },
   {
    "duration": 745,
    "start_time": "2022-09-04T07:49:03.802Z"
   },
   {
    "duration": 10,
    "start_time": "2022-09-04T07:49:05.470Z"
   },
   {
    "duration": 8,
    "start_time": "2022-09-04T07:49:06.016Z"
   },
   {
    "duration": 33,
    "start_time": "2022-09-04T07:49:06.211Z"
   },
   {
    "duration": 8,
    "start_time": "2022-09-04T07:49:06.366Z"
   },
   {
    "duration": 7,
    "start_time": "2022-09-04T07:49:06.532Z"
   },
   {
    "duration": 217,
    "start_time": "2022-09-04T07:49:06.814Z"
   },
   {
    "duration": 33,
    "start_time": "2022-09-04T07:49:08.103Z"
   },
   {
    "duration": 341,
    "start_time": "2022-09-04T07:49:09.251Z"
   },
   {
    "duration": 79061,
    "start_time": "2022-09-04T07:49:10.007Z"
   },
   {
    "duration": 197,
    "start_time": "2022-09-04T07:50:29.070Z"
   },
   {
    "duration": 381,
    "start_time": "2022-09-04T07:50:29.269Z"
   },
   {
    "duration": 9,
    "start_time": "2022-09-04T07:50:29.652Z"
   },
   {
    "duration": 31,
    "start_time": "2022-09-04T07:50:29.663Z"
   },
   {
    "duration": 31,
    "start_time": "2022-09-04T07:50:29.695Z"
   },
   {
    "duration": 29,
    "start_time": "2022-09-04T07:50:29.728Z"
   },
   {
    "duration": 123,
    "start_time": "2022-09-04T07:50:29.759Z"
   },
   {
    "duration": 2146,
    "start_time": "2022-09-04T07:50:29.884Z"
   },
   {
    "duration": 3,
    "start_time": "2022-09-04T07:50:32.033Z"
   },
   {
    "duration": 177057,
    "start_time": "2022-09-04T07:50:32.038Z"
   },
   {
    "duration": 34537,
    "start_time": "2022-09-04T07:53:29.097Z"
   },
   {
    "duration": 91620,
    "start_time": "2022-09-04T07:54:03.636Z"
   },
   {
    "duration": 7,
    "start_time": "2022-09-04T07:55:35.258Z"
   },
   {
    "duration": 8532,
    "start_time": "2022-09-04T07:55:35.266Z"
   },
   {
    "duration": 4883,
    "start_time": "2022-09-04T07:55:43.800Z"
   },
   {
    "duration": 2701,
    "start_time": "2022-09-04T07:55:48.685Z"
   },
   {
    "duration": 6,
    "start_time": "2022-09-04T07:59:10.316Z"
   },
   {
    "duration": 799,
    "start_time": "2022-09-04T07:59:12.414Z"
   },
   {
    "duration": 389,
    "start_time": "2022-09-04T07:59:20.260Z"
   },
   {
    "duration": 2469,
    "start_time": "2022-09-04T07:59:23.019Z"
   },
   {
    "duration": 215978,
    "start_time": "2022-09-04T07:59:46.241Z"
   },
   {
    "duration": 60130,
    "start_time": "2022-09-04T08:03:22.221Z"
   },
   {
    "duration": 42,
    "start_time": "2022-09-04T08:04:22.358Z"
   },
   {
    "duration": 14115,
    "start_time": "2022-09-04T08:05:06.732Z"
   },
   {
    "duration": 1535,
    "start_time": "2022-09-04T08:07:51.021Z"
   },
   {
    "duration": 732,
    "start_time": "2022-09-04T08:07:52.558Z"
   },
   {
    "duration": 10,
    "start_time": "2022-09-04T08:07:53.891Z"
   },
   {
    "duration": 6,
    "start_time": "2022-09-04T08:07:54.143Z"
   },
   {
    "duration": 31,
    "start_time": "2022-09-04T08:07:54.352Z"
   },
   {
    "duration": 8,
    "start_time": "2022-09-04T08:07:54.560Z"
   },
   {
    "duration": 7,
    "start_time": "2022-09-04T08:07:54.721Z"
   },
   {
    "duration": 212,
    "start_time": "2022-09-04T08:07:54.914Z"
   },
   {
    "duration": 260,
    "start_time": "2022-09-04T08:08:07.787Z"
   },
   {
    "duration": 78668,
    "start_time": "2022-09-04T08:08:10.350Z"
   },
   {
    "duration": 187,
    "start_time": "2022-09-04T08:09:29.020Z"
   },
   {
    "duration": 377,
    "start_time": "2022-09-04T08:09:29.209Z"
   },
   {
    "duration": 6,
    "start_time": "2022-09-04T08:09:29.589Z"
   },
   {
    "duration": 30,
    "start_time": "2022-09-04T08:09:29.597Z"
   },
   {
    "duration": 46,
    "start_time": "2022-09-04T08:09:29.629Z"
   },
   {
    "duration": 3,
    "start_time": "2022-09-04T08:09:29.677Z"
   },
   {
    "duration": 132,
    "start_time": "2022-09-04T08:09:29.682Z"
   },
   {
    "duration": 2225,
    "start_time": "2022-09-04T08:09:29.816Z"
   },
   {
    "duration": 5,
    "start_time": "2022-09-04T08:09:32.043Z"
   },
   {
    "duration": 852,
    "start_time": "2022-09-04T08:09:32.057Z"
   },
   {
    "duration": 425,
    "start_time": "2022-09-04T08:09:32.911Z"
   },
   {
    "duration": 2535,
    "start_time": "2022-09-04T08:09:33.338Z"
   },
   {
    "duration": 177036,
    "start_time": "2022-09-04T08:09:35.875Z"
   },
   {
    "duration": 58714,
    "start_time": "2022-09-04T08:12:32.913Z"
   },
   {
    "duration": 50,
    "start_time": "2022-09-04T08:13:31.628Z"
   },
   {
    "duration": 1612,
    "start_time": "2022-09-04T08:29:17.745Z"
   },
   {
    "duration": 748,
    "start_time": "2022-09-04T08:29:19.359Z"
   },
   {
    "duration": 10,
    "start_time": "2022-09-04T08:29:20.109Z"
   },
   {
    "duration": 7,
    "start_time": "2022-09-04T08:29:20.305Z"
   },
   {
    "duration": 31,
    "start_time": "2022-09-04T08:29:20.521Z"
   },
   {
    "duration": 7,
    "start_time": "2022-09-04T08:29:21.171Z"
   },
   {
    "duration": 7,
    "start_time": "2022-09-04T08:29:24.664Z"
   },
   {
    "duration": 221,
    "start_time": "2022-09-04T08:29:25.043Z"
   },
   {
    "duration": 22,
    "start_time": "2022-09-04T08:29:27.988Z"
   },
   {
    "duration": 312,
    "start_time": "2022-09-04T08:29:28.232Z"
   },
   {
    "duration": 77597,
    "start_time": "2022-09-04T08:29:29.624Z"
   },
   {
    "duration": 176,
    "start_time": "2022-09-04T08:30:47.223Z"
   },
   {
    "duration": 361,
    "start_time": "2022-09-04T08:30:47.400Z"
   },
   {
    "duration": 7,
    "start_time": "2022-09-04T08:30:47.763Z"
   },
   {
    "duration": 26,
    "start_time": "2022-09-04T08:30:47.771Z"
   },
   {
    "duration": 31,
    "start_time": "2022-09-04T08:30:47.799Z"
   },
   {
    "duration": 3,
    "start_time": "2022-09-04T08:30:47.832Z"
   },
   {
    "duration": 221,
    "start_time": "2022-09-04T08:30:47.857Z"
   },
   {
    "duration": 1625,
    "start_time": "2022-09-04T08:30:48.080Z"
   },
   {
    "duration": 6,
    "start_time": "2022-09-04T08:31:28.400Z"
   },
   {
    "duration": 883,
    "start_time": "2022-09-04T08:31:29.259Z"
   },
   {
    "duration": 356,
    "start_time": "2022-09-04T08:31:33.435Z"
   },
   {
    "duration": 2216,
    "start_time": "2022-09-04T08:31:37.047Z"
   },
   {
    "duration": 201089,
    "start_time": "2022-09-04T08:31:42.998Z"
   },
   {
    "duration": 64408,
    "start_time": "2022-09-04T08:35:04.089Z"
   },
   {
    "duration": 26,
    "start_time": "2022-09-04T08:36:08.499Z"
   },
   {
    "duration": 4,
    "start_time": "2022-09-04T08:43:42.817Z"
   },
   {
    "duration": 175311,
    "start_time": "2022-09-04T08:43:47.312Z"
   },
   {
    "duration": 32808,
    "start_time": "2022-09-04T08:46:42.625Z"
   },
   {
    "duration": 96570,
    "start_time": "2022-09-04T08:47:15.435Z"
   },
   {
    "duration": 1758,
    "start_time": "2022-09-04T08:52:11.069Z"
   },
   {
    "duration": 775,
    "start_time": "2022-09-04T08:52:14.895Z"
   },
   {
    "duration": 13,
    "start_time": "2022-09-04T08:52:15.673Z"
   },
   {
    "duration": 24,
    "start_time": "2022-09-04T08:52:15.687Z"
   },
   {
    "duration": 38,
    "start_time": "2022-09-04T08:52:15.712Z"
   },
   {
    "duration": 10,
    "start_time": "2022-09-04T08:52:15.752Z"
   },
   {
    "duration": 7,
    "start_time": "2022-09-04T08:52:15.764Z"
   },
   {
    "duration": 213,
    "start_time": "2022-09-04T08:52:15.884Z"
   },
   {
    "duration": 26,
    "start_time": "2022-09-04T08:52:17.688Z"
   },
   {
    "duration": 321,
    "start_time": "2022-09-04T08:52:17.934Z"
   },
   {
    "duration": 78128,
    "start_time": "2022-09-04T08:52:19.336Z"
   },
   {
    "duration": 180,
    "start_time": "2022-09-04T08:53:37.467Z"
   },
   {
    "duration": 368,
    "start_time": "2022-09-04T08:53:37.649Z"
   },
   {
    "duration": 7,
    "start_time": "2022-09-04T08:53:38.019Z"
   },
   {
    "duration": 39,
    "start_time": "2022-09-04T08:53:38.027Z"
   },
   {
    "duration": 36,
    "start_time": "2022-09-04T08:53:38.067Z"
   },
   {
    "duration": 3,
    "start_time": "2022-09-04T08:53:38.104Z"
   },
   {
    "duration": 156,
    "start_time": "2022-09-04T08:53:38.109Z"
   },
   {
    "duration": 1499,
    "start_time": "2022-09-04T08:53:38.266Z"
   },
   {
    "duration": 5,
    "start_time": "2022-09-04T08:53:39.767Z"
   },
   {
    "duration": 917,
    "start_time": "2022-09-04T08:53:39.773Z"
   },
   {
    "duration": 422,
    "start_time": "2022-09-04T08:53:40.692Z"
   },
   {
    "duration": 2270,
    "start_time": "2022-09-04T08:53:41.115Z"
   },
   {
    "duration": 230297,
    "start_time": "2022-09-04T08:53:43.387Z"
   },
   {
    "duration": 92267,
    "start_time": "2022-09-04T08:57:33.686Z"
   },
   {
    "duration": 22,
    "start_time": "2022-09-04T08:59:05.955Z"
   },
   {
    "duration": 1713,
    "start_time": "2022-09-04T09:04:10.030Z"
   },
   {
    "duration": 794,
    "start_time": "2022-09-04T09:04:11.745Z"
   },
   {
    "duration": 11,
    "start_time": "2022-09-04T09:04:12.540Z"
   },
   {
    "duration": 7,
    "start_time": "2022-09-04T09:04:12.557Z"
   },
   {
    "duration": 32,
    "start_time": "2022-09-04T09:04:12.656Z"
   },
   {
    "duration": 8,
    "start_time": "2022-09-04T09:04:12.820Z"
   },
   {
    "duration": 8,
    "start_time": "2022-09-04T09:04:12.967Z"
   },
   {
    "duration": 218,
    "start_time": "2022-09-04T09:04:13.163Z"
   },
   {
    "duration": 10,
    "start_time": "2022-09-04T09:04:31.469Z"
   },
   {
    "duration": 24,
    "start_time": "2022-09-04T09:04:32.314Z"
   },
   {
    "duration": 4965,
    "start_time": "2022-09-04T09:04:32.611Z"
   },
   {
    "duration": 15,
    "start_time": "2022-09-04T09:04:37.578Z"
   },
   {
    "duration": 24,
    "start_time": "2022-09-04T09:04:37.595Z"
   },
   {
    "duration": 7,
    "start_time": "2022-09-04T09:04:40.083Z"
   },
   {
    "duration": 6,
    "start_time": "2022-09-04T09:04:42.965Z"
   },
   {
    "duration": 16,
    "start_time": "2022-09-04T09:04:55.282Z"
   },
   {
    "duration": 3,
    "start_time": "2022-09-04T09:04:59.303Z"
   },
   {
    "duration": 130,
    "start_time": "2022-09-04T09:04:59.865Z"
   },
   {
    "duration": 123,
    "start_time": "2022-09-04T09:05:00.218Z"
   },
   {
    "duration": 5,
    "start_time": "2022-09-04T09:05:12.447Z"
   },
   {
    "duration": 42,
    "start_time": "2022-09-04T09:05:14.084Z"
   },
   {
    "duration": 25,
    "start_time": "2022-09-04T09:05:15.909Z"
   },
   {
    "duration": 417,
    "start_time": "2022-09-04T09:05:17.510Z"
   },
   {
    "duration": 45025,
    "start_time": "2022-09-04T09:05:21.749Z"
   },
   {
    "duration": 6164,
    "start_time": "2022-09-04T09:06:06.776Z"
   },
   {
    "duration": 10,
    "start_time": "2022-09-04T09:06:12.942Z"
   },
   {
    "duration": 4,
    "start_time": "2022-09-04T09:06:44.145Z"
   },
   {
    "duration": 2898,
    "start_time": "2022-09-04T09:06:44.624Z"
   },
   {
    "duration": 969,
    "start_time": "2022-09-04T09:06:51.627Z"
   },
   {
    "duration": 12264,
    "start_time": "2022-09-04T09:06:54.283Z"
   },
   {
    "duration": 44,
    "start_time": "2022-09-04T09:07:28.488Z"
   },
   {
    "duration": 18,
    "start_time": "2022-09-04T09:07:36.001Z"
   },
   {
    "duration": 195,
    "start_time": "2022-09-04T09:07:52.485Z"
   },
   {
    "duration": 1823,
    "start_time": "2022-09-04T09:09:04.038Z"
   },
   {
    "duration": 789,
    "start_time": "2022-09-04T09:09:05.863Z"
   },
   {
    "duration": 11,
    "start_time": "2022-09-04T09:09:06.654Z"
   },
   {
    "duration": 7,
    "start_time": "2022-09-04T09:09:06.667Z"
   },
   {
    "duration": 34,
    "start_time": "2022-09-04T09:09:06.675Z"
   },
   {
    "duration": 8,
    "start_time": "2022-09-04T09:09:06.711Z"
   },
   {
    "duration": 9,
    "start_time": "2022-09-04T09:09:06.721Z"
   },
   {
    "duration": 224,
    "start_time": "2022-09-04T09:09:06.758Z"
   },
   {
    "duration": 13,
    "start_time": "2022-09-04T09:09:08.938Z"
   },
   {
    "duration": 19,
    "start_time": "2022-09-04T09:09:09.722Z"
   },
   {
    "duration": 5215,
    "start_time": "2022-09-04T09:09:10.924Z"
   },
   {
    "duration": 19,
    "start_time": "2022-09-04T09:09:16.141Z"
   },
   {
    "duration": 30,
    "start_time": "2022-09-04T09:09:16.162Z"
   },
   {
    "duration": 18,
    "start_time": "2022-09-04T09:09:16.195Z"
   },
   {
    "duration": 7,
    "start_time": "2022-09-04T09:09:21.151Z"
   },
   {
    "duration": 4,
    "start_time": "2022-09-04T09:09:26.130Z"
   },
   {
    "duration": 196,
    "start_time": "2022-09-04T09:09:27.920Z"
   },
   {
    "duration": 353,
    "start_time": "2022-09-04T09:09:29.064Z"
   },
   {
    "duration": 5,
    "start_time": "2022-09-04T09:09:40.000Z"
   },
   {
    "duration": 181,
    "start_time": "2022-09-04T09:09:44.754Z"
   },
   {
    "duration": 65,
    "start_time": "2022-09-04T09:09:50.301Z"
   },
   {
    "duration": 655,
    "start_time": "2022-09-04T09:09:52.347Z"
   },
   {
    "duration": 71921,
    "start_time": "2022-09-04T09:10:54.854Z"
   },
   {
    "duration": 19362,
    "start_time": "2022-09-04T09:12:06.777Z"
   },
   {
    "duration": 11,
    "start_time": "2022-09-04T09:12:26.141Z"
   },
   {
    "duration": 1654,
    "start_time": "2022-09-04T09:15:24.505Z"
   },
   {
    "duration": 736,
    "start_time": "2022-09-04T09:15:26.162Z"
   },
   {
    "duration": 10,
    "start_time": "2022-09-04T09:15:26.899Z"
   },
   {
    "duration": 8,
    "start_time": "2022-09-04T09:15:26.911Z"
   },
   {
    "duration": 45,
    "start_time": "2022-09-04T09:15:26.920Z"
   },
   {
    "duration": 7,
    "start_time": "2022-09-04T09:15:26.966Z"
   },
   {
    "duration": 7,
    "start_time": "2022-09-04T09:15:27.815Z"
   },
   {
    "duration": 210,
    "start_time": "2022-09-04T09:15:27.972Z"
   },
   {
    "duration": 11,
    "start_time": "2022-09-04T09:15:30.172Z"
   },
   {
    "duration": 32,
    "start_time": "2022-09-04T09:15:31.420Z"
   },
   {
    "duration": 8598,
    "start_time": "2022-09-04T09:15:35.351Z"
   },
   {
    "duration": 24,
    "start_time": "2022-09-04T09:15:43.951Z"
   },
   {
    "duration": 46,
    "start_time": "2022-09-04T09:15:43.976Z"
   },
   {
    "duration": 7,
    "start_time": "2022-09-04T09:15:44.023Z"
   },
   {
    "duration": 29,
    "start_time": "2022-09-04T09:15:44.031Z"
   },
   {
    "duration": 6,
    "start_time": "2022-09-04T09:15:44.063Z"
   },
   {
    "duration": 3,
    "start_time": "2022-09-04T09:15:52.215Z"
   },
   {
    "duration": 204,
    "start_time": "2022-09-04T09:15:53.427Z"
   },
   {
    "duration": 613,
    "start_time": "2022-09-04T09:15:54.380Z"
   },
   {
    "duration": 5,
    "start_time": "2022-09-04T09:16:06.270Z"
   },
   {
    "duration": 367,
    "start_time": "2022-09-04T09:16:08.293Z"
   },
   {
    "duration": 166,
    "start_time": "2022-09-04T09:16:10.377Z"
   },
   {
    "duration": 1121,
    "start_time": "2022-09-04T09:16:11.725Z"
   },
   {
    "duration": 98349,
    "start_time": "2022-09-04T09:16:15.128Z"
   },
   {
    "duration": 34306,
    "start_time": "2022-09-04T09:17:53.479Z"
   },
   {
    "duration": 11,
    "start_time": "2022-09-04T09:18:27.788Z"
   },
   {
    "duration": 1508,
    "start_time": "2022-09-04T09:19:31.722Z"
   },
   {
    "duration": 719,
    "start_time": "2022-09-04T09:19:33.232Z"
   },
   {
    "duration": 12,
    "start_time": "2022-09-04T09:19:33.952Z"
   },
   {
    "duration": 7,
    "start_time": "2022-09-04T09:19:33.965Z"
   },
   {
    "duration": 43,
    "start_time": "2022-09-04T09:19:33.974Z"
   },
   {
    "duration": 8,
    "start_time": "2022-09-04T09:19:34.019Z"
   },
   {
    "duration": 7,
    "start_time": "2022-09-04T09:19:34.029Z"
   },
   {
    "duration": 225,
    "start_time": "2022-09-04T09:19:34.058Z"
   },
   {
    "duration": 14,
    "start_time": "2022-09-04T09:19:35.008Z"
   },
   {
    "duration": 74,
    "start_time": "2022-09-04T09:19:35.181Z"
   },
   {
    "duration": 16370,
    "start_time": "2022-09-04T09:19:36.426Z"
   },
   {
    "duration": 47,
    "start_time": "2022-09-04T09:19:52.798Z"
   },
   {
    "duration": 98,
    "start_time": "2022-09-04T09:19:52.847Z"
   },
   {
    "duration": 15,
    "start_time": "2022-09-04T09:19:52.947Z"
   },
   {
    "duration": 25,
    "start_time": "2022-09-04T09:19:52.964Z"
   },
   {
    "duration": 11,
    "start_time": "2022-09-04T09:19:52.991Z"
   },
   {
    "duration": 6,
    "start_time": "2022-09-04T09:19:53.004Z"
   },
   {
    "duration": 164,
    "start_time": "2022-09-04T09:19:53.012Z"
   },
   {
    "duration": 1249,
    "start_time": "2022-09-04T09:19:53.177Z"
   },
   {
    "duration": 5,
    "start_time": "2022-09-04T09:19:54.428Z"
   },
   {
    "duration": 858,
    "start_time": "2022-09-04T09:19:54.434Z"
   },
   {
    "duration": 379,
    "start_time": "2022-09-04T09:19:55.293Z"
   },
   {
    "duration": 1733,
    "start_time": "2022-09-04T09:19:55.674Z"
   },
   {
    "duration": 183469,
    "start_time": "2022-09-04T09:19:57.409Z"
   },
   {
    "duration": 61591,
    "start_time": "2022-09-04T09:23:00.879Z"
   },
   {
    "duration": 16,
    "start_time": "2022-09-04T09:24:02.471Z"
   },
   {
    "duration": 1528,
    "start_time": "2022-09-04T09:37:20.036Z"
   },
   {
    "duration": 759,
    "start_time": "2022-09-04T09:37:21.565Z"
   },
   {
    "duration": 10,
    "start_time": "2022-09-04T09:37:22.326Z"
   },
   {
    "duration": 7,
    "start_time": "2022-09-04T09:37:22.338Z"
   },
   {
    "duration": 31,
    "start_time": "2022-09-04T09:37:22.357Z"
   },
   {
    "duration": 13,
    "start_time": "2022-09-04T09:37:22.390Z"
   },
   {
    "duration": 7,
    "start_time": "2022-09-04T09:37:22.405Z"
   },
   {
    "duration": 234,
    "start_time": "2022-09-04T09:37:22.413Z"
   },
   {
    "duration": 14,
    "start_time": "2022-09-04T09:37:22.740Z"
   },
   {
    "duration": 61,
    "start_time": "2022-09-04T09:37:23.136Z"
   },
   {
    "duration": 16406,
    "start_time": "2022-09-04T09:37:23.336Z"
   },
   {
    "duration": 56,
    "start_time": "2022-09-04T09:37:39.744Z"
   },
   {
    "duration": 108,
    "start_time": "2022-09-04T09:37:39.802Z"
   },
   {
    "duration": 8,
    "start_time": "2022-09-04T09:37:39.912Z"
   },
   {
    "duration": 12,
    "start_time": "2022-09-04T09:37:39.922Z"
   },
   {
    "duration": 35,
    "start_time": "2022-09-04T09:37:39.936Z"
   },
   {
    "duration": 4,
    "start_time": "2022-09-04T09:37:39.974Z"
   },
   {
    "duration": 132,
    "start_time": "2022-09-04T09:37:39.981Z"
   },
   {
    "duration": 496,
    "start_time": "2022-09-04T09:37:40.115Z"
   },
   {
    "duration": 6,
    "start_time": "2022-09-04T09:38:08.969Z"
   },
   {
    "duration": 154,
    "start_time": "2022-09-04T09:38:09.168Z"
   },
   {
    "duration": 73,
    "start_time": "2022-09-04T09:38:09.359Z"
   },
   {
    "duration": 1535,
    "start_time": "2022-09-04T09:38:25.828Z"
   },
   {
    "duration": 719,
    "start_time": "2022-09-04T09:38:27.365Z"
   },
   {
    "duration": 10,
    "start_time": "2022-09-04T09:38:28.085Z"
   },
   {
    "duration": 9,
    "start_time": "2022-09-04T09:38:28.097Z"
   },
   {
    "duration": 34,
    "start_time": "2022-09-04T09:38:28.108Z"
   },
   {
    "duration": 16,
    "start_time": "2022-09-04T09:38:28.144Z"
   },
   {
    "duration": 7,
    "start_time": "2022-09-04T09:38:28.161Z"
   },
   {
    "duration": 217,
    "start_time": "2022-09-04T09:38:29.031Z"
   },
   {
    "duration": 15,
    "start_time": "2022-09-04T09:38:39.089Z"
   },
   {
    "duration": 94,
    "start_time": "2022-09-04T09:38:40.552Z"
   },
   {
    "duration": 26245,
    "start_time": "2022-09-04T09:38:40.947Z"
   },
   {
    "duration": 91,
    "start_time": "2022-09-04T09:39:07.194Z"
   },
   {
    "duration": 167,
    "start_time": "2022-09-04T09:39:07.286Z"
   },
   {
    "duration": 6,
    "start_time": "2022-09-04T09:39:07.457Z"
   },
   {
    "duration": 12,
    "start_time": "2022-09-04T09:39:07.465Z"
   },
   {
    "duration": 7,
    "start_time": "2022-09-04T09:39:07.478Z"
   },
   {
    "duration": 3,
    "start_time": "2022-09-04T09:39:07.486Z"
   },
   {
    "duration": 130,
    "start_time": "2022-09-04T09:39:07.491Z"
   },
   {
    "duration": 2123,
    "start_time": "2022-09-04T09:39:07.623Z"
   },
   {
    "duration": 9,
    "start_time": "2022-09-04T09:39:09.749Z"
   },
   {
    "duration": 1655,
    "start_time": "2022-09-04T09:39:09.760Z"
   },
   {
    "duration": 648,
    "start_time": "2022-09-04T09:39:11.417Z"
   },
   {
    "duration": 2817,
    "start_time": "2022-09-04T09:39:12.067Z"
   },
   {
    "duration": 352609,
    "start_time": "2022-09-04T09:39:14.885Z"
   },
   {
    "duration": 91372,
    "start_time": "2022-09-04T09:45:07.495Z"
   },
   {
    "duration": 23,
    "start_time": "2022-09-04T09:46:38.869Z"
   },
   {
    "duration": 5143,
    "start_time": "2022-09-04T09:50:02.765Z"
   },
   {
    "duration": 12976,
    "start_time": "2022-09-04T09:50:17.346Z"
   },
   {
    "duration": 1559,
    "start_time": "2022-09-04T09:53:26.035Z"
   },
   {
    "duration": 735,
    "start_time": "2022-09-04T09:53:27.595Z"
   },
   {
    "duration": 9,
    "start_time": "2022-09-04T09:53:28.332Z"
   },
   {
    "duration": 16,
    "start_time": "2022-09-04T09:53:28.343Z"
   },
   {
    "duration": 34,
    "start_time": "2022-09-04T09:53:28.361Z"
   },
   {
    "duration": 7,
    "start_time": "2022-09-04T09:53:28.397Z"
   },
   {
    "duration": 9,
    "start_time": "2022-09-04T09:53:28.479Z"
   },
   {
    "duration": 231,
    "start_time": "2022-09-04T09:53:28.740Z"
   },
   {
    "duration": 16,
    "start_time": "2022-09-04T09:53:34.275Z"
   },
   {
    "duration": 242,
    "start_time": "2022-09-04T09:53:35.234Z"
   },
   {
    "duration": 39796,
    "start_time": "2022-09-04T09:53:35.478Z"
   },
   {
    "duration": 112,
    "start_time": "2022-09-04T09:54:15.276Z"
   },
   {
    "duration": 209,
    "start_time": "2022-09-04T09:54:15.391Z"
   },
   {
    "duration": 8,
    "start_time": "2022-09-04T09:54:15.602Z"
   },
   {
    "duration": 20,
    "start_time": "2022-09-04T09:54:15.611Z"
   },
   {
    "duration": 27,
    "start_time": "2022-09-04T09:54:15.634Z"
   },
   {
    "duration": 4,
    "start_time": "2022-09-04T09:54:15.663Z"
   },
   {
    "duration": 296,
    "start_time": "2022-09-04T09:54:15.669Z"
   },
   {
    "duration": 3135,
    "start_time": "2022-09-04T09:54:15.966Z"
   },
   {
    "duration": 5,
    "start_time": "2022-09-04T09:54:19.104Z"
   },
   {
    "duration": 2737,
    "start_time": "2022-09-04T09:54:19.111Z"
   },
   {
    "duration": 1002,
    "start_time": "2022-09-04T09:54:21.850Z"
   },
   {
    "duration": 3981,
    "start_time": "2022-09-04T09:54:22.857Z"
   },
   {
    "duration": 1739944,
    "start_time": "2022-09-04T09:54:26.840Z"
   },
   {
    "duration": 143504,
    "start_time": "2022-09-04T10:23:26.787Z"
   },
   {
    "duration": 30,
    "start_time": "2022-09-04T10:25:50.293Z"
   },
   {
    "duration": 1644,
    "start_time": "2022-09-04T10:27:36.170Z"
   },
   {
    "duration": 756,
    "start_time": "2022-09-04T10:27:37.816Z"
   },
   {
    "duration": 10,
    "start_time": "2022-09-04T10:27:38.574Z"
   },
   {
    "duration": 8,
    "start_time": "2022-09-04T10:27:38.586Z"
   },
   {
    "duration": 43,
    "start_time": "2022-09-04T10:27:38.596Z"
   },
   {
    "duration": 11,
    "start_time": "2022-09-04T10:27:38.669Z"
   },
   {
    "duration": 8,
    "start_time": "2022-09-04T10:27:38.850Z"
   },
   {
    "duration": 219,
    "start_time": "2022-09-04T10:27:39.385Z"
   },
   {
    "duration": 25,
    "start_time": "2022-09-04T10:27:44.832Z"
   },
   {
    "duration": 334,
    "start_time": "2022-09-04T10:27:45.732Z"
   },
   {
    "duration": 85182,
    "start_time": "2022-09-04T10:27:46.137Z"
   },
   {
    "duration": 205,
    "start_time": "2022-09-04T10:29:11.323Z"
   },
   {
    "duration": 443,
    "start_time": "2022-09-04T10:29:11.529Z"
   },
   {
    "duration": 9,
    "start_time": "2022-09-04T10:29:11.975Z"
   },
   {
    "duration": 33,
    "start_time": "2022-09-04T10:29:11.985Z"
   },
   {
    "duration": 10,
    "start_time": "2022-09-04T10:29:12.020Z"
   },
   {
    "duration": 28,
    "start_time": "2022-09-04T10:29:12.032Z"
   },
   {
    "duration": 213,
    "start_time": "2022-09-04T10:29:12.062Z"
   },
   {
    "duration": 7347,
    "start_time": "2022-09-04T10:29:12.276Z"
   },
   {
    "duration": 6,
    "start_time": "2022-09-04T10:29:19.627Z"
   },
   {
    "duration": 6873,
    "start_time": "2022-09-04T10:29:19.635Z"
   },
   {
    "duration": 2527,
    "start_time": "2022-09-04T10:32:16.814Z"
   },
   {
    "duration": 7665,
    "start_time": "2022-09-04T10:32:19.343Z"
   },
   {
    "duration": 2964694,
    "start_time": "2022-09-04T10:32:27.009Z"
   },
   {
    "duration": 1479,
    "start_time": "2022-09-04T11:22:03.496Z"
   },
   {
    "duration": 821,
    "start_time": "2022-09-04T11:22:04.977Z"
   },
   {
    "duration": 9,
    "start_time": "2022-09-04T11:22:05.800Z"
   },
   {
    "duration": 8,
    "start_time": "2022-09-04T11:22:05.811Z"
   },
   {
    "duration": 45,
    "start_time": "2022-09-04T11:22:05.821Z"
   },
   {
    "duration": 9,
    "start_time": "2022-09-04T11:22:05.867Z"
   },
   {
    "duration": 7,
    "start_time": "2022-09-04T11:22:05.877Z"
   },
   {
    "duration": 234,
    "start_time": "2022-09-04T11:22:05.885Z"
   },
   {
    "duration": 27,
    "start_time": "2022-09-04T11:22:17.056Z"
   },
   {
    "duration": 311,
    "start_time": "2022-09-04T11:22:18.065Z"
   },
   {
    "duration": 78954,
    "start_time": "2022-09-04T11:22:18.378Z"
   },
   {
    "duration": 189,
    "start_time": "2022-09-04T11:23:37.335Z"
   },
   {
    "duration": 362,
    "start_time": "2022-09-04T11:23:37.525Z"
   },
   {
    "duration": 7,
    "start_time": "2022-09-04T11:23:37.888Z"
   },
   {
    "duration": 25,
    "start_time": "2022-09-04T11:23:37.896Z"
   },
   {
    "duration": 41,
    "start_time": "2022-09-04T11:23:37.923Z"
   },
   {
    "duration": 4,
    "start_time": "2022-09-04T11:23:37.965Z"
   },
   {
    "duration": 210,
    "start_time": "2022-09-04T11:23:37.970Z"
   },
   {
    "duration": 2295,
    "start_time": "2022-09-04T11:23:38.182Z"
   },
   {
    "duration": 5,
    "start_time": "2022-09-04T11:23:40.480Z"
   },
   {
    "duration": 768,
    "start_time": "2022-09-04T11:23:40.487Z"
   },
   {
    "duration": 392,
    "start_time": "2022-09-04T11:28:30.803Z"
   },
   {
    "duration": 2647,
    "start_time": "2022-09-04T11:28:33.451Z"
   },
   {
    "duration": 32,
    "start_time": "2022-09-04T11:30:15.181Z"
   },
   {
    "duration": 1720,
    "start_time": "2022-09-04T11:30:23.695Z"
   },
   {
    "duration": 792,
    "start_time": "2022-09-04T11:30:25.418Z"
   },
   {
    "duration": 10,
    "start_time": "2022-09-04T11:30:26.211Z"
   },
   {
    "duration": 13,
    "start_time": "2022-09-04T11:30:26.223Z"
   },
   {
    "duration": 46,
    "start_time": "2022-09-04T11:30:26.238Z"
   },
   {
    "duration": 8,
    "start_time": "2022-09-04T11:30:26.285Z"
   },
   {
    "duration": 9,
    "start_time": "2022-09-04T11:30:26.296Z"
   },
   {
    "duration": 222,
    "start_time": "2022-09-04T11:30:26.384Z"
   },
   {
    "duration": 24,
    "start_time": "2022-09-04T11:30:28.277Z"
   },
   {
    "duration": 310,
    "start_time": "2022-09-04T11:30:28.454Z"
   },
   {
    "duration": 84728,
    "start_time": "2022-09-04T11:30:28.766Z"
   },
   {
    "duration": 181,
    "start_time": "2022-09-04T11:31:53.496Z"
   },
   {
    "duration": 368,
    "start_time": "2022-09-04T11:31:53.679Z"
   },
   {
    "duration": 16,
    "start_time": "2022-09-04T11:31:54.050Z"
   },
   {
    "duration": 36,
    "start_time": "2022-09-04T11:31:54.067Z"
   },
   {
    "duration": 24,
    "start_time": "2022-09-04T11:31:54.105Z"
   },
   {
    "duration": 4,
    "start_time": "2022-09-04T11:31:54.131Z"
   },
   {
    "duration": 209,
    "start_time": "2022-09-04T11:31:54.137Z"
   },
   {
    "duration": 3542,
    "start_time": "2022-09-04T11:31:54.348Z"
   },
   {
    "duration": 5,
    "start_time": "2022-09-04T11:31:57.893Z"
   },
   {
    "duration": 542,
    "start_time": "2022-09-04T11:31:57.899Z"
   },
   {
    "duration": 1569,
    "start_time": "2022-09-04T11:35:32.937Z"
   },
   {
    "duration": 729,
    "start_time": "2022-09-04T11:35:34.508Z"
   },
   {
    "duration": 23,
    "start_time": "2022-09-04T11:35:35.239Z"
   },
   {
    "duration": 42,
    "start_time": "2022-09-04T11:35:35.265Z"
   },
   {
    "duration": 56,
    "start_time": "2022-09-04T11:35:35.309Z"
   },
   {
    "duration": 28,
    "start_time": "2022-09-04T11:35:35.366Z"
   },
   {
    "duration": 28,
    "start_time": "2022-09-04T11:35:35.396Z"
   },
   {
    "duration": 221,
    "start_time": "2022-09-04T11:35:38.042Z"
   },
   {
    "duration": 24,
    "start_time": "2022-09-04T11:35:38.767Z"
   },
   {
    "duration": 338,
    "start_time": "2022-09-04T11:35:39.142Z"
   },
   {
    "duration": 86749,
    "start_time": "2022-09-04T11:35:39.482Z"
   },
   {
    "duration": 199,
    "start_time": "2022-09-04T11:37:06.234Z"
   },
   {
    "duration": 384,
    "start_time": "2022-09-04T11:37:06.436Z"
   },
   {
    "duration": 7,
    "start_time": "2022-09-04T11:37:06.822Z"
   },
   {
    "duration": 37,
    "start_time": "2022-09-04T11:37:06.831Z"
   },
   {
    "duration": 33,
    "start_time": "2022-09-04T11:37:06.870Z"
   },
   {
    "duration": 4,
    "start_time": "2022-09-04T11:37:06.905Z"
   },
   {
    "duration": 215,
    "start_time": "2022-09-04T11:37:06.911Z"
   },
   {
    "duration": 2344,
    "start_time": "2022-09-04T11:37:07.127Z"
   },
   {
    "duration": 6,
    "start_time": "2022-09-04T11:37:09.474Z"
   },
   {
    "duration": 1093,
    "start_time": "2022-09-04T11:37:09.482Z"
   },
   {
    "duration": 29,
    "start_time": "2022-09-04T11:38:02.641Z"
   },
   {
    "duration": 1588,
    "start_time": "2022-09-04T11:38:10.300Z"
   },
   {
    "duration": 789,
    "start_time": "2022-09-04T11:38:11.890Z"
   },
   {
    "duration": 12,
    "start_time": "2022-09-04T11:38:12.681Z"
   },
   {
    "duration": 8,
    "start_time": "2022-09-04T11:38:12.695Z"
   },
   {
    "duration": 36,
    "start_time": "2022-09-04T11:38:12.705Z"
   },
   {
    "duration": 8,
    "start_time": "2022-09-04T11:38:12.758Z"
   },
   {
    "duration": 11,
    "start_time": "2022-09-04T11:38:12.767Z"
   },
   {
    "duration": 247,
    "start_time": "2022-09-04T11:38:12.780Z"
   },
   {
    "duration": 31,
    "start_time": "2022-09-04T11:38:13.029Z"
   },
   {
    "duration": 346,
    "start_time": "2022-09-04T11:38:13.062Z"
   },
   {
    "duration": 81299,
    "start_time": "2022-09-04T11:38:13.410Z"
   },
   {
    "duration": 184,
    "start_time": "2022-09-04T11:39:34.712Z"
   },
   {
    "duration": 385,
    "start_time": "2022-09-04T11:39:34.897Z"
   },
   {
    "duration": 9,
    "start_time": "2022-09-04T11:39:35.285Z"
   },
   {
    "duration": 39,
    "start_time": "2022-09-04T11:39:35.296Z"
   },
   {
    "duration": 53,
    "start_time": "2022-09-04T11:39:35.338Z"
   },
   {
    "duration": 5,
    "start_time": "2022-09-04T11:39:35.393Z"
   },
   {
    "duration": 168,
    "start_time": "2022-09-04T11:39:35.399Z"
   },
   {
    "duration": 2653,
    "start_time": "2022-09-04T11:39:35.568Z"
   },
   {
    "duration": 5,
    "start_time": "2022-09-04T11:39:38.225Z"
   },
   {
    "duration": 757,
    "start_time": "2022-09-04T11:39:38.232Z"
   },
   {
    "duration": 1679,
    "start_time": "2022-09-04T11:59:58.373Z"
   },
   {
    "duration": 823,
    "start_time": "2022-09-04T12:00:00.054Z"
   },
   {
    "duration": 10,
    "start_time": "2022-09-04T12:00:00.879Z"
   },
   {
    "duration": 30,
    "start_time": "2022-09-04T12:00:00.892Z"
   },
   {
    "duration": 37,
    "start_time": "2022-09-04T12:00:00.924Z"
   },
   {
    "duration": 34,
    "start_time": "2022-09-04T12:00:00.965Z"
   },
   {
    "duration": 8,
    "start_time": "2022-09-04T12:00:01.001Z"
   },
   {
    "duration": 252,
    "start_time": "2022-09-04T12:00:01.395Z"
   },
   {
    "duration": 25,
    "start_time": "2022-09-04T12:00:02.375Z"
   },
   {
    "duration": 366,
    "start_time": "2022-09-04T12:00:02.584Z"
   },
   {
    "duration": 91718,
    "start_time": "2022-09-04T12:00:02.952Z"
   },
   {
    "duration": 220,
    "start_time": "2022-09-04T12:01:34.677Z"
   },
   {
    "duration": 433,
    "start_time": "2022-09-04T12:01:34.899Z"
   },
   {
    "duration": 8,
    "start_time": "2022-09-04T12:01:35.335Z"
   },
   {
    "duration": 111,
    "start_time": "2022-09-04T12:01:35.345Z"
   },
   {
    "duration": 85,
    "start_time": "2022-09-04T12:01:35.461Z"
   },
   {
    "duration": 5,
    "start_time": "2022-09-04T12:01:35.548Z"
   },
   {
    "duration": 293,
    "start_time": "2022-09-04T12:01:35.555Z"
   },
   {
    "duration": 2045,
    "start_time": "2022-09-04T12:01:35.850Z"
   },
   {
    "duration": 6,
    "start_time": "2022-09-04T12:01:37.899Z"
   },
   {
    "duration": 1106,
    "start_time": "2022-09-04T12:01:37.907Z"
   },
   {
    "duration": 26,
    "start_time": "2022-09-04T12:02:23.001Z"
   },
   {
    "duration": 1575,
    "start_time": "2022-09-04T12:02:46.009Z"
   },
   {
    "duration": 771,
    "start_time": "2022-09-04T12:02:47.586Z"
   },
   {
    "duration": 10,
    "start_time": "2022-09-04T12:02:48.369Z"
   },
   {
    "duration": 7,
    "start_time": "2022-09-04T12:02:48.381Z"
   },
   {
    "duration": 33,
    "start_time": "2022-09-04T12:02:48.390Z"
   },
   {
    "duration": 8,
    "start_time": "2022-09-04T12:02:48.425Z"
   },
   {
    "duration": 36,
    "start_time": "2022-09-04T12:02:48.435Z"
   },
   {
    "duration": 224,
    "start_time": "2022-09-04T12:02:48.473Z"
   },
   {
    "duration": 24,
    "start_time": "2022-09-04T12:02:48.699Z"
   },
   {
    "duration": 346,
    "start_time": "2022-09-04T12:02:48.726Z"
   },
   {
    "duration": 85409,
    "start_time": "2022-09-04T12:02:49.075Z"
   },
   {
    "duration": 194,
    "start_time": "2022-09-04T12:04:14.486Z"
   },
   {
    "duration": 360,
    "start_time": "2022-09-04T12:04:14.681Z"
   },
   {
    "duration": 7,
    "start_time": "2022-09-04T12:04:15.043Z"
   },
   {
    "duration": 41,
    "start_time": "2022-09-04T12:04:15.056Z"
   },
   {
    "duration": 33,
    "start_time": "2022-09-04T12:04:15.099Z"
   },
   {
    "duration": 4,
    "start_time": "2022-09-04T12:04:15.134Z"
   },
   {
    "duration": 214,
    "start_time": "2022-09-04T12:04:15.160Z"
   },
   {
    "duration": 2053,
    "start_time": "2022-09-04T12:04:15.375Z"
   },
   {
    "duration": 5,
    "start_time": "2022-09-04T12:04:17.429Z"
   },
   {
    "duration": 835,
    "start_time": "2022-09-04T12:04:17.435Z"
   },
   {
    "duration": 26,
    "start_time": "2022-09-04T12:05:08.891Z"
   },
   {
    "duration": 1530,
    "start_time": "2022-09-04T12:05:46.571Z"
   },
   {
    "duration": 732,
    "start_time": "2022-09-04T12:05:48.103Z"
   },
   {
    "duration": 10,
    "start_time": "2022-09-04T12:05:48.836Z"
   },
   {
    "duration": 13,
    "start_time": "2022-09-04T12:05:48.848Z"
   },
   {
    "duration": 39,
    "start_time": "2022-09-04T12:05:48.863Z"
   },
   {
    "duration": 7,
    "start_time": "2022-09-04T12:05:48.903Z"
   },
   {
    "duration": 8,
    "start_time": "2022-09-04T12:05:55.499Z"
   },
   {
    "duration": 215,
    "start_time": "2022-09-04T12:05:55.976Z"
   },
   {
    "duration": 24,
    "start_time": "2022-09-04T12:05:56.816Z"
   },
   {
    "duration": 318,
    "start_time": "2022-09-04T12:05:57.013Z"
   },
   {
    "duration": 81472,
    "start_time": "2022-09-04T12:05:57.586Z"
   },
   {
    "duration": 206,
    "start_time": "2022-09-04T12:07:19.060Z"
   },
   {
    "duration": 376,
    "start_time": "2022-09-04T12:07:19.268Z"
   },
   {
    "duration": 13,
    "start_time": "2022-09-04T12:07:19.646Z"
   },
   {
    "duration": 26,
    "start_time": "2022-09-04T12:07:19.660Z"
   },
   {
    "duration": 34,
    "start_time": "2022-09-04T12:07:19.688Z"
   },
   {
    "duration": 4,
    "start_time": "2022-09-04T12:07:19.723Z"
   },
   {
    "duration": 220,
    "start_time": "2022-09-04T12:07:19.729Z"
   },
   {
    "duration": 1480,
    "start_time": "2022-09-04T12:07:19.951Z"
   },
   {
    "duration": 5,
    "start_time": "2022-09-04T12:07:21.434Z"
   },
   {
    "duration": 948,
    "start_time": "2022-09-04T12:07:21.441Z"
   },
   {
    "duration": 1646,
    "start_time": "2022-09-04T12:11:01.931Z"
   },
   {
    "duration": 775,
    "start_time": "2022-09-04T12:11:03.578Z"
   },
   {
    "duration": 21,
    "start_time": "2022-09-04T12:11:04.355Z"
   },
   {
    "duration": 7,
    "start_time": "2022-09-04T12:11:04.378Z"
   },
   {
    "duration": 32,
    "start_time": "2022-09-04T12:11:04.387Z"
   },
   {
    "duration": 22,
    "start_time": "2022-09-04T12:11:04.421Z"
   },
   {
    "duration": 22,
    "start_time": "2022-09-04T12:11:04.445Z"
   },
   {
    "duration": 273,
    "start_time": "2022-09-04T12:11:04.470Z"
   },
   {
    "duration": 35,
    "start_time": "2022-09-04T12:11:04.744Z"
   },
   {
    "duration": 348,
    "start_time": "2022-09-04T12:11:04.781Z"
   },
   {
    "duration": 87777,
    "start_time": "2022-09-04T12:11:05.131Z"
   },
   {
    "duration": 202,
    "start_time": "2022-09-04T12:12:32.909Z"
   },
   {
    "duration": 398,
    "start_time": "2022-09-04T12:12:33.112Z"
   },
   {
    "duration": 6,
    "start_time": "2022-09-04T12:12:33.513Z"
   },
   {
    "duration": 42,
    "start_time": "2022-09-04T12:12:33.521Z"
   },
   {
    "duration": 51,
    "start_time": "2022-09-04T12:12:33.565Z"
   },
   {
    "duration": 4,
    "start_time": "2022-09-04T12:12:33.617Z"
   },
   {
    "duration": 179,
    "start_time": "2022-09-04T12:12:33.622Z"
   },
   {
    "duration": 2947,
    "start_time": "2022-09-04T12:12:33.803Z"
   },
   {
    "duration": 16,
    "start_time": "2022-09-04T12:12:36.751Z"
   },
   {
    "duration": 1937,
    "start_time": "2022-09-04T12:12:36.770Z"
   },
   {
    "duration": 28,
    "start_time": "2022-09-04T12:20:56.854Z"
   },
   {
    "duration": 1722,
    "start_time": "2022-09-04T12:21:11.597Z"
   },
   {
    "duration": 792,
    "start_time": "2022-09-04T12:21:13.321Z"
   },
   {
    "duration": 9,
    "start_time": "2022-09-04T12:21:14.115Z"
   },
   {
    "duration": 7,
    "start_time": "2022-09-04T12:21:14.125Z"
   },
   {
    "duration": 52,
    "start_time": "2022-09-04T12:21:14.134Z"
   },
   {
    "duration": 7,
    "start_time": "2022-09-04T12:21:14.188Z"
   },
   {
    "duration": 6,
    "start_time": "2022-09-04T12:21:14.196Z"
   },
   {
    "duration": 235,
    "start_time": "2022-09-04T12:21:14.203Z"
   },
   {
    "duration": 39,
    "start_time": "2022-09-04T12:21:14.439Z"
   },
   {
    "duration": 159,
    "start_time": "2022-09-04T12:21:14.480Z"
   },
   {
    "duration": 41814,
    "start_time": "2022-09-04T12:21:14.641Z"
   },
   {
    "duration": 92,
    "start_time": "2022-09-04T12:21:56.458Z"
   },
   {
    "duration": 186,
    "start_time": "2022-09-04T12:21:56.557Z"
   },
   {
    "duration": 14,
    "start_time": "2022-09-04T12:21:56.745Z"
   },
   {
    "duration": 29,
    "start_time": "2022-09-04T12:21:56.760Z"
   },
   {
    "duration": 24,
    "start_time": "2022-09-04T12:21:56.791Z"
   },
   {
    "duration": 3,
    "start_time": "2022-09-04T12:21:56.817Z"
   },
   {
    "duration": 346,
    "start_time": "2022-09-04T12:21:56.821Z"
   },
   {
    "duration": 1353,
    "start_time": "2022-09-04T12:21:57.169Z"
   },
   {
    "duration": 5,
    "start_time": "2022-09-04T12:21:58.524Z"
   },
   {
    "duration": 683,
    "start_time": "2022-09-04T12:21:58.531Z"
   },
   {
    "duration": 341,
    "start_time": "2022-09-04T12:21:59.215Z"
   },
   {
    "duration": 17,
    "start_time": "2022-09-04T12:45:34.964Z"
   },
   {
    "duration": 1615,
    "start_time": "2022-09-04T12:46:19.654Z"
   },
   {
    "duration": 742,
    "start_time": "2022-09-04T12:46:21.272Z"
   },
   {
    "duration": 11,
    "start_time": "2022-09-04T12:46:22.016Z"
   },
   {
    "duration": 12,
    "start_time": "2022-09-04T12:46:22.030Z"
   },
   {
    "duration": 36,
    "start_time": "2022-09-04T12:46:22.056Z"
   },
   {
    "duration": 8,
    "start_time": "2022-09-04T12:46:22.094Z"
   },
   {
    "duration": 8,
    "start_time": "2022-09-04T12:46:22.104Z"
   },
   {
    "duration": 238,
    "start_time": "2022-09-04T12:46:22.114Z"
   },
   {
    "duration": 18,
    "start_time": "2022-09-04T12:46:22.357Z"
   },
   {
    "duration": 161,
    "start_time": "2022-09-04T12:46:22.377Z"
   },
   {
    "duration": 38659,
    "start_time": "2022-09-04T12:46:22.540Z"
   },
   {
    "duration": 102,
    "start_time": "2022-09-04T12:47:01.201Z"
   },
   {
    "duration": 186,
    "start_time": "2022-09-04T12:47:01.305Z"
   },
   {
    "duration": 7,
    "start_time": "2022-09-04T12:47:01.492Z"
   },
   {
    "duration": 56,
    "start_time": "2022-09-04T12:47:01.500Z"
   },
   {
    "duration": 26,
    "start_time": "2022-09-04T12:47:01.557Z"
   },
   {
    "duration": 3,
    "start_time": "2022-09-04T12:47:01.586Z"
   },
   {
    "duration": 369,
    "start_time": "2022-09-04T12:47:01.591Z"
   },
   {
    "duration": 1138,
    "start_time": "2022-09-04T12:47:01.962Z"
   },
   {
    "duration": 5,
    "start_time": "2022-09-04T12:47:03.102Z"
   },
   {
    "duration": 732,
    "start_time": "2022-09-04T12:47:03.108Z"
   },
   {
    "duration": 296,
    "start_time": "2022-09-04T12:47:03.842Z"
   },
   {
    "duration": 1651,
    "start_time": "2022-09-04T12:53:04.549Z"
   },
   {
    "duration": 786,
    "start_time": "2022-09-04T12:53:11.304Z"
   },
   {
    "duration": 10,
    "start_time": "2022-09-04T12:53:12.144Z"
   },
   {
    "duration": 8,
    "start_time": "2022-09-04T12:53:12.780Z"
   },
   {
    "duration": 33,
    "start_time": "2022-09-04T12:53:12.984Z"
   },
   {
    "duration": 9,
    "start_time": "2022-09-04T12:53:13.169Z"
   },
   {
    "duration": 9,
    "start_time": "2022-09-04T12:53:13.346Z"
   },
   {
    "duration": 214,
    "start_time": "2022-09-04T12:53:14.280Z"
   },
   {
    "duration": 20,
    "start_time": "2022-09-04T12:53:14.901Z"
   },
   {
    "duration": 237,
    "start_time": "2022-09-04T12:53:15.095Z"
   },
   {
    "duration": 53112,
    "start_time": "2022-09-04T12:53:15.334Z"
   },
   {
    "duration": 177,
    "start_time": "2022-09-04T12:54:08.448Z"
   },
   {
    "duration": 353,
    "start_time": "2022-09-04T12:54:08.626Z"
   },
   {
    "duration": 7,
    "start_time": "2022-09-04T12:54:08.981Z"
   },
   {
    "duration": 20,
    "start_time": "2022-09-04T12:54:08.989Z"
   },
   {
    "duration": 48,
    "start_time": "2022-09-04T12:54:09.010Z"
   },
   {
    "duration": 3,
    "start_time": "2022-09-04T12:54:09.060Z"
   },
   {
    "duration": 174,
    "start_time": "2022-09-04T12:54:09.064Z"
   },
   {
    "duration": 1950,
    "start_time": "2022-09-04T12:54:09.239Z"
   },
   {
    "duration": 5,
    "start_time": "2022-09-04T12:54:11.192Z"
   },
   {
    "duration": 1600,
    "start_time": "2022-09-04T12:54:11.198Z"
   },
   {
    "duration": 1459,
    "start_time": "2022-09-04T12:55:41.307Z"
   },
   {
    "duration": 711,
    "start_time": "2022-09-04T12:55:42.768Z"
   },
   {
    "duration": 10,
    "start_time": "2022-09-04T12:55:43.480Z"
   },
   {
    "duration": 14,
    "start_time": "2022-09-04T12:55:43.492Z"
   },
   {
    "duration": 42,
    "start_time": "2022-09-04T12:55:43.508Z"
   },
   {
    "duration": 21,
    "start_time": "2022-09-04T12:55:43.551Z"
   },
   {
    "duration": 13,
    "start_time": "2022-09-04T12:55:43.574Z"
   },
   {
    "duration": 233,
    "start_time": "2022-09-04T12:55:43.589Z"
   },
   {
    "duration": 24,
    "start_time": "2022-09-04T12:55:44.472Z"
   },
   {
    "duration": 313,
    "start_time": "2022-09-04T12:55:44.622Z"
   },
   {
    "duration": 77164,
    "start_time": "2022-09-04T12:55:45.720Z"
   },
   {
    "duration": 191,
    "start_time": "2022-09-04T12:57:02.887Z"
   },
   {
    "duration": 382,
    "start_time": "2022-09-04T12:57:03.079Z"
   },
   {
    "duration": 6,
    "start_time": "2022-09-04T12:57:03.463Z"
   },
   {
    "duration": 25,
    "start_time": "2022-09-04T12:57:03.471Z"
   },
   {
    "duration": 39,
    "start_time": "2022-09-04T12:57:03.498Z"
   },
   {
    "duration": 3,
    "start_time": "2022-09-04T12:57:03.558Z"
   },
   {
    "duration": 334,
    "start_time": "2022-09-04T12:57:03.563Z"
   },
   {
    "duration": 2837,
    "start_time": "2022-09-04T12:57:03.899Z"
   },
   {
    "duration": 5,
    "start_time": "2022-09-04T12:57:41.849Z"
   },
   {
    "duration": 2565,
    "start_time": "2022-09-04T12:57:43.890Z"
   },
   {
    "duration": 1615,
    "start_time": "2022-09-04T12:59:22.314Z"
   },
   {
    "duration": 750,
    "start_time": "2022-09-04T12:59:23.931Z"
   },
   {
    "duration": 10,
    "start_time": "2022-09-04T12:59:24.683Z"
   },
   {
    "duration": 7,
    "start_time": "2022-09-04T12:59:24.695Z"
   },
   {
    "duration": 38,
    "start_time": "2022-09-04T12:59:24.704Z"
   },
   {
    "duration": 18,
    "start_time": "2022-09-04T12:59:24.744Z"
   },
   {
    "duration": 7,
    "start_time": "2022-09-04T12:59:24.764Z"
   },
   {
    "duration": 250,
    "start_time": "2022-09-04T12:59:24.773Z"
   },
   {
    "duration": 37,
    "start_time": "2022-09-04T12:59:25.025Z"
   },
   {
    "duration": 367,
    "start_time": "2022-09-04T12:59:25.064Z"
   },
   {
    "duration": 80916,
    "start_time": "2022-09-04T12:59:25.433Z"
   },
   {
    "duration": 196,
    "start_time": "2022-09-04T13:00:46.351Z"
   },
   {
    "duration": 352,
    "start_time": "2022-09-04T13:00:46.550Z"
   },
   {
    "duration": 7,
    "start_time": "2022-09-04T13:00:46.904Z"
   },
   {
    "duration": 27,
    "start_time": "2022-09-04T13:00:46.913Z"
   },
   {
    "duration": 47,
    "start_time": "2022-09-04T13:00:46.942Z"
   },
   {
    "duration": 4,
    "start_time": "2022-09-04T13:00:46.990Z"
   },
   {
    "duration": 152,
    "start_time": "2022-09-04T13:00:46.995Z"
   },
   {
    "duration": 2171,
    "start_time": "2022-09-04T13:00:47.148Z"
   },
   {
    "duration": 5,
    "start_time": "2022-09-04T13:00:49.320Z"
   },
   {
    "duration": 1597,
    "start_time": "2022-09-04T13:00:49.328Z"
   },
   {
    "duration": 4,
    "start_time": "2022-09-04T13:03:36.268Z"
   },
   {
    "duration": 325194,
    "start_time": "2022-09-04T13:03:37.974Z"
   },
   {
    "duration": 58601,
    "start_time": "2022-09-04T13:09:03.256Z"
   },
   {
    "duration": 146440,
    "start_time": "2022-09-04T13:10:01.860Z"
   },
   {
    "duration": 6,
    "start_time": "2022-09-04T13:14:08.112Z"
   },
   {
    "duration": 30571,
    "start_time": "2022-09-04T13:14:08.918Z"
   },
   {
    "duration": 7194,
    "start_time": "2022-09-04T13:14:39.492Z"
   },
   {
    "duration": 1630,
    "start_time": "2022-09-04T13:14:46.689Z"
   },
   {
    "duration": 820256,
    "start_time": "2022-09-04T13:15:08.408Z"
   },
   {
    "duration": 99445,
    "start_time": "2022-09-04T13:28:48.666Z"
   },
   {
    "duration": 2406688,
    "start_time": "2022-09-04T13:30:28.114Z"
   },
   {
    "duration": 1079780,
    "start_time": "2022-09-04T14:10:34.857Z"
   },
   {
    "duration": 26993,
    "start_time": "2022-09-04T14:28:34.638Z"
   },
   {
    "duration": 44,
    "start_time": "2022-09-04T14:29:01.633Z"
   },
   {
    "duration": 1632,
    "start_time": "2022-09-04T14:35:22.498Z"
   },
   {
    "duration": 769,
    "start_time": "2022-09-04T14:35:24.132Z"
   },
   {
    "duration": 11,
    "start_time": "2022-09-04T14:35:24.902Z"
   },
   {
    "duration": 7,
    "start_time": "2022-09-04T14:35:24.914Z"
   },
   {
    "duration": 50,
    "start_time": "2022-09-04T14:35:24.923Z"
   },
   {
    "duration": 9,
    "start_time": "2022-09-04T14:35:24.974Z"
   },
   {
    "duration": 7,
    "start_time": "2022-09-04T14:35:24.985Z"
   },
   {
    "duration": 260,
    "start_time": "2022-09-04T14:35:24.994Z"
   },
   {
    "duration": 2,
    "start_time": "2022-09-04T14:35:25.256Z"
   },
   {
    "duration": 323,
    "start_time": "2022-09-04T14:35:25.259Z"
   },
   {
    "duration": 85430,
    "start_time": "2022-09-04T14:35:25.584Z"
   },
   {
    "duration": 186,
    "start_time": "2022-09-04T14:36:51.017Z"
   },
   {
    "duration": 393,
    "start_time": "2022-09-04T14:36:51.205Z"
   },
   {
    "duration": 6,
    "start_time": "2022-09-04T14:36:51.601Z"
   },
   {
    "duration": 26,
    "start_time": "2022-09-04T14:36:51.609Z"
   },
   {
    "duration": 56,
    "start_time": "2022-09-04T14:36:51.636Z"
   },
   {
    "duration": 4,
    "start_time": "2022-09-04T14:36:51.694Z"
   },
   {
    "duration": 213,
    "start_time": "2022-09-04T14:36:51.700Z"
   },
   {
    "duration": 2322,
    "start_time": "2022-09-04T14:36:51.915Z"
   },
   {
    "duration": 5,
    "start_time": "2022-09-04T14:36:54.238Z"
   },
   {
    "duration": 356432,
    "start_time": "2022-09-04T14:36:54.245Z"
   },
   {
    "duration": 77746,
    "start_time": "2022-09-04T14:42:50.679Z"
   },
   {
    "duration": 152564,
    "start_time": "2022-09-04T14:44:08.427Z"
   },
   {
    "duration": 3709976,
    "start_time": "2022-09-04T14:46:40.993Z"
   },
   {
    "duration": 377399,
    "start_time": "2022-09-04T15:48:30.973Z"
   },
   {
    "duration": 24730,
    "start_time": "2022-09-04T15:54:48.374Z"
   },
   {
    "duration": 6,
    "start_time": "2022-09-04T15:55:13.106Z"
   },
   {
    "duration": 24367,
    "start_time": "2022-09-04T15:55:13.114Z"
   },
   {
    "duration": 7488,
    "start_time": "2022-09-04T15:55:37.483Z"
   },
   {
    "duration": 1681,
    "start_time": "2022-09-04T15:55:44.973Z"
   },
   {
    "duration": 305821,
    "start_time": "2022-09-04T15:55:46.657Z"
   },
   {
    "duration": 94442,
    "start_time": "2022-09-04T16:00:52.481Z"
   },
   {
    "duration": 33,
    "start_time": "2022-09-04T16:02:26.925Z"
   },
   {
    "duration": 29,
    "start_time": "2022-09-04T16:09:24.612Z"
   },
   {
    "duration": 145621,
    "start_time": "2022-09-04T16:25:11.836Z"
   },
   {
    "duration": 195006,
    "start_time": "2022-09-04T16:27:37.459Z"
   },
   {
    "duration": 62771,
    "start_time": "2022-09-04T16:30:52.467Z"
   },
   {
    "duration": 1626,
    "start_time": "2022-09-04T16:36:39.958Z"
   },
   {
    "duration": 850,
    "start_time": "2022-09-04T16:46:05.154Z"
   },
   {
    "duration": 720,
    "start_time": "2022-09-04T16:46:11.095Z"
   },
   {
    "duration": 1670318,
    "start_time": "2022-09-04T16:52:04.967Z"
   },
   {
    "duration": 1754,
    "start_time": "2022-09-04T17:19:55.288Z"
   },
   {
    "duration": 4327,
    "start_time": "2022-09-04T17:19:57.044Z"
   },
   {
    "duration": 28898,
    "start_time": "2022-09-04T17:20:01.373Z"
   },
   {
    "duration": 103,
    "start_time": "2022-09-04T17:20:30.273Z"
   },
   {
    "duration": 7,
    "start_time": "2022-09-04T17:21:37.534Z"
   },
   {
    "duration": 96850,
    "start_time": "2022-09-04T17:21:46.217Z"
   },
   {
    "duration": 30600,
    "start_time": "2022-09-04T17:23:23.069Z"
   },
   {
    "duration": 7800,
    "start_time": "2022-09-04T17:23:53.671Z"
   },
   {
    "duration": 1791,
    "start_time": "2022-09-04T17:24:01.474Z"
   },
   {
    "duration": 36086,
    "start_time": "2022-09-04T17:24:03.266Z"
   },
   {
    "duration": 26495,
    "start_time": "2022-09-04T17:24:45.194Z"
   },
   {
    "duration": 3299,
    "start_time": "2022-09-04T17:25:32.264Z"
   },
   {
    "duration": 1557,
    "start_time": "2022-09-04T17:25:43.552Z"
   },
   {
    "duration": 1625,
    "start_time": "2022-09-04T17:25:52.602Z"
   },
   {
    "duration": 1563,
    "start_time": "2022-09-04T17:27:32.483Z"
   },
   {
    "duration": 723,
    "start_time": "2022-09-04T17:27:34.047Z"
   },
   {
    "duration": 9,
    "start_time": "2022-09-04T17:27:34.772Z"
   },
   {
    "duration": 8,
    "start_time": "2022-09-04T17:27:34.782Z"
   },
   {
    "duration": 31,
    "start_time": "2022-09-04T17:27:34.792Z"
   },
   {
    "duration": 7,
    "start_time": "2022-09-04T17:27:34.825Z"
   },
   {
    "duration": 7,
    "start_time": "2022-09-04T17:27:34.857Z"
   },
   {
    "duration": 229,
    "start_time": "2022-09-04T17:27:34.866Z"
   },
   {
    "duration": 3,
    "start_time": "2022-09-04T17:27:35.097Z"
   },
   {
    "duration": 324,
    "start_time": "2022-09-04T17:27:35.102Z"
   },
   {
    "duration": 78752,
    "start_time": "2022-09-04T17:27:35.428Z"
   },
   {
    "duration": 178,
    "start_time": "2022-09-04T17:28:54.183Z"
   },
   {
    "duration": 359,
    "start_time": "2022-09-04T17:28:54.362Z"
   },
   {
    "duration": 6,
    "start_time": "2022-09-04T17:28:54.725Z"
   },
   {
    "duration": 45,
    "start_time": "2022-09-04T17:28:54.733Z"
   },
   {
    "duration": 43,
    "start_time": "2022-09-04T17:28:54.779Z"
   },
   {
    "duration": 3,
    "start_time": "2022-09-04T17:28:54.824Z"
   },
   {
    "duration": 248,
    "start_time": "2022-09-04T17:28:54.829Z"
   },
   {
    "duration": 2279,
    "start_time": "2022-09-04T17:28:55.079Z"
   },
   {
    "duration": 4,
    "start_time": "2022-09-04T17:28:57.360Z"
   },
   {
    "duration": 242103,
    "start_time": "2022-09-04T17:28:57.366Z"
   },
   {
    "duration": 55700,
    "start_time": "2022-09-04T17:32:59.471Z"
   },
   {
    "duration": 149140,
    "start_time": "2022-09-04T17:33:55.174Z"
   },
   {
    "duration": 4307868,
    "start_time": "2022-09-04T17:36:24.316Z"
   },
   {
    "duration": 1888,
    "start_time": "2022-09-04T18:49:23.922Z"
   },
   {
    "duration": 816,
    "start_time": "2022-09-04T18:49:25.813Z"
   },
   {
    "duration": 11,
    "start_time": "2022-09-04T18:49:26.630Z"
   },
   {
    "duration": 34,
    "start_time": "2022-09-04T18:49:26.643Z"
   },
   {
    "duration": 51,
    "start_time": "2022-09-04T18:49:26.686Z"
   },
   {
    "duration": 9,
    "start_time": "2022-09-04T18:49:26.739Z"
   },
   {
    "duration": 16,
    "start_time": "2022-09-04T18:49:26.750Z"
   },
   {
    "duration": 250,
    "start_time": "2022-09-04T18:49:26.767Z"
   },
   {
    "duration": 2,
    "start_time": "2022-09-04T18:49:27.019Z"
   },
   {
    "duration": 349,
    "start_time": "2022-09-04T18:49:27.023Z"
   },
   {
    "duration": 91671,
    "start_time": "2022-09-04T18:49:27.377Z"
   },
   {
    "duration": 196,
    "start_time": "2022-09-04T18:50:59.049Z"
   },
   {
    "duration": 395,
    "start_time": "2022-09-04T18:50:59.247Z"
   },
   {
    "duration": 7,
    "start_time": "2022-09-04T18:50:59.644Z"
   },
   {
    "duration": 55,
    "start_time": "2022-09-04T18:50:59.657Z"
   },
   {
    "duration": 35,
    "start_time": "2022-09-04T18:50:59.714Z"
   },
   {
    "duration": 3,
    "start_time": "2022-09-04T18:50:59.751Z"
   },
   {
    "duration": 200,
    "start_time": "2022-09-04T18:50:59.755Z"
   },
   {
    "duration": 2824,
    "start_time": "2022-09-04T18:50:59.956Z"
   },
   {
    "duration": 5,
    "start_time": "2022-09-04T18:51:02.782Z"
   },
   {
    "duration": 335554,
    "start_time": "2022-09-04T18:51:02.789Z"
   },
   {
    "duration": 83272,
    "start_time": "2022-09-04T18:56:38.345Z"
   },
   {
    "duration": 175116,
    "start_time": "2022-09-04T18:58:01.619Z"
   },
   {
    "duration": 1466987,
    "start_time": "2022-09-04T19:00:56.738Z"
   },
   {
    "duration": 1593,
    "start_time": "2022-09-04T19:34:25.722Z"
   },
   {
    "duration": 753,
    "start_time": "2022-09-04T19:34:27.317Z"
   },
   {
    "duration": 11,
    "start_time": "2022-09-04T19:34:28.072Z"
   },
   {
    "duration": 6,
    "start_time": "2022-09-04T19:34:28.084Z"
   },
   {
    "duration": 33,
    "start_time": "2022-09-04T19:34:28.092Z"
   },
   {
    "duration": 6,
    "start_time": "2022-09-04T19:34:28.127Z"
   },
   {
    "duration": 24,
    "start_time": "2022-09-04T19:34:28.135Z"
   },
   {
    "duration": 225,
    "start_time": "2022-09-04T19:34:28.160Z"
   },
   {
    "duration": 2,
    "start_time": "2022-09-04T19:34:28.387Z"
   },
   {
    "duration": 282,
    "start_time": "2022-09-04T19:34:28.390Z"
   },
   {
    "duration": 81956,
    "start_time": "2022-09-04T19:34:28.674Z"
   },
   {
    "duration": 186,
    "start_time": "2022-09-04T19:35:50.632Z"
   },
   {
    "duration": 369,
    "start_time": "2022-09-04T19:35:50.820Z"
   },
   {
    "duration": 6,
    "start_time": "2022-09-04T19:35:51.192Z"
   },
   {
    "duration": 24,
    "start_time": "2022-09-04T19:35:51.200Z"
   },
   {
    "duration": 59,
    "start_time": "2022-09-04T19:35:51.226Z"
   },
   {
    "duration": 4,
    "start_time": "2022-09-04T19:35:51.286Z"
   },
   {
    "duration": 139,
    "start_time": "2022-09-04T19:35:51.291Z"
   },
   {
    "duration": 2338,
    "start_time": "2022-09-04T19:35:51.432Z"
   },
   {
    "duration": 4,
    "start_time": "2022-09-04T19:35:53.772Z"
   },
   {
    "duration": 207600,
    "start_time": "2022-09-04T19:35:53.777Z"
   },
   {
    "duration": 53217,
    "start_time": "2022-09-04T19:39:21.379Z"
   },
   {
    "duration": 143205,
    "start_time": "2022-09-04T19:40:14.598Z"
   },
   {
    "duration": 1975089,
    "start_time": "2022-09-04T19:42:37.805Z"
   },
   {
    "duration": 383989,
    "start_time": "2022-09-04T20:15:32.898Z"
   },
   {
    "duration": 25325,
    "start_time": "2022-09-04T20:21:56.888Z"
   },
   {
    "duration": 5,
    "start_time": "2022-09-04T20:22:22.215Z"
   },
   {
    "duration": 27253,
    "start_time": "2022-09-04T20:22:22.222Z"
   },
   {
    "duration": 6388,
    "start_time": "2022-09-04T20:22:49.477Z"
   },
   {
    "duration": 1614,
    "start_time": "2022-09-04T20:22:55.866Z"
   },
   {
    "duration": 498526,
    "start_time": "2022-09-04T20:22:57.482Z"
   },
   {
    "duration": 93081,
    "start_time": "2022-09-04T20:31:16.058Z"
   },
   {
    "duration": 33,
    "start_time": "2022-09-04T20:32:49.141Z"
   }
  ],
  "kernelspec": {
   "display_name": "Python 3 (ipykernel)",
   "language": "python",
   "name": "python3"
  },
  "language_info": {
   "codemirror_mode": {
    "name": "ipython",
    "version": 3
   },
   "file_extension": ".py",
   "mimetype": "text/x-python",
   "name": "python",
   "nbconvert_exporter": "python",
   "pygments_lexer": "ipython3",
   "version": "3.9.5"
  },
  "toc": {
   "base_numbering": 1,
   "nav_menu": {},
   "number_sections": true,
   "sideBar": true,
   "skip_h1_title": true,
   "title_cell": "Содержание",
   "title_sidebar": "Содержание",
   "toc_cell": true,
   "toc_position": {
    "height": "calc(100% - 180px)",
    "left": "10px",
    "top": "150px",
    "width": "302.388px"
   },
   "toc_section_display": true,
   "toc_window_display": true
  }
 },
 "nbformat": 4,
 "nbformat_minor": 2
}
