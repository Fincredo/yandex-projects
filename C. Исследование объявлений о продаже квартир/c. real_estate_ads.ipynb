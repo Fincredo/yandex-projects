{
 "cells": [
  {
   "cell_type": "markdown",
   "metadata": {},
   "source": [
    "# Исследование объявлений о продаже квартир"
   ]
  },
  {
   "cell_type": "markdown",
   "metadata": {
    "toc": true
   },
   "source": [
    "<h1>Содержание<span class=\"tocSkip\"></span></h1>\n",
    "<div class=\"toc\"><ul class=\"toc-item\"><li><span><a href=\"#Описание-проекта\" data-toc-modified-id=\"Описание-проекта-1\"><span class=\"toc-item-num\">1&nbsp;&nbsp;</span>Описание проекта</a></span></li><li><span><a href=\"#Изучение-данных\" data-toc-modified-id=\"Изучение-данных-2\"><span class=\"toc-item-num\">2&nbsp;&nbsp;</span>Изучение данных</a></span></li><li><span><a href=\"#Предобработка-данных\" data-toc-modified-id=\"Предобработка-данных-3\"><span class=\"toc-item-num\">3&nbsp;&nbsp;</span>Предобработка данных</a></span><ul class=\"toc-item\"><li><span><a href=\"#Пропущенные-значения\" data-toc-modified-id=\"Пропущенные-значения-3.1\"><span class=\"toc-item-num\">3.1&nbsp;&nbsp;</span>Пропущенные значения</a></span><ul class=\"toc-item\"><li><span><a href=\"#Высота-потолков\" data-toc-modified-id=\"Высота-потолков-3.1.1\"><span class=\"toc-item-num\">3.1.1&nbsp;&nbsp;</span>Высота потолков</a></span></li><li><span><a href=\"#Апартаменты\" data-toc-modified-id=\"Апартаменты-3.1.2\"><span class=\"toc-item-num\">3.1.2&nbsp;&nbsp;</span>Апартаменты</a></span></li><li><span><a href=\"#Количество-балконов\" data-toc-modified-id=\"Количество-балконов-3.1.3\"><span class=\"toc-item-num\">3.1.3&nbsp;&nbsp;</span>Количество балконов</a></span></li><li><span><a href=\"#Количество-парков-и-прудов.-Близость-к-паркам,-прудам,-аэропортам,-центру\" data-toc-modified-id=\"Количество-парков-и-прудов.-Близость-к-паркам,-прудам,-аэропортам,-центру-3.1.4\"><span class=\"toc-item-num\">3.1.4&nbsp;&nbsp;</span>Количество парков и прудов. Близость к паркам, прудам, аэропортам, центру</a></span></li><li><span><a href=\"#Жилая-площадь-и-площадь-кухни\" data-toc-modified-id=\"Жилая-площадь-и-площадь-кухни-3.1.5\"><span class=\"toc-item-num\">3.1.5&nbsp;&nbsp;</span>Жилая площадь и площадь кухни</a></span></li><li><span><a href=\"#Этажность\" data-toc-modified-id=\"Этажность-3.1.6\"><span class=\"toc-item-num\">3.1.6&nbsp;&nbsp;</span>Этажность</a></span></li><li><span><a href=\"#Название-населенного-пункта\" data-toc-modified-id=\"Название-населенного-пункта-3.1.7\"><span class=\"toc-item-num\">3.1.7&nbsp;&nbsp;</span>Название населенного пункта</a></span></li><li><span><a href=\"#Длительность-размещения-объявления\" data-toc-modified-id=\"Длительность-размещения-объявления-3.1.8\"><span class=\"toc-item-num\">3.1.8&nbsp;&nbsp;</span>Длительность размещения объявления</a></span></li></ul></li><li><span><a href=\"#Исправления-в-остальных-данных\" data-toc-modified-id=\"Исправления-в-остальных-данных-3.2\"><span class=\"toc-item-num\">3.2&nbsp;&nbsp;</span>Исправления в остальных данных</a></span></li><li><span><a href=\"#Изменение-типов-данных\" data-toc-modified-id=\"Изменение-типов-данных-3.3\"><span class=\"toc-item-num\">3.3&nbsp;&nbsp;</span>Изменение типов данных</a></span></li><li><span><a href=\"#Расчёты-и-добавление-результатов-в-таблицу\" data-toc-modified-id=\"Расчёты-и-добавление-результатов-в-таблицу-3.4\"><span class=\"toc-item-num\">3.4&nbsp;&nbsp;</span>Расчёты и добавление результатов в таблицу</a></span></li></ul></li><li><span><a href=\"#Исследовательский-анализ-данных\" data-toc-modified-id=\"Исследовательский-анализ-данных-4\"><span class=\"toc-item-num\">4&nbsp;&nbsp;</span>Исследовательский анализ данных</a></span><ul class=\"toc-item\"><li><span><a href=\"#Изучение-основных-параметров\" data-toc-modified-id=\"Изучение-основных-параметров-4.1\"><span class=\"toc-item-num\">4.1&nbsp;&nbsp;</span>Изучение основных параметров</a></span></li><li><span><a href=\"#Изучение-времени-продажи-квартиры\" data-toc-modified-id=\"Изучение-времени-продажи-квартиры-4.2\"><span class=\"toc-item-num\">4.2&nbsp;&nbsp;</span>Изучение времени продажи квартиры</a></span></li><li><span><a href=\"#Работа-с-редкими-и-выбивающимися-значениями\" data-toc-modified-id=\"Работа-с-редкими-и-выбивающимися-значениями-4.3\"><span class=\"toc-item-num\">4.3&nbsp;&nbsp;</span>Работа с редкими и выбивающимися значениями</a></span></li><li><span><a href=\"#Определение-факторов,-влияющих-на-стоимость-квартиры\" data-toc-modified-id=\"Определение-факторов,-влияющих-на-стоимость-квартиры-4.4\"><span class=\"toc-item-num\">4.4&nbsp;&nbsp;</span>Определение факторов, влияющих на стоимость квартиры</a></span></li><li><span><a href=\"#Сравнение-средней-стоимости-квадратного-метра-в-топ-10-городов\" data-toc-modified-id=\"Сравнение-средней-стоимости-квадратного-метра-в-топ-10-городов-4.5\"><span class=\"toc-item-num\">4.5&nbsp;&nbsp;</span>Сравнение средней стоимости квадратного метра в топ-10 городов</a></span></li><li><span><a href=\"#Определение-границы-центральной-зоны\" data-toc-modified-id=\"Определение-границы-центральной-зоны-4.6\"><span class=\"toc-item-num\">4.6&nbsp;&nbsp;</span>Определение границы центральной зоны</a></span></li><li><span><a href=\"#Анализ-сегмента-в-центре\" data-toc-modified-id=\"Анализ-сегмента-в-центре-4.7\"><span class=\"toc-item-num\">4.7&nbsp;&nbsp;</span>Анализ сегмента в центре</a></span></li><li><span><a href=\"#Выводы-по-двум-исследованиям\" data-toc-modified-id=\"Выводы-по-двум-исследованиям-4.8\"><span class=\"toc-item-num\">4.8&nbsp;&nbsp;</span>Выводы по двум исследованиям</a></span></li></ul></li><li><span><a href=\"#Общий-вывод\" data-toc-modified-id=\"Общий-вывод-5\"><span class=\"toc-item-num\">5&nbsp;&nbsp;</span>Общий вывод</a></span></li></ul></div>"
   ]
  },
  {
   "cell_type": "markdown",
   "metadata": {},
   "source": [
    "## Описание проекта"
   ]
  },
  {
   "cell_type": "markdown",
   "metadata": {},
   "source": [
    "Для исследования предоставлены данные сервиса Яндекc Недвижимость — архив объявлений о продаже квартир в Санкт-Петербурге и соседних населённых пунктах за несколько лет. Среди параметров зданий (этажность, удаленность от объектов инфраструктуры, населенный пункт), самих квартир (площади помещений, количество комнат, высота потолков, этаж и др.), а также объявлений в целом, необходимо выявить факторы, влияющие на стоимость квартиры. Кроме того, задача исследования - выявление условной центральной зоны Санкт-Петербурга и сравнение соответствующих параметров квартир из этой зоны и из базы в целом. Это позволит определять рыночную стоимость объектов недвижимости и построить автоматизированную систему, которая будет отслеживать аномалии и мошенническую деятельность."
   ]
  },
  {
   "cell_type": "markdown",
   "metadata": {},
   "source": [
    "## Изучение данных"
   ]
  },
  {
   "cell_type": "markdown",
   "metadata": {},
   "source": [
    "__1.__ Для начала работы нам необходимо импортировать библиотеки для работы с табличными данными и графиками, после чего открыть csv-файл."
   ]
  },
  {
   "cell_type": "code",
   "execution_count": 1,
   "metadata": {},
   "outputs": [],
   "source": [
    "# Импортируем необходимые для работы библиотеки.\n",
    "\n",
    "import pandas as pd\n",
    "import matplotlib.pyplot as plt\n",
    "import warnings\n",
    "warnings.filterwarnings('ignore')"
   ]
  },
  {
   "cell_type": "code",
   "execution_count": 2,
   "metadata": {},
   "outputs": [],
   "source": [
    "# Открываем csv-файл с таблицей и сохраняем в переменной data.\n",
    "\n",
    "try:\n",
    "    data = pd.read_csv('/datasets/real_estate_data.csv')\n",
    "    \n",
    "except:\n",
    "    data = pd.read_csv('datasets/real_estate_data.csv')"
   ]
  },
  {
   "cell_type": "code",
   "execution_count": 3,
   "metadata": {},
   "outputs": [
    {
     "data": {
      "text/html": [
       "<div>\n",
       "<style scoped>\n",
       "    .dataframe tbody tr th:only-of-type {\n",
       "        vertical-align: middle;\n",
       "    }\n",
       "\n",
       "    .dataframe tbody tr th {\n",
       "        vertical-align: top;\n",
       "    }\n",
       "\n",
       "    .dataframe thead th {\n",
       "        text-align: right;\n",
       "    }\n",
       "</style>\n",
       "<table border=\"1\" class=\"dataframe\">\n",
       "  <thead>\n",
       "    <tr style=\"text-align: right;\">\n",
       "      <th></th>\n",
       "      <th>total_images\\tlast_price\\ttotal_area\\tfirst_day_exposition\\trooms\\tceiling_height\\tfloors_total\\tliving_area\\tfloor\\tis_apartment\\tstudio\\topen_plan\\tkitchen_area\\tbalcony\\tlocality_name\\tairports_nearest\\tcityCenters_nearest\\tparks_around3000\\tparks_nearest\\tponds_around3000\\tponds_nearest\\tdays_exposition</th>\n",
       "    </tr>\n",
       "  </thead>\n",
       "  <tbody>\n",
       "    <tr>\n",
       "      <th>0</th>\n",
       "      <td>20\\t13000000.0\\t108.0\\t2019-03-07T00:00:00\\t3\\...</td>\n",
       "    </tr>\n",
       "    <tr>\n",
       "      <th>1</th>\n",
       "      <td>7\\t3350000.0\\t40.4\\t2018-12-04T00:00:00\\t1\\t\\t...</td>\n",
       "    </tr>\n",
       "    <tr>\n",
       "      <th>2</th>\n",
       "      <td>10\\t5196000.0\\t56.0\\t2015-08-20T00:00:00\\t2\\t\\...</td>\n",
       "    </tr>\n",
       "    <tr>\n",
       "      <th>3</th>\n",
       "      <td>0\\t64900000.0\\t159.0\\t2015-07-24T00:00:00\\t3\\t...</td>\n",
       "    </tr>\n",
       "    <tr>\n",
       "      <th>4</th>\n",
       "      <td>2\\t10000000.0\\t100.0\\t2018-06-19T00:00:00\\t2\\t...</td>\n",
       "    </tr>\n",
       "  </tbody>\n",
       "</table>\n",
       "</div>"
      ],
      "text/plain": [
       "  total_images\\tlast_price\\ttotal_area\\tfirst_day_exposition\\trooms\\tceiling_height\\tfloors_total\\tliving_area\\tfloor\\tis_apartment\\tstudio\\topen_plan\\tkitchen_area\\tbalcony\\tlocality_name\\tairports_nearest\\tcityCenters_nearest\\tparks_around3000\\tparks_nearest\\tponds_around3000\\tponds_nearest\\tdays_exposition\n",
       "0  20\\t13000000.0\\t108.0\\t2019-03-07T00:00:00\\t3\\...                                                                                                                                                                                                                                                                  \n",
       "1  7\\t3350000.0\\t40.4\\t2018-12-04T00:00:00\\t1\\t\\t...                                                                                                                                                                                                                                                                  \n",
       "2  10\\t5196000.0\\t56.0\\t2015-08-20T00:00:00\\t2\\t\\...                                                                                                                                                                                                                                                                  \n",
       "3  0\\t64900000.0\\t159.0\\t2015-07-24T00:00:00\\t3\\t...                                                                                                                                                                                                                                                                  \n",
       "4  2\\t10000000.0\\t100.0\\t2018-06-19T00:00:00\\t2\\t...                                                                                                                                                                                                                                                                  "
      ]
     },
     "execution_count": 3,
     "metadata": {},
     "output_type": "execute_result"
    }
   ],
   "source": [
    "# Выводим первые 5 строк таблицы.\n",
    "\n",
    "data.head()"
   ]
  },
  {
   "cell_type": "markdown",
   "metadata": {},
   "source": [
    "По какой-то причине данные таблицы не загрузились.\n",
    "\n",
    "Проверив сам файл, убеждаемся, что данные на месте. Проблема с разделителями. Добавим в метод .read_csv() параметр sep."
   ]
  },
  {
   "cell_type": "code",
   "execution_count": 4,
   "metadata": {},
   "outputs": [],
   "source": [
    "# Открываем csv-файл с таблицей и сохраняем в переменной data.\n",
    "\n",
    "try:\n",
    "    data = pd.read_csv('/datasets/real_estate_data.csv', sep='\\t')\n",
    "    \n",
    "except:\n",
    "    data = pd.read_csv('datasets/real_estate_data.csv', sep='\\t')"
   ]
  },
  {
   "cell_type": "code",
   "execution_count": 5,
   "metadata": {},
   "outputs": [
    {
     "data": {
      "text/html": [
       "<div>\n",
       "<style scoped>\n",
       "    .dataframe tbody tr th:only-of-type {\n",
       "        vertical-align: middle;\n",
       "    }\n",
       "\n",
       "    .dataframe tbody tr th {\n",
       "        vertical-align: top;\n",
       "    }\n",
       "\n",
       "    .dataframe thead th {\n",
       "        text-align: right;\n",
       "    }\n",
       "</style>\n",
       "<table border=\"1\" class=\"dataframe\">\n",
       "  <thead>\n",
       "    <tr style=\"text-align: right;\">\n",
       "      <th></th>\n",
       "      <th>total_images</th>\n",
       "      <th>last_price</th>\n",
       "      <th>total_area</th>\n",
       "      <th>first_day_exposition</th>\n",
       "      <th>rooms</th>\n",
       "      <th>ceiling_height</th>\n",
       "      <th>floors_total</th>\n",
       "      <th>living_area</th>\n",
       "      <th>floor</th>\n",
       "      <th>is_apartment</th>\n",
       "      <th>...</th>\n",
       "      <th>kitchen_area</th>\n",
       "      <th>balcony</th>\n",
       "      <th>locality_name</th>\n",
       "      <th>airports_nearest</th>\n",
       "      <th>cityCenters_nearest</th>\n",
       "      <th>parks_around3000</th>\n",
       "      <th>parks_nearest</th>\n",
       "      <th>ponds_around3000</th>\n",
       "      <th>ponds_nearest</th>\n",
       "      <th>days_exposition</th>\n",
       "    </tr>\n",
       "  </thead>\n",
       "  <tbody>\n",
       "    <tr>\n",
       "      <th>0</th>\n",
       "      <td>20</td>\n",
       "      <td>13000000.0</td>\n",
       "      <td>108.0</td>\n",
       "      <td>2019-03-07T00:00:00</td>\n",
       "      <td>3</td>\n",
       "      <td>2.70</td>\n",
       "      <td>16.0</td>\n",
       "      <td>51.0</td>\n",
       "      <td>8</td>\n",
       "      <td>NaN</td>\n",
       "      <td>...</td>\n",
       "      <td>25.0</td>\n",
       "      <td>NaN</td>\n",
       "      <td>Санкт-Петербург</td>\n",
       "      <td>18863.0</td>\n",
       "      <td>16028.0</td>\n",
       "      <td>1.0</td>\n",
       "      <td>482.0</td>\n",
       "      <td>2.0</td>\n",
       "      <td>755.0</td>\n",
       "      <td>NaN</td>\n",
       "    </tr>\n",
       "    <tr>\n",
       "      <th>1</th>\n",
       "      <td>7</td>\n",
       "      <td>3350000.0</td>\n",
       "      <td>40.4</td>\n",
       "      <td>2018-12-04T00:00:00</td>\n",
       "      <td>1</td>\n",
       "      <td>NaN</td>\n",
       "      <td>11.0</td>\n",
       "      <td>18.6</td>\n",
       "      <td>1</td>\n",
       "      <td>NaN</td>\n",
       "      <td>...</td>\n",
       "      <td>11.0</td>\n",
       "      <td>2.0</td>\n",
       "      <td>посёлок Шушары</td>\n",
       "      <td>12817.0</td>\n",
       "      <td>18603.0</td>\n",
       "      <td>0.0</td>\n",
       "      <td>NaN</td>\n",
       "      <td>0.0</td>\n",
       "      <td>NaN</td>\n",
       "      <td>81.0</td>\n",
       "    </tr>\n",
       "    <tr>\n",
       "      <th>2</th>\n",
       "      <td>10</td>\n",
       "      <td>5196000.0</td>\n",
       "      <td>56.0</td>\n",
       "      <td>2015-08-20T00:00:00</td>\n",
       "      <td>2</td>\n",
       "      <td>NaN</td>\n",
       "      <td>5.0</td>\n",
       "      <td>34.3</td>\n",
       "      <td>4</td>\n",
       "      <td>NaN</td>\n",
       "      <td>...</td>\n",
       "      <td>8.3</td>\n",
       "      <td>0.0</td>\n",
       "      <td>Санкт-Петербург</td>\n",
       "      <td>21741.0</td>\n",
       "      <td>13933.0</td>\n",
       "      <td>1.0</td>\n",
       "      <td>90.0</td>\n",
       "      <td>2.0</td>\n",
       "      <td>574.0</td>\n",
       "      <td>558.0</td>\n",
       "    </tr>\n",
       "    <tr>\n",
       "      <th>3</th>\n",
       "      <td>0</td>\n",
       "      <td>64900000.0</td>\n",
       "      <td>159.0</td>\n",
       "      <td>2015-07-24T00:00:00</td>\n",
       "      <td>3</td>\n",
       "      <td>NaN</td>\n",
       "      <td>14.0</td>\n",
       "      <td>NaN</td>\n",
       "      <td>9</td>\n",
       "      <td>NaN</td>\n",
       "      <td>...</td>\n",
       "      <td>NaN</td>\n",
       "      <td>0.0</td>\n",
       "      <td>Санкт-Петербург</td>\n",
       "      <td>28098.0</td>\n",
       "      <td>6800.0</td>\n",
       "      <td>2.0</td>\n",
       "      <td>84.0</td>\n",
       "      <td>3.0</td>\n",
       "      <td>234.0</td>\n",
       "      <td>424.0</td>\n",
       "    </tr>\n",
       "    <tr>\n",
       "      <th>4</th>\n",
       "      <td>2</td>\n",
       "      <td>10000000.0</td>\n",
       "      <td>100.0</td>\n",
       "      <td>2018-06-19T00:00:00</td>\n",
       "      <td>2</td>\n",
       "      <td>3.03</td>\n",
       "      <td>14.0</td>\n",
       "      <td>32.0</td>\n",
       "      <td>13</td>\n",
       "      <td>NaN</td>\n",
       "      <td>...</td>\n",
       "      <td>41.0</td>\n",
       "      <td>NaN</td>\n",
       "      <td>Санкт-Петербург</td>\n",
       "      <td>31856.0</td>\n",
       "      <td>8098.0</td>\n",
       "      <td>2.0</td>\n",
       "      <td>112.0</td>\n",
       "      <td>1.0</td>\n",
       "      <td>48.0</td>\n",
       "      <td>121.0</td>\n",
       "    </tr>\n",
       "  </tbody>\n",
       "</table>\n",
       "<p>5 rows × 22 columns</p>\n",
       "</div>"
      ],
      "text/plain": [
       "   total_images  last_price  total_area first_day_exposition  rooms  \\\n",
       "0            20  13000000.0       108.0  2019-03-07T00:00:00      3   \n",
       "1             7   3350000.0        40.4  2018-12-04T00:00:00      1   \n",
       "2            10   5196000.0        56.0  2015-08-20T00:00:00      2   \n",
       "3             0  64900000.0       159.0  2015-07-24T00:00:00      3   \n",
       "4             2  10000000.0       100.0  2018-06-19T00:00:00      2   \n",
       "\n",
       "   ceiling_height  floors_total  living_area  floor is_apartment  ...  \\\n",
       "0            2.70          16.0         51.0      8          NaN  ...   \n",
       "1             NaN          11.0         18.6      1          NaN  ...   \n",
       "2             NaN           5.0         34.3      4          NaN  ...   \n",
       "3             NaN          14.0          NaN      9          NaN  ...   \n",
       "4            3.03          14.0         32.0     13          NaN  ...   \n",
       "\n",
       "   kitchen_area  balcony    locality_name  airports_nearest  \\\n",
       "0          25.0      NaN  Санкт-Петербург           18863.0   \n",
       "1          11.0      2.0   посёлок Шушары           12817.0   \n",
       "2           8.3      0.0  Санкт-Петербург           21741.0   \n",
       "3           NaN      0.0  Санкт-Петербург           28098.0   \n",
       "4          41.0      NaN  Санкт-Петербург           31856.0   \n",
       "\n",
       "  cityCenters_nearest  parks_around3000  parks_nearest  ponds_around3000  \\\n",
       "0             16028.0               1.0          482.0               2.0   \n",
       "1             18603.0               0.0            NaN               0.0   \n",
       "2             13933.0               1.0           90.0               2.0   \n",
       "3              6800.0               2.0           84.0               3.0   \n",
       "4              8098.0               2.0          112.0               1.0   \n",
       "\n",
       "   ponds_nearest  days_exposition  \n",
       "0          755.0              NaN  \n",
       "1            NaN             81.0  \n",
       "2          574.0            558.0  \n",
       "3          234.0            424.0  \n",
       "4           48.0            121.0  \n",
       "\n",
       "[5 rows x 22 columns]"
      ]
     },
     "execution_count": 5,
     "metadata": {},
     "output_type": "execute_result"
    }
   ],
   "source": [
    "# Снова выводим первые 5 строк таблицы.\n",
    "\n",
    "data.head()"
   ]
  },
  {
   "cell_type": "markdown",
   "metadata": {},
   "source": [
    "__2.__ Посмотрим наименования столбцов на соответствие правилам и стилю."
   ]
  },
  {
   "cell_type": "code",
   "execution_count": 6,
   "metadata": {},
   "outputs": [
    {
     "data": {
      "text/plain": [
       "Index(['total_images', 'last_price', 'total_area', 'first_day_exposition',\n",
       "       'rooms', 'ceiling_height', 'floors_total', 'living_area', 'floor',\n",
       "       'is_apartment', 'studio', 'open_plan', 'kitchen_area', 'balcony',\n",
       "       'locality_name', 'airports_nearest', 'cityCenters_nearest',\n",
       "       'parks_around3000', 'parks_nearest', 'ponds_around3000',\n",
       "       'ponds_nearest', 'days_exposition'],\n",
       "      dtype='object')"
      ]
     },
     "execution_count": 6,
     "metadata": {},
     "output_type": "execute_result"
    }
   ],
   "source": [
    "data.columns"
   ]
  },
  {
   "cell_type": "markdown",
   "metadata": {},
   "source": [
    "Желательно сменить название столбца \"cityCenters_nearest\" на \"city_сenters_nearest\", но необязательно."
   ]
  },
  {
   "cell_type": "markdown",
   "metadata": {},
   "source": [
    "__3.__ Проверим типы данных в столбцах на соответствие содержащейся информации."
   ]
  },
  {
   "cell_type": "code",
   "execution_count": 7,
   "metadata": {},
   "outputs": [
    {
     "name": "stdout",
     "output_type": "stream",
     "text": [
      "<class 'pandas.core.frame.DataFrame'>\n",
      "RangeIndex: 23699 entries, 0 to 23698\n",
      "Data columns (total 22 columns):\n",
      " #   Column                Non-Null Count  Dtype  \n",
      "---  ------                --------------  -----  \n",
      " 0   total_images          23699 non-null  int64  \n",
      " 1   last_price            23699 non-null  float64\n",
      " 2   total_area            23699 non-null  float64\n",
      " 3   first_day_exposition  23699 non-null  object \n",
      " 4   rooms                 23699 non-null  int64  \n",
      " 5   ceiling_height        14504 non-null  float64\n",
      " 6   floors_total          23613 non-null  float64\n",
      " 7   living_area           21796 non-null  float64\n",
      " 8   floor                 23699 non-null  int64  \n",
      " 9   is_apartment          2775 non-null   object \n",
      " 10  studio                23699 non-null  bool   \n",
      " 11  open_plan             23699 non-null  bool   \n",
      " 12  kitchen_area          21421 non-null  float64\n",
      " 13  balcony               12180 non-null  float64\n",
      " 14  locality_name         23650 non-null  object \n",
      " 15  airports_nearest      18157 non-null  float64\n",
      " 16  cityCenters_nearest   18180 non-null  float64\n",
      " 17  parks_around3000      18181 non-null  float64\n",
      " 18  parks_nearest         8079 non-null   float64\n",
      " 19  ponds_around3000      18181 non-null  float64\n",
      " 20  ponds_nearest         9110 non-null   float64\n",
      " 21  days_exposition       20518 non-null  float64\n",
      "dtypes: bool(2), float64(14), int64(3), object(3)\n",
      "memory usage: 3.7+ MB\n"
     ]
    }
   ],
   "source": [
    "# Получаем общую информацию по таблице. Проверяем типы данных в столбцах.\n",
    "\n",
    "data.info()"
   ]
  },
  {
   "cell_type": "markdown",
   "metadata": {},
   "source": [
    "Типы данных следующих столбцов \n",
    "\n",
    "- необходимо заменить:\n",
    "\n",
    " 3   first_day_exposition - object  - на datetime"
   ]
  },
  {
   "cell_type": "markdown",
   "metadata": {},
   "source": [
    "- желательно заменить:\n",
    "    \n",
    " 1   last_price           - float64 - на int64\n",
    " \n",
    " 6   floors_total         - float64 - на int64\n",
    " \n",
    " 9   is_apartmen          - object - на bool"
   ]
  },
  {
   "cell_type": "markdown",
   "metadata": {},
   "source": [
    "__4.__ Выясним количество пропусков в каждом столбце датафрейма."
   ]
  },
  {
   "cell_type": "code",
   "execution_count": 8,
   "metadata": {},
   "outputs": [
    {
     "data": {
      "text/plain": [
       "total_images                0\n",
       "last_price                  0\n",
       "total_area                  0\n",
       "first_day_exposition        0\n",
       "rooms                       0\n",
       "ceiling_height           9195\n",
       "floors_total               86\n",
       "living_area              1903\n",
       "floor                       0\n",
       "is_apartment            20924\n",
       "studio                      0\n",
       "open_plan                   0\n",
       "kitchen_area             2278\n",
       "balcony                 11519\n",
       "locality_name              49\n",
       "airports_nearest         5542\n",
       "cityCenters_nearest      5519\n",
       "parks_around3000         5518\n",
       "parks_nearest           15620\n",
       "ponds_around3000         5518\n",
       "ponds_nearest           14589\n",
       "days_exposition          3181\n",
       "dtype: int64"
      ]
     },
     "execution_count": 8,
     "metadata": {},
     "output_type": "execute_result"
    }
   ],
   "source": [
    "# Количество пропусков в столбцах таблицы.\n",
    "\n",
    "data.isna().sum()"
   ]
  },
  {
   "cell_type": "markdown",
   "metadata": {},
   "source": [
    "Ячеек с пропущенными данными довольно много. Нужно будет изучить каждый столбец отдельно для принятия решений об устранении этой проблемы."
   ]
  },
  {
   "cell_type": "markdown",
   "metadata": {},
   "source": [
    "__5.__ Проверим строки на наличие дубликатов."
   ]
  },
  {
   "cell_type": "code",
   "execution_count": 9,
   "metadata": {},
   "outputs": [
    {
     "data": {
      "text/html": [
       "<div>\n",
       "<style scoped>\n",
       "    .dataframe tbody tr th:only-of-type {\n",
       "        vertical-align: middle;\n",
       "    }\n",
       "\n",
       "    .dataframe tbody tr th {\n",
       "        vertical-align: top;\n",
       "    }\n",
       "\n",
       "    .dataframe thead th {\n",
       "        text-align: right;\n",
       "    }\n",
       "</style>\n",
       "<table border=\"1\" class=\"dataframe\">\n",
       "  <thead>\n",
       "    <tr style=\"text-align: right;\">\n",
       "      <th></th>\n",
       "      <th>total_images</th>\n",
       "      <th>last_price</th>\n",
       "      <th>total_area</th>\n",
       "      <th>first_day_exposition</th>\n",
       "      <th>rooms</th>\n",
       "      <th>ceiling_height</th>\n",
       "      <th>floors_total</th>\n",
       "      <th>living_area</th>\n",
       "      <th>floor</th>\n",
       "      <th>is_apartment</th>\n",
       "      <th>...</th>\n",
       "      <th>kitchen_area</th>\n",
       "      <th>balcony</th>\n",
       "      <th>locality_name</th>\n",
       "      <th>airports_nearest</th>\n",
       "      <th>cityCenters_nearest</th>\n",
       "      <th>parks_around3000</th>\n",
       "      <th>parks_nearest</th>\n",
       "      <th>ponds_around3000</th>\n",
       "      <th>ponds_nearest</th>\n",
       "      <th>days_exposition</th>\n",
       "    </tr>\n",
       "  </thead>\n",
       "  <tbody>\n",
       "  </tbody>\n",
       "</table>\n",
       "<p>0 rows × 22 columns</p>\n",
       "</div>"
      ],
      "text/plain": [
       "Empty DataFrame\n",
       "Columns: [total_images, last_price, total_area, first_day_exposition, rooms, ceiling_height, floors_total, living_area, floor, is_apartment, studio, open_plan, kitchen_area, balcony, locality_name, airports_nearest, cityCenters_nearest, parks_around3000, parks_nearest, ponds_around3000, ponds_nearest, days_exposition]\n",
       "Index: []\n",
       "\n",
       "[0 rows x 22 columns]"
      ]
     },
     "metadata": {},
     "output_type": "display_data"
    }
   ],
   "source": [
    "# Нахождение полных дубликатов.\n",
    "\n",
    "display(data[data.duplicated()])"
   ]
  },
  {
   "cell_type": "markdown",
   "metadata": {},
   "source": [
    "Дубликатов в датафрейме нет."
   ]
  },
  {
   "cell_type": "markdown",
   "metadata": {},
   "source": [
    "__6.__ Выведем на экран информацию о статистических показателях датафрейма."
   ]
  },
  {
   "cell_type": "code",
   "execution_count": 10,
   "metadata": {},
   "outputs": [
    {
     "data": {
      "text/html": [
       "<div>\n",
       "<style scoped>\n",
       "    .dataframe tbody tr th:only-of-type {\n",
       "        vertical-align: middle;\n",
       "    }\n",
       "\n",
       "    .dataframe tbody tr th {\n",
       "        vertical-align: top;\n",
       "    }\n",
       "\n",
       "    .dataframe thead th {\n",
       "        text-align: right;\n",
       "    }\n",
       "</style>\n",
       "<table border=\"1\" class=\"dataframe\">\n",
       "  <thead>\n",
       "    <tr style=\"text-align: right;\">\n",
       "      <th></th>\n",
       "      <th>total_images</th>\n",
       "      <th>last_price</th>\n",
       "      <th>total_area</th>\n",
       "      <th>rooms</th>\n",
       "      <th>ceiling_height</th>\n",
       "      <th>floors_total</th>\n",
       "      <th>living_area</th>\n",
       "      <th>floor</th>\n",
       "      <th>kitchen_area</th>\n",
       "      <th>balcony</th>\n",
       "      <th>airports_nearest</th>\n",
       "      <th>cityCenters_nearest</th>\n",
       "      <th>parks_around3000</th>\n",
       "      <th>parks_nearest</th>\n",
       "      <th>ponds_around3000</th>\n",
       "      <th>ponds_nearest</th>\n",
       "      <th>days_exposition</th>\n",
       "    </tr>\n",
       "  </thead>\n",
       "  <tbody>\n",
       "    <tr>\n",
       "      <th>count</th>\n",
       "      <td>23699.000000</td>\n",
       "      <td>2.369900e+04</td>\n",
       "      <td>23699.000000</td>\n",
       "      <td>23699.000000</td>\n",
       "      <td>14504.000000</td>\n",
       "      <td>23613.000000</td>\n",
       "      <td>21796.000000</td>\n",
       "      <td>23699.000000</td>\n",
       "      <td>21421.000000</td>\n",
       "      <td>12180.000000</td>\n",
       "      <td>18157.000000</td>\n",
       "      <td>18180.000000</td>\n",
       "      <td>18181.000000</td>\n",
       "      <td>8079.000000</td>\n",
       "      <td>18181.000000</td>\n",
       "      <td>9110.000000</td>\n",
       "      <td>20518.000000</td>\n",
       "    </tr>\n",
       "    <tr>\n",
       "      <th>mean</th>\n",
       "      <td>9.858475</td>\n",
       "      <td>6.541549e+06</td>\n",
       "      <td>60.348651</td>\n",
       "      <td>2.070636</td>\n",
       "      <td>2.771499</td>\n",
       "      <td>10.673824</td>\n",
       "      <td>34.457852</td>\n",
       "      <td>5.892358</td>\n",
       "      <td>10.569807</td>\n",
       "      <td>1.150082</td>\n",
       "      <td>28793.672193</td>\n",
       "      <td>14191.277833</td>\n",
       "      <td>0.611408</td>\n",
       "      <td>490.804555</td>\n",
       "      <td>0.770255</td>\n",
       "      <td>517.980900</td>\n",
       "      <td>180.888634</td>\n",
       "    </tr>\n",
       "    <tr>\n",
       "      <th>std</th>\n",
       "      <td>5.682529</td>\n",
       "      <td>1.088701e+07</td>\n",
       "      <td>35.654083</td>\n",
       "      <td>1.078405</td>\n",
       "      <td>1.261056</td>\n",
       "      <td>6.597173</td>\n",
       "      <td>22.030445</td>\n",
       "      <td>4.885249</td>\n",
       "      <td>5.905438</td>\n",
       "      <td>1.071300</td>\n",
       "      <td>12630.880622</td>\n",
       "      <td>8608.386210</td>\n",
       "      <td>0.802074</td>\n",
       "      <td>342.317995</td>\n",
       "      <td>0.938346</td>\n",
       "      <td>277.720643</td>\n",
       "      <td>219.727988</td>\n",
       "    </tr>\n",
       "    <tr>\n",
       "      <th>min</th>\n",
       "      <td>0.000000</td>\n",
       "      <td>1.219000e+04</td>\n",
       "      <td>12.000000</td>\n",
       "      <td>0.000000</td>\n",
       "      <td>1.000000</td>\n",
       "      <td>1.000000</td>\n",
       "      <td>2.000000</td>\n",
       "      <td>1.000000</td>\n",
       "      <td>1.300000</td>\n",
       "      <td>0.000000</td>\n",
       "      <td>0.000000</td>\n",
       "      <td>181.000000</td>\n",
       "      <td>0.000000</td>\n",
       "      <td>1.000000</td>\n",
       "      <td>0.000000</td>\n",
       "      <td>13.000000</td>\n",
       "      <td>1.000000</td>\n",
       "    </tr>\n",
       "    <tr>\n",
       "      <th>25%</th>\n",
       "      <td>6.000000</td>\n",
       "      <td>3.400000e+06</td>\n",
       "      <td>40.000000</td>\n",
       "      <td>1.000000</td>\n",
       "      <td>2.520000</td>\n",
       "      <td>5.000000</td>\n",
       "      <td>18.600000</td>\n",
       "      <td>2.000000</td>\n",
       "      <td>7.000000</td>\n",
       "      <td>0.000000</td>\n",
       "      <td>18585.000000</td>\n",
       "      <td>9238.000000</td>\n",
       "      <td>0.000000</td>\n",
       "      <td>288.000000</td>\n",
       "      <td>0.000000</td>\n",
       "      <td>294.000000</td>\n",
       "      <td>45.000000</td>\n",
       "    </tr>\n",
       "    <tr>\n",
       "      <th>50%</th>\n",
       "      <td>9.000000</td>\n",
       "      <td>4.650000e+06</td>\n",
       "      <td>52.000000</td>\n",
       "      <td>2.000000</td>\n",
       "      <td>2.650000</td>\n",
       "      <td>9.000000</td>\n",
       "      <td>30.000000</td>\n",
       "      <td>4.000000</td>\n",
       "      <td>9.100000</td>\n",
       "      <td>1.000000</td>\n",
       "      <td>26726.000000</td>\n",
       "      <td>13098.500000</td>\n",
       "      <td>0.000000</td>\n",
       "      <td>455.000000</td>\n",
       "      <td>1.000000</td>\n",
       "      <td>502.000000</td>\n",
       "      <td>95.000000</td>\n",
       "    </tr>\n",
       "    <tr>\n",
       "      <th>75%</th>\n",
       "      <td>14.000000</td>\n",
       "      <td>6.800000e+06</td>\n",
       "      <td>69.900000</td>\n",
       "      <td>3.000000</td>\n",
       "      <td>2.800000</td>\n",
       "      <td>16.000000</td>\n",
       "      <td>42.300000</td>\n",
       "      <td>8.000000</td>\n",
       "      <td>12.000000</td>\n",
       "      <td>2.000000</td>\n",
       "      <td>37273.000000</td>\n",
       "      <td>16293.000000</td>\n",
       "      <td>1.000000</td>\n",
       "      <td>612.000000</td>\n",
       "      <td>1.000000</td>\n",
       "      <td>729.000000</td>\n",
       "      <td>232.000000</td>\n",
       "    </tr>\n",
       "    <tr>\n",
       "      <th>max</th>\n",
       "      <td>50.000000</td>\n",
       "      <td>7.630000e+08</td>\n",
       "      <td>900.000000</td>\n",
       "      <td>19.000000</td>\n",
       "      <td>100.000000</td>\n",
       "      <td>60.000000</td>\n",
       "      <td>409.700000</td>\n",
       "      <td>33.000000</td>\n",
       "      <td>112.000000</td>\n",
       "      <td>5.000000</td>\n",
       "      <td>84869.000000</td>\n",
       "      <td>65968.000000</td>\n",
       "      <td>3.000000</td>\n",
       "      <td>3190.000000</td>\n",
       "      <td>3.000000</td>\n",
       "      <td>1344.000000</td>\n",
       "      <td>1580.000000</td>\n",
       "    </tr>\n",
       "  </tbody>\n",
       "</table>\n",
       "</div>"
      ],
      "text/plain": [
       "       total_images    last_price    total_area         rooms  ceiling_height  \\\n",
       "count  23699.000000  2.369900e+04  23699.000000  23699.000000    14504.000000   \n",
       "mean       9.858475  6.541549e+06     60.348651      2.070636        2.771499   \n",
       "std        5.682529  1.088701e+07     35.654083      1.078405        1.261056   \n",
       "min        0.000000  1.219000e+04     12.000000      0.000000        1.000000   \n",
       "25%        6.000000  3.400000e+06     40.000000      1.000000        2.520000   \n",
       "50%        9.000000  4.650000e+06     52.000000      2.000000        2.650000   \n",
       "75%       14.000000  6.800000e+06     69.900000      3.000000        2.800000   \n",
       "max       50.000000  7.630000e+08    900.000000     19.000000      100.000000   \n",
       "\n",
       "       floors_total   living_area         floor  kitchen_area       balcony  \\\n",
       "count  23613.000000  21796.000000  23699.000000  21421.000000  12180.000000   \n",
       "mean      10.673824     34.457852      5.892358     10.569807      1.150082   \n",
       "std        6.597173     22.030445      4.885249      5.905438      1.071300   \n",
       "min        1.000000      2.000000      1.000000      1.300000      0.000000   \n",
       "25%        5.000000     18.600000      2.000000      7.000000      0.000000   \n",
       "50%        9.000000     30.000000      4.000000      9.100000      1.000000   \n",
       "75%       16.000000     42.300000      8.000000     12.000000      2.000000   \n",
       "max       60.000000    409.700000     33.000000    112.000000      5.000000   \n",
       "\n",
       "       airports_nearest  cityCenters_nearest  parks_around3000  parks_nearest  \\\n",
       "count      18157.000000         18180.000000      18181.000000    8079.000000   \n",
       "mean       28793.672193         14191.277833          0.611408     490.804555   \n",
       "std        12630.880622          8608.386210          0.802074     342.317995   \n",
       "min            0.000000           181.000000          0.000000       1.000000   \n",
       "25%        18585.000000          9238.000000          0.000000     288.000000   \n",
       "50%        26726.000000         13098.500000          0.000000     455.000000   \n",
       "75%        37273.000000         16293.000000          1.000000     612.000000   \n",
       "max        84869.000000         65968.000000          3.000000    3190.000000   \n",
       "\n",
       "       ponds_around3000  ponds_nearest  days_exposition  \n",
       "count      18181.000000    9110.000000     20518.000000  \n",
       "mean           0.770255     517.980900       180.888634  \n",
       "std            0.938346     277.720643       219.727988  \n",
       "min            0.000000      13.000000         1.000000  \n",
       "25%            0.000000     294.000000        45.000000  \n",
       "50%            1.000000     502.000000        95.000000  \n",
       "75%            1.000000     729.000000       232.000000  \n",
       "max            3.000000    1344.000000      1580.000000  "
      ]
     },
     "execution_count": 10,
     "metadata": {},
     "output_type": "execute_result"
    }
   ],
   "source": [
    "data.describe()"
   ]
  },
  {
   "cell_type": "markdown",
   "metadata": {},
   "source": [
    "Явных аномалий (чрезмерно больших или отрицательных данных) практически не обнаружено, кроме следующих:\n",
    "\n",
    "1. Столбец \"rooms\": минимальное количество комнат - 0.\n",
    "2. Столбец \"ceiling_height\": минимальная высота потолков - 1, максимальная - 100.\n",
    "3. Столбец \"airports_nearest\": минимальное расстояние до аэропорта - 0 м.\n",
    "\n",
    "Серьезного влияния обнруженные аномалии на анализ не окажут, т.к. медианные значения соответствующих параметров выглядят нормальными."
   ]
  },
  {
   "cell_type": "markdown",
   "metadata": {},
   "source": [
    "_Вывод_"
   ]
  },
  {
   "cell_type": "markdown",
   "metadata": {},
   "source": [
    "1. Таблица содержит данные об объектах недвижимости и состоит из 23699 строк и 22 столбцов. В 17 столбцах содержится информация, имеющая количественный признак, в 1 - временной и в 4 - категориальный (у 3 из них - фактически булев тип данных).\n",
    "\n",
    "\n",
    "2. Названия столбцов, кроме одного, указаны в соответствии с требованиями стиля.\n",
    "\n",
    "\n",
    "3. Типы данных части столбцов не соответствуют признакам содержащейся в них информации. Тип данных одного из них необходимо сменить с \"object\" на \"datetime\" для возможности обработки таблицы. У еще 2 столбцов желательно сменить тип данных с вещественного на целочисленный, а у одного - с \"object\" на \"bool\".\n",
    "\n",
    "\n",
    "4. В 14 столбцах есть разное количество пропусков, которые можно заполнить после отдельного изучения каждого из столбцов.\n",
    "\n",
    "\n",
    "5. Дублирующихся данных в таблице нет.\n",
    "\n",
    "\n",
    "6. Явных аномалий в датафрейме не обнаружено, кроме незначительных в 3 столбцах."
   ]
  },
  {
   "cell_type": "markdown",
   "metadata": {},
   "source": [
    "## Предобработка данных"
   ]
  },
  {
   "cell_type": "markdown",
   "metadata": {},
   "source": [
    "### Пропущенные значения"
   ]
  },
  {
   "cell_type": "markdown",
   "metadata": {},
   "source": [
    "Напишем несколько полезных функций."
   ]
  },
  {
   "cell_type": "markdown",
   "metadata": {},
   "source": [
    "1) Функция для подсчета доли пропущенных в столбцах значений."
   ]
  },
  {
   "cell_type": "code",
   "execution_count": 11,
   "metadata": {},
   "outputs": [],
   "source": [
    "# Функция получает на вход название признака и возвращает текст с процентом пропущенных значений.\n",
    "\n",
    "def nan_ratio(column):\n",
    "    a = data[column].isna().mean()\n",
    "    print(f'В столбце \"{column}\" пропущено {a:.1%} значений.')"
   ]
  },
  {
   "cell_type": "markdown",
   "metadata": {},
   "source": [
    "2) Фукция для очищения матрицы корреляций от небольших значений."
   ]
  },
  {
   "cell_type": "code",
   "execution_count": 12,
   "metadata": {},
   "outputs": [],
   "source": [
    "# Функция возвращает матрицу корреляций, очищенную от коэффициентов, по модулю меньших заданного значения.\n",
    "\n",
    "def corr_above(df, c_min):\n",
    "    corr = df.corr().where((df.corr() != 1) & (abs(df.corr()) >= c_min), other='')\n",
    "    return corr"
   ]
  },
  {
   "cell_type": "markdown",
   "metadata": {},
   "source": [
    "3) Функция для наглядного обзора максимальных прямой и обратной корреляций для каждго параметра c остальными."
   ]
  },
  {
   "cell_type": "code",
   "execution_count": 13,
   "metadata": {},
   "outputs": [],
   "source": [
    "# Функция возращает датафрейм с теми же именованными индексами, что и у исходной матрицы корреляций.\n",
    "# Для каждого индекса формируются данные в 4 столбцах: \n",
    "# с минимальным и максимальным коэффициентами корреляции и соответствующими названиями параметров в матрице.\n",
    "\n",
    "def correlator(df):\n",
    "    corr_dict = {}\n",
    "    name_min_list = []\n",
    "    corr_min_list = []\n",
    "    name_max_list = []\n",
    "    corr_max_list = []\n",
    "    index_list = []\n",
    "    for column in df.select_dtypes(exclude=['string','object']):\n",
    "        name_min = df.corr()[column].sort_values().index[0]\n",
    "        corr_min = df.corr()[column].sort_values()[0]\n",
    "        name_max = df.corr()[column].sort_values().index[-2]\n",
    "        corr_max = df.corr()[column].sort_values()[-2]\n",
    "        name_min_list.append(name_min)\n",
    "        corr_min_list.append(corr_min)\n",
    "        name_max_list.append(name_max)\n",
    "        corr_max_list.append(corr_max)\n",
    "        index_list.append(column)\n",
    "    corr_dict['name_min'] = name_min_list\n",
    "    corr_dict['corr_min'] = corr_min_list\n",
    "    corr_dict['name_max'] = name_max_list\n",
    "    corr_dict['corr_max'] = corr_max_list\n",
    "    corr_df = pd.DataFrame(corr_dict, index=index_list)\n",
    "    return corr_df"
   ]
  },
  {
   "cell_type": "markdown",
   "metadata": {},
   "source": [
    "4) Фукция, заполняющая пустые ячейки в столбце, исходя из других общих параметров (в данном случае - координат здания, где расположен объект недвижимости)."
   ]
  },
  {
   "cell_type": "code",
   "execution_count": 14,
   "metadata": {},
   "outputs": [],
   "source": [
    "# Функция принимает название датафрейма и двух его столбцов:\n",
    "# в первом из них содержатся более полные данные, используемые для помощи в заполнении второго столбца;\n",
    "# во втором - пустые ячейки, которые необходимо заполнить.\n",
    "\n",
    "# Создается словарь со значениями из 1-ого столбца, напротив которых во 2-м столбце было пусто.\n",
    "\n",
    "# Формируется еще один словарь, где ключи - уникальные значения из первого словаря, \n",
    "# а элементы - списки соответствующих им значений из 2-ого столбца (но взятых из других, непустых, строк).\n",
    "\n",
    "# На основании этого словаря пустые ячейки 2-ого столбца заполняются данными из словаря (первыми элеменами списков в нем).\n",
    "\n",
    "# На выходе получаем информацию о заполнении пустых ячеек.\n",
    "\n",
    "def filler(df, full, empty, t=True):\n",
    "        \n",
    "    was_empty = df[empty].isna().sum() # Общее количество пропущенных значений во втором столбце\n",
    "    full_empty = (df[full].notna() & df[empty].isna()).sum() # Кол-во пропусков во 2-м столбце при непустых ячейках в 1-м\n",
    "    \n",
    "    dict_full = df[df[full].notna() & df[empty].isna()][full].to_dict()\n",
    "    dict_unique = {} \n",
    "\n",
    "    for i in list(set(dict_full.values())):\n",
    "        c = list(set(df[(df[full] == i) & (df[empty].notna())][empty].tolist()))\n",
    "        dict_unique[i] = c\n",
    "        \n",
    "    for j in dict_full:\n",
    "        if dict_full[j] in dict_unique.keys() and dict_unique[dict_full[j]] != []:\n",
    "            df.loc[j, empty] = dict_unique[dict_full[j]][0]\n",
    "    \n",
    "    still_empty = df[empty].isna().sum()\n",
    "    text = (\n",
    "        f'В столбце \"{empty}\" было пустых ячеек - {was_empty}.\\n'\n",
    "        f'Из них - при непустых в \"{full}\" - {full_empty}.\\n'\n",
    "        f'Из них заполнено ячеек - {was_empty - still_empty}.\\n'\n",
    "        f'Осталось всего незаполненных ячеек - {still_empty}.'\n",
    "    )  \n",
    "    if t == True:\n",
    "        print(text)\n",
    "        \n",
    "    return"
   ]
  },
  {
   "cell_type": "markdown",
   "metadata": {},
   "source": [
    "Эта функция поможет нам заполнить пропуски там, где корреляция ничего не покажет.\n",
    "\n",
    "Судя по описанию, а также по указанным с точностью до метра значениям, расстояния до центра, аэропортов, парков и прудов формируются автоматически, на основе картографических данных.\n",
    "\n",
    "Исходя из этого данные расстояния можно использовать как уникальные идентификаторы зданий, где находятся продаваемые квартиры.\n",
    "\n",
    "Если, например, расстояние до центра от двух квартир абсолютно одинаковое, то это значит, что они находятся в одном здании. И если в одном из этих двух объявлений указан населенный пункт, а в другом - нет, то смело можно заполнить пропуск тем же значением.\n",
    "\n",
    "Теоретически можно допустить, что квартиры с одинаковым расстоянием до центра находятся в разных местах (на окружности одного радиуса от центра). Но вероятность этого пренебрежимо мала."
   ]
  },
  {
   "cell_type": "markdown",
   "metadata": {},
   "source": [
    "Для еще большего удобства дополним эту функцию еще одной."
   ]
  },
  {
   "cell_type": "markdown",
   "metadata": {},
   "source": [
    "5) Функция проделывает те же шаги, что и предыдущая, но перебирая все 4 названных столбца  (с расстоянием до центра, аэропортов, парков и прудов - назовем их \"базовыми объектами\") для максимального заполнения конкретно выбранного."
   ]
  },
  {
   "cell_type": "code",
   "execution_count": 15,
   "metadata": {},
   "outputs": [],
   "source": [
    "# Функция, используя другую, основную функцию filler(), проверяет 4 столбца датафрейма, выявляя наиболее оптимальный вариант.\n",
    "# Затем, выбрав, заполняет с помощью той же функции filler() \n",
    "\n",
    "def fillall(column):\n",
    "    \n",
    "    basic_columns = ['airports_nearest', 'cityCenters_nearest', 'parks_nearest', 'ponds_nearest']\n",
    "    print(f'Пропуски в столбце \"{column}\" можно заполнить с помощью столбцов:')\n",
    "    initially_empty = data[column].isna().sum()\n",
    "    \n",
    "    while True: \n",
    "        compare_dict = {}\n",
    "        for col in basic_columns:\n",
    "            df_test = data.copy()\n",
    "            was_empty = df_test[column].isna().sum()\n",
    "            filler(df_test, col, column, t=False)\n",
    "            still_empty = df_test[column].isna().sum()\n",
    "            filled = was_empty - still_empty\n",
    "            compare_dict[filled] = col\n",
    "            print(f'\"{col}\" - в {filled} ячейках')\n",
    "        if max(compare_dict) > 0:\n",
    "            print(f'\\nМаксимум пропусков, которые можно заполнить: {max(compare_dict)}.')\n",
    "            print(f'Заполняем их с помощью столбца \"{compare_dict[max(compare_dict)]}\".\\n')\n",
    "            filler(data, compare_dict[max(compare_dict)], column, t=False)\n",
    "            print(\"\\nВот как с помощью этих же столбцов можно заполнить оставшиеся пропуски:\")\n",
    "        else:\n",
    "            break\n",
    "    del df_test\n",
    "    print(\n",
    "        '\\nВсе, что можно было заполнить этим способом - заполнено.\\n'\n",
    "        f'В столбце \"{column}\" было пустых ячеек - {initially_empty}.\\n'\n",
    "        f'Из них заполнено ячеек - {initially_empty - still_empty}.\\n'\n",
    "        f'Осталось всего незаполненных ячеек - {still_empty}.'\n",
    "    )     \n",
    "    return"
   ]
  },
  {
   "cell_type": "markdown",
   "metadata": {},
   "source": [
    "Изучим отдельно каждый столбец на наличие проблем. Как уже было обнаружено ранее, пропущены значения в следующих столбцах:\n",
    "    \n",
    "- ceiling_height (высота потолков, м)\n",
    "- floors_total (этажность)\n",
    "- living_area (жилая площадь, кв. м)\n",
    "- is_apartment (апартаменты, да/нет)\n",
    "- kitchen_area (площадь кухни, кв. м)\n",
    "- balcony (количество балконов)\n",
    "- locality_name (населенный пункт)\n",
    "- airports_nearest (близость к аэропортам, м)\n",
    "- city_сenters_nearest (близость к центру, м)\n",
    "- parks_around3000 (количество парков в радиусе 3000 м)\n",
    "- parks_nearest (близость к паркам, м)\n",
    "- ponds_around3000 (количество прудов в радиусе 3000 м)\n",
    "- ponds_nearest (близость к прудам, м)\n",
    "- days_exposition (срок объявления, дней)"
   ]
  },
  {
   "cell_type": "markdown",
   "metadata": {},
   "source": [
    "Сначала сгруппируем эти столбцы по схожести причин пропусков в них: "
   ]
  },
  {
   "cell_type": "markdown",
   "metadata": {},
   "source": [
    "1. Высота потолков.\n",
    "2. Апартаменты.\n",
    "3. Количество балконов.\n",
    "4. Количество парков и прудов. Близость к паркам, прудам, аэропортам, центру.\n",
    "5. Жилая площадь и площадь кухни.\n",
    "6. Этажность.\n",
    "7. Название населенного пункта.\n",
    "8. Длительность размещения объявления."
   ]
  },
  {
   "cell_type": "markdown",
   "metadata": {},
   "source": [
    "Посмотрим таблицу линейной корреляции (матрицу корреляций) различных параметров между собой, применив функцию coor_above()."
   ]
  },
  {
   "cell_type": "code",
   "execution_count": 16,
   "metadata": {},
   "outputs": [
    {
     "data": {
      "text/html": [
       "<div>\n",
       "<style scoped>\n",
       "    .dataframe tbody tr th:only-of-type {\n",
       "        vertical-align: middle;\n",
       "    }\n",
       "\n",
       "    .dataframe tbody tr th {\n",
       "        vertical-align: top;\n",
       "    }\n",
       "\n",
       "    .dataframe thead th {\n",
       "        text-align: right;\n",
       "    }\n",
       "</style>\n",
       "<table border=\"1\" class=\"dataframe\">\n",
       "  <thead>\n",
       "    <tr style=\"text-align: right;\">\n",
       "      <th></th>\n",
       "      <th>total_images</th>\n",
       "      <th>last_price</th>\n",
       "      <th>total_area</th>\n",
       "      <th>rooms</th>\n",
       "      <th>ceiling_height</th>\n",
       "      <th>floors_total</th>\n",
       "      <th>living_area</th>\n",
       "      <th>floor</th>\n",
       "      <th>studio</th>\n",
       "      <th>open_plan</th>\n",
       "      <th>kitchen_area</th>\n",
       "      <th>balcony</th>\n",
       "      <th>airports_nearest</th>\n",
       "      <th>cityCenters_nearest</th>\n",
       "      <th>parks_around3000</th>\n",
       "      <th>parks_nearest</th>\n",
       "      <th>ponds_around3000</th>\n",
       "      <th>ponds_nearest</th>\n",
       "      <th>days_exposition</th>\n",
       "    </tr>\n",
       "  </thead>\n",
       "  <tbody>\n",
       "    <tr>\n",
       "      <th>total_images</th>\n",
       "      <td></td>\n",
       "      <td>0.104473</td>\n",
       "      <td>0.115352</td>\n",
       "      <td></td>\n",
       "      <td></td>\n",
       "      <td></td>\n",
       "      <td>0.10478</td>\n",
       "      <td></td>\n",
       "      <td></td>\n",
       "      <td></td>\n",
       "      <td>0.104756</td>\n",
       "      <td>0.121693</td>\n",
       "      <td></td>\n",
       "      <td></td>\n",
       "      <td></td>\n",
       "      <td></td>\n",
       "      <td></td>\n",
       "      <td></td>\n",
       "      <td></td>\n",
       "    </tr>\n",
       "    <tr>\n",
       "      <th>last_price</th>\n",
       "      <td>0.104473</td>\n",
       "      <td></td>\n",
       "      <td>0.653675</td>\n",
       "      <td>0.363343</td>\n",
       "      <td></td>\n",
       "      <td></td>\n",
       "      <td>0.566492</td>\n",
       "      <td></td>\n",
       "      <td></td>\n",
       "      <td></td>\n",
       "      <td>0.519869</td>\n",
       "      <td></td>\n",
       "      <td></td>\n",
       "      <td>-0.206747</td>\n",
       "      <td>0.151058</td>\n",
       "      <td></td>\n",
       "      <td>0.159996</td>\n",
       "      <td></td>\n",
       "      <td></td>\n",
       "    </tr>\n",
       "    <tr>\n",
       "      <th>total_area</th>\n",
       "      <td>0.115352</td>\n",
       "      <td>0.653675</td>\n",
       "      <td></td>\n",
       "      <td>0.758344</td>\n",
       "      <td></td>\n",
       "      <td></td>\n",
       "      <td>0.939537</td>\n",
       "      <td></td>\n",
       "      <td></td>\n",
       "      <td></td>\n",
       "      <td>0.609121</td>\n",
       "      <td></td>\n",
       "      <td></td>\n",
       "      <td>-0.231446</td>\n",
       "      <td>0.164689</td>\n",
       "      <td></td>\n",
       "      <td>0.162346</td>\n",
       "      <td></td>\n",
       "      <td>0.149675</td>\n",
       "    </tr>\n",
       "    <tr>\n",
       "      <th>rooms</th>\n",
       "      <td></td>\n",
       "      <td>0.363343</td>\n",
       "      <td>0.758344</td>\n",
       "      <td></td>\n",
       "      <td></td>\n",
       "      <td>-0.228215</td>\n",
       "      <td>0.845977</td>\n",
       "      <td>-0.150862</td>\n",
       "      <td>-0.147286</td>\n",
       "      <td></td>\n",
       "      <td>0.269945</td>\n",
       "      <td></td>\n",
       "      <td></td>\n",
       "      <td>-0.184864</td>\n",
       "      <td>0.137257</td>\n",
       "      <td></td>\n",
       "      <td></td>\n",
       "      <td></td>\n",
       "      <td>0.126961</td>\n",
       "    </tr>\n",
       "    <tr>\n",
       "      <th>ceiling_height</th>\n",
       "      <td></td>\n",
       "      <td></td>\n",
       "      <td></td>\n",
       "      <td></td>\n",
       "      <td></td>\n",
       "      <td></td>\n",
       "      <td></td>\n",
       "      <td></td>\n",
       "      <td></td>\n",
       "      <td></td>\n",
       "      <td></td>\n",
       "      <td></td>\n",
       "      <td></td>\n",
       "      <td></td>\n",
       "      <td></td>\n",
       "      <td></td>\n",
       "      <td></td>\n",
       "      <td></td>\n",
       "      <td></td>\n",
       "    </tr>\n",
       "    <tr>\n",
       "      <th>floors_total</th>\n",
       "      <td></td>\n",
       "      <td></td>\n",
       "      <td></td>\n",
       "      <td>-0.228215</td>\n",
       "      <td></td>\n",
       "      <td></td>\n",
       "      <td>-0.169311</td>\n",
       "      <td>0.678059</td>\n",
       "      <td></td>\n",
       "      <td></td>\n",
       "      <td>0.163944</td>\n",
       "      <td>0.194065</td>\n",
       "      <td>0.108288</td>\n",
       "      <td></td>\n",
       "      <td>-0.252833</td>\n",
       "      <td></td>\n",
       "      <td>-0.122735</td>\n",
       "      <td></td>\n",
       "      <td></td>\n",
       "    </tr>\n",
       "    <tr>\n",
       "      <th>living_area</th>\n",
       "      <td>0.10478</td>\n",
       "      <td>0.566492</td>\n",
       "      <td>0.939537</td>\n",
       "      <td>0.845977</td>\n",
       "      <td></td>\n",
       "      <td>-0.169311</td>\n",
       "      <td></td>\n",
       "      <td></td>\n",
       "      <td></td>\n",
       "      <td></td>\n",
       "      <td>0.428674</td>\n",
       "      <td></td>\n",
       "      <td></td>\n",
       "      <td>-0.231368</td>\n",
       "      <td>0.184453</td>\n",
       "      <td></td>\n",
       "      <td>0.148933</td>\n",
       "      <td></td>\n",
       "      <td>0.142454</td>\n",
       "    </tr>\n",
       "    <tr>\n",
       "      <th>floor</th>\n",
       "      <td></td>\n",
       "      <td></td>\n",
       "      <td></td>\n",
       "      <td>-0.150862</td>\n",
       "      <td></td>\n",
       "      <td>0.678059</td>\n",
       "      <td></td>\n",
       "      <td></td>\n",
       "      <td></td>\n",
       "      <td></td>\n",
       "      <td>0.135531</td>\n",
       "      <td>0.168773</td>\n",
       "      <td></td>\n",
       "      <td></td>\n",
       "      <td>-0.163784</td>\n",
       "      <td></td>\n",
       "      <td></td>\n",
       "      <td></td>\n",
       "      <td></td>\n",
       "    </tr>\n",
       "    <tr>\n",
       "      <th>studio</th>\n",
       "      <td></td>\n",
       "      <td></td>\n",
       "      <td></td>\n",
       "      <td>-0.147286</td>\n",
       "      <td></td>\n",
       "      <td></td>\n",
       "      <td></td>\n",
       "      <td></td>\n",
       "      <td></td>\n",
       "      <td></td>\n",
       "      <td></td>\n",
       "      <td></td>\n",
       "      <td></td>\n",
       "      <td></td>\n",
       "      <td></td>\n",
       "      <td></td>\n",
       "      <td></td>\n",
       "      <td></td>\n",
       "      <td></td>\n",
       "    </tr>\n",
       "    <tr>\n",
       "      <th>open_plan</th>\n",
       "      <td></td>\n",
       "      <td></td>\n",
       "      <td></td>\n",
       "      <td></td>\n",
       "      <td></td>\n",
       "      <td></td>\n",
       "      <td></td>\n",
       "      <td></td>\n",
       "      <td></td>\n",
       "      <td></td>\n",
       "      <td></td>\n",
       "      <td></td>\n",
       "      <td></td>\n",
       "      <td></td>\n",
       "      <td></td>\n",
       "      <td></td>\n",
       "      <td></td>\n",
       "      <td></td>\n",
       "      <td></td>\n",
       "    </tr>\n",
       "    <tr>\n",
       "      <th>kitchen_area</th>\n",
       "      <td>0.104756</td>\n",
       "      <td>0.519869</td>\n",
       "      <td>0.609121</td>\n",
       "      <td>0.269945</td>\n",
       "      <td></td>\n",
       "      <td>0.163944</td>\n",
       "      <td>0.428674</td>\n",
       "      <td>0.135531</td>\n",
       "      <td></td>\n",
       "      <td></td>\n",
       "      <td></td>\n",
       "      <td></td>\n",
       "      <td></td>\n",
       "      <td>-0.190049</td>\n",
       "      <td></td>\n",
       "      <td></td>\n",
       "      <td>0.150148</td>\n",
       "      <td>-0.105223</td>\n",
       "      <td>0.100586</td>\n",
       "    </tr>\n",
       "    <tr>\n",
       "      <th>balcony</th>\n",
       "      <td>0.121693</td>\n",
       "      <td></td>\n",
       "      <td></td>\n",
       "      <td></td>\n",
       "      <td></td>\n",
       "      <td>0.194065</td>\n",
       "      <td></td>\n",
       "      <td>0.168773</td>\n",
       "      <td></td>\n",
       "      <td></td>\n",
       "      <td></td>\n",
       "      <td></td>\n",
       "      <td></td>\n",
       "      <td></td>\n",
       "      <td></td>\n",
       "      <td></td>\n",
       "      <td></td>\n",
       "      <td></td>\n",
       "      <td></td>\n",
       "    </tr>\n",
       "    <tr>\n",
       "      <th>airports_nearest</th>\n",
       "      <td></td>\n",
       "      <td></td>\n",
       "      <td></td>\n",
       "      <td></td>\n",
       "      <td></td>\n",
       "      <td>0.108288</td>\n",
       "      <td></td>\n",
       "      <td></td>\n",
       "      <td></td>\n",
       "      <td></td>\n",
       "      <td></td>\n",
       "      <td></td>\n",
       "      <td></td>\n",
       "      <td>0.272184</td>\n",
       "      <td></td>\n",
       "      <td></td>\n",
       "      <td></td>\n",
       "      <td></td>\n",
       "      <td></td>\n",
       "    </tr>\n",
       "    <tr>\n",
       "      <th>cityCenters_nearest</th>\n",
       "      <td></td>\n",
       "      <td>-0.206747</td>\n",
       "      <td>-0.231446</td>\n",
       "      <td>-0.184864</td>\n",
       "      <td></td>\n",
       "      <td></td>\n",
       "      <td>-0.231368</td>\n",
       "      <td></td>\n",
       "      <td></td>\n",
       "      <td></td>\n",
       "      <td>-0.190049</td>\n",
       "      <td></td>\n",
       "      <td>0.272184</td>\n",
       "      <td></td>\n",
       "      <td>-0.161738</td>\n",
       "      <td></td>\n",
       "      <td></td>\n",
       "      <td></td>\n",
       "      <td></td>\n",
       "    </tr>\n",
       "    <tr>\n",
       "      <th>parks_around3000</th>\n",
       "      <td></td>\n",
       "      <td>0.151058</td>\n",
       "      <td>0.164689</td>\n",
       "      <td>0.137257</td>\n",
       "      <td></td>\n",
       "      <td>-0.252833</td>\n",
       "      <td>0.184453</td>\n",
       "      <td>-0.163784</td>\n",
       "      <td></td>\n",
       "      <td></td>\n",
       "      <td></td>\n",
       "      <td></td>\n",
       "      <td></td>\n",
       "      <td>-0.161738</td>\n",
       "      <td></td>\n",
       "      <td>-0.259514</td>\n",
       "      <td>0.304316</td>\n",
       "      <td>-0.167103</td>\n",
       "      <td></td>\n",
       "    </tr>\n",
       "    <tr>\n",
       "      <th>parks_nearest</th>\n",
       "      <td></td>\n",
       "      <td></td>\n",
       "      <td></td>\n",
       "      <td></td>\n",
       "      <td></td>\n",
       "      <td></td>\n",
       "      <td></td>\n",
       "      <td></td>\n",
       "      <td></td>\n",
       "      <td></td>\n",
       "      <td></td>\n",
       "      <td></td>\n",
       "      <td></td>\n",
       "      <td></td>\n",
       "      <td>-0.259514</td>\n",
       "      <td></td>\n",
       "      <td></td>\n",
       "      <td></td>\n",
       "      <td></td>\n",
       "    </tr>\n",
       "    <tr>\n",
       "      <th>ponds_around3000</th>\n",
       "      <td></td>\n",
       "      <td>0.159996</td>\n",
       "      <td>0.162346</td>\n",
       "      <td></td>\n",
       "      <td></td>\n",
       "      <td>-0.122735</td>\n",
       "      <td>0.148933</td>\n",
       "      <td></td>\n",
       "      <td></td>\n",
       "      <td></td>\n",
       "      <td>0.150148</td>\n",
       "      <td></td>\n",
       "      <td></td>\n",
       "      <td></td>\n",
       "      <td>0.304316</td>\n",
       "      <td></td>\n",
       "      <td></td>\n",
       "      <td>-0.34184</td>\n",
       "      <td></td>\n",
       "    </tr>\n",
       "    <tr>\n",
       "      <th>ponds_nearest</th>\n",
       "      <td></td>\n",
       "      <td></td>\n",
       "      <td></td>\n",
       "      <td></td>\n",
       "      <td></td>\n",
       "      <td></td>\n",
       "      <td></td>\n",
       "      <td></td>\n",
       "      <td></td>\n",
       "      <td></td>\n",
       "      <td>-0.105223</td>\n",
       "      <td></td>\n",
       "      <td></td>\n",
       "      <td></td>\n",
       "      <td>-0.167103</td>\n",
       "      <td></td>\n",
       "      <td>-0.34184</td>\n",
       "      <td></td>\n",
       "      <td></td>\n",
       "    </tr>\n",
       "    <tr>\n",
       "      <th>days_exposition</th>\n",
       "      <td></td>\n",
       "      <td></td>\n",
       "      <td>0.149675</td>\n",
       "      <td>0.126961</td>\n",
       "      <td></td>\n",
       "      <td></td>\n",
       "      <td>0.142454</td>\n",
       "      <td></td>\n",
       "      <td></td>\n",
       "      <td></td>\n",
       "      <td>0.100586</td>\n",
       "      <td></td>\n",
       "      <td></td>\n",
       "      <td></td>\n",
       "      <td></td>\n",
       "      <td></td>\n",
       "      <td></td>\n",
       "      <td></td>\n",
       "      <td></td>\n",
       "    </tr>\n",
       "  </tbody>\n",
       "</table>\n",
       "</div>"
      ],
      "text/plain": [
       "                    total_images last_price total_area     rooms  \\\n",
       "total_images                       0.104473   0.115352             \n",
       "last_price              0.104473              0.653675  0.363343   \n",
       "total_area              0.115352   0.653675             0.758344   \n",
       "rooms                              0.363343   0.758344             \n",
       "ceiling_height                                                     \n",
       "floors_total                                           -0.228215   \n",
       "living_area              0.10478   0.566492   0.939537  0.845977   \n",
       "floor                                                  -0.150862   \n",
       "studio                                                 -0.147286   \n",
       "open_plan                                                          \n",
       "kitchen_area            0.104756   0.519869   0.609121  0.269945   \n",
       "balcony                 0.121693                                   \n",
       "airports_nearest                                                   \n",
       "cityCenters_nearest               -0.206747  -0.231446 -0.184864   \n",
       "parks_around3000                   0.151058   0.164689  0.137257   \n",
       "parks_nearest                                                      \n",
       "ponds_around3000                   0.159996   0.162346             \n",
       "ponds_nearest                                                      \n",
       "days_exposition                               0.149675  0.126961   \n",
       "\n",
       "                    ceiling_height floors_total living_area     floor  \\\n",
       "total_images                                        0.10478             \n",
       "last_price                                         0.566492             \n",
       "total_area                                         0.939537             \n",
       "rooms                                 -0.228215    0.845977 -0.150862   \n",
       "ceiling_height                                                          \n",
       "floors_total                                      -0.169311  0.678059   \n",
       "living_area                           -0.169311                         \n",
       "floor                                  0.678059                         \n",
       "studio                                                                  \n",
       "open_plan                                                               \n",
       "kitchen_area                           0.163944    0.428674  0.135531   \n",
       "balcony                                0.194065              0.168773   \n",
       "airports_nearest                       0.108288                         \n",
       "cityCenters_nearest                               -0.231368             \n",
       "parks_around3000                      -0.252833    0.184453 -0.163784   \n",
       "parks_nearest                                                           \n",
       "ponds_around3000                      -0.122735    0.148933             \n",
       "ponds_nearest                                                           \n",
       "days_exposition                                    0.142454             \n",
       "\n",
       "                       studio open_plan kitchen_area   balcony  \\\n",
       "total_images                                0.104756  0.121693   \n",
       "last_price                                  0.519869             \n",
       "total_area                                  0.609121             \n",
       "rooms               -0.147286               0.269945             \n",
       "ceiling_height                                                   \n",
       "floors_total                                0.163944  0.194065   \n",
       "living_area                                 0.428674             \n",
       "floor                                       0.135531  0.168773   \n",
       "studio                                                           \n",
       "open_plan                                                        \n",
       "kitchen_area                                                     \n",
       "balcony                                                          \n",
       "airports_nearest                                                 \n",
       "cityCenters_nearest                        -0.190049             \n",
       "parks_around3000                                                 \n",
       "parks_nearest                                                    \n",
       "ponds_around3000                            0.150148             \n",
       "ponds_nearest                              -0.105223             \n",
       "days_exposition                             0.100586             \n",
       "\n",
       "                    airports_nearest cityCenters_nearest parks_around3000  \\\n",
       "total_images                                                                \n",
       "last_price                                     -0.206747         0.151058   \n",
       "total_area                                     -0.231446         0.164689   \n",
       "rooms                                          -0.184864         0.137257   \n",
       "ceiling_height                                                              \n",
       "floors_total                0.108288                            -0.252833   \n",
       "living_area                                    -0.231368         0.184453   \n",
       "floor                                                           -0.163784   \n",
       "studio                                                                      \n",
       "open_plan                                                                   \n",
       "kitchen_area                                   -0.190049                    \n",
       "balcony                                                                     \n",
       "airports_nearest                                0.272184                    \n",
       "cityCenters_nearest         0.272184                            -0.161738   \n",
       "parks_around3000                               -0.161738                    \n",
       "parks_nearest                                                   -0.259514   \n",
       "ponds_around3000                                                 0.304316   \n",
       "ponds_nearest                                                   -0.167103   \n",
       "days_exposition                                                             \n",
       "\n",
       "                    parks_nearest ponds_around3000 ponds_nearest  \\\n",
       "total_images                                                       \n",
       "last_price                                0.159996                 \n",
       "total_area                                0.162346                 \n",
       "rooms                                                              \n",
       "ceiling_height                                                     \n",
       "floors_total                             -0.122735                 \n",
       "living_area                               0.148933                 \n",
       "floor                                                              \n",
       "studio                                                             \n",
       "open_plan                                                          \n",
       "kitchen_area                              0.150148     -0.105223   \n",
       "balcony                                                            \n",
       "airports_nearest                                                   \n",
       "cityCenters_nearest                                                \n",
       "parks_around3000        -0.259514         0.304316     -0.167103   \n",
       "parks_nearest                                                      \n",
       "ponds_around3000                                        -0.34184   \n",
       "ponds_nearest                             -0.34184                 \n",
       "days_exposition                                                    \n",
       "\n",
       "                    days_exposition  \n",
       "total_images                         \n",
       "last_price                           \n",
       "total_area                 0.149675  \n",
       "rooms                      0.126961  \n",
       "ceiling_height                       \n",
       "floors_total                         \n",
       "living_area                0.142454  \n",
       "floor                                \n",
       "studio                               \n",
       "open_plan                            \n",
       "kitchen_area               0.100586  \n",
       "balcony                              \n",
       "airports_nearest                     \n",
       "cityCenters_nearest                  \n",
       "parks_around3000                     \n",
       "parks_nearest                        \n",
       "ponds_around3000                     \n",
       "ponds_nearest                        \n",
       "days_exposition                      "
      ]
     },
     "execution_count": 16,
     "metadata": {},
     "output_type": "execute_result"
    }
   ],
   "source": [
    "# Очищаем таблицу от небольших значений коэффициента корреляции Пирсона (до 0,1).\n",
    "\n",
    "corr_above(data, 0.1)"
   ]
  },
  {
   "cell_type": "code",
   "execution_count": 17,
   "metadata": {},
   "outputs": [
    {
     "data": {
      "text/html": [
       "<div>\n",
       "<style scoped>\n",
       "    .dataframe tbody tr th:only-of-type {\n",
       "        vertical-align: middle;\n",
       "    }\n",
       "\n",
       "    .dataframe tbody tr th {\n",
       "        vertical-align: top;\n",
       "    }\n",
       "\n",
       "    .dataframe thead th {\n",
       "        text-align: right;\n",
       "    }\n",
       "</style>\n",
       "<table border=\"1\" class=\"dataframe\">\n",
       "  <thead>\n",
       "    <tr style=\"text-align: right;\">\n",
       "      <th></th>\n",
       "      <th>name_min</th>\n",
       "      <th>corr_min</th>\n",
       "      <th>name_max</th>\n",
       "      <th>corr_max</th>\n",
       "    </tr>\n",
       "  </thead>\n",
       "  <tbody>\n",
       "    <tr>\n",
       "      <th>total_images</th>\n",
       "      <td>cityCenters_nearest</td>\n",
       "      <td>-0.047666</td>\n",
       "      <td>balcony</td>\n",
       "      <td>0.121693</td>\n",
       "    </tr>\n",
       "    <tr>\n",
       "      <th>last_price</th>\n",
       "      <td>cityCenters_nearest</td>\n",
       "      <td>-0.206747</td>\n",
       "      <td>total_area</td>\n",
       "      <td>0.653675</td>\n",
       "    </tr>\n",
       "    <tr>\n",
       "      <th>total_area</th>\n",
       "      <td>cityCenters_nearest</td>\n",
       "      <td>-0.231446</td>\n",
       "      <td>living_area</td>\n",
       "      <td>0.939537</td>\n",
       "    </tr>\n",
       "    <tr>\n",
       "      <th>rooms</th>\n",
       "      <td>floors_total</td>\n",
       "      <td>-0.228215</td>\n",
       "      <td>living_area</td>\n",
       "      <td>0.845977</td>\n",
       "    </tr>\n",
       "    <tr>\n",
       "      <th>ceiling_height</th>\n",
       "      <td>cityCenters_nearest</td>\n",
       "      <td>-0.091689</td>\n",
       "      <td>total_area</td>\n",
       "      <td>0.095490</td>\n",
       "    </tr>\n",
       "    <tr>\n",
       "      <th>floors_total</th>\n",
       "      <td>parks_around3000</td>\n",
       "      <td>-0.252833</td>\n",
       "      <td>floor</td>\n",
       "      <td>0.678059</td>\n",
       "    </tr>\n",
       "    <tr>\n",
       "      <th>living_area</th>\n",
       "      <td>cityCenters_nearest</td>\n",
       "      <td>-0.231368</td>\n",
       "      <td>total_area</td>\n",
       "      <td>0.939537</td>\n",
       "    </tr>\n",
       "    <tr>\n",
       "      <th>floor</th>\n",
       "      <td>parks_around3000</td>\n",
       "      <td>-0.163784</td>\n",
       "      <td>floors_total</td>\n",
       "      <td>0.678059</td>\n",
       "    </tr>\n",
       "    <tr>\n",
       "      <th>studio</th>\n",
       "      <td>rooms</td>\n",
       "      <td>-0.147286</td>\n",
       "      <td>studio</td>\n",
       "      <td>1.000000</td>\n",
       "    </tr>\n",
       "    <tr>\n",
       "      <th>open_plan</th>\n",
       "      <td>rooms</td>\n",
       "      <td>-0.087500</td>\n",
       "      <td>open_plan</td>\n",
       "      <td>1.000000</td>\n",
       "    </tr>\n",
       "    <tr>\n",
       "      <th>kitchen_area</th>\n",
       "      <td>cityCenters_nearest</td>\n",
       "      <td>-0.190049</td>\n",
       "      <td>studio</td>\n",
       "      <td>NaN</td>\n",
       "    </tr>\n",
       "    <tr>\n",
       "      <th>balcony</th>\n",
       "      <td>parks_around3000</td>\n",
       "      <td>-0.082850</td>\n",
       "      <td>floors_total</td>\n",
       "      <td>0.194065</td>\n",
       "    </tr>\n",
       "    <tr>\n",
       "      <th>airports_nearest</th>\n",
       "      <td>parks_nearest</td>\n",
       "      <td>-0.070058</td>\n",
       "      <td>cityCenters_nearest</td>\n",
       "      <td>0.272184</td>\n",
       "    </tr>\n",
       "    <tr>\n",
       "      <th>cityCenters_nearest</th>\n",
       "      <td>total_area</td>\n",
       "      <td>-0.231446</td>\n",
       "      <td>airports_nearest</td>\n",
       "      <td>0.272184</td>\n",
       "    </tr>\n",
       "    <tr>\n",
       "      <th>parks_around3000</th>\n",
       "      <td>parks_nearest</td>\n",
       "      <td>-0.259514</td>\n",
       "      <td>ponds_around3000</td>\n",
       "      <td>0.304316</td>\n",
       "    </tr>\n",
       "    <tr>\n",
       "      <th>parks_nearest</th>\n",
       "      <td>parks_around3000</td>\n",
       "      <td>-0.259514</td>\n",
       "      <td>floors_total</td>\n",
       "      <td>0.097527</td>\n",
       "    </tr>\n",
       "    <tr>\n",
       "      <th>ponds_around3000</th>\n",
       "      <td>ponds_nearest</td>\n",
       "      <td>-0.341840</td>\n",
       "      <td>parks_around3000</td>\n",
       "      <td>0.304316</td>\n",
       "    </tr>\n",
       "    <tr>\n",
       "      <th>ponds_nearest</th>\n",
       "      <td>ponds_around3000</td>\n",
       "      <td>-0.341840</td>\n",
       "      <td>floors_total</td>\n",
       "      <td>0.038864</td>\n",
       "    </tr>\n",
       "    <tr>\n",
       "      <th>days_exposition</th>\n",
       "      <td>ponds_nearest</td>\n",
       "      <td>-0.077879</td>\n",
       "      <td>total_area</td>\n",
       "      <td>0.149675</td>\n",
       "    </tr>\n",
       "  </tbody>\n",
       "</table>\n",
       "</div>"
      ],
      "text/plain": [
       "                                name_min  corr_min             name_max  \\\n",
       "total_images         cityCenters_nearest -0.047666              balcony   \n",
       "last_price           cityCenters_nearest -0.206747           total_area   \n",
       "total_area           cityCenters_nearest -0.231446          living_area   \n",
       "rooms                       floors_total -0.228215          living_area   \n",
       "ceiling_height       cityCenters_nearest -0.091689           total_area   \n",
       "floors_total            parks_around3000 -0.252833                floor   \n",
       "living_area          cityCenters_nearest -0.231368           total_area   \n",
       "floor                   parks_around3000 -0.163784         floors_total   \n",
       "studio                             rooms -0.147286               studio   \n",
       "open_plan                          rooms -0.087500            open_plan   \n",
       "kitchen_area         cityCenters_nearest -0.190049               studio   \n",
       "balcony                 parks_around3000 -0.082850         floors_total   \n",
       "airports_nearest           parks_nearest -0.070058  cityCenters_nearest   \n",
       "cityCenters_nearest           total_area -0.231446     airports_nearest   \n",
       "parks_around3000           parks_nearest -0.259514     ponds_around3000   \n",
       "parks_nearest           parks_around3000 -0.259514         floors_total   \n",
       "ponds_around3000           ponds_nearest -0.341840     parks_around3000   \n",
       "ponds_nearest           ponds_around3000 -0.341840         floors_total   \n",
       "days_exposition            ponds_nearest -0.077879           total_area   \n",
       "\n",
       "                     corr_max  \n",
       "total_images         0.121693  \n",
       "last_price           0.653675  \n",
       "total_area           0.939537  \n",
       "rooms                0.845977  \n",
       "ceiling_height       0.095490  \n",
       "floors_total         0.678059  \n",
       "living_area          0.939537  \n",
       "floor                0.678059  \n",
       "studio               1.000000  \n",
       "open_plan            1.000000  \n",
       "kitchen_area              NaN  \n",
       "balcony              0.194065  \n",
       "airports_nearest     0.272184  \n",
       "cityCenters_nearest  0.272184  \n",
       "parks_around3000     0.304316  \n",
       "parks_nearest        0.097527  \n",
       "ponds_around3000     0.304316  \n",
       "ponds_nearest        0.038864  \n",
       "days_exposition      0.149675  "
      ]
     },
     "execution_count": 17,
     "metadata": {},
     "output_type": "execute_result"
    }
   ],
   "source": [
    "# Запускаем функцию для обзора максимальных по модулю корреляций у каждого параметра. \n",
    "\n",
    "correlator(data)"
   ]
  },
  {
   "cell_type": "markdown",
   "metadata": {},
   "source": [
    "#### Высота потолков"
   ]
  },
  {
   "cell_type": "markdown",
   "metadata": {},
   "source": [
    "Проверим долю пропусков в столбце \"ceiling_height\"."
   ]
  },
  {
   "cell_type": "code",
   "execution_count": 18,
   "metadata": {},
   "outputs": [
    {
     "name": "stdout",
     "output_type": "stream",
     "text": [
      "В столбце \"ceiling_height\" пропущено 38.8% значений.\n"
     ]
    }
   ],
   "source": [
    "nan_ratio('ceiling_height')"
   ]
  },
  {
   "cell_type": "markdown",
   "metadata": {},
   "source": [
    "Исходя из того, что высота этажей и, соответственно, потолков в пределах каждого здания более-менее одинакова, можем, используя функцию fillall(), заполнить часть пропусков в этом столбце."
   ]
  },
  {
   "cell_type": "code",
   "execution_count": 19,
   "metadata": {},
   "outputs": [
    {
     "name": "stdout",
     "output_type": "stream",
     "text": [
      "Пропуски в столбце \"ceiling_height\" можно заполнить с помощью столбцов:\n",
      "\"airports_nearest\" - в 4187 ячейках\n",
      "\"cityCenters_nearest\" - в 4446 ячейках\n",
      "\"parks_nearest\" - в 2693 ячейках\n",
      "\"ponds_nearest\" - в 3306 ячейках\n",
      "\n",
      "Максимум пропусков, которые можно заполнить: 4446.\n",
      "Заполняем их с помощью столбца \"cityCenters_nearest\".\n",
      "\n",
      "\n",
      "Вот как с помощью этих же столбцов можно заполнить оставшиеся пропуски:\n",
      "\"airports_nearest\" - в 385 ячейках\n",
      "\"cityCenters_nearest\" - в 0 ячейках\n",
      "\"parks_nearest\" - в 968 ячейках\n",
      "\"ponds_nearest\" - в 1128 ячейках\n",
      "\n",
      "Максимум пропусков, которые можно заполнить: 1128.\n",
      "Заполняем их с помощью столбца \"ponds_nearest\".\n",
      "\n",
      "\n",
      "Вот как с помощью этих же столбцов можно заполнить оставшиеся пропуски:\n",
      "\"airports_nearest\" - в 191 ячейках\n",
      "\"cityCenters_nearest\" - в 44 ячейках\n",
      "\"parks_nearest\" - в 399 ячейках\n",
      "\"ponds_nearest\" - в 0 ячейках\n",
      "\n",
      "Максимум пропусков, которые можно заполнить: 399.\n",
      "Заполняем их с помощью столбца \"parks_nearest\".\n",
      "\n",
      "\n",
      "Вот как с помощью этих же столбцов можно заполнить оставшиеся пропуски:\n",
      "\"airports_nearest\" - в 110 ячейках\n",
      "\"cityCenters_nearest\" - в 41 ячейках\n",
      "\"parks_nearest\" - в 0 ячейках\n",
      "\"ponds_nearest\" - в 2 ячейках\n",
      "\n",
      "Максимум пропусков, которые можно заполнить: 110.\n",
      "Заполняем их с помощью столбца \"airports_nearest\".\n",
      "\n",
      "\n",
      "Вот как с помощью этих же столбцов можно заполнить оставшиеся пропуски:\n",
      "\"airports_nearest\" - в 0 ячейках\n",
      "\"cityCenters_nearest\" - в 37 ячейках\n",
      "\"parks_nearest\" - в 0 ячейках\n",
      "\"ponds_nearest\" - в 2 ячейках\n",
      "\n",
      "Максимум пропусков, которые можно заполнить: 37.\n",
      "Заполняем их с помощью столбца \"cityCenters_nearest\".\n",
      "\n",
      "\n",
      "Вот как с помощью этих же столбцов можно заполнить оставшиеся пропуски:\n",
      "\"airports_nearest\" - в 0 ячейках\n",
      "\"cityCenters_nearest\" - в 0 ячейках\n",
      "\"parks_nearest\" - в 0 ячейках\n",
      "\"ponds_nearest\" - в 2 ячейках\n",
      "\n",
      "Максимум пропусков, которые можно заполнить: 2.\n",
      "Заполняем их с помощью столбца \"ponds_nearest\".\n",
      "\n",
      "\n",
      "Вот как с помощью этих же столбцов можно заполнить оставшиеся пропуски:\n",
      "\"airports_nearest\" - в 0 ячейках\n",
      "\"cityCenters_nearest\" - в 0 ячейках\n",
      "\"parks_nearest\" - в 0 ячейках\n",
      "\"ponds_nearest\" - в 0 ячейках\n",
      "\n",
      "Все, что можно было заполнить этим способом - заполнено.\n",
      "В столбце \"ceiling_height\" было пустых ячеек - 9195.\n",
      "Из них заполнено ячеек - 6122.\n",
      "Осталось всего незаполненных ячеек - 3073.\n"
     ]
    }
   ],
   "source": [
    "fillall('ceiling_height')"
   ]
  },
  {
   "cell_type": "markdown",
   "metadata": {},
   "source": [
    "Еще раз проверим долю пропусков в столбце \"ceiling_height\"."
   ]
  },
  {
   "cell_type": "code",
   "execution_count": 20,
   "metadata": {},
   "outputs": [
    {
     "name": "stdout",
     "output_type": "stream",
     "text": [
      "В столбце \"ceiling_height\" пропущено 13.0% значений.\n"
     ]
    }
   ],
   "source": [
    "nan_ratio('ceiling_height')"
   ]
  },
  {
   "cell_type": "markdown",
   "metadata": {},
   "source": [
    "Значительную часть пропусков удалось заполнить. Попробуем заполнить оставшиеся другим способом."
   ]
  },
  {
   "cell_type": "markdown",
   "metadata": {},
   "source": [
    "Как видно из таблиц корреляций, этот параметр очень слабо связан с остальными.\n",
    "\n",
    "Максимально - это прямая связь с общей площадью, т.е. чем она больше, тем выше потолки (коэффициент Пирсона менее 0,1), и обратная - с расстоянием до центра города, т.е. чем ближе к центру, тем выше потолки (тоже менее 0,1). Но этими корреляциями можно пренебречь."
   ]
  },
  {
   "cell_type": "markdown",
   "metadata": {},
   "source": [
    "Т.е. в целом мы можем не учитывать остальные факторы и заполнить пустые ячейки в столбце \"ceiling_height\" медианным значением по всему столбцу."
   ]
  },
  {
   "cell_type": "markdown",
   "metadata": {},
   "source": [
    "Но чтобы убедиться в правильном расчете корреляций, необходимо сначала избавиться от аномалий.\n",
    "\n",
    "Как мы помним, указанная высота потолков варьируется от 1 до 100 метров."
   ]
  },
  {
   "cell_type": "markdown",
   "metadata": {},
   "source": [
    "Просмотрим отсортированный список уникальных значений высоты потолков."
   ]
  },
  {
   "cell_type": "code",
   "execution_count": 21,
   "metadata": {},
   "outputs": [
    {
     "data": {
      "text/plain": [
       "1.00       6\n",
       "1.20       1\n",
       "1.75      17\n",
       "2.00      13\n",
       "2.20       1\n",
       "2.25       1\n",
       "2.30       4\n",
       "2.34       1\n",
       "2.40      33\n",
       "2.45      17\n",
       "2.46       2\n",
       "2.47       3\n",
       "2.48      13\n",
       "2.49       1\n",
       "2.50    4993\n",
       "2.51      50\n",
       "2.52     130\n",
       "2.53      80\n",
       "2.54     107\n",
       "2.55    1286\n",
       "Name: ceiling_height, dtype: int64"
      ]
     },
     "execution_count": 21,
     "metadata": {},
     "output_type": "execute_result"
    }
   ],
   "source": [
    "# Первые 20 строк списка уникальных значений высоты потолков\n",
    "\n",
    "data['ceiling_height'].value_counts().sort_index().head(20)"
   ]
  },
  {
   "cell_type": "markdown",
   "metadata": {},
   "source": [
    "Как видим, потолков меньше 2.4 м не так много. Скорее всего, это результат опечатки. Ограничим минимум 2.4 метрами."
   ]
  },
  {
   "cell_type": "code",
   "execution_count": 22,
   "metadata": {},
   "outputs": [],
   "source": [
    "# Заменяем все значения в столбце меньше 2,4 на 2,4.\n",
    "\n",
    "data.loc[data['ceiling_height'] < 2.4, 'ceiling_height'] = 2.4"
   ]
  },
  {
   "cell_type": "code",
   "execution_count": 23,
   "metadata": {},
   "outputs": [
    {
     "data": {
      "text/plain": [
       "4.25       1\n",
       "4.30       1\n",
       "4.37       1\n",
       "4.40       7\n",
       "4.45       2\n",
       "4.50       8\n",
       "4.65       1\n",
       "4.70       2\n",
       "4.80       1\n",
       "4.90       1\n",
       "5.00       1\n",
       "5.20       1\n",
       "5.30       3\n",
       "5.50       1\n",
       "5.60       1\n",
       "5.80       3\n",
       "6.00       1\n",
       "8.00       3\n",
       "8.30       4\n",
       "10.30      1\n",
       "14.00      2\n",
       "20.00      1\n",
       "22.60      2\n",
       "24.00      1\n",
       "25.00     13\n",
       "26.00      1\n",
       "27.00     10\n",
       "27.50      1\n",
       "32.00      4\n",
       "100.00     1\n",
       "Name: ceiling_height, dtype: int64"
      ]
     },
     "execution_count": 23,
     "metadata": {},
     "output_type": "execute_result"
    }
   ],
   "source": [
    "# Последние 30 строк списка уникальных значений высоты потолков\n",
    "\n",
    "data['ceiling_height'].value_counts().sort_index().tail(30)"
   ]
  },
  {
   "cell_type": "markdown",
   "metadata": {},
   "source": [
    "В двух- трехзначных значениях, скорее всего, опечатка - смещен разделитель целой и дробной частей. Разделим значения от 24 м на 10.\n",
    "\n",
    "Ограничим высоту потолков 4,5 метрами (выше в жилых помещениях обычно не бывает). 100-метровое значение также заменится."
   ]
  },
  {
   "cell_type": "code",
   "execution_count": 24,
   "metadata": {},
   "outputs": [],
   "source": [
    "# Делим все значения в столбце, превышающие 24 м, на 10.\n",
    "# Заменяем все значения больше 4,5 на 4,5.\n",
    "\n",
    "data['ceiling_height'].where(data['ceiling_height'] < 24, other=data['ceiling_height'] / 10, inplace=True)\n",
    "\n",
    "data.loc[data['ceiling_height'] > 4.5, 'ceiling_height'] = 4.5"
   ]
  },
  {
   "cell_type": "markdown",
   "metadata": {},
   "source": [
    "Просмотрим еще раз основные статистические данные столбца \"ceiling_height\"."
   ]
  },
  {
   "cell_type": "code",
   "execution_count": 25,
   "metadata": {},
   "outputs": [
    {
     "data": {
      "text/plain": [
       "count    20626.000000\n",
       "mean         2.725941\n",
       "std          0.271273\n",
       "min          2.400000\n",
       "25%          2.510000\n",
       "50%          2.650000\n",
       "75%          2.800000\n",
       "max          4.500000\n",
       "Name: ceiling_height, dtype: float64"
      ]
     },
     "execution_count": 25,
     "metadata": {},
     "output_type": "execute_result"
    }
   ],
   "source": [
    "data['ceiling_height'].describe()"
   ]
  },
  {
   "cell_type": "markdown",
   "metadata": {},
   "source": [
    "Как видим, теперь минимальное и максимальное значения вернулись в пределы нормы. Общее число заполненных значений не изменилось."
   ]
  },
  {
   "cell_type": "markdown",
   "metadata": {},
   "source": [
    "Вернемся к заполнению пустых ячеек в столбце."
   ]
  },
  {
   "cell_type": "markdown",
   "metadata": {},
   "source": [
    "Еще раз просмотрим очищенную матрицу корреляций, но отдельно для столбца с высотой потолков, и отобрав только коэффициенты от 0,35 и выше."
   ]
  },
  {
   "cell_type": "code",
   "execution_count": 26,
   "metadata": {},
   "outputs": [
    {
     "data": {
      "text/plain": [
       "total_images                   \n",
       "last_price                     \n",
       "total_area             0.409868\n",
       "rooms                          \n",
       "ceiling_height                 \n",
       "floors_total                   \n",
       "living_area            0.386664\n",
       "floor                          \n",
       "studio                         \n",
       "open_plan                      \n",
       "kitchen_area           0.365238\n",
       "balcony                        \n",
       "airports_nearest               \n",
       "cityCenters_nearest            \n",
       "parks_around3000               \n",
       "parks_nearest                  \n",
       "ponds_around3000               \n",
       "ponds_nearest                  \n",
       "days_exposition                \n",
       "Name: ceiling_height, dtype: object"
      ]
     },
     "execution_count": 26,
     "metadata": {},
     "output_type": "execute_result"
    }
   ],
   "source": [
    "# Выводим корреляционную матрицу для столбца \"ceiling_height\" со значениями, которые по модулю не меньше 0,35.\n",
    "\n",
    "corr_above(data, 0.35)['ceiling_height']"
   ]
  },
  {
   "cell_type": "markdown",
   "metadata": {},
   "source": [
    "Как видим, корреляция на самом деле есть. Сильнее всего высота потолков коррелирует с площадью (общей, жилой, кухни).\n",
    "\n",
    "Прежде всего, имеет значение общая площадь, т.к. жилая и площадь кухни связаны с ней."
   ]
  },
  {
   "cell_type": "markdown",
   "metadata": {},
   "source": [
    "Кроме того, необходимо отметить еще один параметр (категориальный), который по понятным причинам не мог попасть в матрицу корреляций - населенный пункт. Но его также необходимо учитывать для нахождения медианного значения высоты потолков."
   ]
  },
  {
   "cell_type": "markdown",
   "metadata": {},
   "source": [
    "_Вывод_\n",
    "    \n",
    "Пустые ячейки в столбце \"ceiling_height\" целесообразнее всего заполнить медианными значениями по отдельным категориям, сгруппированным по двум столбцам:\n",
    "    \n",
    "- \"locality_name\" (населенный пункт);\n",
    "- \"total_area\" (общая площадь).\n"
   ]
  },
  {
   "cell_type": "code",
   "execution_count": 27,
   "metadata": {
    "scrolled": true
   },
   "outputs": [
    {
     "name": "stdout",
     "output_type": "stream",
     "text": [
      "Количество пустых значений в столбце \"ceiling_height\" - 0\n"
     ]
    }
   ],
   "source": [
    "# Заменяем пустые значения высоты потолков на медианные значения.\n",
    "\n",
    "data['ceiling_height'] = data.groupby(['locality_name', 'total_area'])['ceiling_height'].apply(lambda x: x.fillna(x.median()))\n",
    "data['ceiling_height'].fillna(data['ceiling_height'].median(), inplace=True)\n",
    "print('Количество пустых значений в столбце \"ceiling_height\" -', data['ceiling_height'].isna().sum())"
   ]
  },
  {
   "cell_type": "markdown",
   "metadata": {},
   "source": [
    "#### Апартаменты"
   ]
  },
  {
   "cell_type": "markdown",
   "metadata": {},
   "source": [
    "Проверим долю пропусков в столбце \"is_apartment\"."
   ]
  },
  {
   "cell_type": "code",
   "execution_count": 28,
   "metadata": {},
   "outputs": [
    {
     "name": "stdout",
     "output_type": "stream",
     "text": [
      "В столбце \"is_apartment\" пропущено 88.3% значений.\n"
     ]
    }
   ],
   "source": [
    "nan_ratio('is_apartment')"
   ]
  },
  {
   "cell_type": "markdown",
   "metadata": {},
   "source": [
    "Исходим из того, что, если в поле \"Апартаменты\" пусто, то объект недвижимости не является апартаментами. Поэтому можем заполнить все пустые ячейки значением False."
   ]
  },
  {
   "cell_type": "code",
   "execution_count": 29,
   "metadata": {},
   "outputs": [
    {
     "name": "stdout",
     "output_type": "stream",
     "text": [
      "Количество пустых значений в столбце \"is_apartment\" - 0\n"
     ]
    }
   ],
   "source": [
    "# Заполняем все пустые ячейки в столбцен \"is_apartment\" значением False.\n",
    "# Снова проверяем количество пропусков.\n",
    "\n",
    "data['is_apartment'] = data['is_apartment'].fillna(False)\n",
    "print('Количество пустых значений в столбце \"is_apartment\" -', data['is_apartment'].isna().sum())"
   ]
  },
  {
   "cell_type": "markdown",
   "metadata": {},
   "source": [
    "Тип данных всего столбца автоматически сменился на булев. Убедимся в этом."
   ]
  },
  {
   "cell_type": "code",
   "execution_count": 30,
   "metadata": {},
   "outputs": [
    {
     "data": {
      "text/plain": [
       "dtype('bool')"
      ]
     },
     "execution_count": 30,
     "metadata": {},
     "output_type": "execute_result"
    }
   ],
   "source": [
    "# Тип данных в столбце \"is_apartment\"\n",
    "\n",
    "data['is_apartment'].dtype"
   ]
  },
  {
   "cell_type": "markdown",
   "metadata": {},
   "source": [
    "#### Количество балконов"
   ]
  },
  {
   "cell_type": "markdown",
   "metadata": {},
   "source": [
    "Проверим долю пропусков в столбце \"balcony\"."
   ]
  },
  {
   "cell_type": "code",
   "execution_count": 31,
   "metadata": {},
   "outputs": [
    {
     "name": "stdout",
     "output_type": "stream",
     "text": [
      "В столбце \"balcony\" пропущено 48.6% значений.\n"
     ]
    }
   ],
   "source": [
    "nan_ratio('balcony')"
   ]
  },
  {
   "cell_type": "markdown",
   "metadata": {},
   "source": [
    "Очевидно, что, если количество балконов в объявлении не указано, то балконов в квартире нет.\n",
    "Поэтому заполняем все пустые значения нулями."
   ]
  },
  {
   "cell_type": "code",
   "execution_count": 32,
   "metadata": {},
   "outputs": [
    {
     "name": "stdout",
     "output_type": "stream",
     "text": [
      "Количество пустых значений в столбце \"balcony\" - 0\n"
     ]
    }
   ],
   "source": [
    "# Заменяем пропущенные значения количества балконов на 0.\n",
    "# Снова проверяем количество пропусков.\n",
    "\n",
    "data['balcony'] = data['balcony'].fillna(value=0)\n",
    "print('Количество пустых значений в столбце \"balcony\" -', data['balcony'].isna().sum())"
   ]
  },
  {
   "cell_type": "markdown",
   "metadata": {},
   "source": [
    "#### Количество парков и прудов. Близость к паркам, прудам, аэропортам, центру"
   ]
  },
  {
   "cell_type": "markdown",
   "metadata": {},
   "source": [
    "Просмотрим проценты пропущенных значений по всем указанным параметрам."
   ]
  },
  {
   "cell_type": "code",
   "execution_count": 33,
   "metadata": {},
   "outputs": [
    {
     "name": "stdout",
     "output_type": "stream",
     "text": [
      "В столбце \"parks_around3000\" пропущено 23.3% значений.\n",
      "В столбце \"ponds_around3000\" пропущено 23.3% значений.\n",
      "В столбце \"parks_nearest\" пропущено 65.9% значений.\n",
      "В столбце \"ponds_nearest\" пропущено 61.6% значений.\n",
      "В столбце \"airports_nearest\" пропущено 23.4% значений.\n",
      "В столбце \"cityCenters_nearest\" пропущено 23.3% значений.\n"
     ]
    }
   ],
   "source": [
    "nan_ratio('parks_around3000')\n",
    "nan_ratio('ponds_around3000')\n",
    "nan_ratio('parks_nearest')\n",
    "nan_ratio('ponds_nearest')\n",
    "nan_ratio('airports_nearest')\n",
    "nan_ratio('cityCenters_nearest')"
   ]
  },
  {
   "cell_type": "markdown",
   "metadata": {},
   "source": [
    "Сначала проверим, нет ли в таблице строк, где расстояние до ближайшего парка указано, а количество парков забыли указать."
   ]
  },
  {
   "cell_type": "code",
   "execution_count": 34,
   "metadata": {},
   "outputs": [
    {
     "data": {
      "text/html": [
       "<div>\n",
       "<style scoped>\n",
       "    .dataframe tbody tr th:only-of-type {\n",
       "        vertical-align: middle;\n",
       "    }\n",
       "\n",
       "    .dataframe tbody tr th {\n",
       "        vertical-align: top;\n",
       "    }\n",
       "\n",
       "    .dataframe thead th {\n",
       "        text-align: right;\n",
       "    }\n",
       "</style>\n",
       "<table border=\"1\" class=\"dataframe\">\n",
       "  <thead>\n",
       "    <tr style=\"text-align: right;\">\n",
       "      <th></th>\n",
       "      <th>total_images</th>\n",
       "      <th>last_price</th>\n",
       "      <th>total_area</th>\n",
       "      <th>first_day_exposition</th>\n",
       "      <th>rooms</th>\n",
       "      <th>ceiling_height</th>\n",
       "      <th>floors_total</th>\n",
       "      <th>living_area</th>\n",
       "      <th>floor</th>\n",
       "      <th>is_apartment</th>\n",
       "      <th>...</th>\n",
       "      <th>kitchen_area</th>\n",
       "      <th>balcony</th>\n",
       "      <th>locality_name</th>\n",
       "      <th>airports_nearest</th>\n",
       "      <th>cityCenters_nearest</th>\n",
       "      <th>parks_around3000</th>\n",
       "      <th>parks_nearest</th>\n",
       "      <th>ponds_around3000</th>\n",
       "      <th>ponds_nearest</th>\n",
       "      <th>days_exposition</th>\n",
       "    </tr>\n",
       "  </thead>\n",
       "  <tbody>\n",
       "  </tbody>\n",
       "</table>\n",
       "<p>0 rows × 22 columns</p>\n",
       "</div>"
      ],
      "text/plain": [
       "Empty DataFrame\n",
       "Columns: [total_images, last_price, total_area, first_day_exposition, rooms, ceiling_height, floors_total, living_area, floor, is_apartment, studio, open_plan, kitchen_area, balcony, locality_name, airports_nearest, cityCenters_nearest, parks_around3000, parks_nearest, ponds_around3000, ponds_nearest, days_exposition]\n",
       "Index: []\n",
       "\n",
       "[0 rows x 22 columns]"
      ]
     },
     "execution_count": 34,
     "metadata": {},
     "output_type": "execute_result"
    }
   ],
   "source": [
    "data.loc[data['parks_around3000'].isna() & ~data['parks_nearest'].isna()]"
   ]
  },
  {
   "cell_type": "markdown",
   "metadata": {},
   "source": [
    "Выходит, что ни одного такого случая не было. И если в ячейчке стоблца \"parks_around3000\" пусто, соответствующая ячейка в столбце \"parks_nearest\" тоже пуста."
   ]
  },
  {
   "cell_type": "markdown",
   "metadata": {},
   "source": [
    "То же проверим и для прудов."
   ]
  },
  {
   "cell_type": "code",
   "execution_count": 35,
   "metadata": {},
   "outputs": [
    {
     "data": {
      "text/html": [
       "<div>\n",
       "<style scoped>\n",
       "    .dataframe tbody tr th:only-of-type {\n",
       "        vertical-align: middle;\n",
       "    }\n",
       "\n",
       "    .dataframe tbody tr th {\n",
       "        vertical-align: top;\n",
       "    }\n",
       "\n",
       "    .dataframe thead th {\n",
       "        text-align: right;\n",
       "    }\n",
       "</style>\n",
       "<table border=\"1\" class=\"dataframe\">\n",
       "  <thead>\n",
       "    <tr style=\"text-align: right;\">\n",
       "      <th></th>\n",
       "      <th>total_images</th>\n",
       "      <th>last_price</th>\n",
       "      <th>total_area</th>\n",
       "      <th>first_day_exposition</th>\n",
       "      <th>rooms</th>\n",
       "      <th>ceiling_height</th>\n",
       "      <th>floors_total</th>\n",
       "      <th>living_area</th>\n",
       "      <th>floor</th>\n",
       "      <th>is_apartment</th>\n",
       "      <th>...</th>\n",
       "      <th>kitchen_area</th>\n",
       "      <th>balcony</th>\n",
       "      <th>locality_name</th>\n",
       "      <th>airports_nearest</th>\n",
       "      <th>cityCenters_nearest</th>\n",
       "      <th>parks_around3000</th>\n",
       "      <th>parks_nearest</th>\n",
       "      <th>ponds_around3000</th>\n",
       "      <th>ponds_nearest</th>\n",
       "      <th>days_exposition</th>\n",
       "    </tr>\n",
       "  </thead>\n",
       "  <tbody>\n",
       "  </tbody>\n",
       "</table>\n",
       "<p>0 rows × 22 columns</p>\n",
       "</div>"
      ],
      "text/plain": [
       "Empty DataFrame\n",
       "Columns: [total_images, last_price, total_area, first_day_exposition, rooms, ceiling_height, floors_total, living_area, floor, is_apartment, studio, open_plan, kitchen_area, balcony, locality_name, airports_nearest, cityCenters_nearest, parks_around3000, parks_nearest, ponds_around3000, ponds_nearest, days_exposition]\n",
       "Index: []\n",
       "\n",
       "[0 rows x 22 columns]"
      ]
     },
     "execution_count": 35,
     "metadata": {},
     "output_type": "execute_result"
    }
   ],
   "source": [
    "data.loc[data['ponds_around3000'].isna() & ~data['ponds_nearest'].isna()]"
   ]
  },
  {
   "cell_type": "markdown",
   "metadata": {},
   "source": [
    "Ситуация аналогичная.\n",
    "\n",
    "Следовательно, можно заключить, что пустые значения в \"parks_around3000\" и \"ponds_around3000\" указывают на отсутствие парков и прудов в радиусе 3000 метров."
   ]
  },
  {
   "cell_type": "markdown",
   "metadata": {},
   "source": [
    "Однако просмотрим еще раз данные обо всех столбцах."
   ]
  },
  {
   "cell_type": "code",
   "execution_count": 36,
   "metadata": {},
   "outputs": [
    {
     "data": {
      "text/plain": [
       "total_images                0\n",
       "last_price                  0\n",
       "total_area                  0\n",
       "first_day_exposition        0\n",
       "rooms                       0\n",
       "ceiling_height              0\n",
       "floors_total               86\n",
       "living_area              1903\n",
       "floor                       0\n",
       "is_apartment                0\n",
       "studio                      0\n",
       "open_plan                   0\n",
       "kitchen_area             2278\n",
       "balcony                     0\n",
       "locality_name              49\n",
       "airports_nearest         5542\n",
       "cityCenters_nearest      5519\n",
       "parks_around3000         5518\n",
       "parks_nearest           15620\n",
       "ponds_around3000         5518\n",
       "ponds_nearest           14589\n",
       "days_exposition          3181\n",
       "dtype: int64"
      ]
     },
     "execution_count": 36,
     "metadata": {},
     "output_type": "execute_result"
    }
   ],
   "source": [
    "# Количество пропусков в столбцах таблицы\n",
    "\n",
    "data.isna().sum()"
   ]
  },
  {
   "cell_type": "markdown",
   "metadata": {},
   "source": [
    "Одинаковое количество пропущенных значений в этих двух столбцах (5518) может говорить и о том, что эти поля просто не заполняли.\n",
    "Обратим внимание, что в столбце \"cityCenters_nearest\" почти такое же количество пропусков."
   ]
  },
  {
   "cell_type": "markdown",
   "metadata": {},
   "source": [
    "Проверим, одни и те же это строки или нет."
   ]
  },
  {
   "cell_type": "code",
   "execution_count": 37,
   "metadata": {},
   "outputs": [
    {
     "data": {
      "text/plain": [
       "5518"
      ]
     },
     "execution_count": 37,
     "metadata": {},
     "output_type": "execute_result"
    }
   ],
   "source": [
    "# Количество совпадений пропусков в столбцах \"cityCenters_nearest\", \"parks_around3000\" и \"ponds_around3000\"\n",
    "\n",
    "(data['cityCenters_nearest'].isna() & data['parks_around3000'].isna() & data['ponds_around3000'].isna()).sum()"
   ]
  },
  {
   "cell_type": "markdown",
   "metadata": {},
   "source": [
    "Из этого следует, что, скорее всего, эти данные, а заодно и данные о близости к паркам и прудам, а также аэропортам, в этих строках не были заполнены. Проверим это."
   ]
  },
  {
   "cell_type": "code",
   "execution_count": 38,
   "metadata": {},
   "outputs": [
    {
     "data": {
      "text/plain": [
       "5518"
      ]
     },
     "execution_count": 38,
     "metadata": {},
     "output_type": "execute_result"
    }
   ],
   "source": [
    "# Количество совпадений пропусков в столбцах \"cityCenters_nearest\", \"parks_around3000\" и \"ponds_around3000\",\n",
    "# а также \"parks_nearest\", \"ponds_nearest\" и \"airports_nearest\"\n",
    "\n",
    "(data['cityCenters_nearest'].isna() & data['parks_around3000'].isna() & data['ponds_around3000'].isna() \n",
    "    & data['parks_nearest'].isna() & data['ponds_nearest'].isna() & data['airports_nearest'].isna()).sum()"
   ]
  },
  {
   "cell_type": "markdown",
   "metadata": {},
   "source": [
    "Гипотеза подтвердилась. Посмотрим, много ли из этих объявлений было подано в Санкт-Петербурге."
   ]
  },
  {
   "cell_type": "code",
   "execution_count": 39,
   "metadata": {},
   "outputs": [
    {
     "data": {
      "text/plain": [
       "61"
      ]
     },
     "execution_count": 39,
     "metadata": {},
     "output_type": "execute_result"
    }
   ],
   "source": [
    "# Количество совпадений пропусков в вышеуказанных столбцах для города Санкт-Петербурга\n",
    "\n",
    "(data[data['cityCenters_nearest'].isna() & data['parks_around3000'].isna() & data['ponds_around3000'].isna() \n",
    "    & data['parks_nearest'].isna() & data['ponds_nearest'].isna() & data['airports_nearest'].isna()]\n",
    "    ['locality_name'] == 'Санкт-Петербург').sum()"
   ]
  },
  {
   "cell_type": "markdown",
   "metadata": {},
   "source": [
    "Учитывая, что из 5518 объявлений все, кроме 61, были поданы в небольших городах, заполнение пропусков нулями может исказить общую статистику, в т.ч. для самого Санкт-Петербурга."
   ]
  },
  {
   "cell_type": "markdown",
   "metadata": {},
   "source": [
    "Поскольку все эти параметры связаны с геоданными, попробуем теперь заполнить пропуски во всех этих шести столбцах с помощью данных о базовых объектах."
   ]
  },
  {
   "cell_type": "code",
   "execution_count": 40,
   "metadata": {},
   "outputs": [
    {
     "name": "stdout",
     "output_type": "stream",
     "text": [
      "Пропуски в столбце \"parks_around3000\" можно заполнить с помощью столбцов:\n",
      "\"airports_nearest\" - в 0 ячейках\n",
      "\"cityCenters_nearest\" - в 0 ячейках\n",
      "\"parks_nearest\" - в 0 ячейках\n",
      "\"ponds_nearest\" - в 0 ячейках\n",
      "\n",
      "Все, что можно было заполнить этим способом - заполнено.\n",
      "В столбце \"parks_around3000\" было пустых ячеек - 5518.\n",
      "Из них заполнено ячеек - 0.\n",
      "Осталось всего незаполненных ячеек - 5518.\n"
     ]
    }
   ],
   "source": [
    "fillall('parks_around3000')"
   ]
  },
  {
   "cell_type": "code",
   "execution_count": 41,
   "metadata": {},
   "outputs": [
    {
     "name": "stdout",
     "output_type": "stream",
     "text": [
      "Пропуски в столбце \"ponds_around3000\" можно заполнить с помощью столбцов:\n",
      "\"airports_nearest\" - в 0 ячейках\n",
      "\"cityCenters_nearest\" - в 0 ячейках\n",
      "\"parks_nearest\" - в 0 ячейках\n",
      "\"ponds_nearest\" - в 0 ячейках\n",
      "\n",
      "Все, что можно было заполнить этим способом - заполнено.\n",
      "В столбце \"ponds_around3000\" было пустых ячеек - 5518.\n",
      "Из них заполнено ячеек - 0.\n",
      "Осталось всего незаполненных ячеек - 5518.\n"
     ]
    }
   ],
   "source": [
    "fillall('ponds_around3000')"
   ]
  },
  {
   "cell_type": "code",
   "execution_count": 42,
   "metadata": {},
   "outputs": [
    {
     "name": "stdout",
     "output_type": "stream",
     "text": [
      "Пропуски в столбце \"parks_nearest\" можно заполнить с помощью столбцов:\n",
      "\"airports_nearest\" - в 986 ячейках\n",
      "\"cityCenters_nearest\" - в 1635 ячейках\n",
      "\"parks_nearest\" - в 0 ячейках\n",
      "\"ponds_nearest\" - в 3911 ячейках\n",
      "\n",
      "Максимум пропусков, которые можно заполнить: 3911.\n",
      "Заполняем их с помощью столбца \"ponds_nearest\".\n",
      "\n",
      "\n",
      "Вот как с помощью этих же столбцов можно заполнить оставшиеся пропуски:\n",
      "\"airports_nearest\" - в 792 ячейках\n",
      "\"cityCenters_nearest\" - в 1401 ячейках\n",
      "\"parks_nearest\" - в 0 ячейках\n",
      "\"ponds_nearest\" - в 0 ячейках\n",
      "\n",
      "Максимум пропусков, которые можно заполнить: 1401.\n",
      "Заполняем их с помощью столбца \"cityCenters_nearest\".\n",
      "\n",
      "\n",
      "Вот как с помощью этих же столбцов можно заполнить оставшиеся пропуски:\n",
      "\"airports_nearest\" - в 688 ячейках\n",
      "\"cityCenters_nearest\" - в 0 ячейках\n",
      "\"parks_nearest\" - в 0 ячейках\n",
      "\"ponds_nearest\" - в 66 ячейках\n",
      "\n",
      "Максимум пропусков, которые можно заполнить: 688.\n",
      "Заполняем их с помощью столбца \"airports_nearest\".\n",
      "\n",
      "\n",
      "Вот как с помощью этих же столбцов можно заполнить оставшиеся пропуски:\n",
      "\"airports_nearest\" - в 0 ячейках\n",
      "\"cityCenters_nearest\" - в 68 ячейках\n",
      "\"parks_nearest\" - в 0 ячейках\n",
      "\"ponds_nearest\" - в 80 ячейках\n",
      "\n",
      "Максимум пропусков, которые можно заполнить: 80.\n",
      "Заполняем их с помощью столбца \"ponds_nearest\".\n",
      "\n",
      "\n",
      "Вот как с помощью этих же столбцов можно заполнить оставшиеся пропуски:\n",
      "\"airports_nearest\" - в 4 ячейках\n",
      "\"cityCenters_nearest\" - в 81 ячейках\n",
      "\"parks_nearest\" - в 0 ячейках\n",
      "\"ponds_nearest\" - в 0 ячейках\n",
      "\n",
      "Максимум пропусков, которые можно заполнить: 81.\n",
      "Заполняем их с помощью столбца \"cityCenters_nearest\".\n",
      "\n",
      "\n",
      "Вот как с помощью этих же столбцов можно заполнить оставшиеся пропуски:\n",
      "\"airports_nearest\" - в 6 ячейках\n",
      "\"cityCenters_nearest\" - в 0 ячейках\n",
      "\"parks_nearest\" - в 0 ячейках\n",
      "\"ponds_nearest\" - в 1 ячейках\n",
      "\n",
      "Максимум пропусков, которые можно заполнить: 6.\n",
      "Заполняем их с помощью столбца \"airports_nearest\".\n",
      "\n",
      "\n",
      "Вот как с помощью этих же столбцов можно заполнить оставшиеся пропуски:\n",
      "\"airports_nearest\" - в 0 ячейках\n",
      "\"cityCenters_nearest\" - в 0 ячейках\n",
      "\"parks_nearest\" - в 0 ячейках\n",
      "\"ponds_nearest\" - в 1 ячейках\n",
      "\n",
      "Максимум пропусков, которые можно заполнить: 1.\n",
      "Заполняем их с помощью столбца \"ponds_nearest\".\n",
      "\n",
      "\n",
      "Вот как с помощью этих же столбцов можно заполнить оставшиеся пропуски:\n",
      "\"airports_nearest\" - в 0 ячейках\n",
      "\"cityCenters_nearest\" - в 0 ячейках\n",
      "\"parks_nearest\" - в 0 ячейках\n",
      "\"ponds_nearest\" - в 0 ячейках\n",
      "\n",
      "Все, что можно было заполнить этим способом - заполнено.\n",
      "В столбце \"parks_nearest\" было пустых ячеек - 15620.\n",
      "Из них заполнено ячеек - 6168.\n",
      "Осталось всего незаполненных ячеек - 9452.\n"
     ]
    }
   ],
   "source": [
    "fillall('parks_nearest')"
   ]
  },
  {
   "cell_type": "code",
   "execution_count": 43,
   "metadata": {},
   "outputs": [
    {
     "name": "stdout",
     "output_type": "stream",
     "text": [
      "Пропуски в столбце \"ponds_nearest\" можно заполнить с помощью столбцов:\n",
      "\"airports_nearest\" - в 826 ячейках\n",
      "\"cityCenters_nearest\" - в 1570 ячейках\n",
      "\"parks_nearest\" - в 4944 ячейках\n",
      "\"ponds_nearest\" - в 0 ячейках\n",
      "\n",
      "Максимум пропусков, которые можно заполнить: 4944.\n",
      "Заполняем их с помощью столбца \"parks_nearest\".\n",
      "\n",
      "\n",
      "Вот как с помощью этих же столбцов можно заполнить оставшиеся пропуски:\n",
      "\"airports_nearest\" - в 44 ячейках\n",
      "\"cityCenters_nearest\" - в 92 ячейках\n",
      "\"parks_nearest\" - в 0 ячейках\n",
      "\"ponds_nearest\" - в 0 ячейках\n",
      "\n",
      "Максимум пропусков, которые можно заполнить: 92.\n",
      "Заполняем их с помощью столбца \"cityCenters_nearest\".\n",
      "\n",
      "\n",
      "Вот как с помощью этих же столбцов можно заполнить оставшиеся пропуски:\n",
      "\"airports_nearest\" - в 45 ячейках\n",
      "\"cityCenters_nearest\" - в 0 ячейках\n",
      "\"parks_nearest\" - в 35 ячейках\n",
      "\"ponds_nearest\" - в 0 ячейках\n",
      "\n",
      "Максимум пропусков, которые можно заполнить: 45.\n",
      "Заполняем их с помощью столбца \"airports_nearest\".\n",
      "\n",
      "\n",
      "Вот как с помощью этих же столбцов можно заполнить оставшиеся пропуски:\n",
      "\"airports_nearest\" - в 0 ячейках\n",
      "\"cityCenters_nearest\" - в 5 ячейках\n",
      "\"parks_nearest\" - в 42 ячейках\n",
      "\"ponds_nearest\" - в 0 ячейках\n",
      "\n",
      "Максимум пропусков, которые можно заполнить: 42.\n",
      "Заполняем их с помощью столбца \"parks_nearest\".\n",
      "\n",
      "\n",
      "Вот как с помощью этих же столбцов можно заполнить оставшиеся пропуски:\n",
      "\"airports_nearest\" - в 0 ячейках\n",
      "\"cityCenters_nearest\" - в 2 ячейках\n",
      "\"parks_nearest\" - в 0 ячейках\n",
      "\"ponds_nearest\" - в 0 ячейках\n",
      "\n",
      "Максимум пропусков, которые можно заполнить: 2.\n",
      "Заполняем их с помощью столбца \"cityCenters_nearest\".\n",
      "\n",
      "\n",
      "Вот как с помощью этих же столбцов можно заполнить оставшиеся пропуски:\n",
      "\"airports_nearest\" - в 0 ячейках\n",
      "\"cityCenters_nearest\" - в 0 ячейках\n",
      "\"parks_nearest\" - в 0 ячейках\n",
      "\"ponds_nearest\" - в 0 ячейках\n",
      "\n",
      "Все, что можно было заполнить этим способом - заполнено.\n",
      "В столбце \"ponds_nearest\" было пустых ячеек - 14589.\n",
      "Из них заполнено ячеек - 5125.\n",
      "Осталось всего незаполненных ячеек - 9464.\n"
     ]
    }
   ],
   "source": [
    "fillall('ponds_nearest')"
   ]
  },
  {
   "cell_type": "code",
   "execution_count": 44,
   "metadata": {},
   "outputs": [
    {
     "name": "stdout",
     "output_type": "stream",
     "text": [
      "Пропуски в столбце \"airports_nearest\" можно заполнить с помощью столбцов:\n",
      "\"airports_nearest\" - в 0 ячейках\n",
      "\"cityCenters_nearest\" - в 16 ячейках\n",
      "\"parks_nearest\" - в 23 ячейках\n",
      "\"ponds_nearest\" - в 23 ячейках\n",
      "\n",
      "Максимум пропусков, которые можно заполнить: 23.\n",
      "Заполняем их с помощью столбца \"ponds_nearest\".\n",
      "\n",
      "\n",
      "Вот как с помощью этих же столбцов можно заполнить оставшиеся пропуски:\n",
      "\"airports_nearest\" - в 0 ячейках\n",
      "\"cityCenters_nearest\" - в 0 ячейках\n",
      "\"parks_nearest\" - в 0 ячейках\n",
      "\"ponds_nearest\" - в 0 ячейках\n",
      "\n",
      "Все, что можно было заполнить этим способом - заполнено.\n",
      "В столбце \"airports_nearest\" было пустых ячеек - 5542.\n",
      "Из них заполнено ячеек - 23.\n",
      "Осталось всего незаполненных ячеек - 5519.\n"
     ]
    }
   ],
   "source": [
    "fillall('airports_nearest')"
   ]
  },
  {
   "cell_type": "code",
   "execution_count": 45,
   "metadata": {},
   "outputs": [
    {
     "name": "stdout",
     "output_type": "stream",
     "text": [
      "Пропуски в столбце \"cityCenters_nearest\" можно заполнить с помощью столбцов:\n",
      "\"airports_nearest\" - в 0 ячейках\n",
      "\"cityCenters_nearest\" - в 0 ячейках\n",
      "\"parks_nearest\" - в 1 ячейках\n",
      "\"ponds_nearest\" - в 1 ячейках\n",
      "\n",
      "Максимум пропусков, которые можно заполнить: 1.\n",
      "Заполняем их с помощью столбца \"ponds_nearest\".\n",
      "\n",
      "\n",
      "Вот как с помощью этих же столбцов можно заполнить оставшиеся пропуски:\n",
      "\"airports_nearest\" - в 0 ячейках\n",
      "\"cityCenters_nearest\" - в 0 ячейках\n",
      "\"parks_nearest\" - в 0 ячейках\n",
      "\"ponds_nearest\" - в 0 ячейках\n",
      "\n",
      "Все, что можно было заполнить этим способом - заполнено.\n",
      "В столбце \"cityCenters_nearest\" было пустых ячеек - 5519.\n",
      "Из них заполнено ячеек - 1.\n",
      "Осталось всего незаполненных ячеек - 5518.\n"
     ]
    }
   ],
   "source": [
    "fillall('cityCenters_nearest')"
   ]
  },
  {
   "cell_type": "markdown",
   "metadata": {},
   "source": [
    "В конце проверим снова доли оставшихся пропусков."
   ]
  },
  {
   "cell_type": "code",
   "execution_count": 46,
   "metadata": {},
   "outputs": [
    {
     "name": "stdout",
     "output_type": "stream",
     "text": [
      "В столбце \"parks_around3000\" пропущено 23.3% значений.\n",
      "В столбце \"ponds_around3000\" пропущено 23.3% значений.\n",
      "В столбце \"parks_nearest\" пропущено 39.9% значений.\n",
      "В столбце \"ponds_nearest\" пропущено 39.9% значений.\n",
      "В столбце \"airports_nearest\" пропущено 23.3% значений.\n",
      "В столбце \"cityCenters_nearest\" пропущено 23.3% значений.\n"
     ]
    }
   ],
   "source": [
    "nan_ratio('parks_around3000')\n",
    "nan_ratio('ponds_around3000')\n",
    "nan_ratio('parks_nearest')\n",
    "nan_ratio('ponds_nearest')\n",
    "nan_ratio('airports_nearest')\n",
    "nan_ratio('cityCenters_nearest')"
   ]
  },
  {
   "cell_type": "markdown",
   "metadata": {},
   "source": [
    "#### Жилая площадь и площадь кухни"
   ]
  },
  {
   "cell_type": "markdown",
   "metadata": {},
   "source": [
    "Проверим долю пропусков в столбцах \"living_area\" и \"kitchen_area\"."
   ]
  },
  {
   "cell_type": "code",
   "execution_count": 47,
   "metadata": {
    "scrolled": true
   },
   "outputs": [
    {
     "name": "stdout",
     "output_type": "stream",
     "text": [
      "В столбце \"living_area\" пропущено 8.0% значений.\n"
     ]
    }
   ],
   "source": [
    "nan_ratio('living_area')"
   ]
  },
  {
   "cell_type": "code",
   "execution_count": 48,
   "metadata": {},
   "outputs": [
    {
     "name": "stdout",
     "output_type": "stream",
     "text": [
      "В столбце \"kitchen_area\" пропущено 9.6% значений.\n"
     ]
    }
   ],
   "source": [
    "nan_ratio('kitchen_area')"
   ]
  },
  {
   "cell_type": "markdown",
   "metadata": {},
   "source": [
    "Посмотрим снова на очищенную матрицу корреляций для этих площадей. Возьмем значения коэффициента от 0,6."
   ]
  },
  {
   "cell_type": "code",
   "execution_count": 49,
   "metadata": {},
   "outputs": [
    {
     "data": {
      "text/plain": [
       "total_images                   \n",
       "last_price                     \n",
       "total_area             0.939537\n",
       "rooms                  0.845977\n",
       "ceiling_height                 \n",
       "floors_total                   \n",
       "living_area                    \n",
       "floor                          \n",
       "is_apartment                   \n",
       "studio                         \n",
       "open_plan                      \n",
       "kitchen_area                   \n",
       "balcony                        \n",
       "airports_nearest               \n",
       "cityCenters_nearest            \n",
       "parks_around3000               \n",
       "parks_nearest                  \n",
       "ponds_around3000               \n",
       "ponds_nearest                  \n",
       "days_exposition                \n",
       "Name: living_area, dtype: object"
      ]
     },
     "execution_count": 49,
     "metadata": {},
     "output_type": "execute_result"
    }
   ],
   "source": [
    "# Выводим корреляционную матрицу для столбца \"living_area\" со значениями, которые по модулю не меньше 0,6.\n",
    "\n",
    "corr_above(data, 0.6)['living_area']"
   ]
  },
  {
   "cell_type": "code",
   "execution_count": 50,
   "metadata": {},
   "outputs": [
    {
     "data": {
      "text/plain": [
       "total_images                   \n",
       "last_price                     \n",
       "total_area             0.609121\n",
       "rooms                          \n",
       "ceiling_height                 \n",
       "floors_total                   \n",
       "living_area                    \n",
       "floor                          \n",
       "is_apartment                   \n",
       "studio                         \n",
       "open_plan                      \n",
       "kitchen_area                   \n",
       "balcony                        \n",
       "airports_nearest               \n",
       "cityCenters_nearest            \n",
       "parks_around3000               \n",
       "parks_nearest                  \n",
       "ponds_around3000               \n",
       "ponds_nearest                  \n",
       "days_exposition                \n",
       "Name: kitchen_area, dtype: object"
      ]
     },
     "execution_count": 50,
     "metadata": {},
     "output_type": "execute_result"
    }
   ],
   "source": [
    "# Выводим корреляционную матрицу для столбца \"kitchen_area\" со значениями, которые по модулю не меньше 0,6.\n",
    "\n",
    "corr_above(data, 0.6)['kitchen_area']"
   ]
  },
  {
   "cell_type": "markdown",
   "metadata": {},
   "source": [
    "Из матриц следует:\n",
    "\n",
    "1. Жилая площадь сильно коррелирует с общей площадью и количеством комнат.\n",
    "\n",
    "2. Площадь кухни коррелирует с общей площадью.\n",
    "\n",
    "На основании этих корреляций, а также учитывая населенный пункт, можем заполнить значения медианными, по группам."
   ]
  },
  {
   "cell_type": "markdown",
   "metadata": {},
   "source": [
    "Однако для большей точности учтем также соотношение жилой площади и площади кухни к общей.\n",
    "\n",
    "Т.е. будем группировать и находить медианы не самих площадей (жилой и кухни), а их отношений к общей площади.\n",
    "\n",
    "А затем уже через медианные значения этих соотношений вычислим восстановим значения самих площадей. "
   ]
  },
  {
   "cell_type": "code",
   "execution_count": 51,
   "metadata": {},
   "outputs": [],
   "source": [
    "# Добавляем столбец с отношением жилой площади к общей (area_ratio) и переводим в %.\n",
    "\n",
    "data['area_ratio'] = data['living_area'] / data['total_area'] * 100"
   ]
  },
  {
   "cell_type": "code",
   "execution_count": 52,
   "metadata": {},
   "outputs": [
    {
     "name": "stdout",
     "output_type": "stream",
     "text": [
      "Количество пустых значений в столбце \"living_area\" - 0\n"
     ]
    }
   ],
   "source": [
    "# Заполняем пропуски в добавленном столбце, сгруппировав данные по населенному пункту, количеству комнат и общей площади.\n",
    "# Затем обновляем данные в столбце с жилой площадью.\n",
    "\n",
    "data['area_ratio'] = data.groupby(['locality_name', 'rooms', 'total_area'])['area_ratio'].apply(lambda x: x.fillna(x.median()))\n",
    "data['area_ratio'].fillna(data['area_ratio'].median(), inplace=True)\n",
    "data['living_area'] = data['area_ratio'] * data['total_area'] / 100\n",
    "print('Количество пустых значений в столбце \"living_area\" -', data['living_area'].isna().sum())"
   ]
  },
  {
   "cell_type": "code",
   "execution_count": 53,
   "metadata": {},
   "outputs": [],
   "source": [
    "# Добавляем столбец с отношением площади кухни к общей (kitchen_ratio) и переводим в %.\n",
    "\n",
    "data['kitchen_ratio'] = data['kitchen_area'] / data['total_area'] * 100"
   ]
  },
  {
   "cell_type": "code",
   "execution_count": 54,
   "metadata": {},
   "outputs": [
    {
     "name": "stdout",
     "output_type": "stream",
     "text": [
      "Количество пустых значений в столбце \"kitchen_area\" - 0\n"
     ]
    }
   ],
   "source": [
    "# Заполняем пропуски в добавленном столбце, сгруппировав данные по населенному пункту и общей площади.\n",
    "# Затем обновляем данные в столбце с площадью кухни.\n",
    "\n",
    "data['kitchen_area'] = data.groupby(['locality_name', 'total_area'])['kitchen_ratio'].apply(lambda x: x.fillna(x.median()))\n",
    "data['kitchen_ratio'].fillna(data['kitchen_ratio'].median(), inplace=True)\n",
    "data['kitchen_area'] = data['kitchen_ratio'] * data['total_area'] / 100\n",
    "print('Количество пустых значений в столбце \"kitchen_area\" -', data['kitchen_area'].isna().sum())"
   ]
  },
  {
   "cell_type": "markdown",
   "metadata": {},
   "source": [
    "#### Этажность"
   ]
  },
  {
   "cell_type": "markdown",
   "metadata": {},
   "source": [
    "Проверим долю пропусков в столбце \"floors_total\"."
   ]
  },
  {
   "cell_type": "code",
   "execution_count": 55,
   "metadata": {
    "scrolled": true
   },
   "outputs": [
    {
     "name": "stdout",
     "output_type": "stream",
     "text": [
      "В столбце \"floors_total\" пропущено 0.4% значений.\n"
     ]
    }
   ],
   "source": [
    "nan_ratio('floors_total')"
   ]
  },
  {
   "cell_type": "markdown",
   "metadata": {},
   "source": [
    "Количество этажей, как и высота потолков, близость к центру и пр. - это параметр, характеризующий само здание. Поэтому здесть мы также можем применить функцию для заполнения пропусков по базовым объектам. "
   ]
  },
  {
   "cell_type": "markdown",
   "metadata": {},
   "source": [
    "Проверка показала, что из 86 пропусков 75 таким образом можно заполнить. Однако в итоге оказалось, что после этого среди объявлений есть такие, где количество этажей в здании меньше самого этажа квартиры."
   ]
  },
  {
   "cell_type": "markdown",
   "metadata": {},
   "source": [
    "И действительно, здесь обнаружилось изначальное несоответствие, приведшее к неправильным результатам.\n",
    "Например, вот данные до заполнения по одному из значений расстояния до центра."
   ]
  },
  {
   "cell_type": "code",
   "execution_count": 56,
   "metadata": {},
   "outputs": [
    {
     "data": {
      "text/html": [
       "<div>\n",
       "<style scoped>\n",
       "    .dataframe tbody tr th:only-of-type {\n",
       "        vertical-align: middle;\n",
       "    }\n",
       "\n",
       "    .dataframe tbody tr th {\n",
       "        vertical-align: top;\n",
       "    }\n",
       "\n",
       "    .dataframe thead th {\n",
       "        text-align: right;\n",
       "    }\n",
       "</style>\n",
       "<table border=\"1\" class=\"dataframe\">\n",
       "  <thead>\n",
       "    <tr style=\"text-align: right;\">\n",
       "      <th></th>\n",
       "      <th>floors_total</th>\n",
       "      <th>floor</th>\n",
       "      <th>cityCenters_nearest</th>\n",
       "    </tr>\n",
       "  </thead>\n",
       "  <tbody>\n",
       "    <tr>\n",
       "      <th>1647</th>\n",
       "      <td>4.0</td>\n",
       "      <td>3</td>\n",
       "      <td>12082.0</td>\n",
       "    </tr>\n",
       "    <tr>\n",
       "      <th>2866</th>\n",
       "      <td>6.0</td>\n",
       "      <td>4</td>\n",
       "      <td>12082.0</td>\n",
       "    </tr>\n",
       "    <tr>\n",
       "      <th>5344</th>\n",
       "      <td>22.0</td>\n",
       "      <td>3</td>\n",
       "      <td>12082.0</td>\n",
       "    </tr>\n",
       "    <tr>\n",
       "      <th>8839</th>\n",
       "      <td>5.0</td>\n",
       "      <td>2</td>\n",
       "      <td>12082.0</td>\n",
       "    </tr>\n",
       "    <tr>\n",
       "      <th>11253</th>\n",
       "      <td>6.0</td>\n",
       "      <td>6</td>\n",
       "      <td>12082.0</td>\n",
       "    </tr>\n",
       "    <tr>\n",
       "      <th>11292</th>\n",
       "      <td>NaN</td>\n",
       "      <td>7</td>\n",
       "      <td>12082.0</td>\n",
       "    </tr>\n",
       "    <tr>\n",
       "      <th>14153</th>\n",
       "      <td>NaN</td>\n",
       "      <td>4</td>\n",
       "      <td>12082.0</td>\n",
       "    </tr>\n",
       "    <tr>\n",
       "      <th>15266</th>\n",
       "      <td>22.0</td>\n",
       "      <td>9</td>\n",
       "      <td>12082.0</td>\n",
       "    </tr>\n",
       "    <tr>\n",
       "      <th>16388</th>\n",
       "      <td>23.0</td>\n",
       "      <td>16</td>\n",
       "      <td>12082.0</td>\n",
       "    </tr>\n",
       "    <tr>\n",
       "      <th>18471</th>\n",
       "      <td>25.0</td>\n",
       "      <td>15</td>\n",
       "      <td>12082.0</td>\n",
       "    </tr>\n",
       "    <tr>\n",
       "      <th>19080</th>\n",
       "      <td>22.0</td>\n",
       "      <td>19</td>\n",
       "      <td>12082.0</td>\n",
       "    </tr>\n",
       "    <tr>\n",
       "      <th>19691</th>\n",
       "      <td>16.0</td>\n",
       "      <td>13</td>\n",
       "      <td>12082.0</td>\n",
       "    </tr>\n",
       "    <tr>\n",
       "      <th>23053</th>\n",
       "      <td>22.0</td>\n",
       "      <td>19</td>\n",
       "      <td>12082.0</td>\n",
       "    </tr>\n",
       "    <tr>\n",
       "      <th>23658</th>\n",
       "      <td>NaN</td>\n",
       "      <td>8</td>\n",
       "      <td>12082.0</td>\n",
       "    </tr>\n",
       "  </tbody>\n",
       "</table>\n",
       "</div>"
      ],
      "text/plain": [
       "       floors_total  floor  cityCenters_nearest\n",
       "1647            4.0      3              12082.0\n",
       "2866            6.0      4              12082.0\n",
       "5344           22.0      3              12082.0\n",
       "8839            5.0      2              12082.0\n",
       "11253           6.0      6              12082.0\n",
       "11292           NaN      7              12082.0\n",
       "14153           NaN      4              12082.0\n",
       "15266          22.0      9              12082.0\n",
       "16388          23.0     16              12082.0\n",
       "18471          25.0     15              12082.0\n",
       "19080          22.0     19              12082.0\n",
       "19691          16.0     13              12082.0\n",
       "23053          22.0     19              12082.0\n",
       "23658           NaN      8              12082.0"
      ]
     },
     "execution_count": 56,
     "metadata": {},
     "output_type": "execute_result"
    }
   ],
   "source": [
    "data[data['cityCenters_nearest'] == 12082.0][['floors_total', 'floor', 'cityCenters_nearest']]"
   ]
  },
  {
   "cell_type": "markdown",
   "metadata": {},
   "source": [
    "Здесь видно, что одному и тому же расстоянию до центра соответствуют разные этажности.\n",
    "\n",
    "Тут два варианта: либо в этом случае геоданным нельзя полностью доверять (например, соседние здания идентифицируются как одно), либо при указании в объявлении этажности люди допускают ошибки. Возможно, и то, и другое.\n",
    "    \n",
    " Поэтому для этого столбца мы используем другой способ."
   ]
  },
  {
   "cell_type": "markdown",
   "metadata": {},
   "source": [
    "Сначала выясним, заполнены ли ячейки столбца с этажами, там где этажность не указана. Посчитаем, сколько таких ячеек."
   ]
  },
  {
   "cell_type": "code",
   "execution_count": 57,
   "metadata": {},
   "outputs": [
    {
     "data": {
      "text/plain": [
       "86"
      ]
     },
     "execution_count": 57,
     "metadata": {},
     "output_type": "execute_result"
    }
   ],
   "source": [
    "# Количество строк, где этаж указан, а этажность - нет\n",
    "\n",
    "(data['floor'].notna() & data['floors_total'].isna()).sum()"
   ]
  },
  {
   "cell_type": "markdown",
   "metadata": {},
   "source": [
    "Сравним их количество с количеством пропусков в столбце этажности."
   ]
  },
  {
   "cell_type": "code",
   "execution_count": 58,
   "metadata": {},
   "outputs": [
    {
     "data": {
      "text/plain": [
       "86"
      ]
     },
     "execution_count": 58,
     "metadata": {},
     "output_type": "execute_result"
    }
   ],
   "source": [
    "# Количество строк, где этажность не указана\n",
    "\n",
    "data['floors_total'].isna().sum()"
   ]
  },
  {
   "cell_type": "markdown",
   "metadata": {},
   "source": [
    "Т.е. там, где в этажности пропуск, этаж также не указан."
   ]
  },
  {
   "cell_type": "markdown",
   "metadata": {},
   "source": [
    "Посмотрим корреляцию этажности с остальным."
   ]
  },
  {
   "cell_type": "code",
   "execution_count": 59,
   "metadata": {},
   "outputs": [
    {
     "data": {
      "text/plain": [
       "total_images                   \n",
       "last_price                     \n",
       "total_area                     \n",
       "rooms                          \n",
       "ceiling_height                 \n",
       "floors_total                   \n",
       "living_area                    \n",
       "floor                  0.678059\n",
       "is_apartment                   \n",
       "studio                         \n",
       "open_plan                      \n",
       "kitchen_area                   \n",
       "balcony                        \n",
       "airports_nearest               \n",
       "cityCenters_nearest            \n",
       "parks_around3000               \n",
       "parks_nearest                  \n",
       "ponds_around3000               \n",
       "ponds_nearest                  \n",
       "days_exposition                \n",
       "area_ratio                     \n",
       "kitchen_ratio                  \n",
       "Name: floors_total, dtype: object"
      ]
     },
     "execution_count": 59,
     "metadata": {},
     "output_type": "execute_result"
    }
   ],
   "source": [
    "# Выводим корреляционную матрицу для столбца \"floors_total\" со значениями, которые по модулю не меньше 0,6.\n",
    "\n",
    "corr_above(data, 0.6)['floors_total']"
   ]
  },
  {
   "cell_type": "markdown",
   "metadata": {},
   "source": [
    "Как видим, единственная крупная корреляция - это с номером этажа."
   ]
  },
  {
   "cell_type": "markdown",
   "metadata": {},
   "source": [
    "Сгруппируем датафрейм по столбцу \"floor\"."
   ]
  },
  {
   "cell_type": "code",
   "execution_count": 60,
   "metadata": {},
   "outputs": [
    {
     "data": {
      "text/html": [
       "<div>\n",
       "<style scoped>\n",
       "    .dataframe tbody tr th:only-of-type {\n",
       "        vertical-align: middle;\n",
       "    }\n",
       "\n",
       "    .dataframe tbody tr th {\n",
       "        vertical-align: top;\n",
       "    }\n",
       "\n",
       "    .dataframe thead th {\n",
       "        text-align: right;\n",
       "    }\n",
       "</style>\n",
       "<table border=\"1\" class=\"dataframe\">\n",
       "  <thead>\n",
       "    <tr style=\"text-align: right;\">\n",
       "      <th></th>\n",
       "      <th>total_images</th>\n",
       "      <th>last_price</th>\n",
       "      <th>total_area</th>\n",
       "      <th>rooms</th>\n",
       "      <th>ceiling_height</th>\n",
       "      <th>floors_total</th>\n",
       "      <th>living_area</th>\n",
       "      <th>is_apartment</th>\n",
       "      <th>studio</th>\n",
       "      <th>open_plan</th>\n",
       "      <th>...</th>\n",
       "      <th>balcony</th>\n",
       "      <th>airports_nearest</th>\n",
       "      <th>cityCenters_nearest</th>\n",
       "      <th>parks_around3000</th>\n",
       "      <th>parks_nearest</th>\n",
       "      <th>ponds_around3000</th>\n",
       "      <th>ponds_nearest</th>\n",
       "      <th>days_exposition</th>\n",
       "      <th>area_ratio</th>\n",
       "      <th>kitchen_ratio</th>\n",
       "    </tr>\n",
       "    <tr>\n",
       "      <th>floor</th>\n",
       "      <th></th>\n",
       "      <th></th>\n",
       "      <th></th>\n",
       "      <th></th>\n",
       "      <th></th>\n",
       "      <th></th>\n",
       "      <th></th>\n",
       "      <th></th>\n",
       "      <th></th>\n",
       "      <th></th>\n",
       "      <th></th>\n",
       "      <th></th>\n",
       "      <th></th>\n",
       "      <th></th>\n",
       "      <th></th>\n",
       "      <th></th>\n",
       "      <th></th>\n",
       "      <th></th>\n",
       "      <th></th>\n",
       "      <th></th>\n",
       "      <th></th>\n",
       "    </tr>\n",
       "  </thead>\n",
       "  <tbody>\n",
       "    <tr>\n",
       "      <th>1</th>\n",
       "      <td>9.0</td>\n",
       "      <td>3900000.0</td>\n",
       "      <td>51.000</td>\n",
       "      <td>2.0</td>\n",
       "      <td>2.640</td>\n",
       "      <td>5.0</td>\n",
       "      <td>30.000000</td>\n",
       "      <td>0.0</td>\n",
       "      <td>0.0</td>\n",
       "      <td>0.0</td>\n",
       "      <td>...</td>\n",
       "      <td>0.0</td>\n",
       "      <td>25116.0</td>\n",
       "      <td>13390.0</td>\n",
       "      <td>0.0</td>\n",
       "      <td>445.0</td>\n",
       "      <td>0.0</td>\n",
       "      <td>531.0</td>\n",
       "      <td>115.0</td>\n",
       "      <td>59.555556</td>\n",
       "      <td>16.634304</td>\n",
       "    </tr>\n",
       "    <tr>\n",
       "      <th>2</th>\n",
       "      <td>9.0</td>\n",
       "      <td>4490000.0</td>\n",
       "      <td>53.000</td>\n",
       "      <td>2.0</td>\n",
       "      <td>2.650</td>\n",
       "      <td>5.0</td>\n",
       "      <td>31.000000</td>\n",
       "      <td>0.0</td>\n",
       "      <td>0.0</td>\n",
       "      <td>0.0</td>\n",
       "      <td>...</td>\n",
       "      <td>0.0</td>\n",
       "      <td>24915.0</td>\n",
       "      <td>12180.0</td>\n",
       "      <td>1.0</td>\n",
       "      <td>431.5</td>\n",
       "      <td>1.0</td>\n",
       "      <td>508.0</td>\n",
       "      <td>99.0</td>\n",
       "      <td>58.549043</td>\n",
       "      <td>16.981132</td>\n",
       "    </tr>\n",
       "    <tr>\n",
       "      <th>3</th>\n",
       "      <td>9.0</td>\n",
       "      <td>4630000.0</td>\n",
       "      <td>53.200</td>\n",
       "      <td>2.0</td>\n",
       "      <td>2.650</td>\n",
       "      <td>5.0</td>\n",
       "      <td>31.000000</td>\n",
       "      <td>0.0</td>\n",
       "      <td>0.0</td>\n",
       "      <td>0.0</td>\n",
       "      <td>...</td>\n",
       "      <td>0.0</td>\n",
       "      <td>25027.0</td>\n",
       "      <td>12190.0</td>\n",
       "      <td>0.0</td>\n",
       "      <td>429.5</td>\n",
       "      <td>1.0</td>\n",
       "      <td>516.0</td>\n",
       "      <td>98.5</td>\n",
       "      <td>58.039962</td>\n",
       "      <td>17.035775</td>\n",
       "    </tr>\n",
       "    <tr>\n",
       "      <th>4</th>\n",
       "      <td>10.0</td>\n",
       "      <td>4700000.0</td>\n",
       "      <td>54.000</td>\n",
       "      <td>2.0</td>\n",
       "      <td>2.650</td>\n",
       "      <td>5.0</td>\n",
       "      <td>31.600000</td>\n",
       "      <td>0.0</td>\n",
       "      <td>0.0</td>\n",
       "      <td>0.0</td>\n",
       "      <td>...</td>\n",
       "      <td>0.0</td>\n",
       "      <td>25278.0</td>\n",
       "      <td>12154.0</td>\n",
       "      <td>1.0</td>\n",
       "      <td>433.0</td>\n",
       "      <td>1.0</td>\n",
       "      <td>502.5</td>\n",
       "      <td>97.5</td>\n",
       "      <td>58.501021</td>\n",
       "      <td>16.347680</td>\n",
       "    </tr>\n",
       "    <tr>\n",
       "      <th>5</th>\n",
       "      <td>9.0</td>\n",
       "      <td>4400000.0</td>\n",
       "      <td>51.600</td>\n",
       "      <td>2.0</td>\n",
       "      <td>2.650</td>\n",
       "      <td>6.0</td>\n",
       "      <td>30.800000</td>\n",
       "      <td>0.0</td>\n",
       "      <td>0.0</td>\n",
       "      <td>0.0</td>\n",
       "      <td>...</td>\n",
       "      <td>0.0</td>\n",
       "      <td>25986.5</td>\n",
       "      <td>12612.0</td>\n",
       "      <td>0.0</td>\n",
       "      <td>441.0</td>\n",
       "      <td>1.0</td>\n",
       "      <td>506.0</td>\n",
       "      <td>93.0</td>\n",
       "      <td>58.344640</td>\n",
       "      <td>16.507937</td>\n",
       "    </tr>\n",
       "    <tr>\n",
       "      <th>6</th>\n",
       "      <td>9.0</td>\n",
       "      <td>5100000.0</td>\n",
       "      <td>55.000</td>\n",
       "      <td>2.0</td>\n",
       "      <td>2.650</td>\n",
       "      <td>9.0</td>\n",
       "      <td>30.900000</td>\n",
       "      <td>0.0</td>\n",
       "      <td>0.0</td>\n",
       "      <td>0.0</td>\n",
       "      <td>...</td>\n",
       "      <td>0.0</td>\n",
       "      <td>26966.5</td>\n",
       "      <td>12794.0</td>\n",
       "      <td>0.0</td>\n",
       "      <td>453.0</td>\n",
       "      <td>1.0</td>\n",
       "      <td>517.0</td>\n",
       "      <td>90.0</td>\n",
       "      <td>56.324900</td>\n",
       "      <td>17.241379</td>\n",
       "    </tr>\n",
       "    <tr>\n",
       "      <th>7</th>\n",
       "      <td>10.0</td>\n",
       "      <td>4950000.0</td>\n",
       "      <td>52.000</td>\n",
       "      <td>2.0</td>\n",
       "      <td>2.650</td>\n",
       "      <td>10.0</td>\n",
       "      <td>30.000000</td>\n",
       "      <td>0.0</td>\n",
       "      <td>0.0</td>\n",
       "      <td>0.0</td>\n",
       "      <td>...</td>\n",
       "      <td>0.0</td>\n",
       "      <td>27828.0</td>\n",
       "      <td>13538.0</td>\n",
       "      <td>0.0</td>\n",
       "      <td>466.0</td>\n",
       "      <td>0.0</td>\n",
       "      <td>547.0</td>\n",
       "      <td>94.0</td>\n",
       "      <td>55.172414</td>\n",
       "      <td>17.241379</td>\n",
       "    </tr>\n",
       "    <tr>\n",
       "      <th>8</th>\n",
       "      <td>10.0</td>\n",
       "      <td>4800000.0</td>\n",
       "      <td>52.000</td>\n",
       "      <td>2.0</td>\n",
       "      <td>2.650</td>\n",
       "      <td>10.0</td>\n",
       "      <td>30.000000</td>\n",
       "      <td>0.0</td>\n",
       "      <td>0.0</td>\n",
       "      <td>0.0</td>\n",
       "      <td>...</td>\n",
       "      <td>0.0</td>\n",
       "      <td>30090.5</td>\n",
       "      <td>13607.0</td>\n",
       "      <td>0.0</td>\n",
       "      <td>455.0</td>\n",
       "      <td>0.0</td>\n",
       "      <td>535.0</td>\n",
       "      <td>105.0</td>\n",
       "      <td>56.005057</td>\n",
       "      <td>17.241379</td>\n",
       "    </tr>\n",
       "    <tr>\n",
       "      <th>9</th>\n",
       "      <td>10.0</td>\n",
       "      <td>4690000.0</td>\n",
       "      <td>50.500</td>\n",
       "      <td>2.0</td>\n",
       "      <td>2.620</td>\n",
       "      <td>10.0</td>\n",
       "      <td>29.400000</td>\n",
       "      <td>0.0</td>\n",
       "      <td>0.0</td>\n",
       "      <td>0.0</td>\n",
       "      <td>...</td>\n",
       "      <td>0.0</td>\n",
       "      <td>30359.5</td>\n",
       "      <td>13709.5</td>\n",
       "      <td>0.0</td>\n",
       "      <td>458.5</td>\n",
       "      <td>0.0</td>\n",
       "      <td>518.0</td>\n",
       "      <td>89.0</td>\n",
       "      <td>55.416667</td>\n",
       "      <td>17.761989</td>\n",
       "    </tr>\n",
       "    <tr>\n",
       "      <th>10</th>\n",
       "      <td>10.0</td>\n",
       "      <td>5050000.0</td>\n",
       "      <td>53.000</td>\n",
       "      <td>2.0</td>\n",
       "      <td>2.670</td>\n",
       "      <td>16.0</td>\n",
       "      <td>29.700000</td>\n",
       "      <td>0.0</td>\n",
       "      <td>0.0</td>\n",
       "      <td>0.0</td>\n",
       "      <td>...</td>\n",
       "      <td>0.0</td>\n",
       "      <td>30946.5</td>\n",
       "      <td>13281.0</td>\n",
       "      <td>0.0</td>\n",
       "      <td>441.0</td>\n",
       "      <td>1.0</td>\n",
       "      <td>495.0</td>\n",
       "      <td>89.5</td>\n",
       "      <td>52.307692</td>\n",
       "      <td>19.609252</td>\n",
       "    </tr>\n",
       "    <tr>\n",
       "      <th>11</th>\n",
       "      <td>10.0</td>\n",
       "      <td>5100000.0</td>\n",
       "      <td>52.000</td>\n",
       "      <td>2.0</td>\n",
       "      <td>2.700</td>\n",
       "      <td>16.0</td>\n",
       "      <td>28.600000</td>\n",
       "      <td>0.0</td>\n",
       "      <td>0.0</td>\n",
       "      <td>0.0</td>\n",
       "      <td>...</td>\n",
       "      <td>0.0</td>\n",
       "      <td>31719.0</td>\n",
       "      <td>13512.0</td>\n",
       "      <td>0.0</td>\n",
       "      <td>473.0</td>\n",
       "      <td>0.0</td>\n",
       "      <td>528.0</td>\n",
       "      <td>82.0</td>\n",
       "      <td>51.685393</td>\n",
       "      <td>19.819820</td>\n",
       "    </tr>\n",
       "    <tr>\n",
       "      <th>12</th>\n",
       "      <td>10.0</td>\n",
       "      <td>5170000.0</td>\n",
       "      <td>50.000</td>\n",
       "      <td>2.0</td>\n",
       "      <td>2.675</td>\n",
       "      <td>16.0</td>\n",
       "      <td>27.000000</td>\n",
       "      <td>0.0</td>\n",
       "      <td>0.0</td>\n",
       "      <td>0.0</td>\n",
       "      <td>...</td>\n",
       "      <td>0.0</td>\n",
       "      <td>32796.0</td>\n",
       "      <td>13460.0</td>\n",
       "      <td>0.0</td>\n",
       "      <td>441.0</td>\n",
       "      <td>0.0</td>\n",
       "      <td>534.0</td>\n",
       "      <td>85.0</td>\n",
       "      <td>52.470615</td>\n",
       "      <td>20.000000</td>\n",
       "    </tr>\n",
       "    <tr>\n",
       "      <th>13</th>\n",
       "      <td>10.0</td>\n",
       "      <td>5300000.0</td>\n",
       "      <td>50.800</td>\n",
       "      <td>2.0</td>\n",
       "      <td>2.700</td>\n",
       "      <td>17.0</td>\n",
       "      <td>26.900000</td>\n",
       "      <td>0.0</td>\n",
       "      <td>0.0</td>\n",
       "      <td>0.0</td>\n",
       "      <td>...</td>\n",
       "      <td>0.0</td>\n",
       "      <td>31856.0</td>\n",
       "      <td>13816.0</td>\n",
       "      <td>0.0</td>\n",
       "      <td>485.0</td>\n",
       "      <td>0.0</td>\n",
       "      <td>509.5</td>\n",
       "      <td>81.0</td>\n",
       "      <td>52.000000</td>\n",
       "      <td>20.000000</td>\n",
       "    </tr>\n",
       "    <tr>\n",
       "      <th>14</th>\n",
       "      <td>10.0</td>\n",
       "      <td>5035000.0</td>\n",
       "      <td>46.000</td>\n",
       "      <td>1.0</td>\n",
       "      <td>2.700</td>\n",
       "      <td>17.0</td>\n",
       "      <td>21.400000</td>\n",
       "      <td>0.0</td>\n",
       "      <td>0.0</td>\n",
       "      <td>0.0</td>\n",
       "      <td>...</td>\n",
       "      <td>0.0</td>\n",
       "      <td>29572.0</td>\n",
       "      <td>13916.0</td>\n",
       "      <td>0.0</td>\n",
       "      <td>451.0</td>\n",
       "      <td>0.0</td>\n",
       "      <td>519.0</td>\n",
       "      <td>81.5</td>\n",
       "      <td>51.173709</td>\n",
       "      <td>21.538462</td>\n",
       "    </tr>\n",
       "    <tr>\n",
       "      <th>15</th>\n",
       "      <td>10.0</td>\n",
       "      <td>5000000.0</td>\n",
       "      <td>46.700</td>\n",
       "      <td>1.0</td>\n",
       "      <td>2.700</td>\n",
       "      <td>17.0</td>\n",
       "      <td>21.000000</td>\n",
       "      <td>0.0</td>\n",
       "      <td>0.0</td>\n",
       "      <td>0.0</td>\n",
       "      <td>...</td>\n",
       "      <td>1.0</td>\n",
       "      <td>32519.5</td>\n",
       "      <td>13656.0</td>\n",
       "      <td>0.0</td>\n",
       "      <td>432.0</td>\n",
       "      <td>0.0</td>\n",
       "      <td>527.5</td>\n",
       "      <td>98.5</td>\n",
       "      <td>50.374065</td>\n",
       "      <td>21.433356</td>\n",
       "    </tr>\n",
       "    <tr>\n",
       "      <th>16</th>\n",
       "      <td>10.0</td>\n",
       "      <td>5200140.0</td>\n",
       "      <td>45.100</td>\n",
       "      <td>1.0</td>\n",
       "      <td>2.700</td>\n",
       "      <td>18.0</td>\n",
       "      <td>20.200000</td>\n",
       "      <td>0.0</td>\n",
       "      <td>0.0</td>\n",
       "      <td>0.0</td>\n",
       "      <td>...</td>\n",
       "      <td>0.0</td>\n",
       "      <td>33563.5</td>\n",
       "      <td>14201.5</td>\n",
       "      <td>0.0</td>\n",
       "      <td>478.0</td>\n",
       "      <td>0.0</td>\n",
       "      <td>577.0</td>\n",
       "      <td>81.0</td>\n",
       "      <td>50.000000</td>\n",
       "      <td>22.018349</td>\n",
       "    </tr>\n",
       "    <tr>\n",
       "      <th>17</th>\n",
       "      <td>9.0</td>\n",
       "      <td>4900000.0</td>\n",
       "      <td>43.200</td>\n",
       "      <td>1.0</td>\n",
       "      <td>2.700</td>\n",
       "      <td>22.0</td>\n",
       "      <td>20.000000</td>\n",
       "      <td>0.0</td>\n",
       "      <td>0.0</td>\n",
       "      <td>0.0</td>\n",
       "      <td>...</td>\n",
       "      <td>0.0</td>\n",
       "      <td>33184.0</td>\n",
       "      <td>14548.0</td>\n",
       "      <td>0.0</td>\n",
       "      <td>417.0</td>\n",
       "      <td>1.0</td>\n",
       "      <td>584.5</td>\n",
       "      <td>86.0</td>\n",
       "      <td>50.505051</td>\n",
       "      <td>22.325581</td>\n",
       "    </tr>\n",
       "    <tr>\n",
       "      <th>18</th>\n",
       "      <td>9.0</td>\n",
       "      <td>5400000.0</td>\n",
       "      <td>53.000</td>\n",
       "      <td>2.0</td>\n",
       "      <td>2.700</td>\n",
       "      <td>22.0</td>\n",
       "      <td>27.350000</td>\n",
       "      <td>0.0</td>\n",
       "      <td>0.0</td>\n",
       "      <td>0.0</td>\n",
       "      <td>...</td>\n",
       "      <td>0.0</td>\n",
       "      <td>30371.5</td>\n",
       "      <td>14976.5</td>\n",
       "      <td>0.0</td>\n",
       "      <td>480.5</td>\n",
       "      <td>0.0</td>\n",
       "      <td>465.5</td>\n",
       "      <td>72.0</td>\n",
       "      <td>50.000000</td>\n",
       "      <td>20.086422</td>\n",
       "    </tr>\n",
       "    <tr>\n",
       "      <th>19</th>\n",
       "      <td>9.0</td>\n",
       "      <td>5045000.0</td>\n",
       "      <td>48.000</td>\n",
       "      <td>1.0</td>\n",
       "      <td>2.750</td>\n",
       "      <td>24.0</td>\n",
       "      <td>25.500000</td>\n",
       "      <td>0.0</td>\n",
       "      <td>0.0</td>\n",
       "      <td>0.0</td>\n",
       "      <td>...</td>\n",
       "      <td>0.0</td>\n",
       "      <td>34562.0</td>\n",
       "      <td>14598.5</td>\n",
       "      <td>0.0</td>\n",
       "      <td>420.0</td>\n",
       "      <td>0.0</td>\n",
       "      <td>492.0</td>\n",
       "      <td>98.5</td>\n",
       "      <td>49.800057</td>\n",
       "      <td>20.754717</td>\n",
       "    </tr>\n",
       "    <tr>\n",
       "      <th>20</th>\n",
       "      <td>9.0</td>\n",
       "      <td>4950000.0</td>\n",
       "      <td>45.050</td>\n",
       "      <td>1.0</td>\n",
       "      <td>2.700</td>\n",
       "      <td>24.0</td>\n",
       "      <td>20.000000</td>\n",
       "      <td>0.0</td>\n",
       "      <td>0.0</td>\n",
       "      <td>0.0</td>\n",
       "      <td>...</td>\n",
       "      <td>1.0</td>\n",
       "      <td>34220.0</td>\n",
       "      <td>14775.5</td>\n",
       "      <td>0.0</td>\n",
       "      <td>419.0</td>\n",
       "      <td>0.0</td>\n",
       "      <td>529.0</td>\n",
       "      <td>88.0</td>\n",
       "      <td>48.879199</td>\n",
       "      <td>23.073200</td>\n",
       "    </tr>\n",
       "    <tr>\n",
       "      <th>21</th>\n",
       "      <td>9.0</td>\n",
       "      <td>5250000.0</td>\n",
       "      <td>51.600</td>\n",
       "      <td>1.0</td>\n",
       "      <td>2.700</td>\n",
       "      <td>25.0</td>\n",
       "      <td>19.200000</td>\n",
       "      <td>0.0</td>\n",
       "      <td>0.0</td>\n",
       "      <td>0.0</td>\n",
       "      <td>...</td>\n",
       "      <td>0.0</td>\n",
       "      <td>33358.5</td>\n",
       "      <td>14578.5</td>\n",
       "      <td>0.0</td>\n",
       "      <td>443.5</td>\n",
       "      <td>0.0</td>\n",
       "      <td>443.0</td>\n",
       "      <td>95.0</td>\n",
       "      <td>48.148148</td>\n",
       "      <td>20.370370</td>\n",
       "    </tr>\n",
       "    <tr>\n",
       "      <th>22</th>\n",
       "      <td>10.0</td>\n",
       "      <td>5350000.0</td>\n",
       "      <td>48.000</td>\n",
       "      <td>1.0</td>\n",
       "      <td>2.650</td>\n",
       "      <td>25.0</td>\n",
       "      <td>22.000000</td>\n",
       "      <td>0.0</td>\n",
       "      <td>0.0</td>\n",
       "      <td>0.0</td>\n",
       "      <td>...</td>\n",
       "      <td>0.0</td>\n",
       "      <td>23818.0</td>\n",
       "      <td>14706.0</td>\n",
       "      <td>0.0</td>\n",
       "      <td>484.0</td>\n",
       "      <td>0.0</td>\n",
       "      <td>546.0</td>\n",
       "      <td>109.0</td>\n",
       "      <td>49.380421</td>\n",
       "      <td>20.634921</td>\n",
       "    </tr>\n",
       "    <tr>\n",
       "      <th>23</th>\n",
       "      <td>10.0</td>\n",
       "      <td>5185000.0</td>\n",
       "      <td>46.500</td>\n",
       "      <td>1.0</td>\n",
       "      <td>2.700</td>\n",
       "      <td>25.0</td>\n",
       "      <td>20.000000</td>\n",
       "      <td>0.0</td>\n",
       "      <td>0.0</td>\n",
       "      <td>0.0</td>\n",
       "      <td>...</td>\n",
       "      <td>0.0</td>\n",
       "      <td>22118.0</td>\n",
       "      <td>14941.0</td>\n",
       "      <td>0.0</td>\n",
       "      <td>440.0</td>\n",
       "      <td>0.0</td>\n",
       "      <td>527.0</td>\n",
       "      <td>74.0</td>\n",
       "      <td>48.425130</td>\n",
       "      <td>19.590643</td>\n",
       "    </tr>\n",
       "    <tr>\n",
       "      <th>24</th>\n",
       "      <td>10.0</td>\n",
       "      <td>5150000.0</td>\n",
       "      <td>49.000</td>\n",
       "      <td>1.0</td>\n",
       "      <td>2.700</td>\n",
       "      <td>25.0</td>\n",
       "      <td>20.000000</td>\n",
       "      <td>0.0</td>\n",
       "      <td>0.0</td>\n",
       "      <td>0.0</td>\n",
       "      <td>...</td>\n",
       "      <td>1.0</td>\n",
       "      <td>36122.0</td>\n",
       "      <td>14938.0</td>\n",
       "      <td>0.0</td>\n",
       "      <td>440.0</td>\n",
       "      <td>0.0</td>\n",
       "      <td>608.0</td>\n",
       "      <td>81.0</td>\n",
       "      <td>47.477745</td>\n",
       "      <td>23.380282</td>\n",
       "    </tr>\n",
       "    <tr>\n",
       "      <th>25</th>\n",
       "      <td>10.0</td>\n",
       "      <td>4775000.0</td>\n",
       "      <td>47.750</td>\n",
       "      <td>1.0</td>\n",
       "      <td>2.690</td>\n",
       "      <td>25.0</td>\n",
       "      <td>22.950000</td>\n",
       "      <td>0.0</td>\n",
       "      <td>0.0</td>\n",
       "      <td>0.0</td>\n",
       "      <td>...</td>\n",
       "      <td>0.0</td>\n",
       "      <td>36477.0</td>\n",
       "      <td>15066.5</td>\n",
       "      <td>0.0</td>\n",
       "      <td>488.0</td>\n",
       "      <td>0.0</td>\n",
       "      <td>527.0</td>\n",
       "      <td>90.0</td>\n",
       "      <td>51.525705</td>\n",
       "      <td>18.809800</td>\n",
       "    </tr>\n",
       "    <tr>\n",
       "      <th>26</th>\n",
       "      <td>9.0</td>\n",
       "      <td>4040000.0</td>\n",
       "      <td>40.400</td>\n",
       "      <td>1.0</td>\n",
       "      <td>2.640</td>\n",
       "      <td>27.0</td>\n",
       "      <td>17.150000</td>\n",
       "      <td>0.0</td>\n",
       "      <td>0.0</td>\n",
       "      <td>0.0</td>\n",
       "      <td>...</td>\n",
       "      <td>2.0</td>\n",
       "      <td>52700.0</td>\n",
       "      <td>18900.0</td>\n",
       "      <td>0.0</td>\n",
       "      <td>524.5</td>\n",
       "      <td>0.0</td>\n",
       "      <td>582.5</td>\n",
       "      <td>93.0</td>\n",
       "      <td>46.330754</td>\n",
       "      <td>26.739735</td>\n",
       "    </tr>\n",
       "    <tr>\n",
       "      <th>27</th>\n",
       "      <td>7.5</td>\n",
       "      <td>4494000.0</td>\n",
       "      <td>47.685</td>\n",
       "      <td>1.5</td>\n",
       "      <td>2.600</td>\n",
       "      <td>27.0</td>\n",
       "      <td>24.217212</td>\n",
       "      <td>0.0</td>\n",
       "      <td>0.0</td>\n",
       "      <td>0.0</td>\n",
       "      <td>...</td>\n",
       "      <td>0.5</td>\n",
       "      <td>52631.5</td>\n",
       "      <td>19626.5</td>\n",
       "      <td>0.0</td>\n",
       "      <td>342.0</td>\n",
       "      <td>0.0</td>\n",
       "      <td>80.0</td>\n",
       "      <td>213.0</td>\n",
       "      <td>50.020714</td>\n",
       "      <td>26.074402</td>\n",
       "    </tr>\n",
       "    <tr>\n",
       "      <th>28</th>\n",
       "      <td>15.0</td>\n",
       "      <td>5990000.0</td>\n",
       "      <td>54.000</td>\n",
       "      <td>2.0</td>\n",
       "      <td>2.400</td>\n",
       "      <td>36.0</td>\n",
       "      <td>21.400000</td>\n",
       "      <td>0.0</td>\n",
       "      <td>0.0</td>\n",
       "      <td>0.0</td>\n",
       "      <td>...</td>\n",
       "      <td>1.0</td>\n",
       "      <td>18732.0</td>\n",
       "      <td>20444.0</td>\n",
       "      <td>0.0</td>\n",
       "      <td>342.0</td>\n",
       "      <td>3.0</td>\n",
       "      <td>80.0</td>\n",
       "      <td>11.0</td>\n",
       "      <td>39.629630</td>\n",
       "      <td>34.629630</td>\n",
       "    </tr>\n",
       "    <tr>\n",
       "      <th>29</th>\n",
       "      <td>16.0</td>\n",
       "      <td>9200000.0</td>\n",
       "      <td>75.000</td>\n",
       "      <td>2.0</td>\n",
       "      <td>2.700</td>\n",
       "      <td>36.0</td>\n",
       "      <td>40.000000</td>\n",
       "      <td>0.0</td>\n",
       "      <td>0.0</td>\n",
       "      <td>0.0</td>\n",
       "      <td>...</td>\n",
       "      <td>2.0</td>\n",
       "      <td>18732.0</td>\n",
       "      <td>20444.0</td>\n",
       "      <td>0.0</td>\n",
       "      <td>342.0</td>\n",
       "      <td>3.0</td>\n",
       "      <td>80.0</td>\n",
       "      <td>NaN</td>\n",
       "      <td>53.333333</td>\n",
       "      <td>16.000000</td>\n",
       "    </tr>\n",
       "    <tr>\n",
       "      <th>30</th>\n",
       "      <td>13.0</td>\n",
       "      <td>10150000.0</td>\n",
       "      <td>74.000</td>\n",
       "      <td>2.0</td>\n",
       "      <td>2.800</td>\n",
       "      <td>35.0</td>\n",
       "      <td>34.400000</td>\n",
       "      <td>0.0</td>\n",
       "      <td>0.0</td>\n",
       "      <td>0.0</td>\n",
       "      <td>...</td>\n",
       "      <td>0.0</td>\n",
       "      <td>18732.0</td>\n",
       "      <td>20444.0</td>\n",
       "      <td>0.0</td>\n",
       "      <td>342.0</td>\n",
       "      <td>3.0</td>\n",
       "      <td>80.0</td>\n",
       "      <td>NaN</td>\n",
       "      <td>46.486486</td>\n",
       "      <td>17.567568</td>\n",
       "    </tr>\n",
       "    <tr>\n",
       "      <th>31</th>\n",
       "      <td>20.0</td>\n",
       "      <td>5700000.0</td>\n",
       "      <td>54.000</td>\n",
       "      <td>1.0</td>\n",
       "      <td>2.400</td>\n",
       "      <td>35.0</td>\n",
       "      <td>21.000000</td>\n",
       "      <td>0.0</td>\n",
       "      <td>0.0</td>\n",
       "      <td>0.0</td>\n",
       "      <td>...</td>\n",
       "      <td>0.0</td>\n",
       "      <td>18732.0</td>\n",
       "      <td>20444.0</td>\n",
       "      <td>0.0</td>\n",
       "      <td>342.0</td>\n",
       "      <td>3.0</td>\n",
       "      <td>80.0</td>\n",
       "      <td>128.0</td>\n",
       "      <td>38.888889</td>\n",
       "      <td>33.333333</td>\n",
       "    </tr>\n",
       "    <tr>\n",
       "      <th>32</th>\n",
       "      <td>9.0</td>\n",
       "      <td>9900000.0</td>\n",
       "      <td>101.000</td>\n",
       "      <td>3.0</td>\n",
       "      <td>2.400</td>\n",
       "      <td>33.0</td>\n",
       "      <td>53.000000</td>\n",
       "      <td>0.0</td>\n",
       "      <td>0.0</td>\n",
       "      <td>0.0</td>\n",
       "      <td>...</td>\n",
       "      <td>0.0</td>\n",
       "      <td>18732.0</td>\n",
       "      <td>20444.0</td>\n",
       "      <td>0.0</td>\n",
       "      <td>342.0</td>\n",
       "      <td>3.0</td>\n",
       "      <td>80.0</td>\n",
       "      <td>53.0</td>\n",
       "      <td>52.475248</td>\n",
       "      <td>20.792079</td>\n",
       "    </tr>\n",
       "    <tr>\n",
       "      <th>33</th>\n",
       "      <td>4.0</td>\n",
       "      <td>9900000.0</td>\n",
       "      <td>101.000</td>\n",
       "      <td>3.0</td>\n",
       "      <td>2.550</td>\n",
       "      <td>35.0</td>\n",
       "      <td>53.400000</td>\n",
       "      <td>0.0</td>\n",
       "      <td>0.0</td>\n",
       "      <td>0.0</td>\n",
       "      <td>...</td>\n",
       "      <td>2.0</td>\n",
       "      <td>18737.0</td>\n",
       "      <td>20450.0</td>\n",
       "      <td>0.0</td>\n",
       "      <td>185.0</td>\n",
       "      <td>3.0</td>\n",
       "      <td>72.0</td>\n",
       "      <td>7.0</td>\n",
       "      <td>52.871287</td>\n",
       "      <td>13.564356</td>\n",
       "    </tr>\n",
       "  </tbody>\n",
       "</table>\n",
       "<p>33 rows × 21 columns</p>\n",
       "</div>"
      ],
      "text/plain": [
       "       total_images  last_price  total_area  rooms  ceiling_height  \\\n",
       "floor                                                                \n",
       "1               9.0   3900000.0      51.000    2.0           2.640   \n",
       "2               9.0   4490000.0      53.000    2.0           2.650   \n",
       "3               9.0   4630000.0      53.200    2.0           2.650   \n",
       "4              10.0   4700000.0      54.000    2.0           2.650   \n",
       "5               9.0   4400000.0      51.600    2.0           2.650   \n",
       "6               9.0   5100000.0      55.000    2.0           2.650   \n",
       "7              10.0   4950000.0      52.000    2.0           2.650   \n",
       "8              10.0   4800000.0      52.000    2.0           2.650   \n",
       "9              10.0   4690000.0      50.500    2.0           2.620   \n",
       "10             10.0   5050000.0      53.000    2.0           2.670   \n",
       "11             10.0   5100000.0      52.000    2.0           2.700   \n",
       "12             10.0   5170000.0      50.000    2.0           2.675   \n",
       "13             10.0   5300000.0      50.800    2.0           2.700   \n",
       "14             10.0   5035000.0      46.000    1.0           2.700   \n",
       "15             10.0   5000000.0      46.700    1.0           2.700   \n",
       "16             10.0   5200140.0      45.100    1.0           2.700   \n",
       "17              9.0   4900000.0      43.200    1.0           2.700   \n",
       "18              9.0   5400000.0      53.000    2.0           2.700   \n",
       "19              9.0   5045000.0      48.000    1.0           2.750   \n",
       "20              9.0   4950000.0      45.050    1.0           2.700   \n",
       "21              9.0   5250000.0      51.600    1.0           2.700   \n",
       "22             10.0   5350000.0      48.000    1.0           2.650   \n",
       "23             10.0   5185000.0      46.500    1.0           2.700   \n",
       "24             10.0   5150000.0      49.000    1.0           2.700   \n",
       "25             10.0   4775000.0      47.750    1.0           2.690   \n",
       "26              9.0   4040000.0      40.400    1.0           2.640   \n",
       "27              7.5   4494000.0      47.685    1.5           2.600   \n",
       "28             15.0   5990000.0      54.000    2.0           2.400   \n",
       "29             16.0   9200000.0      75.000    2.0           2.700   \n",
       "30             13.0  10150000.0      74.000    2.0           2.800   \n",
       "31             20.0   5700000.0      54.000    1.0           2.400   \n",
       "32              9.0   9900000.0     101.000    3.0           2.400   \n",
       "33              4.0   9900000.0     101.000    3.0           2.550   \n",
       "\n",
       "       floors_total  living_area  is_apartment  studio  open_plan  ...  \\\n",
       "floor                                                              ...   \n",
       "1               5.0    30.000000           0.0     0.0        0.0  ...   \n",
       "2               5.0    31.000000           0.0     0.0        0.0  ...   \n",
       "3               5.0    31.000000           0.0     0.0        0.0  ...   \n",
       "4               5.0    31.600000           0.0     0.0        0.0  ...   \n",
       "5               6.0    30.800000           0.0     0.0        0.0  ...   \n",
       "6               9.0    30.900000           0.0     0.0        0.0  ...   \n",
       "7              10.0    30.000000           0.0     0.0        0.0  ...   \n",
       "8              10.0    30.000000           0.0     0.0        0.0  ...   \n",
       "9              10.0    29.400000           0.0     0.0        0.0  ...   \n",
       "10             16.0    29.700000           0.0     0.0        0.0  ...   \n",
       "11             16.0    28.600000           0.0     0.0        0.0  ...   \n",
       "12             16.0    27.000000           0.0     0.0        0.0  ...   \n",
       "13             17.0    26.900000           0.0     0.0        0.0  ...   \n",
       "14             17.0    21.400000           0.0     0.0        0.0  ...   \n",
       "15             17.0    21.000000           0.0     0.0        0.0  ...   \n",
       "16             18.0    20.200000           0.0     0.0        0.0  ...   \n",
       "17             22.0    20.000000           0.0     0.0        0.0  ...   \n",
       "18             22.0    27.350000           0.0     0.0        0.0  ...   \n",
       "19             24.0    25.500000           0.0     0.0        0.0  ...   \n",
       "20             24.0    20.000000           0.0     0.0        0.0  ...   \n",
       "21             25.0    19.200000           0.0     0.0        0.0  ...   \n",
       "22             25.0    22.000000           0.0     0.0        0.0  ...   \n",
       "23             25.0    20.000000           0.0     0.0        0.0  ...   \n",
       "24             25.0    20.000000           0.0     0.0        0.0  ...   \n",
       "25             25.0    22.950000           0.0     0.0        0.0  ...   \n",
       "26             27.0    17.150000           0.0     0.0        0.0  ...   \n",
       "27             27.0    24.217212           0.0     0.0        0.0  ...   \n",
       "28             36.0    21.400000           0.0     0.0        0.0  ...   \n",
       "29             36.0    40.000000           0.0     0.0        0.0  ...   \n",
       "30             35.0    34.400000           0.0     0.0        0.0  ...   \n",
       "31             35.0    21.000000           0.0     0.0        0.0  ...   \n",
       "32             33.0    53.000000           0.0     0.0        0.0  ...   \n",
       "33             35.0    53.400000           0.0     0.0        0.0  ...   \n",
       "\n",
       "       balcony  airports_nearest  cityCenters_nearest  parks_around3000  \\\n",
       "floor                                                                     \n",
       "1          0.0           25116.0              13390.0               0.0   \n",
       "2          0.0           24915.0              12180.0               1.0   \n",
       "3          0.0           25027.0              12190.0               0.0   \n",
       "4          0.0           25278.0              12154.0               1.0   \n",
       "5          0.0           25986.5              12612.0               0.0   \n",
       "6          0.0           26966.5              12794.0               0.0   \n",
       "7          0.0           27828.0              13538.0               0.0   \n",
       "8          0.0           30090.5              13607.0               0.0   \n",
       "9          0.0           30359.5              13709.5               0.0   \n",
       "10         0.0           30946.5              13281.0               0.0   \n",
       "11         0.0           31719.0              13512.0               0.0   \n",
       "12         0.0           32796.0              13460.0               0.0   \n",
       "13         0.0           31856.0              13816.0               0.0   \n",
       "14         0.0           29572.0              13916.0               0.0   \n",
       "15         1.0           32519.5              13656.0               0.0   \n",
       "16         0.0           33563.5              14201.5               0.0   \n",
       "17         0.0           33184.0              14548.0               0.0   \n",
       "18         0.0           30371.5              14976.5               0.0   \n",
       "19         0.0           34562.0              14598.5               0.0   \n",
       "20         1.0           34220.0              14775.5               0.0   \n",
       "21         0.0           33358.5              14578.5               0.0   \n",
       "22         0.0           23818.0              14706.0               0.0   \n",
       "23         0.0           22118.0              14941.0               0.0   \n",
       "24         1.0           36122.0              14938.0               0.0   \n",
       "25         0.0           36477.0              15066.5               0.0   \n",
       "26         2.0           52700.0              18900.0               0.0   \n",
       "27         0.5           52631.5              19626.5               0.0   \n",
       "28         1.0           18732.0              20444.0               0.0   \n",
       "29         2.0           18732.0              20444.0               0.0   \n",
       "30         0.0           18732.0              20444.0               0.0   \n",
       "31         0.0           18732.0              20444.0               0.0   \n",
       "32         0.0           18732.0              20444.0               0.0   \n",
       "33         2.0           18737.0              20450.0               0.0   \n",
       "\n",
       "       parks_nearest  ponds_around3000  ponds_nearest  days_exposition  \\\n",
       "floor                                                                    \n",
       "1              445.0               0.0          531.0            115.0   \n",
       "2              431.5               1.0          508.0             99.0   \n",
       "3              429.5               1.0          516.0             98.5   \n",
       "4              433.0               1.0          502.5             97.5   \n",
       "5              441.0               1.0          506.0             93.0   \n",
       "6              453.0               1.0          517.0             90.0   \n",
       "7              466.0               0.0          547.0             94.0   \n",
       "8              455.0               0.0          535.0            105.0   \n",
       "9              458.5               0.0          518.0             89.0   \n",
       "10             441.0               1.0          495.0             89.5   \n",
       "11             473.0               0.0          528.0             82.0   \n",
       "12             441.0               0.0          534.0             85.0   \n",
       "13             485.0               0.0          509.5             81.0   \n",
       "14             451.0               0.0          519.0             81.5   \n",
       "15             432.0               0.0          527.5             98.5   \n",
       "16             478.0               0.0          577.0             81.0   \n",
       "17             417.0               1.0          584.5             86.0   \n",
       "18             480.5               0.0          465.5             72.0   \n",
       "19             420.0               0.0          492.0             98.5   \n",
       "20             419.0               0.0          529.0             88.0   \n",
       "21             443.5               0.0          443.0             95.0   \n",
       "22             484.0               0.0          546.0            109.0   \n",
       "23             440.0               0.0          527.0             74.0   \n",
       "24             440.0               0.0          608.0             81.0   \n",
       "25             488.0               0.0          527.0             90.0   \n",
       "26             524.5               0.0          582.5             93.0   \n",
       "27             342.0               0.0           80.0            213.0   \n",
       "28             342.0               3.0           80.0             11.0   \n",
       "29             342.0               3.0           80.0              NaN   \n",
       "30             342.0               3.0           80.0              NaN   \n",
       "31             342.0               3.0           80.0            128.0   \n",
       "32             342.0               3.0           80.0             53.0   \n",
       "33             185.0               3.0           72.0              7.0   \n",
       "\n",
       "       area_ratio  kitchen_ratio  \n",
       "floor                             \n",
       "1       59.555556      16.634304  \n",
       "2       58.549043      16.981132  \n",
       "3       58.039962      17.035775  \n",
       "4       58.501021      16.347680  \n",
       "5       58.344640      16.507937  \n",
       "6       56.324900      17.241379  \n",
       "7       55.172414      17.241379  \n",
       "8       56.005057      17.241379  \n",
       "9       55.416667      17.761989  \n",
       "10      52.307692      19.609252  \n",
       "11      51.685393      19.819820  \n",
       "12      52.470615      20.000000  \n",
       "13      52.000000      20.000000  \n",
       "14      51.173709      21.538462  \n",
       "15      50.374065      21.433356  \n",
       "16      50.000000      22.018349  \n",
       "17      50.505051      22.325581  \n",
       "18      50.000000      20.086422  \n",
       "19      49.800057      20.754717  \n",
       "20      48.879199      23.073200  \n",
       "21      48.148148      20.370370  \n",
       "22      49.380421      20.634921  \n",
       "23      48.425130      19.590643  \n",
       "24      47.477745      23.380282  \n",
       "25      51.525705      18.809800  \n",
       "26      46.330754      26.739735  \n",
       "27      50.020714      26.074402  \n",
       "28      39.629630      34.629630  \n",
       "29      53.333333      16.000000  \n",
       "30      46.486486      17.567568  \n",
       "31      38.888889      33.333333  \n",
       "32      52.475248      20.792079  \n",
       "33      52.871287      13.564356  \n",
       "\n",
       "[33 rows x 21 columns]"
      ]
     },
     "execution_count": 60,
     "metadata": {},
     "output_type": "execute_result"
    }
   ],
   "source": [
    "# Сгруппированные данные по номеру этажа с медианными значениями параметров\n",
    "\n",
    "data.groupby('floor').median()"
   ]
  },
  {
   "cell_type": "markdown",
   "metadata": {},
   "source": [
    "Заполним пропуски в столбце \"floors_total\" медианными значениями с группировкой по столбцу \"floor\"."
   ]
  },
  {
   "cell_type": "code",
   "execution_count": 61,
   "metadata": {},
   "outputs": [
    {
     "name": "stdout",
     "output_type": "stream",
     "text": [
      "Количество пустых значений в столбце \"floors_total\" - 0\n"
     ]
    }
   ],
   "source": [
    "# Заменяем пустые значения количества этажей на медианные значения.\n",
    "\n",
    "data['floors_total'] = data.groupby('floor')['floors_total'].apply(lambda x: x.fillna(x.median()))\n",
    "data['floors_total'].fillna(data['floors_total'].median(), inplace=True)\n",
    "print('Количество пустых значений в столбце \"floors_total\" -', data['floors_total'].isna().sum())"
   ]
  },
  {
   "cell_type": "markdown",
   "metadata": {},
   "source": [
    "Ошибок нет. Все пропуски заполнились успешно."
   ]
  },
  {
   "cell_type": "markdown",
   "metadata": {},
   "source": [
    "#### Название населенного пункта"
   ]
  },
  {
   "cell_type": "markdown",
   "metadata": {},
   "source": [
    "Проверим долю пропусков в столбце \"locality_name\"."
   ]
  },
  {
   "cell_type": "code",
   "execution_count": 62,
   "metadata": {
    "scrolled": true
   },
   "outputs": [
    {
     "name": "stdout",
     "output_type": "stream",
     "text": [
      "В столбце \"locality_name\" пропущено 0.2% значений.\n"
     ]
    }
   ],
   "source": [
    "nan_ratio('locality_name')"
   ]
  },
  {
   "cell_type": "markdown",
   "metadata": {},
   "source": [
    "Здесть также можем использовать функцию для заполнения пропусков. А что останется - удалим."
   ]
  },
  {
   "cell_type": "code",
   "execution_count": 63,
   "metadata": {},
   "outputs": [
    {
     "name": "stdout",
     "output_type": "stream",
     "text": [
      "Пропуски в столбце \"locality_name\" можно заполнить с помощью столбцов:\n",
      "\"airports_nearest\" - в 21 ячейках\n",
      "\"cityCenters_nearest\" - в 25 ячейках\n",
      "\"parks_nearest\" - в 30 ячейках\n",
      "\"ponds_nearest\" - в 31 ячейках\n",
      "\n",
      "Максимум пропусков, которые можно заполнить: 31.\n",
      "Заполняем их с помощью столбца \"ponds_nearest\".\n",
      "\n",
      "\n",
      "Вот как с помощью этих же столбцов можно заполнить оставшиеся пропуски:\n",
      "\"airports_nearest\" - в 3 ячейках\n",
      "\"cityCenters_nearest\" - в 5 ячейках\n",
      "\"parks_nearest\" - в 0 ячейках\n",
      "\"ponds_nearest\" - в 0 ячейках\n",
      "\n",
      "Максимум пропусков, которые можно заполнить: 5.\n",
      "Заполняем их с помощью столбца \"cityCenters_nearest\".\n",
      "\n",
      "\n",
      "Вот как с помощью этих же столбцов можно заполнить оставшиеся пропуски:\n",
      "\"airports_nearest\" - в 0 ячейках\n",
      "\"cityCenters_nearest\" - в 0 ячейках\n",
      "\"parks_nearest\" - в 0 ячейках\n",
      "\"ponds_nearest\" - в 0 ячейках\n",
      "\n",
      "Все, что можно было заполнить этим способом - заполнено.\n",
      "В столбце \"locality_name\" было пустых ячеек - 49.\n",
      "Из них заполнено ячеек - 36.\n",
      "Осталось всего незаполненных ячеек - 13.\n"
     ]
    }
   ],
   "source": [
    "fillall('locality_name')"
   ]
  },
  {
   "cell_type": "code",
   "execution_count": 64,
   "metadata": {},
   "outputs": [
    {
     "name": "stdout",
     "output_type": "stream",
     "text": [
      "Количество пустых значений в столбце \"locality_name\" - 0\n"
     ]
    }
   ],
   "source": [
    "# Удаляем оставшиеся записи, где отсутствует название населенного пункта.\n",
    "\n",
    "data.dropna(subset=['locality_name'], inplace=True)\n",
    "print('Количество пустых значений в столбце \"locality_name\" -', data['locality_name'].isna().sum())"
   ]
  },
  {
   "cell_type": "markdown",
   "metadata": {},
   "source": [
    "#### Длительность размещения объявления"
   ]
  },
  {
   "cell_type": "markdown",
   "metadata": {},
   "source": [
    "Поскольку дополнительной информации у нас нет, будем исходить из того, что объявления без указания срока размещения еще не были сняты.\n",
    "\n",
    "Поэтому оставим столбец \"days_exposition\" без изменений."
   ]
  },
  {
   "cell_type": "markdown",
   "metadata": {},
   "source": [
    "Таким оборазом, все возможные пустые значения в столбцах заполнены либо удалены соответствующие строки.\n",
    "\n",
    "Проверим еще раз общую информацию об оставшихся пропусках."
   ]
  },
  {
   "cell_type": "code",
   "execution_count": 65,
   "metadata": {},
   "outputs": [
    {
     "data": {
      "text/plain": [
       "total_images               0\n",
       "last_price                 0\n",
       "total_area                 0\n",
       "first_day_exposition       0\n",
       "rooms                      0\n",
       "ceiling_height             0\n",
       "floors_total               0\n",
       "living_area                0\n",
       "floor                      0\n",
       "is_apartment               0\n",
       "studio                     0\n",
       "open_plan                  0\n",
       "kitchen_area               0\n",
       "balcony                    0\n",
       "locality_name              0\n",
       "airports_nearest        5511\n",
       "cityCenters_nearest     5510\n",
       "parks_around3000        5510\n",
       "parks_nearest           9439\n",
       "ponds_around3000        5510\n",
       "ponds_nearest           9451\n",
       "days_exposition         3180\n",
       "area_ratio                 0\n",
       "kitchen_ratio              0\n",
       "dtype: int64"
      ]
     },
     "execution_count": 65,
     "metadata": {},
     "output_type": "execute_result"
    }
   ],
   "source": [
    "data.isna().sum()"
   ]
  },
  {
   "cell_type": "markdown",
   "metadata": {},
   "source": [
    "### Исправления в остальных данных"
   ]
  },
  {
   "cell_type": "markdown",
   "metadata": {},
   "source": [
    "_Количество комнат_"
   ]
  },
  {
   "cell_type": "markdown",
   "metadata": {},
   "source": [
    "Вычислим долю квартир с 0 комнат."
   ]
  },
  {
   "cell_type": "code",
   "execution_count": 66,
   "metadata": {},
   "outputs": [
    {
     "data": {
      "text/plain": [
       "0.008317149370936418"
      ]
     },
     "execution_count": 66,
     "metadata": {},
     "output_type": "execute_result"
    }
   ],
   "source": [
    "data[data['rooms'] == 0]['rooms'].count() / data.shape[0]"
   ]
  },
  {
   "cell_type": "markdown",
   "metadata": {},
   "source": [
    "Посмотрим количество квартир с разными комнатами."
   ]
  },
  {
   "cell_type": "code",
   "execution_count": 67,
   "metadata": {},
   "outputs": [
    {
     "data": {
      "text/plain": [
       "0      197\n",
       "1     8044\n",
       "2     7935\n",
       "3     5810\n",
       "4     1179\n",
       "5      326\n",
       "6      105\n",
       "7       59\n",
       "8       12\n",
       "9        8\n",
       "10       3\n",
       "11       2\n",
       "12       1\n",
       "14       2\n",
       "15       1\n",
       "16       1\n",
       "19       1\n",
       "Name: rooms, dtype: int64"
      ]
     },
     "execution_count": 67,
     "metadata": {},
     "output_type": "execute_result"
    }
   ],
   "source": [
    "# Сортируем уникальный список количества комнат по возрастанию.\n",
    "\n",
    "data['rooms'].value_counts().sort_index()"
   ]
  },
  {
   "cell_type": "markdown",
   "metadata": {},
   "source": [
    "Поскольку количество квартир с 0 комнат небольшое, можем поменять количество комнат в этих ячейках на 1."
   ]
  },
  {
   "cell_type": "code",
   "execution_count": 68,
   "metadata": {},
   "outputs": [],
   "source": [
    "data.loc[data['rooms'] == 0, 'rooms'] = 1"
   ]
  },
  {
   "cell_type": "markdown",
   "metadata": {},
   "source": [
    "Проверим еще раз информацию."
   ]
  },
  {
   "cell_type": "code",
   "execution_count": 69,
   "metadata": {},
   "outputs": [
    {
     "data": {
      "text/plain": [
       "1     8241\n",
       "2     7935\n",
       "3     5810\n",
       "4     1179\n",
       "5      326\n",
       "6      105\n",
       "7       59\n",
       "8       12\n",
       "9        8\n",
       "10       3\n",
       "11       2\n",
       "12       1\n",
       "14       2\n",
       "15       1\n",
       "16       1\n",
       "19       1\n",
       "Name: rooms, dtype: int64"
      ]
     },
     "execution_count": 69,
     "metadata": {},
     "output_type": "execute_result"
    }
   ],
   "source": [
    "data['rooms'].value_counts().sort_index()"
   ]
  },
  {
   "cell_type": "markdown",
   "metadata": {},
   "source": [
    "Все исправлено."
   ]
  },
  {
   "cell_type": "markdown",
   "metadata": {},
   "source": [
    "_Расстояние до аэропорта_"
   ]
  },
  {
   "cell_type": "markdown",
   "metadata": {},
   "source": [
    "Посмотрим строки, где расстояние до аэропорта равно нулю."
   ]
  },
  {
   "cell_type": "code",
   "execution_count": 70,
   "metadata": {},
   "outputs": [
    {
     "data": {
      "text/html": [
       "<div>\n",
       "<style scoped>\n",
       "    .dataframe tbody tr th:only-of-type {\n",
       "        vertical-align: middle;\n",
       "    }\n",
       "\n",
       "    .dataframe tbody tr th {\n",
       "        vertical-align: top;\n",
       "    }\n",
       "\n",
       "    .dataframe thead th {\n",
       "        text-align: right;\n",
       "    }\n",
       "</style>\n",
       "<table border=\"1\" class=\"dataframe\">\n",
       "  <thead>\n",
       "    <tr style=\"text-align: right;\">\n",
       "      <th></th>\n",
       "      <th>total_images</th>\n",
       "      <th>last_price</th>\n",
       "      <th>total_area</th>\n",
       "      <th>first_day_exposition</th>\n",
       "      <th>rooms</th>\n",
       "      <th>ceiling_height</th>\n",
       "      <th>floors_total</th>\n",
       "      <th>living_area</th>\n",
       "      <th>floor</th>\n",
       "      <th>is_apartment</th>\n",
       "      <th>...</th>\n",
       "      <th>locality_name</th>\n",
       "      <th>airports_nearest</th>\n",
       "      <th>cityCenters_nearest</th>\n",
       "      <th>parks_around3000</th>\n",
       "      <th>parks_nearest</th>\n",
       "      <th>ponds_around3000</th>\n",
       "      <th>ponds_nearest</th>\n",
       "      <th>days_exposition</th>\n",
       "      <th>area_ratio</th>\n",
       "      <th>kitchen_ratio</th>\n",
       "    </tr>\n",
       "  </thead>\n",
       "  <tbody>\n",
       "    <tr>\n",
       "      <th>21085</th>\n",
       "      <td>0</td>\n",
       "      <td>7000000.0</td>\n",
       "      <td>34.7</td>\n",
       "      <td>2018-09-23T00:00:00</td>\n",
       "      <td>1</td>\n",
       "      <td>2.7</td>\n",
       "      <td>9.0</td>\n",
       "      <td>19.8</td>\n",
       "      <td>3</td>\n",
       "      <td>False</td>\n",
       "      <td>...</td>\n",
       "      <td>Санкт-Петербург</td>\n",
       "      <td>0.0</td>\n",
       "      <td>22801.0</td>\n",
       "      <td>0.0</td>\n",
       "      <td>NaN</td>\n",
       "      <td>0.0</td>\n",
       "      <td>NaN</td>\n",
       "      <td>60.0</td>\n",
       "      <td>57.060519</td>\n",
       "      <td>17.291066</td>\n",
       "    </tr>\n",
       "  </tbody>\n",
       "</table>\n",
       "<p>1 rows × 24 columns</p>\n",
       "</div>"
      ],
      "text/plain": [
       "       total_images  last_price  total_area first_day_exposition  rooms  \\\n",
       "21085             0   7000000.0        34.7  2018-09-23T00:00:00      1   \n",
       "\n",
       "       ceiling_height  floors_total  living_area  floor  is_apartment  ...  \\\n",
       "21085             2.7           9.0         19.8      3         False  ...   \n",
       "\n",
       "         locality_name  airports_nearest  cityCenters_nearest  \\\n",
       "21085  Санкт-Петербург               0.0              22801.0   \n",
       "\n",
       "       parks_around3000 parks_nearest  ponds_around3000  ponds_nearest  \\\n",
       "21085               0.0           NaN               0.0            NaN   \n",
       "\n",
       "       days_exposition  area_ratio  kitchen_ratio  \n",
       "21085             60.0   57.060519      17.291066  \n",
       "\n",
       "[1 rows x 24 columns]"
      ]
     },
     "execution_count": 70,
     "metadata": {},
     "output_type": "execute_result"
    }
   ],
   "source": [
    "data[data['airports_nearest'] == 0]"
   ]
  },
  {
   "cell_type": "markdown",
   "metadata": {},
   "source": [
    "Посмотрим, есть ли данные о расстоянии до других базовых объектов."
   ]
  },
  {
   "cell_type": "code",
   "execution_count": 71,
   "metadata": {
    "scrolled": false
   },
   "outputs": [
    {
     "data": {
      "text/plain": [
       "total_images                              0\n",
       "last_price                        7000000.0\n",
       "total_area                             34.7\n",
       "first_day_exposition    2018-09-23T00:00:00\n",
       "rooms                                     1\n",
       "ceiling_height                          2.7\n",
       "floors_total                            9.0\n",
       "living_area                            19.8\n",
       "floor                                     3\n",
       "is_apartment                          False\n",
       "studio                                False\n",
       "open_plan                             False\n",
       "kitchen_area                            6.0\n",
       "balcony                                 2.0\n",
       "locality_name               Санкт-Петербург\n",
       "airports_nearest                        0.0\n",
       "cityCenters_nearest                 22801.0\n",
       "parks_around3000                        0.0\n",
       "parks_nearest                           NaN\n",
       "ponds_around3000                        0.0\n",
       "ponds_nearest                           NaN\n",
       "days_exposition                        60.0\n",
       "area_ratio                        57.060519\n",
       "kitchen_ratio                     17.291066\n",
       "Name: 21085, dtype: object"
      ]
     },
     "execution_count": 71,
     "metadata": {},
     "output_type": "execute_result"
    }
   ],
   "source": [
    "data.loc[21085]"
   ]
  },
  {
   "cell_type": "markdown",
   "metadata": {},
   "source": [
    "Как видим, есть расстояние до центра. Посмотрим, сколько таких записей."
   ]
  },
  {
   "cell_type": "code",
   "execution_count": 72,
   "metadata": {},
   "outputs": [
    {
     "data": {
      "text/plain": [
       "21085    0.0\n",
       "Name: airports_nearest, dtype: float64"
      ]
     },
     "execution_count": 72,
     "metadata": {},
     "output_type": "execute_result"
    }
   ],
   "source": [
    "data[data['cityCenters_nearest'] == 22801.0]['airports_nearest']"
   ]
  },
  {
   "cell_type": "markdown",
   "metadata": {},
   "source": [
    "К сожалению, это ничего не дало. Больше таких объектов нет.\n",
    "\n",
    "Поэтому можно просто заменить на минимальное значение по столбцу."
   ]
  },
  {
   "cell_type": "code",
   "execution_count": 73,
   "metadata": {},
   "outputs": [],
   "source": [
    "data.loc[data['airports_nearest'] == 0.0, 'airports_nearest'] = 6450.0"
   ]
  },
  {
   "cell_type": "code",
   "execution_count": 74,
   "metadata": {},
   "outputs": [
    {
     "data": {
      "text/plain": [
       "4017     6450.0\n",
       "21085    6450.0\n",
       "12899    6450.0\n",
       "7778     6914.0\n",
       "23150    6949.0\n",
       "Name: airports_nearest, dtype: float64"
      ]
     },
     "execution_count": 74,
     "metadata": {},
     "output_type": "execute_result"
    }
   ],
   "source": [
    "# Просматриваем отсортированный по возрастанию столбец \"airports_nearest\".\n",
    "\n",
    "data['airports_nearest'].sort_values().head(5)"
   ]
  },
  {
   "cell_type": "markdown",
   "metadata": {},
   "source": [
    "Все исправлено."
   ]
  },
  {
   "cell_type": "markdown",
   "metadata": {},
   "source": [
    "### Изменение типов данных"
   ]
  },
  {
   "cell_type": "markdown",
   "metadata": {},
   "source": [
    "Изменим тип данных о дате публикации объявления на datetime."
   ]
  },
  {
   "cell_type": "code",
   "execution_count": 75,
   "metadata": {},
   "outputs": [],
   "source": [
    "# Приводим к типу datetime дату публикации.\n",
    "\n",
    "data['first_day_exposition'] = pd.to_datetime(data['first_day_exposition'], format='%Y-%m-%dT%H:%M:%S')"
   ]
  },
  {
   "cell_type": "markdown",
   "metadata": {},
   "source": [
    "Изменим тип данных о стоимости квартиры и этажности на int."
   ]
  },
  {
   "cell_type": "code",
   "execution_count": 76,
   "metadata": {},
   "outputs": [],
   "source": [
    "# Приводим в целочисленный тип стоимость квартиры.\n",
    "\n",
    "data['last_price'] = data['last_price'].astype(int)"
   ]
  },
  {
   "cell_type": "code",
   "execution_count": 77,
   "metadata": {},
   "outputs": [],
   "source": [
    "# Приводим в целочисленный тип этажность квартиры.\n",
    "\n",
    "data['floors_total'] = data['floors_total'].astype(int)"
   ]
  },
  {
   "cell_type": "markdown",
   "metadata": {},
   "source": [
    "_Вывод_\n",
    "\n",
    "1. Пропущенные значения\n",
    "\n",
    "\n",
    "- Высота потолков: было пропущено 38,8% значений. Все пропущенные значения обработаны: две трети пропусков были заполнены с помощью геоданных о близости к базовым объектам (паркам, прудам, аэропортам, центру), в остальном была сделана замена на медиану для отдельных населенных пунктов и квартир разных площадей. Установлены минимальная (2,4 м) и максиальная (4,5 м) границы высоты потолков.\n",
    "\n",
    "\n",
    "- Апартаменты: пропущено 88,3% значений. В пустующие ячейки добавлены значения False. \n",
    "\n",
    "\n",
    "- Число балконов: пропущено 48,6% значений. Пустые значения заменены нулями.\n",
    "\n",
    "\n",
    "- Расстояния до центра города, до ближайшего аэропорта, парка, водоема: пропущено около 23,3%. Пропущенные значения в этих признаках оставлены без изменений, так как они не будут использованы в текущем исследовании.\n",
    "\n",
    "\n",
    "- Число парков и водоемов в радиусе 3 км: пропущено  65,9% и 61,6% соответственно. С помощью геоданных удалось заполнить часть пропущенных значений, после чего осталось по 39,9%. Эти значения также не будут использованы в текущем исследовании.\n",
    "\n",
    "\n",
    "- Жилая площадь и площадь кухни: пропущено 8,0% и 9,6% значений соответственно. Для заполнения пропущенных значений были рассчитаны отношения их к общей площади. Пропущенные значения этих отношений заполнены медианными, с группировкой по столбцу с населенным пунктом, количеством комнат и общей площадью (в случае с жилой площадью) и с населенным пунктом и общей площадью (в случае с кухней). Из полученных таким образом отношений были рассчитаны уже сами значения площадей.\n",
    "\n",
    "\n",
    "- Число этажей в доме: пропущено 0,4% значений. Пропуски заполнены .медианными значениями, с группировкой по столбцу с этажом.\n",
    "\n",
    "\n",
    "- Название населенного пункта: пропущено 0,2% значений. Часть пропущенных значений заполнены через геоданные. Все строки с оставшимися пропущенными значениями удалены, так как этот признак будет использоваться при дальнейшем анализе.\n",
    "\n",
    "\n",
    "- Длительность размещения объявления: пропущено 13,4% значений. Все пропущенные значения оставлены без изменения.\n",
    "\n",
    "\n",
    "\n",
    "- Нулевые значения в числе комнат: имеющиеся в небольшом количестве (0,8%) нули заменены на единицы.\n",
    "\n",
    "\n",
    "- Нулевые значения в расстоянии до аэропорта: единственное нулевое значение заменено на минимальное ненулевое.\n",
    "\n",
    "\n",
    "\n",
    "2. Замена типа данных\n",
    "\n",
    "\n",
    "- Тип данных у времени публикации объявления был заменен со строчного на временной.\n",
    "\n",
    "\n",
    "- Тип данных у стоимости квартиры и этажности был заменен на целочисленный."
   ]
  },
  {
   "cell_type": "markdown",
   "metadata": {},
   "source": [
    "### Расчёты и добавление результатов в таблицу"
   ]
  },
  {
   "cell_type": "markdown",
   "metadata": {},
   "source": [
    "Добавим необходимые столбцы в датафрейм и заполним их."
   ]
  },
  {
   "cell_type": "code",
   "execution_count": 78,
   "metadata": {},
   "outputs": [],
   "source": [
    "# Добавляем столбец со стоимостью квадратного метра (sm_price) и приводим его в целочисленный тип.\n",
    "\n",
    "data['sm_price'] = data['last_price'] / data['total_area']\n",
    "data['sm_price'] = data['sm_price'].astype(int)"
   ]
  },
  {
   "cell_type": "code",
   "execution_count": 79,
   "metadata": {},
   "outputs": [],
   "source": [
    "# Добавляем столбцы дня недели, месяца и года.\n",
    "\n",
    "data['weekday'] = data['first_day_exposition'].dt.weekday\n",
    "data['month'] = data['first_day_exposition'].dt.month\n",
    "data['year'] = data['first_day_exposition'].dt.year"
   ]
  },
  {
   "cell_type": "markdown",
   "metadata": {},
   "source": [
    "Столбцы с отношениями жилой площади и площади кухни к общей (area_ratio и kitchen_ratio) были добавлены ранее. Переведем их в целочисленный тип."
   ]
  },
  {
   "cell_type": "code",
   "execution_count": 80,
   "metadata": {},
   "outputs": [],
   "source": [
    "# Переводим значения в столбцах area_ratio и kitchen_ratio в целочисленный тип.\n",
    "\n",
    "data['area_ratio'] = data['area_ratio'].astype(int)\n",
    "data['kitchen_ratio'] = data['kitchen_ratio'].astype(int)"
   ]
  },
  {
   "cell_type": "code",
   "execution_count": 81,
   "metadata": {},
   "outputs": [],
   "source": [
    "# Создаём функцию для заполнения нового столбца с типом этажа.\n",
    "\n",
    "def floor_group(row):\n",
    "    if row['floor'] == 1:\n",
    "        return 'первый'\n",
    "    elif row['floor'] == row['floors_total']:\n",
    "        return 'последний'\n",
    "    else:\n",
    "        return 'другой'\n",
    "\n",
    "data['floor_type'] = data.apply(floor_group, axis=1)"
   ]
  },
  {
   "cell_type": "markdown",
   "metadata": {},
   "source": [
    "Проверим результат работы функции."
   ]
  },
  {
   "cell_type": "code",
   "execution_count": 82,
   "metadata": {},
   "outputs": [
    {
     "data": {
      "text/html": [
       "<div>\n",
       "<style scoped>\n",
       "    .dataframe tbody tr th:only-of-type {\n",
       "        vertical-align: middle;\n",
       "    }\n",
       "\n",
       "    .dataframe tbody tr th {\n",
       "        vertical-align: top;\n",
       "    }\n",
       "\n",
       "    .dataframe thead th {\n",
       "        text-align: right;\n",
       "    }\n",
       "</style>\n",
       "<table border=\"1\" class=\"dataframe\">\n",
       "  <thead>\n",
       "    <tr style=\"text-align: right;\">\n",
       "      <th></th>\n",
       "      <th>total_images</th>\n",
       "      <th>last_price</th>\n",
       "      <th>total_area</th>\n",
       "      <th>first_day_exposition</th>\n",
       "      <th>rooms</th>\n",
       "      <th>ceiling_height</th>\n",
       "      <th>floors_total</th>\n",
       "      <th>living_area</th>\n",
       "      <th>floor</th>\n",
       "      <th>is_apartment</th>\n",
       "      <th>...</th>\n",
       "      <th>ponds_around3000</th>\n",
       "      <th>ponds_nearest</th>\n",
       "      <th>days_exposition</th>\n",
       "      <th>area_ratio</th>\n",
       "      <th>kitchen_ratio</th>\n",
       "      <th>sm_price</th>\n",
       "      <th>weekday</th>\n",
       "      <th>month</th>\n",
       "      <th>year</th>\n",
       "      <th>floor_type</th>\n",
       "    </tr>\n",
       "  </thead>\n",
       "  <tbody>\n",
       "    <tr>\n",
       "      <th>21023</th>\n",
       "      <td>17</td>\n",
       "      <td>124350000</td>\n",
       "      <td>248.7</td>\n",
       "      <td>2015-08-27</td>\n",
       "      <td>4</td>\n",
       "      <td>3.40</td>\n",
       "      <td>9</td>\n",
       "      <td>131.0</td>\n",
       "      <td>4</td>\n",
       "      <td>False</td>\n",
       "      <td>...</td>\n",
       "      <td>1.0</td>\n",
       "      <td>227.0</td>\n",
       "      <td>501.0</td>\n",
       "      <td>52</td>\n",
       "      <td>9</td>\n",
       "      <td>500000</td>\n",
       "      <td>3</td>\n",
       "      <td>8</td>\n",
       "      <td>2015</td>\n",
       "      <td>другой</td>\n",
       "    </tr>\n",
       "    <tr>\n",
       "      <th>22378</th>\n",
       "      <td>6</td>\n",
       "      <td>4700000</td>\n",
       "      <td>40.0</td>\n",
       "      <td>2017-08-15</td>\n",
       "      <td>1</td>\n",
       "      <td>2.65</td>\n",
       "      <td>10</td>\n",
       "      <td>20.0</td>\n",
       "      <td>10</td>\n",
       "      <td>False</td>\n",
       "      <td>...</td>\n",
       "      <td>1.0</td>\n",
       "      <td>956.0</td>\n",
       "      <td>141.0</td>\n",
       "      <td>50</td>\n",
       "      <td>20</td>\n",
       "      <td>117500</td>\n",
       "      <td>1</td>\n",
       "      <td>8</td>\n",
       "      <td>2017</td>\n",
       "      <td>последний</td>\n",
       "    </tr>\n",
       "    <tr>\n",
       "      <th>3376</th>\n",
       "      <td>4</td>\n",
       "      <td>6300000</td>\n",
       "      <td>50.5</td>\n",
       "      <td>2016-11-22</td>\n",
       "      <td>2</td>\n",
       "      <td>2.50</td>\n",
       "      <td>8</td>\n",
       "      <td>28.4</td>\n",
       "      <td>7</td>\n",
       "      <td>False</td>\n",
       "      <td>...</td>\n",
       "      <td>0.0</td>\n",
       "      <td>576.0</td>\n",
       "      <td>411.0</td>\n",
       "      <td>56</td>\n",
       "      <td>16</td>\n",
       "      <td>124752</td>\n",
       "      <td>1</td>\n",
       "      <td>11</td>\n",
       "      <td>2016</td>\n",
       "      <td>другой</td>\n",
       "    </tr>\n",
       "    <tr>\n",
       "      <th>4512</th>\n",
       "      <td>15</td>\n",
       "      <td>5250000</td>\n",
       "      <td>36.0</td>\n",
       "      <td>2017-01-09</td>\n",
       "      <td>1</td>\n",
       "      <td>2.80</td>\n",
       "      <td>25</td>\n",
       "      <td>16.0</td>\n",
       "      <td>6</td>\n",
       "      <td>False</td>\n",
       "      <td>...</td>\n",
       "      <td>1.0</td>\n",
       "      <td>806.0</td>\n",
       "      <td>39.0</td>\n",
       "      <td>44</td>\n",
       "      <td>27</td>\n",
       "      <td>145833</td>\n",
       "      <td>0</td>\n",
       "      <td>1</td>\n",
       "      <td>2017</td>\n",
       "      <td>другой</td>\n",
       "    </tr>\n",
       "    <tr>\n",
       "      <th>11572</th>\n",
       "      <td>0</td>\n",
       "      <td>3500000</td>\n",
       "      <td>41.0</td>\n",
       "      <td>2017-04-25</td>\n",
       "      <td>3</td>\n",
       "      <td>2.50</td>\n",
       "      <td>5</td>\n",
       "      <td>31.0</td>\n",
       "      <td>5</td>\n",
       "      <td>False</td>\n",
       "      <td>...</td>\n",
       "      <td>0.0</td>\n",
       "      <td>NaN</td>\n",
       "      <td>30.0</td>\n",
       "      <td>75</td>\n",
       "      <td>13</td>\n",
       "      <td>85365</td>\n",
       "      <td>1</td>\n",
       "      <td>4</td>\n",
       "      <td>2017</td>\n",
       "      <td>последний</td>\n",
       "    </tr>\n",
       "  </tbody>\n",
       "</table>\n",
       "<p>5 rows × 29 columns</p>\n",
       "</div>"
      ],
      "text/plain": [
       "       total_images  last_price  total_area first_day_exposition  rooms  \\\n",
       "21023            17   124350000       248.7           2015-08-27      4   \n",
       "22378             6     4700000        40.0           2017-08-15      1   \n",
       "3376              4     6300000        50.5           2016-11-22      2   \n",
       "4512             15     5250000        36.0           2017-01-09      1   \n",
       "11572             0     3500000        41.0           2017-04-25      3   \n",
       "\n",
       "       ceiling_height  floors_total  living_area  floor  is_apartment  ...  \\\n",
       "21023            3.40             9        131.0      4         False  ...   \n",
       "22378            2.65            10         20.0     10         False  ...   \n",
       "3376             2.50             8         28.4      7         False  ...   \n",
       "4512             2.80            25         16.0      6         False  ...   \n",
       "11572            2.50             5         31.0      5         False  ...   \n",
       "\n",
       "       ponds_around3000  ponds_nearest  days_exposition  area_ratio  \\\n",
       "21023               1.0          227.0            501.0          52   \n",
       "22378               1.0          956.0            141.0          50   \n",
       "3376                0.0          576.0            411.0          56   \n",
       "4512                1.0          806.0             39.0          44   \n",
       "11572               0.0            NaN             30.0          75   \n",
       "\n",
       "      kitchen_ratio  sm_price  weekday  month  year  floor_type  \n",
       "21023             9    500000        3      8  2015      другой  \n",
       "22378            20    117500        1      8  2017   последний  \n",
       "3376             16    124752        1     11  2016      другой  \n",
       "4512             27    145833        0      1  2017      другой  \n",
       "11572            13     85365        1      4  2017   последний  \n",
       "\n",
       "[5 rows x 29 columns]"
      ]
     },
     "execution_count": 82,
     "metadata": {},
     "output_type": "execute_result"
    }
   ],
   "source": [
    "# Просмотр нескольких случайных строк обновленного датафрейма\n",
    "\n",
    "data.sample(5)"
   ]
  },
  {
   "cell_type": "markdown",
   "metadata": {},
   "source": [
    "## Исследовательский анализ данных"
   ]
  },
  {
   "cell_type": "markdown",
   "metadata": {},
   "source": [
    "### Изучение основных параметров"
   ]
  },
  {
   "cell_type": "markdown",
   "metadata": {},
   "source": [
    "Выведем графики распределений, а также списки топ-10 значений следующих параметров: общая площадь, жилая площадь, площадь кухни, стоимость квартир, количество комнат, высота потолков, стоимость квадратного метра."
   ]
  },
  {
   "cell_type": "code",
   "execution_count": 83,
   "metadata": {},
   "outputs": [
    {
     "data": {
      "image/png": "[encoded data removed]",
      "text/plain": [
       "<Figure size 432x288 with 1 Axes>"
      ]
     },
     "metadata": {
      "needs_background": "light"
     },
     "output_type": "display_data"
    },
    {
     "name": "stdout",
     "output_type": "stream",
     "text": [
      "Наибольшие по площади варианты:\n",
      "19540    900.0\n",
      "12859    631.2\n",
      "3117     631.0\n",
      "15651    618.0\n",
      "5358     590.0\n",
      "4237     517.0\n",
      "8018     507.0\n",
      "5893     500.0\n",
      "15016    500.0\n",
      "12401    495.0\n",
      "Name: total_area, dtype: float64\n"
     ]
    }
   ],
   "source": [
    "# Работаем с общей площадью.\n",
    "\n",
    "plt.hist(data['total_area'], bins=30, range=(10,200))\n",
    "plt.title('Площадь квартир')\n",
    "plt.xlabel('Квадратные метры')\n",
    "plt.ylabel('Количество квартир')\n",
    "plt.show()\n",
    "print('Наибольшие по площади варианты:')\n",
    "print(data['total_area'].sort_values(ascending=False).head(10))"
   ]
  },
  {
   "cell_type": "code",
   "execution_count": 84,
   "metadata": {},
   "outputs": [
    {
     "data": {
      "image/png": "[encoded data removed]",
      "text/plain": [
       "<Figure size 432x288 with 1 Axes>"
      ]
     },
     "metadata": {
      "needs_background": "light"
     },
     "output_type": "display_data"
    },
    {
     "name": "stdout",
     "output_type": "stream",
     "text": [
      "Наибольшие по жилой площади варианты:\n",
      "19540    409.700000\n",
      "5358     409.000000\n",
      "3117     357.971154\n",
      "12401    347.500000\n",
      "4237     332.000000\n",
      "12859    322.300000\n",
      "660      312.500000\n",
      "8018     301.500000\n",
      "14088    300.000000\n",
      "15016    283.653846\n",
      "Name: living_area, dtype: float64\n"
     ]
    }
   ],
   "source": [
    "# Работаем с жилой площадью.\n",
    "\n",
    "plt.hist(data['living_area'], bins=70, range=(10,120))\n",
    "plt.title('Жилая площадь')\n",
    "plt.xlabel('Квадратные метры')\n",
    "plt.ylabel('Количество квартир')\n",
    "plt.show()\n",
    "print('Наибольшие по жилой площади варианты:')\n",
    "print(data['living_area'].sort_values(ascending=False).head(10))"
   ]
  },
  {
   "cell_type": "code",
   "execution_count": 85,
   "metadata": {},
   "outputs": [
    {
     "data": {
      "image/png": "[encoded data removed]",
      "text/plain": [
       "<Figure size 432x288 with 1 Axes>"
      ]
     },
     "metadata": {
      "needs_background": "light"
     },
     "output_type": "display_data"
    },
    {
     "name": "stdout",
     "output_type": "stream",
     "text": [
      "Наибольшие по площади кухни варианты:\n",
      "19540    112.000000\n",
      "20215    107.000000\n",
      "2489     100.700000\n",
      "5358     100.000000\n",
      "16239     93.200000\n",
      "16797     93.000000\n",
      "10867     87.200000\n",
      "15016     86.206897\n",
      "9826      85.189655\n",
      "4394      77.000000\n",
      "Name: kitchen_area, dtype: float64\n"
     ]
    }
   ],
   "source": [
    "# Работаем с площадью кухни.\n",
    "\n",
    "plt.hist(data['kitchen_area'], bins=30, range=(0,30))\n",
    "plt.title('Площадь кухни')\n",
    "plt.xlabel('Квадратные метры')\n",
    "plt.ylabel('Количество квартир')\n",
    "plt.show()\n",
    "print('Наибольшие по площади кухни варианты:')\n",
    "print(data['kitchen_area'].sort_values(ascending=False).head(10))"
   ]
  },
  {
   "cell_type": "code",
   "execution_count": 86,
   "metadata": {},
   "outputs": [
    {
     "data": {
      "image/png": "[encoded data removed]",
      "text/plain": [
       "<Figure size 432x288 with 1 Axes>"
      ]
     },
     "metadata": {
      "needs_background": "light"
     },
     "output_type": "display_data"
    },
    {
     "name": "stdout",
     "output_type": "stream",
     "text": [
      "Наибольшие по цене варианты:\n",
      "12971    763000000\n",
      "19540    420000000\n",
      "14706    401300000\n",
      "1436     330000000\n",
      "15651    300000000\n",
      "22831    289238400\n",
      "16461    245000000\n",
      "13749    240000000\n",
      "5893     230000000\n",
      "8900     190870000\n",
      "Name: last_price, dtype: int32\n"
     ]
    }
   ],
   "source": [
    "# Работаем со стоимостью.\n",
    "\n",
    "plt.hist(data['last_price'], bins=30, range=(0,20000000))\n",
    "plt.title('Стоимость квартир')\n",
    "plt.xlabel('Цена в десятках млн руб.')\n",
    "plt.ylabel('Количество квартир')\n",
    "plt.show()\n",
    "print('Наибольшие по цене варианты:')\n",
    "print(data['last_price'].sort_values(ascending=False).head(10))"
   ]
  },
  {
   "cell_type": "code",
   "execution_count": 87,
   "metadata": {},
   "outputs": [
    {
     "data": {
      "image/png": "[encoded data removed]",
      "text/plain": [
       "<Figure size 432x288 with 1 Axes>"
      ]
     },
     "metadata": {
      "needs_background": "light"
     },
     "output_type": "display_data"
    },
    {
     "name": "stdout",
     "output_type": "stream",
     "text": [
      "Наибольшие по числу комнат варианты:\n",
      "14498    19\n",
      "18848    16\n",
      "5358     15\n",
      "866      14\n",
      "20829    14\n",
      "19540    12\n",
      "648      11\n",
      "9688     11\n",
      "18119    10\n",
      "4149     10\n",
      "Name: rooms, dtype: int64\n"
     ]
    }
   ],
   "source": [
    "# Работаем с комнатами.\n",
    "\n",
    "plt.hist(data['rooms'], bins=7, range=(1,7))\n",
    "plt.title('Комнаты')\n",
    "plt.xlabel('Количество комнат')\n",
    "plt.ylabel('Количество квартир')\n",
    "plt.show()\n",
    "print('Наибольшие по числу комнат варианты:')\n",
    "print(data['rooms'].sort_values(ascending=False).head(10))"
   ]
  },
  {
   "cell_type": "code",
   "execution_count": 88,
   "metadata": {},
   "outputs": [
    {
     "data": {
      "image/png": "[encoded data removed]",
      "text/plain": [
       "<Figure size 432x288 with 1 Axes>"
      ]
     },
     "metadata": {
      "needs_background": "light"
     },
     "output_type": "display_data"
    },
    {
     "name": "stdout",
     "output_type": "stream",
     "text": [
      "Наибольшие по высоте потолков варианты:\n",
      "1388     4.5\n",
      "20264    4.5\n",
      "21923    4.5\n",
      "14519    4.5\n",
      "464      4.5\n",
      "17374    4.5\n",
      "9783     4.5\n",
      "3474     4.5\n",
      "10092    4.5\n",
      "18484    4.5\n",
      "Name: ceiling_height, dtype: float64\n"
     ]
    }
   ],
   "source": [
    "# Работаем с потолками.\n",
    "\n",
    "plt.hist(data.query('(ceiling_height > 2.0) & (ceiling_height < 4.5)')['ceiling_height'], bins=20)\n",
    "plt.title('Высота потолков')\n",
    "plt.xlabel('Метры')\n",
    "plt.ylabel('Количество квартир')\n",
    "plt.show()\n",
    "print('Наибольшие по высоте потолков варианты:')\n",
    "print(data['ceiling_height'].sort_values(ascending=False).head(10))"
   ]
  },
  {
   "cell_type": "code",
   "execution_count": 89,
   "metadata": {},
   "outputs": [
    {
     "data": {
      "image/png": "[encoded data removed]",
      "text/plain": [
       "<Figure size 432x288 with 1 Axes>"
      ]
     },
     "metadata": {
      "needs_background": "light"
     },
     "output_type": "display_data"
    },
    {
     "name": "stdout",
     "output_type": "stream",
     "text": [
      "Наибольшие по цене за квадрат варианты:\n",
      "12971    1907500\n",
      "1436     1736842\n",
      "22831    1542604\n",
      "14706    1000748\n",
      "4996      995983\n",
      "16461     857542\n",
      "4859      848484\n",
      "17172     848484\n",
      "16647     841379\n",
      "17912     813253\n",
      "Name: sm_price, dtype: int32\n"
     ]
    }
   ],
   "source": [
    "# Работаем с ценой за квадратный метр.\n",
    "\n",
    "plt.hist(data['sm_price'], bins=50, range=(0,250000))\n",
    "plt.title('Стоимость квадратного метра')\n",
    "plt.xlabel('Стоимость в рублях')\n",
    "plt.ylabel('Количество квартир')\n",
    "plt.show()\n",
    "print('Наибольшие по цене за квадрат варианты:')\n",
    "print(data['sm_price'].sort_values(ascending=False).head(10))"
   ]
  },
  {
   "cell_type": "markdown",
   "metadata": {},
   "source": [
    "_Вывод_\n",
    "\n",
    "\n",
    "- Площадь\n",
    "\n",
    "Большинство квартир имеют площадь от 30 до 100 квадратных метров, в основном около 45 м.  Бóльшая площадь встречается реже. В подборке есть несколько очень больших и странных вариантов с площадью более 200 кв. метров.\n",
    "\n",
    "\n",
    "- Жилая площадь\n",
    "\n",
    "Самые распространённые варианты - с жилой площадью от 10 до 50 метров. После 80 метров встречаются единичные случаи. Три пика графика (около 20, 30 и 45 кв. метров) вызваны, вероятно, тем, что это жилые площади для 1-комнатной, затем для 2-комнатной и после этого для 3-комнатной квартиры.\n",
    "\n",
    "\n",
    "- Площадь кухни\n",
    "\n",
    "Самые распространённые кухни - от 5 до 15 метров (пик - 10). Больше 20 метров кухни практически не встречаются. Больше 30 - единичные случаи.\n",
    "\n",
    "\n",
    "- Стоимость квартир\n",
    "\n",
    "В основном стоимость квартир - порядка 4 миллионов рублей. Вариантов со стоимостью более 20 миллионов мало, и они выглядят очень странно, некоторые - на порядок дороже.\n",
    "\n",
    "\n",
    "- Комнаты\n",
    "\n",
    "В основном квартиры состоят из 1, 2 и 3 комнат. Есть небольшая доля 4-комнатных квартир. Варианты, где больше 7 комнат, выглядят странно. Даже при объединении нескольких квартир в одну.\n",
    "\n",
    "\n",
    "- Высота потолков\n",
    "\n",
    "Большинство вариантов имеют высоту потолков от 2,5 до 3 метров. Больше 4 метров высота потолков выглядит подозрительно. Были значения и более 4,5 метров, однако они были отсечены в ходе предварительной обработки.\n",
    "\n",
    "\n",
    "- Стоимость квадратного метра\n",
    "\n",
    "Имеет нормальное распределение с пиком в районе 100 тыс. рублей. Варианты дороже 250 тыс. являются единичными."
   ]
  },
  {
   "cell_type": "markdown",
   "metadata": {},
   "source": [
    "### Изучение времени продажи квартиры"
   ]
  },
  {
   "cell_type": "code",
   "execution_count": 90,
   "metadata": {},
   "outputs": [
    {
     "name": "stdout",
     "output_type": "stream",
     "text": [
      "Время продажи (медиана): 95\n",
      "Время продажи (среднее): 181 \n",
      "\n"
     ]
    },
    {
     "data": {
      "image/png": "[encoded data removed]",
      "text/plain": [
       "<Figure size 432x288 with 1 Axes>"
      ]
     },
     "metadata": {
      "needs_background": "light"
     },
     "output_type": "display_data"
    },
    {
     "data": {
      "text/plain": [
       "count    20506.000000\n",
       "mean       180.945089\n",
       "std        219.774248\n",
       "min          1.000000\n",
       "25%         45.000000\n",
       "50%         95.000000\n",
       "75%        232.000000\n",
       "max       1580.000000\n",
       "Name: days_exposition, dtype: float64"
      ]
     },
     "execution_count": 90,
     "metadata": {},
     "output_type": "execute_result"
    }
   ],
   "source": [
    "# Время продажи: медиана и среднее\n",
    "\n",
    "print('Время продажи (медиана):', round(data['days_exposition'].median()))\n",
    "print('Время продажи (среднее):', round(data['days_exposition'].mean()),'\\n')\n",
    "\n",
    "# Гистограма времени продажи\n",
    "\n",
    "plt.hist(data['days_exposition'], bins=100, range=(0,250))\n",
    "plt.title('Время продажи')\n",
    "plt.xlabel('Дни')\n",
    "plt.ylabel('Количество квартир')\n",
    "plt.show()\n",
    "\n",
    "# Изучаем значения срока продажи\n",
    "\n",
    "data['days_exposition'].describe()"
   ]
  },
  {
   "cell_type": "markdown",
   "metadata": {},
   "source": [
    "_Вывод_\n",
    "\n",
    "Медианное время продажи - 95 дней. \n",
    "\n",
    "Среднее время продажи - 181 день.\n",
    "\n",
    "В основном квартиры продаются за срок в пределах 100 дней. \n",
    "\n",
    "Пики - 45 и 60 дней.\n",
    "\n",
    "Есть большое число квартир, проданных всего за несколько дней после публикации. А также есть варианты, которые продавались несколько десятков месяцев.\n",
    "\n",
    "Быстрой продажей можно назвать срок в 50 дней и меньше. Долгой продажей - 200 дней и дольше."
   ]
  },
  {
   "cell_type": "markdown",
   "metadata": {},
   "source": [
    "### Работа с редкими и выбивающимися значениями"
   ]
  },
  {
   "cell_type": "code",
   "execution_count": 91,
   "metadata": {},
   "outputs": [
    {
     "data": {
      "text/html": [
       "<div>\n",
       "<style scoped>\n",
       "    .dataframe tbody tr th:only-of-type {\n",
       "        vertical-align: middle;\n",
       "    }\n",
       "\n",
       "    .dataframe tbody tr th {\n",
       "        vertical-align: top;\n",
       "    }\n",
       "\n",
       "    .dataframe thead th {\n",
       "        text-align: right;\n",
       "    }\n",
       "</style>\n",
       "<table border=\"1\" class=\"dataframe\">\n",
       "  <thead>\n",
       "    <tr style=\"text-align: right;\">\n",
       "      <th></th>\n",
       "      <th>total_images</th>\n",
       "      <th>last_price</th>\n",
       "      <th>total_area</th>\n",
       "      <th>rooms</th>\n",
       "      <th>ceiling_height</th>\n",
       "      <th>floors_total</th>\n",
       "      <th>living_area</th>\n",
       "      <th>floor</th>\n",
       "      <th>kitchen_area</th>\n",
       "      <th>balcony</th>\n",
       "      <th>...</th>\n",
       "      <th>parks_nearest</th>\n",
       "      <th>ponds_around3000</th>\n",
       "      <th>ponds_nearest</th>\n",
       "      <th>days_exposition</th>\n",
       "      <th>area_ratio</th>\n",
       "      <th>kitchen_ratio</th>\n",
       "      <th>sm_price</th>\n",
       "      <th>weekday</th>\n",
       "      <th>month</th>\n",
       "      <th>year</th>\n",
       "    </tr>\n",
       "  </thead>\n",
       "  <tbody>\n",
       "    <tr>\n",
       "      <th>count</th>\n",
       "      <td>23686.000000</td>\n",
       "      <td>2.162600e+04</td>\n",
       "      <td>22443.000000</td>\n",
       "      <td>23686.000000</td>\n",
       "      <td>21712.000000</td>\n",
       "      <td>23686.000000</td>\n",
       "      <td>22819.000000</td>\n",
       "      <td>23686.000000</td>\n",
       "      <td>22371.000000</td>\n",
       "      <td>23686.000000</td>\n",
       "      <td>...</td>\n",
       "      <td>14247.000000</td>\n",
       "      <td>18176.000000</td>\n",
       "      <td>14235.000000</td>\n",
       "      <td>18837.000000</td>\n",
       "      <td>23686.000000</td>\n",
       "      <td>23686.000000</td>\n",
       "      <td>2.368600e+04</td>\n",
       "      <td>23686.000000</td>\n",
       "      <td>23686.000000</td>\n",
       "      <td>23686.000000</td>\n",
       "    </tr>\n",
       "    <tr>\n",
       "      <th>mean</th>\n",
       "      <td>9.861226</td>\n",
       "      <td>4.839779e+06</td>\n",
       "      <td>54.346304</td>\n",
       "      <td>2.021743</td>\n",
       "      <td>2.656351</td>\n",
       "      <td>10.684033</td>\n",
       "      <td>31.531848</td>\n",
       "      <td>5.894030</td>\n",
       "      <td>9.411787</td>\n",
       "      <td>0.591235</td>\n",
       "      <td>...</td>\n",
       "      <td>483.248895</td>\n",
       "      <td>0.770467</td>\n",
       "      <td>521.785107</td>\n",
       "      <td>128.782131</td>\n",
       "      <td>55.955670</td>\n",
       "      <td>18.137845</td>\n",
       "      <td>9.943278e+04</td>\n",
       "      <td>2.569619</td>\n",
       "      <td>6.400110</td>\n",
       "      <td>2017.367137</td>\n",
       "    </tr>\n",
       "    <tr>\n",
       "      <th>std</th>\n",
       "      <td>5.682400</td>\n",
       "      <td>2.217247e+06</td>\n",
       "      <td>19.367467</td>\n",
       "      <td>0.974009</td>\n",
       "      <td>0.145393</td>\n",
       "      <td>6.599996</td>\n",
       "      <td>13.883083</td>\n",
       "      <td>4.885931</td>\n",
       "      <td>3.183684</td>\n",
       "      <td>0.959477</td>\n",
       "      <td>...</td>\n",
       "      <td>346.351754</td>\n",
       "      <td>0.938388</td>\n",
       "      <td>283.465947</td>\n",
       "      <td>121.553668</td>\n",
       "      <td>10.295691</td>\n",
       "      <td>6.953997</td>\n",
       "      <td>5.031344e+04</td>\n",
       "      <td>1.788886</td>\n",
       "      <td>3.491823</td>\n",
       "      <td>1.039912</td>\n",
       "    </tr>\n",
       "    <tr>\n",
       "      <th>min</th>\n",
       "      <td>0.000000</td>\n",
       "      <td>1.219000e+04</td>\n",
       "      <td>12.000000</td>\n",
       "      <td>0.000000</td>\n",
       "      <td>2.400000</td>\n",
       "      <td>1.000000</td>\n",
       "      <td>2.000000</td>\n",
       "      <td>1.000000</td>\n",
       "      <td>1.300000</td>\n",
       "      <td>0.000000</td>\n",
       "      <td>...</td>\n",
       "      <td>1.000000</td>\n",
       "      <td>0.000000</td>\n",
       "      <td>13.000000</td>\n",
       "      <td>1.000000</td>\n",
       "      <td>2.000000</td>\n",
       "      <td>2.000000</td>\n",
       "      <td>1.110000e+02</td>\n",
       "      <td>0.000000</td>\n",
       "      <td>1.000000</td>\n",
       "      <td>2014.000000</td>\n",
       "    </tr>\n",
       "    <tr>\n",
       "      <th>25%</th>\n",
       "      <td>6.000000</td>\n",
       "      <td>3.300000e+06</td>\n",
       "      <td>39.400000</td>\n",
       "      <td>1.000000</td>\n",
       "      <td>2.520000</td>\n",
       "      <td>5.000000</td>\n",
       "      <td>18.500000</td>\n",
       "      <td>2.000000</td>\n",
       "      <td>7.000000</td>\n",
       "      <td>0.000000</td>\n",
       "      <td>...</td>\n",
       "      <td>288.000000</td>\n",
       "      <td>0.000000</td>\n",
       "      <td>287.000000</td>\n",
       "      <td>41.000000</td>\n",
       "      <td>49.000000</td>\n",
       "      <td>13.000000</td>\n",
       "      <td>7.664350e+04</td>\n",
       "      <td>1.000000</td>\n",
       "      <td>3.000000</td>\n",
       "      <td>2017.000000</td>\n",
       "    </tr>\n",
       "    <tr>\n",
       "      <th>50%</th>\n",
       "      <td>9.000000</td>\n",
       "      <td>4.400000e+06</td>\n",
       "      <td>50.100000</td>\n",
       "      <td>2.000000</td>\n",
       "      <td>2.650000</td>\n",
       "      <td>9.000000</td>\n",
       "      <td>30.000000</td>\n",
       "      <td>4.000000</td>\n",
       "      <td>9.000000</td>\n",
       "      <td>0.000000</td>\n",
       "      <td>...</td>\n",
       "      <td>442.000000</td>\n",
       "      <td>1.000000</td>\n",
       "      <td>518.000000</td>\n",
       "      <td>85.000000</td>\n",
       "      <td>56.000000</td>\n",
       "      <td>17.000000</td>\n",
       "      <td>9.500000e+04</td>\n",
       "      <td>3.000000</td>\n",
       "      <td>6.000000</td>\n",
       "      <td>2017.000000</td>\n",
       "    </tr>\n",
       "    <tr>\n",
       "      <th>75%</th>\n",
       "      <td>14.000000</td>\n",
       "      <td>6.000000e+06</td>\n",
       "      <td>65.600000</td>\n",
       "      <td>3.000000</td>\n",
       "      <td>2.750000</td>\n",
       "      <td>16.000000</td>\n",
       "      <td>40.900000</td>\n",
       "      <td>8.000000</td>\n",
       "      <td>11.000000</td>\n",
       "      <td>1.000000</td>\n",
       "      <td>...</td>\n",
       "      <td>597.000000</td>\n",
       "      <td>1.000000</td>\n",
       "      <td>736.000000</td>\n",
       "      <td>183.000000</td>\n",
       "      <td>63.000000</td>\n",
       "      <td>22.000000</td>\n",
       "      <td>1.142590e+05</td>\n",
       "      <td>4.000000</td>\n",
       "      <td>10.000000</td>\n",
       "      <td>2018.000000</td>\n",
       "    </tr>\n",
       "    <tr>\n",
       "      <th>max</th>\n",
       "      <td>50.000000</td>\n",
       "      <td>1.189440e+07</td>\n",
       "      <td>114.400000</td>\n",
       "      <td>5.000000</td>\n",
       "      <td>3.070000</td>\n",
       "      <td>60.000000</td>\n",
       "      <td>77.400000</td>\n",
       "      <td>33.000000</td>\n",
       "      <td>19.500000</td>\n",
       "      <td>5.000000</td>\n",
       "      <td>...</td>\n",
       "      <td>3190.000000</td>\n",
       "      <td>3.000000</td>\n",
       "      <td>1344.000000</td>\n",
       "      <td>512.000000</td>\n",
       "      <td>100.000000</td>\n",
       "      <td>78.000000</td>\n",
       "      <td>1.907500e+06</td>\n",
       "      <td>6.000000</td>\n",
       "      <td>12.000000</td>\n",
       "      <td>2019.000000</td>\n",
       "    </tr>\n",
       "  </tbody>\n",
       "</table>\n",
       "<p>8 rows × 23 columns</p>\n",
       "</div>"
      ],
      "text/plain": [
       "       total_images    last_price    total_area         rooms  ceiling_height  \\\n",
       "count  23686.000000  2.162600e+04  22443.000000  23686.000000    21712.000000   \n",
       "mean       9.861226  4.839779e+06     54.346304      2.021743        2.656351   \n",
       "std        5.682400  2.217247e+06     19.367467      0.974009        0.145393   \n",
       "min        0.000000  1.219000e+04     12.000000      0.000000        2.400000   \n",
       "25%        6.000000  3.300000e+06     39.400000      1.000000        2.520000   \n",
       "50%        9.000000  4.400000e+06     50.100000      2.000000        2.650000   \n",
       "75%       14.000000  6.000000e+06     65.600000      3.000000        2.750000   \n",
       "max       50.000000  1.189440e+07    114.400000      5.000000        3.070000   \n",
       "\n",
       "       floors_total   living_area         floor  kitchen_area       balcony  \\\n",
       "count  23686.000000  22819.000000  23686.000000  22371.000000  23686.000000   \n",
       "mean      10.684033     31.531848      5.894030      9.411787      0.591235   \n",
       "std        6.599996     13.883083      4.885931      3.183684      0.959477   \n",
       "min        1.000000      2.000000      1.000000      1.300000      0.000000   \n",
       "25%        5.000000     18.500000      2.000000      7.000000      0.000000   \n",
       "50%        9.000000     30.000000      4.000000      9.000000      0.000000   \n",
       "75%       16.000000     40.900000      8.000000     11.000000      1.000000   \n",
       "max       60.000000     77.400000     33.000000     19.500000      5.000000   \n",
       "\n",
       "       ...  parks_nearest  ponds_around3000  ponds_nearest  days_exposition  \\\n",
       "count  ...   14247.000000      18176.000000   14235.000000     18837.000000   \n",
       "mean   ...     483.248895          0.770467     521.785107       128.782131   \n",
       "std    ...     346.351754          0.938388     283.465947       121.553668   \n",
       "min    ...       1.000000          0.000000      13.000000         1.000000   \n",
       "25%    ...     288.000000          0.000000     287.000000        41.000000   \n",
       "50%    ...     442.000000          1.000000     518.000000        85.000000   \n",
       "75%    ...     597.000000          1.000000     736.000000       183.000000   \n",
       "max    ...    3190.000000          3.000000    1344.000000       512.000000   \n",
       "\n",
       "         area_ratio  kitchen_ratio      sm_price       weekday         month  \\\n",
       "count  23686.000000   23686.000000  2.368600e+04  23686.000000  23686.000000   \n",
       "mean      55.955670      18.137845  9.943278e+04      2.569619      6.400110   \n",
       "std       10.295691       6.953997  5.031344e+04      1.788886      3.491823   \n",
       "min        2.000000       2.000000  1.110000e+02      0.000000      1.000000   \n",
       "25%       49.000000      13.000000  7.664350e+04      1.000000      3.000000   \n",
       "50%       56.000000      17.000000  9.500000e+04      3.000000      6.000000   \n",
       "75%       63.000000      22.000000  1.142590e+05      4.000000     10.000000   \n",
       "max      100.000000      78.000000  1.907500e+06      6.000000     12.000000   \n",
       "\n",
       "               year  \n",
       "count  23686.000000  \n",
       "mean    2017.367137  \n",
       "std        1.039912  \n",
       "min     2014.000000  \n",
       "25%     2017.000000  \n",
       "50%     2017.000000  \n",
       "75%     2018.000000  \n",
       "max     2019.000000  \n",
       "\n",
       "[8 rows x 23 columns]"
      ]
     },
     "execution_count": 91,
     "metadata": {},
     "output_type": "execute_result"
    }
   ],
   "source": [
    "# Функция для подсчёта границ с учетом 1,5 межквартильных размахов \n",
    "\n",
    "def quartile_range(df, column):\n",
    "    q1 = df[column].quantile(0.25)\n",
    "    q3 = df[column].quantile(0.75)\n",
    "    iqr = q3 - q1\n",
    "    dfq = df.loc[(df[column] < q3 + 1.5*iqr) & (df[column] > q1 - 1.5*iqr), column]\n",
    "    return dfq\n",
    "\n",
    "# Столбцы с выбросами\n",
    "\n",
    "list_features = ['total_area', 'kitchen_area', 'living_area', 'last_price', 'rooms', 'ceiling_height', 'days_exposition']\n",
    "for col in list_features:\n",
    "    data[col] = quartile_range(data, col)\n",
    "\n",
    "# Возвращаем в целочисленный тип число комнат.\n",
    "\n",
    "data['rooms'] = data['rooms'].fillna(0).astype(int)\n",
    "\n",
    "# Изучаем, есть ли выбивающиеся значения.\n",
    "\n",
    "data.describe()"
   ]
  },
  {
   "cell_type": "markdown",
   "metadata": {},
   "source": [
    "_Вывод_\n",
    "\n",
    "\n",
    "В датафрейме отброшены значения на основе полуторного межквартильного размаха. Значения стали лучше и адекватнее."
   ]
  },
  {
   "cell_type": "markdown",
   "metadata": {},
   "source": [
    "### Определение факторов, влияющих на стоимость квартиры"
   ]
  },
  {
   "cell_type": "code",
   "execution_count": 92,
   "metadata": {},
   "outputs": [
    {
     "data": {
      "image/png": "[encoded data removed]",
      "text/plain": [
       "<Figure size 360x360 with 1 Axes>"
      ]
     },
     "metadata": {
      "needs_background": "light"
     },
     "output_type": "display_data"
    },
    {
     "name": "stdout",
     "output_type": "stream",
     "text": [
      "Корреляция цены и площади: 0.6942605970756676\n"
     ]
    }
   ],
   "source": [
    "# Зависимость цены от площади\n",
    "(\n",
    "    data.pivot_table(index='total_area', values='last_price')\n",
    "    .plot(grid=True, style='o', figsize=(5, 5))\n",
    ")\n",
    "plt.show()\n",
    "print('Корреляция цены и площади:', data['total_area'].corr(data['last_price']))"
   ]
  },
  {
   "cell_type": "code",
   "execution_count": 93,
   "metadata": {},
   "outputs": [
    {
     "data": {
      "image/png": "[encoded data removed]",
      "text/plain": [
       "<Figure size 360x432 with 1 Axes>"
      ]
     },
     "metadata": {
      "needs_background": "light"
     },
     "output_type": "display_data"
    },
    {
     "name": "stdout",
     "output_type": "stream",
     "text": [
      "Корреляция цены и числа комнат: 0.44248549859510655\n"
     ]
    }
   ],
   "source": [
    "# Зависимость цены от числа комнат\n",
    "(\n",
    "    data.pivot_table(index='rooms', values='last_price')\n",
    "    .plot(grid=True, style='o-', figsize=(5, 6))\n",
    ")\n",
    "plt.show()\n",
    "print('Корреляция цены и числа комнат:', data['rooms'].corr(data['last_price']))"
   ]
  },
  {
   "cell_type": "code",
   "execution_count": 94,
   "metadata": {},
   "outputs": [
    {
     "data": {
      "image/png": "[encoded data removed]",
      "text/plain": [
       "<Figure size 360x360 with 1 Axes>"
      ]
     },
     "metadata": {
      "needs_background": "light"
     },
     "output_type": "display_data"
    },
    {
     "name": "stdout",
     "output_type": "stream",
     "text": [
      "Корреляция цены и удалённости от центра: -0.34556312632475533\n"
     ]
    }
   ],
   "source": [
    "# Зависимость цены от удалённости от центра\n",
    "(\n",
    "    data.pivot_table(index='cityCenters_nearest', values='last_price')\n",
    "    .plot(grid=True, style='o', figsize=(5, 5))\n",
    ")\n",
    "plt.show()\n",
    "print('Корреляция цены и удалённости от центра:', data['cityCenters_nearest'].corr(data['last_price']))"
   ]
  },
  {
   "cell_type": "code",
   "execution_count": 95,
   "metadata": {},
   "outputs": [
    {
     "data": {
      "text/html": [
       "<div>\n",
       "<style scoped>\n",
       "    .dataframe tbody tr th:only-of-type {\n",
       "        vertical-align: middle;\n",
       "    }\n",
       "\n",
       "    .dataframe tbody tr th {\n",
       "        vertical-align: top;\n",
       "    }\n",
       "\n",
       "    .dataframe thead th {\n",
       "        text-align: right;\n",
       "    }\n",
       "</style>\n",
       "<table border=\"1\" class=\"dataframe\">\n",
       "  <thead>\n",
       "    <tr style=\"text-align: right;\">\n",
       "      <th></th>\n",
       "      <th>last_price</th>\n",
       "    </tr>\n",
       "    <tr>\n",
       "      <th>floor_type</th>\n",
       "      <th></th>\n",
       "    </tr>\n",
       "  </thead>\n",
       "  <tbody>\n",
       "    <tr>\n",
       "      <th>первый</th>\n",
       "      <td>3800000.0</td>\n",
       "    </tr>\n",
       "    <tr>\n",
       "      <th>последний</th>\n",
       "      <td>4000000.0</td>\n",
       "    </tr>\n",
       "    <tr>\n",
       "      <th>другой</th>\n",
       "      <td>4594300.0</td>\n",
       "    </tr>\n",
       "  </tbody>\n",
       "</table>\n",
       "</div>"
      ],
      "text/plain": [
       "            last_price\n",
       "floor_type            \n",
       "первый       3800000.0\n",
       "последний    4000000.0\n",
       "другой       4594300.0"
      ]
     },
     "metadata": {},
     "output_type": "display_data"
    },
    {
     "data": {
      "image/png": "[encoded data removed]",
      "text/plain": [
       "<Figure size 360x360 with 1 Axes>"
      ]
     },
     "metadata": {
      "needs_background": "light"
     },
     "output_type": "display_data"
    }
   ],
   "source": [
    "# Зависимость цены от этажа\n",
    "(\n",
    "    data.pivot_table(index='floor_type', values='last_price', aggfunc='median')\n",
    "    .plot(grid=True, style='o-', figsize=(5, 5))\n",
    ")\n",
    "display(data.pivot_table(index='floor_type', values='last_price', aggfunc='median').sort_values(by='last_price'))\n",
    "plt.show()"
   ]
  },
  {
   "cell_type": "markdown",
   "metadata": {},
   "source": [
    "Дополнительно определим, насколько зависима цена на квадратный метр от двух параметров: общей площади квартиры и числа комнат."
   ]
  },
  {
   "cell_type": "code",
   "execution_count": 96,
   "metadata": {},
   "outputs": [
    {
     "data": {
      "image/png": "[encoded data removed]",
      "text/plain": [
       "<Figure size 360x360 with 1 Axes>"
      ]
     },
     "metadata": {
      "needs_background": "light"
     },
     "output_type": "display_data"
    },
    {
     "name": "stdout",
     "output_type": "stream",
     "text": [
      "Корреляция цены за квадрат и площади: 0.11738931438812726\n"
     ]
    }
   ],
   "source": [
    "# Зависимость цены за квадрат от площади\n",
    "(\n",
    "    data.pivot_table(index='total_area', values='sm_price')\n",
    "    .plot(grid=True, style='o', figsize=(5, 5))\n",
    ")\n",
    "plt.show()\n",
    "print('Корреляция цены за квадрат и площади:', data['total_area'].corr(data['sm_price']))"
   ]
  },
  {
   "cell_type": "code",
   "execution_count": 97,
   "metadata": {},
   "outputs": [
    {
     "data": {
      "image/png": "[encoded data removed]",
      "text/plain": [
       "<Figure size 360x360 with 1 Axes>"
      ]
     },
     "metadata": {
      "needs_background": "light"
     },
     "output_type": "display_data"
    }
   ],
   "source": [
    "# Зависимость цены за квадрат от числа комнат\n",
    "(\n",
    "    data.pivot_table(index='rooms', values='sm_price')\n",
    "    .plot(grid=True, style='o-', figsize=(5, 5))\n",
    ")\n",
    "plt.show()"
   ]
  },
  {
   "cell_type": "markdown",
   "metadata": {},
   "source": [
    "_Вывод_\n",
    "\n",
    "\n",
    "- Чем больше площадь, тем выше стоимость квартиры. Корреляция этих параметров очень высокая. \n",
    "\n",
    "\n",
    "- Число комнат влияет на цену (больше комнат - больше цена), однако зависимость ниже, чем у площади.\n",
    "\n",
    "\n",
    "- Самые дорогие варианты квартир находятся в центре города, однако там также есть и достаточно дешёвые варианты. Примечательно, что в пригороде, в районе 50 км от центра, где сосредоточено большое количество квартир на продажу, цена опять почти так же разбросаны, как в городе.\n",
    "\n",
    "\n",
    "- Первый этаж непосредственно влияет на стоимость квартиры - в среднем квартиры на 1-м этаже значительно дешевле. Чуть дороже последний этаж. Наибольшая стоимость у квартир, расположенных не на 1-м и не на последнем этаже.\n",
    "\n",
    "\n",
    "- Стоимость квадратного метра мало зависит от площади квартир, она больше зависит от других факторов (количества комнат, района и пр.). \n",
    "\n",
    "\n",
    "- Цена за квадрат выше у однокомнатных квартир и квартир с 4 и 5 комнатами. Последнее, вероятно, объясняется элитностью недвижимости."
   ]
  },
  {
   "cell_type": "code",
   "execution_count": 98,
   "metadata": {},
   "outputs": [
    {
     "data": {
      "image/png": "[encoded data removed]",
      "text/plain": [
       "<Figure size 360x360 with 1 Axes>"
      ]
     },
     "metadata": {
      "needs_background": "light"
     },
     "output_type": "display_data"
    }
   ],
   "source": [
    "# Зависимость от дня размещения\n",
    "\n",
    "(\n",
    "    data.pivot_table(index='weekday', values='last_price')\n",
    "    .plot(grid=True, style='o-', figsize=(5, 5))\n",
    ")\n",
    "plt.show()"
   ]
  },
  {
   "cell_type": "code",
   "execution_count": 99,
   "metadata": {},
   "outputs": [
    {
     "data": {
      "image/png": "[encoded data removed]",
      "text/plain": [
       "<Figure size 720x360 with 1 Axes>"
      ]
     },
     "metadata": {
      "needs_background": "light"
     },
     "output_type": "display_data"
    }
   ],
   "source": [
    "# Зависимость от месяца размещения\n",
    "\n",
    "(\n",
    "    data.pivot_table(index='month', values='last_price')\n",
    "    .plot(grid=True, style='o-', xlim=(1,12), figsize=(10, 5))\n",
    ")\n",
    "plt.show()"
   ]
  },
  {
   "cell_type": "code",
   "execution_count": 100,
   "metadata": {},
   "outputs": [
    {
     "data": {
      "image/png": "[encoded data removed]",
      "text/plain": [
       "<Figure size 360x360 with 1 Axes>"
      ]
     },
     "metadata": {
      "needs_background": "light"
     },
     "output_type": "display_data"
    }
   ],
   "source": [
    "# Зависимость от года размещения\n",
    "\n",
    "(\n",
    "    data.pivot_table(index='year', values='last_price')\n",
    "    .plot(grid=True, style='o-', figsize=(5, 5))\n",
    ")\n",
    "plt.show()"
   ]
  },
  {
   "cell_type": "markdown",
   "metadata": {},
   "source": [
    "_Вывод_\n",
    " \n",
    "\n",
    "Дороже всего квартиры, опубликованные во вторник, дешевле всего - в субботу.\n",
    "\n",
    "\n",
    "Дороже всего квартиры, продающиеся с апреля и сентября, дешевле всего - с июня.\n",
    "\n",
    "\n",
    "Квартиры очень сильно подешевели в 2016-2018 годах, что, вероятно, вызвано кризисом недвижимости 2014-2015 годов.В 2019 году цены снова стали повышаться."
   ]
  },
  {
   "cell_type": "markdown",
   "metadata": {},
   "source": [
    "### Сравнение средней стоимости квадратного метра в топ-10 городов"
   ]
  },
  {
   "cell_type": "code",
   "execution_count": 101,
   "metadata": {},
   "outputs": [
    {
     "data": {
      "text/html": [
       "<div>\n",
       "<style scoped>\n",
       "    .dataframe tbody tr th:only-of-type {\n",
       "        vertical-align: middle;\n",
       "    }\n",
       "\n",
       "    .dataframe tbody tr th {\n",
       "        vertical-align: top;\n",
       "    }\n",
       "\n",
       "    .dataframe thead th {\n",
       "        text-align: right;\n",
       "    }\n",
       "</style>\n",
       "<table border=\"1\" class=\"dataframe\">\n",
       "  <thead>\n",
       "    <tr style=\"text-align: right;\">\n",
       "      <th></th>\n",
       "      <th>sm_price</th>\n",
       "    </tr>\n",
       "    <tr>\n",
       "      <th>locality_name</th>\n",
       "      <th></th>\n",
       "    </tr>\n",
       "  </thead>\n",
       "  <tbody>\n",
       "    <tr>\n",
       "      <th>Санкт-Петербург</th>\n",
       "      <td>114818</td>\n",
       "    </tr>\n",
       "    <tr>\n",
       "      <th>Пушкин</th>\n",
       "      <td>103125</td>\n",
       "    </tr>\n",
       "    <tr>\n",
       "      <th>деревня Кудрово</th>\n",
       "      <td>92473</td>\n",
       "    </tr>\n",
       "    <tr>\n",
       "      <th>посёлок Парголово</th>\n",
       "      <td>90175</td>\n",
       "    </tr>\n",
       "    <tr>\n",
       "      <th>посёлок Мурино</th>\n",
       "      <td>85751</td>\n",
       "    </tr>\n",
       "    <tr>\n",
       "      <th>посёлок Шушары</th>\n",
       "      <td>78676</td>\n",
       "    </tr>\n",
       "    <tr>\n",
       "      <th>Колпино</th>\n",
       "      <td>75671</td>\n",
       "    </tr>\n",
       "    <tr>\n",
       "      <th>Гатчина</th>\n",
       "      <td>68745</td>\n",
       "    </tr>\n",
       "    <tr>\n",
       "      <th>Всеволожск</th>\n",
       "      <td>68654</td>\n",
       "    </tr>\n",
       "    <tr>\n",
       "      <th>Выборг</th>\n",
       "      <td>58141</td>\n",
       "    </tr>\n",
       "  </tbody>\n",
       "</table>\n",
       "</div>"
      ],
      "text/plain": [
       "                   sm_price\n",
       "locality_name              \n",
       "Санкт-Петербург      114818\n",
       "Пушкин               103125\n",
       "деревня Кудрово       92473\n",
       "посёлок Парголово     90175\n",
       "посёлок Мурино        85751\n",
       "посёлок Шушары        78676\n",
       "Колпино               75671\n",
       "Гатчина               68745\n",
       "Всеволожск            68654\n",
       "Выборг                58141"
      ]
     },
     "execution_count": 101,
     "metadata": {},
     "output_type": "execute_result"
    }
   ],
   "source": [
    "# Сравниваем среднюю стоимость квадратного метра в топ-10 городов по числу объявлений.\n",
    "\n",
    "city_ten = data['locality_name'].value_counts().head(10)\n",
    "city_sm_price = data.query('locality_name in @city_ten.index').pivot_table(index='locality_name', values='sm_price')\n",
    "city_sm_price = city_sm_price.astype(int)\n",
    "city_sm_price.sort_values('sm_price', ascending=False)"
   ]
  },
  {
   "cell_type": "markdown",
   "metadata": {},
   "source": [
    "_Вывод_\n",
    "\n",
    "Наибольшая средняя стоимость квадратного метра, как и ожидалось, в Санкт-Петербурге. \n",
    "\n",
    "Затем идёт Пушкин, что, вероятно, вызвано хорошей застройкой и большим количеством парков. \n",
    "\n",
    "Затем идут районы, фактически входящие в Санкт-Петербург и непосредственно к нему примыкающие. \n",
    "\n",
    "Из топ-10 наименьшая стоимость в Гатчине и Всеволожске, из которых далеко ехать до Санкт-Петербурга, а также в небольшом по численности населения Выборге, расположенном на большом расстоянии от Санкт-Петербурга."
   ]
  },
  {
   "cell_type": "markdown",
   "metadata": {},
   "source": [
    "### Определение границы центральной зоны"
   ]
  },
  {
   "cell_type": "code",
   "execution_count": 102,
   "metadata": {},
   "outputs": [
    {
     "data": {
      "image/png": "[encoded data removed]",
      "text/plain": [
       "<Figure size 720x360 with 1 Axes>"
      ]
     },
     "metadata": {
      "needs_background": "light"
     },
     "output_type": "display_data"
    }
   ],
   "source": [
    "# Добавляем столбец с расстоянием до центра в км, округляем до целого.\n",
    "\n",
    "data['center_km'] = data['cityCenters_nearest'] / 1000\n",
    "data['center_km'] = data['center_km'].fillna(0).astype(int)\n",
    "\n",
    "# Выбираем Санкт-Петербург, смотрим на график, где указана средняя стоимость для каждого километра.\n",
    "\n",
    "(\n",
    "    data.query('locality_name == \"Санкт-Петербург\"')\n",
    "    .pivot_table(index='center_km', values='last_price')\n",
    "    .plot(grid=True, style='o-', xlim=(0,15), figsize=(10, 5))\n",
    ")\n",
    "plt.show()"
   ]
  },
  {
   "cell_type": "markdown",
   "metadata": {},
   "source": [
    "_Вывод_\n",
    "\n",
    "Условно центральной зоной можно считать область вокруг центра с радиусом в 6-8 км (в среднем - 7 км). Дальше этой области средняя цена на квартиры резко снижается."
   ]
  },
  {
   "cell_type": "markdown",
   "metadata": {},
   "source": [
    "### Анализ сегмента в центре"
   ]
  },
  {
   "cell_type": "code",
   "execution_count": 103,
   "metadata": {
    "scrolled": false
   },
   "outputs": [
    {
     "name": "stdout",
     "output_type": "stream",
     "text": [
      "Площадь (медиана): 52\n",
      "Площадь в центре (медиана): 68 \n",
      "\n",
      "Площадь (среднее): 57\n",
      "Площадь в центре (среднее): 69 \n",
      "\n"
     ]
    },
    {
     "data": {
      "image/png": "[encoded data removed]",
      "text/plain": [
       "<Figure size 720x360 with 1 Axes>"
      ]
     },
     "metadata": {
      "needs_background": "light"
     },
     "output_type": "display_data"
    }
   ],
   "source": [
    "# Изучаем площадь квартир. \n",
    "# Сравниваем медианные значения: общие и отдельно в центре, а также аналогичные средние значения.\n",
    "\n",
    "spb_center = data.query('(locality_name == \"Санкт-Петербург\") & (center_km <= 7)')\n",
    "\n",
    "print('Площадь (медиана):', round(data.query('locality_name == \"Санкт-Петербург\"')['total_area'].median()))\n",
    "print('Площадь в центре (медиана):', round(spb_center['total_area'].median()),'\\n')\n",
    "\n",
    "print('Площадь (среднее):', round(data.query('locality_name == \"Санкт-Петербург\"')['total_area'].mean()))\n",
    "print('Площадь в центре (среднее):', round(spb_center['total_area'].mean()),'\\n')\n",
    "\n",
    "spb_center['total_area'].hist(bins=50, range=(0,200), figsize=(10,5))\n",
    "plt.show()"
   ]
  },
  {
   "cell_type": "code",
   "execution_count": 104,
   "metadata": {},
   "outputs": [
    {
     "name": "stdout",
     "output_type": "stream",
     "text": [
      "Число вариантов с ценой больше 12 млн: 0\n"
     ]
    },
    {
     "data": {
      "image/png": "[encoded data removed]",
      "text/plain": [
       "<Figure size 720x360 with 1 Axes>"
      ]
     },
     "metadata": {
      "needs_background": "light"
     },
     "output_type": "display_data"
    }
   ],
   "source": [
    "# Изучаем стоимость квартир (в десятках млн руб.).\n",
    "\n",
    "spb_center['last_price'].hist(bins=100, figsize=(10,5))\n",
    "\n",
    "print('Число вариантов с ценой больше 12 млн:', spb_center.query('last_price > 12000000')['last_price'].count())\n",
    "\n",
    "plt.show()"
   ]
  },
  {
   "cell_type": "code",
   "execution_count": 105,
   "metadata": {},
   "outputs": [
    {
     "data": {
      "text/html": [
       "<div>\n",
       "<style scoped>\n",
       "    .dataframe tbody tr th:only-of-type {\n",
       "        vertical-align: middle;\n",
       "    }\n",
       "\n",
       "    .dataframe tbody tr th {\n",
       "        vertical-align: top;\n",
       "    }\n",
       "\n",
       "    .dataframe thead th {\n",
       "        text-align: right;\n",
       "    }\n",
       "</style>\n",
       "<table border=\"1\" class=\"dataframe\">\n",
       "  <thead>\n",
       "    <tr style=\"text-align: right;\">\n",
       "      <th></th>\n",
       "      <th>count</th>\n",
       "      <th>rooms_ratio</th>\n",
       "      <th>center_count</th>\n",
       "      <th>center_rooms_ratio</th>\n",
       "      <th>center_cap</th>\n",
       "    </tr>\n",
       "    <tr>\n",
       "      <th>rooms</th>\n",
       "      <th></th>\n",
       "      <th></th>\n",
       "      <th></th>\n",
       "      <th></th>\n",
       "      <th></th>\n",
       "    </tr>\n",
       "  </thead>\n",
       "  <tbody>\n",
       "    <tr>\n",
       "      <th>1</th>\n",
       "      <td>5052</td>\n",
       "      <td>32.463694</td>\n",
       "      <td>599</td>\n",
       "      <td>16.551534</td>\n",
       "      <td>12.0</td>\n",
       "    </tr>\n",
       "    <tr>\n",
       "      <th>2</th>\n",
       "      <td>5117</td>\n",
       "      <td>32.881378</td>\n",
       "      <td>1122</td>\n",
       "      <td>31.003040</td>\n",
       "      <td>22.0</td>\n",
       "    </tr>\n",
       "    <tr>\n",
       "      <th>3</th>\n",
       "      <td>4132</td>\n",
       "      <td>26.551857</td>\n",
       "      <td>1171</td>\n",
       "      <td>32.357005</td>\n",
       "      <td>28.0</td>\n",
       "    </tr>\n",
       "    <tr>\n",
       "      <th>4</th>\n",
       "      <td>970</td>\n",
       "      <td>6.233132</td>\n",
       "      <td>506</td>\n",
       "      <td>13.981763</td>\n",
       "      <td>52.0</td>\n",
       "    </tr>\n",
       "    <tr>\n",
       "      <th>5</th>\n",
       "      <td>291</td>\n",
       "      <td>1.869940</td>\n",
       "      <td>221</td>\n",
       "      <td>6.106659</td>\n",
       "      <td>76.0</td>\n",
       "    </tr>\n",
       "  </tbody>\n",
       "</table>\n",
       "</div>"
      ],
      "text/plain": [
       "       count  rooms_ratio  center_count  center_rooms_ratio  center_cap\n",
       "rooms                                                                  \n",
       "1       5052    32.463694           599           16.551534        12.0\n",
       "2       5117    32.881378          1122           31.003040        22.0\n",
       "3       4132    26.551857          1171           32.357005        28.0\n",
       "4        970     6.233132           506           13.981763        52.0\n",
       "5        291     1.869940           221            6.106659        76.0"
      ]
     },
     "execution_count": 105,
     "metadata": {},
     "output_type": "execute_result"
    }
   ],
   "source": [
    "# Изучаем число комнат.\n",
    "\n",
    "spb_rooms = (data.query('(locality_name == \"Санкт-Петербург\") & (rooms > 0)')\n",
    "             .pivot_table(index='rooms', values='floor', aggfunc='count')\n",
    "            )\n",
    "spb_rooms.columns = ['count']\n",
    "spb_rooms['rooms_ratio'] = spb_rooms['count'] / spb_rooms['count'].sum() * 100\n",
    "\n",
    "spb_rooms_center = (data.query('(locality_name == \"Санкт-Петербург\") & (center_km <= 7)  & (rooms > 0)')\n",
    "                    .pivot_table(index='rooms', values='floor', aggfunc='count')\n",
    "                   )\n",
    "spb_rooms_center.columns = ['center_count']\n",
    "spb_rooms_center['center_rooms_ratio'] = (spb_rooms_center['center_count'] \n",
    "                                          / spb_rooms_center['center_count'].sum() * 100)\n",
    "\n",
    "rooms_alldata = pd.merge(spb_rooms, spb_rooms_center, 'left', on = 'rooms')\n",
    "rooms_alldata['center_cap'] = round(rooms_alldata['center_count'] / rooms_alldata['count'] * 100)\n",
    "rooms_alldata"
   ]
  },
  {
   "cell_type": "code",
   "execution_count": 106,
   "metadata": {},
   "outputs": [
    {
     "name": "stdout",
     "output_type": "stream",
     "text": [
      "Высота потолков (медиана): 2.65\n",
      "Высота потолков в центре (медиана): 2.8 \n",
      "\n",
      "Высота потолков (среднее): 2.67\n",
      "Высота потолков в центре (среднее): 2.79 \n",
      "\n"
     ]
    }
   ],
   "source": [
    "# Изучаем высоту потолков.\n",
    "\n",
    "print('Высота потолков (медиана):', data.query('locality_name == \"Санкт-Петербург\"')['ceiling_height'].median())\n",
    "print('Высота потолков в центре (медиана):', spb_center['ceiling_height'].median(),'\\n')\n",
    "\n",
    "print('Высота потолков (среднее):', round(data.query('locality_name == \"Санкт-Петербург\"')['ceiling_height'].mean(), 2))\n",
    "print('Высота потолков в центре (среднее):', round(spb_center['ceiling_height'].mean(), 2),'\\n')"
   ]
  },
  {
   "cell_type": "markdown",
   "metadata": {},
   "source": [
    "_Вывод_\n",
    "\n",
    "- Площадь квартир в центре составляет в основном от 40 до 100 кв. м. Это значительно больше, чем в целом по городу - в среднем на 12-16 метров. Также в центре находится большое число квартир с огромной площадью (более 100 кв.м).\n",
    "\n",
    "\n",
    "- Стоимость квартир в центре варьируется в основном от 3 до 12 млн.\n",
    "\n",
    "\n",
    "- Комнаты. В центре в два раза ниже доля однокомнатных квартир (16,6 %), чем в среднем по городу (32,5 %). Более половины четырёхкомнатных квартир находится в центре города, их доля среди квартир более чем в два раза выше, чем в среднем по городу (14% против 6,2 %). Более трех четвертей квартир с 5 комнатами находятся в центре города.\n",
    "\n",
    "\n",
    "- Высота потолков в центре выше в среднем на 12-15 сантиметров."
   ]
  },
  {
   "cell_type": "code",
   "execution_count": 107,
   "metadata": {},
   "outputs": [
    {
     "data": {
      "image/png": "[encoded data removed]",
      "text/plain": [
       "<Figure size 360x360 with 1 Axes>"
      ]
     },
     "metadata": {
      "needs_background": "light"
     },
     "output_type": "display_data"
    },
    {
     "name": "stdout",
     "output_type": "stream",
     "text": [
      "Корреляция цены и площади: 0.7037555846081026\n"
     ]
    }
   ],
   "source": [
    "# Зависимость цены от площади\n",
    "\n",
    "(\n",
    "    spb_center.pivot_table(index='total_area', values='last_price')\n",
    "    .plot(grid=True, style='o', figsize=(5, 5))\n",
    ")\n",
    "plt.show()\n",
    "print('Корреляция цены и площади:', spb_center['total_area'].corr(spb_center['last_price']))"
   ]
  },
  {
   "cell_type": "code",
   "execution_count": 108,
   "metadata": {},
   "outputs": [
    {
     "data": {
      "image/png": "[encoded data removed]",
      "text/plain": [
       "<Figure size 360x360 with 1 Axes>"
      ]
     },
     "metadata": {
      "needs_background": "light"
     },
     "output_type": "display_data"
    },
    {
     "name": "stdout",
     "output_type": "stream",
     "text": [
      "Корреляция цены и числа комнат: 0.45983676573742527\n"
     ]
    }
   ],
   "source": [
    "# Зависимость цены от числа комнат\n",
    "\n",
    "(\n",
    "    spb_center.query('(rooms > 0) & (rooms < 7)').pivot_table(index='rooms', values='last_price')\n",
    "    .plot(grid=True, style='o-', figsize=(5, 5))\n",
    ")\n",
    "plt.show()\n",
    "print('Корреляция цены и числа комнат:', spb_center['rooms'].corr(spb_center['last_price']))"
   ]
  },
  {
   "cell_type": "code",
   "execution_count": 109,
   "metadata": {},
   "outputs": [
    {
     "data": {
      "image/png": "[encoded data removed]",
      "text/plain": [
       "<Figure size 360x360 with 1 Axes>"
      ]
     },
     "metadata": {
      "needs_background": "light"
     },
     "output_type": "display_data"
    }
   ],
   "source": [
    "# Зависимость цены от этажа\n",
    "\n",
    "(\n",
    "    spb_center.pivot_table(index='floor_type', values='last_price', aggfunc='median')\n",
    "    .plot(grid=True, style='o-', figsize=(5, 5))\n",
    ")\n",
    "plt.show()"
   ]
  },
  {
   "cell_type": "code",
   "execution_count": 110,
   "metadata": {},
   "outputs": [
    {
     "data": {
      "image/png": "[encoded data removed]",
      "text/plain": [
       "<Figure size 360x360 with 1 Axes>"
      ]
     },
     "metadata": {
      "needs_background": "light"
     },
     "output_type": "display_data"
    },
    {
     "name": "stdout",
     "output_type": "stream",
     "text": [
      "Корреляция цены и удалённости от центра: -0.17592286300418988\n"
     ]
    }
   ],
   "source": [
    "# Зависимость цены от удалённости от центра\n",
    "\n",
    "(\n",
    "    spb_center.pivot_table(index='cityCenters_nearest', values='last_price', aggfunc='median')\n",
    "    .plot(grid=True, style='o', figsize=(5, 5))\n",
    ")\n",
    "plt.show()\n",
    "print('Корреляция цены и удалённости от центра:', spb_center['cityCenters_nearest'].corr(spb_center['last_price']))"
   ]
  },
  {
   "cell_type": "code",
   "execution_count": 111,
   "metadata": {},
   "outputs": [
    {
     "data": {
      "image/png": "[encoded data removed]",
      "text/plain": [
       "<Figure size 360x360 with 1 Axes>"
      ]
     },
     "metadata": {
      "needs_background": "light"
     },
     "output_type": "display_data"
    },
    {
     "name": "stdout",
     "output_type": "stream",
     "text": [
      "Корреляция цены за квадрат и площади: -0.01243519779600182\n"
     ]
    }
   ],
   "source": [
    "# Зависимость цены за квадрат от площади\n",
    "\n",
    "(\n",
    "    spb_center.pivot_table(index='total_area', values='sm_price')\n",
    "    .plot(grid=True, style='o', figsize=(5, 5))\n",
    ")\n",
    "plt.show()\n",
    "print('Корреляция цены за квадрат и площади:', spb_center['total_area'].corr(spb_center['sm_price']))\n"
   ]
  },
  {
   "cell_type": "code",
   "execution_count": 112,
   "metadata": {},
   "outputs": [
    {
     "data": {
      "image/png": "[encoded data removed]",
      "text/plain": [
       "<Figure size 360x360 with 1 Axes>"
      ]
     },
     "metadata": {
      "needs_background": "light"
     },
     "output_type": "display_data"
    },
    {
     "name": "stdout",
     "output_type": "stream",
     "text": [
      "Корреляция цены за квадрат и числа комнат: -0.03273332603299949\n"
     ]
    }
   ],
   "source": [
    "# Зависимость цены за квадрат от числа комнат\n",
    "\n",
    "(\n",
    "    spb_center.query('rooms > 0').pivot_table(index='rooms', values='sm_price')\n",
    "    .plot(grid=True, style='o-', figsize=(5, 5))\n",
    ")\n",
    "plt.show()\n",
    "print('Корреляция цены за квадрат и числа комнат:', spb_center['rooms'].corr(spb_center['sm_price']))"
   ]
  },
  {
   "cell_type": "markdown",
   "metadata": {},
   "source": [
    "_Вывод_\n",
    "\n",
    "- В центре цены растут пропорционально площади квартир с той же корреляцией, что и в целом по всей базе (около 0,7).\n",
    "\n",
    "\n",
    "- Зависимость цены квартиры от числа комнат в центре такая же, как и в целом по городу.\n",
    "\n",
    "\n",
    "- В центре верхний этаж стоит практически столько же, сколько и другие этажи, кроме первого.\n",
    "\n",
    "\n",
    "- В центральной зоне (в пределах от 2 до 7 км) почти нет зависимости между ценой и удалённостью от центра города.\n",
    "\n",
    "\n",
    "- Стоимость квадратного метра в центре мало зависит от площади. Однако в целом встречаются квартиры с аномально высокими ценами за кв. м.\n",
    "\n",
    "\n",
    "- Стоимость квадратного метра центре в среднем ниже у 2- и 4-комнатных квартир и выше - у 3- и 5-комнатных. Однако стоимость кв. метра в однокомнатных квартирах значительно превышает их."
   ]
  },
  {
   "cell_type": "code",
   "execution_count": 113,
   "metadata": {},
   "outputs": [
    {
     "data": {
      "image/png": "[encoded data removed]",
      "text/plain": [
       "<Figure size 360x360 with 1 Axes>"
      ]
     },
     "metadata": {
      "needs_background": "light"
     },
     "output_type": "display_data"
    }
   ],
   "source": [
    "# Зависимость от дня размещения\n",
    "\n",
    "(\n",
    "    spb_center.pivot_table(index='weekday', values='last_price')\n",
    "    .plot(grid=True, style='o-', figsize=(5, 5))\n",
    ")\n",
    "plt.show()"
   ]
  },
  {
   "cell_type": "code",
   "execution_count": 114,
   "metadata": {},
   "outputs": [
    {
     "data": {
      "image/png": "[encoded data removed]",
      "text/plain": [
       "<Figure size 576x360 with 1 Axes>"
      ]
     },
     "metadata": {
      "needs_background": "light"
     },
     "output_type": "display_data"
    }
   ],
   "source": [
    "# Зависимость от месяца размещения\n",
    "\n",
    "(\n",
    "    spb_center.pivot_table(index='month', values='last_price')\n",
    "    .plot(grid=True, style='o-', xlim=(1,12), figsize=(8, 5))\n",
    ")\n",
    "plt.show()"
   ]
  },
  {
   "cell_type": "code",
   "execution_count": 115,
   "metadata": {},
   "outputs": [
    {
     "data": {
      "image/png": "[encoded data removed]",
      "text/plain": [
       "<Figure size 432x360 with 1 Axes>"
      ]
     },
     "metadata": {
      "needs_background": "light"
     },
     "output_type": "display_data"
    }
   ],
   "source": [
    "# Зависимость от года размещения\n",
    "\n",
    "(\n",
    "    spb_center.pivot_table(index='year', values='last_price')\n",
    "    .plot(grid=True, style='o-', figsize=(6, 5))\n",
    ")\n",
    "plt.show()"
   ]
  },
  {
   "cell_type": "markdown",
   "metadata": {},
   "source": [
    "_Вывод_\n",
    "\n",
    "- В центре значительно выше стоимость квартир, опубликованных в воскресенье. Ниже всего - в понедельник и субботу.\n",
    "\n",
    "\n",
    "- Выше всего цена квартир в центре в сентябре, ниже всего - в июне и декабре.\n",
    "\n",
    "\n",
    "- Стоимость квартир в центре значительно выросла в 2015 году, затем снижалась до 2017 года. После чего наблюдается медленный рост."
   ]
  },
  {
   "cell_type": "markdown",
   "metadata": {},
   "source": [
    "### Выводы по двум исследованиям\n",
    "\n",
    "\n",
    "I. Исследование параметров объектов из Санкт-Петербурга и соседних населенных пунктов.\n",
    "\n",
    "\n",
    "1. Изучение параметров: площади, цены, числа комнат, высоты потолков, срока продажи квартиры\n",
    "\n",
    "\n",
    "Средняя квартира, выставленная на продажу, имеет следующие характеристики: это 2-комнатная квартира площадью 52 кв. м с потолками 2,65 м, проданная за 3 месяца (95 дней) по цене 4,7 млн рублей.\n",
    "\n",
    "\n",
    "Аномальные характеристики квартир из представленного набора данных:\n",
    "\n",
    "- 7-комнатная квартира или больше;\n",
    "- площадью более 114,3 кв. м;\n",
    "- с потолками менее 2,25 м или более 4 м;\n",
    "- по цене более 11,9 млн рублей;\n",
    "- проданная за 14 месяцев (428 дней) или более.\n",
    "\n",
    "\n",
    "Срок продажи квартиры. Как правило, продажа недвижимости занимала 3 месяца (95 дней). При этом четверть всех объектов недвижимости была продана в течение 45 дней с момента публикации. Если объект был продан в течение месяца, то необходимо проверить данную сделку на предмет мошенничества. Такая проверка особенна критична, если срок сделки не превышает двух недель. Кроме того, если объект был продан только после 14 месяцев (428 дней) с момента публикации, это говорит об аномально долгой продаже.\n",
    "\n",
    "\n",
    "2. Факторы, влияющие на стоимость квартиры\n",
    "\n",
    "\n",
    "Наиболее сильная корреляция наблюдается между площадью квартиры и ее стоимостью (коэфф. корреляции 0,69).\n",
    "\n",
    "\n",
    "Расстояние до центра города также, очевидно, влияет на стоимость квартиры, но обратно пропорционально и не так сильно (коэфф. корреляции -0,34).\n",
    "\n",
    "\n",
    "Кроме того, стоимость квартиры напрямую зависит от числа комнат: чем их больше, тем квартира дороже. Но это верно, пока число комнат не превышает четырех: 5- или 6-комнатные квартиры могут быть проданы дешевле 4-комнатных, и вызвано это скорее всего отсутствием спроса.\n",
    "\n",
    "\n",
    "Квартиры на первом или последнем этаже обычно продаются по более низкой цене, чем квартиры на других этажах.\n",
    "\n",
    "\n",
    "День недели и месяц публикации объявления связаны со стоимостью, но не играют значимой роли в конечной стоимости, по которой объект недвижимости будет продан. Выше всего стоили квартиры, выставленные по вторникам, в апреле и сентябре. Исследование лишь показало, что в среднем квартиры продавались по более высоким ценам в 2014 году, но это объясняется макроэкономической ситуацией и переходом ЦБ РФ к плавающему курсу в конце 2014 года.\n",
    "\n",
    "\n",
    "3. 10 населенных пунктов с наибольшим числом объявлений\n",
    "\n",
    "\n",
    "Из представленных 10 населенных пунктов с наибольшим числом объявлений лидеры по средней цене квадратного метра: Санкт-Петербург, Пушкин, деревня Кудрово и поселок Парголово.\n",
    "\n",
    "\n",
    "Однако в среднем дешевле всего квадратные метры в Выборге и Всеволожске.\n",
    "\n",
    "\n",
    "Результаты вызывают вопросы: цена квадратного метра в деревне больше, чем в городе. Необходимо будет установить, насколько такая разница в средней цене квадратного метра обоснована и вызвана близостью к центру Санкт-Петербурга."
   ]
  },
  {
   "cell_type": "markdown",
   "metadata": {},
   "source": [
    "II. Исследование параметров объектов из центра Санкт-Петербурга.\n",
    "\n",
    "\n",
    "1. Изучение параметров: площади, цены, числа комнат, высоты потолков\n",
    "\n",
    "Средняя квартира, выставленная на продажу в центре Санкт-Петербурга, имеет следующие характеристики: это 2-комнатная квартира площадью 60 кв. м с потолками 2,75 м, проданная за 3 месяца (95 дней) по цене 6,9 млн рублей.\n",
    "\n",
    "\n",
    "2. Факторы, влияющие на стоимость квартиры\n",
    "\n",
    "Зависимость стоимости квартиры от числа комнат в центре Санкт-Петербурга сильнее: здесь больше платежеспособного спроса на 5-комнатные квартиры, что приводит к прямо-пропорциональной зависимости цены от числа комнат. Другими словами, 5-комнатные квартиры в центре Санкт-Петербурга, как правило, будут продаваться дороже, чем 4-комнатные.\n",
    "\n",
    "Кроме того, в центре города наблюдается явно выраженная зависимость от этажа квартиры: квартира на последнем этаже в среднем будет стоить дороже, чем на первом. Это не наблюдается в явном виде в окрестностях центра.\n",
    "\n",
    "Чем дальше от центра города, тем в среднем квартира будет стоить дешевле: разница в стоимости между первым и восьмым километром от центра может составлять 2 млн руб.\n",
    "\n",
    "Квартиры, объявления о продаже которых публиковались по воскресеньям, продавались в среднем по более высокой цене. То же верно и для объявлений, опубликованных в начале осени. В период 2015-2019 гг. в среднем такие квартиры продавались дороже."
   ]
  },
  {
   "cell_type": "markdown",
   "metadata": {},
   "source": [
    "## Общий вывод"
   ]
  },
  {
   "cell_type": "markdown",
   "metadata": {},
   "source": [
    "- Чаще всего квартиру продают за 95 дней. Если меньше 45 дней, то это быстро, если дольше 230 дней - это слишком долго.\n",
    "Есть большое число квартир, проданных всего за несколько дней после публикации.\n",
    "Также есть варианты, которые продавались несколько десятков месяцев.\n",
    "\n",
    "\n",
    "- На стоимость больше влияет площадь квартиры, чем число комнат. Т.е. могут быть дорогие квартиры с малым числом комнат, но где комнаты просторные.\n",
    "\n",
    "\n",
    "- Первый этаж значительно дешевле остальных вариантов. Также стоимость квартиры на последнем этаже ниже, чем на остальных, кроме первого.\n",
    "\n",
    "\n",
    "- Стоимость квадратного метра в топ-10 населённых пунктов: \n",
    "    дороже всего квадратный метр в Санкт-Петербурге - 115 тыс.,\n",
    "    дешевле всего - в Выборге - 58 тыс.\n",
    "\n",
    "\n",
    "- Факторы, влияющие на стоимость в центре Санкт-Петербурга (в пределах 7-километрового радиуса):\n",
    "\n",
    "    - В центральной зоне практически нет разницы, насколько квартира удалена от условного центра города.\n",
    "\n",
    "    - В центре последний этаж практически не влияет на стоимость квартиры, в отличие от остального города.\n",
    "\n",
    "    - В центре есть очень дорогие однокомнатные квартиры.\n",
    "\n",
    "    - Экономическая ситуация в стране мало влияет на элитную недвижимость в центре."
   ]
  }
 ],
 "metadata": {
  "ExecuteTimeLog": [
   {
    "duration": 407,
    "start_time": "2022-05-16T10:52:17.522Z"
   },
   {
    "duration": 71,
    "start_time": "2022-05-16T10:52:18.773Z"
   },
   {
    "duration": 16,
    "start_time": "2022-05-16T10:52:19.715Z"
   },
   {
    "duration": 86,
    "start_time": "2022-05-16T11:11:41.470Z"
   },
   {
    "duration": 28,
    "start_time": "2022-05-16T11:12:00.043Z"
   },
   {
    "duration": 64,
    "start_time": "2022-05-16T11:12:12.179Z"
   },
   {
    "duration": 82,
    "start_time": "2022-05-16T11:12:18.105Z"
   },
   {
    "duration": 28,
    "start_time": "2022-05-16T11:12:43.687Z"
   },
   {
    "duration": 401,
    "start_time": "2022-05-16T11:15:26.654Z"
   },
   {
    "duration": 74,
    "start_time": "2022-05-16T11:15:27.231Z"
   },
   {
    "duration": 7,
    "start_time": "2022-05-16T11:15:27.985Z"
   },
   {
    "duration": 134,
    "start_time": "2022-05-16T11:15:31.416Z"
   },
   {
    "duration": 83,
    "start_time": "2022-05-16T11:15:35.637Z"
   },
   {
    "duration": 27,
    "start_time": "2022-05-16T11:15:36.745Z"
   },
   {
    "duration": 35,
    "start_time": "2022-05-16T11:16:25.288Z"
   },
   {
    "duration": 16,
    "start_time": "2022-05-16T11:17:29.794Z"
   },
   {
    "duration": 14,
    "start_time": "2022-05-16T11:27:32.299Z"
   },
   {
    "duration": 14,
    "start_time": "2022-05-16T11:27:37.359Z"
   },
   {
    "duration": 14,
    "start_time": "2022-05-16T11:29:46.196Z"
   },
   {
    "duration": 4,
    "start_time": "2022-05-16T12:04:42.179Z"
   },
   {
    "duration": 84,
    "start_time": "2022-05-16T12:06:35.101Z"
   },
   {
    "duration": 4,
    "start_time": "2022-05-16T12:07:23.556Z"
   },
   {
    "duration": 9,
    "start_time": "2022-05-16T12:09:29.286Z"
   },
   {
    "duration": 9,
    "start_time": "2022-05-16T12:10:05.667Z"
   },
   {
    "duration": 10,
    "start_time": "2022-05-16T12:10:13.722Z"
   },
   {
    "duration": 8,
    "start_time": "2022-05-16T12:10:25.577Z"
   },
   {
    "duration": 33,
    "start_time": "2022-05-16T12:10:52.665Z"
   },
   {
    "duration": 1277,
    "start_time": "2022-05-16T12:12:21.593Z"
   },
   {
    "duration": 64,
    "start_time": "2022-05-16T12:17:04.160Z"
   },
   {
    "duration": 14,
    "start_time": "2022-05-16T12:17:19.121Z"
   },
   {
    "duration": 60,
    "start_time": "2022-05-16T12:21:36.693Z"
   },
   {
    "duration": 63,
    "start_time": "2022-05-16T12:21:51.024Z"
   },
   {
    "duration": 74,
    "start_time": "2022-05-16T12:21:57.935Z"
   },
   {
    "duration": 73,
    "start_time": "2022-05-16T12:22:23.902Z"
   },
   {
    "duration": 29,
    "start_time": "2022-05-16T12:22:29.838Z"
   },
   {
    "duration": 69,
    "start_time": "2022-05-16T12:42:41.878Z"
   },
   {
    "duration": 4,
    "start_time": "2022-05-16T12:45:55.370Z"
   },
   {
    "duration": 4,
    "start_time": "2022-05-16T12:46:00.870Z"
   },
   {
    "duration": 72,
    "start_time": "2022-05-16T12:49:00.988Z"
   },
   {
    "duration": 3,
    "start_time": "2022-05-16T13:27:42.062Z"
   },
   {
    "duration": 6,
    "start_time": "2022-05-16T13:39:28.137Z"
   },
   {
    "duration": 8,
    "start_time": "2022-05-16T13:39:52.563Z"
   },
   {
    "duration": 6,
    "start_time": "2022-05-16T13:40:09.374Z"
   },
   {
    "duration": 8,
    "start_time": "2022-05-16T13:40:31.485Z"
   },
   {
    "duration": 3,
    "start_time": "2022-05-16T14:01:54.744Z"
   },
   {
    "duration": 67,
    "start_time": "2022-05-16T14:01:54.929Z"
   },
   {
    "duration": 6,
    "start_time": "2022-05-16T14:01:55.060Z"
   },
   {
    "duration": 63,
    "start_time": "2022-05-16T14:01:55.673Z"
   },
   {
    "duration": 23,
    "start_time": "2022-05-16T14:01:55.987Z"
   },
   {
    "duration": 4,
    "start_time": "2022-05-16T14:01:56.624Z"
   },
   {
    "duration": 13,
    "start_time": "2022-05-16T14:01:57.725Z"
   },
   {
    "duration": 9,
    "start_time": "2022-05-16T14:01:59.085Z"
   },
   {
    "duration": 30,
    "start_time": "2022-05-16T14:02:00.101Z"
   },
   {
    "duration": 67,
    "start_time": "2022-05-16T14:02:01.447Z"
   },
   {
    "duration": 3,
    "start_time": "2022-05-16T14:02:07.664Z"
   },
   {
    "duration": 784,
    "start_time": "2022-05-18T15:08:38.183Z"
   },
   {
    "duration": 315,
    "start_time": "2022-05-18T15:08:38.969Z"
   },
   {
    "duration": 9,
    "start_time": "2022-05-18T15:08:39.286Z"
   },
   {
    "duration": 69,
    "start_time": "2022-05-18T15:08:39.296Z"
   },
   {
    "duration": 24,
    "start_time": "2022-05-18T15:08:39.367Z"
   },
   {
    "duration": 12,
    "start_time": "2022-05-18T15:08:39.392Z"
   },
   {
    "duration": 34,
    "start_time": "2022-05-18T15:08:39.405Z"
   },
   {
    "duration": 10,
    "start_time": "2022-05-18T15:08:39.441Z"
   },
   {
    "duration": 34,
    "start_time": "2022-05-18T15:08:39.452Z"
   },
   {
    "duration": 80,
    "start_time": "2022-05-18T15:08:39.488Z"
   },
   {
    "duration": 46,
    "start_time": "2022-05-18T15:08:39.569Z"
   },
   {
    "duration": 109,
    "start_time": "2022-05-18T15:08:39.616Z"
   },
   {
    "duration": 5,
    "start_time": "2022-05-18T15:08:39.726Z"
   },
   {
    "duration": 1897,
    "start_time": "2022-05-18T15:08:39.732Z"
   },
   {
    "duration": 5,
    "start_time": "2022-05-18T15:08:41.631Z"
   },
   {
    "duration": 6,
    "start_time": "2022-05-18T15:08:41.637Z"
   },
   {
    "duration": 8,
    "start_time": "2022-05-18T15:08:41.660Z"
   },
   {
    "duration": 13,
    "start_time": "2022-05-18T15:08:41.669Z"
   },
   {
    "duration": 11,
    "start_time": "2022-05-18T15:08:41.684Z"
   },
   {
    "duration": 105,
    "start_time": "2022-05-18T15:08:41.696Z"
   },
   {
    "duration": 3050,
    "start_time": "2022-05-18T15:08:41.802Z"
   },
   {
    "duration": 10,
    "start_time": "2022-05-18T15:08:44.853Z"
   },
   {
    "duration": 24,
    "start_time": "2022-05-18T15:08:44.864Z"
   },
   {
    "duration": 25,
    "start_time": "2022-05-18T15:08:44.890Z"
   },
   {
    "duration": 45,
    "start_time": "2022-05-18T15:08:44.916Z"
   },
   {
    "duration": 16,
    "start_time": "2022-05-18T15:08:44.962Z"
   },
   {
    "duration": 61,
    "start_time": "2022-05-18T15:08:44.979Z"
   },
   {
    "duration": 35,
    "start_time": "2022-05-18T15:08:45.044Z"
   },
   {
    "duration": 31,
    "start_time": "2022-05-18T15:08:45.080Z"
   },
   {
    "duration": 36,
    "start_time": "2022-05-18T15:08:45.112Z"
   },
   {
    "duration": 101,
    "start_time": "2022-05-18T15:08:45.150Z"
   },
   {
    "duration": 78,
    "start_time": "2022-05-18T15:08:45.252Z"
   },
   {
    "duration": 3122,
    "start_time": "2022-05-18T15:08:45.332Z"
   },
   {
    "duration": 2449,
    "start_time": "2022-05-18T15:08:48.456Z"
   },
   {
    "duration": 5,
    "start_time": "2022-05-18T15:08:50.907Z"
   },
   {
    "duration": 19,
    "start_time": "2022-05-18T15:08:50.914Z"
   },
   {
    "duration": 101,
    "start_time": "2022-05-18T15:08:50.934Z"
   },
   {
    "duration": 56,
    "start_time": "2022-05-18T15:08:51.037Z"
   },
   {
    "duration": 20,
    "start_time": "2022-05-18T15:08:51.095Z"
   },
   {
    "duration": 14,
    "start_time": "2022-05-18T15:08:51.117Z"
   },
   {
    "duration": 36,
    "start_time": "2022-05-18T15:08:51.132Z"
   },
   {
    "duration": 26,
    "start_time": "2022-05-18T15:08:51.170Z"
   },
   {
    "duration": 22,
    "start_time": "2022-05-18T15:08:51.197Z"
   },
   {
    "duration": 20,
    "start_time": "2022-05-18T15:08:51.220Z"
   },
   {
    "duration": 33,
    "start_time": "2022-05-18T15:08:51.241Z"
   },
   {
    "duration": 23,
    "start_time": "2022-05-18T15:08:51.276Z"
   },
   {
    "duration": 32,
    "start_time": "2022-05-18T15:08:51.301Z"
   },
   {
    "duration": 37,
    "start_time": "2022-05-18T15:08:51.335Z"
   },
   {
    "duration": 44,
    "start_time": "2022-05-18T15:08:51.374Z"
   },
   {
    "duration": 353,
    "start_time": "2022-05-18T15:08:51.420Z"
   },
   {
    "duration": 20,
    "start_time": "2022-05-18T15:08:51.775Z"
   },
   {
    "duration": 241,
    "start_time": "2022-05-18T15:08:51.796Z"
   },
   {
    "duration": 223,
    "start_time": "2022-05-18T15:08:52.039Z"
   },
   {
    "duration": 161,
    "start_time": "2022-05-18T15:08:52.264Z"
   },
   {
    "duration": 186,
    "start_time": "2022-05-18T15:08:52.427Z"
   },
   {
    "duration": 145,
    "start_time": "2022-05-18T15:08:52.614Z"
   },
   {
    "duration": 140,
    "start_time": "2022-05-18T15:08:52.760Z"
   },
   {
    "duration": 184,
    "start_time": "2022-05-18T15:08:52.902Z"
   },
   {
    "duration": 228,
    "start_time": "2022-05-18T15:08:53.088Z"
   },
   {
    "duration": 121,
    "start_time": "2022-05-18T15:08:53.318Z"
   },
   {
    "duration": 145,
    "start_time": "2022-05-18T15:08:53.441Z"
   },
   {
    "duration": 226,
    "start_time": "2022-05-18T15:08:53.587Z"
   },
   {
    "duration": 165,
    "start_time": "2022-05-18T15:08:53.815Z"
   },
   {
    "duration": 159,
    "start_time": "2022-05-18T15:08:53.981Z"
   },
   {
    "duration": 141,
    "start_time": "2022-05-18T15:08:54.142Z"
   },
   {
    "duration": 158,
    "start_time": "2022-05-18T15:08:54.284Z"
   },
   {
    "duration": 149,
    "start_time": "2022-05-18T15:08:54.444Z"
   },
   {
    "duration": 150,
    "start_time": "2022-05-18T15:08:54.595Z"
   },
   {
    "duration": 136,
    "start_time": "2022-05-18T15:08:54.747Z"
   },
   {
    "duration": 21,
    "start_time": "2022-05-18T15:08:54.885Z"
   },
   {
    "duration": 172,
    "start_time": "2022-05-18T15:08:54.908Z"
   },
   {
    "duration": 211,
    "start_time": "2022-05-18T15:08:55.081Z"
   },
   {
    "duration": 288,
    "start_time": "2022-05-18T15:08:55.293Z"
   },
   {
    "duration": 31,
    "start_time": "2022-05-18T15:08:55.582Z"
   },
   {
    "duration": 14,
    "start_time": "2022-05-18T15:08:55.614Z"
   },
   {
    "duration": 145,
    "start_time": "2022-05-18T15:08:55.629Z"
   },
   {
    "duration": 163,
    "start_time": "2022-05-18T15:08:55.776Z"
   },
   {
    "duration": 152,
    "start_time": "2022-05-18T15:08:55.940Z"
   },
   {
    "duration": 166,
    "start_time": "2022-05-18T15:08:56.093Z"
   },
   {
    "duration": 140,
    "start_time": "2022-05-18T15:08:56.261Z"
   },
   {
    "duration": 162,
    "start_time": "2022-05-18T15:08:56.403Z"
   },
   {
    "duration": 165,
    "start_time": "2022-05-18T15:08:56.570Z"
   },
   {
    "duration": 166,
    "start_time": "2022-05-18T15:08:56.737Z"
   },
   {
    "duration": 161,
    "start_time": "2022-05-18T15:08:56.904Z"
   },
   {
    "duration": 8,
    "start_time": "2022-05-18T15:20:11.551Z"
   },
   {
    "duration": 656,
    "start_time": "2022-05-18T15:21:34.032Z"
   },
   {
    "duration": 82,
    "start_time": "2022-05-18T15:21:34.691Z"
   },
   {
    "duration": 9,
    "start_time": "2022-05-18T15:21:34.774Z"
   },
   {
    "duration": 76,
    "start_time": "2022-05-18T15:21:34.784Z"
   },
   {
    "duration": 22,
    "start_time": "2022-05-18T15:21:34.862Z"
   },
   {
    "duration": 4,
    "start_time": "2022-05-18T15:21:34.886Z"
   },
   {
    "duration": 28,
    "start_time": "2022-05-18T15:21:34.891Z"
   },
   {
    "duration": 14,
    "start_time": "2022-05-18T15:21:34.920Z"
   },
   {
    "duration": 33,
    "start_time": "2022-05-18T15:21:34.935Z"
   },
   {
    "duration": 67,
    "start_time": "2022-05-18T15:21:34.970Z"
   },
   {
    "duration": 60,
    "start_time": "2022-05-18T15:21:35.039Z"
   },
   {
    "duration": 99,
    "start_time": "2022-05-18T15:21:35.100Z"
   },
   {
    "duration": 5,
    "start_time": "2022-05-18T15:21:35.201Z"
   },
   {
    "duration": 1841,
    "start_time": "2022-05-18T15:21:35.209Z"
   },
   {
    "duration": 9,
    "start_time": "2022-05-18T15:21:37.052Z"
   },
   {
    "duration": 17,
    "start_time": "2022-05-18T15:21:37.062Z"
   },
   {
    "duration": 15,
    "start_time": "2022-05-18T15:21:37.080Z"
   },
   {
    "duration": 7,
    "start_time": "2022-05-18T15:21:37.096Z"
   },
   {
    "duration": 18,
    "start_time": "2022-05-18T15:21:37.104Z"
   },
   {
    "duration": 83,
    "start_time": "2022-05-18T15:21:37.124Z"
   },
   {
    "duration": 3097,
    "start_time": "2022-05-18T15:21:37.208Z"
   },
   {
    "duration": 5,
    "start_time": "2022-05-18T15:21:40.307Z"
   },
   {
    "duration": 9,
    "start_time": "2022-05-18T15:21:40.314Z"
   },
   {
    "duration": 7,
    "start_time": "2022-05-18T15:21:40.325Z"
   },
   {
    "duration": 26,
    "start_time": "2022-05-18T15:21:40.334Z"
   },
   {
    "duration": 14,
    "start_time": "2022-05-18T15:21:40.362Z"
   },
   {
    "duration": 11,
    "start_time": "2022-05-18T15:21:40.377Z"
   },
   {
    "duration": 5,
    "start_time": "2022-05-18T15:21:40.390Z"
   },
   {
    "duration": 8,
    "start_time": "2022-05-18T15:21:40.396Z"
   },
   {
    "duration": 14,
    "start_time": "2022-05-18T15:21:40.405Z"
   },
   {
    "duration": 96,
    "start_time": "2022-05-18T15:21:40.421Z"
   },
   {
    "duration": 85,
    "start_time": "2022-05-18T15:21:40.519Z"
   },
   {
    "duration": 3188,
    "start_time": "2022-05-18T15:21:40.606Z"
   },
   {
    "duration": 2444,
    "start_time": "2022-05-18T15:21:43.795Z"
   },
   {
    "duration": 4,
    "start_time": "2022-05-18T15:21:46.241Z"
   },
   {
    "duration": 26,
    "start_time": "2022-05-18T15:21:46.247Z"
   },
   {
    "duration": 91,
    "start_time": "2022-05-18T15:21:46.275Z"
   },
   {
    "duration": 55,
    "start_time": "2022-05-18T15:21:46.368Z"
   },
   {
    "duration": 21,
    "start_time": "2022-05-18T15:21:46.424Z"
   },
   {
    "duration": 6,
    "start_time": "2022-05-18T15:21:46.459Z"
   },
   {
    "duration": 23,
    "start_time": "2022-05-18T15:21:46.469Z"
   },
   {
    "duration": 21,
    "start_time": "2022-05-18T15:21:46.493Z"
   },
   {
    "duration": 19,
    "start_time": "2022-05-18T15:21:46.515Z"
   },
   {
    "duration": 21,
    "start_time": "2022-05-18T15:21:46.535Z"
   },
   {
    "duration": 25,
    "start_time": "2022-05-18T15:21:46.557Z"
   },
   {
    "duration": 21,
    "start_time": "2022-05-18T15:21:46.583Z"
   },
   {
    "duration": 36,
    "start_time": "2022-05-18T15:21:46.606Z"
   },
   {
    "duration": 11,
    "start_time": "2022-05-18T15:21:46.644Z"
   },
   {
    "duration": 27,
    "start_time": "2022-05-18T15:21:46.656Z"
   },
   {
    "duration": 309,
    "start_time": "2022-05-18T15:21:46.685Z"
   },
   {
    "duration": 20,
    "start_time": "2022-05-18T15:21:46.996Z"
   },
   {
    "duration": 235,
    "start_time": "2022-05-18T15:21:47.018Z"
   },
   {
    "duration": 210,
    "start_time": "2022-05-18T15:21:47.254Z"
   },
   {
    "duration": 157,
    "start_time": "2022-05-18T15:21:47.466Z"
   },
   {
    "duration": 185,
    "start_time": "2022-05-18T15:21:47.625Z"
   },
   {
    "duration": 182,
    "start_time": "2022-05-18T15:21:47.812Z"
   },
   {
    "duration": 170,
    "start_time": "2022-05-18T15:21:47.996Z"
   },
   {
    "duration": 186,
    "start_time": "2022-05-18T15:21:48.167Z"
   },
   {
    "duration": 233,
    "start_time": "2022-05-18T15:21:48.358Z"
   },
   {
    "duration": 123,
    "start_time": "2022-05-18T15:21:48.592Z"
   },
   {
    "duration": 139,
    "start_time": "2022-05-18T15:21:48.717Z"
   },
   {
    "duration": 218,
    "start_time": "2022-05-18T15:21:48.858Z"
   },
   {
    "duration": 165,
    "start_time": "2022-05-18T15:21:49.078Z"
   },
   {
    "duration": 159,
    "start_time": "2022-05-18T15:21:49.244Z"
   },
   {
    "duration": 144,
    "start_time": "2022-05-18T15:21:49.405Z"
   },
   {
    "duration": 156,
    "start_time": "2022-05-18T15:21:49.551Z"
   },
   {
    "duration": 162,
    "start_time": "2022-05-18T15:21:49.709Z"
   },
   {
    "duration": 139,
    "start_time": "2022-05-18T15:21:49.873Z"
   },
   {
    "duration": 133,
    "start_time": "2022-05-18T15:21:50.014Z"
   },
   {
    "duration": 25,
    "start_time": "2022-05-18T15:21:50.149Z"
   },
   {
    "duration": 151,
    "start_time": "2022-05-18T15:21:50.176Z"
   },
   {
    "duration": 206,
    "start_time": "2022-05-18T15:21:50.328Z"
   },
   {
    "duration": 279,
    "start_time": "2022-05-18T15:21:50.536Z"
   },
   {
    "duration": 30,
    "start_time": "2022-05-18T15:21:50.816Z"
   },
   {
    "duration": 25,
    "start_time": "2022-05-18T15:21:50.847Z"
   },
   {
    "duration": 140,
    "start_time": "2022-05-18T15:21:50.873Z"
   },
   {
    "duration": 166,
    "start_time": "2022-05-18T15:21:51.014Z"
   },
   {
    "duration": 163,
    "start_time": "2022-05-18T15:21:51.182Z"
   },
   {
    "duration": 174,
    "start_time": "2022-05-18T15:21:51.346Z"
   },
   {
    "duration": 156,
    "start_time": "2022-05-18T15:21:51.522Z"
   },
   {
    "duration": 185,
    "start_time": "2022-05-18T15:21:51.680Z"
   },
   {
    "duration": 148,
    "start_time": "2022-05-18T15:21:51.867Z"
   },
   {
    "duration": 173,
    "start_time": "2022-05-18T15:21:52.017Z"
   },
   {
    "duration": 161,
    "start_time": "2022-05-18T15:21:52.192Z"
   },
   {
    "duration": 621,
    "start_time": "2022-05-18T15:23:12.691Z"
   },
   {
    "duration": 79,
    "start_time": "2022-05-18T15:23:13.314Z"
   },
   {
    "duration": 10,
    "start_time": "2022-05-18T15:23:13.395Z"
   },
   {
    "duration": 72,
    "start_time": "2022-05-18T15:23:13.407Z"
   },
   {
    "duration": 24,
    "start_time": "2022-05-18T15:23:13.481Z"
   },
   {
    "duration": 6,
    "start_time": "2022-05-18T15:23:13.506Z"
   },
   {
    "duration": 16,
    "start_time": "2022-05-18T15:23:13.514Z"
   },
   {
    "duration": 7,
    "start_time": "2022-05-18T15:23:13.531Z"
   },
   {
    "duration": 45,
    "start_time": "2022-05-18T15:23:13.539Z"
   },
   {
    "duration": 78,
    "start_time": "2022-05-18T15:23:13.586Z"
   },
   {
    "duration": 47,
    "start_time": "2022-05-18T15:23:13.665Z"
   },
   {
    "duration": 102,
    "start_time": "2022-05-18T15:23:13.714Z"
   },
   {
    "duration": 4,
    "start_time": "2022-05-18T15:23:13.818Z"
   },
   {
    "duration": 1837,
    "start_time": "2022-05-18T15:23:13.825Z"
   },
   {
    "duration": 6,
    "start_time": "2022-05-18T15:23:15.664Z"
   },
   {
    "duration": 4,
    "start_time": "2022-05-18T15:23:15.671Z"
   },
   {
    "duration": 8,
    "start_time": "2022-05-18T15:23:15.677Z"
   },
   {
    "duration": 5,
    "start_time": "2022-05-18T15:23:15.687Z"
   },
   {
    "duration": 14,
    "start_time": "2022-05-18T15:23:15.693Z"
   },
   {
    "duration": 99,
    "start_time": "2022-05-18T15:23:15.708Z"
   },
   {
    "duration": 3276,
    "start_time": "2022-05-18T15:23:15.808Z"
   },
   {
    "duration": 6,
    "start_time": "2022-05-18T15:23:19.086Z"
   },
   {
    "duration": 6,
    "start_time": "2022-05-18T15:23:19.094Z"
   },
   {
    "duration": 6,
    "start_time": "2022-05-18T15:23:19.102Z"
   },
   {
    "duration": 16,
    "start_time": "2022-05-18T15:23:19.109Z"
   },
   {
    "duration": 46,
    "start_time": "2022-05-18T15:23:19.126Z"
   },
   {
    "duration": 8,
    "start_time": "2022-05-18T15:23:19.174Z"
   },
   {
    "duration": 10,
    "start_time": "2022-05-18T15:23:19.183Z"
   },
   {
    "duration": 7,
    "start_time": "2022-05-18T15:23:19.194Z"
   },
   {
    "duration": 13,
    "start_time": "2022-05-18T15:23:19.203Z"
   },
   {
    "duration": 107,
    "start_time": "2022-05-18T15:23:19.217Z"
   },
   {
    "duration": 89,
    "start_time": "2022-05-18T15:23:19.326Z"
   },
   {
    "duration": 3228,
    "start_time": "2022-05-18T15:23:19.416Z"
   },
   {
    "duration": 2500,
    "start_time": "2022-05-18T15:23:22.646Z"
   },
   {
    "duration": 4,
    "start_time": "2022-05-18T15:23:25.148Z"
   },
   {
    "duration": 8,
    "start_time": "2022-05-18T15:23:25.159Z"
   },
   {
    "duration": 85,
    "start_time": "2022-05-18T15:23:25.168Z"
   },
   {
    "duration": 53,
    "start_time": "2022-05-18T15:23:25.255Z"
   },
   {
    "duration": 23,
    "start_time": "2022-05-18T15:23:25.309Z"
   },
   {
    "duration": 27,
    "start_time": "2022-05-18T15:23:25.333Z"
   },
   {
    "duration": 4,
    "start_time": "2022-05-18T15:23:25.364Z"
   },
   {
    "duration": 10,
    "start_time": "2022-05-18T15:23:25.370Z"
   },
   {
    "duration": 12,
    "start_time": "2022-05-18T15:23:25.382Z"
   },
   {
    "duration": 10,
    "start_time": "2022-05-18T15:23:25.395Z"
   },
   {
    "duration": 4,
    "start_time": "2022-05-18T15:23:25.406Z"
   },
   {
    "duration": 7,
    "start_time": "2022-05-18T15:23:25.412Z"
   },
   {
    "duration": 12,
    "start_time": "2022-05-18T15:23:25.420Z"
   },
   {
    "duration": 5,
    "start_time": "2022-05-18T15:23:25.433Z"
   },
   {
    "duration": 23,
    "start_time": "2022-05-18T15:23:25.439Z"
   },
   {
    "duration": 312,
    "start_time": "2022-05-18T15:23:25.463Z"
   },
   {
    "duration": 18,
    "start_time": "2022-05-18T15:23:25.777Z"
   },
   {
    "duration": 231,
    "start_time": "2022-05-18T15:23:25.797Z"
   },
   {
    "duration": 210,
    "start_time": "2022-05-18T15:23:26.030Z"
   },
   {
    "duration": 162,
    "start_time": "2022-05-18T15:23:26.242Z"
   },
   {
    "duration": 178,
    "start_time": "2022-05-18T15:23:26.406Z"
   },
   {
    "duration": 140,
    "start_time": "2022-05-18T15:23:26.586Z"
   },
   {
    "duration": 143,
    "start_time": "2022-05-18T15:23:26.728Z"
   },
   {
    "duration": 176,
    "start_time": "2022-05-18T15:23:26.873Z"
   },
   {
    "duration": 238,
    "start_time": "2022-05-18T15:23:27.051Z"
   },
   {
    "duration": 120,
    "start_time": "2022-05-18T15:23:27.290Z"
   },
   {
    "duration": 145,
    "start_time": "2022-05-18T15:23:27.412Z"
   },
   {
    "duration": 211,
    "start_time": "2022-05-18T15:23:27.559Z"
   },
   {
    "duration": 178,
    "start_time": "2022-05-18T15:23:27.771Z"
   },
   {
    "duration": 203,
    "start_time": "2022-05-18T15:23:27.951Z"
   },
   {
    "duration": 140,
    "start_time": "2022-05-18T15:23:28.158Z"
   },
   {
    "duration": 167,
    "start_time": "2022-05-18T15:23:28.299Z"
   },
   {
    "duration": 158,
    "start_time": "2022-05-18T15:23:28.467Z"
   },
   {
    "duration": 150,
    "start_time": "2022-05-18T15:23:28.627Z"
   },
   {
    "duration": 135,
    "start_time": "2022-05-18T15:23:28.778Z"
   },
   {
    "duration": 21,
    "start_time": "2022-05-18T15:23:28.915Z"
   },
   {
    "duration": 166,
    "start_time": "2022-05-18T15:23:28.938Z"
   },
   {
    "duration": 208,
    "start_time": "2022-05-18T15:23:29.106Z"
   },
   {
    "duration": 299,
    "start_time": "2022-05-18T15:23:29.316Z"
   },
   {
    "duration": 42,
    "start_time": "2022-05-18T15:23:29.617Z"
   },
   {
    "duration": 15,
    "start_time": "2022-05-18T15:23:29.661Z"
   },
   {
    "duration": 135,
    "start_time": "2022-05-18T15:23:29.677Z"
   },
   {
    "duration": 163,
    "start_time": "2022-05-18T15:23:29.814Z"
   },
   {
    "duration": 146,
    "start_time": "2022-05-18T15:23:29.978Z"
   },
   {
    "duration": 161,
    "start_time": "2022-05-18T15:23:30.125Z"
   },
   {
    "duration": 147,
    "start_time": "2022-05-18T15:23:30.288Z"
   },
   {
    "duration": 156,
    "start_time": "2022-05-18T15:23:30.437Z"
   },
   {
    "duration": 154,
    "start_time": "2022-05-18T15:23:30.594Z"
   },
   {
    "duration": 152,
    "start_time": "2022-05-18T15:23:30.749Z"
   },
   {
    "duration": 161,
    "start_time": "2022-05-18T15:23:30.902Z"
   },
   {
    "duration": 13,
    "start_time": "2022-05-18T15:31:14.259Z"
   },
   {
    "duration": 19,
    "start_time": "2022-05-18T15:35:18.738Z"
   },
   {
    "duration": 8,
    "start_time": "2022-05-18T15:36:09.670Z"
   },
   {
    "duration": 612,
    "start_time": "2022-05-18T15:36:25.082Z"
   },
   {
    "duration": 80,
    "start_time": "2022-05-18T15:36:25.696Z"
   },
   {
    "duration": 9,
    "start_time": "2022-05-18T15:36:25.777Z"
   },
   {
    "duration": 74,
    "start_time": "2022-05-18T15:36:25.788Z"
   },
   {
    "duration": 30,
    "start_time": "2022-05-18T15:36:25.865Z"
   },
   {
    "duration": 4,
    "start_time": "2022-05-18T15:36:25.897Z"
   },
   {
    "duration": 16,
    "start_time": "2022-05-18T15:36:25.903Z"
   },
   {
    "duration": 8,
    "start_time": "2022-05-18T15:36:25.920Z"
   },
   {
    "duration": 58,
    "start_time": "2022-05-18T15:36:25.929Z"
   },
   {
    "duration": 73,
    "start_time": "2022-05-18T15:36:25.988Z"
   },
   {
    "duration": 48,
    "start_time": "2022-05-18T15:36:26.062Z"
   },
   {
    "duration": 113,
    "start_time": "2022-05-18T15:36:26.112Z"
   },
   {
    "duration": 5,
    "start_time": "2022-05-18T15:36:26.226Z"
   },
   {
    "duration": 1799,
    "start_time": "2022-05-18T15:36:26.233Z"
   },
   {
    "duration": 8,
    "start_time": "2022-05-18T15:36:28.034Z"
   },
   {
    "duration": 22,
    "start_time": "2022-05-18T15:36:28.044Z"
   },
   {
    "duration": 25,
    "start_time": "2022-05-18T15:36:28.069Z"
   },
   {
    "duration": 19,
    "start_time": "2022-05-18T15:36:28.095Z"
   },
   {
    "duration": 39,
    "start_time": "2022-05-18T15:36:28.116Z"
   },
   {
    "duration": 86,
    "start_time": "2022-05-18T15:36:28.156Z"
   },
   {
    "duration": 2902,
    "start_time": "2022-05-18T15:36:28.243Z"
   },
   {
    "duration": 6,
    "start_time": "2022-05-18T15:36:31.146Z"
   },
   {
    "duration": 17,
    "start_time": "2022-05-18T15:36:31.153Z"
   },
   {
    "duration": 12,
    "start_time": "2022-05-18T15:36:31.171Z"
   },
   {
    "duration": 18,
    "start_time": "2022-05-18T15:36:31.184Z"
   },
   {
    "duration": 11,
    "start_time": "2022-05-18T15:36:31.203Z"
   },
   {
    "duration": 11,
    "start_time": "2022-05-18T15:36:31.216Z"
   },
   {
    "duration": 9,
    "start_time": "2022-05-18T15:36:31.229Z"
   },
   {
    "duration": 11,
    "start_time": "2022-05-18T15:36:31.240Z"
   },
   {
    "duration": 14,
    "start_time": "2022-05-18T15:36:31.252Z"
   },
   {
    "duration": 91,
    "start_time": "2022-05-18T15:36:31.267Z"
   },
   {
    "duration": 74,
    "start_time": "2022-05-18T15:36:31.359Z"
   },
   {
    "duration": 2974,
    "start_time": "2022-05-18T15:36:31.434Z"
   },
   {
    "duration": 2267,
    "start_time": "2022-05-18T15:36:34.410Z"
   },
   {
    "duration": 4,
    "start_time": "2022-05-18T15:36:36.678Z"
   },
   {
    "duration": 7,
    "start_time": "2022-05-18T15:36:36.683Z"
   },
   {
    "duration": 90,
    "start_time": "2022-05-18T15:36:36.692Z"
   },
   {
    "duration": 47,
    "start_time": "2022-05-18T15:36:36.784Z"
   },
   {
    "duration": 32,
    "start_time": "2022-05-18T15:36:36.832Z"
   },
   {
    "duration": 7,
    "start_time": "2022-05-18T15:36:36.865Z"
   },
   {
    "duration": 4,
    "start_time": "2022-05-18T15:36:36.876Z"
   },
   {
    "duration": 12,
    "start_time": "2022-05-18T15:36:36.882Z"
   },
   {
    "duration": 10,
    "start_time": "2022-05-18T15:36:36.895Z"
   },
   {
    "duration": 5,
    "start_time": "2022-05-18T15:36:36.907Z"
   },
   {
    "duration": 7,
    "start_time": "2022-05-18T15:36:36.914Z"
   },
   {
    "duration": 6,
    "start_time": "2022-05-18T15:36:36.923Z"
   },
   {
    "duration": 11,
    "start_time": "2022-05-18T15:36:36.959Z"
   },
   {
    "duration": 5,
    "start_time": "2022-05-18T15:36:36.972Z"
   },
   {
    "duration": 7,
    "start_time": "2022-05-18T15:36:36.978Z"
   },
   {
    "duration": 299,
    "start_time": "2022-05-18T15:36:36.986Z"
   },
   {
    "duration": 18,
    "start_time": "2022-05-18T15:36:37.287Z"
   },
   {
    "duration": 16,
    "start_time": "2022-05-18T15:36:37.307Z"
   },
   {
    "duration": 213,
    "start_time": "2022-05-18T15:36:37.324Z"
   },
   {
    "duration": 202,
    "start_time": "2022-05-18T15:36:37.539Z"
   },
   {
    "duration": 178,
    "start_time": "2022-05-18T15:36:37.742Z"
   },
   {
    "duration": 221,
    "start_time": "2022-05-18T15:36:37.922Z"
   },
   {
    "duration": 141,
    "start_time": "2022-05-18T15:36:38.145Z"
   },
   {
    "duration": 134,
    "start_time": "2022-05-18T15:36:38.287Z"
   },
   {
    "duration": 176,
    "start_time": "2022-05-18T15:36:38.423Z"
   },
   {
    "duration": 234,
    "start_time": "2022-05-18T15:36:38.601Z"
   },
   {
    "duration": 132,
    "start_time": "2022-05-18T15:36:38.836Z"
   },
   {
    "duration": 143,
    "start_time": "2022-05-18T15:36:38.969Z"
   },
   {
    "duration": 208,
    "start_time": "2022-05-18T15:36:39.114Z"
   },
   {
    "duration": 158,
    "start_time": "2022-05-18T15:36:39.324Z"
   },
   {
    "duration": 146,
    "start_time": "2022-05-18T15:36:39.483Z"
   },
   {
    "duration": 128,
    "start_time": "2022-05-18T15:36:39.631Z"
   },
   {
    "duration": 147,
    "start_time": "2022-05-18T15:36:39.761Z"
   },
   {
    "duration": 133,
    "start_time": "2022-05-18T15:36:39.909Z"
   },
   {
    "duration": 133,
    "start_time": "2022-05-18T15:36:40.044Z"
   },
   {
    "duration": 123,
    "start_time": "2022-05-18T15:36:40.179Z"
   },
   {
    "duration": 20,
    "start_time": "2022-05-18T15:36:40.303Z"
   },
   {
    "duration": 153,
    "start_time": "2022-05-18T15:36:40.325Z"
   },
   {
    "duration": 185,
    "start_time": "2022-05-18T15:36:40.480Z"
   },
   {
    "duration": 283,
    "start_time": "2022-05-18T15:36:40.667Z"
   },
   {
    "duration": 38,
    "start_time": "2022-05-18T15:36:40.951Z"
   },
   {
    "duration": 15,
    "start_time": "2022-05-18T15:36:40.990Z"
   },
   {
    "duration": 132,
    "start_time": "2022-05-18T15:36:41.006Z"
   },
   {
    "duration": 153,
    "start_time": "2022-05-18T15:36:41.139Z"
   },
   {
    "duration": 135,
    "start_time": "2022-05-18T15:36:41.294Z"
   },
   {
    "duration": 149,
    "start_time": "2022-05-18T15:36:41.431Z"
   },
   {
    "duration": 152,
    "start_time": "2022-05-18T15:36:41.581Z"
   },
   {
    "duration": 154,
    "start_time": "2022-05-18T15:36:41.735Z"
   },
   {
    "duration": 136,
    "start_time": "2022-05-18T15:36:41.891Z"
   },
   {
    "duration": 144,
    "start_time": "2022-05-18T15:36:42.029Z"
   },
   {
    "duration": 137,
    "start_time": "2022-05-18T15:36:42.175Z"
   },
   {
    "duration": 15,
    "start_time": "2022-05-18T15:36:58.116Z"
   },
   {
    "duration": 4,
    "start_time": "2022-05-18T15:42:19.668Z"
   },
   {
    "duration": 687,
    "start_time": "2022-05-18T15:55:11.370Z"
   },
   {
    "duration": 80,
    "start_time": "2022-05-18T15:55:12.058Z"
   },
   {
    "duration": 9,
    "start_time": "2022-05-18T15:55:12.140Z"
   },
   {
    "duration": 87,
    "start_time": "2022-05-18T15:55:12.151Z"
   },
   {
    "duration": 24,
    "start_time": "2022-05-18T15:55:12.240Z"
   },
   {
    "duration": 28,
    "start_time": "2022-05-18T15:55:12.266Z"
   },
   {
    "duration": 51,
    "start_time": "2022-05-18T15:55:12.296Z"
   },
   {
    "duration": 46,
    "start_time": "2022-05-18T15:55:12.349Z"
   },
   {
    "duration": 58,
    "start_time": "2022-05-18T15:55:12.397Z"
   },
   {
    "duration": 70,
    "start_time": "2022-05-18T15:55:12.457Z"
   },
   {
    "duration": 44,
    "start_time": "2022-05-18T15:55:12.528Z"
   },
   {
    "duration": 98,
    "start_time": "2022-05-18T15:55:12.574Z"
   },
   {
    "duration": 5,
    "start_time": "2022-05-18T15:55:12.673Z"
   },
   {
    "duration": 1823,
    "start_time": "2022-05-18T15:55:12.679Z"
   },
   {
    "duration": 5,
    "start_time": "2022-05-18T15:55:14.504Z"
   },
   {
    "duration": 12,
    "start_time": "2022-05-18T15:55:14.511Z"
   },
   {
    "duration": 22,
    "start_time": "2022-05-18T15:55:14.525Z"
   },
   {
    "duration": 6,
    "start_time": "2022-05-18T15:55:14.549Z"
   },
   {
    "duration": 26,
    "start_time": "2022-05-18T15:55:14.557Z"
   },
   {
    "duration": 80,
    "start_time": "2022-05-18T15:55:14.585Z"
   },
   {
    "duration": 2865,
    "start_time": "2022-05-18T15:55:14.666Z"
   },
   {
    "duration": 5,
    "start_time": "2022-05-18T15:55:17.533Z"
   },
   {
    "duration": 9,
    "start_time": "2022-05-18T15:55:17.540Z"
   },
   {
    "duration": 23,
    "start_time": "2022-05-18T15:55:17.551Z"
   },
   {
    "duration": 24,
    "start_time": "2022-05-18T15:55:17.576Z"
   },
   {
    "duration": 11,
    "start_time": "2022-05-18T15:55:17.601Z"
   },
   {
    "duration": 10,
    "start_time": "2022-05-18T15:55:17.613Z"
   },
   {
    "duration": 15,
    "start_time": "2022-05-18T15:55:17.626Z"
   },
   {
    "duration": 20,
    "start_time": "2022-05-18T15:55:17.642Z"
   },
   {
    "duration": 19,
    "start_time": "2022-05-18T15:55:17.663Z"
   },
   {
    "duration": 85,
    "start_time": "2022-05-18T15:55:17.683Z"
   },
   {
    "duration": 100,
    "start_time": "2022-05-18T15:55:17.769Z"
   },
   {
    "duration": 2941,
    "start_time": "2022-05-18T15:55:17.870Z"
   },
   {
    "duration": 2327,
    "start_time": "2022-05-18T15:55:20.812Z"
   },
   {
    "duration": 4,
    "start_time": "2022-05-18T15:55:23.140Z"
   },
   {
    "duration": 26,
    "start_time": "2022-05-18T15:55:23.145Z"
   },
   {
    "duration": 88,
    "start_time": "2022-05-18T15:55:23.172Z"
   },
   {
    "duration": 47,
    "start_time": "2022-05-18T15:55:23.262Z"
   },
   {
    "duration": 19,
    "start_time": "2022-05-18T15:55:23.310Z"
   },
   {
    "duration": 28,
    "start_time": "2022-05-18T15:55:23.331Z"
   },
   {
    "duration": 10,
    "start_time": "2022-05-18T15:55:23.360Z"
   },
   {
    "duration": 27,
    "start_time": "2022-05-18T15:55:23.371Z"
   },
   {
    "duration": 18,
    "start_time": "2022-05-18T15:55:23.399Z"
   },
   {
    "duration": 17,
    "start_time": "2022-05-18T15:55:23.419Z"
   },
   {
    "duration": 25,
    "start_time": "2022-05-18T15:55:23.437Z"
   },
   {
    "duration": 13,
    "start_time": "2022-05-18T15:55:23.464Z"
   },
   {
    "duration": 35,
    "start_time": "2022-05-18T15:55:23.478Z"
   },
   {
    "duration": 9,
    "start_time": "2022-05-18T15:55:23.514Z"
   },
   {
    "duration": 24,
    "start_time": "2022-05-18T15:55:23.525Z"
   },
   {
    "duration": 324,
    "start_time": "2022-05-18T15:55:23.550Z"
   },
   {
    "duration": 21,
    "start_time": "2022-05-18T15:55:23.876Z"
   },
   {
    "duration": 240,
    "start_time": "2022-05-18T15:55:23.899Z"
   },
   {
    "duration": 194,
    "start_time": "2022-05-18T15:55:24.140Z"
   },
   {
    "duration": 150,
    "start_time": "2022-05-18T15:55:24.335Z"
   },
   {
    "duration": 165,
    "start_time": "2022-05-18T15:55:24.486Z"
   },
   {
    "duration": 130,
    "start_time": "2022-05-18T15:55:24.653Z"
   },
   {
    "duration": 134,
    "start_time": "2022-05-18T15:55:24.784Z"
   },
   {
    "duration": 179,
    "start_time": "2022-05-18T15:55:24.919Z"
   },
   {
    "duration": 228,
    "start_time": "2022-05-18T15:55:25.100Z"
   },
   {
    "duration": 126,
    "start_time": "2022-05-18T15:55:25.329Z"
   },
   {
    "duration": 133,
    "start_time": "2022-05-18T15:55:25.458Z"
   },
   {
    "duration": 220,
    "start_time": "2022-05-18T15:55:25.593Z"
   },
   {
    "duration": 161,
    "start_time": "2022-05-18T15:55:25.814Z"
   },
   {
    "duration": 168,
    "start_time": "2022-05-18T15:55:25.977Z"
   },
   {
    "duration": 139,
    "start_time": "2022-05-18T15:55:26.148Z"
   },
   {
    "duration": 154,
    "start_time": "2022-05-18T15:55:26.288Z"
   },
   {
    "duration": 143,
    "start_time": "2022-05-18T15:55:26.444Z"
   },
   {
    "duration": 137,
    "start_time": "2022-05-18T15:55:26.589Z"
   },
   {
    "duration": 127,
    "start_time": "2022-05-18T15:55:26.727Z"
   },
   {
    "duration": 21,
    "start_time": "2022-05-18T15:55:26.860Z"
   },
   {
    "duration": 180,
    "start_time": "2022-05-18T15:55:26.883Z"
   },
   {
    "duration": 196,
    "start_time": "2022-05-18T15:55:27.064Z"
   },
   {
    "duration": 271,
    "start_time": "2022-05-18T15:55:27.262Z"
   },
   {
    "duration": 38,
    "start_time": "2022-05-18T15:55:27.534Z"
   },
   {
    "duration": 13,
    "start_time": "2022-05-18T15:55:27.573Z"
   },
   {
    "duration": 134,
    "start_time": "2022-05-18T15:55:27.588Z"
   },
   {
    "duration": 183,
    "start_time": "2022-05-18T15:55:27.724Z"
   },
   {
    "duration": 173,
    "start_time": "2022-05-18T15:55:27.909Z"
   },
   {
    "duration": 153,
    "start_time": "2022-05-18T15:55:28.083Z"
   },
   {
    "duration": 131,
    "start_time": "2022-05-18T15:55:28.237Z"
   },
   {
    "duration": 147,
    "start_time": "2022-05-18T15:55:28.370Z"
   },
   {
    "duration": 134,
    "start_time": "2022-05-18T15:55:28.522Z"
   },
   {
    "duration": 142,
    "start_time": "2022-05-18T15:55:28.658Z"
   },
   {
    "duration": 138,
    "start_time": "2022-05-18T15:55:28.802Z"
   },
   {
    "duration": 63,
    "start_time": "2022-05-20T13:13:58.590Z"
   },
   {
    "duration": 978,
    "start_time": "2022-05-20T13:25:29.802Z"
   },
   {
    "duration": 124,
    "start_time": "2022-05-20T13:25:30.783Z"
   },
   {
    "duration": 15,
    "start_time": "2022-05-20T13:25:30.909Z"
   },
   {
    "duration": 108,
    "start_time": "2022-05-20T13:25:30.926Z"
   },
   {
    "duration": 38,
    "start_time": "2022-05-20T13:25:31.037Z"
   },
   {
    "duration": 90,
    "start_time": "2022-05-20T13:25:31.077Z"
   },
   {
    "duration": 93,
    "start_time": "2022-05-20T13:25:31.169Z"
   },
   {
    "duration": 89,
    "start_time": "2022-05-20T13:25:31.264Z"
   },
   {
    "duration": 58,
    "start_time": "2022-05-20T13:25:31.355Z"
   },
   {
    "duration": 92,
    "start_time": "2022-05-20T13:25:31.415Z"
   },
   {
    "duration": 4,
    "start_time": "2022-05-20T13:25:31.509Z"
   },
   {
    "duration": 22,
    "start_time": "2022-05-20T13:25:31.515Z"
   },
   {
    "duration": 11,
    "start_time": "2022-05-20T13:25:31.539Z"
   },
   {
    "duration": 23,
    "start_time": "2022-05-20T13:25:31.554Z"
   },
   {
    "duration": 22,
    "start_time": "2022-05-20T13:25:31.579Z"
   },
   {
    "duration": 108,
    "start_time": "2022-05-20T13:25:31.603Z"
   },
   {
    "duration": 130,
    "start_time": "2022-05-20T13:25:31.713Z"
   },
   {
    "duration": 2362,
    "start_time": "2022-05-20T13:25:31.846Z"
   },
   {
    "duration": 4,
    "start_time": "2022-05-20T13:25:34.210Z"
   },
   {
    "duration": 28721,
    "start_time": "2022-05-20T13:25:34.216Z"
   },
   {
    "duration": 5,
    "start_time": "2022-05-20T13:26:02.940Z"
   },
   {
    "duration": 25,
    "start_time": "2022-05-20T13:26:02.947Z"
   },
   {
    "duration": 7,
    "start_time": "2022-05-20T13:26:02.974Z"
   },
   {
    "duration": 28,
    "start_time": "2022-05-20T13:26:02.997Z"
   },
   {
    "duration": 9,
    "start_time": "2022-05-20T13:26:03.027Z"
   },
   {
    "duration": 12,
    "start_time": "2022-05-20T13:26:03.039Z"
   },
   {
    "duration": 95,
    "start_time": "2022-05-20T13:26:03.053Z"
   },
   {
    "duration": 3464,
    "start_time": "2022-05-20T13:26:03.150Z"
   },
   {
    "duration": 4,
    "start_time": "2022-05-20T13:26:06.616Z"
   },
   {
    "duration": 11,
    "start_time": "2022-05-20T13:26:06.622Z"
   },
   {
    "duration": 9,
    "start_time": "2022-05-20T13:26:06.635Z"
   },
   {
    "duration": 6,
    "start_time": "2022-05-20T13:26:06.646Z"
   },
   {
    "duration": 12,
    "start_time": "2022-05-20T13:26:06.654Z"
   },
   {
    "duration": 14,
    "start_time": "2022-05-20T13:26:06.693Z"
   },
   {
    "duration": 21,
    "start_time": "2022-05-20T13:26:06.710Z"
   },
   {
    "duration": 21,
    "start_time": "2022-05-20T13:26:06.733Z"
   },
   {
    "duration": 39,
    "start_time": "2022-05-20T13:26:06.757Z"
   },
   {
    "duration": 13,
    "start_time": "2022-05-20T13:26:06.798Z"
   },
   {
    "duration": 13,
    "start_time": "2022-05-20T13:26:06.813Z"
   },
   {
    "duration": 12,
    "start_time": "2022-05-20T13:26:06.828Z"
   },
   {
    "duration": 55,
    "start_time": "2022-05-20T13:26:06.848Z"
   },
   {
    "duration": 26,
    "start_time": "2022-05-20T13:26:06.906Z"
   },
   {
    "duration": 48051,
    "start_time": "2022-05-20T13:26:06.934Z"
   },
   {
    "duration": 34321,
    "start_time": "2022-05-20T13:26:54.988Z"
   },
   {
    "duration": 97,
    "start_time": "2022-05-20T13:27:29.311Z"
   },
   {
    "duration": 47,
    "start_time": "2022-05-20T13:27:29.409Z"
   },
   {
    "duration": 37,
    "start_time": "2022-05-20T13:27:29.458Z"
   },
   {
    "duration": 5,
    "start_time": "2022-05-20T13:27:29.497Z"
   },
   {
    "duration": 11,
    "start_time": "2022-05-20T13:27:29.504Z"
   },
   {
    "duration": 106,
    "start_time": "2022-05-20T13:27:29.517Z"
   },
   {
    "duration": 107,
    "start_time": "2022-05-20T13:27:29.626Z"
   },
   {
    "duration": 6,
    "start_time": "2022-05-20T13:27:29.735Z"
   },
   {
    "duration": 3913,
    "start_time": "2022-05-20T13:27:29.743Z"
   },
   {
    "duration": 5,
    "start_time": "2022-05-20T13:27:33.658Z"
   },
   {
    "duration": 3283,
    "start_time": "2022-05-20T13:27:33.665Z"
   },
   {
    "duration": 5,
    "start_time": "2022-05-20T13:27:36.950Z"
   },
   {
    "duration": 396,
    "start_time": "2022-05-20T13:27:36.957Z"
   },
   {
    "duration": 7,
    "start_time": "2022-05-20T13:27:37.354Z"
   },
   {
    "duration": 9,
    "start_time": "2022-05-20T13:27:37.363Z"
   },
   {
    "duration": 133,
    "start_time": "2022-05-20T13:27:37.376Z"
   },
   {
    "duration": 62,
    "start_time": "2022-05-20T13:27:37.511Z"
   },
   {
    "duration": 47,
    "start_time": "2022-05-20T13:27:37.575Z"
   },
   {
    "duration": 6,
    "start_time": "2022-05-20T13:27:37.625Z"
   },
   {
    "duration": 525,
    "start_time": "2022-05-20T13:27:37.633Z"
   },
   {
    "duration": 11,
    "start_time": "2022-05-20T13:27:38.160Z"
   },
   {
    "duration": 5,
    "start_time": "2022-05-20T13:27:38.172Z"
   },
   {
    "duration": 11,
    "start_time": "2022-05-20T13:27:38.193Z"
   },
   {
    "duration": 8,
    "start_time": "2022-05-20T13:27:38.206Z"
   },
   {
    "duration": 11,
    "start_time": "2022-05-20T13:27:38.216Z"
   },
   {
    "duration": 9,
    "start_time": "2022-05-20T13:27:38.229Z"
   },
   {
    "duration": 10,
    "start_time": "2022-05-20T13:27:38.240Z"
   },
   {
    "duration": 17,
    "start_time": "2022-05-20T13:27:38.253Z"
   },
   {
    "duration": 16,
    "start_time": "2022-05-20T13:27:38.295Z"
   },
   {
    "duration": 20,
    "start_time": "2022-05-20T13:27:38.313Z"
   },
   {
    "duration": 25,
    "start_time": "2022-05-20T13:27:38.336Z"
   },
   {
    "duration": 24,
    "start_time": "2022-05-20T13:27:38.363Z"
   },
   {
    "duration": 47,
    "start_time": "2022-05-20T13:27:38.389Z"
   },
   {
    "duration": 27,
    "start_time": "2022-05-20T13:27:38.439Z"
   },
   {
    "duration": 12,
    "start_time": "2022-05-20T13:27:38.468Z"
   },
   {
    "duration": 7,
    "start_time": "2022-05-20T13:27:38.482Z"
   },
   {
    "duration": 24,
    "start_time": "2022-05-20T13:27:38.491Z"
   },
   {
    "duration": 11,
    "start_time": "2022-05-20T13:27:38.518Z"
   },
   {
    "duration": 16,
    "start_time": "2022-05-20T13:27:38.532Z"
   },
   {
    "duration": 420,
    "start_time": "2022-05-20T13:27:38.550Z"
   },
   {
    "duration": 40,
    "start_time": "2022-05-20T13:27:38.973Z"
   },
   {
    "duration": 402,
    "start_time": "2022-05-20T13:27:39.016Z"
   },
   {
    "duration": 246,
    "start_time": "2022-05-20T13:27:39.421Z"
   },
   {
    "duration": 192,
    "start_time": "2022-05-20T13:27:39.669Z"
   },
   {
    "duration": 224,
    "start_time": "2022-05-20T13:27:39.864Z"
   },
   {
    "duration": 167,
    "start_time": "2022-05-20T13:27:40.093Z"
   },
   {
    "duration": 174,
    "start_time": "2022-05-20T13:27:40.261Z"
   },
   {
    "duration": 226,
    "start_time": "2022-05-20T13:27:40.437Z"
   },
   {
    "duration": 368,
    "start_time": "2022-05-20T13:27:40.665Z"
   },
   {
    "duration": 144,
    "start_time": "2022-05-20T13:27:41.035Z"
   },
   {
    "duration": 167,
    "start_time": "2022-05-20T13:27:41.181Z"
   },
   {
    "duration": 161,
    "start_time": "2022-05-20T13:27:41.350Z"
   },
   {
    "duration": 204,
    "start_time": "2022-05-20T13:27:41.512Z"
   },
   {
    "duration": 201,
    "start_time": "2022-05-20T13:27:41.718Z"
   },
   {
    "duration": 181,
    "start_time": "2022-05-20T13:27:41.921Z"
   },
   {
    "duration": 165,
    "start_time": "2022-05-20T13:27:42.105Z"
   },
   {
    "duration": 198,
    "start_time": "2022-05-20T13:27:42.272Z"
   },
   {
    "duration": 196,
    "start_time": "2022-05-20T13:27:42.471Z"
   },
   {
    "duration": 172,
    "start_time": "2022-05-20T13:27:42.669Z"
   },
   {
    "duration": 32,
    "start_time": "2022-05-20T13:27:42.843Z"
   },
   {
    "duration": 300,
    "start_time": "2022-05-20T13:27:42.877Z"
   },
   {
    "duration": 259,
    "start_time": "2022-05-20T13:27:43.180Z"
   },
   {
    "duration": 286,
    "start_time": "2022-05-20T13:27:43.441Z"
   },
   {
    "duration": 38,
    "start_time": "2022-05-20T13:27:43.729Z"
   },
   {
    "duration": 37,
    "start_time": "2022-05-20T13:27:43.769Z"
   },
   {
    "duration": 167,
    "start_time": "2022-05-20T13:27:43.808Z"
   },
   {
    "duration": 202,
    "start_time": "2022-05-20T13:27:43.977Z"
   },
   {
    "duration": 181,
    "start_time": "2022-05-20T13:27:44.181Z"
   },
   {
    "duration": 214,
    "start_time": "2022-05-20T13:27:44.364Z"
   },
   {
    "duration": 184,
    "start_time": "2022-05-20T13:27:44.580Z"
   },
   {
    "duration": 184,
    "start_time": "2022-05-20T13:27:44.766Z"
   },
   {
    "duration": 286,
    "start_time": "2022-05-20T13:27:44.952Z"
   },
   {
    "duration": 181,
    "start_time": "2022-05-20T13:27:45.240Z"
   },
   {
    "duration": 183,
    "start_time": "2022-05-20T13:27:45.423Z"
   },
   {
    "duration": 662,
    "start_time": "2022-05-20T14:24:55.722Z"
   },
   {
    "duration": 82,
    "start_time": "2022-05-20T14:24:56.385Z"
   },
   {
    "duration": 8,
    "start_time": "2022-05-20T14:24:56.469Z"
   },
   {
    "duration": 71,
    "start_time": "2022-05-20T14:24:56.479Z"
   },
   {
    "duration": 31,
    "start_time": "2022-05-20T14:24:56.551Z"
   },
   {
    "duration": 4,
    "start_time": "2022-05-20T14:24:56.583Z"
   },
   {
    "duration": 26,
    "start_time": "2022-05-20T14:24:56.588Z"
   },
   {
    "duration": 8,
    "start_time": "2022-05-20T14:24:56.615Z"
   },
   {
    "duration": 28,
    "start_time": "2022-05-20T14:24:56.624Z"
   },
   {
    "duration": 91,
    "start_time": "2022-05-20T14:24:56.654Z"
   },
   {
    "duration": 4,
    "start_time": "2022-05-20T14:24:56.747Z"
   },
   {
    "duration": 9,
    "start_time": "2022-05-20T14:24:56.752Z"
   },
   {
    "duration": 13,
    "start_time": "2022-05-20T14:24:56.763Z"
   },
   {
    "duration": 6,
    "start_time": "2022-05-20T14:24:56.777Z"
   },
   {
    "duration": 8,
    "start_time": "2022-05-20T14:24:56.785Z"
   },
   {
    "duration": 53,
    "start_time": "2022-05-20T14:24:56.794Z"
   },
   {
    "duration": 111,
    "start_time": "2022-05-20T14:24:56.848Z"
   },
   {
    "duration": 1842,
    "start_time": "2022-05-20T14:24:56.961Z"
   },
   {
    "duration": 4,
    "start_time": "2022-05-20T14:24:58.805Z"
   },
   {
    "duration": 25678,
    "start_time": "2022-05-20T14:24:58.810Z"
   },
   {
    "duration": 3,
    "start_time": "2022-05-20T14:25:24.489Z"
   },
   {
    "duration": 9,
    "start_time": "2022-05-20T14:25:24.494Z"
   },
   {
    "duration": 3,
    "start_time": "2022-05-20T14:25:24.505Z"
   },
   {
    "duration": 7,
    "start_time": "2022-05-20T14:25:24.510Z"
   },
   {
    "duration": 5,
    "start_time": "2022-05-20T14:25:24.519Z"
   },
   {
    "duration": 9,
    "start_time": "2022-05-20T14:25:24.525Z"
   },
   {
    "duration": 105,
    "start_time": "2022-05-20T14:25:24.535Z"
   },
   {
    "duration": 2878,
    "start_time": "2022-05-20T14:25:24.644Z"
   },
   {
    "duration": 4,
    "start_time": "2022-05-20T14:25:27.524Z"
   },
   {
    "duration": 10,
    "start_time": "2022-05-20T14:25:27.529Z"
   },
   {
    "duration": 6,
    "start_time": "2022-05-20T14:25:27.540Z"
   },
   {
    "duration": 6,
    "start_time": "2022-05-20T14:25:27.547Z"
   },
   {
    "duration": 21,
    "start_time": "2022-05-20T14:25:27.554Z"
   },
   {
    "duration": 7,
    "start_time": "2022-05-20T14:25:27.576Z"
   },
   {
    "duration": 13,
    "start_time": "2022-05-20T14:25:27.584Z"
   },
   {
    "duration": 12,
    "start_time": "2022-05-20T14:25:27.599Z"
   },
   {
    "duration": 7,
    "start_time": "2022-05-20T14:25:27.612Z"
   },
   {
    "duration": 4,
    "start_time": "2022-05-20T14:25:27.620Z"
   },
   {
    "duration": 7,
    "start_time": "2022-05-20T14:25:27.626Z"
   },
   {
    "duration": 41,
    "start_time": "2022-05-20T14:25:27.635Z"
   },
   {
    "duration": 17,
    "start_time": "2022-05-20T14:25:27.677Z"
   },
   {
    "duration": 14,
    "start_time": "2022-05-20T14:25:27.695Z"
   },
   {
    "duration": 41784,
    "start_time": "2022-05-20T14:25:27.711Z"
   },
   {
    "duration": 29243,
    "start_time": "2022-05-20T14:26:09.497Z"
   },
   {
    "duration": 75,
    "start_time": "2022-05-20T14:26:38.742Z"
   },
   {
    "duration": 33,
    "start_time": "2022-05-20T14:26:38.818Z"
   },
   {
    "duration": 26,
    "start_time": "2022-05-20T14:26:38.852Z"
   },
   {
    "duration": 6,
    "start_time": "2022-05-20T14:26:38.880Z"
   },
   {
    "duration": 7,
    "start_time": "2022-05-20T14:26:38.887Z"
   },
   {
    "duration": 106,
    "start_time": "2022-05-20T14:26:38.895Z"
   },
   {
    "duration": 85,
    "start_time": "2022-05-20T14:26:39.003Z"
   },
   {
    "duration": 3,
    "start_time": "2022-05-20T14:26:39.090Z"
   },
   {
    "duration": 3205,
    "start_time": "2022-05-20T14:26:39.095Z"
   },
   {
    "duration": 4,
    "start_time": "2022-05-20T14:26:42.302Z"
   },
   {
    "duration": 2710,
    "start_time": "2022-05-20T14:26:42.307Z"
   },
   {
    "duration": 3,
    "start_time": "2022-05-20T14:26:45.019Z"
   },
   {
    "duration": 338,
    "start_time": "2022-05-20T14:26:45.024Z"
   },
   {
    "duration": 12,
    "start_time": "2022-05-20T14:26:45.363Z"
   },
   {
    "duration": 10,
    "start_time": "2022-05-20T14:26:45.377Z"
   },
   {
    "duration": 112,
    "start_time": "2022-05-20T14:26:45.388Z"
   },
   {
    "duration": 52,
    "start_time": "2022-05-20T14:26:45.502Z"
   },
   {
    "duration": 30,
    "start_time": "2022-05-20T14:26:45.556Z"
   },
   {
    "duration": 4,
    "start_time": "2022-05-20T14:26:45.588Z"
   },
   {
    "duration": 422,
    "start_time": "2022-05-20T14:26:45.593Z"
   },
   {
    "duration": 8,
    "start_time": "2022-05-20T14:26:46.017Z"
   },
   {
    "duration": 25,
    "start_time": "2022-05-20T14:26:46.026Z"
   },
   {
    "duration": 28,
    "start_time": "2022-05-20T14:26:46.053Z"
   },
   {
    "duration": 14,
    "start_time": "2022-05-20T14:26:46.082Z"
   },
   {
    "duration": 25,
    "start_time": "2022-05-20T14:26:46.097Z"
   },
   {
    "duration": 20,
    "start_time": "2022-05-20T14:26:46.124Z"
   },
   {
    "duration": 7,
    "start_time": "2022-05-20T14:26:46.145Z"
   },
   {
    "duration": 6,
    "start_time": "2022-05-20T14:26:46.153Z"
   },
   {
    "duration": 6,
    "start_time": "2022-05-20T14:26:46.161Z"
   },
   {
    "duration": 5,
    "start_time": "2022-05-20T14:26:46.169Z"
   },
   {
    "duration": 5,
    "start_time": "2022-05-20T14:26:46.175Z"
   },
   {
    "duration": 8,
    "start_time": "2022-05-20T14:26:46.181Z"
   },
   {
    "duration": 10,
    "start_time": "2022-05-20T14:26:46.191Z"
   },
   {
    "duration": 7,
    "start_time": "2022-05-20T14:26:46.203Z"
   },
   {
    "duration": 7,
    "start_time": "2022-05-20T14:26:46.212Z"
   },
   {
    "duration": 7,
    "start_time": "2022-05-20T14:26:46.220Z"
   },
   {
    "duration": 17,
    "start_time": "2022-05-20T14:26:46.229Z"
   },
   {
    "duration": 3,
    "start_time": "2022-05-20T14:26:46.251Z"
   },
   {
    "duration": 20,
    "start_time": "2022-05-20T14:26:46.256Z"
   },
   {
    "duration": 341,
    "start_time": "2022-05-20T14:26:46.277Z"
   },
   {
    "duration": 18,
    "start_time": "2022-05-20T14:26:46.619Z"
   },
   {
    "duration": 196,
    "start_time": "2022-05-20T14:26:46.639Z"
   },
   {
    "duration": 212,
    "start_time": "2022-05-20T14:26:46.836Z"
   },
   {
    "duration": 160,
    "start_time": "2022-05-20T14:26:47.049Z"
   },
   {
    "duration": 176,
    "start_time": "2022-05-20T14:26:47.210Z"
   },
   {
    "duration": 141,
    "start_time": "2022-05-20T14:26:47.388Z"
   },
   {
    "duration": 145,
    "start_time": "2022-05-20T14:26:47.531Z"
   },
   {
    "duration": 199,
    "start_time": "2022-05-20T14:26:47.678Z"
   },
   {
    "duration": 310,
    "start_time": "2022-05-20T14:26:47.878Z"
   },
   {
    "duration": 133,
    "start_time": "2022-05-20T14:26:48.190Z"
   },
   {
    "duration": 148,
    "start_time": "2022-05-20T14:26:48.325Z"
   },
   {
    "duration": 138,
    "start_time": "2022-05-20T14:26:48.475Z"
   },
   {
    "duration": 192,
    "start_time": "2022-05-20T14:26:48.615Z"
   },
   {
    "duration": 368,
    "start_time": "2022-05-20T14:26:48.808Z"
   },
   {
    "duration": 221,
    "start_time": "2022-05-20T14:26:49.178Z"
   },
   {
    "duration": 216,
    "start_time": "2022-05-20T14:26:49.401Z"
   },
   {
    "duration": 323,
    "start_time": "2022-05-20T14:26:49.619Z"
   },
   {
    "duration": 177,
    "start_time": "2022-05-20T14:26:49.944Z"
   },
   {
    "duration": 134,
    "start_time": "2022-05-20T14:26:50.123Z"
   },
   {
    "duration": 29,
    "start_time": "2022-05-20T14:26:50.258Z"
   },
   {
    "duration": 154,
    "start_time": "2022-05-20T14:26:50.289Z"
   },
   {
    "duration": 271,
    "start_time": "2022-05-20T14:26:50.444Z"
   },
   {
    "duration": 224,
    "start_time": "2022-05-20T14:26:50.716Z"
   },
   {
    "duration": 44,
    "start_time": "2022-05-20T14:26:50.941Z"
   },
   {
    "duration": 14,
    "start_time": "2022-05-20T14:26:50.986Z"
   },
   {
    "duration": 140,
    "start_time": "2022-05-20T14:26:51.001Z"
   },
   {
    "duration": 157,
    "start_time": "2022-05-20T14:26:51.143Z"
   },
   {
    "duration": 145,
    "start_time": "2022-05-20T14:26:51.301Z"
   },
   {
    "duration": 163,
    "start_time": "2022-05-20T14:26:51.448Z"
   },
   {
    "duration": 135,
    "start_time": "2022-05-20T14:26:51.612Z"
   },
   {
    "duration": 148,
    "start_time": "2022-05-20T14:26:51.749Z"
   },
   {
    "duration": 153,
    "start_time": "2022-05-20T14:26:51.899Z"
   },
   {
    "duration": 264,
    "start_time": "2022-05-20T14:26:52.054Z"
   },
   {
    "duration": 293,
    "start_time": "2022-05-20T14:26:52.319Z"
   },
   {
    "duration": 9,
    "start_time": "2022-05-20T14:31:59.945Z"
   },
   {
    "duration": 68,
    "start_time": "2022-05-20T14:38:08.065Z"
   },
   {
    "duration": 52,
    "start_time": "2022-05-20T14:38:46.181Z"
   },
   {
    "duration": 9,
    "start_time": "2022-05-20T14:39:08.816Z"
   },
   {
    "duration": 42,
    "start_time": "2022-05-20T14:39:25.377Z"
   },
   {
    "duration": 12,
    "start_time": "2022-05-20T16:51:35.065Z"
   },
   {
    "duration": 5,
    "start_time": "2022-05-20T16:51:44.371Z"
   },
   {
    "duration": 9,
    "start_time": "2022-05-20T16:51:45.294Z"
   },
   {
    "duration": 1109,
    "start_time": "2022-05-20T16:51:57.989Z"
   },
   {
    "duration": 121,
    "start_time": "2022-05-20T16:51:59.100Z"
   },
   {
    "duration": 11,
    "start_time": "2022-05-20T16:51:59.223Z"
   },
   {
    "duration": 65,
    "start_time": "2022-05-20T16:51:59.478Z"
   },
   {
    "duration": 34,
    "start_time": "2022-05-20T16:51:59.649Z"
   },
   {
    "duration": 6,
    "start_time": "2022-05-20T16:52:00.032Z"
   },
   {
    "duration": 22,
    "start_time": "2022-05-20T16:52:01.204Z"
   },
   {
    "duration": 14,
    "start_time": "2022-05-20T16:52:01.895Z"
   },
   {
    "duration": 48,
    "start_time": "2022-05-20T16:52:02.443Z"
   },
   {
    "duration": 81,
    "start_time": "2022-05-20T16:52:03.066Z"
   },
   {
    "duration": 3,
    "start_time": "2022-05-20T16:52:07.782Z"
   },
   {
    "duration": 3,
    "start_time": "2022-05-20T16:52:08.762Z"
   },
   {
    "duration": 8,
    "start_time": "2022-05-20T16:52:09.628Z"
   },
   {
    "duration": 9,
    "start_time": "2022-05-20T16:52:10.614Z"
   },
   {
    "duration": 10,
    "start_time": "2022-05-20T16:52:12.977Z"
   },
   {
    "duration": 82,
    "start_time": "2022-05-20T16:52:14.810Z"
   },
   {
    "duration": 102,
    "start_time": "2022-05-20T16:52:15.488Z"
   },
   {
    "duration": 2048,
    "start_time": "2022-05-20T16:52:16.289Z"
   },
   {
    "duration": 4,
    "start_time": "2022-05-20T16:52:20.103Z"
   },
   {
    "duration": 29850,
    "start_time": "2022-05-20T16:52:21.093Z"
   },
   {
    "duration": 4,
    "start_time": "2022-05-20T16:55:02.275Z"
   },
   {
    "duration": 7,
    "start_time": "2022-05-20T16:59:35.414Z"
   },
   {
    "duration": 5,
    "start_time": "2022-05-20T16:59:36.075Z"
   },
   {
    "duration": 312,
    "start_time": "2022-05-20T16:59:40.943Z"
   },
   {
    "duration": 10,
    "start_time": "2022-05-20T16:59:45.380Z"
   },
   {
    "duration": 5,
    "start_time": "2022-05-20T16:59:46.020Z"
   },
   {
    "duration": 121,
    "start_time": "2022-05-20T16:59:47.674Z"
   },
   {
    "duration": 74,
    "start_time": "2022-05-20T16:59:51.672Z"
   },
   {
    "duration": 3,
    "start_time": "2022-05-20T17:01:44.546Z"
   },
   {
    "duration": 106,
    "start_time": "2022-05-20T17:01:45.012Z"
   },
   {
    "duration": 6,
    "start_time": "2022-05-20T17:01:46.074Z"
   },
   {
    "duration": 73,
    "start_time": "2022-05-20T17:01:46.584Z"
   },
   {
    "duration": 27,
    "start_time": "2022-05-20T17:01:46.793Z"
   },
   {
    "duration": 4,
    "start_time": "2022-05-20T17:01:47.185Z"
   },
   {
    "duration": 16,
    "start_time": "2022-05-20T17:02:05.036Z"
   },
   {
    "duration": 5,
    "start_time": "2022-05-20T17:02:24.986Z"
   },
   {
    "duration": 349,
    "start_time": "2022-05-20T17:02:26.366Z"
   },
   {
    "duration": 45,
    "start_time": "2022-05-20T17:02:36.956Z"
   },
   {
    "duration": 5,
    "start_time": "2022-05-20T17:04:35.849Z"
   },
   {
    "duration": 7,
    "start_time": "2022-05-20T17:04:41.431Z"
   },
   {
    "duration": 7,
    "start_time": "2022-05-20T17:05:14.861Z"
   },
   {
    "duration": 3,
    "start_time": "2022-05-20T17:05:39.626Z"
   },
   {
    "duration": 70,
    "start_time": "2022-05-20T17:05:39.765Z"
   },
   {
    "duration": 7,
    "start_time": "2022-05-20T17:05:55.239Z"
   },
   {
    "duration": 92,
    "start_time": "2022-05-20T17:05:55.714Z"
   },
   {
    "duration": 26,
    "start_time": "2022-05-20T17:05:55.976Z"
   },
   {
    "duration": 4,
    "start_time": "2022-05-20T17:05:56.347Z"
   },
   {
    "duration": 3479,
    "start_time": "2022-05-20T17:06:20.456Z"
   },
   {
    "duration": 14,
    "start_time": "2022-05-20T17:07:00.251Z"
   },
   {
    "duration": 9,
    "start_time": "2022-05-20T17:58:03.351Z"
   },
   {
    "duration": 15,
    "start_time": "2022-05-20T17:58:11.791Z"
   },
   {
    "duration": 48,
    "start_time": "2022-05-20T18:00:04.251Z"
   },
   {
    "duration": 43,
    "start_time": "2022-05-20T18:00:49.040Z"
   },
   {
    "duration": 38,
    "start_time": "2022-05-20T18:01:10.774Z"
   },
   {
    "duration": 63,
    "start_time": "2022-05-20T18:01:39.950Z"
   },
   {
    "duration": 18,
    "start_time": "2022-05-20T18:02:45.898Z"
   },
   {
    "duration": 29,
    "start_time": "2022-05-20T18:02:55.949Z"
   },
   {
    "duration": 18,
    "start_time": "2022-05-20T18:03:02.439Z"
   },
   {
    "duration": 3,
    "start_time": "2022-05-20T18:03:24.962Z"
   },
   {
    "duration": 14,
    "start_time": "2022-05-20T18:03:29.987Z"
   },
   {
    "duration": 14,
    "start_time": "2022-05-20T18:03:34.438Z"
   },
   {
    "duration": 93,
    "start_time": "2022-05-20T18:05:38.106Z"
   },
   {
    "duration": 6,
    "start_time": "2022-05-20T18:05:48.489Z"
   },
   {
    "duration": 3,
    "start_time": "2022-05-20T18:06:00.267Z"
   },
   {
    "duration": 68,
    "start_time": "2022-05-20T18:06:00.512Z"
   },
   {
    "duration": 6,
    "start_time": "2022-05-20T18:06:00.908Z"
   },
   {
    "duration": 65,
    "start_time": "2022-05-20T18:06:01.297Z"
   },
   {
    "duration": 28,
    "start_time": "2022-05-20T18:06:01.490Z"
   },
   {
    "duration": 6,
    "start_time": "2022-05-20T18:06:01.846Z"
   },
   {
    "duration": 72,
    "start_time": "2022-05-20T18:07:32.181Z"
   },
   {
    "duration": 64,
    "start_time": "2022-05-20T18:07:50.513Z"
   },
   {
    "duration": 8,
    "start_time": "2022-05-20T18:08:26.900Z"
   },
   {
    "duration": 9,
    "start_time": "2022-05-20T18:09:09.018Z"
   },
   {
    "duration": 759,
    "start_time": "2022-05-20T18:09:25.427Z"
   },
   {
    "duration": 9,
    "start_time": "2022-05-20T18:09:30.867Z"
   },
   {
    "duration": 9,
    "start_time": "2022-05-20T18:10:54.247Z"
   },
   {
    "duration": 52,
    "start_time": "2022-05-20T18:11:16.291Z"
   },
   {
    "duration": 2,
    "start_time": "2022-05-20T18:12:34.102Z"
   },
   {
    "duration": 64,
    "start_time": "2022-05-20T18:12:34.338Z"
   },
   {
    "duration": 6,
    "start_time": "2022-05-20T18:12:34.689Z"
   },
   {
    "duration": 67,
    "start_time": "2022-05-20T18:12:35.067Z"
   },
   {
    "duration": 35,
    "start_time": "2022-05-20T18:12:35.235Z"
   },
   {
    "duration": 5,
    "start_time": "2022-05-20T18:12:35.579Z"
   },
   {
    "duration": 14,
    "start_time": "2022-05-20T18:12:36.740Z"
   },
   {
    "duration": 37,
    "start_time": "2022-05-20T18:12:55.008Z"
   },
   {
    "duration": 499,
    "start_time": "2022-05-20T18:13:51.605Z"
   },
   {
    "duration": 12,
    "start_time": "2022-05-20T18:14:13.531Z"
   },
   {
    "duration": 10,
    "start_time": "2022-05-20T18:19:06.277Z"
   },
   {
    "duration": 12,
    "start_time": "2022-05-20T18:19:08.164Z"
   },
   {
    "duration": 11,
    "start_time": "2022-05-20T18:19:08.935Z"
   },
   {
    "duration": 11,
    "start_time": "2022-05-20T18:19:09.554Z"
   },
   {
    "duration": 13,
    "start_time": "2022-05-20T18:19:10.196Z"
   },
   {
    "duration": 10,
    "start_time": "2022-05-20T18:19:10.783Z"
   },
   {
    "duration": 10,
    "start_time": "2022-05-20T18:19:11.681Z"
   },
   {
    "duration": 10,
    "start_time": "2022-05-20T18:19:12.352Z"
   },
   {
    "duration": 10,
    "start_time": "2022-05-20T18:19:13.009Z"
   },
   {
    "duration": 58,
    "start_time": "2022-05-20T18:19:14.471Z"
   },
   {
    "duration": 12,
    "start_time": "2022-05-20T18:29:58.780Z"
   },
   {
    "duration": 34,
    "start_time": "2022-05-20T18:31:35.112Z"
   },
   {
    "duration": 43,
    "start_time": "2022-05-20T18:35:37.735Z"
   },
   {
    "duration": 32,
    "start_time": "2022-05-20T18:35:40.549Z"
   },
   {
    "duration": 6,
    "start_time": "2022-05-20T18:36:19.424Z"
   },
   {
    "duration": 4,
    "start_time": "2022-05-20T18:36:20.745Z"
   },
   {
    "duration": 87,
    "start_time": "2022-05-20T18:36:30.333Z"
   },
   {
    "duration": 70,
    "start_time": "2022-05-20T18:36:43.129Z"
   },
   {
    "duration": 26,
    "start_time": "2022-05-20T18:36:51.529Z"
   },
   {
    "duration": 15,
    "start_time": "2022-05-20T18:36:54.294Z"
   },
   {
    "duration": 17,
    "start_time": "2022-05-20T18:37:42.968Z"
   },
   {
    "duration": 7,
    "start_time": "2022-05-20T18:38:12.371Z"
   },
   {
    "duration": 42,
    "start_time": "2022-05-20T18:38:29.791Z"
   },
   {
    "duration": 3,
    "start_time": "2022-05-20T18:39:30.000Z"
   },
   {
    "duration": 71,
    "start_time": "2022-05-20T18:39:30.289Z"
   },
   {
    "duration": 7,
    "start_time": "2022-05-20T18:39:30.786Z"
   },
   {
    "duration": 85,
    "start_time": "2022-05-20T18:39:31.263Z"
   },
   {
    "duration": 37,
    "start_time": "2022-05-20T18:39:31.424Z"
   },
   {
    "duration": 16,
    "start_time": "2022-05-20T18:39:31.956Z"
   },
   {
    "duration": 4,
    "start_time": "2022-05-20T18:39:44.447Z"
   },
   {
    "duration": 15,
    "start_time": "2022-05-20T18:39:47.248Z"
   },
   {
    "duration": 5,
    "start_time": "2022-05-20T18:40:29.590Z"
   },
   {
    "duration": 5,
    "start_time": "2022-05-20T18:40:30.615Z"
   },
   {
    "duration": 13,
    "start_time": "2022-05-20T18:41:36.615Z"
   },
   {
    "duration": 5,
    "start_time": "2022-05-20T18:41:38.278Z"
   },
   {
    "duration": 4,
    "start_time": "2022-05-20T18:41:38.754Z"
   },
   {
    "duration": 80,
    "start_time": "2022-05-20T18:41:40.452Z"
   },
   {
    "duration": 55,
    "start_time": "2022-05-20T18:41:47.892Z"
   },
   {
    "duration": 24,
    "start_time": "2022-05-20T18:42:12.926Z"
   },
   {
    "duration": 16,
    "start_time": "2022-05-20T18:42:16.755Z"
   },
   {
    "duration": 746,
    "start_time": "2022-12-11T07:44:33.769Z"
   },
   {
    "duration": 148,
    "start_time": "2022-12-11T07:44:34.518Z"
   },
   {
    "duration": 14,
    "start_time": "2022-12-11T07:44:35.267Z"
   },
   {
    "duration": 92,
    "start_time": "2022-12-11T07:46:29.541Z"
   },
   {
    "duration": 2,
    "start_time": "2022-12-11T07:57:36.263Z"
   },
   {
    "duration": 82,
    "start_time": "2022-12-11T07:57:36.573Z"
   },
   {
    "duration": 7,
    "start_time": "2022-12-11T07:57:36.896Z"
   },
   {
    "duration": 103,
    "start_time": "2022-12-11T07:58:23.784Z"
   },
   {
    "duration": 27,
    "start_time": "2022-12-11T07:58:24.255Z"
   },
   {
    "duration": 6,
    "start_time": "2022-12-11T07:58:55.929Z"
   },
   {
    "duration": 14,
    "start_time": "2022-12-11T07:59:07.766Z"
   },
   {
    "duration": 10,
    "start_time": "2022-12-11T07:59:47.369Z"
   },
   {
    "duration": 42,
    "start_time": "2022-12-11T08:00:00.351Z"
   },
   {
    "duration": 78,
    "start_time": "2022-12-11T08:00:04.684Z"
   },
   {
    "duration": 4,
    "start_time": "2022-12-11T08:02:27.591Z"
   },
   {
    "duration": 47,
    "start_time": "2022-12-11T08:03:42.683Z"
   },
   {
    "duration": 3,
    "start_time": "2022-12-11T08:06:09.130Z"
   },
   {
    "duration": 3,
    "start_time": "2022-12-11T08:06:09.721Z"
   },
   {
    "duration": 5,
    "start_time": "2022-12-11T08:06:59.683Z"
   },
   {
    "duration": 7,
    "start_time": "2022-12-11T08:07:48.458Z"
   },
   {
    "duration": 7,
    "start_time": "2022-12-11T08:11:21.614Z"
   },
   {
    "duration": 48,
    "start_time": "2022-12-11T08:13:19.299Z"
   },
   {
    "duration": 95,
    "start_time": "2022-12-11T08:13:19.596Z"
   },
   {
    "duration": 1877,
    "start_time": "2022-12-11T08:13:53.223Z"
   },
   {
    "duration": 1958,
    "start_time": "2022-12-11T08:23:07.237Z"
   },
   {
    "duration": 117,
    "start_time": "2022-12-11T08:23:50.381Z"
   },
   {
    "duration": 95,
    "start_time": "2022-12-11T08:23:55.566Z"
   },
   {
    "duration": 129,
    "start_time": "2022-12-11T08:25:11.731Z"
   },
   {
    "duration": 2121,
    "start_time": "2022-12-11T08:25:44.065Z"
   },
   {
    "duration": 4,
    "start_time": "2022-12-11T08:25:47.400Z"
   },
   {
    "duration": 28407,
    "start_time": "2022-12-11T08:26:48.416Z"
   },
   {
    "duration": 5,
    "start_time": "2022-12-11T08:28:12.565Z"
   },
   {
    "duration": 4,
    "start_time": "2022-12-11T08:29:17.121Z"
   },
   {
    "duration": 8,
    "start_time": "2022-12-11T08:39:36.029Z"
   },
   {
    "duration": 8,
    "start_time": "2022-12-11T08:41:07.238Z"
   },
   {
    "duration": 5,
    "start_time": "2022-12-11T08:41:44.936Z"
   },
   {
    "duration": 7,
    "start_time": "2022-12-11T08:42:10.895Z"
   },
   {
    "duration": 87,
    "start_time": "2022-12-11T08:43:53.843Z"
   },
   {
    "duration": 79,
    "start_time": "2022-12-11T08:44:09.976Z"
   },
   {
    "duration": 3,
    "start_time": "2022-12-11T08:44:22.181Z"
   },
   {
    "duration": 78,
    "start_time": "2022-12-11T08:44:22.324Z"
   },
   {
    "duration": 6,
    "start_time": "2022-12-11T08:44:22.458Z"
   },
   {
    "duration": 65,
    "start_time": "2022-12-11T08:44:22.716Z"
   },
   {
    "duration": 37,
    "start_time": "2022-12-11T08:44:22.928Z"
   },
   {
    "duration": 5,
    "start_time": "2022-12-11T08:44:23.244Z"
   },
   {
    "duration": 14,
    "start_time": "2022-12-11T08:44:23.662Z"
   },
   {
    "duration": 10,
    "start_time": "2022-12-11T08:44:24.267Z"
   },
   {
    "duration": 34,
    "start_time": "2022-12-11T08:44:24.720Z"
   },
   {
    "duration": 69,
    "start_time": "2022-12-11T08:44:25.156Z"
   },
   {
    "duration": 3,
    "start_time": "2022-12-11T08:44:26.621Z"
   },
   {
    "duration": 3,
    "start_time": "2022-12-11T08:44:26.958Z"
   },
   {
    "duration": 5,
    "start_time": "2022-12-11T08:44:27.307Z"
   },
   {
    "duration": 6,
    "start_time": "2022-12-11T08:44:27.652Z"
   },
   {
    "duration": 5,
    "start_time": "2022-12-11T08:44:28.261Z"
   },
   {
    "duration": 93,
    "start_time": "2022-12-11T08:44:29.364Z"
   },
   {
    "duration": 1931,
    "start_time": "2022-12-11T08:44:29.518Z"
   },
   {
    "duration": 4,
    "start_time": "2022-12-11T08:44:31.451Z"
   },
   {
    "duration": 26857,
    "start_time": "2022-12-11T08:44:31.456Z"
   },
   {
    "duration": 4,
    "start_time": "2022-12-11T08:44:58.314Z"
   },
   {
    "duration": 9,
    "start_time": "2022-12-11T08:44:58.319Z"
   },
   {
    "duration": 5,
    "start_time": "2022-12-11T08:44:58.329Z"
   },
   {
    "duration": 8,
    "start_time": "2022-12-11T08:44:58.336Z"
   },
   {
    "duration": 6,
    "start_time": "2022-12-11T08:44:58.345Z"
   },
   {
    "duration": 9,
    "start_time": "2022-12-11T08:47:07.453Z"
   },
   {
    "duration": 81,
    "start_time": "2022-12-11T08:47:10.924Z"
   },
   {
    "duration": 2958,
    "start_time": "2022-12-11T08:49:18.198Z"
   },
   {
    "duration": 3,
    "start_time": "2022-12-11T08:50:22.378Z"
   },
   {
    "duration": 2312,
    "start_time": "2022-12-11T08:50:46.938Z"
   },
   {
    "duration": 7,
    "start_time": "2022-12-11T08:53:50.018Z"
   },
   {
    "duration": 4,
    "start_time": "2022-12-11T08:54:22.905Z"
   },
   {
    "duration": 4,
    "start_time": "2022-12-11T08:54:41.195Z"
   },
   {
    "duration": 4,
    "start_time": "2022-12-11T08:58:57.542Z"
   },
   {
    "duration": 3,
    "start_time": "2022-12-11T09:01:05.495Z"
   },
   {
    "duration": 4,
    "start_time": "2022-12-11T09:01:49.080Z"
   },
   {
    "duration": 6,
    "start_time": "2022-12-11T09:01:52.682Z"
   },
   {
    "duration": 4,
    "start_time": "2022-12-11T09:01:54.145Z"
   },
   {
    "duration": 4,
    "start_time": "2022-12-11T09:01:56.435Z"
   },
   {
    "duration": 5,
    "start_time": "2022-12-11T09:02:06.007Z"
   },
   {
    "duration": 5,
    "start_time": "2022-12-11T09:02:18.903Z"
   },
   {
    "duration": 9,
    "start_time": "2022-12-11T09:02:24.867Z"
   },
   {
    "duration": 14,
    "start_time": "2022-12-11T09:02:38.600Z"
   },
   {
    "duration": 14,
    "start_time": "2022-12-11T09:03:15.089Z"
   },
   {
    "duration": 9,
    "start_time": "2022-12-11T09:03:34.550Z"
   },
   {
    "duration": 8,
    "start_time": "2022-12-11T09:04:27.054Z"
   },
   {
    "duration": 6,
    "start_time": "2022-12-11T09:05:33.427Z"
   },
   {
    "duration": 8,
    "start_time": "2022-12-11T09:07:47.460Z"
   },
   {
    "duration": 8,
    "start_time": "2022-12-11T09:09:18.767Z"
   },
   {
    "duration": 5,
    "start_time": "2022-12-11T09:09:22.812Z"
   },
   {
    "duration": 7,
    "start_time": "2022-12-11T09:09:23.084Z"
   },
   {
    "duration": 10,
    "start_time": "2022-12-11T09:09:25.450Z"
   },
   {
    "duration": 20,
    "start_time": "2022-12-11T09:09:45.470Z"
   },
   {
    "duration": 21,
    "start_time": "2022-12-11T09:09:56.861Z"
   },
   {
    "duration": 44452,
    "start_time": "2022-12-11T09:10:05.015Z"
   },
   {
    "duration": 30620,
    "start_time": "2022-12-11T09:11:04.040Z"
   },
   {
    "duration": 79,
    "start_time": "2022-12-11T09:11:53.764Z"
   },
   {
    "duration": 46,
    "start_time": "2022-12-11T09:12:00.929Z"
   },
   {
    "duration": 7,
    "start_time": "2022-12-11T09:12:35.088Z"
   },
   {
    "duration": 5,
    "start_time": "2022-12-11T09:14:15.407Z"
   },
   {
    "duration": 5,
    "start_time": "2022-12-11T09:14:16.313Z"
   },
   {
    "duration": 108,
    "start_time": "2022-12-11T09:14:24.565Z"
   },
   {
    "duration": 84,
    "start_time": "2022-12-11T09:14:37.891Z"
   },
   {
    "duration": 4,
    "start_time": "2022-12-11T09:15:48.342Z"
   },
   {
    "duration": 2646,
    "start_time": "2022-12-11T09:15:59.062Z"
   },
   {
    "duration": 5,
    "start_time": "2022-12-11T09:16:13.893Z"
   },
   {
    "duration": 2142,
    "start_time": "2022-12-11T09:16:17.049Z"
   },
   {
    "duration": 3,
    "start_time": "2022-12-11T09:16:42.145Z"
   },
   {
    "duration": 14,
    "start_time": "2022-12-11T09:17:37.524Z"
   },
   {
    "duration": 6,
    "start_time": "2022-12-11T09:19:33.496Z"
   },
   {
    "duration": 5,
    "start_time": "2022-12-11T09:20:33.464Z"
   },
   {
    "duration": 5,
    "start_time": "2022-12-11T09:21:37.677Z"
   },
   {
    "duration": 5,
    "start_time": "2022-12-11T09:22:27.405Z"
   },
   {
    "duration": 106,
    "start_time": "2022-12-11T09:23:55.688Z"
   },
   {
    "duration": 106,
    "start_time": "2022-12-11T09:24:13.083Z"
   },
   {
    "duration": 53,
    "start_time": "2022-12-11T09:26:03.040Z"
   },
   {
    "duration": 30,
    "start_time": "2022-12-11T09:27:16.402Z"
   },
   {
    "duration": 5,
    "start_time": "2022-12-11T09:27:24.729Z"
   },
   {
    "duration": 405,
    "start_time": "2022-12-11T09:27:29.158Z"
   },
   {
    "duration": 12,
    "start_time": "2022-12-11T09:27:41.702Z"
   },
   {
    "duration": 8,
    "start_time": "2022-12-11T09:29:18.159Z"
   },
   {
    "duration": 6,
    "start_time": "2022-12-11T09:29:47.445Z"
   },
   {
    "duration": 6,
    "start_time": "2022-12-11T09:30:03.733Z"
   },
   {
    "duration": 5,
    "start_time": "2022-12-11T09:30:04.822Z"
   },
   {
    "duration": 6,
    "start_time": "2022-12-11T09:30:06.259Z"
   },
   {
    "duration": 8,
    "start_time": "2022-12-11T09:30:21.442Z"
   },
   {
    "duration": 6,
    "start_time": "2022-12-11T09:31:06.210Z"
   },
   {
    "duration": 28,
    "start_time": "2022-12-11T09:31:15.004Z"
   },
   {
    "duration": 21,
    "start_time": "2022-12-11T09:33:45.568Z"
   },
   {
    "duration": 6,
    "start_time": "2022-12-11T09:33:50.589Z"
   },
   {
    "duration": 8,
    "start_time": "2022-12-11T09:34:06.498Z"
   },
   {
    "duration": 5,
    "start_time": "2022-12-11T09:34:09.387Z"
   },
   {
    "duration": 8,
    "start_time": "2022-12-11T09:34:15.995Z"
   },
   {
    "duration": 7,
    "start_time": "2022-12-11T09:34:38.463Z"
   },
   {
    "duration": 8,
    "start_time": "2022-12-11T09:34:42.586Z"
   },
   {
    "duration": 8,
    "start_time": "2022-12-11T09:34:56.417Z"
   },
   {
    "duration": 10,
    "start_time": "2022-12-11T09:35:56.640Z"
   },
   {
    "duration": 11,
    "start_time": "2022-12-11T09:35:59.124Z"
   },
   {
    "duration": 5,
    "start_time": "2022-12-11T09:36:05.792Z"
   },
   {
    "duration": 4,
    "start_time": "2022-12-11T09:36:09.909Z"
   },
   {
    "duration": 67,
    "start_time": "2022-12-11T12:14:56.530Z"
   },
   {
    "duration": 891,
    "start_time": "2022-12-11T12:15:03.524Z"
   },
   {
    "duration": 754,
    "start_time": "2022-12-11T12:15:04.418Z"
   },
   {
    "duration": 11,
    "start_time": "2022-12-11T12:15:05.174Z"
   },
   {
    "duration": 101,
    "start_time": "2022-12-11T12:15:05.187Z"
   },
   {
    "duration": 26,
    "start_time": "2022-12-11T12:15:05.289Z"
   },
   {
    "duration": 8,
    "start_time": "2022-12-11T12:15:05.316Z"
   },
   {
    "duration": 20,
    "start_time": "2022-12-11T12:15:05.341Z"
   },
   {
    "duration": 16,
    "start_time": "2022-12-11T12:15:05.646Z"
   },
   {
    "duration": 34,
    "start_time": "2022-12-11T12:15:07.189Z"
   },
   {
    "duration": 104,
    "start_time": "2022-12-11T12:15:08.470Z"
   },
   {
    "duration": 4,
    "start_time": "2022-12-11T12:15:09.854Z"
   },
   {
    "duration": 3,
    "start_time": "2022-12-11T12:15:10.917Z"
   },
   {
    "duration": 8,
    "start_time": "2022-12-11T12:15:11.679Z"
   },
   {
    "duration": 6,
    "start_time": "2022-12-11T12:15:12.126Z"
   },
   {
    "duration": 6,
    "start_time": "2022-12-11T12:15:13.018Z"
   },
   {
    "duration": 113,
    "start_time": "2022-12-11T12:15:17.112Z"
   },
   {
    "duration": 2156,
    "start_time": "2022-12-11T12:15:17.345Z"
   },
   {
    "duration": 3,
    "start_time": "2022-12-11T12:15:19.503Z"
   },
   {
    "duration": 30434,
    "start_time": "2022-12-11T12:15:21.057Z"
   },
   {
    "duration": 4,
    "start_time": "2022-12-11T12:15:51.493Z"
   },
   {
    "duration": 21,
    "start_time": "2022-12-11T12:15:51.499Z"
   },
   {
    "duration": 4,
    "start_time": "2022-12-11T12:15:51.522Z"
   },
   {
    "duration": 39,
    "start_time": "2022-12-11T12:15:51.535Z"
   },
   {
    "duration": 8,
    "start_time": "2022-12-11T12:15:51.576Z"
   },
   {
    "duration": 13,
    "start_time": "2022-12-11T12:15:51.586Z"
   },
   {
    "duration": 99,
    "start_time": "2022-12-11T12:15:51.601Z"
   },
   {
    "duration": 2618,
    "start_time": "2022-12-11T12:15:51.702Z"
   },
   {
    "duration": 4,
    "start_time": "2022-12-11T12:15:54.323Z"
   },
   {
    "duration": 30,
    "start_time": "2022-12-11T12:15:54.335Z"
   },
   {
    "duration": 8,
    "start_time": "2022-12-11T12:15:54.366Z"
   },
   {
    "duration": 11,
    "start_time": "2022-12-11T12:15:54.376Z"
   },
   {
    "duration": 7,
    "start_time": "2022-12-11T12:15:54.388Z"
   },
   {
    "duration": 9,
    "start_time": "2022-12-11T12:15:54.397Z"
   },
   {
    "duration": 13,
    "start_time": "2022-12-11T12:15:54.408Z"
   },
   {
    "duration": 22,
    "start_time": "2022-12-11T12:15:54.948Z"
   },
   {
    "duration": 10,
    "start_time": "2022-12-11T12:15:56.176Z"
   },
   {
    "duration": 6,
    "start_time": "2022-12-11T12:15:58.585Z"
   },
   {
    "duration": 9,
    "start_time": "2022-12-11T12:15:58.948Z"
   },
   {
    "duration": 8,
    "start_time": "2022-12-11T12:15:59.575Z"
   },
   {
    "duration": 19,
    "start_time": "2022-12-11T12:16:00.174Z"
   },
   {
    "duration": 22,
    "start_time": "2022-12-11T12:16:00.553Z"
   },
   {
    "duration": 48759,
    "start_time": "2022-12-11T12:16:00.577Z"
   },
   {
    "duration": 35033,
    "start_time": "2022-12-11T12:16:49.345Z"
   },
   {
    "duration": 95,
    "start_time": "2022-12-11T12:17:24.381Z"
   },
   {
    "duration": 39,
    "start_time": "2022-12-11T12:17:24.478Z"
   },
   {
    "duration": 32,
    "start_time": "2022-12-11T12:17:24.518Z"
   },
   {
    "duration": 5,
    "start_time": "2022-12-11T12:18:05.350Z"
   },
   {
    "duration": 4,
    "start_time": "2022-12-11T12:18:05.785Z"
   },
   {
    "duration": 103,
    "start_time": "2022-12-11T12:18:06.157Z"
   },
   {
    "duration": 99,
    "start_time": "2022-12-11T12:18:06.297Z"
   },
   {
    "duration": 4,
    "start_time": "2022-12-11T12:18:07.208Z"
   },
   {
    "duration": 3116,
    "start_time": "2022-12-11T12:18:07.366Z"
   },
   {
    "duration": 4,
    "start_time": "2022-12-11T12:18:10.484Z"
   },
   {
    "duration": 2589,
    "start_time": "2022-12-11T12:18:10.490Z"
   },
   {
    "duration": 4,
    "start_time": "2022-12-11T12:18:13.082Z"
   },
   {
    "duration": 16,
    "start_time": "2022-12-11T12:18:13.089Z"
   },
   {
    "duration": 6,
    "start_time": "2022-12-11T12:18:13.107Z"
   },
   {
    "duration": 23,
    "start_time": "2022-12-11T12:18:13.140Z"
   },
   {
    "duration": 142,
    "start_time": "2022-12-11T12:18:13.165Z"
   },
   {
    "duration": 75,
    "start_time": "2022-12-11T12:18:13.309Z"
   },
   {
    "duration": 23,
    "start_time": "2022-12-11T12:18:13.386Z"
   },
   {
    "duration": 7,
    "start_time": "2022-12-11T12:18:14.152Z"
   },
   {
    "duration": 548,
    "start_time": "2022-12-11T12:18:15.282Z"
   },
   {
    "duration": 12,
    "start_time": "2022-12-11T12:18:16.013Z"
   },
   {
    "duration": 9,
    "start_time": "2022-12-11T12:18:16.778Z"
   },
   {
    "duration": 7,
    "start_time": "2022-12-11T12:18:18.760Z"
   },
   {
    "duration": 8,
    "start_time": "2022-12-11T12:18:19.114Z"
   },
   {
    "duration": 7,
    "start_time": "2022-12-11T12:18:19.629Z"
   },
   {
    "duration": 17,
    "start_time": "2022-12-11T12:18:20.432Z"
   },
   {
    "duration": 25,
    "start_time": "2022-12-11T12:18:22.002Z"
   },
   {
    "duration": 6,
    "start_time": "2022-12-11T12:18:22.721Z"
   },
   {
    "duration": 10,
    "start_time": "2022-12-11T12:18:23.234Z"
   },
   {
    "duration": 4,
    "start_time": "2022-12-11T12:18:23.767Z"
   },
   {
    "duration": 8,
    "start_time": "2022-12-11T12:18:23.998Z"
   },
   {
    "duration": 8,
    "start_time": "2022-12-11T12:18:25.422Z"
   },
   {
    "duration": 5,
    "start_time": "2022-12-11T12:18:26.069Z"
   },
   {
    "duration": 4,
    "start_time": "2022-12-11T12:18:26.274Z"
   },
   {
    "duration": 24,
    "start_time": "2022-12-11T12:18:27.589Z"
   },
   {
    "duration": 5,
    "start_time": "2022-12-11T12:18:41.279Z"
   },
   {
    "duration": 20,
    "start_time": "2022-12-11T12:18:55.858Z"
   },
   {
    "duration": 6,
    "start_time": "2022-12-11T12:20:40.407Z"
   },
   {
    "duration": 13,
    "start_time": "2022-12-11T12:20:47.688Z"
   },
   {
    "duration": 5,
    "start_time": "2022-12-11T12:20:57.861Z"
   },
   {
    "duration": 4,
    "start_time": "2022-12-11T12:21:00.415Z"
   },
   {
    "duration": 5,
    "start_time": "2022-12-11T12:22:56.986Z"
   },
   {
    "duration": 361,
    "start_time": "2022-12-11T12:23:37.020Z"
   },
   {
    "duration": 22,
    "start_time": "2022-12-11T12:23:38.793Z"
   },
   {
    "duration": 5,
    "start_time": "2022-12-11T12:25:09.622Z"
   },
   {
    "duration": 24,
    "start_time": "2022-12-11T12:26:13.466Z"
   },
   {
    "duration": 24,
    "start_time": "2022-12-11T12:26:46.988Z"
   },
   {
    "duration": 206,
    "start_time": "2022-12-11T12:27:25.650Z"
   },
   {
    "duration": 252,
    "start_time": "2022-12-11T12:27:28.005Z"
   },
   {
    "duration": 288,
    "start_time": "2022-12-11T12:27:35.815Z"
   },
   {
    "duration": 222,
    "start_time": "2022-12-11T12:27:37.772Z"
   },
   {
    "duration": 196,
    "start_time": "2022-12-11T12:27:40.762Z"
   },
   {
    "duration": 186,
    "start_time": "2022-12-11T12:35:51.642Z"
   },
   {
    "duration": 226,
    "start_time": "2022-12-11T12:36:20.974Z"
   },
   {
    "duration": 187,
    "start_time": "2022-12-11T12:36:39.268Z"
   },
   {
    "duration": 191,
    "start_time": "2022-12-11T12:36:49.624Z"
   },
   {
    "duration": 190,
    "start_time": "2022-12-11T12:38:04.037Z"
   },
   {
    "duration": 213,
    "start_time": "2022-12-11T12:38:26.325Z"
   },
   {
    "duration": 195,
    "start_time": "2022-12-11T12:39:01.406Z"
   },
   {
    "duration": 84,
    "start_time": "2022-12-11T12:42:29.848Z"
   },
   {
    "duration": 7,
    "start_time": "2022-12-11T12:43:35.791Z"
   },
   {
    "duration": 250,
    "start_time": "2022-12-11T12:44:38.372Z"
   },
   {
    "duration": 127,
    "start_time": "2022-12-11T12:48:14.708Z"
   },
   {
    "duration": 118,
    "start_time": "2022-12-11T12:49:29.688Z"
   },
   {
    "duration": 151,
    "start_time": "2022-12-11T12:53:15.060Z"
   },
   {
    "duration": 155,
    "start_time": "2022-12-11T12:53:21.450Z"
   },
   {
    "duration": 173,
    "start_time": "2022-12-11T12:53:30.274Z"
   },
   {
    "duration": 162,
    "start_time": "2022-12-11T12:54:00.654Z"
   },
   {
    "duration": 140,
    "start_time": "2022-12-11T12:54:10.598Z"
   },
   {
    "duration": 142,
    "start_time": "2022-12-11T12:54:37.227Z"
   },
   {
    "duration": 4,
    "start_time": "2022-12-11T12:55:56.809Z"
   },
   {
    "duration": 7,
    "start_time": "2022-12-11T12:55:59.274Z"
   },
   {
    "duration": 205,
    "start_time": "2022-12-11T12:56:22.215Z"
   },
   {
    "duration": 177,
    "start_time": "2022-12-11T12:57:41.589Z"
   },
   {
    "duration": 129,
    "start_time": "2022-12-11T12:57:57.048Z"
   },
   {
    "duration": 155,
    "start_time": "2022-12-11T12:58:00.132Z"
   },
   {
    "duration": 275,
    "start_time": "2022-12-11T12:58:00.289Z"
   },
   {
    "duration": 209,
    "start_time": "2022-12-11T12:58:00.567Z"
   },
   {
    "duration": 213,
    "start_time": "2022-12-11T12:58:00.778Z"
   },
   {
    "duration": 176,
    "start_time": "2022-12-11T12:58:00.993Z"
   },
   {
    "duration": 198,
    "start_time": "2022-12-11T12:58:01.171Z"
   },
   {
    "duration": 179,
    "start_time": "2022-12-11T12:58:01.497Z"
   },
   {
    "duration": 176,
    "start_time": "2022-12-11T12:58:01.683Z"
   },
   {
    "duration": 176,
    "start_time": "2022-12-11T12:58:01.919Z"
   },
   {
    "duration": 59,
    "start_time": "2022-12-11T12:58:28.210Z"
   },
   {
    "duration": 3,
    "start_time": "2022-12-11T12:58:31.624Z"
   },
   {
    "duration": 162,
    "start_time": "2022-12-11T12:59:11.222Z"
   },
   {
    "duration": 160,
    "start_time": "2022-12-11T12:59:13.901Z"
   },
   {
    "duration": 141,
    "start_time": "2022-12-11T12:59:15.178Z"
   },
   {
    "duration": 95,
    "start_time": "2022-12-11T13:01:18.773Z"
   },
   {
    "duration": 592,
    "start_time": "2022-12-11T13:01:41.198Z"
   },
   {
    "duration": 94,
    "start_time": "2022-12-11T13:01:41.792Z"
   },
   {
    "duration": 9,
    "start_time": "2022-12-11T13:01:41.887Z"
   },
   {
    "duration": 96,
    "start_time": "2022-12-11T13:01:41.898Z"
   },
   {
    "duration": 27,
    "start_time": "2022-12-11T13:01:41.996Z"
   },
   {
    "duration": 4,
    "start_time": "2022-12-11T13:01:42.250Z"
   },
   {
    "duration": 15,
    "start_time": "2022-12-11T13:01:42.814Z"
   },
   {
    "duration": 10,
    "start_time": "2022-12-11T13:01:43.422Z"
   },
   {
    "duration": 34,
    "start_time": "2022-12-11T13:01:43.961Z"
   },
   {
    "duration": 78,
    "start_time": "2022-12-11T13:01:44.503Z"
   },
   {
    "duration": 3,
    "start_time": "2022-12-11T13:01:46.058Z"
   },
   {
    "duration": 3,
    "start_time": "2022-12-11T13:01:46.490Z"
   },
   {
    "duration": 5,
    "start_time": "2022-12-11T13:01:47.062Z"
   },
   {
    "duration": 6,
    "start_time": "2022-12-11T13:01:47.485Z"
   },
   {
    "duration": 5,
    "start_time": "2022-12-11T13:01:47.993Z"
   },
   {
    "duration": 119,
    "start_time": "2022-12-11T13:01:49.116Z"
   },
   {
    "duration": 1924,
    "start_time": "2022-12-11T13:01:49.323Z"
   },
   {
    "duration": 4,
    "start_time": "2022-12-11T13:01:51.250Z"
   },
   {
    "duration": 27745,
    "start_time": "2022-12-11T13:01:51.255Z"
   },
   {
    "duration": 4,
    "start_time": "2022-12-11T13:02:19.002Z"
   },
   {
    "duration": 19,
    "start_time": "2022-12-11T13:02:19.008Z"
   },
   {
    "duration": 5,
    "start_time": "2022-12-11T13:02:19.036Z"
   },
   {
    "duration": 30,
    "start_time": "2022-12-11T13:02:19.043Z"
   },
   {
    "duration": 7,
    "start_time": "2022-12-11T13:02:19.075Z"
   },
   {
    "duration": 17,
    "start_time": "2022-12-11T13:02:19.084Z"
   },
   {
    "duration": 107,
    "start_time": "2022-12-11T13:02:19.104Z"
   },
   {
    "duration": 2434,
    "start_time": "2022-12-11T13:02:19.213Z"
   },
   {
    "duration": 4,
    "start_time": "2022-12-11T13:02:21.649Z"
   },
   {
    "duration": 26,
    "start_time": "2022-12-11T13:02:21.654Z"
   },
   {
    "duration": 34,
    "start_time": "2022-12-11T13:02:21.683Z"
   },
   {
    "duration": 19,
    "start_time": "2022-12-11T13:02:21.719Z"
   },
   {
    "duration": 23,
    "start_time": "2022-12-11T13:02:21.740Z"
   },
   {
    "duration": 19,
    "start_time": "2022-12-11T13:02:21.765Z"
   },
   {
    "duration": 26,
    "start_time": "2022-12-11T13:02:21.786Z"
   },
   {
    "duration": 15,
    "start_time": "2022-12-11T13:02:21.814Z"
   },
   {
    "duration": 19,
    "start_time": "2022-12-11T13:02:21.831Z"
   },
   {
    "duration": 14,
    "start_time": "2022-12-11T13:02:21.851Z"
   },
   {
    "duration": 38,
    "start_time": "2022-12-11T13:02:21.867Z"
   },
   {
    "duration": 26,
    "start_time": "2022-12-11T13:02:21.907Z"
   },
   {
    "duration": 34,
    "start_time": "2022-12-11T13:02:21.935Z"
   },
   {
    "duration": 20,
    "start_time": "2022-12-11T13:02:21.971Z"
   },
   {
    "duration": 45142,
    "start_time": "2022-12-11T13:02:21.993Z"
   },
   {
    "duration": 32969,
    "start_time": "2022-12-11T13:03:07.137Z"
   },
   {
    "duration": 88,
    "start_time": "2022-12-11T13:03:40.111Z"
   },
   {
    "duration": 44,
    "start_time": "2022-12-11T13:03:40.201Z"
   },
   {
    "duration": 7,
    "start_time": "2022-12-11T13:03:40.247Z"
   },
   {
    "duration": 9,
    "start_time": "2022-12-11T13:03:40.255Z"
   },
   {
    "duration": 8,
    "start_time": "2022-12-11T13:03:40.265Z"
   },
   {
    "duration": 107,
    "start_time": "2022-12-11T13:03:40.275Z"
   },
   {
    "duration": 97,
    "start_time": "2022-12-11T13:03:40.384Z"
   },
   {
    "duration": 4,
    "start_time": "2022-12-11T13:03:40.482Z"
   },
   {
    "duration": 2860,
    "start_time": "2022-12-11T13:03:40.488Z"
   },
   {
    "duration": 3,
    "start_time": "2022-12-11T13:03:43.350Z"
   },
   {
    "duration": 2231,
    "start_time": "2022-12-11T13:03:43.355Z"
   },
   {
    "duration": 4,
    "start_time": "2022-12-11T13:03:45.588Z"
   },
   {
    "duration": 14,
    "start_time": "2022-12-11T13:03:45.594Z"
   },
   {
    "duration": 5,
    "start_time": "2022-12-11T13:03:45.609Z"
   },
   {
    "duration": 23,
    "start_time": "2022-12-11T13:03:45.616Z"
   },
   {
    "duration": 121,
    "start_time": "2022-12-11T13:03:45.641Z"
   },
   {
    "duration": 59,
    "start_time": "2022-12-11T13:03:45.764Z"
   },
   {
    "duration": 28,
    "start_time": "2022-12-11T13:03:45.837Z"
   },
   {
    "duration": 5,
    "start_time": "2022-12-11T13:03:45.866Z"
   },
   {
    "duration": 480,
    "start_time": "2022-12-11T13:03:45.873Z"
   },
   {
    "duration": 10,
    "start_time": "2022-12-11T13:03:46.354Z"
   },
   {
    "duration": 8,
    "start_time": "2022-12-11T13:03:46.366Z"
   },
   {
    "duration": 5,
    "start_time": "2022-12-11T13:03:46.376Z"
   },
   {
    "duration": 7,
    "start_time": "2022-12-11T13:03:46.382Z"
   },
   {
    "duration": 4,
    "start_time": "2022-12-11T13:03:46.391Z"
   },
   {
    "duration": 40,
    "start_time": "2022-12-11T13:03:46.397Z"
   },
   {
    "duration": 30,
    "start_time": "2022-12-11T13:03:46.439Z"
   },
   {
    "duration": 9,
    "start_time": "2022-12-11T13:03:46.470Z"
   },
   {
    "duration": 8,
    "start_time": "2022-12-11T13:03:46.481Z"
   },
   {
    "duration": 4,
    "start_time": "2022-12-11T13:03:46.490Z"
   },
   {
    "duration": 10,
    "start_time": "2022-12-11T13:03:46.496Z"
   },
   {
    "duration": 7,
    "start_time": "2022-12-11T13:03:46.508Z"
   },
   {
    "duration": 18,
    "start_time": "2022-12-11T13:03:46.517Z"
   },
   {
    "duration": 6,
    "start_time": "2022-12-11T13:03:46.537Z"
   },
   {
    "duration": 4,
    "start_time": "2022-12-11T13:03:46.545Z"
   },
   {
    "duration": 13,
    "start_time": "2022-12-11T13:03:46.551Z"
   },
   {
    "duration": 5,
    "start_time": "2022-12-11T13:03:46.565Z"
   },
   {
    "duration": 368,
    "start_time": "2022-12-11T13:03:46.572Z"
   },
   {
    "duration": 25,
    "start_time": "2022-12-11T13:03:46.942Z"
   },
   {
    "duration": 187,
    "start_time": "2022-12-11T13:03:46.969Z"
   },
   {
    "duration": 202,
    "start_time": "2022-12-11T13:03:47.157Z"
   },
   {
    "duration": 207,
    "start_time": "2022-12-11T13:03:47.361Z"
   },
   {
    "duration": 181,
    "start_time": "2022-12-11T13:03:47.570Z"
   },
   {
    "duration": 144,
    "start_time": "2022-12-11T13:03:47.753Z"
   },
   {
    "duration": 151,
    "start_time": "2022-12-11T13:03:47.898Z"
   },
   {
    "duration": 190,
    "start_time": "2022-12-11T13:03:48.051Z"
   },
   {
    "duration": 235,
    "start_time": "2022-12-11T13:03:48.243Z"
   },
   {
    "duration": 141,
    "start_time": "2022-12-11T13:03:48.480Z"
   },
   {
    "duration": 151,
    "start_time": "2022-12-11T13:03:48.623Z"
   },
   {
    "duration": 142,
    "start_time": "2022-12-11T13:03:48.776Z"
   },
   {
    "duration": 179,
    "start_time": "2022-12-11T13:03:48.919Z"
   },
   {
    "duration": 185,
    "start_time": "2022-12-11T13:03:49.100Z"
   },
   {
    "duration": 230,
    "start_time": "2022-12-11T13:03:49.287Z"
   },
   {
    "duration": 144,
    "start_time": "2022-12-11T13:03:49.518Z"
   },
   {
    "duration": 160,
    "start_time": "2022-12-11T13:03:49.668Z"
   },
   {
    "duration": 152,
    "start_time": "2022-12-11T13:03:49.830Z"
   },
   {
    "duration": 145,
    "start_time": "2022-12-11T13:03:49.985Z"
   },
   {
    "duration": 6,
    "start_time": "2022-12-11T14:24:37.535Z"
   },
   {
    "duration": 941,
    "start_time": "2022-12-11T14:24:59.136Z"
   },
   {
    "duration": 7,
    "start_time": "2022-12-11T14:25:03.858Z"
   },
   {
    "duration": 24,
    "start_time": "2022-12-11T14:27:07.718Z"
   },
   {
    "duration": 22,
    "start_time": "2022-12-11T14:27:48.537Z"
   },
   {
    "duration": 24,
    "start_time": "2022-12-11T14:28:13.507Z"
   },
   {
    "duration": 24,
    "start_time": "2022-12-11T14:28:20.053Z"
   },
   {
    "duration": 175,
    "start_time": "2022-12-11T14:31:35.471Z"
   },
   {
    "duration": 182,
    "start_time": "2022-12-11T14:32:27.081Z"
   },
   {
    "duration": 267,
    "start_time": "2022-12-11T14:36:35.427Z"
   },
   {
    "duration": 234,
    "start_time": "2022-12-11T14:37:20.565Z"
   },
   {
    "duration": 318,
    "start_time": "2022-12-11T14:38:38.262Z"
   },
   {
    "duration": 279,
    "start_time": "2022-12-11T14:40:16.936Z"
   },
   {
    "duration": 255,
    "start_time": "2022-12-11T14:40:57.846Z"
   },
   {
    "duration": 227,
    "start_time": "2022-12-11T14:46:15.644Z"
   },
   {
    "duration": 257,
    "start_time": "2022-12-11T15:17:49.453Z"
   },
   {
    "duration": 358,
    "start_time": "2022-12-11T15:18:13.757Z"
   },
   {
    "duration": 23,
    "start_time": "2022-12-11T15:20:48.287Z"
   },
   {
    "duration": 18,
    "start_time": "2022-12-11T15:31:13.986Z"
   },
   {
    "duration": 16,
    "start_time": "2022-12-11T15:32:01.934Z"
   },
   {
    "duration": 150,
    "start_time": "2022-12-11T15:34:21.480Z"
   },
   {
    "duration": 183,
    "start_time": "2022-12-11T15:34:26.767Z"
   },
   {
    "duration": 160,
    "start_time": "2022-12-11T15:34:28.467Z"
   },
   {
    "duration": 158,
    "start_time": "2022-12-11T15:34:39.765Z"
   },
   {
    "duration": 174,
    "start_time": "2022-12-11T15:34:44.256Z"
   },
   {
    "duration": 151,
    "start_time": "2022-12-11T15:34:45.609Z"
   },
   {
    "duration": 166,
    "start_time": "2022-12-11T15:34:48.087Z"
   },
   {
    "duration": 207,
    "start_time": "2022-12-11T15:36:01.736Z"
   },
   {
    "duration": 222,
    "start_time": "2022-12-11T15:37:14.490Z"
   },
   {
    "duration": 307,
    "start_time": "2022-12-11T15:37:42.805Z"
   },
   {
    "duration": 282,
    "start_time": "2022-12-11T15:38:42.357Z"
   },
   {
    "duration": 269,
    "start_time": "2022-12-11T15:38:42.642Z"
   },
   {
    "duration": 48,
    "start_time": "2022-12-11T15:38:42.913Z"
   },
   {
    "duration": 17,
    "start_time": "2022-12-11T15:38:43.270Z"
   },
   {
    "duration": 141,
    "start_time": "2022-12-11T15:38:43.289Z"
   },
   {
    "duration": 176,
    "start_time": "2022-12-11T15:38:43.434Z"
   },
   {
    "duration": 149,
    "start_time": "2022-12-11T15:38:44.175Z"
   },
   {
    "duration": 172,
    "start_time": "2022-12-11T15:38:44.628Z"
   },
   {
    "duration": 164,
    "start_time": "2022-12-11T15:38:44.802Z"
   },
   {
    "duration": 247,
    "start_time": "2022-12-11T15:38:44.968Z"
   },
   {
    "duration": 170,
    "start_time": "2022-12-11T15:38:46.345Z"
   },
   {
    "duration": 168,
    "start_time": "2022-12-11T15:38:47.086Z"
   },
   {
    "duration": 170,
    "start_time": "2022-12-11T15:38:47.288Z"
   },
   {
    "duration": 152,
    "start_time": "2022-12-11T15:39:50.990Z"
   },
   {
    "duration": 158,
    "start_time": "2022-12-11T15:40:18.274Z"
   },
   {
    "duration": 65,
    "start_time": "2022-12-12T08:25:07.674Z"
   }
  ],
  "kernelspec": {
   "display_name": "Python 3 (ipykernel)",
   "language": "python",
   "name": "python3"
  },
  "language_info": {
   "codemirror_mode": {
    "name": "ipython",
    "version": 3
   },
   "file_extension": ".py",
   "mimetype": "text/x-python",
   "name": "python",
   "nbconvert_exporter": "python",
   "pygments_lexer": "ipython3",
   "version": "3.9.12"
  },
  "toc": {
   "base_numbering": 1,
   "nav_menu": {},
   "number_sections": true,
   "sideBar": true,
   "skip_h1_title": true,
   "title_cell": "Содержание",
   "title_sidebar": "Содержание",
   "toc_cell": true,
   "toc_position": {
    "height": "calc(100% - 180px)",
    "left": "10px",
    "top": "150px",
    "width": "308.425px"
   },
   "toc_section_display": true,
   "toc_window_display": true
  }
 },
 "nbformat": 4,
 "nbformat_minor": 4
}
