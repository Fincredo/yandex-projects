{
 "cells": [
  {
   "cell_type": "markdown",
   "id": "05c9cb88",
   "metadata": {},
   "source": [
    "# Исследование надежности заемщиков"
   ]
  },
  {
   "cell_type": "markdown",
   "id": "fe9ed474",
   "metadata": {
    "toc": true
   },
   "source": [
    "<h1>Содержание<span class=\"tocSkip\"></span></h1>\n",
    "<div class=\"toc\"><ul class=\"toc-item\"><li><span><a href=\"#Описание-проекта\" data-toc-modified-id=\"Описание-проекта-1\"><span class=\"toc-item-num\">1&nbsp;&nbsp;</span>Описание проекта</a></span></li><li><span><a href=\"#Обзор-данных\" data-toc-modified-id=\"Обзор-данных-2\"><span class=\"toc-item-num\">2&nbsp;&nbsp;</span>Обзор данных</a></span><ul class=\"toc-item\"><li><span><a href=\"#Выявление-пропусков\" data-toc-modified-id=\"Выявление-пропусков-2.1\"><span class=\"toc-item-num\">2.1&nbsp;&nbsp;</span>Выявление пропусков</a></span></li><li><span><a href=\"#Проверка-данных-на-аномалии\" data-toc-modified-id=\"Проверка-данных-на-аномалии-2.2\"><span class=\"toc-item-num\">2.2&nbsp;&nbsp;</span>Проверка данных на аномалии</a></span><ul class=\"toc-item\"><li><span><a href=\"#Столбец-&quot;children&quot;\" data-toc-modified-id=\"Столбец-&quot;children&quot;-2.2.1\"><span class=\"toc-item-num\">2.2.1&nbsp;&nbsp;</span>Столбец \"children\"</a></span></li><li><span><a href=\"#Столбец-&quot;days_employed&quot;\" data-toc-modified-id=\"Столбец-&quot;days_employed&quot;-2.2.2\"><span class=\"toc-item-num\">2.2.2&nbsp;&nbsp;</span>Столбец \"days_employed\"</a></span></li><li><span><a href=\"#Столбец-&quot;dob_years&quot;\" data-toc-modified-id=\"Столбец-&quot;dob_years&quot;-2.2.3\"><span class=\"toc-item-num\">2.2.3&nbsp;&nbsp;</span>Столбец \"dob_years\"</a></span></li></ul></li></ul></li><li><span><a href=\"#Обработка-данных\" data-toc-modified-id=\"Обработка-данных-3\"><span class=\"toc-item-num\">3&nbsp;&nbsp;</span>Обработка данных</a></span><ul class=\"toc-item\"><li><span><a href=\"#Столбец-&quot;total_income&quot;\" data-toc-modified-id=\"Столбец-&quot;total_income&quot;-3.1\"><span class=\"toc-item-num\">3.1&nbsp;&nbsp;</span>Столбец \"total_income\"</a></span></li><li><span><a href=\"#Столбец-&quot;dob_years&quot;\" data-toc-modified-id=\"Столбец-&quot;dob_years&quot;-3.2\"><span class=\"toc-item-num\">3.2&nbsp;&nbsp;</span>Столбец \"dob_years\"</a></span></li><li><span><a href=\"#Cтолбец-&quot;days_employed&quot;\" data-toc-modified-id=\"Cтолбец-&quot;days_employed&quot;-3.3\"><span class=\"toc-item-num\">3.3&nbsp;&nbsp;</span>Cтолбец \"days_employed\"</a></span><ul class=\"toc-item\"><li><span><a href=\"#Шаг-1\" data-toc-modified-id=\"Шаг-1-3.3.1\"><span class=\"toc-item-num\">3.3.1&nbsp;&nbsp;</span>Шаг 1</a></span></li><li><span><a href=\"#Шаг-2\" data-toc-modified-id=\"Шаг-2-3.3.2\"><span class=\"toc-item-num\">3.3.2&nbsp;&nbsp;</span>Шаг 2</a></span></li><li><span><a href=\"#Шаг-3\" data-toc-modified-id=\"Шаг-3-3.3.3\"><span class=\"toc-item-num\">3.3.3&nbsp;&nbsp;</span>Шаг 3</a></span></li><li><span><a href=\"#Шаг-4\" data-toc-modified-id=\"Шаг-4-3.3.4\"><span class=\"toc-item-num\">3.3.4&nbsp;&nbsp;</span>Шаг 4</a></span></li><li><span><a href=\"#Шаг-5\" data-toc-modified-id=\"Шаг-5-3.3.5\"><span class=\"toc-item-num\">3.3.5&nbsp;&nbsp;</span>Шаг 5</a></span></li><li><span><a href=\"#Шаг-6\" data-toc-modified-id=\"Шаг-6-3.3.6\"><span class=\"toc-item-num\">3.3.6&nbsp;&nbsp;</span>Шаг 6</a></span></li></ul></li><li><span><a href=\"#Cтолбец-&quot;children&quot;\" data-toc-modified-id=\"Cтолбец-&quot;children&quot;-3.4\"><span class=\"toc-item-num\">3.4&nbsp;&nbsp;</span>Cтолбец \"children\"</a></span></li><li><span><a href=\"#Изменение-типов-данных\" data-toc-modified-id=\"Изменение-типов-данных-3.5\"><span class=\"toc-item-num\">3.5&nbsp;&nbsp;</span>Изменение типов данных</a></span></li><li><span><a href=\"#Удаление-дубликатов\" data-toc-modified-id=\"Удаление-дубликатов-3.6\"><span class=\"toc-item-num\">3.6&nbsp;&nbsp;</span>Удаление дубликатов</a></span><ul class=\"toc-item\"><li><span><a href=\"#Полные-дубликаты\" data-toc-modified-id=\"Полные-дубликаты-3.6.1\"><span class=\"toc-item-num\">3.6.1&nbsp;&nbsp;</span>Полные дубликаты</a></span></li><li><span><a href=\"#Неявные-дубликаты\" data-toc-modified-id=\"Неявные-дубликаты-3.6.2\"><span class=\"toc-item-num\">3.6.2&nbsp;&nbsp;</span>Неявные дубликаты</a></span><ul class=\"toc-item\"><li><span><a href=\"#Столбец-&quot;education&quot;\" data-toc-modified-id=\"Столбец-&quot;education&quot;-3.6.2.1\"><span class=\"toc-item-num\">3.6.2.1&nbsp;&nbsp;</span>Столбец \"education\"</a></span></li><li><span><a href=\"#Столбец-&quot;family_status&quot;\" data-toc-modified-id=\"Столбец-&quot;family_status&quot;-3.6.2.2\"><span class=\"toc-item-num\">3.6.2.2&nbsp;&nbsp;</span>Столбец \"family_status\"</a></span></li><li><span><a href=\"#Столбец-&quot;gender&quot;\" data-toc-modified-id=\"Столбец-&quot;gender&quot;-3.6.2.3\"><span class=\"toc-item-num\">3.6.2.3&nbsp;&nbsp;</span>Столбец \"gender\"</a></span></li><li><span><a href=\"#Столбец-&quot;income_type&quot;.\" data-toc-modified-id=\"Столбец-&quot;income_type&quot;.-3.6.2.4\"><span class=\"toc-item-num\">3.6.2.4&nbsp;&nbsp;</span>Столбец \"income_type\".</a></span></li><li><span><a href=\"#Столбец-&quot;debt&quot;\" data-toc-modified-id=\"Столбец-&quot;debt&quot;-3.6.2.5\"><span class=\"toc-item-num\">3.6.2.5&nbsp;&nbsp;</span>Столбец \"debt\"</a></span></li><li><span><a href=\"#Столбец-&quot;purpose&quot;\" data-toc-modified-id=\"Столбец-&quot;purpose&quot;-3.6.2.6\"><span class=\"toc-item-num\">3.6.2.6&nbsp;&nbsp;</span>Столбец \"purpose\"</a></span></li></ul></li></ul></li><li><span><a href=\"#Формирование-дополнительных-датафреймов-словарей\" data-toc-modified-id=\"Формирование-дополнительных-датафреймов-словарей-3.7\"><span class=\"toc-item-num\">3.7&nbsp;&nbsp;</span>Формирование дополнительных датафреймов-словарей</a></span></li><li><span><a href=\"#Категоризация-дохода\" data-toc-modified-id=\"Категоризация-дохода-3.8\"><span class=\"toc-item-num\">3.8&nbsp;&nbsp;</span>Категоризация дохода</a></span></li><li><span><a href=\"#Категоризация-целей-кредита\" data-toc-modified-id=\"Категоризация-целей-кредита-3.9\"><span class=\"toc-item-num\">3.9&nbsp;&nbsp;</span>Категоризация целей кредита</a></span></li></ul></li><li><span><a href=\"#Ответы-на-вопросы\" data-toc-modified-id=\"Ответы-на-вопросы-4\"><span class=\"toc-item-num\">4&nbsp;&nbsp;</span>Ответы на вопросы</a></span><ul class=\"toc-item\"><li><span><a href=\"#Вопрос-1\" data-toc-modified-id=\"Вопрос-1-4.1\"><span class=\"toc-item-num\">4.1&nbsp;&nbsp;</span>Вопрос 1</a></span></li><li><span><a href=\"#Вопрос-2\" data-toc-modified-id=\"Вопрос-2-4.2\"><span class=\"toc-item-num\">4.2&nbsp;&nbsp;</span>Вопрос 2</a></span></li><li><span><a href=\"#Вопрос-3\" data-toc-modified-id=\"Вопрос-3-4.3\"><span class=\"toc-item-num\">4.3&nbsp;&nbsp;</span>Вопрос 3</a></span></li><li><span><a href=\"#Вопрос-4\" data-toc-modified-id=\"Вопрос-4-4.4\"><span class=\"toc-item-num\">4.4&nbsp;&nbsp;</span>Вопрос 4</a></span></li></ul></li><li><span><a href=\"#Общие-выводы\" data-toc-modified-id=\"Общие-выводы-5\"><span class=\"toc-item-num\">5&nbsp;&nbsp;</span>Общие выводы</a></span></li></ul></div>"
   ]
  },
  {
   "cell_type": "markdown",
   "id": "a2f3be23",
   "metadata": {},
   "source": [
    "## Описание проекта"
   ]
  },
  {
   "cell_type": "markdown",
   "id": "4c2d4af1",
   "metadata": {},
   "source": [
    "Кредитному отделу банка необходимо выяснить, влияет ли семейное положение и количество детей у заёмщика, а также уровень его дохода и цель кредитования - на факт погашения кредита в срок. Результаты исследования будут учтены при построении модели кредитного скоринга — специальной системы, которая оценивает способность потенциального заёмщика вернуть кредит банку."
   ]
  },
  {
   "cell_type": "markdown",
   "id": "91343a32",
   "metadata": {},
   "source": [
    "## Обзор данных"
   ]
  },
  {
   "cell_type": "markdown",
   "id": "1b3c9eaf",
   "metadata": {},
   "source": [
    "Для начала работы нам необходимо импортировать библиотеку для работы с табличными данными \"Pandas\" и открыть csv-файл."
   ]
  },
  {
   "cell_type": "code",
   "execution_count": 1,
   "id": "09008bcb",
   "metadata": {},
   "outputs": [],
   "source": [
    "# Импортируем библиотеку Pandas.\n",
    "\n",
    "import pandas as pd"
   ]
  },
  {
   "cell_type": "code",
   "execution_count": 2,
   "id": "fb2e4737",
   "metadata": {},
   "outputs": [],
   "source": [
    "# Открываем csv-файл с таблицей и сохраняем в переменной data.\n",
    "\n",
    "data = pd.read_csv('datasets/data.csv')"
   ]
  },
  {
   "cell_type": "code",
   "execution_count": 3,
   "id": "460d9702",
   "metadata": {},
   "outputs": [
    {
     "data": {
      "text/html": [
       "<div>\n",
       "<style scoped>\n",
       "    .dataframe tbody tr th:only-of-type {\n",
       "        vertical-align: middle;\n",
       "    }\n",
       "\n",
       "    .dataframe tbody tr th {\n",
       "        vertical-align: top;\n",
       "    }\n",
       "\n",
       "    .dataframe thead th {\n",
       "        text-align: right;\n",
       "    }\n",
       "</style>\n",
       "<table border=\"1\" class=\"dataframe\">\n",
       "  <thead>\n",
       "    <tr style=\"text-align: right;\">\n",
       "      <th></th>\n",
       "      <th>children</th>\n",
       "      <th>days_employed</th>\n",
       "      <th>dob_years</th>\n",
       "      <th>education</th>\n",
       "      <th>education_id</th>\n",
       "      <th>family_status</th>\n",
       "      <th>family_status_id</th>\n",
       "      <th>gender</th>\n",
       "      <th>income_type</th>\n",
       "      <th>debt</th>\n",
       "      <th>total_income</th>\n",
       "      <th>purpose</th>\n",
       "    </tr>\n",
       "  </thead>\n",
       "  <tbody>\n",
       "    <tr>\n",
       "      <th>0</th>\n",
       "      <td>1</td>\n",
       "      <td>-8437.673028</td>\n",
       "      <td>42</td>\n",
       "      <td>высшее</td>\n",
       "      <td>0</td>\n",
       "      <td>женат / замужем</td>\n",
       "      <td>0</td>\n",
       "      <td>F</td>\n",
       "      <td>сотрудник</td>\n",
       "      <td>0</td>\n",
       "      <td>253875.639453</td>\n",
       "      <td>покупка жилья</td>\n",
       "    </tr>\n",
       "    <tr>\n",
       "      <th>1</th>\n",
       "      <td>1</td>\n",
       "      <td>-4024.803754</td>\n",
       "      <td>36</td>\n",
       "      <td>среднее</td>\n",
       "      <td>1</td>\n",
       "      <td>женат / замужем</td>\n",
       "      <td>0</td>\n",
       "      <td>F</td>\n",
       "      <td>сотрудник</td>\n",
       "      <td>0</td>\n",
       "      <td>112080.014102</td>\n",
       "      <td>приобретение автомобиля</td>\n",
       "    </tr>\n",
       "    <tr>\n",
       "      <th>2</th>\n",
       "      <td>0</td>\n",
       "      <td>-5623.422610</td>\n",
       "      <td>33</td>\n",
       "      <td>Среднее</td>\n",
       "      <td>1</td>\n",
       "      <td>женат / замужем</td>\n",
       "      <td>0</td>\n",
       "      <td>M</td>\n",
       "      <td>сотрудник</td>\n",
       "      <td>0</td>\n",
       "      <td>145885.952297</td>\n",
       "      <td>покупка жилья</td>\n",
       "    </tr>\n",
       "    <tr>\n",
       "      <th>3</th>\n",
       "      <td>3</td>\n",
       "      <td>-4124.747207</td>\n",
       "      <td>32</td>\n",
       "      <td>среднее</td>\n",
       "      <td>1</td>\n",
       "      <td>женат / замужем</td>\n",
       "      <td>0</td>\n",
       "      <td>M</td>\n",
       "      <td>сотрудник</td>\n",
       "      <td>0</td>\n",
       "      <td>267628.550329</td>\n",
       "      <td>дополнительное образование</td>\n",
       "    </tr>\n",
       "    <tr>\n",
       "      <th>4</th>\n",
       "      <td>0</td>\n",
       "      <td>340266.072047</td>\n",
       "      <td>53</td>\n",
       "      <td>среднее</td>\n",
       "      <td>1</td>\n",
       "      <td>гражданский брак</td>\n",
       "      <td>1</td>\n",
       "      <td>F</td>\n",
       "      <td>пенсионер</td>\n",
       "      <td>0</td>\n",
       "      <td>158616.077870</td>\n",
       "      <td>сыграть свадьбу</td>\n",
       "    </tr>\n",
       "  </tbody>\n",
       "</table>\n",
       "</div>"
      ],
      "text/plain": [
       "   children  days_employed  dob_years education  education_id  \\\n",
       "0         1   -8437.673028         42    высшее             0   \n",
       "1         1   -4024.803754         36   среднее             1   \n",
       "2         0   -5623.422610         33   Среднее             1   \n",
       "3         3   -4124.747207         32   среднее             1   \n",
       "4         0  340266.072047         53   среднее             1   \n",
       "\n",
       "      family_status  family_status_id gender income_type  debt   total_income  \\\n",
       "0   женат / замужем                 0      F   сотрудник     0  253875.639453   \n",
       "1   женат / замужем                 0      F   сотрудник     0  112080.014102   \n",
       "2   женат / замужем                 0      M   сотрудник     0  145885.952297   \n",
       "3   женат / замужем                 0      M   сотрудник     0  267628.550329   \n",
       "4  гражданский брак                 1      F   пенсионер     0  158616.077870   \n",
       "\n",
       "                      purpose  \n",
       "0               покупка жилья  \n",
       "1     приобретение автомобиля  \n",
       "2               покупка жилья  \n",
       "3  дополнительное образование  \n",
       "4             сыграть свадьбу  "
      ]
     },
     "execution_count": 3,
     "metadata": {},
     "output_type": "execute_result"
    }
   ],
   "source": [
    "# Получаем первые 5 строк таблицы.\n",
    "\n",
    "data.head()"
   ]
  },
  {
   "cell_type": "code",
   "execution_count": 4,
   "id": "75ad6fb2",
   "metadata": {},
   "outputs": [
    {
     "name": "stdout",
     "output_type": "stream",
     "text": [
      "<class 'pandas.core.frame.DataFrame'>\n",
      "RangeIndex: 21525 entries, 0 to 21524\n",
      "Data columns (total 12 columns):\n",
      " #   Column            Non-Null Count  Dtype  \n",
      "---  ------            --------------  -----  \n",
      " 0   children          21525 non-null  int64  \n",
      " 1   days_employed     19351 non-null  float64\n",
      " 2   dob_years         21525 non-null  int64  \n",
      " 3   education         21525 non-null  object \n",
      " 4   education_id      21525 non-null  int64  \n",
      " 5   family_status     21525 non-null  object \n",
      " 6   family_status_id  21525 non-null  int64  \n",
      " 7   gender            21525 non-null  object \n",
      " 8   income_type       21525 non-null  object \n",
      " 9   debt              21525 non-null  int64  \n",
      " 10  total_income      19351 non-null  float64\n",
      " 11  purpose           21525 non-null  object \n",
      "dtypes: float64(2), int64(5), object(5)\n",
      "memory usage: 2.0+ MB\n"
     ]
    }
   ],
   "source": [
    "# Получаем общую информацию по таблице.\n",
    "\n",
    "data.info()"
   ]
  },
  {
   "cell_type": "markdown",
   "id": "48799602",
   "metadata": {},
   "source": [
    "### Выявление пропусков"
   ]
  },
  {
   "cell_type": "markdown",
   "id": "8ddab212",
   "metadata": {},
   "source": [
    "В двух столбцах: с данными об общем трудовом стаже (\"days_employed\") и ежемесячном доходе (\"total_income\") \n",
    "есть пропущенные данные, причем одинаковое количество.\n",
    "\n",
    "Теоретически, причинами отсутствия данных могли бы быть:\n",
    "\n",
    "а) случайные технические сбои в банковской программе - вероятность этого невысока, так как данные, судя по всему, отсутствуют в одних и тех же строках двух столбцов;\n",
    "\n",
    "б) отсутствие у заемщика трудового стажа и, соответственно, дохода - это тоже маловероятно, особенно, учитывая, что тип занятости и возраст у этих заемщиков самый разный, и что банк не предоставил бы кредит при отсутствии дохода;\n",
    "\n",
    "в) невнесение своевременно сотрудником банка данных о заемщике в базу - такое возможно, если кредит пока находится в стадии оформления;\n",
    "\n",
    "г) непредоставление клиентом полного пакета документов - также возможно, например, если для определенных заемщиков подтверждение дохода не требуется."
   ]
  },
  {
   "cell_type": "markdown",
   "id": "ebdecf5e",
   "metadata": {},
   "source": [
    "Проверим, действительно ли данные отсутствуют в одних и тех же строках этих двух столбцов."
   ]
  },
  {
   "cell_type": "code",
   "execution_count": 5,
   "id": "fa78a8a6",
   "metadata": {},
   "outputs": [
    {
     "name": "stdout",
     "output_type": "stream",
     "text": [
      "<class 'pandas.core.frame.DataFrame'>\n",
      "Int64Index: 19351 entries, 0 to 21524\n",
      "Data columns (total 12 columns):\n",
      " #   Column            Non-Null Count  Dtype  \n",
      "---  ------            --------------  -----  \n",
      " 0   children          19351 non-null  int64  \n",
      " 1   days_employed     19351 non-null  float64\n",
      " 2   dob_years         19351 non-null  int64  \n",
      " 3   education         19351 non-null  object \n",
      " 4   education_id      19351 non-null  int64  \n",
      " 5   family_status     19351 non-null  object \n",
      " 6   family_status_id  19351 non-null  int64  \n",
      " 7   gender            19351 non-null  object \n",
      " 8   income_type       19351 non-null  object \n",
      " 9   debt              19351 non-null  int64  \n",
      " 10  total_income      19351 non-null  float64\n",
      " 11  purpose           19351 non-null  object \n",
      "dtypes: float64(2), int64(5), object(5)\n",
      "memory usage: 1.9+ MB\n"
     ]
    }
   ],
   "source": [
    "# Выясняем, сколько в таблице строк, \n",
    "# где в столбцах \"days_employed\" и \"total_income\" одновременно непустые значения.\n",
    "\n",
    "data[(data['days_employed'].notna()) & (data['total_income'].notna())].info()"
   ]
  },
  {
   "cell_type": "markdown",
   "id": "7c8d7ba4",
   "metadata": {},
   "source": [
    "Гипотеза подтвердилась. Если в одном из указанных столбцов стоит пустое значение, то и во втором оно пустое. В противном случае общих строк было бы меньше, чем 19351."
   ]
  },
  {
   "cell_type": "markdown",
   "id": "df0a2e2a",
   "metadata": {},
   "source": [
    "Проверим, разные ли типы занятости и возрасты у заемщиков с пустыми значениями стажа и дохода."
   ]
  },
  {
   "cell_type": "code",
   "execution_count": 6,
   "id": "54ab23cc",
   "metadata": {},
   "outputs": [
    {
     "data": {
      "text/plain": [
       "сотрудник          1105\n",
       "компаньон           508\n",
       "пенсионер           413\n",
       "госслужащий         147\n",
       "предприниматель       1\n",
       "Name: income_type, dtype: int64"
      ]
     },
     "execution_count": 6,
     "metadata": {},
     "output_type": "execute_result"
    }
   ],
   "source": [
    "# Выясняем, какие типы занятости у заемщиков, чьи стаж и доходы не указаны в таблице.\n",
    "# Слева - тип занятости, справа - количество таких заемщиков.\n",
    "\n",
    "data[(data['days_employed'].isna()) & (data['total_income'].isna())]['income_type'].value_counts()"
   ]
  },
  {
   "cell_type": "code",
   "execution_count": 7,
   "id": "cfa468ff",
   "metadata": {
    "scrolled": true
   },
   "outputs": [
    {
     "data": {
      "text/plain": [
       "0     10\n",
       "19     1\n",
       "20     5\n",
       "21    18\n",
       "22    17\n",
       "23    36\n",
       "24    21\n",
       "25    23\n",
       "26    35\n",
       "27    36\n",
       "28    57\n",
       "29    50\n",
       "30    58\n",
       "31    65\n",
       "32    37\n",
       "33    51\n",
       "34    69\n",
       "35    64\n",
       "36    63\n",
       "37    53\n",
       "38    54\n",
       "39    51\n",
       "40    66\n",
       "41    59\n",
       "42    65\n",
       "43    50\n",
       "44    44\n",
       "45    50\n",
       "46    48\n",
       "47    59\n",
       "48    46\n",
       "49    50\n",
       "50    51\n",
       "51    50\n",
       "52    53\n",
       "53    44\n",
       "54    55\n",
       "55    48\n",
       "56    54\n",
       "57    56\n",
       "58    56\n",
       "59    34\n",
       "60    39\n",
       "61    38\n",
       "62    38\n",
       "63    29\n",
       "64    37\n",
       "65    20\n",
       "66    20\n",
       "67    16\n",
       "68     9\n",
       "69     5\n",
       "70     3\n",
       "71     5\n",
       "72     2\n",
       "73     1\n",
       "Name: dob_years, dtype: int64"
      ]
     },
     "execution_count": 7,
     "metadata": {},
     "output_type": "execute_result"
    }
   ],
   "source": [
    "# Выясняем, какой возраст у заемщиков, чьи стаж и доходы не указаны в таблице.\n",
    "# Слева - возраст, справа - количество таких заемщиков.\n",
    "\n",
    "data[(data['days_employed'].isna()) & (data['total_income'].isna())]['dob_years'].value_counts().sort_index()"
   ]
  },
  {
   "cell_type": "markdown",
   "id": "0cae883d",
   "metadata": {},
   "source": [
    "Для наглядности посмотрим на таблицу, в которой отобраны строки с пустыми значениями."
   ]
  },
  {
   "cell_type": "code",
   "execution_count": 8,
   "id": "f61a5cb7",
   "metadata": {},
   "outputs": [
    {
     "data": {
      "text/html": [
       "<div>\n",
       "<style scoped>\n",
       "    .dataframe tbody tr th:only-of-type {\n",
       "        vertical-align: middle;\n",
       "    }\n",
       "\n",
       "    .dataframe tbody tr th {\n",
       "        vertical-align: top;\n",
       "    }\n",
       "\n",
       "    .dataframe thead th {\n",
       "        text-align: right;\n",
       "    }\n",
       "</style>\n",
       "<table border=\"1\" class=\"dataframe\">\n",
       "  <thead>\n",
       "    <tr style=\"text-align: right;\">\n",
       "      <th></th>\n",
       "      <th>children</th>\n",
       "      <th>days_employed</th>\n",
       "      <th>dob_years</th>\n",
       "      <th>education</th>\n",
       "      <th>education_id</th>\n",
       "      <th>family_status</th>\n",
       "      <th>family_status_id</th>\n",
       "      <th>gender</th>\n",
       "      <th>income_type</th>\n",
       "      <th>debt</th>\n",
       "      <th>total_income</th>\n",
       "      <th>purpose</th>\n",
       "    </tr>\n",
       "  </thead>\n",
       "  <tbody>\n",
       "    <tr>\n",
       "      <th>9542</th>\n",
       "      <td>1</td>\n",
       "      <td>NaN</td>\n",
       "      <td>36</td>\n",
       "      <td>среднее</td>\n",
       "      <td>1</td>\n",
       "      <td>женат / замужем</td>\n",
       "      <td>0</td>\n",
       "      <td>F</td>\n",
       "      <td>сотрудник</td>\n",
       "      <td>0</td>\n",
       "      <td>NaN</td>\n",
       "      <td>операции с жильем</td>\n",
       "    </tr>\n",
       "    <tr>\n",
       "      <th>21305</th>\n",
       "      <td>0</td>\n",
       "      <td>NaN</td>\n",
       "      <td>59</td>\n",
       "      <td>среднее</td>\n",
       "      <td>1</td>\n",
       "      <td>Не женат / не замужем</td>\n",
       "      <td>4</td>\n",
       "      <td>F</td>\n",
       "      <td>пенсионер</td>\n",
       "      <td>0</td>\n",
       "      <td>NaN</td>\n",
       "      <td>строительство собственной недвижимости</td>\n",
       "    </tr>\n",
       "    <tr>\n",
       "      <th>15796</th>\n",
       "      <td>0</td>\n",
       "      <td>NaN</td>\n",
       "      <td>30</td>\n",
       "      <td>среднее</td>\n",
       "      <td>1</td>\n",
       "      <td>женат / замужем</td>\n",
       "      <td>0</td>\n",
       "      <td>F</td>\n",
       "      <td>сотрудник</td>\n",
       "      <td>0</td>\n",
       "      <td>NaN</td>\n",
       "      <td>получение образования</td>\n",
       "    </tr>\n",
       "    <tr>\n",
       "      <th>18009</th>\n",
       "      <td>2</td>\n",
       "      <td>NaN</td>\n",
       "      <td>34</td>\n",
       "      <td>среднее</td>\n",
       "      <td>1</td>\n",
       "      <td>гражданский брак</td>\n",
       "      <td>1</td>\n",
       "      <td>F</td>\n",
       "      <td>сотрудник</td>\n",
       "      <td>0</td>\n",
       "      <td>NaN</td>\n",
       "      <td>высшее образование</td>\n",
       "    </tr>\n",
       "    <tr>\n",
       "      <th>14639</th>\n",
       "      <td>1</td>\n",
       "      <td>NaN</td>\n",
       "      <td>32</td>\n",
       "      <td>среднее</td>\n",
       "      <td>1</td>\n",
       "      <td>женат / замужем</td>\n",
       "      <td>0</td>\n",
       "      <td>F</td>\n",
       "      <td>сотрудник</td>\n",
       "      <td>0</td>\n",
       "      <td>NaN</td>\n",
       "      <td>покупка недвижимости</td>\n",
       "    </tr>\n",
       "  </tbody>\n",
       "</table>\n",
       "</div>"
      ],
      "text/plain": [
       "       children  days_employed  dob_years education  education_id  \\\n",
       "9542          1            NaN         36   среднее             1   \n",
       "21305         0            NaN         59   среднее             1   \n",
       "15796         0            NaN         30   среднее             1   \n",
       "18009         2            NaN         34   среднее             1   \n",
       "14639         1            NaN         32   среднее             1   \n",
       "\n",
       "               family_status  family_status_id gender income_type  debt  \\\n",
       "9542         женат / замужем                 0      F   сотрудник     0   \n",
       "21305  Не женат / не замужем                 4      F   пенсионер     0   \n",
       "15796        женат / замужем                 0      F   сотрудник     0   \n",
       "18009       гражданский брак                 1      F   сотрудник     0   \n",
       "14639        женат / замужем                 0      F   сотрудник     0   \n",
       "\n",
       "       total_income                                 purpose  \n",
       "9542            NaN                       операции с жильем  \n",
       "21305           NaN  строительство собственной недвижимости  \n",
       "15796           NaN                   получение образования  \n",
       "18009           NaN                      высшее образование  \n",
       "14639           NaN                    покупка недвижимости  "
      ]
     },
     "execution_count": 8,
     "metadata": {},
     "output_type": "execute_result"
    }
   ],
   "source": [
    "# Смотрим 5 случайных строк полученной таблицы.\n",
    "\n",
    "data[(data['days_employed'].isna())].sample(5)"
   ]
  },
  {
   "cell_type": "markdown",
   "id": "60f92e2d",
   "metadata": {},
   "source": [
    "Гипотеза подтвердилась. Тип занятости у таких заемщиков самый разный, среди них есть и работающие, и пенсионеры. То же касается и возрастов."
   ]
  },
  {
   "cell_type": "markdown",
   "id": "6d2af7db",
   "metadata": {},
   "source": [
    "Теперь найдем, какую долю составляют пропущенные значения в каждом из двух столбцов с пропусками."
   ]
  },
  {
   "cell_type": "code",
   "execution_count": 9,
   "id": "e69dc433",
   "metadata": {},
   "outputs": [
    {
     "name": "stdout",
     "output_type": "stream",
     "text": [
      "Пустых ячеек в столбцах \"days_employed\" и \"total_income\": 10.10%.\n"
     ]
    }
   ],
   "source": [
    "# Вычисляем отношение числа пустых ячеек к общему числу ячеек. \n",
    "\n",
    "empty_cells_percentage = data['days_employed'].isna().mean()\n",
    "print(f'Пустых ячеек в столбцах \"days_employed\" и \"total_income\": {empty_cells_percentage:.2%}.')"
   ]
  },
  {
   "cell_type": "markdown",
   "id": "6375dc59",
   "metadata": {},
   "source": [
    "В обоих столбцах не хватает примерно по 10% данных. Это существенно, чтобы повлиять на результаты исследования. Поэтому заполним отсутствие данных медианным значением.\n",
    "\n",
    "Но пока сделаем это только с данными о доходах, поскольку в трудовом стаже есть отрицательные значения. Их еще предстоит исправить, иначе расчет будет искаженным."
   ]
  },
  {
   "cell_type": "code",
   "execution_count": 10,
   "id": "601e4fa5",
   "metadata": {},
   "outputs": [
    {
     "name": "stdout",
     "output_type": "stream",
     "text": [
      "Медианное значение доходов составляет: 145017.94.\n"
     ]
    }
   ],
   "source": [
    "# Находим медианное значение доходов заемщиков.\n",
    "\n",
    "income_median = data['total_income'].median()\n",
    "print(f'Медианное значение доходов составляет: {income_median:.2f}.')"
   ]
  },
  {
   "cell_type": "markdown",
   "id": "0e7652bf",
   "metadata": {},
   "source": [
    "Однако доходы разных категорий заемщиков могут отличаться. Соответственно, целесообразнее будет рассчитать медианные значения по каждому типу занятости отдельно."
   ]
  },
  {
   "cell_type": "code",
   "execution_count": 11,
   "id": "d335bcdf",
   "metadata": {},
   "outputs": [
    {
     "data": {
      "text/plain": [
       "income_type\n",
       "в декрете           53829.130729\n",
       "студент             98201.625314\n",
       "пенсионер          118514.486412\n",
       "безработный        131339.751676\n",
       "сотрудник          142594.396847\n",
       "госслужащий        150447.935283\n",
       "компаньон          172357.950966\n",
       "предприниматель    499163.144947\n",
       "Name: total_income, dtype: float64"
      ]
     },
     "execution_count": 11,
     "metadata": {},
     "output_type": "execute_result"
    }
   ],
   "source": [
    "# Группируем заемщиков по типу занятости и выводим медианные значения доходов по каждому типу.\n",
    "\n",
    "income_type_categories = data.groupby('income_type')['total_income'].median().sort_values()\n",
    "income_type_categories"
   ]
  },
  {
   "cell_type": "markdown",
   "id": "dafd56d6",
   "metadata": {},
   "source": [
    "Как видим, средние значения доходов \"сотрудников\", \"компаньонов\", \"пенсионеров\" и \"госслужащих\" близки к общей средней. Учитывая, что больше всего пропусков приходится именно на эти категории, мы могли бы заменить все пропуски в доходах на общее среднее значение. Это не сильно бы повлияло на результаты анализа.\n",
    "\n",
    "Однако все же для большей точности сделаем замены отдельно по каждой из этих категорий.\n",
    "\n",
    "Но сделаем это после проверки данных на аномалии."
   ]
  },
  {
   "cell_type": "markdown",
   "id": "6c32f6d6",
   "metadata": {},
   "source": [
    "### Проверка данных на аномалии"
   ]
  },
  {
   "cell_type": "markdown",
   "id": "c7fd3f5a",
   "metadata": {},
   "source": [
    "Итак, прежде всего, названия столбцов. Они приведены в нижнем регистре, с соблюдением нужного стиля. Из названий понятно содержимое столбцов. Тут можно ничего не менять."
   ]
  },
  {
   "cell_type": "markdown",
   "id": "d8c5c1a9",
   "metadata": {},
   "source": [
    "Рассмотрим распределение числовых данных в таблице."
   ]
  },
  {
   "cell_type": "code",
   "execution_count": 12,
   "id": "63a197a8",
   "metadata": {},
   "outputs": [
    {
     "data": {
      "text/html": [
       "<div>\n",
       "<style scoped>\n",
       "    .dataframe tbody tr th:only-of-type {\n",
       "        vertical-align: middle;\n",
       "    }\n",
       "\n",
       "    .dataframe tbody tr th {\n",
       "        vertical-align: top;\n",
       "    }\n",
       "\n",
       "    .dataframe thead th {\n",
       "        text-align: right;\n",
       "    }\n",
       "</style>\n",
       "<table border=\"1\" class=\"dataframe\">\n",
       "  <thead>\n",
       "    <tr style=\"text-align: right;\">\n",
       "      <th></th>\n",
       "      <th>children</th>\n",
       "      <th>days_employed</th>\n",
       "      <th>dob_years</th>\n",
       "      <th>education_id</th>\n",
       "      <th>family_status_id</th>\n",
       "      <th>debt</th>\n",
       "      <th>total_income</th>\n",
       "    </tr>\n",
       "  </thead>\n",
       "  <tbody>\n",
       "    <tr>\n",
       "      <th>count</th>\n",
       "      <td>21525.000000</td>\n",
       "      <td>19351.000000</td>\n",
       "      <td>21525.000000</td>\n",
       "      <td>21525.000000</td>\n",
       "      <td>21525.000000</td>\n",
       "      <td>21525.000000</td>\n",
       "      <td>1.935100e+04</td>\n",
       "    </tr>\n",
       "    <tr>\n",
       "      <th>mean</th>\n",
       "      <td>0.538908</td>\n",
       "      <td>63046.497661</td>\n",
       "      <td>43.293380</td>\n",
       "      <td>0.817236</td>\n",
       "      <td>0.972544</td>\n",
       "      <td>0.080883</td>\n",
       "      <td>1.674223e+05</td>\n",
       "    </tr>\n",
       "    <tr>\n",
       "      <th>std</th>\n",
       "      <td>1.381587</td>\n",
       "      <td>140827.311974</td>\n",
       "      <td>12.574584</td>\n",
       "      <td>0.548138</td>\n",
       "      <td>1.420324</td>\n",
       "      <td>0.272661</td>\n",
       "      <td>1.029716e+05</td>\n",
       "    </tr>\n",
       "    <tr>\n",
       "      <th>min</th>\n",
       "      <td>-1.000000</td>\n",
       "      <td>-18388.949901</td>\n",
       "      <td>0.000000</td>\n",
       "      <td>0.000000</td>\n",
       "      <td>0.000000</td>\n",
       "      <td>0.000000</td>\n",
       "      <td>2.066726e+04</td>\n",
       "    </tr>\n",
       "    <tr>\n",
       "      <th>25%</th>\n",
       "      <td>0.000000</td>\n",
       "      <td>-2747.423625</td>\n",
       "      <td>33.000000</td>\n",
       "      <td>1.000000</td>\n",
       "      <td>0.000000</td>\n",
       "      <td>0.000000</td>\n",
       "      <td>1.030532e+05</td>\n",
       "    </tr>\n",
       "    <tr>\n",
       "      <th>50%</th>\n",
       "      <td>0.000000</td>\n",
       "      <td>-1203.369529</td>\n",
       "      <td>42.000000</td>\n",
       "      <td>1.000000</td>\n",
       "      <td>0.000000</td>\n",
       "      <td>0.000000</td>\n",
       "      <td>1.450179e+05</td>\n",
       "    </tr>\n",
       "    <tr>\n",
       "      <th>75%</th>\n",
       "      <td>1.000000</td>\n",
       "      <td>-291.095954</td>\n",
       "      <td>53.000000</td>\n",
       "      <td>1.000000</td>\n",
       "      <td>1.000000</td>\n",
       "      <td>0.000000</td>\n",
       "      <td>2.034351e+05</td>\n",
       "    </tr>\n",
       "    <tr>\n",
       "      <th>max</th>\n",
       "      <td>20.000000</td>\n",
       "      <td>401755.400475</td>\n",
       "      <td>75.000000</td>\n",
       "      <td>4.000000</td>\n",
       "      <td>4.000000</td>\n",
       "      <td>1.000000</td>\n",
       "      <td>2.265604e+06</td>\n",
       "    </tr>\n",
       "  </tbody>\n",
       "</table>\n",
       "</div>"
      ],
      "text/plain": [
       "           children  days_employed     dob_years  education_id  \\\n",
       "count  21525.000000   19351.000000  21525.000000  21525.000000   \n",
       "mean       0.538908   63046.497661     43.293380      0.817236   \n",
       "std        1.381587  140827.311974     12.574584      0.548138   \n",
       "min       -1.000000  -18388.949901      0.000000      0.000000   \n",
       "25%        0.000000   -2747.423625     33.000000      1.000000   \n",
       "50%        0.000000   -1203.369529     42.000000      1.000000   \n",
       "75%        1.000000    -291.095954     53.000000      1.000000   \n",
       "max       20.000000  401755.400475     75.000000      4.000000   \n",
       "\n",
       "       family_status_id          debt  total_income  \n",
       "count      21525.000000  21525.000000  1.935100e+04  \n",
       "mean           0.972544      0.080883  1.674223e+05  \n",
       "std            1.420324      0.272661  1.029716e+05  \n",
       "min            0.000000      0.000000  2.066726e+04  \n",
       "25%            0.000000      0.000000  1.030532e+05  \n",
       "50%            0.000000      0.000000  1.450179e+05  \n",
       "75%            1.000000      0.000000  2.034351e+05  \n",
       "max            4.000000      1.000000  2.265604e+06  "
      ]
     },
     "execution_count": 12,
     "metadata": {},
     "output_type": "execute_result"
    }
   ],
   "source": [
    "# Выводим описание столбцов с количественными данными.\n",
    "\n",
    "data.describe()"
   ]
  },
  {
   "cell_type": "markdown",
   "id": "6bc560f7",
   "metadata": {},
   "source": [
    "Сразу выявляются следующие аномалии:\n",
    "\n",
    "1. Минимальное значение количества детей (столбец \"children\") - отрицательное (-1). Возможно, опечатка сотруника банка.\n",
    "\n",
    "\n",
    "2. Максимальное значение количества детей (тот же столбец) - 20. Также может быть случайной ошибкой сотрудника.\n",
    "\n",
    "\n",
    "3. В столбце с данными о стаже (\"days_employed\") есть отрицательные значения. Возможно, знак минуса тоже стоит по ошибке.\n",
    "\n",
    "\n",
    "4. Максимальное значение по тому же столбцу слишком большое (около 1100 лет). Возможно, проблема не в отдельных выдающихся значениях, а во всем столбце в целом, т.к. среднее значение тоже не вписывается в рамки нормы (более 170 лет). Если у отрицательных значений убрать знаки минуса, среднее вырастет еще больше.\n",
    "\n",
    "\n",
    "5. Минимальное значение возраста (столбец \"dob_years\") равно 0. Возможно, возраст не указан, или же снова опечатка."
   ]
  },
  {
   "cell_type": "markdown",
   "id": "6605063d",
   "metadata": {},
   "source": [
    "Проверим отдельно каждый из названных столбцов."
   ]
  },
  {
   "cell_type": "markdown",
   "id": "10366e49",
   "metadata": {},
   "source": [
    "#### Столбец \"children\""
   ]
  },
  {
   "cell_type": "code",
   "execution_count": 13,
   "id": "9adfc922",
   "metadata": {},
   "outputs": [
    {
     "name": "stdout",
     "output_type": "stream",
     "text": [
      " 0     14149\n",
      " 1      4818\n",
      " 2      2055\n",
      " 3       330\n",
      " 20       76\n",
      "-1        47\n",
      " 4        41\n",
      " 5         9\n",
      "Name: children, dtype: int64\n"
     ]
    }
   ],
   "source": [
    "# Выводим уникальные значения в столбце \"children\". \n",
    "# Слева - количество детей у заемщиков, справа - число таких случаев.\n",
    "\n",
    "print(data['children'].value_counts())"
   ]
  },
  {
   "cell_type": "markdown",
   "id": "e0739b9d",
   "metadata": {},
   "source": [
    "Судя по информации, подавляющее большинство заемщиков не имеют детей. Втрое меньше заемщиков с одним ребенком. \n",
    "Дальнейшие данные не вызывают вопросов, кроме 47 заемщиков с числом детей, равным -1, а также 76 заемщиков, у которых по 20 детей.\n",
    "\n",
    "Попробуем найти какие-либо закономерности в наличии этих аномальных данных в таблице."
   ]
  },
  {
   "cell_type": "code",
   "execution_count": 14,
   "id": "af7bb6f2",
   "metadata": {},
   "outputs": [
    {
     "data": {
      "text/html": [
       "<div>\n",
       "<style scoped>\n",
       "    .dataframe tbody tr th:only-of-type {\n",
       "        vertical-align: middle;\n",
       "    }\n",
       "\n",
       "    .dataframe tbody tr th {\n",
       "        vertical-align: top;\n",
       "    }\n",
       "\n",
       "    .dataframe thead th {\n",
       "        text-align: right;\n",
       "    }\n",
       "</style>\n",
       "<table border=\"1\" class=\"dataframe\">\n",
       "  <thead>\n",
       "    <tr style=\"text-align: right;\">\n",
       "      <th></th>\n",
       "      <th>children</th>\n",
       "      <th>days_employed</th>\n",
       "      <th>dob_years</th>\n",
       "      <th>education</th>\n",
       "      <th>education_id</th>\n",
       "      <th>family_status</th>\n",
       "      <th>family_status_id</th>\n",
       "      <th>gender</th>\n",
       "      <th>income_type</th>\n",
       "      <th>debt</th>\n",
       "      <th>total_income</th>\n",
       "      <th>purpose</th>\n",
       "    </tr>\n",
       "  </thead>\n",
       "  <tbody>\n",
       "    <tr>\n",
       "      <th>291</th>\n",
       "      <td>-1</td>\n",
       "      <td>-4417.703588</td>\n",
       "      <td>46</td>\n",
       "      <td>среднее</td>\n",
       "      <td>1</td>\n",
       "      <td>гражданский брак</td>\n",
       "      <td>1</td>\n",
       "      <td>F</td>\n",
       "      <td>сотрудник</td>\n",
       "      <td>0</td>\n",
       "      <td>102816.346412</td>\n",
       "      <td>профильное образование</td>\n",
       "    </tr>\n",
       "    <tr>\n",
       "      <th>705</th>\n",
       "      <td>-1</td>\n",
       "      <td>-902.084528</td>\n",
       "      <td>50</td>\n",
       "      <td>среднее</td>\n",
       "      <td>1</td>\n",
       "      <td>женат / замужем</td>\n",
       "      <td>0</td>\n",
       "      <td>F</td>\n",
       "      <td>госслужащий</td>\n",
       "      <td>0</td>\n",
       "      <td>137882.899271</td>\n",
       "      <td>приобретение автомобиля</td>\n",
       "    </tr>\n",
       "    <tr>\n",
       "      <th>742</th>\n",
       "      <td>-1</td>\n",
       "      <td>-3174.456205</td>\n",
       "      <td>57</td>\n",
       "      <td>среднее</td>\n",
       "      <td>1</td>\n",
       "      <td>женат / замужем</td>\n",
       "      <td>0</td>\n",
       "      <td>F</td>\n",
       "      <td>сотрудник</td>\n",
       "      <td>0</td>\n",
       "      <td>64268.044444</td>\n",
       "      <td>дополнительное образование</td>\n",
       "    </tr>\n",
       "    <tr>\n",
       "      <th>800</th>\n",
       "      <td>-1</td>\n",
       "      <td>349987.852217</td>\n",
       "      <td>54</td>\n",
       "      <td>среднее</td>\n",
       "      <td>1</td>\n",
       "      <td>Не женат / не замужем</td>\n",
       "      <td>4</td>\n",
       "      <td>F</td>\n",
       "      <td>пенсионер</td>\n",
       "      <td>0</td>\n",
       "      <td>86293.724153</td>\n",
       "      <td>дополнительное образование</td>\n",
       "    </tr>\n",
       "    <tr>\n",
       "      <th>941</th>\n",
       "      <td>-1</td>\n",
       "      <td>NaN</td>\n",
       "      <td>57</td>\n",
       "      <td>Среднее</td>\n",
       "      <td>1</td>\n",
       "      <td>женат / замужем</td>\n",
       "      <td>0</td>\n",
       "      <td>F</td>\n",
       "      <td>пенсионер</td>\n",
       "      <td>0</td>\n",
       "      <td>NaN</td>\n",
       "      <td>на покупку своего автомобиля</td>\n",
       "    </tr>\n",
       "    <tr>\n",
       "      <th>1363</th>\n",
       "      <td>-1</td>\n",
       "      <td>-1195.264956</td>\n",
       "      <td>55</td>\n",
       "      <td>СРЕДНЕЕ</td>\n",
       "      <td>1</td>\n",
       "      <td>женат / замужем</td>\n",
       "      <td>0</td>\n",
       "      <td>F</td>\n",
       "      <td>компаньон</td>\n",
       "      <td>0</td>\n",
       "      <td>69550.699692</td>\n",
       "      <td>профильное образование</td>\n",
       "    </tr>\n",
       "    <tr>\n",
       "      <th>1929</th>\n",
       "      <td>-1</td>\n",
       "      <td>-1461.303336</td>\n",
       "      <td>38</td>\n",
       "      <td>среднее</td>\n",
       "      <td>1</td>\n",
       "      <td>Не женат / не замужем</td>\n",
       "      <td>4</td>\n",
       "      <td>M</td>\n",
       "      <td>сотрудник</td>\n",
       "      <td>0</td>\n",
       "      <td>109121.569013</td>\n",
       "      <td>покупка жилья</td>\n",
       "    </tr>\n",
       "    <tr>\n",
       "      <th>2073</th>\n",
       "      <td>-1</td>\n",
       "      <td>-2539.761232</td>\n",
       "      <td>42</td>\n",
       "      <td>среднее</td>\n",
       "      <td>1</td>\n",
       "      <td>в разводе</td>\n",
       "      <td>3</td>\n",
       "      <td>F</td>\n",
       "      <td>компаньон</td>\n",
       "      <td>0</td>\n",
       "      <td>162638.609373</td>\n",
       "      <td>покупка жилья</td>\n",
       "    </tr>\n",
       "    <tr>\n",
       "      <th>3814</th>\n",
       "      <td>-1</td>\n",
       "      <td>-3045.290443</td>\n",
       "      <td>26</td>\n",
       "      <td>Среднее</td>\n",
       "      <td>1</td>\n",
       "      <td>гражданский брак</td>\n",
       "      <td>1</td>\n",
       "      <td>F</td>\n",
       "      <td>госслужащий</td>\n",
       "      <td>0</td>\n",
       "      <td>131892.785435</td>\n",
       "      <td>на проведение свадьбы</td>\n",
       "    </tr>\n",
       "    <tr>\n",
       "      <th>4201</th>\n",
       "      <td>-1</td>\n",
       "      <td>-901.101738</td>\n",
       "      <td>41</td>\n",
       "      <td>среднее</td>\n",
       "      <td>1</td>\n",
       "      <td>женат / замужем</td>\n",
       "      <td>0</td>\n",
       "      <td>F</td>\n",
       "      <td>госслужащий</td>\n",
       "      <td>0</td>\n",
       "      <td>226375.766751</td>\n",
       "      <td>операции со своей недвижимостью</td>\n",
       "    </tr>\n",
       "  </tbody>\n",
       "</table>\n",
       "</div>"
      ],
      "text/plain": [
       "      children  days_employed  dob_years education  education_id  \\\n",
       "291         -1   -4417.703588         46   среднее             1   \n",
       "705         -1    -902.084528         50   среднее             1   \n",
       "742         -1   -3174.456205         57   среднее             1   \n",
       "800         -1  349987.852217         54   среднее             1   \n",
       "941         -1            NaN         57   Среднее             1   \n",
       "1363        -1   -1195.264956         55   СРЕДНЕЕ             1   \n",
       "1929        -1   -1461.303336         38   среднее             1   \n",
       "2073        -1   -2539.761232         42   среднее             1   \n",
       "3814        -1   -3045.290443         26   Среднее             1   \n",
       "4201        -1    -901.101738         41   среднее             1   \n",
       "\n",
       "              family_status  family_status_id gender  income_type  debt  \\\n",
       "291        гражданский брак                 1      F    сотрудник     0   \n",
       "705         женат / замужем                 0      F  госслужащий     0   \n",
       "742         женат / замужем                 0      F    сотрудник     0   \n",
       "800   Не женат / не замужем                 4      F    пенсионер     0   \n",
       "941         женат / замужем                 0      F    пенсионер     0   \n",
       "1363        женат / замужем                 0      F    компаньон     0   \n",
       "1929  Не женат / не замужем                 4      M    сотрудник     0   \n",
       "2073              в разводе                 3      F    компаньон     0   \n",
       "3814       гражданский брак                 1      F  госслужащий     0   \n",
       "4201        женат / замужем                 0      F  госслужащий     0   \n",
       "\n",
       "       total_income                          purpose  \n",
       "291   102816.346412           профильное образование  \n",
       "705   137882.899271          приобретение автомобиля  \n",
       "742    64268.044444       дополнительное образование  \n",
       "800    86293.724153       дополнительное образование  \n",
       "941             NaN     на покупку своего автомобиля  \n",
       "1363   69550.699692           профильное образование  \n",
       "1929  109121.569013                    покупка жилья  \n",
       "2073  162638.609373                    покупка жилья  \n",
       "3814  131892.785435            на проведение свадьбы  \n",
       "4201  226375.766751  операции со своей недвижимостью  "
      ]
     },
     "execution_count": 14,
     "metadata": {},
     "output_type": "execute_result"
    }
   ],
   "source": [
    "# Выводим строки таблицы, где количество детей равно -1 (первые 10 таких строк).\n",
    "\n",
    "data[data['children'] == -1].head(10)"
   ]
  },
  {
   "cell_type": "code",
   "execution_count": 15,
   "id": "0bff87a5",
   "metadata": {},
   "outputs": [
    {
     "data": {
      "text/html": [
       "<div>\n",
       "<style scoped>\n",
       "    .dataframe tbody tr th:only-of-type {\n",
       "        vertical-align: middle;\n",
       "    }\n",
       "\n",
       "    .dataframe tbody tr th {\n",
       "        vertical-align: top;\n",
       "    }\n",
       "\n",
       "    .dataframe thead th {\n",
       "        text-align: right;\n",
       "    }\n",
       "</style>\n",
       "<table border=\"1\" class=\"dataframe\">\n",
       "  <thead>\n",
       "    <tr style=\"text-align: right;\">\n",
       "      <th></th>\n",
       "      <th>children</th>\n",
       "      <th>days_employed</th>\n",
       "      <th>dob_years</th>\n",
       "      <th>education</th>\n",
       "      <th>education_id</th>\n",
       "      <th>family_status</th>\n",
       "      <th>family_status_id</th>\n",
       "      <th>gender</th>\n",
       "      <th>income_type</th>\n",
       "      <th>debt</th>\n",
       "      <th>total_income</th>\n",
       "      <th>purpose</th>\n",
       "    </tr>\n",
       "  </thead>\n",
       "  <tbody>\n",
       "    <tr>\n",
       "      <th>606</th>\n",
       "      <td>20</td>\n",
       "      <td>-880.221113</td>\n",
       "      <td>21</td>\n",
       "      <td>среднее</td>\n",
       "      <td>1</td>\n",
       "      <td>женат / замужем</td>\n",
       "      <td>0</td>\n",
       "      <td>M</td>\n",
       "      <td>компаньон</td>\n",
       "      <td>0</td>\n",
       "      <td>145334.865002</td>\n",
       "      <td>покупка жилья</td>\n",
       "    </tr>\n",
       "    <tr>\n",
       "      <th>720</th>\n",
       "      <td>20</td>\n",
       "      <td>-855.595512</td>\n",
       "      <td>44</td>\n",
       "      <td>среднее</td>\n",
       "      <td>1</td>\n",
       "      <td>женат / замужем</td>\n",
       "      <td>0</td>\n",
       "      <td>F</td>\n",
       "      <td>компаньон</td>\n",
       "      <td>0</td>\n",
       "      <td>112998.738649</td>\n",
       "      <td>покупка недвижимости</td>\n",
       "    </tr>\n",
       "    <tr>\n",
       "      <th>1074</th>\n",
       "      <td>20</td>\n",
       "      <td>-3310.411598</td>\n",
       "      <td>56</td>\n",
       "      <td>среднее</td>\n",
       "      <td>1</td>\n",
       "      <td>женат / замужем</td>\n",
       "      <td>0</td>\n",
       "      <td>F</td>\n",
       "      <td>сотрудник</td>\n",
       "      <td>1</td>\n",
       "      <td>229518.537004</td>\n",
       "      <td>получение образования</td>\n",
       "    </tr>\n",
       "    <tr>\n",
       "      <th>2510</th>\n",
       "      <td>20</td>\n",
       "      <td>-2714.161249</td>\n",
       "      <td>59</td>\n",
       "      <td>высшее</td>\n",
       "      <td>0</td>\n",
       "      <td>вдовец / вдова</td>\n",
       "      <td>2</td>\n",
       "      <td>F</td>\n",
       "      <td>сотрудник</td>\n",
       "      <td>0</td>\n",
       "      <td>264474.835577</td>\n",
       "      <td>операции с коммерческой недвижимостью</td>\n",
       "    </tr>\n",
       "    <tr>\n",
       "      <th>2941</th>\n",
       "      <td>20</td>\n",
       "      <td>-2161.591519</td>\n",
       "      <td>0</td>\n",
       "      <td>среднее</td>\n",
       "      <td>1</td>\n",
       "      <td>женат / замужем</td>\n",
       "      <td>0</td>\n",
       "      <td>F</td>\n",
       "      <td>сотрудник</td>\n",
       "      <td>0</td>\n",
       "      <td>199739.941398</td>\n",
       "      <td>на покупку автомобиля</td>\n",
       "    </tr>\n",
       "    <tr>\n",
       "      <th>3302</th>\n",
       "      <td>20</td>\n",
       "      <td>NaN</td>\n",
       "      <td>35</td>\n",
       "      <td>среднее</td>\n",
       "      <td>1</td>\n",
       "      <td>Не женат / не замужем</td>\n",
       "      <td>4</td>\n",
       "      <td>F</td>\n",
       "      <td>госслужащий</td>\n",
       "      <td>0</td>\n",
       "      <td>NaN</td>\n",
       "      <td>профильное образование</td>\n",
       "    </tr>\n",
       "    <tr>\n",
       "      <th>3396</th>\n",
       "      <td>20</td>\n",
       "      <td>NaN</td>\n",
       "      <td>56</td>\n",
       "      <td>высшее</td>\n",
       "      <td>0</td>\n",
       "      <td>женат / замужем</td>\n",
       "      <td>0</td>\n",
       "      <td>F</td>\n",
       "      <td>компаньон</td>\n",
       "      <td>0</td>\n",
       "      <td>NaN</td>\n",
       "      <td>высшее образование</td>\n",
       "    </tr>\n",
       "    <tr>\n",
       "      <th>3671</th>\n",
       "      <td>20</td>\n",
       "      <td>-913.161503</td>\n",
       "      <td>23</td>\n",
       "      <td>среднее</td>\n",
       "      <td>1</td>\n",
       "      <td>Не женат / не замужем</td>\n",
       "      <td>4</td>\n",
       "      <td>F</td>\n",
       "      <td>сотрудник</td>\n",
       "      <td>0</td>\n",
       "      <td>101255.492076</td>\n",
       "      <td>на покупку подержанного автомобиля</td>\n",
       "    </tr>\n",
       "    <tr>\n",
       "      <th>3697</th>\n",
       "      <td>20</td>\n",
       "      <td>-2907.910616</td>\n",
       "      <td>40</td>\n",
       "      <td>среднее</td>\n",
       "      <td>1</td>\n",
       "      <td>гражданский брак</td>\n",
       "      <td>1</td>\n",
       "      <td>M</td>\n",
       "      <td>сотрудник</td>\n",
       "      <td>0</td>\n",
       "      <td>115380.694664</td>\n",
       "      <td>на покупку подержанного автомобиля</td>\n",
       "    </tr>\n",
       "    <tr>\n",
       "      <th>3735</th>\n",
       "      <td>20</td>\n",
       "      <td>-805.044438</td>\n",
       "      <td>26</td>\n",
       "      <td>высшее</td>\n",
       "      <td>0</td>\n",
       "      <td>Не женат / не замужем</td>\n",
       "      <td>4</td>\n",
       "      <td>M</td>\n",
       "      <td>сотрудник</td>\n",
       "      <td>0</td>\n",
       "      <td>137200.646181</td>\n",
       "      <td>ремонт жилью</td>\n",
       "    </tr>\n",
       "  </tbody>\n",
       "</table>\n",
       "</div>"
      ],
      "text/plain": [
       "      children  days_employed  dob_years education  education_id  \\\n",
       "606         20    -880.221113         21   среднее             1   \n",
       "720         20    -855.595512         44   среднее             1   \n",
       "1074        20   -3310.411598         56   среднее             1   \n",
       "2510        20   -2714.161249         59    высшее             0   \n",
       "2941        20   -2161.591519          0   среднее             1   \n",
       "3302        20            NaN         35   среднее             1   \n",
       "3396        20            NaN         56    высшее             0   \n",
       "3671        20    -913.161503         23   среднее             1   \n",
       "3697        20   -2907.910616         40   среднее             1   \n",
       "3735        20    -805.044438         26    высшее             0   \n",
       "\n",
       "              family_status  family_status_id gender  income_type  debt  \\\n",
       "606         женат / замужем                 0      M    компаньон     0   \n",
       "720         женат / замужем                 0      F    компаньон     0   \n",
       "1074        женат / замужем                 0      F    сотрудник     1   \n",
       "2510         вдовец / вдова                 2      F    сотрудник     0   \n",
       "2941        женат / замужем                 0      F    сотрудник     0   \n",
       "3302  Не женат / не замужем                 4      F  госслужащий     0   \n",
       "3396        женат / замужем                 0      F    компаньон     0   \n",
       "3671  Не женат / не замужем                 4      F    сотрудник     0   \n",
       "3697       гражданский брак                 1      M    сотрудник     0   \n",
       "3735  Не женат / не замужем                 4      M    сотрудник     0   \n",
       "\n",
       "       total_income                                purpose  \n",
       "606   145334.865002                          покупка жилья  \n",
       "720   112998.738649                   покупка недвижимости  \n",
       "1074  229518.537004                  получение образования  \n",
       "2510  264474.835577  операции с коммерческой недвижимостью  \n",
       "2941  199739.941398                  на покупку автомобиля  \n",
       "3302            NaN                 профильное образование  \n",
       "3396            NaN                     высшее образование  \n",
       "3671  101255.492076     на покупку подержанного автомобиля  \n",
       "3697  115380.694664     на покупку подержанного автомобиля  \n",
       "3735  137200.646181                           ремонт жилью  "
      ]
     },
     "execution_count": 15,
     "metadata": {},
     "output_type": "execute_result"
    }
   ],
   "source": [
    "# Выводим строки таблицы, где количество детей равно 20 (первые 10 таких строк).\n",
    "\n",
    "data[data['children'] == 20].head(10)"
   ]
  },
  {
   "cell_type": "markdown",
   "id": "fa8b04b3",
   "metadata": {},
   "source": [
    "Визуально никаких связей и закономерностей не выявлено. \n",
    "\n",
    "\n",
    "_Вывод:_\n",
    "\n",
    "В обоих случаях, возможно, имело место случайное нажатие лишних клавиш.\n",
    "\n",
    "Однако в случае со значением \"20\" это более очевидно, т.к. \"2\" и \"0\" на боковой клавиатуре находятся рядом. Одна из цифр лишняя. И, поскольку, первой нажата цифра \"2\", то более вероятно, что намеревались нажать именно ее (а не ноль).\n",
    "\n",
    "С отрицательной единицей не так однозначно, т.к. знак минуса/тире/дефиса далеко от \"1\".\n",
    "\n",
    "\n",
    "Ввиду того, что эти данные практически не повлияют на результат анализа, будем исходить из общей целесообразности.\n",
    "1. Значения \"20\" заменим на \"2\".\n",
    "2. Строки с \"-1\" удалим.\n",
    "\n",
    "\n",
    "Вернемся к этому после обработки столбцов \"days_employed\" и \"dob_years\"."
   ]
  },
  {
   "cell_type": "markdown",
   "id": "7a19e05c",
   "metadata": {},
   "source": [
    "#### Столбец \"days_employed\""
   ]
  },
  {
   "cell_type": "markdown",
   "id": "a3b2ecb5",
   "metadata": {},
   "source": [
    "__1.__ Выясним количество строк, где значения в этом столбце отрицательные."
   ]
  },
  {
   "cell_type": "code",
   "execution_count": 16,
   "id": "f23cdc03",
   "metadata": {},
   "outputs": [
    {
     "name": "stdout",
     "output_type": "stream",
     "text": [
      "Отрицательных значений стажа - 15906\n",
      "Доля отрицательных значений стажа в общем числе непустых значений - 82%\n"
     ]
    }
   ],
   "source": [
    "# Находим число строк с отрицательными значениями стажа, а также их долю от всех непустых его значений в процентах.\n",
    "\n",
    "negative_days_employed = data[data['days_employed'] < 0]['days_employed'].count()\n",
    "print(\"Отрицательных значений стажа -\", negative_days_employed)\n",
    "print(f'Доля отрицательных значений стажа в общем числе непустых значений - '\n",
    "      f'{(negative_days_employed / data.loc[data[\"days_employed\"].notna(), \"days_employed\"].count()):.0%}')"
   ]
  },
  {
   "cell_type": "markdown",
   "id": "69b18d87",
   "metadata": {},
   "source": [
    "Доля отрицательных значений слишком существенна, чтобы ее можно было игнорировать."
   ]
  },
  {
   "cell_type": "markdown",
   "id": "2f16f909",
   "metadata": {},
   "source": [
    "Найдем среди них максимальный стаж, выраженный в годах, если не брать в расчет знак минуса."
   ]
  },
  {
   "cell_type": "code",
   "execution_count": 17,
   "id": "e787dac2",
   "metadata": {
    "scrolled": true
   },
   "outputs": [
    {
     "name": "stdout",
     "output_type": "stream",
     "text": [
      "Максимальное по модулю значение стажа (среди отрицательных) - 50.38 лет\n"
     ]
    }
   ],
   "source": [
    "print(f\"Максимальное по модулю значение стажа (среди отрицательных) - \"\n",
    "      f\"{(data[data['days_employed'] < 0]['days_employed'].min() / (-365)):.2f} лет\")"
   ]
  },
  {
   "cell_type": "markdown",
   "id": "82645991",
   "metadata": {},
   "source": [
    "Возможная причина наличия отрицательных данных - случайный ввод минуса/дефиса/тире перед числовыми значениями."
   ]
  },
  {
   "cell_type": "markdown",
   "id": "a8fd5181",
   "metadata": {},
   "source": [
    "Просмотрим некоторые отрицательные значения из этого столбца, предварительно поменяв знак и переведя в годы."
   ]
  },
  {
   "cell_type": "code",
   "execution_count": 18,
   "id": "78303014",
   "metadata": {},
   "outputs": [
    {
     "data": {
      "text/plain": [
       "0     23.116912\n",
       "1     11.026860\n",
       "2     15.406637\n",
       "3     11.300677\n",
       "5      2.537495\n",
       "6      7.888225\n",
       "7      0.418574\n",
       "8     18.985932\n",
       "9      5.996593\n",
       "10    11.428722\n",
       "Name: days_employed, dtype: float64"
      ]
     },
     "execution_count": 18,
     "metadata": {},
     "output_type": "execute_result"
    }
   ],
   "source": [
    "# Выводим те значения трудового стажа, которые стоят со знаком минус, в годах и по модулю (первые 10 строк).\n",
    "\n",
    "data[data['days_employed'] < 0]['days_employed'].head(10) / -365"
   ]
  },
  {
   "cell_type": "markdown",
   "id": "7eafb481",
   "metadata": {},
   "source": [
    "Попробуем сравнить полученные значения с возрастом заемщиков, отняв из первого второе."
   ]
  },
  {
   "cell_type": "code",
   "execution_count": 19,
   "id": "16ac1fe2",
   "metadata": {},
   "outputs": [
    {
     "name": "stdout",
     "output_type": "stream",
     "text": [
      "Минимальный возраст трудоустройства заемщика - -29.29 лет\n",
      "Максимальный возраст трудоустройства заемщика - 70.40 лет\n"
     ]
    }
   ],
   "source": [
    "# Находим диапазон возрастов трудоустройства этих заемщиков.\n",
    "\n",
    "employment_age = data[data['days_employed'] < 0]['dob_years'] - (data[data['days_employed'] < 0]['days_employed'] / (-365))\n",
    "\n",
    "print(f\"Минимальный возраст трудоустройства заемщика - {employment_age.min():.2f} лет\")\n",
    "print(f\"Максимальный возраст трудоустройства заемщика - {employment_age.max():.2f} лет\")"
   ]
  },
  {
   "cell_type": "markdown",
   "id": "11e9bfdb",
   "metadata": {},
   "source": [
    "_Вывод:_\n",
    "\n",
    "В целом, данные без знака минуса похожи на значения стажа. Но мы получаем отрицательный возраст для начала трудового стажа у значительной доли заемщиков.\n",
    "\n"
   ]
  },
  {
   "cell_type": "markdown",
   "id": "918065fe",
   "metadata": {},
   "source": [
    "Необходимо сначала проверить данные о возрасте заемщиков. Вернемся к этому вопросу после обработки стоблца \"dob_years\".\n"
   ]
  },
  {
   "cell_type": "markdown",
   "id": "c8d6787a",
   "metadata": {},
   "source": [
    "__2.__ Теперь выясним количество строк, где значения в столбце \"days_employed\" слишком большие."
   ]
  },
  {
   "cell_type": "code",
   "execution_count": 20,
   "id": "3969b0f7",
   "metadata": {},
   "outputs": [
    {
     "name": "stdout",
     "output_type": "stream",
     "text": [
      "Неотрицательных значений стажа - 3445\n"
     ]
    }
   ],
   "source": [
    "# Находим число строк с неотрицательными значениями стажа.\n",
    "\n",
    "print(\"Неотрицательных значений стажа -\", data[data['days_employed'] >= 0]['days_employed'].count())"
   ]
  },
  {
   "cell_type": "markdown",
   "id": "dc7699b5",
   "metadata": {},
   "source": [
    "Есть минимум два предположения насчет причины наличия больших значений:\n",
    "\n",
    "1. Возможно, стаж указан не в днях, а в других единицах. Это предстоит проверить.\n",
    "\n",
    "2. Или же сотрудник банка мог просто, в целях экономии времени, заносить беспорядочно большие числа, в случае если стаж у заемщика был больше необходимого или не имел особого значения.\n",
    "\n",
    "Выясним, какие из этих значений выбиваются из рамок реальности."
   ]
  },
  {
   "cell_type": "code",
   "execution_count": 21,
   "id": "aa8a5365",
   "metadata": {},
   "outputs": [
    {
     "name": "stdout",
     "output_type": "stream",
     "text": [
      "Минимальное неотрицательное значение стажа - 900.63 лет\n"
     ]
    }
   ],
   "source": [
    "# Находим минимальное неотрицательное количество лет стажа.\n",
    "\n",
    "print(f\"Минимальное неотрицательное значение стажа - \"\n",
    "      f\"{(data[data['days_employed'] >= 0]['days_employed'].min() / 365):.2f} лет\")"
   ]
  },
  {
   "cell_type": "markdown",
   "id": "1fca289f",
   "metadata": {},
   "source": [
    "Проверим еще раз, найдя количество значений стажа со сроком более 900 лет."
   ]
  },
  {
   "cell_type": "code",
   "execution_count": 22,
   "id": "e24e24ac",
   "metadata": {},
   "outputs": [
    {
     "name": "stdout",
     "output_type": "stream",
     "text": [
      "Слишком больших значений стажа - 3445\n"
     ]
    }
   ],
   "source": [
    "# Находим число строк со значениями стажа более 900 лет.\n",
    "\n",
    "print(\"Слишком больших значений стажа -\", data[data['days_employed'] > (900 * 365)]['days_employed'].count())"
   ]
  },
  {
   "cell_type": "code",
   "execution_count": 23,
   "id": "8aee237a",
   "metadata": {},
   "outputs": [
    {
     "name": "stdout",
     "output_type": "stream",
     "text": [
      "Максимальное значение стажа - 1100.70 лет\n"
     ]
    }
   ],
   "source": [
    "# Находим максимальное количество лет стажа.\n",
    "\n",
    "print(f\"Максимальное значение стажа - {(data[data['days_employed'] >= 0]['days_employed'].max() / 365):.2f} лет\")"
   ]
  },
  {
   "cell_type": "markdown",
   "id": "57e08be4",
   "metadata": {},
   "source": [
    "Выясним, связан ли тип занятости с наличием больших значений в стаже."
   ]
  },
  {
   "cell_type": "code",
   "execution_count": 24,
   "id": "b7a362eb",
   "metadata": {},
   "outputs": [
    {
     "data": {
      "text/plain": [
       "пенсионер      3443\n",
       "безработный       2\n",
       "Name: income_type, dtype: int64"
      ]
     },
     "execution_count": 24,
     "metadata": {},
     "output_type": "execute_result"
    }
   ],
   "source": [
    "# Смотрим количество сотрудников, у которых указан стаж более 900 лет.\n",
    "\n",
    "data[data['days_employed'] > (900 * 365)]['income_type'].value_counts()"
   ]
  },
  {
   "cell_type": "code",
   "execution_count": 25,
   "id": "59b5823e",
   "metadata": {
    "scrolled": true
   },
   "outputs": [
    {
     "data": {
      "text/plain": [
       "сотрудник          10014\n",
       "компаньон           4577\n",
       "госслужащий         1312\n",
       "студент                1\n",
       "предприниматель        1\n",
       "в декрете              1\n",
       "Name: income_type, dtype: int64"
      ]
     },
     "execution_count": 25,
     "metadata": {},
     "output_type": "execute_result"
    }
   ],
   "source": [
    "# Смотрим количество сотрудников, у которых указан отрицательный стаж.\n",
    "\n",
    "data[data['days_employed'] < 0]['income_type'].value_counts()"
   ]
  },
  {
   "cell_type": "markdown",
   "id": "314d001f",
   "metadata": {},
   "source": [
    "_Вывод:_\n",
    "\n",
    "Все положительные значения стажа лежат в диапазоне от 900 до 1100 лет.\n",
    "\n",
    "Практически все заемщики, у которых указан слишком большой стаж, - пенсионеры.\n",
    "При этом ни у одного пенсионера нет отрицательного стажа."
   ]
  },
  {
   "cell_type": "markdown",
   "id": "28077733",
   "metadata": {},
   "source": [
    "Ввиду отсутствия возможности выяснить действительную причину, усматривается два варианта действий:\n",
    "\n",
    "1. Простой вариант. \n",
    "Возможно, данные указаны не в днях, а, например, в часах. Тогда вместо 900 - 1100 лет мы получаем 37.5 - 45.8  лет.\n",
    "\n",
    "\n",
    "2. Дополнительный вариант.\n",
    "Заменяем все положительные значения на максимальный стаж, предположительно считающийся таковым в данном кредитном учреждении.\n",
    "После этого считаем среднее значение у всех заемщиков с отрицательным стажем. По нему выясняем их средний возраст трудоустройства. Используем затем этот же возраст трудоустройства для расчета стажа пенсионеров и безработных.\n",
    "\n",
    "\n",
    "И в том, и в другом случае учитываем, что там, где разница между возрастом и стажем меньше минимального возраста трудоустройства (например, 18 лет), желательно корректировать значение стажа.\n",
    "\n",
    "Опробуем оба варианта и выберем наиболее оптимальный. Сделаем это в пункте \"Обработка данных\"."
   ]
  },
  {
   "cell_type": "markdown",
   "id": "46235079",
   "metadata": {},
   "source": [
    "#### Столбец \"dob_years\""
   ]
  },
  {
   "cell_type": "markdown",
   "id": "63bc892f",
   "metadata": {},
   "source": [
    "Просмотрим уникальные значения возрастов."
   ]
  },
  {
   "cell_type": "code",
   "execution_count": 26,
   "id": "d2563e3c",
   "metadata": {
    "scrolled": true
   },
   "outputs": [
    {
     "data": {
      "text/plain": [
       "0     101\n",
       "19     14\n",
       "20     51\n",
       "21    111\n",
       "22    183\n",
       "23    254\n",
       "24    264\n",
       "25    357\n",
       "26    408\n",
       "27    493\n",
       "28    503\n",
       "29    545\n",
       "30    540\n",
       "31    560\n",
       "32    510\n",
       "33    581\n",
       "34    603\n",
       "35    617\n",
       "36    555\n",
       "37    537\n",
       "38    598\n",
       "39    573\n",
       "40    609\n",
       "41    607\n",
       "42    597\n",
       "43    513\n",
       "44    547\n",
       "45    497\n",
       "46    475\n",
       "47    480\n",
       "48    538\n",
       "49    508\n",
       "50    514\n",
       "51    448\n",
       "52    484\n",
       "53    459\n",
       "54    479\n",
       "55    443\n",
       "56    487\n",
       "57    460\n",
       "58    461\n",
       "59    444\n",
       "60    377\n",
       "61    355\n",
       "62    352\n",
       "63    269\n",
       "64    265\n",
       "65    194\n",
       "66    183\n",
       "67    167\n",
       "68     99\n",
       "69     85\n",
       "70     65\n",
       "71     58\n",
       "72     33\n",
       "73      8\n",
       "74      6\n",
       "75      1\n",
       "Name: dob_years, dtype: int64"
      ]
     },
     "execution_count": 26,
     "metadata": {},
     "output_type": "execute_result"
    }
   ],
   "source": [
    "# Выводим уникальные значения возрастов, отсортированных в порядке их возрастания.\n",
    "# Слева - возраст, справа - число заемщиков такого возраста.\n",
    "\n",
    "data['dob_years'].value_counts().sort_index()"
   ]
  },
  {
   "cell_type": "markdown",
   "id": "1e471596",
   "metadata": {},
   "source": [
    "Если не считать нулевого значения возраста, остальные распределены нормально."
   ]
  },
  {
   "cell_type": "markdown",
   "id": "8bf11648",
   "metadata": {},
   "source": [
    "Выясним тип занятости у заемщиков с возрастом \"0\"."
   ]
  },
  {
   "cell_type": "code",
   "execution_count": 27,
   "id": "a328fda7",
   "metadata": {
    "scrolled": false
   },
   "outputs": [
    {
     "data": {
      "text/html": [
       "<div>\n",
       "<style scoped>\n",
       "    .dataframe tbody tr th:only-of-type {\n",
       "        vertical-align: middle;\n",
       "    }\n",
       "\n",
       "    .dataframe tbody tr th {\n",
       "        vertical-align: top;\n",
       "    }\n",
       "\n",
       "    .dataframe thead th {\n",
       "        text-align: right;\n",
       "    }\n",
       "</style>\n",
       "<table border=\"1\" class=\"dataframe\">\n",
       "  <thead>\n",
       "    <tr style=\"text-align: right;\">\n",
       "      <th></th>\n",
       "      <th>children</th>\n",
       "      <th>days_employed</th>\n",
       "      <th>dob_years</th>\n",
       "      <th>education</th>\n",
       "      <th>education_id</th>\n",
       "      <th>family_status</th>\n",
       "      <th>family_status_id</th>\n",
       "      <th>gender</th>\n",
       "      <th>income_type</th>\n",
       "      <th>debt</th>\n",
       "      <th>total_income</th>\n",
       "      <th>purpose</th>\n",
       "    </tr>\n",
       "  </thead>\n",
       "  <tbody>\n",
       "    <tr>\n",
       "      <th>13968</th>\n",
       "      <td>1</td>\n",
       "      <td>-1018.525283</td>\n",
       "      <td>0</td>\n",
       "      <td>среднее</td>\n",
       "      <td>1</td>\n",
       "      <td>женат / замужем</td>\n",
       "      <td>0</td>\n",
       "      <td>F</td>\n",
       "      <td>сотрудник</td>\n",
       "      <td>1</td>\n",
       "      <td>155341.706429</td>\n",
       "      <td>свой автомобиль</td>\n",
       "    </tr>\n",
       "    <tr>\n",
       "      <th>578</th>\n",
       "      <td>0</td>\n",
       "      <td>397856.565013</td>\n",
       "      <td>0</td>\n",
       "      <td>среднее</td>\n",
       "      <td>1</td>\n",
       "      <td>женат / замужем</td>\n",
       "      <td>0</td>\n",
       "      <td>F</td>\n",
       "      <td>пенсионер</td>\n",
       "      <td>0</td>\n",
       "      <td>97620.687042</td>\n",
       "      <td>строительство собственной недвижимости</td>\n",
       "    </tr>\n",
       "    <tr>\n",
       "      <th>3044</th>\n",
       "      <td>2</td>\n",
       "      <td>-2502.891798</td>\n",
       "      <td>0</td>\n",
       "      <td>высшее</td>\n",
       "      <td>0</td>\n",
       "      <td>Не женат / не замужем</td>\n",
       "      <td>4</td>\n",
       "      <td>M</td>\n",
       "      <td>сотрудник</td>\n",
       "      <td>0</td>\n",
       "      <td>292145.267076</td>\n",
       "      <td>операции с недвижимостью</td>\n",
       "    </tr>\n",
       "    <tr>\n",
       "      <th>18539</th>\n",
       "      <td>0</td>\n",
       "      <td>-4852.175654</td>\n",
       "      <td>0</td>\n",
       "      <td>Высшее</td>\n",
       "      <td>0</td>\n",
       "      <td>Не женат / не замужем</td>\n",
       "      <td>4</td>\n",
       "      <td>M</td>\n",
       "      <td>компаньон</td>\n",
       "      <td>0</td>\n",
       "      <td>254837.819494</td>\n",
       "      <td>покупка жилья</td>\n",
       "    </tr>\n",
       "    <tr>\n",
       "      <th>1890</th>\n",
       "      <td>0</td>\n",
       "      <td>NaN</td>\n",
       "      <td>0</td>\n",
       "      <td>высшее</td>\n",
       "      <td>0</td>\n",
       "      <td>Не женат / не замужем</td>\n",
       "      <td>4</td>\n",
       "      <td>F</td>\n",
       "      <td>сотрудник</td>\n",
       "      <td>0</td>\n",
       "      <td>NaN</td>\n",
       "      <td>жилье</td>\n",
       "    </tr>\n",
       "  </tbody>\n",
       "</table>\n",
       "</div>"
      ],
      "text/plain": [
       "       children  days_employed  dob_years education  education_id  \\\n",
       "13968         1   -1018.525283          0   среднее             1   \n",
       "578           0  397856.565013          0   среднее             1   \n",
       "3044          2   -2502.891798          0    высшее             0   \n",
       "18539         0   -4852.175654          0    Высшее             0   \n",
       "1890          0            NaN          0    высшее             0   \n",
       "\n",
       "               family_status  family_status_id gender income_type  debt  \\\n",
       "13968        женат / замужем                 0      F   сотрудник     1   \n",
       "578          женат / замужем                 0      F   пенсионер     0   \n",
       "3044   Не женат / не замужем                 4      M   сотрудник     0   \n",
       "18539  Не женат / не замужем                 4      M   компаньон     0   \n",
       "1890   Не женат / не замужем                 4      F   сотрудник     0   \n",
       "\n",
       "        total_income                                 purpose  \n",
       "13968  155341.706429                         свой автомобиль  \n",
       "578     97620.687042  строительство собственной недвижимости  \n",
       "3044   292145.267076                операции с недвижимостью  \n",
       "18539  254837.819494                           покупка жилья  \n",
       "1890             NaN                                   жилье  "
      ]
     },
     "execution_count": 27,
     "metadata": {},
     "output_type": "execute_result"
    }
   ],
   "source": [
    "# Выводим строки таблицы, где указан нулевой возраст заемщиков (случайных 5 строк).\n",
    "\n",
    "data[data['dob_years'] == 0].sample(5)"
   ]
  },
  {
   "cell_type": "markdown",
   "id": "758bcf4d",
   "metadata": {},
   "source": [
    "Как видно из таблицы, заемщики с таким значением возраста относятся к самым разным типам занятости."
   ]
  },
  {
   "cell_type": "markdown",
   "id": "77b62ea6",
   "metadata": {},
   "source": [
    "_Вывод:_\n",
    "\n",
    "Поскольку особой закономерности тут не прослеживается, и таких строк в общей таблице менее 0.5% (101 из 21525), то их можно как удалить, так и обновить, заменив нулевые данные средними по категориям заемщиков (типу занятости).\n",
    "Ни то, ни другое на результаты существенно не повлияет."
   ]
  },
  {
   "cell_type": "markdown",
   "id": "eb2fca9e",
   "metadata": {},
   "source": [
    "## Обработка данных"
   ]
  },
  {
   "cell_type": "markdown",
   "id": "dbb3e1c4",
   "metadata": {},
   "source": [
    "### Столбец \"total_income\""
   ]
  },
  {
   "cell_type": "markdown",
   "id": "000f99ab",
   "metadata": {},
   "source": [
    "Начнем с заполнения пустых ячеек в столбце."
   ]
  },
  {
   "cell_type": "code",
   "execution_count": 28,
   "id": "54be9cc4",
   "metadata": {},
   "outputs": [
    {
     "name": "stdout",
     "output_type": "stream",
     "text": [
      "<class 'pandas.core.frame.DataFrame'>\n",
      "RangeIndex: 21525 entries, 0 to 21524\n",
      "Data columns (total 12 columns):\n",
      " #   Column            Non-Null Count  Dtype  \n",
      "---  ------            --------------  -----  \n",
      " 0   children          21525 non-null  int64  \n",
      " 1   days_employed     19351 non-null  float64\n",
      " 2   dob_years         21525 non-null  int64  \n",
      " 3   education         21525 non-null  object \n",
      " 4   education_id      21525 non-null  int64  \n",
      " 5   family_status     21525 non-null  object \n",
      " 6   family_status_id  21525 non-null  int64  \n",
      " 7   gender            21525 non-null  object \n",
      " 8   income_type       21525 non-null  object \n",
      " 9   debt              21525 non-null  int64  \n",
      " 10  total_income      21525 non-null  float64\n",
      " 11  purpose           21525 non-null  object \n",
      "dtypes: float64(2), int64(5), object(5)\n",
      "memory usage: 2.0+ MB\n"
     ]
    }
   ],
   "source": [
    "# Заполняем пустые ячейки столбца с доходами медианными значениями по каждой категории заемщиков (по типу занятости).\n",
    "# Выводим информацию о датафрейме.\n",
    "\n",
    "data_by_income = data.groupby('income_type')['total_income'].transform('median')\n",
    "data['total_income'] = data['total_income'].fillna(data_by_income)\n",
    "\n",
    "data.info()"
   ]
  },
  {
   "cell_type": "markdown",
   "id": "02e8be81",
   "metadata": {},
   "source": [
    "Таким образом, пустых ячеек в столбце \"total_income\" не осталось."
   ]
  },
  {
   "cell_type": "markdown",
   "id": "0af4ac8c",
   "metadata": {},
   "source": [
    "Проверим, действительно ли они заполнились соответствующими средними значениями."
   ]
  },
  {
   "cell_type": "code",
   "execution_count": 29,
   "id": "48166c85",
   "metadata": {},
   "outputs": [
    {
     "data": {
      "text/html": [
       "<div>\n",
       "<style scoped>\n",
       "    .dataframe tbody tr th:only-of-type {\n",
       "        vertical-align: middle;\n",
       "    }\n",
       "\n",
       "    .dataframe tbody tr th {\n",
       "        vertical-align: top;\n",
       "    }\n",
       "\n",
       "    .dataframe thead th {\n",
       "        text-align: right;\n",
       "    }\n",
       "</style>\n",
       "<table border=\"1\" class=\"dataframe\">\n",
       "  <thead>\n",
       "    <tr style=\"text-align: right;\">\n",
       "      <th></th>\n",
       "      <th>children</th>\n",
       "      <th>days_employed</th>\n",
       "      <th>dob_years</th>\n",
       "      <th>education</th>\n",
       "      <th>education_id</th>\n",
       "      <th>family_status</th>\n",
       "      <th>family_status_id</th>\n",
       "      <th>gender</th>\n",
       "      <th>income_type</th>\n",
       "      <th>debt</th>\n",
       "      <th>total_income</th>\n",
       "      <th>purpose</th>\n",
       "    </tr>\n",
       "  </thead>\n",
       "  <tbody>\n",
       "    <tr>\n",
       "      <th>12</th>\n",
       "      <td>0</td>\n",
       "      <td>NaN</td>\n",
       "      <td>65</td>\n",
       "      <td>среднее</td>\n",
       "      <td>1</td>\n",
       "      <td>гражданский брак</td>\n",
       "      <td>1</td>\n",
       "      <td>M</td>\n",
       "      <td>пенсионер</td>\n",
       "      <td>0</td>\n",
       "      <td>118514.486412</td>\n",
       "      <td>сыграть свадьбу</td>\n",
       "    </tr>\n",
       "    <tr>\n",
       "      <th>26</th>\n",
       "      <td>0</td>\n",
       "      <td>NaN</td>\n",
       "      <td>41</td>\n",
       "      <td>среднее</td>\n",
       "      <td>1</td>\n",
       "      <td>женат / замужем</td>\n",
       "      <td>0</td>\n",
       "      <td>M</td>\n",
       "      <td>госслужащий</td>\n",
       "      <td>0</td>\n",
       "      <td>150447.935283</td>\n",
       "      <td>образование</td>\n",
       "    </tr>\n",
       "    <tr>\n",
       "      <th>29</th>\n",
       "      <td>0</td>\n",
       "      <td>NaN</td>\n",
       "      <td>63</td>\n",
       "      <td>среднее</td>\n",
       "      <td>1</td>\n",
       "      <td>Не женат / не замужем</td>\n",
       "      <td>4</td>\n",
       "      <td>F</td>\n",
       "      <td>пенсионер</td>\n",
       "      <td>0</td>\n",
       "      <td>118514.486412</td>\n",
       "      <td>строительство жилой недвижимости</td>\n",
       "    </tr>\n",
       "    <tr>\n",
       "      <th>41</th>\n",
       "      <td>0</td>\n",
       "      <td>NaN</td>\n",
       "      <td>50</td>\n",
       "      <td>среднее</td>\n",
       "      <td>1</td>\n",
       "      <td>женат / замужем</td>\n",
       "      <td>0</td>\n",
       "      <td>F</td>\n",
       "      <td>госслужащий</td>\n",
       "      <td>0</td>\n",
       "      <td>150447.935283</td>\n",
       "      <td>сделка с подержанным автомобилем</td>\n",
       "    </tr>\n",
       "    <tr>\n",
       "      <th>55</th>\n",
       "      <td>0</td>\n",
       "      <td>NaN</td>\n",
       "      <td>54</td>\n",
       "      <td>среднее</td>\n",
       "      <td>1</td>\n",
       "      <td>гражданский брак</td>\n",
       "      <td>1</td>\n",
       "      <td>F</td>\n",
       "      <td>пенсионер</td>\n",
       "      <td>1</td>\n",
       "      <td>118514.486412</td>\n",
       "      <td>сыграть свадьбу</td>\n",
       "    </tr>\n",
       "  </tbody>\n",
       "</table>\n",
       "</div>"
      ],
      "text/plain": [
       "    children  days_employed  dob_years education  education_id  \\\n",
       "12         0            NaN         65   среднее             1   \n",
       "26         0            NaN         41   среднее             1   \n",
       "29         0            NaN         63   среднее             1   \n",
       "41         0            NaN         50   среднее             1   \n",
       "55         0            NaN         54   среднее             1   \n",
       "\n",
       "            family_status  family_status_id gender  income_type  debt  \\\n",
       "12       гражданский брак                 1      M    пенсионер     0   \n",
       "26        женат / замужем                 0      M  госслужащий     0   \n",
       "29  Не женат / не замужем                 4      F    пенсионер     0   \n",
       "41        женат / замужем                 0      F  госслужащий     0   \n",
       "55       гражданский брак                 1      F    пенсионер     1   \n",
       "\n",
       "     total_income                           purpose  \n",
       "12  118514.486412                   сыграть свадьбу  \n",
       "26  150447.935283                       образование  \n",
       "29  118514.486412  строительство жилой недвижимости  \n",
       "41  150447.935283  сделка с подержанным автомобилем  \n",
       "55  118514.486412                   сыграть свадьбу  "
      ]
     },
     "execution_count": 29,
     "metadata": {},
     "output_type": "execute_result"
    }
   ],
   "source": [
    "# Выводим строки таблицы со все еще пустыми ячейками в столбце \"days_employed\" (первые 5 строк).\n",
    "\n",
    "data[(data['days_employed'].isna())].head()"
   ]
  },
  {
   "cell_type": "markdown",
   "id": "8175f173",
   "metadata": {},
   "source": [
    "Как видим, таблица заполнилась верно."
   ]
  },
  {
   "cell_type": "markdown",
   "id": "09c546c5",
   "metadata": {},
   "source": [
    "### Столбец \"dob_years\""
   ]
  },
  {
   "cell_type": "markdown",
   "id": "ed8f5388",
   "metadata": {},
   "source": [
    "Заменим нулевые значения возрастов средними по группам."
   ]
  },
  {
   "cell_type": "code",
   "execution_count": 30,
   "id": "186811fe",
   "metadata": {},
   "outputs": [
    {
     "name": "stdout",
     "output_type": "stream",
     "text": [
      "Количество нулевых значений в столбце 'dob_years' - 0\n"
     ]
    }
   ],
   "source": [
    "# Меняем все значения возраста заемщиков, равные нулю, на соответствующие средние значения\n",
    "# по каждой категории заемщиков (по типу занятости).\n",
    "# После чего проверяем количество оставшихся нулевых значений.\n",
    "\n",
    "data['dob_years'] = data.groupby('income_type')['dob_years'].transform(lambda x: x.replace(0, int(x.mean())))\n",
    "\n",
    "print(\"Количество нулевых значений в столбце 'dob_years' -\", data[data['dob_years'] == 0]['dob_years'].count())"
   ]
  },
  {
   "cell_type": "markdown",
   "id": "d60bb247",
   "metadata": {},
   "source": [
    "Все нулевые значения заменены."
   ]
  },
  {
   "cell_type": "markdown",
   "id": "f160c29b",
   "metadata": {},
   "source": [
    "### Cтолбец \"days_employed\""
   ]
  },
  {
   "cell_type": "markdown",
   "id": "7bb2a16f",
   "metadata": {},
   "source": [
    "Хотя в целях настоящего проекта можно в принципе игнорировать этот столбец (его данные никак не помогут в ответе на поставленные вопросы), однако в качестве примера поиска путей решения при обработке подобных данных остановимся на нем подробнее."
   ]
  },
  {
   "cell_type": "markdown",
   "id": "db445629",
   "metadata": {},
   "source": [
    "#### Шаг 1"
   ]
  },
  {
   "cell_type": "markdown",
   "id": "9a13d58e",
   "metadata": {},
   "source": [
    "Итак, реализуем оба варианта замены данных о стаже. При этом создадим дублирующие датафреймы, чтобы пока не трогать основной."
   ]
  },
  {
   "cell_type": "markdown",
   "id": "67bbbd5a",
   "metadata": {},
   "source": [
    "__Вариант 1.__"
   ]
  },
  {
   "cell_type": "code",
   "execution_count": 31,
   "id": "b3b88dc4",
   "metadata": {},
   "outputs": [],
   "source": [
    "# Создаем копию датафрейма для проверки Варианта 1.\n",
    "\n",
    "data0 = data.copy()"
   ]
  },
  {
   "cell_type": "code",
   "execution_count": 32,
   "id": "5a4046ee",
   "metadata": {},
   "outputs": [
    {
     "data": {
      "text/html": [
       "<div>\n",
       "<style scoped>\n",
       "    .dataframe tbody tr th:only-of-type {\n",
       "        vertical-align: middle;\n",
       "    }\n",
       "\n",
       "    .dataframe tbody tr th {\n",
       "        vertical-align: top;\n",
       "    }\n",
       "\n",
       "    .dataframe thead th {\n",
       "        text-align: right;\n",
       "    }\n",
       "</style>\n",
       "<table border=\"1\" class=\"dataframe\">\n",
       "  <thead>\n",
       "    <tr style=\"text-align: right;\">\n",
       "      <th></th>\n",
       "      <th>children</th>\n",
       "      <th>days_employed</th>\n",
       "      <th>dob_years</th>\n",
       "      <th>education</th>\n",
       "      <th>education_id</th>\n",
       "      <th>family_status</th>\n",
       "      <th>family_status_id</th>\n",
       "      <th>gender</th>\n",
       "      <th>income_type</th>\n",
       "      <th>debt</th>\n",
       "      <th>total_income</th>\n",
       "      <th>purpose</th>\n",
       "    </tr>\n",
       "  </thead>\n",
       "  <tbody>\n",
       "    <tr>\n",
       "      <th>0</th>\n",
       "      <td>1</td>\n",
       "      <td>8437.673028</td>\n",
       "      <td>42</td>\n",
       "      <td>высшее</td>\n",
       "      <td>0</td>\n",
       "      <td>женат / замужем</td>\n",
       "      <td>0</td>\n",
       "      <td>F</td>\n",
       "      <td>сотрудник</td>\n",
       "      <td>0</td>\n",
       "      <td>253875.639453</td>\n",
       "      <td>покупка жилья</td>\n",
       "    </tr>\n",
       "    <tr>\n",
       "      <th>1</th>\n",
       "      <td>1</td>\n",
       "      <td>4024.803754</td>\n",
       "      <td>36</td>\n",
       "      <td>среднее</td>\n",
       "      <td>1</td>\n",
       "      <td>женат / замужем</td>\n",
       "      <td>0</td>\n",
       "      <td>F</td>\n",
       "      <td>сотрудник</td>\n",
       "      <td>0</td>\n",
       "      <td>112080.014102</td>\n",
       "      <td>приобретение автомобиля</td>\n",
       "    </tr>\n",
       "    <tr>\n",
       "      <th>2</th>\n",
       "      <td>0</td>\n",
       "      <td>5623.422610</td>\n",
       "      <td>33</td>\n",
       "      <td>Среднее</td>\n",
       "      <td>1</td>\n",
       "      <td>женат / замужем</td>\n",
       "      <td>0</td>\n",
       "      <td>M</td>\n",
       "      <td>сотрудник</td>\n",
       "      <td>0</td>\n",
       "      <td>145885.952297</td>\n",
       "      <td>покупка жилья</td>\n",
       "    </tr>\n",
       "    <tr>\n",
       "      <th>3</th>\n",
       "      <td>3</td>\n",
       "      <td>4124.747207</td>\n",
       "      <td>32</td>\n",
       "      <td>среднее</td>\n",
       "      <td>1</td>\n",
       "      <td>женат / замужем</td>\n",
       "      <td>0</td>\n",
       "      <td>M</td>\n",
       "      <td>сотрудник</td>\n",
       "      <td>0</td>\n",
       "      <td>267628.550329</td>\n",
       "      <td>дополнительное образование</td>\n",
       "    </tr>\n",
       "    <tr>\n",
       "      <th>4</th>\n",
       "      <td>0</td>\n",
       "      <td>14177.753002</td>\n",
       "      <td>53</td>\n",
       "      <td>среднее</td>\n",
       "      <td>1</td>\n",
       "      <td>гражданский брак</td>\n",
       "      <td>1</td>\n",
       "      <td>F</td>\n",
       "      <td>пенсионер</td>\n",
       "      <td>0</td>\n",
       "      <td>158616.077870</td>\n",
       "      <td>сыграть свадьбу</td>\n",
       "    </tr>\n",
       "    <tr>\n",
       "      <th>5</th>\n",
       "      <td>0</td>\n",
       "      <td>926.185831</td>\n",
       "      <td>27</td>\n",
       "      <td>высшее</td>\n",
       "      <td>0</td>\n",
       "      <td>гражданский брак</td>\n",
       "      <td>1</td>\n",
       "      <td>M</td>\n",
       "      <td>компаньон</td>\n",
       "      <td>0</td>\n",
       "      <td>255763.565419</td>\n",
       "      <td>покупка жилья</td>\n",
       "    </tr>\n",
       "    <tr>\n",
       "      <th>6</th>\n",
       "      <td>0</td>\n",
       "      <td>2879.202052</td>\n",
       "      <td>43</td>\n",
       "      <td>высшее</td>\n",
       "      <td>0</td>\n",
       "      <td>женат / замужем</td>\n",
       "      <td>0</td>\n",
       "      <td>F</td>\n",
       "      <td>компаньон</td>\n",
       "      <td>0</td>\n",
       "      <td>240525.971920</td>\n",
       "      <td>операции с жильем</td>\n",
       "    </tr>\n",
       "    <tr>\n",
       "      <th>7</th>\n",
       "      <td>0</td>\n",
       "      <td>152.779569</td>\n",
       "      <td>50</td>\n",
       "      <td>СРЕДНЕЕ</td>\n",
       "      <td>1</td>\n",
       "      <td>женат / замужем</td>\n",
       "      <td>0</td>\n",
       "      <td>M</td>\n",
       "      <td>сотрудник</td>\n",
       "      <td>0</td>\n",
       "      <td>135823.934197</td>\n",
       "      <td>образование</td>\n",
       "    </tr>\n",
       "    <tr>\n",
       "      <th>8</th>\n",
       "      <td>2</td>\n",
       "      <td>6929.865299</td>\n",
       "      <td>35</td>\n",
       "      <td>ВЫСШЕЕ</td>\n",
       "      <td>0</td>\n",
       "      <td>гражданский брак</td>\n",
       "      <td>1</td>\n",
       "      <td>F</td>\n",
       "      <td>сотрудник</td>\n",
       "      <td>0</td>\n",
       "      <td>95856.832424</td>\n",
       "      <td>на проведение свадьбы</td>\n",
       "    </tr>\n",
       "    <tr>\n",
       "      <th>9</th>\n",
       "      <td>0</td>\n",
       "      <td>2188.756445</td>\n",
       "      <td>41</td>\n",
       "      <td>среднее</td>\n",
       "      <td>1</td>\n",
       "      <td>женат / замужем</td>\n",
       "      <td>0</td>\n",
       "      <td>M</td>\n",
       "      <td>сотрудник</td>\n",
       "      <td>0</td>\n",
       "      <td>144425.938277</td>\n",
       "      <td>покупка жилья для семьи</td>\n",
       "    </tr>\n",
       "  </tbody>\n",
       "</table>\n",
       "</div>"
      ],
      "text/plain": [
       "   children  days_employed  dob_years education  education_id  \\\n",
       "0         1    8437.673028         42    высшее             0   \n",
       "1         1    4024.803754         36   среднее             1   \n",
       "2         0    5623.422610         33   Среднее             1   \n",
       "3         3    4124.747207         32   среднее             1   \n",
       "4         0   14177.753002         53   среднее             1   \n",
       "5         0     926.185831         27    высшее             0   \n",
       "6         0    2879.202052         43    высшее             0   \n",
       "7         0     152.779569         50   СРЕДНЕЕ             1   \n",
       "8         2    6929.865299         35    ВЫСШЕЕ             0   \n",
       "9         0    2188.756445         41   среднее             1   \n",
       "\n",
       "      family_status  family_status_id gender income_type  debt   total_income  \\\n",
       "0   женат / замужем                 0      F   сотрудник     0  253875.639453   \n",
       "1   женат / замужем                 0      F   сотрудник     0  112080.014102   \n",
       "2   женат / замужем                 0      M   сотрудник     0  145885.952297   \n",
       "3   женат / замужем                 0      M   сотрудник     0  267628.550329   \n",
       "4  гражданский брак                 1      F   пенсионер     0  158616.077870   \n",
       "5  гражданский брак                 1      M   компаньон     0  255763.565419   \n",
       "6   женат / замужем                 0      F   компаньон     0  240525.971920   \n",
       "7   женат / замужем                 0      M   сотрудник     0  135823.934197   \n",
       "8  гражданский брак                 1      F   сотрудник     0   95856.832424   \n",
       "9   женат / замужем                 0      M   сотрудник     0  144425.938277   \n",
       "\n",
       "                      purpose  \n",
       "0               покупка жилья  \n",
       "1     приобретение автомобиля  \n",
       "2               покупка жилья  \n",
       "3  дополнительное образование  \n",
       "4             сыграть свадьбу  \n",
       "5               покупка жилья  \n",
       "6           операции с жильем  \n",
       "7                 образование  \n",
       "8       на проведение свадьбы  \n",
       "9     покупка жилья для семьи  "
      ]
     },
     "execution_count": 32,
     "metadata": {},
     "output_type": "execute_result"
    }
   ],
   "source": [
    "# Делим все положительные значения трудового стажа на 24 часа, чтобы получить значения в днях.\n",
    "# Берем все отрицательные значения трудового стажа по модулю.\n",
    "# Выводим первые 10 строк обновленной таблицы.\n",
    "\n",
    "data0.loc[data0['days_employed'] > 0,'days_employed'] = data0['days_employed'] / 24\n",
    "data0.loc[data0['days_employed'] < 0,'days_employed'] = - data0['days_employed']\n",
    "\n",
    "data0.head(10)"
   ]
  },
  {
   "cell_type": "markdown",
   "id": "d5eaeffd",
   "metadata": {},
   "source": [
    "Необходимо откорректировать стаж, чтобы возраст трудоустройства вернулся в рамки. Будем исходить из того, что трудиться разрешается с 18 лет.\n",
    "\n",
    "Поэтому, если разница между возрастом заемщика (в годах) и его стажем составила менее 18 лет, необходимо указать стаж, равный разнице между возрастом (в днях) и 18 годами (6570 днями)."
   ]
  },
  {
   "cell_type": "code",
   "execution_count": 33,
   "id": "2595fd3c",
   "metadata": {},
   "outputs": [
    {
     "name": "stdout",
     "output_type": "stream",
     "text": [
      "Минимальный возраст трудоустройства заемщика - 18.00 лет\n",
      "Средний возраст трудоустройства заемщика - 31.25 лет\n",
      "Максимальный возраст трудоустройства заемщика - 70.40 лет\n"
     ]
    }
   ],
   "source": [
    "# Обновляем возраст тех, у кого стаж получается нереально большим, так чтобы возраст трудоустройства не был больше 18 лет.\n",
    "# Выводим данные о минимальном, среднем и максимальном возрасте трудоустройства заемщиков.\n",
    "\n",
    "data0.loc[((data0['dob_years'] - data0['days_employed'] / 365) < 18),\n",
    "          'days_employed'] = data0['dob_years'] * 365 - 18 * 365\n",
    "\n",
    "employment_age0 = data0['dob_years'] - data0['days_employed'] / 365\n",
    "\n",
    "# РЕЗУЛЬТАТ ПО ВАРИАНТУ 1\n",
    "print(f\"Минимальный возраст трудоустройства заемщика - {employment_age0.min():.2f} лет\")  # 18.00 лет\n",
    "print(f\"Средний возраст трудоустройства заемщика - {employment_age0.mean():.2f} лет\")     # 31.25 лет\n",
    "print(f\"Максимальный возраст трудоустройства заемщика - {employment_age0.max():.2f} лет\") # 70.40 лет"
   ]
  },
  {
   "cell_type": "markdown",
   "id": "e0351cf0",
   "metadata": {},
   "source": [
    "#### Шаг 2"
   ]
  },
  {
   "cell_type": "markdown",
   "id": "281e719a",
   "metadata": {},
   "source": [
    "__Вариант 2a.__"
   ]
  },
  {
   "cell_type": "code",
   "execution_count": 34,
   "id": "fe06a699",
   "metadata": {},
   "outputs": [],
   "source": [
    "# Создаем копию датафрейма для проверки Варианта 2а.\n",
    "\n",
    "data1 = data.copy()"
   ]
  },
  {
   "cell_type": "markdown",
   "id": "e7fdd945",
   "metadata": {},
   "source": [
    "Т.к. максимальное по модулю значение стажа (среди отрицательных) - 50.38 лет, как было выяснено ранее, округлим и примем за максимально установленный стаж 50 лет.\n",
    "\n",
    "Заменим содержимое всех ячеек с положительным значением стажа на 18250 (т.е. 50x365) и проверим, как стаж соотносится с возрастом."
   ]
  },
  {
   "cell_type": "code",
   "execution_count": 35,
   "id": "c6de8355",
   "metadata": {},
   "outputs": [
    {
     "data": {
      "text/html": [
       "<div>\n",
       "<style scoped>\n",
       "    .dataframe tbody tr th:only-of-type {\n",
       "        vertical-align: middle;\n",
       "    }\n",
       "\n",
       "    .dataframe tbody tr th {\n",
       "        vertical-align: top;\n",
       "    }\n",
       "\n",
       "    .dataframe thead th {\n",
       "        text-align: right;\n",
       "    }\n",
       "</style>\n",
       "<table border=\"1\" class=\"dataframe\">\n",
       "  <thead>\n",
       "    <tr style=\"text-align: right;\">\n",
       "      <th></th>\n",
       "      <th>children</th>\n",
       "      <th>days_employed</th>\n",
       "      <th>dob_years</th>\n",
       "      <th>education</th>\n",
       "      <th>education_id</th>\n",
       "      <th>family_status</th>\n",
       "      <th>family_status_id</th>\n",
       "      <th>gender</th>\n",
       "      <th>income_type</th>\n",
       "      <th>debt</th>\n",
       "      <th>total_income</th>\n",
       "      <th>purpose</th>\n",
       "    </tr>\n",
       "  </thead>\n",
       "  <tbody>\n",
       "    <tr>\n",
       "      <th>4</th>\n",
       "      <td>0</td>\n",
       "      <td>18250.0</td>\n",
       "      <td>53</td>\n",
       "      <td>среднее</td>\n",
       "      <td>1</td>\n",
       "      <td>гражданский брак</td>\n",
       "      <td>1</td>\n",
       "      <td>F</td>\n",
       "      <td>пенсионер</td>\n",
       "      <td>0</td>\n",
       "      <td>158616.077870</td>\n",
       "      <td>сыграть свадьбу</td>\n",
       "    </tr>\n",
       "    <tr>\n",
       "      <th>18</th>\n",
       "      <td>0</td>\n",
       "      <td>18250.0</td>\n",
       "      <td>53</td>\n",
       "      <td>среднее</td>\n",
       "      <td>1</td>\n",
       "      <td>вдовец / вдова</td>\n",
       "      <td>2</td>\n",
       "      <td>F</td>\n",
       "      <td>пенсионер</td>\n",
       "      <td>0</td>\n",
       "      <td>56823.777243</td>\n",
       "      <td>на покупку подержанного автомобиля</td>\n",
       "    </tr>\n",
       "    <tr>\n",
       "      <th>24</th>\n",
       "      <td>1</td>\n",
       "      <td>18250.0</td>\n",
       "      <td>57</td>\n",
       "      <td>среднее</td>\n",
       "      <td>1</td>\n",
       "      <td>Не женат / не замужем</td>\n",
       "      <td>4</td>\n",
       "      <td>F</td>\n",
       "      <td>пенсионер</td>\n",
       "      <td>0</td>\n",
       "      <td>290547.235997</td>\n",
       "      <td>операции с коммерческой недвижимостью</td>\n",
       "    </tr>\n",
       "    <tr>\n",
       "      <th>25</th>\n",
       "      <td>0</td>\n",
       "      <td>18250.0</td>\n",
       "      <td>67</td>\n",
       "      <td>среднее</td>\n",
       "      <td>1</td>\n",
       "      <td>женат / замужем</td>\n",
       "      <td>0</td>\n",
       "      <td>M</td>\n",
       "      <td>пенсионер</td>\n",
       "      <td>0</td>\n",
       "      <td>55112.757732</td>\n",
       "      <td>покупка недвижимости</td>\n",
       "    </tr>\n",
       "    <tr>\n",
       "      <th>30</th>\n",
       "      <td>1</td>\n",
       "      <td>18250.0</td>\n",
       "      <td>62</td>\n",
       "      <td>среднее</td>\n",
       "      <td>1</td>\n",
       "      <td>женат / замужем</td>\n",
       "      <td>0</td>\n",
       "      <td>F</td>\n",
       "      <td>пенсионер</td>\n",
       "      <td>0</td>\n",
       "      <td>171456.067993</td>\n",
       "      <td>операции с коммерческой недвижимостью</td>\n",
       "    </tr>\n",
       "  </tbody>\n",
       "</table>\n",
       "</div>"
      ],
      "text/plain": [
       "    children  days_employed  dob_years education  education_id  \\\n",
       "4          0        18250.0         53   среднее             1   \n",
       "18         0        18250.0         53   среднее             1   \n",
       "24         1        18250.0         57   среднее             1   \n",
       "25         0        18250.0         67   среднее             1   \n",
       "30         1        18250.0         62   среднее             1   \n",
       "\n",
       "            family_status  family_status_id gender income_type  debt  \\\n",
       "4        гражданский брак                 1      F   пенсионер     0   \n",
       "18         вдовец / вдова                 2      F   пенсионер     0   \n",
       "24  Не женат / не замужем                 4      F   пенсионер     0   \n",
       "25        женат / замужем                 0      M   пенсионер     0   \n",
       "30        женат / замужем                 0      F   пенсионер     0   \n",
       "\n",
       "     total_income                                purpose  \n",
       "4   158616.077870                        сыграть свадьбу  \n",
       "18   56823.777243     на покупку подержанного автомобиля  \n",
       "24  290547.235997  операции с коммерческой недвижимостью  \n",
       "25   55112.757732                   покупка недвижимости  \n",
       "30  171456.067993  операции с коммерческой недвижимостью  "
      ]
     },
     "execution_count": 35,
     "metadata": {},
     "output_type": "execute_result"
    }
   ],
   "source": [
    "# Заменяем все положительные значения трудового стажа на 18250 дней (т.е. 50 лет).\n",
    "# Выводим строки с получившимися значениями стажа (первые 10 таких строк).\n",
    "\n",
    "data1.loc[data1['days_employed'] > 0,'days_employed'] = 50 * 365\n",
    "\n",
    "data1[data1['days_employed'] > 0].head()"
   ]
  },
  {
   "cell_type": "code",
   "execution_count": 36,
   "id": "89da58dc",
   "metadata": {},
   "outputs": [
    {
     "name": "stdout",
     "output_type": "stream",
     "text": [
      "Минимальный возраст трудоустройства заемщика - -28.00 лет\n",
      "Средний возраст трудоустройства заемщика - 9.42 лет\n",
      "Максимальный возраст трудоустройства заемщика - 24.00 лет\n"
     ]
    }
   ],
   "source": [
    "# Выводим данные о минимальном, среднем и максимальном возрасте трудоустройства заемщиков.\n",
    "\n",
    "employment_age1 = data1[data1['days_employed'] > 0]['dob_years'] - (data1['days_employed'] / 365)\n",
    "\n",
    "print(f\"Минимальный возраст трудоустройства заемщика - {employment_age1.min():.2f} лет\")  # -28.00 лет\n",
    "print(f\"Средний возраст трудоустройства заемщика - {employment_age1.mean():.2f} лет\")     # 9.42 лет\n",
    "print(f\"Максимальный возраст трудоустройства заемщика - {employment_age1.max():.2f} лет\") # 24.00 лет"
   ]
  },
  {
   "cell_type": "markdown",
   "id": "028d7c45",
   "metadata": {},
   "source": [
    "Как видим из столбцов \"dob_years\" и \"days_employed\", у многих разница между возрастом и максимальным стажем (возраст трудоустройства) слишком маленькая. А минимальное значение вообще отрицательное."
   ]
  },
  {
   "cell_type": "markdown",
   "id": "2697046c",
   "metadata": {},
   "source": [
    "Выясним минимальный возраст этих двух категорий заемщиков (пенсионеров и безработных)."
   ]
  },
  {
   "cell_type": "code",
   "execution_count": 37,
   "id": "aa6936f4",
   "metadata": {},
   "outputs": [
    {
     "name": "stdout",
     "output_type": "stream",
     "text": [
      "Минимальный возраст заемщиков с большим значением стажа - 22 года\n"
     ]
    }
   ],
   "source": [
    "print(\"Минимальный возраст заемщиков с большим значением стажа -\",\n",
    "      data1[data1['days_employed'] > 0]['dob_years'].min(), \"года\")"
   ]
  },
  {
   "cell_type": "markdown",
   "id": "20e93715",
   "metadata": {},
   "source": [
    "Посмотрим, не портят ли картину двое безработных."
   ]
  },
  {
   "cell_type": "code",
   "execution_count": 38,
   "id": "8408ce05",
   "metadata": {},
   "outputs": [
    {
     "data": {
      "text/plain": [
       "31    1\n",
       "45    1\n",
       "Name: dob_years, dtype: int64"
      ]
     },
     "execution_count": 38,
     "metadata": {},
     "output_type": "execute_result"
    }
   ],
   "source": [
    "# Выводим уникальные значения возрастов безработных заемщиков, отсортированных в порядке их возрастания.\n",
    "# Слева - возраст, справа - число заемщиков такого возраста.\n",
    "\n",
    "data1[data1['income_type'] == 'безработный']['dob_years'].value_counts().sort_index()"
   ]
  },
  {
   "cell_type": "markdown",
   "id": "39691a32",
   "metadata": {},
   "source": [
    "Выходит, что с 22 лет начинается возраст самих пенсионеров.\n"
   ]
  },
  {
   "cell_type": "markdown",
   "id": "56ae1d17",
   "metadata": {},
   "source": [
    "Откорректируем стаж, чтобы возраст трудоустройства вернулся в рамки.\n",
    "Если разница между возрастом заемщика (в годах) и максимальным стажем (50 лет) составила менее 18 лет, необходимо указать стаж, равный разнице между возрастом (в днях) и 18 годами (6570 днями)."
   ]
  },
  {
   "cell_type": "code",
   "execution_count": 39,
   "id": "c6b0b140",
   "metadata": {},
   "outputs": [
    {
     "name": "stdout",
     "output_type": "stream",
     "text": [
      "Минимальный возраст трудоустройства заемщика - 18.00 лет\n",
      "Средний возраст трудоустройства заемщика - 18.14 лет\n",
      "Максимальный возраст трудоустройства заемщика - 24.00 лет\n"
     ]
    }
   ],
   "source": [
    "# Обновляем возраст тех, у кого стаж получается нереально большим, так чтобы возраст трудоустройства не был больше 18 лет.\n",
    "# Выводим обновленные данные о минимальном, среднем и максимальном возрасте трудоустройства заемщиков.\n",
    "\n",
    "data1.loc[(data1['days_employed'] > 0) & ((data1['dob_years'] - 50) < 18),\n",
    "          'days_employed'] = data1['dob_years'] * 365 - 18 * 365\n",
    "\n",
    "employment_age1 = data1[data1['days_employed'] > 0]['dob_years'] - (data1['days_employed'] / 365)\n",
    "\n",
    "print(f\"Минимальный возраст трудоустройства заемщика - {employment_age1.min():.2f} лет\")  # 18.00 лет\n",
    "print(f\"Средний возраст трудоустройства заемщика - {employment_age1.mean():.2f} лет\")     # 18.14 лет\n",
    "print(f\"Максимальный возраст трудоустройства заемщика - {employment_age1.max():.2f} лет\") # 24.00 лет"
   ]
  },
  {
   "cell_type": "markdown",
   "id": "76b00521",
   "metadata": {},
   "source": [
    "Теперь поменяем отрицательные значения в стаже на положительные."
   ]
  },
  {
   "cell_type": "code",
   "execution_count": 40,
   "id": "2535fd78",
   "metadata": {},
   "outputs": [
    {
     "name": "stdout",
     "output_type": "stream",
     "text": [
      "Количество отрицательных значений в столбце 'days_employed' до замены - 15906\n"
     ]
    }
   ],
   "source": [
    "print(\"Количество отрицательных значений в столбце 'days_employed' до замены -\", \n",
    "      data1[data1['days_employed'] < 0]['days_employed'].count())"
   ]
  },
  {
   "cell_type": "code",
   "execution_count": 41,
   "id": "3e9f1d5b",
   "metadata": {},
   "outputs": [
    {
     "name": "stdout",
     "output_type": "stream",
     "text": [
      "Количество отрицательных значений в столбце 'days_employed' после замены - 0\n"
     ]
    }
   ],
   "source": [
    "data1.loc[data1['days_employed'] < 0,'days_employed'] = - data1['days_employed']\n",
    "print(\"Количество отрицательных значений в столбце 'days_employed' после замены -\", \n",
    "      data1[data1['days_employed'] < 0]['days_employed'].count())"
   ]
  },
  {
   "cell_type": "code",
   "execution_count": 42,
   "id": "5f095810",
   "metadata": {},
   "outputs": [
    {
     "name": "stdout",
     "output_type": "stream",
     "text": [
      "Минимальный возраст трудоустройства заемщика - 18.00 лет\n",
      "Средний возраст трудоустройства заемщика - 18.09 лет\n",
      "Максимальный возраст трудоустройства заемщика - 70.40 лет\n"
     ]
    }
   ],
   "source": [
    "# Обновляем возраст всех заемщиков, так чтобы возраст трудоустройства не был больше 18 лет.\n",
    "# Выводим обновленные данные о минимальном, среднем и максимальном возрасте трудоустройства заемщиков.\n",
    "\n",
    "data1.loc[((data1['dob_years'] - 50) < 18),'days_employed'] = data1['dob_years'] * 365 - 18 * 365\n",
    "\n",
    "employment_age1 = data1['dob_years'] - data1['days_employed'] / 365\n",
    "\n",
    "# РЕЗУЛЬТАТ ПО ВАРИАНТУ 2a\n",
    "print(f\"Минимальный возраст трудоустройства заемщика - {employment_age1.min():.2f} лет\")   # 18.00 лет\n",
    "print(f\"Средний возраст трудоустройства заемщика - {employment_age1.mean():.2f} лет\")      # 18.09 лет\n",
    "print(f\"Максимальный возраст трудоустройства заемщика - {employment_age1.max():.2f} лет\")  # 70.40 лет"
   ]
  },
  {
   "cell_type": "markdown",
   "id": "7bddf47a",
   "metadata": {},
   "source": [
    "Полученные показатели довольно сомнительны.\n",
    "Причиной, вероятнее всего, послужил максимальный стаж в 50 лет, взятый за основу расчета."
   ]
  },
  {
   "cell_type": "markdown",
   "id": "54646746",
   "metadata": {},
   "source": [
    "#### Шаг 3"
   ]
  },
  {
   "cell_type": "markdown",
   "id": "6f919765",
   "metadata": {},
   "source": [
    "__Вариант 2b.__"
   ]
  },
  {
   "cell_type": "code",
   "execution_count": 43,
   "id": "e3cf91c2",
   "metadata": {},
   "outputs": [],
   "source": [
    "# Создаем копию датафрейма для проверки Варианта 2b.\n",
    "\n",
    "data2 = data.copy()"
   ]
  },
  {
   "cell_type": "markdown",
   "id": "0e191df2",
   "metadata": {},
   "source": [
    "Найдем средний стаж остальных категорий заемщиков (кроме пенсионеров и безработных)."
   ]
  },
  {
   "cell_type": "code",
   "execution_count": 44,
   "id": "71aa538d",
   "metadata": {},
   "outputs": [
    {
     "name": "stdout",
     "output_type": "stream",
     "text": [
      "Средний стаж заемщиков, кроме пенсионеров и безработных, - 6.45 лет\n"
     ]
    }
   ],
   "source": [
    "print(f\"Средний стаж заемщиков, кроме пенсионеров и безработных, \"\n",
    "      f\"- {(data2[data2['days_employed'] < 0]['days_employed'].mean() / (-365)):.2f} лет\")"
   ]
  },
  {
   "cell_type": "markdown",
   "id": "015c5f3e",
   "metadata": {},
   "source": [
    "Сформируем Series c данными о возрастах трудоустройства этих заемщиков."
   ]
  },
  {
   "cell_type": "code",
   "execution_count": 45,
   "id": "1ac0f781",
   "metadata": {},
   "outputs": [
    {
     "data": {
      "text/plain": [
       "count    15496.000000\n",
       "mean        34.001154\n",
       "std          9.937833\n",
       "min         18.000321\n",
       "25%         25.872307\n",
       "50%         32.592106\n",
       "75%         40.912223\n",
       "max         70.400083\n",
       "dtype: float64"
      ]
     },
     "execution_count": 45,
     "metadata": {},
     "output_type": "execute_result"
    }
   ],
   "source": [
    "# По каждому из этой группы заемщиков находим возраст трудоустройства (разницу между возрастом и стажем), \n",
    "# при условии, что он составляет не менее 18 лет.\n",
    "\n",
    "neg_days_employment_age = data2[\n",
    "    (data2['days_employed'] < 0) \n",
    "    & (data2['dob_years'] - (data2['days_employed'] / (-365)) >= 18)\n",
    "]['dob_years'] - (data2['days_employed'] / (-365))\n",
    "\n",
    "neg_days_employment_age.describe()"
   ]
  },
  {
   "cell_type": "markdown",
   "id": "65f80322",
   "metadata": {},
   "source": [
    "Из описания видно, что средний возраст трудоустройства составил 34 года. Попробуем использовать его для обновления данных о стаже пенсионеров и безработных."
   ]
  },
  {
   "cell_type": "markdown",
   "id": "db204fe0",
   "metadata": {},
   "source": [
    "Поскольку минимальный возраст в этих категориях - 22 года, необходимо учесть, что для расчета среднего будут взяты только те заемщики, которым уже исполнилось 34."
   ]
  },
  {
   "cell_type": "markdown",
   "id": "656a3dc5",
   "metadata": {},
   "source": [
    "Обновим столбец c данными о стаже пенсионеров и безработных."
   ]
  },
  {
   "cell_type": "code",
   "execution_count": 46,
   "id": "6eef8d94",
   "metadata": {},
   "outputs": [
    {
     "data": {
      "text/plain": [
       "count     9.402740\n",
       "mean     25.531469\n",
       "std       6.057978\n",
       "min       0.000000\n",
       "25%      22.000000\n",
       "50%      26.000000\n",
       "75%      30.000000\n",
       "max      40.000000\n",
       "Name: days_employed, dtype: float64"
      ]
     },
     "execution_count": 46,
     "metadata": {},
     "output_type": "execute_result"
    }
   ],
   "source": [
    "# По каждому из этой группы заемщиков находим трудовой стаж (разницу между текущим возрастом и возрастом трудоустройства), \n",
    "# при условии, что он составляет не менее 34 лет.\n",
    "\n",
    "data2['days_employed'] = data2[(data2['days_employed'] > 0) & (data2['dob_years'] >= 34)]['dob_years'] * 365 - 34 * 365\n",
    "data2['days_employed'].describe() / 365"
   ]
  },
  {
   "cell_type": "markdown",
   "id": "73e9b50e",
   "metadata": {},
   "source": [
    "По описанию видно, что средний по этой группе заемщиков стаж составил около 25.5 лет, а максимальный - 40 лет.\n",
    "Эти данные более реалистичны, чем  в Варианте 2а."
   ]
  },
  {
   "cell_type": "markdown",
   "id": "dca01601",
   "metadata": {},
   "source": [
    "#### Шаг 4"
   ]
  },
  {
   "cell_type": "markdown",
   "id": "4e276bb9",
   "metadata": {},
   "source": [
    "Повторим все, как в Варианте 2а, но теперь подставим полученный в результате расчетов максимальный стаж 40 лет, вместо 50. "
   ]
  },
  {
   "cell_type": "code",
   "execution_count": 47,
   "id": "e70f5bf0",
   "metadata": {},
   "outputs": [],
   "source": [
    "# Создаем еще одну копию датафрейма для окончания проверки Варианта 2b.\n",
    "\n",
    "data3 = data.copy()"
   ]
  },
  {
   "cell_type": "code",
   "execution_count": 48,
   "id": "38aff15d",
   "metadata": {},
   "outputs": [
    {
     "name": "stdout",
     "output_type": "stream",
     "text": [
      "Минимальный возраст трудоустройства заемщика - 18.00 лет\n",
      "Средний возраст трудоустройства заемщика - 21.21 лет\n",
      "Максимальный возраст трудоустройства заемщика - 34.00 лет\n"
     ]
    }
   ],
   "source": [
    "# Заменяем все положительные значения трудового стажа на 14600 дней (т.е. 40 лет).\n",
    "# Обновляем возраст тех, у кого стаж получается нереально большим, так чтобы возраст трудоустройства не был больше 18 лет.\n",
    "\n",
    "data3.loc[data3['days_employed'] > 0,'days_employed'] = 40 * 365\n",
    "data3.loc[(data3['days_employed'] > 0) \n",
    "          & ((data3['dob_years'] - 40) < 18),\n",
    "          'days_employed'] = data3['dob_years'] * 365 - 18 * 365\n",
    "\n",
    "employment_age3 = data3[data3['days_employed'] > 0]['dob_years'] - (data3['days_employed'] / 365)\n",
    "\n",
    "print(f\"Минимальный возраст трудоустройства заемщика - {employment_age3.min():.2f} лет\")   # 18.00 лет\n",
    "print(f\"Средний возраст трудоустройства заемщика - {employment_age3.mean():.2f} лет\")      # 21.21 лет\n",
    "print(f\"Максимальный возраст трудоустройства заемщика - {employment_age3.max():.2f} лет\")  # 34.00 лет"
   ]
  },
  {
   "cell_type": "markdown",
   "id": "22a84290",
   "metadata": {},
   "source": [
    "Обновленные данные по возрастам трудоустройства оказались наиболее близкими к реальным."
   ]
  },
  {
   "cell_type": "markdown",
   "id": "3392f224",
   "metadata": {},
   "source": [
    "Теперь поменяем отрицательные значения в стаже на положительные."
   ]
  },
  {
   "cell_type": "code",
   "execution_count": 49,
   "id": "7d85ad82",
   "metadata": {},
   "outputs": [
    {
     "name": "stdout",
     "output_type": "stream",
     "text": [
      "Количество отрицательных значений в столбце 'days_employed' до замены - 15906\n"
     ]
    }
   ],
   "source": [
    "print(\"Количество отрицательных значений в столбце 'days_employed' до замены -\", \n",
    "      data3[data3['days_employed'] < 0]['days_employed'].count())"
   ]
  },
  {
   "cell_type": "code",
   "execution_count": 50,
   "id": "75b6a699",
   "metadata": {},
   "outputs": [
    {
     "name": "stdout",
     "output_type": "stream",
     "text": [
      "Количество отрицательных значений в столбце 'days_employed' после замены - 0\n"
     ]
    }
   ],
   "source": [
    "data3.loc[data3['days_employed'] < 0,'days_employed'] = - data3['days_employed']\n",
    "print(\"Количество отрицательных значений в столбце 'days_employed' после замены -\", \n",
    "      data3[data3['days_employed'] < 0]['days_employed'].count())"
   ]
  },
  {
   "cell_type": "code",
   "execution_count": 51,
   "id": "d0571d6d",
   "metadata": {},
   "outputs": [
    {
     "name": "stdout",
     "output_type": "stream",
     "text": [
      "Минимальный возраст трудоустройства заемщика - 10.62 лет\n",
      "Средний возраст трудоустройства заемщика - 19.83 лет\n",
      "Максимальный возраст трудоустройства заемщика - 70.40 лет\n"
     ]
    }
   ],
   "source": [
    "# Обновляем возраст всех заемщиков, так чтобы возраст трудоустройства не был больше 18 лет.\n",
    "# Выводим обновленные данные о минимальном, среднем и максимальном возрасте трудоустройства заемщиков.\n",
    "\n",
    "data3.loc[((data3['dob_years'] - 40) < 18),'days_employed'] = data3['dob_years'] * 365 - 18 * 365\n",
    "\n",
    "employment_age3 = data3['dob_years'] - data3['days_employed'] / 365\n",
    "\n",
    "# РЕЗУЛЬТАТ ПО ВАРИАНТУ 2b\n",
    "print(f\"Минимальный возраст трудоустройства заемщика - {employment_age3.min():.2f} лет\")   # 10.62 лет\n",
    "print(f\"Средний возраст трудоустройства заемщика - {employment_age3.mean():.2f} лет\")      # 19.83 лет\n",
    "print(f\"Максимальный возраст трудоустройства заемщика - {employment_age3.max():.2f} лет\")  # 70.40 лет"
   ]
  },
  {
   "cell_type": "code",
   "execution_count": 52,
   "id": "97ed6b0c",
   "metadata": {},
   "outputs": [
    {
     "data": {
      "text/plain": [
       "16335    10.619315\n",
       "4299     12.738183\n",
       "17838    14.439179\n",
       "7329     14.538431\n",
       "1539     15.751565\n",
       "4321     17.786133\n",
       "13815    18.000000\n",
       "13816    18.000000\n",
       "13817    18.000000\n",
       "13818    18.000000\n",
       "dtype: float64"
      ]
     },
     "execution_count": 52,
     "metadata": {},
     "output_type": "execute_result"
    }
   ],
   "source": [
    "# Выводим полученные данные о возрастах трудоустройства заемщиков, отсортиорванные в порядке возрастания.\n",
    "# Слева - индексы в датафрейме, справа - возраст трудоустройства.\n",
    "\n",
    "(data3['dob_years'] - data3['days_employed'] / 365).sort_values().head(10)"
   ]
  },
  {
   "cell_type": "markdown",
   "id": "c6ad612a",
   "metadata": {},
   "source": [
    "Из рамок возраста трудоустройства выбиваются всего несколько данных, где он у заемщиков меньше 18, что на результат не повлияет."
   ]
  },
  {
   "cell_type": "markdown",
   "id": "1784c0b4",
   "metadata": {},
   "source": [
    "#### Шаг 5"
   ]
  },
  {
   "cell_type": "markdown",
   "id": "63c7cd71",
   "metadata": {},
   "source": [
    "_Вывод:_\n",
    "    \n",
    "Варианты 2а и 2b дали примерно одинаковые результаты по среднему возрасту трудоустройства от 18 до 20 лет. В то время как в Варианте 1 среднее составило около 31 года.\n",
    "Минимальные и максимальные значения примерно одинаковые, а вот распределение значений в Вариантах 2а и 2b неравномерное."
   ]
  },
  {
   "cell_type": "code",
   "execution_count": 53,
   "id": "53f40c12",
   "metadata": {},
   "outputs": [
    {
     "name": "stdout",
     "output_type": "stream",
     "text": [
      "count    19351.000000\n",
      "mean        31.250961\n",
      "std         10.571710\n",
      "min         18.000000\n",
      "25%         22.409551\n",
      "50%         29.358876\n",
      "75%         38.562783\n",
      "max         70.400083\n",
      "dtype: float64\n",
      "\n",
      "count    21500.000000\n",
      "mean        18.090541\n",
      "std          1.718892\n",
      "min         18.000000\n",
      "25%         18.000000\n",
      "50%         18.000000\n",
      "75%         18.000000\n",
      "max         70.400083\n",
      "dtype: float64\n",
      "\n",
      "count    21170.000000\n",
      "mean        19.831920\n",
      "std          6.912485\n",
      "min         10.619315\n",
      "25%         18.000000\n",
      "50%         18.000000\n",
      "75%         18.000000\n",
      "max         70.400083\n",
      "dtype: float64\n"
     ]
    }
   ],
   "source": [
    "# Распределение статистических значений\n",
    "\n",
    "print(employment_age0.describe()) # 1\n",
    "print()\n",
    "print(employment_age1.describe()) # 2a\n",
    "print()\n",
    "print(employment_age3.describe()) # 2b"
   ]
  },
  {
   "cell_type": "markdown",
   "id": "d5e7c6a2",
   "metadata": {},
   "source": [
    "Выбор очевиден в пользу более простого Варианта 1."
   ]
  },
  {
   "cell_type": "code",
   "execution_count": 54,
   "id": "0f77df70",
   "metadata": {},
   "outputs": [
    {
     "data": {
      "text/html": [
       "<div>\n",
       "<style scoped>\n",
       "    .dataframe tbody tr th:only-of-type {\n",
       "        vertical-align: middle;\n",
       "    }\n",
       "\n",
       "    .dataframe tbody tr th {\n",
       "        vertical-align: top;\n",
       "    }\n",
       "\n",
       "    .dataframe thead th {\n",
       "        text-align: right;\n",
       "    }\n",
       "</style>\n",
       "<table border=\"1\" class=\"dataframe\">\n",
       "  <thead>\n",
       "    <tr style=\"text-align: right;\">\n",
       "      <th></th>\n",
       "      <th>children</th>\n",
       "      <th>days_employed</th>\n",
       "      <th>dob_years</th>\n",
       "      <th>education</th>\n",
       "      <th>education_id</th>\n",
       "      <th>family_status</th>\n",
       "      <th>family_status_id</th>\n",
       "      <th>gender</th>\n",
       "      <th>income_type</th>\n",
       "      <th>debt</th>\n",
       "      <th>total_income</th>\n",
       "      <th>purpose</th>\n",
       "    </tr>\n",
       "  </thead>\n",
       "  <tbody>\n",
       "    <tr>\n",
       "      <th>0</th>\n",
       "      <td>1</td>\n",
       "      <td>8437.673028</td>\n",
       "      <td>42</td>\n",
       "      <td>высшее</td>\n",
       "      <td>0</td>\n",
       "      <td>женат / замужем</td>\n",
       "      <td>0</td>\n",
       "      <td>F</td>\n",
       "      <td>сотрудник</td>\n",
       "      <td>0</td>\n",
       "      <td>253875.639453</td>\n",
       "      <td>покупка жилья</td>\n",
       "    </tr>\n",
       "    <tr>\n",
       "      <th>1</th>\n",
       "      <td>1</td>\n",
       "      <td>4024.803754</td>\n",
       "      <td>36</td>\n",
       "      <td>среднее</td>\n",
       "      <td>1</td>\n",
       "      <td>женат / замужем</td>\n",
       "      <td>0</td>\n",
       "      <td>F</td>\n",
       "      <td>сотрудник</td>\n",
       "      <td>0</td>\n",
       "      <td>112080.014102</td>\n",
       "      <td>приобретение автомобиля</td>\n",
       "    </tr>\n",
       "    <tr>\n",
       "      <th>2</th>\n",
       "      <td>0</td>\n",
       "      <td>5475.000000</td>\n",
       "      <td>33</td>\n",
       "      <td>Среднее</td>\n",
       "      <td>1</td>\n",
       "      <td>женат / замужем</td>\n",
       "      <td>0</td>\n",
       "      <td>M</td>\n",
       "      <td>сотрудник</td>\n",
       "      <td>0</td>\n",
       "      <td>145885.952297</td>\n",
       "      <td>покупка жилья</td>\n",
       "    </tr>\n",
       "    <tr>\n",
       "      <th>3</th>\n",
       "      <td>3</td>\n",
       "      <td>4124.747207</td>\n",
       "      <td>32</td>\n",
       "      <td>среднее</td>\n",
       "      <td>1</td>\n",
       "      <td>женат / замужем</td>\n",
       "      <td>0</td>\n",
       "      <td>M</td>\n",
       "      <td>сотрудник</td>\n",
       "      <td>0</td>\n",
       "      <td>267628.550329</td>\n",
       "      <td>дополнительное образование</td>\n",
       "    </tr>\n",
       "    <tr>\n",
       "      <th>4</th>\n",
       "      <td>0</td>\n",
       "      <td>12775.000000</td>\n",
       "      <td>53</td>\n",
       "      <td>среднее</td>\n",
       "      <td>1</td>\n",
       "      <td>гражданский брак</td>\n",
       "      <td>1</td>\n",
       "      <td>F</td>\n",
       "      <td>пенсионер</td>\n",
       "      <td>0</td>\n",
       "      <td>158616.077870</td>\n",
       "      <td>сыграть свадьбу</td>\n",
       "    </tr>\n",
       "  </tbody>\n",
       "</table>\n",
       "</div>"
      ],
      "text/plain": [
       "   children  days_employed  dob_years education  education_id  \\\n",
       "0         1    8437.673028         42    высшее             0   \n",
       "1         1    4024.803754         36   среднее             1   \n",
       "2         0    5475.000000         33   Среднее             1   \n",
       "3         3    4124.747207         32   среднее             1   \n",
       "4         0   12775.000000         53   среднее             1   \n",
       "\n",
       "      family_status  family_status_id gender income_type  debt   total_income  \\\n",
       "0   женат / замужем                 0      F   сотрудник     0  253875.639453   \n",
       "1   женат / замужем                 0      F   сотрудник     0  112080.014102   \n",
       "2   женат / замужем                 0      M   сотрудник     0  145885.952297   \n",
       "3   женат / замужем                 0      M   сотрудник     0  267628.550329   \n",
       "4  гражданский брак                 1      F   пенсионер     0  158616.077870   \n",
       "\n",
       "                      purpose  \n",
       "0               покупка жилья  \n",
       "1     приобретение автомобиля  \n",
       "2               покупка жилья  \n",
       "3  дополнительное образование  \n",
       "4             сыграть свадьбу  "
      ]
     },
     "execution_count": 54,
     "metadata": {},
     "output_type": "execute_result"
    }
   ],
   "source": [
    "# Сохраняем выбранный вариант снова в переменную \"data\". \n",
    "# Выводим первые несколько строк датафрейма.\n",
    "\n",
    "data = data0\n",
    "\n",
    "data.head()"
   ]
  },
  {
   "cell_type": "code",
   "execution_count": 55,
   "id": "4dec0d4e",
   "metadata": {},
   "outputs": [
    {
     "name": "stdout",
     "output_type": "stream",
     "text": [
      "Все копии датафрейма удалены.\n"
     ]
    }
   ],
   "source": [
    "# Удаляем все копии датафрейма.\n",
    "\n",
    "try:\n",
    "    del data0\n",
    "    del data1\n",
    "    del data2\n",
    "    del data3\n",
    "\n",
    "    print('Все копии датафрейма удалены.')\n",
    "\n",
    "except:\n",
    "    \n",
    "    print('Видимо, Вы уже удалили эти копии датафрейма.')"
   ]
  },
  {
   "cell_type": "markdown",
   "id": "07cf980f",
   "metadata": {},
   "source": [
    "Аномалии в столбце \"days_employed\" исправлены."
   ]
  },
  {
   "cell_type": "markdown",
   "id": "b1a49ba4",
   "metadata": {},
   "source": [
    "#### Шаг 6"
   ]
  },
  {
   "cell_type": "markdown",
   "id": "d6197704",
   "metadata": {},
   "source": [
    "Заполним оставшиеся пустые ячейки в столбце \"days_employed\" медианными значениями по каждому типу занятости."
   ]
  },
  {
   "cell_type": "code",
   "execution_count": 56,
   "id": "af33dd49",
   "metadata": {},
   "outputs": [
    {
     "name": "stdout",
     "output_type": "stream",
     "text": [
      "<class 'pandas.core.frame.DataFrame'>\n",
      "RangeIndex: 21525 entries, 0 to 21524\n",
      "Data columns (total 12 columns):\n",
      " #   Column            Non-Null Count  Dtype  \n",
      "---  ------            --------------  -----  \n",
      " 0   children          21525 non-null  int64  \n",
      " 1   days_employed     19351 non-null  float64\n",
      " 2   dob_years         21525 non-null  int64  \n",
      " 3   education         21525 non-null  object \n",
      " 4   education_id      21525 non-null  int64  \n",
      " 5   family_status     21525 non-null  object \n",
      " 6   family_status_id  21525 non-null  int64  \n",
      " 7   gender            21525 non-null  object \n",
      " 8   income_type       21525 non-null  object \n",
      " 9   debt              21525 non-null  int64  \n",
      " 10  total_income      21525 non-null  float64\n",
      " 11  purpose           21525 non-null  object \n",
      "dtypes: float64(2), int64(5), object(5)\n",
      "memory usage: 2.0+ MB\n"
     ]
    }
   ],
   "source": [
    "# Просматриваем информацию о датафрейме перед заполнением пустых ячеек.\n",
    "\n",
    "data.info()"
   ]
  },
  {
   "cell_type": "code",
   "execution_count": 57,
   "id": "612f6f1c",
   "metadata": {},
   "outputs": [
    {
     "name": "stdout",
     "output_type": "stream",
     "text": [
      "<class 'pandas.core.frame.DataFrame'>\n",
      "RangeIndex: 21525 entries, 0 to 21524\n",
      "Data columns (total 12 columns):\n",
      " #   Column            Non-Null Count  Dtype  \n",
      "---  ------            --------------  -----  \n",
      " 0   children          21525 non-null  int64  \n",
      " 1   days_employed     21525 non-null  float64\n",
      " 2   dob_years         21525 non-null  int64  \n",
      " 3   education         21525 non-null  object \n",
      " 4   education_id      21525 non-null  int64  \n",
      " 5   family_status     21525 non-null  object \n",
      " 6   family_status_id  21525 non-null  int64  \n",
      " 7   gender            21525 non-null  object \n",
      " 8   income_type       21525 non-null  object \n",
      " 9   debt              21525 non-null  int64  \n",
      " 10  total_income      21525 non-null  float64\n",
      " 11  purpose           21525 non-null  object \n",
      "dtypes: float64(2), int64(5), object(5)\n",
      "memory usage: 2.0+ MB\n"
     ]
    }
   ],
   "source": [
    "# Заполняем пустые ячейки медианными значениями и выводим обновленную информацию о таблице. \n",
    "\n",
    "data_by_days = data.groupby('income_type')['days_employed'].transform('median')\n",
    "data['days_employed'] = data['days_employed'].fillna(data_by_days)\n",
    "\n",
    "data.info()"
   ]
  },
  {
   "cell_type": "markdown",
   "id": "94732b91",
   "metadata": {},
   "source": [
    "### Cтолбец \"children\""
   ]
  },
  {
   "cell_type": "markdown",
   "id": "a8653f86",
   "metadata": {},
   "source": [
    "Заменим значения \"20\" в столбце \"children\" на \"2\", удалим строки с \"-1\" ."
   ]
  },
  {
   "cell_type": "code",
   "execution_count": 58,
   "id": "c0c33a9c",
   "metadata": {},
   "outputs": [
    {
     "name": "stdout",
     "output_type": "stream",
     "text": [
      " 0    14149\n",
      " 1     4818\n",
      " 2     2131\n",
      " 3      330\n",
      "-1       47\n",
      " 4       41\n",
      " 5        9\n",
      "Name: children, dtype: int64\n"
     ]
    }
   ],
   "source": [
    "# Заменяем значения \"20\"  на \"2\".\n",
    "\n",
    "data['children'] = data['children'].replace(20, 2)\n",
    "\n",
    "print(data['children'].value_counts())"
   ]
  },
  {
   "cell_type": "code",
   "execution_count": 59,
   "id": "965f6090",
   "metadata": {},
   "outputs": [
    {
     "name": "stdout",
     "output_type": "stream",
     "text": [
      "0    14149\n",
      "1     4818\n",
      "2     2131\n",
      "3      330\n",
      "4       41\n",
      "5        9\n",
      "Name: children, dtype: int64\n"
     ]
    }
   ],
   "source": [
    "# Удаляем строки со значением \"-1\" и обновляем индексы датафрейма.\n",
    "\n",
    "data = data.drop(data[data['children'] == -1].index).reset_index(drop=True)\n",
    "\n",
    "print(data['children'].value_counts())"
   ]
  },
  {
   "cell_type": "code",
   "execution_count": 60,
   "id": "a285431a",
   "metadata": {},
   "outputs": [
    {
     "data": {
      "text/html": [
       "<div>\n",
       "<style scoped>\n",
       "    .dataframe tbody tr th:only-of-type {\n",
       "        vertical-align: middle;\n",
       "    }\n",
       "\n",
       "    .dataframe tbody tr th {\n",
       "        vertical-align: top;\n",
       "    }\n",
       "\n",
       "    .dataframe thead th {\n",
       "        text-align: right;\n",
       "    }\n",
       "</style>\n",
       "<table border=\"1\" class=\"dataframe\">\n",
       "  <thead>\n",
       "    <tr style=\"text-align: right;\">\n",
       "      <th></th>\n",
       "      <th>children</th>\n",
       "      <th>days_employed</th>\n",
       "      <th>dob_years</th>\n",
       "      <th>education</th>\n",
       "      <th>education_id</th>\n",
       "      <th>family_status</th>\n",
       "      <th>family_status_id</th>\n",
       "      <th>gender</th>\n",
       "      <th>income_type</th>\n",
       "      <th>debt</th>\n",
       "      <th>total_income</th>\n",
       "      <th>purpose</th>\n",
       "    </tr>\n",
       "  </thead>\n",
       "  <tbody>\n",
       "    <tr>\n",
       "      <th>21473</th>\n",
       "      <td>1</td>\n",
       "      <td>4529.316663</td>\n",
       "      <td>43</td>\n",
       "      <td>среднее</td>\n",
       "      <td>1</td>\n",
       "      <td>гражданский брак</td>\n",
       "      <td>1</td>\n",
       "      <td>F</td>\n",
       "      <td>компаньон</td>\n",
       "      <td>0</td>\n",
       "      <td>224791.862382</td>\n",
       "      <td>операции с жильем</td>\n",
       "    </tr>\n",
       "    <tr>\n",
       "      <th>21474</th>\n",
       "      <td>0</td>\n",
       "      <td>14330.725172</td>\n",
       "      <td>67</td>\n",
       "      <td>среднее</td>\n",
       "      <td>1</td>\n",
       "      <td>женат / замужем</td>\n",
       "      <td>0</td>\n",
       "      <td>F</td>\n",
       "      <td>пенсионер</td>\n",
       "      <td>0</td>\n",
       "      <td>155999.806512</td>\n",
       "      <td>сделка с автомобилем</td>\n",
       "    </tr>\n",
       "    <tr>\n",
       "      <th>21475</th>\n",
       "      <td>1</td>\n",
       "      <td>2113.346888</td>\n",
       "      <td>38</td>\n",
       "      <td>среднее</td>\n",
       "      <td>1</td>\n",
       "      <td>гражданский брак</td>\n",
       "      <td>1</td>\n",
       "      <td>M</td>\n",
       "      <td>сотрудник</td>\n",
       "      <td>1</td>\n",
       "      <td>89672.561153</td>\n",
       "      <td>недвижимость</td>\n",
       "    </tr>\n",
       "    <tr>\n",
       "      <th>21476</th>\n",
       "      <td>3</td>\n",
       "      <td>3112.481705</td>\n",
       "      <td>38</td>\n",
       "      <td>среднее</td>\n",
       "      <td>1</td>\n",
       "      <td>женат / замужем</td>\n",
       "      <td>0</td>\n",
       "      <td>M</td>\n",
       "      <td>сотрудник</td>\n",
       "      <td>1</td>\n",
       "      <td>244093.050500</td>\n",
       "      <td>на покупку своего автомобиля</td>\n",
       "    </tr>\n",
       "    <tr>\n",
       "      <th>21477</th>\n",
       "      <td>2</td>\n",
       "      <td>1984.507589</td>\n",
       "      <td>40</td>\n",
       "      <td>среднее</td>\n",
       "      <td>1</td>\n",
       "      <td>женат / замужем</td>\n",
       "      <td>0</td>\n",
       "      <td>F</td>\n",
       "      <td>сотрудник</td>\n",
       "      <td>0</td>\n",
       "      <td>82047.418899</td>\n",
       "      <td>на покупку автомобиля</td>\n",
       "    </tr>\n",
       "  </tbody>\n",
       "</table>\n",
       "</div>"
      ],
      "text/plain": [
       "       children  days_employed  dob_years education  education_id  \\\n",
       "21473         1    4529.316663         43   среднее             1   \n",
       "21474         0   14330.725172         67   среднее             1   \n",
       "21475         1    2113.346888         38   среднее             1   \n",
       "21476         3    3112.481705         38   среднее             1   \n",
       "21477         2    1984.507589         40   среднее             1   \n",
       "\n",
       "          family_status  family_status_id gender income_type  debt  \\\n",
       "21473  гражданский брак                 1      F   компаньон     0   \n",
       "21474   женат / замужем                 0      F   пенсионер     0   \n",
       "21475  гражданский брак                 1      M   сотрудник     1   \n",
       "21476   женат / замужем                 0      M   сотрудник     1   \n",
       "21477   женат / замужем                 0      F   сотрудник     0   \n",
       "\n",
       "        total_income                       purpose  \n",
       "21473  224791.862382             операции с жильем  \n",
       "21474  155999.806512          сделка с автомобилем  \n",
       "21475   89672.561153                  недвижимость  \n",
       "21476  244093.050500  на покупку своего автомобиля  \n",
       "21477   82047.418899         на покупку автомобиля  "
      ]
     },
     "execution_count": 60,
     "metadata": {},
     "output_type": "execute_result"
    }
   ],
   "source": [
    "# Выводим последние несколько строк датафрейма, чтобы убедиться, что его индексы обновились.\n",
    "\n",
    "data.tail()"
   ]
  },
  {
   "cell_type": "markdown",
   "id": "be8b430a",
   "metadata": {},
   "source": [
    "Значения в столбце \"children\" исправлены, строки удалены, индексы обновлены. \n",
    "\n",
    "Снова вызовем таблицу с описанием численных данных."
   ]
  },
  {
   "cell_type": "code",
   "execution_count": 61,
   "id": "e867b633",
   "metadata": {},
   "outputs": [
    {
     "data": {
      "text/html": [
       "<div>\n",
       "<style scoped>\n",
       "    .dataframe tbody tr th:only-of-type {\n",
       "        vertical-align: middle;\n",
       "    }\n",
       "\n",
       "    .dataframe tbody tr th {\n",
       "        vertical-align: top;\n",
       "    }\n",
       "\n",
       "    .dataframe thead th {\n",
       "        text-align: right;\n",
       "    }\n",
       "</style>\n",
       "<table border=\"1\" class=\"dataframe\">\n",
       "  <thead>\n",
       "    <tr style=\"text-align: right;\">\n",
       "      <th></th>\n",
       "      <th>children</th>\n",
       "      <th>days_employed</th>\n",
       "      <th>dob_years</th>\n",
       "      <th>education_id</th>\n",
       "      <th>family_status_id</th>\n",
       "      <th>debt</th>\n",
       "      <th>total_income</th>\n",
       "    </tr>\n",
       "  </thead>\n",
       "  <tbody>\n",
       "    <tr>\n",
       "      <th>count</th>\n",
       "      <td>21478.000000</td>\n",
       "      <td>21478.000000</td>\n",
       "      <td>21478.000000</td>\n",
       "      <td>21478.000000</td>\n",
       "      <td>21478.000000</td>\n",
       "      <td>21478.000000</td>\n",
       "      <td>2.147800e+04</td>\n",
       "    </tr>\n",
       "    <tr>\n",
       "      <th>mean</th>\n",
       "      <td>0.478583</td>\n",
       "      <td>4417.279356</td>\n",
       "      <td>43.497253</td>\n",
       "      <td>0.817208</td>\n",
       "      <td>0.972577</td>\n",
       "      <td>0.081013</td>\n",
       "      <td>1.652515e+05</td>\n",
       "    </tr>\n",
       "    <tr>\n",
       "      <th>std</th>\n",
       "      <td>0.755962</td>\n",
       "      <td>5038.262559</td>\n",
       "      <td>12.232334</td>\n",
       "      <td>0.548371</td>\n",
       "      <td>1.420338</td>\n",
       "      <td>0.272862</td>\n",
       "      <td>9.809959e+04</td>\n",
       "    </tr>\n",
       "    <tr>\n",
       "      <th>min</th>\n",
       "      <td>0.000000</td>\n",
       "      <td>24.141633</td>\n",
       "      <td>19.000000</td>\n",
       "      <td>0.000000</td>\n",
       "      <td>0.000000</td>\n",
       "      <td>0.000000</td>\n",
       "      <td>2.066726e+04</td>\n",
       "    </tr>\n",
       "    <tr>\n",
       "      <th>25%</th>\n",
       "      <td>0.000000</td>\n",
       "      <td>1024.461713</td>\n",
       "      <td>34.000000</td>\n",
       "      <td>1.000000</td>\n",
       "      <td>0.000000</td>\n",
       "      <td>0.000000</td>\n",
       "      <td>1.077766e+05</td>\n",
       "    </tr>\n",
       "    <tr>\n",
       "      <th>50%</th>\n",
       "      <td>0.000000</td>\n",
       "      <td>1987.915804</td>\n",
       "      <td>43.000000</td>\n",
       "      <td>1.000000</td>\n",
       "      <td>0.000000</td>\n",
       "      <td>0.000000</td>\n",
       "      <td>1.425944e+05</td>\n",
       "    </tr>\n",
       "    <tr>\n",
       "      <th>75%</th>\n",
       "      <td>1.000000</td>\n",
       "      <td>5303.620304</td>\n",
       "      <td>53.000000</td>\n",
       "      <td>1.000000</td>\n",
       "      <td>1.000000</td>\n",
       "      <td>0.000000</td>\n",
       "      <td>1.956350e+05</td>\n",
       "    </tr>\n",
       "    <tr>\n",
       "      <th>max</th>\n",
       "      <td>5.000000</td>\n",
       "      <td>16738.158823</td>\n",
       "      <td>75.000000</td>\n",
       "      <td>4.000000</td>\n",
       "      <td>4.000000</td>\n",
       "      <td>1.000000</td>\n",
       "      <td>2.265604e+06</td>\n",
       "    </tr>\n",
       "  </tbody>\n",
       "</table>\n",
       "</div>"
      ],
      "text/plain": [
       "           children  days_employed     dob_years  education_id  \\\n",
       "count  21478.000000   21478.000000  21478.000000  21478.000000   \n",
       "mean       0.478583    4417.279356     43.497253      0.817208   \n",
       "std        0.755962    5038.262559     12.232334      0.548371   \n",
       "min        0.000000      24.141633     19.000000      0.000000   \n",
       "25%        0.000000    1024.461713     34.000000      1.000000   \n",
       "50%        0.000000    1987.915804     43.000000      1.000000   \n",
       "75%        1.000000    5303.620304     53.000000      1.000000   \n",
       "max        5.000000   16738.158823     75.000000      4.000000   \n",
       "\n",
       "       family_status_id          debt  total_income  \n",
       "count      21478.000000  21478.000000  2.147800e+04  \n",
       "mean           0.972577      0.081013  1.652515e+05  \n",
       "std            1.420338      0.272862  9.809959e+04  \n",
       "min            0.000000      0.000000  2.066726e+04  \n",
       "25%            0.000000      0.000000  1.077766e+05  \n",
       "50%            0.000000      0.000000  1.425944e+05  \n",
       "75%            1.000000      0.000000  1.956350e+05  \n",
       "max            4.000000      1.000000  2.265604e+06  "
      ]
     },
     "execution_count": 61,
     "metadata": {},
     "output_type": "execute_result"
    }
   ],
   "source": [
    "data.describe()"
   ]
  },
  {
   "cell_type": "markdown",
   "id": "40b82e23",
   "metadata": {},
   "source": [
    "Как видим, все указанные аномалии устранены. Все \"NaN\" по датафрейму заполнены, ошибки исправлены."
   ]
  },
  {
   "cell_type": "markdown",
   "id": "1c0f56b7",
   "metadata": {},
   "source": [
    "### Изменение типов данных"
   ]
  },
  {
   "cell_type": "markdown",
   "id": "a6b53d90",
   "metadata": {},
   "source": [
    "Замениим вещественный тип данных в столбцах \"days_employed\" и \"total_income\" на целочисленный."
   ]
  },
  {
   "cell_type": "code",
   "execution_count": 62,
   "id": "d9e0ea6d",
   "metadata": {},
   "outputs": [
    {
     "name": "stdout",
     "output_type": "stream",
     "text": [
      "<class 'pandas.core.frame.DataFrame'>\n",
      "RangeIndex: 21478 entries, 0 to 21477\n",
      "Data columns (total 12 columns):\n",
      " #   Column            Non-Null Count  Dtype \n",
      "---  ------            --------------  ----- \n",
      " 0   children          21478 non-null  int64 \n",
      " 1   days_employed     21478 non-null  int32 \n",
      " 2   dob_years         21478 non-null  int64 \n",
      " 3   education         21478 non-null  object\n",
      " 4   education_id      21478 non-null  int64 \n",
      " 5   family_status     21478 non-null  object\n",
      " 6   family_status_id  21478 non-null  int64 \n",
      " 7   gender            21478 non-null  object\n",
      " 8   income_type       21478 non-null  object\n",
      " 9   debt              21478 non-null  int64 \n",
      " 10  total_income      21478 non-null  int32 \n",
      " 11  purpose           21478 non-null  object\n",
      "dtypes: int32(2), int64(5), object(5)\n",
      "memory usage: 1.8+ MB\n"
     ]
    }
   ],
   "source": [
    "# Меняем значения ячеек в столбцах \"days_employed\" и \"total_income\" с float64 на int64.\n",
    "# Выводим обновленную информацию.\n",
    "\n",
    "data['days_employed'] = data['days_employed'].astype('int')\n",
    "data['total_income'] = data['total_income'].astype('int')\n",
    "\n",
    "data.info()"
   ]
  },
  {
   "cell_type": "code",
   "execution_count": 63,
   "id": "93a933c7",
   "metadata": {},
   "outputs": [
    {
     "data": {
      "text/html": [
       "<div>\n",
       "<style scoped>\n",
       "    .dataframe tbody tr th:only-of-type {\n",
       "        vertical-align: middle;\n",
       "    }\n",
       "\n",
       "    .dataframe tbody tr th {\n",
       "        vertical-align: top;\n",
       "    }\n",
       "\n",
       "    .dataframe thead th {\n",
       "        text-align: right;\n",
       "    }\n",
       "</style>\n",
       "<table border=\"1\" class=\"dataframe\">\n",
       "  <thead>\n",
       "    <tr style=\"text-align: right;\">\n",
       "      <th></th>\n",
       "      <th>children</th>\n",
       "      <th>days_employed</th>\n",
       "      <th>dob_years</th>\n",
       "      <th>education</th>\n",
       "      <th>education_id</th>\n",
       "      <th>family_status</th>\n",
       "      <th>family_status_id</th>\n",
       "      <th>gender</th>\n",
       "      <th>income_type</th>\n",
       "      <th>debt</th>\n",
       "      <th>total_income</th>\n",
       "      <th>purpose</th>\n",
       "    </tr>\n",
       "  </thead>\n",
       "  <tbody>\n",
       "    <tr>\n",
       "      <th>0</th>\n",
       "      <td>1</td>\n",
       "      <td>8437</td>\n",
       "      <td>42</td>\n",
       "      <td>высшее</td>\n",
       "      <td>0</td>\n",
       "      <td>женат / замужем</td>\n",
       "      <td>0</td>\n",
       "      <td>F</td>\n",
       "      <td>сотрудник</td>\n",
       "      <td>0</td>\n",
       "      <td>253875</td>\n",
       "      <td>покупка жилья</td>\n",
       "    </tr>\n",
       "    <tr>\n",
       "      <th>1</th>\n",
       "      <td>1</td>\n",
       "      <td>4024</td>\n",
       "      <td>36</td>\n",
       "      <td>среднее</td>\n",
       "      <td>1</td>\n",
       "      <td>женат / замужем</td>\n",
       "      <td>0</td>\n",
       "      <td>F</td>\n",
       "      <td>сотрудник</td>\n",
       "      <td>0</td>\n",
       "      <td>112080</td>\n",
       "      <td>приобретение автомобиля</td>\n",
       "    </tr>\n",
       "    <tr>\n",
       "      <th>2</th>\n",
       "      <td>0</td>\n",
       "      <td>5475</td>\n",
       "      <td>33</td>\n",
       "      <td>Среднее</td>\n",
       "      <td>1</td>\n",
       "      <td>женат / замужем</td>\n",
       "      <td>0</td>\n",
       "      <td>M</td>\n",
       "      <td>сотрудник</td>\n",
       "      <td>0</td>\n",
       "      <td>145885</td>\n",
       "      <td>покупка жилья</td>\n",
       "    </tr>\n",
       "    <tr>\n",
       "      <th>3</th>\n",
       "      <td>3</td>\n",
       "      <td>4124</td>\n",
       "      <td>32</td>\n",
       "      <td>среднее</td>\n",
       "      <td>1</td>\n",
       "      <td>женат / замужем</td>\n",
       "      <td>0</td>\n",
       "      <td>M</td>\n",
       "      <td>сотрудник</td>\n",
       "      <td>0</td>\n",
       "      <td>267628</td>\n",
       "      <td>дополнительное образование</td>\n",
       "    </tr>\n",
       "    <tr>\n",
       "      <th>4</th>\n",
       "      <td>0</td>\n",
       "      <td>12775</td>\n",
       "      <td>53</td>\n",
       "      <td>среднее</td>\n",
       "      <td>1</td>\n",
       "      <td>гражданский брак</td>\n",
       "      <td>1</td>\n",
       "      <td>F</td>\n",
       "      <td>пенсионер</td>\n",
       "      <td>0</td>\n",
       "      <td>158616</td>\n",
       "      <td>сыграть свадьбу</td>\n",
       "    </tr>\n",
       "  </tbody>\n",
       "</table>\n",
       "</div>"
      ],
      "text/plain": [
       "   children  days_employed  dob_years education  education_id  \\\n",
       "0         1           8437         42    высшее             0   \n",
       "1         1           4024         36   среднее             1   \n",
       "2         0           5475         33   Среднее             1   \n",
       "3         3           4124         32   среднее             1   \n",
       "4         0          12775         53   среднее             1   \n",
       "\n",
       "      family_status  family_status_id gender income_type  debt  total_income  \\\n",
       "0   женат / замужем                 0      F   сотрудник     0        253875   \n",
       "1   женат / замужем                 0      F   сотрудник     0        112080   \n",
       "2   женат / замужем                 0      M   сотрудник     0        145885   \n",
       "3   женат / замужем                 0      M   сотрудник     0        267628   \n",
       "4  гражданский брак                 1      F   пенсионер     0        158616   \n",
       "\n",
       "                      purpose  \n",
       "0               покупка жилья  \n",
       "1     приобретение автомобиля  \n",
       "2               покупка жилья  \n",
       "3  дополнительное образование  \n",
       "4             сыграть свадьбу  "
      ]
     },
     "execution_count": 63,
     "metadata": {},
     "output_type": "execute_result"
    }
   ],
   "source": [
    "# Выводим первые несколько строк датафрейма, чтобы убедиться, что значения в указанных столбцах стали целочисленными.\n",
    "\n",
    "data.head()"
   ]
  },
  {
   "cell_type": "markdown",
   "id": "d2d77c75",
   "metadata": {},
   "source": [
    "Изменение типов данных выполнено."
   ]
  },
  {
   "cell_type": "markdown",
   "id": "f95c58cf",
   "metadata": {},
   "source": [
    "### Удаление дубликатов"
   ]
  },
  {
   "cell_type": "markdown",
   "id": "4d4e2c65",
   "metadata": {},
   "source": [
    "#### Полные дубликаты"
   ]
  },
  {
   "cell_type": "markdown",
   "id": "09dc1017",
   "metadata": {},
   "source": [
    "Перед удалением посчитаем суммарное количество дубликатов в таблице."
   ]
  },
  {
   "cell_type": "code",
   "execution_count": 64,
   "id": "430bfa51",
   "metadata": {},
   "outputs": [
    {
     "name": "stdout",
     "output_type": "stream",
     "text": [
      "Общее количество дубликатов в датафрейме - 54\n"
     ]
    }
   ],
   "source": [
    "print(\"Общее количество дубликатов в датафрейме -\", data.duplicated().sum())"
   ]
  },
  {
   "cell_type": "markdown",
   "id": "9d05903a",
   "metadata": {},
   "source": [
    "Отобразим некоторые дублирующиеся строки таблицы. Для наглядности сортируем по столбцу \"days_employed\", т.к. это один из столбцов с наиболее уникальными значениями. "
   ]
  },
  {
   "cell_type": "code",
   "execution_count": 65,
   "id": "58c0d0a2",
   "metadata": {},
   "outputs": [
    {
     "data": {
      "text/html": [
       "<div>\n",
       "<style scoped>\n",
       "    .dataframe tbody tr th:only-of-type {\n",
       "        vertical-align: middle;\n",
       "    }\n",
       "\n",
       "    .dataframe tbody tr th {\n",
       "        vertical-align: top;\n",
       "    }\n",
       "\n",
       "    .dataframe thead th {\n",
       "        text-align: right;\n",
       "    }\n",
       "</style>\n",
       "<table border=\"1\" class=\"dataframe\">\n",
       "  <thead>\n",
       "    <tr style=\"text-align: right;\">\n",
       "      <th></th>\n",
       "      <th>children</th>\n",
       "      <th>days_employed</th>\n",
       "      <th>dob_years</th>\n",
       "      <th>education</th>\n",
       "      <th>education_id</th>\n",
       "      <th>family_status</th>\n",
       "      <th>family_status_id</th>\n",
       "      <th>gender</th>\n",
       "      <th>income_type</th>\n",
       "      <th>debt</th>\n",
       "      <th>total_income</th>\n",
       "      <th>purpose</th>\n",
       "    </tr>\n",
       "  </thead>\n",
       "  <tbody>\n",
       "    <tr>\n",
       "      <th>17734</th>\n",
       "      <td>1</td>\n",
       "      <td>1530</td>\n",
       "      <td>40</td>\n",
       "      <td>среднее</td>\n",
       "      <td>1</td>\n",
       "      <td>гражданский брак</td>\n",
       "      <td>1</td>\n",
       "      <td>F</td>\n",
       "      <td>компаньон</td>\n",
       "      <td>0</td>\n",
       "      <td>172357</td>\n",
       "      <td>строительство жилой недвижимости</td>\n",
       "    </tr>\n",
       "    <tr>\n",
       "      <th>17341</th>\n",
       "      <td>0</td>\n",
       "      <td>1530</td>\n",
       "      <td>54</td>\n",
       "      <td>высшее</td>\n",
       "      <td>0</td>\n",
       "      <td>женат / замужем</td>\n",
       "      <td>0</td>\n",
       "      <td>M</td>\n",
       "      <td>компаньон</td>\n",
       "      <td>0</td>\n",
       "      <td>172357</td>\n",
       "      <td>операции с коммерческой недвижимостью</td>\n",
       "    </tr>\n",
       "    <tr>\n",
       "      <th>19344</th>\n",
       "      <td>0</td>\n",
       "      <td>1530</td>\n",
       "      <td>38</td>\n",
       "      <td>высшее</td>\n",
       "      <td>0</td>\n",
       "      <td>гражданский брак</td>\n",
       "      <td>1</td>\n",
       "      <td>F</td>\n",
       "      <td>компаньон</td>\n",
       "      <td>0</td>\n",
       "      <td>172357</td>\n",
       "      <td>на проведение свадьбы</td>\n",
       "    </tr>\n",
       "    <tr>\n",
       "      <th>13846</th>\n",
       "      <td>1</td>\n",
       "      <td>1530</td>\n",
       "      <td>31</td>\n",
       "      <td>среднее</td>\n",
       "      <td>1</td>\n",
       "      <td>женат / замужем</td>\n",
       "      <td>0</td>\n",
       "      <td>F</td>\n",
       "      <td>компаньон</td>\n",
       "      <td>0</td>\n",
       "      <td>172357</td>\n",
       "      <td>покупка жилья</td>\n",
       "    </tr>\n",
       "    <tr>\n",
       "      <th>10671</th>\n",
       "      <td>0</td>\n",
       "      <td>1530</td>\n",
       "      <td>40</td>\n",
       "      <td>среднее</td>\n",
       "      <td>1</td>\n",
       "      <td>гражданский брак</td>\n",
       "      <td>1</td>\n",
       "      <td>F</td>\n",
       "      <td>компаньон</td>\n",
       "      <td>0</td>\n",
       "      <td>172357</td>\n",
       "      <td>сыграть свадьбу</td>\n",
       "    </tr>\n",
       "    <tr>\n",
       "      <th>2841</th>\n",
       "      <td>0</td>\n",
       "      <td>1571</td>\n",
       "      <td>41</td>\n",
       "      <td>среднее</td>\n",
       "      <td>1</td>\n",
       "      <td>женат / замужем</td>\n",
       "      <td>0</td>\n",
       "      <td>F</td>\n",
       "      <td>сотрудник</td>\n",
       "      <td>0</td>\n",
       "      <td>142594</td>\n",
       "      <td>покупка жилья для семьи</td>\n",
       "    </tr>\n",
       "    <tr>\n",
       "      <th>13910</th>\n",
       "      <td>0</td>\n",
       "      <td>1571</td>\n",
       "      <td>44</td>\n",
       "      <td>среднее</td>\n",
       "      <td>1</td>\n",
       "      <td>женат / замужем</td>\n",
       "      <td>0</td>\n",
       "      <td>F</td>\n",
       "      <td>сотрудник</td>\n",
       "      <td>0</td>\n",
       "      <td>142594</td>\n",
       "      <td>приобретение автомобиля</td>\n",
       "    </tr>\n",
       "    <tr>\n",
       "      <th>14799</th>\n",
       "      <td>0</td>\n",
       "      <td>1571</td>\n",
       "      <td>50</td>\n",
       "      <td>среднее</td>\n",
       "      <td>1</td>\n",
       "      <td>Не женат / не замужем</td>\n",
       "      <td>4</td>\n",
       "      <td>F</td>\n",
       "      <td>сотрудник</td>\n",
       "      <td>0</td>\n",
       "      <td>142594</td>\n",
       "      <td>недвижимость</td>\n",
       "    </tr>\n",
       "    <tr>\n",
       "      <th>15058</th>\n",
       "      <td>0</td>\n",
       "      <td>1571</td>\n",
       "      <td>58</td>\n",
       "      <td>среднее</td>\n",
       "      <td>1</td>\n",
       "      <td>гражданский брак</td>\n",
       "      <td>1</td>\n",
       "      <td>M</td>\n",
       "      <td>сотрудник</td>\n",
       "      <td>0</td>\n",
       "      <td>142594</td>\n",
       "      <td>на проведение свадьбы</td>\n",
       "    </tr>\n",
       "    <tr>\n",
       "      <th>15154</th>\n",
       "      <td>0</td>\n",
       "      <td>1571</td>\n",
       "      <td>60</td>\n",
       "      <td>среднее</td>\n",
       "      <td>1</td>\n",
       "      <td>женат / замужем</td>\n",
       "      <td>0</td>\n",
       "      <td>M</td>\n",
       "      <td>сотрудник</td>\n",
       "      <td>0</td>\n",
       "      <td>142594</td>\n",
       "      <td>покупка недвижимости</td>\n",
       "    </tr>\n",
       "  </tbody>\n",
       "</table>\n",
       "</div>"
      ],
      "text/plain": [
       "       children  days_employed  dob_years education  education_id  \\\n",
       "17734         1           1530         40   среднее             1   \n",
       "17341         0           1530         54    высшее             0   \n",
       "19344         0           1530         38    высшее             0   \n",
       "13846         1           1530         31   среднее             1   \n",
       "10671         0           1530         40   среднее             1   \n",
       "2841          0           1571         41   среднее             1   \n",
       "13910         0           1571         44   среднее             1   \n",
       "14799         0           1571         50   среднее             1   \n",
       "15058         0           1571         58   среднее             1   \n",
       "15154         0           1571         60   среднее             1   \n",
       "\n",
       "               family_status  family_status_id gender income_type  debt  \\\n",
       "17734       гражданский брак                 1      F   компаньон     0   \n",
       "17341        женат / замужем                 0      M   компаньон     0   \n",
       "19344       гражданский брак                 1      F   компаньон     0   \n",
       "13846        женат / замужем                 0      F   компаньон     0   \n",
       "10671       гражданский брак                 1      F   компаньон     0   \n",
       "2841         женат / замужем                 0      F   сотрудник     0   \n",
       "13910        женат / замужем                 0      F   сотрудник     0   \n",
       "14799  Не женат / не замужем                 4      F   сотрудник     0   \n",
       "15058       гражданский брак                 1      M   сотрудник     0   \n",
       "15154        женат / замужем                 0      M   сотрудник     0   \n",
       "\n",
       "       total_income                                purpose  \n",
       "17734        172357       строительство жилой недвижимости  \n",
       "17341        172357  операции с коммерческой недвижимостью  \n",
       "19344        172357                  на проведение свадьбы  \n",
       "13846        172357                          покупка жилья  \n",
       "10671        172357                        сыграть свадьбу  \n",
       "2841         142594                покупка жилья для семьи  \n",
       "13910        142594                приобретение автомобиля  \n",
       "14799        142594                           недвижимость  \n",
       "15058        142594                  на проведение свадьбы  \n",
       "15154        142594                   покупка недвижимости  "
      ]
     },
     "execution_count": 65,
     "metadata": {},
     "output_type": "execute_result"
    }
   ],
   "source": [
    "# Выводим первые 10 строк таблицы, отсортированной по столбцу с данными о трудовом стаже, по возрастанию.\n",
    "\n",
    "data[data.duplicated()].sort_values(by=['days_employed']).head(10)"
   ]
  },
  {
   "cell_type": "markdown",
   "id": "d9f460e0",
   "metadata": {},
   "source": [
    "Возможная причина возникновения этих дубликатов - задвоение данных в результате технического сбоя и/или человеческого фактора."
   ]
  },
  {
   "cell_type": "markdown",
   "id": "e93995ba",
   "metadata": {},
   "source": [
    "Удаляем дубликаты."
   ]
  },
  {
   "cell_type": "code",
   "execution_count": 66,
   "id": "8afe3268",
   "metadata": {},
   "outputs": [],
   "source": [
    "data = data.drop_duplicates()"
   ]
  },
  {
   "cell_type": "markdown",
   "id": "26346d9a",
   "metadata": {},
   "source": [
    "Проверим еще раз их наличие."
   ]
  },
  {
   "cell_type": "code",
   "execution_count": 67,
   "id": "be1acae7",
   "metadata": {},
   "outputs": [
    {
     "name": "stdout",
     "output_type": "stream",
     "text": [
      "Общее количество дубликатов в датафрейме - 0\n"
     ]
    }
   ],
   "source": [
    "print(\"Общее количество дубликатов в датафрейме -\", data.duplicated().sum())"
   ]
  },
  {
   "cell_type": "markdown",
   "id": "e07652ff",
   "metadata": {},
   "source": [
    "#### Неявные дубликаты"
   ]
  },
  {
   "cell_type": "markdown",
   "id": "e4239986",
   "metadata": {},
   "source": [
    "Будем искать неявные дубликаты в столбцах с категориальными данными."
   ]
  },
  {
   "cell_type": "markdown",
   "id": "f6a32fb6",
   "metadata": {},
   "source": [
    "##### Столбец \"education\""
   ]
  },
  {
   "cell_type": "code",
   "execution_count": 68,
   "id": "aa5734d2",
   "metadata": {},
   "outputs": [
    {
     "data": {
      "text/plain": [
       "среднее                13674\n",
       "высшее                  4702\n",
       "СРЕДНЕЕ                  768\n",
       "Среднее                  709\n",
       "неоконченное высшее      667\n",
       "ВЫСШЕЕ                   272\n",
       "Высшее                   268\n",
       "начальное                250\n",
       "Неоконченное высшее       47\n",
       "НЕОКОНЧЕННОЕ ВЫСШЕЕ       29\n",
       "НАЧАЛЬНОЕ                 17\n",
       "Начальное                 15\n",
       "ученая степень             4\n",
       "Ученая степень             1\n",
       "УЧЕНАЯ СТЕПЕНЬ             1\n",
       "Name: education, dtype: int64"
      ]
     },
     "execution_count": 68,
     "metadata": {},
     "output_type": "execute_result"
    }
   ],
   "source": [
    "# Выводим уникальные значения в столбце \"education\".\n",
    "\n",
    "data['education'].value_counts()"
   ]
  },
  {
   "cell_type": "markdown",
   "id": "f7e332a0",
   "metadata": {},
   "source": [
    "Чтобы узнать точное число категорий, посмотрим уникальные данные столбца \"education_id\"."
   ]
  },
  {
   "cell_type": "code",
   "execution_count": 69,
   "id": "3bed3ef1",
   "metadata": {},
   "outputs": [
    {
     "data": {
      "text/plain": [
       "1    15151\n",
       "0     5242\n",
       "2      743\n",
       "3      282\n",
       "4        6\n",
       "Name: education_id, dtype: int64"
      ]
     },
     "execution_count": 69,
     "metadata": {},
     "output_type": "execute_result"
    }
   ],
   "source": [
    "# Выводим уникальные значения в столбце \"education_id\".\n",
    "\n",
    "data['education_id'].value_counts()"
   ]
  },
  {
   "cell_type": "markdown",
   "id": "e1320fa8",
   "metadata": {},
   "source": [
    "Как видим, категорий всего 5. \n",
    "\n",
    "Логично предположить что это:\n",
    "- начальное;\n",
    "- среднее;\n",
    "- неоконченное высшее;\n",
    "- высшее;\n",
    "- ученая степень."
   ]
  },
  {
   "cell_type": "markdown",
   "id": "10e48840",
   "metadata": {},
   "source": [
    "Возможная причина появления неявных дубликатов - человеческий фактор. Скорее всего, данные были заполнены разными сотрудниками кредитного учреждения.\n",
    "Прослеживается 3 разных почерка. Если все данные напечатать строчными буквами, то, скорее всего, одинаковые тексты, написанные тремя разными способами, станут полными дубликатами."
   ]
  },
  {
   "cell_type": "markdown",
   "id": "dc562d38",
   "metadata": {},
   "source": [
    "Произведем соответствующие замены, переведя все данные в нижний регистр, и проверим результат."
   ]
  },
  {
   "cell_type": "code",
   "execution_count": 70,
   "id": "f7d38263",
   "metadata": {
    "scrolled": true
   },
   "outputs": [
    {
     "data": {
      "text/plain": [
       "среднее                15151\n",
       "высшее                  5242\n",
       "неоконченное высшее      743\n",
       "начальное                282\n",
       "ученая степень             6\n",
       "Name: education, dtype: int64"
      ]
     },
     "execution_count": 70,
     "metadata": {},
     "output_type": "execute_result"
    }
   ],
   "source": [
    "# Меняем все заглавные буквы в значениях ячеек столбца об образовании на строчные.\n",
    "# Выводим получившиеся уникальные значения в столбце \"education\".\n",
    "\n",
    "data['education'] = data['education'].str.lower()\n",
    "\n",
    "data['education'].value_counts()"
   ]
  },
  {
   "cell_type": "markdown",
   "id": "463dabc2",
   "metadata": {},
   "source": [
    "Как видим, количества уникальных значений в столбцах \"education\" и \"education_id\" полностью совпадают."
   ]
  },
  {
   "cell_type": "markdown",
   "id": "332bf9cb",
   "metadata": {},
   "source": [
    "##### Столбец \"family_status\""
   ]
  },
  {
   "cell_type": "code",
   "execution_count": 71,
   "id": "25ec9aaf",
   "metadata": {},
   "outputs": [
    {
     "data": {
      "text/plain": [
       "женат / замужем          12315\n",
       "гражданский брак          4158\n",
       "Не женат / не замужем     2805\n",
       "в разводе                 1191\n",
       "вдовец / вдова             955\n",
       "Name: family_status, dtype: int64"
      ]
     },
     "execution_count": 71,
     "metadata": {},
     "output_type": "execute_result"
    }
   ],
   "source": [
    "# Выводим уникальные значения в столбце \"family_status\".\n",
    "\n",
    "data['family_status'].value_counts()"
   ]
  },
  {
   "cell_type": "code",
   "execution_count": 72,
   "id": "f1162631",
   "metadata": {},
   "outputs": [
    {
     "data": {
      "text/plain": [
       "0    12315\n",
       "1     4158\n",
       "4     2805\n",
       "3     1191\n",
       "2      955\n",
       "Name: family_status_id, dtype: int64"
      ]
     },
     "execution_count": 72,
     "metadata": {},
     "output_type": "execute_result"
    }
   ],
   "source": [
    "# Выводим уникальные значения в столбце \"family_status_id\".\n",
    "\n",
    "data['family_status_id'].value_counts()"
   ]
  },
  {
   "cell_type": "markdown",
   "id": "8c47497e",
   "metadata": {},
   "source": [
    "Дубликатов здесь нет. Но желательно также внести исправления. Конкретно - строку \"Не женат / не замужем\" исправить на \"холост / не замужем\"."
   ]
  },
  {
   "cell_type": "code",
   "execution_count": 73,
   "id": "a63cf602",
   "metadata": {},
   "outputs": [
    {
     "data": {
      "text/plain": [
       "женат / замужем        12315\n",
       "гражданский брак        4158\n",
       "холост / не замужем     2805\n",
       "в разводе               1191\n",
       "вдовец / вдова           955\n",
       "Name: family_status, dtype: int64"
      ]
     },
     "execution_count": 73,
     "metadata": {},
     "output_type": "execute_result"
    }
   ],
   "source": [
    "# Меняем все значения \"Не женат / не замужем\" в столбце \"family_status\" на \"холост / не замужем\".\n",
    "# Выводим получившиеся уникальные значения в столбце.\n",
    "\n",
    "data['family_status'] = data['family_status'].replace('Не женат / не замужем', 'холост / не замужем')\n",
    "\n",
    "data['family_status'].value_counts()"
   ]
  },
  {
   "cell_type": "markdown",
   "id": "bfdc0715",
   "metadata": {},
   "source": [
    "Изменения произведены."
   ]
  },
  {
   "cell_type": "markdown",
   "id": "cafffc6b",
   "metadata": {},
   "source": [
    "##### Столбец \"gender\""
   ]
  },
  {
   "cell_type": "code",
   "execution_count": 74,
   "id": "3e0eda18",
   "metadata": {},
   "outputs": [
    {
     "data": {
      "text/plain": [
       "F      14154\n",
       "M       7269\n",
       "XNA        1\n",
       "Name: gender, dtype: int64"
      ]
     },
     "execution_count": 74,
     "metadata": {},
     "output_type": "execute_result"
    }
   ],
   "source": [
    "# Выводим уникальные значения в столбце \"gender\".\n",
    "\n",
    "data['gender'].value_counts()"
   ]
  },
  {
   "cell_type": "markdown",
   "id": "1db6e53d",
   "metadata": {},
   "source": [
    "В этом столбце есть одно неопознанное значение \"XNA\". Просмотрим данные об этом заемщике."
   ]
  },
  {
   "cell_type": "code",
   "execution_count": 75,
   "id": "e4d41ae9",
   "metadata": {},
   "outputs": [
    {
     "data": {
      "text/html": [
       "<div>\n",
       "<style scoped>\n",
       "    .dataframe tbody tr th:only-of-type {\n",
       "        vertical-align: middle;\n",
       "    }\n",
       "\n",
       "    .dataframe tbody tr th {\n",
       "        vertical-align: top;\n",
       "    }\n",
       "\n",
       "    .dataframe thead th {\n",
       "        text-align: right;\n",
       "    }\n",
       "</style>\n",
       "<table border=\"1\" class=\"dataframe\">\n",
       "  <thead>\n",
       "    <tr style=\"text-align: right;\">\n",
       "      <th></th>\n",
       "      <th>children</th>\n",
       "      <th>days_employed</th>\n",
       "      <th>dob_years</th>\n",
       "      <th>education</th>\n",
       "      <th>education_id</th>\n",
       "      <th>family_status</th>\n",
       "      <th>family_status_id</th>\n",
       "      <th>gender</th>\n",
       "      <th>income_type</th>\n",
       "      <th>debt</th>\n",
       "      <th>total_income</th>\n",
       "      <th>purpose</th>\n",
       "    </tr>\n",
       "  </thead>\n",
       "  <tbody>\n",
       "    <tr>\n",
       "      <th>10675</th>\n",
       "      <td>0</td>\n",
       "      <td>2190</td>\n",
       "      <td>24</td>\n",
       "      <td>неоконченное высшее</td>\n",
       "      <td>2</td>\n",
       "      <td>гражданский брак</td>\n",
       "      <td>1</td>\n",
       "      <td>XNA</td>\n",
       "      <td>компаньон</td>\n",
       "      <td>0</td>\n",
       "      <td>203905</td>\n",
       "      <td>покупка недвижимости</td>\n",
       "    </tr>\n",
       "  </tbody>\n",
       "</table>\n",
       "</div>"
      ],
      "text/plain": [
       "       children  days_employed  dob_years            education  education_id  \\\n",
       "10675         0           2190         24  неоконченное высшее             2   \n",
       "\n",
       "          family_status  family_status_id gender income_type  debt  \\\n",
       "10675  гражданский брак                 1    XNA   компаньон     0   \n",
       "\n",
       "       total_income               purpose  \n",
       "10675        203905  покупка недвижимости  "
      ]
     },
     "execution_count": 75,
     "metadata": {},
     "output_type": "execute_result"
    }
   ],
   "source": [
    "# Выводим строку с данными о заемщике \"XNA\".\n",
    "\n",
    "data[data['gender'] == 'XNA']"
   ]
  },
  {
   "cell_type": "markdown",
   "id": "f65277dd",
   "metadata": {},
   "source": [
    "Возможно, имела место ошибка или просто заемщик не пожелал указывать пол.\n",
    "Отнести его по косвенным данным к какому-либо из полов сложно. \n",
    "\n",
    "Можем заменить на \"F\", так как количество \"F\" больше (соответственно, верятность отнесения к этой категории статистически выше). \n",
    "Также можно оставить его или вовсе удалить.\n",
    "\n",
    "Выберем последнее."
   ]
  },
  {
   "cell_type": "code",
   "execution_count": 76,
   "id": "d9812c8f",
   "metadata": {},
   "outputs": [],
   "source": [
    "# Удаляем строку со значением \"XNA\" и обновляем индексы датафрейма.\n",
    "\n",
    "data = data.drop(data[data['gender'] == 'XNA'].index).reset_index(drop=True)"
   ]
  },
  {
   "cell_type": "markdown",
   "id": "5e567928",
   "metadata": {},
   "source": [
    "Кроме того, запишем значения кириллицей: \"М\" и \"Ж\"."
   ]
  },
  {
   "cell_type": "code",
   "execution_count": 77,
   "id": "b9aaff6c",
   "metadata": {},
   "outputs": [
    {
     "data": {
      "text/plain": [
       "Ж    14154\n",
       "М     7269\n",
       "Name: gender, dtype: int64"
      ]
     },
     "execution_count": 77,
     "metadata": {},
     "output_type": "execute_result"
    }
   ],
   "source": [
    "# Меняем \"F\" в столбце \"gender\" на \"Ж\".\n",
    "# Меняем латинскую \"M\" на кириллическую \"М\".\n",
    "# Выводим обновленные уникальные значения в столбце.\n",
    "\n",
    "data['gender'] = data['gender'].replace('F', 'Ж')\n",
    "data['gender'] = data['gender'].replace('M', 'М')\n",
    "\n",
    "data['gender'].value_counts()"
   ]
  },
  {
   "cell_type": "code",
   "execution_count": 78,
   "id": "19ba723b",
   "metadata": {},
   "outputs": [
    {
     "data": {
      "text/html": [
       "<div>\n",
       "<style scoped>\n",
       "    .dataframe tbody tr th:only-of-type {\n",
       "        vertical-align: middle;\n",
       "    }\n",
       "\n",
       "    .dataframe tbody tr th {\n",
       "        vertical-align: top;\n",
       "    }\n",
       "\n",
       "    .dataframe thead th {\n",
       "        text-align: right;\n",
       "    }\n",
       "</style>\n",
       "<table border=\"1\" class=\"dataframe\">\n",
       "  <thead>\n",
       "    <tr style=\"text-align: right;\">\n",
       "      <th></th>\n",
       "      <th>children</th>\n",
       "      <th>days_employed</th>\n",
       "      <th>dob_years</th>\n",
       "      <th>education</th>\n",
       "      <th>education_id</th>\n",
       "      <th>family_status</th>\n",
       "      <th>family_status_id</th>\n",
       "      <th>gender</th>\n",
       "      <th>income_type</th>\n",
       "      <th>debt</th>\n",
       "      <th>total_income</th>\n",
       "      <th>purpose</th>\n",
       "    </tr>\n",
       "  </thead>\n",
       "  <tbody>\n",
       "    <tr>\n",
       "      <th>21418</th>\n",
       "      <td>1</td>\n",
       "      <td>4529</td>\n",
       "      <td>43</td>\n",
       "      <td>среднее</td>\n",
       "      <td>1</td>\n",
       "      <td>гражданский брак</td>\n",
       "      <td>1</td>\n",
       "      <td>Ж</td>\n",
       "      <td>компаньон</td>\n",
       "      <td>0</td>\n",
       "      <td>224791</td>\n",
       "      <td>операции с жильем</td>\n",
       "    </tr>\n",
       "    <tr>\n",
       "      <th>21419</th>\n",
       "      <td>0</td>\n",
       "      <td>14330</td>\n",
       "      <td>67</td>\n",
       "      <td>среднее</td>\n",
       "      <td>1</td>\n",
       "      <td>женат / замужем</td>\n",
       "      <td>0</td>\n",
       "      <td>Ж</td>\n",
       "      <td>пенсионер</td>\n",
       "      <td>0</td>\n",
       "      <td>155999</td>\n",
       "      <td>сделка с автомобилем</td>\n",
       "    </tr>\n",
       "    <tr>\n",
       "      <th>21420</th>\n",
       "      <td>1</td>\n",
       "      <td>2113</td>\n",
       "      <td>38</td>\n",
       "      <td>среднее</td>\n",
       "      <td>1</td>\n",
       "      <td>гражданский брак</td>\n",
       "      <td>1</td>\n",
       "      <td>М</td>\n",
       "      <td>сотрудник</td>\n",
       "      <td>1</td>\n",
       "      <td>89672</td>\n",
       "      <td>недвижимость</td>\n",
       "    </tr>\n",
       "    <tr>\n",
       "      <th>21421</th>\n",
       "      <td>3</td>\n",
       "      <td>3112</td>\n",
       "      <td>38</td>\n",
       "      <td>среднее</td>\n",
       "      <td>1</td>\n",
       "      <td>женат / замужем</td>\n",
       "      <td>0</td>\n",
       "      <td>М</td>\n",
       "      <td>сотрудник</td>\n",
       "      <td>1</td>\n",
       "      <td>244093</td>\n",
       "      <td>на покупку своего автомобиля</td>\n",
       "    </tr>\n",
       "    <tr>\n",
       "      <th>21422</th>\n",
       "      <td>2</td>\n",
       "      <td>1984</td>\n",
       "      <td>40</td>\n",
       "      <td>среднее</td>\n",
       "      <td>1</td>\n",
       "      <td>женат / замужем</td>\n",
       "      <td>0</td>\n",
       "      <td>Ж</td>\n",
       "      <td>сотрудник</td>\n",
       "      <td>0</td>\n",
       "      <td>82047</td>\n",
       "      <td>на покупку автомобиля</td>\n",
       "    </tr>\n",
       "  </tbody>\n",
       "</table>\n",
       "</div>"
      ],
      "text/plain": [
       "       children  days_employed  dob_years education  education_id  \\\n",
       "21418         1           4529         43   среднее             1   \n",
       "21419         0          14330         67   среднее             1   \n",
       "21420         1           2113         38   среднее             1   \n",
       "21421         3           3112         38   среднее             1   \n",
       "21422         2           1984         40   среднее             1   \n",
       "\n",
       "          family_status  family_status_id gender income_type  debt  \\\n",
       "21418  гражданский брак                 1      Ж   компаньон     0   \n",
       "21419   женат / замужем                 0      Ж   пенсионер     0   \n",
       "21420  гражданский брак                 1      М   сотрудник     1   \n",
       "21421   женат / замужем                 0      М   сотрудник     1   \n",
       "21422   женат / замужем                 0      Ж   сотрудник     0   \n",
       "\n",
       "       total_income                       purpose  \n",
       "21418        224791             операции с жильем  \n",
       "21419        155999          сделка с автомобилем  \n",
       "21420         89672                  недвижимость  \n",
       "21421        244093  на покупку своего автомобиля  \n",
       "21422         82047         на покупку автомобиля  "
      ]
     },
     "execution_count": 78,
     "metadata": {},
     "output_type": "execute_result"
    }
   ],
   "source": [
    "# Выводим последние 5 строк датафрейма для проверки изменений значений столбца \"gender\"\n",
    "# и обновления индексов датафрейма.\n",
    "\n",
    "data.tail()"
   ]
  },
  {
   "cell_type": "markdown",
   "id": "c01af0e4",
   "metadata": {},
   "source": [
    "##### Столбец \"income_type\"."
   ]
  },
  {
   "cell_type": "code",
   "execution_count": 79,
   "id": "73f487dd",
   "metadata": {},
   "outputs": [
    {
     "data": {
      "text/plain": [
       "сотрудник          11065\n",
       "компаньон           5070\n",
       "пенсионер           3829\n",
       "госслужащий         1453\n",
       "безработный            2\n",
       "предприниматель        2\n",
       "студент                1\n",
       "в декрете              1\n",
       "Name: income_type, dtype: int64"
      ]
     },
     "execution_count": 79,
     "metadata": {},
     "output_type": "execute_result"
    }
   ],
   "source": [
    "# Выводим уникальные значения в столбце \"income_type\".\n",
    "\n",
    "data['income_type'].value_counts()"
   ]
  },
  {
   "cell_type": "markdown",
   "id": "5adb8cc0",
   "metadata": {},
   "source": [
    "В этом столбце дубликатов и ошибок нет."
   ]
  },
  {
   "cell_type": "markdown",
   "id": "9de91073",
   "metadata": {},
   "source": [
    "##### Столбец \"debt\""
   ]
  },
  {
   "cell_type": "code",
   "execution_count": 80,
   "id": "efd23265",
   "metadata": {},
   "outputs": [
    {
     "data": {
      "text/plain": [
       "0    19683\n",
       "1     1740\n",
       "Name: debt, dtype: int64"
      ]
     },
     "execution_count": 80,
     "metadata": {},
     "output_type": "execute_result"
    }
   ],
   "source": [
    "# Выводим уникальные значения в столбце \"debt\".\n",
    "\n",
    "data['debt'].value_counts()"
   ]
  },
  {
   "cell_type": "markdown",
   "id": "5a738c4d",
   "metadata": {},
   "source": [
    "Здесь также все в порядке."
   ]
  },
  {
   "cell_type": "markdown",
   "id": "bd864d36",
   "metadata": {},
   "source": [
    "##### Столбец \"purpose\""
   ]
  },
  {
   "cell_type": "code",
   "execution_count": 81,
   "id": "75e2ece2",
   "metadata": {},
   "outputs": [
    {
     "data": {
      "text/plain": [
       "свадьба                                   793\n",
       "на проведение свадьбы                     772\n",
       "сыграть свадьбу                           768\n",
       "операции с недвижимостью                  673\n",
       "покупка коммерческой недвижимости         662\n",
       "покупка жилья для сдачи                   651\n",
       "операции с жильем                         651\n",
       "операции с коммерческой недвижимостью     649\n",
       "жилье                                     645\n",
       "покупка жилья                             643\n",
       "покупка жилья для семьи                   638\n",
       "строительство собственной недвижимости    634\n",
       "недвижимость                              632\n",
       "операции со своей недвижимостью           624\n",
       "строительство жилой недвижимости          622\n",
       "строительство недвижимости                619\n",
       "покупка своего жилья                      619\n",
       "покупка недвижимости                      617\n",
       "ремонт жилью                              606\n",
       "покупка жилой недвижимости                604\n",
       "на покупку своего автомобиля              504\n",
       "заняться высшим образованием              496\n",
       "автомобиль                                492\n",
       "сделка с подержанным автомобилем          485\n",
       "свой автомобиль                           477\n",
       "на покупку подержанного автомобиля        477\n",
       "автомобили                                477\n",
       "на покупку автомобиля                     471\n",
       "приобретение автомобиля                   459\n",
       "дополнительное образование                458\n",
       "сделка с автомобилем                      455\n",
       "высшее образование                        451\n",
       "получение дополнительного образования     446\n",
       "образование                               444\n",
       "получение образования                     441\n",
       "профильное образование                    434\n",
       "получение высшего образования             426\n",
       "заняться образованием                     408\n",
       "Name: purpose, dtype: int64"
      ]
     },
     "execution_count": 81,
     "metadata": {},
     "output_type": "execute_result"
    }
   ],
   "source": [
    "# Выводим уникальные значения в столбце \"purpose\".\n",
    "\n",
    "data['purpose'].value_counts()"
   ]
  },
  {
   "cell_type": "markdown",
   "id": "5ca5c62f",
   "metadata": {},
   "source": [
    "В данном столбце причиной образования такого количества дубликатов является недостаточная проработака программы для ввода данных. Цели кредита изначально не были объединены в категории. Поэтому были занесены в разное время по-разному, возможно, со слов клиентов."
   ]
  },
  {
   "cell_type": "markdown",
   "id": "75e1a602",
   "metadata": {},
   "source": [
    "В предыдущих столбцах для явных дубликатов были использованы методы .duplicated() (поиск дубликатов) и drop_duplicates() (удаление дубликатов).\n",
    "Для неявных - .value_counts() (подсчет уникальных значений), а также .str.lower() (перевод в нижний регистр) и .replace() (замена значений)."
   ]
  },
  {
   "cell_type": "markdown",
   "id": "398e49df",
   "metadata": {},
   "source": [
    "Однако для данных в столбце \"purpose\" указанные методы не подойдут. Вернемся к его обработке позже."
   ]
  },
  {
   "cell_type": "markdown",
   "id": "b87255ff",
   "metadata": {},
   "source": [
    "### Формирование дополнительных датафреймов-словарей"
   ]
  },
  {
   "cell_type": "code",
   "execution_count": 82,
   "id": "46ed7c36",
   "metadata": {},
   "outputs": [
    {
     "data": {
      "text/html": [
       "<div>\n",
       "<style scoped>\n",
       "    .dataframe tbody tr th:only-of-type {\n",
       "        vertical-align: middle;\n",
       "    }\n",
       "\n",
       "    .dataframe tbody tr th {\n",
       "        vertical-align: top;\n",
       "    }\n",
       "\n",
       "    .dataframe thead th {\n",
       "        text-align: right;\n",
       "    }\n",
       "</style>\n",
       "<table border=\"1\" class=\"dataframe\">\n",
       "  <thead>\n",
       "    <tr style=\"text-align: right;\">\n",
       "      <th></th>\n",
       "      <th>children</th>\n",
       "      <th>days_employed</th>\n",
       "      <th>dob_years</th>\n",
       "      <th>education</th>\n",
       "      <th>education_id</th>\n",
       "      <th>family_status</th>\n",
       "      <th>family_status_id</th>\n",
       "      <th>gender</th>\n",
       "      <th>income_type</th>\n",
       "      <th>debt</th>\n",
       "      <th>total_income</th>\n",
       "      <th>purpose</th>\n",
       "    </tr>\n",
       "  </thead>\n",
       "  <tbody>\n",
       "    <tr>\n",
       "      <th>0</th>\n",
       "      <td>1</td>\n",
       "      <td>8437</td>\n",
       "      <td>42</td>\n",
       "      <td>высшее</td>\n",
       "      <td>0</td>\n",
       "      <td>женат / замужем</td>\n",
       "      <td>0</td>\n",
       "      <td>Ж</td>\n",
       "      <td>сотрудник</td>\n",
       "      <td>0</td>\n",
       "      <td>253875</td>\n",
       "      <td>покупка жилья</td>\n",
       "    </tr>\n",
       "    <tr>\n",
       "      <th>1</th>\n",
       "      <td>1</td>\n",
       "      <td>4024</td>\n",
       "      <td>36</td>\n",
       "      <td>среднее</td>\n",
       "      <td>1</td>\n",
       "      <td>женат / замужем</td>\n",
       "      <td>0</td>\n",
       "      <td>Ж</td>\n",
       "      <td>сотрудник</td>\n",
       "      <td>0</td>\n",
       "      <td>112080</td>\n",
       "      <td>приобретение автомобиля</td>\n",
       "    </tr>\n",
       "    <tr>\n",
       "      <th>2</th>\n",
       "      <td>0</td>\n",
       "      <td>5475</td>\n",
       "      <td>33</td>\n",
       "      <td>среднее</td>\n",
       "      <td>1</td>\n",
       "      <td>женат / замужем</td>\n",
       "      <td>0</td>\n",
       "      <td>М</td>\n",
       "      <td>сотрудник</td>\n",
       "      <td>0</td>\n",
       "      <td>145885</td>\n",
       "      <td>покупка жилья</td>\n",
       "    </tr>\n",
       "    <tr>\n",
       "      <th>3</th>\n",
       "      <td>3</td>\n",
       "      <td>4124</td>\n",
       "      <td>32</td>\n",
       "      <td>среднее</td>\n",
       "      <td>1</td>\n",
       "      <td>женат / замужем</td>\n",
       "      <td>0</td>\n",
       "      <td>М</td>\n",
       "      <td>сотрудник</td>\n",
       "      <td>0</td>\n",
       "      <td>267628</td>\n",
       "      <td>дополнительное образование</td>\n",
       "    </tr>\n",
       "    <tr>\n",
       "      <th>4</th>\n",
       "      <td>0</td>\n",
       "      <td>12775</td>\n",
       "      <td>53</td>\n",
       "      <td>среднее</td>\n",
       "      <td>1</td>\n",
       "      <td>гражданский брак</td>\n",
       "      <td>1</td>\n",
       "      <td>Ж</td>\n",
       "      <td>пенсионер</td>\n",
       "      <td>0</td>\n",
       "      <td>158616</td>\n",
       "      <td>сыграть свадьбу</td>\n",
       "    </tr>\n",
       "  </tbody>\n",
       "</table>\n",
       "</div>"
      ],
      "text/plain": [
       "   children  days_employed  dob_years education  education_id  \\\n",
       "0         1           8437         42    высшее             0   \n",
       "1         1           4024         36   среднее             1   \n",
       "2         0           5475         33   среднее             1   \n",
       "3         3           4124         32   среднее             1   \n",
       "4         0          12775         53   среднее             1   \n",
       "\n",
       "      family_status  family_status_id gender income_type  debt  total_income  \\\n",
       "0   женат / замужем                 0      Ж   сотрудник     0        253875   \n",
       "1   женат / замужем                 0      Ж   сотрудник     0        112080   \n",
       "2   женат / замужем                 0      М   сотрудник     0        145885   \n",
       "3   женат / замужем                 0      М   сотрудник     0        267628   \n",
       "4  гражданский брак                 1      Ж   пенсионер     0        158616   \n",
       "\n",
       "                      purpose  \n",
       "0               покупка жилья  \n",
       "1     приобретение автомобиля  \n",
       "2               покупка жилья  \n",
       "3  дополнительное образование  \n",
       "4             сыграть свадьбу  "
      ]
     },
     "execution_count": 82,
     "metadata": {},
     "output_type": "execute_result"
    }
   ],
   "source": [
    "# Выводим первые несколько строк датафрейма.\n",
    "\n",
    "data.head()"
   ]
  },
  {
   "cell_type": "markdown",
   "id": "9c833342",
   "metadata": {},
   "source": [
    "Создадим из исходного датафрейма два новых: для столбцов с данными об образовании и семейном положении, соответственно."
   ]
  },
  {
   "cell_type": "markdown",
   "id": "d3a7e801",
   "metadata": {},
   "source": [
    "__1.__ Образование (столбцы \"education\" и \"education_id\")."
   ]
  },
  {
   "cell_type": "markdown",
   "id": "e880103b",
   "metadata": {},
   "source": [
    "Создадим новый датафрейм из указанных столбцов, удалив дубликаты и убрав старые индексы. \n",
    "Для удобства расположим \"education_id\" слева."
   ]
  },
  {
   "cell_type": "code",
   "execution_count": 83,
   "id": "2e71c8ba",
   "metadata": {},
   "outputs": [
    {
     "data": {
      "text/html": [
       "<div>\n",
       "<style scoped>\n",
       "    .dataframe tbody tr th:only-of-type {\n",
       "        vertical-align: middle;\n",
       "    }\n",
       "\n",
       "    .dataframe tbody tr th {\n",
       "        vertical-align: top;\n",
       "    }\n",
       "\n",
       "    .dataframe thead th {\n",
       "        text-align: right;\n",
       "    }\n",
       "</style>\n",
       "<table border=\"1\" class=\"dataframe\">\n",
       "  <thead>\n",
       "    <tr style=\"text-align: right;\">\n",
       "      <th></th>\n",
       "      <th>education</th>\n",
       "    </tr>\n",
       "    <tr>\n",
       "      <th>education_id</th>\n",
       "      <th></th>\n",
       "    </tr>\n",
       "  </thead>\n",
       "  <tbody>\n",
       "    <tr>\n",
       "      <th>0</th>\n",
       "      <td>высшее</td>\n",
       "    </tr>\n",
       "    <tr>\n",
       "      <th>1</th>\n",
       "      <td>среднее</td>\n",
       "    </tr>\n",
       "    <tr>\n",
       "      <th>2</th>\n",
       "      <td>неоконченное высшее</td>\n",
       "    </tr>\n",
       "    <tr>\n",
       "      <th>3</th>\n",
       "      <td>начальное</td>\n",
       "    </tr>\n",
       "    <tr>\n",
       "      <th>4</th>\n",
       "      <td>ученая степень</td>\n",
       "    </tr>\n",
       "  </tbody>\n",
       "</table>\n",
       "</div>"
      ],
      "text/plain": [
       "                        education\n",
       "education_id                     \n",
       "0                          высшее\n",
       "1                         среднее\n",
       "2             неоконченное высшее\n",
       "3                       начальное\n",
       "4                  ученая степень"
      ]
     },
     "metadata": {},
     "output_type": "display_data"
    }
   ],
   "source": [
    "# Создаем новый датафрейм education из столбцов \"education\" и \"education_id\".\n",
    "# Выведем созданную таблицу.\n",
    "\n",
    "education = (data[['education_id', 'education']]\n",
    "             .drop_duplicates()\n",
    "             .reset_index(drop=True)\n",
    "             .set_index('education_id')\n",
    "            )\n",
    "display(education)"
   ]
  },
  {
   "cell_type": "markdown",
   "id": "95071ad2",
   "metadata": {},
   "source": [
    "__2.__ Семейное положение (столбцы \"family_status\" и \"family_status_id\")."
   ]
  },
  {
   "cell_type": "markdown",
   "id": "7f72dfce",
   "metadata": {},
   "source": [
    "Те же действия произведем и с этими столбцами."
   ]
  },
  {
   "cell_type": "code",
   "execution_count": 84,
   "id": "8ec9682d",
   "metadata": {},
   "outputs": [
    {
     "data": {
      "text/html": [
       "<div>\n",
       "<style scoped>\n",
       "    .dataframe tbody tr th:only-of-type {\n",
       "        vertical-align: middle;\n",
       "    }\n",
       "\n",
       "    .dataframe tbody tr th {\n",
       "        vertical-align: top;\n",
       "    }\n",
       "\n",
       "    .dataframe thead th {\n",
       "        text-align: right;\n",
       "    }\n",
       "</style>\n",
       "<table border=\"1\" class=\"dataframe\">\n",
       "  <thead>\n",
       "    <tr style=\"text-align: right;\">\n",
       "      <th></th>\n",
       "      <th>family_status</th>\n",
       "    </tr>\n",
       "    <tr>\n",
       "      <th>family_status_id</th>\n",
       "      <th></th>\n",
       "    </tr>\n",
       "  </thead>\n",
       "  <tbody>\n",
       "    <tr>\n",
       "      <th>0</th>\n",
       "      <td>женат / замужем</td>\n",
       "    </tr>\n",
       "    <tr>\n",
       "      <th>1</th>\n",
       "      <td>гражданский брак</td>\n",
       "    </tr>\n",
       "    <tr>\n",
       "      <th>2</th>\n",
       "      <td>вдовец / вдова</td>\n",
       "    </tr>\n",
       "    <tr>\n",
       "      <th>3</th>\n",
       "      <td>в разводе</td>\n",
       "    </tr>\n",
       "    <tr>\n",
       "      <th>4</th>\n",
       "      <td>холост / не замужем</td>\n",
       "    </tr>\n",
       "  </tbody>\n",
       "</table>\n",
       "</div>"
      ],
      "text/plain": [
       "                        family_status\n",
       "family_status_id                     \n",
       "0                     женат / замужем\n",
       "1                    гражданский брак\n",
       "2                      вдовец / вдова\n",
       "3                           в разводе\n",
       "4                 холост / не замужем"
      ]
     },
     "metadata": {},
     "output_type": "display_data"
    }
   ],
   "source": [
    "# Создаем новый датафрейм family_status из столбцов \"family_status\" и \"family_status_id\".\n",
    "# Выведем созданную таблицу.\n",
    "\n",
    "family_status = (data[['family_status_id', 'family_status']]\n",
    "                 .drop_duplicates()\n",
    "                 .reset_index(drop=True)\n",
    "                 .set_index('family_status_id')\n",
    "                )\n",
    "display(family_status)"
   ]
  },
  {
   "cell_type": "markdown",
   "id": "e2b099ac",
   "metadata": {},
   "source": [
    "Удалим столбцы \"education\" и \"family_status\" из исходной таблицы."
   ]
  },
  {
   "cell_type": "code",
   "execution_count": 85,
   "id": "0029f515",
   "metadata": {},
   "outputs": [
    {
     "data": {
      "text/html": [
       "<div>\n",
       "<style scoped>\n",
       "    .dataframe tbody tr th:only-of-type {\n",
       "        vertical-align: middle;\n",
       "    }\n",
       "\n",
       "    .dataframe tbody tr th {\n",
       "        vertical-align: top;\n",
       "    }\n",
       "\n",
       "    .dataframe thead th {\n",
       "        text-align: right;\n",
       "    }\n",
       "</style>\n",
       "<table border=\"1\" class=\"dataframe\">\n",
       "  <thead>\n",
       "    <tr style=\"text-align: right;\">\n",
       "      <th></th>\n",
       "      <th>children</th>\n",
       "      <th>days_employed</th>\n",
       "      <th>dob_years</th>\n",
       "      <th>education_id</th>\n",
       "      <th>family_status_id</th>\n",
       "      <th>gender</th>\n",
       "      <th>income_type</th>\n",
       "      <th>debt</th>\n",
       "      <th>total_income</th>\n",
       "      <th>purpose</th>\n",
       "    </tr>\n",
       "  </thead>\n",
       "  <tbody>\n",
       "    <tr>\n",
       "      <th>0</th>\n",
       "      <td>1</td>\n",
       "      <td>8437</td>\n",
       "      <td>42</td>\n",
       "      <td>0</td>\n",
       "      <td>0</td>\n",
       "      <td>Ж</td>\n",
       "      <td>сотрудник</td>\n",
       "      <td>0</td>\n",
       "      <td>253875</td>\n",
       "      <td>покупка жилья</td>\n",
       "    </tr>\n",
       "    <tr>\n",
       "      <th>1</th>\n",
       "      <td>1</td>\n",
       "      <td>4024</td>\n",
       "      <td>36</td>\n",
       "      <td>1</td>\n",
       "      <td>0</td>\n",
       "      <td>Ж</td>\n",
       "      <td>сотрудник</td>\n",
       "      <td>0</td>\n",
       "      <td>112080</td>\n",
       "      <td>приобретение автомобиля</td>\n",
       "    </tr>\n",
       "    <tr>\n",
       "      <th>2</th>\n",
       "      <td>0</td>\n",
       "      <td>5475</td>\n",
       "      <td>33</td>\n",
       "      <td>1</td>\n",
       "      <td>0</td>\n",
       "      <td>М</td>\n",
       "      <td>сотрудник</td>\n",
       "      <td>0</td>\n",
       "      <td>145885</td>\n",
       "      <td>покупка жилья</td>\n",
       "    </tr>\n",
       "    <tr>\n",
       "      <th>3</th>\n",
       "      <td>3</td>\n",
       "      <td>4124</td>\n",
       "      <td>32</td>\n",
       "      <td>1</td>\n",
       "      <td>0</td>\n",
       "      <td>М</td>\n",
       "      <td>сотрудник</td>\n",
       "      <td>0</td>\n",
       "      <td>267628</td>\n",
       "      <td>дополнительное образование</td>\n",
       "    </tr>\n",
       "    <tr>\n",
       "      <th>4</th>\n",
       "      <td>0</td>\n",
       "      <td>12775</td>\n",
       "      <td>53</td>\n",
       "      <td>1</td>\n",
       "      <td>1</td>\n",
       "      <td>Ж</td>\n",
       "      <td>пенсионер</td>\n",
       "      <td>0</td>\n",
       "      <td>158616</td>\n",
       "      <td>сыграть свадьбу</td>\n",
       "    </tr>\n",
       "  </tbody>\n",
       "</table>\n",
       "</div>"
      ],
      "text/plain": [
       "   children  days_employed  dob_years  education_id  family_status_id gender  \\\n",
       "0         1           8437         42             0                 0      Ж   \n",
       "1         1           4024         36             1                 0      Ж   \n",
       "2         0           5475         33             1                 0      М   \n",
       "3         3           4124         32             1                 0      М   \n",
       "4         0          12775         53             1                 1      Ж   \n",
       "\n",
       "  income_type  debt  total_income                     purpose  \n",
       "0   сотрудник     0        253875               покупка жилья  \n",
       "1   сотрудник     0        112080     приобретение автомобиля  \n",
       "2   сотрудник     0        145885               покупка жилья  \n",
       "3   сотрудник     0        267628  дополнительное образование  \n",
       "4   пенсионер     0        158616             сыграть свадьбу  "
      ]
     },
     "execution_count": 85,
     "metadata": {},
     "output_type": "execute_result"
    }
   ],
   "source": [
    "# Удаляем столбцы \"education\" и \"family_status\" из исходного датафрейма.\n",
    "# Выведем первые строки датафрейма.\n",
    "\n",
    "data = data.drop(['education', 'family_status'], axis=1)\n",
    "data.head()"
   ]
  },
  {
   "cell_type": "markdown",
   "id": "77bc49a0",
   "metadata": {},
   "source": [
    "Столбцы удалены."
   ]
  },
  {
   "cell_type": "markdown",
   "id": "c3b6b6c8",
   "metadata": {},
   "source": [
    "### Категоризация дохода"
   ]
  },
  {
   "cell_type": "markdown",
   "id": "585757c7",
   "metadata": {},
   "source": [
    "Создадим новый столбец \"total_income_category\", в котором будут отображаться данные о категориях доходов из столбца \"total_income\":"
   ]
  },
  {
   "cell_type": "markdown",
   "id": "bef30afe",
   "metadata": {},
   "source": [
    "0 - 30000 — \"E\";\n",
    "\n",
    "30001 - 50000 — \"D\";\n",
    "\n",
    "50001 - 200000 — \"C\";\n",
    "\n",
    "200001 - 1000000 — \"B\";\n",
    "\n",
    "1000001 и выше — \"A\"."
   ]
  },
  {
   "cell_type": "markdown",
   "id": "d29ae078",
   "metadata": {},
   "source": [
    "Можно это сделать двумя способами. Сначала попробуем обойтись без написания дополнительных функций."
   ]
  },
  {
   "cell_type": "code",
   "execution_count": 86,
   "id": "7d063f55",
   "metadata": {},
   "outputs": [],
   "source": [
    "# Создаем новый столбец \"total_income_category\", вставляем его после восьмого слева столбца.\n",
    "# Заполняем ячейки созданного столбца названиями категорий (А-Е), соответственно указанному выше правилу.\n",
    "\n",
    "data.insert(9, 'total_income_category', '')\n",
    "\n",
    "data.loc[data['total_income'] <= 30000, 'total_income_category'] = 'E'\n",
    "data.loc[(data['total_income'] > 30000) & (data['total_income'] <= 50000), 'total_income_category'] = 'D'\n",
    "data.loc[(data['total_income'] > 50000) & (data['total_income'] <= 200000), 'total_income_category'] = 'C'\n",
    "data.loc[(data['total_income'] > 200000) & (data['total_income'] <= 1000000), 'total_income_category'] = 'B'\n",
    "data.loc[data['total_income'] > 1000000, 'total_income_category'] = 'A'"
   ]
  },
  {
   "cell_type": "markdown",
   "id": "dc0e783c",
   "metadata": {},
   "source": [
    "Проверим правильность работы кода на примере одной из категорий."
   ]
  },
  {
   "cell_type": "code",
   "execution_count": 87,
   "id": "554c6bcc",
   "metadata": {},
   "outputs": [
    {
     "data": {
      "text/plain": [
       "array(['D'], dtype=object)"
      ]
     },
     "metadata": {},
     "output_type": "display_data"
    }
   ],
   "source": [
    "# Проверяем, правильно ли работает код, выведя полученную по заданным условиям категорию.\n",
    "\n",
    "display(data[(data['total_income'] > 30000) & (data['total_income'] <= 50000)]['total_income_category'].unique())"
   ]
  },
  {
   "cell_type": "markdown",
   "id": "d72c5a87",
   "metadata": {},
   "source": [
    "Все верно. Просмотрим полученную таблицу."
   ]
  },
  {
   "cell_type": "code",
   "execution_count": 88,
   "id": "9581f496",
   "metadata": {},
   "outputs": [
    {
     "data": {
      "text/html": [
       "<div>\n",
       "<style scoped>\n",
       "    .dataframe tbody tr th:only-of-type {\n",
       "        vertical-align: middle;\n",
       "    }\n",
       "\n",
       "    .dataframe tbody tr th {\n",
       "        vertical-align: top;\n",
       "    }\n",
       "\n",
       "    .dataframe thead th {\n",
       "        text-align: right;\n",
       "    }\n",
       "</style>\n",
       "<table border=\"1\" class=\"dataframe\">\n",
       "  <thead>\n",
       "    <tr style=\"text-align: right;\">\n",
       "      <th></th>\n",
       "      <th>children</th>\n",
       "      <th>days_employed</th>\n",
       "      <th>dob_years</th>\n",
       "      <th>education_id</th>\n",
       "      <th>family_status_id</th>\n",
       "      <th>gender</th>\n",
       "      <th>income_type</th>\n",
       "      <th>debt</th>\n",
       "      <th>total_income</th>\n",
       "      <th>total_income_category</th>\n",
       "      <th>purpose</th>\n",
       "    </tr>\n",
       "  </thead>\n",
       "  <tbody>\n",
       "    <tr>\n",
       "      <th>0</th>\n",
       "      <td>1</td>\n",
       "      <td>8437</td>\n",
       "      <td>42</td>\n",
       "      <td>0</td>\n",
       "      <td>0</td>\n",
       "      <td>Ж</td>\n",
       "      <td>сотрудник</td>\n",
       "      <td>0</td>\n",
       "      <td>253875</td>\n",
       "      <td>B</td>\n",
       "      <td>покупка жилья</td>\n",
       "    </tr>\n",
       "    <tr>\n",
       "      <th>1</th>\n",
       "      <td>1</td>\n",
       "      <td>4024</td>\n",
       "      <td>36</td>\n",
       "      <td>1</td>\n",
       "      <td>0</td>\n",
       "      <td>Ж</td>\n",
       "      <td>сотрудник</td>\n",
       "      <td>0</td>\n",
       "      <td>112080</td>\n",
       "      <td>C</td>\n",
       "      <td>приобретение автомобиля</td>\n",
       "    </tr>\n",
       "    <tr>\n",
       "      <th>2</th>\n",
       "      <td>0</td>\n",
       "      <td>5475</td>\n",
       "      <td>33</td>\n",
       "      <td>1</td>\n",
       "      <td>0</td>\n",
       "      <td>М</td>\n",
       "      <td>сотрудник</td>\n",
       "      <td>0</td>\n",
       "      <td>145885</td>\n",
       "      <td>C</td>\n",
       "      <td>покупка жилья</td>\n",
       "    </tr>\n",
       "    <tr>\n",
       "      <th>3</th>\n",
       "      <td>3</td>\n",
       "      <td>4124</td>\n",
       "      <td>32</td>\n",
       "      <td>1</td>\n",
       "      <td>0</td>\n",
       "      <td>М</td>\n",
       "      <td>сотрудник</td>\n",
       "      <td>0</td>\n",
       "      <td>267628</td>\n",
       "      <td>B</td>\n",
       "      <td>дополнительное образование</td>\n",
       "    </tr>\n",
       "    <tr>\n",
       "      <th>4</th>\n",
       "      <td>0</td>\n",
       "      <td>12775</td>\n",
       "      <td>53</td>\n",
       "      <td>1</td>\n",
       "      <td>1</td>\n",
       "      <td>Ж</td>\n",
       "      <td>пенсионер</td>\n",
       "      <td>0</td>\n",
       "      <td>158616</td>\n",
       "      <td>C</td>\n",
       "      <td>сыграть свадьбу</td>\n",
       "    </tr>\n",
       "  </tbody>\n",
       "</table>\n",
       "</div>"
      ],
      "text/plain": [
       "   children  days_employed  dob_years  education_id  family_status_id gender  \\\n",
       "0         1           8437         42             0                 0      Ж   \n",
       "1         1           4024         36             1                 0      Ж   \n",
       "2         0           5475         33             1                 0      М   \n",
       "3         3           4124         32             1                 0      М   \n",
       "4         0          12775         53             1                 1      Ж   \n",
       "\n",
       "  income_type  debt  total_income total_income_category  \\\n",
       "0   сотрудник     0        253875                     B   \n",
       "1   сотрудник     0        112080                     C   \n",
       "2   сотрудник     0        145885                     C   \n",
       "3   сотрудник     0        267628                     B   \n",
       "4   пенсионер     0        158616                     C   \n",
       "\n",
       "                      purpose  \n",
       "0               покупка жилья  \n",
       "1     приобретение автомобиля  \n",
       "2               покупка жилья  \n",
       "3  дополнительное образование  \n",
       "4             сыграть свадьбу  "
      ]
     },
     "execution_count": 88,
     "metadata": {},
     "output_type": "execute_result"
    }
   ],
   "source": [
    "# Первые 5 строк обновленного датафрейма\n",
    "\n",
    "data.head()"
   ]
  },
  {
   "cell_type": "markdown",
   "id": "d18fd669",
   "metadata": {},
   "source": [
    "Теперь создадим функцию, с помощью которой можно будет проверить правильность условий, прежде чем применять в датафрейме."
   ]
  },
  {
   "cell_type": "code",
   "execution_count": 89,
   "id": "6c5b8596",
   "metadata": {},
   "outputs": [],
   "source": [
    "# Функция, возвращающая название категории в зависимости от величины дохода\n",
    "\n",
    "def income_group(income):\n",
    "    if income <= 30000:\n",
    "        return 'E'\n",
    "    if income > 30000 and income <= 50000:\n",
    "        return 'D'\n",
    "    if income > 50000 and income <= 200000:\n",
    "        return 'C'\n",
    "    if income > 200000 and income <= 1000000:\n",
    "        return 'B'\n",
    "    return 'A'"
   ]
  },
  {
   "cell_type": "markdown",
   "id": "d2805e88",
   "metadata": {},
   "source": [
    "Можно проверить работоспособность функции, введя любые числа в качестве аргумента."
   ]
  },
  {
   "cell_type": "code",
   "execution_count": 90,
   "id": "0fb04587",
   "metadata": {},
   "outputs": [
    {
     "name": "stdout",
     "output_type": "stream",
     "text": [
      "Указанный доход соответствует категории \"C\".\n"
     ]
    }
   ],
   "source": [
    "# Вносим произвольное целое число в качестве аргумента в income_group() и получаем соответствующую категорию доходов. \n",
    "\n",
    "print(f'Указанный доход соответствует категории \"{income_group(100000)}\".')"
   ]
  },
  {
   "cell_type": "markdown",
   "id": "394ce3e6",
   "metadata": {},
   "source": [
    "Применим функцию к новому столбцу. Старый при этом не будем удалять."
   ]
  },
  {
   "cell_type": "code",
   "execution_count": 91,
   "id": "dc8a6d71",
   "metadata": {},
   "outputs": [],
   "source": [
    "# Применяем созданную функцию income_group() к столбцу \"total_income\".\n",
    "\n",
    "data['total_income_category1'] = data['total_income'].apply(income_group)"
   ]
  },
  {
   "cell_type": "markdown",
   "id": "72ce07a3",
   "metadata": {},
   "source": [
    "Взглянем на оба столбца вместе, чтобы визуально сравнить их."
   ]
  },
  {
   "cell_type": "code",
   "execution_count": 92,
   "id": "f0114368",
   "metadata": {},
   "outputs": [
    {
     "data": {
      "text/html": [
       "<div>\n",
       "<style scoped>\n",
       "    .dataframe tbody tr th:only-of-type {\n",
       "        vertical-align: middle;\n",
       "    }\n",
       "\n",
       "    .dataframe tbody tr th {\n",
       "        vertical-align: top;\n",
       "    }\n",
       "\n",
       "    .dataframe thead th {\n",
       "        text-align: right;\n",
       "    }\n",
       "</style>\n",
       "<table border=\"1\" class=\"dataframe\">\n",
       "  <thead>\n",
       "    <tr style=\"text-align: right;\">\n",
       "      <th></th>\n",
       "      <th>total_income_category</th>\n",
       "      <th>total_income_category1</th>\n",
       "    </tr>\n",
       "  </thead>\n",
       "  <tbody>\n",
       "    <tr>\n",
       "      <th>0</th>\n",
       "      <td>B</td>\n",
       "      <td>B</td>\n",
       "    </tr>\n",
       "    <tr>\n",
       "      <th>1</th>\n",
       "      <td>C</td>\n",
       "      <td>C</td>\n",
       "    </tr>\n",
       "    <tr>\n",
       "      <th>2</th>\n",
       "      <td>C</td>\n",
       "      <td>C</td>\n",
       "    </tr>\n",
       "    <tr>\n",
       "      <th>3</th>\n",
       "      <td>B</td>\n",
       "      <td>B</td>\n",
       "    </tr>\n",
       "    <tr>\n",
       "      <th>4</th>\n",
       "      <td>C</td>\n",
       "      <td>C</td>\n",
       "    </tr>\n",
       "    <tr>\n",
       "      <th>5</th>\n",
       "      <td>B</td>\n",
       "      <td>B</td>\n",
       "    </tr>\n",
       "    <tr>\n",
       "      <th>6</th>\n",
       "      <td>B</td>\n",
       "      <td>B</td>\n",
       "    </tr>\n",
       "    <tr>\n",
       "      <th>7</th>\n",
       "      <td>C</td>\n",
       "      <td>C</td>\n",
       "    </tr>\n",
       "    <tr>\n",
       "      <th>8</th>\n",
       "      <td>C</td>\n",
       "      <td>C</td>\n",
       "    </tr>\n",
       "    <tr>\n",
       "      <th>9</th>\n",
       "      <td>C</td>\n",
       "      <td>C</td>\n",
       "    </tr>\n",
       "  </tbody>\n",
       "</table>\n",
       "</div>"
      ],
      "text/plain": [
       "  total_income_category total_income_category1\n",
       "0                     B                      B\n",
       "1                     C                      C\n",
       "2                     C                      C\n",
       "3                     B                      B\n",
       "4                     C                      C\n",
       "5                     B                      B\n",
       "6                     B                      B\n",
       "7                     C                      C\n",
       "8                     C                      C\n",
       "9                     C                      C"
      ]
     },
     "execution_count": 92,
     "metadata": {},
     "output_type": "execute_result"
    }
   ],
   "source": [
    "# Выводим \"total_income_category\" и \"total_income_category1\" (первые 10 строк).\n",
    "\n",
    "data[['total_income_category','total_income_category1']].head(10)"
   ]
  },
  {
   "cell_type": "markdown",
   "id": "f120e45d",
   "metadata": {},
   "source": [
    "Проверим, есть ли несовпадения категорий в каких-либо местах."
   ]
  },
  {
   "cell_type": "code",
   "execution_count": 93,
   "id": "ec8fc701",
   "metadata": {},
   "outputs": [
    {
     "name": "stdout",
     "output_type": "stream",
     "text": [
      "Количество несовпадений равно 0\n"
     ]
    }
   ],
   "source": [
    "# Находим количество несовпадений между столбцами. При условии правильного прохождения по коду оно должно равняться нулю. \n",
    "\n",
    "non_match = data[data['total_income_category'] != data['total_income_category1']\n",
    "                ]['total_income_category'].count()\n",
    "print('Количество несовпадений равно', non_match)"
   ]
  },
  {
   "cell_type": "markdown",
   "id": "72126227",
   "metadata": {},
   "source": [
    "Можем удалить лишний столбец."
   ]
  },
  {
   "cell_type": "code",
   "execution_count": 94,
   "id": "c8cb8d9a",
   "metadata": {},
   "outputs": [],
   "source": [
    "# Удаляем столбец \"total_income_category1\".\n",
    "\n",
    "data = data.drop('total_income_category1', axis=1)"
   ]
  },
  {
   "cell_type": "markdown",
   "id": "bdb7ef47",
   "metadata": {},
   "source": [
    "Просмотрим таблицу еще раз."
   ]
  },
  {
   "cell_type": "code",
   "execution_count": 95,
   "id": "db6abbb2",
   "metadata": {},
   "outputs": [
    {
     "data": {
      "text/html": [
       "<div>\n",
       "<style scoped>\n",
       "    .dataframe tbody tr th:only-of-type {\n",
       "        vertical-align: middle;\n",
       "    }\n",
       "\n",
       "    .dataframe tbody tr th {\n",
       "        vertical-align: top;\n",
       "    }\n",
       "\n",
       "    .dataframe thead th {\n",
       "        text-align: right;\n",
       "    }\n",
       "</style>\n",
       "<table border=\"1\" class=\"dataframe\">\n",
       "  <thead>\n",
       "    <tr style=\"text-align: right;\">\n",
       "      <th></th>\n",
       "      <th>children</th>\n",
       "      <th>days_employed</th>\n",
       "      <th>dob_years</th>\n",
       "      <th>education_id</th>\n",
       "      <th>family_status_id</th>\n",
       "      <th>gender</th>\n",
       "      <th>income_type</th>\n",
       "      <th>debt</th>\n",
       "      <th>total_income</th>\n",
       "      <th>total_income_category</th>\n",
       "      <th>purpose</th>\n",
       "    </tr>\n",
       "  </thead>\n",
       "  <tbody>\n",
       "    <tr>\n",
       "      <th>0</th>\n",
       "      <td>1</td>\n",
       "      <td>8437</td>\n",
       "      <td>42</td>\n",
       "      <td>0</td>\n",
       "      <td>0</td>\n",
       "      <td>Ж</td>\n",
       "      <td>сотрудник</td>\n",
       "      <td>0</td>\n",
       "      <td>253875</td>\n",
       "      <td>B</td>\n",
       "      <td>покупка жилья</td>\n",
       "    </tr>\n",
       "    <tr>\n",
       "      <th>1</th>\n",
       "      <td>1</td>\n",
       "      <td>4024</td>\n",
       "      <td>36</td>\n",
       "      <td>1</td>\n",
       "      <td>0</td>\n",
       "      <td>Ж</td>\n",
       "      <td>сотрудник</td>\n",
       "      <td>0</td>\n",
       "      <td>112080</td>\n",
       "      <td>C</td>\n",
       "      <td>приобретение автомобиля</td>\n",
       "    </tr>\n",
       "    <tr>\n",
       "      <th>2</th>\n",
       "      <td>0</td>\n",
       "      <td>5475</td>\n",
       "      <td>33</td>\n",
       "      <td>1</td>\n",
       "      <td>0</td>\n",
       "      <td>М</td>\n",
       "      <td>сотрудник</td>\n",
       "      <td>0</td>\n",
       "      <td>145885</td>\n",
       "      <td>C</td>\n",
       "      <td>покупка жилья</td>\n",
       "    </tr>\n",
       "    <tr>\n",
       "      <th>3</th>\n",
       "      <td>3</td>\n",
       "      <td>4124</td>\n",
       "      <td>32</td>\n",
       "      <td>1</td>\n",
       "      <td>0</td>\n",
       "      <td>М</td>\n",
       "      <td>сотрудник</td>\n",
       "      <td>0</td>\n",
       "      <td>267628</td>\n",
       "      <td>B</td>\n",
       "      <td>дополнительное образование</td>\n",
       "    </tr>\n",
       "    <tr>\n",
       "      <th>4</th>\n",
       "      <td>0</td>\n",
       "      <td>12775</td>\n",
       "      <td>53</td>\n",
       "      <td>1</td>\n",
       "      <td>1</td>\n",
       "      <td>Ж</td>\n",
       "      <td>пенсионер</td>\n",
       "      <td>0</td>\n",
       "      <td>158616</td>\n",
       "      <td>C</td>\n",
       "      <td>сыграть свадьбу</td>\n",
       "    </tr>\n",
       "  </tbody>\n",
       "</table>\n",
       "</div>"
      ],
      "text/plain": [
       "   children  days_employed  dob_years  education_id  family_status_id gender  \\\n",
       "0         1           8437         42             0                 0      Ж   \n",
       "1         1           4024         36             1                 0      Ж   \n",
       "2         0           5475         33             1                 0      М   \n",
       "3         3           4124         32             1                 0      М   \n",
       "4         0          12775         53             1                 1      Ж   \n",
       "\n",
       "  income_type  debt  total_income total_income_category  \\\n",
       "0   сотрудник     0        253875                     B   \n",
       "1   сотрудник     0        112080                     C   \n",
       "2   сотрудник     0        145885                     C   \n",
       "3   сотрудник     0        267628                     B   \n",
       "4   пенсионер     0        158616                     C   \n",
       "\n",
       "                      purpose  \n",
       "0               покупка жилья  \n",
       "1     приобретение автомобиля  \n",
       "2               покупка жилья  \n",
       "3  дополнительное образование  \n",
       "4             сыграть свадьбу  "
      ]
     },
     "execution_count": 95,
     "metadata": {},
     "output_type": "execute_result"
    }
   ],
   "source": [
    "# Первые 5 строк обновленного датафрейма\n",
    "\n",
    "data.head()"
   ]
  },
  {
   "cell_type": "markdown",
   "id": "ce0d9e0e",
   "metadata": {},
   "source": [
    "Категоризация дохода выполнена верно."
   ]
  },
  {
   "cell_type": "markdown",
   "id": "6f8abf02",
   "metadata": {},
   "source": [
    "### Категоризация целей кредита"
   ]
  },
  {
   "cell_type": "markdown",
   "id": "8b03dbc9",
   "metadata": {},
   "source": [
    "Создадим функцию, которая на основании данных из столбца \"purpose\" сформирует новый столбец \"purpose_category\", в который войдут выявленные категории целей."
   ]
  },
  {
   "cell_type": "markdown",
   "id": "fb2b4f20",
   "metadata": {},
   "source": [
    "Перед этим определим сами категории на основании уникальных значений целей."
   ]
  },
  {
   "cell_type": "code",
   "execution_count": 96,
   "id": "ad7d834e",
   "metadata": {},
   "outputs": [
    {
     "data": {
      "text/plain": [
       "array(['покупка жилья', 'приобретение автомобиля',\n",
       "       'дополнительное образование', 'сыграть свадьбу',\n",
       "       'операции с жильем', 'образование', 'на проведение свадьбы',\n",
       "       'покупка жилья для семьи', 'покупка недвижимости',\n",
       "       'покупка коммерческой недвижимости', 'покупка жилой недвижимости',\n",
       "       'строительство собственной недвижимости', 'недвижимость',\n",
       "       'строительство недвижимости', 'на покупку подержанного автомобиля',\n",
       "       'на покупку своего автомобиля',\n",
       "       'операции с коммерческой недвижимостью',\n",
       "       'строительство жилой недвижимости', 'жилье',\n",
       "       'операции со своей недвижимостью', 'автомобили',\n",
       "       'заняться образованием', 'сделка с подержанным автомобилем',\n",
       "       'получение образования', 'автомобиль', 'свадьба',\n",
       "       'получение дополнительного образования', 'покупка своего жилья',\n",
       "       'операции с недвижимостью', 'получение высшего образования',\n",
       "       'свой автомобиль', 'сделка с автомобилем',\n",
       "       'профильное образование', 'высшее образование',\n",
       "       'покупка жилья для сдачи', 'на покупку автомобиля', 'ремонт жилью',\n",
       "       'заняться высшим образованием'], dtype=object)"
      ]
     },
     "execution_count": 96,
     "metadata": {},
     "output_type": "execute_result"
    }
   ],
   "source": [
    "# Выводим список уникальных значений в столбце \"purpose\".\n",
    "\n",
    "data['purpose'].unique()"
   ]
  },
  {
   "cell_type": "markdown",
   "id": "a329d181",
   "metadata": {},
   "source": [
    "Уникальных категорий всего получается 4. Назовем их следующим образом:\n",
    "\n",
    "`\"операции с автомобилем\"` - все, что содержит слово \"автомобиль\",\n",
    "\n",
    "`\"операции с недвижимостью\"` - ... слова \"недвижимость\" и \"жилье\",\n",
    "\n",
    "`\"проведение свадьбы\"` - ... слово \"свадьба\",\n",
    "\n",
    "`\"получение образования\"` - ... слово \"образование\"."
   ]
  },
  {
   "cell_type": "markdown",
   "id": "e46bd7e1",
   "metadata": {},
   "source": [
    "Указанные слова содержатся в разных формах, что необходимо учесть при поиске."
   ]
  },
  {
   "cell_type": "markdown",
   "id": "026aa200",
   "metadata": {},
   "source": [
    "Для работы функции создадим словарь соответствий."
   ]
  },
  {
   "cell_type": "code",
   "execution_count": 97,
   "id": "8b73e84f",
   "metadata": {},
   "outputs": [],
   "source": [
    "# Создаем словарь с подстрокой в качестве ключей и названием категории в качестве элементов.\n",
    "\n",
    "purposes = {'автомобил':'операции с автомобилем', \n",
    "         'недвижимост':'операции с недвижимостью',\n",
    "         'жиль':'операции с недвижимостью',\n",
    "         'свадьб':'проведение свадьбы', \n",
    "         'образовани':'получение образования'\n",
    "        }"
   ]
  },
  {
   "cell_type": "markdown",
   "id": "256d4bce",
   "metadata": {},
   "source": [
    "Напишем функцию для подбора соответствующих элементов из словаря."
   ]
  },
  {
   "cell_type": "code",
   "execution_count": 98,
   "id": "78afd9b5",
   "metadata": {},
   "outputs": [],
   "source": [
    "# Функция, которая возвращает значение элемента из словаря \"purposes\", \n",
    "# если находит в строке подстроку (сочетание букв ключа).\n",
    "\n",
    "def matcher(text):\n",
    "    for key in purposes:\n",
    "        if text.find(key) >= 0:\n",
    "            return purposes[key]"
   ]
  },
  {
   "cell_type": "markdown",
   "id": "bf9ae114",
   "metadata": {},
   "source": [
    "Создадим в датафрейме новый столбец \"purpose_category\" и заполним его данными с помощью функции matcher() и метода .apply()."
   ]
  },
  {
   "cell_type": "code",
   "execution_count": 99,
   "id": "45415676",
   "metadata": {},
   "outputs": [],
   "source": [
    "# Добавляем в датафрейм столбец \"purpose_category\" и заполняем данными о категориях целей кредита.\n",
    "\n",
    "data['purpose_category'] = data['purpose'].apply(matcher)"
   ]
  },
  {
   "cell_type": "markdown",
   "id": "b69ae9c4",
   "metadata": {},
   "source": [
    "Проверим полученные уникальные значения."
   ]
  },
  {
   "cell_type": "code",
   "execution_count": 100,
   "id": "e7ea4812",
   "metadata": {},
   "outputs": [
    {
     "data": {
      "text/plain": [
       "операции с недвижимостью    10789\n",
       "операции с автомобилем       4297\n",
       "получение образования        4004\n",
       "проведение свадьбы           2333\n",
       "Name: purpose_category, dtype: int64"
      ]
     },
     "metadata": {},
     "output_type": "display_data"
    }
   ],
   "source": [
    "# Проверяем полученные уникальные значения в столбце \"purpose_category\".\n",
    "\n",
    "display(data['purpose_category'].value_counts())"
   ]
  },
  {
   "cell_type": "markdown",
   "id": "11eefc81",
   "metadata": {},
   "source": [
    "Убедимся, что пустых ячеек в таблице не осталось."
   ]
  },
  {
   "cell_type": "code",
   "execution_count": 101,
   "id": "e2cd5e9d",
   "metadata": {},
   "outputs": [
    {
     "name": "stdout",
     "output_type": "stream",
     "text": [
      "<class 'pandas.core.frame.DataFrame'>\n",
      "RangeIndex: 21423 entries, 0 to 21422\n",
      "Data columns (total 12 columns):\n",
      " #   Column                 Non-Null Count  Dtype \n",
      "---  ------                 --------------  ----- \n",
      " 0   children               21423 non-null  int64 \n",
      " 1   days_employed          21423 non-null  int32 \n",
      " 2   dob_years              21423 non-null  int64 \n",
      " 3   education_id           21423 non-null  int64 \n",
      " 4   family_status_id       21423 non-null  int64 \n",
      " 5   gender                 21423 non-null  object\n",
      " 6   income_type            21423 non-null  object\n",
      " 7   debt                   21423 non-null  int64 \n",
      " 8   total_income           21423 non-null  int32 \n",
      " 9   total_income_category  21423 non-null  object\n",
      " 10  purpose                21423 non-null  object\n",
      " 11  purpose_category       21423 non-null  object\n",
      "dtypes: int32(2), int64(5), object(5)\n",
      "memory usage: 1.8+ MB\n"
     ]
    }
   ],
   "source": [
    "# Выводим информацию о датафрейме.\n",
    "\n",
    "data.info()"
   ]
  },
  {
   "cell_type": "markdown",
   "id": "52aaa7a9",
   "metadata": {},
   "source": [
    "Просмотрим таблицу."
   ]
  },
  {
   "cell_type": "code",
   "execution_count": 102,
   "id": "acf567de",
   "metadata": {},
   "outputs": [
    {
     "data": {
      "text/html": [
       "<div>\n",
       "<style scoped>\n",
       "    .dataframe tbody tr th:only-of-type {\n",
       "        vertical-align: middle;\n",
       "    }\n",
       "\n",
       "    .dataframe tbody tr th {\n",
       "        vertical-align: top;\n",
       "    }\n",
       "\n",
       "    .dataframe thead th {\n",
       "        text-align: right;\n",
       "    }\n",
       "</style>\n",
       "<table border=\"1\" class=\"dataframe\">\n",
       "  <thead>\n",
       "    <tr style=\"text-align: right;\">\n",
       "      <th></th>\n",
       "      <th>children</th>\n",
       "      <th>days_employed</th>\n",
       "      <th>dob_years</th>\n",
       "      <th>education_id</th>\n",
       "      <th>family_status_id</th>\n",
       "      <th>gender</th>\n",
       "      <th>income_type</th>\n",
       "      <th>debt</th>\n",
       "      <th>total_income</th>\n",
       "      <th>total_income_category</th>\n",
       "      <th>purpose</th>\n",
       "      <th>purpose_category</th>\n",
       "    </tr>\n",
       "  </thead>\n",
       "  <tbody>\n",
       "    <tr>\n",
       "      <th>0</th>\n",
       "      <td>1</td>\n",
       "      <td>8437</td>\n",
       "      <td>42</td>\n",
       "      <td>0</td>\n",
       "      <td>0</td>\n",
       "      <td>Ж</td>\n",
       "      <td>сотрудник</td>\n",
       "      <td>0</td>\n",
       "      <td>253875</td>\n",
       "      <td>B</td>\n",
       "      <td>покупка жилья</td>\n",
       "      <td>операции с недвижимостью</td>\n",
       "    </tr>\n",
       "    <tr>\n",
       "      <th>1</th>\n",
       "      <td>1</td>\n",
       "      <td>4024</td>\n",
       "      <td>36</td>\n",
       "      <td>1</td>\n",
       "      <td>0</td>\n",
       "      <td>Ж</td>\n",
       "      <td>сотрудник</td>\n",
       "      <td>0</td>\n",
       "      <td>112080</td>\n",
       "      <td>C</td>\n",
       "      <td>приобретение автомобиля</td>\n",
       "      <td>операции с автомобилем</td>\n",
       "    </tr>\n",
       "    <tr>\n",
       "      <th>2</th>\n",
       "      <td>0</td>\n",
       "      <td>5475</td>\n",
       "      <td>33</td>\n",
       "      <td>1</td>\n",
       "      <td>0</td>\n",
       "      <td>М</td>\n",
       "      <td>сотрудник</td>\n",
       "      <td>0</td>\n",
       "      <td>145885</td>\n",
       "      <td>C</td>\n",
       "      <td>покупка жилья</td>\n",
       "      <td>операции с недвижимостью</td>\n",
       "    </tr>\n",
       "    <tr>\n",
       "      <th>3</th>\n",
       "      <td>3</td>\n",
       "      <td>4124</td>\n",
       "      <td>32</td>\n",
       "      <td>1</td>\n",
       "      <td>0</td>\n",
       "      <td>М</td>\n",
       "      <td>сотрудник</td>\n",
       "      <td>0</td>\n",
       "      <td>267628</td>\n",
       "      <td>B</td>\n",
       "      <td>дополнительное образование</td>\n",
       "      <td>получение образования</td>\n",
       "    </tr>\n",
       "    <tr>\n",
       "      <th>4</th>\n",
       "      <td>0</td>\n",
       "      <td>12775</td>\n",
       "      <td>53</td>\n",
       "      <td>1</td>\n",
       "      <td>1</td>\n",
       "      <td>Ж</td>\n",
       "      <td>пенсионер</td>\n",
       "      <td>0</td>\n",
       "      <td>158616</td>\n",
       "      <td>C</td>\n",
       "      <td>сыграть свадьбу</td>\n",
       "      <td>проведение свадьбы</td>\n",
       "    </tr>\n",
       "  </tbody>\n",
       "</table>\n",
       "</div>"
      ],
      "text/plain": [
       "   children  days_employed  dob_years  education_id  family_status_id gender  \\\n",
       "0         1           8437         42             0                 0      Ж   \n",
       "1         1           4024         36             1                 0      Ж   \n",
       "2         0           5475         33             1                 0      М   \n",
       "3         3           4124         32             1                 0      М   \n",
       "4         0          12775         53             1                 1      Ж   \n",
       "\n",
       "  income_type  debt  total_income total_income_category  \\\n",
       "0   сотрудник     0        253875                     B   \n",
       "1   сотрудник     0        112080                     C   \n",
       "2   сотрудник     0        145885                     C   \n",
       "3   сотрудник     0        267628                     B   \n",
       "4   пенсионер     0        158616                     C   \n",
       "\n",
       "                      purpose          purpose_category  \n",
       "0               покупка жилья  операции с недвижимостью  \n",
       "1     приобретение автомобиля    операции с автомобилем  \n",
       "2               покупка жилья  операции с недвижимостью  \n",
       "3  дополнительное образование     получение образования  \n",
       "4             сыграть свадьбу        проведение свадьбы  "
      ]
     },
     "execution_count": 102,
     "metadata": {},
     "output_type": "execute_result"
    }
   ],
   "source": [
    "# Выводим первые 5 строк датафрейма.\n",
    "\n",
    "data.head()"
   ]
  },
  {
   "cell_type": "markdown",
   "id": "176587b1",
   "metadata": {},
   "source": [
    "Категоризация целей кредита выполнена верно."
   ]
  },
  {
   "cell_type": "markdown",
   "id": "8bf1b2fa",
   "metadata": {},
   "source": [
    "## Ответы на вопросы"
   ]
  },
  {
   "cell_type": "markdown",
   "id": "c08bd882",
   "metadata": {},
   "source": [
    "### Вопрос 1"
   ]
  },
  {
   "cell_type": "markdown",
   "id": "8b3ff448",
   "metadata": {},
   "source": [
    "_Есть ли зависимость между количеством детей и возвратом кредита в срок?_"
   ]
  },
  {
   "cell_type": "markdown",
   "id": "3773cbb7",
   "metadata": {},
   "source": [
    "Вызовем еще раз данные по количеству проблемных заемщиков из столбца \"debt\"."
   ]
  },
  {
   "cell_type": "code",
   "execution_count": 103,
   "id": "96eb2b0a",
   "metadata": {},
   "outputs": [
    {
     "data": {
      "text/plain": [
       "0    19683\n",
       "1     1740\n",
       "Name: debt, dtype: int64"
      ]
     },
     "execution_count": 103,
     "metadata": {},
     "output_type": "execute_result"
    }
   ],
   "source": [
    "# Выводим уникальные значения ячеек в столбце \"debt\"\n",
    "\n",
    "data['debt'].value_counts()"
   ]
  },
  {
   "cell_type": "code",
   "execution_count": 104,
   "id": "3c3ee857",
   "metadata": {},
   "outputs": [
    {
     "name": "stdout",
     "output_type": "stream",
     "text": [
      "Как видим, 1740 человек из 21423 имели проблемы с возвратом кредита.\n"
     ]
    }
   ],
   "source": [
    "print(f\"Как видим, {data[data['debt'] == 1]['debt'].count()} \"\n",
    "      f\"человек из {data.shape[0]} имели проблемы с возвратом кредита.\")"
   ]
  },
  {
   "cell_type": "markdown",
   "id": "3838513b",
   "metadata": {},
   "source": [
    "Составим сводную таблицу по количеству детей. В качестве аргумента aggfunc возьмем среднее значение, т.к. именно доля проблемных заемщиков отразит реальную зависимость данных."
   ]
  },
  {
   "cell_type": "code",
   "execution_count": 105,
   "id": "ded30813",
   "metadata": {},
   "outputs": [
    {
     "data": {
      "text/html": [
       "<div>\n",
       "<style scoped>\n",
       "    .dataframe tbody tr th:only-of-type {\n",
       "        vertical-align: middle;\n",
       "    }\n",
       "\n",
       "    .dataframe tbody tr th {\n",
       "        vertical-align: top;\n",
       "    }\n",
       "\n",
       "    .dataframe thead th {\n",
       "        text-align: right;\n",
       "    }\n",
       "</style>\n",
       "<table border=\"1\" class=\"dataframe\">\n",
       "  <thead>\n",
       "    <tr style=\"text-align: right;\">\n",
       "      <th>children</th>\n",
       "      <th>0</th>\n",
       "      <th>1</th>\n",
       "      <th>2</th>\n",
       "      <th>3</th>\n",
       "      <th>4</th>\n",
       "      <th>5</th>\n",
       "    </tr>\n",
       "  </thead>\n",
       "  <tbody>\n",
       "    <tr>\n",
       "      <th>debt</th>\n",
       "      <td>0.075358</td>\n",
       "      <td>0.092327</td>\n",
       "      <td>0.094925</td>\n",
       "      <td>0.081818</td>\n",
       "      <td>0.097561</td>\n",
       "      <td>0.0</td>\n",
       "    </tr>\n",
       "  </tbody>\n",
       "</table>\n",
       "</div>"
      ],
      "text/plain": [
       "children         0         1         2         3         4    5\n",
       "debt      0.075358  0.092327  0.094925  0.081818  0.097561  0.0"
      ]
     },
     "execution_count": 105,
     "metadata": {},
     "output_type": "execute_result"
    }
   ],
   "source": [
    "# Выводим сводную таблицу по количеству детей с отображением долей проблемных заемщиков по каждой группе.\n",
    "\n",
    "data_pivot_children = data.pivot_table(index=None, columns='children', values='debt', aggfunc='mean')\n",
    "data_pivot_children"
   ]
  },
  {
   "cell_type": "markdown",
   "id": "cc0db744",
   "metadata": {},
   "source": [
    "Составим также таблицы с разделением заемщиков по полам. Одну - с долями проблемных заемщиков, вторую - с общим числом заемщиков. "
   ]
  },
  {
   "cell_type": "code",
   "execution_count": 106,
   "id": "a317632a",
   "metadata": {},
   "outputs": [
    {
     "data": {
      "text/html": [
       "<div>\n",
       "<style scoped>\n",
       "    .dataframe tbody tr th:only-of-type {\n",
       "        vertical-align: middle;\n",
       "    }\n",
       "\n",
       "    .dataframe tbody tr th {\n",
       "        vertical-align: top;\n",
       "    }\n",
       "\n",
       "    .dataframe thead th {\n",
       "        text-align: right;\n",
       "    }\n",
       "</style>\n",
       "<table border=\"1\" class=\"dataframe\">\n",
       "  <thead>\n",
       "    <tr style=\"text-align: right;\">\n",
       "      <th>children</th>\n",
       "      <th>0</th>\n",
       "      <th>1</th>\n",
       "      <th>2</th>\n",
       "      <th>3</th>\n",
       "      <th>4</th>\n",
       "      <th>5</th>\n",
       "    </tr>\n",
       "    <tr>\n",
       "      <th>gender</th>\n",
       "      <th></th>\n",
       "      <th></th>\n",
       "      <th></th>\n",
       "      <th></th>\n",
       "      <th></th>\n",
       "      <th></th>\n",
       "    </tr>\n",
       "  </thead>\n",
       "  <tbody>\n",
       "    <tr>\n",
       "      <th>Ж</th>\n",
       "      <td>0.062094</td>\n",
       "      <td>0.079391</td>\n",
       "      <td>0.105909</td>\n",
       "      <td>0.086735</td>\n",
       "      <td>0.035714</td>\n",
       "      <td>0.0</td>\n",
       "    </tr>\n",
       "    <tr>\n",
       "      <th>М</th>\n",
       "      <td>0.103018</td>\n",
       "      <td>0.115496</td>\n",
       "      <td>0.077576</td>\n",
       "      <td>0.074627</td>\n",
       "      <td>0.230769</td>\n",
       "      <td>0.0</td>\n",
       "    </tr>\n",
       "  </tbody>\n",
       "</table>\n",
       "</div>"
      ],
      "text/plain": [
       "children         0         1         2         3         4    5\n",
       "gender                                                         \n",
       "Ж         0.062094  0.079391  0.105909  0.086735  0.035714  0.0\n",
       "М         0.103018  0.115496  0.077576  0.074627  0.230769  0.0"
      ]
     },
     "metadata": {},
     "output_type": "display_data"
    },
    {
     "data": {
      "text/html": [
       "<div>\n",
       "<style scoped>\n",
       "    .dataframe tbody tr th:only-of-type {\n",
       "        vertical-align: middle;\n",
       "    }\n",
       "\n",
       "    .dataframe tbody tr th {\n",
       "        vertical-align: top;\n",
       "    }\n",
       "\n",
       "    .dataframe thead th {\n",
       "        text-align: right;\n",
       "    }\n",
       "</style>\n",
       "<table border=\"1\" class=\"dataframe\">\n",
       "  <thead>\n",
       "    <tr style=\"text-align: right;\">\n",
       "      <th>children</th>\n",
       "      <th>0</th>\n",
       "      <th>1</th>\n",
       "      <th>2</th>\n",
       "      <th>3</th>\n",
       "      <th>4</th>\n",
       "      <th>5</th>\n",
       "    </tr>\n",
       "    <tr>\n",
       "      <th>gender</th>\n",
       "      <th></th>\n",
       "      <th></th>\n",
       "      <th></th>\n",
       "      <th></th>\n",
       "      <th></th>\n",
       "      <th></th>\n",
       "    </tr>\n",
       "  </thead>\n",
       "  <tbody>\n",
       "    <tr>\n",
       "      <th>Ж</th>\n",
       "      <td>9534</td>\n",
       "      <td>3086</td>\n",
       "      <td>1303</td>\n",
       "      <td>196</td>\n",
       "      <td>28</td>\n",
       "      <td>7</td>\n",
       "    </tr>\n",
       "    <tr>\n",
       "      <th>М</th>\n",
       "      <td>4572</td>\n",
       "      <td>1723</td>\n",
       "      <td>825</td>\n",
       "      <td>134</td>\n",
       "      <td>13</td>\n",
       "      <td>2</td>\n",
       "    </tr>\n",
       "  </tbody>\n",
       "</table>\n",
       "</div>"
      ],
      "text/plain": [
       "children     0     1     2    3   4  5\n",
       "gender                                \n",
       "Ж         9534  3086  1303  196  28  7\n",
       "М         4572  1723   825  134  13  2"
      ]
     },
     "execution_count": 106,
     "metadata": {},
     "output_type": "execute_result"
    }
   ],
   "source": [
    "# Выводим сводную таблицу по полу и по количеству детей с отображением долей проблемных заемщиков по каждой группе.\n",
    "# Выводим сводную таблицу по полу и по количеству детей с отображением количества заемщиков по каждой группе.\n",
    "\n",
    "dp_children_gender = data.pivot_table(index='gender', \n",
    "                                      columns='children', \n",
    "                                      values='debt', \n",
    "                                      aggfunc='mean'\n",
    "                                     )\n",
    "display(dp_children_gender)\n",
    "\n",
    "dp_children_gender_count = data.pivot_table(index='gender', \n",
    "                                            columns='children', \n",
    "                                            values='debt', \n",
    "                                            aggfunc='count'\n",
    "                                           )\n",
    "dp_children_gender_count"
   ]
  },
  {
   "cell_type": "markdown",
   "id": "d8d493b1",
   "metadata": {},
   "source": [
    "__Выводы:__"
   ]
  },
  {
   "cell_type": "markdown",
   "id": "a1cc6bce",
   "metadata": {},
   "source": [
    "1. Из таблиц явствует, что доля заемщиков с просроченными платежами по кредитам по варьируется от 7.5% до 9.8%.\n",
    "\n",
    "\n",
    "- Меньше всех подвержены риску неплатежей заемщики без детей.\n",
    "\n",
    "\n",
    "- После первого ребенка нагрузка на бюджет резко возрастает.\n",
    "\n",
    "\n",
    "- Со вторым эта нагрузка чуть больше, но незначительно. Вероятно, сказывается господдержка.\n",
    "\n",
    "\n",
    "- После третьего ребенка показатель снижается. Возможно, влияют дополнительные меры помощи от государства, а также родственников.\n",
    "\n",
    "\n",
    "- С четверым ребенком нагрузка опять сильно возрастает.\n",
    "\n",
    "\n",
    "- У заемщиков с пятью детьми просрочек нет. Но их самих тоже немного (всего 9 человек во всей базе), поэтому выводы делать трудно."
   ]
  },
  {
   "cell_type": "markdown",
   "id": "2cbee83d",
   "metadata": {},
   "source": [
    "2. Из второй таблицы можно вынести более интересную информацию. В частности, что доля просрочек среди мужчин сильно отличается от аналогичного показателя у женщин.\n",
    "\n",
    "\n",
    "- У женщин без детей кредитная дисциплина гораздо выше, чем у мужчин (6,2% просрочек против 10,3%). Необремененные семейными обязательствами мужчины более склонны к тратам и менее ответственны.\n",
    "\n",
    "\n",
    "- У женщин с одним ребенком примерно такая же ситуация (7,9% против 11,5%). В целом у обоих проблем с кредитами чуть больше.\n",
    "\n",
    "\n",
    "- После второго ребенка ситуация меняется. Очевидно, у женщин с двумя детьми становятся меньше возможностей зарабатывать, при этом расходы на детей удваиваются.\n",
    "\n",
    "\n",
    "- С тремя детьми показатели немного выравниваются. У мужчин с двумя и тремя детьми показатель почти одинаков (7,8% и 7,5%, соответственно).\n",
    "\n",
    "\n",
    "- А вот у заемщиков с четырьмя детьми происходит значительный перекос по половому признаку: многодетные отцы допускают просрочки в 23.1% случаев. При том, что у женщин с аналогичным положением он снижается до 3,6%. Если с двумя и тремя детьми материальное положение семей более-менее устойчивое, учитывая относительно умеренные расходы, а также меры поддержки, то дальше становится гораздо тяжелее. И все ложится на плечи основного кормильца семьи, т.е. чаще всего мужчины. Низкий показатель проблемной задолженности у многодетных матерей можно объяснить тем, что банки в принципе редко выдают кредиты таким категориям, а кому дают - тщательно проверяют платежеспособность. Учитывая, что такая заемщица только одна (28 х 0,036 = 1), ее показатель не должен влиять на решения кредитной организации."
   ]
  },
  {
   "cell_type": "markdown",
   "id": "73c2b8a9",
   "metadata": {},
   "source": [
    "Итог:\n",
    "\n",
    "В целом нужно отметить, что среди женщин самыми худшими заемщиками являются те, у кого двое детей. \n",
    "А наиболее ответственные - это женщины еще не имеющие детей (или у кого уже дети повзрослели), и чуть менее - женщины с одним ребенком. Поскольку в последних двух подкатегориях более 12,5 тысяч человек (половина всей клиентской базы), можно сделать вывод, что в этой части система оценки кредитоспособности заемщика работает оптимально.\n",
    "\n",
    "\n",
    "Среди мужчин ситуация обратная. Если не брать в расчет все тех же многодетных с четырьмя детьми, самые худшие заемщики - это мужчины с одним ребенком и бездетные. Самые ответственные - отцы троих и двоих детей.\n",
    "\n",
    "Причина, на мой взгляд, в том, что женщины в целом более ответственные, но чем меньше у них забот о содержании детей, тем им легче справляться с этой ответственностью. Мужчины же изначально больше склонны к риску и тратам, но с появлением ребенка, а тем более второго-третьего, чувство ответственности за семью у них возрастает."
   ]
  },
  {
   "cell_type": "markdown",
   "id": "ebddda21",
   "metadata": {},
   "source": [
    "### Вопрос 2"
   ]
  },
  {
   "cell_type": "markdown",
   "id": "87cf5197",
   "metadata": {},
   "source": [
    "_Есть ли зависимость между семейным положением и возвратом кредита в срок?_"
   ]
  },
  {
   "cell_type": "markdown",
   "id": "3276a248",
   "metadata": {},
   "source": [
    "Ввиду явного отличия между ситуациями с проблемной задолженностью у мужчин и женщин, далее их показатели будем рассматривать отдельно."
   ]
  },
  {
   "cell_type": "markdown",
   "id": "1e08ffe1",
   "metadata": {},
   "source": [
    "Составим сводные таблицы по семейному положению (с долями и общим количеством). \n",
    "Для удобства также выведем на экран датафрейм-словарь \"family_status\"."
   ]
  },
  {
   "cell_type": "code",
   "execution_count": 107,
   "id": "6a168c30",
   "metadata": {},
   "outputs": [
    {
     "data": {
      "text/html": [
       "<div>\n",
       "<style scoped>\n",
       "    .dataframe tbody tr th:only-of-type {\n",
       "        vertical-align: middle;\n",
       "    }\n",
       "\n",
       "    .dataframe tbody tr th {\n",
       "        vertical-align: top;\n",
       "    }\n",
       "\n",
       "    .dataframe thead th {\n",
       "        text-align: right;\n",
       "    }\n",
       "</style>\n",
       "<table border=\"1\" class=\"dataframe\">\n",
       "  <thead>\n",
       "    <tr style=\"text-align: right;\">\n",
       "      <th>gender</th>\n",
       "      <th>Ж</th>\n",
       "      <th>М</th>\n",
       "    </tr>\n",
       "    <tr>\n",
       "      <th>family_status_id</th>\n",
       "      <th></th>\n",
       "      <th></th>\n",
       "    </tr>\n",
       "  </thead>\n",
       "  <tbody>\n",
       "    <tr>\n",
       "      <th>0</th>\n",
       "      <td>0.068311</td>\n",
       "      <td>0.087727</td>\n",
       "    </tr>\n",
       "    <tr>\n",
       "      <th>1</th>\n",
       "      <td>0.081726</td>\n",
       "      <td>0.118683</td>\n",
       "    </tr>\n",
       "    <tr>\n",
       "      <th>2</th>\n",
       "      <td>0.057778</td>\n",
       "      <td>0.200000</td>\n",
       "    </tr>\n",
       "    <tr>\n",
       "      <th>3</th>\n",
       "      <td>0.065451</td>\n",
       "      <td>0.092664</td>\n",
       "    </tr>\n",
       "    <tr>\n",
       "      <th>4</th>\n",
       "      <td>0.068327</td>\n",
       "      <td>0.144712</td>\n",
       "    </tr>\n",
       "  </tbody>\n",
       "</table>\n",
       "</div>"
      ],
      "text/plain": [
       "gender                   Ж         М\n",
       "family_status_id                    \n",
       "0                 0.068311  0.087727\n",
       "1                 0.081726  0.118683\n",
       "2                 0.057778  0.200000\n",
       "3                 0.065451  0.092664\n",
       "4                 0.068327  0.144712"
      ]
     },
     "metadata": {},
     "output_type": "display_data"
    },
    {
     "data": {
      "text/html": [
       "<div>\n",
       "<style scoped>\n",
       "    .dataframe tbody tr th:only-of-type {\n",
       "        vertical-align: middle;\n",
       "    }\n",
       "\n",
       "    .dataframe tbody tr th {\n",
       "        vertical-align: top;\n",
       "    }\n",
       "\n",
       "    .dataframe thead th {\n",
       "        text-align: right;\n",
       "    }\n",
       "</style>\n",
       "<table border=\"1\" class=\"dataframe\">\n",
       "  <thead>\n",
       "    <tr style=\"text-align: right;\">\n",
       "      <th>gender</th>\n",
       "      <th>Ж</th>\n",
       "      <th>М</th>\n",
       "    </tr>\n",
       "    <tr>\n",
       "      <th>family_status_id</th>\n",
       "      <th></th>\n",
       "      <th></th>\n",
       "    </tr>\n",
       "  </thead>\n",
       "  <tbody>\n",
       "    <tr>\n",
       "      <th>0</th>\n",
       "      <td>7744</td>\n",
       "      <td>4571</td>\n",
       "    </tr>\n",
       "    <tr>\n",
       "      <th>1</th>\n",
       "      <td>2851</td>\n",
       "      <td>1306</td>\n",
       "    </tr>\n",
       "    <tr>\n",
       "      <th>2</th>\n",
       "      <td>900</td>\n",
       "      <td>55</td>\n",
       "    </tr>\n",
       "    <tr>\n",
       "      <th>3</th>\n",
       "      <td>932</td>\n",
       "      <td>259</td>\n",
       "    </tr>\n",
       "    <tr>\n",
       "      <th>4</th>\n",
       "      <td>1727</td>\n",
       "      <td>1078</td>\n",
       "    </tr>\n",
       "  </tbody>\n",
       "</table>\n",
       "</div>"
      ],
      "text/plain": [
       "gender               Ж     М\n",
       "family_status_id            \n",
       "0                 7744  4571\n",
       "1                 2851  1306\n",
       "2                  900    55\n",
       "3                  932   259\n",
       "4                 1727  1078"
      ]
     },
     "metadata": {},
     "output_type": "display_data"
    },
    {
     "data": {
      "text/html": [
       "<div>\n",
       "<style scoped>\n",
       "    .dataframe tbody tr th:only-of-type {\n",
       "        vertical-align: middle;\n",
       "    }\n",
       "\n",
       "    .dataframe tbody tr th {\n",
       "        vertical-align: top;\n",
       "    }\n",
       "\n",
       "    .dataframe thead th {\n",
       "        text-align: right;\n",
       "    }\n",
       "</style>\n",
       "<table border=\"1\" class=\"dataframe\">\n",
       "  <thead>\n",
       "    <tr style=\"text-align: right;\">\n",
       "      <th></th>\n",
       "      <th>family_status</th>\n",
       "    </tr>\n",
       "    <tr>\n",
       "      <th>family_status_id</th>\n",
       "      <th></th>\n",
       "    </tr>\n",
       "  </thead>\n",
       "  <tbody>\n",
       "    <tr>\n",
       "      <th>0</th>\n",
       "      <td>женат / замужем</td>\n",
       "    </tr>\n",
       "    <tr>\n",
       "      <th>1</th>\n",
       "      <td>гражданский брак</td>\n",
       "    </tr>\n",
       "    <tr>\n",
       "      <th>2</th>\n",
       "      <td>вдовец / вдова</td>\n",
       "    </tr>\n",
       "    <tr>\n",
       "      <th>3</th>\n",
       "      <td>в разводе</td>\n",
       "    </tr>\n",
       "    <tr>\n",
       "      <th>4</th>\n",
       "      <td>холост / не замужем</td>\n",
       "    </tr>\n",
       "  </tbody>\n",
       "</table>\n",
       "</div>"
      ],
      "text/plain": [
       "                        family_status\n",
       "family_status_id                     \n",
       "0                     женат / замужем\n",
       "1                    гражданский брак\n",
       "2                      вдовец / вдова\n",
       "3                           в разводе\n",
       "4                 холост / не замужем"
      ]
     },
     "execution_count": 107,
     "metadata": {},
     "output_type": "execute_result"
    }
   ],
   "source": [
    "# Выводим сводную таблицу по полу и по семейному положению с отображением долей проблемных заемщиков по каждой группе.\n",
    "# Выводим сводную таблицу по полу и по семейному положению с отображением количества заемщиков по каждой группе.\n",
    "# Выводим датафрейм-словарь family_status.\n",
    "\n",
    "dp_family_status_gender = data.pivot_table(index='family_status_id', \n",
    "                                           columns='gender', \n",
    "                                           values='debt', \n",
    "                                           aggfunc='mean'\n",
    "                                          )\n",
    "display(dp_family_status_gender)\n",
    "\n",
    "dp_family_status_gender_count = data.pivot_table(index='family_status_id', \n",
    "                                                 columns='gender', \n",
    "                                                 values='debt', \n",
    "                                                 aggfunc='count'\n",
    "                                                )\n",
    "display(dp_family_status_gender_count)\n",
    "\n",
    "family_status"
   ]
  },
  {
   "cell_type": "markdown",
   "id": "4981687c",
   "metadata": {},
   "source": [
    " __Выводы:__"
   ]
  },
  {
   "cell_type": "markdown",
   "id": "9d416117",
   "metadata": {},
   "source": [
    "1. Заемщики-женщины.\n",
    "\n",
    "\n",
    "- Как видно из таблицы, среди женщин наименее склонны к просрочкам вдовы (5,8%). Обычно женщины, оказавшиеся без кормильца, больше беспокоятся за финансовую безопасность свою и детей. В целом они стараются поскорее погасить все кредитные обязательства. Или же это пожилые женщины, которые в целом более склонны к порядку и менее - к риску.\n",
    "\n",
    "\n",
    "- Далее идут разведенные женщины (6,5%). Они тоже не чувствуют себя в безопасности, но тратят они чуть больше. Соответственно, на выплату кредитов остается меньше.\n",
    "\n",
    "\n",
    "- Замужние женщины хоть и гораздо меньше вдов и разведенных беспокоятся об экономии в расходах, однако они не тянут в одиночку груз. Им в этом помогают мужья. Поэтому их показатель неплатежей не сильно выше - около 6,8%.\n",
    "\n",
    "\n",
    "- На том же уровне показатель незамужних женщин. Они столько не тратят, но и доход их обычно меньше.\n",
    "\n",
    "\n",
    "- Наименее ответственны по кредитным обязательствам женщины, состоящие в незарегистрированных отношениях (8,2%). Доходы у них примерно как у незамужних, возможно чуть больше. Однако траты у них чаще всего как у замужних, и не рассчитаны на возможные разрывы отношений и ухудшение финансового положения."
   ]
  },
  {
   "cell_type": "markdown",
   "id": "c616f2b9",
   "metadata": {},
   "source": [
    "2. Заемщики-мужчины.\n",
    "\n",
    "- Среди мужчин самый низкий показатель несвоевременных платежей у женатых мужчин (8,8%). Хотя он все равно выше, чем самый высокий у женщин. Как уже было сказано, с созданием семьи мужчины обычно становятся более ответственными.\n",
    "\n",
    "\n",
    "- За ними следуют мужчины в разводе (9,3%). Чаще всего, если у такого мужчины есть дети, он не перестает быть ответственным. Если же он бездетный, по крайней мере с разводом его расходы уменьшаются и остается больше средств на погашение кредитов.\n",
    "\n",
    "\n",
    "- У мужчин, находящися в гражданском браке уровень просрочек выше - 11,9%. Чаще всего в этом случае детей у них нет, а значит склонность к необоснованным расходам выше.\n",
    "\n",
    "\n",
    "- Гораздо выше этот показатель у холостых мужчин - 14,5%. Холостой практический всегда бездетный. Соответственно, не обременненный заботами о семье и склонный к неоправданным и необдуманным тратам.\n",
    "\n",
    "\n",
    "- Необычно высокий показатель оказался у вдовцов - 20%. Вдовцы в целом - явление редкое. Чаще всего вдовеют в результате неизлечимой болезни супруги. И обычно, это связано с высокими тратами на лечение с непредсказуемыми последствиями для кредитной истории."
   ]
  },
  {
   "cell_type": "markdown",
   "id": "57559e13",
   "metadata": {},
   "source": [
    "Итог:\n",
    "\n",
    "Самые добросовестные заемщицы - вдовы. И по статистике, чаще всего это женщины предпенсионного и пенсионного возраста. Показатели незамужних, замужних и разведенных примерно на одном уровне - средние. Худшие показатели у женщин, живущих в гражданском браке.\n",
    "\n",
    "Среди мужчин наиболее привлекательные для кредитора заемщики - женатые и разведенные. Не очень надежные - в гражданском браке и холостые. И самые безнадежные - вдовцы (в среднем каждый пятый).\n",
    "\n",
    "Причины все те же. У женщин дисциплина выше, когда они одиноки и независимы. У мужчин - когда они ответственны за семью, и есть кому ограничивать их траты."
   ]
  },
  {
   "cell_type": "markdown",
   "id": "c008e742",
   "metadata": {},
   "source": [
    "### Вопрос 3"
   ]
  },
  {
   "cell_type": "markdown",
   "id": "df14e9c2",
   "metadata": {},
   "source": [
    "_Есть ли зависимость между уровнем дохода и возвратом кредита в срок?_"
   ]
  },
  {
   "cell_type": "markdown",
   "id": "b0c86afa",
   "metadata": {},
   "source": [
    "Составим аналогичные таблицы. Теперь возьмем в расчет доходы, с разбивкой по полам."
   ]
  },
  {
   "cell_type": "code",
   "execution_count": 108,
   "id": "9f4db5e7",
   "metadata": {},
   "outputs": [
    {
     "data": {
      "text/html": [
       "<div>\n",
       "<style scoped>\n",
       "    .dataframe tbody tr th:only-of-type {\n",
       "        vertical-align: middle;\n",
       "    }\n",
       "\n",
       "    .dataframe tbody tr th {\n",
       "        vertical-align: top;\n",
       "    }\n",
       "\n",
       "    .dataframe thead th {\n",
       "        text-align: right;\n",
       "    }\n",
       "</style>\n",
       "<table border=\"1\" class=\"dataframe\">\n",
       "  <thead>\n",
       "    <tr style=\"text-align: right;\">\n",
       "      <th>total_income_category</th>\n",
       "      <th>A</th>\n",
       "      <th>B</th>\n",
       "      <th>C</th>\n",
       "      <th>D</th>\n",
       "      <th>E</th>\n",
       "    </tr>\n",
       "    <tr>\n",
       "      <th>gender</th>\n",
       "      <th></th>\n",
       "      <th></th>\n",
       "      <th></th>\n",
       "      <th></th>\n",
       "      <th></th>\n",
       "    </tr>\n",
       "  </thead>\n",
       "  <tbody>\n",
       "    <tr>\n",
       "      <th>Ж</th>\n",
       "      <td>0.000000</td>\n",
       "      <td>0.060606</td>\n",
       "      <td>0.073061</td>\n",
       "      <td>0.048701</td>\n",
       "      <td>0.125</td>\n",
       "    </tr>\n",
       "    <tr>\n",
       "      <th>М</th>\n",
       "      <td>0.133333</td>\n",
       "      <td>0.082510</td>\n",
       "      <td>0.112090</td>\n",
       "      <td>0.146341</td>\n",
       "      <td>0.000</td>\n",
       "    </tr>\n",
       "  </tbody>\n",
       "</table>\n",
       "</div>"
      ],
      "text/plain": [
       "total_income_category         A         B         C         D      E\n",
       "gender                                                              \n",
       "Ж                      0.000000  0.060606  0.073061  0.048701  0.125\n",
       "М                      0.133333  0.082510  0.112090  0.146341  0.000"
      ]
     },
     "metadata": {},
     "output_type": "display_data"
    },
    {
     "data": {
      "text/html": [
       "<div>\n",
       "<style scoped>\n",
       "    .dataframe tbody tr th:only-of-type {\n",
       "        vertical-align: middle;\n",
       "    }\n",
       "\n",
       "    .dataframe tbody tr th {\n",
       "        vertical-align: top;\n",
       "    }\n",
       "\n",
       "    .dataframe thead th {\n",
       "        text-align: right;\n",
       "    }\n",
       "</style>\n",
       "<table border=\"1\" class=\"dataframe\">\n",
       "  <thead>\n",
       "    <tr style=\"text-align: right;\">\n",
       "      <th>total_income_category</th>\n",
       "      <th>A</th>\n",
       "      <th>B</th>\n",
       "      <th>C</th>\n",
       "      <th>D</th>\n",
       "      <th>E</th>\n",
       "    </tr>\n",
       "    <tr>\n",
       "      <th>gender</th>\n",
       "      <th></th>\n",
       "      <th></th>\n",
       "      <th></th>\n",
       "      <th></th>\n",
       "      <th></th>\n",
       "    </tr>\n",
       "  </thead>\n",
       "  <tbody>\n",
       "    <tr>\n",
       "      <th>Ж</th>\n",
       "      <td>10</td>\n",
       "      <td>2706</td>\n",
       "      <td>11114</td>\n",
       "      <td>308</td>\n",
       "      <td>16</td>\n",
       "    </tr>\n",
       "    <tr>\n",
       "      <th>М</th>\n",
       "      <td>15</td>\n",
       "      <td>2327</td>\n",
       "      <td>4880</td>\n",
       "      <td>41</td>\n",
       "      <td>6</td>\n",
       "    </tr>\n",
       "  </tbody>\n",
       "</table>\n",
       "</div>"
      ],
      "text/plain": [
       "total_income_category   A     B      C    D   E\n",
       "gender                                         \n",
       "Ж                      10  2706  11114  308  16\n",
       "М                      15  2327   4880   41   6"
      ]
     },
     "metadata": {},
     "output_type": "display_data"
    }
   ],
   "source": [
    "# Выводим сводную таблицу по полу и по ежемесячному доходу с отображением долей проблемных заемщиков по каждой группе.\n",
    "# Выводим сводную таблицу по полу и по ежемесячному доходу с отображением количества заемщиков по каждой группе.\n",
    "\n",
    "dp_total_income_category = data.pivot_table(index='gender', \n",
    "                                            columns='total_income_category', \n",
    "                                            values='debt', \n",
    "                                            aggfunc='mean'\n",
    "                                           )\n",
    "display(dp_total_income_category)\n",
    "\n",
    "dp_total_income_category_count = data.pivot_table(index='gender', \n",
    "                                                  columns='total_income_category', \n",
    "                                                  values='debt', \n",
    "                                                  aggfunc='count'\n",
    "                                                 )\n",
    "display(dp_total_income_category_count)"
   ]
  },
  {
   "cell_type": "markdown",
   "id": "fbc1f16c",
   "metadata": {},
   "source": [
    "В качестве подсказки еще раз укажем диапазоны доходов у разных категорий (в тысячах ден.ед.):"
   ]
  },
  {
   "cell_type": "markdown",
   "id": "df7be317",
   "metadata": {},
   "source": [
    "__A__ - 1000 - __B__ - 200 - __C__ - 50 - __D__ - 30 - __E__"
   ]
  },
  {
   "cell_type": "markdown",
   "id": "e9a3887e",
   "metadata": {},
   "source": [
    " __Выводы:__"
   ]
  },
  {
   "cell_type": "markdown",
   "id": "0208da40",
   "metadata": {},
   "source": [
    "В категориях \"A\" и \"E\" слишком мало заемщиков. Из них, судя по данным из двух таблиц, проблемы с платежами были только у двоих человек в каждой из категорий. Поэтому данные по ним брать в расчет не имеет смысла."
   ]
  },
  {
   "cell_type": "markdown",
   "id": "2cbd91fc",
   "metadata": {},
   "source": [
    "1. Заемщики-женщины.\n",
    "\n",
    "\n",
    "- Судя по таблицам, меньше всех склонны к просрочкам женщины с доходом от 30 тыс. до 50 тыс. (4,9%). \n",
    "\n",
    "\n",
    "- После них - женщины, зарабатывающие от 200 тыс. до 1 млн. (6,1%).\n",
    "\n",
    "\n",
    "- Наконец, те, у которых доход находится в диапазоне от 50 тыс. до 200 тыс., допускают задолженность чаще других (7,3%). "
   ]
  },
  {
   "cell_type": "markdown",
   "id": "f74f6129",
   "metadata": {},
   "source": [
    "2. Заемщики-мужчины.\n",
    "\n",
    "\n",
    "- У мужчин снова данные отличаются. Самые благонаженые заемщики - мужчины с доходом от 200 тыс. до 1 млн. (8,3%).\n",
    "\n",
    "\n",
    "- На втором месте - те, кто зарабатывает от 50 тыс. до 200 тыс. (11,2%).\n",
    "\n",
    "\n",
    "- Хуже всего платят по кредитам мужчины с доходом 30 тыс. до 50 тыс. (14,6%)."
   ]
  },
  {
   "cell_type": "markdown",
   "id": "1ec24b11",
   "metadata": {},
   "source": [
    "Итог:\n",
    "\n",
    "Лучшие заемщицы - небогатые женщины, худшие - женщины со средним достатком. \n",
    "\n",
    "\n",
    "Лучшие заемщики - богатые мужчины, худшие - с низким достатком.\n",
    "\n",
    "\n",
    "Возможная причина в том, что женщины с небольшим достатком - это в основном или незамужние, или пожилые. Об этих категориях уже говорилось ранее как о наиболее добросовестных плательщиках. Но когда их доход вырастает, они начинают больше тратить и меньше беспокоиться (в основном - это замужние, с детьми). И только у богатых женщин (бизнес-вумен) этот показатель снова ниже благодаря их бережливости.\n",
    "\n",
    "Среди мужчин же склонность к экономии и финансовому планированию растет прямо пропорционально доходам. Чем богаче - тем рациональнее рассчитывают свой бюджет."
   ]
  },
  {
   "cell_type": "markdown",
   "id": "c04e4387",
   "metadata": {},
   "source": [
    "###  Вопрос 4"
   ]
  },
  {
   "cell_type": "markdown",
   "id": "2e37e30c",
   "metadata": {},
   "source": [
    "_Как разные цели кредита влияют на его возврат в срок?_"
   ]
  },
  {
   "cell_type": "markdown",
   "id": "5ba93995",
   "metadata": {},
   "source": [
    "Снова составим сводные таблицы, теперь уже учитывающие цели кредита."
   ]
  },
  {
   "cell_type": "code",
   "execution_count": 109,
   "id": "110aa7ce",
   "metadata": {},
   "outputs": [
    {
     "data": {
      "text/html": [
       "<div>\n",
       "<style scoped>\n",
       "    .dataframe tbody tr th:only-of-type {\n",
       "        vertical-align: middle;\n",
       "    }\n",
       "\n",
       "    .dataframe tbody tr th {\n",
       "        vertical-align: top;\n",
       "    }\n",
       "\n",
       "    .dataframe thead th {\n",
       "        text-align: right;\n",
       "    }\n",
       "</style>\n",
       "<table border=\"1\" class=\"dataframe\">\n",
       "  <thead>\n",
       "    <tr style=\"text-align: right;\">\n",
       "      <th>purpose_category</th>\n",
       "      <th>операции с автомобилем</th>\n",
       "      <th>операции с недвижимостью</th>\n",
       "      <th>получение образования</th>\n",
       "      <th>проведение свадьбы</th>\n",
       "    </tr>\n",
       "    <tr>\n",
       "      <th>gender</th>\n",
       "      <th></th>\n",
       "      <th></th>\n",
       "      <th></th>\n",
       "      <th></th>\n",
       "    </tr>\n",
       "  </thead>\n",
       "  <tbody>\n",
       "    <tr>\n",
       "      <th>Ж</th>\n",
       "      <td>0.081990</td>\n",
       "      <td>0.062809</td>\n",
       "      <td>0.07779</td>\n",
       "      <td>0.068790</td>\n",
       "    </tr>\n",
       "    <tr>\n",
       "      <th>М</th>\n",
       "      <td>0.116424</td>\n",
       "      <td>0.090860</td>\n",
       "      <td>0.12137</td>\n",
       "      <td>0.102228</td>\n",
       "    </tr>\n",
       "  </tbody>\n",
       "</table>\n",
       "</div>"
      ],
      "text/plain": [
       "purpose_category  операции с автомобилем  операции с недвижимостью  \\\n",
       "gender                                                               \n",
       "Ж                               0.081990                  0.062809   \n",
       "М                               0.116424                  0.090860   \n",
       "\n",
       "purpose_category  получение образования  проведение свадьбы  \n",
       "gender                                                       \n",
       "Ж                               0.07779            0.068790  \n",
       "М                               0.12137            0.102228  "
      ]
     },
     "metadata": {},
     "output_type": "display_data"
    },
    {
     "data": {
      "text/html": [
       "<div>\n",
       "<style scoped>\n",
       "    .dataframe tbody tr th:only-of-type {\n",
       "        vertical-align: middle;\n",
       "    }\n",
       "\n",
       "    .dataframe tbody tr th {\n",
       "        vertical-align: top;\n",
       "    }\n",
       "\n",
       "    .dataframe thead th {\n",
       "        text-align: right;\n",
       "    }\n",
       "</style>\n",
       "<table border=\"1\" class=\"dataframe\">\n",
       "  <thead>\n",
       "    <tr style=\"text-align: right;\">\n",
       "      <th>purpose_category</th>\n",
       "      <th>операции с автомобилем</th>\n",
       "      <th>операции с недвижимостью</th>\n",
       "      <th>получение образования</th>\n",
       "      <th>проведение свадьбы</th>\n",
       "    </tr>\n",
       "    <tr>\n",
       "      <th>gender</th>\n",
       "      <th></th>\n",
       "      <th></th>\n",
       "      <th></th>\n",
       "      <th></th>\n",
       "    </tr>\n",
       "  </thead>\n",
       "  <tbody>\n",
       "    <tr>\n",
       "      <th>Ж</th>\n",
       "      <td>2854</td>\n",
       "      <td>7069</td>\n",
       "      <td>2661</td>\n",
       "      <td>1570</td>\n",
       "    </tr>\n",
       "    <tr>\n",
       "      <th>М</th>\n",
       "      <td>1443</td>\n",
       "      <td>3720</td>\n",
       "      <td>1343</td>\n",
       "      <td>763</td>\n",
       "    </tr>\n",
       "  </tbody>\n",
       "</table>\n",
       "</div>"
      ],
      "text/plain": [
       "purpose_category  операции с автомобилем  операции с недвижимостью  \\\n",
       "gender                                                               \n",
       "Ж                                   2854                      7069   \n",
       "М                                   1443                      3720   \n",
       "\n",
       "purpose_category  получение образования  проведение свадьбы  \n",
       "gender                                                       \n",
       "Ж                                  2661                1570  \n",
       "М                                  1343                 763  "
      ]
     },
     "metadata": {},
     "output_type": "display_data"
    }
   ],
   "source": [
    "# Выводим сводную таблицу по полу и по цели получения кредита с отображением долей проблемных заемщиков по каждой группе.\n",
    "# Выводим сводную таблицу по полу и по цели получения кредита с отображением количества заемщиков по каждой группе.\n",
    "\n",
    "dp_purpose_category = data.pivot_table(index='gender', \n",
    "                                       columns='purpose_category', \n",
    "                                       values='debt', \n",
    "                                       aggfunc='mean'\n",
    "                                      )\n",
    "display(dp_purpose_category)\n",
    "\n",
    "dp_purpose_category_count = data.pivot_table(index='gender', \n",
    "                                             columns='purpose_category', \n",
    "                                             values='debt', \n",
    "                                             aggfunc='count'\n",
    "                                            )\n",
    "display(dp_purpose_category_count)"
   ]
  },
  {
   "cell_type": "markdown",
   "id": "e60d982e",
   "metadata": {},
   "source": [
    " __Выводы:__"
   ]
  },
  {
   "cell_type": "markdown",
   "id": "b2bef73d",
   "metadata": {},
   "source": [
    "1. Заемщики-женщины.\n",
    "\n",
    "\n",
    "- Уровень просрочек у женщин, взявших кредит на покупку жилья самый низкий (6,3%). Вероятнее всего, это самостоятельные женщины, т.е. либо одинокие (любого достатка), либо замужние, но с высоким уровнем дохода и независимости.\n",
    "\n",
    "\n",
    "- Чуть больше - 6,9% - у тех, кто обращались за кредитом для проведения свадьбы. Тут большинство, естественно, - незамужние.\n",
    "\n",
    "\n",
    "- У женщин, берущих кредит на получение образования, процент выше, но не самый высокий - 7,8%. Очевидно, что они берут на второе образование, т.е. вполне осознавая все риски. Тем не менее это не самый низкий показатель, т.к. в большинстве своем такие заемщицы имеют семьи и, соответственно, их расходы и риски выше, чем у предыдущих подкатегорий.\n",
    "\n",
    "\n",
    "- Наконец, наиболее высокий уровень просрочек (8,2%) у тех, кто взял кредит на покупку автомобиля. Это семейные люди, к проблемам которых добавляются еще и расходы на автокредит, бензин, запчасти, ремонт и т.д."
   ]
  },
  {
   "cell_type": "markdown",
   "id": "a2ae550f",
   "metadata": {},
   "source": [
    "2. Заемщики-мужчины.\n",
    "\n",
    "\n",
    "- И снова во всех категориях у мужчин этот показатель выше. Самый низкий у них - опять же, в случае ипотеки (9,0%). В целом, это всегда наименее рисковый вид кредитования, поскольку процентная ставка по нему обычно ниже, и берут такой кредит люди, имеющие семью и постоянный доход.\n",
    "\n",
    "\n",
    "- На втором месте снова кредит на свадьбу (10,2%). Как говорилось ранее, после женитьбы у мужчин этот показатель стабилизируется.\n",
    "\n",
    "\n",
    "- Далее идет автокредит (11,6%). Он также связан с дополнительными расходами и рисками, однако для многих мужчин - это еще и средство получения дохода (прямое или косвенное). Поэтому, в отличие от аналогичного показателя у женщин, здесь эта подкатегория не на последнем месте по надежности.\n",
    "\n",
    "\n",
    "- Наконец, хуже всего платят мужчины, взявшие кредит на образование (12,1%). Возможно, многие из них менее серьезно относятся к учебе (а кто-то бросает ее) и возникающим дополнительным тратам."
   ]
  },
  {
   "cell_type": "markdown",
   "id": "c390eccb",
   "metadata": {},
   "source": [
    "Итог:\n",
    "\n",
    "У заемщиков обоих полов лучше всего получается возвращать кредиты, взятые на покупку жилья и проведение свадьбы.\n",
    "\n",
    "Причины: это важные события в жизни, и к ним (прежде всего, к жилью) подходят ответственно. Плюс, на них средства в основном находятся: в случае со свадьбой - люди еще не обременены большими семейными расходами, а ипотека всегда в приоритете в списке ежемесячно погашаемых кредитов, поскольку лишиться дома никто не хочет.\n",
    "\n",
    "    \n",
    "Хуже всего у женщин ситуация с автокредитом, а у мужчин - с кредитом на образование.\n",
    "\n",
    "Причины: это дополнительные расходы и, соответственно, риски несвоевременного погашения. Для женщины автомобиль в итоге приносит больше затрат, чем для мужчин, для которых машина - это, прежде всего, актив. А с образованием наоборот - женщины к учебе в основном относятся более ответственно."
   ]
  },
  {
   "cell_type": "markdown",
   "id": "0bb81d6d",
   "metadata": {},
   "source": [
    "## Общие выводы"
   ]
  },
  {
   "cell_type": "markdown",
   "id": "363f9ce9",
   "metadata": {},
   "source": [
    "1. Женщина с худшим показателем надежности чаще всего надежнее мужчины с самым лучшим.\n",
    "\n",
    "\n",
    "2. Самые надежные заемщицы - это женщины с невысоким доходом (до 50 тыс.), без иждивенцев, молодые или наоборот - пожилые, а также вдовы.\n",
    "Наименее надежные - женщины с двумя детьми, со средним уровнем дохода, а также состоящие в гражданском браке.\n",
    "\n",
    "\n",
    "3. Самые надежные заемщики - женатые мужчины с тремя (чуть менее - с двумя) детьми, с высоким доходом (от 200 тыс. до 1 млн.).\n",
    "Наименее надежные - мужчины с одним ребенком и бездетные, холостые и вдовцы, с невысоким уровнем дохода (до 50 тыс.).\n",
    "\n",
    "\n",
    "4. Самые безрисковые для кредитной организации направления кредитования - кредиты на операции с недвижимостью и проведение свадьбы.\n",
    "В случае с женщинами рискованным является кредит на операции с автомобилем, а для мужчин - на получение образования."
   ]
  }
 ],
 "metadata": {
  "ExecuteTimeLog": [
   {
    "duration": 401,
    "start_time": "2022-05-10T19:21:51.635Z"
   },
   {
    "duration": 66,
    "start_time": "2022-05-10T19:21:53.298Z"
   },
   {
    "duration": 18,
    "start_time": "2022-05-10T19:21:55.001Z"
   },
   {
    "duration": 14,
    "start_time": "2022-05-10T19:42:41.554Z"
   },
   {
    "duration": 3,
    "start_time": "2022-05-10T19:56:13.232Z"
   },
   {
    "duration": 3,
    "start_time": "2022-05-10T19:56:24.901Z"
   },
   {
    "duration": 78,
    "start_time": "2022-05-10T21:06:52.491Z"
   },
   {
    "duration": 10,
    "start_time": "2022-05-10T21:07:11.642Z"
   },
   {
    "duration": 525,
    "start_time": "2022-05-10T21:07:16.910Z"
   },
   {
    "duration": 244,
    "start_time": "2022-05-10T21:07:18.728Z"
   },
   {
    "duration": 30,
    "start_time": "2022-05-10T21:07:20.294Z"
   },
   {
    "duration": 22,
    "start_time": "2022-05-10T21:07:21.736Z"
   },
   {
    "duration": 5,
    "start_time": "2022-05-10T21:07:27.095Z"
   },
   {
    "duration": 8,
    "start_time": "2022-05-10T21:07:29.425Z"
   },
   {
    "duration": 59,
    "start_time": "2022-05-10T21:07:35.495Z"
   },
   {
    "duration": 8,
    "start_time": "2022-05-10T21:08:21.581Z"
   },
   {
    "duration": 28,
    "start_time": "2022-05-10T21:08:31.707Z"
   },
   {
    "duration": 6,
    "start_time": "2022-05-11T05:47:14.258Z"
   },
   {
    "duration": 5,
    "start_time": "2022-05-11T05:49:11.605Z"
   },
   {
    "duration": 4,
    "start_time": "2022-05-11T05:49:42.530Z"
   },
   {
    "duration": 6,
    "start_time": "2022-05-11T05:49:43.830Z"
   },
   {
    "duration": 10,
    "start_time": "2022-05-11T05:53:01.746Z"
   },
   {
    "duration": 5,
    "start_time": "2022-05-11T05:53:08.948Z"
   },
   {
    "duration": 4,
    "start_time": "2022-05-11T05:55:12.747Z"
   },
   {
    "duration": 19,
    "start_time": "2022-05-11T06:00:44.884Z"
   },
   {
    "duration": 14,
    "start_time": "2022-05-11T06:02:09.733Z"
   },
   {
    "duration": 12,
    "start_time": "2022-05-11T06:19:56.412Z"
   },
   {
    "duration": 35,
    "start_time": "2022-05-11T06:20:04.745Z"
   },
   {
    "duration": 12,
    "start_time": "2022-05-11T06:20:27.566Z"
   },
   {
    "duration": 36,
    "start_time": "2022-05-11T06:21:30.296Z"
   },
   {
    "duration": 31,
    "start_time": "2022-05-11T06:22:54.662Z"
   },
   {
    "duration": 36,
    "start_time": "2022-05-11T06:23:43.710Z"
   },
   {
    "duration": 12,
    "start_time": "2022-05-11T06:23:57.180Z"
   },
   {
    "duration": 13,
    "start_time": "2022-05-11T06:24:48.200Z"
   },
   {
    "duration": 16,
    "start_time": "2022-05-11T06:25:00.212Z"
   },
   {
    "duration": 18,
    "start_time": "2022-05-11T06:25:19.174Z"
   },
   {
    "duration": 19,
    "start_time": "2022-05-11T06:25:45.241Z"
   },
   {
    "duration": 13,
    "start_time": "2022-05-11T06:27:22.899Z"
   },
   {
    "duration": 14,
    "start_time": "2022-05-11T06:27:52.883Z"
   },
   {
    "duration": 13,
    "start_time": "2022-05-11T06:28:19.988Z"
   },
   {
    "duration": 8,
    "start_time": "2022-05-11T06:29:13.982Z"
   },
   {
    "duration": 9,
    "start_time": "2022-05-11T06:29:32.713Z"
   },
   {
    "duration": 22,
    "start_time": "2022-05-11T06:29:40.263Z"
   },
   {
    "duration": 12,
    "start_time": "2022-05-11T06:29:59.400Z"
   },
   {
    "duration": 1038,
    "start_time": "2022-05-11T06:30:29.987Z"
   },
   {
    "duration": 944,
    "start_time": "2022-05-11T06:30:40.682Z"
   },
   {
    "duration": 14,
    "start_time": "2022-05-11T06:30:48.781Z"
   },
   {
    "duration": 11,
    "start_time": "2022-05-11T06:32:20.015Z"
   },
   {
    "duration": 11,
    "start_time": "2022-05-11T06:32:35.675Z"
   },
   {
    "duration": 21,
    "start_time": "2022-05-11T06:32:41.539Z"
   },
   {
    "duration": 20,
    "start_time": "2022-05-11T06:33:15.936Z"
   },
   {
    "duration": 9,
    "start_time": "2022-05-11T06:35:40.715Z"
   },
   {
    "duration": 19,
    "start_time": "2022-05-11T06:40:36.292Z"
   },
   {
    "duration": 23,
    "start_time": "2022-05-11T06:55:45.743Z"
   },
   {
    "duration": 25,
    "start_time": "2022-05-11T06:56:42.119Z"
   },
   {
    "duration": 138,
    "start_time": "2022-05-11T06:57:35.740Z"
   },
   {
    "duration": 9,
    "start_time": "2022-05-11T06:57:43.014Z"
   },
   {
    "duration": 18,
    "start_time": "2022-05-11T06:57:50.724Z"
   },
   {
    "duration": 12,
    "start_time": "2022-05-11T06:58:50.552Z"
   },
   {
    "duration": 10,
    "start_time": "2022-05-11T06:58:58.109Z"
   },
   {
    "duration": 13,
    "start_time": "2022-05-11T06:59:07.682Z"
   },
   {
    "duration": 12,
    "start_time": "2022-05-11T06:59:15.392Z"
   },
   {
    "duration": 10,
    "start_time": "2022-05-11T06:59:26.580Z"
   },
   {
    "duration": 10,
    "start_time": "2022-05-11T06:59:32.429Z"
   },
   {
    "duration": 16,
    "start_time": "2022-05-11T06:59:37.292Z"
   },
   {
    "duration": 12,
    "start_time": "2022-05-11T07:00:10.099Z"
   },
   {
    "duration": 12,
    "start_time": "2022-05-11T07:01:05.615Z"
   },
   {
    "duration": 12,
    "start_time": "2022-05-11T07:01:23.208Z"
   },
   {
    "duration": 32,
    "start_time": "2022-05-11T07:01:39.162Z"
   },
   {
    "duration": 11,
    "start_time": "2022-05-11T07:03:40.952Z"
   },
   {
    "duration": 1613,
    "start_time": "2022-05-11T07:04:30.226Z"
   },
   {
    "duration": 2167,
    "start_time": "2022-05-11T07:05:02.916Z"
   },
   {
    "duration": 35,
    "start_time": "2022-05-11T07:05:14.798Z"
   },
   {
    "duration": 12,
    "start_time": "2022-05-11T07:05:20.259Z"
   },
   {
    "duration": 1515,
    "start_time": "2022-05-11T07:07:02.526Z"
   },
   {
    "duration": 13,
    "start_time": "2022-05-11T07:07:21.834Z"
   },
   {
    "duration": 10,
    "start_time": "2022-05-11T07:07:33.463Z"
   },
   {
    "duration": 16,
    "start_time": "2022-05-11T07:08:51.474Z"
   },
   {
    "duration": 15,
    "start_time": "2022-05-11T07:09:07.294Z"
   },
   {
    "duration": 58,
    "start_time": "2022-05-11T07:09:14.502Z"
   },
   {
    "duration": 35,
    "start_time": "2022-05-11T07:12:21.113Z"
   },
   {
    "duration": 5,
    "start_time": "2022-05-11T07:12:28.339Z"
   },
   {
    "duration": 33,
    "start_time": "2022-05-11T07:12:39.119Z"
   },
   {
    "duration": 12,
    "start_time": "2022-05-11T07:13:03.570Z"
   },
   {
    "duration": 1485,
    "start_time": "2022-05-11T07:13:40.110Z"
   },
   {
    "duration": 4,
    "start_time": "2022-05-11T07:13:48.717Z"
   },
   {
    "duration": 67,
    "start_time": "2022-05-11T07:13:49.266Z"
   },
   {
    "duration": 19,
    "start_time": "2022-05-11T07:13:49.854Z"
   },
   {
    "duration": 21,
    "start_time": "2022-05-11T07:13:50.392Z"
   },
   {
    "duration": 24,
    "start_time": "2022-05-11T07:13:53.387Z"
   },
   {
    "duration": 88,
    "start_time": "2022-05-11T07:13:55.256Z"
   },
   {
    "duration": 1693,
    "start_time": "2022-05-11T07:13:56.680Z"
   },
   {
    "duration": 10,
    "start_time": "2022-05-11T07:14:06.840Z"
   },
   {
    "duration": 11,
    "start_time": "2022-05-11T07:14:37.982Z"
   },
   {
    "duration": 12,
    "start_time": "2022-05-11T07:15:32.758Z"
   },
   {
    "duration": 13,
    "start_time": "2022-05-11T07:26:47.451Z"
   },
   {
    "duration": 14,
    "start_time": "2022-05-11T07:27:26.778Z"
   },
   {
    "duration": 14,
    "start_time": "2022-05-11T07:27:52.730Z"
   },
   {
    "duration": 16,
    "start_time": "2022-05-11T07:28:25.577Z"
   },
   {
    "duration": 15,
    "start_time": "2022-05-11T07:28:30.773Z"
   },
   {
    "duration": 13,
    "start_time": "2022-05-11T07:28:43.064Z"
   },
   {
    "duration": 11,
    "start_time": "2022-05-11T07:28:48.974Z"
   },
   {
    "duration": 31,
    "start_time": "2022-05-11T07:30:03.387Z"
   },
   {
    "duration": 22,
    "start_time": "2022-05-11T07:30:56.205Z"
   },
   {
    "duration": 23,
    "start_time": "2022-05-11T07:38:30.581Z"
   },
   {
    "duration": 3,
    "start_time": "2022-05-11T07:40:22.226Z"
   },
   {
    "duration": 101,
    "start_time": "2022-05-11T07:40:22.738Z"
   },
   {
    "duration": 25,
    "start_time": "2022-05-11T07:40:23.538Z"
   },
   {
    "duration": 30,
    "start_time": "2022-05-11T07:40:24.541Z"
   },
   {
    "duration": 33,
    "start_time": "2022-05-11T07:40:28.840Z"
   },
   {
    "duration": 14,
    "start_time": "2022-05-11T07:40:31.946Z"
   },
   {
    "duration": 31,
    "start_time": "2022-05-11T07:40:33.288Z"
   },
   {
    "duration": 5,
    "start_time": "2022-05-11T07:40:37.490Z"
   },
   {
    "duration": 25,
    "start_time": "2022-05-11T07:43:41.281Z"
   },
   {
    "duration": 10,
    "start_time": "2022-05-11T07:43:43.130Z"
   },
   {
    "duration": 22,
    "start_time": "2022-05-11T07:43:44.003Z"
   },
   {
    "duration": 31,
    "start_time": "2022-05-11T07:46:45.450Z"
   },
   {
    "duration": 14,
    "start_time": "2022-05-11T07:46:49.526Z"
   },
   {
    "duration": 14,
    "start_time": "2022-05-11T07:46:55.016Z"
   },
   {
    "duration": 4,
    "start_time": "2022-05-11T08:03:48.333Z"
   },
   {
    "duration": 23,
    "start_time": "2022-05-11T08:04:04.702Z"
   },
   {
    "duration": 133,
    "start_time": "2022-05-11T08:27:42.619Z"
   },
   {
    "duration": 5,
    "start_time": "2022-05-11T08:30:07.698Z"
   },
   {
    "duration": 8,
    "start_time": "2022-05-11T08:30:49.137Z"
   },
   {
    "duration": 12,
    "start_time": "2022-05-11T08:31:02.304Z"
   },
   {
    "duration": 17,
    "start_time": "2022-05-11T08:31:34.128Z"
   },
   {
    "duration": 48,
    "start_time": "2022-05-11T08:47:18.321Z"
   },
   {
    "duration": 49,
    "start_time": "2022-05-11T08:49:31.469Z"
   },
   {
    "duration": 26,
    "start_time": "2022-05-11T08:50:15.965Z"
   },
   {
    "duration": 110,
    "start_time": "2022-05-11T08:53:42.256Z"
   },
   {
    "duration": 13,
    "start_time": "2022-05-11T08:53:56.346Z"
   },
   {
    "duration": 100,
    "start_time": "2022-05-11T08:54:54.431Z"
   },
   {
    "duration": 81,
    "start_time": "2022-05-11T08:55:11.811Z"
   },
   {
    "duration": 12,
    "start_time": "2022-05-11T08:55:24.452Z"
   },
   {
    "duration": 10,
    "start_time": "2022-05-11T09:16:13.049Z"
   },
   {
    "duration": 12,
    "start_time": "2022-05-11T09:16:29.387Z"
   },
   {
    "duration": 16,
    "start_time": "2022-05-11T09:17:09.249Z"
   },
   {
    "duration": 16,
    "start_time": "2022-05-11T09:17:26.717Z"
   },
   {
    "duration": 9,
    "start_time": "2022-05-11T09:18:03.954Z"
   },
   {
    "duration": 15,
    "start_time": "2022-05-11T09:18:17.826Z"
   },
   {
    "duration": 4,
    "start_time": "2022-05-11T09:18:33.273Z"
   },
   {
    "duration": 67,
    "start_time": "2022-05-11T09:18:33.802Z"
   },
   {
    "duration": 19,
    "start_time": "2022-05-11T09:18:34.274Z"
   },
   {
    "duration": 22,
    "start_time": "2022-05-11T09:18:34.803Z"
   },
   {
    "duration": 25,
    "start_time": "2022-05-11T09:18:37.470Z"
   },
   {
    "duration": 12,
    "start_time": "2022-05-11T09:18:40.012Z"
   },
   {
    "duration": 23,
    "start_time": "2022-05-11T09:18:41.085Z"
   },
   {
    "duration": 5,
    "start_time": "2022-05-11T09:18:43.941Z"
   },
   {
    "duration": 6,
    "start_time": "2022-05-11T09:18:47.615Z"
   },
   {
    "duration": 12,
    "start_time": "2022-05-11T09:18:49.290Z"
   },
   {
    "duration": 16,
    "start_time": "2022-05-11T09:19:07.387Z"
   },
   {
    "duration": 13,
    "start_time": "2022-05-11T09:19:37.423Z"
   },
   {
    "duration": 16,
    "start_time": "2022-05-11T09:20:57.078Z"
   },
   {
    "duration": 13,
    "start_time": "2022-05-11T09:21:09.702Z"
   },
   {
    "duration": 12,
    "start_time": "2022-05-11T09:25:13.713Z"
   },
   {
    "duration": 10,
    "start_time": "2022-05-11T09:26:02.667Z"
   },
   {
    "duration": 10,
    "start_time": "2022-05-11T09:26:08.347Z"
   },
   {
    "duration": 10,
    "start_time": "2022-05-11T09:26:14.133Z"
   },
   {
    "duration": 9,
    "start_time": "2022-05-11T09:26:43.819Z"
   },
   {
    "duration": 13,
    "start_time": "2022-05-11T09:26:44.923Z"
   },
   {
    "duration": 12,
    "start_time": "2022-05-11T09:28:28.615Z"
   },
   {
    "duration": 13,
    "start_time": "2022-05-11T09:29:27.297Z"
   },
   {
    "duration": 51,
    "start_time": "2022-05-11T09:30:35.066Z"
   },
   {
    "duration": 6,
    "start_time": "2022-05-11T09:31:27.895Z"
   },
   {
    "duration": 11,
    "start_time": "2022-05-11T09:31:29.365Z"
   },
   {
    "duration": 52,
    "start_time": "2022-05-11T09:31:30.366Z"
   },
   {
    "duration": 4,
    "start_time": "2022-05-11T09:31:44.179Z"
   },
   {
    "duration": 68,
    "start_time": "2022-05-11T09:31:44.773Z"
   },
   {
    "duration": 20,
    "start_time": "2022-05-11T09:31:45.294Z"
   },
   {
    "duration": 22,
    "start_time": "2022-05-11T09:31:45.893Z"
   },
   {
    "duration": 26,
    "start_time": "2022-05-11T09:31:49.074Z"
   },
   {
    "duration": 13,
    "start_time": "2022-05-11T09:31:51.512Z"
   },
   {
    "duration": 24,
    "start_time": "2022-05-11T09:31:52.274Z"
   },
   {
    "duration": 5,
    "start_time": "2022-05-11T09:31:54.846Z"
   },
   {
    "duration": 8,
    "start_time": "2022-05-11T09:31:56.961Z"
   },
   {
    "duration": 12,
    "start_time": "2022-05-11T09:31:59.008Z"
   },
   {
    "duration": 53,
    "start_time": "2022-05-11T09:32:00.503Z"
   },
   {
    "duration": 25,
    "start_time": "2022-05-11T09:32:04.583Z"
   },
   {
    "duration": 125,
    "start_time": "2022-05-11T09:33:01.650Z"
   },
   {
    "duration": 102,
    "start_time": "2022-05-11T09:33:12.639Z"
   },
   {
    "duration": 96,
    "start_time": "2022-05-11T09:33:47.660Z"
   },
   {
    "duration": 675,
    "start_time": "2022-05-11T09:33:56.675Z"
   },
   {
    "duration": 699,
    "start_time": "2022-05-11T09:34:05.621Z"
   },
   {
    "duration": 50,
    "start_time": "2022-05-11T09:34:13.753Z"
   },
   {
    "duration": 23,
    "start_time": "2022-05-11T09:35:27.600Z"
   },
   {
    "duration": 26,
    "start_time": "2022-05-11T09:39:44.130Z"
   },
   {
    "duration": 26,
    "start_time": "2022-05-11T09:40:11.468Z"
   },
   {
    "duration": 26,
    "start_time": "2022-05-11T09:41:41.681Z"
   },
   {
    "duration": 27,
    "start_time": "2022-05-11T09:42:21.735Z"
   },
   {
    "duration": 27,
    "start_time": "2022-05-11T09:42:43.408Z"
   },
   {
    "duration": 26,
    "start_time": "2022-05-11T09:43:15.046Z"
   },
   {
    "duration": 25,
    "start_time": "2022-05-11T09:45:50.804Z"
   },
   {
    "duration": 25,
    "start_time": "2022-05-11T09:46:11.678Z"
   },
   {
    "duration": 24,
    "start_time": "2022-05-11T09:48:01.783Z"
   },
   {
    "duration": 19,
    "start_time": "2022-05-11T09:48:29.663Z"
   },
   {
    "duration": 22,
    "start_time": "2022-05-11T09:48:36.463Z"
   },
   {
    "duration": 51,
    "start_time": "2022-05-11T09:50:55.240Z"
   },
   {
    "duration": 11,
    "start_time": "2022-05-11T09:51:51.297Z"
   },
   {
    "duration": 3,
    "start_time": "2022-05-11T09:52:02.321Z"
   },
   {
    "duration": 65,
    "start_time": "2022-05-11T09:52:02.540Z"
   },
   {
    "duration": 19,
    "start_time": "2022-05-11T09:52:02.802Z"
   },
   {
    "duration": 20,
    "start_time": "2022-05-11T09:52:03.070Z"
   },
   {
    "duration": 23,
    "start_time": "2022-05-11T09:52:04.071Z"
   },
   {
    "duration": 12,
    "start_time": "2022-05-11T09:52:04.883Z"
   },
   {
    "duration": 22,
    "start_time": "2022-05-11T09:52:05.158Z"
   },
   {
    "duration": 5,
    "start_time": "2022-05-11T09:52:06.338Z"
   },
   {
    "duration": 6,
    "start_time": "2022-05-11T09:52:07.711Z"
   },
   {
    "duration": 11,
    "start_time": "2022-05-11T09:52:09.001Z"
   },
   {
    "duration": 51,
    "start_time": "2022-05-11T09:52:10.832Z"
   },
   {
    "duration": 24,
    "start_time": "2022-05-11T09:52:13.668Z"
   },
   {
    "duration": 10,
    "start_time": "2022-05-11T09:53:09.881Z"
   },
   {
    "duration": 11,
    "start_time": "2022-05-11T09:54:42.527Z"
   },
   {
    "duration": 3,
    "start_time": "2022-05-11T09:54:50.674Z"
   },
   {
    "duration": 65,
    "start_time": "2022-05-11T09:54:51.266Z"
   },
   {
    "duration": 19,
    "start_time": "2022-05-11T09:54:51.827Z"
   },
   {
    "duration": 20,
    "start_time": "2022-05-11T09:54:52.382Z"
   },
   {
    "duration": 26,
    "start_time": "2022-05-11T09:54:54.985Z"
   },
   {
    "duration": 12,
    "start_time": "2022-05-11T09:54:56.761Z"
   },
   {
    "duration": 24,
    "start_time": "2022-05-11T09:54:57.344Z"
   },
   {
    "duration": 6,
    "start_time": "2022-05-11T09:54:59.330Z"
   },
   {
    "duration": 7,
    "start_time": "2022-05-11T09:55:01.957Z"
   },
   {
    "duration": 10,
    "start_time": "2022-05-11T09:55:03.798Z"
   },
   {
    "duration": 10,
    "start_time": "2022-05-11T09:57:21.170Z"
   },
   {
    "duration": 14,
    "start_time": "2022-05-11T09:57:23.191Z"
   },
   {
    "duration": 52,
    "start_time": "2022-05-11T09:58:01.931Z"
   },
   {
    "duration": 15,
    "start_time": "2022-05-11T10:03:55.490Z"
   },
   {
    "duration": 15,
    "start_time": "2022-05-11T10:04:03.152Z"
   },
   {
    "duration": 32,
    "start_time": "2022-05-11T10:04:21.994Z"
   },
   {
    "duration": 60,
    "start_time": "2022-05-11T10:14:29.639Z"
   },
   {
    "duration": 22,
    "start_time": "2022-05-11T10:14:34.199Z"
   },
   {
    "duration": 88,
    "start_time": "2022-05-11T10:15:13.719Z"
   },
   {
    "duration": 22,
    "start_time": "2022-05-11T10:15:16.099Z"
   },
   {
    "duration": 25,
    "start_time": "2022-05-11T10:15:33.049Z"
   },
   {
    "duration": 130,
    "start_time": "2022-05-11T10:17:39.162Z"
   },
   {
    "duration": 49,
    "start_time": "2022-05-11T10:17:52.502Z"
   },
   {
    "duration": 10,
    "start_time": "2022-05-11T10:18:32.409Z"
   },
   {
    "duration": 3,
    "start_time": "2022-05-11T10:18:36.551Z"
   },
   {
    "duration": 65,
    "start_time": "2022-05-11T10:18:37.014Z"
   },
   {
    "duration": 19,
    "start_time": "2022-05-11T10:18:37.453Z"
   },
   {
    "duration": 22,
    "start_time": "2022-05-11T10:18:37.926Z"
   },
   {
    "duration": 24,
    "start_time": "2022-05-11T10:18:40.128Z"
   },
   {
    "duration": 11,
    "start_time": "2022-05-11T10:18:41.730Z"
   },
   {
    "duration": 22,
    "start_time": "2022-05-11T10:18:42.451Z"
   },
   {
    "duration": 6,
    "start_time": "2022-05-11T10:18:44.293Z"
   },
   {
    "duration": 7,
    "start_time": "2022-05-11T10:18:45.577Z"
   },
   {
    "duration": 11,
    "start_time": "2022-05-11T10:18:47.119Z"
   },
   {
    "duration": 51,
    "start_time": "2022-05-11T10:18:48.002Z"
   },
   {
    "duration": 51,
    "start_time": "2022-05-11T10:37:47.453Z"
   },
   {
    "duration": 56,
    "start_time": "2022-05-11T10:38:22.661Z"
   },
   {
    "duration": 20,
    "start_time": "2022-05-11T10:38:32.196Z"
   },
   {
    "duration": 3,
    "start_time": "2022-05-11T10:38:35.216Z"
   },
   {
    "duration": 68,
    "start_time": "2022-05-11T10:38:35.677Z"
   },
   {
    "duration": 19,
    "start_time": "2022-05-11T10:38:36.036Z"
   },
   {
    "duration": 18,
    "start_time": "2022-05-11T10:38:36.454Z"
   },
   {
    "duration": 25,
    "start_time": "2022-05-11T10:38:38.049Z"
   },
   {
    "duration": 10,
    "start_time": "2022-05-11T10:38:39.475Z"
   },
   {
    "duration": 25,
    "start_time": "2022-05-11T10:38:39.998Z"
   },
   {
    "duration": 5,
    "start_time": "2022-05-11T10:38:41.503Z"
   },
   {
    "duration": 7,
    "start_time": "2022-05-11T10:38:42.540Z"
   },
   {
    "duration": 11,
    "start_time": "2022-05-11T10:38:44.095Z"
   },
   {
    "duration": 60,
    "start_time": "2022-05-11T10:38:45.210Z"
   },
   {
    "duration": 54,
    "start_time": "2022-05-11T10:39:02.789Z"
   },
   {
    "duration": 23,
    "start_time": "2022-05-11T10:40:21.165Z"
   },
   {
    "duration": 22,
    "start_time": "2022-05-11T10:49:22.173Z"
   },
   {
    "duration": 18,
    "start_time": "2022-05-11T10:49:57.944Z"
   },
   {
    "duration": 4,
    "start_time": "2022-05-11T10:50:07.330Z"
   },
   {
    "duration": 71,
    "start_time": "2022-05-11T10:50:08.174Z"
   },
   {
    "duration": 21,
    "start_time": "2022-05-11T10:50:09.076Z"
   },
   {
    "duration": 20,
    "start_time": "2022-05-11T10:50:10.524Z"
   },
   {
    "duration": 25,
    "start_time": "2022-05-11T10:50:16.342Z"
   },
   {
    "duration": 11,
    "start_time": "2022-05-11T10:50:21.048Z"
   },
   {
    "duration": 23,
    "start_time": "2022-05-11T10:50:23.054Z"
   },
   {
    "duration": 6,
    "start_time": "2022-05-11T10:50:28.549Z"
   },
   {
    "duration": 6,
    "start_time": "2022-05-11T10:50:32.100Z"
   },
   {
    "duration": 27,
    "start_time": "2022-05-11T10:53:09.496Z"
   },
   {
    "duration": 27,
    "start_time": "2022-05-11T10:54:53.465Z"
   },
   {
    "duration": 23,
    "start_time": "2022-05-11T10:54:56.388Z"
   },
   {
    "duration": 15,
    "start_time": "2022-05-11T10:55:35.015Z"
   },
   {
    "duration": 15,
    "start_time": "2022-05-11T11:02:01.278Z"
   },
   {
    "duration": 27,
    "start_time": "2022-05-11T11:02:11.655Z"
   },
   {
    "duration": 9,
    "start_time": "2022-05-11T11:03:19.078Z"
   },
   {
    "duration": 37,
    "start_time": "2022-05-11T11:03:48.754Z"
   },
   {
    "duration": 11,
    "start_time": "2022-05-11T11:04:36.131Z"
   },
   {
    "duration": 3,
    "start_time": "2022-05-11T11:04:43.651Z"
   },
   {
    "duration": 65,
    "start_time": "2022-05-11T11:04:43.913Z"
   },
   {
    "duration": 19,
    "start_time": "2022-05-11T11:04:44.296Z"
   },
   {
    "duration": 21,
    "start_time": "2022-05-11T11:04:44.707Z"
   },
   {
    "duration": 24,
    "start_time": "2022-05-11T11:04:46.610Z"
   },
   {
    "duration": 10,
    "start_time": "2022-05-11T11:04:48.224Z"
   },
   {
    "duration": 23,
    "start_time": "2022-05-11T11:04:48.748Z"
   },
   {
    "duration": 5,
    "start_time": "2022-05-11T11:04:50.586Z"
   },
   {
    "duration": 6,
    "start_time": "2022-05-11T11:04:51.852Z"
   },
   {
    "duration": 11,
    "start_time": "2022-05-11T11:04:53.943Z"
   },
   {
    "duration": 25,
    "start_time": "2022-05-11T11:04:55.730Z"
   },
   {
    "duration": 14,
    "start_time": "2022-05-11T11:04:58.814Z"
   },
   {
    "duration": 26,
    "start_time": "2022-05-11T11:05:40.957Z"
   },
   {
    "duration": 12,
    "start_time": "2022-05-11T11:05:48.734Z"
   },
   {
    "duration": 25,
    "start_time": "2022-05-11T11:06:01.380Z"
   },
   {
    "duration": 11,
    "start_time": "2022-05-11T11:10:37.324Z"
   },
   {
    "duration": 97,
    "start_time": "2022-05-11T11:10:38.233Z"
   },
   {
    "duration": 129,
    "start_time": "2022-05-11T11:10:44.590Z"
   },
   {
    "duration": 24,
    "start_time": "2022-05-11T11:24:17.499Z"
   },
   {
    "duration": 6,
    "start_time": "2022-05-11T11:24:35.316Z"
   },
   {
    "duration": 13,
    "start_time": "2022-05-11T11:24:43.617Z"
   },
   {
    "duration": 58,
    "start_time": "2022-05-11T11:24:53.205Z"
   },
   {
    "duration": 25,
    "start_time": "2022-05-11T11:25:06.252Z"
   },
   {
    "duration": 16,
    "start_time": "2022-05-11T11:25:20.723Z"
   },
   {
    "duration": 13,
    "start_time": "2022-05-11T11:27:59.622Z"
   },
   {
    "duration": 21,
    "start_time": "2022-05-11T11:28:03.086Z"
   },
   {
    "duration": 25,
    "start_time": "2022-05-11T11:29:29.295Z"
   },
   {
    "duration": 12,
    "start_time": "2022-05-11T11:29:36.200Z"
   },
   {
    "duration": 21,
    "start_time": "2022-05-11T11:29:36.896Z"
   },
   {
    "duration": 25,
    "start_time": "2022-05-11T11:29:58.007Z"
   },
   {
    "duration": 12,
    "start_time": "2022-05-11T11:30:09.701Z"
   },
   {
    "duration": 26,
    "start_time": "2022-05-11T11:42:04.881Z"
   },
   {
    "duration": 158,
    "start_time": "2022-05-11T11:42:05.775Z"
   },
   {
    "duration": 13,
    "start_time": "2022-05-11T11:42:06.903Z"
   },
   {
    "duration": 26,
    "start_time": "2022-05-11T11:42:46.907Z"
   },
   {
    "duration": 13,
    "start_time": "2022-05-11T11:42:54.616Z"
   },
   {
    "duration": 27,
    "start_time": "2022-05-11T11:42:57.814Z"
   },
   {
    "duration": 92,
    "start_time": "2022-05-11T11:42:59.772Z"
   },
   {
    "duration": 12,
    "start_time": "2022-05-11T11:43:29.923Z"
   },
   {
    "duration": 5,
    "start_time": "2022-05-11T11:43:36.765Z"
   },
   {
    "duration": 10,
    "start_time": "2022-05-11T11:43:40.216Z"
   },
   {
    "duration": 27,
    "start_time": "2022-05-11T11:43:49.028Z"
   },
   {
    "duration": 24,
    "start_time": "2022-05-11T11:45:13.491Z"
   },
   {
    "duration": 1255,
    "start_time": "2022-05-11T11:53:32.216Z"
   },
   {
    "duration": 10,
    "start_time": "2022-05-11T11:53:40.163Z"
   },
   {
    "duration": 29,
    "start_time": "2022-05-11T11:55:55.898Z"
   },
   {
    "duration": 540,
    "start_time": "2022-05-11T11:56:30.777Z"
   },
   {
    "duration": 531,
    "start_time": "2022-05-11T11:57:09.708Z"
   },
   {
    "duration": 26,
    "start_time": "2022-05-11T11:57:17.889Z"
   },
   {
    "duration": 5,
    "start_time": "2022-05-11T11:59:14.373Z"
   },
   {
    "duration": 13,
    "start_time": "2022-05-11T11:59:39.962Z"
   },
   {
    "duration": 18,
    "start_time": "2022-05-11T11:59:47.687Z"
   },
   {
    "duration": 130,
    "start_time": "2022-05-11T12:00:38.782Z"
   },
   {
    "duration": 84,
    "start_time": "2022-05-11T12:00:49.738Z"
   },
   {
    "duration": 1803,
    "start_time": "2022-05-11T12:00:58.046Z"
   },
   {
    "duration": 1844,
    "start_time": "2022-05-11T12:01:21.997Z"
   },
   {
    "duration": 20,
    "start_time": "2022-05-11T12:05:05.409Z"
   },
   {
    "duration": 54,
    "start_time": "2022-05-11T12:05:23.590Z"
   },
   {
    "duration": 373,
    "start_time": "2022-05-11T12:05:32.336Z"
   },
   {
    "duration": 375,
    "start_time": "2022-05-11T12:05:58.640Z"
   },
   {
    "duration": 45,
    "start_time": "2022-05-11T12:06:13.929Z"
   },
   {
    "duration": 88,
    "start_time": "2022-05-11T12:13:00.591Z"
   },
   {
    "duration": 4,
    "start_time": "2022-05-11T12:13:11.172Z"
   },
   {
    "duration": 74,
    "start_time": "2022-05-11T12:13:11.900Z"
   },
   {
    "duration": 19,
    "start_time": "2022-05-11T12:13:12.410Z"
   },
   {
    "duration": 19,
    "start_time": "2022-05-11T12:13:13.131Z"
   },
   {
    "duration": 4,
    "start_time": "2022-05-11T12:13:18.344Z"
   },
   {
    "duration": 77,
    "start_time": "2022-05-11T12:13:19.317Z"
   },
   {
    "duration": 20,
    "start_time": "2022-05-11T12:13:20.429Z"
   },
   {
    "duration": 20,
    "start_time": "2022-05-11T12:13:22.781Z"
   },
   {
    "duration": 31,
    "start_time": "2022-05-11T12:13:27.352Z"
   },
   {
    "duration": 11,
    "start_time": "2022-05-11T12:13:29.538Z"
   },
   {
    "duration": 22,
    "start_time": "2022-05-11T12:13:30.264Z"
   },
   {
    "duration": 5,
    "start_time": "2022-05-11T12:13:33.425Z"
   },
   {
    "duration": 5,
    "start_time": "2022-05-11T12:13:35.181Z"
   },
   {
    "duration": 15,
    "start_time": "2022-05-11T12:13:36.549Z"
   },
   {
    "duration": 24,
    "start_time": "2022-05-11T12:13:38.079Z"
   },
   {
    "duration": 28,
    "start_time": "2022-05-11T12:13:39.647Z"
   },
   {
    "duration": 13,
    "start_time": "2022-05-11T12:14:38.145Z"
   },
   {
    "duration": 12,
    "start_time": "2022-05-11T12:15:11.673Z"
   },
   {
    "duration": 12,
    "start_time": "2022-05-11T12:15:22.878Z"
   },
   {
    "duration": 7,
    "start_time": "2022-05-11T12:17:22.636Z"
   },
   {
    "duration": 5,
    "start_time": "2022-05-11T12:17:33.068Z"
   },
   {
    "duration": 23,
    "start_time": "2022-05-11T12:23:45.068Z"
   },
   {
    "duration": 469,
    "start_time": "2022-05-11T12:24:05.913Z"
   },
   {
    "duration": 232,
    "start_time": "2022-05-11T12:24:27.620Z"
   },
   {
    "duration": 226,
    "start_time": "2022-05-11T12:25:02.343Z"
   },
   {
    "duration": 12,
    "start_time": "2022-05-11T12:29:37.330Z"
   },
   {
    "duration": 14,
    "start_time": "2022-05-11T12:29:53.191Z"
   },
   {
    "duration": 11,
    "start_time": "2022-05-11T12:31:03.307Z"
   },
   {
    "duration": 17,
    "start_time": "2022-05-11T12:31:18.753Z"
   },
   {
    "duration": 233,
    "start_time": "2022-05-11T12:31:30.187Z"
   },
   {
    "duration": 124,
    "start_time": "2022-05-11T12:37:12.223Z"
   },
   {
    "duration": 525,
    "start_time": "2022-05-11T12:38:43.246Z"
   },
   {
    "duration": 444,
    "start_time": "2022-05-11T12:39:23.685Z"
   },
   {
    "duration": 442,
    "start_time": "2022-05-11T12:39:39.809Z"
   },
   {
    "duration": 442,
    "start_time": "2022-05-11T12:40:24.712Z"
   },
   {
    "duration": 86,
    "start_time": "2022-05-11T12:40:35.209Z"
   },
   {
    "duration": 457,
    "start_time": "2022-05-11T12:40:44.917Z"
   },
   {
    "duration": 452,
    "start_time": "2022-05-11T12:41:08.047Z"
   },
   {
    "duration": 549,
    "start_time": "2022-05-11T12:41:59.782Z"
   },
   {
    "duration": 465,
    "start_time": "2022-05-11T12:42:26.314Z"
   },
   {
    "duration": 453,
    "start_time": "2022-05-11T12:42:40.043Z"
   },
   {
    "duration": 119,
    "start_time": "2022-05-11T12:47:45.772Z"
   },
   {
    "duration": 8,
    "start_time": "2022-05-11T12:57:16.652Z"
   },
   {
    "duration": 25,
    "start_time": "2022-05-11T13:04:31.426Z"
   },
   {
    "duration": 45,
    "start_time": "2022-05-11T13:10:09.964Z"
   },
   {
    "duration": 43,
    "start_time": "2022-05-11T13:14:45.793Z"
   },
   {
    "duration": 44,
    "start_time": "2022-05-11T13:15:44.340Z"
   },
   {
    "duration": 97,
    "start_time": "2022-05-11T13:20:29.959Z"
   },
   {
    "duration": 21,
    "start_time": "2022-05-11T14:27:35.248Z"
   },
   {
    "duration": 9,
    "start_time": "2022-05-11T14:27:41.151Z"
   },
   {
    "duration": 9,
    "start_time": "2022-05-11T14:28:18.904Z"
   },
   {
    "duration": 9,
    "start_time": "2022-05-11T14:28:28.003Z"
   },
   {
    "duration": 71,
    "start_time": "2022-05-11T14:28:35.877Z"
   },
   {
    "duration": 20,
    "start_time": "2022-05-11T14:28:36.154Z"
   },
   {
    "duration": 20,
    "start_time": "2022-05-11T14:28:36.393Z"
   },
   {
    "duration": 37,
    "start_time": "2022-05-11T14:28:37.986Z"
   },
   {
    "duration": 11,
    "start_time": "2022-05-11T14:28:39.691Z"
   },
   {
    "duration": 10,
    "start_time": "2022-05-11T14:28:40.143Z"
   },
   {
    "duration": 11,
    "start_time": "2022-05-11T14:29:35.167Z"
   },
   {
    "duration": 12,
    "start_time": "2022-05-11T14:31:09.792Z"
   },
   {
    "duration": 11,
    "start_time": "2022-05-11T14:31:19.044Z"
   },
   {
    "duration": 13,
    "start_time": "2022-05-11T14:32:20.866Z"
   },
   {
    "duration": 22,
    "start_time": "2022-05-11T14:32:23.613Z"
   },
   {
    "duration": 5,
    "start_time": "2022-05-11T14:37:59.574Z"
   },
   {
    "duration": 6,
    "start_time": "2022-05-11T14:38:01.662Z"
   },
   {
    "duration": 12,
    "start_time": "2022-05-11T14:38:02.780Z"
   },
   {
    "duration": 24,
    "start_time": "2022-05-11T14:38:03.840Z"
   },
   {
    "duration": 21,
    "start_time": "2022-05-11T14:38:05.132Z"
   },
   {
    "duration": 44,
    "start_time": "2022-05-11T14:38:09.913Z"
   },
   {
    "duration": 142,
    "start_time": "2022-05-11T15:12:53.956Z"
   },
   {
    "duration": 94,
    "start_time": "2022-05-11T15:12:58.150Z"
   },
   {
    "duration": 7,
    "start_time": "2022-05-11T15:13:19.586Z"
   },
   {
    "duration": 682,
    "start_time": "2022-05-11T15:13:37.887Z"
   },
   {
    "duration": 138,
    "start_time": "2022-05-11T15:14:17.383Z"
   },
   {
    "duration": 8,
    "start_time": "2022-05-11T15:15:41.986Z"
   },
   {
    "duration": 12,
    "start_time": "2022-05-11T15:18:04.577Z"
   },
   {
    "duration": 11,
    "start_time": "2022-05-11T15:19:20.052Z"
   },
   {
    "duration": 11,
    "start_time": "2022-05-11T15:19:26.898Z"
   },
   {
    "duration": 140,
    "start_time": "2022-05-11T15:20:20.688Z"
   },
   {
    "duration": 134,
    "start_time": "2022-05-11T15:20:36.094Z"
   },
   {
    "duration": 85,
    "start_time": "2022-05-11T15:20:44.889Z"
   },
   {
    "duration": 97,
    "start_time": "2022-05-11T15:20:56.513Z"
   },
   {
    "duration": 8,
    "start_time": "2022-05-11T15:21:08.259Z"
   },
   {
    "duration": 6,
    "start_time": "2022-05-11T15:22:06.756Z"
   },
   {
    "duration": 9,
    "start_time": "2022-05-11T15:23:15.376Z"
   },
   {
    "duration": 6,
    "start_time": "2022-05-11T15:25:40.195Z"
   },
   {
    "duration": 109,
    "start_time": "2022-05-11T15:31:27.899Z"
   },
   {
    "duration": 7,
    "start_time": "2022-05-11T15:33:39.661Z"
   },
   {
    "duration": 7,
    "start_time": "2022-05-11T15:47:30.368Z"
   },
   {
    "duration": 9,
    "start_time": "2022-05-11T15:47:49.071Z"
   },
   {
    "duration": 9,
    "start_time": "2022-05-11T15:47:50.206Z"
   },
   {
    "duration": 8,
    "start_time": "2022-05-11T15:48:14.129Z"
   },
   {
    "duration": 9,
    "start_time": "2022-05-11T15:48:22.518Z"
   },
   {
    "duration": 7,
    "start_time": "2022-05-11T15:49:02.196Z"
   },
   {
    "duration": 8,
    "start_time": "2022-05-11T15:49:14.481Z"
   },
   {
    "duration": 9,
    "start_time": "2022-05-11T15:49:23.166Z"
   },
   {
    "duration": 8,
    "start_time": "2022-05-11T15:49:30.472Z"
   },
   {
    "duration": 8,
    "start_time": "2022-05-11T15:51:08.727Z"
   },
   {
    "duration": 8,
    "start_time": "2022-05-11T15:51:15.904Z"
   },
   {
    "duration": 7,
    "start_time": "2022-05-11T15:51:25.873Z"
   },
   {
    "duration": 7,
    "start_time": "2022-05-11T15:51:31.187Z"
   },
   {
    "duration": 8,
    "start_time": "2022-05-11T15:51:36.759Z"
   },
   {
    "duration": 8,
    "start_time": "2022-05-11T15:54:10.551Z"
   },
   {
    "duration": 8,
    "start_time": "2022-05-11T15:54:16.222Z"
   },
   {
    "duration": 8,
    "start_time": "2022-05-11T15:54:20.526Z"
   },
   {
    "duration": 7,
    "start_time": "2022-05-11T15:54:25.154Z"
   },
   {
    "duration": 8,
    "start_time": "2022-05-11T15:54:35.160Z"
   },
   {
    "duration": 7,
    "start_time": "2022-05-11T15:54:41.792Z"
   },
   {
    "duration": 8,
    "start_time": "2022-05-11T15:54:50.382Z"
   },
   {
    "duration": 8,
    "start_time": "2022-05-11T15:54:54.781Z"
   },
   {
    "duration": 8,
    "start_time": "2022-05-11T15:55:00.152Z"
   },
   {
    "duration": 7,
    "start_time": "2022-05-11T15:55:05.481Z"
   },
   {
    "duration": 9,
    "start_time": "2022-05-11T15:55:12.875Z"
   },
   {
    "duration": 7,
    "start_time": "2022-05-11T15:55:19.564Z"
   },
   {
    "duration": 24,
    "start_time": "2022-05-11T15:55:34.810Z"
   },
   {
    "duration": 10,
    "start_time": "2022-05-11T15:55:41.139Z"
   },
   {
    "duration": 9,
    "start_time": "2022-05-11T15:55:46.322Z"
   },
   {
    "duration": 8,
    "start_time": "2022-05-11T15:55:56.717Z"
   },
   {
    "duration": 7,
    "start_time": "2022-05-11T15:56:08.661Z"
   },
   {
    "duration": 7,
    "start_time": "2022-05-11T15:56:23.807Z"
   },
   {
    "duration": 9,
    "start_time": "2022-05-11T15:56:28.426Z"
   },
   {
    "duration": 8,
    "start_time": "2022-05-11T15:56:34.067Z"
   },
   {
    "duration": 7,
    "start_time": "2022-05-11T15:56:39.092Z"
   },
   {
    "duration": 7,
    "start_time": "2022-05-11T15:56:43.445Z"
   },
   {
    "duration": 8,
    "start_time": "2022-05-11T15:56:47.978Z"
   },
   {
    "duration": 7,
    "start_time": "2022-05-11T15:56:54.239Z"
   },
   {
    "duration": 8,
    "start_time": "2022-05-11T15:56:58.165Z"
   },
   {
    "duration": 7,
    "start_time": "2022-05-11T15:57:02.946Z"
   },
   {
    "duration": 22,
    "start_time": "2022-05-11T15:57:33.649Z"
   },
   {
    "duration": 8,
    "start_time": "2022-05-11T15:57:40.165Z"
   },
   {
    "duration": 9,
    "start_time": "2022-05-11T15:57:44.655Z"
   },
   {
    "duration": 8,
    "start_time": "2022-05-11T15:57:55.221Z"
   },
   {
    "duration": 8,
    "start_time": "2022-05-11T15:58:02.473Z"
   },
   {
    "duration": 7,
    "start_time": "2022-05-11T15:59:26.948Z"
   },
   {
    "duration": 9,
    "start_time": "2022-05-11T15:59:35.752Z"
   },
   {
    "duration": 8,
    "start_time": "2022-05-11T15:59:49.317Z"
   },
   {
    "duration": 7,
    "start_time": "2022-05-11T15:59:54.293Z"
   },
   {
    "duration": 7,
    "start_time": "2022-05-11T15:59:59.878Z"
   },
   {
    "duration": 9,
    "start_time": "2022-05-11T16:00:06.041Z"
   },
   {
    "duration": 12,
    "start_time": "2022-05-11T16:05:51.568Z"
   },
   {
    "duration": 35,
    "start_time": "2022-05-11T16:10:08.089Z"
   },
   {
    "duration": 12,
    "start_time": "2022-05-11T16:10:48.560Z"
   },
   {
    "duration": 13,
    "start_time": "2022-05-11T16:11:35.106Z"
   },
   {
    "duration": 7,
    "start_time": "2022-05-11T16:12:18.224Z"
   },
   {
    "duration": 9,
    "start_time": "2022-05-11T16:16:32.724Z"
   },
   {
    "duration": 93,
    "start_time": "2022-05-11T16:20:00.727Z"
   },
   {
    "duration": 105,
    "start_time": "2022-05-11T16:20:27.107Z"
   },
   {
    "duration": 138,
    "start_time": "2022-05-11T16:20:40.285Z"
   },
   {
    "duration": 81,
    "start_time": "2022-05-11T16:21:51.491Z"
   },
   {
    "duration": 91,
    "start_time": "2022-05-11T16:22:01.808Z"
   },
   {
    "duration": 135,
    "start_time": "2022-05-11T16:22:50.409Z"
   },
   {
    "duration": 105,
    "start_time": "2022-05-11T16:23:33.881Z"
   },
   {
    "duration": 14,
    "start_time": "2022-05-11T16:26:32.515Z"
   },
   {
    "duration": 14,
    "start_time": "2022-05-11T16:26:46.511Z"
   },
   {
    "duration": 8,
    "start_time": "2022-05-11T16:26:56.570Z"
   },
   {
    "duration": 7,
    "start_time": "2022-05-11T16:27:17.325Z"
   },
   {
    "duration": 8,
    "start_time": "2022-05-11T16:31:56.300Z"
   },
   {
    "duration": 7,
    "start_time": "2022-05-11T16:34:48.106Z"
   },
   {
    "duration": 13,
    "start_time": "2022-05-11T16:39:58.652Z"
   },
   {
    "duration": 4,
    "start_time": "2022-05-11T16:39:59.347Z"
   },
   {
    "duration": 8,
    "start_time": "2022-05-11T16:39:59.947Z"
   },
   {
    "duration": 133,
    "start_time": "2022-05-11T16:40:00.518Z"
   },
   {
    "duration": 8,
    "start_time": "2022-05-11T16:40:01.125Z"
   },
   {
    "duration": 102,
    "start_time": "2022-05-11T16:40:02.093Z"
   },
   {
    "duration": 8,
    "start_time": "2022-05-11T16:40:02.645Z"
   },
   {
    "duration": 10,
    "start_time": "2022-05-11T16:40:14.204Z"
   },
   {
    "duration": 8,
    "start_time": "2022-05-11T16:40:19.787Z"
   },
   {
    "duration": 9,
    "start_time": "2022-05-11T16:45:23.458Z"
   },
   {
    "duration": 14,
    "start_time": "2022-05-11T16:45:36.626Z"
   },
   {
    "duration": 13,
    "start_time": "2022-05-11T16:45:55.745Z"
   },
   {
    "duration": 14,
    "start_time": "2022-05-11T16:46:53.908Z"
   },
   {
    "duration": 15,
    "start_time": "2022-05-11T16:48:00.025Z"
   },
   {
    "duration": 14,
    "start_time": "2022-05-11T16:48:09.180Z"
   },
   {
    "duration": 13,
    "start_time": "2022-05-11T16:48:16.727Z"
   },
   {
    "duration": 12,
    "start_time": "2022-05-11T16:48:54.111Z"
   },
   {
    "duration": 14,
    "start_time": "2022-05-11T17:04:28.344Z"
   },
   {
    "duration": 9,
    "start_time": "2022-05-11T17:05:51.094Z"
   },
   {
    "duration": 1384,
    "start_time": "2022-05-11T17:07:30.962Z"
   },
   {
    "duration": 22,
    "start_time": "2022-05-11T17:07:44.309Z"
   },
   {
    "duration": 22,
    "start_time": "2022-05-11T17:07:52.369Z"
   },
   {
    "duration": 1315,
    "start_time": "2022-05-11T17:07:57.688Z"
   },
   {
    "duration": 1364,
    "start_time": "2022-05-11T17:08:35.114Z"
   },
   {
    "duration": 1702,
    "start_time": "2022-05-11T17:08:44.586Z"
   },
   {
    "duration": 1668,
    "start_time": "2022-05-11T17:09:31.978Z"
   },
   {
    "duration": 9,
    "start_time": "2022-05-11T17:12:07.886Z"
   },
   {
    "duration": 10,
    "start_time": "2022-05-11T17:12:29.235Z"
   },
   {
    "duration": 10,
    "start_time": "2022-05-11T17:13:00.177Z"
   },
   {
    "duration": 10,
    "start_time": "2022-05-11T17:13:06.660Z"
   },
   {
    "duration": 12,
    "start_time": "2022-05-11T17:13:47.126Z"
   },
   {
    "duration": 12,
    "start_time": "2022-05-11T17:14:49.165Z"
   },
   {
    "duration": 240,
    "start_time": "2022-05-11T17:22:52.173Z"
   },
   {
    "duration": 10,
    "start_time": "2022-05-11T17:32:39.786Z"
   },
   {
    "duration": 9,
    "start_time": "2022-05-11T17:33:41.250Z"
   },
   {
    "duration": 9,
    "start_time": "2022-05-11T17:34:37.948Z"
   },
   {
    "duration": 111,
    "start_time": "2022-05-11T17:35:57.485Z"
   },
   {
    "duration": 8,
    "start_time": "2022-05-11T17:36:30.178Z"
   },
   {
    "duration": 8,
    "start_time": "2022-05-11T17:36:35.132Z"
   },
   {
    "duration": 11,
    "start_time": "2022-05-11T17:36:43.851Z"
   },
   {
    "duration": 9,
    "start_time": "2022-05-11T17:36:47.824Z"
   },
   {
    "duration": 9,
    "start_time": "2022-05-11T17:38:35.456Z"
   },
   {
    "duration": 6,
    "start_time": "2022-05-11T17:43:16.101Z"
   },
   {
    "duration": 5,
    "start_time": "2022-05-11T17:43:26.192Z"
   },
   {
    "duration": 9,
    "start_time": "2022-05-11T17:43:35.912Z"
   },
   {
    "duration": 7,
    "start_time": "2022-05-11T17:44:44.623Z"
   },
   {
    "duration": 7,
    "start_time": "2022-05-11T17:45:13.369Z"
   },
   {
    "duration": 15,
    "start_time": "2022-05-11T17:46:43.450Z"
   },
   {
    "duration": 16,
    "start_time": "2022-05-11T17:47:05.721Z"
   },
   {
    "duration": 14,
    "start_time": "2022-05-11T17:59:26.235Z"
   },
   {
    "duration": 15,
    "start_time": "2022-05-11T17:59:39.621Z"
   },
   {
    "duration": 14,
    "start_time": "2022-05-11T17:59:48.615Z"
   },
   {
    "duration": 14,
    "start_time": "2022-05-11T17:59:56.507Z"
   },
   {
    "duration": 15,
    "start_time": "2022-05-11T18:00:59.879Z"
   },
   {
    "duration": 13,
    "start_time": "2022-05-11T18:01:15.170Z"
   },
   {
    "duration": 8,
    "start_time": "2022-05-11T18:29:24.945Z"
   },
   {
    "duration": 7,
    "start_time": "2022-05-11T18:29:38.743Z"
   },
   {
    "duration": 9,
    "start_time": "2022-05-11T18:30:08.440Z"
   },
   {
    "duration": 7,
    "start_time": "2022-05-11T18:30:16.788Z"
   },
   {
    "duration": 17,
    "start_time": "2022-05-11T18:33:23.174Z"
   },
   {
    "duration": 13,
    "start_time": "2022-05-11T18:37:43.752Z"
   },
   {
    "duration": 18,
    "start_time": "2022-05-11T18:42:02.114Z"
   },
   {
    "duration": 19,
    "start_time": "2022-05-11T18:42:52.355Z"
   },
   {
    "duration": 9,
    "start_time": "2022-05-11T18:56:06.641Z"
   },
   {
    "duration": 85,
    "start_time": "2022-05-11T18:56:07.111Z"
   },
   {
    "duration": 9,
    "start_time": "2022-05-11T18:56:07.641Z"
   },
   {
    "duration": 257,
    "start_time": "2022-05-11T18:56:08.430Z"
   },
   {
    "duration": 18,
    "start_time": "2022-05-11T18:56:09.509Z"
   },
   {
    "duration": 17,
    "start_time": "2022-05-11T18:56:15.608Z"
   },
   {
    "duration": 127,
    "start_time": "2022-05-11T18:56:19.181Z"
   },
   {
    "duration": 3,
    "start_time": "2022-05-11T18:56:25.414Z"
   },
   {
    "duration": 9,
    "start_time": "2022-05-11T18:56:26.777Z"
   },
   {
    "duration": 8,
    "start_time": "2022-05-11T18:56:28.420Z"
   },
   {
    "duration": 7,
    "start_time": "2022-05-11T18:56:32.713Z"
   },
   {
    "duration": 11,
    "start_time": "2022-05-11T18:56:35.567Z"
   },
   {
    "duration": 14,
    "start_time": "2022-05-11T19:32:50.724Z"
   },
   {
    "duration": 17,
    "start_time": "2022-05-11T19:33:33.236Z"
   },
   {
    "duration": 17,
    "start_time": "2022-05-11T19:36:20.428Z"
   },
   {
    "duration": 15,
    "start_time": "2022-05-11T19:38:35.225Z"
   },
   {
    "duration": 14,
    "start_time": "2022-05-11T19:46:24.043Z"
   },
   {
    "duration": 140,
    "start_time": "2022-05-11T19:47:38.459Z"
   },
   {
    "duration": 93,
    "start_time": "2022-05-11T19:48:01.170Z"
   },
   {
    "duration": 155,
    "start_time": "2022-05-11T19:48:47.195Z"
   },
   {
    "duration": 9,
    "start_time": "2022-05-11T19:49:57.945Z"
   },
   {
    "duration": 9,
    "start_time": "2022-05-11T19:50:10.225Z"
   },
   {
    "duration": 18,
    "start_time": "2022-05-11T19:50:15.079Z"
   },
   {
    "duration": 10,
    "start_time": "2022-05-11T19:50:28.595Z"
   },
   {
    "duration": 14,
    "start_time": "2022-05-11T19:50:34.843Z"
   },
   {
    "duration": 10,
    "start_time": "2022-05-11T19:51:02.481Z"
   },
   {
    "duration": 9,
    "start_time": "2022-05-11T19:52:43.803Z"
   },
   {
    "duration": 11,
    "start_time": "2022-05-11T19:53:06.049Z"
   },
   {
    "duration": 11,
    "start_time": "2022-05-11T19:57:34.463Z"
   },
   {
    "duration": 8,
    "start_time": "2022-05-11T19:58:19.733Z"
   },
   {
    "duration": 10,
    "start_time": "2022-05-11T20:10:20.329Z"
   },
   {
    "duration": 24,
    "start_time": "2022-05-11T20:20:24.925Z"
   },
   {
    "duration": 24,
    "start_time": "2022-05-11T20:20:32.328Z"
   },
   {
    "duration": 32,
    "start_time": "2022-05-11T20:47:46.292Z"
   },
   {
    "duration": 12,
    "start_time": "2022-05-11T20:48:20.165Z"
   },
   {
    "duration": 34,
    "start_time": "2022-05-11T20:49:51.429Z"
   },
   {
    "duration": 13,
    "start_time": "2022-05-11T20:50:11.443Z"
   },
   {
    "duration": 34,
    "start_time": "2022-05-11T20:51:45.459Z"
   },
   {
    "duration": 42,
    "start_time": "2022-05-11T20:52:01.339Z"
   },
   {
    "duration": 19,
    "start_time": "2022-05-11T20:52:18.825Z"
   },
   {
    "duration": 30,
    "start_time": "2022-05-11T20:55:38.918Z"
   },
   {
    "duration": 30,
    "start_time": "2022-05-11T20:55:47.670Z"
   },
   {
    "duration": 42,
    "start_time": "2022-05-11T21:02:45.076Z"
   },
   {
    "duration": 13,
    "start_time": "2022-05-11T21:22:36.466Z"
   },
   {
    "duration": 22,
    "start_time": "2022-05-11T21:23:22.561Z"
   },
   {
    "duration": 21,
    "start_time": "2022-05-11T21:24:06.215Z"
   },
   {
    "duration": 21,
    "start_time": "2022-05-11T21:24:07.806Z"
   },
   {
    "duration": 5,
    "start_time": "2022-05-11T21:41:32.551Z"
   },
   {
    "duration": 8,
    "start_time": "2022-05-11T21:41:55.813Z"
   },
   {
    "duration": 19,
    "start_time": "2022-05-11T21:54:03.726Z"
   },
   {
    "duration": 13,
    "start_time": "2022-05-11T21:54:24.424Z"
   },
   {
    "duration": 22,
    "start_time": "2022-05-11T21:55:40.007Z"
   },
   {
    "duration": 20,
    "start_time": "2022-05-11T21:55:58.772Z"
   },
   {
    "duration": 5,
    "start_time": "2022-05-11T22:14:15.916Z"
   },
   {
    "duration": 183,
    "start_time": "2022-05-11T22:15:47.832Z"
   },
   {
    "duration": 5,
    "start_time": "2022-05-11T22:16:50.242Z"
   },
   {
    "duration": 13,
    "start_time": "2022-05-11T22:16:57.417Z"
   },
   {
    "duration": 11,
    "start_time": "2022-05-11T22:17:29.654Z"
   },
   {
    "duration": 12,
    "start_time": "2022-05-11T22:17:44.666Z"
   },
   {
    "duration": 34,
    "start_time": "2022-05-11T22:18:04.388Z"
   },
   {
    "duration": 16,
    "start_time": "2022-05-11T22:18:25.193Z"
   },
   {
    "duration": 43,
    "start_time": "2022-05-11T22:23:59.233Z"
   },
   {
    "duration": 8,
    "start_time": "2022-05-11T22:25:37.124Z"
   },
   {
    "duration": 18,
    "start_time": "2022-05-11T22:25:54.516Z"
   },
   {
    "duration": 4,
    "start_time": "2022-05-11T22:26:37.271Z"
   },
   {
    "duration": 227,
    "start_time": "2022-05-11T22:26:38.026Z"
   },
   {
    "duration": 18,
    "start_time": "2022-05-11T22:26:39.035Z"
   },
   {
    "duration": 20,
    "start_time": "2022-05-11T22:26:39.609Z"
   },
   {
    "duration": 23,
    "start_time": "2022-05-11T22:26:41.936Z"
   },
   {
    "duration": 10,
    "start_time": "2022-05-11T22:26:44.861Z"
   },
   {
    "duration": 11,
    "start_time": "2022-05-11T22:26:46.119Z"
   },
   {
    "duration": 21,
    "start_time": "2022-05-11T22:26:47.608Z"
   },
   {
    "duration": 4,
    "start_time": "2022-05-11T22:26:49.824Z"
   },
   {
    "duration": 6,
    "start_time": "2022-05-11T22:26:51.823Z"
   },
   {
    "duration": 10,
    "start_time": "2022-05-11T22:26:53.983Z"
   },
   {
    "duration": 25,
    "start_time": "2022-05-11T22:27:01.438Z"
   },
   {
    "duration": 24,
    "start_time": "2022-05-11T22:27:06.280Z"
   },
   {
    "duration": 21,
    "start_time": "2022-05-11T22:27:08.396Z"
   },
   {
    "duration": 42,
    "start_time": "2022-05-11T22:27:13.381Z"
   },
   {
    "duration": 6,
    "start_time": "2022-05-11T22:27:16.715Z"
   },
   {
    "duration": 21,
    "start_time": "2022-05-11T22:27:22.150Z"
   },
   {
    "duration": 22,
    "start_time": "2022-05-11T22:27:24.294Z"
   },
   {
    "duration": 9,
    "start_time": "2022-05-11T22:27:28.505Z"
   },
   {
    "duration": 10,
    "start_time": "2022-05-11T22:27:33.505Z"
   },
   {
    "duration": 8,
    "start_time": "2022-05-11T22:27:36.104Z"
   },
   {
    "duration": 15,
    "start_time": "2022-05-11T22:27:38.119Z"
   },
   {
    "duration": 8,
    "start_time": "2022-05-11T22:27:42.825Z"
   },
   {
    "duration": 7,
    "start_time": "2022-05-11T22:27:44.850Z"
   },
   {
    "duration": 7,
    "start_time": "2022-05-11T22:27:46.474Z"
   },
   {
    "duration": 11,
    "start_time": "2022-05-11T22:27:48.353Z"
   },
   {
    "duration": 11,
    "start_time": "2022-05-11T22:27:51.682Z"
   },
   {
    "duration": 93,
    "start_time": "2022-05-11T22:27:52.309Z"
   },
   {
    "duration": 92,
    "start_time": "2022-05-11T22:27:53.780Z"
   },
   {
    "duration": 20,
    "start_time": "2022-05-11T22:27:54.658Z"
   },
   {
    "duration": 30,
    "start_time": "2022-05-11T22:27:57.826Z"
   },
   {
    "duration": 41,
    "start_time": "2022-05-11T22:28:00.255Z"
   },
   {
    "duration": 16,
    "start_time": "2022-05-11T22:28:00.938Z"
   },
   {
    "duration": 8,
    "start_time": "2022-05-11T22:28:08.947Z"
   },
   {
    "duration": 14,
    "start_time": "2022-05-11T22:31:16.134Z"
   },
   {
    "duration": 15,
    "start_time": "2022-05-11T22:33:36.604Z"
   },
   {
    "duration": 12,
    "start_time": "2022-05-11T22:35:25.294Z"
   },
   {
    "duration": 32,
    "start_time": "2022-05-11T22:35:37.594Z"
   },
   {
    "duration": 14,
    "start_time": "2022-05-11T22:35:38.878Z"
   },
   {
    "duration": 9,
    "start_time": "2022-05-11T22:36:17.234Z"
   },
   {
    "duration": 8,
    "start_time": "2022-05-11T22:36:31.178Z"
   },
   {
    "duration": 15,
    "start_time": "2022-05-11T22:37:31.086Z"
   },
   {
    "duration": 16,
    "start_time": "2022-05-11T22:44:13.021Z"
   },
   {
    "duration": 14,
    "start_time": "2022-05-11T22:44:37.584Z"
   },
   {
    "duration": 69,
    "start_time": "2022-05-11T22:44:49.716Z"
   },
   {
    "duration": 19,
    "start_time": "2022-05-11T22:44:51.559Z"
   },
   {
    "duration": 66,
    "start_time": "2022-05-11T22:45:25.836Z"
   },
   {
    "duration": 19,
    "start_time": "2022-05-11T22:45:26.307Z"
   },
   {
    "duration": 19,
    "start_time": "2022-05-11T22:45:26.757Z"
   },
   {
    "duration": 23,
    "start_time": "2022-05-11T22:45:28.864Z"
   },
   {
    "duration": 11,
    "start_time": "2022-05-11T22:45:30.516Z"
   },
   {
    "duration": 12,
    "start_time": "2022-05-11T22:45:31.039Z"
   },
   {
    "duration": 21,
    "start_time": "2022-05-11T22:45:32.153Z"
   },
   {
    "duration": 5,
    "start_time": "2022-05-11T22:45:33.797Z"
   },
   {
    "duration": 6,
    "start_time": "2022-05-11T22:45:34.883Z"
   },
   {
    "duration": 11,
    "start_time": "2022-05-11T22:45:35.953Z"
   },
   {
    "duration": 25,
    "start_time": "2022-05-11T22:45:36.989Z"
   },
   {
    "duration": 22,
    "start_time": "2022-05-11T22:45:38.187Z"
   },
   {
    "duration": 42,
    "start_time": "2022-05-11T22:45:41.500Z"
   },
   {
    "duration": 7,
    "start_time": "2022-05-11T22:45:43.576Z"
   },
   {
    "duration": 21,
    "start_time": "2022-05-11T22:45:47.247Z"
   },
   {
    "duration": 21,
    "start_time": "2022-05-11T22:45:48.537Z"
   },
   {
    "duration": 8,
    "start_time": "2022-05-11T22:45:49.603Z"
   },
   {
    "duration": 8,
    "start_time": "2022-05-11T22:45:57.069Z"
   },
   {
    "duration": 9,
    "start_time": "2022-05-11T22:46:00.500Z"
   },
   {
    "duration": 9,
    "start_time": "2022-05-11T22:46:07.035Z"
   },
   {
    "duration": 15,
    "start_time": "2022-05-11T22:46:13.535Z"
   },
   {
    "duration": 8,
    "start_time": "2022-05-11T22:46:26.505Z"
   },
   {
    "duration": 7,
    "start_time": "2022-05-11T22:46:27.952Z"
   },
   {
    "duration": 7,
    "start_time": "2022-05-11T22:46:29.391Z"
   },
   {
    "duration": 11,
    "start_time": "2022-05-11T22:46:31.111Z"
   },
   {
    "duration": 9,
    "start_time": "2022-05-11T22:46:33.766Z"
   },
   {
    "duration": 22,
    "start_time": "2022-05-11T22:46:36.068Z"
   },
   {
    "duration": 31,
    "start_time": "2022-05-11T22:46:37.368Z"
   },
   {
    "duration": 14,
    "start_time": "2022-05-11T22:46:38.440Z"
   },
   {
    "duration": 31,
    "start_time": "2022-05-11T22:47:57.811Z"
   },
   {
    "duration": 14,
    "start_time": "2022-05-11T22:47:59.448Z"
   },
   {
    "duration": 43,
    "start_time": "2022-05-11T22:48:00.866Z"
   },
   {
    "duration": 43,
    "start_time": "2022-05-11T22:53:35.589Z"
   },
   {
    "duration": 12,
    "start_time": "2022-05-11T22:53:40.129Z"
   },
   {
    "duration": 42,
    "start_time": "2022-05-11T22:53:48.428Z"
   },
   {
    "duration": 42,
    "start_time": "2022-05-11T22:54:02.268Z"
   },
   {
    "duration": 16,
    "start_time": "2022-05-11T23:14:31.028Z"
   },
   {
    "duration": 21,
    "start_time": "2022-05-11T23:15:21.481Z"
   },
   {
    "duration": 15,
    "start_time": "2022-05-11T23:15:43.241Z"
   },
   {
    "duration": 18,
    "start_time": "2022-05-11T23:19:18.067Z"
   },
   {
    "duration": 20,
    "start_time": "2022-05-11T23:19:52.066Z"
   },
   {
    "duration": 16,
    "start_time": "2022-05-11T23:20:29.281Z"
   },
   {
    "duration": 12,
    "start_time": "2022-05-11T23:20:47.228Z"
   },
   {
    "duration": 20,
    "start_time": "2022-05-11T23:20:58.515Z"
   },
   {
    "duration": 9,
    "start_time": "2022-05-11T23:21:01.572Z"
   },
   {
    "duration": 12,
    "start_time": "2022-05-11T23:21:03.170Z"
   },
   {
    "duration": 30,
    "start_time": "2022-05-11T23:21:04.286Z"
   },
   {
    "duration": 17,
    "start_time": "2022-05-11T23:21:04.905Z"
   },
   {
    "duration": 9,
    "start_time": "2022-05-11T23:22:06.749Z"
   },
   {
    "duration": 12,
    "start_time": "2022-05-11T23:49:20.526Z"
   },
   {
    "duration": 12,
    "start_time": "2022-05-11T23:49:30.930Z"
   },
   {
    "duration": 15,
    "start_time": "2022-05-11T23:50:35.980Z"
   },
   {
    "duration": 12,
    "start_time": "2022-05-11T23:52:45.722Z"
   },
   {
    "duration": 13,
    "start_time": "2022-05-11T23:56:28.107Z"
   },
   {
    "duration": 11,
    "start_time": "2022-05-12T00:12:16.017Z"
   },
   {
    "duration": 18,
    "start_time": "2022-05-12T00:12:30.538Z"
   },
   {
    "duration": 26,
    "start_time": "2022-05-12T00:13:10.258Z"
   },
   {
    "duration": 27,
    "start_time": "2022-05-12T00:14:00.244Z"
   },
   {
    "duration": 43,
    "start_time": "2022-05-12T00:14:21.220Z"
   },
   {
    "duration": 6,
    "start_time": "2022-05-12T00:16:20.226Z"
   },
   {
    "duration": 13,
    "start_time": "2022-05-12T00:16:31.982Z"
   },
   {
    "duration": 72,
    "start_time": "2022-05-12T00:16:54.974Z"
   },
   {
    "duration": 35,
    "start_time": "2022-05-12T00:17:05.379Z"
   },
   {
    "duration": 19,
    "start_time": "2022-05-12T00:17:21.548Z"
   },
   {
    "duration": 14,
    "start_time": "2022-05-12T00:19:07.417Z"
   },
   {
    "duration": 12,
    "start_time": "2022-05-12T00:19:35.126Z"
   },
   {
    "duration": 13,
    "start_time": "2022-05-12T00:20:14.677Z"
   },
   {
    "duration": 102,
    "start_time": "2022-05-12T00:22:46.778Z"
   },
   {
    "duration": 98,
    "start_time": "2022-05-12T00:23:35.489Z"
   },
   {
    "duration": 14,
    "start_time": "2022-05-12T00:23:48.205Z"
   },
   {
    "duration": 6,
    "start_time": "2022-05-12T00:25:18.071Z"
   },
   {
    "duration": 22,
    "start_time": "2022-05-12T00:25:59.665Z"
   },
   {
    "duration": 69,
    "start_time": "2022-05-12T00:26:13.697Z"
   },
   {
    "duration": 21,
    "start_time": "2022-05-12T00:26:34.290Z"
   },
   {
    "duration": 68,
    "start_time": "2022-05-12T00:28:58.269Z"
   },
   {
    "duration": 20,
    "start_time": "2022-05-12T00:29:06.182Z"
   },
   {
    "duration": 24,
    "start_time": "2022-05-12T00:31:21.848Z"
   },
   {
    "duration": 24,
    "start_time": "2022-05-12T00:32:45.817Z"
   },
   {
    "duration": 65,
    "start_time": "2022-05-12T00:33:08.241Z"
   },
   {
    "duration": 20,
    "start_time": "2022-05-12T00:33:23.290Z"
   },
   {
    "duration": 24,
    "start_time": "2022-05-12T00:33:28.745Z"
   },
   {
    "duration": 10,
    "start_time": "2022-05-12T00:35:37.334Z"
   },
   {
    "duration": 69,
    "start_time": "2022-05-12T00:35:48.839Z"
   },
   {
    "duration": 19,
    "start_time": "2022-05-12T00:36:14.633Z"
   },
   {
    "duration": 15,
    "start_time": "2022-05-12T00:36:20.509Z"
   },
   {
    "duration": 24,
    "start_time": "2022-05-12T00:37:10.887Z"
   },
   {
    "duration": 17,
    "start_time": "2022-05-12T00:37:32.907Z"
   },
   {
    "duration": 24,
    "start_time": "2022-05-12T00:37:48.025Z"
   },
   {
    "duration": 19,
    "start_time": "2022-05-12T00:37:54.574Z"
   },
   {
    "duration": 24,
    "start_time": "2022-05-12T00:37:58.628Z"
   },
   {
    "duration": 67,
    "start_time": "2022-05-12T00:38:36.809Z"
   },
   {
    "duration": 19,
    "start_time": "2022-05-12T00:38:56.395Z"
   },
   {
    "duration": 14,
    "start_time": "2022-05-12T00:39:01.813Z"
   },
   {
    "duration": 23,
    "start_time": "2022-05-12T00:39:06.013Z"
   },
   {
    "duration": 10,
    "start_time": "2022-05-12T00:39:12.240Z"
   },
   {
    "duration": 9,
    "start_time": "2022-05-12T00:40:28.500Z"
   },
   {
    "duration": 8,
    "start_time": "2022-05-12T00:40:32.909Z"
   },
   {
    "duration": 41,
    "start_time": "2022-05-12T00:40:49.000Z"
   },
   {
    "duration": 9,
    "start_time": "2022-05-12T00:47:55.757Z"
   },
   {
    "duration": 8,
    "start_time": "2022-05-12T00:49:04.120Z"
   },
   {
    "duration": 12,
    "start_time": "2022-05-12T00:49:22.486Z"
   },
   {
    "duration": 33,
    "start_time": "2022-05-12T00:49:28.512Z"
   },
   {
    "duration": 9,
    "start_time": "2022-05-12T00:49:48.191Z"
   },
   {
    "duration": 9,
    "start_time": "2022-05-12T00:50:08.734Z"
   },
   {
    "duration": 92,
    "start_time": "2022-05-12T00:51:24.039Z"
   },
   {
    "duration": 8,
    "start_time": "2022-05-12T00:51:32.098Z"
   },
   {
    "duration": 3,
    "start_time": "2022-05-12T00:52:47.985Z"
   },
   {
    "duration": 69,
    "start_time": "2022-05-12T00:52:48.554Z"
   },
   {
    "duration": 19,
    "start_time": "2022-05-12T00:52:49.133Z"
   },
   {
    "duration": 19,
    "start_time": "2022-05-12T00:52:49.760Z"
   },
   {
    "duration": 24,
    "start_time": "2022-05-12T00:52:52.183Z"
   },
   {
    "duration": 10,
    "start_time": "2022-05-12T00:52:53.994Z"
   },
   {
    "duration": 10,
    "start_time": "2022-05-12T00:52:54.636Z"
   },
   {
    "duration": 20,
    "start_time": "2022-05-12T00:52:55.955Z"
   },
   {
    "duration": 4,
    "start_time": "2022-05-12T00:52:57.785Z"
   },
   {
    "duration": 6,
    "start_time": "2022-05-12T00:52:59.049Z"
   },
   {
    "duration": 11,
    "start_time": "2022-05-12T00:53:00.475Z"
   },
   {
    "duration": 25,
    "start_time": "2022-05-12T00:53:01.856Z"
   },
   {
    "duration": 21,
    "start_time": "2022-05-12T00:53:03.406Z"
   },
   {
    "duration": 43,
    "start_time": "2022-05-12T00:53:07.366Z"
   },
   {
    "duration": 7,
    "start_time": "2022-05-12T00:53:09.656Z"
   },
   {
    "duration": 20,
    "start_time": "2022-05-12T00:53:12.635Z"
   },
   {
    "duration": 21,
    "start_time": "2022-05-12T00:53:14.260Z"
   },
   {
    "duration": 8,
    "start_time": "2022-05-12T00:53:15.889Z"
   },
   {
    "duration": 10,
    "start_time": "2022-05-12T00:53:18.334Z"
   },
   {
    "duration": 9,
    "start_time": "2022-05-12T00:53:20.121Z"
   },
   {
    "duration": 16,
    "start_time": "2022-05-12T00:53:21.900Z"
   },
   {
    "duration": 9,
    "start_time": "2022-05-12T00:53:24.895Z"
   },
   {
    "duration": 8,
    "start_time": "2022-05-12T00:53:26.237Z"
   },
   {
    "duration": 7,
    "start_time": "2022-05-12T00:53:27.520Z"
   },
   {
    "duration": 13,
    "start_time": "2022-05-12T00:53:30.461Z"
   },
   {
    "duration": 12,
    "start_time": "2022-05-12T00:53:31.102Z"
   },
   {
    "duration": 19,
    "start_time": "2022-05-12T00:53:33.267Z"
   },
   {
    "duration": 14,
    "start_time": "2022-05-12T00:53:33.957Z"
   },
   {
    "duration": 23,
    "start_time": "2022-05-12T00:53:35.289Z"
   },
   {
    "duration": 11,
    "start_time": "2022-05-12T00:53:35.916Z"
   },
   {
    "duration": 8,
    "start_time": "2022-05-12T00:53:37.704Z"
   },
   {
    "duration": 21,
    "start_time": "2022-05-12T00:53:39.555Z"
   },
   {
    "duration": 30,
    "start_time": "2022-05-12T00:53:41.500Z"
   },
   {
    "duration": 10,
    "start_time": "2022-05-12T00:53:44.536Z"
   },
   {
    "duration": 104,
    "start_time": "2022-05-12T00:53:45.132Z"
   },
   {
    "duration": 9,
    "start_time": "2022-05-12T00:54:22.955Z"
   },
   {
    "duration": 7,
    "start_time": "2022-05-12T00:54:23.677Z"
   },
   {
    "duration": 11,
    "start_time": "2022-05-12T00:54:24.366Z"
   },
   {
    "duration": 41,
    "start_time": "2022-05-12T00:54:25.676Z"
   },
   {
    "duration": 20,
    "start_time": "2022-05-12T01:00:18.137Z"
   },
   {
    "duration": 31,
    "start_time": "2022-05-12T01:00:34.915Z"
   },
   {
    "duration": 13,
    "start_time": "2022-05-12T01:01:00.862Z"
   },
   {
    "duration": 3,
    "start_time": "2022-05-12T01:06:18.807Z"
   },
   {
    "duration": 69,
    "start_time": "2022-05-12T01:06:19.206Z"
   },
   {
    "duration": 19,
    "start_time": "2022-05-12T01:06:19.678Z"
   },
   {
    "duration": 21,
    "start_time": "2022-05-12T01:06:20.118Z"
   },
   {
    "duration": 24,
    "start_time": "2022-05-12T01:06:22.175Z"
   },
   {
    "duration": 11,
    "start_time": "2022-05-12T01:06:23.755Z"
   },
   {
    "duration": 12,
    "start_time": "2022-05-12T01:06:24.339Z"
   },
   {
    "duration": 20,
    "start_time": "2022-05-12T01:06:25.485Z"
   },
   {
    "duration": 5,
    "start_time": "2022-05-12T01:06:27.191Z"
   },
   {
    "duration": 5,
    "start_time": "2022-05-12T01:06:28.186Z"
   },
   {
    "duration": 10,
    "start_time": "2022-05-12T01:06:29.327Z"
   },
   {
    "duration": 24,
    "start_time": "2022-05-12T01:06:30.609Z"
   },
   {
    "duration": 21,
    "start_time": "2022-05-12T01:06:31.785Z"
   },
   {
    "duration": 43,
    "start_time": "2022-05-12T01:06:35.023Z"
   },
   {
    "duration": 7,
    "start_time": "2022-05-12T01:06:37.206Z"
   },
   {
    "duration": 20,
    "start_time": "2022-05-12T01:06:39.318Z"
   },
   {
    "duration": 20,
    "start_time": "2022-05-12T01:06:40.404Z"
   },
   {
    "duration": 8,
    "start_time": "2022-05-12T01:06:41.527Z"
   },
   {
    "duration": 9,
    "start_time": "2022-05-12T01:06:44.107Z"
   },
   {
    "duration": 9,
    "start_time": "2022-05-12T01:06:46.221Z"
   },
   {
    "duration": 14,
    "start_time": "2022-05-12T01:06:48.220Z"
   },
   {
    "duration": 7,
    "start_time": "2022-05-12T01:06:51.464Z"
   },
   {
    "duration": 8,
    "start_time": "2022-05-12T01:06:52.704Z"
   },
   {
    "duration": 7,
    "start_time": "2022-05-12T01:06:53.903Z"
   },
   {
    "duration": 10,
    "start_time": "2022-05-12T01:06:55.642Z"
   },
   {
    "duration": 13,
    "start_time": "2022-05-12T01:06:56.209Z"
   },
   {
    "duration": 20,
    "start_time": "2022-05-12T01:06:58.160Z"
   },
   {
    "duration": 14,
    "start_time": "2022-05-12T01:06:58.796Z"
   },
   {
    "duration": 24,
    "start_time": "2022-05-12T01:07:00.079Z"
   },
   {
    "duration": 14,
    "start_time": "2022-05-12T01:07:00.731Z"
   },
   {
    "duration": 23,
    "start_time": "2022-05-12T01:07:01.425Z"
   },
   {
    "duration": 10,
    "start_time": "2022-05-12T01:07:04.313Z"
   },
   {
    "duration": 21,
    "start_time": "2022-05-12T01:07:06.356Z"
   },
   {
    "duration": 32,
    "start_time": "2022-05-12T01:07:08.067Z"
   },
   {
    "duration": 10,
    "start_time": "2022-05-12T01:07:11.215Z"
   },
   {
    "duration": 9,
    "start_time": "2022-05-12T01:07:11.825Z"
   },
   {
    "duration": 12,
    "start_time": "2022-05-12T01:07:12.507Z"
   },
   {
    "duration": 45,
    "start_time": "2022-05-12T01:07:13.883Z"
   },
   {
    "duration": 15,
    "start_time": "2022-05-12T01:12:08.051Z"
   },
   {
    "duration": 93,
    "start_time": "2022-05-12T01:12:23.177Z"
   },
   {
    "duration": 95,
    "start_time": "2022-05-12T01:12:39.442Z"
   },
   {
    "duration": 15,
    "start_time": "2022-05-12T01:12:48.246Z"
   },
   {
    "duration": 19,
    "start_time": "2022-05-12T01:16:26.711Z"
   },
   {
    "duration": 69,
    "start_time": "2022-05-12T01:16:40.276Z"
   },
   {
    "duration": 8,
    "start_time": "2022-05-12T01:19:04.001Z"
   },
   {
    "duration": 7,
    "start_time": "2022-05-12T01:19:39.694Z"
   },
   {
    "duration": 19,
    "start_time": "2022-05-12T01:20:35.780Z"
   },
   {
    "duration": 14,
    "start_time": "2022-05-12T01:20:39.855Z"
   },
   {
    "duration": 24,
    "start_time": "2022-05-12T01:20:49.032Z"
   },
   {
    "duration": 15,
    "start_time": "2022-05-12T01:20:59.345Z"
   },
   {
    "duration": 14,
    "start_time": "2022-05-12T01:22:02.587Z"
   },
   {
    "duration": 9,
    "start_time": "2022-05-12T01:22:10.249Z"
   },
   {
    "duration": 14,
    "start_time": "2022-05-12T01:24:19.105Z"
   },
   {
    "duration": 20,
    "start_time": "2022-05-12T01:24:23.753Z"
   },
   {
    "duration": 20,
    "start_time": "2022-05-12T01:24:41.387Z"
   },
   {
    "duration": 32,
    "start_time": "2022-05-12T01:25:07.917Z"
   },
   {
    "duration": 9,
    "start_time": "2022-05-12T01:25:12.290Z"
   },
   {
    "duration": 8,
    "start_time": "2022-05-12T01:25:13.079Z"
   },
   {
    "duration": 10,
    "start_time": "2022-05-12T01:25:18.596Z"
   },
   {
    "duration": 43,
    "start_time": "2022-05-12T01:25:21.684Z"
   },
   {
    "duration": 3,
    "start_time": "2022-05-12T06:52:06.207Z"
   },
   {
    "duration": 77,
    "start_time": "2022-05-12T06:52:08.138Z"
   },
   {
    "duration": 19,
    "start_time": "2022-05-12T06:52:09.758Z"
   },
   {
    "duration": 20,
    "start_time": "2022-05-12T06:52:11.722Z"
   },
   {
    "duration": 20,
    "start_time": "2022-05-12T06:52:19.988Z"
   },
   {
    "duration": 21,
    "start_time": "2022-05-12T06:52:21.790Z"
   },
   {
    "duration": 30,
    "start_time": "2022-05-12T06:52:25.633Z"
   },
   {
    "duration": 27,
    "start_time": "2022-05-12T06:52:32.962Z"
   },
   {
    "duration": 26,
    "start_time": "2022-05-12T06:52:39.076Z"
   },
   {
    "duration": 11,
    "start_time": "2022-05-12T06:52:41.416Z"
   },
   {
    "duration": 11,
    "start_time": "2022-05-12T06:52:42.332Z"
   },
   {
    "duration": 21,
    "start_time": "2022-05-12T06:52:44.016Z"
   },
   {
    "duration": 5,
    "start_time": "2022-05-12T06:52:50.629Z"
   },
   {
    "duration": 5,
    "start_time": "2022-05-12T06:52:55.498Z"
   },
   {
    "duration": 15,
    "start_time": "2022-05-12T06:53:02.198Z"
   },
   {
    "duration": 26,
    "start_time": "2022-05-12T06:53:10.548Z"
   },
   {
    "duration": 22,
    "start_time": "2022-05-12T06:53:21.292Z"
   },
   {
    "duration": 42,
    "start_time": "2022-05-12T06:53:38.194Z"
   },
   {
    "duration": 7,
    "start_time": "2022-05-12T06:53:43.610Z"
   },
   {
    "duration": 6,
    "start_time": "2022-05-12T06:54:28.036Z"
   },
   {
    "duration": 23,
    "start_time": "2022-05-12T06:54:30.275Z"
   },
   {
    "duration": 22,
    "start_time": "2022-05-12T06:54:32.525Z"
   },
   {
    "duration": 9,
    "start_time": "2022-05-12T06:54:41.765Z"
   },
   {
    "duration": 10,
    "start_time": "2022-05-12T06:54:45.848Z"
   },
   {
    "duration": 9,
    "start_time": "2022-05-12T06:54:55.413Z"
   },
   {
    "duration": 16,
    "start_time": "2022-05-12T06:55:17.845Z"
   },
   {
    "duration": 7,
    "start_time": "2022-05-12T06:55:24.621Z"
   },
   {
    "duration": 7,
    "start_time": "2022-05-12T06:55:26.632Z"
   },
   {
    "duration": 8,
    "start_time": "2022-05-12T06:55:29.950Z"
   },
   {
    "duration": 11,
    "start_time": "2022-05-12T06:55:33.304Z"
   },
   {
    "duration": 14,
    "start_time": "2022-05-12T06:55:35.178Z"
   },
   {
    "duration": 19,
    "start_time": "2022-05-12T06:55:45.822Z"
   },
   {
    "duration": 13,
    "start_time": "2022-05-12T06:55:48.647Z"
   },
   {
    "duration": 20,
    "start_time": "2022-05-12T06:56:06.817Z"
   },
   {
    "duration": 14,
    "start_time": "2022-05-12T06:56:08.169Z"
   },
   {
    "duration": 21,
    "start_time": "2022-05-12T06:56:10.509Z"
   },
   {
    "duration": 9,
    "start_time": "2022-05-12T06:56:18.858Z"
   },
   {
    "duration": 21,
    "start_time": "2022-05-12T06:56:23.969Z"
   },
   {
    "duration": 31,
    "start_time": "2022-05-12T06:56:27.647Z"
   },
   {
    "duration": 10,
    "start_time": "2022-05-12T06:56:32.620Z"
   },
   {
    "duration": 10,
    "start_time": "2022-05-12T06:56:34.729Z"
   },
   {
    "duration": 11,
    "start_time": "2022-05-12T06:56:38.728Z"
   },
   {
    "duration": 41,
    "start_time": "2022-05-12T06:56:41.789Z"
   },
   {
    "duration": 8,
    "start_time": "2022-05-12T06:57:04.420Z"
   },
   {
    "duration": 43,
    "start_time": "2022-05-12T06:57:15.952Z"
   },
   {
    "duration": 25,
    "start_time": "2022-05-12T06:58:20.405Z"
   },
   {
    "duration": 9,
    "start_time": "2022-05-12T06:58:23.650Z"
   },
   {
    "duration": 21,
    "start_time": "2022-05-12T06:58:29.145Z"
   },
   {
    "duration": 9,
    "start_time": "2022-05-12T06:58:32.262Z"
   },
   {
    "duration": 13,
    "start_time": "2022-05-12T06:58:35.952Z"
   },
   {
    "duration": 77,
    "start_time": "2022-05-12T06:58:38.534Z"
   },
   {
    "duration": 7,
    "start_time": "2022-05-12T06:58:41.905Z"
   },
   {
    "duration": 8,
    "start_time": "2022-05-12T06:58:42.743Z"
   },
   {
    "duration": 11,
    "start_time": "2022-05-12T06:58:47.571Z"
   },
   {
    "duration": 42,
    "start_time": "2022-05-12T06:58:48.795Z"
   },
   {
    "duration": 10,
    "start_time": "2022-05-12T07:01:43.842Z"
   },
   {
    "duration": 78,
    "start_time": "2022-05-12T07:02:09.756Z"
   },
   {
    "duration": 19,
    "start_time": "2022-05-12T07:02:10.706Z"
   },
   {
    "duration": 20,
    "start_time": "2022-05-12T07:02:11.127Z"
   },
   {
    "duration": 27,
    "start_time": "2022-05-12T07:02:13.416Z"
   },
   {
    "duration": 11,
    "start_time": "2022-05-12T07:02:14.864Z"
   },
   {
    "duration": 12,
    "start_time": "2022-05-12T07:02:15.350Z"
   },
   {
    "duration": 21,
    "start_time": "2022-05-12T07:02:16.321Z"
   },
   {
    "duration": 8,
    "start_time": "2022-05-12T07:02:17.745Z"
   },
   {
    "duration": 6,
    "start_time": "2022-05-12T07:02:18.692Z"
   },
   {
    "duration": 11,
    "start_time": "2022-05-12T07:02:19.663Z"
   },
   {
    "duration": 25,
    "start_time": "2022-05-12T07:02:20.607Z"
   },
   {
    "duration": 23,
    "start_time": "2022-05-12T07:02:21.581Z"
   },
   {
    "duration": 44,
    "start_time": "2022-05-12T07:02:24.353Z"
   },
   {
    "duration": 7,
    "start_time": "2022-05-12T07:02:26.164Z"
   },
   {
    "duration": 21,
    "start_time": "2022-05-12T07:02:27.094Z"
   },
   {
    "duration": 23,
    "start_time": "2022-05-12T07:02:28.076Z"
   },
   {
    "duration": 8,
    "start_time": "2022-05-12T07:02:29.038Z"
   },
   {
    "duration": 10,
    "start_time": "2022-05-12T07:02:30.991Z"
   },
   {
    "duration": 9,
    "start_time": "2022-05-12T07:02:33.730Z"
   },
   {
    "duration": 17,
    "start_time": "2022-05-12T07:02:35.284Z"
   },
   {
    "duration": 7,
    "start_time": "2022-05-12T07:02:42.021Z"
   },
   {
    "duration": 7,
    "start_time": "2022-05-12T07:02:43.132Z"
   },
   {
    "duration": 7,
    "start_time": "2022-05-12T07:02:45.202Z"
   },
   {
    "duration": 10,
    "start_time": "2022-05-12T07:02:46.819Z"
   },
   {
    "duration": 12,
    "start_time": "2022-05-12T07:02:47.839Z"
   },
   {
    "duration": 18,
    "start_time": "2022-05-12T07:02:49.335Z"
   },
   {
    "duration": 14,
    "start_time": "2022-05-12T07:02:50.899Z"
   },
   {
    "duration": 23,
    "start_time": "2022-05-12T07:02:57.841Z"
   },
   {
    "duration": 14,
    "start_time": "2022-05-12T07:03:02.199Z"
   },
   {
    "duration": 19,
    "start_time": "2022-05-12T07:03:23.527Z"
   },
   {
    "duration": 9,
    "start_time": "2022-05-12T07:03:25.995Z"
   },
   {
    "duration": 20,
    "start_time": "2022-05-12T07:03:27.934Z"
   },
   {
    "duration": 32,
    "start_time": "2022-05-12T07:03:29.911Z"
   },
   {
    "duration": 8,
    "start_time": "2022-05-12T07:03:32.458Z"
   },
   {
    "duration": 8,
    "start_time": "2022-05-12T07:03:33.216Z"
   },
   {
    "duration": 11,
    "start_time": "2022-05-12T07:03:34.747Z"
   },
   {
    "duration": 43,
    "start_time": "2022-05-12T07:03:35.490Z"
   },
   {
    "duration": 25,
    "start_time": "2022-05-12T07:32:34.115Z"
   },
   {
    "duration": 3,
    "start_time": "2022-05-12T07:36:48.836Z"
   },
   {
    "duration": 68,
    "start_time": "2022-05-12T07:36:49.317Z"
   },
   {
    "duration": 20,
    "start_time": "2022-05-12T07:36:49.791Z"
   },
   {
    "duration": 20,
    "start_time": "2022-05-12T07:36:50.275Z"
   },
   {
    "duration": 24,
    "start_time": "2022-05-12T07:36:52.403Z"
   },
   {
    "duration": 11,
    "start_time": "2022-05-12T07:36:58.082Z"
   },
   {
    "duration": 12,
    "start_time": "2022-05-12T07:36:58.517Z"
   },
   {
    "duration": 34,
    "start_time": "2022-05-12T07:36:59.561Z"
   },
   {
    "duration": 6,
    "start_time": "2022-05-12T07:37:00.990Z"
   },
   {
    "duration": 6,
    "start_time": "2022-05-12T07:37:01.847Z"
   },
   {
    "duration": 14,
    "start_time": "2022-05-12T07:37:02.661Z"
   },
   {
    "duration": 38,
    "start_time": "2022-05-12T07:37:03.544Z"
   },
   {
    "duration": 33,
    "start_time": "2022-05-12T07:37:04.488Z"
   },
   {
    "duration": 47,
    "start_time": "2022-05-12T07:37:07.290Z"
   },
   {
    "duration": 6,
    "start_time": "2022-05-12T07:37:09.169Z"
   },
   {
    "duration": 20,
    "start_time": "2022-05-12T07:37:10.166Z"
   },
   {
    "duration": 22,
    "start_time": "2022-05-12T07:37:11.152Z"
   },
   {
    "duration": 7,
    "start_time": "2022-05-12T07:37:12.144Z"
   },
   {
    "duration": 9,
    "start_time": "2022-05-12T07:37:14.006Z"
   },
   {
    "duration": 10,
    "start_time": "2022-05-12T07:37:15.448Z"
   },
   {
    "duration": 20,
    "start_time": "2022-05-12T07:37:16.868Z"
   },
   {
    "duration": 8,
    "start_time": "2022-05-12T07:37:18.765Z"
   },
   {
    "duration": 9,
    "start_time": "2022-05-12T07:37:19.666Z"
   },
   {
    "duration": 8,
    "start_time": "2022-05-12T07:37:20.610Z"
   },
   {
    "duration": 12,
    "start_time": "2022-05-12T07:37:22.030Z"
   },
   {
    "duration": 15,
    "start_time": "2022-05-12T07:37:22.500Z"
   },
   {
    "duration": 20,
    "start_time": "2022-05-12T07:37:31.920Z"
   },
   {
    "duration": 16,
    "start_time": "2022-05-12T07:37:33.184Z"
   },
   {
    "duration": 27,
    "start_time": "2022-05-12T07:37:39.240Z"
   },
   {
    "duration": 26,
    "start_time": "2022-05-12T07:37:57.595Z"
   },
   {
    "duration": 26,
    "start_time": "2022-05-12T07:38:00.587Z"
   },
   {
    "duration": 14,
    "start_time": "2022-05-12T07:40:49.240Z"
   },
   {
    "duration": 17,
    "start_time": "2022-05-12T07:41:02.175Z"
   },
   {
    "duration": 26,
    "start_time": "2022-05-12T07:41:56.106Z"
   },
   {
    "duration": 29,
    "start_time": "2022-05-12T07:43:04.038Z"
   },
   {
    "duration": 27,
    "start_time": "2022-05-12T07:43:47.925Z"
   },
   {
    "duration": 3,
    "start_time": "2022-05-12T07:45:58.491Z"
   },
   {
    "duration": 104,
    "start_time": "2022-05-12T07:45:58.937Z"
   },
   {
    "duration": 27,
    "start_time": "2022-05-12T07:45:59.383Z"
   },
   {
    "duration": 21,
    "start_time": "2022-05-12T07:45:59.901Z"
   },
   {
    "duration": 25,
    "start_time": "2022-05-12T07:46:01.939Z"
   },
   {
    "duration": 11,
    "start_time": "2022-05-12T07:46:03.448Z"
   },
   {
    "duration": 12,
    "start_time": "2022-05-12T07:46:03.888Z"
   },
   {
    "duration": 21,
    "start_time": "2022-05-12T07:46:04.876Z"
   },
   {
    "duration": 5,
    "start_time": "2022-05-12T07:46:06.411Z"
   },
   {
    "duration": 5,
    "start_time": "2022-05-12T07:46:07.395Z"
   },
   {
    "duration": 11,
    "start_time": "2022-05-12T07:46:08.333Z"
   },
   {
    "duration": 25,
    "start_time": "2022-05-12T07:46:09.282Z"
   },
   {
    "duration": 22,
    "start_time": "2022-05-12T07:46:10.273Z"
   },
   {
    "duration": 44,
    "start_time": "2022-05-12T07:46:13.127Z"
   },
   {
    "duration": 7,
    "start_time": "2022-05-12T07:46:14.898Z"
   },
   {
    "duration": 21,
    "start_time": "2022-05-12T07:46:15.817Z"
   },
   {
    "duration": 20,
    "start_time": "2022-05-12T07:46:16.734Z"
   },
   {
    "duration": 8,
    "start_time": "2022-05-12T07:46:17.660Z"
   },
   {
    "duration": 10,
    "start_time": "2022-05-12T07:46:19.554Z"
   },
   {
    "duration": 9,
    "start_time": "2022-05-12T07:46:20.991Z"
   },
   {
    "duration": 17,
    "start_time": "2022-05-12T07:46:22.392Z"
   },
   {
    "duration": 8,
    "start_time": "2022-05-12T07:46:24.267Z"
   },
   {
    "duration": 8,
    "start_time": "2022-05-12T07:46:25.145Z"
   },
   {
    "duration": 9,
    "start_time": "2022-05-12T07:46:27.539Z"
   },
   {
    "duration": 10,
    "start_time": "2022-05-12T07:46:29.415Z"
   },
   {
    "duration": 14,
    "start_time": "2022-05-12T07:47:58.467Z"
   },
   {
    "duration": 21,
    "start_time": "2022-05-12T07:48:00.889Z"
   },
   {
    "duration": 14,
    "start_time": "2022-05-12T07:48:02.766Z"
   },
   {
    "duration": 29,
    "start_time": "2022-05-12T07:48:08.210Z"
   },
   {
    "duration": 15,
    "start_time": "2022-05-12T07:48:09.760Z"
   },
   {
    "duration": 21,
    "start_time": "2022-05-12T07:48:20.064Z"
   },
   {
    "duration": 9,
    "start_time": "2022-05-12T07:48:22.753Z"
   },
   {
    "duration": 21,
    "start_time": "2022-05-12T07:48:25.249Z"
   },
   {
    "duration": 32,
    "start_time": "2022-05-12T07:48:27.760Z"
   },
   {
    "duration": 10,
    "start_time": "2022-05-12T07:48:31.882Z"
   },
   {
    "duration": 8,
    "start_time": "2022-05-12T07:48:33.560Z"
   },
   {
    "duration": 11,
    "start_time": "2022-05-12T07:48:40.700Z"
   },
   {
    "duration": 42,
    "start_time": "2022-05-12T07:48:41.847Z"
   },
   {
    "duration": 32,
    "start_time": "2022-05-12T07:51:04.375Z"
   },
   {
    "duration": 9,
    "start_time": "2022-05-12T07:51:28.708Z"
   },
   {
    "duration": 3,
    "start_time": "2022-05-12T07:52:48.045Z"
   },
   {
    "duration": 95,
    "start_time": "2022-05-12T07:52:48.292Z"
   },
   {
    "duration": 20,
    "start_time": "2022-05-12T07:52:48.499Z"
   },
   {
    "duration": 21,
    "start_time": "2022-05-12T07:52:48.852Z"
   },
   {
    "duration": 25,
    "start_time": "2022-05-12T07:52:49.665Z"
   },
   {
    "duration": 10,
    "start_time": "2022-05-12T07:52:50.340Z"
   },
   {
    "duration": 15,
    "start_time": "2022-05-12T07:52:50.574Z"
   },
   {
    "duration": 21,
    "start_time": "2022-05-12T07:52:51.033Z"
   },
   {
    "duration": 5,
    "start_time": "2022-05-12T07:52:51.718Z"
   },
   {
    "duration": 6,
    "start_time": "2022-05-12T07:52:52.166Z"
   },
   {
    "duration": 11,
    "start_time": "2022-05-12T07:52:52.655Z"
   },
   {
    "duration": 27,
    "start_time": "2022-05-12T07:52:53.136Z"
   },
   {
    "duration": 21,
    "start_time": "2022-05-12T07:52:53.575Z"
   },
   {
    "duration": 43,
    "start_time": "2022-05-12T07:52:54.993Z"
   },
   {
    "duration": 7,
    "start_time": "2022-05-12T07:52:55.824Z"
   },
   {
    "duration": 21,
    "start_time": "2022-05-12T07:52:56.235Z"
   },
   {
    "duration": 21,
    "start_time": "2022-05-12T07:52:56.619Z"
   },
   {
    "duration": 10,
    "start_time": "2022-05-12T07:52:57.010Z"
   },
   {
    "duration": 9,
    "start_time": "2022-05-12T07:52:57.856Z"
   },
   {
    "duration": 8,
    "start_time": "2022-05-12T07:52:58.499Z"
   },
   {
    "duration": 15,
    "start_time": "2022-05-12T07:52:59.153Z"
   },
   {
    "duration": 8,
    "start_time": "2022-05-12T07:53:00.116Z"
   },
   {
    "duration": 7,
    "start_time": "2022-05-12T07:53:00.589Z"
   },
   {
    "duration": 9,
    "start_time": "2022-05-12T07:53:01.057Z"
   },
   {
    "duration": 10,
    "start_time": "2022-05-12T07:53:01.750Z"
   },
   {
    "duration": 11,
    "start_time": "2022-05-12T07:53:02.037Z"
   },
   {
    "duration": 19,
    "start_time": "2022-05-12T07:53:03.082Z"
   },
   {
    "duration": 14,
    "start_time": "2022-05-12T07:53:04.151Z"
   },
   {
    "duration": 3,
    "start_time": "2022-05-12T07:53:04.679Z"
   },
   {
    "duration": 19,
    "start_time": "2022-05-12T07:53:04.919Z"
   },
   {
    "duration": 8,
    "start_time": "2022-05-12T07:53:05.898Z"
   },
   {
    "duration": 21,
    "start_time": "2022-05-12T07:53:06.624Z"
   },
   {
    "duration": 29,
    "start_time": "2022-05-12T07:53:07.072Z"
   },
   {
    "duration": 12,
    "start_time": "2022-05-12T07:53:08.028Z"
   },
   {
    "duration": 30,
    "start_time": "2022-05-12T07:53:10.006Z"
   },
   {
    "duration": 8,
    "start_time": "2022-05-12T07:53:12.563Z"
   },
   {
    "duration": 29,
    "start_time": "2022-05-12T07:53:38.188Z"
   },
   {
    "duration": 8,
    "start_time": "2022-05-12T07:53:38.960Z"
   },
   {
    "duration": 29,
    "start_time": "2022-05-12T07:54:15.148Z"
   },
   {
    "duration": 8,
    "start_time": "2022-05-12T07:54:15.903Z"
   },
   {
    "duration": 21,
    "start_time": "2022-05-12T07:59:56.479Z"
   },
   {
    "duration": 3,
    "start_time": "2022-05-12T08:03:03.922Z"
   },
   {
    "duration": 107,
    "start_time": "2022-05-12T08:03:04.200Z"
   },
   {
    "duration": 30,
    "start_time": "2022-05-12T08:03:04.346Z"
   },
   {
    "duration": 33,
    "start_time": "2022-05-12T08:03:04.710Z"
   },
   {
    "duration": 37,
    "start_time": "2022-05-12T08:03:05.386Z"
   },
   {
    "duration": 11,
    "start_time": "2022-05-12T08:03:05.960Z"
   },
   {
    "duration": 12,
    "start_time": "2022-05-12T08:03:06.189Z"
   },
   {
    "duration": 22,
    "start_time": "2022-05-12T08:03:06.527Z"
   },
   {
    "duration": 5,
    "start_time": "2022-05-12T08:03:07.086Z"
   },
   {
    "duration": 7,
    "start_time": "2022-05-12T08:03:07.520Z"
   },
   {
    "duration": 10,
    "start_time": "2022-05-12T08:03:08.155Z"
   },
   {
    "duration": 24,
    "start_time": "2022-05-12T08:03:08.500Z"
   },
   {
    "duration": 21,
    "start_time": "2022-05-12T08:03:08.903Z"
   },
   {
    "duration": 43,
    "start_time": "2022-05-12T08:03:10.172Z"
   },
   {
    "duration": 7,
    "start_time": "2022-05-12T08:03:10.939Z"
   },
   {
    "duration": 22,
    "start_time": "2022-05-12T08:03:11.380Z"
   },
   {
    "duration": 22,
    "start_time": "2022-05-12T08:03:11.774Z"
   },
   {
    "duration": 10,
    "start_time": "2022-05-12T08:05:32.766Z"
   },
   {
    "duration": 10,
    "start_time": "2022-05-12T08:05:33.742Z"
   },
   {
    "duration": 7,
    "start_time": "2022-05-12T08:05:35.092Z"
   },
   {
    "duration": 7,
    "start_time": "2022-05-12T08:05:36.321Z"
   },
   {
    "duration": 10,
    "start_time": "2022-05-12T08:05:40.051Z"
   },
   {
    "duration": 10,
    "start_time": "2022-05-12T08:05:42.593Z"
   },
   {
    "duration": 9,
    "start_time": "2022-05-12T08:05:44.454Z"
   },
   {
    "duration": 19,
    "start_time": "2022-05-12T08:05:45.943Z"
   },
   {
    "duration": 7,
    "start_time": "2022-05-12T08:05:47.789Z"
   },
   {
    "duration": 7,
    "start_time": "2022-05-12T08:05:48.579Z"
   },
   {
    "duration": 8,
    "start_time": "2022-05-12T08:05:49.087Z"
   },
   {
    "duration": 10,
    "start_time": "2022-05-12T08:05:49.675Z"
   },
   {
    "duration": 14,
    "start_time": "2022-05-12T08:05:49.901Z"
   },
   {
    "duration": 29,
    "start_time": "2022-05-12T08:05:50.450Z"
   },
   {
    "duration": 14,
    "start_time": "2022-05-12T08:05:50.632Z"
   },
   {
    "duration": 20,
    "start_time": "2022-05-12T08:05:50.990Z"
   },
   {
    "duration": 12,
    "start_time": "2022-05-12T08:05:51.755Z"
   },
   {
    "duration": 27,
    "start_time": "2022-05-12T08:05:52.354Z"
   },
   {
    "duration": 37,
    "start_time": "2022-05-12T08:05:52.753Z"
   },
   {
    "duration": 10,
    "start_time": "2022-05-12T08:05:53.549Z"
   },
   {
    "duration": 3,
    "start_time": "2022-05-12T08:05:58.373Z"
   },
   {
    "duration": 9,
    "start_time": "2022-05-12T08:06:04.066Z"
   },
   {
    "duration": 33,
    "start_time": "2022-05-12T08:06:50.763Z"
   },
   {
    "duration": 10,
    "start_time": "2022-05-12T08:06:58.130Z"
   },
   {
    "duration": 32,
    "start_time": "2022-05-12T08:07:35.765Z"
   },
   {
    "duration": 10,
    "start_time": "2022-05-12T08:07:37.209Z"
   },
   {
    "duration": 8,
    "start_time": "2022-05-12T08:08:25.649Z"
   },
   {
    "duration": 11,
    "start_time": "2022-05-12T08:08:39.049Z"
   },
   {
    "duration": 9,
    "start_time": "2022-05-12T08:08:48.647Z"
   },
   {
    "duration": 24,
    "start_time": "2022-05-12T08:10:54.799Z"
   },
   {
    "duration": 28,
    "start_time": "2022-05-12T08:11:31.849Z"
   },
   {
    "duration": 25,
    "start_time": "2022-05-12T08:13:24.565Z"
   },
   {
    "duration": 3,
    "start_time": "2022-05-12T08:13:58.995Z"
   },
   {
    "duration": 73,
    "start_time": "2022-05-12T08:13:59.170Z"
   },
   {
    "duration": 21,
    "start_time": "2022-05-12T08:13:59.365Z"
   },
   {
    "duration": 23,
    "start_time": "2022-05-12T08:13:59.578Z"
   },
   {
    "duration": 23,
    "start_time": "2022-05-12T08:14:00.210Z"
   },
   {
    "duration": 27,
    "start_time": "2022-05-12T08:14:00.746Z"
   },
   {
    "duration": 11,
    "start_time": "2022-05-12T08:14:00.927Z"
   },
   {
    "duration": 22,
    "start_time": "2022-05-12T08:14:01.285Z"
   },
   {
    "duration": 6,
    "start_time": "2022-05-12T08:14:01.851Z"
   },
   {
    "duration": 6,
    "start_time": "2022-05-12T08:14:02.199Z"
   },
   {
    "duration": 13,
    "start_time": "2022-05-12T08:14:02.573Z"
   },
   {
    "duration": 28,
    "start_time": "2022-05-12T08:14:02.929Z"
   },
   {
    "duration": 22,
    "start_time": "2022-05-12T08:14:03.464Z"
   },
   {
    "duration": 50,
    "start_time": "2022-05-12T08:14:04.618Z"
   },
   {
    "duration": 7,
    "start_time": "2022-05-12T08:14:05.369Z"
   },
   {
    "duration": 29,
    "start_time": "2022-05-12T08:14:05.751Z"
   },
   {
    "duration": 20,
    "start_time": "2022-05-12T08:14:06.105Z"
   },
   {
    "duration": 9,
    "start_time": "2022-05-12T08:14:06.469Z"
   },
   {
    "duration": 9,
    "start_time": "2022-05-12T08:14:07.200Z"
   },
   {
    "duration": 10,
    "start_time": "2022-05-12T08:14:07.945Z"
   },
   {
    "duration": 15,
    "start_time": "2022-05-12T08:14:08.578Z"
   },
   {
    "duration": 8,
    "start_time": "2022-05-12T08:14:09.343Z"
   },
   {
    "duration": 7,
    "start_time": "2022-05-12T08:14:09.730Z"
   },
   {
    "duration": 7,
    "start_time": "2022-05-12T08:14:10.107Z"
   },
   {
    "duration": 18,
    "start_time": "2022-05-12T08:14:10.644Z"
   },
   {
    "duration": 16,
    "start_time": "2022-05-12T08:14:10.840Z"
   },
   {
    "duration": 29,
    "start_time": "2022-05-12T08:14:11.441Z"
   },
   {
    "duration": 24,
    "start_time": "2022-05-12T08:14:12.037Z"
   },
   {
    "duration": 9,
    "start_time": "2022-05-12T08:14:13.792Z"
   },
   {
    "duration": 21,
    "start_time": "2022-05-12T08:14:14.381Z"
   },
   {
    "duration": 32,
    "start_time": "2022-05-12T08:14:17.084Z"
   },
   {
    "duration": 26,
    "start_time": "2022-05-12T08:14:25.386Z"
   },
   {
    "duration": 36,
    "start_time": "2022-05-12T08:14:38.323Z"
   },
   {
    "duration": 8,
    "start_time": "2022-05-12T08:14:40.619Z"
   },
   {
    "duration": 36,
    "start_time": "2022-05-12T08:24:06.549Z"
   },
   {
    "duration": 9,
    "start_time": "2022-05-12T08:24:09.647Z"
   },
   {
    "duration": 4,
    "start_time": "2022-05-12T08:24:31.227Z"
   },
   {
    "duration": 76,
    "start_time": "2022-05-12T08:24:31.767Z"
   },
   {
    "duration": 19,
    "start_time": "2022-05-12T08:24:32.191Z"
   },
   {
    "duration": 19,
    "start_time": "2022-05-12T08:24:33.825Z"
   },
   {
    "duration": 24,
    "start_time": "2022-05-12T08:24:38.508Z"
   },
   {
    "duration": 10,
    "start_time": "2022-05-12T08:24:44.181Z"
   },
   {
    "duration": 4,
    "start_time": "2022-05-12T08:25:54.216Z"
   },
   {
    "duration": 7,
    "start_time": "2022-05-12T08:26:35.665Z"
   },
   {
    "duration": 12,
    "start_time": "2022-05-12T08:26:47.480Z"
   },
   {
    "duration": 32,
    "start_time": "2022-05-12T08:27:25.234Z"
   },
   {
    "duration": 27,
    "start_time": "2022-05-12T08:28:04.543Z"
   },
   {
    "duration": 45,
    "start_time": "2022-05-12T08:28:35.382Z"
   },
   {
    "duration": 13,
    "start_time": "2022-05-12T08:38:47.436Z"
   },
   {
    "duration": 155,
    "start_time": "2022-05-12T08:42:49.297Z"
   },
   {
    "duration": 104,
    "start_time": "2022-05-12T08:43:03.893Z"
   },
   {
    "duration": 13,
    "start_time": "2022-05-12T08:43:22.654Z"
   },
   {
    "duration": 14,
    "start_time": "2022-05-12T08:43:27.605Z"
   },
   {
    "duration": 7,
    "start_time": "2022-05-12T08:45:55.579Z"
   },
   {
    "duration": 18,
    "start_time": "2022-05-12T08:45:57.750Z"
   },
   {
    "duration": 9,
    "start_time": "2022-05-12T08:46:00.665Z"
   },
   {
    "duration": 9,
    "start_time": "2022-05-12T08:46:17.119Z"
   },
   {
    "duration": 10,
    "start_time": "2022-05-12T08:47:47.509Z"
   },
   {
    "duration": 14,
    "start_time": "2022-05-12T08:47:51.058Z"
   },
   {
    "duration": 24,
    "start_time": "2022-05-12T08:48:57.117Z"
   },
   {
    "duration": 11,
    "start_time": "2022-05-12T08:55:27.816Z"
   },
   {
    "duration": 30,
    "start_time": "2022-05-12T08:55:42.255Z"
   },
   {
    "duration": 9,
    "start_time": "2022-05-12T08:55:43.309Z"
   },
   {
    "duration": 112,
    "start_time": "2022-05-12T08:55:55.835Z"
   },
   {
    "duration": 4,
    "start_time": "2022-05-12T08:55:55.997Z"
   },
   {
    "duration": 73,
    "start_time": "2022-05-12T08:55:56.165Z"
   },
   {
    "duration": 20,
    "start_time": "2022-05-12T08:55:56.324Z"
   },
   {
    "duration": 20,
    "start_time": "2022-05-12T08:55:56.474Z"
   },
   {
    "duration": 25,
    "start_time": "2022-05-12T08:55:57.160Z"
   },
   {
    "duration": 11,
    "start_time": "2022-05-12T08:55:57.666Z"
   },
   {
    "duration": 11,
    "start_time": "2022-05-12T08:55:57.863Z"
   },
   {
    "duration": 22,
    "start_time": "2022-05-12T08:55:58.179Z"
   },
   {
    "duration": 6,
    "start_time": "2022-05-12T08:55:58.702Z"
   },
   {
    "duration": 6,
    "start_time": "2022-05-12T08:55:59.067Z"
   },
   {
    "duration": 11,
    "start_time": "2022-05-12T08:55:59.367Z"
   },
   {
    "duration": 29,
    "start_time": "2022-05-12T08:55:59.936Z"
   },
   {
    "duration": 24,
    "start_time": "2022-05-12T08:56:00.254Z"
   },
   {
    "duration": 53,
    "start_time": "2022-05-12T08:56:01.341Z"
   },
   {
    "duration": 6,
    "start_time": "2022-05-12T08:56:02.094Z"
   },
   {
    "duration": 21,
    "start_time": "2022-05-12T08:56:02.478Z"
   },
   {
    "duration": 20,
    "start_time": "2022-05-12T08:56:02.884Z"
   },
   {
    "duration": 8,
    "start_time": "2022-05-12T08:56:03.264Z"
   },
   {
    "duration": 9,
    "start_time": "2022-05-12T08:56:03.994Z"
   },
   {
    "duration": 8,
    "start_time": "2022-05-12T08:56:04.515Z"
   },
   {
    "duration": 14,
    "start_time": "2022-05-12T08:56:05.070Z"
   },
   {
    "duration": 8,
    "start_time": "2022-05-12T08:56:05.804Z"
   },
   {
    "duration": 9,
    "start_time": "2022-05-12T08:56:06.167Z"
   },
   {
    "duration": 9,
    "start_time": "2022-05-12T08:56:06.528Z"
   },
   {
    "duration": 12,
    "start_time": "2022-05-12T08:56:07.086Z"
   },
   {
    "duration": 14,
    "start_time": "2022-05-12T08:56:07.276Z"
   },
   {
    "duration": 32,
    "start_time": "2022-05-12T08:56:07.830Z"
   },
   {
    "duration": 9,
    "start_time": "2022-05-12T08:56:08.999Z"
   },
   {
    "duration": 23,
    "start_time": "2022-05-12T08:56:09.562Z"
   },
   {
    "duration": 32,
    "start_time": "2022-05-12T08:56:09.965Z"
   },
   {
    "duration": 27,
    "start_time": "2022-05-12T08:56:10.713Z"
   },
   {
    "duration": 31,
    "start_time": "2022-05-12T08:56:11.266Z"
   },
   {
    "duration": 13,
    "start_time": "2022-05-12T08:56:11.450Z"
   },
   {
    "duration": 16,
    "start_time": "2022-05-12T08:56:12.171Z"
   },
   {
    "duration": 42,
    "start_time": "2022-05-12T08:56:12.373Z"
   },
   {
    "duration": 9,
    "start_time": "2022-05-12T08:57:59.509Z"
   },
   {
    "duration": 20,
    "start_time": "2022-05-12T08:58:32.236Z"
   },
   {
    "duration": 48,
    "start_time": "2022-05-12T08:58:34.836Z"
   },
   {
    "duration": 50,
    "start_time": "2022-05-12T09:00:49.651Z"
   },
   {
    "duration": 10,
    "start_time": "2022-05-12T09:16:26.149Z"
   },
   {
    "duration": 268,
    "start_time": "2022-05-12T09:16:40.093Z"
   },
   {
    "duration": 12,
    "start_time": "2022-05-12T09:16:50.138Z"
   },
   {
    "duration": 14,
    "start_time": "2022-05-12T09:17:05.947Z"
   },
   {
    "duration": 9,
    "start_time": "2022-05-12T09:17:35.420Z"
   },
   {
    "duration": 6,
    "start_time": "2022-05-12T09:17:52.115Z"
   },
   {
    "duration": 23,
    "start_time": "2022-05-12T09:19:12.611Z"
   },
   {
    "duration": 109,
    "start_time": "2022-05-12T09:20:38.695Z"
   },
   {
    "duration": 23,
    "start_time": "2022-05-12T09:20:52.595Z"
   },
   {
    "duration": 12,
    "start_time": "2022-05-12T09:22:05.888Z"
   },
   {
    "duration": 17,
    "start_time": "2022-05-12T09:22:56.991Z"
   },
   {
    "duration": 18,
    "start_time": "2022-05-12T09:23:20.961Z"
   },
   {
    "duration": 22,
    "start_time": "2022-05-12T09:23:36.369Z"
   },
   {
    "duration": 32,
    "start_time": "2022-05-12T09:24:36.862Z"
   },
   {
    "duration": 13,
    "start_time": "2022-05-12T09:24:42.799Z"
   },
   {
    "duration": 10,
    "start_time": "2022-05-12T09:24:48.245Z"
   },
   {
    "duration": 22,
    "start_time": "2022-05-12T09:24:51.319Z"
   },
   {
    "duration": 19,
    "start_time": "2022-05-12T09:31:32.053Z"
   },
   {
    "duration": 23,
    "start_time": "2022-05-12T09:31:57.072Z"
   },
   {
    "duration": 22,
    "start_time": "2022-05-12T09:32:47.044Z"
   },
   {
    "duration": 28,
    "start_time": "2022-05-12T09:33:18.796Z"
   },
   {
    "duration": 23,
    "start_time": "2022-05-12T09:33:23.253Z"
   },
   {
    "duration": 22,
    "start_time": "2022-05-12T09:33:34.438Z"
   },
   {
    "duration": 5,
    "start_time": "2022-05-12T09:36:07.091Z"
   },
   {
    "duration": 14,
    "start_time": "2022-05-12T09:36:41.121Z"
   },
   {
    "duration": 23,
    "start_time": "2022-05-12T09:36:50.635Z"
   },
   {
    "duration": 25,
    "start_time": "2022-05-12T09:37:14.929Z"
   },
   {
    "duration": 26,
    "start_time": "2022-05-12T09:39:11.620Z"
   },
   {
    "duration": 44,
    "start_time": "2022-05-12T09:40:02.275Z"
   },
   {
    "duration": 30,
    "start_time": "2022-05-12T09:40:58.278Z"
   },
   {
    "duration": 28,
    "start_time": "2022-05-12T09:43:42.521Z"
   },
   {
    "duration": 29,
    "start_time": "2022-05-12T09:43:59.099Z"
   },
   {
    "duration": 32,
    "start_time": "2022-05-12T09:49:05.966Z"
   },
   {
    "duration": 30,
    "start_time": "2022-05-12T09:54:06.074Z"
   },
   {
    "duration": 106,
    "start_time": "2022-05-12T09:55:56.001Z"
   },
   {
    "duration": 9,
    "start_time": "2022-05-12T09:56:15.334Z"
   },
   {
    "duration": 31,
    "start_time": "2022-05-12T09:59:45.329Z"
   },
   {
    "duration": 27,
    "start_time": "2022-05-12T10:03:27.866Z"
   },
   {
    "duration": 32,
    "start_time": "2022-05-12T10:04:19.209Z"
   },
   {
    "duration": 30,
    "start_time": "2022-05-12T10:04:34.906Z"
   },
   {
    "duration": 30,
    "start_time": "2022-05-12T10:04:56.654Z"
   },
   {
    "duration": 24,
    "start_time": "2022-05-12T10:05:09.200Z"
   },
   {
    "duration": 10,
    "start_time": "2022-05-12T10:09:10.624Z"
   },
   {
    "duration": 10,
    "start_time": "2022-05-12T10:09:23.484Z"
   },
   {
    "duration": 10,
    "start_time": "2022-05-12T10:09:43.732Z"
   },
   {
    "duration": 12,
    "start_time": "2022-05-12T10:09:52.591Z"
   },
   {
    "duration": 11,
    "start_time": "2022-05-12T10:10:03.029Z"
   },
   {
    "duration": 10,
    "start_time": "2022-05-12T10:10:09.991Z"
   },
   {
    "duration": 22,
    "start_time": "2022-05-12T10:16:18.334Z"
   },
   {
    "duration": 115,
    "start_time": "2022-05-12T10:16:50.658Z"
   },
   {
    "duration": 16,
    "start_time": "2022-05-12T10:18:01.217Z"
   },
   {
    "duration": 16,
    "start_time": "2022-05-12T10:18:51.701Z"
   },
   {
    "duration": 50,
    "start_time": "2022-05-12T10:20:27.275Z"
   },
   {
    "duration": 17,
    "start_time": "2022-05-12T10:21:23.329Z"
   },
   {
    "duration": 94,
    "start_time": "2022-05-12T10:22:01.746Z"
   },
   {
    "duration": 11,
    "start_time": "2022-05-12T10:22:12.934Z"
   },
   {
    "duration": 22,
    "start_time": "2022-05-12T10:22:16.082Z"
   },
   {
    "duration": 19,
    "start_time": "2022-05-12T10:22:20.469Z"
   },
   {
    "duration": 16,
    "start_time": "2022-05-12T10:22:40.632Z"
   },
   {
    "duration": 70,
    "start_time": "2022-05-12T10:22:55.473Z"
   },
   {
    "duration": 25,
    "start_time": "2022-05-12T10:23:09.771Z"
   },
   {
    "duration": 16,
    "start_time": "2022-05-12T10:23:12.332Z"
   },
   {
    "duration": 54,
    "start_time": "2022-05-12T10:23:27.529Z"
   },
   {
    "duration": 8,
    "start_time": "2022-05-12T10:24:54.104Z"
   },
   {
    "duration": 9,
    "start_time": "2022-05-12T10:25:02.593Z"
   },
   {
    "duration": 124,
    "start_time": "2022-05-12T10:26:15.743Z"
   },
   {
    "duration": 16,
    "start_time": "2022-05-12T10:26:27.575Z"
   },
   {
    "duration": 13,
    "start_time": "2022-05-12T10:27:13.324Z"
   },
   {
    "duration": 76,
    "start_time": "2022-05-12T10:27:20.581Z"
   },
   {
    "duration": 22,
    "start_time": "2022-05-12T10:27:29.294Z"
   },
   {
    "duration": 17,
    "start_time": "2022-05-12T10:27:30.486Z"
   },
   {
    "duration": 8,
    "start_time": "2022-05-12T10:29:13.156Z"
   },
   {
    "duration": 10,
    "start_time": "2022-05-12T10:29:27.337Z"
   },
   {
    "duration": 11,
    "start_time": "2022-05-12T10:30:19.478Z"
   },
   {
    "duration": 14,
    "start_time": "2022-05-12T10:30:31.274Z"
   },
   {
    "duration": 86,
    "start_time": "2022-05-12T10:32:10.327Z"
   },
   {
    "duration": 21,
    "start_time": "2022-05-12T10:32:30.817Z"
   },
   {
    "duration": 18,
    "start_time": "2022-05-12T10:32:54.856Z"
   },
   {
    "duration": 17,
    "start_time": "2022-05-12T10:33:05.724Z"
   },
   {
    "duration": 18,
    "start_time": "2022-05-12T10:33:13.673Z"
   },
   {
    "duration": 20,
    "start_time": "2022-05-12T10:33:23.784Z"
   },
   {
    "duration": 17,
    "start_time": "2022-05-12T10:33:43.804Z"
   },
   {
    "duration": 24,
    "start_time": "2022-05-12T10:34:28.772Z"
   },
   {
    "duration": 16,
    "start_time": "2022-05-12T10:57:29.396Z"
   },
   {
    "duration": 81,
    "start_time": "2022-05-12T10:57:37.238Z"
   },
   {
    "duration": 31,
    "start_time": "2022-05-12T10:57:44.262Z"
   },
   {
    "duration": 81,
    "start_time": "2022-05-12T10:58:11.114Z"
   },
   {
    "duration": 25,
    "start_time": "2022-05-12T10:58:11.339Z"
   },
   {
    "duration": 22,
    "start_time": "2022-05-12T10:58:11.522Z"
   },
   {
    "duration": 25,
    "start_time": "2022-05-12T10:58:12.214Z"
   },
   {
    "duration": 12,
    "start_time": "2022-05-12T10:58:12.749Z"
   },
   {
    "duration": 20,
    "start_time": "2022-05-12T10:58:12.946Z"
   },
   {
    "duration": 21,
    "start_time": "2022-05-12T10:58:13.321Z"
   },
   {
    "duration": 5,
    "start_time": "2022-05-12T10:58:13.878Z"
   },
   {
    "duration": 6,
    "start_time": "2022-05-12T10:58:14.309Z"
   },
   {
    "duration": 11,
    "start_time": "2022-05-12T10:58:14.673Z"
   },
   {
    "duration": 25,
    "start_time": "2022-05-12T10:58:15.062Z"
   },
   {
    "duration": 22,
    "start_time": "2022-05-12T10:58:15.421Z"
   },
   {
    "duration": 53,
    "start_time": "2022-05-12T10:58:17.021Z"
   },
   {
    "duration": 6,
    "start_time": "2022-05-12T10:58:17.795Z"
   },
   {
    "duration": 23,
    "start_time": "2022-05-12T10:58:18.185Z"
   },
   {
    "duration": 22,
    "start_time": "2022-05-12T10:58:18.585Z"
   },
   {
    "duration": 9,
    "start_time": "2022-05-12T10:58:18.978Z"
   },
   {
    "duration": 11,
    "start_time": "2022-05-12T10:58:19.775Z"
   },
   {
    "duration": 9,
    "start_time": "2022-05-12T10:58:20.362Z"
   },
   {
    "duration": 15,
    "start_time": "2022-05-12T10:58:20.943Z"
   },
   {
    "duration": 8,
    "start_time": "2022-05-12T10:58:21.734Z"
   },
   {
    "duration": 8,
    "start_time": "2022-05-12T10:58:22.146Z"
   },
   {
    "duration": 9,
    "start_time": "2022-05-12T10:58:22.565Z"
   },
   {
    "duration": 11,
    "start_time": "2022-05-12T10:58:23.177Z"
   },
   {
    "duration": 17,
    "start_time": "2022-05-12T10:58:23.353Z"
   },
   {
    "duration": 3,
    "start_time": "2022-05-12T10:58:23.947Z"
   },
   {
    "duration": 9,
    "start_time": "2022-05-12T10:58:25.187Z"
   },
   {
    "duration": 21,
    "start_time": "2022-05-12T10:58:26.908Z"
   },
   {
    "duration": 32,
    "start_time": "2022-05-12T10:58:29.202Z"
   },
   {
    "duration": 10,
    "start_time": "2022-05-12T10:58:31.378Z"
   },
   {
    "duration": 34,
    "start_time": "2022-05-12T10:58:33.061Z"
   },
   {
    "duration": 25,
    "start_time": "2022-05-12T10:59:05.050Z"
   },
   {
    "duration": 20,
    "start_time": "2022-05-12T10:59:28.288Z"
   },
   {
    "duration": 21,
    "start_time": "2022-05-12T11:03:34.893Z"
   },
   {
    "duration": 101,
    "start_time": "2022-05-12T11:23:59.167Z"
   },
   {
    "duration": 28,
    "start_time": "2022-05-12T11:26:09.453Z"
   },
   {
    "duration": 157,
    "start_time": "2022-05-12T11:29:41.978Z"
   },
   {
    "duration": 750,
    "start_time": "2022-05-12T11:30:08.117Z"
   },
   {
    "duration": 4,
    "start_time": "2022-05-12T11:31:28.964Z"
   },
   {
    "duration": 37,
    "start_time": "2022-05-12T11:36:26.930Z"
   },
   {
    "duration": 13,
    "start_time": "2022-05-12T11:36:53.565Z"
   },
   {
    "duration": 8,
    "start_time": "2022-05-12T11:38:27.267Z"
   },
   {
    "duration": 30,
    "start_time": "2022-05-12T11:40:35.325Z"
   },
   {
    "duration": 26,
    "start_time": "2022-05-12T11:40:55.765Z"
   },
   {
    "duration": 8,
    "start_time": "2022-05-12T11:41:23.107Z"
   },
   {
    "duration": 12,
    "start_time": "2022-05-12T11:42:30.049Z"
   },
   {
    "duration": 71,
    "start_time": "2022-05-12T11:42:41.365Z"
   },
   {
    "duration": 20,
    "start_time": "2022-05-12T11:42:41.574Z"
   },
   {
    "duration": 21,
    "start_time": "2022-05-12T11:42:41.797Z"
   },
   {
    "duration": 25,
    "start_time": "2022-05-12T11:42:42.512Z"
   },
   {
    "duration": 12,
    "start_time": "2022-05-12T11:42:43.078Z"
   },
   {
    "duration": 12,
    "start_time": "2022-05-12T11:42:43.331Z"
   },
   {
    "duration": 26,
    "start_time": "2022-05-12T11:42:43.640Z"
   },
   {
    "duration": 5,
    "start_time": "2022-05-12T11:42:44.147Z"
   },
   {
    "duration": 8,
    "start_time": "2022-05-12T11:42:44.550Z"
   },
   {
    "duration": 11,
    "start_time": "2022-05-12T11:42:44.865Z"
   },
   {
    "duration": 30,
    "start_time": "2022-05-12T11:42:45.238Z"
   },
   {
    "duration": 23,
    "start_time": "2022-05-12T11:42:45.612Z"
   },
   {
    "duration": 45,
    "start_time": "2022-05-12T11:43:16.192Z"
   },
   {
    "duration": 6,
    "start_time": "2022-05-12T11:43:17.534Z"
   },
   {
    "duration": 23,
    "start_time": "2022-05-12T11:43:17.908Z"
   },
   {
    "duration": 28,
    "start_time": "2022-05-12T11:43:18.262Z"
   },
   {
    "duration": 11,
    "start_time": "2022-05-12T11:43:19.249Z"
   },
   {
    "duration": 10,
    "start_time": "2022-05-12T11:43:22.478Z"
   },
   {
    "duration": 9,
    "start_time": "2022-05-12T11:43:25.028Z"
   },
   {
    "duration": 14,
    "start_time": "2022-05-12T11:43:26.121Z"
   },
   {
    "duration": 8,
    "start_time": "2022-05-12T11:43:49.165Z"
   },
   {
    "duration": 8,
    "start_time": "2022-05-12T11:43:50.503Z"
   },
   {
    "duration": 7,
    "start_time": "2022-05-12T11:43:51.942Z"
   },
   {
    "duration": 10,
    "start_time": "2022-05-12T11:43:53.766Z"
   },
   {
    "duration": 13,
    "start_time": "2022-05-12T11:43:53.961Z"
   },
   {
    "duration": 98,
    "start_time": "2022-05-12T11:44:00.567Z"
   },
   {
    "duration": 9,
    "start_time": "2022-05-12T11:44:09.623Z"
   },
   {
    "duration": 23,
    "start_time": "2022-05-12T11:44:12.903Z"
   },
   {
    "duration": 31,
    "start_time": "2022-05-12T11:44:14.708Z"
   },
   {
    "duration": 10,
    "start_time": "2022-05-12T11:44:17.011Z"
   },
   {
    "duration": 24,
    "start_time": "2022-05-12T11:44:22.020Z"
   },
   {
    "duration": 29,
    "start_time": "2022-05-12T11:44:26.765Z"
   },
   {
    "duration": 13,
    "start_time": "2022-05-12T11:44:30.779Z"
   },
   {
    "duration": 236,
    "start_time": "2022-05-12T11:45:47.350Z"
   },
   {
    "duration": 34,
    "start_time": "2022-05-12T11:45:49.154Z"
   },
   {
    "duration": 8,
    "start_time": "2022-05-12T11:45:50.424Z"
   },
   {
    "duration": 28,
    "start_time": "2022-05-12T11:46:46.987Z"
   },
   {
    "duration": 8,
    "start_time": "2022-05-12T11:46:52.170Z"
   },
   {
    "duration": 9,
    "start_time": "2022-05-12T11:47:22.321Z"
   },
   {
    "duration": 32,
    "start_time": "2022-05-12T11:47:48.689Z"
   },
   {
    "duration": 12,
    "start_time": "2022-05-12T11:49:31.207Z"
   },
   {
    "duration": 28,
    "start_time": "2022-05-12T11:49:38.086Z"
   },
   {
    "duration": 32,
    "start_time": "2022-05-12T11:49:42.570Z"
   },
   {
    "duration": 10,
    "start_time": "2022-05-12T11:49:46.065Z"
   },
   {
    "duration": 3,
    "start_time": "2022-05-12T11:50:22.075Z"
   },
   {
    "duration": 74,
    "start_time": "2022-05-12T11:50:22.236Z"
   },
   {
    "duration": 19,
    "start_time": "2022-05-12T11:50:22.386Z"
   },
   {
    "duration": 25,
    "start_time": "2022-05-12T11:50:22.538Z"
   },
   {
    "duration": 29,
    "start_time": "2022-05-12T11:50:23.537Z"
   },
   {
    "duration": 10,
    "start_time": "2022-05-12T11:50:24.219Z"
   },
   {
    "duration": 10,
    "start_time": "2022-05-12T11:50:24.428Z"
   },
   {
    "duration": 21,
    "start_time": "2022-05-12T11:50:24.871Z"
   },
   {
    "duration": 7,
    "start_time": "2022-05-12T11:50:25.551Z"
   },
   {
    "duration": 5,
    "start_time": "2022-05-12T11:50:25.999Z"
   },
   {
    "duration": 10,
    "start_time": "2022-05-12T11:50:26.382Z"
   },
   {
    "duration": 30,
    "start_time": "2022-05-12T11:50:26.746Z"
   },
   {
    "duration": 22,
    "start_time": "2022-05-12T11:50:27.107Z"
   },
   {
    "duration": 44,
    "start_time": "2022-05-12T11:50:28.366Z"
   },
   {
    "duration": 6,
    "start_time": "2022-05-12T11:50:29.093Z"
   },
   {
    "duration": 20,
    "start_time": "2022-05-12T11:50:29.493Z"
   },
   {
    "duration": 20,
    "start_time": "2022-05-12T11:50:29.883Z"
   },
   {
    "duration": 10,
    "start_time": "2022-05-12T11:50:30.258Z"
   },
   {
    "duration": 11,
    "start_time": "2022-05-12T11:50:31.118Z"
   },
   {
    "duration": 9,
    "start_time": "2022-05-12T11:50:32.227Z"
   },
   {
    "duration": 13,
    "start_time": "2022-05-12T11:50:33.766Z"
   },
   {
    "duration": 8,
    "start_time": "2022-05-12T11:50:50.331Z"
   },
   {
    "duration": 8,
    "start_time": "2022-05-12T11:50:52.202Z"
   },
   {
    "duration": 8,
    "start_time": "2022-05-12T11:50:53.466Z"
   },
   {
    "duration": 11,
    "start_time": "2022-05-12T11:50:58.095Z"
   },
   {
    "duration": 12,
    "start_time": "2022-05-12T11:50:59.066Z"
   },
   {
    "duration": 10,
    "start_time": "2022-05-12T11:51:06.223Z"
   },
   {
    "duration": 21,
    "start_time": "2022-05-12T11:51:09.700Z"
   },
   {
    "duration": 33,
    "start_time": "2022-05-12T11:51:13.685Z"
   },
   {
    "duration": 25,
    "start_time": "2022-05-12T11:51:52.723Z"
   },
   {
    "duration": 28,
    "start_time": "2022-05-12T11:52:00.623Z"
   },
   {
    "duration": 15,
    "start_time": "2022-05-12T11:52:03.765Z"
   },
   {
    "duration": 12,
    "start_time": "2022-05-12T11:53:05.982Z"
   },
   {
    "duration": 23,
    "start_time": "2022-05-12T11:53:28.885Z"
   },
   {
    "duration": 11,
    "start_time": "2022-05-12T11:53:47.432Z"
   },
   {
    "duration": 12,
    "start_time": "2022-05-12T11:55:30.927Z"
   },
   {
    "duration": 25,
    "start_time": "2022-05-12T11:55:37.573Z"
   },
   {
    "duration": 12,
    "start_time": "2022-05-12T11:55:38.625Z"
   },
   {
    "duration": 7,
    "start_time": "2022-05-12T11:57:05.569Z"
   },
   {
    "duration": 21,
    "start_time": "2022-05-12T11:57:35.052Z"
   },
   {
    "duration": 10,
    "start_time": "2022-05-12T11:57:52.476Z"
   },
   {
    "duration": 9,
    "start_time": "2022-05-12T11:58:20.066Z"
   },
   {
    "duration": 9,
    "start_time": "2022-05-12T11:59:29.995Z"
   },
   {
    "duration": 12,
    "start_time": "2022-05-12T12:00:25.265Z"
   },
   {
    "duration": 13,
    "start_time": "2022-05-12T12:00:43.835Z"
   },
   {
    "duration": 13,
    "start_time": "2022-05-12T12:01:10.797Z"
   },
   {
    "duration": 12,
    "start_time": "2022-05-12T12:01:47.217Z"
   },
   {
    "duration": 404,
    "start_time": "2022-05-12T12:02:15.350Z"
   },
   {
    "duration": 387,
    "start_time": "2022-05-12T12:02:31.368Z"
   },
   {
    "duration": 20,
    "start_time": "2022-05-12T12:03:11.041Z"
   },
   {
    "duration": 9,
    "start_time": "2022-05-12T12:03:31.468Z"
   },
   {
    "duration": 8,
    "start_time": "2022-05-12T12:03:38.270Z"
   },
   {
    "duration": 29,
    "start_time": "2022-05-12T12:05:07.442Z"
   },
   {
    "duration": 11,
    "start_time": "2022-05-12T12:05:08.391Z"
   },
   {
    "duration": 8,
    "start_time": "2022-05-12T12:05:10.026Z"
   },
   {
    "duration": 12,
    "start_time": "2022-05-12T12:07:13.217Z"
   },
   {
    "duration": 10,
    "start_time": "2022-05-12T12:07:21.925Z"
   },
   {
    "duration": 10,
    "start_time": "2022-05-12T12:07:31.916Z"
   },
   {
    "duration": 9,
    "start_time": "2022-05-12T12:11:31.596Z"
   },
   {
    "duration": 107,
    "start_time": "2022-05-12T12:14:17.985Z"
   },
   {
    "duration": 109,
    "start_time": "2022-05-12T12:14:23.227Z"
   },
   {
    "duration": 7,
    "start_time": "2022-05-12T12:14:27.786Z"
   },
   {
    "duration": 11,
    "start_time": "2022-05-12T12:14:33.285Z"
   },
   {
    "duration": 27,
    "start_time": "2022-05-12T12:15:15.981Z"
   },
   {
    "duration": 11,
    "start_time": "2022-05-12T12:15:24.792Z"
   },
   {
    "duration": 12,
    "start_time": "2022-05-12T12:16:03.518Z"
   },
   {
    "duration": 26,
    "start_time": "2022-05-12T12:16:45.365Z"
   },
   {
    "duration": 32,
    "start_time": "2022-05-12T12:17:23.834Z"
   },
   {
    "duration": 15,
    "start_time": "2022-05-12T12:17:24.333Z"
   },
   {
    "duration": 13,
    "start_time": "2022-05-12T12:17:26.353Z"
   },
   {
    "duration": 11,
    "start_time": "2022-05-12T12:17:30.363Z"
   },
   {
    "duration": 31,
    "start_time": "2022-05-12T12:17:35.096Z"
   },
   {
    "duration": 15,
    "start_time": "2022-05-12T12:17:36.385Z"
   },
   {
    "duration": 8,
    "start_time": "2022-05-12T12:17:39.508Z"
   },
   {
    "duration": 12,
    "start_time": "2022-05-12T12:17:59.719Z"
   },
   {
    "duration": 5,
    "start_time": "2022-05-12T12:18:10.450Z"
   },
   {
    "duration": 70,
    "start_time": "2022-05-12T12:18:10.669Z"
   },
   {
    "duration": 20,
    "start_time": "2022-05-12T12:18:10.875Z"
   },
   {
    "duration": 20,
    "start_time": "2022-05-12T12:18:11.113Z"
   },
   {
    "duration": 24,
    "start_time": "2022-05-12T12:18:11.871Z"
   },
   {
    "duration": 11,
    "start_time": "2022-05-12T12:18:12.502Z"
   },
   {
    "duration": 12,
    "start_time": "2022-05-12T12:18:12.727Z"
   },
   {
    "duration": 25,
    "start_time": "2022-05-12T12:18:13.147Z"
   },
   {
    "duration": 5,
    "start_time": "2022-05-12T12:18:13.707Z"
   },
   {
    "duration": 6,
    "start_time": "2022-05-12T12:18:14.109Z"
   },
   {
    "duration": 11,
    "start_time": "2022-05-12T12:18:14.585Z"
   },
   {
    "duration": 32,
    "start_time": "2022-05-12T12:18:14.938Z"
   },
   {
    "duration": 22,
    "start_time": "2022-05-12T12:18:15.328Z"
   },
   {
    "duration": 45,
    "start_time": "2022-05-12T12:18:16.565Z"
   },
   {
    "duration": 8,
    "start_time": "2022-05-12T12:18:17.351Z"
   },
   {
    "duration": 21,
    "start_time": "2022-05-12T12:18:17.765Z"
   },
   {
    "duration": 21,
    "start_time": "2022-05-12T12:18:18.158Z"
   },
   {
    "duration": 7,
    "start_time": "2022-05-12T12:18:18.607Z"
   },
   {
    "duration": 11,
    "start_time": "2022-05-12T12:18:19.257Z"
   },
   {
    "duration": 10,
    "start_time": "2022-05-12T12:18:20.621Z"
   },
   {
    "duration": 15,
    "start_time": "2022-05-12T12:18:21.274Z"
   },
   {
    "duration": 8,
    "start_time": "2022-05-12T12:18:22.687Z"
   },
   {
    "duration": 6,
    "start_time": "2022-05-12T12:18:23.626Z"
   },
   {
    "duration": 9,
    "start_time": "2022-05-12T12:18:24.052Z"
   },
   {
    "duration": 12,
    "start_time": "2022-05-12T12:18:25.338Z"
   },
   {
    "duration": 14,
    "start_time": "2022-05-12T12:18:26.139Z"
   },
   {
    "duration": 10,
    "start_time": "2022-05-12T12:18:28.221Z"
   },
   {
    "duration": 23,
    "start_time": "2022-05-12T12:18:29.011Z"
   },
   {
    "duration": 34,
    "start_time": "2022-05-12T12:18:30.205Z"
   },
   {
    "duration": 29,
    "start_time": "2022-05-12T12:18:36.535Z"
   },
   {
    "duration": 10,
    "start_time": "2022-05-12T12:18:37.721Z"
   },
   {
    "duration": 10,
    "start_time": "2022-05-12T12:18:40.759Z"
   },
   {
    "duration": 11,
    "start_time": "2022-05-12T12:18:44.393Z"
   },
   {
    "duration": 29,
    "start_time": "2022-05-12T12:18:47.896Z"
   },
   {
    "duration": 11,
    "start_time": "2022-05-12T12:18:48.898Z"
   },
   {
    "duration": 9,
    "start_time": "2022-05-12T12:18:52.077Z"
   },
   {
    "duration": 30,
    "start_time": "2022-05-12T12:18:54.453Z"
   },
   {
    "duration": 27,
    "start_time": "2022-05-12T12:19:29.466Z"
   },
   {
    "duration": 15,
    "start_time": "2022-05-12T12:19:30.235Z"
   },
   {
    "duration": 11,
    "start_time": "2022-05-12T12:19:32.002Z"
   },
   {
    "duration": 18,
    "start_time": "2022-05-12T12:19:33.252Z"
   },
   {
    "duration": 42,
    "start_time": "2022-05-12T12:19:35.336Z"
   },
   {
    "duration": 15,
    "start_time": "2022-05-12T12:19:36.266Z"
   },
   {
    "duration": 8,
    "start_time": "2022-05-12T12:19:37.780Z"
   },
   {
    "duration": 7,
    "start_time": "2022-05-12T12:20:36.700Z"
   },
   {
    "duration": 7,
    "start_time": "2022-05-12T12:23:06.744Z"
   },
   {
    "duration": 4,
    "start_time": "2022-05-12T12:25:27.640Z"
   },
   {
    "duration": 76,
    "start_time": "2022-05-12T12:25:27.812Z"
   },
   {
    "duration": 20,
    "start_time": "2022-05-12T12:25:27.978Z"
   },
   {
    "duration": 22,
    "start_time": "2022-05-12T12:25:28.141Z"
   },
   {
    "duration": 25,
    "start_time": "2022-05-12T12:25:28.766Z"
   },
   {
    "duration": 11,
    "start_time": "2022-05-12T12:25:29.471Z"
   },
   {
    "duration": 12,
    "start_time": "2022-05-12T12:25:29.618Z"
   },
   {
    "duration": 21,
    "start_time": "2022-05-12T12:25:29.928Z"
   },
   {
    "duration": 5,
    "start_time": "2022-05-12T12:25:30.437Z"
   },
   {
    "duration": 6,
    "start_time": "2022-05-12T12:25:30.799Z"
   },
   {
    "duration": 11,
    "start_time": "2022-05-12T12:25:31.114Z"
   },
   {
    "duration": 24,
    "start_time": "2022-05-12T12:25:31.466Z"
   },
   {
    "duration": 20,
    "start_time": "2022-05-12T12:25:31.823Z"
   },
   {
    "duration": 42,
    "start_time": "2022-05-12T12:25:32.871Z"
   },
   {
    "duration": 7,
    "start_time": "2022-05-12T12:25:33.614Z"
   },
   {
    "duration": 27,
    "start_time": "2022-05-12T12:25:33.936Z"
   },
   {
    "duration": 21,
    "start_time": "2022-05-12T12:25:34.273Z"
   },
   {
    "duration": 7,
    "start_time": "2022-05-12T12:25:34.669Z"
   },
   {
    "duration": 10,
    "start_time": "2022-05-12T12:25:35.376Z"
   },
   {
    "duration": 9,
    "start_time": "2022-05-12T12:25:35.944Z"
   },
   {
    "duration": 21,
    "start_time": "2022-05-12T12:25:36.442Z"
   },
   {
    "duration": 8,
    "start_time": "2022-05-12T12:25:37.226Z"
   },
   {
    "duration": 8,
    "start_time": "2022-05-12T12:25:37.616Z"
   },
   {
    "duration": 8,
    "start_time": "2022-05-12T12:25:38.105Z"
   },
   {
    "duration": 11,
    "start_time": "2022-05-12T12:25:39.020Z"
   },
   {
    "duration": 14,
    "start_time": "2022-05-12T12:25:39.328Z"
   },
   {
    "duration": 9,
    "start_time": "2022-05-12T12:25:40.939Z"
   },
   {
    "duration": 21,
    "start_time": "2022-05-12T12:25:41.924Z"
   },
   {
    "duration": 33,
    "start_time": "2022-05-12T12:25:42.274Z"
   },
   {
    "duration": 29,
    "start_time": "2022-05-12T12:25:45.847Z"
   },
   {
    "duration": 11,
    "start_time": "2022-05-12T12:25:48.813Z"
   },
   {
    "duration": 8,
    "start_time": "2022-05-12T12:25:52.996Z"
   },
   {
    "duration": 11,
    "start_time": "2022-05-12T12:25:55.121Z"
   },
   {
    "duration": 33,
    "start_time": "2022-05-12T12:26:00.554Z"
   },
   {
    "duration": 11,
    "start_time": "2022-05-12T12:26:08.786Z"
   },
   {
    "duration": 10,
    "start_time": "2022-05-12T12:26:15.126Z"
   },
   {
    "duration": 25,
    "start_time": "2022-05-12T12:26:18.320Z"
   },
   {
    "duration": 8,
    "start_time": "2022-05-12T12:26:27.949Z"
   },
   {
    "duration": 10,
    "start_time": "2022-05-12T12:27:27.979Z"
   },
   {
    "duration": 8,
    "start_time": "2022-05-12T12:32:05.869Z"
   },
   {
    "duration": 6,
    "start_time": "2022-05-12T12:32:45.701Z"
   },
   {
    "duration": 27,
    "start_time": "2022-05-12T12:32:53.699Z"
   },
   {
    "duration": 16,
    "start_time": "2022-05-12T12:32:58.224Z"
   },
   {
    "duration": 9,
    "start_time": "2022-05-12T12:33:00.727Z"
   },
   {
    "duration": 16,
    "start_time": "2022-05-12T12:33:02.254Z"
   },
   {
    "duration": 4,
    "start_time": "2022-05-12T12:33:10.274Z"
   },
   {
    "duration": 10,
    "start_time": "2022-05-12T12:33:11.524Z"
   },
   {
    "duration": 35,
    "start_time": "2022-05-12T12:33:15.431Z"
   },
   {
    "duration": 32,
    "start_time": "2022-05-12T12:34:39.694Z"
   },
   {
    "duration": 9,
    "start_time": "2022-05-12T12:34:46.872Z"
   },
   {
    "duration": 10,
    "start_time": "2022-05-12T12:35:25.617Z"
   },
   {
    "duration": 11,
    "start_time": "2022-05-12T12:35:44.666Z"
   },
   {
    "duration": 16,
    "start_time": "2022-05-12T12:39:14.450Z"
   },
   {
    "duration": 24,
    "start_time": "2022-05-12T12:40:10.177Z"
   },
   {
    "duration": 9,
    "start_time": "2022-05-12T12:44:02.621Z"
   },
   {
    "duration": 11,
    "start_time": "2022-05-12T12:45:29.149Z"
   },
   {
    "duration": 9,
    "start_time": "2022-05-12T12:47:12.935Z"
   },
   {
    "duration": 32,
    "start_time": "2022-05-12T12:48:20.879Z"
   },
   {
    "duration": 20,
    "start_time": "2022-05-12T12:55:19.185Z"
   },
   {
    "duration": 9,
    "start_time": "2022-05-12T13:01:29.368Z"
   },
   {
    "duration": 28,
    "start_time": "2022-05-12T13:01:31.818Z"
   },
   {
    "duration": 26,
    "start_time": "2022-05-12T13:01:39.259Z"
   },
   {
    "duration": 18,
    "start_time": "2022-05-12T13:02:58.572Z"
   },
   {
    "duration": 5,
    "start_time": "2022-05-12T13:03:18.661Z"
   },
   {
    "duration": 93,
    "start_time": "2022-05-12T13:03:19.228Z"
   },
   {
    "duration": 11,
    "start_time": "2022-05-12T13:03:19.537Z"
   },
   {
    "duration": 128,
    "start_time": "2022-05-12T13:03:19.931Z"
   },
   {
    "duration": 21,
    "start_time": "2022-05-12T13:03:57.951Z"
   },
   {
    "duration": 15,
    "start_time": "2022-05-12T13:04:14.825Z"
   },
   {
    "duration": 6,
    "start_time": "2022-05-12T13:05:08.268Z"
   },
   {
    "duration": 10,
    "start_time": "2022-05-12T13:05:09.631Z"
   },
   {
    "duration": 19,
    "start_time": "2022-05-12T13:05:11.888Z"
   },
   {
    "duration": 3,
    "start_time": "2022-05-12T13:05:18.157Z"
   },
   {
    "duration": 3,
    "start_time": "2022-05-12T13:05:20.607Z"
   },
   {
    "duration": 17,
    "start_time": "2022-05-12T13:05:23.251Z"
   },
   {
    "duration": 9,
    "start_time": "2022-05-12T13:06:15.083Z"
   },
   {
    "duration": 14,
    "start_time": "2022-05-12T13:06:17.045Z"
   },
   {
    "duration": 16,
    "start_time": "2022-05-12T13:07:02.805Z"
   },
   {
    "duration": 5,
    "start_time": "2022-05-12T13:07:37.510Z"
   },
   {
    "duration": 9,
    "start_time": "2022-05-12T13:07:38.591Z"
   },
   {
    "duration": 20,
    "start_time": "2022-05-12T13:07:39.673Z"
   },
   {
    "duration": 3,
    "start_time": "2022-05-12T13:07:41.596Z"
   },
   {
    "duration": 4,
    "start_time": "2022-05-12T13:07:42.096Z"
   },
   {
    "duration": 16,
    "start_time": "2022-05-12T13:07:47.188Z"
   },
   {
    "duration": 17,
    "start_time": "2022-05-12T13:07:53.065Z"
   },
   {
    "duration": 17,
    "start_time": "2022-05-12T13:07:56.438Z"
   },
   {
    "duration": 140,
    "start_time": "2022-05-12T13:07:56.764Z"
   },
   {
    "duration": 17,
    "start_time": "2022-05-12T13:08:00.139Z"
   },
   {
    "duration": 155,
    "start_time": "2022-05-12T13:08:00.361Z"
   },
   {
    "duration": 5,
    "start_time": "2022-05-12T13:09:07.022Z"
   },
   {
    "duration": 8,
    "start_time": "2022-05-12T13:09:07.732Z"
   },
   {
    "duration": 31,
    "start_time": "2022-05-12T13:09:08.250Z"
   },
   {
    "duration": 3,
    "start_time": "2022-05-12T13:09:27.383Z"
   },
   {
    "duration": 4,
    "start_time": "2022-05-12T13:09:28.733Z"
   },
   {
    "duration": 20,
    "start_time": "2022-05-12T13:10:57.543Z"
   },
   {
    "duration": 16,
    "start_time": "2022-05-12T13:11:19.799Z"
   },
   {
    "duration": 119,
    "start_time": "2022-05-12T13:11:22.172Z"
   },
   {
    "duration": 16,
    "start_time": "2022-05-12T13:11:25.898Z"
   },
   {
    "duration": 5,
    "start_time": "2022-05-12T13:11:49.924Z"
   },
   {
    "duration": 9,
    "start_time": "2022-05-12T13:11:50.426Z"
   },
   {
    "duration": 20,
    "start_time": "2022-05-12T13:11:50.885Z"
   },
   {
    "duration": 4,
    "start_time": "2022-05-12T13:11:52.465Z"
   },
   {
    "duration": 4,
    "start_time": "2022-05-12T13:11:52.649Z"
   },
   {
    "duration": 19,
    "start_time": "2022-05-12T13:11:57.178Z"
   },
   {
    "duration": 5,
    "start_time": "2022-05-12T13:13:31.714Z"
   },
   {
    "duration": 11,
    "start_time": "2022-05-12T13:13:32.453Z"
   },
   {
    "duration": 21,
    "start_time": "2022-05-12T13:13:32.820Z"
   },
   {
    "duration": 3,
    "start_time": "2022-05-12T13:13:33.336Z"
   },
   {
    "duration": 4,
    "start_time": "2022-05-12T13:13:33.744Z"
   },
   {
    "duration": 2,
    "start_time": "2022-05-12T13:13:34.937Z"
   },
   {
    "duration": 13,
    "start_time": "2022-05-12T13:13:38.195Z"
   },
   {
    "duration": 6,
    "start_time": "2022-05-12T13:14:23.137Z"
   },
   {
    "duration": 11,
    "start_time": "2022-05-12T13:14:23.572Z"
   },
   {
    "duration": 25,
    "start_time": "2022-05-12T13:14:23.921Z"
   },
   {
    "duration": 8,
    "start_time": "2022-05-12T13:14:25.774Z"
   },
   {
    "duration": 3,
    "start_time": "2022-05-12T13:14:25.949Z"
   },
   {
    "duration": 7,
    "start_time": "2022-05-12T13:14:36.482Z"
   },
   {
    "duration": 9,
    "start_time": "2022-05-12T13:15:03.383Z"
   },
   {
    "duration": 8,
    "start_time": "2022-05-12T13:15:21.412Z"
   },
   {
    "duration": 9,
    "start_time": "2022-05-12T13:15:41.967Z"
   },
   {
    "duration": 5,
    "start_time": "2022-05-12T13:17:53.682Z"
   },
   {
    "duration": 21,
    "start_time": "2022-05-12T13:18:06.295Z"
   },
   {
    "duration": 22,
    "start_time": "2022-05-12T13:18:12.016Z"
   },
   {
    "duration": 17,
    "start_time": "2022-05-12T13:18:44.068Z"
   },
   {
    "duration": 5,
    "start_time": "2022-05-12T13:18:50.293Z"
   },
   {
    "duration": 9,
    "start_time": "2022-05-12T13:18:50.716Z"
   },
   {
    "duration": 25,
    "start_time": "2022-05-12T13:18:51.145Z"
   },
   {
    "duration": 4,
    "start_time": "2022-05-12T13:18:51.761Z"
   },
   {
    "duration": 4,
    "start_time": "2022-05-12T13:18:51.975Z"
   },
   {
    "duration": 9,
    "start_time": "2022-05-12T13:18:52.988Z"
   },
   {
    "duration": 17,
    "start_time": "2022-05-12T13:18:53.228Z"
   },
   {
    "duration": 17,
    "start_time": "2022-05-12T13:19:29.161Z"
   },
   {
    "duration": 5,
    "start_time": "2022-05-12T13:19:34.043Z"
   },
   {
    "duration": 9,
    "start_time": "2022-05-12T13:19:34.426Z"
   },
   {
    "duration": 19,
    "start_time": "2022-05-12T13:19:34.811Z"
   },
   {
    "duration": 4,
    "start_time": "2022-05-12T13:19:35.349Z"
   },
   {
    "duration": 3,
    "start_time": "2022-05-12T13:19:35.553Z"
   },
   {
    "duration": 8,
    "start_time": "2022-05-12T13:19:36.498Z"
   },
   {
    "duration": 17,
    "start_time": "2022-05-12T13:19:36.718Z"
   },
   {
    "duration": 17,
    "start_time": "2022-05-12T13:19:49.537Z"
   },
   {
    "duration": 5,
    "start_time": "2022-05-12T13:19:54.028Z"
   },
   {
    "duration": 9,
    "start_time": "2022-05-12T13:19:54.421Z"
   },
   {
    "duration": 21,
    "start_time": "2022-05-12T13:19:54.793Z"
   },
   {
    "duration": 3,
    "start_time": "2022-05-12T13:19:55.339Z"
   },
   {
    "duration": 3,
    "start_time": "2022-05-12T13:19:55.526Z"
   },
   {
    "duration": 8,
    "start_time": "2022-05-12T13:19:56.517Z"
   },
   {
    "duration": 18,
    "start_time": "2022-05-12T13:19:56.732Z"
   },
   {
    "duration": 9,
    "start_time": "2022-05-12T13:20:51.976Z"
   },
   {
    "duration": 6,
    "start_time": "2022-05-12T13:21:07.409Z"
   },
   {
    "duration": 14,
    "start_time": "2022-05-12T13:21:07.863Z"
   },
   {
    "duration": 22,
    "start_time": "2022-05-12T13:21:08.577Z"
   },
   {
    "duration": 12,
    "start_time": "2022-05-12T13:21:11.152Z"
   },
   {
    "duration": 19,
    "start_time": "2022-05-12T13:21:13.411Z"
   },
   {
    "duration": 4,
    "start_time": "2022-05-12T13:21:23.466Z"
   },
   {
    "duration": 14,
    "start_time": "2022-05-12T13:21:23.820Z"
   },
   {
    "duration": 20,
    "start_time": "2022-05-12T13:21:24.189Z"
   },
   {
    "duration": 10,
    "start_time": "2022-05-12T13:21:24.741Z"
   },
   {
    "duration": 18,
    "start_time": "2022-05-12T13:21:24.925Z"
   },
   {
    "duration": 5,
    "start_time": "2022-05-12T13:21:37.291Z"
   },
   {
    "duration": 11,
    "start_time": "2022-05-12T13:21:37.647Z"
   },
   {
    "duration": 22,
    "start_time": "2022-05-12T13:21:38.004Z"
   },
   {
    "duration": 10,
    "start_time": "2022-05-12T13:21:38.380Z"
   },
   {
    "duration": 92,
    "start_time": "2022-05-12T13:21:38.540Z"
   },
   {
    "duration": 19,
    "start_time": "2022-05-12T13:22:01.112Z"
   },
   {
    "duration": 5,
    "start_time": "2022-05-12T13:27:21.115Z"
   },
   {
    "duration": 12,
    "start_time": "2022-05-12T13:27:31.150Z"
   },
   {
    "duration": 9,
    "start_time": "2022-05-12T13:27:31.473Z"
   },
   {
    "duration": 19,
    "start_time": "2022-05-12T13:27:31.801Z"
   },
   {
    "duration": 6,
    "start_time": "2022-05-12T13:27:33.825Z"
   },
   {
    "duration": 24,
    "start_time": "2022-05-12T13:27:41.236Z"
   },
   {
    "duration": 4,
    "start_time": "2022-05-12T13:27:53.785Z"
   },
   {
    "duration": 10,
    "start_time": "2022-05-12T13:27:54.143Z"
   },
   {
    "duration": 19,
    "start_time": "2022-05-12T13:27:54.512Z"
   },
   {
    "duration": 32,
    "start_time": "2022-05-12T13:27:57.149Z"
   },
   {
    "duration": 34,
    "start_time": "2022-05-12T13:37:04.425Z"
   },
   {
    "duration": 11,
    "start_time": "2022-05-12T13:37:04.919Z"
   },
   {
    "duration": 35,
    "start_time": "2022-05-12T13:37:07.744Z"
   },
   {
    "duration": 8,
    "start_time": "2022-05-12T13:37:11.129Z"
   },
   {
    "duration": 8,
    "start_time": "2022-05-12T13:37:43.896Z"
   },
   {
    "duration": 13,
    "start_time": "2022-05-12T13:38:42.292Z"
   },
   {
    "duration": 27,
    "start_time": "2022-05-12T13:39:44.511Z"
   },
   {
    "duration": 11,
    "start_time": "2022-05-12T13:39:45.067Z"
   },
   {
    "duration": 27,
    "start_time": "2022-05-12T13:39:53.019Z"
   },
   {
    "duration": 20,
    "start_time": "2022-05-12T13:40:24.397Z"
   },
   {
    "duration": 38,
    "start_time": "2022-05-12T13:41:20.141Z"
   },
   {
    "duration": 13,
    "start_time": "2022-05-12T13:41:21.094Z"
   },
   {
    "duration": 39,
    "start_time": "2022-05-12T13:41:37.927Z"
   },
   {
    "duration": 13,
    "start_time": "2022-05-12T13:41:43.479Z"
   },
   {
    "duration": 10,
    "start_time": "2022-05-12T13:41:54.370Z"
   },
   {
    "duration": 21,
    "start_time": "2022-05-12T13:41:56.546Z"
   },
   {
    "duration": 10,
    "start_time": "2022-05-12T13:41:59.568Z"
   },
   {
    "duration": 25,
    "start_time": "2022-05-12T13:42:01.477Z"
   },
   {
    "duration": 8,
    "start_time": "2022-05-12T13:42:43.682Z"
   },
   {
    "duration": 11,
    "start_time": "2022-05-12T13:43:28.850Z"
   },
   {
    "duration": 10,
    "start_time": "2022-05-12T13:43:33.905Z"
   },
   {
    "duration": 25,
    "start_time": "2022-05-12T13:44:31.671Z"
   },
   {
    "duration": 13,
    "start_time": "2022-05-12T13:44:32.334Z"
   },
   {
    "duration": 12,
    "start_time": "2022-05-12T13:45:00.861Z"
   },
   {
    "duration": 7,
    "start_time": "2022-05-12T13:45:10.269Z"
   },
   {
    "duration": 10,
    "start_time": "2022-05-12T13:45:12.250Z"
   },
   {
    "duration": 9,
    "start_time": "2022-05-12T13:45:14.271Z"
   },
   {
    "duration": 26,
    "start_time": "2022-05-12T13:45:15.801Z"
   },
   {
    "duration": 28,
    "start_time": "2022-05-12T13:45:31.278Z"
   },
   {
    "duration": 8,
    "start_time": "2022-05-12T13:45:34.539Z"
   },
   {
    "duration": 25,
    "start_time": "2022-05-12T13:46:15.188Z"
   },
   {
    "duration": 12,
    "start_time": "2022-05-12T13:46:15.849Z"
   },
   {
    "duration": 13,
    "start_time": "2022-05-12T13:46:28.633Z"
   },
   {
    "duration": 9,
    "start_time": "2022-05-12T13:46:30.937Z"
   },
   {
    "duration": 11,
    "start_time": "2022-05-12T13:46:31.803Z"
   },
   {
    "duration": 9,
    "start_time": "2022-05-12T13:46:35.239Z"
   },
   {
    "duration": 26,
    "start_time": "2022-05-12T13:46:38.174Z"
   },
   {
    "duration": 28,
    "start_time": "2022-05-12T13:47:32.925Z"
   },
   {
    "duration": 9,
    "start_time": "2022-05-12T13:47:36.256Z"
   },
   {
    "duration": 26,
    "start_time": "2022-05-12T13:48:25.169Z"
   },
   {
    "duration": 12,
    "start_time": "2022-05-12T13:48:26.232Z"
   },
   {
    "duration": 27,
    "start_time": "2022-05-12T13:48:30.243Z"
   },
   {
    "duration": 12,
    "start_time": "2022-05-12T13:48:33.359Z"
   },
   {
    "duration": 8,
    "start_time": "2022-05-12T13:48:36.515Z"
   },
   {
    "duration": 11,
    "start_time": "2022-05-12T13:48:36.955Z"
   },
   {
    "duration": 10,
    "start_time": "2022-05-12T13:48:38.720Z"
   },
   {
    "duration": 26,
    "start_time": "2022-05-12T13:48:41.256Z"
   },
   {
    "duration": 10,
    "start_time": "2022-05-12T13:48:43.812Z"
   },
   {
    "duration": 3,
    "start_time": "2022-05-12T13:51:54.555Z"
   },
   {
    "duration": 25,
    "start_time": "2022-05-12T13:56:40.967Z"
   },
   {
    "duration": 12,
    "start_time": "2022-05-12T13:56:42.490Z"
   },
   {
    "duration": 29,
    "start_time": "2022-05-12T13:56:53.106Z"
   },
   {
    "duration": 12,
    "start_time": "2022-05-12T13:57:01.908Z"
   },
   {
    "duration": 28,
    "start_time": "2022-05-12T13:58:47.756Z"
   },
   {
    "duration": 12,
    "start_time": "2022-05-12T13:58:48.168Z"
   },
   {
    "duration": 8,
    "start_time": "2022-05-12T13:58:49.192Z"
   },
   {
    "duration": 12,
    "start_time": "2022-05-12T14:01:16.636Z"
   },
   {
    "duration": 3,
    "start_time": "2022-05-12T14:02:09.882Z"
   },
   {
    "duration": 27,
    "start_time": "2022-05-12T14:07:30.265Z"
   },
   {
    "duration": 106,
    "start_time": "2022-05-12T14:08:28.284Z"
   },
   {
    "duration": 13,
    "start_time": "2022-05-12T14:08:42.241Z"
   },
   {
    "duration": 26,
    "start_time": "2022-05-12T14:09:03.864Z"
   },
   {
    "duration": 18,
    "start_time": "2022-05-12T14:09:04.346Z"
   },
   {
    "duration": 12,
    "start_time": "2022-05-12T14:09:05.066Z"
   },
   {
    "duration": 28,
    "start_time": "2022-05-12T14:14:52.601Z"
   },
   {
    "duration": 15,
    "start_time": "2022-05-12T14:15:23.185Z"
   },
   {
    "duration": 27,
    "start_time": "2022-05-12T14:18:46.900Z"
   },
   {
    "duration": 13,
    "start_time": "2022-05-12T14:18:47.998Z"
   },
   {
    "duration": 39,
    "start_time": "2022-05-12T14:20:09.779Z"
   },
   {
    "duration": 19,
    "start_time": "2022-05-12T14:20:10.574Z"
   },
   {
    "duration": 30,
    "start_time": "2022-05-12T14:21:22.839Z"
   },
   {
    "duration": 14,
    "start_time": "2022-05-12T14:21:27.013Z"
   },
   {
    "duration": 26,
    "start_time": "2022-05-12T14:22:31.676Z"
   },
   {
    "duration": 17,
    "start_time": "2022-05-12T14:22:32.227Z"
   },
   {
    "duration": 28,
    "start_time": "2022-05-12T14:23:32.320Z"
   },
   {
    "duration": 12,
    "start_time": "2022-05-12T14:23:33.200Z"
   },
   {
    "duration": 31,
    "start_time": "2022-05-12T14:23:38.424Z"
   },
   {
    "duration": 4,
    "start_time": "2022-05-12T14:23:47.891Z"
   },
   {
    "duration": 3,
    "start_time": "2022-05-12T14:23:49.513Z"
   },
   {
    "duration": 12,
    "start_time": "2022-05-12T14:23:51.344Z"
   },
   {
    "duration": 27,
    "start_time": "2022-05-12T14:25:01.018Z"
   },
   {
    "duration": 12,
    "start_time": "2022-05-12T14:25:01.254Z"
   },
   {
    "duration": 26,
    "start_time": "2022-05-12T14:26:36.916Z"
   },
   {
    "duration": 13,
    "start_time": "2022-05-12T14:26:37.428Z"
   },
   {
    "duration": 26,
    "start_time": "2022-05-12T14:26:38.146Z"
   },
   {
    "duration": 4,
    "start_time": "2022-05-12T14:26:39.713Z"
   },
   {
    "duration": 4,
    "start_time": "2022-05-12T14:26:41.012Z"
   },
   {
    "duration": 12,
    "start_time": "2022-05-12T14:26:52.337Z"
   },
   {
    "duration": 33,
    "start_time": "2022-05-12T14:28:18.637Z"
   },
   {
    "duration": 15,
    "start_time": "2022-05-12T14:28:19.578Z"
   },
   {
    "duration": 34,
    "start_time": "2022-05-12T14:28:21.053Z"
   },
   {
    "duration": 29,
    "start_time": "2022-05-12T14:28:26.151Z"
   },
   {
    "duration": 4,
    "start_time": "2022-05-12T14:28:29.807Z"
   },
   {
    "duration": 4,
    "start_time": "2022-05-12T14:28:32.024Z"
   },
   {
    "duration": 13,
    "start_time": "2022-05-12T14:28:33.916Z"
   },
   {
    "duration": 9,
    "start_time": "2022-05-12T14:28:38.049Z"
   },
   {
    "duration": 8,
    "start_time": "2022-05-12T14:28:56.085Z"
   },
   {
    "duration": 11,
    "start_time": "2022-05-12T14:28:58.708Z"
   },
   {
    "duration": 90,
    "start_time": "2022-05-12T14:28:59.412Z"
   },
   {
    "duration": 3,
    "start_time": "2022-05-12T14:29:00.861Z"
   },
   {
    "duration": 13,
    "start_time": "2022-05-12T14:29:03.685Z"
   },
   {
    "duration": 3,
    "start_time": "2022-05-12T14:29:11.255Z"
   },
   {
    "duration": 10,
    "start_time": "2022-05-12T14:29:11.997Z"
   },
   {
    "duration": 28,
    "start_time": "2022-05-12T14:29:14.612Z"
   },
   {
    "duration": 10,
    "start_time": "2022-05-12T14:29:17.194Z"
   },
   {
    "duration": 26,
    "start_time": "2022-05-12T14:29:44.633Z"
   },
   {
    "duration": 13,
    "start_time": "2022-05-12T14:29:45.130Z"
   },
   {
    "duration": 27,
    "start_time": "2022-05-12T14:29:45.852Z"
   },
   {
    "duration": 4,
    "start_time": "2022-05-12T14:29:47.128Z"
   },
   {
    "duration": 3,
    "start_time": "2022-05-12T14:29:51.756Z"
   },
   {
    "duration": 11,
    "start_time": "2022-05-12T14:29:59.982Z"
   },
   {
    "duration": 28,
    "start_time": "2022-05-12T14:31:19.876Z"
   },
   {
    "duration": 3,
    "start_time": "2022-05-12T14:31:24.821Z"
   },
   {
    "duration": 4,
    "start_time": "2022-05-12T14:31:25.611Z"
   },
   {
    "duration": 12,
    "start_time": "2022-05-12T14:31:26.647Z"
   },
   {
    "duration": 28,
    "start_time": "2022-05-12T14:33:53.916Z"
   },
   {
    "duration": 4,
    "start_time": "2022-05-12T14:33:54.542Z"
   },
   {
    "duration": 3,
    "start_time": "2022-05-12T14:33:55.264Z"
   },
   {
    "duration": 12,
    "start_time": "2022-05-12T14:33:56.006Z"
   },
   {
    "duration": 28,
    "start_time": "2022-05-12T14:34:05.944Z"
   },
   {
    "duration": 3,
    "start_time": "2022-05-12T14:34:06.442Z"
   },
   {
    "duration": 3,
    "start_time": "2022-05-12T14:34:07.473Z"
   },
   {
    "duration": 13,
    "start_time": "2022-05-12T14:34:08.047Z"
   },
   {
    "duration": 30,
    "start_time": "2022-05-12T14:34:18.605Z"
   },
   {
    "duration": 4,
    "start_time": "2022-05-12T14:34:19.307Z"
   },
   {
    "duration": 4,
    "start_time": "2022-05-12T14:34:20.062Z"
   },
   {
    "duration": 13,
    "start_time": "2022-05-12T14:34:20.714Z"
   },
   {
    "duration": 26,
    "start_time": "2022-05-12T14:34:37.179Z"
   },
   {
    "duration": 12,
    "start_time": "2022-05-12T14:34:37.773Z"
   },
   {
    "duration": 29,
    "start_time": "2022-05-12T14:34:38.200Z"
   },
   {
    "duration": 3,
    "start_time": "2022-05-12T14:34:39.323Z"
   },
   {
    "duration": 4,
    "start_time": "2022-05-12T14:34:40.242Z"
   },
   {
    "duration": 17,
    "start_time": "2022-05-12T14:34:40.883Z"
   },
   {
    "duration": 25,
    "start_time": "2022-05-12T14:34:49.590Z"
   },
   {
    "duration": 12,
    "start_time": "2022-05-12T14:34:50.108Z"
   },
   {
    "duration": 29,
    "start_time": "2022-05-12T14:34:50.693Z"
   },
   {
    "duration": 3,
    "start_time": "2022-05-12T14:34:51.543Z"
   },
   {
    "duration": 3,
    "start_time": "2022-05-12T14:34:52.193Z"
   },
   {
    "duration": 11,
    "start_time": "2022-05-12T14:34:52.861Z"
   },
   {
    "duration": 26,
    "start_time": "2022-05-12T14:35:04.348Z"
   },
   {
    "duration": 12,
    "start_time": "2022-05-12T14:35:04.840Z"
   },
   {
    "duration": 26,
    "start_time": "2022-05-12T14:35:05.468Z"
   },
   {
    "duration": 4,
    "start_time": "2022-05-12T14:35:06.000Z"
   },
   {
    "duration": 3,
    "start_time": "2022-05-12T14:35:06.645Z"
   },
   {
    "duration": 25,
    "start_time": "2022-05-12T14:35:21.124Z"
   },
   {
    "duration": 12,
    "start_time": "2022-05-12T14:35:21.699Z"
   },
   {
    "duration": 28,
    "start_time": "2022-05-12T14:35:22.386Z"
   },
   {
    "duration": 5,
    "start_time": "2022-05-12T14:35:23.133Z"
   },
   {
    "duration": 4,
    "start_time": "2022-05-12T14:35:24.313Z"
   },
   {
    "duration": 13,
    "start_time": "2022-05-12T14:35:25.015Z"
   },
   {
    "duration": 28,
    "start_time": "2022-05-12T14:35:52.726Z"
   },
   {
    "duration": 4,
    "start_time": "2022-05-12T14:35:53.410Z"
   },
   {
    "duration": 3,
    "start_time": "2022-05-12T14:35:54.198Z"
   },
   {
    "duration": 12,
    "start_time": "2022-05-12T14:35:55.141Z"
   },
   {
    "duration": 4,
    "start_time": "2022-05-12T14:36:15.567Z"
   },
   {
    "duration": 17,
    "start_time": "2022-05-12T14:36:16.084Z"
   },
   {
    "duration": 4,
    "start_time": "2022-05-12T14:36:18.031Z"
   },
   {
    "duration": 12,
    "start_time": "2022-05-12T14:36:19.019Z"
   },
   {
    "duration": 37,
    "start_time": "2022-05-12T14:36:20.957Z"
   },
   {
    "duration": 11,
    "start_time": "2022-05-12T14:36:22.479Z"
   },
   {
    "duration": 4,
    "start_time": "2022-05-12T14:36:23.274Z"
   },
   {
    "duration": 26,
    "start_time": "2022-05-12T14:38:20.120Z"
   },
   {
    "duration": 13,
    "start_time": "2022-05-12T14:38:21.232Z"
   },
   {
    "duration": 28,
    "start_time": "2022-05-12T14:38:28.420Z"
   },
   {
    "duration": 3,
    "start_time": "2022-05-12T14:38:29.448Z"
   },
   {
    "duration": 3,
    "start_time": "2022-05-12T14:38:30.464Z"
   },
   {
    "duration": 12,
    "start_time": "2022-05-12T14:38:31.484Z"
   },
   {
    "duration": 8,
    "start_time": "2022-05-12T14:38:43.243Z"
   },
   {
    "duration": 11,
    "start_time": "2022-05-12T14:38:45.236Z"
   },
   {
    "duration": 3,
    "start_time": "2022-05-12T14:38:46.588Z"
   },
   {
    "duration": 12,
    "start_time": "2022-05-12T14:38:47.486Z"
   },
   {
    "duration": 3,
    "start_time": "2022-05-12T14:38:50.481Z"
   },
   {
    "duration": 10,
    "start_time": "2022-05-12T14:39:06.776Z"
   },
   {
    "duration": 26,
    "start_time": "2022-05-12T14:39:09.455Z"
   },
   {
    "duration": 10,
    "start_time": "2022-05-12T14:39:11.598Z"
   },
   {
    "duration": 25,
    "start_time": "2022-05-12T14:41:02.086Z"
   },
   {
    "duration": 12,
    "start_time": "2022-05-12T14:41:02.863Z"
   },
   {
    "duration": 30,
    "start_time": "2022-05-12T14:41:10.637Z"
   },
   {
    "duration": 4,
    "start_time": "2022-05-12T14:41:12.637Z"
   },
   {
    "duration": 4,
    "start_time": "2022-05-12T14:41:23.679Z"
   },
   {
    "duration": 12,
    "start_time": "2022-05-12T14:41:25.495Z"
   },
   {
    "duration": 8,
    "start_time": "2022-05-12T14:41:28.210Z"
   },
   {
    "duration": 11,
    "start_time": "2022-05-12T14:41:30.451Z"
   },
   {
    "duration": 3,
    "start_time": "2022-05-12T14:41:32.468Z"
   },
   {
    "duration": 9,
    "start_time": "2022-05-12T14:45:36.999Z"
   },
   {
    "duration": 8,
    "start_time": "2022-05-12T14:45:42.876Z"
   },
   {
    "duration": 216,
    "start_time": "2022-05-12T14:45:43.624Z"
   },
   {
    "duration": 11,
    "start_time": "2022-05-12T14:45:49.353Z"
   },
   {
    "duration": 6,
    "start_time": "2022-05-12T14:46:24.104Z"
   },
   {
    "duration": 24,
    "start_time": "2022-05-12T14:46:26.864Z"
   },
   {
    "duration": 13,
    "start_time": "2022-05-12T14:46:28.259Z"
   },
   {
    "duration": 9,
    "start_time": "2022-05-12T14:46:32.830Z"
   },
   {
    "duration": 13,
    "start_time": "2022-05-12T14:46:47.890Z"
   },
   {
    "duration": 3,
    "start_time": "2022-05-12T14:48:19.002Z"
   },
   {
    "duration": 11,
    "start_time": "2022-05-12T14:48:19.557Z"
   },
   {
    "duration": 7,
    "start_time": "2022-05-12T14:48:28.659Z"
   },
   {
    "duration": 23,
    "start_time": "2022-05-12T14:48:29.013Z"
   },
   {
    "duration": 12,
    "start_time": "2022-05-12T14:48:29.190Z"
   },
   {
    "duration": 9,
    "start_time": "2022-05-12T14:48:29.692Z"
   },
   {
    "duration": 11,
    "start_time": "2022-05-12T14:48:30.082Z"
   },
   {
    "duration": 28,
    "start_time": "2022-05-12T14:48:31.073Z"
   },
   {
    "duration": 12,
    "start_time": "2022-05-12T14:48:32.596Z"
   },
   {
    "duration": 4,
    "start_time": "2022-05-12T14:48:32.735Z"
   },
   {
    "duration": 4,
    "start_time": "2022-05-12T14:48:32.957Z"
   },
   {
    "duration": 3,
    "start_time": "2022-05-12T14:48:33.185Z"
   },
   {
    "duration": 12,
    "start_time": "2022-05-12T14:48:33.921Z"
   },
   {
    "duration": 271,
    "start_time": "2022-05-12T14:49:21.410Z"
   },
   {
    "duration": 4,
    "start_time": "2022-05-12T14:52:52.447Z"
   },
   {
    "duration": 5,
    "start_time": "2022-05-12T14:52:56.696Z"
   },
   {
    "duration": 9,
    "start_time": "2022-05-12T14:52:59.247Z"
   },
   {
    "duration": 21,
    "start_time": "2022-05-12T14:53:13.079Z"
   },
   {
    "duration": 89,
    "start_time": "2022-05-12T14:53:43.747Z"
   },
   {
    "duration": 12,
    "start_time": "2022-05-12T14:56:49.664Z"
   },
   {
    "duration": 13,
    "start_time": "2022-05-12T14:57:24.035Z"
   },
   {
    "duration": 5,
    "start_time": "2022-05-12T14:57:59.998Z"
   },
   {
    "duration": 9,
    "start_time": "2022-05-12T14:58:01.230Z"
   },
   {
    "duration": 20,
    "start_time": "2022-05-12T14:58:02.359Z"
   },
   {
    "duration": 18,
    "start_time": "2022-05-12T14:58:04.684Z"
   },
   {
    "duration": 12,
    "start_time": "2022-05-12T14:58:07.037Z"
   },
   {
    "duration": 6,
    "start_time": "2022-05-12T15:06:42.530Z"
   },
   {
    "duration": 6,
    "start_time": "2022-05-12T15:07:29.362Z"
   },
   {
    "duration": 12,
    "start_time": "2022-05-12T15:07:30.761Z"
   },
   {
    "duration": 9,
    "start_time": "2022-05-12T15:08:48.339Z"
   },
   {
    "duration": 6,
    "start_time": "2022-05-12T15:09:29.043Z"
   },
   {
    "duration": 11,
    "start_time": "2022-05-12T15:09:30.256Z"
   },
   {
    "duration": 10,
    "start_time": "2022-05-12T15:09:54.541Z"
   },
   {
    "duration": 14,
    "start_time": "2022-05-12T15:10:10.212Z"
   },
   {
    "duration": 6,
    "start_time": "2022-05-12T15:10:19.010Z"
   },
   {
    "duration": 13,
    "start_time": "2022-05-12T15:10:19.567Z"
   },
   {
    "duration": 9,
    "start_time": "2022-05-12T15:10:20.251Z"
   },
   {
    "duration": 12,
    "start_time": "2022-05-12T15:10:22.898Z"
   },
   {
    "duration": 6,
    "start_time": "2022-05-12T15:10:44.661Z"
   },
   {
    "duration": 24,
    "start_time": "2022-05-12T15:10:51.673Z"
   },
   {
    "duration": 11,
    "start_time": "2022-05-12T15:10:57.304Z"
   },
   {
    "duration": 11,
    "start_time": "2022-05-12T15:11:22.343Z"
   },
   {
    "duration": 12,
    "start_time": "2022-05-12T15:11:23.998Z"
   },
   {
    "duration": 28,
    "start_time": "2022-05-12T15:11:31.833Z"
   },
   {
    "duration": 13,
    "start_time": "2022-05-12T15:11:36.112Z"
   },
   {
    "duration": 5,
    "start_time": "2022-05-12T15:12:07.375Z"
   },
   {
    "duration": 24,
    "start_time": "2022-05-12T15:12:07.789Z"
   },
   {
    "duration": 12,
    "start_time": "2022-05-12T15:12:07.954Z"
   },
   {
    "duration": 8,
    "start_time": "2022-05-12T15:12:08.487Z"
   },
   {
    "duration": 12,
    "start_time": "2022-05-12T15:12:08.854Z"
   },
   {
    "duration": 27,
    "start_time": "2022-05-12T15:12:09.380Z"
   },
   {
    "duration": 12,
    "start_time": "2022-05-12T15:12:09.576Z"
   },
   {
    "duration": 3,
    "start_time": "2022-05-12T15:12:09.745Z"
   },
   {
    "duration": 2,
    "start_time": "2022-05-12T15:12:09.961Z"
   },
   {
    "duration": 3,
    "start_time": "2022-05-12T15:12:10.158Z"
   },
   {
    "duration": 3,
    "start_time": "2022-05-12T15:12:10.336Z"
   },
   {
    "duration": 10,
    "start_time": "2022-05-12T15:12:10.533Z"
   },
   {
    "duration": 25,
    "start_time": "2022-05-12T15:12:10.735Z"
   },
   {
    "duration": 4,
    "start_time": "2022-05-12T15:12:11.125Z"
   },
   {
    "duration": 4,
    "start_time": "2022-05-12T15:12:11.323Z"
   },
   {
    "duration": 5,
    "start_time": "2022-05-12T15:12:11.696Z"
   },
   {
    "duration": 9,
    "start_time": "2022-05-12T15:12:12.144Z"
   },
   {
    "duration": 20,
    "start_time": "2022-05-12T15:12:12.481Z"
   },
   {
    "duration": 17,
    "start_time": "2022-05-12T15:12:13.262Z"
   },
   {
    "duration": 6,
    "start_time": "2022-05-12T15:12:13.878Z"
   },
   {
    "duration": 12,
    "start_time": "2022-05-12T15:12:14.064Z"
   },
   {
    "duration": 10,
    "start_time": "2022-05-12T15:12:14.290Z"
   },
   {
    "duration": 11,
    "start_time": "2022-05-12T15:12:14.606Z"
   },
   {
    "duration": 4,
    "start_time": "2022-05-12T15:13:00.038Z"
   },
   {
    "duration": 218,
    "start_time": "2022-05-12T15:13:00.215Z"
   },
   {
    "duration": 19,
    "start_time": "2022-05-12T15:13:00.737Z"
   },
   {
    "duration": 22,
    "start_time": "2022-05-12T15:13:01.090Z"
   },
   {
    "duration": 27,
    "start_time": "2022-05-12T15:13:02.009Z"
   },
   {
    "duration": 12,
    "start_time": "2022-05-12T15:13:02.748Z"
   },
   {
    "duration": 12,
    "start_time": "2022-05-12T15:13:03.102Z"
   },
   {
    "duration": 22,
    "start_time": "2022-05-12T15:13:03.524Z"
   },
   {
    "duration": 5,
    "start_time": "2022-05-12T15:13:04.271Z"
   },
   {
    "duration": 6,
    "start_time": "2022-05-12T15:13:04.744Z"
   },
   {
    "duration": 11,
    "start_time": "2022-05-12T15:13:05.245Z"
   },
   {
    "duration": 26,
    "start_time": "2022-05-12T15:13:05.750Z"
   },
   {
    "duration": 21,
    "start_time": "2022-05-12T15:13:05.995Z"
   },
   {
    "duration": 46,
    "start_time": "2022-05-12T15:13:07.181Z"
   },
   {
    "duration": 7,
    "start_time": "2022-05-12T15:13:07.814Z"
   },
   {
    "duration": 21,
    "start_time": "2022-05-12T15:13:08.195Z"
   },
   {
    "duration": 21,
    "start_time": "2022-05-12T15:13:08.594Z"
   },
   {
    "duration": 9,
    "start_time": "2022-05-12T15:13:09.365Z"
   },
   {
    "duration": 10,
    "start_time": "2022-05-12T15:13:10.097Z"
   },
   {
    "duration": 9,
    "start_time": "2022-05-12T15:13:10.711Z"
   },
   {
    "duration": 14,
    "start_time": "2022-05-12T15:13:11.317Z"
   },
   {
    "duration": 9,
    "start_time": "2022-05-12T15:13:12.533Z"
   },
   {
    "duration": 8,
    "start_time": "2022-05-12T15:13:12.960Z"
   },
   {
    "duration": 7,
    "start_time": "2022-05-12T15:13:14.211Z"
   },
   {
    "duration": 12,
    "start_time": "2022-05-12T15:13:17.328Z"
   },
   {
    "duration": 13,
    "start_time": "2022-05-12T15:13:18.756Z"
   },
   {
    "duration": 4,
    "start_time": "2022-05-12T15:14:09.943Z"
   },
   {
    "duration": 9,
    "start_time": "2022-05-12T15:14:10.254Z"
   },
   {
    "duration": 21,
    "start_time": "2022-05-12T15:14:13.126Z"
   },
   {
    "duration": 32,
    "start_time": "2022-05-12T15:14:13.994Z"
   },
   {
    "duration": 32,
    "start_time": "2022-05-12T15:14:15.606Z"
   },
   {
    "duration": 4,
    "start_time": "2022-05-12T15:14:16.669Z"
   },
   {
    "duration": 5,
    "start_time": "2022-05-12T15:14:19.876Z"
   },
   {
    "duration": 25,
    "start_time": "2022-05-12T15:14:21.532Z"
   },
   {
    "duration": 12,
    "start_time": "2022-05-12T15:14:23.059Z"
   },
   {
    "duration": 9,
    "start_time": "2022-05-12T15:14:25.832Z"
   },
   {
    "duration": 11,
    "start_time": "2022-05-12T15:14:27.507Z"
   },
   {
    "duration": 27,
    "start_time": "2022-05-12T15:14:29.845Z"
   },
   {
    "duration": 11,
    "start_time": "2022-05-12T15:14:32.619Z"
   },
   {
    "duration": 3,
    "start_time": "2022-05-12T15:14:37.816Z"
   },
   {
    "duration": 4,
    "start_time": "2022-05-12T15:14:38.317Z"
   },
   {
    "duration": 3,
    "start_time": "2022-05-12T15:14:38.565Z"
   },
   {
    "duration": 4,
    "start_time": "2022-05-12T15:14:38.824Z"
   },
   {
    "duration": 9,
    "start_time": "2022-05-12T15:14:39.077Z"
   },
   {
    "duration": 25,
    "start_time": "2022-05-12T15:14:49.544Z"
   },
   {
    "duration": 3,
    "start_time": "2022-05-12T15:14:52.644Z"
   },
   {
    "duration": 3,
    "start_time": "2022-05-12T15:14:53.276Z"
   },
   {
    "duration": 5,
    "start_time": "2022-05-12T15:14:54.906Z"
   },
   {
    "duration": 9,
    "start_time": "2022-05-12T15:14:55.402Z"
   },
   {
    "duration": 20,
    "start_time": "2022-05-12T15:14:56.281Z"
   },
   {
    "duration": 17,
    "start_time": "2022-05-12T15:15:03.047Z"
   },
   {
    "duration": 6,
    "start_time": "2022-05-12T15:15:06.611Z"
   },
   {
    "duration": 12,
    "start_time": "2022-05-12T15:15:07.948Z"
   },
   {
    "duration": 6,
    "start_time": "2022-05-12T15:16:05.410Z"
   },
   {
    "duration": 12,
    "start_time": "2022-05-12T15:16:06.282Z"
   },
   {
    "duration": 8,
    "start_time": "2022-05-12T15:16:07.609Z"
   },
   {
    "duration": 12,
    "start_time": "2022-05-12T15:16:10.513Z"
   },
   {
    "duration": 19,
    "start_time": "2022-05-12T15:18:23.203Z"
   },
   {
    "duration": 7,
    "start_time": "2022-05-12T15:18:30.717Z"
   },
   {
    "duration": 12,
    "start_time": "2022-05-12T15:18:37.956Z"
   },
   {
    "duration": 8,
    "start_time": "2022-05-12T15:18:38.885Z"
   },
   {
    "duration": 6,
    "start_time": "2022-05-12T15:19:05.111Z"
   },
   {
    "duration": 26,
    "start_time": "2022-05-12T15:19:08.713Z"
   },
   {
    "duration": 13,
    "start_time": "2022-05-12T15:19:09.521Z"
   },
   {
    "duration": 11,
    "start_time": "2022-05-12T15:20:51.501Z"
   },
   {
    "duration": 9,
    "start_time": "2022-05-12T15:20:55.317Z"
   },
   {
    "duration": 12,
    "start_time": "2022-05-12T15:20:56.248Z"
   },
   {
    "duration": 5,
    "start_time": "2022-05-12T15:21:21.713Z"
   },
   {
    "duration": 89,
    "start_time": "2022-05-12T15:21:21.854Z"
   },
   {
    "duration": 20,
    "start_time": "2022-05-12T15:21:22.416Z"
   },
   {
    "duration": 21,
    "start_time": "2022-05-12T15:21:22.573Z"
   },
   {
    "duration": 27,
    "start_time": "2022-05-12T15:21:23.180Z"
   },
   {
    "duration": 10,
    "start_time": "2022-05-12T15:21:23.645Z"
   },
   {
    "duration": 11,
    "start_time": "2022-05-12T15:21:23.844Z"
   },
   {
    "duration": 22,
    "start_time": "2022-05-12T15:21:24.149Z"
   },
   {
    "duration": 6,
    "start_time": "2022-05-12T15:21:24.684Z"
   },
   {
    "duration": 6,
    "start_time": "2022-05-12T15:21:25.007Z"
   },
   {
    "duration": 12,
    "start_time": "2022-05-12T15:21:25.373Z"
   },
   {
    "duration": 39,
    "start_time": "2022-05-12T15:21:25.785Z"
   },
   {
    "duration": 32,
    "start_time": "2022-05-12T15:21:26.116Z"
   },
   {
    "duration": 65,
    "start_time": "2022-05-12T15:21:27.206Z"
   },
   {
    "duration": 8,
    "start_time": "2022-05-12T15:21:27.904Z"
   },
   {
    "duration": 21,
    "start_time": "2022-05-12T15:21:28.298Z"
   },
   {
    "duration": 31,
    "start_time": "2022-05-12T15:21:28.831Z"
   },
   {
    "duration": 10,
    "start_time": "2022-05-12T15:21:29.581Z"
   },
   {
    "duration": 10,
    "start_time": "2022-05-12T15:21:30.339Z"
   },
   {
    "duration": 9,
    "start_time": "2022-05-12T15:21:30.929Z"
   },
   {
    "duration": 14,
    "start_time": "2022-05-12T15:21:32.153Z"
   },
   {
    "duration": 8,
    "start_time": "2022-05-12T15:21:34.049Z"
   },
   {
    "duration": 7,
    "start_time": "2022-05-12T15:21:34.425Z"
   },
   {
    "duration": 8,
    "start_time": "2022-05-12T15:21:35.186Z"
   },
   {
    "duration": 10,
    "start_time": "2022-05-12T15:21:36.423Z"
   },
   {
    "duration": 16,
    "start_time": "2022-05-12T15:21:37.316Z"
   },
   {
    "duration": 5,
    "start_time": "2022-05-12T15:21:44.049Z"
   },
   {
    "duration": 12,
    "start_time": "2022-05-12T15:21:44.268Z"
   },
   {
    "duration": 32,
    "start_time": "2022-05-12T15:21:45.541Z"
   },
   {
    "duration": 20,
    "start_time": "2022-05-12T15:21:45.760Z"
   },
   {
    "duration": 33,
    "start_time": "2022-05-12T15:21:46.685Z"
   },
   {
    "duration": 4,
    "start_time": "2022-05-12T15:21:47.674Z"
   },
   {
    "duration": 5,
    "start_time": "2022-05-12T15:21:51.996Z"
   },
   {
    "duration": 25,
    "start_time": "2022-05-12T15:21:53.691Z"
   },
   {
    "duration": 11,
    "start_time": "2022-05-12T15:21:55.009Z"
   },
   {
    "duration": 7,
    "start_time": "2022-05-12T15:21:55.869Z"
   },
   {
    "duration": 12,
    "start_time": "2022-05-12T15:21:58.405Z"
   },
   {
    "duration": 29,
    "start_time": "2022-05-12T15:22:01.016Z"
   },
   {
    "duration": 12,
    "start_time": "2022-05-12T15:22:02.139Z"
   },
   {
    "duration": 4,
    "start_time": "2022-05-12T15:22:03.082Z"
   },
   {
    "duration": 3,
    "start_time": "2022-05-12T15:22:03.246Z"
   },
   {
    "duration": 4,
    "start_time": "2022-05-12T15:22:03.520Z"
   },
   {
    "duration": 3,
    "start_time": "2022-05-12T15:22:03.682Z"
   },
   {
    "duration": 4,
    "start_time": "2022-05-12T15:22:16.211Z"
   },
   {
    "duration": 4,
    "start_time": "2022-05-12T15:22:18.306Z"
   },
   {
    "duration": 3,
    "start_time": "2022-05-12T15:22:18.820Z"
   },
   {
    "duration": 5,
    "start_time": "2022-05-12T15:22:20.347Z"
   },
   {
    "duration": 10,
    "start_time": "2022-05-12T15:22:21.913Z"
   },
   {
    "duration": 29,
    "start_time": "2022-05-12T15:22:23.448Z"
   },
   {
    "duration": 17,
    "start_time": "2022-05-12T15:22:26.829Z"
   },
   {
    "duration": 20,
    "start_time": "2022-05-12T15:22:50.533Z"
   },
   {
    "duration": 5,
    "start_time": "2022-05-12T15:22:52.130Z"
   },
   {
    "duration": 11,
    "start_time": "2022-05-12T15:22:53.983Z"
   },
   {
    "duration": 12,
    "start_time": "2022-05-12T15:23:10.241Z"
   },
   {
    "duration": 14,
    "start_time": "2022-05-12T15:23:11.478Z"
   },
   {
    "duration": 19,
    "start_time": "2022-05-12T15:52:22.736Z"
   },
   {
    "duration": 3,
    "start_time": "2022-05-12T15:57:16.348Z"
   },
   {
    "duration": 11,
    "start_time": "2022-05-12T15:58:03.385Z"
   },
   {
    "duration": 8,
    "start_time": "2022-05-12T15:58:04.716Z"
   },
   {
    "duration": 9,
    "start_time": "2022-05-12T15:58:29.312Z"
   },
   {
    "duration": 19,
    "start_time": "2022-05-12T15:58:39.951Z"
   },
   {
    "duration": 96,
    "start_time": "2022-05-12T16:00:52.909Z"
   },
   {
    "duration": 11,
    "start_time": "2022-05-12T16:00:53.413Z"
   },
   {
    "duration": 10,
    "start_time": "2022-05-12T16:00:57.906Z"
   },
   {
    "duration": 12,
    "start_time": "2022-05-12T16:00:59.004Z"
   },
   {
    "duration": 27,
    "start_time": "2022-05-12T16:01:03.276Z"
   },
   {
    "duration": 8,
    "start_time": "2022-05-12T16:01:04.294Z"
   },
   {
    "duration": 106,
    "start_time": "2022-05-12T16:01:46.228Z"
   },
   {
    "duration": 10,
    "start_time": "2022-05-12T16:11:32.081Z"
   },
   {
    "duration": 13,
    "start_time": "2022-05-12T16:11:32.778Z"
   },
   {
    "duration": 14,
    "start_time": "2022-05-12T16:11:51.113Z"
   },
   {
    "duration": 13,
    "start_time": "2022-05-12T16:13:01.495Z"
   },
   {
    "duration": 14,
    "start_time": "2022-05-12T16:13:50.352Z"
   },
   {
    "duration": 9,
    "start_time": "2022-05-12T16:14:22.947Z"
   },
   {
    "duration": 42,
    "start_time": "2022-05-12T16:16:06.583Z"
   },
   {
    "duration": 8,
    "start_time": "2022-05-12T16:16:47.803Z"
   },
   {
    "duration": 10,
    "start_time": "2022-05-12T16:17:00.619Z"
   },
   {
    "duration": 13,
    "start_time": "2022-05-12T16:17:35.705Z"
   },
   {
    "duration": 11,
    "start_time": "2022-05-12T16:19:42.365Z"
   },
   {
    "duration": 11,
    "start_time": "2022-05-12T16:19:57.847Z"
   },
   {
    "duration": 15,
    "start_time": "2022-05-12T16:21:01.571Z"
   },
   {
    "duration": 14,
    "start_time": "2022-05-12T16:25:17.502Z"
   },
   {
    "duration": 9,
    "start_time": "2022-05-12T16:26:42.380Z"
   },
   {
    "duration": 13,
    "start_time": "2022-05-12T16:27:11.409Z"
   },
   {
    "duration": 11,
    "start_time": "2022-05-12T16:27:26.227Z"
   },
   {
    "duration": 3,
    "start_time": "2022-05-12T16:28:41.596Z"
   },
   {
    "duration": 76,
    "start_time": "2022-05-12T16:28:41.751Z"
   },
   {
    "duration": 19,
    "start_time": "2022-05-12T16:28:42.279Z"
   },
   {
    "duration": 32,
    "start_time": "2022-05-12T16:28:42.389Z"
   },
   {
    "duration": 27,
    "start_time": "2022-05-12T16:28:43.265Z"
   },
   {
    "duration": 11,
    "start_time": "2022-05-12T16:28:43.798Z"
   },
   {
    "duration": 14,
    "start_time": "2022-05-12T16:28:43.985Z"
   },
   {
    "duration": 23,
    "start_time": "2022-05-12T16:28:44.345Z"
   },
   {
    "duration": 5,
    "start_time": "2022-05-12T16:28:44.901Z"
   },
   {
    "duration": 6,
    "start_time": "2022-05-12T16:28:45.278Z"
   },
   {
    "duration": 13,
    "start_time": "2022-05-12T16:28:45.643Z"
   },
   {
    "duration": 26,
    "start_time": "2022-05-12T16:28:46.063Z"
   },
   {
    "duration": 23,
    "start_time": "2022-05-12T16:28:46.482Z"
   },
   {
    "duration": 46,
    "start_time": "2022-05-12T16:28:47.565Z"
   },
   {
    "duration": 6,
    "start_time": "2022-05-12T16:28:48.376Z"
   },
   {
    "duration": 22,
    "start_time": "2022-05-12T16:28:48.886Z"
   },
   {
    "duration": 21,
    "start_time": "2022-05-12T16:28:49.555Z"
   },
   {
    "duration": 9,
    "start_time": "2022-05-12T16:28:50.076Z"
   },
   {
    "duration": 11,
    "start_time": "2022-05-12T16:28:50.788Z"
   },
   {
    "duration": 10,
    "start_time": "2022-05-12T16:28:51.377Z"
   },
   {
    "duration": 13,
    "start_time": "2022-05-12T16:28:51.939Z"
   },
   {
    "duration": 7,
    "start_time": "2022-05-12T16:28:52.696Z"
   },
   {
    "duration": 7,
    "start_time": "2022-05-12T16:28:53.068Z"
   },
   {
    "duration": 8,
    "start_time": "2022-05-12T16:28:53.638Z"
   },
   {
    "duration": 10,
    "start_time": "2022-05-12T16:28:54.178Z"
   },
   {
    "duration": 13,
    "start_time": "2022-05-12T16:28:54.746Z"
   },
   {
    "duration": 4,
    "start_time": "2022-05-12T16:28:56.058Z"
   },
   {
    "duration": 9,
    "start_time": "2022-05-12T16:28:56.225Z"
   },
   {
    "duration": 22,
    "start_time": "2022-05-12T16:28:57.348Z"
   },
   {
    "duration": 21,
    "start_time": "2022-05-12T16:28:57.560Z"
   },
   {
    "duration": 31,
    "start_time": "2022-05-12T16:28:57.945Z"
   },
   {
    "duration": 4,
    "start_time": "2022-05-12T16:28:58.497Z"
   },
   {
    "duration": 5,
    "start_time": "2022-05-12T16:29:00.202Z"
   },
   {
    "duration": 24,
    "start_time": "2022-05-12T16:29:00.606Z"
   },
   {
    "duration": 13,
    "start_time": "2022-05-12T16:29:01.008Z"
   },
   {
    "duration": 8,
    "start_time": "2022-05-12T16:29:01.594Z"
   },
   {
    "duration": 11,
    "start_time": "2022-05-12T16:29:01.992Z"
   },
   {
    "duration": 28,
    "start_time": "2022-05-12T16:29:02.582Z"
   },
   {
    "duration": 12,
    "start_time": "2022-05-12T16:29:02.797Z"
   },
   {
    "duration": 4,
    "start_time": "2022-05-12T16:29:03.250Z"
   },
   {
    "duration": 4,
    "start_time": "2022-05-12T16:29:03.397Z"
   },
   {
    "duration": 3,
    "start_time": "2022-05-12T16:29:03.587Z"
   },
   {
    "duration": 3,
    "start_time": "2022-05-12T16:29:04.603Z"
   },
   {
    "duration": 7,
    "start_time": "2022-05-12T16:29:05.027Z"
   },
   {
    "duration": 10,
    "start_time": "2022-05-12T16:29:05.621Z"
   },
   {
    "duration": 22,
    "start_time": "2022-05-12T16:29:06.028Z"
   },
   {
    "duration": 20,
    "start_time": "2022-05-12T16:29:11.122Z"
   },
   {
    "duration": 20,
    "start_time": "2022-05-12T16:29:13.709Z"
   },
   {
    "duration": 5,
    "start_time": "2022-05-12T16:29:14.775Z"
   },
   {
    "duration": 12,
    "start_time": "2022-05-12T16:29:16.959Z"
   },
   {
    "duration": 9,
    "start_time": "2022-05-12T16:29:17.777Z"
   },
   {
    "duration": 12,
    "start_time": "2022-05-12T16:29:18.374Z"
   },
   {
    "duration": 11,
    "start_time": "2022-05-12T16:31:32.863Z"
   },
   {
    "duration": 18,
    "start_time": "2022-05-12T16:31:40.644Z"
   },
   {
    "duration": 10,
    "start_time": "2022-05-12T16:31:54.127Z"
   },
   {
    "duration": 18,
    "start_time": "2022-05-12T16:32:07.889Z"
   },
   {
    "duration": 11,
    "start_time": "2022-05-12T16:32:11.778Z"
   },
   {
    "duration": 10,
    "start_time": "2022-05-12T16:32:29.133Z"
   },
   {
    "duration": 18,
    "start_time": "2022-05-12T16:33:12.513Z"
   },
   {
    "duration": 16,
    "start_time": "2022-05-12T16:33:30.156Z"
   },
   {
    "duration": 27,
    "start_time": "2022-05-12T16:34:16.055Z"
   },
   {
    "duration": 26,
    "start_time": "2022-05-12T16:34:33.894Z"
   },
   {
    "duration": 20,
    "start_time": "2022-05-12T16:39:51.945Z"
   },
   {
    "duration": 9,
    "start_time": "2022-05-12T16:40:01.891Z"
   },
   {
    "duration": 12,
    "start_time": "2022-05-12T16:40:02.436Z"
   },
   {
    "duration": 12,
    "start_time": "2022-05-12T16:40:03.680Z"
   },
   {
    "duration": 11,
    "start_time": "2022-05-12T16:40:05.259Z"
   },
   {
    "duration": 19,
    "start_time": "2022-05-12T16:40:08.343Z"
   },
   {
    "duration": 21,
    "start_time": "2022-05-12T16:40:15.755Z"
   },
   {
    "duration": 94,
    "start_time": "2022-05-12T16:41:26.806Z"
   },
   {
    "duration": 22,
    "start_time": "2022-05-12T16:47:30.637Z"
   },
   {
    "duration": 20,
    "start_time": "2022-05-12T16:48:09.124Z"
   },
   {
    "duration": 24,
    "start_time": "2022-05-12T16:48:15.697Z"
   },
   {
    "duration": 12,
    "start_time": "2022-05-12T16:48:38.595Z"
   },
   {
    "duration": 43,
    "start_time": "2022-05-12T16:48:47.439Z"
   },
   {
    "duration": 7,
    "start_time": "2022-05-12T17:01:52.922Z"
   },
   {
    "duration": 7,
    "start_time": "2022-05-12T17:02:09.882Z"
   },
   {
    "duration": 5,
    "start_time": "2022-05-12T17:02:27.669Z"
   },
   {
    "duration": 7,
    "start_time": "2022-05-12T17:02:29.600Z"
   },
   {
    "duration": 6,
    "start_time": "2022-05-12T17:02:37.891Z"
   },
   {
    "duration": 7,
    "start_time": "2022-05-12T17:02:38.489Z"
   },
   {
    "duration": 8,
    "start_time": "2022-05-12T17:02:47.812Z"
   },
   {
    "duration": 17,
    "start_time": "2022-05-12T17:03:41.247Z"
   },
   {
    "duration": 20,
    "start_time": "2022-05-12T17:03:53.589Z"
   },
   {
    "duration": 31,
    "start_time": "2022-05-12T17:04:02.186Z"
   },
   {
    "duration": 23,
    "start_time": "2022-05-12T17:04:13.636Z"
   },
   {
    "duration": 22,
    "start_time": "2022-05-12T17:04:39.267Z"
   },
   {
    "duration": 20,
    "start_time": "2022-05-12T17:06:22.659Z"
   },
   {
    "duration": 27,
    "start_time": "2022-05-12T17:07:58.006Z"
   },
   {
    "duration": 5,
    "start_time": "2022-05-12T17:14:02.188Z"
   },
   {
    "duration": 67,
    "start_time": "2022-05-12T17:14:02.348Z"
   },
   {
    "duration": 19,
    "start_time": "2022-05-12T17:14:02.882Z"
   },
   {
    "duration": 21,
    "start_time": "2022-05-12T17:14:03.057Z"
   },
   {
    "duration": 24,
    "start_time": "2022-05-12T17:14:03.774Z"
   },
   {
    "duration": 11,
    "start_time": "2022-05-12T17:14:04.246Z"
   },
   {
    "duration": 12,
    "start_time": "2022-05-12T17:14:04.432Z"
   },
   {
    "duration": 21,
    "start_time": "2022-05-12T17:14:04.757Z"
   },
   {
    "duration": 5,
    "start_time": "2022-05-12T17:14:05.271Z"
   },
   {
    "duration": 6,
    "start_time": "2022-05-12T17:14:05.594Z"
   },
   {
    "duration": 14,
    "start_time": "2022-05-12T17:14:06.097Z"
   },
   {
    "duration": 26,
    "start_time": "2022-05-12T17:14:06.546Z"
   },
   {
    "duration": 22,
    "start_time": "2022-05-12T17:14:06.906Z"
   },
   {
    "duration": 42,
    "start_time": "2022-05-12T17:14:07.978Z"
   },
   {
    "duration": 7,
    "start_time": "2022-05-12T17:14:08.728Z"
   },
   {
    "duration": 22,
    "start_time": "2022-05-12T17:14:09.099Z"
   },
   {
    "duration": 22,
    "start_time": "2022-05-12T17:14:09.475Z"
   },
   {
    "duration": 8,
    "start_time": "2022-05-12T17:14:10.206Z"
   },
   {
    "duration": 10,
    "start_time": "2022-05-12T17:14:10.956Z"
   },
   {
    "duration": 9,
    "start_time": "2022-05-12T17:14:12.121Z"
   },
   {
    "duration": 15,
    "start_time": "2022-05-12T17:14:34.750Z"
   },
   {
    "duration": 8,
    "start_time": "2022-05-12T17:14:35.446Z"
   },
   {
    "duration": 8,
    "start_time": "2022-05-12T17:14:35.776Z"
   },
   {
    "duration": 8,
    "start_time": "2022-05-12T17:14:36.319Z"
   },
   {
    "duration": 12,
    "start_time": "2022-05-12T17:14:37.096Z"
   },
   {
    "duration": 13,
    "start_time": "2022-05-12T17:14:37.464Z"
   },
   {
    "duration": 3,
    "start_time": "2022-05-12T17:14:41.129Z"
   },
   {
    "duration": 9,
    "start_time": "2022-05-12T17:14:41.274Z"
   },
   {
    "duration": 21,
    "start_time": "2022-05-12T17:14:42.169Z"
   },
   {
    "duration": 21,
    "start_time": "2022-05-12T17:14:42.367Z"
   },
   {
    "duration": 31,
    "start_time": "2022-05-12T17:14:43.293Z"
   },
   {
    "duration": 3,
    "start_time": "2022-05-12T17:14:43.880Z"
   },
   {
    "duration": 5,
    "start_time": "2022-05-12T17:15:04.757Z"
   },
   {
    "duration": 86,
    "start_time": "2022-05-12T17:16:46.094Z"
   },
   {
    "duration": 25,
    "start_time": "2022-05-12T17:16:52.412Z"
   },
   {
    "duration": 25,
    "start_time": "2022-05-12T17:17:05.383Z"
   },
   {
    "duration": 25,
    "start_time": "2022-05-12T17:17:12.313Z"
   },
   {
    "duration": 24,
    "start_time": "2022-05-12T17:17:24.700Z"
   },
   {
    "duration": 7,
    "start_time": "2022-05-12T17:17:51.332Z"
   },
   {
    "duration": 25,
    "start_time": "2022-05-12T17:17:53.675Z"
   },
   {
    "duration": 31,
    "start_time": "2022-05-12T17:22:57.671Z"
   },
   {
    "duration": 25,
    "start_time": "2022-05-12T17:23:09.008Z"
   },
   {
    "duration": 6,
    "start_time": "2022-05-12T17:23:14.560Z"
   },
   {
    "duration": 26,
    "start_time": "2022-05-12T17:23:15.868Z"
   },
   {
    "duration": 49,
    "start_time": "2022-05-12T17:23:35.056Z"
   },
   {
    "duration": 16,
    "start_time": "2022-05-12T17:24:13.613Z"
   },
   {
    "duration": 5,
    "start_time": "2022-05-12T17:24:18.045Z"
   },
   {
    "duration": 18,
    "start_time": "2022-05-12T17:24:18.779Z"
   },
   {
    "duration": 17,
    "start_time": "2022-05-12T17:25:47.424Z"
   },
   {
    "duration": 7,
    "start_time": "2022-05-12T17:25:50.514Z"
   },
   {
    "duration": 19,
    "start_time": "2022-05-12T17:25:51.553Z"
   },
   {
    "duration": 7,
    "start_time": "2022-05-12T17:29:19.396Z"
   },
   {
    "duration": 13,
    "start_time": "2022-05-12T17:31:06.023Z"
   },
   {
    "duration": 12,
    "start_time": "2022-05-12T17:32:14.973Z"
   },
   {
    "duration": 12,
    "start_time": "2022-05-12T17:32:40.156Z"
   },
   {
    "duration": 13,
    "start_time": "2022-05-12T17:33:02.789Z"
   },
   {
    "duration": 11,
    "start_time": "2022-05-12T17:33:32.947Z"
   },
   {
    "duration": 15,
    "start_time": "2022-05-12T17:33:57.365Z"
   },
   {
    "duration": 7,
    "start_time": "2022-05-12T17:34:19.882Z"
   },
   {
    "duration": 20,
    "start_time": "2022-05-12T17:34:20.578Z"
   },
   {
    "duration": 8,
    "start_time": "2022-05-12T17:34:21.630Z"
   },
   {
    "duration": 13,
    "start_time": "2022-05-12T17:34:22.715Z"
   },
   {
    "duration": 11,
    "start_time": "2022-05-12T17:34:23.787Z"
   },
   {
    "duration": 15,
    "start_time": "2022-05-12T17:34:24.702Z"
   },
   {
    "duration": 5,
    "start_time": "2022-05-12T17:34:55.756Z"
   },
   {
    "duration": 18,
    "start_time": "2022-05-12T17:34:56.363Z"
   },
   {
    "duration": 6,
    "start_time": "2022-05-12T17:34:57.045Z"
   },
   {
    "duration": 13,
    "start_time": "2022-05-12T17:34:58.363Z"
   },
   {
    "duration": 11,
    "start_time": "2022-05-12T17:34:59.478Z"
   },
   {
    "duration": 15,
    "start_time": "2022-05-12T17:34:59.971Z"
   },
   {
    "duration": 17,
    "start_time": "2022-05-12T17:35:22.150Z"
   },
   {
    "duration": 5,
    "start_time": "2022-05-12T17:35:38.354Z"
   },
   {
    "duration": 17,
    "start_time": "2022-05-12T17:35:38.928Z"
   },
   {
    "duration": 7,
    "start_time": "2022-05-12T17:35:42.951Z"
   },
   {
    "duration": 11,
    "start_time": "2022-05-12T17:35:49.234Z"
   },
   {
    "duration": 17,
    "start_time": "2022-05-12T17:35:51.405Z"
   },
   {
    "duration": 11,
    "start_time": "2022-05-12T17:36:21.452Z"
   },
   {
    "duration": 11,
    "start_time": "2022-05-12T17:36:29.554Z"
   },
   {
    "duration": 8,
    "start_time": "2022-05-12T17:37:07.156Z"
   },
   {
    "duration": 8,
    "start_time": "2022-05-12T17:37:20.265Z"
   },
   {
    "duration": 11,
    "start_time": "2022-05-12T17:37:49.191Z"
   },
   {
    "duration": 5,
    "start_time": "2022-05-12T17:38:57.862Z"
   },
   {
    "duration": 19,
    "start_time": "2022-05-12T17:38:58.581Z"
   },
   {
    "duration": 6,
    "start_time": "2022-05-12T17:39:00.898Z"
   },
   {
    "duration": 15,
    "start_time": "2022-05-12T17:39:02.798Z"
   },
   {
    "duration": 10,
    "start_time": "2022-05-12T17:39:12.357Z"
   },
   {
    "duration": 16,
    "start_time": "2022-05-12T17:39:15.701Z"
   },
   {
    "duration": 7,
    "start_time": "2022-05-12T17:40:06.266Z"
   },
   {
    "duration": 28,
    "start_time": "2022-05-12T17:40:06.798Z"
   },
   {
    "duration": 6,
    "start_time": "2022-05-12T17:40:08.294Z"
   },
   {
    "duration": 12,
    "start_time": "2022-05-12T17:40:16.533Z"
   },
   {
    "duration": 18,
    "start_time": "2022-05-12T17:40:21.528Z"
   },
   {
    "duration": 7,
    "start_time": "2022-05-12T17:40:22.188Z"
   },
   {
    "duration": 5,
    "start_time": "2022-05-12T17:40:23.485Z"
   },
   {
    "duration": 11,
    "start_time": "2022-05-12T17:40:27.269Z"
   },
   {
    "duration": 4,
    "start_time": "2022-05-12T17:41:18.176Z"
   },
   {
    "duration": 22,
    "start_time": "2022-05-12T17:41:18.978Z"
   },
   {
    "duration": 7,
    "start_time": "2022-05-12T17:41:23.505Z"
   },
   {
    "duration": 4,
    "start_time": "2022-05-12T17:41:25.983Z"
   },
   {
    "duration": 12,
    "start_time": "2022-05-12T17:41:27.925Z"
   },
   {
    "duration": 22,
    "start_time": "2022-05-12T17:41:28.939Z"
   },
   {
    "duration": 9,
    "start_time": "2022-05-12T17:41:29.644Z"
   },
   {
    "duration": 6,
    "start_time": "2022-05-12T17:41:30.338Z"
   },
   {
    "duration": 13,
    "start_time": "2022-05-12T17:41:31.124Z"
   },
   {
    "duration": 5,
    "start_time": "2022-05-12T17:42:59.596Z"
   },
   {
    "duration": 24,
    "start_time": "2022-05-12T17:43:01.359Z"
   },
   {
    "duration": 12,
    "start_time": "2022-05-12T17:43:02.295Z"
   },
   {
    "duration": 8,
    "start_time": "2022-05-12T17:43:04.353Z"
   },
   {
    "duration": 12,
    "start_time": "2022-05-12T17:43:05.645Z"
   },
   {
    "duration": 28,
    "start_time": "2022-05-12T17:43:07.616Z"
   },
   {
    "duration": 13,
    "start_time": "2022-05-12T17:43:08.546Z"
   },
   {
    "duration": 4,
    "start_time": "2022-05-12T17:43:10.040Z"
   },
   {
    "duration": 4,
    "start_time": "2022-05-12T17:43:10.633Z"
   },
   {
    "duration": 3,
    "start_time": "2022-05-12T17:43:11.178Z"
   },
   {
    "duration": 4,
    "start_time": "2022-05-12T17:43:14.217Z"
   },
   {
    "duration": 7,
    "start_time": "2022-05-12T17:43:15.467Z"
   },
   {
    "duration": 8,
    "start_time": "2022-05-12T17:43:16.648Z"
   },
   {
    "duration": 20,
    "start_time": "2022-05-12T17:43:17.797Z"
   },
   {
    "duration": 18,
    "start_time": "2022-05-12T17:43:20.628Z"
   },
   {
    "duration": 20,
    "start_time": "2022-05-12T17:43:24.232Z"
   },
   {
    "duration": 6,
    "start_time": "2022-05-12T17:43:25.056Z"
   },
   {
    "duration": 13,
    "start_time": "2022-05-12T17:43:26.566Z"
   },
   {
    "duration": 13,
    "start_time": "2022-05-12T17:43:27.562Z"
   },
   {
    "duration": 13,
    "start_time": "2022-05-12T17:43:28.465Z"
   },
   {
    "duration": 9,
    "start_time": "2022-05-12T17:43:34.543Z"
   },
   {
    "duration": 9,
    "start_time": "2022-05-12T17:43:35.374Z"
   },
   {
    "duration": 11,
    "start_time": "2022-05-12T17:43:37.466Z"
   },
   {
    "duration": 11,
    "start_time": "2022-05-12T17:44:02.064Z"
   },
   {
    "duration": 38,
    "start_time": "2022-05-12T17:44:09.208Z"
   },
   {
    "duration": 24,
    "start_time": "2022-05-12T17:44:20.507Z"
   },
   {
    "duration": 25,
    "start_time": "2022-05-12T17:44:22.529Z"
   },
   {
    "duration": 11,
    "start_time": "2022-05-12T17:44:28.833Z"
   },
   {
    "duration": 44,
    "start_time": "2022-05-12T17:44:31.734Z"
   },
   {
    "duration": 6,
    "start_time": "2022-05-12T17:49:23.149Z"
   },
   {
    "duration": 25,
    "start_time": "2022-05-12T17:49:46.390Z"
   },
   {
    "duration": 7,
    "start_time": "2022-05-12T17:49:55.854Z"
   },
   {
    "duration": 9,
    "start_time": "2022-05-12T17:49:56.796Z"
   },
   {
    "duration": 8,
    "start_time": "2022-05-12T17:49:58.458Z"
   },
   {
    "duration": 25,
    "start_time": "2022-05-12T17:50:19.171Z"
   },
   {
    "duration": 12,
    "start_time": "2022-05-12T17:50:58.525Z"
   },
   {
    "duration": 12,
    "start_time": "2022-05-12T17:52:05.516Z"
   },
   {
    "duration": 19,
    "start_time": "2022-05-12T17:52:16.626Z"
   },
   {
    "duration": 8,
    "start_time": "2022-05-12T17:52:54.721Z"
   },
   {
    "duration": 6,
    "start_time": "2022-05-12T17:53:07.711Z"
   },
   {
    "duration": 38,
    "start_time": "2022-05-12T17:53:08.580Z"
   },
   {
    "duration": 6,
    "start_time": "2022-05-12T17:53:19.252Z"
   },
   {
    "duration": 27,
    "start_time": "2022-05-12T17:53:19.921Z"
   },
   {
    "duration": 14,
    "start_time": "2022-05-12T17:53:21.100Z"
   },
   {
    "duration": 6,
    "start_time": "2022-05-12T17:53:26.393Z"
   },
   {
    "duration": 26,
    "start_time": "2022-05-12T17:53:29.338Z"
   },
   {
    "duration": 6,
    "start_time": "2022-05-12T17:53:45.174Z"
   },
   {
    "duration": 27,
    "start_time": "2022-05-12T17:53:45.994Z"
   },
   {
    "duration": 4,
    "start_time": "2022-05-12T17:54:27.091Z"
   },
   {
    "duration": 71,
    "start_time": "2022-05-12T17:54:27.265Z"
   },
   {
    "duration": 18,
    "start_time": "2022-05-12T17:54:27.786Z"
   },
   {
    "duration": 22,
    "start_time": "2022-05-12T17:54:27.948Z"
   },
   {
    "duration": 24,
    "start_time": "2022-05-12T17:54:28.632Z"
   },
   {
    "duration": 11,
    "start_time": "2022-05-12T17:54:29.193Z"
   },
   {
    "duration": 11,
    "start_time": "2022-05-12T17:54:29.370Z"
   },
   {
    "duration": 22,
    "start_time": "2022-05-12T17:54:29.770Z"
   },
   {
    "duration": 5,
    "start_time": "2022-05-12T17:54:30.302Z"
   },
   {
    "duration": 6,
    "start_time": "2022-05-12T17:54:30.949Z"
   },
   {
    "duration": 11,
    "start_time": "2022-05-12T17:54:31.311Z"
   },
   {
    "duration": 24,
    "start_time": "2022-05-12T17:54:31.677Z"
   },
   {
    "duration": 21,
    "start_time": "2022-05-12T17:54:32.030Z"
   },
   {
    "duration": 44,
    "start_time": "2022-05-12T17:54:33.176Z"
   },
   {
    "duration": 7,
    "start_time": "2022-05-12T17:54:33.929Z"
   },
   {
    "duration": 21,
    "start_time": "2022-05-12T17:54:34.309Z"
   },
   {
    "duration": 21,
    "start_time": "2022-05-12T17:54:34.710Z"
   },
   {
    "duration": 8,
    "start_time": "2022-05-12T17:54:35.456Z"
   },
   {
    "duration": 10,
    "start_time": "2022-05-12T17:54:36.218Z"
   },
   {
    "duration": 9,
    "start_time": "2022-05-12T17:54:36.778Z"
   },
   {
    "duration": 15,
    "start_time": "2022-05-12T17:54:37.357Z"
   },
   {
    "duration": 8,
    "start_time": "2022-05-12T17:54:38.120Z"
   },
   {
    "duration": 8,
    "start_time": "2022-05-12T17:54:38.530Z"
   },
   {
    "duration": 7,
    "start_time": "2022-05-12T17:54:39.108Z"
   },
   {
    "duration": 9,
    "start_time": "2022-05-12T17:54:39.653Z"
   },
   {
    "duration": 17,
    "start_time": "2022-05-12T17:54:40.064Z"
   },
   {
    "duration": 14,
    "start_time": "2022-05-12T17:54:53.375Z"
   },
   {
    "duration": 9,
    "start_time": "2022-05-12T17:55:05.665Z"
   },
   {
    "duration": 22,
    "start_time": "2022-05-12T17:55:09.259Z"
   },
   {
    "duration": 20,
    "start_time": "2022-05-12T17:55:10.327Z"
   },
   {
    "duration": 32,
    "start_time": "2022-05-12T17:55:11.961Z"
   },
   {
    "duration": 5,
    "start_time": "2022-05-12T17:55:13.373Z"
   },
   {
    "duration": 27,
    "start_time": "2022-05-12T17:55:15.882Z"
   },
   {
    "duration": 13,
    "start_time": "2022-05-12T17:55:24.264Z"
   },
   {
    "duration": 12,
    "start_time": "2022-05-12T17:56:06.794Z"
   },
   {
    "duration": 18,
    "start_time": "2022-05-12T17:56:14.162Z"
   },
   {
    "duration": 10,
    "start_time": "2022-05-12T17:56:18.865Z"
   },
   {
    "duration": 6,
    "start_time": "2022-05-12T17:56:21.074Z"
   },
   {
    "duration": 13,
    "start_time": "2022-05-12T17:56:24.743Z"
   },
   {
    "duration": 5,
    "start_time": "2022-05-12T17:56:48.500Z"
   },
   {
    "duration": 25,
    "start_time": "2022-05-12T17:56:50.828Z"
   },
   {
    "duration": 8,
    "start_time": "2022-05-12T17:57:37.103Z"
   },
   {
    "duration": 4,
    "start_time": "2022-05-12T18:00:38.478Z"
   },
   {
    "duration": 12,
    "start_time": "2022-05-12T18:00:39.455Z"
   },
   {
    "duration": 12,
    "start_time": "2022-05-12T18:01:00.138Z"
   },
   {
    "duration": 13,
    "start_time": "2022-05-12T18:01:34.735Z"
   },
   {
    "duration": 4,
    "start_time": "2022-05-12T18:02:43.017Z"
   },
   {
    "duration": 12,
    "start_time": "2022-05-12T18:02:43.730Z"
   },
   {
    "duration": 12,
    "start_time": "2022-05-12T18:02:45.983Z"
   },
   {
    "duration": 17,
    "start_time": "2022-05-12T18:02:48.626Z"
   },
   {
    "duration": 70,
    "start_time": "2022-05-12T18:03:17.260Z"
   },
   {
    "duration": 5,
    "start_time": "2022-05-12T18:03:28.123Z"
   },
   {
    "duration": 24,
    "start_time": "2022-05-12T18:03:29.668Z"
   },
   {
    "duration": 3,
    "start_time": "2022-05-12T18:03:30.888Z"
   },
   {
    "duration": 11,
    "start_time": "2022-05-12T18:03:32.675Z"
   },
   {
    "duration": 11,
    "start_time": "2022-05-12T18:03:41.523Z"
   },
   {
    "duration": 20,
    "start_time": "2022-05-12T18:03:42.991Z"
   },
   {
    "duration": 10,
    "start_time": "2022-05-12T18:03:43.986Z"
   },
   {
    "duration": 7,
    "start_time": "2022-05-12T18:03:45.185Z"
   },
   {
    "duration": 11,
    "start_time": "2022-05-12T18:03:48.567Z"
   },
   {
    "duration": 5,
    "start_time": "2022-05-12T18:03:58.615Z"
   },
   {
    "duration": 25,
    "start_time": "2022-05-12T18:03:59.625Z"
   },
   {
    "duration": 4,
    "start_time": "2022-05-12T18:04:00.905Z"
   },
   {
    "duration": 11,
    "start_time": "2022-05-12T18:04:02.177Z"
   },
   {
    "duration": 15,
    "start_time": "2022-05-12T18:06:36.055Z"
   },
   {
    "duration": 12,
    "start_time": "2022-05-12T18:06:45.884Z"
   },
   {
    "duration": 17,
    "start_time": "2022-05-12T18:06:47.098Z"
   },
   {
    "duration": 9,
    "start_time": "2022-05-12T18:06:47.879Z"
   },
   {
    "duration": 6,
    "start_time": "2022-05-12T18:06:48.565Z"
   },
   {
    "duration": 11,
    "start_time": "2022-05-12T18:06:49.355Z"
   },
   {
    "duration": 6,
    "start_time": "2022-05-12T18:08:43.682Z"
   },
   {
    "duration": 26,
    "start_time": "2022-05-12T18:08:45.539Z"
   },
   {
    "duration": 3,
    "start_time": "2022-05-12T18:08:47.145Z"
   },
   {
    "duration": 14,
    "start_time": "2022-05-12T18:08:49.843Z"
   },
   {
    "duration": 25,
    "start_time": "2022-05-12T18:10:14.969Z"
   },
   {
    "duration": 17,
    "start_time": "2022-05-12T18:11:21.640Z"
   },
   {
    "duration": 5,
    "start_time": "2022-05-12T18:12:42.537Z"
   },
   {
    "duration": 27,
    "start_time": "2022-05-12T18:12:44.126Z"
   },
   {
    "duration": 12,
    "start_time": "2022-05-12T18:12:46.654Z"
   },
   {
    "duration": 18,
    "start_time": "2022-05-12T18:13:13.598Z"
   },
   {
    "duration": 8,
    "start_time": "2022-05-12T18:25:40.475Z"
   },
   {
    "duration": 12,
    "start_time": "2022-05-12T18:49:14.049Z"
   },
   {
    "duration": 25,
    "start_time": "2022-05-12T18:54:00.285Z"
   },
   {
    "duration": 21,
    "start_time": "2022-05-12T18:54:08.765Z"
   },
   {
    "duration": 21,
    "start_time": "2022-05-12T18:54:30.878Z"
   },
   {
    "duration": 146,
    "start_time": "2022-05-12T18:56:34.337Z"
   },
   {
    "duration": 20,
    "start_time": "2022-05-12T18:56:40.559Z"
   },
   {
    "duration": 16,
    "start_time": "2022-05-12T19:13:08.182Z"
   },
   {
    "duration": 15,
    "start_time": "2022-05-12T19:13:20.976Z"
   },
   {
    "duration": 12,
    "start_time": "2022-05-12T19:13:53.509Z"
   },
   {
    "duration": 12,
    "start_time": "2022-05-12T19:14:02.958Z"
   },
   {
    "duration": 11,
    "start_time": "2022-05-12T19:17:25.740Z"
   },
   {
    "duration": 11,
    "start_time": "2022-05-12T19:19:47.229Z"
   },
   {
    "duration": 14,
    "start_time": "2022-05-12T19:20:25.052Z"
   },
   {
    "duration": 15,
    "start_time": "2022-05-12T19:28:22.440Z"
   },
   {
    "duration": 9,
    "start_time": "2022-05-12T19:28:35.707Z"
   },
   {
    "duration": 4,
    "start_time": "2022-05-12T19:28:40.396Z"
   },
   {
    "duration": 86,
    "start_time": "2022-05-12T19:28:40.606Z"
   },
   {
    "duration": 18,
    "start_time": "2022-05-12T19:28:41.084Z"
   },
   {
    "duration": 28,
    "start_time": "2022-05-12T19:28:41.238Z"
   },
   {
    "duration": 24,
    "start_time": "2022-05-12T19:28:41.874Z"
   },
   {
    "duration": 12,
    "start_time": "2022-05-12T19:28:42.401Z"
   },
   {
    "duration": 12,
    "start_time": "2022-05-12T19:28:42.561Z"
   },
   {
    "duration": 23,
    "start_time": "2022-05-12T19:28:43.097Z"
   },
   {
    "duration": 5,
    "start_time": "2022-05-12T19:28:43.896Z"
   },
   {
    "duration": 6,
    "start_time": "2022-05-12T19:28:44.394Z"
   },
   {
    "duration": 11,
    "start_time": "2022-05-12T19:28:45.134Z"
   },
   {
    "duration": 26,
    "start_time": "2022-05-12T19:28:45.701Z"
   },
   {
    "duration": 25,
    "start_time": "2022-05-12T19:28:46.230Z"
   },
   {
    "duration": 44,
    "start_time": "2022-05-12T19:28:47.674Z"
   },
   {
    "duration": 6,
    "start_time": "2022-05-12T19:28:48.601Z"
   },
   {
    "duration": 21,
    "start_time": "2022-05-12T19:28:49.085Z"
   },
   {
    "duration": 22,
    "start_time": "2022-05-12T19:28:49.521Z"
   },
   {
    "duration": 10,
    "start_time": "2022-05-12T19:28:50.986Z"
   },
   {
    "duration": 8,
    "start_time": "2022-05-12T19:28:51.790Z"
   },
   {
    "duration": 11,
    "start_time": "2022-05-12T19:28:52.476Z"
   },
   {
    "duration": 14,
    "start_time": "2022-05-12T19:28:52.884Z"
   },
   {
    "duration": 7,
    "start_time": "2022-05-12T19:28:54.198Z"
   },
   {
    "duration": 9,
    "start_time": "2022-05-12T19:28:54.675Z"
   },
   {
    "duration": 7,
    "start_time": "2022-05-12T19:28:55.104Z"
   },
   {
    "duration": 8,
    "start_time": "2022-05-12T19:28:55.310Z"
   },
   {
    "duration": 14,
    "start_time": "2022-05-12T19:28:55.743Z"
   },
   {
    "duration": 13,
    "start_time": "2022-05-12T19:28:56.381Z"
   },
   {
    "duration": 9,
    "start_time": "2022-05-12T19:28:59.108Z"
   },
   {
    "duration": 21,
    "start_time": "2022-05-12T19:29:01.980Z"
   },
   {
    "duration": 5,
    "start_time": "2022-05-12T19:35:54.225Z"
   },
   {
    "duration": 26,
    "start_time": "2022-05-12T19:35:55.097Z"
   },
   {
    "duration": 19,
    "start_time": "2022-05-12T19:35:56.467Z"
   },
   {
    "duration": 13,
    "start_time": "2022-05-12T19:36:02.287Z"
   },
   {
    "duration": 12,
    "start_time": "2022-05-12T19:37:25.543Z"
   },
   {
    "duration": 7,
    "start_time": "2022-05-12T19:40:50.783Z"
   },
   {
    "duration": 28,
    "start_time": "2022-05-12T19:40:51.589Z"
   },
   {
    "duration": 18,
    "start_time": "2022-05-12T19:40:52.480Z"
   },
   {
    "duration": 14,
    "start_time": "2022-05-12T19:40:53.552Z"
   },
   {
    "duration": 5,
    "start_time": "2022-05-12T19:41:45.541Z"
   },
   {
    "duration": 38,
    "start_time": "2022-05-12T19:41:48.216Z"
   },
   {
    "duration": 14,
    "start_time": "2022-05-12T19:41:49.283Z"
   },
   {
    "duration": 8,
    "start_time": "2022-05-12T19:42:29.713Z"
   },
   {
    "duration": 8,
    "start_time": "2022-05-12T19:42:59.848Z"
   },
   {
    "duration": 25,
    "start_time": "2022-05-12T19:43:01.222Z"
   },
   {
    "duration": 15,
    "start_time": "2022-05-12T19:43:04.853Z"
   },
   {
    "duration": 15,
    "start_time": "2022-05-12T19:43:12.787Z"
   },
   {
    "duration": 71,
    "start_time": "2022-05-12T19:43:24.174Z"
   },
   {
    "duration": 19,
    "start_time": "2022-05-12T19:44:56.913Z"
   },
   {
    "duration": 19,
    "start_time": "2022-05-12T19:50:14.504Z"
   },
   {
    "duration": 32,
    "start_time": "2022-05-12T19:50:18.263Z"
   },
   {
    "duration": 14,
    "start_time": "2022-05-12T19:50:18.798Z"
   },
   {
    "duration": 5,
    "start_time": "2022-05-12T19:50:20.079Z"
   },
   {
    "duration": 26,
    "start_time": "2022-05-12T19:50:22.179Z"
   },
   {
    "duration": 20,
    "start_time": "2022-05-12T19:50:24.675Z"
   },
   {
    "duration": 14,
    "start_time": "2022-05-12T19:53:11.395Z"
   },
   {
    "duration": 10,
    "start_time": "2022-05-12T19:53:19.280Z"
   },
   {
    "duration": 12,
    "start_time": "2022-05-12T19:53:27.439Z"
   },
   {
    "duration": 52,
    "start_time": "2022-05-12T19:53:34.417Z"
   },
   {
    "duration": 12,
    "start_time": "2022-05-12T19:53:37.979Z"
   },
   {
    "duration": 14,
    "start_time": "2022-05-12T19:54:27.350Z"
   },
   {
    "duration": 6,
    "start_time": "2022-05-12T19:55:47.626Z"
   },
   {
    "duration": 24,
    "start_time": "2022-05-12T19:55:48.377Z"
   },
   {
    "duration": 12,
    "start_time": "2022-05-12T19:55:48.811Z"
   },
   {
    "duration": 8,
    "start_time": "2022-05-12T19:55:50.780Z"
   },
   {
    "duration": 14,
    "start_time": "2022-05-12T19:55:51.704Z"
   },
   {
    "duration": 41,
    "start_time": "2022-05-12T19:55:53.547Z"
   },
   {
    "duration": 12,
    "start_time": "2022-05-12T19:55:54.336Z"
   },
   {
    "duration": 6,
    "start_time": "2022-05-12T19:56:35.299Z"
   },
   {
    "duration": 9,
    "start_time": "2022-05-12T19:56:36.282Z"
   },
   {
    "duration": 22,
    "start_time": "2022-05-12T19:56:37.578Z"
   },
   {
    "duration": 7,
    "start_time": "2022-05-12T19:59:41.568Z"
   },
   {
    "duration": 19,
    "start_time": "2022-05-12T19:59:46.682Z"
   },
   {
    "duration": 35,
    "start_time": "2022-05-12T20:09:10.953Z"
   },
   {
    "duration": 160,
    "start_time": "2022-05-12T20:09:13.772Z"
   },
   {
    "duration": 22,
    "start_time": "2022-05-12T20:09:24.077Z"
   },
   {
    "duration": 23,
    "start_time": "2022-05-12T20:09:29.322Z"
   },
   {
    "duration": 107,
    "start_time": "2022-05-12T20:09:31.792Z"
   },
   {
    "duration": 19,
    "start_time": "2022-05-12T20:09:44.518Z"
   },
   {
    "duration": 6,
    "start_time": "2022-05-12T20:09:56.535Z"
   },
   {
    "duration": 27,
    "start_time": "2022-05-12T20:09:58.819Z"
   },
   {
    "duration": 15,
    "start_time": "2022-05-12T20:10:00.485Z"
   },
   {
    "duration": 15,
    "start_time": "2022-05-12T20:10:21.168Z"
   },
   {
    "duration": 7,
    "start_time": "2022-05-12T20:10:25.684Z"
   },
   {
    "duration": 24,
    "start_time": "2022-05-12T20:10:28.813Z"
   },
   {
    "duration": 11,
    "start_time": "2022-05-12T20:10:30.015Z"
   },
   {
    "duration": 12,
    "start_time": "2022-05-12T20:10:43.849Z"
   },
   {
    "duration": 18,
    "start_time": "2022-05-12T20:10:47.099Z"
   },
   {
    "duration": 33,
    "start_time": "2022-05-12T20:15:12.428Z"
   },
   {
    "duration": 27,
    "start_time": "2022-05-12T20:15:20.823Z"
   },
   {
    "duration": 13,
    "start_time": "2022-05-12T20:15:21.819Z"
   },
   {
    "duration": 7,
    "start_time": "2022-05-12T20:15:32.667Z"
   },
   {
    "duration": 9,
    "start_time": "2022-05-12T20:15:55.430Z"
   },
   {
    "duration": 21,
    "start_time": "2022-05-12T20:16:06.995Z"
   },
   {
    "duration": 18,
    "start_time": "2022-05-12T20:16:30.990Z"
   },
   {
    "duration": 6,
    "start_time": "2022-05-12T20:18:06.665Z"
   },
   {
    "duration": 19,
    "start_time": "2022-05-12T20:18:07.820Z"
   },
   {
    "duration": 5,
    "start_time": "2022-05-12T20:18:08.745Z"
   },
   {
    "duration": 15,
    "start_time": "2022-05-12T20:18:25.581Z"
   },
   {
    "duration": 8,
    "start_time": "2022-05-12T20:24:55.448Z"
   },
   {
    "duration": 20,
    "start_time": "2022-05-12T20:24:56.322Z"
   },
   {
    "duration": 6,
    "start_time": "2022-05-12T20:24:57.241Z"
   },
   {
    "duration": 8,
    "start_time": "2022-05-12T20:25:00.685Z"
   },
   {
    "duration": 14,
    "start_time": "2022-05-12T20:25:03.192Z"
   },
   {
    "duration": 10,
    "start_time": "2022-05-12T20:25:25.565Z"
   },
   {
    "duration": 11,
    "start_time": "2022-05-12T20:25:27.581Z"
   },
   {
    "duration": 7,
    "start_time": "2022-05-12T20:26:58.785Z"
   },
   {
    "duration": 29,
    "start_time": "2022-05-12T20:26:59.452Z"
   },
   {
    "duration": 17,
    "start_time": "2022-05-12T20:27:00.564Z"
   },
   {
    "duration": 132,
    "start_time": "2022-05-12T20:30:14.907Z"
   },
   {
    "duration": 73,
    "start_time": "2022-05-12T20:30:15.389Z"
   },
   {
    "duration": 70,
    "start_time": "2022-05-12T20:30:20.307Z"
   },
   {
    "duration": 26,
    "start_time": "2022-05-12T20:30:21.717Z"
   },
   {
    "duration": 22,
    "start_time": "2022-05-12T20:30:23.518Z"
   },
   {
    "duration": 19,
    "start_time": "2022-05-12T20:30:26.210Z"
   },
   {
    "duration": 5,
    "start_time": "2022-05-12T20:30:31.009Z"
   },
   {
    "duration": 25,
    "start_time": "2022-05-12T20:30:31.870Z"
   },
   {
    "duration": 12,
    "start_time": "2022-05-12T20:30:33.045Z"
   },
   {
    "duration": 5,
    "start_time": "2022-05-12T20:30:38.540Z"
   },
   {
    "duration": 24,
    "start_time": "2022-05-12T20:30:40.062Z"
   },
   {
    "duration": 16,
    "start_time": "2022-05-12T20:30:40.863Z"
   },
   {
    "duration": 7,
    "start_time": "2022-05-12T20:30:46.145Z"
   },
   {
    "duration": 11,
    "start_time": "2022-05-12T20:30:48.013Z"
   },
   {
    "duration": 28,
    "start_time": "2022-05-12T20:30:51.661Z"
   },
   {
    "duration": 13,
    "start_time": "2022-05-12T20:30:53.828Z"
   },
   {
    "duration": 6,
    "start_time": "2022-05-12T20:31:36.181Z"
   },
   {
    "duration": 9,
    "start_time": "2022-05-12T20:31:39.694Z"
   },
   {
    "duration": 21,
    "start_time": "2022-05-12T20:31:41.165Z"
   },
   {
    "duration": 18,
    "start_time": "2022-05-12T20:31:49.215Z"
   },
   {
    "duration": 7,
    "start_time": "2022-05-12T20:32:36.094Z"
   },
   {
    "duration": 20,
    "start_time": "2022-05-12T20:32:38.421Z"
   },
   {
    "duration": 16,
    "start_time": "2022-05-12T20:32:39.528Z"
   },
   {
    "duration": 6,
    "start_time": "2022-05-12T20:33:03.898Z"
   },
   {
    "duration": 18,
    "start_time": "2022-05-12T20:33:04.696Z"
   },
   {
    "duration": 16,
    "start_time": "2022-05-12T20:33:05.909Z"
   },
   {
    "duration": 72,
    "start_time": "2022-05-12T20:35:26.868Z"
   },
   {
    "duration": 27,
    "start_time": "2022-05-12T20:35:27.790Z"
   },
   {
    "duration": 22,
    "start_time": "2022-05-12T20:35:29.304Z"
   },
   {
    "duration": 19,
    "start_time": "2022-05-12T20:35:31.437Z"
   },
   {
    "duration": 4,
    "start_time": "2022-05-12T20:35:33.461Z"
   },
   {
    "duration": 26,
    "start_time": "2022-05-12T20:35:34.525Z"
   },
   {
    "duration": 13,
    "start_time": "2022-05-12T20:35:35.564Z"
   },
   {
    "duration": 8,
    "start_time": "2022-05-12T20:35:39.506Z"
   },
   {
    "duration": 24,
    "start_time": "2022-05-12T20:35:44.715Z"
   },
   {
    "duration": 14,
    "start_time": "2022-05-12T20:35:46.675Z"
   },
   {
    "duration": 8,
    "start_time": "2022-05-12T20:35:51.942Z"
   },
   {
    "duration": 10,
    "start_time": "2022-05-12T20:35:53.438Z"
   },
   {
    "duration": 28,
    "start_time": "2022-05-12T20:35:57.184Z"
   },
   {
    "duration": 13,
    "start_time": "2022-05-12T20:35:59.975Z"
   },
   {
    "duration": 5,
    "start_time": "2022-05-12T20:36:04.024Z"
   },
   {
    "duration": 10,
    "start_time": "2022-05-12T20:36:05.877Z"
   },
   {
    "duration": 20,
    "start_time": "2022-05-12T20:36:07.980Z"
   },
   {
    "duration": 23,
    "start_time": "2022-05-12T20:36:17.394Z"
   },
   {
    "duration": 5,
    "start_time": "2022-05-12T20:36:20.814Z"
   },
   {
    "duration": 20,
    "start_time": "2022-05-12T20:36:23.479Z"
   },
   {
    "duration": 18,
    "start_time": "2022-05-12T20:36:24.785Z"
   },
   {
    "duration": 5,
    "start_time": "2022-05-12T20:37:40.906Z"
   },
   {
    "duration": 13,
    "start_time": "2022-05-12T20:38:02.395Z"
   },
   {
    "duration": 16,
    "start_time": "2022-05-12T20:38:34.593Z"
   },
   {
    "duration": 16,
    "start_time": "2022-05-12T20:44:23.655Z"
   },
   {
    "duration": 6,
    "start_time": "2022-05-12T20:50:48.685Z"
   },
   {
    "duration": 26,
    "start_time": "2022-05-12T20:50:49.612Z"
   },
   {
    "duration": 27,
    "start_time": "2022-05-12T20:50:51.301Z"
   },
   {
    "duration": 7,
    "start_time": "2022-05-12T20:51:04.947Z"
   },
   {
    "duration": 24,
    "start_time": "2022-05-12T20:51:05.563Z"
   },
   {
    "duration": 28,
    "start_time": "2022-05-12T20:51:06.441Z"
   },
   {
    "duration": 12,
    "start_time": "2022-05-12T20:51:07.935Z"
   },
   {
    "duration": 16,
    "start_time": "2022-05-12T20:51:17.227Z"
   },
   {
    "duration": 6,
    "start_time": "2022-05-12T20:52:02.374Z"
   },
   {
    "duration": 6,
    "start_time": "2022-05-12T20:52:03.238Z"
   },
   {
    "duration": 9,
    "start_time": "2022-05-12T20:52:04.290Z"
   },
   {
    "duration": 12,
    "start_time": "2022-05-12T20:52:13.074Z"
   },
   {
    "duration": 10,
    "start_time": "2022-05-12T20:53:46.254Z"
   },
   {
    "duration": 21,
    "start_time": "2022-05-12T20:53:47.069Z"
   },
   {
    "duration": 16,
    "start_time": "2022-05-12T20:54:34.913Z"
   },
   {
    "duration": 10,
    "start_time": "2022-05-12T20:54:43.718Z"
   },
   {
    "duration": 10,
    "start_time": "2022-05-12T20:54:57.345Z"
   },
   {
    "duration": 28,
    "start_time": "2022-05-12T20:56:13.006Z"
   },
   {
    "duration": 9,
    "start_time": "2022-05-12T20:57:26.469Z"
   },
   {
    "duration": 21,
    "start_time": "2022-05-12T20:57:39.713Z"
   },
   {
    "duration": 69,
    "start_time": "2022-05-12T21:04:44.827Z"
   },
   {
    "duration": 26,
    "start_time": "2022-05-12T21:04:45.437Z"
   },
   {
    "duration": 22,
    "start_time": "2022-05-12T21:04:46.303Z"
   },
   {
    "duration": 26,
    "start_time": "2022-05-12T21:04:47.999Z"
   },
   {
    "duration": 5,
    "start_time": "2022-05-12T21:04:49.273Z"
   },
   {
    "duration": 25,
    "start_time": "2022-05-12T21:04:50.629Z"
   },
   {
    "duration": 12,
    "start_time": "2022-05-12T21:04:51.847Z"
   },
   {
    "duration": 5,
    "start_time": "2022-05-12T21:05:29.285Z"
   },
   {
    "duration": 23,
    "start_time": "2022-05-12T21:05:32.415Z"
   },
   {
    "duration": 13,
    "start_time": "2022-05-12T21:05:33.380Z"
   },
   {
    "duration": 8,
    "start_time": "2022-05-12T21:05:46.358Z"
   },
   {
    "duration": 11,
    "start_time": "2022-05-12T21:05:49.664Z"
   },
   {
    "duration": 8,
    "start_time": "2022-05-12T21:06:00.661Z"
   },
   {
    "duration": 11,
    "start_time": "2022-05-12T21:06:01.490Z"
   },
   {
    "duration": 5,
    "start_time": "2022-05-12T21:06:29.744Z"
   },
   {
    "duration": 10,
    "start_time": "2022-05-12T21:06:33.233Z"
   },
   {
    "duration": 22,
    "start_time": "2022-05-12T21:06:37.926Z"
   },
   {
    "duration": 19,
    "start_time": "2022-05-12T21:06:40.414Z"
   },
   {
    "duration": 6,
    "start_time": "2022-05-12T21:06:44.370Z"
   },
   {
    "duration": 21,
    "start_time": "2022-05-12T21:06:45.005Z"
   },
   {
    "duration": 10,
    "start_time": "2022-05-12T21:06:53.710Z"
   },
   {
    "duration": 11,
    "start_time": "2022-05-12T21:06:54.756Z"
   },
   {
    "duration": 20,
    "start_time": "2022-05-12T21:06:55.572Z"
   },
   {
    "duration": 12,
    "start_time": "2022-05-12T21:06:59.343Z"
   },
   {
    "duration": 7,
    "start_time": "2022-05-12T21:12:49.435Z"
   },
   {
    "duration": 17,
    "start_time": "2022-05-12T21:12:50.117Z"
   },
   {
    "duration": 7,
    "start_time": "2022-05-12T21:12:53.520Z"
   },
   {
    "duration": 9,
    "start_time": "2022-05-12T21:12:55.505Z"
   },
   {
    "duration": 12,
    "start_time": "2022-05-12T21:12:57.815Z"
   },
   {
    "duration": 13,
    "start_time": "2022-05-12T21:13:21.025Z"
   },
   {
    "duration": 11,
    "start_time": "2022-05-12T21:13:21.971Z"
   },
   {
    "duration": 70,
    "start_time": "2022-05-12T21:16:40.177Z"
   },
   {
    "duration": 27,
    "start_time": "2022-05-12T21:16:40.604Z"
   },
   {
    "duration": 30,
    "start_time": "2022-05-12T21:16:41.276Z"
   },
   {
    "duration": 26,
    "start_time": "2022-05-12T21:16:42.128Z"
   },
   {
    "duration": 6,
    "start_time": "2022-05-12T21:16:43.192Z"
   },
   {
    "duration": 26,
    "start_time": "2022-05-12T21:16:43.403Z"
   },
   {
    "duration": 13,
    "start_time": "2022-05-12T21:16:43.638Z"
   },
   {
    "duration": 6,
    "start_time": "2022-05-12T21:16:44.058Z"
   },
   {
    "duration": 6,
    "start_time": "2022-05-12T21:17:00.152Z"
   },
   {
    "duration": 23,
    "start_time": "2022-05-12T21:17:01.562Z"
   },
   {
    "duration": 13,
    "start_time": "2022-05-12T21:17:01.843Z"
   },
   {
    "duration": 9,
    "start_time": "2022-05-12T21:17:05.408Z"
   },
   {
    "duration": 12,
    "start_time": "2022-05-12T21:17:06.636Z"
   },
   {
    "duration": 8,
    "start_time": "2022-05-12T21:17:09.808Z"
   },
   {
    "duration": 13,
    "start_time": "2022-05-12T21:17:10.896Z"
   },
   {
    "duration": 11,
    "start_time": "2022-05-12T21:17:16.678Z"
   },
   {
    "duration": 18,
    "start_time": "2022-05-12T21:17:19.368Z"
   },
   {
    "duration": 13,
    "start_time": "2022-05-12T21:19:36.920Z"
   },
   {
    "duration": 12,
    "start_time": "2022-05-12T21:19:39.282Z"
   },
   {
    "duration": 7,
    "start_time": "2022-05-12T21:23:54.437Z"
   },
   {
    "duration": 7,
    "start_time": "2022-05-12T21:24:20.107Z"
   },
   {
    "duration": 5,
    "start_time": "2022-05-12T21:24:28.508Z"
   },
   {
    "duration": 21,
    "start_time": "2022-05-12T21:24:28.979Z"
   },
   {
    "duration": 12,
    "start_time": "2022-05-12T21:24:29.180Z"
   },
   {
    "duration": 8,
    "start_time": "2022-05-12T21:24:31.565Z"
   },
   {
    "duration": 11,
    "start_time": "2022-05-12T21:24:34.142Z"
   },
   {
    "duration": 9,
    "start_time": "2022-05-12T21:24:35.676Z"
   },
   {
    "duration": 11,
    "start_time": "2022-05-12T21:24:36.620Z"
   },
   {
    "duration": 9,
    "start_time": "2022-05-12T21:24:39.456Z"
   },
   {
    "duration": 10,
    "start_time": "2022-05-12T21:24:40.131Z"
   },
   {
    "duration": 12,
    "start_time": "2022-05-12T21:24:41.003Z"
   },
   {
    "duration": 5,
    "start_time": "2022-05-12T21:25:03.655Z"
   },
   {
    "duration": 9,
    "start_time": "2022-05-12T21:25:04.047Z"
   },
   {
    "duration": 20,
    "start_time": "2022-05-12T21:25:04.433Z"
   },
   {
    "duration": 18,
    "start_time": "2022-05-12T21:25:05.255Z"
   },
   {
    "duration": 6,
    "start_time": "2022-05-12T21:25:05.836Z"
   },
   {
    "duration": 19,
    "start_time": "2022-05-12T21:25:06.042Z"
   },
   {
    "duration": 8,
    "start_time": "2022-05-12T21:25:06.636Z"
   },
   {
    "duration": 12,
    "start_time": "2022-05-12T21:25:06.832Z"
   },
   {
    "duration": 12,
    "start_time": "2022-05-12T21:25:07.034Z"
   },
   {
    "duration": 9,
    "start_time": "2022-05-12T21:25:07.242Z"
   },
   {
    "duration": 96,
    "start_time": "2022-05-12T21:33:22.187Z"
   },
   {
    "duration": 92,
    "start_time": "2022-05-12T21:33:45.302Z"
   },
   {
    "duration": 10,
    "start_time": "2022-05-12T21:34:17.659Z"
   },
   {
    "duration": 20,
    "start_time": "2022-05-12T21:34:35.000Z"
   },
   {
    "duration": 19,
    "start_time": "2022-05-12T21:35:59.508Z"
   },
   {
    "duration": 5,
    "start_time": "2022-05-12T21:41:45.656Z"
   },
   {
    "duration": 22,
    "start_time": "2022-05-12T21:42:02.204Z"
   },
   {
    "duration": 43,
    "start_time": "2022-05-12T21:43:08.551Z"
   },
   {
    "duration": 23,
    "start_time": "2022-05-12T21:43:51.016Z"
   },
   {
    "duration": 20,
    "start_time": "2022-05-12T21:44:13.420Z"
   },
   {
    "duration": 25,
    "start_time": "2022-05-12T21:44:17.572Z"
   },
   {
    "duration": 54,
    "start_time": "2022-05-12T21:48:49.847Z"
   },
   {
    "duration": 8,
    "start_time": "2022-05-12T21:48:54.518Z"
   },
   {
    "duration": 13,
    "start_time": "2022-05-12T21:48:55.164Z"
   },
   {
    "duration": 43,
    "start_time": "2022-05-12T21:48:57.137Z"
   },
   {
    "duration": 16,
    "start_time": "2022-05-12T21:50:08.009Z"
   },
   {
    "duration": 21,
    "start_time": "2022-05-12T21:50:26.883Z"
   },
   {
    "duration": 18,
    "start_time": "2022-05-12T21:50:57.390Z"
   },
   {
    "duration": 21,
    "start_time": "2022-05-12T21:51:05.142Z"
   },
   {
    "duration": 25,
    "start_time": "2022-05-12T21:51:13.117Z"
   },
   {
    "duration": 20,
    "start_time": "2022-05-12T21:51:24.047Z"
   },
   {
    "duration": 17,
    "start_time": "2022-05-12T21:51:43.696Z"
   },
   {
    "duration": 19,
    "start_time": "2022-05-12T21:51:46.899Z"
   },
   {
    "duration": 24,
    "start_time": "2022-05-12T21:51:54.844Z"
   },
   {
    "duration": 7,
    "start_time": "2022-05-12T21:52:02.882Z"
   },
   {
    "duration": 11,
    "start_time": "2022-05-12T21:52:04.033Z"
   },
   {
    "duration": 42,
    "start_time": "2022-05-12T21:52:07.629Z"
   },
   {
    "duration": 21,
    "start_time": "2022-05-12T21:54:51.639Z"
   },
   {
    "duration": 26,
    "start_time": "2022-05-12T21:55:02.772Z"
   },
   {
    "duration": 17,
    "start_time": "2022-05-12T22:06:11.005Z"
   },
   {
    "duration": 23,
    "start_time": "2022-05-12T22:07:44.283Z"
   },
   {
    "duration": 15,
    "start_time": "2022-05-12T22:07:55.756Z"
   },
   {
    "duration": 36,
    "start_time": "2022-05-12T22:08:35.849Z"
   },
   {
    "duration": 23,
    "start_time": "2022-05-12T22:10:51.711Z"
   },
   {
    "duration": 26,
    "start_time": "2022-05-12T22:11:56.650Z"
   },
   {
    "duration": 25,
    "start_time": "2022-05-12T22:12:21.095Z"
   },
   {
    "duration": 35,
    "start_time": "2022-05-12T22:12:43.825Z"
   },
   {
    "duration": 48,
    "start_time": "2022-05-12T22:12:58.822Z"
   },
   {
    "duration": 46,
    "start_time": "2022-05-12T22:15:40.095Z"
   },
   {
    "duration": 49,
    "start_time": "2022-05-12T22:15:59.029Z"
   },
   {
    "duration": 44,
    "start_time": "2022-05-12T22:16:12.913Z"
   },
   {
    "duration": 49,
    "start_time": "2022-05-12T22:18:11.445Z"
   },
   {
    "duration": 46,
    "start_time": "2022-05-12T22:18:28.329Z"
   },
   {
    "duration": 107,
    "start_time": "2022-05-12T22:20:45.551Z"
   },
   {
    "duration": 55,
    "start_time": "2022-05-12T22:20:52.201Z"
   },
   {
    "duration": 57,
    "start_time": "2022-05-12T22:21:03.439Z"
   },
   {
    "duration": 23,
    "start_time": "2022-05-12T22:23:19.529Z"
   },
   {
    "duration": 36,
    "start_time": "2022-05-12T22:23:32.156Z"
   },
   {
    "duration": 25,
    "start_time": "2022-05-12T22:27:09.249Z"
   },
   {
    "duration": 90,
    "start_time": "2022-05-12T22:27:12.961Z"
   },
   {
    "duration": 24,
    "start_time": "2022-05-12T22:27:20.345Z"
   },
   {
    "duration": 6,
    "start_time": "2022-05-12T22:35:24.196Z"
   },
   {
    "duration": 9,
    "start_time": "2022-05-12T22:36:23.793Z"
   },
   {
    "duration": 6,
    "start_time": "2022-05-12T22:37:45.171Z"
   },
   {
    "duration": 22,
    "start_time": "2022-05-12T22:54:59.292Z"
   },
   {
    "duration": 24,
    "start_time": "2022-05-12T22:55:54.599Z"
   },
   {
    "duration": 27,
    "start_time": "2022-05-12T22:56:32.706Z"
   },
   {
    "duration": 25,
    "start_time": "2022-05-12T22:56:44.084Z"
   },
   {
    "duration": 1337,
    "start_time": "2022-05-12T22:59:08.152Z"
   },
   {
    "duration": 1350,
    "start_time": "2022-05-12T22:59:14.662Z"
   },
   {
    "duration": 22,
    "start_time": "2022-05-12T22:59:37.664Z"
   },
   {
    "duration": 90,
    "start_time": "2022-05-12T23:00:45.268Z"
   },
   {
    "duration": 10,
    "start_time": "2022-05-12T23:03:00.143Z"
   },
   {
    "duration": 18,
    "start_time": "2022-05-12T23:06:22.015Z"
   },
   {
    "duration": 25,
    "start_time": "2022-05-12T23:07:18.595Z"
   },
   {
    "duration": 24,
    "start_time": "2022-05-12T23:09:24.691Z"
   },
   {
    "duration": 11,
    "start_time": "2022-05-12T23:09:30.660Z"
   },
   {
    "duration": 27,
    "start_time": "2022-05-12T23:09:53.463Z"
   },
   {
    "duration": 8,
    "start_time": "2022-05-12T23:10:04.539Z"
   },
   {
    "duration": 12,
    "start_time": "2022-05-12T23:10:13.325Z"
   },
   {
    "duration": 22,
    "start_time": "2022-05-12T23:11:23.018Z"
   },
   {
    "duration": 18,
    "start_time": "2022-05-12T23:11:23.202Z"
   },
   {
    "duration": 27,
    "start_time": "2022-05-12T23:11:23.761Z"
   },
   {
    "duration": 38,
    "start_time": "2022-05-12T23:11:24.184Z"
   },
   {
    "duration": 27,
    "start_time": "2022-05-12T23:11:24.809Z"
   },
   {
    "duration": 27,
    "start_time": "2022-05-12T23:11:25.215Z"
   },
   {
    "duration": 96,
    "start_time": "2022-05-12T23:11:25.637Z"
   },
   {
    "duration": 10,
    "start_time": "2022-05-12T23:11:26.031Z"
   },
   {
    "duration": 123,
    "start_time": "2022-05-12T23:11:26.241Z"
   },
   {
    "duration": 8,
    "start_time": "2022-05-12T23:11:26.462Z"
   },
   {
    "duration": 27,
    "start_time": "2022-05-12T23:11:27.383Z"
   },
   {
    "duration": 97,
    "start_time": "2022-05-12T23:11:27.877Z"
   },
   {
    "duration": 27,
    "start_time": "2022-05-12T23:11:30.640Z"
   },
   {
    "duration": 26,
    "start_time": "2022-05-12T23:11:37.145Z"
   },
   {
    "duration": 24,
    "start_time": "2022-05-12T23:11:55.781Z"
   },
   {
    "duration": 84,
    "start_time": "2022-05-12T23:11:58.165Z"
   },
   {
    "duration": 26,
    "start_time": "2022-05-12T23:12:27.985Z"
   },
   {
    "duration": 21,
    "start_time": "2022-05-12T23:12:48.141Z"
   },
   {
    "duration": 13,
    "start_time": "2022-05-12T23:13:26.346Z"
   },
   {
    "duration": 23,
    "start_time": "2022-05-12T23:13:33.722Z"
   },
   {
    "duration": 10,
    "start_time": "2022-05-12T23:18:18.155Z"
   },
   {
    "duration": 97,
    "start_time": "2022-05-12T23:18:19.603Z"
   },
   {
    "duration": 25,
    "start_time": "2022-05-12T23:18:21.794Z"
   },
   {
    "duration": 92,
    "start_time": "2022-05-12T23:18:23.215Z"
   },
   {
    "duration": 86,
    "start_time": "2022-05-12T23:18:28.292Z"
   },
   {
    "duration": 11,
    "start_time": "2022-05-12T23:18:33.768Z"
   },
   {
    "duration": 11,
    "start_time": "2022-05-12T23:26:00.629Z"
   },
   {
    "duration": 8,
    "start_time": "2022-05-12T23:31:00.958Z"
   },
   {
    "duration": 24,
    "start_time": "2022-05-12T23:31:06.512Z"
   },
   {
    "duration": 13,
    "start_time": "2022-05-12T23:31:32.179Z"
   },
   {
    "duration": 21,
    "start_time": "2022-05-12T23:31:42.278Z"
   },
   {
    "duration": 13,
    "start_time": "2022-05-12T23:38:08.812Z"
   },
   {
    "duration": 12,
    "start_time": "2022-05-12T23:38:17.579Z"
   },
   {
    "duration": 24,
    "start_time": "2022-05-12T23:38:30.322Z"
   },
   {
    "duration": 11,
    "start_time": "2022-05-12T23:38:35.789Z"
   },
   {
    "duration": 84,
    "start_time": "2022-05-12T23:38:36.484Z"
   },
   {
    "duration": 24,
    "start_time": "2022-05-12T23:38:54.029Z"
   },
   {
    "duration": 8,
    "start_time": "2022-05-12T23:39:32.348Z"
   },
   {
    "duration": 9,
    "start_time": "2022-05-12T23:41:38.851Z"
   },
   {
    "duration": 12,
    "start_time": "2022-05-12T23:52:54.638Z"
   },
   {
    "duration": 12,
    "start_time": "2022-05-12T23:53:23.016Z"
   },
   {
    "duration": 6,
    "start_time": "2022-05-12T23:54:58.896Z"
   },
   {
    "duration": 17,
    "start_time": "2022-05-12T23:55:43.378Z"
   },
   {
    "duration": 17,
    "start_time": "2022-05-12T23:57:14.952Z"
   },
   {
    "duration": 9,
    "start_time": "2022-05-12T23:59:26.160Z"
   },
   {
    "duration": 18,
    "start_time": "2022-05-13T00:00:38.161Z"
   },
   {
    "duration": 9,
    "start_time": "2022-05-13T00:01:48.442Z"
   },
   {
    "duration": 96,
    "start_time": "2022-05-13T00:01:54.544Z"
   },
   {
    "duration": 91,
    "start_time": "2022-05-13T00:02:19.275Z"
   },
   {
    "duration": 10,
    "start_time": "2022-05-13T00:02:34.337Z"
   },
   {
    "duration": 10,
    "start_time": "2022-05-13T00:03:18.381Z"
   },
   {
    "duration": 8,
    "start_time": "2022-05-13T00:05:05.730Z"
   },
   {
    "duration": 8,
    "start_time": "2022-05-13T00:06:02.001Z"
   },
   {
    "duration": 10,
    "start_time": "2022-05-13T07:01:41.824Z"
   },
   {
    "duration": 18,
    "start_time": "2022-05-13T07:23:39.859Z"
   },
   {
    "duration": 17,
    "start_time": "2022-05-13T07:47:30.099Z"
   },
   {
    "duration": 13,
    "start_time": "2022-05-13T08:07:29.368Z"
   },
   {
    "duration": 12,
    "start_time": "2022-05-13T08:07:35.042Z"
   },
   {
    "duration": 1848,
    "start_time": "2022-05-13T08:07:51.379Z"
   },
   {
    "duration": 13,
    "start_time": "2022-05-13T08:07:54.568Z"
   },
   {
    "duration": 1700,
    "start_time": "2022-05-13T08:34:24.045Z"
   },
   {
    "duration": 11,
    "start_time": "2022-05-13T08:34:32.106Z"
   },
   {
    "duration": 6,
    "start_time": "2022-05-13T08:35:01.365Z"
   },
   {
    "duration": 6,
    "start_time": "2022-05-13T08:35:01.843Z"
   },
   {
    "duration": 15,
    "start_time": "2022-05-13T08:35:10.687Z"
   },
   {
    "duration": 5,
    "start_time": "2022-05-13T08:35:50.547Z"
   },
   {
    "duration": 5,
    "start_time": "2022-05-13T08:35:52.609Z"
   },
   {
    "duration": 18,
    "start_time": "2022-05-13T08:35:53.142Z"
   },
   {
    "duration": 15,
    "start_time": "2022-05-13T08:36:07.984Z"
   },
   {
    "duration": 17,
    "start_time": "2022-05-13T08:50:06.357Z"
   },
   {
    "duration": 1856,
    "start_time": "2022-05-13T08:50:22.854Z"
   },
   {
    "duration": 17,
    "start_time": "2022-05-13T08:52:40.245Z"
   },
   {
    "duration": 1629,
    "start_time": "2022-05-13T09:01:58.142Z"
   },
   {
    "duration": 1622,
    "start_time": "2022-05-13T09:02:30.404Z"
   },
   {
    "duration": 1707,
    "start_time": "2022-05-13T09:02:39.958Z"
   },
   {
    "duration": 98,
    "start_time": "2022-05-13T09:03:52.881Z"
   },
   {
    "duration": 9,
    "start_time": "2022-05-13T09:28:48.967Z"
   },
   {
    "duration": 5,
    "start_time": "2022-05-13T09:34:46.580Z"
   },
   {
    "duration": 15,
    "start_time": "2022-05-13T09:34:53.528Z"
   },
   {
    "duration": 22,
    "start_time": "2022-05-13T09:35:25.851Z"
   },
   {
    "duration": 17,
    "start_time": "2022-05-13T09:36:11.344Z"
   },
   {
    "duration": 17,
    "start_time": "2022-05-13T09:36:41.883Z"
   },
   {
    "duration": 16,
    "start_time": "2022-05-13T09:37:22.041Z"
   },
   {
    "duration": 6,
    "start_time": "2022-05-13T09:38:35.177Z"
   },
   {
    "duration": 15,
    "start_time": "2022-05-13T09:38:51.106Z"
   },
   {
    "duration": 15,
    "start_time": "2022-05-13T09:39:09.923Z"
   },
   {
    "duration": 20,
    "start_time": "2022-05-13T09:41:32.721Z"
   },
   {
    "duration": 19,
    "start_time": "2022-05-13T09:42:34.316Z"
   },
   {
    "duration": 15,
    "start_time": "2022-05-13T09:43:22.251Z"
   },
   {
    "duration": 16,
    "start_time": "2022-05-13T09:43:51.829Z"
   },
   {
    "duration": 13,
    "start_time": "2022-05-13T09:43:57.432Z"
   },
   {
    "duration": 16,
    "start_time": "2022-05-13T09:44:54.463Z"
   },
   {
    "duration": 15,
    "start_time": "2022-05-13T09:45:40.337Z"
   },
   {
    "duration": 16,
    "start_time": "2022-05-13T09:45:43.715Z"
   },
   {
    "duration": 18,
    "start_time": "2022-05-13T09:45:51.692Z"
   },
   {
    "duration": 17,
    "start_time": "2022-05-13T09:51:57.109Z"
   },
   {
    "duration": 14,
    "start_time": "2022-05-13T09:52:15.086Z"
   },
   {
    "duration": 52,
    "start_time": "2022-05-13T09:52:35.864Z"
   },
   {
    "duration": 30,
    "start_time": "2022-05-13T09:53:17.244Z"
   },
   {
    "duration": 31,
    "start_time": "2022-05-13T09:53:47.327Z"
   },
   {
    "duration": 102,
    "start_time": "2022-05-13T09:57:04.006Z"
   },
   {
    "duration": 24,
    "start_time": "2022-05-13T09:57:29.216Z"
   },
   {
    "duration": 16,
    "start_time": "2022-05-13T09:58:45.586Z"
   },
   {
    "duration": 107,
    "start_time": "2022-05-13T10:00:09.707Z"
   },
   {
    "duration": 26,
    "start_time": "2022-05-13T10:02:07.728Z"
   },
   {
    "duration": 21,
    "start_time": "2022-05-13T10:02:26.875Z"
   },
   {
    "duration": 12,
    "start_time": "2022-05-13T10:02:38.052Z"
   },
   {
    "duration": 21,
    "start_time": "2022-05-13T10:02:39.539Z"
   },
   {
    "duration": 17,
    "start_time": "2022-05-13T10:02:54.365Z"
   },
   {
    "duration": 16,
    "start_time": "2022-05-13T10:03:08.165Z"
   },
   {
    "duration": 18,
    "start_time": "2022-05-13T10:03:10.965Z"
   },
   {
    "duration": 15,
    "start_time": "2022-05-13T10:03:47.429Z"
   },
   {
    "duration": 17,
    "start_time": "2022-05-13T10:03:48.887Z"
   },
   {
    "duration": 8,
    "start_time": "2022-05-13T10:05:33.584Z"
   },
   {
    "duration": 25,
    "start_time": "2022-05-13T10:05:34.548Z"
   },
   {
    "duration": 8,
    "start_time": "2022-05-13T10:05:44.089Z"
   },
   {
    "duration": 12,
    "start_time": "2022-05-13T10:05:45.104Z"
   },
   {
    "duration": 132,
    "start_time": "2022-05-13T10:05:47.463Z"
   },
   {
    "duration": 17,
    "start_time": "2022-05-13T10:08:15.990Z"
   },
   {
    "duration": 19,
    "start_time": "2022-05-13T10:08:16.700Z"
   },
   {
    "duration": 46,
    "start_time": "2022-05-13T10:08:18.019Z"
   },
   {
    "duration": 68,
    "start_time": "2022-05-13T10:31:25.701Z"
   },
   {
    "duration": 9,
    "start_time": "2022-05-13T10:31:46.220Z"
   },
   {
    "duration": 16,
    "start_time": "2022-05-13T10:31:52.742Z"
   },
   {
    "duration": 19,
    "start_time": "2022-05-13T10:31:55.899Z"
   },
   {
    "duration": 14,
    "start_time": "2022-05-13T10:32:16.868Z"
   },
   {
    "duration": 18,
    "start_time": "2022-05-13T10:32:18.161Z"
   },
   {
    "duration": 67,
    "start_time": "2022-05-13T10:32:33.620Z"
   },
   {
    "duration": 8,
    "start_time": "2022-05-13T10:32:43.108Z"
   },
   {
    "duration": 15,
    "start_time": "2022-05-13T10:32:44.247Z"
   },
   {
    "duration": 17,
    "start_time": "2022-05-13T10:32:45.775Z"
   },
   {
    "duration": 20,
    "start_time": "2022-05-13T10:37:57.963Z"
   },
   {
    "duration": 6,
    "start_time": "2022-05-13T10:43:54.689Z"
   },
   {
    "duration": 16,
    "start_time": "2022-05-13T10:44:19.329Z"
   },
   {
    "duration": 16,
    "start_time": "2022-05-13T10:51:25.799Z"
   },
   {
    "duration": 16,
    "start_time": "2022-05-13T10:51:39.950Z"
   },
   {
    "duration": 11,
    "start_time": "2022-05-13T10:52:00.977Z"
   },
   {
    "duration": 14,
    "start_time": "2022-05-13T10:52:14.653Z"
   },
   {
    "duration": 69,
    "start_time": "2022-05-13T10:52:34.782Z"
   },
   {
    "duration": 6,
    "start_time": "2022-05-13T10:52:49.917Z"
   },
   {
    "duration": 10,
    "start_time": "2022-05-13T10:53:52.088Z"
   },
   {
    "duration": 13,
    "start_time": "2022-05-13T10:53:55.504Z"
   },
   {
    "duration": 6,
    "start_time": "2022-05-13T10:54:11.792Z"
   },
   {
    "duration": 9,
    "start_time": "2022-05-13T10:54:12.835Z"
   },
   {
    "duration": 5,
    "start_time": "2022-05-13T10:54:16.467Z"
   },
   {
    "duration": 19,
    "start_time": "2022-05-13T10:54:18.815Z"
   },
   {
    "duration": 9,
    "start_time": "2022-05-13T10:55:30.712Z"
   },
   {
    "duration": 19,
    "start_time": "2022-05-13T10:55:32.047Z"
   },
   {
    "duration": 5,
    "start_time": "2022-05-13T10:55:37.712Z"
   },
   {
    "duration": 20,
    "start_time": "2022-05-13T10:55:41.210Z"
   },
   {
    "duration": 21,
    "start_time": "2022-05-13T11:00:59.399Z"
   },
   {
    "duration": 19,
    "start_time": "2022-05-13T11:01:12.270Z"
   },
   {
    "duration": 70,
    "start_time": "2022-05-13T11:01:58.873Z"
   },
   {
    "duration": 28,
    "start_time": "2022-05-13T11:02:01.799Z"
   },
   {
    "duration": 25,
    "start_time": "2022-05-13T11:02:09.337Z"
   },
   {
    "duration": 20,
    "start_time": "2022-05-13T11:02:13.212Z"
   },
   {
    "duration": 20,
    "start_time": "2022-05-13T11:02:31.076Z"
   },
   {
    "duration": 3,
    "start_time": "2022-05-13T11:02:42.622Z"
   },
   {
    "duration": 69,
    "start_time": "2022-05-13T11:02:42.809Z"
   },
   {
    "duration": 19,
    "start_time": "2022-05-13T11:02:43.008Z"
   },
   {
    "duration": 21,
    "start_time": "2022-05-13T11:02:43.143Z"
   },
   {
    "duration": 24,
    "start_time": "2022-05-13T11:02:43.853Z"
   },
   {
    "duration": 10,
    "start_time": "2022-05-13T11:02:44.406Z"
   },
   {
    "duration": 12,
    "start_time": "2022-05-13T11:02:44.562Z"
   },
   {
    "duration": 22,
    "start_time": "2022-05-13T11:02:44.977Z"
   },
   {
    "duration": 4,
    "start_time": "2022-05-13T11:02:45.489Z"
   },
   {
    "duration": 5,
    "start_time": "2022-05-13T11:02:45.849Z"
   },
   {
    "duration": 11,
    "start_time": "2022-05-13T11:02:46.229Z"
   },
   {
    "duration": 42,
    "start_time": "2022-05-13T11:02:47.176Z"
   },
   {
    "duration": 7,
    "start_time": "2022-05-13T11:02:47.926Z"
   },
   {
    "duration": 20,
    "start_time": "2022-05-13T11:02:48.308Z"
   },
   {
    "duration": 22,
    "start_time": "2022-05-13T11:02:48.988Z"
   },
   {
    "duration": 9,
    "start_time": "2022-05-13T11:02:49.451Z"
   },
   {
    "duration": 8,
    "start_time": "2022-05-13T11:02:50.026Z"
   },
   {
    "duration": 11,
    "start_time": "2022-05-13T11:02:50.913Z"
   },
   {
    "duration": 13,
    "start_time": "2022-05-13T11:02:51.069Z"
   },
   {
    "duration": 8,
    "start_time": "2022-05-13T11:02:51.843Z"
   },
   {
    "duration": 8,
    "start_time": "2022-05-13T11:02:52.265Z"
   },
   {
    "duration": 8,
    "start_time": "2022-05-13T11:02:55.135Z"
   },
   {
    "duration": 24,
    "start_time": "2022-05-13T11:02:55.145Z"
   },
   {
    "duration": 12,
    "start_time": "2022-05-13T11:02:55.172Z"
   },
   {
    "duration": 15,
    "start_time": "2022-05-13T11:02:55.187Z"
   },
   {
    "duration": 46,
    "start_time": "2022-05-13T11:02:55.206Z"
   },
   {
    "duration": 22,
    "start_time": "2022-05-13T11:02:55.255Z"
   },
   {
    "duration": 21,
    "start_time": "2022-05-13T11:02:55.962Z"
   },
   {
    "duration": 21,
    "start_time": "2022-05-13T11:02:56.936Z"
   },
   {
    "duration": 68,
    "start_time": "2022-05-13T11:02:58.147Z"
   },
   {
    "duration": 28,
    "start_time": "2022-05-13T11:02:58.516Z"
   },
   {
    "duration": 31,
    "start_time": "2022-05-13T11:02:59.185Z"
   },
   {
    "duration": 19,
    "start_time": "2022-05-13T11:02:59.949Z"
   },
   {
    "duration": 7,
    "start_time": "2022-05-13T11:03:00.936Z"
   },
   {
    "duration": 26,
    "start_time": "2022-05-13T11:03:01.129Z"
   },
   {
    "duration": 13,
    "start_time": "2022-05-13T11:03:01.338Z"
   },
   {
    "duration": 8,
    "start_time": "2022-05-13T11:03:01.922Z"
   },
   {
    "duration": 21,
    "start_time": "2022-05-13T11:03:02.382Z"
   },
   {
    "duration": 14,
    "start_time": "2022-05-13T11:03:04.940Z"
   },
   {
    "duration": 9,
    "start_time": "2022-05-13T11:03:05.539Z"
   },
   {
    "duration": 11,
    "start_time": "2022-05-13T11:03:06.005Z"
   },
   {
    "duration": 9,
    "start_time": "2022-05-13T11:03:06.933Z"
   },
   {
    "duration": 14,
    "start_time": "2022-05-13T11:03:07.203Z"
   },
   {
    "duration": 8,
    "start_time": "2022-05-13T11:03:08.248Z"
   },
   {
    "duration": 9,
    "start_time": "2022-05-13T11:03:10.623Z"
   },
   {
    "duration": 12,
    "start_time": "2022-05-13T11:03:10.839Z"
   },
   {
    "duration": 4,
    "start_time": "2022-05-13T11:03:11.450Z"
   },
   {
    "duration": 9,
    "start_time": "2022-05-13T11:03:11.886Z"
   },
   {
    "duration": 19,
    "start_time": "2022-05-13T11:03:12.294Z"
   },
   {
    "duration": 18,
    "start_time": "2022-05-13T11:03:13.109Z"
   },
   {
    "duration": 5,
    "start_time": "2022-05-13T11:03:13.705Z"
   },
   {
    "duration": 18,
    "start_time": "2022-05-13T11:03:13.901Z"
   },
   {
    "duration": 8,
    "start_time": "2022-05-13T11:03:14.494Z"
   },
   {
    "duration": 9,
    "start_time": "2022-05-13T11:03:14.691Z"
   },
   {
    "duration": 13,
    "start_time": "2022-05-13T11:03:14.897Z"
   },
   {
    "duration": 12,
    "start_time": "2022-05-13T11:03:15.153Z"
   },
   {
    "duration": 21,
    "start_time": "2022-05-13T11:03:15.702Z"
   },
   {
    "duration": 109,
    "start_time": "2022-05-13T11:03:15.929Z"
   },
   {
    "duration": 18,
    "start_time": "2022-05-13T11:03:16.153Z"
   },
   {
    "duration": 22,
    "start_time": "2022-05-13T11:03:16.967Z"
   },
   {
    "duration": 27,
    "start_time": "2022-05-13T11:03:17.180Z"
   },
   {
    "duration": 7,
    "start_time": "2022-05-13T11:03:18.904Z"
   },
   {
    "duration": 13,
    "start_time": "2022-05-13T11:03:19.120Z"
   },
   {
    "duration": 17,
    "start_time": "2022-05-13T11:03:19.319Z"
   },
   {
    "duration": 44,
    "start_time": "2022-05-13T11:03:19.722Z"
   },
   {
    "duration": 24,
    "start_time": "2022-05-13T11:03:20.566Z"
   },
   {
    "duration": 17,
    "start_time": "2022-05-13T11:03:20.765Z"
   },
   {
    "duration": 24,
    "start_time": "2022-05-13T11:03:22.282Z"
   },
   {
    "duration": 41,
    "start_time": "2022-05-13T11:03:22.724Z"
   },
   {
    "duration": 28,
    "start_time": "2022-05-13T11:03:23.333Z"
   },
   {
    "duration": 27,
    "start_time": "2022-05-13T11:03:23.725Z"
   },
   {
    "duration": 10,
    "start_time": "2022-05-13T11:03:24.698Z"
   },
   {
    "duration": 7,
    "start_time": "2022-05-13T11:03:25.111Z"
   },
   {
    "duration": 20,
    "start_time": "2022-05-13T11:03:26.078Z"
   },
   {
    "duration": 9,
    "start_time": "2022-05-13T11:04:03.582Z"
   },
   {
    "duration": 9,
    "start_time": "2022-05-13T11:04:04.432Z"
   },
   {
    "duration": 25,
    "start_time": "2022-05-13T11:04:05.943Z"
   },
   {
    "duration": 10,
    "start_time": "2022-05-13T11:04:09.046Z"
   },
   {
    "duration": 12,
    "start_time": "2022-05-13T11:04:10.677Z"
   },
   {
    "duration": 9,
    "start_time": "2022-05-13T11:04:11.621Z"
   },
   {
    "duration": 18,
    "start_time": "2022-05-13T11:04:12.377Z"
   },
   {
    "duration": 9,
    "start_time": "2022-05-13T11:04:13.988Z"
   },
   {
    "duration": 8,
    "start_time": "2022-05-13T11:04:16.166Z"
   },
   {
    "duration": 94,
    "start_time": "2022-05-13T11:04:16.807Z"
   },
   {
    "duration": 120,
    "start_time": "2022-05-13T11:04:22.907Z"
   },
   {
    "duration": 9,
    "start_time": "2022-05-13T11:04:23.694Z"
   },
   {
    "duration": 17,
    "start_time": "2022-05-13T11:04:27.065Z"
   },
   {
    "duration": 16,
    "start_time": "2022-05-13T11:04:30.365Z"
   },
   {
    "duration": 21,
    "start_time": "2022-05-13T11:04:33.938Z"
   },
   {
    "duration": 16,
    "start_time": "2022-05-13T11:04:35.535Z"
   },
   {
    "duration": 17,
    "start_time": "2022-05-13T11:04:38.602Z"
   },
   {
    "duration": 21,
    "start_time": "2022-05-13T11:04:45.436Z"
   },
   {
    "duration": 21,
    "start_time": "2022-05-13T11:04:49.562Z"
   },
   {
    "duration": 5,
    "start_time": "2022-05-13T11:04:58.961Z"
   },
   {
    "duration": 16,
    "start_time": "2022-05-13T11:05:07.577Z"
   },
   {
    "duration": 97,
    "start_time": "2022-05-13T11:07:12.491Z"
   },
   {
    "duration": 16,
    "start_time": "2022-05-13T11:07:27.293Z"
   },
   {
    "duration": 5,
    "start_time": "2022-05-13T11:08:10.201Z"
   },
   {
    "duration": 20,
    "start_time": "2022-05-13T11:08:22.233Z"
   },
   {
    "duration": 23,
    "start_time": "2022-05-13T11:09:15.422Z"
   },
   {
    "duration": 29,
    "start_time": "2022-05-13T11:09:30.478Z"
   },
   {
    "duration": 33,
    "start_time": "2022-05-13T11:09:33.936Z"
   },
   {
    "duration": 30,
    "start_time": "2022-05-13T11:09:44.471Z"
   },
   {
    "duration": 41,
    "start_time": "2022-05-13T11:11:28.907Z"
   },
   {
    "duration": 16,
    "start_time": "2022-05-13T11:12:06.868Z"
   },
   {
    "duration": 9,
    "start_time": "2022-05-13T11:14:02.153Z"
   },
   {
    "duration": 8,
    "start_time": "2022-05-13T11:14:36.057Z"
   },
   {
    "duration": 43,
    "start_time": "2022-05-13T11:14:54.232Z"
   },
   {
    "duration": 8,
    "start_time": "2022-05-13T11:14:54.504Z"
   },
   {
    "duration": 9,
    "start_time": "2022-05-13T11:16:18.233Z"
   },
   {
    "duration": 9,
    "start_time": "2022-05-13T11:20:10.197Z"
   },
   {
    "duration": 99,
    "start_time": "2022-05-13T11:20:31.664Z"
   },
   {
    "duration": 121,
    "start_time": "2022-05-13T11:20:44.628Z"
   },
   {
    "duration": 11,
    "start_time": "2022-05-13T11:21:20.062Z"
   },
   {
    "duration": 10,
    "start_time": "2022-05-13T11:21:58.260Z"
   },
   {
    "duration": 16,
    "start_time": "2022-05-13T11:22:15.628Z"
   },
   {
    "duration": 13,
    "start_time": "2022-05-13T11:22:23.938Z"
   },
   {
    "duration": 9,
    "start_time": "2022-05-13T11:23:08.207Z"
   },
   {
    "duration": 1495,
    "start_time": "2022-05-13T11:32:42.152Z"
   },
   {
    "duration": 1693,
    "start_time": "2022-05-13T11:33:00.867Z"
   },
   {
    "duration": 1931,
    "start_time": "2022-05-13T11:33:24.007Z"
   },
   {
    "duration": 23,
    "start_time": "2022-05-13T11:33:32.587Z"
   },
   {
    "duration": 29,
    "start_time": "2022-05-13T11:33:42.659Z"
   },
   {
    "duration": 5,
    "start_time": "2022-05-13T11:33:52.575Z"
   },
   {
    "duration": 23,
    "start_time": "2022-05-13T11:34:03.273Z"
   },
   {
    "duration": 9,
    "start_time": "2022-05-13T11:34:15.011Z"
   },
   {
    "duration": 6,
    "start_time": "2022-05-13T11:34:30.241Z"
   },
   {
    "duration": 1688,
    "start_time": "2022-05-13T11:34:40.243Z"
   },
   {
    "duration": 7,
    "start_time": "2022-05-13T11:34:48.468Z"
   },
   {
    "duration": 10,
    "start_time": "2022-05-13T11:35:34.389Z"
   },
   {
    "duration": 10,
    "start_time": "2022-05-13T11:36:02.902Z"
   },
   {
    "duration": 12,
    "start_time": "2022-05-13T11:36:26.191Z"
   },
   {
    "duration": 10,
    "start_time": "2022-05-13T11:36:40.146Z"
   },
   {
    "duration": 11,
    "start_time": "2022-05-13T11:36:48.865Z"
   },
   {
    "duration": 12,
    "start_time": "2022-05-13T11:37:18.896Z"
   },
   {
    "duration": 11,
    "start_time": "2022-05-13T11:37:37.934Z"
   },
   {
    "duration": 10,
    "start_time": "2022-05-13T11:39:46.695Z"
   },
   {
    "duration": 16,
    "start_time": "2022-05-13T11:39:53.408Z"
   },
   {
    "duration": 18,
    "start_time": "2022-05-13T11:41:16.453Z"
   },
   {
    "duration": 27,
    "start_time": "2022-05-13T11:41:55.095Z"
   },
   {
    "duration": 16,
    "start_time": "2022-05-13T11:42:23.710Z"
   },
   {
    "duration": 19,
    "start_time": "2022-05-13T11:42:27.988Z"
   },
   {
    "duration": 11,
    "start_time": "2022-05-13T11:57:48.521Z"
   },
   {
    "duration": 10,
    "start_time": "2022-05-13T11:58:44.730Z"
   },
   {
    "duration": 10,
    "start_time": "2022-05-13T11:58:54.246Z"
   },
   {
    "duration": 116,
    "start_time": "2022-05-13T12:01:12.924Z"
   },
   {
    "duration": 110,
    "start_time": "2022-05-13T12:01:26.567Z"
   },
   {
    "duration": 11,
    "start_time": "2022-05-13T12:01:36.465Z"
   },
   {
    "duration": 11,
    "start_time": "2022-05-13T12:02:43.137Z"
   },
   {
    "duration": 10,
    "start_time": "2022-05-13T12:03:43.100Z"
   },
   {
    "duration": 14,
    "start_time": "2022-05-13T12:03:50.130Z"
   },
   {
    "duration": 11,
    "start_time": "2022-05-13T12:03:56.361Z"
   },
   {
    "duration": 7,
    "start_time": "2022-05-13T12:08:00.604Z"
   },
   {
    "duration": 9,
    "start_time": "2022-05-13T12:09:00.404Z"
   },
   {
    "duration": 8,
    "start_time": "2022-05-13T12:09:59.734Z"
   },
   {
    "duration": 13,
    "start_time": "2022-05-13T12:10:38.725Z"
   },
   {
    "duration": 15,
    "start_time": "2022-05-13T12:10:57.847Z"
   },
   {
    "duration": 9,
    "start_time": "2022-05-13T12:13:32.008Z"
   },
   {
    "duration": 16,
    "start_time": "2022-05-13T12:13:54.732Z"
   },
   {
    "duration": 9,
    "start_time": "2022-05-13T12:14:01.170Z"
   },
   {
    "duration": 15,
    "start_time": "2022-05-13T12:14:33.436Z"
   },
   {
    "duration": 9,
    "start_time": "2022-05-13T12:14:46.250Z"
   },
   {
    "duration": 5,
    "start_time": "2022-05-13T12:24:54.096Z"
   },
   {
    "duration": 16,
    "start_time": "2022-05-13T12:51:50.713Z"
   },
   {
    "duration": 7,
    "start_time": "2022-05-13T12:52:35.377Z"
   },
   {
    "duration": 5,
    "start_time": "2022-05-13T12:57:28.028Z"
   },
   {
    "duration": 17,
    "start_time": "2022-05-13T12:57:40.665Z"
   },
   {
    "duration": 116,
    "start_time": "2022-05-13T12:57:53.226Z"
   },
   {
    "duration": 88,
    "start_time": "2022-05-13T12:59:37.797Z"
   },
   {
    "duration": 5,
    "start_time": "2022-05-13T13:00:45.419Z"
   },
   {
    "duration": 40,
    "start_time": "2022-05-13T13:00:57.765Z"
   },
   {
    "duration": 17,
    "start_time": "2022-05-13T13:01:10.173Z"
   },
   {
    "duration": 13,
    "start_time": "2022-05-13T13:03:03.361Z"
   },
   {
    "duration": 9,
    "start_time": "2022-05-13T13:03:08.781Z"
   },
   {
    "duration": 6,
    "start_time": "2022-05-13T13:03:28.745Z"
   },
   {
    "duration": 32,
    "start_time": "2022-05-13T13:03:29.390Z"
   },
   {
    "duration": 10,
    "start_time": "2022-05-13T13:03:30.049Z"
   },
   {
    "duration": 5,
    "start_time": "2022-05-13T13:04:52.222Z"
   },
   {
    "duration": 5,
    "start_time": "2022-05-13T13:15:35.491Z"
   },
   {
    "duration": 5,
    "start_time": "2022-05-13T13:15:41.056Z"
   },
   {
    "duration": 9,
    "start_time": "2022-05-13T13:15:45.036Z"
   },
   {
    "duration": 24,
    "start_time": "2022-05-13T13:16:39.993Z"
   },
   {
    "duration": 4,
    "start_time": "2022-05-13T13:18:08.940Z"
   },
   {
    "duration": 5,
    "start_time": "2022-05-13T13:18:10.058Z"
   },
   {
    "duration": 27,
    "start_time": "2022-05-13T13:18:12.728Z"
   },
   {
    "duration": 10,
    "start_time": "2022-05-13T13:18:19.552Z"
   },
   {
    "duration": 22,
    "start_time": "2022-05-13T13:18:23.955Z"
   },
   {
    "duration": 14,
    "start_time": "2022-05-13T13:18:40.077Z"
   },
   {
    "duration": 8,
    "start_time": "2022-05-13T13:18:53.739Z"
   },
   {
    "duration": 5,
    "start_time": "2022-05-13T13:19:35.800Z"
   },
   {
    "duration": 5,
    "start_time": "2022-05-13T13:19:36.819Z"
   },
   {
    "duration": 28,
    "start_time": "2022-05-13T13:19:38.366Z"
   },
   {
    "duration": 7,
    "start_time": "2022-05-13T13:19:48.255Z"
   },
   {
    "duration": 20,
    "start_time": "2022-05-13T13:20:12.592Z"
   },
   {
    "duration": 38,
    "start_time": "2022-05-13T13:20:19.130Z"
   },
   {
    "duration": 12,
    "start_time": "2022-05-13T13:26:05.178Z"
   },
   {
    "duration": 5,
    "start_time": "2022-05-13T13:26:54.187Z"
   },
   {
    "duration": 4,
    "start_time": "2022-05-13T13:26:55.334Z"
   },
   {
    "duration": 26,
    "start_time": "2022-05-13T13:26:56.645Z"
   },
   {
    "duration": 9,
    "start_time": "2022-05-13T13:27:00.682Z"
   },
   {
    "duration": 6,
    "start_time": "2022-05-13T13:27:53.065Z"
   },
   {
    "duration": 4,
    "start_time": "2022-05-13T13:27:58.857Z"
   },
   {
    "duration": 6,
    "start_time": "2022-05-13T13:28:16.105Z"
   },
   {
    "duration": 5,
    "start_time": "2022-05-13T13:28:28.380Z"
   },
   {
    "duration": 6,
    "start_time": "2022-05-13T13:28:35.048Z"
   },
   {
    "duration": 5,
    "start_time": "2022-05-13T13:29:01.977Z"
   },
   {
    "duration": 5,
    "start_time": "2022-05-13T13:29:10.061Z"
   },
   {
    "duration": 5,
    "start_time": "2022-05-13T13:29:35.639Z"
   },
   {
    "duration": 6,
    "start_time": "2022-05-13T13:29:44.365Z"
   },
   {
    "duration": 8,
    "start_time": "2022-05-13T13:30:31.915Z"
   },
   {
    "duration": 5,
    "start_time": "2022-05-13T13:31:26.562Z"
   },
   {
    "duration": 126,
    "start_time": "2022-05-13T13:31:31.899Z"
   },
   {
    "duration": 90,
    "start_time": "2022-05-13T13:31:37.170Z"
   },
   {
    "duration": 14,
    "start_time": "2022-05-13T13:31:50.767Z"
   },
   {
    "duration": 12,
    "start_time": "2022-05-13T13:31:54.963Z"
   },
   {
    "duration": 13,
    "start_time": "2022-05-13T13:32:00.431Z"
   },
   {
    "duration": 7,
    "start_time": "2022-05-13T13:32:42.081Z"
   },
   {
    "duration": 4,
    "start_time": "2022-05-13T13:33:39.828Z"
   },
   {
    "duration": 41,
    "start_time": "2022-05-13T13:33:42.307Z"
   },
   {
    "duration": 13,
    "start_time": "2022-05-13T13:33:43.360Z"
   },
   {
    "duration": 10,
    "start_time": "2022-05-13T13:33:44.756Z"
   },
   {
    "duration": 15,
    "start_time": "2022-05-13T13:34:10.528Z"
   },
   {
    "duration": 30,
    "start_time": "2022-05-13T13:34:28.758Z"
   },
   {
    "duration": 5,
    "start_time": "2022-05-13T13:51:13.119Z"
   },
   {
    "duration": 26,
    "start_time": "2022-05-13T13:54:31.792Z"
   },
   {
    "duration": 41,
    "start_time": "2022-05-13T13:54:36.894Z"
   },
   {
    "duration": 21,
    "start_time": "2022-05-13T13:58:13.202Z"
   },
   {
    "duration": 40,
    "start_time": "2022-05-13T13:59:02.349Z"
   },
   {
    "duration": 11,
    "start_time": "2022-05-13T14:00:48.297Z"
   },
   {
    "duration": 37,
    "start_time": "2022-05-13T14:00:49.698Z"
   },
   {
    "duration": 129,
    "start_time": "2022-05-13T14:00:50.202Z"
   },
   {
    "duration": 21,
    "start_time": "2022-05-13T14:00:50.771Z"
   },
   {
    "duration": 214,
    "start_time": "2022-05-13T14:01:04.247Z"
   },
   {
    "duration": 12,
    "start_time": "2022-05-13T14:01:26.614Z"
   },
   {
    "duration": 33,
    "start_time": "2022-05-13T14:01:28.001Z"
   },
   {
    "duration": 15,
    "start_time": "2022-05-13T14:01:32.078Z"
   },
   {
    "duration": 14,
    "start_time": "2022-05-13T14:02:43.912Z"
   },
   {
    "duration": 79,
    "start_time": "2022-05-13T14:02:50.301Z"
   },
   {
    "duration": 19,
    "start_time": "2022-05-13T14:03:17.404Z"
   },
   {
    "duration": 23,
    "start_time": "2022-05-13T14:27:39.066Z"
   },
   {
    "duration": 5,
    "start_time": "2022-05-13T14:34:53.137Z"
   },
   {
    "duration": 19,
    "start_time": "2022-05-13T14:35:22.256Z"
   },
   {
    "duration": 5,
    "start_time": "2022-05-13T14:36:05.398Z"
   },
   {
    "duration": 5,
    "start_time": "2022-05-13T14:36:06.052Z"
   },
   {
    "duration": 18,
    "start_time": "2022-05-13T14:37:11.429Z"
   },
   {
    "duration": 5,
    "start_time": "2022-05-13T14:37:38.005Z"
   },
   {
    "duration": 4,
    "start_time": "2022-05-13T14:37:45.172Z"
   },
   {
    "duration": 5,
    "start_time": "2022-05-13T14:37:49.791Z"
   },
   {
    "duration": 5,
    "start_time": "2022-05-13T14:37:54.566Z"
   },
   {
    "duration": 4,
    "start_time": "2022-05-13T14:38:02.873Z"
   },
   {
    "duration": 5,
    "start_time": "2022-05-13T14:38:08.823Z"
   },
   {
    "duration": 66,
    "start_time": "2022-05-13T14:39:41.875Z"
   },
   {
    "duration": 5,
    "start_time": "2022-05-13T14:40:03.362Z"
   },
   {
    "duration": 7,
    "start_time": "2022-05-13T14:40:05.007Z"
   },
   {
    "duration": 1674,
    "start_time": "2022-05-13T14:40:33.866Z"
   },
   {
    "duration": 21,
    "start_time": "2022-05-13T14:41:01.092Z"
   },
   {
    "duration": 18,
    "start_time": "2022-05-13T14:41:15.643Z"
   },
   {
    "duration": 26,
    "start_time": "2022-05-13T14:41:19.640Z"
   },
   {
    "duration": 25,
    "start_time": "2022-05-13T14:41:22.134Z"
   },
   {
    "duration": 20,
    "start_time": "2022-05-13T14:41:48.938Z"
   },
   {
    "duration": 15,
    "start_time": "2022-05-13T14:41:52.934Z"
   },
   {
    "duration": 5,
    "start_time": "2022-05-13T14:42:12.264Z"
   },
   {
    "duration": 18,
    "start_time": "2022-05-13T14:42:36.219Z"
   },
   {
    "duration": 15,
    "start_time": "2022-05-13T14:42:40.106Z"
   },
   {
    "duration": 21,
    "start_time": "2022-05-13T14:42:50.138Z"
   },
   {
    "duration": 24,
    "start_time": "2022-05-13T14:43:08.227Z"
   },
   {
    "duration": 20,
    "start_time": "2022-05-13T14:43:09.532Z"
   },
   {
    "duration": 39,
    "start_time": "2022-05-13T14:44:11.477Z"
   },
   {
    "duration": 37,
    "start_time": "2022-05-13T14:44:36.561Z"
   },
   {
    "duration": 12,
    "start_time": "2022-05-13T14:45:36.722Z"
   },
   {
    "duration": 17,
    "start_time": "2022-05-13T14:45:59.864Z"
   },
   {
    "duration": 16,
    "start_time": "2022-05-13T14:48:12.440Z"
   },
   {
    "duration": 41,
    "start_time": "2022-05-13T14:48:25.690Z"
   },
   {
    "duration": 18,
    "start_time": "2022-05-13T14:48:32.887Z"
   },
   {
    "duration": 14,
    "start_time": "2022-05-13T14:48:34.026Z"
   },
   {
    "duration": 9,
    "start_time": "2022-05-13T14:48:45.614Z"
   },
   {
    "duration": 6,
    "start_time": "2022-05-13T14:48:51.736Z"
   },
   {
    "duration": 16,
    "start_time": "2022-05-13T14:48:53.574Z"
   },
   {
    "duration": 14,
    "start_time": "2022-05-13T14:48:55.818Z"
   },
   {
    "duration": 8,
    "start_time": "2022-05-13T14:49:32.798Z"
   },
   {
    "duration": 7,
    "start_time": "2022-05-13T14:49:37.558Z"
   },
   {
    "duration": 17,
    "start_time": "2022-05-13T14:49:44.243Z"
   },
   {
    "duration": 5,
    "start_time": "2022-05-13T14:49:49.744Z"
   },
   {
    "duration": 16,
    "start_time": "2022-05-13T14:49:50.409Z"
   },
   {
    "duration": 10,
    "start_time": "2022-05-13T14:49:52.471Z"
   },
   {
    "duration": 19,
    "start_time": "2022-05-13T14:50:11.140Z"
   },
   {
    "duration": 7,
    "start_time": "2022-05-13T14:52:19.047Z"
   },
   {
    "duration": 5,
    "start_time": "2022-05-13T14:53:44.563Z"
   },
   {
    "duration": 17,
    "start_time": "2022-05-13T14:54:31.330Z"
   },
   {
    "duration": 15,
    "start_time": "2022-05-13T14:54:51.799Z"
   },
   {
    "duration": 24,
    "start_time": "2022-05-13T14:54:52.399Z"
   },
   {
    "duration": 84,
    "start_time": "2022-05-13T14:55:42.398Z"
   },
   {
    "duration": 21,
    "start_time": "2022-05-13T14:56:42.453Z"
   },
   {
    "duration": 11,
    "start_time": "2022-05-13T14:57:49.341Z"
   },
   {
    "duration": 11,
    "start_time": "2022-05-13T14:58:14.944Z"
   },
   {
    "duration": 24,
    "start_time": "2022-05-13T14:58:23.242Z"
   },
   {
    "duration": 21,
    "start_time": "2022-05-13T15:00:21.178Z"
   },
   {
    "duration": 98,
    "start_time": "2022-05-13T15:01:01.017Z"
   },
   {
    "duration": 28,
    "start_time": "2022-05-13T15:01:03.900Z"
   },
   {
    "duration": 28,
    "start_time": "2022-05-13T15:01:08.164Z"
   },
   {
    "duration": 34,
    "start_time": "2022-05-13T15:01:08.830Z"
   },
   {
    "duration": 7,
    "start_time": "2022-05-13T15:01:11.617Z"
   },
   {
    "duration": 31,
    "start_time": "2022-05-13T15:01:11.822Z"
   },
   {
    "duration": 15,
    "start_time": "2022-05-13T15:01:12.051Z"
   },
   {
    "duration": 7,
    "start_time": "2022-05-13T15:01:12.425Z"
   },
   {
    "duration": 23,
    "start_time": "2022-05-13T15:01:12.894Z"
   },
   {
    "duration": 12,
    "start_time": "2022-05-13T15:01:13.142Z"
   },
   {
    "duration": 7,
    "start_time": "2022-05-13T15:01:13.897Z"
   },
   {
    "duration": 6,
    "start_time": "2022-05-13T15:14:31.763Z"
   },
   {
    "duration": 96,
    "start_time": "2022-05-13T15:16:42.005Z"
   },
   {
    "duration": 24,
    "start_time": "2022-05-13T15:16:47.594Z"
   },
   {
    "duration": 24,
    "start_time": "2022-05-13T15:16:49.184Z"
   },
   {
    "duration": 21,
    "start_time": "2022-05-13T15:16:51.005Z"
   },
   {
    "duration": 5,
    "start_time": "2022-05-13T15:16:53.550Z"
   },
   {
    "duration": 28,
    "start_time": "2022-05-13T15:16:54.226Z"
   },
   {
    "duration": 16,
    "start_time": "2022-05-13T15:16:54.773Z"
   },
   {
    "duration": 5,
    "start_time": "2022-05-13T15:16:55.691Z"
   },
   {
    "duration": 24,
    "start_time": "2022-05-13T15:16:58.148Z"
   },
   {
    "duration": 15,
    "start_time": "2022-05-13T15:16:59.738Z"
   },
   {
    "duration": 10,
    "start_time": "2022-05-13T15:17:01.643Z"
   },
   {
    "duration": 11,
    "start_time": "2022-05-13T15:17:02.721Z"
   },
   {
    "duration": 10,
    "start_time": "2022-05-13T15:17:10.416Z"
   },
   {
    "duration": 14,
    "start_time": "2022-05-13T15:17:10.787Z"
   },
   {
    "duration": 10,
    "start_time": "2022-05-13T15:17:11.583Z"
   },
   {
    "duration": 11,
    "start_time": "2022-05-13T15:17:12.013Z"
   },
   {
    "duration": 15,
    "start_time": "2022-05-13T15:17:12.416Z"
   },
   {
    "duration": 6,
    "start_time": "2022-05-13T15:17:13.669Z"
   },
   {
    "duration": 10,
    "start_time": "2022-05-13T15:17:14.349Z"
   },
   {
    "duration": 20,
    "start_time": "2022-05-13T15:17:15.117Z"
   },
   {
    "duration": 23,
    "start_time": "2022-05-13T15:17:16.565Z"
   },
   {
    "duration": 5,
    "start_time": "2022-05-13T15:17:17.624Z"
   },
   {
    "duration": 22,
    "start_time": "2022-05-13T15:17:17.970Z"
   },
   {
    "duration": 12,
    "start_time": "2022-05-13T15:17:18.805Z"
   },
   {
    "duration": 11,
    "start_time": "2022-05-13T15:17:19.102Z"
   },
   {
    "duration": 15,
    "start_time": "2022-05-13T15:17:19.387Z"
   },
   {
    "duration": 14,
    "start_time": "2022-05-13T15:17:19.681Z"
   },
   {
    "duration": 21,
    "start_time": "2022-05-13T15:17:20.658Z"
   },
   {
    "duration": 29,
    "start_time": "2022-05-13T15:17:21.348Z"
   },
   {
    "duration": 18,
    "start_time": "2022-05-13T15:17:21.717Z"
   },
   {
    "duration": 22,
    "start_time": "2022-05-13T15:17:23.119Z"
   },
   {
    "duration": 41,
    "start_time": "2022-05-13T15:17:23.557Z"
   },
   {
    "duration": 9,
    "start_time": "2022-05-13T15:17:24.986Z"
   },
   {
    "duration": 15,
    "start_time": "2022-05-13T15:17:25.369Z"
   },
   {
    "duration": 24,
    "start_time": "2022-05-13T15:17:26.379Z"
   },
   {
    "duration": 52,
    "start_time": "2022-05-13T15:17:27.324Z"
   },
   {
    "duration": 27,
    "start_time": "2022-05-13T15:17:28.650Z"
   },
   {
    "duration": 16,
    "start_time": "2022-05-13T15:17:28.997Z"
   },
   {
    "duration": 27,
    "start_time": "2022-05-13T15:17:30.530Z"
   },
   {
    "duration": 43,
    "start_time": "2022-05-13T15:17:31.319Z"
   },
   {
    "duration": 25,
    "start_time": "2022-05-13T15:17:33.093Z"
   },
   {
    "duration": 25,
    "start_time": "2022-05-13T15:17:33.733Z"
   },
   {
    "duration": 10,
    "start_time": "2022-05-13T15:17:35.316Z"
   },
   {
    "duration": 8,
    "start_time": "2022-05-13T15:17:36.059Z"
   },
   {
    "duration": 21,
    "start_time": "2022-05-13T15:17:37.505Z"
   },
   {
    "duration": 10,
    "start_time": "2022-05-13T15:17:38.633Z"
   },
   {
    "duration": 8,
    "start_time": "2022-05-13T15:17:39.050Z"
   },
   {
    "duration": 42,
    "start_time": "2022-05-13T15:17:39.796Z"
   },
   {
    "duration": 13,
    "start_time": "2022-05-13T15:17:40.865Z"
   },
   {
    "duration": 13,
    "start_time": "2022-05-13T15:17:41.578Z"
   },
   {
    "duration": 10,
    "start_time": "2022-05-13T15:17:41.945Z"
   },
   {
    "duration": 26,
    "start_time": "2022-05-13T15:17:42.321Z"
   },
   {
    "duration": 14,
    "start_time": "2022-05-13T15:17:43.112Z"
   },
   {
    "duration": 10,
    "start_time": "2022-05-13T15:17:44.246Z"
   },
   {
    "duration": 13,
    "start_time": "2022-05-13T15:17:45.346Z"
   },
   {
    "duration": 27,
    "start_time": "2022-05-13T15:17:47.314Z"
   },
   {
    "duration": 15,
    "start_time": "2022-05-13T15:17:49.583Z"
   },
   {
    "duration": 15,
    "start_time": "2022-05-13T15:17:50.418Z"
   },
   {
    "duration": 23,
    "start_time": "2022-05-13T15:17:51.438Z"
   },
   {
    "duration": 20,
    "start_time": "2022-05-13T15:18:03.107Z"
   },
   {
    "duration": 5,
    "start_time": "2022-05-13T15:18:31.369Z"
   },
   {
    "duration": 24,
    "start_time": "2022-05-13T15:18:31.947Z"
   },
   {
    "duration": 11,
    "start_time": "2022-05-13T15:18:33.165Z"
   },
   {
    "duration": 18,
    "start_time": "2022-05-13T15:18:35.299Z"
   },
   {
    "duration": 6,
    "start_time": "2022-05-13T15:18:37.369Z"
   },
   {
    "duration": 4,
    "start_time": "2022-05-13T15:18:38.497Z"
   },
   {
    "duration": 19,
    "start_time": "2022-05-13T15:18:39.763Z"
   },
   {
    "duration": 34,
    "start_time": "2022-05-13T15:18:44.296Z"
   },
   {
    "duration": 14,
    "start_time": "2022-05-13T15:18:55.670Z"
   },
   {
    "duration": 15,
    "start_time": "2022-05-13T15:19:26.857Z"
   },
   {
    "duration": 11,
    "start_time": "2022-05-13T15:21:24.068Z"
   },
   {
    "duration": 107,
    "start_time": "2022-05-13T15:22:36.785Z"
   },
   {
    "duration": 133,
    "start_time": "2022-05-13T15:22:43.562Z"
   },
   {
    "duration": 36,
    "start_time": "2022-05-13T15:23:01.989Z"
   },
   {
    "duration": 14,
    "start_time": "2022-05-13T15:23:45.312Z"
   },
   {
    "duration": 17,
    "start_time": "2022-05-13T15:23:50.213Z"
   },
   {
    "duration": 36,
    "start_time": "2022-05-13T15:24:11.383Z"
   },
   {
    "duration": 10,
    "start_time": "2022-05-13T15:24:28.594Z"
   },
   {
    "duration": 24,
    "start_time": "2022-05-13T15:24:53.549Z"
   },
   {
    "duration": 22,
    "start_time": "2022-05-13T15:26:13.326Z"
   },
   {
    "duration": 27,
    "start_time": "2022-05-13T15:26:21.132Z"
   },
   {
    "duration": 1475,
    "start_time": "2022-05-13T15:26:58.337Z"
   },
   {
    "duration": 1148,
    "start_time": "2022-05-13T15:27:15.649Z"
   },
   {
    "duration": 1195,
    "start_time": "2022-05-13T15:27:33.027Z"
   },
   {
    "duration": 98,
    "start_time": "2022-05-13T15:28:11.560Z"
   },
   {
    "duration": 104,
    "start_time": "2022-05-13T15:28:15.640Z"
   },
   {
    "duration": 25,
    "start_time": "2022-05-13T15:28:25.933Z"
   },
   {
    "duration": 14,
    "start_time": "2022-05-13T15:28:30.628Z"
   },
   {
    "duration": 18,
    "start_time": "2022-05-13T15:28:57.509Z"
   },
   {
    "duration": 20,
    "start_time": "2022-05-13T15:29:21.462Z"
   },
   {
    "duration": 32,
    "start_time": "2022-05-13T15:41:42.991Z"
   },
   {
    "duration": 61,
    "start_time": "2022-05-13T15:42:19.065Z"
   },
   {
    "duration": 17,
    "start_time": "2022-05-13T15:43:21.117Z"
   },
   {
    "duration": 23,
    "start_time": "2022-05-13T15:43:24.931Z"
   },
   {
    "duration": 14,
    "start_time": "2022-05-13T15:47:27.515Z"
   },
   {
    "duration": 19,
    "start_time": "2022-05-13T15:48:24.680Z"
   },
   {
    "duration": 100,
    "start_time": "2022-05-13T15:48:44.309Z"
   },
   {
    "duration": 17,
    "start_time": "2022-05-13T15:48:57.956Z"
   },
   {
    "duration": 17,
    "start_time": "2022-05-13T15:50:44.055Z"
   },
   {
    "duration": 15,
    "start_time": "2022-05-13T15:51:13.633Z"
   },
   {
    "duration": 20,
    "start_time": "2022-05-13T15:51:27.609Z"
   },
   {
    "duration": 15,
    "start_time": "2022-05-13T15:51:38.897Z"
   },
   {
    "duration": 16,
    "start_time": "2022-05-13T15:51:41.301Z"
   },
   {
    "duration": 10,
    "start_time": "2022-05-13T15:51:45.671Z"
   },
   {
    "duration": 8,
    "start_time": "2022-05-13T15:58:13.865Z"
   },
   {
    "duration": 8,
    "start_time": "2022-05-13T15:58:28.651Z"
   },
   {
    "duration": 113,
    "start_time": "2022-05-13T15:58:30.569Z"
   },
   {
    "duration": 101,
    "start_time": "2022-05-13T16:00:43.307Z"
   },
   {
    "duration": 156,
    "start_time": "2022-05-13T16:00:49.594Z"
   },
   {
    "duration": 19,
    "start_time": "2022-05-13T16:00:58.715Z"
   },
   {
    "duration": 13,
    "start_time": "2022-05-13T16:01:12.595Z"
   },
   {
    "duration": 16,
    "start_time": "2022-05-13T16:01:39.938Z"
   },
   {
    "duration": 97,
    "start_time": "2022-05-13T16:01:54.939Z"
   },
   {
    "duration": 9,
    "start_time": "2022-05-13T16:02:12.469Z"
   },
   {
    "duration": 7,
    "start_time": "2022-05-13T16:03:13.256Z"
   },
   {
    "duration": 16,
    "start_time": "2022-05-13T16:10:04.757Z"
   },
   {
    "duration": 41,
    "start_time": "2022-05-13T16:10:28.117Z"
   },
   {
    "duration": 11,
    "start_time": "2022-05-13T16:11:48.076Z"
   },
   {
    "duration": 23,
    "start_time": "2022-05-13T16:11:48.825Z"
   },
   {
    "duration": 40,
    "start_time": "2022-05-13T16:11:56.563Z"
   },
   {
    "duration": 35,
    "start_time": "2022-05-13T16:17:40.074Z"
   },
   {
    "duration": 51,
    "start_time": "2022-05-13T16:18:19.022Z"
   },
   {
    "duration": 37,
    "start_time": "2022-05-13T16:18:42.316Z"
   },
   {
    "duration": 20,
    "start_time": "2022-05-13T16:20:33.233Z"
   },
   {
    "duration": 23,
    "start_time": "2022-05-13T16:20:42.644Z"
   },
   {
    "duration": 54,
    "start_time": "2022-05-13T16:20:58.326Z"
   },
   {
    "duration": 30,
    "start_time": "2022-05-13T16:22:55.839Z"
   },
   {
    "duration": 38,
    "start_time": "2022-05-13T16:23:07.392Z"
   },
   {
    "duration": 21,
    "start_time": "2022-05-13T16:23:15.714Z"
   },
   {
    "duration": 30,
    "start_time": "2022-05-13T16:23:28.584Z"
   },
   {
    "duration": 52,
    "start_time": "2022-05-13T16:23:54.552Z"
   },
   {
    "duration": 30,
    "start_time": "2022-05-13T16:25:34.867Z"
   },
   {
    "duration": 10,
    "start_time": "2022-05-13T16:26:15.082Z"
   },
   {
    "duration": 11,
    "start_time": "2022-05-13T16:26:16.179Z"
   },
   {
    "duration": 10,
    "start_time": "2022-05-13T16:26:16.826Z"
   },
   {
    "duration": 25,
    "start_time": "2022-05-13T16:26:18.831Z"
   },
   {
    "duration": 31,
    "start_time": "2022-05-13T16:26:32.672Z"
   },
   {
    "duration": 33,
    "start_time": "2022-05-13T16:28:15.207Z"
   },
   {
    "duration": 37,
    "start_time": "2022-05-13T16:28:26.481Z"
   },
   {
    "duration": 30,
    "start_time": "2022-05-13T16:28:41.949Z"
   },
   {
    "duration": 5,
    "start_time": "2022-05-13T16:28:43.472Z"
   },
   {
    "duration": 30,
    "start_time": "2022-05-13T16:28:44.340Z"
   },
   {
    "duration": 3,
    "start_time": "2022-05-13T16:28:58.952Z"
   },
   {
    "duration": 31,
    "start_time": "2022-05-13T16:29:01.613Z"
   },
   {
    "duration": 9,
    "start_time": "2022-05-13T16:29:12.947Z"
   },
   {
    "duration": 17,
    "start_time": "2022-05-13T16:32:12.069Z"
   },
   {
    "duration": 9,
    "start_time": "2022-05-13T16:32:45.175Z"
   },
   {
    "duration": 21,
    "start_time": "2022-05-13T16:33:05.382Z"
   },
   {
    "duration": 11,
    "start_time": "2022-05-13T16:33:12.322Z"
   },
   {
    "duration": 24,
    "start_time": "2022-05-13T16:44:41.275Z"
   },
   {
    "duration": 29,
    "start_time": "2022-05-13T16:45:11.072Z"
   },
   {
    "duration": 73,
    "start_time": "2022-05-13T16:45:35.472Z"
   },
   {
    "duration": 8,
    "start_time": "2022-05-13T16:46:28.322Z"
   },
   {
    "duration": 18,
    "start_time": "2022-05-13T16:46:38.618Z"
   },
   {
    "duration": 17,
    "start_time": "2022-05-13T16:47:07.644Z"
   },
   {
    "duration": 106,
    "start_time": "2022-05-13T17:01:31.405Z"
   },
   {
    "duration": 31,
    "start_time": "2022-05-13T19:08:08.276Z"
   },
   {
    "duration": 38,
    "start_time": "2022-05-13T19:10:06.678Z"
   },
   {
    "duration": 26,
    "start_time": "2022-05-13T19:24:02.332Z"
   },
   {
    "duration": 22,
    "start_time": "2022-05-13T19:24:08.905Z"
   },
   {
    "duration": 28,
    "start_time": "2022-05-13T19:24:21.923Z"
   },
   {
    "duration": 29,
    "start_time": "2022-05-13T19:25:10.414Z"
   },
   {
    "duration": 32,
    "start_time": "2022-05-13T19:26:56.879Z"
   },
   {
    "duration": 111,
    "start_time": "2022-05-13T19:27:28.951Z"
   },
   {
    "duration": 40,
    "start_time": "2022-05-13T19:27:35.444Z"
   },
   {
    "duration": 39,
    "start_time": "2022-05-13T19:27:51.209Z"
   },
   {
    "duration": 33,
    "start_time": "2022-05-13T19:28:16.848Z"
   },
   {
    "duration": 48,
    "start_time": "2022-05-13T19:28:35.541Z"
   },
   {
    "duration": 24,
    "start_time": "2022-05-13T19:33:05.091Z"
   },
   {
    "duration": 233,
    "start_time": "2022-05-13T20:15:36.198Z"
   },
   {
    "duration": 8,
    "start_time": "2022-05-13T20:23:02.654Z"
   },
   {
    "duration": 14,
    "start_time": "2022-05-13T20:23:13.957Z"
   },
   {
    "duration": 36,
    "start_time": "2022-05-13T20:24:48.744Z"
   },
   {
    "duration": 32,
    "start_time": "2022-05-13T20:29:08.495Z"
   },
   {
    "duration": 39,
    "start_time": "2022-05-13T20:29:57.836Z"
   },
   {
    "duration": 28,
    "start_time": "2022-05-13T20:31:12.986Z"
   },
   {
    "duration": 31,
    "start_time": "2022-05-13T20:31:56.578Z"
   },
   {
    "duration": 30,
    "start_time": "2022-05-13T21:34:31.112Z"
   },
   {
    "duration": 41,
    "start_time": "2022-05-13T21:34:33.635Z"
   },
   {
    "duration": 71,
    "start_time": "2022-05-13T21:36:15.433Z"
   },
   {
    "duration": 58,
    "start_time": "2022-05-13T21:42:55.440Z"
   },
   {
    "duration": 55,
    "start_time": "2022-05-13T21:43:19.380Z"
   },
   {
    "duration": 134,
    "start_time": "2022-05-13T21:53:58.985Z"
   },
   {
    "duration": 78,
    "start_time": "2022-05-13T21:55:29.522Z"
   },
   {
    "duration": 81,
    "start_time": "2022-05-13T22:00:49.130Z"
   },
   {
    "duration": 31,
    "start_time": "2022-05-13T22:00:49.977Z"
   },
   {
    "duration": 21,
    "start_time": "2022-05-13T22:00:51.021Z"
   },
   {
    "duration": 26,
    "start_time": "2022-05-13T22:00:52.364Z"
   },
   {
    "duration": 6,
    "start_time": "2022-05-13T22:00:54.392Z"
   },
   {
    "duration": 29,
    "start_time": "2022-05-13T22:00:54.737Z"
   },
   {
    "duration": 14,
    "start_time": "2022-05-13T22:00:55.127Z"
   },
   {
    "duration": 7,
    "start_time": "2022-05-13T22:00:55.873Z"
   },
   {
    "duration": 22,
    "start_time": "2022-05-13T22:00:56.496Z"
   },
   {
    "duration": 11,
    "start_time": "2022-05-13T22:00:56.793Z"
   },
   {
    "duration": 8,
    "start_time": "2022-05-13T22:00:57.675Z"
   },
   {
    "duration": 11,
    "start_time": "2022-05-13T22:00:58.179Z"
   },
   {
    "duration": 9,
    "start_time": "2022-05-13T22:00:59.017Z"
   },
   {
    "duration": 17,
    "start_time": "2022-05-13T22:00:59.347Z"
   },
   {
    "duration": 10,
    "start_time": "2022-05-13T22:00:59.772Z"
   },
   {
    "duration": 9,
    "start_time": "2022-05-13T22:01:00.003Z"
   },
   {
    "duration": 13,
    "start_time": "2022-05-13T22:01:00.299Z"
   },
   {
    "duration": 12,
    "start_time": "2022-05-13T22:01:01.059Z"
   },
   {
    "duration": 10,
    "start_time": "2022-05-13T22:01:01.576Z"
   },
   {
    "duration": 20,
    "start_time": "2022-05-13T22:01:01.992Z"
   },
   {
    "duration": 23,
    "start_time": "2022-05-13T22:01:02.845Z"
   },
   {
    "duration": 7,
    "start_time": "2022-05-13T22:01:03.500Z"
   },
   {
    "duration": 22,
    "start_time": "2022-05-13T22:01:03.756Z"
   },
   {
    "duration": 10,
    "start_time": "2022-05-13T22:01:04.440Z"
   },
   {
    "duration": 11,
    "start_time": "2022-05-13T22:01:04.690Z"
   },
   {
    "duration": 13,
    "start_time": "2022-05-13T22:01:04.978Z"
   },
   {
    "duration": 10,
    "start_time": "2022-05-13T22:01:05.227Z"
   },
   {
    "duration": 20,
    "start_time": "2022-05-13T22:01:06.198Z"
   },
   {
    "duration": 21,
    "start_time": "2022-05-13T22:01:06.792Z"
   },
   {
    "duration": 24,
    "start_time": "2022-05-13T22:01:07.047Z"
   },
   {
    "duration": 21,
    "start_time": "2022-05-13T22:01:08.180Z"
   },
   {
    "duration": 25,
    "start_time": "2022-05-13T22:01:08.473Z"
   },
   {
    "duration": 8,
    "start_time": "2022-05-13T22:01:09.995Z"
   },
   {
    "duration": 13,
    "start_time": "2022-05-13T22:01:10.504Z"
   },
   {
    "duration": 18,
    "start_time": "2022-05-13T22:01:10.878Z"
   },
   {
    "duration": 46,
    "start_time": "2022-05-13T22:01:11.811Z"
   },
   {
    "duration": 23,
    "start_time": "2022-05-13T22:01:13.326Z"
   },
   {
    "duration": 17,
    "start_time": "2022-05-13T22:01:13.679Z"
   },
   {
    "duration": 32,
    "start_time": "2022-05-13T22:01:14.757Z"
   },
   {
    "duration": 51,
    "start_time": "2022-05-13T22:01:15.447Z"
   },
   {
    "duration": 27,
    "start_time": "2022-05-13T22:01:16.575Z"
   },
   {
    "duration": 38,
    "start_time": "2022-05-13T22:01:17.249Z"
   },
   {
    "duration": 11,
    "start_time": "2022-05-13T22:01:18.727Z"
   },
   {
    "duration": 8,
    "start_time": "2022-05-13T22:01:19.268Z"
   },
   {
    "duration": 32,
    "start_time": "2022-05-13T22:01:20.547Z"
   },
   {
    "duration": 13,
    "start_time": "2022-05-13T22:01:21.472Z"
   },
   {
    "duration": 8,
    "start_time": "2022-05-13T22:01:21.776Z"
   },
   {
    "duration": 12,
    "start_time": "2022-05-13T22:01:22.379Z"
   },
   {
    "duration": 10,
    "start_time": "2022-05-13T22:01:23.278Z"
   },
   {
    "duration": 11,
    "start_time": "2022-05-13T22:01:23.824Z"
   },
   {
    "duration": 10,
    "start_time": "2022-05-13T22:01:24.103Z"
   },
   {
    "duration": 19,
    "start_time": "2022-05-13T22:01:24.384Z"
   },
   {
    "duration": 15,
    "start_time": "2022-05-13T22:01:24.960Z"
   },
   {
    "duration": 8,
    "start_time": "2022-05-13T22:01:25.822Z"
   },
   {
    "duration": 12,
    "start_time": "2022-05-13T22:01:26.734Z"
   },
   {
    "duration": 17,
    "start_time": "2022-05-13T22:01:28.221Z"
   },
   {
    "duration": 18,
    "start_time": "2022-05-13T22:01:29.426Z"
   },
   {
    "duration": 15,
    "start_time": "2022-05-13T22:01:30.317Z"
   },
   {
    "duration": 22,
    "start_time": "2022-05-13T22:01:31.625Z"
   },
   {
    "duration": 6,
    "start_time": "2022-05-13T22:01:33.306Z"
   },
   {
    "duration": 16,
    "start_time": "2022-05-13T22:01:33.601Z"
   },
   {
    "duration": 13,
    "start_time": "2022-05-13T22:01:34.243Z"
   },
   {
    "duration": 31,
    "start_time": "2022-05-13T22:01:34.852Z"
   },
   {
    "duration": 4,
    "start_time": "2022-05-13T22:01:35.443Z"
   },
   {
    "duration": 5,
    "start_time": "2022-05-13T22:01:36.036Z"
   },
   {
    "duration": 17,
    "start_time": "2022-05-13T22:01:36.538Z"
   },
   {
    "duration": 25,
    "start_time": "2022-05-13T22:01:37.168Z"
   },
   {
    "duration": 10,
    "start_time": "2022-05-13T22:01:37.785Z"
   },
   {
    "duration": 92,
    "start_time": "2022-05-13T22:01:38.069Z"
   },
   {
    "duration": 7,
    "start_time": "2022-05-13T22:01:38.372Z"
   },
   {
    "duration": 9,
    "start_time": "2022-05-13T22:02:04.616Z"
   },
   {
    "duration": 121,
    "start_time": "2022-05-13T22:02:05.196Z"
   },
   {
    "duration": 117,
    "start_time": "2022-05-13T22:02:05.486Z"
   },
   {
    "duration": 4,
    "start_time": "2022-05-13T22:02:05.779Z"
   },
   {
    "duration": 4,
    "start_time": "2022-05-13T22:02:21.389Z"
   },
   {
    "duration": 112,
    "start_time": "2022-05-13T22:02:21.806Z"
   },
   {
    "duration": 4,
    "start_time": "2022-05-13T22:02:22.102Z"
   },
   {
    "duration": 26,
    "start_time": "2022-05-13T22:02:22.776Z"
   },
   {
    "duration": 10,
    "start_time": "2022-05-13T22:02:23.495Z"
   },
   {
    "duration": 33,
    "start_time": "2022-05-13T22:02:24.357Z"
   },
   {
    "duration": 104,
    "start_time": "2022-05-13T22:02:24.756Z"
   },
   {
    "duration": 28,
    "start_time": "2022-05-13T22:02:36.443Z"
   },
   {
    "duration": 8,
    "start_time": "2022-05-13T22:02:53.321Z"
   },
   {
    "duration": 10,
    "start_time": "2022-05-13T22:03:13.876Z"
   },
   {
    "duration": 8,
    "start_time": "2022-05-13T22:03:14.627Z"
   },
   {
    "duration": 26,
    "start_time": "2022-05-13T22:03:15.779Z"
   },
   {
    "duration": 61,
    "start_time": "2022-05-13T22:03:17.226Z"
   },
   {
    "duration": 51,
    "start_time": "2022-05-13T22:03:35.604Z"
   },
   {
    "duration": 89,
    "start_time": "2022-05-13T22:09:44.752Z"
   },
   {
    "duration": 72,
    "start_time": "2022-05-13T22:10:06.642Z"
   },
   {
    "duration": 74,
    "start_time": "2022-05-13T22:10:18.614Z"
   },
   {
    "duration": 67,
    "start_time": "2022-05-13T22:10:33.334Z"
   },
   {
    "duration": 55,
    "start_time": "2022-05-13T22:10:53.160Z"
   },
   {
    "duration": 64,
    "start_time": "2022-05-13T22:11:10.937Z"
   },
   {
    "duration": 79,
    "start_time": "2022-05-13T22:15:29.793Z"
   },
   {
    "duration": 76,
    "start_time": "2022-05-13T22:16:25.404Z"
   },
   {
    "duration": 68,
    "start_time": "2022-05-13T22:16:38.172Z"
   },
   {
    "duration": 58,
    "start_time": "2022-05-13T22:16:56.282Z"
   },
   {
    "duration": 35,
    "start_time": "2022-05-13T22:17:33.076Z"
   },
   {
    "duration": 34,
    "start_time": "2022-05-13T22:17:53.617Z"
   },
   {
    "duration": 42,
    "start_time": "2022-05-13T22:18:13.489Z"
   },
   {
    "duration": 47,
    "start_time": "2022-05-13T22:18:18.345Z"
   },
   {
    "duration": 29,
    "start_time": "2022-05-13T22:18:52.289Z"
   },
   {
    "duration": 55,
    "start_time": "2022-05-13T22:19:00.727Z"
   },
   {
    "duration": 35,
    "start_time": "2022-05-13T22:19:07.696Z"
   },
   {
    "duration": 37,
    "start_time": "2022-05-13T22:19:20.583Z"
   },
   {
    "duration": 54,
    "start_time": "2022-05-13T22:20:22.776Z"
   },
   {
    "duration": 58,
    "start_time": "2022-05-13T22:20:32.730Z"
   },
   {
    "duration": 48,
    "start_time": "2022-05-13T22:20:43.436Z"
   },
   {
    "duration": 35,
    "start_time": "2022-05-13T22:21:13.802Z"
   },
   {
    "duration": 36,
    "start_time": "2022-05-13T22:21:19.074Z"
   },
   {
    "duration": 36,
    "start_time": "2022-05-13T22:21:38.391Z"
   },
   {
    "duration": 99,
    "start_time": "2022-05-13T22:21:56.818Z"
   },
   {
    "duration": 4,
    "start_time": "2022-05-13T23:00:21.083Z"
   },
   {
    "duration": 17,
    "start_time": "2022-05-13T23:02:12.677Z"
   },
   {
    "duration": 41,
    "start_time": "2022-05-13T23:03:50.089Z"
   },
   {
    "duration": 58,
    "start_time": "2022-05-13T23:26:33.811Z"
   },
   {
    "duration": 76,
    "start_time": "2022-05-13T23:44:27.391Z"
   },
   {
    "duration": 54,
    "start_time": "2022-05-13T23:45:58.766Z"
   },
   {
    "duration": 54,
    "start_time": "2022-05-13T23:49:45.078Z"
   },
   {
    "duration": 58,
    "start_time": "2022-05-13T23:50:02.408Z"
   },
   {
    "duration": 10,
    "start_time": "2022-05-13T23:59:49.107Z"
   },
   {
    "duration": 10,
    "start_time": "2022-05-13T23:59:50.865Z"
   },
   {
    "duration": 17,
    "start_time": "2022-05-13T23:59:51.999Z"
   },
   {
    "duration": 56,
    "start_time": "2022-05-14T05:47:27.829Z"
   },
   {
    "duration": 58,
    "start_time": "2022-05-14T05:47:48.238Z"
   },
   {
    "duration": 30,
    "start_time": "2022-05-14T05:48:03.567Z"
   },
   {
    "duration": 10,
    "start_time": "2022-05-14T05:48:38.048Z"
   },
   {
    "duration": 4,
    "start_time": "2022-05-14T05:48:39.765Z"
   },
   {
    "duration": 5,
    "start_time": "2022-05-14T05:48:41.106Z"
   },
   {
    "duration": 26,
    "start_time": "2022-05-14T05:48:42.029Z"
   },
   {
    "duration": 10,
    "start_time": "2022-05-14T05:48:42.940Z"
   },
   {
    "duration": 21,
    "start_time": "2022-05-14T05:48:43.974Z"
   },
   {
    "duration": 17,
    "start_time": "2022-05-14T05:48:44.873Z"
   },
   {
    "duration": 8,
    "start_time": "2022-05-14T05:48:47.296Z"
   },
   {
    "duration": 7,
    "start_time": "2022-05-14T05:48:47.570Z"
   },
   {
    "duration": 22,
    "start_time": "2022-05-14T05:48:48.218Z"
   },
   {
    "duration": 55,
    "start_time": "2022-05-14T05:48:48.828Z"
   },
   {
    "duration": 49,
    "start_time": "2022-05-14T05:48:51.768Z"
   },
   {
    "duration": 52,
    "start_time": "2022-05-14T05:48:54.777Z"
   },
   {
    "duration": 33,
    "start_time": "2022-05-14T05:48:59.780Z"
   },
   {
    "duration": 8,
    "start_time": "2022-05-14T05:50:03.531Z"
   },
   {
    "duration": 59,
    "start_time": "2022-05-14T05:50:25.532Z"
   },
   {
    "duration": 87,
    "start_time": "2022-05-14T06:56:27.058Z"
   },
   {
    "duration": 103,
    "start_time": "2022-05-14T07:16:52.291Z"
   },
   {
    "duration": 23,
    "start_time": "2022-05-14T07:17:01.210Z"
   },
   {
    "duration": 88,
    "start_time": "2022-05-14T07:24:04.328Z"
   },
   {
    "duration": 99,
    "start_time": "2022-05-14T07:24:17.069Z"
   },
   {
    "duration": 96,
    "start_time": "2022-05-14T07:24:26.029Z"
   },
   {
    "duration": 9,
    "start_time": "2022-05-14T07:24:36.958Z"
   },
   {
    "duration": 8,
    "start_time": "2022-05-14T07:25:06.363Z"
   },
   {
    "duration": 114,
    "start_time": "2022-05-14T07:25:11.378Z"
   },
   {
    "duration": 8,
    "start_time": "2022-05-14T07:28:04.138Z"
   },
   {
    "duration": 9,
    "start_time": "2022-05-14T07:34:28.010Z"
   },
   {
    "duration": 26,
    "start_time": "2022-05-14T07:37:55.094Z"
   },
   {
    "duration": 8,
    "start_time": "2022-05-14T07:38:12.711Z"
   },
   {
    "duration": 8,
    "start_time": "2022-05-14T07:38:18.964Z"
   },
   {
    "duration": 24,
    "start_time": "2022-05-14T07:38:48.698Z"
   },
   {
    "duration": 7,
    "start_time": "2022-05-14T07:39:38.207Z"
   },
   {
    "duration": 54,
    "start_time": "2022-05-14T07:39:46.515Z"
   },
   {
    "duration": 75,
    "start_time": "2022-05-14T07:40:36.426Z"
   },
   {
    "duration": 55,
    "start_time": "2022-05-14T07:41:01.207Z"
   },
   {
    "duration": 17,
    "start_time": "2022-05-14T07:41:11.775Z"
   },
   {
    "duration": 55,
    "start_time": "2022-05-14T07:42:07.269Z"
   },
   {
    "duration": 58,
    "start_time": "2022-05-14T07:42:23.870Z"
   },
   {
    "duration": 7,
    "start_time": "2022-05-14T07:42:37.231Z"
   },
   {
    "duration": 8,
    "start_time": "2022-05-14T07:42:40.829Z"
   },
   {
    "duration": 25,
    "start_time": "2022-05-14T07:42:44.855Z"
   },
   {
    "duration": 59,
    "start_time": "2022-05-14T07:42:47.991Z"
   },
   {
    "duration": 1408,
    "start_time": "2022-05-14T07:43:01.096Z"
   },
   {
    "duration": 5,
    "start_time": "2022-05-14T07:44:15.562Z"
   },
   {
    "duration": 27,
    "start_time": "2022-05-14T07:44:33.404Z"
   },
   {
    "duration": 5,
    "start_time": "2022-05-14T07:44:56.267Z"
   },
   {
    "duration": 5,
    "start_time": "2022-05-14T07:44:58.524Z"
   },
   {
    "duration": 8,
    "start_time": "2022-05-14T07:45:12.746Z"
   },
   {
    "duration": 18,
    "start_time": "2022-05-14T07:45:18.443Z"
   },
   {
    "duration": 6,
    "start_time": "2022-05-14T07:46:45.943Z"
   },
   {
    "duration": 1783,
    "start_time": "2022-05-14T07:46:50.895Z"
   },
   {
    "duration": 142,
    "start_time": "2022-05-14T07:48:37.376Z"
   },
   {
    "duration": 6,
    "start_time": "2022-05-14T07:49:01.021Z"
   },
   {
    "duration": 16,
    "start_time": "2022-05-14T07:49:22.879Z"
   },
   {
    "duration": 6,
    "start_time": "2022-05-14T07:49:34.967Z"
   },
   {
    "duration": 16,
    "start_time": "2022-05-14T07:49:44.747Z"
   },
   {
    "duration": 5,
    "start_time": "2022-05-14T07:49:57.009Z"
   },
   {
    "duration": 1889,
    "start_time": "2022-05-14T07:50:02.747Z"
   },
   {
    "duration": 8,
    "start_time": "2022-05-14T07:50:56.317Z"
   },
   {
    "duration": 17,
    "start_time": "2022-05-14T07:51:14.776Z"
   },
   {
    "duration": 16,
    "start_time": "2022-05-14T07:51:40.960Z"
   },
   {
    "duration": 66,
    "start_time": "2022-05-14T07:52:35.111Z"
   },
   {
    "duration": 8,
    "start_time": "2022-05-14T07:53:04.494Z"
   },
   {
    "duration": 20,
    "start_time": "2022-05-14T07:53:07.901Z"
   },
   {
    "duration": 18,
    "start_time": "2022-05-14T07:53:23.664Z"
   },
   {
    "duration": 72,
    "start_time": "2022-05-14T07:54:15.214Z"
   },
   {
    "duration": 19,
    "start_time": "2022-05-14T07:54:24.432Z"
   },
   {
    "duration": 19,
    "start_time": "2022-05-14T07:54:32.370Z"
   },
   {
    "duration": 19,
    "start_time": "2022-05-14T07:54:52.047Z"
   },
   {
    "duration": 72,
    "start_time": "2022-05-14T07:55:19.346Z"
   },
   {
    "duration": 17,
    "start_time": "2022-05-14T07:55:31.924Z"
   },
   {
    "duration": 8,
    "start_time": "2022-05-14T07:55:39.247Z"
   },
   {
    "duration": 18,
    "start_time": "2022-05-14T07:55:43.260Z"
   },
   {
    "duration": 19,
    "start_time": "2022-05-14T07:55:45.178Z"
   },
   {
    "duration": 34,
    "start_time": "2022-05-14T07:58:25.738Z"
   },
   {
    "duration": 21,
    "start_time": "2022-05-14T07:59:16.503Z"
   },
   {
    "duration": 8,
    "start_time": "2022-05-14T08:00:55.025Z"
   },
   {
    "duration": 6,
    "start_time": "2022-05-14T08:01:25.056Z"
   },
   {
    "duration": 16,
    "start_time": "2022-05-14T08:01:43.961Z"
   },
   {
    "duration": 6,
    "start_time": "2022-05-14T08:02:11.790Z"
   },
   {
    "duration": 10,
    "start_time": "2022-05-14T08:02:35.302Z"
   },
   {
    "duration": 8,
    "start_time": "2022-05-14T08:02:40.685Z"
   },
   {
    "duration": 24,
    "start_time": "2022-05-14T08:02:44.023Z"
   },
   {
    "duration": 14,
    "start_time": "2022-05-14T08:02:48.050Z"
   },
   {
    "duration": 12,
    "start_time": "2022-05-14T08:02:51.453Z"
   },
   {
    "duration": 9,
    "start_time": "2022-05-14T08:03:09.504Z"
   },
   {
    "duration": 24,
    "start_time": "2022-05-14T08:03:27.813Z"
   },
   {
    "duration": 1790,
    "start_time": "2022-05-14T08:03:41.909Z"
   },
   {
    "duration": 99,
    "start_time": "2022-05-14T08:04:50.617Z"
   },
   {
    "duration": 14,
    "start_time": "2022-05-14T08:05:02.122Z"
   },
   {
    "duration": 12,
    "start_time": "2022-05-14T08:05:20.314Z"
   },
   {
    "duration": 8,
    "start_time": "2022-05-14T08:05:24.709Z"
   },
   {
    "duration": 13,
    "start_time": "2022-05-14T08:05:32.357Z"
   },
   {
    "duration": 34,
    "start_time": "2022-05-14T08:05:36.065Z"
   },
   {
    "duration": 8,
    "start_time": "2022-05-14T08:05:39.765Z"
   },
   {
    "duration": 10,
    "start_time": "2022-05-14T08:05:42.445Z"
   },
   {
    "duration": 27,
    "start_time": "2022-05-14T08:05:47.549Z"
   },
   {
    "duration": 26,
    "start_time": "2022-05-14T08:05:51.661Z"
   },
   {
    "duration": 32,
    "start_time": "2022-05-14T08:05:55.791Z"
   },
   {
    "duration": 26,
    "start_time": "2022-05-14T08:06:01.245Z"
   },
   {
    "duration": 24,
    "start_time": "2022-05-14T08:06:05.497Z"
   },
   {
    "duration": 19,
    "start_time": "2022-05-14T08:06:13.898Z"
   },
   {
    "duration": 6,
    "start_time": "2022-05-14T08:08:14.641Z"
   },
   {
    "duration": 14,
    "start_time": "2022-05-14T08:08:26.566Z"
   },
   {
    "duration": 8,
    "start_time": "2022-05-14T08:08:39.153Z"
   },
   {
    "duration": 25,
    "start_time": "2022-05-14T08:08:48.301Z"
   },
   {
    "duration": 19,
    "start_time": "2022-05-14T08:09:08.573Z"
   },
   {
    "duration": 20,
    "start_time": "2022-05-14T08:09:17.289Z"
   },
   {
    "duration": 11,
    "start_time": "2022-05-14T08:09:21.045Z"
   },
   {
    "duration": 13,
    "start_time": "2022-05-14T08:09:24.150Z"
   },
   {
    "duration": 7,
    "start_time": "2022-05-14T08:09:29.829Z"
   },
   {
    "duration": 7,
    "start_time": "2022-05-14T08:09:32.051Z"
   },
   {
    "duration": 21,
    "start_time": "2022-05-14T08:09:35.360Z"
   },
   {
    "duration": 18,
    "start_time": "2022-05-14T08:09:40.665Z"
   },
   {
    "duration": 19,
    "start_time": "2022-05-14T08:09:45.745Z"
   },
   {
    "duration": 7,
    "start_time": "2022-05-14T08:09:49.003Z"
   },
   {
    "duration": 13,
    "start_time": "2022-05-14T08:09:51.566Z"
   },
   {
    "duration": 8,
    "start_time": "2022-05-14T08:09:54.569Z"
   },
   {
    "duration": 7,
    "start_time": "2022-05-14T08:09:57.448Z"
   },
   {
    "duration": 15,
    "start_time": "2022-05-14T08:09:59.495Z"
   },
   {
    "duration": 12,
    "start_time": "2022-05-14T08:10:02.813Z"
   },
   {
    "duration": 10,
    "start_time": "2022-05-14T08:10:04.688Z"
   },
   {
    "duration": 15,
    "start_time": "2022-05-14T08:10:07.404Z"
   },
   {
    "duration": 23,
    "start_time": "2022-05-14T08:10:15.651Z"
   },
   {
    "duration": 12,
    "start_time": "2022-05-14T08:10:27.991Z"
   },
   {
    "duration": 23,
    "start_time": "2022-05-14T08:10:33.684Z"
   },
   {
    "duration": 12,
    "start_time": "2022-05-14T08:10:42.347Z"
   },
   {
    "duration": 25,
    "start_time": "2022-05-14T08:10:49.979Z"
   },
   {
    "duration": 20,
    "start_time": "2022-05-14T08:10:55.165Z"
   },
   {
    "duration": 13,
    "start_time": "2022-05-14T08:10:58.902Z"
   },
   {
    "duration": 25,
    "start_time": "2022-05-14T08:11:05.030Z"
   },
   {
    "duration": 74,
    "start_time": "2022-05-14T08:11:09.736Z"
   },
   {
    "duration": 4,
    "start_time": "2022-05-14T08:13:22.280Z"
   },
   {
    "duration": 72,
    "start_time": "2022-05-14T08:13:22.884Z"
   },
   {
    "duration": 20,
    "start_time": "2022-05-14T08:13:25.147Z"
   },
   {
    "duration": 22,
    "start_time": "2022-05-14T08:13:26.449Z"
   },
   {
    "duration": 25,
    "start_time": "2022-05-14T08:13:43.769Z"
   },
   {
    "duration": 11,
    "start_time": "2022-05-14T08:13:48.514Z"
   },
   {
    "duration": 12,
    "start_time": "2022-05-14T08:13:49.426Z"
   },
   {
    "duration": 21,
    "start_time": "2022-05-14T08:13:57.120Z"
   },
   {
    "duration": 5,
    "start_time": "2022-05-14T08:14:08.167Z"
   },
   {
    "duration": 6,
    "start_time": "2022-05-14T08:14:10.496Z"
   },
   {
    "duration": 12,
    "start_time": "2022-05-14T08:15:59.776Z"
   },
   {
    "duration": 43,
    "start_time": "2022-05-14T08:16:55.266Z"
   },
   {
    "duration": 7,
    "start_time": "2022-05-14T08:20:37.823Z"
   },
   {
    "duration": 22,
    "start_time": "2022-05-14T08:22:29.031Z"
   },
   {
    "duration": 21,
    "start_time": "2022-05-14T08:23:14.529Z"
   },
   {
    "duration": 21,
    "start_time": "2022-05-14T08:23:16.986Z"
   },
   {
    "duration": 10,
    "start_time": "2022-05-14T08:23:45.486Z"
   },
   {
    "duration": 9,
    "start_time": "2022-05-14T08:24:11.188Z"
   },
   {
    "duration": 11,
    "start_time": "2022-05-14T08:25:01.065Z"
   },
   {
    "duration": 10,
    "start_time": "2022-05-14T08:30:14.679Z"
   },
   {
    "duration": 13,
    "start_time": "2022-05-14T08:30:32.521Z"
   },
   {
    "duration": 8,
    "start_time": "2022-05-14T08:30:38.756Z"
   },
   {
    "duration": 8,
    "start_time": "2022-05-14T08:30:42.298Z"
   },
   {
    "duration": 8,
    "start_time": "2022-05-14T08:30:43.407Z"
   },
   {
    "duration": 8,
    "start_time": "2022-05-14T08:30:43.980Z"
   },
   {
    "duration": 12,
    "start_time": "2022-05-14T08:32:17.165Z"
   },
   {
    "duration": 13,
    "start_time": "2022-05-14T08:32:17.744Z"
   },
   {
    "duration": 12,
    "start_time": "2022-05-14T08:33:13.112Z"
   },
   {
    "duration": 12,
    "start_time": "2022-05-14T08:33:13.412Z"
   },
   {
    "duration": 8,
    "start_time": "2022-05-14T08:35:04.080Z"
   },
   {
    "duration": 21,
    "start_time": "2022-05-14T08:36:30.543Z"
   },
   {
    "duration": 72,
    "start_time": "2022-05-14T08:36:57.711Z"
   },
   {
    "duration": 25,
    "start_time": "2022-05-14T08:40:39.948Z"
   },
   {
    "duration": 22,
    "start_time": "2022-05-14T08:40:48.950Z"
   },
   {
    "duration": 23,
    "start_time": "2022-05-14T08:41:18.850Z"
   },
   {
    "duration": 27,
    "start_time": "2022-05-14T08:44:18.336Z"
   },
   {
    "duration": 22,
    "start_time": "2022-05-14T08:44:19.973Z"
   },
   {
    "duration": 23,
    "start_time": "2022-05-14T08:44:25.262Z"
   },
   {
    "duration": 21,
    "start_time": "2022-05-14T08:44:39.187Z"
   },
   {
    "duration": 19,
    "start_time": "2022-05-14T08:45:30.436Z"
   },
   {
    "duration": 20,
    "start_time": "2022-05-14T08:45:46.623Z"
   },
   {
    "duration": 21,
    "start_time": "2022-05-14T08:47:19.023Z"
   },
   {
    "duration": 32,
    "start_time": "2022-05-14T08:51:55.550Z"
   },
   {
    "duration": 13,
    "start_time": "2022-05-14T08:51:59.857Z"
   },
   {
    "duration": 6,
    "start_time": "2022-05-14T08:52:07.042Z"
   },
   {
    "duration": 26,
    "start_time": "2022-05-14T08:52:08.240Z"
   },
   {
    "duration": 24,
    "start_time": "2022-05-14T08:52:52.027Z"
   },
   {
    "duration": 5,
    "start_time": "2022-05-14T08:53:00.641Z"
   },
   {
    "duration": 5,
    "start_time": "2022-05-14T08:53:07.529Z"
   },
   {
    "duration": 26,
    "start_time": "2022-05-14T08:53:08.370Z"
   },
   {
    "duration": 4,
    "start_time": "2022-05-14T08:53:57.669Z"
   },
   {
    "duration": 33,
    "start_time": "2022-05-14T08:54:06.988Z"
   },
   {
    "duration": 17,
    "start_time": "2022-05-14T08:54:07.425Z"
   },
   {
    "duration": 8,
    "start_time": "2022-05-14T08:54:12.131Z"
   },
   {
    "duration": 40,
    "start_time": "2022-05-14T08:54:13.798Z"
   },
   {
    "duration": 13,
    "start_time": "2022-05-14T08:59:42.557Z"
   },
   {
    "duration": 7,
    "start_time": "2022-05-14T09:02:19.610Z"
   },
   {
    "duration": 23,
    "start_time": "2022-05-14T09:02:27.591Z"
   },
   {
    "duration": 24,
    "start_time": "2022-05-14T09:04:40.694Z"
   },
   {
    "duration": 12,
    "start_time": "2022-05-14T09:05:38.318Z"
   },
   {
    "duration": 17,
    "start_time": "2022-05-14T09:05:44.835Z"
   },
   {
    "duration": 4,
    "start_time": "2022-05-14T09:05:48.771Z"
   },
   {
    "duration": 40,
    "start_time": "2022-05-14T09:05:49.968Z"
   },
   {
    "duration": 16,
    "start_time": "2022-05-14T09:05:50.715Z"
   },
   {
    "duration": 9,
    "start_time": "2022-05-14T09:06:01.199Z"
   },
   {
    "duration": 9,
    "start_time": "2022-05-14T09:06:11.409Z"
   },
   {
    "duration": 13,
    "start_time": "2022-05-14T09:06:14.465Z"
   },
   {
    "duration": 11,
    "start_time": "2022-05-14T09:06:17.368Z"
   },
   {
    "duration": 14,
    "start_time": "2022-05-14T09:06:30.517Z"
   },
   {
    "duration": 6,
    "start_time": "2022-05-14T09:06:36.388Z"
   },
   {
    "duration": 28,
    "start_time": "2022-05-14T09:06:38.792Z"
   },
   {
    "duration": 22,
    "start_time": "2022-05-14T09:06:43.003Z"
   },
   {
    "duration": 12,
    "start_time": "2022-05-14T09:06:47.275Z"
   },
   {
    "duration": 8,
    "start_time": "2022-05-14T09:06:50.021Z"
   },
   {
    "duration": 11,
    "start_time": "2022-05-14T09:06:53.076Z"
   },
   {
    "duration": 11,
    "start_time": "2022-05-14T09:09:37.076Z"
   },
   {
    "duration": 16,
    "start_time": "2022-05-14T09:11:36.371Z"
   },
   {
    "duration": 13,
    "start_time": "2022-05-14T09:11:50.655Z"
   },
   {
    "duration": 10,
    "start_time": "2022-05-14T09:11:51.923Z"
   },
   {
    "duration": 12,
    "start_time": "2022-05-14T09:11:54.413Z"
   },
   {
    "duration": 14,
    "start_time": "2022-05-14T09:12:52.180Z"
   },
   {
    "duration": 8,
    "start_time": "2022-05-14T09:13:03.548Z"
   },
   {
    "duration": 5,
    "start_time": "2022-05-14T09:15:59.590Z"
   },
   {
    "duration": 9,
    "start_time": "2022-05-14T09:16:05.064Z"
   },
   {
    "duration": 27,
    "start_time": "2022-05-14T09:16:22.963Z"
   },
   {
    "duration": 24,
    "start_time": "2022-05-14T09:16:44.171Z"
   },
   {
    "duration": 7,
    "start_time": "2022-05-14T09:21:57.762Z"
   },
   {
    "duration": 18,
    "start_time": "2022-05-14T09:25:17.738Z"
   },
   {
    "duration": 9,
    "start_time": "2022-05-14T09:25:22.983Z"
   },
   {
    "duration": 10,
    "start_time": "2022-05-14T09:25:37.984Z"
   },
   {
    "duration": 13,
    "start_time": "2022-05-14T09:26:39.258Z"
   },
   {
    "duration": 20,
    "start_time": "2022-05-14T09:31:07.285Z"
   },
   {
    "duration": 18,
    "start_time": "2022-05-14T09:32:35.779Z"
   },
   {
    "duration": 4,
    "start_time": "2022-05-14T09:33:59.140Z"
   },
   {
    "duration": 10,
    "start_time": "2022-05-14T09:34:10.132Z"
   },
   {
    "duration": 11,
    "start_time": "2022-05-14T09:36:23.682Z"
   },
   {
    "duration": 12,
    "start_time": "2022-05-14T09:36:41.283Z"
   },
   {
    "duration": 4,
    "start_time": "2022-05-14T09:36:53.484Z"
   },
   {
    "duration": 5,
    "start_time": "2022-05-14T09:37:08.589Z"
   },
   {
    "duration": 6,
    "start_time": "2022-05-14T09:37:13.298Z"
   },
   {
    "duration": 5,
    "start_time": "2022-05-14T09:37:17.007Z"
   },
   {
    "duration": 20,
    "start_time": "2022-05-14T09:37:24.685Z"
   },
   {
    "duration": 12,
    "start_time": "2022-05-14T09:37:36.035Z"
   },
   {
    "duration": 5,
    "start_time": "2022-05-14T09:40:33.902Z"
   },
   {
    "duration": 6,
    "start_time": "2022-05-14T09:41:11.861Z"
   },
   {
    "duration": 12,
    "start_time": "2022-05-14T09:42:57.113Z"
   },
   {
    "duration": 6,
    "start_time": "2022-05-14T09:44:24.207Z"
   },
   {
    "duration": 67,
    "start_time": "2022-05-14T09:44:34.902Z"
   },
   {
    "duration": 26,
    "start_time": "2022-05-14T09:44:35.284Z"
   },
   {
    "duration": 22,
    "start_time": "2022-05-14T09:44:35.899Z"
   },
   {
    "duration": 19,
    "start_time": "2022-05-14T09:44:37.030Z"
   },
   {
    "duration": 4,
    "start_time": "2022-05-14T09:44:38.819Z"
   },
   {
    "duration": 35,
    "start_time": "2022-05-14T09:44:39.084Z"
   },
   {
    "duration": 13,
    "start_time": "2022-05-14T09:44:39.583Z"
   },
   {
    "duration": 6,
    "start_time": "2022-05-14T09:44:40.114Z"
   },
   {
    "duration": 21,
    "start_time": "2022-05-14T09:44:40.616Z"
   },
   {
    "duration": 11,
    "start_time": "2022-05-14T09:44:40.883Z"
   },
   {
    "duration": 10,
    "start_time": "2022-05-14T09:44:41.675Z"
   },
   {
    "duration": 15,
    "start_time": "2022-05-14T09:44:42.220Z"
   },
   {
    "duration": 16,
    "start_time": "2022-05-14T09:44:43.119Z"
   },
   {
    "duration": 9,
    "start_time": "2022-05-14T09:44:43.700Z"
   },
   {
    "duration": 10,
    "start_time": "2022-05-14T09:44:43.987Z"
   },
   {
    "duration": 13,
    "start_time": "2022-05-14T09:44:44.243Z"
   },
   {
    "duration": 6,
    "start_time": "2022-05-14T09:44:44.993Z"
   },
   {
    "duration": 11,
    "start_time": "2022-05-14T09:44:45.511Z"
   },
   {
    "duration": 20,
    "start_time": "2022-05-14T09:44:46.053Z"
   },
   {
    "duration": 18,
    "start_time": "2022-05-14T09:44:47.003Z"
   },
   {
    "duration": 4,
    "start_time": "2022-05-14T09:44:47.750Z"
   },
   {
    "duration": 18,
    "start_time": "2022-05-14T09:44:47.996Z"
   },
   {
    "duration": 10,
    "start_time": "2022-05-14T09:44:48.962Z"
   },
   {
    "duration": 9,
    "start_time": "2022-05-14T09:44:49.213Z"
   },
   {
    "duration": 12,
    "start_time": "2022-05-14T09:44:49.540Z"
   },
   {
    "duration": 10,
    "start_time": "2022-05-14T09:44:49.825Z"
   },
   {
    "duration": 25,
    "start_time": "2022-05-14T09:44:50.839Z"
   },
   {
    "duration": 19,
    "start_time": "2022-05-14T09:44:57.285Z"
   },
   {
    "duration": 7,
    "start_time": "2022-05-14T09:45:01.621Z"
   },
   {
    "duration": 5,
    "start_time": "2022-05-14T09:45:37.602Z"
   },
   {
    "duration": 6,
    "start_time": "2022-05-14T09:46:13.479Z"
   },
   {
    "duration": 6,
    "start_time": "2022-05-14T09:46:25.481Z"
   },
   {
    "duration": 5,
    "start_time": "2022-05-14T09:46:42.395Z"
   },
   {
    "duration": 108,
    "start_time": "2022-05-14T09:48:11.771Z"
   },
   {
    "duration": 23,
    "start_time": "2022-05-14T09:48:59.697Z"
   },
   {
    "duration": 26,
    "start_time": "2022-05-14T09:49:00.638Z"
   },
   {
    "duration": 8,
    "start_time": "2022-05-14T09:49:20.691Z"
   },
   {
    "duration": 14,
    "start_time": "2022-05-14T09:49:22.120Z"
   },
   {
    "duration": 15,
    "start_time": "2022-05-14T09:49:35.644Z"
   },
   {
    "duration": 8,
    "start_time": "2022-05-14T09:49:48.131Z"
   },
   {
    "duration": 8,
    "start_time": "2022-05-14T09:49:51.605Z"
   },
   {
    "duration": 13,
    "start_time": "2022-05-14T09:49:52.933Z"
   },
   {
    "duration": 11,
    "start_time": "2022-05-14T09:51:15.831Z"
   },
   {
    "duration": 5,
    "start_time": "2022-05-14T09:51:31.817Z"
   },
   {
    "duration": 17,
    "start_time": "2022-05-14T09:55:01.364Z"
   },
   {
    "duration": 17,
    "start_time": "2022-05-14T09:55:21.936Z"
   },
   {
    "duration": 18,
    "start_time": "2022-05-14T09:56:09.087Z"
   },
   {
    "duration": 42,
    "start_time": "2022-05-14T09:56:10.866Z"
   },
   {
    "duration": 23,
    "start_time": "2022-05-14T09:56:30.868Z"
   },
   {
    "duration": 31,
    "start_time": "2022-05-14T09:59:18.509Z"
   },
   {
    "duration": 23,
    "start_time": "2022-05-14T09:59:19.857Z"
   },
   {
    "duration": 25,
    "start_time": "2022-05-14T09:59:23.410Z"
   },
   {
    "duration": 18,
    "start_time": "2022-05-14T10:01:36.382Z"
   },
   {
    "duration": 24,
    "start_time": "2022-05-14T10:02:12.624Z"
   },
   {
    "duration": 38,
    "start_time": "2022-05-14T10:02:18.937Z"
   },
   {
    "duration": 38,
    "start_time": "2022-05-14T10:03:50.132Z"
   },
   {
    "duration": 22,
    "start_time": "2022-05-14T10:05:17.149Z"
   },
   {
    "duration": 11,
    "start_time": "2022-05-14T10:07:07.466Z"
   },
   {
    "duration": 67,
    "start_time": "2022-05-14T10:07:56.437Z"
   },
   {
    "duration": 8,
    "start_time": "2022-05-14T10:08:05.153Z"
   },
   {
    "duration": 10,
    "start_time": "2022-05-14T10:08:09.098Z"
   },
   {
    "duration": 22,
    "start_time": "2022-05-14T10:09:42.270Z"
   },
   {
    "duration": 10,
    "start_time": "2022-05-14T10:24:53.566Z"
   },
   {
    "duration": 26,
    "start_time": "2022-05-14T10:26:23.640Z"
   },
   {
    "duration": 10,
    "start_time": "2022-05-14T10:26:26.280Z"
   },
   {
    "duration": 8,
    "start_time": "2022-05-14T10:26:27.921Z"
   },
   {
    "duration": 11,
    "start_time": "2022-05-14T10:28:44.406Z"
   },
   {
    "duration": 14,
    "start_time": "2022-05-14T10:29:23.305Z"
   },
   {
    "duration": 18,
    "start_time": "2022-05-14T10:33:41.831Z"
   },
   {
    "duration": 22,
    "start_time": "2022-05-14T10:34:11.966Z"
   },
   {
    "duration": 20,
    "start_time": "2022-05-14T10:35:02.109Z"
   },
   {
    "duration": 10,
    "start_time": "2022-05-14T10:35:37.892Z"
   },
   {
    "duration": 7,
    "start_time": "2022-05-14T10:35:57.983Z"
   },
   {
    "duration": 7,
    "start_time": "2022-05-14T10:36:16.731Z"
   },
   {
    "duration": 10,
    "start_time": "2022-05-14T10:36:28.585Z"
   },
   {
    "duration": 19,
    "start_time": "2022-05-14T10:37:08.238Z"
   },
   {
    "duration": 12,
    "start_time": "2022-05-14T10:39:13.428Z"
   },
   {
    "duration": 25,
    "start_time": "2022-05-14T10:39:43.855Z"
   },
   {
    "duration": 18,
    "start_time": "2022-05-14T10:40:23.297Z"
   },
   {
    "duration": 16,
    "start_time": "2022-05-14T10:41:05.151Z"
   },
   {
    "duration": 16,
    "start_time": "2022-05-14T10:41:17.802Z"
   },
   {
    "duration": 26,
    "start_time": "2022-05-14T10:43:06.830Z"
   },
   {
    "duration": 19,
    "start_time": "2022-05-14T10:43:11.336Z"
   },
   {
    "duration": 6,
    "start_time": "2022-05-14T10:45:20.405Z"
   },
   {
    "duration": 18,
    "start_time": "2022-05-14T10:49:52.999Z"
   },
   {
    "duration": 10,
    "start_time": "2022-05-14T10:49:57.375Z"
   },
   {
    "duration": 8,
    "start_time": "2022-05-14T10:50:00.104Z"
   },
   {
    "duration": 18,
    "start_time": "2022-05-14T10:50:16.583Z"
   },
   {
    "duration": 5,
    "start_time": "2022-05-14T10:51:15.343Z"
   },
   {
    "duration": 5,
    "start_time": "2022-05-14T10:54:40.944Z"
   },
   {
    "duration": 187,
    "start_time": "2022-05-14T10:55:38.686Z"
   },
   {
    "duration": 93,
    "start_time": "2022-05-14T10:55:51.189Z"
   },
   {
    "duration": 7,
    "start_time": "2022-05-14T10:56:08.360Z"
   },
   {
    "duration": 5,
    "start_time": "2022-05-14T10:56:26.329Z"
   },
   {
    "duration": 5,
    "start_time": "2022-05-14T10:56:35.494Z"
   },
   {
    "duration": 16,
    "start_time": "2022-05-14T10:57:51.221Z"
   },
   {
    "duration": 7,
    "start_time": "2022-05-14T10:57:53.723Z"
   },
   {
    "duration": 16,
    "start_time": "2022-05-14T10:59:30.993Z"
   },
   {
    "duration": 10,
    "start_time": "2022-05-14T11:00:01.939Z"
   },
   {
    "duration": 10,
    "start_time": "2022-05-14T11:00:39.789Z"
   },
   {
    "duration": 6,
    "start_time": "2022-05-14T11:01:50.745Z"
   },
   {
    "duration": 16,
    "start_time": "2022-05-14T11:01:53.839Z"
   },
   {
    "duration": 7,
    "start_time": "2022-05-14T11:01:55.142Z"
   },
   {
    "duration": 20,
    "start_time": "2022-05-14T11:02:34.053Z"
   },
   {
    "duration": 102,
    "start_time": "2022-05-14T11:05:18.560Z"
   },
   {
    "duration": 8,
    "start_time": "2022-05-14T11:05:38.981Z"
   },
   {
    "duration": 7,
    "start_time": "2022-05-14T11:05:49.840Z"
   },
   {
    "duration": 21,
    "start_time": "2022-05-14T11:05:53.036Z"
   },
   {
    "duration": 8,
    "start_time": "2022-05-14T11:05:54.947Z"
   },
   {
    "duration": 6,
    "start_time": "2022-05-14T11:05:56.309Z"
   },
   {
    "duration": 16,
    "start_time": "2022-05-14T11:05:57.809Z"
   },
   {
    "duration": 16,
    "start_time": "2022-05-14T11:06:02.208Z"
   },
   {
    "duration": 10,
    "start_time": "2022-05-14T11:06:04.605Z"
   },
   {
    "duration": 10,
    "start_time": "2022-05-14T11:06:34.651Z"
   },
   {
    "duration": 24,
    "start_time": "2022-05-14T11:06:36.807Z"
   },
   {
    "duration": 83,
    "start_time": "2022-05-14T11:07:11.908Z"
   },
   {
    "duration": 41,
    "start_time": "2022-05-14T11:07:12.240Z"
   },
   {
    "duration": 21,
    "start_time": "2022-05-14T11:07:12.401Z"
   },
   {
    "duration": 21,
    "start_time": "2022-05-14T11:07:12.668Z"
   },
   {
    "duration": 99,
    "start_time": "2022-05-14T11:07:21.681Z"
   },
   {
    "duration": 34,
    "start_time": "2022-05-14T11:07:22.292Z"
   },
   {
    "duration": 26,
    "start_time": "2022-05-14T11:07:23.356Z"
   },
   {
    "duration": 20,
    "start_time": "2022-05-14T11:07:24.518Z"
   },
   {
    "duration": 5,
    "start_time": "2022-05-14T11:07:26.099Z"
   },
   {
    "duration": 28,
    "start_time": "2022-05-14T11:07:26.309Z"
   },
   {
    "duration": 13,
    "start_time": "2022-05-14T11:07:26.748Z"
   },
   {
    "duration": 6,
    "start_time": "2022-05-14T11:07:27.181Z"
   },
   {
    "duration": 25,
    "start_time": "2022-05-14T11:07:27.604Z"
   },
   {
    "duration": 13,
    "start_time": "2022-05-14T11:07:27.878Z"
   },
   {
    "duration": 7,
    "start_time": "2022-05-14T11:07:28.692Z"
   },
   {
    "duration": 15,
    "start_time": "2022-05-14T11:07:29.204Z"
   },
   {
    "duration": 20,
    "start_time": "2022-05-14T11:07:30.072Z"
   },
   {
    "duration": 11,
    "start_time": "2022-05-14T11:07:30.693Z"
   },
   {
    "duration": 11,
    "start_time": "2022-05-14T11:07:30.996Z"
   },
   {
    "duration": 16,
    "start_time": "2022-05-14T11:07:31.322Z"
   },
   {
    "duration": 6,
    "start_time": "2022-05-14T11:07:32.175Z"
   },
   {
    "duration": 11,
    "start_time": "2022-05-14T11:07:32.770Z"
   },
   {
    "duration": 33,
    "start_time": "2022-05-14T11:07:33.341Z"
   },
   {
    "duration": 21,
    "start_time": "2022-05-14T11:07:34.542Z"
   },
   {
    "duration": 6,
    "start_time": "2022-05-14T11:07:35.515Z"
   },
   {
    "duration": 20,
    "start_time": "2022-05-14T11:07:35.833Z"
   },
   {
    "duration": 9,
    "start_time": "2022-05-14T11:07:36.786Z"
   },
   {
    "duration": 10,
    "start_time": "2022-05-14T11:07:37.070Z"
   },
   {
    "duration": 13,
    "start_time": "2022-05-14T11:07:37.432Z"
   },
   {
    "duration": 9,
    "start_time": "2022-05-14T11:07:37.836Z"
   },
   {
    "duration": 19,
    "start_time": "2022-05-14T11:07:39.031Z"
   },
   {
    "duration": 23,
    "start_time": "2022-05-14T11:07:39.654Z"
   },
   {
    "duration": 7,
    "start_time": "2022-05-14T11:07:39.958Z"
   },
   {
    "duration": 21,
    "start_time": "2022-05-14T11:07:41.131Z"
   },
   {
    "duration": 24,
    "start_time": "2022-05-14T11:07:41.468Z"
   },
   {
    "duration": 9,
    "start_time": "2022-05-14T11:07:42.583Z"
   },
   {
    "duration": 13,
    "start_time": "2022-05-14T11:07:42.925Z"
   },
   {
    "duration": 20,
    "start_time": "2022-05-14T11:07:43.205Z"
   },
   {
    "duration": 46,
    "start_time": "2022-05-14T11:07:43.866Z"
   },
   {
    "duration": 24,
    "start_time": "2022-05-14T11:07:45.200Z"
   },
   {
    "duration": 17,
    "start_time": "2022-05-14T11:07:45.565Z"
   },
   {
    "duration": 30,
    "start_time": "2022-05-14T11:07:46.942Z"
   },
   {
    "duration": 64,
    "start_time": "2022-05-14T11:07:47.532Z"
   },
   {
    "duration": 41,
    "start_time": "2022-05-14T11:07:48.525Z"
   },
   {
    "duration": 24,
    "start_time": "2022-05-14T11:07:49.079Z"
   },
   {
    "duration": 14,
    "start_time": "2022-05-14T11:07:50.194Z"
   },
   {
    "duration": 10,
    "start_time": "2022-05-14T11:07:50.772Z"
   },
   {
    "duration": 22,
    "start_time": "2022-05-14T11:07:52.021Z"
   },
   {
    "duration": 9,
    "start_time": "2022-05-14T11:07:52.922Z"
   },
   {
    "duration": 7,
    "start_time": "2022-05-14T11:07:53.247Z"
   },
   {
    "duration": 13,
    "start_time": "2022-05-14T11:07:53.843Z"
   },
   {
    "duration": 10,
    "start_time": "2022-05-14T11:07:55.269Z"
   },
   {
    "duration": 19,
    "start_time": "2022-05-14T11:07:56.044Z"
   },
   {
    "duration": 19,
    "start_time": "2022-05-14T11:07:56.410Z"
   },
   {
    "duration": 10,
    "start_time": "2022-05-14T11:07:57.286Z"
   },
   {
    "duration": 8,
    "start_time": "2022-05-14T11:07:58.407Z"
   },
   {
    "duration": 14,
    "start_time": "2022-05-14T11:07:59.532Z"
   },
   {
    "duration": 17,
    "start_time": "2022-05-14T11:08:01.419Z"
   },
   {
    "duration": 18,
    "start_time": "2022-05-14T11:08:38.630Z"
   },
   {
    "duration": 15,
    "start_time": "2022-05-14T11:08:39.811Z"
   },
   {
    "duration": 9,
    "start_time": "2022-05-14T11:08:46.770Z"
   },
   {
    "duration": 22,
    "start_time": "2022-05-14T11:08:48.668Z"
   },
   {
    "duration": 10,
    "start_time": "2022-05-14T11:08:52.933Z"
   },
   {
    "duration": 22,
    "start_time": "2022-05-14T11:08:57.628Z"
   },
   {
    "duration": 5,
    "start_time": "2022-05-14T11:09:00.056Z"
   },
   {
    "duration": 4,
    "start_time": "2022-05-14T11:09:00.963Z"
   },
   {
    "duration": 18,
    "start_time": "2022-05-14T11:09:02.560Z"
   },
   {
    "duration": 17,
    "start_time": "2022-05-14T11:09:03.797Z"
   },
   {
    "duration": 9,
    "start_time": "2022-05-14T11:09:05.880Z"
   },
   {
    "duration": 8,
    "start_time": "2022-05-14T11:09:07.419Z"
   },
   {
    "duration": 95,
    "start_time": "2022-05-14T11:14:38.898Z"
   },
   {
    "duration": 8,
    "start_time": "2022-05-14T11:14:49.494Z"
   },
   {
    "duration": 67,
    "start_time": "2022-05-14T11:15:04.268Z"
   },
   {
    "duration": 8,
    "start_time": "2022-05-14T11:16:12.742Z"
   },
   {
    "duration": 8,
    "start_time": "2022-05-14T11:19:41.040Z"
   },
   {
    "duration": 10,
    "start_time": "2022-05-14T11:19:59.885Z"
   },
   {
    "duration": 72,
    "start_time": "2022-05-14T11:20:17.140Z"
   },
   {
    "duration": 26,
    "start_time": "2022-05-14T11:20:22.225Z"
   },
   {
    "duration": 22,
    "start_time": "2022-05-14T11:20:22.765Z"
   },
   {
    "duration": 18,
    "start_time": "2022-05-14T11:20:23.702Z"
   },
   {
    "duration": 4,
    "start_time": "2022-05-14T11:20:26.502Z"
   },
   {
    "duration": 31,
    "start_time": "2022-05-14T11:20:26.509Z"
   },
   {
    "duration": 18,
    "start_time": "2022-05-14T11:21:15.182Z"
   },
   {
    "duration": 5,
    "start_time": "2022-05-14T11:21:18.417Z"
   },
   {
    "duration": 19,
    "start_time": "2022-05-14T11:21:18.566Z"
   },
   {
    "duration": 24,
    "start_time": "2022-05-14T11:21:18.772Z"
   },
   {
    "duration": 7,
    "start_time": "2022-05-14T11:21:19.386Z"
   },
   {
    "duration": 12,
    "start_time": "2022-05-14T11:21:19.587Z"
   },
   {
    "duration": 18,
    "start_time": "2022-05-14T11:21:19.775Z"
   },
   {
    "duration": 42,
    "start_time": "2022-05-14T11:21:20.266Z"
   },
   {
    "duration": 25,
    "start_time": "2022-05-14T11:21:21.103Z"
   },
   {
    "duration": 17,
    "start_time": "2022-05-14T11:21:21.300Z"
   },
   {
    "duration": 25,
    "start_time": "2022-05-14T11:21:22.106Z"
   },
   {
    "duration": 39,
    "start_time": "2022-05-14T11:21:22.519Z"
   },
   {
    "duration": 24,
    "start_time": "2022-05-14T11:21:23.169Z"
   },
   {
    "duration": 25,
    "start_time": "2022-05-14T11:21:23.586Z"
   },
   {
    "duration": 10,
    "start_time": "2022-05-14T11:21:24.376Z"
   },
   {
    "duration": 8,
    "start_time": "2022-05-14T11:21:24.792Z"
   },
   {
    "duration": 23,
    "start_time": "2022-05-14T11:21:25.701Z"
   },
   {
    "duration": 10,
    "start_time": "2022-05-14T11:21:26.429Z"
   },
   {
    "duration": 8,
    "start_time": "2022-05-14T11:21:26.651Z"
   },
   {
    "duration": 12,
    "start_time": "2022-05-14T11:21:27.107Z"
   },
   {
    "duration": 10,
    "start_time": "2022-05-14T11:21:27.818Z"
   },
   {
    "duration": 17,
    "start_time": "2022-05-14T11:21:28.279Z"
   },
   {
    "duration": 18,
    "start_time": "2022-05-14T11:21:28.512Z"
   },
   {
    "duration": 11,
    "start_time": "2022-05-14T11:21:29.523Z"
   },
   {
    "duration": 8,
    "start_time": "2022-05-14T11:21:30.516Z"
   },
   {
    "duration": 11,
    "start_time": "2022-05-14T11:21:31.111Z"
   },
   {
    "duration": 16,
    "start_time": "2022-05-14T11:21:32.451Z"
   },
   {
    "duration": 17,
    "start_time": "2022-05-14T11:21:34.772Z"
   },
   {
    "duration": 16,
    "start_time": "2022-05-14T11:21:49.960Z"
   },
   {
    "duration": 10,
    "start_time": "2022-05-14T11:21:51.640Z"
   },
   {
    "duration": 18,
    "start_time": "2022-05-14T11:21:54.488Z"
   },
   {
    "duration": 12,
    "start_time": "2022-05-14T11:22:00.019Z"
   },
   {
    "duration": 10,
    "start_time": "2022-05-14T11:23:18.764Z"
   },
   {
    "duration": 17,
    "start_time": "2022-05-14T11:23:20.481Z"
   },
   {
    "duration": 5,
    "start_time": "2022-05-14T11:23:23.145Z"
   },
   {
    "duration": 6,
    "start_time": "2022-05-14T11:23:24.073Z"
   },
   {
    "duration": 22,
    "start_time": "2022-05-14T11:23:25.299Z"
   },
   {
    "duration": 17,
    "start_time": "2022-05-14T11:23:26.521Z"
   },
   {
    "duration": 10,
    "start_time": "2022-05-14T11:23:27.945Z"
   },
   {
    "duration": 7,
    "start_time": "2022-05-14T11:23:35.183Z"
   },
   {
    "duration": 24,
    "start_time": "2022-05-14T11:23:36.136Z"
   },
   {
    "duration": 68,
    "start_time": "2022-05-14T11:23:49.730Z"
   },
   {
    "duration": 7,
    "start_time": "2022-05-14T11:23:59.290Z"
   },
   {
    "duration": 18,
    "start_time": "2022-05-14T11:24:14.238Z"
   },
   {
    "duration": 17,
    "start_time": "2022-05-14T11:24:15.139Z"
   },
   {
    "duration": 17,
    "start_time": "2022-05-14T11:24:15.712Z"
   },
   {
    "duration": 10,
    "start_time": "2022-05-14T11:24:16.383Z"
   },
   {
    "duration": 17,
    "start_time": "2022-05-14T11:24:17.694Z"
   },
   {
    "duration": 11,
    "start_time": "2022-05-14T11:24:21.701Z"
   },
   {
    "duration": 29,
    "start_time": "2022-05-14T11:24:24.744Z"
   },
   {
    "duration": 5,
    "start_time": "2022-05-14T11:24:25.850Z"
   },
   {
    "duration": 5,
    "start_time": "2022-05-14T11:24:27.003Z"
   },
   {
    "duration": 16,
    "start_time": "2022-05-14T11:24:42.901Z"
   },
   {
    "duration": 19,
    "start_time": "2022-05-14T11:24:46.606Z"
   },
   {
    "duration": 11,
    "start_time": "2022-05-14T11:24:49.521Z"
   },
   {
    "duration": 10,
    "start_time": "2022-05-14T11:25:10.837Z"
   },
   {
    "duration": 6,
    "start_time": "2022-05-14T11:25:23.282Z"
   },
   {
    "duration": 5,
    "start_time": "2022-05-14T11:25:37.341Z"
   },
   {
    "duration": 6,
    "start_time": "2022-05-14T11:26:03.464Z"
   },
   {
    "duration": 17,
    "start_time": "2022-05-14T11:26:06.607Z"
   },
   {
    "duration": 9,
    "start_time": "2022-05-14T11:26:10.681Z"
   },
   {
    "duration": 5,
    "start_time": "2022-05-14T11:26:12.813Z"
   },
   {
    "duration": 6,
    "start_time": "2022-05-14T11:26:14.001Z"
   },
   {
    "duration": 6,
    "start_time": "2022-05-14T11:26:26.901Z"
   },
   {
    "duration": 69,
    "start_time": "2022-05-14T11:26:47.686Z"
   },
   {
    "duration": 26,
    "start_time": "2022-05-14T11:26:48.243Z"
   },
   {
    "duration": 21,
    "start_time": "2022-05-14T11:26:48.776Z"
   },
   {
    "duration": 20,
    "start_time": "2022-05-14T11:26:49.401Z"
   },
   {
    "duration": 6,
    "start_time": "2022-05-14T11:26:50.614Z"
   },
   {
    "duration": 25,
    "start_time": "2022-05-14T11:26:50.679Z"
   },
   {
    "duration": 12,
    "start_time": "2022-05-14T11:26:50.923Z"
   },
   {
    "duration": 6,
    "start_time": "2022-05-14T11:26:51.269Z"
   },
   {
    "duration": 23,
    "start_time": "2022-05-14T11:26:51.740Z"
   },
   {
    "duration": 12,
    "start_time": "2022-05-14T11:26:51.943Z"
   },
   {
    "duration": 8,
    "start_time": "2022-05-14T11:26:52.516Z"
   },
   {
    "duration": 11,
    "start_time": "2022-05-14T11:26:52.874Z"
   },
   {
    "duration": 16,
    "start_time": "2022-05-14T11:26:53.454Z"
   },
   {
    "duration": 9,
    "start_time": "2022-05-14T11:26:54.062Z"
   },
   {
    "duration": 9,
    "start_time": "2022-05-14T11:26:54.246Z"
   },
   {
    "duration": 13,
    "start_time": "2022-05-14T11:26:54.460Z"
   },
   {
    "duration": 5,
    "start_time": "2022-05-14T11:26:55.045Z"
   },
   {
    "duration": 10,
    "start_time": "2022-05-14T11:26:55.723Z"
   },
   {
    "duration": 19,
    "start_time": "2022-05-14T11:26:56.146Z"
   },
   {
    "duration": 16,
    "start_time": "2022-05-14T11:26:56.962Z"
   },
   {
    "duration": 5,
    "start_time": "2022-05-14T11:26:57.589Z"
   },
   {
    "duration": 17,
    "start_time": "2022-05-14T11:26:57.792Z"
   },
   {
    "duration": 9,
    "start_time": "2022-05-14T11:26:58.356Z"
   },
   {
    "duration": 9,
    "start_time": "2022-05-14T11:26:58.577Z"
   },
   {
    "duration": 12,
    "start_time": "2022-05-14T11:26:58.766Z"
   },
   {
    "duration": 9,
    "start_time": "2022-05-14T11:26:58.939Z"
   },
   {
    "duration": 19,
    "start_time": "2022-05-14T11:26:59.531Z"
   },
   {
    "duration": 17,
    "start_time": "2022-05-14T11:26:59.922Z"
   },
   {
    "duration": 6,
    "start_time": "2022-05-14T11:27:00.105Z"
   },
   {
    "duration": 19,
    "start_time": "2022-05-14T11:27:00.936Z"
   },
   {
    "duration": 25,
    "start_time": "2022-05-14T11:27:01.124Z"
   },
   {
    "duration": 8,
    "start_time": "2022-05-14T11:27:01.734Z"
   },
   {
    "duration": 13,
    "start_time": "2022-05-14T11:27:01.937Z"
   },
   {
    "duration": 18,
    "start_time": "2022-05-14T11:27:02.145Z"
   },
   {
    "duration": 42,
    "start_time": "2022-05-14T11:27:02.554Z"
   },
   {
    "duration": 25,
    "start_time": "2022-05-14T11:27:03.340Z"
   },
   {
    "duration": 17,
    "start_time": "2022-05-14T11:27:03.537Z"
   },
   {
    "duration": 24,
    "start_time": "2022-05-14T11:27:04.340Z"
   },
   {
    "duration": 38,
    "start_time": "2022-05-14T11:27:04.754Z"
   },
   {
    "duration": 25,
    "start_time": "2022-05-14T11:27:05.379Z"
   },
   {
    "duration": 24,
    "start_time": "2022-05-14T11:27:05.758Z"
   },
   {
    "duration": 10,
    "start_time": "2022-05-14T11:27:06.740Z"
   },
   {
    "duration": 7,
    "start_time": "2022-05-14T11:27:07.183Z"
   },
   {
    "duration": 21,
    "start_time": "2022-05-14T11:27:08.241Z"
   },
   {
    "duration": 9,
    "start_time": "2022-05-14T11:27:08.868Z"
   },
   {
    "duration": 7,
    "start_time": "2022-05-14T11:27:09.077Z"
   },
   {
    "duration": 12,
    "start_time": "2022-05-14T11:27:09.473Z"
   },
   {
    "duration": 10,
    "start_time": "2022-05-14T11:27:10.072Z"
   },
   {
    "duration": 17,
    "start_time": "2022-05-14T11:27:10.482Z"
   },
   {
    "duration": 18,
    "start_time": "2022-05-14T11:27:10.687Z"
   },
   {
    "duration": 10,
    "start_time": "2022-05-14T11:27:11.346Z"
   },
   {
    "duration": 8,
    "start_time": "2022-05-14T11:27:11.962Z"
   },
   {
    "duration": 10,
    "start_time": "2022-05-14T11:27:12.725Z"
   },
   {
    "duration": 16,
    "start_time": "2022-05-14T11:27:14.168Z"
   },
   {
    "duration": 19,
    "start_time": "2022-05-14T11:27:15.285Z"
   },
   {
    "duration": 16,
    "start_time": "2022-05-14T11:27:16.098Z"
   },
   {
    "duration": 9,
    "start_time": "2022-05-14T11:27:16.895Z"
   },
   {
    "duration": 18,
    "start_time": "2022-05-14T11:27:18.538Z"
   },
   {
    "duration": 11,
    "start_time": "2022-05-14T11:27:19.083Z"
   },
   {
    "duration": 18,
    "start_time": "2022-05-14T11:27:19.597Z"
   },
   {
    "duration": 6,
    "start_time": "2022-05-14T11:27:20.144Z"
   },
   {
    "duration": 5,
    "start_time": "2022-05-14T11:27:20.676Z"
   },
   {
    "duration": 14,
    "start_time": "2022-05-14T11:27:21.250Z"
   },
   {
    "duration": 18,
    "start_time": "2022-05-14T11:27:21.796Z"
   },
   {
    "duration": 9,
    "start_time": "2022-05-14T11:27:22.330Z"
   },
   {
    "duration": 7,
    "start_time": "2022-05-14T11:27:22.868Z"
   },
   {
    "duration": 17,
    "start_time": "2022-05-14T11:27:23.433Z"
   },
   {
    "duration": 8,
    "start_time": "2022-05-14T11:27:30.430Z"
   },
   {
    "duration": 4,
    "start_time": "2022-05-14T11:27:31.826Z"
   },
   {
    "duration": 5,
    "start_time": "2022-05-14T11:27:32.413Z"
   },
   {
    "duration": 25,
    "start_time": "2022-05-14T11:27:34.050Z"
   },
   {
    "duration": 10,
    "start_time": "2022-05-14T11:27:35.481Z"
   },
   {
    "duration": 10,
    "start_time": "2022-05-14T11:28:21.602Z"
   },
   {
    "duration": 23,
    "start_time": "2022-05-14T11:28:23.903Z"
   },
   {
    "duration": 21,
    "start_time": "2022-05-14T11:28:49.911Z"
   },
   {
    "duration": 25,
    "start_time": "2022-05-14T11:28:51.564Z"
   },
   {
    "duration": 19,
    "start_time": "2022-05-14T11:29:26.622Z"
   },
   {
    "duration": 30,
    "start_time": "2022-05-14T11:29:37.130Z"
   },
   {
    "duration": 19,
    "start_time": "2022-05-14T11:29:44.373Z"
   },
   {
    "duration": 8,
    "start_time": "2022-05-14T11:30:53.297Z"
   },
   {
    "duration": 10,
    "start_time": "2022-05-14T11:31:00.455Z"
   },
   {
    "duration": 23,
    "start_time": "2022-05-14T11:33:04.813Z"
   },
   {
    "duration": 31,
    "start_time": "2022-05-14T11:34:47.319Z"
   },
   {
    "duration": 54,
    "start_time": "2022-05-14T11:35:19.611Z"
   },
   {
    "duration": 52,
    "start_time": "2022-05-14T11:36:13.881Z"
   },
   {
    "duration": 54,
    "start_time": "2022-05-14T11:37:14.156Z"
   },
   {
    "duration": 50,
    "start_time": "2022-05-14T11:37:32.649Z"
   },
   {
    "duration": 55,
    "start_time": "2022-05-14T11:38:29.011Z"
   },
   {
    "duration": 54,
    "start_time": "2022-05-14T11:39:42.708Z"
   },
   {
    "duration": 55,
    "start_time": "2022-05-14T11:42:06.161Z"
   },
   {
    "duration": 7,
    "start_time": "2022-05-14T11:47:15.027Z"
   },
   {
    "duration": 4,
    "start_time": "2022-05-14T11:53:43.947Z"
   },
   {
    "duration": 4,
    "start_time": "2022-05-14T12:20:58.052Z"
   },
   {
    "duration": 84,
    "start_time": "2022-05-14T12:20:58.346Z"
   },
   {
    "duration": 30,
    "start_time": "2022-05-14T12:20:58.646Z"
   },
   {
    "duration": 21,
    "start_time": "2022-05-14T12:20:58.927Z"
   },
   {
    "duration": 50,
    "start_time": "2022-05-14T12:21:00.237Z"
   },
   {
    "duration": 15,
    "start_time": "2022-05-14T12:21:01.251Z"
   },
   {
    "duration": 13,
    "start_time": "2022-05-14T12:21:01.543Z"
   },
   {
    "duration": 29,
    "start_time": "2022-05-14T12:21:02.199Z"
   },
   {
    "duration": 9,
    "start_time": "2022-05-14T12:21:03.179Z"
   },
   {
    "duration": 6,
    "start_time": "2022-05-14T12:21:03.810Z"
   },
   {
    "duration": 11,
    "start_time": "2022-05-14T12:21:04.424Z"
   },
   {
    "duration": 57,
    "start_time": "2022-05-14T12:21:05.977Z"
   },
   {
    "duration": 7,
    "start_time": "2022-05-14T12:21:07.207Z"
   },
   {
    "duration": 30,
    "start_time": "2022-05-14T12:21:07.839Z"
   },
   {
    "duration": 31,
    "start_time": "2022-05-14T12:21:08.148Z"
   },
   {
    "duration": 9,
    "start_time": "2022-05-14T12:21:09.386Z"
   },
   {
    "duration": 12,
    "start_time": "2022-05-14T12:21:10.347Z"
   },
   {
    "duration": 12,
    "start_time": "2022-05-14T12:21:11.229Z"
   },
   {
    "duration": 14,
    "start_time": "2022-05-14T12:21:11.852Z"
   },
   {
    "duration": 8,
    "start_time": "2022-05-14T12:21:13.088Z"
   },
   {
    "duration": 7,
    "start_time": "2022-05-14T12:21:13.693Z"
   },
   {
    "duration": 8,
    "start_time": "2022-05-14T12:21:14.319Z"
   },
   {
    "duration": 7,
    "start_time": "2022-05-14T12:21:14.595Z"
   },
   {
    "duration": 14,
    "start_time": "2022-05-14T12:21:15.177Z"
   },
   {
    "duration": 17,
    "start_time": "2022-05-14T12:21:15.475Z"
   },
   {
    "duration": 11,
    "start_time": "2022-05-14T12:21:17.043Z"
   },
   {
    "duration": 32,
    "start_time": "2022-05-14T12:21:17.914Z"
   },
   {
    "duration": 81,
    "start_time": "2022-05-14T12:21:19.402Z"
   },
   {
    "duration": 27,
    "start_time": "2022-05-14T12:21:20.311Z"
   },
   {
    "duration": 20,
    "start_time": "2022-05-14T12:21:21.224Z"
   },
   {
    "duration": 20,
    "start_time": "2022-05-14T12:21:22.477Z"
   },
   {
    "duration": 5,
    "start_time": "2022-05-14T12:21:24.641Z"
   },
   {
    "duration": 36,
    "start_time": "2022-05-14T12:21:24.968Z"
   },
   {
    "duration": 14,
    "start_time": "2022-05-14T12:21:26.730Z"
   },
   {
    "duration": 6,
    "start_time": "2022-05-14T12:21:26.747Z"
   },
   {
    "duration": 24,
    "start_time": "2022-05-14T12:21:26.827Z"
   },
   {
    "duration": 20,
    "start_time": "2022-05-14T12:21:27.088Z"
   },
   {
    "duration": 9,
    "start_time": "2022-05-14T12:21:28.011Z"
   },
   {
    "duration": 11,
    "start_time": "2022-05-14T12:21:28.620Z"
   },
   {
    "duration": 17,
    "start_time": "2022-05-14T12:21:29.485Z"
   },
   {
    "duration": 9,
    "start_time": "2022-05-14T12:21:30.047Z"
   },
   {
    "duration": 11,
    "start_time": "2022-05-14T12:21:30.347Z"
   },
   {
    "duration": 12,
    "start_time": "2022-05-14T12:21:30.628Z"
   },
   {
    "duration": 5,
    "start_time": "2022-05-14T12:21:31.464Z"
   },
   {
    "duration": 9,
    "start_time": "2022-05-14T12:21:32.022Z"
   },
   {
    "duration": 27,
    "start_time": "2022-05-14T12:21:32.592Z"
   },
   {
    "duration": 25,
    "start_time": "2022-05-14T12:21:33.724Z"
   },
   {
    "duration": 7,
    "start_time": "2022-05-14T12:21:34.613Z"
   },
   {
    "duration": 23,
    "start_time": "2022-05-14T12:21:34.869Z"
   },
   {
    "duration": 10,
    "start_time": "2022-05-14T12:21:35.731Z"
   },
   {
    "duration": 17,
    "start_time": "2022-05-14T12:21:36.052Z"
   },
   {
    "duration": 17,
    "start_time": "2022-05-14T12:21:36.319Z"
   },
   {
    "duration": 14,
    "start_time": "2022-05-14T12:21:36.608Z"
   },
   {
    "duration": 28,
    "start_time": "2022-05-14T12:21:37.469Z"
   },
   {
    "duration": 27,
    "start_time": "2022-05-14T12:21:38.042Z"
   },
   {
    "duration": 7,
    "start_time": "2022-05-14T12:21:38.293Z"
   },
   {
    "duration": 34,
    "start_time": "2022-05-14T12:21:39.441Z"
   },
   {
    "duration": 32,
    "start_time": "2022-05-14T12:21:39.772Z"
   },
   {
    "duration": 9,
    "start_time": "2022-05-14T12:21:40.580Z"
   },
   {
    "duration": 15,
    "start_time": "2022-05-14T12:21:40.879Z"
   },
   {
    "duration": 22,
    "start_time": "2022-05-14T12:21:41.173Z"
   },
   {
    "duration": 43,
    "start_time": "2022-05-14T12:21:41.695Z"
   },
   {
    "duration": 22,
    "start_time": "2022-05-14T12:21:43.126Z"
   },
   {
    "duration": 27,
    "start_time": "2022-05-14T12:21:43.448Z"
   },
   {
    "duration": 26,
    "start_time": "2022-05-14T12:21:44.876Z"
   },
   {
    "duration": 39,
    "start_time": "2022-05-14T12:21:45.407Z"
   },
   {
    "duration": 27,
    "start_time": "2022-05-14T12:21:46.277Z"
   },
   {
    "duration": 29,
    "start_time": "2022-05-14T12:21:46.829Z"
   },
   {
    "duration": 9,
    "start_time": "2022-05-14T12:21:47.926Z"
   },
   {
    "duration": 7,
    "start_time": "2022-05-14T12:21:48.509Z"
   },
   {
    "duration": 40,
    "start_time": "2022-05-14T12:21:49.649Z"
   },
   {
    "duration": 9,
    "start_time": "2022-05-14T12:21:50.517Z"
   },
   {
    "duration": 8,
    "start_time": "2022-05-14T12:21:50.816Z"
   },
   {
    "duration": 16,
    "start_time": "2022-05-14T12:21:51.361Z"
   },
   {
    "duration": 13,
    "start_time": "2022-05-14T12:21:52.153Z"
   },
   {
    "duration": 21,
    "start_time": "2022-05-14T12:21:52.739Z"
   },
   {
    "duration": 25,
    "start_time": "2022-05-14T12:21:53.045Z"
   },
   {
    "duration": 10,
    "start_time": "2022-05-14T12:21:53.596Z"
   },
   {
    "duration": 7,
    "start_time": "2022-05-14T12:21:54.421Z"
   },
   {
    "duration": 20,
    "start_time": "2022-05-14T12:21:55.253Z"
   },
   {
    "duration": 18,
    "start_time": "2022-05-14T12:21:56.640Z"
   },
   {
    "duration": 19,
    "start_time": "2022-05-14T12:21:58.021Z"
   },
   {
    "duration": 17,
    "start_time": "2022-05-14T12:21:58.899Z"
   },
   {
    "duration": 9,
    "start_time": "2022-05-14T12:21:59.992Z"
   },
   {
    "duration": 18,
    "start_time": "2022-05-14T12:22:01.711Z"
   },
   {
    "duration": 11,
    "start_time": "2022-05-14T12:22:02.281Z"
   },
   {
    "duration": 17,
    "start_time": "2022-05-14T12:22:02.825Z"
   },
   {
    "duration": 6,
    "start_time": "2022-05-14T12:22:03.363Z"
   },
   {
    "duration": 5,
    "start_time": "2022-05-14T12:22:03.900Z"
   },
   {
    "duration": 15,
    "start_time": "2022-05-14T12:22:04.505Z"
   },
   {
    "duration": 18,
    "start_time": "2022-05-14T12:22:05.082Z"
   },
   {
    "duration": 9,
    "start_time": "2022-05-14T12:22:05.634Z"
   },
   {
    "duration": 8,
    "start_time": "2022-05-14T12:22:06.197Z"
   },
   {
    "duration": 19,
    "start_time": "2022-05-14T12:22:06.746Z"
   },
   {
    "duration": 8,
    "start_time": "2022-05-14T12:22:08.210Z"
   },
   {
    "duration": 4,
    "start_time": "2022-05-14T12:22:09.324Z"
   },
   {
    "duration": 5,
    "start_time": "2022-05-14T12:22:09.898Z"
   },
   {
    "duration": 30,
    "start_time": "2022-05-14T12:22:10.427Z"
   },
   {
    "duration": 11,
    "start_time": "2022-05-14T12:22:10.981Z"
   },
   {
    "duration": 21,
    "start_time": "2022-05-14T12:22:11.495Z"
   },
   {
    "duration": 29,
    "start_time": "2022-05-14T12:22:12.050Z"
   },
   {
    "duration": 15,
    "start_time": "2022-05-14T12:22:13.744Z"
   },
   {
    "duration": 11,
    "start_time": "2022-05-14T12:22:14.042Z"
   },
   {
    "duration": 31,
    "start_time": "2022-05-14T12:22:14.641Z"
   },
   {
    "duration": 52,
    "start_time": "2022-05-14T12:22:15.178Z"
   },
   {
    "duration": 64,
    "start_time": "2022-05-14T12:22:17.724Z"
   },
   {
    "duration": 78,
    "start_time": "2022-05-14T12:22:20.331Z"
   },
   {
    "duration": 75,
    "start_time": "2022-05-14T12:22:23.346Z"
   },
   {
    "duration": 4,
    "start_time": "2022-05-14T12:28:58.887Z"
   },
   {
    "duration": 5,
    "start_time": "2022-05-14T12:29:02.816Z"
   },
   {
    "duration": 156,
    "start_time": "2022-05-14T12:30:36.864Z"
   },
   {
    "duration": 441,
    "start_time": "2022-05-15T05:15:01.749Z"
   },
   {
    "duration": 61,
    "start_time": "2022-05-15T05:15:02.192Z"
   },
   {
    "duration": 17,
    "start_time": "2022-05-15T05:15:02.262Z"
   },
   {
    "duration": 19,
    "start_time": "2022-05-15T05:15:02.281Z"
   },
   {
    "duration": 15,
    "start_time": "2022-05-15T05:15:02.302Z"
   },
   {
    "duration": 19,
    "start_time": "2022-05-15T05:15:02.319Z"
   },
   {
    "duration": 10,
    "start_time": "2022-05-15T05:15:02.339Z"
   },
   {
    "duration": 22,
    "start_time": "2022-05-15T05:15:02.350Z"
   },
   {
    "duration": 3,
    "start_time": "2022-05-15T05:15:02.373Z"
   },
   {
    "duration": 7,
    "start_time": "2022-05-15T05:15:02.377Z"
   },
   {
    "duration": 35,
    "start_time": "2022-05-15T05:15:02.385Z"
   },
   {
    "duration": 30,
    "start_time": "2022-05-15T05:15:02.421Z"
   },
   {
    "duration": 4,
    "start_time": "2022-05-15T05:15:02.452Z"
   },
   {
    "duration": 15,
    "start_time": "2022-05-15T05:15:02.459Z"
   },
   {
    "duration": 12,
    "start_time": "2022-05-15T05:15:02.475Z"
   },
   {
    "duration": 11,
    "start_time": "2022-05-15T05:15:02.488Z"
   },
   {
    "duration": 7,
    "start_time": "2022-05-15T05:15:02.501Z"
   },
   {
    "duration": 21,
    "start_time": "2022-05-15T05:15:02.510Z"
   },
   {
    "duration": 27,
    "start_time": "2022-05-15T05:15:02.533Z"
   },
   {
    "duration": 8,
    "start_time": "2022-05-15T05:15:02.562Z"
   },
   {
    "duration": 6,
    "start_time": "2022-05-15T05:15:02.572Z"
   },
   {
    "duration": 5,
    "start_time": "2022-05-15T05:15:02.580Z"
   },
   {
    "duration": 8,
    "start_time": "2022-05-15T05:15:02.587Z"
   },
   {
    "duration": 11,
    "start_time": "2022-05-15T05:15:02.596Z"
   },
   {
    "duration": 17,
    "start_time": "2022-05-15T05:15:02.608Z"
   },
   {
    "duration": 6,
    "start_time": "2022-05-15T05:15:02.626Z"
   },
   {
    "duration": 33,
    "start_time": "2022-05-15T05:15:02.634Z"
   },
   {
    "duration": 46,
    "start_time": "2022-05-15T05:15:02.669Z"
   },
   {
    "duration": 18,
    "start_time": "2022-05-15T05:15:02.717Z"
   },
   {
    "duration": 35,
    "start_time": "2022-05-15T05:15:02.737Z"
   },
   {
    "duration": 14,
    "start_time": "2022-05-15T05:15:02.774Z"
   },
   {
    "duration": 3,
    "start_time": "2022-05-15T05:15:02.790Z"
   },
   {
    "duration": 17,
    "start_time": "2022-05-15T05:15:02.795Z"
   },
   {
    "duration": 9,
    "start_time": "2022-05-15T05:15:02.813Z"
   },
   {
    "duration": 39,
    "start_time": "2022-05-15T05:15:02.824Z"
   },
   {
    "duration": 14,
    "start_time": "2022-05-15T05:15:02.864Z"
   },
   {
    "duration": 8,
    "start_time": "2022-05-15T05:15:02.880Z"
   },
   {
    "duration": 5,
    "start_time": "2022-05-15T05:15:02.890Z"
   },
   {
    "duration": 8,
    "start_time": "2022-05-15T05:15:02.896Z"
   },
   {
    "duration": 10,
    "start_time": "2022-05-15T05:15:02.906Z"
   },
   {
    "duration": 43,
    "start_time": "2022-05-15T05:15:02.922Z"
   },
   {
    "duration": 7,
    "start_time": "2022-05-15T05:15:02.968Z"
   },
   {
    "duration": 9,
    "start_time": "2022-05-15T05:15:02.976Z"
   },
   {
    "duration": 5,
    "start_time": "2022-05-15T05:15:02.987Z"
   },
   {
    "duration": 7,
    "start_time": "2022-05-15T05:15:02.993Z"
   },
   {
    "duration": 14,
    "start_time": "2022-05-15T05:15:03.001Z"
   },
   {
    "duration": 53,
    "start_time": "2022-05-15T05:15:03.016Z"
   },
   {
    "duration": 4,
    "start_time": "2022-05-15T05:15:03.071Z"
   },
   {
    "duration": 13,
    "start_time": "2022-05-15T05:15:03.077Z"
   },
   {
    "duration": 6,
    "start_time": "2022-05-15T05:15:03.092Z"
   },
   {
    "duration": 7,
    "start_time": "2022-05-15T05:15:03.100Z"
   },
   {
    "duration": 8,
    "start_time": "2022-05-15T05:15:03.109Z"
   },
   {
    "duration": 48,
    "start_time": "2022-05-15T05:15:03.119Z"
   },
   {
    "duration": 13,
    "start_time": "2022-05-15T05:15:03.169Z"
   },
   {
    "duration": 10,
    "start_time": "2022-05-15T05:15:03.184Z"
   },
   {
    "duration": 13,
    "start_time": "2022-05-15T05:15:03.195Z"
   },
   {
    "duration": 19,
    "start_time": "2022-05-15T05:15:03.210Z"
   },
   {
    "duration": 36,
    "start_time": "2022-05-15T05:15:03.231Z"
   },
   {
    "duration": 6,
    "start_time": "2022-05-15T05:15:03.268Z"
   },
   {
    "duration": 9,
    "start_time": "2022-05-15T05:15:03.276Z"
   },
   {
    "duration": 11,
    "start_time": "2022-05-15T05:15:03.286Z"
   },
   {
    "duration": 26,
    "start_time": "2022-05-15T05:15:03.299Z"
   },
   {
    "duration": 48,
    "start_time": "2022-05-15T05:15:03.327Z"
   },
   {
    "duration": 11,
    "start_time": "2022-05-15T05:15:03.377Z"
   },
   {
    "duration": 16,
    "start_time": "2022-05-15T05:15:03.389Z"
   },
   {
    "duration": 23,
    "start_time": "2022-05-15T05:15:03.406Z"
   },
   {
    "duration": 46,
    "start_time": "2022-05-15T05:15:03.431Z"
   },
   {
    "duration": 15,
    "start_time": "2022-05-15T05:15:03.479Z"
   },
   {
    "duration": 7,
    "start_time": "2022-05-15T05:15:03.496Z"
   },
   {
    "duration": 6,
    "start_time": "2022-05-15T05:15:03.505Z"
   },
   {
    "duration": 16,
    "start_time": "2022-05-15T05:15:03.513Z"
   },
   {
    "duration": 10,
    "start_time": "2022-05-15T05:15:03.561Z"
   },
   {
    "duration": 6,
    "start_time": "2022-05-15T05:15:03.573Z"
   },
   {
    "duration": 9,
    "start_time": "2022-05-15T05:15:03.581Z"
   },
   {
    "duration": 8,
    "start_time": "2022-05-15T05:15:03.592Z"
   },
   {
    "duration": 16,
    "start_time": "2022-05-15T05:15:03.602Z"
   },
   {
    "duration": 43,
    "start_time": "2022-05-15T05:15:03.620Z"
   },
   {
    "duration": 7,
    "start_time": "2022-05-15T05:15:03.665Z"
   },
   {
    "duration": 6,
    "start_time": "2022-05-15T05:15:03.673Z"
   },
   {
    "duration": 7,
    "start_time": "2022-05-15T05:15:03.681Z"
   },
   {
    "duration": 13,
    "start_time": "2022-05-15T05:15:03.690Z"
   },
   {
    "duration": 13,
    "start_time": "2022-05-15T05:15:03.705Z"
   },
   {
    "duration": 44,
    "start_time": "2022-05-15T05:15:03.720Z"
   },
   {
    "duration": 7,
    "start_time": "2022-05-15T05:15:03.766Z"
   },
   {
    "duration": 13,
    "start_time": "2022-05-15T05:15:03.774Z"
   },
   {
    "duration": 7,
    "start_time": "2022-05-15T05:15:03.789Z"
   },
   {
    "duration": 13,
    "start_time": "2022-05-15T05:15:03.798Z"
   },
   {
    "duration": 6,
    "start_time": "2022-05-15T05:15:03.813Z"
   },
   {
    "duration": 8,
    "start_time": "2022-05-15T05:15:03.821Z"
   },
   {
    "duration": 36,
    "start_time": "2022-05-15T05:15:03.831Z"
   },
   {
    "duration": 12,
    "start_time": "2022-05-15T05:15:03.869Z"
   },
   {
    "duration": 7,
    "start_time": "2022-05-15T05:15:03.883Z"
   },
   {
    "duration": 7,
    "start_time": "2022-05-15T05:15:03.892Z"
   },
   {
    "duration": 16,
    "start_time": "2022-05-15T05:15:03.900Z"
   },
   {
    "duration": 7,
    "start_time": "2022-05-15T05:15:03.918Z"
   },
   {
    "duration": 35,
    "start_time": "2022-05-15T05:15:03.927Z"
   },
   {
    "duration": 3,
    "start_time": "2022-05-15T05:15:03.964Z"
   },
   {
    "duration": 21,
    "start_time": "2022-05-15T05:15:03.969Z"
   },
   {
    "duration": 6,
    "start_time": "2022-05-15T05:15:03.992Z"
   },
   {
    "duration": 16,
    "start_time": "2022-05-15T05:15:04.000Z"
   },
   {
    "duration": 11,
    "start_time": "2022-05-15T05:15:04.018Z"
   },
   {
    "duration": 6,
    "start_time": "2022-05-15T05:15:04.031Z"
   },
   {
    "duration": 29,
    "start_time": "2022-05-15T05:15:04.038Z"
   },
   {
    "duration": 14,
    "start_time": "2022-05-15T05:15:04.069Z"
   },
   {
    "duration": 30,
    "start_time": "2022-05-15T05:15:04.085Z"
   },
   {
    "duration": 56,
    "start_time": "2022-05-15T05:15:04.117Z"
   },
   {
    "duration": 32,
    "start_time": "2022-05-15T05:15:04.175Z"
   },
   {
    "duration": 60,
    "start_time": "2022-05-15T05:15:04.209Z"
   },
   {
    "duration": 13,
    "start_time": "2022-05-15T05:41:00.346Z"
   },
   {
    "duration": 61,
    "start_time": "2022-05-15T05:43:29.775Z"
   },
   {
    "duration": 27,
    "start_time": "2022-05-15T05:43:32.599Z"
   },
   {
    "duration": 10,
    "start_time": "2022-05-15T06:03:28.716Z"
   },
   {
    "duration": 47,
    "start_time": "2022-05-15T06:52:25.981Z"
   },
   {
    "duration": 6,
    "start_time": "2022-05-15T06:52:33.454Z"
   },
   {
    "duration": 6,
    "start_time": "2022-05-15T06:52:37.043Z"
   },
   {
    "duration": 385,
    "start_time": "2022-05-15T06:55:23.898Z"
   },
   {
    "duration": 57,
    "start_time": "2022-05-15T06:55:24.284Z"
   },
   {
    "duration": 17,
    "start_time": "2022-05-15T06:55:24.343Z"
   },
   {
    "duration": 21,
    "start_time": "2022-05-15T06:55:24.361Z"
   },
   {
    "duration": 16,
    "start_time": "2022-05-15T06:55:24.384Z"
   },
   {
    "duration": 7,
    "start_time": "2022-05-15T06:55:24.401Z"
   },
   {
    "duration": 7,
    "start_time": "2022-05-15T06:55:24.409Z"
   },
   {
    "duration": 13,
    "start_time": "2022-05-15T06:55:24.418Z"
   },
   {
    "duration": 39,
    "start_time": "2022-05-15T06:55:24.432Z"
   },
   {
    "duration": 7,
    "start_time": "2022-05-15T06:55:24.473Z"
   },
   {
    "duration": 9,
    "start_time": "2022-05-15T06:55:24.482Z"
   },
   {
    "duration": 26,
    "start_time": "2022-05-15T06:55:24.492Z"
   },
   {
    "duration": 4,
    "start_time": "2022-05-15T06:55:24.520Z"
   },
   {
    "duration": 46,
    "start_time": "2022-05-15T06:55:24.526Z"
   },
   {
    "duration": 14,
    "start_time": "2022-05-15T06:55:24.574Z"
   },
   {
    "duration": 7,
    "start_time": "2022-05-15T06:55:24.590Z"
   },
   {
    "duration": 6,
    "start_time": "2022-05-15T06:55:24.598Z"
   },
   {
    "duration": 6,
    "start_time": "2022-05-15T06:55:24.606Z"
   },
   {
    "duration": 8,
    "start_time": "2022-05-15T06:55:24.613Z"
   },
   {
    "duration": 5,
    "start_time": "2022-05-15T06:55:24.622Z"
   },
   {
    "duration": 43,
    "start_time": "2022-05-15T06:55:24.628Z"
   },
   {
    "duration": 5,
    "start_time": "2022-05-15T06:55:24.672Z"
   },
   {
    "duration": 8,
    "start_time": "2022-05-15T06:55:24.679Z"
   },
   {
    "duration": 8,
    "start_time": "2022-05-15T06:55:24.688Z"
   },
   {
    "duration": 8,
    "start_time": "2022-05-15T06:55:24.697Z"
   },
   {
    "duration": 5,
    "start_time": "2022-05-15T06:55:24.706Z"
   },
   {
    "duration": 15,
    "start_time": "2022-05-15T06:55:24.712Z"
   },
   {
    "duration": 78,
    "start_time": "2022-05-15T06:55:24.729Z"
   },
   {
    "duration": 16,
    "start_time": "2022-05-15T06:55:24.809Z"
   },
   {
    "duration": 12,
    "start_time": "2022-05-15T06:55:24.827Z"
   },
   {
    "duration": 34,
    "start_time": "2022-05-15T06:55:24.841Z"
   },
   {
    "duration": 4,
    "start_time": "2022-05-15T06:55:24.876Z"
   },
   {
    "duration": 21,
    "start_time": "2022-05-15T06:55:24.881Z"
   },
   {
    "duration": 9,
    "start_time": "2022-05-15T06:55:24.903Z"
   },
   {
    "duration": 4,
    "start_time": "2022-05-15T06:55:24.913Z"
   },
   {
    "duration": 13,
    "start_time": "2022-05-15T06:55:24.919Z"
   },
   {
    "duration": 38,
    "start_time": "2022-05-15T06:55:24.934Z"
   },
   {
    "duration": 5,
    "start_time": "2022-05-15T06:55:24.973Z"
   },
   {
    "duration": 9,
    "start_time": "2022-05-15T06:55:24.980Z"
   },
   {
    "duration": 11,
    "start_time": "2022-05-15T06:55:24.990Z"
   },
   {
    "duration": 6,
    "start_time": "2022-05-15T06:55:25.006Z"
   },
   {
    "duration": 6,
    "start_time": "2022-05-15T06:55:25.014Z"
   },
   {
    "duration": 10,
    "start_time": "2022-05-15T06:55:25.021Z"
   },
   {
    "duration": 4,
    "start_time": "2022-05-15T06:55:25.071Z"
   },
   {
    "duration": 7,
    "start_time": "2022-05-15T06:55:25.077Z"
   },
   {
    "duration": 13,
    "start_time": "2022-05-15T06:55:25.086Z"
   },
   {
    "duration": 11,
    "start_time": "2022-05-15T06:55:25.100Z"
   },
   {
    "duration": 3,
    "start_time": "2022-05-15T06:55:25.113Z"
   },
   {
    "duration": 12,
    "start_time": "2022-05-15T06:55:25.117Z"
   },
   {
    "duration": 43,
    "start_time": "2022-05-15T06:55:25.130Z"
   },
   {
    "duration": 7,
    "start_time": "2022-05-15T06:55:25.174Z"
   },
   {
    "duration": 9,
    "start_time": "2022-05-15T06:55:25.182Z"
   },
   {
    "duration": 7,
    "start_time": "2022-05-15T06:55:25.192Z"
   },
   {
    "duration": 14,
    "start_time": "2022-05-15T06:55:25.200Z"
   },
   {
    "duration": 11,
    "start_time": "2022-05-15T06:55:25.216Z"
   },
   {
    "duration": 44,
    "start_time": "2022-05-15T06:55:25.228Z"
   },
   {
    "duration": 16,
    "start_time": "2022-05-15T06:55:25.273Z"
   },
   {
    "duration": 17,
    "start_time": "2022-05-15T06:55:25.290Z"
   },
   {
    "duration": 5,
    "start_time": "2022-05-15T06:55:25.308Z"
   },
   {
    "duration": 8,
    "start_time": "2022-05-15T06:55:25.314Z"
   },
   {
    "duration": 10,
    "start_time": "2022-05-15T06:55:25.324Z"
   },
   {
    "duration": 58,
    "start_time": "2022-05-15T06:55:25.335Z"
   },
   {
    "duration": 16,
    "start_time": "2022-05-15T06:55:25.394Z"
   },
   {
    "duration": 10,
    "start_time": "2022-05-15T06:55:25.411Z"
   },
   {
    "duration": 16,
    "start_time": "2022-05-15T06:55:25.422Z"
   },
   {
    "duration": 51,
    "start_time": "2022-05-15T06:55:25.439Z"
   },
   {
    "duration": 16,
    "start_time": "2022-05-15T06:55:25.491Z"
   },
   {
    "duration": 14,
    "start_time": "2022-05-15T06:55:25.508Z"
   },
   {
    "duration": 6,
    "start_time": "2022-05-15T06:55:25.524Z"
   },
   {
    "duration": 12,
    "start_time": "2022-05-15T06:55:25.531Z"
   },
   {
    "duration": 39,
    "start_time": "2022-05-15T06:55:25.544Z"
   },
   {
    "duration": 7,
    "start_time": "2022-05-15T06:55:25.584Z"
   },
   {
    "duration": 9,
    "start_time": "2022-05-15T06:55:25.592Z"
   },
   {
    "duration": 11,
    "start_time": "2022-05-15T06:55:25.602Z"
   },
   {
    "duration": 5,
    "start_time": "2022-05-15T06:55:25.615Z"
   },
   {
    "duration": 14,
    "start_time": "2022-05-15T06:55:25.621Z"
   },
   {
    "duration": 10,
    "start_time": "2022-05-15T06:55:25.637Z"
   },
   {
    "duration": 7,
    "start_time": "2022-05-15T06:55:25.671Z"
   },
   {
    "duration": 8,
    "start_time": "2022-05-15T06:55:25.679Z"
   },
   {
    "duration": 9,
    "start_time": "2022-05-15T06:55:25.688Z"
   },
   {
    "duration": 15,
    "start_time": "2022-05-15T06:55:25.698Z"
   },
   {
    "duration": 14,
    "start_time": "2022-05-15T06:55:25.714Z"
   },
   {
    "duration": 11,
    "start_time": "2022-05-15T06:55:25.729Z"
   },
   {
    "duration": 6,
    "start_time": "2022-05-15T06:55:25.772Z"
   },
   {
    "duration": 13,
    "start_time": "2022-05-15T06:55:25.780Z"
   },
   {
    "duration": 6,
    "start_time": "2022-05-15T06:55:25.795Z"
   },
   {
    "duration": 12,
    "start_time": "2022-05-15T06:55:25.803Z"
   },
   {
    "duration": 5,
    "start_time": "2022-05-15T06:55:25.816Z"
   },
   {
    "duration": 4,
    "start_time": "2022-05-15T06:55:25.823Z"
   },
   {
    "duration": 10,
    "start_time": "2022-05-15T06:55:25.829Z"
   },
   {
    "duration": 37,
    "start_time": "2022-05-15T06:55:25.840Z"
   },
   {
    "duration": 6,
    "start_time": "2022-05-15T06:55:25.879Z"
   },
   {
    "duration": 6,
    "start_time": "2022-05-15T06:55:25.887Z"
   },
   {
    "duration": 15,
    "start_time": "2022-05-15T06:55:25.894Z"
   },
   {
    "duration": 8,
    "start_time": "2022-05-15T06:55:25.910Z"
   },
   {
    "duration": 4,
    "start_time": "2022-05-15T06:55:25.919Z"
   },
   {
    "duration": 5,
    "start_time": "2022-05-15T06:55:25.924Z"
   },
   {
    "duration": 44,
    "start_time": "2022-05-15T06:55:25.930Z"
   },
   {
    "duration": 7,
    "start_time": "2022-05-15T06:55:25.975Z"
   },
   {
    "duration": 17,
    "start_time": "2022-05-15T06:55:25.984Z"
   },
   {
    "duration": 11,
    "start_time": "2022-05-15T06:55:26.003Z"
   },
   {
    "duration": 5,
    "start_time": "2022-05-15T06:55:26.016Z"
   },
   {
    "duration": 7,
    "start_time": "2022-05-15T06:55:26.023Z"
   },
   {
    "duration": 43,
    "start_time": "2022-05-15T06:55:26.031Z"
   },
   {
    "duration": 32,
    "start_time": "2022-05-15T06:55:26.076Z"
   },
   {
    "duration": 30,
    "start_time": "2022-05-15T06:55:26.109Z"
   },
   {
    "duration": 56,
    "start_time": "2022-05-15T06:55:26.141Z"
   },
   {
    "duration": 34,
    "start_time": "2022-05-15T06:55:26.199Z"
   },
   {
    "duration": 12,
    "start_time": "2022-05-15T06:55:52.601Z"
   },
   {
    "duration": 18,
    "start_time": "2022-05-15T06:56:28.343Z"
   },
   {
    "duration": 105,
    "start_time": "2022-05-15T06:58:27.709Z"
   },
   {
    "duration": 108,
    "start_time": "2022-05-15T06:58:34.594Z"
   },
   {
    "duration": 2,
    "start_time": "2022-05-15T06:59:17.704Z"
   },
   {
    "duration": 50,
    "start_time": "2022-05-15T06:59:18.193Z"
   },
   {
    "duration": 11,
    "start_time": "2022-05-15T06:59:18.515Z"
   },
   {
    "duration": 13,
    "start_time": "2022-05-15T06:59:18.809Z"
   },
   {
    "duration": 17,
    "start_time": "2022-05-15T06:59:20.169Z"
   },
   {
    "duration": 7,
    "start_time": "2022-05-15T06:59:20.792Z"
   },
   {
    "duration": 7,
    "start_time": "2022-05-15T06:59:21.006Z"
   },
   {
    "duration": 13,
    "start_time": "2022-05-15T06:59:21.402Z"
   },
   {
    "duration": 3,
    "start_time": "2022-05-15T06:59:22.029Z"
   },
   {
    "duration": 4,
    "start_time": "2022-05-15T06:59:22.886Z"
   },
   {
    "duration": 8,
    "start_time": "2022-05-15T06:59:24.756Z"
   },
   {
    "duration": 62,
    "start_time": "2022-05-15T06:59:27.926Z"
   },
   {
    "duration": 5,
    "start_time": "2022-05-15T06:59:28.717Z"
   },
   {
    "duration": 13,
    "start_time": "2022-05-15T06:59:29.851Z"
   },
   {
    "duration": 14,
    "start_time": "2022-05-15T06:59:29.865Z"
   },
   {
    "duration": 6,
    "start_time": "2022-05-15T06:59:30.458Z"
   },
   {
    "duration": 6,
    "start_time": "2022-05-15T06:59:31.165Z"
   },
   {
    "duration": 7,
    "start_time": "2022-05-15T06:59:31.842Z"
   },
   {
    "duration": 9,
    "start_time": "2022-05-15T06:59:32.565Z"
   },
   {
    "duration": 6,
    "start_time": "2022-05-15T06:59:33.605Z"
   },
   {
    "duration": 5,
    "start_time": "2022-05-15T06:59:35.145Z"
   },
   {
    "duration": 5,
    "start_time": "2022-05-15T06:59:35.559Z"
   },
   {
    "duration": 5,
    "start_time": "2022-05-15T06:59:35.785Z"
   },
   {
    "duration": 6,
    "start_time": "2022-05-15T06:59:36.252Z"
   },
   {
    "duration": 8,
    "start_time": "2022-05-15T06:59:36.611Z"
   },
   {
    "duration": 6,
    "start_time": "2022-05-15T06:59:38.552Z"
   },
   {
    "duration": 12,
    "start_time": "2022-05-15T06:59:40.112Z"
   },
   {
    "duration": 53,
    "start_time": "2022-05-15T06:59:43.489Z"
   },
   {
    "duration": 17,
    "start_time": "2022-05-15T06:59:44.649Z"
   },
   {
    "duration": 13,
    "start_time": "2022-05-15T06:59:48.367Z"
   },
   {
    "duration": 17,
    "start_time": "2022-05-15T07:23:54.872Z"
   },
   {
    "duration": 17,
    "start_time": "2022-05-15T07:24:15.308Z"
   },
   {
    "duration": 17,
    "start_time": "2022-05-15T07:24:38.788Z"
   },
   {
    "duration": 17,
    "start_time": "2022-05-15T07:26:06.758Z"
   },
   {
    "duration": 10,
    "start_time": "2022-05-15T07:32:15.978Z"
   },
   {
    "duration": 37,
    "start_time": "2022-05-15T07:32:39.060Z"
   },
   {
    "duration": 36,
    "start_time": "2022-05-15T07:33:15.437Z"
   },
   {
    "duration": 7,
    "start_time": "2022-05-15T07:33:49.782Z"
   },
   {
    "duration": 6,
    "start_time": "2022-05-15T07:34:09.135Z"
   },
   {
    "duration": 104,
    "start_time": "2022-05-15T07:35:23.133Z"
   },
   {
    "duration": 11,
    "start_time": "2022-05-15T07:35:35.467Z"
   },
   {
    "duration": 368,
    "start_time": "2022-05-15T07:38:51.033Z"
   },
   {
    "duration": 66,
    "start_time": "2022-05-15T07:38:51.403Z"
   },
   {
    "duration": 19,
    "start_time": "2022-05-15T07:38:51.471Z"
   },
   {
    "duration": 14,
    "start_time": "2022-05-15T07:38:51.491Z"
   },
   {
    "duration": 17,
    "start_time": "2022-05-15T07:38:51.507Z"
   },
   {
    "duration": 8,
    "start_time": "2022-05-15T07:38:51.525Z"
   },
   {
    "duration": 42,
    "start_time": "2022-05-15T07:38:51.535Z"
   },
   {
    "duration": 14,
    "start_time": "2022-05-15T07:38:51.579Z"
   },
   {
    "duration": 3,
    "start_time": "2022-05-15T07:38:51.595Z"
   },
   {
    "duration": 10,
    "start_time": "2022-05-15T07:38:51.599Z"
   },
   {
    "duration": 17,
    "start_time": "2022-05-15T07:38:51.610Z"
   },
   {
    "duration": 51,
    "start_time": "2022-05-15T07:38:51.628Z"
   },
   {
    "duration": 4,
    "start_time": "2022-05-15T07:38:51.680Z"
   },
   {
    "duration": 15,
    "start_time": "2022-05-15T07:38:51.686Z"
   },
   {
    "duration": 15,
    "start_time": "2022-05-15T07:38:51.702Z"
   },
   {
    "duration": 6,
    "start_time": "2022-05-15T07:38:51.718Z"
   },
   {
    "duration": 5,
    "start_time": "2022-05-15T07:38:51.725Z"
   },
   {
    "duration": 7,
    "start_time": "2022-05-15T07:38:51.732Z"
   },
   {
    "duration": 8,
    "start_time": "2022-05-15T07:38:51.771Z"
   },
   {
    "duration": 8,
    "start_time": "2022-05-15T07:38:51.780Z"
   },
   {
    "duration": 5,
    "start_time": "2022-05-15T07:38:51.790Z"
   },
   {
    "duration": 4,
    "start_time": "2022-05-15T07:38:51.796Z"
   },
   {
    "duration": 5,
    "start_time": "2022-05-15T07:38:51.801Z"
   },
   {
    "duration": 5,
    "start_time": "2022-05-15T07:38:51.807Z"
   },
   {
    "duration": 7,
    "start_time": "2022-05-15T07:38:51.814Z"
   },
   {
    "duration": 5,
    "start_time": "2022-05-15T07:38:51.822Z"
   },
   {
    "duration": 50,
    "start_time": "2022-05-15T07:38:51.828Z"
   },
   {
    "duration": 48,
    "start_time": "2022-05-15T07:38:51.880Z"
   },
   {
    "duration": 47,
    "start_time": "2022-05-15T07:38:51.930Z"
   },
   {
    "duration": 13,
    "start_time": "2022-05-15T07:38:51.979Z"
   },
   {
    "duration": 13,
    "start_time": "2022-05-15T07:38:51.994Z"
   },
   {
    "duration": 4,
    "start_time": "2022-05-15T07:38:52.008Z"
   },
   {
    "duration": 20,
    "start_time": "2022-05-15T07:38:52.013Z"
   },
   {
    "duration": 8,
    "start_time": "2022-05-15T07:38:52.034Z"
   },
   {
    "duration": 4,
    "start_time": "2022-05-15T07:38:52.071Z"
   },
   {
    "duration": 15,
    "start_time": "2022-05-15T07:38:52.077Z"
   },
   {
    "duration": 9,
    "start_time": "2022-05-15T07:38:52.093Z"
   },
   {
    "duration": 5,
    "start_time": "2022-05-15T07:38:52.103Z"
   },
   {
    "duration": 8,
    "start_time": "2022-05-15T07:38:52.109Z"
   },
   {
    "duration": 11,
    "start_time": "2022-05-15T07:38:52.118Z"
   },
   {
    "duration": 6,
    "start_time": "2022-05-15T07:38:52.171Z"
   },
   {
    "duration": 6,
    "start_time": "2022-05-15T07:38:52.179Z"
   },
   {
    "duration": 9,
    "start_time": "2022-05-15T07:38:52.186Z"
   },
   {
    "duration": 4,
    "start_time": "2022-05-15T07:38:52.197Z"
   },
   {
    "duration": 6,
    "start_time": "2022-05-15T07:38:52.203Z"
   },
   {
    "duration": 13,
    "start_time": "2022-05-15T07:38:52.210Z"
   },
   {
    "duration": 52,
    "start_time": "2022-05-15T07:38:52.224Z"
   },
   {
    "duration": 4,
    "start_time": "2022-05-15T07:38:52.277Z"
   },
   {
    "duration": 12,
    "start_time": "2022-05-15T07:38:52.282Z"
   },
   {
    "duration": 6,
    "start_time": "2022-05-15T07:38:52.295Z"
   },
   {
    "duration": 5,
    "start_time": "2022-05-15T07:38:52.302Z"
   },
   {
    "duration": 8,
    "start_time": "2022-05-15T07:38:52.309Z"
   },
   {
    "duration": 6,
    "start_time": "2022-05-15T07:38:52.318Z"
   },
   {
    "duration": 50,
    "start_time": "2022-05-15T07:38:52.326Z"
   },
   {
    "duration": 12,
    "start_time": "2022-05-15T07:38:52.378Z"
   },
   {
    "duration": 7,
    "start_time": "2022-05-15T07:38:52.391Z"
   },
   {
    "duration": 15,
    "start_time": "2022-05-15T07:38:52.399Z"
   },
   {
    "duration": 16,
    "start_time": "2022-05-15T07:38:52.415Z"
   },
   {
    "duration": 38,
    "start_time": "2022-05-15T07:38:52.433Z"
   },
   {
    "duration": 9,
    "start_time": "2022-05-15T07:38:52.473Z"
   },
   {
    "duration": 11,
    "start_time": "2022-05-15T07:38:52.483Z"
   },
   {
    "duration": 28,
    "start_time": "2022-05-15T07:38:52.496Z"
   },
   {
    "duration": 16,
    "start_time": "2022-05-15T07:38:52.526Z"
   },
   {
    "duration": 10,
    "start_time": "2022-05-15T07:38:52.571Z"
   },
   {
    "duration": 20,
    "start_time": "2022-05-15T07:38:52.583Z"
   },
   {
    "duration": 23,
    "start_time": "2022-05-15T07:38:52.605Z"
   },
   {
    "duration": 41,
    "start_time": "2022-05-15T07:38:52.630Z"
   },
   {
    "duration": 15,
    "start_time": "2022-05-15T07:38:52.673Z"
   },
   {
    "duration": 7,
    "start_time": "2022-05-15T07:38:52.690Z"
   },
   {
    "duration": 5,
    "start_time": "2022-05-15T07:38:52.699Z"
   },
   {
    "duration": 16,
    "start_time": "2022-05-15T07:38:52.706Z"
   },
   {
    "duration": 8,
    "start_time": "2022-05-15T07:38:52.723Z"
   },
   {
    "duration": 39,
    "start_time": "2022-05-15T07:38:52.733Z"
   },
   {
    "duration": 9,
    "start_time": "2022-05-15T07:38:52.773Z"
   },
   {
    "duration": 6,
    "start_time": "2022-05-15T07:38:52.784Z"
   },
   {
    "duration": 11,
    "start_time": "2022-05-15T07:38:52.791Z"
   },
   {
    "duration": 9,
    "start_time": "2022-05-15T07:38:52.804Z"
   },
   {
    "duration": 10,
    "start_time": "2022-05-15T07:38:52.814Z"
   },
   {
    "duration": 7,
    "start_time": "2022-05-15T07:38:52.826Z"
   },
   {
    "duration": 5,
    "start_time": "2022-05-15T07:38:52.871Z"
   },
   {
    "duration": 8,
    "start_time": "2022-05-15T07:38:52.877Z"
   },
   {
    "duration": 14,
    "start_time": "2022-05-15T07:38:52.886Z"
   },
   {
    "duration": 12,
    "start_time": "2022-05-15T07:38:52.902Z"
   },
   {
    "duration": 11,
    "start_time": "2022-05-15T07:38:52.915Z"
   },
   {
    "duration": 6,
    "start_time": "2022-05-15T07:38:52.927Z"
   },
   {
    "duration": 42,
    "start_time": "2022-05-15T07:38:52.934Z"
   },
   {
    "duration": 7,
    "start_time": "2022-05-15T07:38:52.978Z"
   },
   {
    "duration": 11,
    "start_time": "2022-05-15T07:38:52.987Z"
   },
   {
    "duration": 4,
    "start_time": "2022-05-15T07:38:52.999Z"
   },
   {
    "duration": 6,
    "start_time": "2022-05-15T07:38:53.004Z"
   },
   {
    "duration": 10,
    "start_time": "2022-05-15T07:38:53.012Z"
   },
   {
    "duration": 12,
    "start_time": "2022-05-15T07:38:53.023Z"
   },
   {
    "duration": 37,
    "start_time": "2022-05-15T07:38:53.036Z"
   },
   {
    "duration": 9,
    "start_time": "2022-05-15T07:38:53.074Z"
   },
   {
    "duration": 13,
    "start_time": "2022-05-15T07:38:53.085Z"
   },
   {
    "duration": 7,
    "start_time": "2022-05-15T07:38:53.100Z"
   },
   {
    "duration": 3,
    "start_time": "2022-05-15T07:38:53.108Z"
   },
   {
    "duration": 5,
    "start_time": "2022-05-15T07:38:53.112Z"
   },
   {
    "duration": 15,
    "start_time": "2022-05-15T07:38:53.119Z"
   },
   {
    "duration": 7,
    "start_time": "2022-05-15T07:38:53.136Z"
   },
   {
    "duration": 38,
    "start_time": "2022-05-15T07:38:53.144Z"
   },
   {
    "duration": 11,
    "start_time": "2022-05-15T07:38:53.184Z"
   },
   {
    "duration": 8,
    "start_time": "2022-05-15T07:38:53.197Z"
   },
   {
    "duration": 6,
    "start_time": "2022-05-15T07:38:53.207Z"
   },
   {
    "duration": 15,
    "start_time": "2022-05-15T07:38:53.214Z"
   },
   {
    "duration": 64,
    "start_time": "2022-05-15T07:38:53.231Z"
   },
   {
    "duration": 34,
    "start_time": "2022-05-15T07:38:53.297Z"
   },
   {
    "duration": 55,
    "start_time": "2022-05-15T07:38:53.333Z"
   },
   {
    "duration": 33,
    "start_time": "2022-05-15T07:38:53.390Z"
   },
   {
    "duration": 8,
    "start_time": "2022-05-15T07:40:30.759Z"
   },
   {
    "duration": 12,
    "start_time": "2022-05-15T07:40:41.036Z"
   },
   {
    "duration": 11,
    "start_time": "2022-05-15T07:52:41.298Z"
   },
   {
    "duration": 5,
    "start_time": "2022-05-15T07:54:58.540Z"
   },
   {
    "duration": 12,
    "start_time": "2022-05-15T07:55:01.959Z"
   },
   {
    "duration": 7,
    "start_time": "2022-05-15T07:56:25.657Z"
   },
   {
    "duration": 108,
    "start_time": "2022-05-15T07:56:27.828Z"
   },
   {
    "duration": 9,
    "start_time": "2022-05-15T07:56:38.327Z"
   },
   {
    "duration": 11,
    "start_time": "2022-05-15T07:56:48.300Z"
   },
   {
    "duration": 391,
    "start_time": "2022-05-15T07:57:24.813Z"
   },
   {
    "duration": 64,
    "start_time": "2022-05-15T07:57:25.207Z"
   },
   {
    "duration": 18,
    "start_time": "2022-05-15T07:57:25.274Z"
   },
   {
    "duration": 15,
    "start_time": "2022-05-15T07:57:25.294Z"
   },
   {
    "duration": 17,
    "start_time": "2022-05-15T07:57:25.310Z"
   },
   {
    "duration": 7,
    "start_time": "2022-05-15T07:57:25.328Z"
   },
   {
    "duration": 40,
    "start_time": "2022-05-15T07:57:25.337Z"
   },
   {
    "duration": 13,
    "start_time": "2022-05-15T07:57:25.378Z"
   },
   {
    "duration": 3,
    "start_time": "2022-05-15T07:57:25.393Z"
   },
   {
    "duration": 4,
    "start_time": "2022-05-15T07:57:25.401Z"
   },
   {
    "duration": 10,
    "start_time": "2022-05-15T07:57:25.407Z"
   },
   {
    "duration": 71,
    "start_time": "2022-05-15T07:57:25.419Z"
   },
   {
    "duration": 6,
    "start_time": "2022-05-15T07:57:25.492Z"
   },
   {
    "duration": 14,
    "start_time": "2022-05-15T07:57:25.500Z"
   },
   {
    "duration": 15,
    "start_time": "2022-05-15T07:57:25.516Z"
   },
   {
    "duration": 7,
    "start_time": "2022-05-15T07:57:25.532Z"
   },
   {
    "duration": 6,
    "start_time": "2022-05-15T07:57:25.571Z"
   },
   {
    "duration": 7,
    "start_time": "2022-05-15T07:57:25.578Z"
   },
   {
    "duration": 9,
    "start_time": "2022-05-15T07:57:25.586Z"
   },
   {
    "duration": 5,
    "start_time": "2022-05-15T07:57:25.596Z"
   },
   {
    "duration": 5,
    "start_time": "2022-05-15T07:57:25.603Z"
   },
   {
    "duration": 8,
    "start_time": "2022-05-15T07:57:25.610Z"
   },
   {
    "duration": 6,
    "start_time": "2022-05-15T07:57:25.620Z"
   },
   {
    "duration": 48,
    "start_time": "2022-05-15T07:57:25.627Z"
   },
   {
    "duration": 8,
    "start_time": "2022-05-15T07:57:25.677Z"
   },
   {
    "duration": 6,
    "start_time": "2022-05-15T07:57:25.686Z"
   },
   {
    "duration": 13,
    "start_time": "2022-05-15T07:57:25.693Z"
   },
   {
    "duration": 76,
    "start_time": "2022-05-15T07:57:25.710Z"
   },
   {
    "duration": 18,
    "start_time": "2022-05-15T07:57:25.788Z"
   },
   {
    "duration": 12,
    "start_time": "2022-05-15T07:57:25.808Z"
   },
   {
    "duration": 13,
    "start_time": "2022-05-15T07:57:25.821Z"
   },
   {
    "duration": 4,
    "start_time": "2022-05-15T07:57:25.835Z"
   },
   {
    "duration": 43,
    "start_time": "2022-05-15T07:57:25.841Z"
   },
   {
    "duration": 8,
    "start_time": "2022-05-15T07:57:25.886Z"
   },
   {
    "duration": 5,
    "start_time": "2022-05-15T07:57:25.895Z"
   },
   {
    "duration": 13,
    "start_time": "2022-05-15T07:57:25.902Z"
   },
   {
    "duration": 8,
    "start_time": "2022-05-15T07:57:25.916Z"
   },
   {
    "duration": 5,
    "start_time": "2022-05-15T07:57:25.926Z"
   },
   {
    "duration": 42,
    "start_time": "2022-05-15T07:57:25.932Z"
   },
   {
    "duration": 10,
    "start_time": "2022-05-15T07:57:25.976Z"
   },
   {
    "duration": 6,
    "start_time": "2022-05-15T07:57:25.988Z"
   },
   {
    "duration": 5,
    "start_time": "2022-05-15T07:57:25.996Z"
   },
   {
    "duration": 9,
    "start_time": "2022-05-15T07:57:26.002Z"
   },
   {
    "duration": 4,
    "start_time": "2022-05-15T07:57:26.012Z"
   },
   {
    "duration": 6,
    "start_time": "2022-05-15T07:57:26.017Z"
   },
   {
    "duration": 51,
    "start_time": "2022-05-15T07:57:26.025Z"
   },
   {
    "duration": 11,
    "start_time": "2022-05-15T07:57:26.077Z"
   },
   {
    "duration": 3,
    "start_time": "2022-05-15T07:57:26.090Z"
   },
   {
    "duration": 13,
    "start_time": "2022-05-15T07:57:26.094Z"
   },
   {
    "duration": 6,
    "start_time": "2022-05-15T07:57:26.109Z"
   },
   {
    "duration": 7,
    "start_time": "2022-05-15T07:57:26.116Z"
   },
   {
    "duration": 49,
    "start_time": "2022-05-15T07:57:26.124Z"
   },
   {
    "duration": 6,
    "start_time": "2022-05-15T07:57:26.175Z"
   },
   {
    "duration": 13,
    "start_time": "2022-05-15T07:57:26.182Z"
   },
   {
    "duration": 11,
    "start_time": "2022-05-15T07:57:26.197Z"
   },
   {
    "duration": 6,
    "start_time": "2022-05-15T07:57:26.209Z"
   },
   {
    "duration": 14,
    "start_time": "2022-05-15T07:57:26.217Z"
   },
   {
    "duration": 48,
    "start_time": "2022-05-15T07:57:26.233Z"
   },
   {
    "duration": 4,
    "start_time": "2022-05-15T07:57:26.283Z"
   },
   {
    "duration": 7,
    "start_time": "2022-05-15T07:57:26.288Z"
   },
   {
    "duration": 10,
    "start_time": "2022-05-15T07:57:26.297Z"
   },
   {
    "duration": 28,
    "start_time": "2022-05-15T07:57:26.308Z"
   },
   {
    "duration": 44,
    "start_time": "2022-05-15T07:57:26.338Z"
   },
   {
    "duration": 10,
    "start_time": "2022-05-15T07:57:26.384Z"
   },
   {
    "duration": 15,
    "start_time": "2022-05-15T07:57:26.396Z"
   },
   {
    "duration": 24,
    "start_time": "2022-05-15T07:57:26.413Z"
   },
   {
    "duration": 46,
    "start_time": "2022-05-15T07:57:26.439Z"
   },
   {
    "duration": 16,
    "start_time": "2022-05-15T07:57:26.486Z"
   },
   {
    "duration": 6,
    "start_time": "2022-05-15T07:57:26.504Z"
   },
   {
    "duration": 6,
    "start_time": "2022-05-15T07:57:26.512Z"
   },
   {
    "duration": 15,
    "start_time": "2022-05-15T07:57:26.520Z"
   },
   {
    "duration": 8,
    "start_time": "2022-05-15T07:57:26.570Z"
   },
   {
    "duration": 5,
    "start_time": "2022-05-15T07:57:26.580Z"
   },
   {
    "duration": 8,
    "start_time": "2022-05-15T07:57:26.587Z"
   },
   {
    "duration": 7,
    "start_time": "2022-05-15T07:57:26.596Z"
   },
   {
    "duration": 12,
    "start_time": "2022-05-15T07:57:26.604Z"
   },
   {
    "duration": 9,
    "start_time": "2022-05-15T07:57:26.618Z"
   },
   {
    "duration": 49,
    "start_time": "2022-05-15T07:57:26.628Z"
   },
   {
    "duration": 11,
    "start_time": "2022-05-15T07:57:26.679Z"
   },
   {
    "duration": 9,
    "start_time": "2022-05-15T07:57:26.691Z"
   },
   {
    "duration": 9,
    "start_time": "2022-05-15T07:57:26.702Z"
   },
   {
    "duration": 7,
    "start_time": "2022-05-15T07:57:26.716Z"
   },
   {
    "duration": 13,
    "start_time": "2022-05-15T07:57:26.724Z"
   },
   {
    "duration": 41,
    "start_time": "2022-05-15T07:57:26.739Z"
   },
   {
    "duration": 10,
    "start_time": "2022-05-15T07:57:26.782Z"
   },
   {
    "duration": 6,
    "start_time": "2022-05-15T07:57:26.793Z"
   },
   {
    "duration": 14,
    "start_time": "2022-05-15T07:57:26.800Z"
   },
   {
    "duration": 7,
    "start_time": "2022-05-15T07:57:26.815Z"
   },
   {
    "duration": 11,
    "start_time": "2022-05-15T07:57:26.823Z"
   },
   {
    "duration": 5,
    "start_time": "2022-05-15T07:57:26.836Z"
   },
   {
    "duration": 31,
    "start_time": "2022-05-15T07:57:26.842Z"
   },
   {
    "duration": 10,
    "start_time": "2022-05-15T07:57:26.875Z"
   },
   {
    "duration": 14,
    "start_time": "2022-05-15T07:57:26.887Z"
   },
   {
    "duration": 12,
    "start_time": "2022-05-15T07:57:26.902Z"
   },
   {
    "duration": 6,
    "start_time": "2022-05-15T07:57:26.915Z"
   },
   {
    "duration": 15,
    "start_time": "2022-05-15T07:57:26.923Z"
   },
   {
    "duration": 7,
    "start_time": "2022-05-15T07:57:26.939Z"
   },
   {
    "duration": 25,
    "start_time": "2022-05-15T07:57:26.947Z"
   },
   {
    "duration": 5,
    "start_time": "2022-05-15T07:57:26.973Z"
   },
   {
    "duration": 16,
    "start_time": "2022-05-15T07:57:26.979Z"
   },
   {
    "duration": 7,
    "start_time": "2022-05-15T07:57:26.996Z"
   },
   {
    "duration": 17,
    "start_time": "2022-05-15T07:57:27.005Z"
   },
   {
    "duration": 14,
    "start_time": "2022-05-15T07:57:27.023Z"
   },
   {
    "duration": 5,
    "start_time": "2022-05-15T07:57:27.039Z"
   },
   {
    "duration": 7,
    "start_time": "2022-05-15T07:57:27.071Z"
   },
   {
    "duration": 14,
    "start_time": "2022-05-15T07:57:27.080Z"
   },
   {
    "duration": 30,
    "start_time": "2022-05-15T07:57:27.096Z"
   },
   {
    "duration": 61,
    "start_time": "2022-05-15T07:57:27.128Z"
   },
   {
    "duration": 33,
    "start_time": "2022-05-15T07:57:27.190Z"
   },
   {
    "duration": 53,
    "start_time": "2022-05-15T07:57:27.225Z"
   },
   {
    "duration": 13,
    "start_time": "2022-05-15T08:01:12.987Z"
   },
   {
    "duration": 6,
    "start_time": "2022-05-15T08:10:33.682Z"
   },
   {
    "duration": 5,
    "start_time": "2022-05-15T08:10:56.735Z"
   },
   {
    "duration": 10,
    "start_time": "2022-05-15T08:10:59.022Z"
   },
   {
    "duration": 14,
    "start_time": "2022-05-15T08:14:29.793Z"
   },
   {
    "duration": 9,
    "start_time": "2022-05-15T08:14:44.412Z"
   },
   {
    "duration": 15,
    "start_time": "2022-05-15T08:14:51.896Z"
   },
   {
    "duration": 11,
    "start_time": "2022-05-15T08:14:53.806Z"
   },
   {
    "duration": 65,
    "start_time": "2022-05-15T08:16:52.781Z"
   },
   {
    "duration": 5,
    "start_time": "2022-05-15T08:18:02.050Z"
   },
   {
    "duration": 49,
    "start_time": "2022-05-15T08:18:15.102Z"
   },
   {
    "duration": 11,
    "start_time": "2022-05-15T08:18:15.364Z"
   },
   {
    "duration": 14,
    "start_time": "2022-05-15T08:18:15.575Z"
   },
   {
    "duration": 16,
    "start_time": "2022-05-15T08:18:16.470Z"
   },
   {
    "duration": 7,
    "start_time": "2022-05-15T08:18:17.392Z"
   },
   {
    "duration": 8,
    "start_time": "2022-05-15T08:18:18.230Z"
   },
   {
    "duration": 13,
    "start_time": "2022-05-15T08:18:18.773Z"
   },
   {
    "duration": 3,
    "start_time": "2022-05-15T08:18:21.486Z"
   },
   {
    "duration": 13,
    "start_time": "2022-05-15T08:19:57.846Z"
   },
   {
    "duration": 13,
    "start_time": "2022-05-15T08:20:05.664Z"
   },
   {
    "duration": 375,
    "start_time": "2022-05-15T08:23:30.206Z"
   },
   {
    "duration": 54,
    "start_time": "2022-05-15T08:23:30.583Z"
   },
   {
    "duration": 33,
    "start_time": "2022-05-15T08:23:30.639Z"
   },
   {
    "duration": 15,
    "start_time": "2022-05-15T08:23:30.674Z"
   },
   {
    "duration": 18,
    "start_time": "2022-05-15T08:23:30.690Z"
   },
   {
    "duration": 7,
    "start_time": "2022-05-15T08:23:30.710Z"
   },
   {
    "duration": 18,
    "start_time": "2022-05-15T08:23:30.718Z"
   },
   {
    "duration": 35,
    "start_time": "2022-05-15T08:23:30.737Z"
   },
   {
    "duration": 13,
    "start_time": "2022-05-15T08:23:30.774Z"
   },
   {
    "duration": 4,
    "start_time": "2022-05-15T08:23:30.791Z"
   },
   {
    "duration": 17,
    "start_time": "2022-05-15T08:23:30.796Z"
   },
   {
    "duration": 30,
    "start_time": "2022-05-15T08:23:30.815Z"
   },
   {
    "duration": 4,
    "start_time": "2022-05-15T08:23:30.846Z"
   },
   {
    "duration": 28,
    "start_time": "2022-05-15T08:23:30.852Z"
   },
   {
    "duration": 32,
    "start_time": "2022-05-15T08:23:30.881Z"
   },
   {
    "duration": 29,
    "start_time": "2022-05-15T08:23:30.914Z"
   },
   {
    "duration": 22,
    "start_time": "2022-05-15T08:23:30.944Z"
   },
   {
    "duration": 23,
    "start_time": "2022-05-15T08:23:30.968Z"
   },
   {
    "duration": 19,
    "start_time": "2022-05-15T08:23:30.993Z"
   },
   {
    "duration": 20,
    "start_time": "2022-05-15T08:23:31.013Z"
   },
   {
    "duration": 7,
    "start_time": "2022-05-15T08:23:31.035Z"
   },
   {
    "duration": 9,
    "start_time": "2022-05-15T08:23:31.044Z"
   },
   {
    "duration": 18,
    "start_time": "2022-05-15T08:23:31.055Z"
   },
   {
    "duration": 16,
    "start_time": "2022-05-15T08:23:31.075Z"
   },
   {
    "duration": 17,
    "start_time": "2022-05-15T08:23:31.093Z"
   },
   {
    "duration": 6,
    "start_time": "2022-05-15T08:23:31.111Z"
   },
   {
    "duration": 16,
    "start_time": "2022-05-15T08:23:31.119Z"
   },
   {
    "duration": 54,
    "start_time": "2022-05-15T08:23:31.140Z"
   },
   {
    "duration": 18,
    "start_time": "2022-05-15T08:23:31.196Z"
   },
   {
    "duration": 13,
    "start_time": "2022-05-15T08:23:31.215Z"
   },
   {
    "duration": 12,
    "start_time": "2022-05-15T08:23:31.230Z"
   },
   {
    "duration": 27,
    "start_time": "2022-05-15T08:23:31.244Z"
   },
   {
    "duration": 18,
    "start_time": "2022-05-15T08:23:31.273Z"
   },
   {
    "duration": 8,
    "start_time": "2022-05-15T08:23:31.293Z"
   },
   {
    "duration": 9,
    "start_time": "2022-05-15T08:23:31.302Z"
   },
   {
    "duration": 24,
    "start_time": "2022-05-15T08:23:31.312Z"
   },
   {
    "duration": 9,
    "start_time": "2022-05-15T08:23:31.337Z"
   },
   {
    "duration": 25,
    "start_time": "2022-05-15T08:23:31.348Z"
   },
   {
    "duration": 7,
    "start_time": "2022-05-15T08:23:31.374Z"
   },
   {
    "duration": 26,
    "start_time": "2022-05-15T08:23:31.383Z"
   },
   {
    "duration": 12,
    "start_time": "2022-05-15T08:23:31.411Z"
   },
   {
    "duration": 6,
    "start_time": "2022-05-15T08:23:31.424Z"
   },
   {
    "duration": 8,
    "start_time": "2022-05-15T08:23:31.432Z"
   },
   {
    "duration": 16,
    "start_time": "2022-05-15T08:23:31.441Z"
   },
   {
    "duration": 12,
    "start_time": "2022-05-15T08:23:31.458Z"
   },
   {
    "duration": 13,
    "start_time": "2022-05-15T08:23:31.472Z"
   },
   {
    "duration": 11,
    "start_time": "2022-05-15T08:23:31.486Z"
   },
   {
    "duration": 4,
    "start_time": "2022-05-15T08:23:31.498Z"
   },
   {
    "duration": 13,
    "start_time": "2022-05-15T08:23:31.503Z"
   },
   {
    "duration": 6,
    "start_time": "2022-05-15T08:23:31.517Z"
   },
   {
    "duration": 6,
    "start_time": "2022-05-15T08:23:31.524Z"
   },
   {
    "duration": 43,
    "start_time": "2022-05-15T08:23:31.532Z"
   },
   {
    "duration": 6,
    "start_time": "2022-05-15T08:23:31.577Z"
   },
   {
    "duration": 14,
    "start_time": "2022-05-15T08:23:31.585Z"
   },
   {
    "duration": 11,
    "start_time": "2022-05-15T08:23:31.600Z"
   },
   {
    "duration": 7,
    "start_time": "2022-05-15T08:23:31.612Z"
   },
   {
    "duration": 17,
    "start_time": "2022-05-15T08:23:31.621Z"
   },
   {
    "duration": 17,
    "start_time": "2022-05-15T08:23:31.670Z"
   },
   {
    "duration": 5,
    "start_time": "2022-05-15T08:23:31.688Z"
   },
   {
    "duration": 9,
    "start_time": "2022-05-15T08:23:31.694Z"
   },
   {
    "duration": 10,
    "start_time": "2022-05-15T08:23:31.704Z"
   },
   {
    "duration": 27,
    "start_time": "2022-05-15T08:23:31.716Z"
   },
   {
    "duration": 16,
    "start_time": "2022-05-15T08:23:31.770Z"
   },
   {
    "duration": 10,
    "start_time": "2022-05-15T08:23:31.787Z"
   },
   {
    "duration": 15,
    "start_time": "2022-05-15T08:23:31.798Z"
   },
   {
    "duration": 22,
    "start_time": "2022-05-15T08:23:31.814Z"
   },
   {
    "duration": 43,
    "start_time": "2022-05-15T08:23:31.838Z"
   },
   {
    "duration": 14,
    "start_time": "2022-05-15T08:23:31.883Z"
   },
   {
    "duration": 6,
    "start_time": "2022-05-15T08:23:31.899Z"
   },
   {
    "duration": 7,
    "start_time": "2022-05-15T08:23:31.906Z"
   },
   {
    "duration": 17,
    "start_time": "2022-05-15T08:23:31.915Z"
   },
   {
    "duration": 7,
    "start_time": "2022-05-15T08:23:31.933Z"
   },
   {
    "duration": 33,
    "start_time": "2022-05-15T08:23:31.941Z"
   },
   {
    "duration": 12,
    "start_time": "2022-05-15T08:23:31.976Z"
   },
   {
    "duration": 7,
    "start_time": "2022-05-15T08:23:31.990Z"
   },
   {
    "duration": 12,
    "start_time": "2022-05-15T08:23:31.999Z"
   },
   {
    "duration": 10,
    "start_time": "2022-05-15T08:23:32.013Z"
   },
   {
    "duration": 10,
    "start_time": "2022-05-15T08:23:32.025Z"
   },
   {
    "duration": 36,
    "start_time": "2022-05-15T08:23:32.037Z"
   },
   {
    "duration": 11,
    "start_time": "2022-05-15T08:23:32.074Z"
   },
   {
    "duration": 7,
    "start_time": "2022-05-15T08:23:32.086Z"
   },
   {
    "duration": 7,
    "start_time": "2022-05-15T08:23:32.098Z"
   },
   {
    "duration": 11,
    "start_time": "2022-05-15T08:23:32.107Z"
   },
   {
    "duration": 14,
    "start_time": "2022-05-15T08:23:32.119Z"
   },
   {
    "duration": 39,
    "start_time": "2022-05-15T08:23:32.135Z"
   },
   {
    "duration": 6,
    "start_time": "2022-05-15T08:23:32.176Z"
   },
   {
    "duration": 22,
    "start_time": "2022-05-15T08:23:32.183Z"
   },
   {
    "duration": 8,
    "start_time": "2022-05-15T08:23:32.207Z"
   },
   {
    "duration": 13,
    "start_time": "2022-05-15T08:23:32.217Z"
   },
   {
    "duration": 6,
    "start_time": "2022-05-15T08:23:32.231Z"
   },
   {
    "duration": 8,
    "start_time": "2022-05-15T08:23:32.238Z"
   },
   {
    "duration": 27,
    "start_time": "2022-05-15T08:23:32.248Z"
   },
   {
    "duration": 12,
    "start_time": "2022-05-15T08:23:32.276Z"
   },
   {
    "duration": 6,
    "start_time": "2022-05-15T08:23:32.290Z"
   },
   {
    "duration": 6,
    "start_time": "2022-05-15T08:23:32.297Z"
   },
   {
    "duration": 14,
    "start_time": "2022-05-15T08:23:32.304Z"
   },
   {
    "duration": 8,
    "start_time": "2022-05-15T08:23:32.319Z"
   },
   {
    "duration": 3,
    "start_time": "2022-05-15T08:23:32.328Z"
   },
   {
    "duration": 5,
    "start_time": "2022-05-15T08:23:32.332Z"
   },
   {
    "duration": 42,
    "start_time": "2022-05-15T08:23:32.338Z"
   },
   {
    "duration": 6,
    "start_time": "2022-05-15T08:23:32.382Z"
   },
   {
    "duration": 18,
    "start_time": "2022-05-15T08:23:32.390Z"
   },
   {
    "duration": 11,
    "start_time": "2022-05-15T08:23:32.410Z"
   },
   {
    "duration": 10,
    "start_time": "2022-05-15T08:23:32.422Z"
   },
   {
    "duration": 15,
    "start_time": "2022-05-15T08:23:32.434Z"
   },
   {
    "duration": 32,
    "start_time": "2022-05-15T08:23:32.450Z"
   },
   {
    "duration": 32,
    "start_time": "2022-05-15T08:23:32.483Z"
   },
   {
    "duration": 32,
    "start_time": "2022-05-15T08:23:32.516Z"
   },
   {
    "duration": 35,
    "start_time": "2022-05-15T08:23:32.571Z"
   },
   {
    "duration": 34,
    "start_time": "2022-05-15T08:23:32.607Z"
   },
   {
    "duration": 365,
    "start_time": "2022-05-15T09:47:17.821Z"
   },
   {
    "duration": 53,
    "start_time": "2022-05-15T09:47:18.187Z"
   },
   {
    "duration": 18,
    "start_time": "2022-05-15T09:47:18.242Z"
   },
   {
    "duration": 15,
    "start_time": "2022-05-15T09:47:18.271Z"
   },
   {
    "duration": 16,
    "start_time": "2022-05-15T09:47:18.288Z"
   },
   {
    "duration": 7,
    "start_time": "2022-05-15T09:47:18.306Z"
   },
   {
    "duration": 7,
    "start_time": "2022-05-15T09:47:18.314Z"
   },
   {
    "duration": 13,
    "start_time": "2022-05-15T09:47:18.323Z"
   },
   {
    "duration": 6,
    "start_time": "2022-05-15T09:47:18.370Z"
   },
   {
    "duration": 5,
    "start_time": "2022-05-15T09:47:18.377Z"
   },
   {
    "duration": 8,
    "start_time": "2022-05-15T09:47:18.384Z"
   },
   {
    "duration": 27,
    "start_time": "2022-05-15T09:47:18.394Z"
   },
   {
    "duration": 4,
    "start_time": "2022-05-15T09:47:18.422Z"
   },
   {
    "duration": 48,
    "start_time": "2022-05-15T09:47:18.428Z"
   },
   {
    "duration": 17,
    "start_time": "2022-05-15T09:47:18.478Z"
   },
   {
    "duration": 6,
    "start_time": "2022-05-15T09:47:18.497Z"
   },
   {
    "duration": 8,
    "start_time": "2022-05-15T09:47:18.505Z"
   },
   {
    "duration": 7,
    "start_time": "2022-05-15T09:47:18.514Z"
   },
   {
    "duration": 10,
    "start_time": "2022-05-15T09:47:18.522Z"
   },
   {
    "duration": 38,
    "start_time": "2022-05-15T09:47:18.534Z"
   },
   {
    "duration": 4,
    "start_time": "2022-05-15T09:47:18.574Z"
   },
   {
    "duration": 7,
    "start_time": "2022-05-15T09:47:18.580Z"
   },
   {
    "duration": 4,
    "start_time": "2022-05-15T09:47:18.589Z"
   },
   {
    "duration": 7,
    "start_time": "2022-05-15T09:47:18.595Z"
   },
   {
    "duration": 8,
    "start_time": "2022-05-15T09:47:18.603Z"
   },
   {
    "duration": 6,
    "start_time": "2022-05-15T09:47:18.612Z"
   },
   {
    "duration": 53,
    "start_time": "2022-05-15T09:47:18.619Z"
   },
   {
    "duration": 57,
    "start_time": "2022-05-15T09:47:18.674Z"
   },
   {
    "duration": 16,
    "start_time": "2022-05-15T09:47:18.733Z"
   },
   {
    "duration": 21,
    "start_time": "2022-05-15T09:47:18.751Z"
   },
   {
    "duration": 13,
    "start_time": "2022-05-15T09:47:18.773Z"
   },
   {
    "duration": 4,
    "start_time": "2022-05-15T09:47:18.788Z"
   },
   {
    "duration": 18,
    "start_time": "2022-05-15T09:47:18.793Z"
   },
   {
    "duration": 9,
    "start_time": "2022-05-15T09:47:18.812Z"
   },
   {
    "duration": 5,
    "start_time": "2022-05-15T09:47:18.822Z"
   },
   {
    "duration": 52,
    "start_time": "2022-05-15T09:47:18.828Z"
   },
   {
    "duration": 9,
    "start_time": "2022-05-15T09:47:18.881Z"
   },
   {
    "duration": 5,
    "start_time": "2022-05-15T09:47:18.891Z"
   },
   {
    "duration": 9,
    "start_time": "2022-05-15T09:47:18.898Z"
   },
   {
    "duration": 11,
    "start_time": "2022-05-15T09:47:18.909Z"
   },
   {
    "duration": 6,
    "start_time": "2022-05-15T09:47:18.926Z"
   },
   {
    "duration": 40,
    "start_time": "2022-05-15T09:47:18.933Z"
   },
   {
    "duration": 9,
    "start_time": "2022-05-15T09:47:18.975Z"
   },
   {
    "duration": 5,
    "start_time": "2022-05-15T09:47:18.986Z"
   },
   {
    "duration": 7,
    "start_time": "2022-05-15T09:47:18.993Z"
   },
   {
    "duration": 13,
    "start_time": "2022-05-15T09:47:19.001Z"
   },
   {
    "duration": 11,
    "start_time": "2022-05-15T09:47:19.016Z"
   },
   {
    "duration": 3,
    "start_time": "2022-05-15T09:47:19.029Z"
   },
   {
    "duration": 12,
    "start_time": "2022-05-15T09:47:19.071Z"
   },
   {
    "duration": 6,
    "start_time": "2022-05-15T09:47:19.085Z"
   },
   {
    "duration": 7,
    "start_time": "2022-05-15T09:47:19.093Z"
   },
   {
    "duration": 8,
    "start_time": "2022-05-15T09:47:19.101Z"
   },
   {
    "duration": 6,
    "start_time": "2022-05-15T09:47:19.111Z"
   },
   {
    "duration": 13,
    "start_time": "2022-05-15T09:47:19.119Z"
   },
   {
    "duration": 49,
    "start_time": "2022-05-15T09:47:19.133Z"
   },
   {
    "duration": 10,
    "start_time": "2022-05-15T09:47:19.184Z"
   },
   {
    "duration": 17,
    "start_time": "2022-05-15T09:47:19.196Z"
   },
   {
    "duration": 18,
    "start_time": "2022-05-15T09:47:19.214Z"
   },
   {
    "duration": 5,
    "start_time": "2022-05-15T09:47:19.234Z"
   },
   {
    "duration": 36,
    "start_time": "2022-05-15T09:47:19.241Z"
   },
   {
    "duration": 12,
    "start_time": "2022-05-15T09:47:19.279Z"
   },
   {
    "duration": 30,
    "start_time": "2022-05-15T09:47:19.292Z"
   },
   {
    "duration": 16,
    "start_time": "2022-05-15T09:47:19.324Z"
   },
   {
    "duration": 35,
    "start_time": "2022-05-15T09:47:19.341Z"
   },
   {
    "duration": 15,
    "start_time": "2022-05-15T09:47:19.378Z"
   },
   {
    "duration": 23,
    "start_time": "2022-05-15T09:47:19.395Z"
   },
   {
    "duration": 15,
    "start_time": "2022-05-15T09:47:19.420Z"
   },
   {
    "duration": 46,
    "start_time": "2022-05-15T09:47:19.437Z"
   },
   {
    "duration": 7,
    "start_time": "2022-05-15T09:47:19.485Z"
   },
   {
    "duration": 6,
    "start_time": "2022-05-15T09:47:19.494Z"
   },
   {
    "duration": 16,
    "start_time": "2022-05-15T09:47:19.502Z"
   },
   {
    "duration": 6,
    "start_time": "2022-05-15T09:47:19.520Z"
   },
   {
    "duration": 6,
    "start_time": "2022-05-15T09:47:19.528Z"
   },
   {
    "duration": 43,
    "start_time": "2022-05-15T09:47:19.536Z"
   },
   {
    "duration": 10,
    "start_time": "2022-05-15T09:47:19.581Z"
   },
   {
    "duration": 12,
    "start_time": "2022-05-15T09:47:19.592Z"
   },
   {
    "duration": 10,
    "start_time": "2022-05-15T09:47:19.606Z"
   },
   {
    "duration": 10,
    "start_time": "2022-05-15T09:47:19.617Z"
   },
   {
    "duration": 11,
    "start_time": "2022-05-15T09:47:19.629Z"
   },
   {
    "duration": 36,
    "start_time": "2022-05-15T09:47:19.641Z"
   },
   {
    "duration": 6,
    "start_time": "2022-05-15T09:47:19.678Z"
   },
   {
    "duration": 7,
    "start_time": "2022-05-15T09:47:19.686Z"
   },
   {
    "duration": 11,
    "start_time": "2022-05-15T09:47:19.695Z"
   },
   {
    "duration": 13,
    "start_time": "2022-05-15T09:47:19.708Z"
   },
   {
    "duration": 10,
    "start_time": "2022-05-15T09:47:19.723Z"
   },
   {
    "duration": 5,
    "start_time": "2022-05-15T09:47:19.735Z"
   },
   {
    "duration": 39,
    "start_time": "2022-05-15T09:47:19.742Z"
   },
   {
    "duration": 6,
    "start_time": "2022-05-15T09:47:19.783Z"
   },
   {
    "duration": 10,
    "start_time": "2022-05-15T09:47:19.790Z"
   },
   {
    "duration": 5,
    "start_time": "2022-05-15T09:47:19.801Z"
   },
   {
    "duration": 4,
    "start_time": "2022-05-15T09:47:19.808Z"
   },
   {
    "duration": 10,
    "start_time": "2022-05-15T09:47:19.814Z"
   },
   {
    "duration": 10,
    "start_time": "2022-05-15T09:47:19.826Z"
   },
   {
    "duration": 36,
    "start_time": "2022-05-15T09:47:19.837Z"
   },
   {
    "duration": 9,
    "start_time": "2022-05-15T09:47:19.875Z"
   },
   {
    "duration": 16,
    "start_time": "2022-05-15T09:47:19.886Z"
   },
   {
    "duration": 7,
    "start_time": "2022-05-15T09:47:19.903Z"
   },
   {
    "duration": 3,
    "start_time": "2022-05-15T09:47:19.912Z"
   },
   {
    "duration": 5,
    "start_time": "2022-05-15T09:47:19.916Z"
   },
   {
    "duration": 17,
    "start_time": "2022-05-15T09:47:19.923Z"
   },
   {
    "duration": 34,
    "start_time": "2022-05-15T09:47:19.941Z"
   },
   {
    "duration": 18,
    "start_time": "2022-05-15T09:47:19.976Z"
   },
   {
    "duration": 13,
    "start_time": "2022-05-15T09:47:19.996Z"
   },
   {
    "duration": 6,
    "start_time": "2022-05-15T09:47:20.010Z"
   },
   {
    "duration": 8,
    "start_time": "2022-05-15T09:47:20.018Z"
   },
   {
    "duration": 49,
    "start_time": "2022-05-15T09:47:20.028Z"
   },
   {
    "duration": 33,
    "start_time": "2022-05-15T09:47:20.078Z"
   },
   {
    "duration": 33,
    "start_time": "2022-05-15T09:47:20.113Z"
   },
   {
    "duration": 35,
    "start_time": "2022-05-15T09:47:20.172Z"
   },
   {
    "duration": 38,
    "start_time": "2022-05-15T09:47:20.208Z"
   },
   {
    "duration": 442,
    "start_time": "2022-05-15T13:37:44.281Z"
   },
   {
    "duration": 73,
    "start_time": "2022-05-15T13:37:44.725Z"
   },
   {
    "duration": 19,
    "start_time": "2022-05-15T13:37:44.800Z"
   },
   {
    "duration": 17,
    "start_time": "2022-05-15T13:37:44.821Z"
   },
   {
    "duration": 18,
    "start_time": "2022-05-15T13:37:44.840Z"
   },
   {
    "duration": 33,
    "start_time": "2022-05-15T13:37:44.860Z"
   },
   {
    "duration": 7,
    "start_time": "2022-05-15T13:37:44.896Z"
   },
   {
    "duration": 14,
    "start_time": "2022-05-15T13:37:44.905Z"
   },
   {
    "duration": 6,
    "start_time": "2022-05-15T13:37:44.920Z"
   },
   {
    "duration": 5,
    "start_time": "2022-05-15T13:37:44.928Z"
   },
   {
    "duration": 9,
    "start_time": "2022-05-15T13:37:44.935Z"
   },
   {
    "duration": 71,
    "start_time": "2022-05-15T13:37:44.945Z"
   },
   {
    "duration": 5,
    "start_time": "2022-05-15T13:37:45.018Z"
   },
   {
    "duration": 26,
    "start_time": "2022-05-15T13:37:45.026Z"
   },
   {
    "duration": 35,
    "start_time": "2022-05-15T13:37:45.053Z"
   },
   {
    "duration": 9,
    "start_time": "2022-05-15T13:37:45.090Z"
   },
   {
    "duration": 6,
    "start_time": "2022-05-15T13:37:45.101Z"
   },
   {
    "duration": 7,
    "start_time": "2022-05-15T13:37:45.108Z"
   },
   {
    "duration": 9,
    "start_time": "2022-05-15T13:37:45.116Z"
   },
   {
    "duration": 4,
    "start_time": "2022-05-15T13:37:45.127Z"
   },
   {
    "duration": 6,
    "start_time": "2022-05-15T13:37:45.132Z"
   },
   {
    "duration": 8,
    "start_time": "2022-05-15T13:37:45.140Z"
   },
   {
    "duration": 40,
    "start_time": "2022-05-15T13:37:45.149Z"
   },
   {
    "duration": 10,
    "start_time": "2022-05-15T13:37:45.191Z"
   },
   {
    "duration": 8,
    "start_time": "2022-05-15T13:37:45.202Z"
   },
   {
    "duration": 6,
    "start_time": "2022-05-15T13:37:45.211Z"
   },
   {
    "duration": 15,
    "start_time": "2022-05-15T13:37:45.218Z"
   },
   {
    "duration": 76,
    "start_time": "2022-05-15T13:37:45.235Z"
   },
   {
    "duration": 17,
    "start_time": "2022-05-15T13:37:45.313Z"
   },
   {
    "duration": 12,
    "start_time": "2022-05-15T13:37:45.332Z"
   },
   {
    "duration": 11,
    "start_time": "2022-05-15T13:37:45.345Z"
   },
   {
    "duration": 3,
    "start_time": "2022-05-15T13:37:45.358Z"
   },
   {
    "duration": 39,
    "start_time": "2022-05-15T13:37:45.362Z"
   },
   {
    "duration": 8,
    "start_time": "2022-05-15T13:37:45.403Z"
   },
   {
    "duration": 6,
    "start_time": "2022-05-15T13:37:45.412Z"
   },
   {
    "duration": 13,
    "start_time": "2022-05-15T13:37:45.420Z"
   },
   {
    "duration": 8,
    "start_time": "2022-05-15T13:37:45.434Z"
   },
   {
    "duration": 4,
    "start_time": "2022-05-15T13:37:45.444Z"
   },
   {
    "duration": 40,
    "start_time": "2022-05-15T13:37:45.450Z"
   },
   {
    "duration": 12,
    "start_time": "2022-05-15T13:37:45.491Z"
   },
   {
    "duration": 6,
    "start_time": "2022-05-15T13:37:45.509Z"
   },
   {
    "duration": 7,
    "start_time": "2022-05-15T13:37:45.517Z"
   },
   {
    "duration": 9,
    "start_time": "2022-05-15T13:37:45.526Z"
   },
   {
    "duration": 5,
    "start_time": "2022-05-15T13:37:45.537Z"
   },
   {
    "duration": 44,
    "start_time": "2022-05-15T13:37:45.544Z"
   },
   {
    "duration": 15,
    "start_time": "2022-05-15T13:37:45.590Z"
   },
   {
    "duration": 11,
    "start_time": "2022-05-15T13:37:45.606Z"
   },
   {
    "duration": 3,
    "start_time": "2022-05-15T13:37:45.619Z"
   },
   {
    "duration": 11,
    "start_time": "2022-05-15T13:37:45.624Z"
   },
   {
    "duration": 5,
    "start_time": "2022-05-15T13:37:45.637Z"
   },
   {
    "duration": 44,
    "start_time": "2022-05-15T13:37:45.644Z"
   },
   {
    "duration": 9,
    "start_time": "2022-05-15T13:37:45.690Z"
   },
   {
    "duration": 6,
    "start_time": "2022-05-15T13:37:45.701Z"
   },
   {
    "duration": 15,
    "start_time": "2022-05-15T13:37:45.708Z"
   },
   {
    "duration": 11,
    "start_time": "2022-05-15T13:37:45.725Z"
   },
   {
    "duration": 18,
    "start_time": "2022-05-15T13:37:45.737Z"
   },
   {
    "duration": 41,
    "start_time": "2022-05-15T13:37:45.757Z"
   },
   {
    "duration": 17,
    "start_time": "2022-05-15T13:37:45.800Z"
   },
   {
    "duration": 6,
    "start_time": "2022-05-15T13:37:45.818Z"
   },
   {
    "duration": 9,
    "start_time": "2022-05-15T13:37:45.825Z"
   },
   {
    "duration": 11,
    "start_time": "2022-05-15T13:37:45.835Z"
   },
   {
    "duration": 59,
    "start_time": "2022-05-15T13:37:45.847Z"
   },
   {
    "duration": 15,
    "start_time": "2022-05-15T13:37:45.908Z"
   },
   {
    "duration": 10,
    "start_time": "2022-05-15T13:37:45.924Z"
   },
   {
    "duration": 16,
    "start_time": "2022-05-15T13:37:45.935Z"
   },
   {
    "duration": 48,
    "start_time": "2022-05-15T13:37:45.952Z"
   },
   {
    "duration": 17,
    "start_time": "2022-05-15T13:37:46.001Z"
   },
   {
    "duration": 15,
    "start_time": "2022-05-15T13:37:46.020Z"
   },
   {
    "duration": 7,
    "start_time": "2022-05-15T13:37:46.037Z"
   },
   {
    "duration": 7,
    "start_time": "2022-05-15T13:37:46.045Z"
   },
   {
    "duration": 42,
    "start_time": "2022-05-15T13:37:46.054Z"
   },
   {
    "duration": 10,
    "start_time": "2022-05-15T13:37:46.098Z"
   },
   {
    "duration": 7,
    "start_time": "2022-05-15T13:37:46.110Z"
   },
   {
    "duration": 10,
    "start_time": "2022-05-15T13:37:46.118Z"
   },
   {
    "duration": 6,
    "start_time": "2022-05-15T13:37:46.129Z"
   },
   {
    "duration": 13,
    "start_time": "2022-05-15T13:37:46.137Z"
   },
   {
    "duration": 40,
    "start_time": "2022-05-15T13:37:46.151Z"
   },
   {
    "duration": 12,
    "start_time": "2022-05-15T13:37:46.192Z"
   },
   {
    "duration": 13,
    "start_time": "2022-05-15T13:37:46.205Z"
   },
   {
    "duration": 10,
    "start_time": "2022-05-15T13:37:46.220Z"
   },
   {
    "duration": 8,
    "start_time": "2022-05-15T13:37:46.232Z"
   },
   {
    "duration": 8,
    "start_time": "2022-05-15T13:37:46.242Z"
   },
   {
    "duration": 37,
    "start_time": "2022-05-15T13:37:46.251Z"
   },
   {
    "duration": 13,
    "start_time": "2022-05-15T13:37:46.290Z"
   },
   {
    "duration": 10,
    "start_time": "2022-05-15T13:37:46.305Z"
   },
   {
    "duration": 6,
    "start_time": "2022-05-15T13:37:46.317Z"
   },
   {
    "duration": 13,
    "start_time": "2022-05-15T13:37:46.324Z"
   },
   {
    "duration": 6,
    "start_time": "2022-05-15T13:37:46.339Z"
   },
   {
    "duration": 42,
    "start_time": "2022-05-15T13:37:46.347Z"
   },
   {
    "duration": 7,
    "start_time": "2022-05-15T13:37:46.391Z"
   },
   {
    "duration": 7,
    "start_time": "2022-05-15T13:37:46.399Z"
   },
   {
    "duration": 11,
    "start_time": "2022-05-15T13:37:46.407Z"
   },
   {
    "duration": 10,
    "start_time": "2022-05-15T13:37:46.420Z"
   },
   {
    "duration": 7,
    "start_time": "2022-05-15T13:37:46.431Z"
   },
   {
    "duration": 7,
    "start_time": "2022-05-15T13:37:46.439Z"
   },
   {
    "duration": 15,
    "start_time": "2022-05-15T13:37:46.448Z"
   },
   {
    "duration": 27,
    "start_time": "2022-05-15T13:37:46.465Z"
   },
   {
    "duration": 3,
    "start_time": "2022-05-15T13:37:46.494Z"
   },
   {
    "duration": 5,
    "start_time": "2022-05-15T13:37:46.498Z"
   },
   {
    "duration": 17,
    "start_time": "2022-05-15T13:37:46.505Z"
   },
   {
    "duration": 7,
    "start_time": "2022-05-15T13:37:46.524Z"
   },
   {
    "duration": 17,
    "start_time": "2022-05-15T13:37:46.532Z"
   },
   {
    "duration": 37,
    "start_time": "2022-05-15T13:37:46.551Z"
   },
   {
    "duration": 5,
    "start_time": "2022-05-15T13:37:46.590Z"
   },
   {
    "duration": 10,
    "start_time": "2022-05-15T13:37:46.596Z"
   },
   {
    "duration": 16,
    "start_time": "2022-05-15T13:37:46.608Z"
   },
   {
    "duration": 32,
    "start_time": "2022-05-15T13:37:46.626Z"
   },
   {
    "duration": 34,
    "start_time": "2022-05-15T13:37:46.688Z"
   },
   {
    "duration": 33,
    "start_time": "2022-05-15T13:37:46.723Z"
   },
   {
    "duration": 56,
    "start_time": "2022-05-15T13:37:46.757Z"
   },
   {
    "duration": 431,
    "start_time": "2022-12-09T10:58:33.471Z"
   },
   {
    "duration": 143,
    "start_time": "2022-12-09T10:58:33.905Z"
   },
   {
    "duration": 26,
    "start_time": "2022-12-09T10:58:34.050Z"
   },
   {
    "duration": 17,
    "start_time": "2022-12-09T10:58:34.945Z"
   },
   {
    "duration": 19,
    "start_time": "2022-12-09T10:58:36.138Z"
   },
   {
    "duration": 18,
    "start_time": "2022-12-09T10:59:01.863Z"
   },
   {
    "duration": 19,
    "start_time": "2022-12-09T10:59:17.686Z"
   },
   {
    "duration": 5,
    "start_time": "2022-12-09T13:02:58.209Z"
   },
   {
    "duration": 6,
    "start_time": "2022-12-09T13:46:52.634Z"
   },
   {
    "duration": 11,
    "start_time": "2022-12-09T13:47:32.735Z"
   },
   {
    "duration": 9,
    "start_time": "2022-12-09T13:48:42.619Z"
   },
   {
    "duration": 9,
    "start_time": "2022-12-09T13:52:20.214Z"
   },
   {
    "duration": 45,
    "start_time": "2022-12-10T18:11:30.895Z"
   },
   {
    "duration": 401,
    "start_time": "2022-12-10T18:11:36.994Z"
   },
   {
    "duration": 299,
    "start_time": "2022-12-10T18:11:37.397Z"
   },
   {
    "duration": 19,
    "start_time": "2022-12-10T18:11:37.698Z"
   },
   {
    "duration": 14,
    "start_time": "2022-12-10T18:11:37.719Z"
   },
   {
    "duration": 16,
    "start_time": "2022-12-10T18:11:38.481Z"
   },
   {
    "duration": 6,
    "start_time": "2022-12-10T18:11:39.187Z"
   },
   {
    "duration": 8,
    "start_time": "2022-12-10T18:11:39.311Z"
   },
   {
    "duration": 14,
    "start_time": "2022-12-10T18:11:39.690Z"
   },
   {
    "duration": 4,
    "start_time": "2022-12-10T18:11:40.256Z"
   },
   {
    "duration": 5,
    "start_time": "2022-12-10T18:11:40.667Z"
   },
   {
    "duration": 8,
    "start_time": "2022-12-10T18:11:41.029Z"
   },
   {
    "duration": 37,
    "start_time": "2022-12-10T18:11:41.914Z"
   },
   {
    "duration": 5,
    "start_time": "2022-12-10T18:11:42.833Z"
   },
   {
    "duration": 14,
    "start_time": "2022-12-10T18:11:43.791Z"
   },
   {
    "duration": 13,
    "start_time": "2022-12-10T18:11:44.279Z"
   },
   {
    "duration": 7,
    "start_time": "2022-12-10T18:11:51.614Z"
   },
   {
    "duration": 47,
    "start_time": "2022-12-10T18:12:25.012Z"
   },
   {
    "duration": 28,
    "start_time": "2022-12-10T18:12:53.783Z"
   },
   {
    "duration": 244,
    "start_time": "2022-12-10T18:13:30.180Z"
   },
   {
    "duration": 12,
    "start_time": "2022-12-10T18:14:26.422Z"
   },
   {
    "duration": 13,
    "start_time": "2022-12-10T18:14:46.564Z"
   },
   {
    "duration": 9,
    "start_time": "2022-12-10T18:15:07.802Z"
   },
   {
    "duration": 7,
    "start_time": "2022-12-10T18:15:36.523Z"
   },
   {
    "duration": 6,
    "start_time": "2022-12-10T18:16:22.791Z"
   },
   {
    "duration": 8,
    "start_time": "2022-12-10T18:36:38.837Z"
   },
   {
    "duration": 14,
    "start_time": "2022-12-10T18:36:40.528Z"
   },
   {
    "duration": 6,
    "start_time": "2022-12-10T18:37:23.129Z"
   },
   {
    "duration": 6,
    "start_time": "2022-12-10T18:37:45.483Z"
   },
   {
    "duration": 7,
    "start_time": "2022-12-10T18:38:00.879Z"
   },
   {
    "duration": 5,
    "start_time": "2022-12-10T18:45:03.065Z"
   },
   {
    "duration": 5,
    "start_time": "2022-12-10T18:45:04.129Z"
   },
   {
    "duration": 6,
    "start_time": "2022-12-10T18:45:04.452Z"
   },
   {
    "duration": 6,
    "start_time": "2022-12-10T18:45:05.266Z"
   },
   {
    "duration": 7,
    "start_time": "2022-12-10T18:45:05.843Z"
   },
   {
    "duration": 8,
    "start_time": "2022-12-10T18:45:06.198Z"
   },
   {
    "duration": 6,
    "start_time": "2022-12-10T18:45:07.474Z"
   },
   {
    "duration": 13,
    "start_time": "2022-12-10T18:45:09.567Z"
   },
   {
    "duration": 66,
    "start_time": "2022-12-10T18:45:22.874Z"
   },
   {
    "duration": 17,
    "start_time": "2022-12-10T18:48:54.877Z"
   },
   {
    "duration": 6,
    "start_time": "2022-12-10T18:49:03.061Z"
   },
   {
    "duration": 18,
    "start_time": "2022-12-10T18:49:37.621Z"
   },
   {
    "duration": 15,
    "start_time": "2022-12-10T18:50:53.480Z"
   },
   {
    "duration": 4,
    "start_time": "2022-12-10T18:51:30.320Z"
   },
   {
    "duration": 18,
    "start_time": "2022-12-10T18:51:59.245Z"
   },
   {
    "duration": 9,
    "start_time": "2022-12-10T18:53:18.621Z"
   },
   {
    "duration": 43,
    "start_time": "2022-12-10T18:57:59.036Z"
   },
   {
    "duration": 11,
    "start_time": "2022-12-10T18:58:35.646Z"
   },
   {
    "duration": 17,
    "start_time": "2022-12-10T18:58:58.015Z"
   },
   {
    "duration": 4,
    "start_time": "2022-12-10T18:59:03.243Z"
   },
   {
    "duration": 26,
    "start_time": "2022-12-10T18:59:04.314Z"
   },
   {
    "duration": 11,
    "start_time": "2022-12-10T18:59:07.746Z"
   },
   {
    "duration": 11,
    "start_time": "2022-12-10T18:59:16.986Z"
   },
   {
    "duration": 5,
    "start_time": "2022-12-10T18:59:39.515Z"
   },
   {
    "duration": 15,
    "start_time": "2022-12-10T18:59:40.969Z"
   },
   {
    "duration": 10,
    "start_time": "2022-12-10T18:59:41.407Z"
   },
   {
    "duration": 5,
    "start_time": "2022-12-10T18:59:50.843Z"
   },
   {
    "duration": 9,
    "start_time": "2022-12-10T18:59:57.270Z"
   },
   {
    "duration": 13,
    "start_time": "2022-12-10T19:00:01.399Z"
   },
   {
    "duration": 16,
    "start_time": "2022-12-10T19:00:28.143Z"
   },
   {
    "duration": 7,
    "start_time": "2022-12-10T19:00:38.232Z"
   },
   {
    "duration": 7,
    "start_time": "2022-12-10T19:01:07.970Z"
   },
   {
    "duration": 10,
    "start_time": "2022-12-10T19:01:15.758Z"
   },
   {
    "duration": 4,
    "start_time": "2022-12-10T19:01:32.255Z"
   },
   {
    "duration": 8,
    "start_time": "2022-12-10T19:02:05.463Z"
   },
   {
    "duration": 14,
    "start_time": "2022-12-10T19:04:44.878Z"
   },
   {
    "duration": 13,
    "start_time": "2022-12-10T19:05:42.562Z"
   },
   {
    "duration": 3,
    "start_time": "2022-12-10T19:07:22.286Z"
   },
   {
    "duration": 14,
    "start_time": "2022-12-10T19:07:35.206Z"
   },
   {
    "duration": 7,
    "start_time": "2022-12-10T19:07:49.522Z"
   },
   {
    "duration": 7,
    "start_time": "2022-12-10T19:07:53.824Z"
   },
   {
    "duration": 10,
    "start_time": "2022-12-10T19:08:01.360Z"
   },
   {
    "duration": 9,
    "start_time": "2022-12-10T19:08:13.935Z"
   },
   {
    "duration": 15,
    "start_time": "2022-12-10T19:09:59.340Z"
   },
   {
    "duration": 12,
    "start_time": "2022-12-10T19:10:06.505Z"
   },
   {
    "duration": 4,
    "start_time": "2022-12-10T19:10:09.632Z"
   },
   {
    "duration": 13,
    "start_time": "2022-12-10T19:10:36.434Z"
   },
   {
    "duration": 15,
    "start_time": "2022-12-10T19:10:38.076Z"
   },
   {
    "duration": 17,
    "start_time": "2022-12-10T19:11:02.313Z"
   },
   {
    "duration": 7,
    "start_time": "2022-12-10T19:11:16.359Z"
   },
   {
    "duration": 8,
    "start_time": "2022-12-10T19:11:22.495Z"
   },
   {
    "duration": 11,
    "start_time": "2022-12-10T19:11:24.369Z"
   },
   {
    "duration": 30,
    "start_time": "2022-12-10T19:11:52.084Z"
   },
   {
    "duration": 16,
    "start_time": "2022-12-10T19:12:42.279Z"
   },
   {
    "duration": 11,
    "start_time": "2022-12-10T19:12:53.988Z"
   },
   {
    "duration": 15,
    "start_time": "2022-12-10T19:13:11.380Z"
   },
   {
    "duration": 24,
    "start_time": "2022-12-10T19:14:37.747Z"
   },
   {
    "duration": 17,
    "start_time": "2022-12-10T19:14:40.832Z"
   },
   {
    "duration": 16,
    "start_time": "2022-12-10T19:14:41.963Z"
   },
   {
    "duration": 7,
    "start_time": "2022-12-10T19:15:15.299Z"
   },
   {
    "duration": 8,
    "start_time": "2022-12-10T19:15:16.220Z"
   },
   {
    "duration": 16,
    "start_time": "2022-12-10T19:16:08.389Z"
   },
   {
    "duration": 7,
    "start_time": "2022-12-10T19:16:42.400Z"
   },
   {
    "duration": 6,
    "start_time": "2022-12-10T19:16:57.697Z"
   },
   {
    "duration": 9,
    "start_time": "2022-12-10T19:17:02.232Z"
   },
   {
    "duration": 6,
    "start_time": "2022-12-10T19:17:06.913Z"
   },
   {
    "duration": 11,
    "start_time": "2022-12-10T19:17:17.192Z"
   },
   {
    "duration": 8,
    "start_time": "2022-12-10T19:17:39.788Z"
   },
   {
    "duration": 10,
    "start_time": "2022-12-10T19:17:54.660Z"
   },
   {
    "duration": 12,
    "start_time": "2022-12-10T19:17:57.011Z"
   },
   {
    "duration": 6,
    "start_time": "2022-12-10T19:18:04.314Z"
   },
   {
    "duration": 6,
    "start_time": "2022-12-10T19:18:11.687Z"
   },
   {
    "duration": 8,
    "start_time": "2022-12-10T19:18:35.642Z"
   },
   {
    "duration": 11,
    "start_time": "2022-12-10T19:19:25.392Z"
   },
   {
    "duration": 12,
    "start_time": "2022-12-10T19:20:13.786Z"
   },
   {
    "duration": 10,
    "start_time": "2022-12-10T19:20:31.607Z"
   },
   {
    "duration": 6,
    "start_time": "2022-12-10T19:21:19.642Z"
   },
   {
    "duration": 11,
    "start_time": "2022-12-10T19:25:05.472Z"
   },
   {
    "duration": 8,
    "start_time": "2022-12-10T19:25:19.063Z"
   },
   {
    "duration": 11,
    "start_time": "2022-12-10T19:25:29.949Z"
   },
   {
    "duration": 3,
    "start_time": "2022-12-10T19:26:22.065Z"
   },
   {
    "duration": 3,
    "start_time": "2022-12-10T19:26:46.488Z"
   },
   {
    "duration": 9,
    "start_time": "2022-12-10T19:27:24.297Z"
   },
   {
    "duration": 11,
    "start_time": "2022-12-10T19:27:29.748Z"
   },
   {
    "duration": 6,
    "start_time": "2022-12-10T19:27:53.342Z"
   },
   {
    "duration": 8,
    "start_time": "2022-12-10T19:27:59.653Z"
   },
   {
    "duration": 6,
    "start_time": "2022-12-10T19:28:07.706Z"
   },
   {
    "duration": 6,
    "start_time": "2022-12-10T19:28:27.323Z"
   },
   {
    "duration": 5,
    "start_time": "2022-12-10T19:28:33.838Z"
   },
   {
    "duration": 12,
    "start_time": "2022-12-10T19:28:36.205Z"
   },
   {
    "duration": 6,
    "start_time": "2022-12-10T19:28:55.802Z"
   },
   {
    "duration": 2,
    "start_time": "2022-12-10T19:29:51.323Z"
   },
   {
    "duration": 2,
    "start_time": "2022-12-10T19:31:15.760Z"
   },
   {
    "duration": 15,
    "start_time": "2022-12-10T19:31:52.242Z"
   },
   {
    "duration": 7,
    "start_time": "2022-12-10T19:31:55.293Z"
   },
   {
    "duration": 14,
    "start_time": "2022-12-10T19:32:04.190Z"
   },
   {
    "duration": 13,
    "start_time": "2022-12-10T19:32:06.343Z"
   },
   {
    "duration": 5,
    "start_time": "2022-12-10T19:32:18.159Z"
   },
   {
    "duration": 7,
    "start_time": "2022-12-10T19:32:35.074Z"
   },
   {
    "duration": 31,
    "start_time": "2022-12-10T19:50:54.044Z"
   },
   {
    "duration": 36,
    "start_time": "2022-12-10T19:55:05.261Z"
   },
   {
    "duration": 53,
    "start_time": "2022-12-11T05:45:07.950Z"
   },
   {
    "duration": 403,
    "start_time": "2022-12-11T05:45:15.602Z"
   },
   {
    "duration": 132,
    "start_time": "2022-12-11T05:45:16.007Z"
   },
   {
    "duration": 18,
    "start_time": "2022-12-11T05:45:16.141Z"
   },
   {
    "duration": 16,
    "start_time": "2022-12-11T05:45:16.161Z"
   },
   {
    "duration": 15,
    "start_time": "2022-12-11T05:45:16.596Z"
   },
   {
    "duration": 7,
    "start_time": "2022-12-11T05:45:17.186Z"
   },
   {
    "duration": 8,
    "start_time": "2022-12-11T05:45:17.356Z"
   },
   {
    "duration": 14,
    "start_time": "2022-12-11T05:45:17.718Z"
   },
   {
    "duration": 4,
    "start_time": "2022-12-11T05:45:18.172Z"
   },
   {
    "duration": 5,
    "start_time": "2022-12-11T05:45:18.506Z"
   },
   {
    "duration": 9,
    "start_time": "2022-12-11T05:45:18.972Z"
   },
   {
    "duration": 31,
    "start_time": "2022-12-11T05:45:19.823Z"
   },
   {
    "duration": 4,
    "start_time": "2022-12-11T05:45:20.524Z"
   },
   {
    "duration": 15,
    "start_time": "2022-12-11T05:45:20.930Z"
   },
   {
    "duration": 13,
    "start_time": "2022-12-11T05:45:21.498Z"
   },
   {
    "duration": 7,
    "start_time": "2022-12-11T05:45:22.830Z"
   },
   {
    "duration": 6,
    "start_time": "2022-12-11T05:45:24.764Z"
   },
   {
    "duration": 8,
    "start_time": "2022-12-11T05:45:26.175Z"
   },
   {
    "duration": 9,
    "start_time": "2022-12-11T05:45:27.088Z"
   },
   {
    "duration": 5,
    "start_time": "2022-12-11T05:45:28.133Z"
   },
   {
    "duration": 6,
    "start_time": "2022-12-11T05:45:28.949Z"
   },
   {
    "duration": 6,
    "start_time": "2022-12-11T05:45:30.144Z"
   },
   {
    "duration": 6,
    "start_time": "2022-12-11T05:45:30.886Z"
   },
   {
    "duration": 7,
    "start_time": "2022-12-11T05:47:01.946Z"
   },
   {
    "duration": 8,
    "start_time": "2022-12-11T05:47:02.202Z"
   },
   {
    "duration": 6,
    "start_time": "2022-12-11T05:47:03.803Z"
   },
   {
    "duration": 21,
    "start_time": "2022-12-11T05:47:49.116Z"
   },
   {
    "duration": 25,
    "start_time": "2022-12-11T05:48:37.397Z"
   },
   {
    "duration": 14,
    "start_time": "2022-12-11T05:48:45.415Z"
   },
   {
    "duration": 13,
    "start_time": "2022-12-11T05:48:54.340Z"
   },
   {
    "duration": 4,
    "start_time": "2022-12-11T05:49:05.565Z"
   },
   {
    "duration": 21,
    "start_time": "2022-12-11T05:49:06.904Z"
   },
   {
    "duration": 9,
    "start_time": "2022-12-11T05:49:16.686Z"
   },
   {
    "duration": 4,
    "start_time": "2022-12-11T05:49:18.815Z"
   },
   {
    "duration": 18,
    "start_time": "2022-12-11T05:49:20.366Z"
   },
   {
    "duration": 9,
    "start_time": "2022-12-11T05:49:23.577Z"
   },
   {
    "duration": 6,
    "start_time": "2022-12-11T05:49:25.371Z"
   },
   {
    "duration": 9,
    "start_time": "2022-12-11T05:49:29.350Z"
   },
   {
    "duration": 13,
    "start_time": "2022-12-11T05:49:34.363Z"
   },
   {
    "duration": 7,
    "start_time": "2022-12-11T05:49:38.959Z"
   },
   {
    "duration": 7,
    "start_time": "2022-12-11T05:49:39.213Z"
   },
   {
    "duration": 12,
    "start_time": "2022-12-11T05:49:39.804Z"
   },
   {
    "duration": 6,
    "start_time": "2022-12-11T05:49:45.114Z"
   },
   {
    "duration": 9,
    "start_time": "2022-12-11T05:49:46.099Z"
   },
   {
    "duration": 20,
    "start_time": "2022-12-11T05:49:48.691Z"
   },
   {
    "duration": 17,
    "start_time": "2022-12-11T05:49:52.226Z"
   },
   {
    "duration": 4,
    "start_time": "2022-12-11T05:49:55.467Z"
   },
   {
    "duration": 12,
    "start_time": "2022-12-11T05:49:55.639Z"
   },
   {
    "duration": 6,
    "start_time": "2022-12-11T05:49:58.572Z"
   },
   {
    "duration": 8,
    "start_time": "2022-12-11T05:49:58.727Z"
   },
   {
    "duration": 10,
    "start_time": "2022-12-11T05:49:58.935Z"
   },
   {
    "duration": 8,
    "start_time": "2022-12-11T05:50:01.402Z"
   },
   {
    "duration": 15,
    "start_time": "2022-12-11T05:50:06.106Z"
   },
   {
    "duration": 17,
    "start_time": "2022-12-11T05:50:16.454Z"
   },
   {
    "duration": 6,
    "start_time": "2022-12-11T05:50:16.879Z"
   },
   {
    "duration": 75,
    "start_time": "2022-12-11T05:51:09.442Z"
   },
   {
    "duration": 73,
    "start_time": "2022-12-11T05:51:14.639Z"
   },
   {
    "duration": 4,
    "start_time": "2022-12-11T05:51:26.712Z"
   },
   {
    "duration": 4,
    "start_time": "2022-12-11T05:51:55.414Z"
   },
   {
    "duration": 20,
    "start_time": "2022-12-11T05:51:58.552Z"
   },
   {
    "duration": 25,
    "start_time": "2022-12-11T05:52:02.020Z"
   },
   {
    "duration": 6,
    "start_time": "2022-12-11T05:52:04.928Z"
   },
   {
    "duration": 8,
    "start_time": "2022-12-11T05:52:05.164Z"
   },
   {
    "duration": 11,
    "start_time": "2022-12-11T05:52:05.300Z"
   },
   {
    "duration": 32,
    "start_time": "2022-12-11T05:52:08.491Z"
   },
   {
    "duration": 18,
    "start_time": "2022-12-11T05:52:30.957Z"
   },
   {
    "duration": 12,
    "start_time": "2022-12-11T05:52:34.473Z"
   },
   {
    "duration": 15,
    "start_time": "2022-12-11T05:52:41.426Z"
   },
   {
    "duration": 24,
    "start_time": "2022-12-11T05:52:43.688Z"
   },
   {
    "duration": 16,
    "start_time": "2022-12-11T05:52:47.441Z"
   },
   {
    "duration": 16,
    "start_time": "2022-12-11T05:52:48.231Z"
   },
   {
    "duration": 7,
    "start_time": "2022-12-11T05:52:52.226Z"
   },
   {
    "duration": 5,
    "start_time": "2022-12-11T05:52:53.807Z"
   },
   {
    "duration": 16,
    "start_time": "2022-12-11T05:53:00.539Z"
   },
   {
    "duration": 7,
    "start_time": "2022-12-11T05:53:04.240Z"
   },
   {
    "duration": 5,
    "start_time": "2022-12-11T05:53:07.560Z"
   },
   {
    "duration": 8,
    "start_time": "2022-12-11T05:53:09.090Z"
   },
   {
    "duration": 7,
    "start_time": "2022-12-11T05:53:12.770Z"
   },
   {
    "duration": 15,
    "start_time": "2022-12-11T05:53:13.896Z"
   },
   {
    "duration": 8,
    "start_time": "2022-12-11T05:53:17.487Z"
   },
   {
    "duration": 9,
    "start_time": "2022-12-11T05:53:19.896Z"
   },
   {
    "duration": 11,
    "start_time": "2022-12-11T05:53:22.699Z"
   },
   {
    "duration": 7,
    "start_time": "2022-12-11T05:53:33.038Z"
   },
   {
    "duration": 6,
    "start_time": "2022-12-11T06:01:22.812Z"
   },
   {
    "duration": 8,
    "start_time": "2022-12-11T06:01:26.909Z"
   },
   {
    "duration": 10,
    "start_time": "2022-12-11T06:01:59.114Z"
   },
   {
    "duration": 14,
    "start_time": "2022-12-11T06:02:19.435Z"
   },
   {
    "duration": 15,
    "start_time": "2022-12-11T06:08:33.400Z"
   },
   {
    "duration": 12,
    "start_time": "2022-12-11T06:08:55.385Z"
   },
   {
    "duration": 12,
    "start_time": "2022-12-11T06:09:13.272Z"
   },
   {
    "duration": 12,
    "start_time": "2022-12-11T06:09:26.072Z"
   },
   {
    "duration": 12,
    "start_time": "2022-12-11T06:09:59.553Z"
   },
   {
    "duration": 12,
    "start_time": "2022-12-11T06:10:10.689Z"
   },
   {
    "duration": 34,
    "start_time": "2022-12-11T06:11:23.806Z"
   },
   {
    "duration": 12,
    "start_time": "2022-12-11T06:11:29.549Z"
   },
   {
    "duration": 11,
    "start_time": "2022-12-11T06:14:14.550Z"
   },
   {
    "duration": 12,
    "start_time": "2022-12-11T06:16:59.755Z"
   },
   {
    "duration": 7,
    "start_time": "2022-12-11T06:17:01.024Z"
   },
   {
    "duration": 12,
    "start_time": "2022-12-11T06:17:13.842Z"
   },
   {
    "duration": 9,
    "start_time": "2022-12-11T06:17:33.684Z"
   },
   {
    "duration": 10,
    "start_time": "2022-12-11T06:17:42.294Z"
   },
   {
    "duration": 4,
    "start_time": "2022-12-11T06:17:50.140Z"
   },
   {
    "duration": 3,
    "start_time": "2022-12-11T06:17:52.285Z"
   },
   {
    "duration": 9,
    "start_time": "2022-12-11T06:17:55.270Z"
   },
   {
    "duration": 11,
    "start_time": "2022-12-11T06:18:04.302Z"
   },
   {
    "duration": 8,
    "start_time": "2022-12-11T06:18:32.686Z"
   },
   {
    "duration": 8,
    "start_time": "2022-12-11T06:18:57.813Z"
   },
   {
    "duration": 6,
    "start_time": "2022-12-11T06:19:29.970Z"
   },
   {
    "duration": 5,
    "start_time": "2022-12-11T06:20:05.048Z"
   },
   {
    "duration": 5,
    "start_time": "2022-12-11T06:20:26.190Z"
   },
   {
    "duration": 7,
    "start_time": "2022-12-11T06:20:35.700Z"
   },
   {
    "duration": 9,
    "start_time": "2022-12-11T06:20:55.049Z"
   },
   {
    "duration": 4,
    "start_time": "2022-12-11T06:21:01.722Z"
   },
   {
    "duration": 10,
    "start_time": "2022-12-11T06:21:02.516Z"
   },
   {
    "duration": 5,
    "start_time": "2022-12-11T06:21:13.092Z"
   },
   {
    "duration": 11,
    "start_time": "2022-12-11T06:21:13.954Z"
   },
   {
    "duration": 2,
    "start_time": "2022-12-11T06:22:47.668Z"
   },
   {
    "duration": 3,
    "start_time": "2022-12-11T06:22:52.030Z"
   },
   {
    "duration": 14,
    "start_time": "2022-12-11T06:22:54.556Z"
   },
   {
    "duration": 7,
    "start_time": "2022-12-11T06:23:02.586Z"
   },
   {
    "duration": 7,
    "start_time": "2022-12-11T06:23:11.801Z"
   },
   {
    "duration": 14,
    "start_time": "2022-12-11T06:23:13.546Z"
   },
   {
    "duration": 12,
    "start_time": "2022-12-11T06:23:31.858Z"
   },
   {
    "duration": 5,
    "start_time": "2022-12-11T06:24:05.861Z"
   },
   {
    "duration": 8,
    "start_time": "2022-12-11T06:24:06.577Z"
   },
   {
    "duration": 15,
    "start_time": "2022-12-11T06:24:21.204Z"
   },
   {
    "duration": 35,
    "start_time": "2022-12-11T06:24:51.788Z"
   },
   {
    "duration": 36,
    "start_time": "2022-12-11T06:26:10.066Z"
   },
   {
    "duration": 37,
    "start_time": "2022-12-11T06:26:26.181Z"
   },
   {
    "duration": 35,
    "start_time": "2022-12-11T06:28:02.200Z"
   },
   {
    "duration": 32,
    "start_time": "2022-12-11T06:28:09.236Z"
   },
   {
    "duration": 38,
    "start_time": "2022-12-11T06:28:24.613Z"
   },
   {
    "duration": 37,
    "start_time": "2022-12-11T06:29:27.344Z"
   },
   {
    "duration": 11,
    "start_time": "2022-12-11T06:42:26.379Z"
   },
   {
    "duration": 271,
    "start_time": "2022-12-11T06:43:11.119Z"
   },
   {
    "duration": 3,
    "start_time": "2022-12-11T06:43:16.036Z"
   },
   {
    "duration": 71,
    "start_time": "2022-12-11T06:43:16.346Z"
   },
   {
    "duration": 12,
    "start_time": "2022-12-11T06:43:16.451Z"
   },
   {
    "duration": 15,
    "start_time": "2022-12-11T06:43:16.612Z"
   },
   {
    "duration": 18,
    "start_time": "2022-12-11T06:43:17.093Z"
   },
   {
    "duration": 8,
    "start_time": "2022-12-11T06:43:18.022Z"
   },
   {
    "duration": 8,
    "start_time": "2022-12-11T06:43:18.688Z"
   },
   {
    "duration": 19,
    "start_time": "2022-12-11T06:43:20.346Z"
   },
   {
    "duration": 18,
    "start_time": "2022-12-11T06:43:26.607Z"
   },
   {
    "duration": 18,
    "start_time": "2022-12-11T06:43:45.272Z"
   },
   {
    "duration": 5,
    "start_time": "2022-12-11T06:44:10.265Z"
   },
   {
    "duration": 5,
    "start_time": "2022-12-11T06:44:11.676Z"
   },
   {
    "duration": 13,
    "start_time": "2022-12-11T06:45:19.935Z"
   },
   {
    "duration": 14,
    "start_time": "2022-12-11T06:45:47.070Z"
   },
   {
    "duration": 14,
    "start_time": "2022-12-11T06:45:49.555Z"
   },
   {
    "duration": 7,
    "start_time": "2022-12-11T06:46:02.907Z"
   },
   {
    "duration": 6,
    "start_time": "2022-12-11T06:46:03.692Z"
   },
   {
    "duration": 7,
    "start_time": "2022-12-11T06:46:05.166Z"
   },
   {
    "duration": 9,
    "start_time": "2022-12-11T06:46:08.627Z"
   },
   {
    "duration": 7,
    "start_time": "2022-12-11T06:46:10.969Z"
   },
   {
    "duration": 6,
    "start_time": "2022-12-11T06:46:12.247Z"
   },
   {
    "duration": 5,
    "start_time": "2022-12-11T06:46:13.283Z"
   },
   {
    "duration": 5,
    "start_time": "2022-12-11T06:46:13.591Z"
   },
   {
    "duration": 8,
    "start_time": "2022-12-11T06:46:14.190Z"
   },
   {
    "duration": 9,
    "start_time": "2022-12-11T06:46:14.382Z"
   },
   {
    "duration": 8,
    "start_time": "2022-12-11T06:46:16.101Z"
   },
   {
    "duration": 16,
    "start_time": "2022-12-11T06:46:52.240Z"
   },
   {
    "duration": 14,
    "start_time": "2022-12-11T06:47:01.172Z"
   },
   {
    "duration": 13,
    "start_time": "2022-12-11T06:47:07.595Z"
   },
   {
    "duration": 14,
    "start_time": "2022-12-11T06:47:11.721Z"
   },
   {
    "duration": 17,
    "start_time": "2022-12-11T06:47:14.801Z"
   },
   {
    "duration": 13,
    "start_time": "2022-12-11T06:47:18.241Z"
   },
   {
    "duration": 17,
    "start_time": "2022-12-11T06:47:26.830Z"
   },
   {
    "duration": 14,
    "start_time": "2022-12-11T06:47:43.039Z"
   },
   {
    "duration": 13,
    "start_time": "2022-12-11T06:47:46.743Z"
   },
   {
    "duration": 18,
    "start_time": "2022-12-11T06:47:55.487Z"
   },
   {
    "duration": 14,
    "start_time": "2022-12-11T06:47:57.137Z"
   },
   {
    "duration": 12,
    "start_time": "2022-12-11T06:50:52.165Z"
   }
  ],
  "kernelspec": {
   "display_name": "Python 3 (ipykernel)",
   "language": "python",
   "name": "python3"
  },
  "language_info": {
   "codemirror_mode": {
    "name": "ipython",
    "version": 3
   },
   "file_extension": ".py",
   "mimetype": "text/x-python",
   "name": "python",
   "nbconvert_exporter": "python",
   "pygments_lexer": "ipython3",
   "version": "3.9.12"
  },
  "toc": {
   "base_numbering": 1,
   "nav_menu": {},
   "number_sections": true,
   "sideBar": true,
   "skip_h1_title": true,
   "title_cell": "Содержание",
   "title_sidebar": "Содержание",
   "toc_cell": true,
   "toc_position": {
    "height": "calc(100% - 180px)",
    "left": "10px",
    "top": "150px",
    "width": "287px"
   },
   "toc_section_display": true,
   "toc_window_display": true
  }
 },
 "nbformat": 4,
 "nbformat_minor": 5
}
