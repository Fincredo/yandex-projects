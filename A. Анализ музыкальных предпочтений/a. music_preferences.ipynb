{
 "cells": [
  {
   "cell_type": "markdown",
   "metadata": {
    "id": "E0vqbgi9ay0H"
   },
   "source": [
    "# Анализ музыкальных предпочтений"
   ]
  },
  {
   "cell_type": "markdown",
   "metadata": {
    "toc": true
   },
   "source": [
    "<h1>Содержание<span class=\"tocSkip\"></span></h1>\n",
    "<div class=\"toc\"><ul class=\"toc-item\"><li><span><a href=\"#Описание-проекта\" data-toc-modified-id=\"Ml1hmfXC_Zcs\"><span class=\"toc-item-num\">1&nbsp;&nbsp;</span>Описание проекта</a></span></li><li><span><a href=\"#Изучение-данных\" data-toc-modified-id=\"Изучение-данных-2\"><span class=\"toc-item-num\">2&nbsp;&nbsp;</span>Изучение данных</a></span><ul class=\"toc-item\"><li><span><a href=\"#Обзор-данных\" data-toc-modified-id=\"Обзор-данных-2.1\"><span class=\"toc-item-num\">2.1&nbsp;&nbsp;</span>Обзор данных</a></span></li><li><span><a href=\"#Выводы\" data-toc-modified-id=\"Выводы-2.2\"><span class=\"toc-item-num\">2.2&nbsp;&nbsp;</span>Выводы</a></span></li></ul></li><li><span><a href=\"#Предобработка-данных\" data-toc-modified-id=\"Предобработка-данных-3\"><span class=\"toc-item-num\">3&nbsp;&nbsp;</span>Предобработка данных</a></span><ul class=\"toc-item\"><li><span><a href=\"#Стиль-заголовков\" data-toc-modified-id=\"Стиль-заголовков-3.1\"><span class=\"toc-item-num\">3.1&nbsp;&nbsp;</span>Стиль заголовков</a></span></li><li><span><a href=\"#Пропуски-значений\" data-toc-modified-id=\"Пропуски-значений-3.2\"><span class=\"toc-item-num\">3.2&nbsp;&nbsp;</span>Пропуски значений</a></span></li><li><span><a href=\"#Дубликаты\" data-toc-modified-id=\"Дубликаты-3.3\"><span class=\"toc-item-num\">3.3&nbsp;&nbsp;</span>Дубликаты</a></span></li><li><span><a href=\"#Итоги\" data-toc-modified-id=\"Итоги-3.4\"><span class=\"toc-item-num\">3.4&nbsp;&nbsp;</span>Итоги</a></span></li></ul></li><li><span><a href=\"#Проверка-гипотез\" data-toc-modified-id=\"Проверка-гипотез-4\"><span class=\"toc-item-num\">4&nbsp;&nbsp;</span>Проверка гипотез</a></span><ul class=\"toc-item\"><li><span><a href=\"#Сравнение-поведения-пользователей-двух-столиц\" data-toc-modified-id=\"Сравнение-поведения-пользователей-двух-столиц-4.1\"><span class=\"toc-item-num\">4.1&nbsp;&nbsp;</span>Сравнение поведения пользователей двух столиц</a></span></li><li><span><a href=\"#Музыка-в-начале-и-в-конце-недели\" data-toc-modified-id=\"Музыка-в-начале-и-в-конце-недели-4.2\"><span class=\"toc-item-num\">4.2&nbsp;&nbsp;</span>Музыка в начале и в конце недели</a></span></li><li><span><a href=\"#Жанровые-предпочтения-в-Москве-и-Петербурге\" data-toc-modified-id=\"Жанровые-предпочтения-в-Москве-и-Петербурге-4.3\"><span class=\"toc-item-num\">4.3&nbsp;&nbsp;</span>Жанровые предпочтения в Москве и Петербурге</a></span></li></ul></li><li><span><a href=\"#Итоги-исследования\" data-toc-modified-id=\"Итоги-исследования-5\"><span class=\"toc-item-num\">5&nbsp;&nbsp;</span>Итоги исследования</a></span></li></ul></div>"
   ]
  },
  {
   "cell_type": "markdown",
   "metadata": {
    "id": "Ml1hmfXC_Zcs"
   },
   "source": [
    "## Описание проекта"
   ]
  },
  {
   "cell_type": "markdown",
   "metadata": {
    "id": "VUC88oWjTJw2"
   },
   "source": [
    "На данных Яндекс.Музыки необходимо сравнить поведение пользователей Москвы и Петербурга.\n",
    "\n",
    "Цель исследования — проверить три гипотезы:\n",
    "1. Активность пользователей в Москве и Петербурге зависит от дня недели, причём по-разному.\n",
    "2. В понедельник утром в Москве и Петербурге преобладают разные музыкальные жанры. То же касается и вечера пятницы. \n",
    "3. В целом в Москве чаще слушают поп-музыку, в Петербурге — русский рэп."
   ]
  },
  {
   "cell_type": "markdown",
   "metadata": {},
   "source": [
    "## Изучение данных"
   ]
  },
  {
   "cell_type": "markdown",
   "metadata": {},
   "source": [
    "### Обзор данных"
   ]
  },
  {
   "cell_type": "markdown",
   "metadata": {
    "id": "57eAOGIz_Zcs"
   },
   "source": [
    "Основной инструмент аналитика — `pandas`. Импортируем эту библиотеку."
   ]
  },
  {
   "cell_type": "code",
   "execution_count": 1,
   "metadata": {
    "id": "AXN7PHPN_Zcs"
   },
   "outputs": [],
   "source": [
    "# Импорт библиотеки pandas\n",
    "\n",
    "import pandas as pd"
   ]
  },
  {
   "cell_type": "markdown",
   "metadata": {
    "id": "SG23P8tt_Zcs"
   },
   "source": [
    "Прочитаем файл `yandex_music_project.csv` из папки `/datasets` и сохраним его в переменной `df`."
   ]
  },
  {
   "cell_type": "code",
   "execution_count": 2,
   "metadata": {
    "id": "fFVu7vqh_Zct"
   },
   "outputs": [],
   "source": [
    "# Чтение файла с данными и сохранение в df\n",
    "\n",
    "df = pd.read_csv('datasets/yandex_music_project.csv')"
   ]
  },
  {
   "cell_type": "markdown",
   "metadata": {
    "id": "rDoOMd3uTqnZ"
   },
   "source": [
    "Выведем на экран первые десять строк таблицы."
   ]
  },
  {
   "cell_type": "code",
   "execution_count": 3,
   "metadata": {
    "id": "oWTVX3gW_Zct",
    "scrolled": true
   },
   "outputs": [
    {
     "data": {
      "text/html": [
       "<div>\n",
       "<style scoped>\n",
       "    .dataframe tbody tr th:only-of-type {\n",
       "        vertical-align: middle;\n",
       "    }\n",
       "\n",
       "    .dataframe tbody tr th {\n",
       "        vertical-align: top;\n",
       "    }\n",
       "\n",
       "    .dataframe thead th {\n",
       "        text-align: right;\n",
       "    }\n",
       "</style>\n",
       "<table border=\"1\" class=\"dataframe\">\n",
       "  <thead>\n",
       "    <tr style=\"text-align: right;\">\n",
       "      <th></th>\n",
       "      <th>userID</th>\n",
       "      <th>Track</th>\n",
       "      <th>artist</th>\n",
       "      <th>genre</th>\n",
       "      <th>City</th>\n",
       "      <th>time</th>\n",
       "      <th>Day</th>\n",
       "    </tr>\n",
       "  </thead>\n",
       "  <tbody>\n",
       "    <tr>\n",
       "      <th>0</th>\n",
       "      <td>FFB692EC</td>\n",
       "      <td>Kamigata To Boots</td>\n",
       "      <td>The Mass Missile</td>\n",
       "      <td>rock</td>\n",
       "      <td>Saint-Petersburg</td>\n",
       "      <td>20:28:33</td>\n",
       "      <td>Wednesday</td>\n",
       "    </tr>\n",
       "    <tr>\n",
       "      <th>1</th>\n",
       "      <td>55204538</td>\n",
       "      <td>Delayed Because of Accident</td>\n",
       "      <td>Andreas Rönnberg</td>\n",
       "      <td>rock</td>\n",
       "      <td>Moscow</td>\n",
       "      <td>14:07:09</td>\n",
       "      <td>Friday</td>\n",
       "    </tr>\n",
       "    <tr>\n",
       "      <th>2</th>\n",
       "      <td>20EC38</td>\n",
       "      <td>Funiculì funiculà</td>\n",
       "      <td>Mario Lanza</td>\n",
       "      <td>pop</td>\n",
       "      <td>Saint-Petersburg</td>\n",
       "      <td>20:58:07</td>\n",
       "      <td>Wednesday</td>\n",
       "    </tr>\n",
       "    <tr>\n",
       "      <th>3</th>\n",
       "      <td>A3DD03C9</td>\n",
       "      <td>Dragons in the Sunset</td>\n",
       "      <td>Fire + Ice</td>\n",
       "      <td>folk</td>\n",
       "      <td>Saint-Petersburg</td>\n",
       "      <td>08:37:09</td>\n",
       "      <td>Monday</td>\n",
       "    </tr>\n",
       "    <tr>\n",
       "      <th>4</th>\n",
       "      <td>E2DC1FAE</td>\n",
       "      <td>Soul People</td>\n",
       "      <td>Space Echo</td>\n",
       "      <td>dance</td>\n",
       "      <td>Moscow</td>\n",
       "      <td>08:34:34</td>\n",
       "      <td>Monday</td>\n",
       "    </tr>\n",
       "    <tr>\n",
       "      <th>5</th>\n",
       "      <td>842029A1</td>\n",
       "      <td>Преданная</td>\n",
       "      <td>IMPERVTOR</td>\n",
       "      <td>rusrap</td>\n",
       "      <td>Saint-Petersburg</td>\n",
       "      <td>13:09:41</td>\n",
       "      <td>Friday</td>\n",
       "    </tr>\n",
       "    <tr>\n",
       "      <th>6</th>\n",
       "      <td>4CB90AA5</td>\n",
       "      <td>True</td>\n",
       "      <td>Roman Messer</td>\n",
       "      <td>dance</td>\n",
       "      <td>Moscow</td>\n",
       "      <td>13:00:07</td>\n",
       "      <td>Wednesday</td>\n",
       "    </tr>\n",
       "    <tr>\n",
       "      <th>7</th>\n",
       "      <td>F03E1C1F</td>\n",
       "      <td>Feeling This Way</td>\n",
       "      <td>Polina Griffith</td>\n",
       "      <td>dance</td>\n",
       "      <td>Moscow</td>\n",
       "      <td>20:47:49</td>\n",
       "      <td>Wednesday</td>\n",
       "    </tr>\n",
       "    <tr>\n",
       "      <th>8</th>\n",
       "      <td>8FA1D3BE</td>\n",
       "      <td>И вновь продолжается бой</td>\n",
       "      <td>NaN</td>\n",
       "      <td>ruspop</td>\n",
       "      <td>Moscow</td>\n",
       "      <td>09:17:40</td>\n",
       "      <td>Friday</td>\n",
       "    </tr>\n",
       "    <tr>\n",
       "      <th>9</th>\n",
       "      <td>E772D5C0</td>\n",
       "      <td>Pessimist</td>\n",
       "      <td>NaN</td>\n",
       "      <td>dance</td>\n",
       "      <td>Saint-Petersburg</td>\n",
       "      <td>21:20:49</td>\n",
       "      <td>Wednesday</td>\n",
       "    </tr>\n",
       "  </tbody>\n",
       "</table>\n",
       "</div>"
      ],
      "text/plain": [
       "     userID                        Track            artist   genre  \\\n",
       "0  FFB692EC            Kamigata To Boots  The Mass Missile    rock   \n",
       "1  55204538  Delayed Because of Accident  Andreas Rönnberg    rock   \n",
       "2    20EC38            Funiculì funiculà       Mario Lanza     pop   \n",
       "3  A3DD03C9        Dragons in the Sunset        Fire + Ice    folk   \n",
       "4  E2DC1FAE                  Soul People        Space Echo   dance   \n",
       "5  842029A1                    Преданная         IMPERVTOR  rusrap   \n",
       "6  4CB90AA5                         True      Roman Messer   dance   \n",
       "7  F03E1C1F             Feeling This Way   Polina Griffith   dance   \n",
       "8  8FA1D3BE     И вновь продолжается бой               NaN  ruspop   \n",
       "9  E772D5C0                    Pessimist               NaN   dance   \n",
       "\n",
       "             City        time        Day  \n",
       "0  Saint-Petersburg  20:28:33  Wednesday  \n",
       "1            Moscow  14:07:09     Friday  \n",
       "2  Saint-Petersburg  20:58:07  Wednesday  \n",
       "3  Saint-Petersburg  08:37:09     Monday  \n",
       "4            Moscow  08:34:34     Monday  \n",
       "5  Saint-Petersburg  13:09:41     Friday  \n",
       "6            Moscow  13:00:07  Wednesday  \n",
       "7            Moscow  20:47:49  Wednesday  \n",
       "8            Moscow  09:17:40     Friday  \n",
       "9  Saint-Petersburg  21:20:49  Wednesday  "
      ]
     },
     "execution_count": 3,
     "metadata": {},
     "output_type": "execute_result"
    }
   ],
   "source": [
    "# Получение первых 10 строк таблицы df\n",
    "\n",
    "df.head(10)"
   ]
  },
  {
   "cell_type": "markdown",
   "metadata": {
    "id": "EO73Kwic_Zct"
   },
   "source": [
    "Одной командой получим общую информацию о таблице."
   ]
  },
  {
   "cell_type": "code",
   "execution_count": 4,
   "metadata": {
    "id": "DSf2kIb-_Zct"
   },
   "outputs": [
    {
     "name": "stdout",
     "output_type": "stream",
     "text": [
      "<class 'pandas.core.frame.DataFrame'>\n",
      "RangeIndex: 65079 entries, 0 to 65078\n",
      "Data columns (total 7 columns):\n",
      " #   Column    Non-Null Count  Dtype \n",
      "---  ------    --------------  ----- \n",
      " 0     userID  65079 non-null  object\n",
      " 1   Track     63848 non-null  object\n",
      " 2   artist    57876 non-null  object\n",
      " 3   genre     63881 non-null  object\n",
      " 4     City    65079 non-null  object\n",
      " 5   time      65079 non-null  object\n",
      " 6   Day       65079 non-null  object\n",
      "dtypes: object(7)\n",
      "memory usage: 3.5+ MB\n"
     ]
    }
   ],
   "source": [
    "# Получение общей информации о данных в таблице df\n",
    "\n",
    "df.info()"
   ]
  },
  {
   "cell_type": "markdown",
   "metadata": {},
   "source": [
    "### Выводы"
   ]
  },
  {
   "cell_type": "markdown",
   "metadata": {
    "id": "MCB6-dXG_Zct"
   },
   "source": [
    "1. Итак, в таблице семь столбцов:\n",
    "* `userID` — идентификатор пользователя;\n",
    "* `Track` — название трека;  \n",
    "* `artist` — имя исполнителя;\n",
    "* `genre` — название жанра;\n",
    "* `City` — город пользователя;\n",
    "* `time` — время начала прослушивания;\n",
    "* `Day` — день недели.\n",
    "\n",
    "\n",
    "2. В каждой строке таблицы — данные о прослушанном треке. Часть столбцов описывает саму композицию: название, исполнителя и жанр. Остальные данные рассказывают о пользователе: из какого он города, когда он слушал музыку. Тип данных во всех столбцах — `object`.\n",
    "\n",
    "\n",
    "3. В названиях столбцов видны три нарушения стиля:\n",
    "- строчные буквы сочетаются с прописными;\n",
    "- встречаются пробелы;\n",
    "- идентификатор пользователя указан без соблюдения \"змеиного регистра\".\n",
    "\n",
    "\n",
    "4. Количество значений в столбцах различается. Значит, в данных есть пропущенные значения.\n",
    "\n",
    "\n",
    "5. Предварительно можно утверждать, что, данных достаточно для проверки гипотез. Чтобы двигаться дальше, нужно устранить отмеченные проблемы (стиль в названиях столбцов и пропуски в данных)."
   ]
  },
  {
   "cell_type": "markdown",
   "metadata": {
    "id": "SjYF6Ub9_Zct"
   },
   "source": [
    "## Предобработка данных"
   ]
  },
  {
   "cell_type": "markdown",
   "metadata": {
    "id": "dIaKXr29_Zct"
   },
   "source": [
    "### Стиль заголовков"
   ]
  },
  {
   "cell_type": "markdown",
   "metadata": {},
   "source": [
    "Выведем на экран названия столбцов."
   ]
  },
  {
   "cell_type": "code",
   "execution_count": 5,
   "metadata": {
    "id": "oKOTdF_Q_Zct"
   },
   "outputs": [
    {
     "data": {
      "text/plain": [
       "Index(['  userID', 'Track', 'artist', 'genre', '  City  ', 'time', 'Day'], dtype='object')"
      ]
     },
     "execution_count": 5,
     "metadata": {},
     "output_type": "execute_result"
    }
   ],
   "source": [
    "# Перечень названий столбцов таблицы df\n",
    "\n",
    "df.columns"
   ]
  },
  {
   "cell_type": "markdown",
   "metadata": {
    "id": "zj5534cv_Zct"
   },
   "source": [
    "Приведем названия в соответствие с хорошим стилем:\n",
    "* несколько слов в названии запишем в \"змеином регистре\";\n",
    "* все символы сделаем строчными;\n",
    "* устраним пробелы.\n",
    "\n",
    "Для этого переименуем колонки так:\n",
    "* `'  userID'` → `'user_id'`;\n",
    "* `'Track'` → `'track'`;\n",
    "* `'  City  '` → `'city'`;\n",
    "* `'Day'` → `'day'`."
   ]
  },
  {
   "cell_type": "code",
   "execution_count": 6,
   "metadata": {
    "id": "ISlFqs5y_Zct"
   },
   "outputs": [],
   "source": [
    "# Переименование столбцов\n",
    "\n",
    "df = df.rename(columns={'  userID':'user_id', 'Track':'track', '  City  ':'city', 'Day':'day'})"
   ]
  },
  {
   "cell_type": "markdown",
   "metadata": {
    "id": "1dqbh00J_Zct"
   },
   "source": [
    "Проверим результат. Для этого ещё раз выведем на экран названия столбцов."
   ]
  },
  {
   "cell_type": "code",
   "execution_count": 7,
   "metadata": {
    "id": "d4NOAmTW_Zct"
   },
   "outputs": [
    {
     "data": {
      "text/plain": [
       "Index(['user_id', 'track', 'artist', 'genre', 'city', 'time', 'day'], dtype='object')"
      ]
     },
     "execution_count": 7,
     "metadata": {},
     "output_type": "execute_result"
    }
   ],
   "source": [
    "# Проверка результатов - перечень названий столбцов\n",
    "\n",
    "df.columns"
   ]
  },
  {
   "cell_type": "markdown",
   "metadata": {
    "id": "5ISfbcfY_Zct"
   },
   "source": [
    "### Пропуски значений"
   ]
  },
  {
   "cell_type": "markdown",
   "metadata": {},
   "source": [
    "Сначала посчитаем, сколько в таблице пропущенных значений. Для этого достаточно двух методов `pandas`."
   ]
  },
  {
   "cell_type": "code",
   "execution_count": 8,
   "metadata": {
    "id": "RskX29qr_Zct"
   },
   "outputs": [
    {
     "data": {
      "text/plain": [
       "user_id       0\n",
       "track      1231\n",
       "artist     7203\n",
       "genre      1198\n",
       "city          0\n",
       "time          0\n",
       "day           0\n",
       "dtype: int64"
      ]
     },
     "execution_count": 8,
     "metadata": {},
     "output_type": "execute_result"
    }
   ],
   "source": [
    "# Подсчёт пропусков\n",
    "\n",
    "df.isna().sum()"
   ]
  },
  {
   "cell_type": "markdown",
   "metadata": {
    "id": "qubhgnlO_Zct"
   },
   "source": [
    "Не все пропущенные значения влияют на исследование. Так в `track` и `artist` пропуски не важны для вашей работы. Достаточно заменить их явными обозначениями.\n",
    "\n",
    "Но пропуски в `genre` могут помешать сравнению музыкальных вкусов в Москве и Санкт-Петербурге. На практике было бы правильно установить причину пропусков и восстановить данные. Такой возможности нет в учебном проекте. Придётся:\n",
    "* заполнить и эти пропуски явными обозначениями,\n",
    "* оценить, насколько они повредят расчётам. "
   ]
  },
  {
   "cell_type": "markdown",
   "metadata": {
    "id": "fSv2laPA_Zct"
   },
   "source": [
    "Заменим пропущенные значения в столбцах `track`, `artist` и `genre` на строку `'unknown'`. Для этого создадим список `columns_to_replace`, переберем его элементы циклом `for` и для каждого столбца выполним замену пропущенных значений."
   ]
  },
  {
   "cell_type": "code",
   "execution_count": 9,
   "metadata": {
    "id": "KplB5qWs_Zct"
   },
   "outputs": [],
   "source": [
    "# Перебор названий столбцов в цикле и замена пропущенных значений на 'unknown'\n",
    "\n",
    "columns_to_replace = ['track', 'artist', 'genre']\n",
    "for column in columns_to_replace:\n",
    "    df[column] = df[column].fillna('unknown')"
   ]
  },
  {
   "cell_type": "markdown",
   "metadata": {
    "id": "Ilsm-MZo_Zct"
   },
   "source": [
    "Убедимся, что в таблице не осталось пропусков. Для этого ещё раз посчитаем пропущенные значения."
   ]
  },
  {
   "cell_type": "code",
   "execution_count": 10,
   "metadata": {
    "id": "Tq4nYRX4_Zct"
   },
   "outputs": [
    {
     "data": {
      "text/plain": [
       "user_id    0\n",
       "track      0\n",
       "artist     0\n",
       "genre      0\n",
       "city       0\n",
       "time       0\n",
       "day        0\n",
       "dtype: int64"
      ]
     },
     "execution_count": 10,
     "metadata": {},
     "output_type": "execute_result"
    }
   ],
   "source": [
    "# Подсчет пропусков\n",
    "\n",
    "df.isna().sum()"
   ]
  },
  {
   "cell_type": "markdown",
   "metadata": {
    "id": "BWKRtBJ3_Zct"
   },
   "source": [
    "### Дубликаты"
   ]
  },
  {
   "cell_type": "markdown",
   "metadata": {},
   "source": [
    "Посчитаем явные дубликаты в таблице одной командой."
   ]
  },
  {
   "cell_type": "code",
   "execution_count": 11,
   "metadata": {
    "id": "36eES_S0_Zct"
   },
   "outputs": [
    {
     "data": {
      "text/plain": [
       "3826"
      ]
     },
     "execution_count": 11,
     "metadata": {},
     "output_type": "execute_result"
    }
   ],
   "source": [
    "# Подсчёт явных дубликатов\n",
    "\n",
    "df.duplicated().sum()"
   ]
  },
  {
   "cell_type": "markdown",
   "metadata": {
    "id": "Ot25h6XR_Zct"
   },
   "source": [
    "Вызовем специальный метод `pandas`, чтобы удалить явные дубликаты."
   ]
  },
  {
   "cell_type": "code",
   "execution_count": 12,
   "metadata": {
    "id": "exFHq6tt_Zct"
   },
   "outputs": [],
   "source": [
    "# Удаление явных дубликатов (с удалением старых индексов и формированием новых)\n",
    "\n",
    "df = df.drop_duplicates().reset_index(drop=True)"
   ]
  },
  {
   "cell_type": "markdown",
   "metadata": {
    "id": "Im2YwBEG_Zct"
   },
   "source": [
    "Ещё раз посчитаем явные дубликаты в таблице и убедимся, что полностью от них избавились."
   ]
  },
  {
   "cell_type": "code",
   "execution_count": 13,
   "metadata": {
    "id": "-8PuNWQ0_Zct"
   },
   "outputs": [
    {
     "data": {
      "text/plain": [
       "0"
      ]
     },
     "execution_count": 13,
     "metadata": {},
     "output_type": "execute_result"
    }
   ],
   "source": [
    "# Проверка на отсутствие дубликатов\n",
    "\n",
    "df.duplicated().sum()"
   ]
  },
  {
   "cell_type": "markdown",
   "metadata": {
    "id": "QlFBsxAr_Zct"
   },
   "source": [
    "Теперь избавимся от неявных дубликатов в столбце `genre`. Например, название одного и того же жанра может быть записано немного по-разному. Такие ошибки тоже повлияют на результат исследования."
   ]
  },
  {
   "cell_type": "markdown",
   "metadata": {
    "id": "eSjWwsOh_Zct"
   },
   "source": [
    "Выведем на экран список уникальных названий жанров, отсортированный в алфавитном порядке. Для этого:\n",
    "* извлечём нужный столбец датафрейма; \n",
    "* применим к нему метод сортировки;\n",
    "* для отсортированного столбца вызовем метод, который вернёт уникальные значения из столбца."
   ]
  },
  {
   "cell_type": "code",
   "execution_count": 14,
   "metadata": {
    "id": "JIUcqzZN_Zct"
   },
   "outputs": [
    {
     "data": {
      "text/plain": [
       "array(['acid', 'acoustic', 'action', 'adult', 'africa', 'afrikaans',\n",
       "       'alternative', 'alternativepunk', 'ambient', 'americana',\n",
       "       'animated', 'anime', 'arabesk', 'arabic', 'arena',\n",
       "       'argentinetango', 'art', 'audiobook', 'author', 'avantgarde',\n",
       "       'axé', 'baile', 'balkan', 'beats', 'bigroom', 'black', 'bluegrass',\n",
       "       'blues', 'bollywood', 'bossa', 'brazilian', 'breakbeat', 'breaks',\n",
       "       'broadway', 'cantautori', 'cantopop', 'canzone', 'caribbean',\n",
       "       'caucasian', 'celtic', 'chamber', 'chanson', 'children', 'chill',\n",
       "       'chinese', 'choral', 'christian', 'christmas', 'classical',\n",
       "       'classicmetal', 'club', 'colombian', 'comedy', 'conjazz',\n",
       "       'contemporary', 'country', 'cuban', 'dance', 'dancehall',\n",
       "       'dancepop', 'dark', 'death', 'deep', 'deutschrock', 'deutschspr',\n",
       "       'dirty', 'disco', 'dnb', 'documentary', 'downbeat', 'downtempo',\n",
       "       'drum', 'dub', 'dubstep', 'eastern', 'easy', 'electronic',\n",
       "       'electropop', 'emo', 'entehno', 'epicmetal', 'estrada', 'ethnic',\n",
       "       'eurofolk', 'european', 'experimental', 'extrememetal', 'fado',\n",
       "       'fairytail', 'film', 'fitness', 'flamenco', 'folk', 'folklore',\n",
       "       'folkmetal', 'folkrock', 'folktronica', 'forró', 'frankreich',\n",
       "       'französisch', 'french', 'funk', 'future', 'gangsta', 'garage',\n",
       "       'german', 'ghazal', 'gitarre', 'glitch', 'gospel', 'gothic',\n",
       "       'grime', 'grunge', 'gypsy', 'handsup', \"hard'n'heavy\", 'hardcore',\n",
       "       'hardstyle', 'hardtechno', 'hip', 'hip-hop', 'hiphop',\n",
       "       'historisch', 'holiday', 'hop', 'horror', 'house', 'hymn', 'idm',\n",
       "       'independent', 'indian', 'indie', 'indipop', 'industrial',\n",
       "       'inspirational', 'instrumental', 'international', 'irish', 'jam',\n",
       "       'japanese', 'jazz', 'jewish', 'jpop', 'jungle', 'k-pop',\n",
       "       'karadeniz', 'karaoke', 'kayokyoku', 'korean', 'laiko', 'latin',\n",
       "       'latino', 'leftfield', 'local', 'lounge', 'loungeelectronic',\n",
       "       'lovers', 'malaysian', 'mandopop', 'marschmusik', 'meditative',\n",
       "       'mediterranean', 'melodic', 'metal', 'metalcore', 'mexican',\n",
       "       'middle', 'minimal', 'miscellaneous', 'modern', 'mood', 'mpb',\n",
       "       'muslim', 'native', 'neoklassik', 'neue', 'new', 'newage',\n",
       "       'newwave', 'nu', 'nujazz', 'numetal', 'oceania', 'old', 'opera',\n",
       "       'orchestral', 'other', 'piano', 'podcasts', 'pop', 'popdance',\n",
       "       'popelectronic', 'popeurodance', 'poprussian', 'post',\n",
       "       'posthardcore', 'postrock', 'power', 'progmetal', 'progressive',\n",
       "       'psychedelic', 'punjabi', 'punk', 'quebecois', 'ragga', 'ram',\n",
       "       'rancheras', 'rap', 'rave', 'reggae', 'reggaeton', 'regional',\n",
       "       'relax', 'religious', 'retro', 'rhythm', 'rnb', 'rnr', 'rock',\n",
       "       'rockabilly', 'rockalternative', 'rockindie', 'rockother',\n",
       "       'romance', 'roots', 'ruspop', 'rusrap', 'rusrock', 'russian',\n",
       "       'salsa', 'samba', 'scenic', 'schlager', 'self', 'sertanejo',\n",
       "       'shanson', 'shoegazing', 'showtunes', 'singer', 'ska', 'skarock',\n",
       "       'slow', 'smooth', 'soft', 'soul', 'soulful', 'sound', 'soundtrack',\n",
       "       'southern', 'specialty', 'speech', 'spiritual', 'sport',\n",
       "       'stonerrock', 'surf', 'swing', 'synthpop', 'synthrock',\n",
       "       'sängerportrait', 'tango', 'tanzorchester', 'taraftar', 'tatar',\n",
       "       'tech', 'techno', 'teen', 'thrash', 'top', 'traditional',\n",
       "       'tradjazz', 'trance', 'tribal', 'trip', 'triphop', 'tropical',\n",
       "       'türk', 'türkçe', 'ukrrock', 'unknown', 'urban', 'uzbek',\n",
       "       'variété', 'vi', 'videogame', 'vocal', 'western', 'world',\n",
       "       'worldbeat', 'ïîï', 'электроника'], dtype=object)"
      ]
     },
     "execution_count": 14,
     "metadata": {},
     "output_type": "execute_result"
    }
   ],
   "source": [
    "# Просмотр уникальных названий жанров\n",
    "\n",
    "df['genre'].sort_values().unique()"
   ]
  },
  {
   "cell_type": "markdown",
   "metadata": {
    "id": "qej-Qmuo_Zct"
   },
   "source": [
    "Просмотрим список и найдём неявные дубликаты названия `hiphop`. Это могут быть названия с ошибками или альтернативные названия того же жанра.\n",
    "\n",
    "Мы видим следующие неявные дубликаты:\n",
    "* *hip*,\n",
    "* *hop*,\n",
    "* *hip-hop*.\n",
    "\n",
    "Чтобы очистить от них таблицу, напишем функцию `replace_wrong_genres()` с двумя параметрами: \n",
    "* `wrong_genres` — список дубликатов;\n",
    "* `correct_genre` — строка с правильным значением.\n",
    "\n",
    "Функция должна исправить колонку `genre` в таблице `df`: заменить каждое значение из списка `wrong_genres` на значение из `correct_genre`."
   ]
  },
  {
   "cell_type": "code",
   "execution_count": 15,
   "metadata": {
    "id": "ErNDkmns_Zct"
   },
   "outputs": [],
   "source": [
    "# Функция для замены неявных дубликатов\n",
    "\n",
    "def replace_wrong_genres(wrong_genres, correct_genre):\n",
    "    df['genre'] = df['genre'].replace(wrong_genres, correct_genre)"
   ]
  },
  {
   "cell_type": "markdown",
   "metadata": {
    "id": "aDoBJxbA_Zct"
   },
   "source": [
    "Вызовем `replace_wrong_genres()` и передадим ей такие аргументы, чтобы она устранила неявные дубликаты: вместо `hip`, `hop` и `hip-hop` в таблице должно быть значение `hiphop`."
   ]
  },
  {
   "cell_type": "code",
   "execution_count": 16,
   "metadata": {
    "id": "YN5i2hpmSo09"
   },
   "outputs": [],
   "source": [
    "# Устранение неявных дубликатов\n",
    "\n",
    "wrong_genres_list = ['hip', 'hop', 'hip-hop']\n",
    "for wrong_genre in wrong_genres_list:\n",
    "    replace_wrong_genres(wrong_genre, 'hiphop')"
   ]
  },
  {
   "cell_type": "markdown",
   "metadata": {
    "id": "zQKF16_RG15m"
   },
   "source": [
    "Проверим, что заменили неправильные названия:\n",
    "\n",
    "*   hip\n",
    "*   hop\n",
    "*   hip-hop\n",
    "\n",
    "Выведем отсортированный список уникальных значений столбца `genre`."
   ]
  },
  {
   "cell_type": "code",
   "execution_count": 17,
   "metadata": {
    "id": "wvixALnFG15m"
   },
   "outputs": [
    {
     "data": {
      "text/plain": [
       "array(['acid', 'acoustic', 'action', 'adult', 'africa', 'afrikaans',\n",
       "       'alternative', 'alternativepunk', 'ambient', 'americana',\n",
       "       'animated', 'anime', 'arabesk', 'arabic', 'arena',\n",
       "       'argentinetango', 'art', 'audiobook', 'author', 'avantgarde',\n",
       "       'axé', 'baile', 'balkan', 'beats', 'bigroom', 'black', 'bluegrass',\n",
       "       'blues', 'bollywood', 'bossa', 'brazilian', 'breakbeat', 'breaks',\n",
       "       'broadway', 'cantautori', 'cantopop', 'canzone', 'caribbean',\n",
       "       'caucasian', 'celtic', 'chamber', 'chanson', 'children', 'chill',\n",
       "       'chinese', 'choral', 'christian', 'christmas', 'classical',\n",
       "       'classicmetal', 'club', 'colombian', 'comedy', 'conjazz',\n",
       "       'contemporary', 'country', 'cuban', 'dance', 'dancehall',\n",
       "       'dancepop', 'dark', 'death', 'deep', 'deutschrock', 'deutschspr',\n",
       "       'dirty', 'disco', 'dnb', 'documentary', 'downbeat', 'downtempo',\n",
       "       'drum', 'dub', 'dubstep', 'eastern', 'easy', 'electronic',\n",
       "       'electropop', 'emo', 'entehno', 'epicmetal', 'estrada', 'ethnic',\n",
       "       'eurofolk', 'european', 'experimental', 'extrememetal', 'fado',\n",
       "       'fairytail', 'film', 'fitness', 'flamenco', 'folk', 'folklore',\n",
       "       'folkmetal', 'folkrock', 'folktronica', 'forró', 'frankreich',\n",
       "       'französisch', 'french', 'funk', 'future', 'gangsta', 'garage',\n",
       "       'german', 'ghazal', 'gitarre', 'glitch', 'gospel', 'gothic',\n",
       "       'grime', 'grunge', 'gypsy', 'handsup', \"hard'n'heavy\", 'hardcore',\n",
       "       'hardstyle', 'hardtechno', 'hiphop', 'historisch', 'holiday',\n",
       "       'horror', 'house', 'hymn', 'idm', 'independent', 'indian', 'indie',\n",
       "       'indipop', 'industrial', 'inspirational', 'instrumental',\n",
       "       'international', 'irish', 'jam', 'japanese', 'jazz', 'jewish',\n",
       "       'jpop', 'jungle', 'k-pop', 'karadeniz', 'karaoke', 'kayokyoku',\n",
       "       'korean', 'laiko', 'latin', 'latino', 'leftfield', 'local',\n",
       "       'lounge', 'loungeelectronic', 'lovers', 'malaysian', 'mandopop',\n",
       "       'marschmusik', 'meditative', 'mediterranean', 'melodic', 'metal',\n",
       "       'metalcore', 'mexican', 'middle', 'minimal', 'miscellaneous',\n",
       "       'modern', 'mood', 'mpb', 'muslim', 'native', 'neoklassik', 'neue',\n",
       "       'new', 'newage', 'newwave', 'nu', 'nujazz', 'numetal', 'oceania',\n",
       "       'old', 'opera', 'orchestral', 'other', 'piano', 'podcasts', 'pop',\n",
       "       'popdance', 'popelectronic', 'popeurodance', 'poprussian', 'post',\n",
       "       'posthardcore', 'postrock', 'power', 'progmetal', 'progressive',\n",
       "       'psychedelic', 'punjabi', 'punk', 'quebecois', 'ragga', 'ram',\n",
       "       'rancheras', 'rap', 'rave', 'reggae', 'reggaeton', 'regional',\n",
       "       'relax', 'religious', 'retro', 'rhythm', 'rnb', 'rnr', 'rock',\n",
       "       'rockabilly', 'rockalternative', 'rockindie', 'rockother',\n",
       "       'romance', 'roots', 'ruspop', 'rusrap', 'rusrock', 'russian',\n",
       "       'salsa', 'samba', 'scenic', 'schlager', 'self', 'sertanejo',\n",
       "       'shanson', 'shoegazing', 'showtunes', 'singer', 'ska', 'skarock',\n",
       "       'slow', 'smooth', 'soft', 'soul', 'soulful', 'sound', 'soundtrack',\n",
       "       'southern', 'specialty', 'speech', 'spiritual', 'sport',\n",
       "       'stonerrock', 'surf', 'swing', 'synthpop', 'synthrock',\n",
       "       'sängerportrait', 'tango', 'tanzorchester', 'taraftar', 'tatar',\n",
       "       'tech', 'techno', 'teen', 'thrash', 'top', 'traditional',\n",
       "       'tradjazz', 'trance', 'tribal', 'trip', 'triphop', 'tropical',\n",
       "       'türk', 'türkçe', 'ukrrock', 'unknown', 'urban', 'uzbek',\n",
       "       'variété', 'vi', 'videogame', 'vocal', 'western', 'world',\n",
       "       'worldbeat', 'ïîï', 'электроника'], dtype=object)"
      ]
     },
     "execution_count": 17,
     "metadata": {},
     "output_type": "execute_result"
    }
   ],
   "source": [
    "# Проверка на неявные дубликаты\n",
    "\n",
    "df['genre'].sort_values().unique()"
   ]
  },
  {
   "cell_type": "markdown",
   "metadata": {},
   "source": [
    "При более пристальном рассмотрении можем заметить еще несколько групп дубликатов. Например: 'electronic' и 'электроника', 'chanson' и 'shanson', а также менее очевидные 'französisch' и 'french', 'neue' и 'new', 'türk' и 'türkçe'. Произведем соответствующие замены."
   ]
  },
  {
   "cell_type": "code",
   "execution_count": 18,
   "metadata": {},
   "outputs": [],
   "source": [
    "# Устранение неявных дубликатов\n",
    "\n",
    "dup_dict = {'электроника':'electronic', \n",
    "            'shanson':'chanson',\n",
    "            'französisch':'french',\n",
    "            'neue':'new', \n",
    "            'türk':'türkçe'}\n",
    "for key in dup_dict:\n",
    "    replace_wrong_genres(key, dup_dict[key])"
   ]
  },
  {
   "cell_type": "markdown",
   "metadata": {},
   "source": [
    "Проверим корректность замены, еще раз выведя список уникальных значений столбца `genre`."
   ]
  },
  {
   "cell_type": "code",
   "execution_count": 19,
   "metadata": {},
   "outputs": [
    {
     "data": {
      "text/plain": [
       "array(['acid', 'acoustic', 'action', 'adult', 'africa', 'afrikaans',\n",
       "       'alternative', 'alternativepunk', 'ambient', 'americana',\n",
       "       'animated', 'anime', 'arabesk', 'arabic', 'arena',\n",
       "       'argentinetango', 'art', 'audiobook', 'author', 'avantgarde',\n",
       "       'axé', 'baile', 'balkan', 'beats', 'bigroom', 'black', 'bluegrass',\n",
       "       'blues', 'bollywood', 'bossa', 'brazilian', 'breakbeat', 'breaks',\n",
       "       'broadway', 'cantautori', 'cantopop', 'canzone', 'caribbean',\n",
       "       'caucasian', 'celtic', 'chamber', 'chanson', 'children', 'chill',\n",
       "       'chinese', 'choral', 'christian', 'christmas', 'classical',\n",
       "       'classicmetal', 'club', 'colombian', 'comedy', 'conjazz',\n",
       "       'contemporary', 'country', 'cuban', 'dance', 'dancehall',\n",
       "       'dancepop', 'dark', 'death', 'deep', 'deutschrock', 'deutschspr',\n",
       "       'dirty', 'disco', 'dnb', 'documentary', 'downbeat', 'downtempo',\n",
       "       'drum', 'dub', 'dubstep', 'eastern', 'easy', 'electronic',\n",
       "       'electropop', 'emo', 'entehno', 'epicmetal', 'estrada', 'ethnic',\n",
       "       'eurofolk', 'european', 'experimental', 'extrememetal', 'fado',\n",
       "       'fairytail', 'film', 'fitness', 'flamenco', 'folk', 'folklore',\n",
       "       'folkmetal', 'folkrock', 'folktronica', 'forró', 'frankreich',\n",
       "       'french', 'funk', 'future', 'gangsta', 'garage', 'german',\n",
       "       'ghazal', 'gitarre', 'glitch', 'gospel', 'gothic', 'grime',\n",
       "       'grunge', 'gypsy', 'handsup', \"hard'n'heavy\", 'hardcore',\n",
       "       'hardstyle', 'hardtechno', 'hiphop', 'historisch', 'holiday',\n",
       "       'horror', 'house', 'hymn', 'idm', 'independent', 'indian', 'indie',\n",
       "       'indipop', 'industrial', 'inspirational', 'instrumental',\n",
       "       'international', 'irish', 'jam', 'japanese', 'jazz', 'jewish',\n",
       "       'jpop', 'jungle', 'k-pop', 'karadeniz', 'karaoke', 'kayokyoku',\n",
       "       'korean', 'laiko', 'latin', 'latino', 'leftfield', 'local',\n",
       "       'lounge', 'loungeelectronic', 'lovers', 'malaysian', 'mandopop',\n",
       "       'marschmusik', 'meditative', 'mediterranean', 'melodic', 'metal',\n",
       "       'metalcore', 'mexican', 'middle', 'minimal', 'miscellaneous',\n",
       "       'modern', 'mood', 'mpb', 'muslim', 'native', 'neoklassik', 'new',\n",
       "       'newage', 'newwave', 'nu', 'nujazz', 'numetal', 'oceania', 'old',\n",
       "       'opera', 'orchestral', 'other', 'piano', 'podcasts', 'pop',\n",
       "       'popdance', 'popelectronic', 'popeurodance', 'poprussian', 'post',\n",
       "       'posthardcore', 'postrock', 'power', 'progmetal', 'progressive',\n",
       "       'psychedelic', 'punjabi', 'punk', 'quebecois', 'ragga', 'ram',\n",
       "       'rancheras', 'rap', 'rave', 'reggae', 'reggaeton', 'regional',\n",
       "       'relax', 'religious', 'retro', 'rhythm', 'rnb', 'rnr', 'rock',\n",
       "       'rockabilly', 'rockalternative', 'rockindie', 'rockother',\n",
       "       'romance', 'roots', 'ruspop', 'rusrap', 'rusrock', 'russian',\n",
       "       'salsa', 'samba', 'scenic', 'schlager', 'self', 'sertanejo',\n",
       "       'shoegazing', 'showtunes', 'singer', 'ska', 'skarock', 'slow',\n",
       "       'smooth', 'soft', 'soul', 'soulful', 'sound', 'soundtrack',\n",
       "       'southern', 'specialty', 'speech', 'spiritual', 'sport',\n",
       "       'stonerrock', 'surf', 'swing', 'synthpop', 'synthrock',\n",
       "       'sängerportrait', 'tango', 'tanzorchester', 'taraftar', 'tatar',\n",
       "       'tech', 'techno', 'teen', 'thrash', 'top', 'traditional',\n",
       "       'tradjazz', 'trance', 'tribal', 'trip', 'triphop', 'tropical',\n",
       "       'türkçe', 'ukrrock', 'unknown', 'urban', 'uzbek', 'variété', 'vi',\n",
       "       'videogame', 'vocal', 'western', 'world', 'worldbeat', 'ïîï'],\n",
       "      dtype=object)"
      ]
     },
     "execution_count": 19,
     "metadata": {},
     "output_type": "execute_result"
    }
   ],
   "source": [
    "# Проверка на неявные дубликаты\n",
    "\n",
    "df['genre'].sort_values().unique()"
   ]
  },
  {
   "cell_type": "markdown",
   "metadata": {},
   "source": [
    "### Итоги"
   ]
  },
  {
   "cell_type": "markdown",
   "metadata": {
    "id": "jz6a9-7HQUDd"
   },
   "source": [
    "1. Для упрощения работы с таблицей названия столбцов приведены в соответствие с требованиями: переведены в \"змеиный регистр\".\n",
    "\n",
    "\n",
    "2. Ввиду отсутствия данных пропущенные значения в столбцах `track`, `artist`, `genre` заменены на 'unknown'. Если пропуски в первых двух не влияют на результаты исследования, то касательно столбца `genre` это ещё предстоит выяснить.\n",
    "\n",
    "\n",
    "3. Без дубликатов исследование станет более точным. Все явные, а также обнаруженные неявные дубликаты удалены.\n",
    "\n",
    "\n",
    "Теперь можно переходить к проверке гипотез. "
   ]
  },
  {
   "cell_type": "markdown",
   "metadata": {
    "id": "WttZHXH0SqKk"
   },
   "source": [
    "## Проверка гипотез"
   ]
  },
  {
   "cell_type": "markdown",
   "metadata": {
    "id": "Im936VVi_Zcu"
   },
   "source": [
    "### Сравнение поведения пользователей двух столиц"
   ]
  },
  {
   "cell_type": "markdown",
   "metadata": {
    "id": "nwt_MuaL_Zcu"
   },
   "source": [
    "Первая гипотеза утверждает, что пользователи по-разному слушают музыку в Москве и Санкт-Петербурге. Проверим это предположение по данным о трёх днях недели — понедельнике, среде и пятнице. \n",
    "\n",
    "Для этого:\n",
    "* разделим пользователей Москвы и Санкт-Петербурга;\n",
    "* сравните, сколько треков послушала каждая группа пользователей в понедельник, среду и пятницу."
   ]
  },
  {
   "cell_type": "markdown",
   "metadata": {
    "id": "8Dw_YMmT_Zcu"
   },
   "source": [
    "Сначала выполним каждый из расчётов по отдельности. \n",
    "\n",
    "Оценим активность пользователей в каждом городе. Сгруппируеме данные по городу и посчитаем прослушивания в каждой группе."
   ]
  },
  {
   "cell_type": "code",
   "execution_count": 20,
   "metadata": {
    "id": "0_Qs96oh_Zcu"
   },
   "outputs": [
    {
     "data": {
      "text/plain": [
       "city\n",
       "Moscow              42741\n",
       "Saint-Petersburg    18512\n",
       "Name: track, dtype: int64"
      ]
     },
     "execution_count": 20,
     "metadata": {},
     "output_type": "execute_result"
    }
   ],
   "source": [
    "# Подсчёт прослушиваний в каждом городе\n",
    "\n",
    "df.groupby('city')['track'].count()"
   ]
  },
  {
   "cell_type": "markdown",
   "metadata": {
    "id": "dzli3w8o_Zcu"
   },
   "source": [
    "В Москве прослушиваний больше, чем в Петербурге. Из этого не следует, что московские пользователи чаще слушают музыку. Просто самих пользователей в Москве больше.\n",
    "\n",
    "Теперь сгруппируем данные по дню недели и подсчитаем прослушивания в понедельник, среду и пятницу. Заметим, что в данных есть информация о прослушиваниях только за эти дни."
   ]
  },
  {
   "cell_type": "code",
   "execution_count": 21,
   "metadata": {
    "id": "uZMKjiJz_Zcu"
   },
   "outputs": [
    {
     "data": {
      "text/plain": [
       "day\n",
       "Friday       21840\n",
       "Monday       21354\n",
       "Wednesday    18059\n",
       "Name: track, dtype: int64"
      ]
     },
     "execution_count": 21,
     "metadata": {},
     "output_type": "execute_result"
    }
   ],
   "source": [
    "# Подсчёт прослушиваний в каждый из трёх дней\n",
    "\n",
    "df.groupby('day')['track'].count()"
   ]
  },
  {
   "cell_type": "markdown",
   "metadata": {
    "id": "cC2tNrlL_Zcu"
   },
   "source": [
    "В среднем пользователи из двух городов менее активны по средам. Но картина может измениться, если рассмотреть каждый город в отдельности."
   ]
  },
  {
   "cell_type": "markdown",
   "metadata": {
    "id": "POzs8bGa_Zcu"
   },
   "source": [
    "Мы видели, как работает группировка по городу и по дням недели. Теперь напишем функцию, которая объединит два эти расчёта.\n",
    "\n",
    "Создадим функцию `number_tracks()`, которая посчитает прослушивания для заданного дня и города. Ей понадобятся два параметра:\n",
    "* день недели;\n",
    "* название города.\n",
    "\n",
    "Сохраним в переменную строки исходной таблицы, у которых значение:\n",
    "  * в столбце `day` равно параметру \"day\";\n",
    "  * в столбце `city` равно параметру \"city\".\n",
    "\n",
    "Для этого применим последовательную фильтрацию с логической индексацией.\n",
    "\n",
    "Затем посчитаем значения в столбце `user_id` получившейся таблицы. Результат сохраним в новую переменную. Вернём эту переменную из функции."
   ]
  },
  {
   "cell_type": "code",
   "execution_count": 22,
   "metadata": {
    "id": "Nz3GdQB1_Zcu"
   },
   "outputs": [],
   "source": [
    "# Функция для подсчёта прослушиваний для конкретного города и дня\n",
    "\n",
    "def number_tracks(day, city):\n",
    "    track_list = df[df['day'] == day]\n",
    "    track_list = track_list[track_list['city'] == city]\n",
    "    track_list_count = track_list['user_id'].count()\n",
    "    return track_list_count"
   ]
  },
  {
   "cell_type": "markdown",
   "metadata": {
    "id": "ytf7xFrFJQ2r"
   },
   "source": [
    "Вызовем `number_tracks()` с помощью цикла, чтобы получить данные для каждого города в каждый из трёх дней."
   ]
  },
  {
   "cell_type": "code",
   "execution_count": 23,
   "metadata": {},
   "outputs": [
    {
     "name": "stdout",
     "output_type": "stream",
     "text": [
      "Количество прослушиваний в Москве по понедельникам: 15740\n",
      "Количество прослушиваний в Санкт-Петербурге по понедельникам: 5614\n",
      "Количество прослушиваний в Москве по средам: 11056\n",
      "Количество прослушиваний в Санкт-Петербурге по средам: 7003\n",
      "Количество прослушиваний в Москве по пятницам: 15945\n",
      "Количество прослушиваний в Санкт-Петербурге по пятницам: 5895\n"
     ]
    }
   ],
   "source": [
    "# Вывод количества прослушиваний в каждом городе за каждый день недели\n",
    "\n",
    "cities = ['Moscow', 'Saint-Petersburg']\n",
    "days = ['Monday', 'Wednesday', 'Friday']\n",
    "russian_names = {'Moscow': 'Москве', \n",
    "                 'Saint-Petersburg': 'Санкт-Петербурге', \n",
    "                 'Monday': 'понедельникам', \n",
    "                 'Wednesday': 'средам', \n",
    "                 'Friday': 'пятницам'}\n",
    "\n",
    "for day in days:\n",
    "    for city in cities:\n",
    "        print(f'Количество прослушиваний в {russian_names[city]} по {russian_names[day]}:', \n",
    "              number_tracks(day, city))"
   ]
  },
  {
   "cell_type": "markdown",
   "metadata": {
    "id": "7QXffbO-_Zcu"
   },
   "source": [
    "Создадим c помощью конструктора `pd.DataFrame` таблицу, где:\n",
    "* названия колонок — `['city', 'monday', 'wednesday', 'friday']`;\n",
    "* данные — результаты, которые мы получили с помощью `number_tracks`."
   ]
  },
  {
   "cell_type": "code",
   "execution_count": 24,
   "metadata": {
    "id": "APAcLpOr_Zcu"
   },
   "outputs": [
    {
     "data": {
      "text/html": [
       "<div>\n",
       "<style scoped>\n",
       "    .dataframe tbody tr th:only-of-type {\n",
       "        vertical-align: middle;\n",
       "    }\n",
       "\n",
       "    .dataframe tbody tr th {\n",
       "        vertical-align: top;\n",
       "    }\n",
       "\n",
       "    .dataframe thead th {\n",
       "        text-align: right;\n",
       "    }\n",
       "</style>\n",
       "<table border=\"1\" class=\"dataframe\">\n",
       "  <thead>\n",
       "    <tr style=\"text-align: right;\">\n",
       "      <th></th>\n",
       "      <th>city</th>\n",
       "      <th>monday</th>\n",
       "      <th>wednesday</th>\n",
       "      <th>friday</th>\n",
       "    </tr>\n",
       "  </thead>\n",
       "  <tbody>\n",
       "    <tr>\n",
       "      <th>0</th>\n",
       "      <td>Moscow</td>\n",
       "      <td>15740</td>\n",
       "      <td>11056</td>\n",
       "      <td>15945</td>\n",
       "    </tr>\n",
       "    <tr>\n",
       "      <th>1</th>\n",
       "      <td>Saint-Petersburg</td>\n",
       "      <td>5614</td>\n",
       "      <td>7003</td>\n",
       "      <td>5895</td>\n",
       "    </tr>\n",
       "  </tbody>\n",
       "</table>\n",
       "</div>"
      ],
      "text/plain": [
       "               city  monday  wednesday  friday\n",
       "0            Moscow   15740      11056   15945\n",
       "1  Saint-Petersburg    5614       7003    5895"
      ]
     },
     "execution_count": 24,
     "metadata": {},
     "output_type": "execute_result"
    }
   ],
   "source": [
    "# Таблица с результатами\n",
    "\n",
    "data = []\n",
    "\n",
    "for city in cities:\n",
    "    city_tracks = [city]\n",
    "    for day in days:\n",
    "        city_tracks.append(number_tracks(day, city))\n",
    "    data.append(city_tracks)\n",
    "\n",
    "columns = ['city', 'monday', 'wednesday', 'friday']\n",
    "\n",
    "track_numbers = pd.DataFrame(data=data, columns=columns)\n",
    "\n",
    "track_numbers"
   ]
  },
  {
   "cell_type": "markdown",
   "metadata": {
    "id": "-EgPIHYu_Zcu"
   },
   "source": [
    "**Выводы**\n",
    "\n",
    "Данные показывают разницу поведения пользователей:\n",
    "\n",
    "- В Москве пик прослушиваний приходится на понедельник и пятницу, а в среду заметен спад.\n",
    "- В Петербурге, наоборот, больше слушают музыку по средам. Активность в понедельник и пятницу здесь почти в равной мере уступает среде.\n",
    "\n",
    "Значит, данные говорят в пользу первой гипотезы."
   ]
  },
  {
   "cell_type": "markdown",
   "metadata": {
    "id": "atZAxtq4_Zcu"
   },
   "source": [
    "### Музыка в начале и в конце недели"
   ]
  },
  {
   "cell_type": "markdown",
   "metadata": {
    "id": "eXrQqXFH_Zcu"
   },
   "source": [
    "Согласно второй гипотезе, утром в понедельник в Москве преобладают одни жанры, а в Петербурге — другие. Так же и вечером пятницы преобладают разные жанры — в зависимости от города."
   ]
  },
  {
   "cell_type": "markdown",
   "metadata": {
    "id": "S8UcW6Hw_Zcu"
   },
   "source": [
    "Сохраним таблицы с данными в две переменные:\n",
    "* по Москве — в `moscow_general`;\n",
    "* по Санкт-Петербургу — в `spb_general`."
   ]
  },
  {
   "cell_type": "code",
   "execution_count": 25,
   "metadata": {
    "id": "qeaFfM_P_Zcu"
   },
   "outputs": [
    {
     "data": {
      "text/html": [
       "<div>\n",
       "<style scoped>\n",
       "    .dataframe tbody tr th:only-of-type {\n",
       "        vertical-align: middle;\n",
       "    }\n",
       "\n",
       "    .dataframe tbody tr th {\n",
       "        vertical-align: top;\n",
       "    }\n",
       "\n",
       "    .dataframe thead th {\n",
       "        text-align: right;\n",
       "    }\n",
       "</style>\n",
       "<table border=\"1\" class=\"dataframe\">\n",
       "  <thead>\n",
       "    <tr style=\"text-align: right;\">\n",
       "      <th></th>\n",
       "      <th>user_id</th>\n",
       "      <th>track</th>\n",
       "      <th>artist</th>\n",
       "      <th>genre</th>\n",
       "      <th>city</th>\n",
       "      <th>time</th>\n",
       "      <th>day</th>\n",
       "    </tr>\n",
       "  </thead>\n",
       "  <tbody>\n",
       "    <tr>\n",
       "      <th>1</th>\n",
       "      <td>55204538</td>\n",
       "      <td>Delayed Because of Accident</td>\n",
       "      <td>Andreas Rönnberg</td>\n",
       "      <td>rock</td>\n",
       "      <td>Moscow</td>\n",
       "      <td>14:07:09</td>\n",
       "      <td>Friday</td>\n",
       "    </tr>\n",
       "    <tr>\n",
       "      <th>4</th>\n",
       "      <td>E2DC1FAE</td>\n",
       "      <td>Soul People</td>\n",
       "      <td>Space Echo</td>\n",
       "      <td>dance</td>\n",
       "      <td>Moscow</td>\n",
       "      <td>08:34:34</td>\n",
       "      <td>Monday</td>\n",
       "    </tr>\n",
       "    <tr>\n",
       "      <th>6</th>\n",
       "      <td>4CB90AA5</td>\n",
       "      <td>True</td>\n",
       "      <td>Roman Messer</td>\n",
       "      <td>dance</td>\n",
       "      <td>Moscow</td>\n",
       "      <td>13:00:07</td>\n",
       "      <td>Wednesday</td>\n",
       "    </tr>\n",
       "    <tr>\n",
       "      <th>7</th>\n",
       "      <td>F03E1C1F</td>\n",
       "      <td>Feeling This Way</td>\n",
       "      <td>Polina Griffith</td>\n",
       "      <td>dance</td>\n",
       "      <td>Moscow</td>\n",
       "      <td>20:47:49</td>\n",
       "      <td>Wednesday</td>\n",
       "    </tr>\n",
       "    <tr>\n",
       "      <th>8</th>\n",
       "      <td>8FA1D3BE</td>\n",
       "      <td>И вновь продолжается бой</td>\n",
       "      <td>unknown</td>\n",
       "      <td>ruspop</td>\n",
       "      <td>Moscow</td>\n",
       "      <td>09:17:40</td>\n",
       "      <td>Friday</td>\n",
       "    </tr>\n",
       "  </tbody>\n",
       "</table>\n",
       "</div>"
      ],
      "text/plain": [
       "    user_id                        track            artist   genre    city  \\\n",
       "1  55204538  Delayed Because of Accident  Andreas Rönnberg    rock  Moscow   \n",
       "4  E2DC1FAE                  Soul People        Space Echo   dance  Moscow   \n",
       "6  4CB90AA5                         True      Roman Messer   dance  Moscow   \n",
       "7  F03E1C1F             Feeling This Way   Polina Griffith   dance  Moscow   \n",
       "8  8FA1D3BE     И вновь продолжается бой           unknown  ruspop  Moscow   \n",
       "\n",
       "       time        day  \n",
       "1  14:07:09     Friday  \n",
       "4  08:34:34     Monday  \n",
       "6  13:00:07  Wednesday  \n",
       "7  20:47:49  Wednesday  \n",
       "8  09:17:40     Friday  "
      ]
     },
     "execution_count": 25,
     "metadata": {},
     "output_type": "execute_result"
    }
   ],
   "source": [
    "# Получение таблицы moscow_general из тех строк таблицы df, \n",
    "# для которых значение в столбце 'city' равно 'Moscow'\n",
    "\n",
    "moscow_general = df[df['city'] == 'Moscow']\n",
    "moscow_general.head()"
   ]
  },
  {
   "cell_type": "code",
   "execution_count": 26,
   "metadata": {
    "id": "ORaVRKto_Zcu"
   },
   "outputs": [
    {
     "data": {
      "text/html": [
       "<div>\n",
       "<style scoped>\n",
       "    .dataframe tbody tr th:only-of-type {\n",
       "        vertical-align: middle;\n",
       "    }\n",
       "\n",
       "    .dataframe tbody tr th {\n",
       "        vertical-align: top;\n",
       "    }\n",
       "\n",
       "    .dataframe thead th {\n",
       "        text-align: right;\n",
       "    }\n",
       "</style>\n",
       "<table border=\"1\" class=\"dataframe\">\n",
       "  <thead>\n",
       "    <tr style=\"text-align: right;\">\n",
       "      <th></th>\n",
       "      <th>user_id</th>\n",
       "      <th>track</th>\n",
       "      <th>artist</th>\n",
       "      <th>genre</th>\n",
       "      <th>city</th>\n",
       "      <th>time</th>\n",
       "      <th>day</th>\n",
       "    </tr>\n",
       "  </thead>\n",
       "  <tbody>\n",
       "    <tr>\n",
       "      <th>0</th>\n",
       "      <td>FFB692EC</td>\n",
       "      <td>Kamigata To Boots</td>\n",
       "      <td>The Mass Missile</td>\n",
       "      <td>rock</td>\n",
       "      <td>Saint-Petersburg</td>\n",
       "      <td>20:28:33</td>\n",
       "      <td>Wednesday</td>\n",
       "    </tr>\n",
       "    <tr>\n",
       "      <th>2</th>\n",
       "      <td>20EC38</td>\n",
       "      <td>Funiculì funiculà</td>\n",
       "      <td>Mario Lanza</td>\n",
       "      <td>pop</td>\n",
       "      <td>Saint-Petersburg</td>\n",
       "      <td>20:58:07</td>\n",
       "      <td>Wednesday</td>\n",
       "    </tr>\n",
       "    <tr>\n",
       "      <th>3</th>\n",
       "      <td>A3DD03C9</td>\n",
       "      <td>Dragons in the Sunset</td>\n",
       "      <td>Fire + Ice</td>\n",
       "      <td>folk</td>\n",
       "      <td>Saint-Petersburg</td>\n",
       "      <td>08:37:09</td>\n",
       "      <td>Monday</td>\n",
       "    </tr>\n",
       "    <tr>\n",
       "      <th>5</th>\n",
       "      <td>842029A1</td>\n",
       "      <td>Преданная</td>\n",
       "      <td>IMPERVTOR</td>\n",
       "      <td>rusrap</td>\n",
       "      <td>Saint-Petersburg</td>\n",
       "      <td>13:09:41</td>\n",
       "      <td>Friday</td>\n",
       "    </tr>\n",
       "    <tr>\n",
       "      <th>9</th>\n",
       "      <td>E772D5C0</td>\n",
       "      <td>Pessimist</td>\n",
       "      <td>unknown</td>\n",
       "      <td>dance</td>\n",
       "      <td>Saint-Petersburg</td>\n",
       "      <td>21:20:49</td>\n",
       "      <td>Wednesday</td>\n",
       "    </tr>\n",
       "  </tbody>\n",
       "</table>\n",
       "</div>"
      ],
      "text/plain": [
       "    user_id                  track            artist   genre  \\\n",
       "0  FFB692EC      Kamigata To Boots  The Mass Missile    rock   \n",
       "2    20EC38      Funiculì funiculà       Mario Lanza     pop   \n",
       "3  A3DD03C9  Dragons in the Sunset        Fire + Ice    folk   \n",
       "5  842029A1              Преданная         IMPERVTOR  rusrap   \n",
       "9  E772D5C0              Pessimist           unknown   dance   \n",
       "\n",
       "               city      time        day  \n",
       "0  Saint-Petersburg  20:28:33  Wednesday  \n",
       "2  Saint-Petersburg  20:58:07  Wednesday  \n",
       "3  Saint-Petersburg  08:37:09     Monday  \n",
       "5  Saint-Petersburg  13:09:41     Friday  \n",
       "9  Saint-Petersburg  21:20:49  Wednesday  "
      ]
     },
     "execution_count": 26,
     "metadata": {},
     "output_type": "execute_result"
    }
   ],
   "source": [
    "# Получение таблицы spb_general из тех строк таблицы df,\n",
    "# для которых значение в столбце 'city' равно 'Saint-Petersburg'\n",
    "\n",
    "spb_general = df[df['city'] == 'Saint-Petersburg']\n",
    "spb_general.head()"
   ]
  },
  {
   "cell_type": "markdown",
   "metadata": {
    "id": "MEJV-CX2_Zcu"
   },
   "source": [
    "Создадим функцию `genre_weekday()` с четырьмя параметрами:\n",
    "* датафрейм с данными,\n",
    "* день недели,\n",
    "* начальная временная метка в формате 'hh:mm',\n",
    "* конечная временная метка в формате 'hh:mm'.\n",
    "\n",
    "Функция должна вернуть информацию о топ-10 жанрах тех треков, которые прослушивали в указанный день, в промежутке между двумя отметками времени."
   ]
  },
  {
   "cell_type": "code",
   "execution_count": 27,
   "metadata": {
    "id": "laJT9BYl_Zcu"
   },
   "outputs": [],
   "source": [
    "# Функция, возвращающая информацию о самых популярных жанрах \n",
    "# в указанный день в заданное время\n",
    "\n",
    "def genre_weekday(table, day, time1, time2):\n",
    "    genre_df = table[table['day'] == day]\n",
    "    genre_df = genre_df[genre_df['time'] > time1]\n",
    "    genre_df = genre_df[genre_df['time'] < time2]\n",
    "    genre_df_count = genre_df.groupby('genre')['track'].count()\n",
    "    genre_df_sorted = genre_df_count.sort_values(ascending=False)\n",
    "    return genre_df_sorted[:10]"
   ]
  },
  {
   "cell_type": "markdown",
   "metadata": {
    "id": "la2s2_PF_Zcu"
   },
   "source": [
    "Cравним результаты функции `genre_weekday()` для Москвы и Санкт-Петербурга в понедельник утром (с 7:00 до 11:00) и в пятницу вечером (с 17:00 до 23:00)."
   ]
  },
  {
   "cell_type": "code",
   "execution_count": 28,
   "metadata": {
    "id": "yz7itPUQ_Zcu"
   },
   "outputs": [
    {
     "data": {
      "text/plain": [
       "genre\n",
       "pop            781\n",
       "dance          549\n",
       "electronic     480\n",
       "rock           474\n",
       "hiphop         286\n",
       "ruspop         186\n",
       "world          181\n",
       "rusrap         175\n",
       "alternative    164\n",
       "unknown        161\n",
       "Name: track, dtype: int64"
      ]
     },
     "execution_count": 28,
     "metadata": {},
     "output_type": "execute_result"
    }
   ],
   "source": [
    "# Вызов функции для утра понедельника в Москве\n",
    "\n",
    "genre_weekday(moscow_general, 'Monday', '07:00', '11:00')"
   ]
  },
  {
   "cell_type": "code",
   "execution_count": 29,
   "metadata": {
    "id": "kwUcHPdy_Zcu"
   },
   "outputs": [
    {
     "data": {
      "text/plain": [
       "genre\n",
       "pop            218\n",
       "dance          182\n",
       "rock           162\n",
       "electronic     147\n",
       "hiphop          80\n",
       "ruspop          64\n",
       "alternative     58\n",
       "rusrap          55\n",
       "jazz            44\n",
       "classical       40\n",
       "Name: track, dtype: int64"
      ]
     },
     "execution_count": 29,
     "metadata": {},
     "output_type": "execute_result"
    }
   ],
   "source": [
    "# Вызов функции для утра понедельника в Петербурге\n",
    "\n",
    "genre_weekday(spb_general, 'Monday', '07:00', '11:00')"
   ]
  },
  {
   "cell_type": "code",
   "execution_count": 30,
   "metadata": {
    "id": "EzXVRE1o_Zcu"
   },
   "outputs": [
    {
     "data": {
      "text/plain": [
       "genre\n",
       "pop            713\n",
       "rock           517\n",
       "dance          495\n",
       "electronic     482\n",
       "hiphop         273\n",
       "world          208\n",
       "ruspop         170\n",
       "classical      163\n",
       "alternative    163\n",
       "rusrap         142\n",
       "Name: track, dtype: int64"
      ]
     },
     "execution_count": 30,
     "metadata": {},
     "output_type": "execute_result"
    }
   ],
   "source": [
    "# Вызов функции для вечера пятницы в Москве\n",
    "\n",
    "genre_weekday(moscow_general, 'Friday', '17:00', '23:00')"
   ]
  },
  {
   "cell_type": "code",
   "execution_count": 31,
   "metadata": {
    "id": "JZaEKu5v_Zcu"
   },
   "outputs": [
    {
     "data": {
      "text/plain": [
       "genre\n",
       "pop            256\n",
       "electronic     216\n",
       "rock           216\n",
       "dance          210\n",
       "hiphop          97\n",
       "alternative     63\n",
       "jazz            61\n",
       "classical       60\n",
       "rusrap          59\n",
       "world           54\n",
       "Name: track, dtype: int64"
      ]
     },
     "execution_count": 31,
     "metadata": {},
     "output_type": "execute_result"
    }
   ],
   "source": [
    "# Вызов функции для вечера пятницы в Петербурге\n",
    "\n",
    "genre_weekday(spb_general, 'Friday', '17:00', '23:00')"
   ]
  },
  {
   "cell_type": "markdown",
   "metadata": {
    "id": "wrCe4MNX_Zcu"
   },
   "source": [
    "**Выводы**\n",
    "\n",
    "1. Если сравнить топ-10 жанров в понедельник утром, то В Москве и Петербурге слушают похожую музыку. Единственное отличие — в московский рейтинг вошёл жанр “world”, а в петербургский — джаз и классика. В Москве пропущенных значений оказалось так много, что значение `'unknown'` заняло десятое место среди самых популярных жанров. Значит, пропущенные значения занимают существенную долю в данных и угрожают достоверности исследования.\n",
    "\n",
    "\n",
    "2. Вечер пятницы не меняет эту картину. Некоторые жанры поднимаются немного выше, другие спускаются, но в целом топ-10 остаётся тем же самым. \n",
    "\n",
    "\n",
    "Таким образом, вторая гипотеза подтвердилась лишь частично. Пользователи слушают похожую музыку в начале недели и в конце. Разница между Москвой и Петербургом не слишком выражена. В Москве чаще слушают русскую популярную музыку, в Петербурге — джаз и классическую музыку. Однако пропуски в данных ставят под сомнение этот результат. В Москве их так много, что рейтинг топ-10 мог бы выглядеть иначе, если бы не утерянные  данные о жанрах."
   ]
  },
  {
   "cell_type": "markdown",
   "metadata": {
    "id": "JolODAqr_Zcu"
   },
   "source": [
    "### Жанровые предпочтения в Москве и Петербурге\n",
    "\n",
    "Гипотеза: Петербург — столица рэпа, музыку этого жанра там слушают чаще, чем в Москве.  А Москва — город контрастов, в котором, тем не менее, преобладает поп-музыка."
   ]
  },
  {
   "cell_type": "markdown",
   "metadata": {
    "id": "DlegSvaT_Zcu"
   },
   "source": [
    "Сгруппируем таблицу `moscow_general` по жанру и посчитаем прослушивания треков каждого жанра методом `count()`. Затем отсортируем результат в порядке убывания и сохраним его в таблице `moscow_genres`."
   ]
  },
  {
   "cell_type": "code",
   "execution_count": 32,
   "metadata": {
    "id": "r19lIPke_Zcu"
   },
   "outputs": [],
   "source": [
    "# Группировка таблицы по столбцу 'genre', \n",
    "# подсчёт числа значений и сортировка в порядке убывания\n",
    "\n",
    "moscow_genres = (moscow_general\n",
    "                 .groupby('genre')['genre']\n",
    "                 .count()\n",
    "                 .sort_values(ascending=False))"
   ]
  },
  {
   "cell_type": "markdown",
   "metadata": {
    "id": "6kMuomxTiIr8"
   },
   "source": [
    "Выведием на экран первые десять строк `moscow_genres`."
   ]
  },
  {
   "cell_type": "code",
   "execution_count": 33,
   "metadata": {
    "id": "WhCSooF8_Zcv"
   },
   "outputs": [
    {
     "data": {
      "text/plain": [
       "genre\n",
       "pop            5892\n",
       "dance          4435\n",
       "rock           3965\n",
       "electronic     3786\n",
       "hiphop         2096\n",
       "classical      1616\n",
       "world          1432\n",
       "alternative    1379\n",
       "ruspop         1372\n",
       "rusrap         1161\n",
       "Name: genre, dtype: int64"
      ]
     },
     "execution_count": 33,
     "metadata": {},
     "output_type": "execute_result"
    }
   ],
   "source": [
    "# Просмотр первых 10 строк moscow_genres\n",
    "\n",
    "moscow_genres.head(10)"
   ]
  },
  {
   "cell_type": "markdown",
   "metadata": {
    "id": "cnPG2vnN_Zcv"
   },
   "source": [
    "Теперь повторим то же для Санкт-Петербурга и сохраним в таблице `spb_genres`."
   ]
  },
  {
   "cell_type": "code",
   "execution_count": 34,
   "metadata": {
    "id": "gluLIpE7_Zcv"
   },
   "outputs": [],
   "source": [
    "# Группировка таблицы по столбцу 'genre', \n",
    "# подсчёт числа значений и сортировка в порядке убывания\n",
    "\n",
    "spb_genres = (spb_general\n",
    "              .groupby('genre')['genre']\n",
    "              .count()\n",
    "              .sort_values(ascending=False))"
   ]
  },
  {
   "cell_type": "markdown",
   "metadata": {
    "id": "5Doha_ODgyQ8"
   },
   "source": [
    "Выведем на экран первые десять строк `spb_genres`."
   ]
  },
  {
   "cell_type": "code",
   "execution_count": 35,
   "metadata": {
    "id": "uaGJHjVU_Zcv"
   },
   "outputs": [
    {
     "data": {
      "text/plain": [
       "genre\n",
       "pop            2431\n",
       "dance          1932\n",
       "rock           1879\n",
       "electronic     1737\n",
       "hiphop          960\n",
       "alternative     649\n",
       "classical       646\n",
       "rusrap          564\n",
       "ruspop          538\n",
       "world           515\n",
       "Name: genre, dtype: int64"
      ]
     },
     "execution_count": 35,
     "metadata": {},
     "output_type": "execute_result"
    }
   ],
   "source": [
    "# Просмотр первых 10 строк spb_genres\n",
    "\n",
    "spb_genres.head(10)"
   ]
  },
  {
   "cell_type": "markdown",
   "metadata": {
    "id": "RY51YJYu_Zcv"
   },
   "source": [
    "**Выводы**"
   ]
  },
  {
   "cell_type": "markdown",
   "metadata": {
    "id": "nVhnJEm__Zcv"
   },
   "source": [
    "Гипотеза частично подтвердилась:\n",
    "* Поп-музыка — самый популярный жанр в Москве, как и предполагала гипотеза. Более того, в топ-10 жанров встречается близкий жанр — русская популярная музыка.\n",
    "* Вопреки ожиданиям, рэп одинаково популярен в Москве и Петербурге. \n"
   ]
  },
  {
   "cell_type": "markdown",
   "metadata": {
    "id": "ykKQ0N65_Zcv"
   },
   "source": [
    "## Итоги исследования"
   ]
  },
  {
   "cell_type": "markdown",
   "metadata": {
    "id": "tjUwbHb3_Zcv"
   },
   "source": [
    "Мы проверили три гипотезы и установили:\n",
    "\n",
    "\n",
    "1. День недели по-разному влияет на активность пользователей в Москве и Петербурге. \n",
    "\n",
    "    Первая гипотеза полностью подтвердилась.\n",
    "\n",
    "\n",
    "2. Музыкальные предпочтения не сильно меняются в течение недели — будь то Москва или Петербург. Небольшие различия заметны в начале недели, по понедельникам:\n",
    "* в Москве слушают музыку жанра “world”,\n",
    "* в Петербурге — джаз и классику.\n",
    "\n",
    "    Таким образом, вторая гипотеза подтвердилась лишь отчасти. Этот результат мог оказаться иным, если бы не пропуски в данных.\n",
    "\n",
    "\n",
    "3. Во вкусах пользователей Москвы и Петербурга больше общего чем различий. Вопреки ожиданиям, предпочтения жанров в Петербурге напоминают московские.\n",
    "\n",
    "    Третья гипотеза не подтвердилась. Если различия в предпочтениях и существуют, на основной массе пользователей они незаметны."
   ]
  }
 ],
 "metadata": {
  "ExecuteTimeLog": [
   {
    "duration": 61,
    "start_time": "2022-04-07T18:31:02.562Z"
   },
   {
    "duration": 429,
    "start_time": "2022-04-07T18:31:13.883Z"
   },
   {
    "duration": 64,
    "start_time": "2022-04-07T18:31:19.783Z"
   },
   {
    "duration": 63,
    "start_time": "2022-04-07T18:32:40.485Z"
   },
   {
    "duration": 78,
    "start_time": "2022-04-07T18:32:54.328Z"
   },
   {
    "duration": 601,
    "start_time": "2022-04-07T18:33:07.008Z"
   },
   {
    "duration": 3,
    "start_time": "2022-04-07T18:33:16.672Z"
   },
   {
    "duration": 153,
    "start_time": "2022-04-07T18:33:25.181Z"
   },
   {
    "duration": 17,
    "start_time": "2022-04-07T18:33:33.200Z"
   },
   {
    "duration": 31,
    "start_time": "2022-04-07T18:34:14.485Z"
   },
   {
    "duration": 5,
    "start_time": "2022-04-07T18:36:59.938Z"
   },
   {
    "duration": 3,
    "start_time": "2022-04-07T18:39:53.568Z"
   },
   {
    "duration": 16,
    "start_time": "2022-04-07T18:45:27.269Z"
   },
   {
    "duration": 4,
    "start_time": "2022-04-07T18:45:43.165Z"
   },
   {
    "duration": 44,
    "start_time": "2022-04-07T19:03:18.237Z"
   },
   {
    "duration": 23,
    "start_time": "2022-04-07T19:03:31.211Z"
   },
   {
    "duration": 3,
    "start_time": "2022-04-07T19:04:09.471Z"
   },
   {
    "duration": 3,
    "start_time": "2022-04-07T19:04:30.770Z"
   },
   {
    "duration": 29,
    "start_time": "2022-04-07T19:05:08.932Z"
   },
   {
    "duration": 29,
    "start_time": "2022-04-07T19:05:19.288Z"
   },
   {
    "duration": 27,
    "start_time": "2022-04-07T19:05:30.287Z"
   },
   {
    "duration": 145,
    "start_time": "2022-04-07T19:05:48.158Z"
   },
   {
    "duration": 421,
    "start_time": "2022-04-07T19:06:45.905Z"
   },
   {
    "duration": 151,
    "start_time": "2022-04-07T19:06:48.816Z"
   },
   {
    "duration": 16,
    "start_time": "2022-04-07T19:06:53.695Z"
   },
   {
    "duration": 29,
    "start_time": "2022-04-07T19:06:57.207Z"
   },
   {
    "duration": 4,
    "start_time": "2022-04-07T19:07:11.756Z"
   },
   {
    "duration": 13,
    "start_time": "2022-04-07T19:07:18.634Z"
   },
   {
    "duration": 4,
    "start_time": "2022-04-07T19:07:21.618Z"
   },
   {
    "duration": 25,
    "start_time": "2022-04-07T19:07:49.634Z"
   },
   {
    "duration": 26,
    "start_time": "2022-04-07T19:08:22.757Z"
   },
   {
    "duration": 33,
    "start_time": "2022-04-07T19:21:58.847Z"
   },
   {
    "duration": 19,
    "start_time": "2022-04-07T19:23:48.626Z"
   },
   {
    "duration": 23,
    "start_time": "2022-04-07T19:24:48.749Z"
   },
   {
    "duration": 67,
    "start_time": "2022-04-07T19:29:57.410Z"
   },
   {
    "duration": 20,
    "start_time": "2022-04-07T19:30:56.353Z"
   },
   {
    "duration": 993,
    "start_time": "2022-04-07T19:31:32.408Z"
   },
   {
    "duration": 9,
    "start_time": "2022-04-07T19:33:04.863Z"
   },
   {
    "duration": 8,
    "start_time": "2022-04-07T19:33:47.750Z"
   },
   {
    "duration": 8,
    "start_time": "2022-04-07T20:00:30.707Z"
   },
   {
    "duration": 7,
    "start_time": "2022-04-07T20:01:44.737Z"
   },
   {
    "duration": 1206,
    "start_time": "2022-04-07T20:12:06.162Z"
   },
   {
    "duration": 65,
    "start_time": "2022-04-07T20:12:19.041Z"
   },
   {
    "duration": 20,
    "start_time": "2022-04-07T20:12:27.376Z"
   },
   {
    "duration": 969,
    "start_time": "2022-04-07T20:13:33.374Z"
   },
   {
    "duration": 964,
    "start_time": "2022-04-07T20:13:49.836Z"
   },
   {
    "duration": 10,
    "start_time": "2022-04-07T20:14:27.830Z"
   },
   {
    "duration": 4,
    "start_time": "2022-04-07T20:15:13.744Z"
   },
   {
    "duration": 30,
    "start_time": "2022-04-07T20:18:30.707Z"
   },
   {
    "duration": 37,
    "start_time": "2022-04-07T20:23:00.036Z"
   },
   {
    "duration": 162,
    "start_time": "2022-04-07T20:23:23.822Z"
   },
   {
    "duration": 9,
    "start_time": "2022-04-07T20:23:42.835Z"
   },
   {
    "duration": 4,
    "start_time": "2022-04-07T20:23:46.375Z"
   },
   {
    "duration": 25,
    "start_time": "2022-04-07T20:23:50.266Z"
   },
   {
    "duration": 18,
    "start_time": "2022-04-07T20:24:04.916Z"
   },
   {
    "duration": 25,
    "start_time": "2022-04-07T20:24:08.554Z"
   },
   {
    "duration": 59,
    "start_time": "2022-04-07T20:25:42.278Z"
   },
   {
    "duration": 74,
    "start_time": "2022-04-07T20:27:00.872Z"
   },
   {
    "duration": 56,
    "start_time": "2022-04-07T20:27:36.433Z"
   },
   {
    "duration": 69,
    "start_time": "2022-04-07T20:28:10.838Z"
   },
   {
    "duration": 58,
    "start_time": "2022-04-07T20:28:14.269Z"
   },
   {
    "duration": 6,
    "start_time": "2022-04-07T20:28:59.658Z"
   },
   {
    "duration": 5,
    "start_time": "2022-04-07T20:29:11.508Z"
   },
   {
    "duration": 37,
    "start_time": "2022-04-07T20:31:44.074Z"
   },
   {
    "duration": 10,
    "start_time": "2022-04-07T20:32:00.389Z"
   },
   {
    "duration": 39,
    "start_time": "2022-04-07T20:33:58.204Z"
   },
   {
    "duration": 3,
    "start_time": "2022-04-07T20:40:10.277Z"
   },
   {
    "duration": 10,
    "start_time": "2022-04-07T20:44:47.745Z"
   },
   {
    "duration": 49,
    "start_time": "2022-04-07T20:45:12.762Z"
   },
   {
    "duration": 49,
    "start_time": "2022-04-08T17:43:51.654Z"
   },
   {
    "duration": 414,
    "start_time": "2022-04-08T17:44:08.680Z"
   },
   {
    "duration": 160,
    "start_time": "2022-04-08T17:44:11.883Z"
   },
   {
    "duration": 17,
    "start_time": "2022-04-08T17:44:15.199Z"
   },
   {
    "duration": 3,
    "start_time": "2022-04-08T17:44:26.881Z"
   },
   {
    "duration": 439,
    "start_time": "2022-04-08T17:45:38.579Z"
   },
   {
    "duration": 158,
    "start_time": "2022-04-08T17:45:41.753Z"
   },
   {
    "duration": 18,
    "start_time": "2022-04-08T17:45:44.214Z"
   },
   {
    "duration": 31,
    "start_time": "2022-04-08T17:45:50.497Z"
   },
   {
    "duration": 5,
    "start_time": "2022-04-08T17:46:01.544Z"
   },
   {
    "duration": 14,
    "start_time": "2022-04-08T17:46:15.444Z"
   },
   {
    "duration": 4,
    "start_time": "2022-04-08T17:46:18.073Z"
   },
   {
    "duration": 27,
    "start_time": "2022-04-08T17:46:20.434Z"
   },
   {
    "duration": 20,
    "start_time": "2022-04-08T17:46:27.201Z"
   },
   {
    "duration": 25,
    "start_time": "2022-04-08T17:46:29.558Z"
   },
   {
    "duration": 68,
    "start_time": "2022-04-08T17:46:36.990Z"
   },
   {
    "duration": 81,
    "start_time": "2022-04-08T17:46:41.507Z"
   },
   {
    "duration": 60,
    "start_time": "2022-04-08T17:46:43.742Z"
   },
   {
    "duration": 39,
    "start_time": "2022-04-08T17:46:49.028Z"
   },
   {
    "duration": 3,
    "start_time": "2022-04-08T17:47:05.690Z"
   },
   {
    "duration": 4,
    "start_time": "2022-04-08T17:47:08.612Z"
   },
   {
    "duration": 10,
    "start_time": "2022-04-08T17:47:17.309Z"
   },
   {
    "duration": 43,
    "start_time": "2022-04-08T17:47:20.451Z"
   },
   {
    "duration": 41,
    "start_time": "2022-04-08T17:47:23.202Z"
   },
   {
    "duration": 13,
    "start_time": "2022-04-08T17:57:05.291Z"
   },
   {
    "duration": 13,
    "start_time": "2022-04-08T17:58:49.113Z"
   },
   {
    "duration": 12,
    "start_time": "2022-04-08T17:59:23.868Z"
   },
   {
    "duration": 12,
    "start_time": "2022-04-08T17:59:28.173Z"
   },
   {
    "duration": 4,
    "start_time": "2022-04-08T18:06:57.382Z"
   },
   {
    "duration": 83,
    "start_time": "2022-04-08T18:07:54.255Z"
   },
   {
    "duration": 24,
    "start_time": "2022-04-08T18:16:05.953Z"
   },
   {
    "duration": 20,
    "start_time": "2022-04-08T18:16:21.263Z"
   },
   {
    "duration": 20,
    "start_time": "2022-04-08T18:16:37.068Z"
   },
   {
    "duration": 11,
    "start_time": "2022-04-08T18:16:45.876Z"
   },
   {
    "duration": 17,
    "start_time": "2022-04-08T18:16:54.933Z"
   },
   {
    "duration": 19,
    "start_time": "2022-04-08T18:17:32.987Z"
   },
   {
    "duration": 21,
    "start_time": "2022-04-08T18:17:44.049Z"
   },
   {
    "duration": 4,
    "start_time": "2022-04-08T18:18:28.422Z"
   },
   {
    "duration": 21,
    "start_time": "2022-04-08T18:21:10.960Z"
   },
   {
    "duration": 3,
    "start_time": "2022-04-08T18:21:58.089Z"
   },
   {
    "duration": 17,
    "start_time": "2022-04-08T18:22:05.140Z"
   },
   {
    "duration": 15,
    "start_time": "2022-04-08T18:22:08.391Z"
   },
   {
    "duration": 15,
    "start_time": "2022-04-08T18:22:11.164Z"
   },
   {
    "duration": 14,
    "start_time": "2022-04-08T18:22:14.078Z"
   },
   {
    "duration": 18,
    "start_time": "2022-04-08T18:22:17.380Z"
   },
   {
    "duration": 15,
    "start_time": "2022-04-08T18:22:20.138Z"
   },
   {
    "duration": 4,
    "start_time": "2022-04-08T18:30:02.922Z"
   },
   {
    "duration": 10,
    "start_time": "2022-04-08T18:30:32.779Z"
   },
   {
    "duration": 9,
    "start_time": "2022-04-08T18:30:44.713Z"
   },
   {
    "duration": 9,
    "start_time": "2022-04-08T18:31:30.372Z"
   },
   {
    "duration": 9,
    "start_time": "2022-04-08T18:31:38.763Z"
   },
   {
    "duration": 7,
    "start_time": "2022-04-08T18:31:55.745Z"
   },
   {
    "duration": 9,
    "start_time": "2022-04-08T18:32:08.131Z"
   },
   {
    "duration": 11,
    "start_time": "2022-04-08T18:40:36.977Z"
   },
   {
    "duration": 11,
    "start_time": "2022-04-08T18:40:45.329Z"
   },
   {
    "duration": 21,
    "start_time": "2022-04-08T18:41:17.316Z"
   },
   {
    "duration": 12,
    "start_time": "2022-04-08T18:41:42.638Z"
   },
   {
    "duration": 9,
    "start_time": "2022-04-08T18:41:45.280Z"
   },
   {
    "duration": 4,
    "start_time": "2022-04-08T18:52:02.796Z"
   },
   {
    "duration": 9,
    "start_time": "2022-04-08T18:54:08.870Z"
   },
   {
    "duration": 18,
    "start_time": "2022-04-08T18:54:38.360Z"
   },
   {
    "duration": 12,
    "start_time": "2022-04-08T18:55:31.116Z"
   },
   {
    "duration": 16,
    "start_time": "2022-04-08T18:56:37.957Z"
   },
   {
    "duration": 17,
    "start_time": "2022-04-08T18:57:14.400Z"
   },
   {
    "duration": 12,
    "start_time": "2022-04-08T18:57:20.167Z"
   },
   {
    "duration": 35,
    "start_time": "2022-04-08T19:02:41.836Z"
   },
   {
    "duration": 62,
    "start_time": "2022-04-08T19:03:36.151Z"
   },
   {
    "duration": 51,
    "start_time": "2022-04-08T19:03:44.862Z"
   },
   {
    "duration": 16,
    "start_time": "2022-04-08T19:05:55.128Z"
   },
   {
    "duration": 11,
    "start_time": "2022-04-08T19:08:28.448Z"
   },
   {
    "duration": 5,
    "start_time": "2022-04-08T19:09:12.784Z"
   },
   {
    "duration": 7,
    "start_time": "2022-04-08T19:10:37.919Z"
   },
   {
    "duration": 5,
    "start_time": "2022-04-08T19:10:54.971Z"
   },
   {
    "duration": 77,
    "start_time": "2022-04-18T17:14:04.025Z"
   },
   {
    "duration": 504,
    "start_time": "2022-04-18T17:14:10.264Z"
   },
   {
    "duration": 231,
    "start_time": "2022-04-18T17:14:10.771Z"
   },
   {
    "duration": 32,
    "start_time": "2022-04-18T17:14:11.004Z"
   },
   {
    "duration": 21,
    "start_time": "2022-04-18T17:14:11.039Z"
   },
   {
    "duration": 68,
    "start_time": "2022-04-18T17:14:11.063Z"
   },
   {
    "duration": 8,
    "start_time": "2022-04-18T17:14:11.134Z"
   },
   {
    "duration": 25,
    "start_time": "2022-04-18T17:14:11.145Z"
   },
   {
    "duration": 13,
    "start_time": "2022-04-18T17:14:11.172Z"
   },
   {
    "duration": 66,
    "start_time": "2022-04-18T17:14:11.187Z"
   },
   {
    "duration": 28,
    "start_time": "2022-04-18T17:14:11.255Z"
   },
   {
    "duration": 50,
    "start_time": "2022-04-18T17:14:11.286Z"
   },
   {
    "duration": 125,
    "start_time": "2022-04-18T17:14:11.339Z"
   },
   {
    "duration": 139,
    "start_time": "2022-04-18T17:14:11.467Z"
   },
   {
    "duration": 116,
    "start_time": "2022-04-18T17:14:11.612Z"
   },
   {
    "duration": 60,
    "start_time": "2022-04-18T17:14:11.732Z"
   },
   {
    "duration": 4,
    "start_time": "2022-04-18T17:14:11.794Z"
   },
   {
    "duration": 43,
    "start_time": "2022-04-18T17:14:11.800Z"
   },
   {
    "duration": 56,
    "start_time": "2022-04-18T17:14:11.845Z"
   },
   {
    "duration": 23,
    "start_time": "2022-04-18T17:14:11.925Z"
   },
   {
    "duration": 18,
    "start_time": "2022-04-18T17:14:11.950Z"
   },
   {
    "duration": 5,
    "start_time": "2022-04-18T17:14:11.970Z"
   },
   {
    "duration": 63,
    "start_time": "2022-04-18T17:14:11.977Z"
   },
   {
    "duration": 22,
    "start_time": "2022-04-18T17:14:12.043Z"
   },
   {
    "duration": 21,
    "start_time": "2022-04-18T17:14:12.068Z"
   },
   {
    "duration": 52,
    "start_time": "2022-04-18T17:14:12.091Z"
   },
   {
    "duration": 22,
    "start_time": "2022-04-18T17:14:12.146Z"
   },
   {
    "duration": 19,
    "start_time": "2022-04-18T17:14:12.170Z"
   },
   {
    "duration": 19,
    "start_time": "2022-04-18T17:14:12.227Z"
   },
   {
    "duration": 18,
    "start_time": "2022-04-18T17:14:12.248Z"
   },
   {
    "duration": 13,
    "start_time": "2022-04-18T17:14:12.269Z"
   },
   {
    "duration": 6,
    "start_time": "2022-04-18T17:14:12.284Z"
   },
   {
    "duration": 65,
    "start_time": "2022-04-18T17:14:12.292Z"
   },
   {
    "duration": 16,
    "start_time": "2022-04-18T17:14:12.359Z"
   },
   {
    "duration": 51,
    "start_time": "2022-04-18T17:14:12.377Z"
   },
   {
    "duration": 20,
    "start_time": "2022-04-18T17:14:12.432Z"
   },
   {
    "duration": 12,
    "start_time": "2022-04-18T17:14:12.454Z"
   },
   {
    "duration": 7,
    "start_time": "2022-04-18T17:14:12.468Z"
   },
   {
    "duration": 8,
    "start_time": "2022-04-18T17:14:12.477Z"
   },
   {
    "duration": 9,
    "start_time": "2022-04-18T17:14:12.524Z"
   },
   {
    "duration": 74,
    "start_time": "2022-05-03T13:42:52.495Z"
   },
   {
    "duration": 563,
    "start_time": "2022-05-03T13:43:11.527Z"
   },
   {
    "duration": 218,
    "start_time": "2022-05-03T13:43:14.657Z"
   },
   {
    "duration": 26,
    "start_time": "2022-05-03T13:43:33.923Z"
   },
   {
    "duration": 16,
    "start_time": "2022-05-03T13:43:42.365Z"
   },
   {
    "duration": 42,
    "start_time": "2022-05-03T13:43:50.415Z"
   },
   {
    "duration": 6,
    "start_time": "2022-05-03T13:43:57.529Z"
   },
   {
    "duration": 15,
    "start_time": "2022-05-03T13:44:03.244Z"
   },
   {
    "duration": 6,
    "start_time": "2022-05-03T13:44:06.421Z"
   },
   {
    "duration": 36,
    "start_time": "2022-05-03T13:44:11.427Z"
   },
   {
    "duration": 35,
    "start_time": "2022-05-03T13:44:23.991Z"
   },
   {
    "duration": 28,
    "start_time": "2022-05-03T13:44:30.190Z"
   },
   {
    "duration": 35,
    "start_time": "2022-05-03T13:44:44.504Z"
   },
   {
    "duration": 114,
    "start_time": "2022-05-03T13:44:54.613Z"
   },
   {
    "duration": 131,
    "start_time": "2022-05-03T13:44:59.932Z"
   },
   {
    "duration": 104,
    "start_time": "2022-05-03T13:45:02.690Z"
   },
   {
    "duration": 56,
    "start_time": "2022-05-03T13:45:11.846Z"
   },
   {
    "duration": 145,
    "start_time": "2022-05-03T13:52:42.618Z"
   },
   {
    "duration": 52,
    "start_time": "2022-05-09T14:11:33.801Z"
   },
   {
    "duration": 4,
    "start_time": "2022-05-09T14:12:07.455Z"
   },
   {
    "duration": 9,
    "start_time": "2022-05-09T14:12:17.967Z"
   },
   {
    "duration": 444,
    "start_time": "2022-05-09T14:13:21.444Z"
   },
   {
    "duration": 185,
    "start_time": "2022-05-09T14:13:23.634Z"
   },
   {
    "duration": 22,
    "start_time": "2022-05-09T14:13:24.266Z"
   },
   {
    "duration": 10,
    "start_time": "2022-05-09T14:13:24.616Z"
   },
   {
    "duration": 34,
    "start_time": "2022-05-09T14:13:24.977Z"
   },
   {
    "duration": 6,
    "start_time": "2022-05-09T14:13:26.332Z"
   },
   {
    "duration": 15,
    "start_time": "2022-05-09T14:13:27.127Z"
   },
   {
    "duration": 5,
    "start_time": "2022-05-09T14:13:27.748Z"
   },
   {
    "duration": 27,
    "start_time": "2022-05-09T14:13:28.356Z"
   },
   {
    "duration": 24,
    "start_time": "2022-05-09T14:13:29.181Z"
   },
   {
    "duration": 28,
    "start_time": "2022-05-09T14:13:29.839Z"
   },
   {
    "duration": 116,
    "start_time": "2022-05-09T14:13:30.419Z"
   },
   {
    "duration": 137,
    "start_time": "2022-05-09T14:13:31.056Z"
   },
   {
    "duration": 101,
    "start_time": "2022-05-09T14:13:31.488Z"
   },
   {
    "duration": 73,
    "start_time": "2022-05-09T14:13:32.367Z"
   },
   {
    "duration": 3,
    "start_time": "2022-05-09T14:13:33.382Z"
   },
   {
    "duration": 13,
    "start_time": "2022-05-09T14:13:34.100Z"
   },
   {
    "duration": 45,
    "start_time": "2022-05-09T14:13:34.527Z"
   },
   {
    "duration": 14,
    "start_time": "2022-05-09T14:14:05.792Z"
   },
   {
    "duration": 15,
    "start_time": "2022-05-09T14:14:06.745Z"
   },
   {
    "duration": 4,
    "start_time": "2022-05-09T14:14:09.091Z"
   },
   {
    "duration": 18,
    "start_time": "2022-05-09T14:14:10.442Z"
   },
   {
    "duration": 18,
    "start_time": "2022-05-09T14:14:10.803Z"
   },
   {
    "duration": 17,
    "start_time": "2022-05-09T14:14:11.368Z"
   },
   {
    "duration": 17,
    "start_time": "2022-05-09T14:14:11.872Z"
   },
   {
    "duration": 20,
    "start_time": "2022-05-09T14:14:12.594Z"
   },
   {
    "duration": 18,
    "start_time": "2022-05-09T14:14:13.621Z"
   },
   {
    "duration": 74,
    "start_time": "2022-05-09T14:14:15.668Z"
   },
   {
    "duration": 11,
    "start_time": "2022-05-09T14:14:22.084Z"
   },
   {
    "duration": 76,
    "start_time": "2022-05-09T14:14:30.615Z"
   },
   {
    "duration": 83,
    "start_time": "2022-05-09T14:15:24.117Z"
   },
   {
    "duration": 206,
    "start_time": "2022-05-09T14:25:58.655Z"
   },
   {
    "duration": 122,
    "start_time": "2022-05-09T14:26:28.079Z"
   },
   {
    "duration": 125,
    "start_time": "2022-05-09T14:26:42.925Z"
   },
   {
    "duration": 10,
    "start_time": "2022-05-09T14:26:46.023Z"
   },
   {
    "duration": 87,
    "start_time": "2022-05-09T14:42:35.543Z"
   },
   {
    "duration": 194,
    "start_time": "2022-05-09T14:44:22.914Z"
   },
   {
    "duration": 207,
    "start_time": "2022-05-09T14:45:42.197Z"
   },
   {
    "duration": 207,
    "start_time": "2022-05-09T14:45:57.562Z"
   },
   {
    "duration": 208,
    "start_time": "2022-05-09T14:46:10.926Z"
   },
   {
    "duration": 193,
    "start_time": "2022-05-09T14:46:49.446Z"
   },
   {
    "duration": 83,
    "start_time": "2022-05-09T14:48:41.419Z"
   },
   {
    "duration": 83,
    "start_time": "2022-05-09T14:48:44.791Z"
   },
   {
    "duration": 14,
    "start_time": "2022-05-09T14:48:54.547Z"
   },
   {
    "duration": 16,
    "start_time": "2022-05-09T14:48:55.437Z"
   },
   {
    "duration": 37,
    "start_time": "2022-05-09T14:49:23.027Z"
   },
   {
    "duration": 20,
    "start_time": "2022-05-09T14:49:54.952Z"
   },
   {
    "duration": 19,
    "start_time": "2022-05-09T14:50:10.689Z"
   },
   {
    "duration": 25,
    "start_time": "2022-05-09T14:50:38.331Z"
   },
   {
    "duration": 18,
    "start_time": "2022-05-09T14:50:39.078Z"
   },
   {
    "duration": 190,
    "start_time": "2022-05-09T14:50:53.766Z"
   },
   {
    "duration": 188,
    "start_time": "2022-05-09T14:51:10.812Z"
   },
   {
    "duration": 225,
    "start_time": "2022-05-09T14:51:17.174Z"
   },
   {
    "duration": 192,
    "start_time": "2022-05-09T14:51:21.873Z"
   },
   {
    "duration": 189,
    "start_time": "2022-05-09T14:51:29.510Z"
   },
   {
    "duration": 193,
    "start_time": "2022-05-09T14:51:49.066Z"
   },
   {
    "duration": 191,
    "start_time": "2022-05-09T14:53:39.527Z"
   },
   {
    "duration": 18,
    "start_time": "2022-05-09T14:54:29.946Z"
   },
   {
    "duration": 17,
    "start_time": "2022-05-09T14:54:30.775Z"
   },
   {
    "duration": 5,
    "start_time": "2022-05-09T15:08:28.459Z"
   },
   {
    "duration": 5,
    "start_time": "2022-05-09T15:12:09.933Z"
   },
   {
    "duration": 22,
    "start_time": "2022-05-09T15:12:14.072Z"
   },
   {
    "duration": 20,
    "start_time": "2022-05-09T15:12:24.878Z"
   },
   {
    "duration": 4,
    "start_time": "2022-05-09T15:12:39.152Z"
   },
   {
    "duration": 32,
    "start_time": "2022-05-09T15:12:41.323Z"
   },
   {
    "duration": 4,
    "start_time": "2022-05-09T15:12:48.755Z"
   },
   {
    "duration": 253,
    "start_time": "2022-05-09T15:13:08.566Z"
   },
   {
    "duration": 4,
    "start_time": "2022-05-09T15:13:33.923Z"
   },
   {
    "duration": 20,
    "start_time": "2022-05-09T15:14:53.022Z"
   },
   {
    "duration": 15,
    "start_time": "2022-05-09T15:14:54.053Z"
   },
   {
    "duration": 18,
    "start_time": "2022-05-09T15:14:56.048Z"
   },
   {
    "duration": 13,
    "start_time": "2022-05-09T15:14:57.081Z"
   },
   {
    "duration": 10,
    "start_time": "2022-05-09T15:15:11.745Z"
   },
   {
    "duration": 6,
    "start_time": "2022-05-09T15:15:12.883Z"
   },
   {
    "duration": 7,
    "start_time": "2022-05-09T15:15:14.488Z"
   },
   {
    "duration": 6,
    "start_time": "2022-05-09T15:15:15.748Z"
   },
   {
    "duration": 80,
    "start_time": "2022-05-09T15:17:29.298Z"
   },
   {
    "duration": 6,
    "start_time": "2022-05-09T15:18:07.719Z"
   },
   {
    "duration": 5,
    "start_time": "2022-05-09T15:19:28.054Z"
   },
   {
    "duration": 380,
    "start_time": "2022-12-03T12:00:15.251Z"
   },
   {
    "duration": 221,
    "start_time": "2022-12-03T12:00:17.026Z"
   },
   {
    "duration": 17,
    "start_time": "2022-12-03T12:00:23.467Z"
   },
   {
    "duration": 2,
    "start_time": "2022-12-03T12:12:18.820Z"
   },
   {
    "duration": 154,
    "start_time": "2022-12-03T12:12:48.291Z"
   },
   {
    "duration": 158,
    "start_time": "2022-12-03T12:13:05.607Z"
   },
   {
    "duration": 10,
    "start_time": "2022-12-03T12:13:06.250Z"
   },
   {
    "duration": 11,
    "start_time": "2022-12-03T12:13:18.588Z"
   },
   {
    "duration": 31,
    "start_time": "2022-12-03T12:13:37.058Z"
   },
   {
    "duration": 3,
    "start_time": "2022-12-03T12:15:56.760Z"
   },
   {
    "duration": 2,
    "start_time": "2022-12-03T12:31:14.243Z"
   },
   {
    "duration": 46,
    "start_time": "2022-12-03T12:39:32.300Z"
   },
   {
    "duration": 5,
    "start_time": "2022-12-03T12:39:58.069Z"
   },
   {
    "duration": 7,
    "start_time": "2022-12-03T12:41:16.429Z"
   },
   {
    "duration": 4,
    "start_time": "2022-12-03T12:49:16.108Z"
   },
   {
    "duration": 25,
    "start_time": "2022-12-03T12:49:56.508Z"
   },
   {
    "duration": 29,
    "start_time": "2022-12-03T12:53:09.407Z"
   },
   {
    "duration": 23,
    "start_time": "2022-12-03T12:53:35.345Z"
   },
   {
    "duration": 16,
    "start_time": "2022-12-03T12:53:37.297Z"
   },
   {
    "duration": 24,
    "start_time": "2022-12-03T12:53:38.754Z"
   },
   {
    "duration": 45,
    "start_time": "2022-12-03T12:54:01.965Z"
   },
   {
    "duration": 40,
    "start_time": "2022-12-03T12:57:22.047Z"
   },
   {
    "duration": 60,
    "start_time": "2022-12-03T12:57:42.174Z"
   },
   {
    "duration": 58,
    "start_time": "2022-12-03T12:58:42.347Z"
   },
   {
    "duration": 85,
    "start_time": "2022-12-03T13:00:52.212Z"
   },
   {
    "duration": 52,
    "start_time": "2022-12-03T13:01:17.300Z"
   },
   {
    "duration": 39,
    "start_time": "2022-12-03T13:03:22.095Z"
   },
   {
    "duration": 3,
    "start_time": "2022-12-03T14:30:54.850Z"
   },
   {
    "duration": 10,
    "start_time": "2022-12-03T14:31:31.146Z"
   },
   {
    "duration": 46,
    "start_time": "2022-12-03T14:32:02.309Z"
   },
   {
    "duration": 3,
    "start_time": "2022-12-03T15:00:57.274Z"
   },
   {
    "duration": 4,
    "start_time": "2022-12-03T15:01:03.062Z"
   },
   {
    "duration": 59,
    "start_time": "2022-12-03T15:01:07.425Z"
   },
   {
    "duration": 6,
    "start_time": "2022-12-03T15:01:14.920Z"
   },
   {
    "duration": 3,
    "start_time": "2022-12-03T15:01:17.056Z"
   },
   {
    "duration": 6,
    "start_time": "2022-12-03T15:01:23.259Z"
   },
   {
    "duration": 6,
    "start_time": "2022-12-03T15:01:35.132Z"
   },
   {
    "duration": 4,
    "start_time": "2022-12-03T15:01:43.418Z"
   },
   {
    "duration": 7,
    "start_time": "2022-12-03T15:01:58.906Z"
   },
   {
    "duration": 7,
    "start_time": "2022-12-03T15:02:32.947Z"
   },
   {
    "duration": 4,
    "start_time": "2022-12-03T15:02:36.503Z"
   },
   {
    "duration": 3,
    "start_time": "2022-12-03T15:02:39.119Z"
   },
   {
    "duration": 4,
    "start_time": "2022-12-03T15:05:50.791Z"
   },
   {
    "duration": 3,
    "start_time": "2022-12-03T15:06:48.180Z"
   },
   {
    "duration": 4,
    "start_time": "2022-12-03T15:07:34.468Z"
   },
   {
    "duration": 4,
    "start_time": "2022-12-03T15:07:46.407Z"
   },
   {
    "duration": 12,
    "start_time": "2022-12-03T15:08:07.071Z"
   },
   {
    "duration": 37,
    "start_time": "2022-12-03T15:09:33.044Z"
   },
   {
    "duration": 37,
    "start_time": "2022-12-03T15:11:56.349Z"
   },
   {
    "duration": 13,
    "start_time": "2022-12-03T15:15:00.018Z"
   },
   {
    "duration": 33,
    "start_time": "2022-12-03T15:15:06.112Z"
   },
   {
    "duration": 12,
    "start_time": "2022-12-03T15:15:19.022Z"
   },
   {
    "duration": 13,
    "start_time": "2022-12-03T15:15:53.613Z"
   },
   {
    "duration": 11,
    "start_time": "2022-12-03T15:16:56.510Z"
   },
   {
    "duration": 15,
    "start_time": "2022-12-03T15:20:15.974Z"
   },
   {
    "duration": 84,
    "start_time": "2022-12-03T15:24:08.738Z"
   },
   {
    "duration": 90,
    "start_time": "2022-12-03T15:24:19.428Z"
   },
   {
    "duration": 64,
    "start_time": "2022-12-03T15:25:32.260Z"
   },
   {
    "duration": 13,
    "start_time": "2022-12-03T15:26:12.960Z"
   },
   {
    "duration": 11,
    "start_time": "2022-12-03T15:28:34.520Z"
   },
   {
    "duration": 3,
    "start_time": "2022-12-03T15:33:34.520Z"
   },
   {
    "duration": 71,
    "start_time": "2022-12-03T15:36:00.511Z"
   },
   {
    "duration": 62,
    "start_time": "2022-12-03T15:37:44.250Z"
   },
   {
    "duration": 63,
    "start_time": "2022-12-03T15:41:13.567Z"
   },
   {
    "duration": 3,
    "start_time": "2022-12-03T15:41:32.970Z"
   },
   {
    "duration": 17,
    "start_time": "2022-12-03T15:49:12.356Z"
   },
   {
    "duration": 3,
    "start_time": "2022-12-03T15:57:32.860Z"
   },
   {
    "duration": 7,
    "start_time": "2022-12-03T15:58:56.159Z"
   },
   {
    "duration": 16,
    "start_time": "2022-12-03T15:59:07.043Z"
   },
   {
    "duration": 20,
    "start_time": "2022-12-03T15:59:15.327Z"
   },
   {
    "duration": 4,
    "start_time": "2022-12-03T15:59:15.528Z"
   },
   {
    "duration": 19,
    "start_time": "2022-12-03T15:59:15.927Z"
   },
   {
    "duration": 17,
    "start_time": "2022-12-03T15:59:38.641Z"
   },
   {
    "duration": 12,
    "start_time": "2022-12-03T15:59:41.221Z"
   },
   {
    "duration": 17,
    "start_time": "2022-12-03T16:00:04.543Z"
   },
   {
    "duration": 10,
    "start_time": "2022-12-03T16:00:10.840Z"
   },
   {
    "duration": 3,
    "start_time": "2022-12-03T16:07:28.554Z"
   },
   {
    "duration": 22,
    "start_time": "2022-12-03T16:07:31.215Z"
   },
   {
    "duration": 15,
    "start_time": "2022-12-03T16:07:32.326Z"
   },
   {
    "duration": 4,
    "start_time": "2022-12-03T16:07:47.760Z"
   },
   {
    "duration": 24,
    "start_time": "2022-12-03T16:07:49.087Z"
   },
   {
    "duration": 4,
    "start_time": "2022-12-03T16:08:38.926Z"
   },
   {
    "duration": 17,
    "start_time": "2022-12-03T16:08:39.605Z"
   },
   {
    "duration": 12,
    "start_time": "2022-12-03T16:08:39.873Z"
   },
   {
    "duration": 17,
    "start_time": "2022-12-03T16:08:40.106Z"
   },
   {
    "duration": 7,
    "start_time": "2022-12-03T16:12:33.094Z"
   },
   {
    "duration": 5,
    "start_time": "2022-12-03T16:13:01.432Z"
   },
   {
    "duration": 6,
    "start_time": "2022-12-03T16:15:19.360Z"
   },
   {
    "duration": 4,
    "start_time": "2022-12-03T16:15:48.340Z"
   }
  ],
  "colab": {
   "collapsed_sections": [
    "E0vqbgi9ay0H",
    "VUC88oWjTJw2"
   ],
   "name": "yandex_music_project.ipynb",
   "provenance": []
  },
  "kernelspec": {
   "display_name": "Python 3 (ipykernel)",
   "language": "python",
   "name": "python3"
  },
  "language_info": {
   "codemirror_mode": {
    "name": "ipython",
    "version": 3
   },
   "file_extension": ".py",
   "mimetype": "text/x-python",
   "name": "python",
   "nbconvert_exporter": "python",
   "pygments_lexer": "ipython3",
   "version": "3.9.12"
  },
  "toc": {
   "base_numbering": 1,
   "nav_menu": {},
   "number_sections": true,
   "sideBar": true,
   "skip_h1_title": true,
   "title_cell": "Содержание",
   "title_sidebar": "Содержание",
   "toc_cell": true,
   "toc_position": {
    "height": "516px",
    "left": "30px",
    "top": "202.8px",
    "width": "289.591px"
   },
   "toc_section_display": true,
   "toc_window_display": true
  }
 },
 "nbformat": 4,
 "nbformat_minor": 1
}
